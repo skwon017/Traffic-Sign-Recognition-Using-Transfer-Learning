{
  "cells": [
    {
      "cell_type": "markdown",
      "metadata": {
        "id": "nt1b-GRLOwR7"
      },
      "source": [
        "## **Prepare Dataset**"
      ]
    },
    {
      "cell_type": "markdown",
      "metadata": {
        "id": "EtUf1RuVxGbc"
      },
      "source": [
        "### Download Dataset"
      ]
    },
    {
      "cell_type": "code",
      "execution_count": null,
      "metadata": {
        "id": "NTEwOiIfP3MS"
      },
      "outputs": [],
      "source": [
        "! pip install -q kaggle"
      ]
    },
    {
      "cell_type": "code",
      "execution_count": null,
      "metadata": {
        "colab": {
          "base_uri": "https://localhost:8080/",
          "height": 86
        },
        "id": "QG4fc60D2huS",
        "outputId": "d6a1212f-62d4-494d-a24c-61b11a61c437"
      },
      "outputs": [
        {
          "output_type": "display_data",
          "data": {
            "text/plain": [
              "<IPython.core.display.HTML object>"
            ],
            "text/html": [
              "\n",
              "     <input type=\"file\" id=\"files-80b85fcb-8743-4386-a46e-8bca4d458952\" name=\"files[]\" multiple disabled\n",
              "        style=\"border:none\" />\n",
              "     <output id=\"result-80b85fcb-8743-4386-a46e-8bca4d458952\">\n",
              "      Upload widget is only available when the cell has been executed in the\n",
              "      current browser session. Please rerun this cell to enable.\n",
              "      </output>\n",
              "      <script>// Copyright 2017 Google LLC\n",
              "//\n",
              "// Licensed under the Apache License, Version 2.0 (the \"License\");\n",
              "// you may not use this file except in compliance with the License.\n",
              "// You may obtain a copy of the License at\n",
              "//\n",
              "//      http://www.apache.org/licenses/LICENSE-2.0\n",
              "//\n",
              "// Unless required by applicable law or agreed to in writing, software\n",
              "// distributed under the License is distributed on an \"AS IS\" BASIS,\n",
              "// WITHOUT WARRANTIES OR CONDITIONS OF ANY KIND, either express or implied.\n",
              "// See the License for the specific language governing permissions and\n",
              "// limitations under the License.\n",
              "\n",
              "/**\n",
              " * @fileoverview Helpers for google.colab Python module.\n",
              " */\n",
              "(function(scope) {\n",
              "function span(text, styleAttributes = {}) {\n",
              "  const element = document.createElement('span');\n",
              "  element.textContent = text;\n",
              "  for (const key of Object.keys(styleAttributes)) {\n",
              "    element.style[key] = styleAttributes[key];\n",
              "  }\n",
              "  return element;\n",
              "}\n",
              "\n",
              "// Max number of bytes which will be uploaded at a time.\n",
              "const MAX_PAYLOAD_SIZE = 100 * 1024;\n",
              "\n",
              "function _uploadFiles(inputId, outputId) {\n",
              "  const steps = uploadFilesStep(inputId, outputId);\n",
              "  const outputElement = document.getElementById(outputId);\n",
              "  // Cache steps on the outputElement to make it available for the next call\n",
              "  // to uploadFilesContinue from Python.\n",
              "  outputElement.steps = steps;\n",
              "\n",
              "  return _uploadFilesContinue(outputId);\n",
              "}\n",
              "\n",
              "// This is roughly an async generator (not supported in the browser yet),\n",
              "// where there are multiple asynchronous steps and the Python side is going\n",
              "// to poll for completion of each step.\n",
              "// This uses a Promise to block the python side on completion of each step,\n",
              "// then passes the result of the previous step as the input to the next step.\n",
              "function _uploadFilesContinue(outputId) {\n",
              "  const outputElement = document.getElementById(outputId);\n",
              "  const steps = outputElement.steps;\n",
              "\n",
              "  const next = steps.next(outputElement.lastPromiseValue);\n",
              "  return Promise.resolve(next.value.promise).then((value) => {\n",
              "    // Cache the last promise value to make it available to the next\n",
              "    // step of the generator.\n",
              "    outputElement.lastPromiseValue = value;\n",
              "    return next.value.response;\n",
              "  });\n",
              "}\n",
              "\n",
              "/**\n",
              " * Generator function which is called between each async step of the upload\n",
              " * process.\n",
              " * @param {string} inputId Element ID of the input file picker element.\n",
              " * @param {string} outputId Element ID of the output display.\n",
              " * @return {!Iterable<!Object>} Iterable of next steps.\n",
              " */\n",
              "function* uploadFilesStep(inputId, outputId) {\n",
              "  const inputElement = document.getElementById(inputId);\n",
              "  inputElement.disabled = false;\n",
              "\n",
              "  const outputElement = document.getElementById(outputId);\n",
              "  outputElement.innerHTML = '';\n",
              "\n",
              "  const pickedPromise = new Promise((resolve) => {\n",
              "    inputElement.addEventListener('change', (e) => {\n",
              "      resolve(e.target.files);\n",
              "    });\n",
              "  });\n",
              "\n",
              "  const cancel = document.createElement('button');\n",
              "  inputElement.parentElement.appendChild(cancel);\n",
              "  cancel.textContent = 'Cancel upload';\n",
              "  const cancelPromise = new Promise((resolve) => {\n",
              "    cancel.onclick = () => {\n",
              "      resolve(null);\n",
              "    };\n",
              "  });\n",
              "\n",
              "  // Wait for the user to pick the files.\n",
              "  const files = yield {\n",
              "    promise: Promise.race([pickedPromise, cancelPromise]),\n",
              "    response: {\n",
              "      action: 'starting',\n",
              "    }\n",
              "  };\n",
              "\n",
              "  cancel.remove();\n",
              "\n",
              "  // Disable the input element since further picks are not allowed.\n",
              "  inputElement.disabled = true;\n",
              "\n",
              "  if (!files) {\n",
              "    return {\n",
              "      response: {\n",
              "        action: 'complete',\n",
              "      }\n",
              "    };\n",
              "  }\n",
              "\n",
              "  for (const file of files) {\n",
              "    const li = document.createElement('li');\n",
              "    li.append(span(file.name, {fontWeight: 'bold'}));\n",
              "    li.append(span(\n",
              "        `(${file.type || 'n/a'}) - ${file.size} bytes, ` +\n",
              "        `last modified: ${\n",
              "            file.lastModifiedDate ? file.lastModifiedDate.toLocaleDateString() :\n",
              "                                    'n/a'} - `));\n",
              "    const percent = span('0% done');\n",
              "    li.appendChild(percent);\n",
              "\n",
              "    outputElement.appendChild(li);\n",
              "\n",
              "    const fileDataPromise = new Promise((resolve) => {\n",
              "      const reader = new FileReader();\n",
              "      reader.onload = (e) => {\n",
              "        resolve(e.target.result);\n",
              "      };\n",
              "      reader.readAsArrayBuffer(file);\n",
              "    });\n",
              "    // Wait for the data to be ready.\n",
              "    let fileData = yield {\n",
              "      promise: fileDataPromise,\n",
              "      response: {\n",
              "        action: 'continue',\n",
              "      }\n",
              "    };\n",
              "\n",
              "    // Use a chunked sending to avoid message size limits. See b/62115660.\n",
              "    let position = 0;\n",
              "    do {\n",
              "      const length = Math.min(fileData.byteLength - position, MAX_PAYLOAD_SIZE);\n",
              "      const chunk = new Uint8Array(fileData, position, length);\n",
              "      position += length;\n",
              "\n",
              "      const base64 = btoa(String.fromCharCode.apply(null, chunk));\n",
              "      yield {\n",
              "        response: {\n",
              "          action: 'append',\n",
              "          file: file.name,\n",
              "          data: base64,\n",
              "        },\n",
              "      };\n",
              "\n",
              "      let percentDone = fileData.byteLength === 0 ?\n",
              "          100 :\n",
              "          Math.round((position / fileData.byteLength) * 100);\n",
              "      percent.textContent = `${percentDone}% done`;\n",
              "\n",
              "    } while (position < fileData.byteLength);\n",
              "  }\n",
              "\n",
              "  // All done.\n",
              "  yield {\n",
              "    response: {\n",
              "      action: 'complete',\n",
              "    }\n",
              "  };\n",
              "}\n",
              "\n",
              "scope.google = scope.google || {};\n",
              "scope.google.colab = scope.google.colab || {};\n",
              "scope.google.colab._files = {\n",
              "  _uploadFiles,\n",
              "  _uploadFilesContinue,\n",
              "};\n",
              "})(self);\n",
              "</script> "
            ]
          },
          "metadata": {}
        },
        {
          "output_type": "stream",
          "name": "stdout",
          "text": [
            "Saving kaggle.json to kaggle.json\n"
          ]
        },
        {
          "output_type": "execute_result",
          "data": {
            "text/plain": [
              "{'kaggle.json': b'{\"username\":\"s00hyun00\",\"key\":\"521460db8cc76b0d510d56c9bd51eb71\"}'}"
            ]
          },
          "metadata": {},
          "execution_count": 2
        }
      ],
      "source": [
        "from google.colab import files\n",
        "\n",
        "files.upload()"
      ]
    },
    {
      "cell_type": "code",
      "execution_count": null,
      "metadata": {
        "id": "Ekx5emZ02hr0"
      },
      "outputs": [],
      "source": [
        "! mkdir ~/.kaggle\n",
        "\n",
        "! cp kaggle.json ~/.kaggle/"
      ]
    },
    {
      "cell_type": "code",
      "execution_count": null,
      "metadata": {
        "id": "-hIqM1AM2hoy"
      },
      "outputs": [],
      "source": [
        "! chmod 600 ~/.kaggle/kaggle.json"
      ]
    },
    {
      "cell_type": "code",
      "execution_count": null,
      "metadata": {
        "colab": {
          "base_uri": "https://localhost:8080/"
        },
        "id": "NwzdlPez2hlA",
        "outputId": "84c68d75-bcc8-40cd-e66e-13219bd76794"
      },
      "outputs": [
        {
          "output_type": "stream",
          "name": "stdout",
          "text": [
            "ref                                                     title                                               size  lastUpdated          downloadCount  voteCount  usabilityRating  \n",
            "------------------------------------------------------  -------------------------------------------------  -----  -------------------  -------------  ---------  ---------------  \n",
            "uciml/german-credit                                     German Credit Risk                                  11KB  2016-12-14 21:25:02          41685        372  0.8235294        \n",
            "meowmeowmeowmeowmeow/gtsrb-german-traffic-sign          GTSRB - German Traffic Sign Recognition Benchmark  612MB  2018-11-25 18:12:34          83235        968  0.8235294        \n",
            "sterby/german-recipes-dataset                           German Recipes Dataset                               5MB  2019-03-06 16:25:22           3999         66  1.0              \n",
            "mpwolke/cusersmarildownloadsgermancsv                   Creditability - German Credit Data                  13KB  2021-03-12 19:01:40           1196         48  1.0              \n",
            "abhishek/10k-german-news-articles                       10k German News Articles                           123MB  2019-11-07 08:50:32            986        101  0.8235294        \n",
            "corrieaar/apartment-rental-offers-in-germany            Apartment rental offers in Germany                  93MB  2020-04-20 10:29:50           5559        117  1.0              \n",
            "headsortails/covid19-tracking-germany                   COVID-19 Tracking Germany                           14MB  2023-02-07 19:27:10           7782        196  0.7647059        \n",
            "ander289386/cars-germany                                Germany Cars Dataset                               498KB  2021-06-09 16:14:27           2873         37  1.0              \n",
            "kabure/german-credit-data-with-risk                     German Credit Risk - With Target                    11KB  2018-01-09 15:09:46          11749         87  0.5294118        \n",
            "dhruvildave/german-football-scores                      German Football Scores                               4MB  2020-11-28 18:50:09            395         19  1.0              \n",
            "jorgesandoval/wind-power-generation                     Wind Power Generation Data                         245KB  2021-01-07 18:45:08           4008        114  1.0              \n",
            "jenslaufer/german-election-2017                         German Federal Elections 2017                        7MB  2017-09-30 13:02:14            850         26  0.7058824        \n",
            "kaushal2896/english-to-german                           English To German                                    8MB  2020-11-14 08:13:57            402         10  0.625            \n",
            "rtatman/3-million-german-sentences                      3 Million German Sentences                         140MB  2017-08-16 00:03:59           1813         53  0.8235294        \n",
            "mreverybody/covid19-data-germany-robert-koch-institute  COVID19 data Germany / Deutschland (RKI)            32MB  2022-02-10 06:01:53            348         17  0.9411765        \n",
            "danilzyryanov/crime-in-berlin-2012-2019                 Crime in Berlin, Germany, 2012 - 2019               36KB  2020-04-24 16:54:37           1131         35  1.0              \n",
            "tblock/10kgnad                                          Ten Thousand German News Articles Dataset           20MB  2023-05-02 01:59:08            853         35  0.8235294        \n",
            "rtatman/german-sentiment-analysis-toolkit               German Sentiment Analysis Toolkit                   84KB  2017-08-15 22:54:27           1856         56  0.8125           \n",
            "marcelotc/german-credit-risk                            german_credit_risk_dataset                          13KB  2019-06-25 02:28:41            660          8  0.9411765        \n",
            "mvianna10/germany-electricity-power-for-20062017        Germany electricity power for 2006-2017             66KB  2019-08-10 18:59:19           1499         17  1.0              \n"
          ]
        }
      ],
      "source": [
        "! kaggle datasets list -s german"
      ]
    },
    {
      "cell_type": "code",
      "execution_count": null,
      "metadata": {
        "colab": {
          "base_uri": "https://localhost:8080/"
        },
        "id": "Zj_JBisA2hbt",
        "outputId": "6bd9054b-397f-49a9-e5ee-9735bc0a33f1"
      },
      "outputs": [
        {
          "output_type": "stream",
          "name": "stdout",
          "text": [
            "Downloading gtsrb-german-traffic-sign.zip to /content\n",
            " 99% 606M/612M [00:04<00:00, 213MB/s]\n",
            "100% 612M/612M [00:04<00:00, 148MB/s]\n"
          ]
        }
      ],
      "source": [
        "! kaggle datasets download -d meowmeowmeowmeowmeow/gtsrb-german-traffic-sign"
      ]
    },
    {
      "cell_type": "code",
      "execution_count": null,
      "metadata": {
        "colab": {
          "base_uri": "https://localhost:8080/"
        },
        "id": "t7OGrZSmMCa0",
        "outputId": "4da8d2c4-1491-4168-c927-0106939eeafa"
      },
      "outputs": [
        {
          "output_type": "stream",
          "name": "stdout",
          "text": [
            "\u001b[1;30;43mStreaming output truncated to the last 5000 lines.\u001b[0m\n",
            "  inflating: train/5/00005_00053_00010.png  \n",
            "  inflating: train/5/00005_00053_00011.png  \n",
            "  inflating: train/5/00005_00053_00012.png  \n",
            "  inflating: train/5/00005_00053_00013.png  \n",
            "  inflating: train/5/00005_00053_00014.png  \n",
            "  inflating: train/5/00005_00053_00015.png  \n",
            "  inflating: train/5/00005_00053_00016.png  \n",
            "  inflating: train/5/00005_00053_00017.png  \n",
            "  inflating: train/5/00005_00053_00018.png  \n",
            "  inflating: train/5/00005_00053_00019.png  \n",
            "  inflating: train/5/00005_00053_00020.png  \n",
            "  inflating: train/5/00005_00053_00021.png  \n",
            "  inflating: train/5/00005_00053_00022.png  \n",
            "  inflating: train/5/00005_00053_00023.png  \n",
            "  inflating: train/5/00005_00053_00024.png  \n",
            "  inflating: train/5/00005_00053_00025.png  \n",
            "  inflating: train/5/00005_00053_00026.png  \n",
            "  inflating: train/5/00005_00053_00027.png  \n",
            "  inflating: train/5/00005_00053_00028.png  \n",
            "  inflating: train/5/00005_00053_00029.png  \n",
            "  inflating: train/5/00005_00054_00000.png  \n",
            "  inflating: train/5/00005_00054_00001.png  \n",
            "  inflating: train/5/00005_00054_00002.png  \n",
            "  inflating: train/5/00005_00054_00003.png  \n",
            "  inflating: train/5/00005_00054_00004.png  \n",
            "  inflating: train/5/00005_00054_00005.png  \n",
            "  inflating: train/5/00005_00054_00006.png  \n",
            "  inflating: train/5/00005_00054_00007.png  \n",
            "  inflating: train/5/00005_00054_00008.png  \n",
            "  inflating: train/5/00005_00054_00009.png  \n",
            "  inflating: train/5/00005_00054_00010.png  \n",
            "  inflating: train/5/00005_00054_00011.png  \n",
            "  inflating: train/5/00005_00054_00012.png  \n",
            "  inflating: train/5/00005_00054_00013.png  \n",
            "  inflating: train/5/00005_00054_00014.png  \n",
            "  inflating: train/5/00005_00054_00015.png  \n",
            "  inflating: train/5/00005_00054_00016.png  \n",
            "  inflating: train/5/00005_00054_00017.png  \n",
            "  inflating: train/5/00005_00054_00018.png  \n",
            "  inflating: train/5/00005_00054_00019.png  \n",
            "  inflating: train/5/00005_00054_00020.png  \n",
            "  inflating: train/5/00005_00054_00021.png  \n",
            "  inflating: train/5/00005_00054_00022.png  \n",
            "  inflating: train/5/00005_00054_00023.png  \n",
            "  inflating: train/5/00005_00054_00024.png  \n",
            "  inflating: train/5/00005_00054_00025.png  \n",
            "  inflating: train/5/00005_00054_00026.png  \n",
            "  inflating: train/5/00005_00054_00027.png  \n",
            "  inflating: train/5/00005_00054_00028.png  \n",
            "  inflating: train/5/00005_00054_00029.png  \n",
            "  inflating: train/5/00005_00055_00000.png  \n",
            "  inflating: train/5/00005_00055_00001.png  \n",
            "  inflating: train/5/00005_00055_00002.png  \n",
            "  inflating: train/5/00005_00055_00003.png  \n",
            "  inflating: train/5/00005_00055_00004.png  \n",
            "  inflating: train/5/00005_00055_00005.png  \n",
            "  inflating: train/5/00005_00055_00006.png  \n",
            "  inflating: train/5/00005_00055_00007.png  \n",
            "  inflating: train/5/00005_00055_00008.png  \n",
            "  inflating: train/5/00005_00055_00009.png  \n",
            "  inflating: train/5/00005_00055_00010.png  \n",
            "  inflating: train/5/00005_00055_00011.png  \n",
            "  inflating: train/5/00005_00055_00012.png  \n",
            "  inflating: train/5/00005_00055_00013.png  \n",
            "  inflating: train/5/00005_00055_00014.png  \n",
            "  inflating: train/5/00005_00055_00015.png  \n",
            "  inflating: train/5/00005_00055_00016.png  \n",
            "  inflating: train/5/00005_00055_00017.png  \n",
            "  inflating: train/5/00005_00055_00018.png  \n",
            "  inflating: train/5/00005_00055_00019.png  \n",
            "  inflating: train/5/00005_00055_00020.png  \n",
            "  inflating: train/5/00005_00055_00021.png  \n",
            "  inflating: train/5/00005_00055_00022.png  \n",
            "  inflating: train/5/00005_00055_00023.png  \n",
            "  inflating: train/5/00005_00055_00024.png  \n",
            "  inflating: train/5/00005_00055_00025.png  \n",
            "  inflating: train/5/00005_00055_00026.png  \n",
            "  inflating: train/5/00005_00055_00027.png  \n",
            "  inflating: train/5/00005_00055_00028.png  \n",
            "  inflating: train/5/00005_00055_00029.png  \n",
            "  inflating: train/5/00005_00056_00000.png  \n",
            "  inflating: train/5/00005_00056_00001.png  \n",
            "  inflating: train/5/00005_00056_00002.png  \n",
            "  inflating: train/5/00005_00056_00003.png  \n",
            "  inflating: train/5/00005_00056_00004.png  \n",
            "  inflating: train/5/00005_00056_00005.png  \n",
            "  inflating: train/5/00005_00056_00006.png  \n",
            "  inflating: train/5/00005_00056_00007.png  \n",
            "  inflating: train/5/00005_00056_00008.png  \n",
            "  inflating: train/5/00005_00056_00009.png  \n",
            "  inflating: train/5/00005_00056_00010.png  \n",
            "  inflating: train/5/00005_00056_00011.png  \n",
            "  inflating: train/5/00005_00056_00012.png  \n",
            "  inflating: train/5/00005_00056_00013.png  \n",
            "  inflating: train/5/00005_00056_00014.png  \n",
            "  inflating: train/5/00005_00056_00015.png  \n",
            "  inflating: train/5/00005_00056_00016.png  \n",
            "  inflating: train/5/00005_00056_00017.png  \n",
            "  inflating: train/5/00005_00056_00018.png  \n",
            "  inflating: train/5/00005_00056_00019.png  \n",
            "  inflating: train/5/00005_00056_00020.png  \n",
            "  inflating: train/5/00005_00056_00021.png  \n",
            "  inflating: train/5/00005_00056_00022.png  \n",
            "  inflating: train/5/00005_00056_00023.png  \n",
            "  inflating: train/5/00005_00056_00024.png  \n",
            "  inflating: train/5/00005_00056_00025.png  \n",
            "  inflating: train/5/00005_00056_00026.png  \n",
            "  inflating: train/5/00005_00056_00027.png  \n",
            "  inflating: train/5/00005_00056_00028.png  \n",
            "  inflating: train/5/00005_00056_00029.png  \n",
            "  inflating: train/5/00005_00057_00000.png  \n",
            "  inflating: train/5/00005_00057_00001.png  \n",
            "  inflating: train/5/00005_00057_00002.png  \n",
            "  inflating: train/5/00005_00057_00003.png  \n",
            "  inflating: train/5/00005_00057_00004.png  \n",
            "  inflating: train/5/00005_00057_00005.png  \n",
            "  inflating: train/5/00005_00057_00006.png  \n",
            "  inflating: train/5/00005_00057_00007.png  \n",
            "  inflating: train/5/00005_00057_00008.png  \n",
            "  inflating: train/5/00005_00057_00009.png  \n",
            "  inflating: train/5/00005_00057_00010.png  \n",
            "  inflating: train/5/00005_00057_00011.png  \n",
            "  inflating: train/5/00005_00057_00012.png  \n",
            "  inflating: train/5/00005_00057_00013.png  \n",
            "  inflating: train/5/00005_00057_00014.png  \n",
            "  inflating: train/5/00005_00057_00015.png  \n",
            "  inflating: train/5/00005_00057_00016.png  \n",
            "  inflating: train/5/00005_00057_00017.png  \n",
            "  inflating: train/5/00005_00057_00018.png  \n",
            "  inflating: train/5/00005_00057_00019.png  \n",
            "  inflating: train/5/00005_00057_00020.png  \n",
            "  inflating: train/5/00005_00057_00021.png  \n",
            "  inflating: train/5/00005_00057_00022.png  \n",
            "  inflating: train/5/00005_00057_00023.png  \n",
            "  inflating: train/5/00005_00057_00024.png  \n",
            "  inflating: train/5/00005_00057_00025.png  \n",
            "  inflating: train/5/00005_00057_00026.png  \n",
            "  inflating: train/5/00005_00057_00027.png  \n",
            "  inflating: train/5/00005_00057_00028.png  \n",
            "  inflating: train/5/00005_00057_00029.png  \n",
            "  inflating: train/5/00005_00058_00000.png  \n",
            "  inflating: train/5/00005_00058_00001.png  \n",
            "  inflating: train/5/00005_00058_00002.png  \n",
            "  inflating: train/5/00005_00058_00003.png  \n",
            "  inflating: train/5/00005_00058_00004.png  \n",
            "  inflating: train/5/00005_00058_00005.png  \n",
            "  inflating: train/5/00005_00058_00006.png  \n",
            "  inflating: train/5/00005_00058_00007.png  \n",
            "  inflating: train/5/00005_00058_00008.png  \n",
            "  inflating: train/5/00005_00058_00009.png  \n",
            "  inflating: train/5/00005_00058_00010.png  \n",
            "  inflating: train/5/00005_00058_00011.png  \n",
            "  inflating: train/5/00005_00058_00012.png  \n",
            "  inflating: train/5/00005_00058_00013.png  \n",
            "  inflating: train/5/00005_00058_00014.png  \n",
            "  inflating: train/5/00005_00058_00015.png  \n",
            "  inflating: train/5/00005_00058_00016.png  \n",
            "  inflating: train/5/00005_00058_00017.png  \n",
            "  inflating: train/5/00005_00058_00018.png  \n",
            "  inflating: train/5/00005_00058_00019.png  \n",
            "  inflating: train/5/00005_00058_00020.png  \n",
            "  inflating: train/5/00005_00058_00021.png  \n",
            "  inflating: train/5/00005_00058_00022.png  \n",
            "  inflating: train/5/00005_00058_00023.png  \n",
            "  inflating: train/5/00005_00058_00024.png  \n",
            "  inflating: train/5/00005_00058_00025.png  \n",
            "  inflating: train/5/00005_00058_00026.png  \n",
            "  inflating: train/5/00005_00058_00027.png  \n",
            "  inflating: train/5/00005_00058_00028.png  \n",
            "  inflating: train/5/00005_00058_00029.png  \n",
            "  inflating: train/5/00005_00059_00000.png  \n",
            "  inflating: train/5/00005_00059_00001.png  \n",
            "  inflating: train/5/00005_00059_00002.png  \n",
            "  inflating: train/5/00005_00059_00003.png  \n",
            "  inflating: train/5/00005_00059_00004.png  \n",
            "  inflating: train/5/00005_00059_00005.png  \n",
            "  inflating: train/5/00005_00059_00006.png  \n",
            "  inflating: train/5/00005_00059_00007.png  \n",
            "  inflating: train/5/00005_00059_00008.png  \n",
            "  inflating: train/5/00005_00059_00009.png  \n",
            "  inflating: train/5/00005_00059_00010.png  \n",
            "  inflating: train/5/00005_00059_00011.png  \n",
            "  inflating: train/5/00005_00059_00012.png  \n",
            "  inflating: train/5/00005_00059_00013.png  \n",
            "  inflating: train/5/00005_00059_00014.png  \n",
            "  inflating: train/5/00005_00059_00015.png  \n",
            "  inflating: train/5/00005_00059_00016.png  \n",
            "  inflating: train/5/00005_00059_00017.png  \n",
            "  inflating: train/5/00005_00059_00018.png  \n",
            "  inflating: train/5/00005_00059_00019.png  \n",
            "  inflating: train/5/00005_00059_00020.png  \n",
            "  inflating: train/5/00005_00059_00021.png  \n",
            "  inflating: train/5/00005_00059_00022.png  \n",
            "  inflating: train/5/00005_00059_00023.png  \n",
            "  inflating: train/5/00005_00059_00024.png  \n",
            "  inflating: train/5/00005_00059_00025.png  \n",
            "  inflating: train/5/00005_00059_00026.png  \n",
            "  inflating: train/5/00005_00059_00027.png  \n",
            "  inflating: train/5/00005_00059_00028.png  \n",
            "  inflating: train/5/00005_00059_00029.png  \n",
            "  inflating: train/5/00005_00060_00000.png  \n",
            "  inflating: train/5/00005_00060_00001.png  \n",
            "  inflating: train/5/00005_00060_00002.png  \n",
            "  inflating: train/5/00005_00060_00003.png  \n",
            "  inflating: train/5/00005_00060_00004.png  \n",
            "  inflating: train/5/00005_00060_00005.png  \n",
            "  inflating: train/5/00005_00060_00006.png  \n",
            "  inflating: train/5/00005_00060_00007.png  \n",
            "  inflating: train/5/00005_00060_00008.png  \n",
            "  inflating: train/5/00005_00060_00009.png  \n",
            "  inflating: train/5/00005_00060_00010.png  \n",
            "  inflating: train/5/00005_00060_00011.png  \n",
            "  inflating: train/5/00005_00060_00012.png  \n",
            "  inflating: train/5/00005_00060_00013.png  \n",
            "  inflating: train/5/00005_00060_00014.png  \n",
            "  inflating: train/5/00005_00060_00015.png  \n",
            "  inflating: train/5/00005_00060_00016.png  \n",
            "  inflating: train/5/00005_00060_00017.png  \n",
            "  inflating: train/5/00005_00060_00018.png  \n",
            "  inflating: train/5/00005_00060_00019.png  \n",
            "  inflating: train/5/00005_00060_00020.png  \n",
            "  inflating: train/5/00005_00060_00021.png  \n",
            "  inflating: train/5/00005_00060_00022.png  \n",
            "  inflating: train/5/00005_00060_00023.png  \n",
            "  inflating: train/5/00005_00060_00024.png  \n",
            "  inflating: train/5/00005_00060_00025.png  \n",
            "  inflating: train/5/00005_00060_00026.png  \n",
            "  inflating: train/5/00005_00060_00027.png  \n",
            "  inflating: train/5/00005_00060_00028.png  \n",
            "  inflating: train/5/00005_00060_00029.png  \n",
            "  inflating: train/5/00005_00061_00000.png  \n",
            "  inflating: train/5/00005_00061_00001.png  \n",
            "  inflating: train/5/00005_00061_00002.png  \n",
            "  inflating: train/5/00005_00061_00003.png  \n",
            "  inflating: train/5/00005_00061_00004.png  \n",
            "  inflating: train/5/00005_00061_00005.png  \n",
            "  inflating: train/5/00005_00061_00006.png  \n",
            "  inflating: train/5/00005_00061_00007.png  \n",
            "  inflating: train/5/00005_00061_00008.png  \n",
            "  inflating: train/5/00005_00061_00009.png  \n",
            "  inflating: train/5/00005_00061_00010.png  \n",
            "  inflating: train/5/00005_00061_00011.png  \n",
            "  inflating: train/5/00005_00061_00012.png  \n",
            "  inflating: train/5/00005_00061_00013.png  \n",
            "  inflating: train/5/00005_00061_00014.png  \n",
            "  inflating: train/5/00005_00061_00015.png  \n",
            "  inflating: train/5/00005_00061_00016.png  \n",
            "  inflating: train/5/00005_00061_00017.png  \n",
            "  inflating: train/5/00005_00061_00018.png  \n",
            "  inflating: train/5/00005_00061_00019.png  \n",
            "  inflating: train/5/00005_00061_00020.png  \n",
            "  inflating: train/5/00005_00061_00021.png  \n",
            "  inflating: train/5/00005_00061_00022.png  \n",
            "  inflating: train/5/00005_00061_00023.png  \n",
            "  inflating: train/5/00005_00061_00024.png  \n",
            "  inflating: train/5/00005_00061_00025.png  \n",
            "  inflating: train/5/00005_00061_00026.png  \n",
            "  inflating: train/5/00005_00061_00027.png  \n",
            "  inflating: train/5/00005_00061_00028.png  \n",
            "  inflating: train/5/00005_00061_00029.png  \n",
            "  inflating: train/6/00006_00000_00000.png  \n",
            "  inflating: train/6/00006_00000_00001.png  \n",
            "  inflating: train/6/00006_00000_00002.png  \n",
            "  inflating: train/6/00006_00000_00003.png  \n",
            "  inflating: train/6/00006_00000_00004.png  \n",
            "  inflating: train/6/00006_00000_00005.png  \n",
            "  inflating: train/6/00006_00000_00006.png  \n",
            "  inflating: train/6/00006_00000_00007.png  \n",
            "  inflating: train/6/00006_00000_00008.png  \n",
            "  inflating: train/6/00006_00000_00009.png  \n",
            "  inflating: train/6/00006_00000_00010.png  \n",
            "  inflating: train/6/00006_00000_00011.png  \n",
            "  inflating: train/6/00006_00000_00012.png  \n",
            "  inflating: train/6/00006_00000_00013.png  \n",
            "  inflating: train/6/00006_00000_00014.png  \n",
            "  inflating: train/6/00006_00000_00015.png  \n",
            "  inflating: train/6/00006_00000_00016.png  \n",
            "  inflating: train/6/00006_00000_00017.png  \n",
            "  inflating: train/6/00006_00000_00018.png  \n",
            "  inflating: train/6/00006_00000_00019.png  \n",
            "  inflating: train/6/00006_00000_00020.png  \n",
            "  inflating: train/6/00006_00000_00021.png  \n",
            "  inflating: train/6/00006_00000_00022.png  \n",
            "  inflating: train/6/00006_00000_00023.png  \n",
            "  inflating: train/6/00006_00000_00024.png  \n",
            "  inflating: train/6/00006_00000_00025.png  \n",
            "  inflating: train/6/00006_00000_00026.png  \n",
            "  inflating: train/6/00006_00000_00027.png  \n",
            "  inflating: train/6/00006_00000_00028.png  \n",
            "  inflating: train/6/00006_00000_00029.png  \n",
            "  inflating: train/6/00006_00001_00000.png  \n",
            "  inflating: train/6/00006_00001_00001.png  \n",
            "  inflating: train/6/00006_00001_00002.png  \n",
            "  inflating: train/6/00006_00001_00003.png  \n",
            "  inflating: train/6/00006_00001_00004.png  \n",
            "  inflating: train/6/00006_00001_00005.png  \n",
            "  inflating: train/6/00006_00001_00006.png  \n",
            "  inflating: train/6/00006_00001_00007.png  \n",
            "  inflating: train/6/00006_00001_00008.png  \n",
            "  inflating: train/6/00006_00001_00009.png  \n",
            "  inflating: train/6/00006_00001_00010.png  \n",
            "  inflating: train/6/00006_00001_00011.png  \n",
            "  inflating: train/6/00006_00001_00012.png  \n",
            "  inflating: train/6/00006_00001_00013.png  \n",
            "  inflating: train/6/00006_00001_00014.png  \n",
            "  inflating: train/6/00006_00001_00015.png  \n",
            "  inflating: train/6/00006_00001_00016.png  \n",
            "  inflating: train/6/00006_00001_00017.png  \n",
            "  inflating: train/6/00006_00001_00018.png  \n",
            "  inflating: train/6/00006_00001_00019.png  \n",
            "  inflating: train/6/00006_00001_00020.png  \n",
            "  inflating: train/6/00006_00001_00021.png  \n",
            "  inflating: train/6/00006_00001_00022.png  \n",
            "  inflating: train/6/00006_00001_00023.png  \n",
            "  inflating: train/6/00006_00001_00024.png  \n",
            "  inflating: train/6/00006_00001_00025.png  \n",
            "  inflating: train/6/00006_00001_00026.png  \n",
            "  inflating: train/6/00006_00001_00027.png  \n",
            "  inflating: train/6/00006_00001_00028.png  \n",
            "  inflating: train/6/00006_00001_00029.png  \n",
            "  inflating: train/6/00006_00002_00000.png  \n",
            "  inflating: train/6/00006_00002_00001.png  \n",
            "  inflating: train/6/00006_00002_00002.png  \n",
            "  inflating: train/6/00006_00002_00003.png  \n",
            "  inflating: train/6/00006_00002_00004.png  \n",
            "  inflating: train/6/00006_00002_00005.png  \n",
            "  inflating: train/6/00006_00002_00006.png  \n",
            "  inflating: train/6/00006_00002_00007.png  \n",
            "  inflating: train/6/00006_00002_00008.png  \n",
            "  inflating: train/6/00006_00002_00009.png  \n",
            "  inflating: train/6/00006_00002_00010.png  \n",
            "  inflating: train/6/00006_00002_00011.png  \n",
            "  inflating: train/6/00006_00002_00012.png  \n",
            "  inflating: train/6/00006_00002_00013.png  \n",
            "  inflating: train/6/00006_00002_00014.png  \n",
            "  inflating: train/6/00006_00002_00015.png  \n",
            "  inflating: train/6/00006_00002_00016.png  \n",
            "  inflating: train/6/00006_00002_00017.png  \n",
            "  inflating: train/6/00006_00002_00018.png  \n",
            "  inflating: train/6/00006_00002_00019.png  \n",
            "  inflating: train/6/00006_00002_00020.png  \n",
            "  inflating: train/6/00006_00002_00021.png  \n",
            "  inflating: train/6/00006_00002_00022.png  \n",
            "  inflating: train/6/00006_00002_00023.png  \n",
            "  inflating: train/6/00006_00002_00024.png  \n",
            "  inflating: train/6/00006_00002_00025.png  \n",
            "  inflating: train/6/00006_00002_00026.png  \n",
            "  inflating: train/6/00006_00002_00027.png  \n",
            "  inflating: train/6/00006_00002_00028.png  \n",
            "  inflating: train/6/00006_00002_00029.png  \n",
            "  inflating: train/6/00006_00003_00000.png  \n",
            "  inflating: train/6/00006_00003_00001.png  \n",
            "  inflating: train/6/00006_00003_00002.png  \n",
            "  inflating: train/6/00006_00003_00003.png  \n",
            "  inflating: train/6/00006_00003_00004.png  \n",
            "  inflating: train/6/00006_00003_00005.png  \n",
            "  inflating: train/6/00006_00003_00006.png  \n",
            "  inflating: train/6/00006_00003_00007.png  \n",
            "  inflating: train/6/00006_00003_00008.png  \n",
            "  inflating: train/6/00006_00003_00009.png  \n",
            "  inflating: train/6/00006_00003_00010.png  \n",
            "  inflating: train/6/00006_00003_00011.png  \n",
            "  inflating: train/6/00006_00003_00012.png  \n",
            "  inflating: train/6/00006_00003_00013.png  \n",
            "  inflating: train/6/00006_00003_00014.png  \n",
            "  inflating: train/6/00006_00003_00015.png  \n",
            "  inflating: train/6/00006_00003_00016.png  \n",
            "  inflating: train/6/00006_00003_00017.png  \n",
            "  inflating: train/6/00006_00003_00018.png  \n",
            "  inflating: train/6/00006_00003_00019.png  \n",
            "  inflating: train/6/00006_00003_00020.png  \n",
            "  inflating: train/6/00006_00003_00021.png  \n",
            "  inflating: train/6/00006_00003_00022.png  \n",
            "  inflating: train/6/00006_00003_00023.png  \n",
            "  inflating: train/6/00006_00003_00024.png  \n",
            "  inflating: train/6/00006_00003_00025.png  \n",
            "  inflating: train/6/00006_00003_00026.png  \n",
            "  inflating: train/6/00006_00003_00027.png  \n",
            "  inflating: train/6/00006_00003_00028.png  \n",
            "  inflating: train/6/00006_00003_00029.png  \n",
            "  inflating: train/6/00006_00004_00000.png  \n",
            "  inflating: train/6/00006_00004_00001.png  \n",
            "  inflating: train/6/00006_00004_00002.png  \n",
            "  inflating: train/6/00006_00004_00003.png  \n",
            "  inflating: train/6/00006_00004_00004.png  \n",
            "  inflating: train/6/00006_00004_00005.png  \n",
            "  inflating: train/6/00006_00004_00006.png  \n",
            "  inflating: train/6/00006_00004_00007.png  \n",
            "  inflating: train/6/00006_00004_00008.png  \n",
            "  inflating: train/6/00006_00004_00009.png  \n",
            "  inflating: train/6/00006_00004_00010.png  \n",
            "  inflating: train/6/00006_00004_00011.png  \n",
            "  inflating: train/6/00006_00004_00012.png  \n",
            "  inflating: train/6/00006_00004_00013.png  \n",
            "  inflating: train/6/00006_00004_00014.png  \n",
            "  inflating: train/6/00006_00004_00015.png  \n",
            "  inflating: train/6/00006_00004_00016.png  \n",
            "  inflating: train/6/00006_00004_00017.png  \n",
            "  inflating: train/6/00006_00004_00018.png  \n",
            "  inflating: train/6/00006_00004_00019.png  \n",
            "  inflating: train/6/00006_00004_00020.png  \n",
            "  inflating: train/6/00006_00004_00021.png  \n",
            "  inflating: train/6/00006_00004_00022.png  \n",
            "  inflating: train/6/00006_00004_00023.png  \n",
            "  inflating: train/6/00006_00004_00024.png  \n",
            "  inflating: train/6/00006_00004_00025.png  \n",
            "  inflating: train/6/00006_00004_00026.png  \n",
            "  inflating: train/6/00006_00004_00027.png  \n",
            "  inflating: train/6/00006_00004_00028.png  \n",
            "  inflating: train/6/00006_00004_00029.png  \n",
            "  inflating: train/6/00006_00005_00000.png  \n",
            "  inflating: train/6/00006_00005_00001.png  \n",
            "  inflating: train/6/00006_00005_00002.png  \n",
            "  inflating: train/6/00006_00005_00003.png  \n",
            "  inflating: train/6/00006_00005_00004.png  \n",
            "  inflating: train/6/00006_00005_00005.png  \n",
            "  inflating: train/6/00006_00005_00006.png  \n",
            "  inflating: train/6/00006_00005_00007.png  \n",
            "  inflating: train/6/00006_00005_00008.png  \n",
            "  inflating: train/6/00006_00005_00009.png  \n",
            "  inflating: train/6/00006_00005_00010.png  \n",
            "  inflating: train/6/00006_00005_00011.png  \n",
            "  inflating: train/6/00006_00005_00012.png  \n",
            "  inflating: train/6/00006_00005_00013.png  \n",
            "  inflating: train/6/00006_00005_00014.png  \n",
            "  inflating: train/6/00006_00005_00015.png  \n",
            "  inflating: train/6/00006_00005_00016.png  \n",
            "  inflating: train/6/00006_00005_00017.png  \n",
            "  inflating: train/6/00006_00005_00018.png  \n",
            "  inflating: train/6/00006_00005_00019.png  \n",
            "  inflating: train/6/00006_00005_00020.png  \n",
            "  inflating: train/6/00006_00005_00021.png  \n",
            "  inflating: train/6/00006_00005_00022.png  \n",
            "  inflating: train/6/00006_00005_00023.png  \n",
            "  inflating: train/6/00006_00005_00024.png  \n",
            "  inflating: train/6/00006_00005_00025.png  \n",
            "  inflating: train/6/00006_00005_00026.png  \n",
            "  inflating: train/6/00006_00005_00027.png  \n",
            "  inflating: train/6/00006_00005_00028.png  \n",
            "  inflating: train/6/00006_00005_00029.png  \n",
            "  inflating: train/6/00006_00006_00000.png  \n",
            "  inflating: train/6/00006_00006_00001.png  \n",
            "  inflating: train/6/00006_00006_00002.png  \n",
            "  inflating: train/6/00006_00006_00003.png  \n",
            "  inflating: train/6/00006_00006_00004.png  \n",
            "  inflating: train/6/00006_00006_00005.png  \n",
            "  inflating: train/6/00006_00006_00006.png  \n",
            "  inflating: train/6/00006_00006_00007.png  \n",
            "  inflating: train/6/00006_00006_00008.png  \n",
            "  inflating: train/6/00006_00006_00009.png  \n",
            "  inflating: train/6/00006_00006_00010.png  \n",
            "  inflating: train/6/00006_00006_00011.png  \n",
            "  inflating: train/6/00006_00006_00012.png  \n",
            "  inflating: train/6/00006_00006_00013.png  \n",
            "  inflating: train/6/00006_00006_00014.png  \n",
            "  inflating: train/6/00006_00006_00015.png  \n",
            "  inflating: train/6/00006_00006_00016.png  \n",
            "  inflating: train/6/00006_00006_00017.png  \n",
            "  inflating: train/6/00006_00006_00018.png  \n",
            "  inflating: train/6/00006_00006_00019.png  \n",
            "  inflating: train/6/00006_00006_00020.png  \n",
            "  inflating: train/6/00006_00006_00021.png  \n",
            "  inflating: train/6/00006_00006_00022.png  \n",
            "  inflating: train/6/00006_00006_00023.png  \n",
            "  inflating: train/6/00006_00006_00024.png  \n",
            "  inflating: train/6/00006_00006_00025.png  \n",
            "  inflating: train/6/00006_00006_00026.png  \n",
            "  inflating: train/6/00006_00006_00027.png  \n",
            "  inflating: train/6/00006_00006_00028.png  \n",
            "  inflating: train/6/00006_00006_00029.png  \n",
            "  inflating: train/6/00006_00007_00000.png  \n",
            "  inflating: train/6/00006_00007_00001.png  \n",
            "  inflating: train/6/00006_00007_00002.png  \n",
            "  inflating: train/6/00006_00007_00003.png  \n",
            "  inflating: train/6/00006_00007_00004.png  \n",
            "  inflating: train/6/00006_00007_00005.png  \n",
            "  inflating: train/6/00006_00007_00006.png  \n",
            "  inflating: train/6/00006_00007_00007.png  \n",
            "  inflating: train/6/00006_00007_00008.png  \n",
            "  inflating: train/6/00006_00007_00009.png  \n",
            "  inflating: train/6/00006_00007_00010.png  \n",
            "  inflating: train/6/00006_00007_00011.png  \n",
            "  inflating: train/6/00006_00007_00012.png  \n",
            "  inflating: train/6/00006_00007_00013.png  \n",
            "  inflating: train/6/00006_00007_00014.png  \n",
            "  inflating: train/6/00006_00007_00015.png  \n",
            "  inflating: train/6/00006_00007_00016.png  \n",
            "  inflating: train/6/00006_00007_00017.png  \n",
            "  inflating: train/6/00006_00007_00018.png  \n",
            "  inflating: train/6/00006_00007_00019.png  \n",
            "  inflating: train/6/00006_00007_00020.png  \n",
            "  inflating: train/6/00006_00007_00021.png  \n",
            "  inflating: train/6/00006_00007_00022.png  \n",
            "  inflating: train/6/00006_00007_00023.png  \n",
            "  inflating: train/6/00006_00007_00024.png  \n",
            "  inflating: train/6/00006_00007_00025.png  \n",
            "  inflating: train/6/00006_00007_00026.png  \n",
            "  inflating: train/6/00006_00007_00027.png  \n",
            "  inflating: train/6/00006_00007_00028.png  \n",
            "  inflating: train/6/00006_00007_00029.png  \n",
            "  inflating: train/6/00006_00008_00000.png  \n",
            "  inflating: train/6/00006_00008_00001.png  \n",
            "  inflating: train/6/00006_00008_00002.png  \n",
            "  inflating: train/6/00006_00008_00003.png  \n",
            "  inflating: train/6/00006_00008_00004.png  \n",
            "  inflating: train/6/00006_00008_00005.png  \n",
            "  inflating: train/6/00006_00008_00006.png  \n",
            "  inflating: train/6/00006_00008_00007.png  \n",
            "  inflating: train/6/00006_00008_00008.png  \n",
            "  inflating: train/6/00006_00008_00009.png  \n",
            "  inflating: train/6/00006_00008_00010.png  \n",
            "  inflating: train/6/00006_00008_00011.png  \n",
            "  inflating: train/6/00006_00008_00012.png  \n",
            "  inflating: train/6/00006_00008_00013.png  \n",
            "  inflating: train/6/00006_00008_00014.png  \n",
            "  inflating: train/6/00006_00008_00015.png  \n",
            "  inflating: train/6/00006_00008_00016.png  \n",
            "  inflating: train/6/00006_00008_00017.png  \n",
            "  inflating: train/6/00006_00008_00018.png  \n",
            "  inflating: train/6/00006_00008_00019.png  \n",
            "  inflating: train/6/00006_00008_00020.png  \n",
            "  inflating: train/6/00006_00008_00021.png  \n",
            "  inflating: train/6/00006_00008_00022.png  \n",
            "  inflating: train/6/00006_00008_00023.png  \n",
            "  inflating: train/6/00006_00008_00024.png  \n",
            "  inflating: train/6/00006_00008_00025.png  \n",
            "  inflating: train/6/00006_00008_00026.png  \n",
            "  inflating: train/6/00006_00008_00027.png  \n",
            "  inflating: train/6/00006_00008_00028.png  \n",
            "  inflating: train/6/00006_00008_00029.png  \n",
            "  inflating: train/6/00006_00009_00000.png  \n",
            "  inflating: train/6/00006_00009_00001.png  \n",
            "  inflating: train/6/00006_00009_00002.png  \n",
            "  inflating: train/6/00006_00009_00003.png  \n",
            "  inflating: train/6/00006_00009_00004.png  \n",
            "  inflating: train/6/00006_00009_00005.png  \n",
            "  inflating: train/6/00006_00009_00006.png  \n",
            "  inflating: train/6/00006_00009_00007.png  \n",
            "  inflating: train/6/00006_00009_00008.png  \n",
            "  inflating: train/6/00006_00009_00009.png  \n",
            "  inflating: train/6/00006_00009_00010.png  \n",
            "  inflating: train/6/00006_00009_00011.png  \n",
            "  inflating: train/6/00006_00009_00012.png  \n",
            "  inflating: train/6/00006_00009_00013.png  \n",
            "  inflating: train/6/00006_00009_00014.png  \n",
            "  inflating: train/6/00006_00009_00015.png  \n",
            "  inflating: train/6/00006_00009_00016.png  \n",
            "  inflating: train/6/00006_00009_00017.png  \n",
            "  inflating: train/6/00006_00009_00018.png  \n",
            "  inflating: train/6/00006_00009_00019.png  \n",
            "  inflating: train/6/00006_00009_00020.png  \n",
            "  inflating: train/6/00006_00009_00021.png  \n",
            "  inflating: train/6/00006_00009_00022.png  \n",
            "  inflating: train/6/00006_00009_00023.png  \n",
            "  inflating: train/6/00006_00009_00024.png  \n",
            "  inflating: train/6/00006_00009_00025.png  \n",
            "  inflating: train/6/00006_00009_00026.png  \n",
            "  inflating: train/6/00006_00009_00027.png  \n",
            "  inflating: train/6/00006_00009_00028.png  \n",
            "  inflating: train/6/00006_00009_00029.png  \n",
            "  inflating: train/6/00006_00010_00000.png  \n",
            "  inflating: train/6/00006_00010_00001.png  \n",
            "  inflating: train/6/00006_00010_00002.png  \n",
            "  inflating: train/6/00006_00010_00003.png  \n",
            "  inflating: train/6/00006_00010_00004.png  \n",
            "  inflating: train/6/00006_00010_00005.png  \n",
            "  inflating: train/6/00006_00010_00006.png  \n",
            "  inflating: train/6/00006_00010_00007.png  \n",
            "  inflating: train/6/00006_00010_00008.png  \n",
            "  inflating: train/6/00006_00010_00009.png  \n",
            "  inflating: train/6/00006_00010_00010.png  \n",
            "  inflating: train/6/00006_00010_00011.png  \n",
            "  inflating: train/6/00006_00010_00012.png  \n",
            "  inflating: train/6/00006_00010_00013.png  \n",
            "  inflating: train/6/00006_00010_00014.png  \n",
            "  inflating: train/6/00006_00010_00015.png  \n",
            "  inflating: train/6/00006_00010_00016.png  \n",
            "  inflating: train/6/00006_00010_00017.png  \n",
            "  inflating: train/6/00006_00010_00018.png  \n",
            "  inflating: train/6/00006_00010_00019.png  \n",
            "  inflating: train/6/00006_00010_00020.png  \n",
            "  inflating: train/6/00006_00010_00021.png  \n",
            "  inflating: train/6/00006_00010_00022.png  \n",
            "  inflating: train/6/00006_00010_00023.png  \n",
            "  inflating: train/6/00006_00010_00024.png  \n",
            "  inflating: train/6/00006_00010_00025.png  \n",
            "  inflating: train/6/00006_00010_00026.png  \n",
            "  inflating: train/6/00006_00010_00027.png  \n",
            "  inflating: train/6/00006_00010_00028.png  \n",
            "  inflating: train/6/00006_00010_00029.png  \n",
            "  inflating: train/6/00006_00011_00000.png  \n",
            "  inflating: train/6/00006_00011_00001.png  \n",
            "  inflating: train/6/00006_00011_00002.png  \n",
            "  inflating: train/6/00006_00011_00003.png  \n",
            "  inflating: train/6/00006_00011_00004.png  \n",
            "  inflating: train/6/00006_00011_00005.png  \n",
            "  inflating: train/6/00006_00011_00006.png  \n",
            "  inflating: train/6/00006_00011_00007.png  \n",
            "  inflating: train/6/00006_00011_00008.png  \n",
            "  inflating: train/6/00006_00011_00009.png  \n",
            "  inflating: train/6/00006_00011_00010.png  \n",
            "  inflating: train/6/00006_00011_00011.png  \n",
            "  inflating: train/6/00006_00011_00012.png  \n",
            "  inflating: train/6/00006_00011_00013.png  \n",
            "  inflating: train/6/00006_00011_00014.png  \n",
            "  inflating: train/6/00006_00011_00015.png  \n",
            "  inflating: train/6/00006_00011_00016.png  \n",
            "  inflating: train/6/00006_00011_00017.png  \n",
            "  inflating: train/6/00006_00011_00018.png  \n",
            "  inflating: train/6/00006_00011_00019.png  \n",
            "  inflating: train/6/00006_00011_00020.png  \n",
            "  inflating: train/6/00006_00011_00021.png  \n",
            "  inflating: train/6/00006_00011_00022.png  \n",
            "  inflating: train/6/00006_00011_00023.png  \n",
            "  inflating: train/6/00006_00011_00024.png  \n",
            "  inflating: train/6/00006_00011_00025.png  \n",
            "  inflating: train/6/00006_00011_00026.png  \n",
            "  inflating: train/6/00006_00011_00027.png  \n",
            "  inflating: train/6/00006_00011_00028.png  \n",
            "  inflating: train/6/00006_00011_00029.png  \n",
            "  inflating: train/6/00006_00012_00000.png  \n",
            "  inflating: train/6/00006_00012_00001.png  \n",
            "  inflating: train/6/00006_00012_00002.png  \n",
            "  inflating: train/6/00006_00012_00003.png  \n",
            "  inflating: train/6/00006_00012_00004.png  \n",
            "  inflating: train/6/00006_00012_00005.png  \n",
            "  inflating: train/6/00006_00012_00006.png  \n",
            "  inflating: train/6/00006_00012_00007.png  \n",
            "  inflating: train/6/00006_00012_00008.png  \n",
            "  inflating: train/6/00006_00012_00009.png  \n",
            "  inflating: train/6/00006_00012_00010.png  \n",
            "  inflating: train/6/00006_00012_00011.png  \n",
            "  inflating: train/6/00006_00012_00012.png  \n",
            "  inflating: train/6/00006_00012_00013.png  \n",
            "  inflating: train/6/00006_00012_00014.png  \n",
            "  inflating: train/6/00006_00012_00015.png  \n",
            "  inflating: train/6/00006_00012_00016.png  \n",
            "  inflating: train/6/00006_00012_00017.png  \n",
            "  inflating: train/6/00006_00012_00018.png  \n",
            "  inflating: train/6/00006_00012_00019.png  \n",
            "  inflating: train/6/00006_00012_00020.png  \n",
            "  inflating: train/6/00006_00012_00021.png  \n",
            "  inflating: train/6/00006_00012_00022.png  \n",
            "  inflating: train/6/00006_00012_00023.png  \n",
            "  inflating: train/6/00006_00012_00024.png  \n",
            "  inflating: train/6/00006_00012_00025.png  \n",
            "  inflating: train/6/00006_00012_00026.png  \n",
            "  inflating: train/6/00006_00012_00027.png  \n",
            "  inflating: train/6/00006_00012_00028.png  \n",
            "  inflating: train/6/00006_00012_00029.png  \n",
            "  inflating: train/6/00006_00013_00000.png  \n",
            "  inflating: train/6/00006_00013_00001.png  \n",
            "  inflating: train/6/00006_00013_00002.png  \n",
            "  inflating: train/6/00006_00013_00003.png  \n",
            "  inflating: train/6/00006_00013_00004.png  \n",
            "  inflating: train/6/00006_00013_00005.png  \n",
            "  inflating: train/6/00006_00013_00006.png  \n",
            "  inflating: train/6/00006_00013_00007.png  \n",
            "  inflating: train/6/00006_00013_00008.png  \n",
            "  inflating: train/6/00006_00013_00009.png  \n",
            "  inflating: train/6/00006_00013_00010.png  \n",
            "  inflating: train/6/00006_00013_00011.png  \n",
            "  inflating: train/6/00006_00013_00012.png  \n",
            "  inflating: train/6/00006_00013_00013.png  \n",
            "  inflating: train/6/00006_00013_00014.png  \n",
            "  inflating: train/6/00006_00013_00015.png  \n",
            "  inflating: train/6/00006_00013_00016.png  \n",
            "  inflating: train/6/00006_00013_00017.png  \n",
            "  inflating: train/6/00006_00013_00018.png  \n",
            "  inflating: train/6/00006_00013_00019.png  \n",
            "  inflating: train/6/00006_00013_00020.png  \n",
            "  inflating: train/6/00006_00013_00021.png  \n",
            "  inflating: train/6/00006_00013_00022.png  \n",
            "  inflating: train/6/00006_00013_00023.png  \n",
            "  inflating: train/6/00006_00013_00024.png  \n",
            "  inflating: train/6/00006_00013_00025.png  \n",
            "  inflating: train/6/00006_00013_00026.png  \n",
            "  inflating: train/6/00006_00013_00027.png  \n",
            "  inflating: train/6/00006_00013_00028.png  \n",
            "  inflating: train/6/00006_00013_00029.png  \n",
            "  inflating: train/7/00007_00000_00000.png  \n",
            "  inflating: train/7/00007_00000_00001.png  \n",
            "  inflating: train/7/00007_00000_00002.png  \n",
            "  inflating: train/7/00007_00000_00003.png  \n",
            "  inflating: train/7/00007_00000_00004.png  \n",
            "  inflating: train/7/00007_00000_00005.png  \n",
            "  inflating: train/7/00007_00000_00006.png  \n",
            "  inflating: train/7/00007_00000_00007.png  \n",
            "  inflating: train/7/00007_00000_00008.png  \n",
            "  inflating: train/7/00007_00000_00009.png  \n",
            "  inflating: train/7/00007_00000_00010.png  \n",
            "  inflating: train/7/00007_00000_00011.png  \n",
            "  inflating: train/7/00007_00000_00012.png  \n",
            "  inflating: train/7/00007_00000_00013.png  \n",
            "  inflating: train/7/00007_00000_00014.png  \n",
            "  inflating: train/7/00007_00000_00015.png  \n",
            "  inflating: train/7/00007_00000_00016.png  \n",
            "  inflating: train/7/00007_00000_00017.png  \n",
            "  inflating: train/7/00007_00000_00018.png  \n",
            "  inflating: train/7/00007_00000_00019.png  \n",
            "  inflating: train/7/00007_00000_00020.png  \n",
            "  inflating: train/7/00007_00000_00021.png  \n",
            "  inflating: train/7/00007_00000_00022.png  \n",
            "  inflating: train/7/00007_00000_00023.png  \n",
            "  inflating: train/7/00007_00000_00024.png  \n",
            "  inflating: train/7/00007_00000_00025.png  \n",
            "  inflating: train/7/00007_00000_00026.png  \n",
            "  inflating: train/7/00007_00000_00027.png  \n",
            "  inflating: train/7/00007_00000_00028.png  \n",
            "  inflating: train/7/00007_00000_00029.png  \n",
            "  inflating: train/7/00007_00001_00000.png  \n",
            "  inflating: train/7/00007_00001_00001.png  \n",
            "  inflating: train/7/00007_00001_00002.png  \n",
            "  inflating: train/7/00007_00001_00003.png  \n",
            "  inflating: train/7/00007_00001_00004.png  \n",
            "  inflating: train/7/00007_00001_00005.png  \n",
            "  inflating: train/7/00007_00001_00006.png  \n",
            "  inflating: train/7/00007_00001_00007.png  \n",
            "  inflating: train/7/00007_00001_00008.png  \n",
            "  inflating: train/7/00007_00001_00009.png  \n",
            "  inflating: train/7/00007_00001_00010.png  \n",
            "  inflating: train/7/00007_00001_00011.png  \n",
            "  inflating: train/7/00007_00001_00012.png  \n",
            "  inflating: train/7/00007_00001_00013.png  \n",
            "  inflating: train/7/00007_00001_00014.png  \n",
            "  inflating: train/7/00007_00001_00015.png  \n",
            "  inflating: train/7/00007_00001_00016.png  \n",
            "  inflating: train/7/00007_00001_00017.png  \n",
            "  inflating: train/7/00007_00001_00018.png  \n",
            "  inflating: train/7/00007_00001_00019.png  \n",
            "  inflating: train/7/00007_00001_00020.png  \n",
            "  inflating: train/7/00007_00001_00021.png  \n",
            "  inflating: train/7/00007_00001_00022.png  \n",
            "  inflating: train/7/00007_00001_00023.png  \n",
            "  inflating: train/7/00007_00001_00024.png  \n",
            "  inflating: train/7/00007_00001_00025.png  \n",
            "  inflating: train/7/00007_00001_00026.png  \n",
            "  inflating: train/7/00007_00001_00027.png  \n",
            "  inflating: train/7/00007_00001_00028.png  \n",
            "  inflating: train/7/00007_00001_00029.png  \n",
            "  inflating: train/7/00007_00002_00000.png  \n",
            "  inflating: train/7/00007_00002_00001.png  \n",
            "  inflating: train/7/00007_00002_00002.png  \n",
            "  inflating: train/7/00007_00002_00003.png  \n",
            "  inflating: train/7/00007_00002_00004.png  \n",
            "  inflating: train/7/00007_00002_00005.png  \n",
            "  inflating: train/7/00007_00002_00006.png  \n",
            "  inflating: train/7/00007_00002_00007.png  \n",
            "  inflating: train/7/00007_00002_00008.png  \n",
            "  inflating: train/7/00007_00002_00009.png  \n",
            "  inflating: train/7/00007_00002_00010.png  \n",
            "  inflating: train/7/00007_00002_00011.png  \n",
            "  inflating: train/7/00007_00002_00012.png  \n",
            "  inflating: train/7/00007_00002_00013.png  \n",
            "  inflating: train/7/00007_00002_00014.png  \n",
            "  inflating: train/7/00007_00002_00015.png  \n",
            "  inflating: train/7/00007_00002_00016.png  \n",
            "  inflating: train/7/00007_00002_00017.png  \n",
            "  inflating: train/7/00007_00002_00018.png  \n",
            "  inflating: train/7/00007_00002_00019.png  \n",
            "  inflating: train/7/00007_00002_00020.png  \n",
            "  inflating: train/7/00007_00002_00021.png  \n",
            "  inflating: train/7/00007_00002_00022.png  \n",
            "  inflating: train/7/00007_00002_00023.png  \n",
            "  inflating: train/7/00007_00002_00024.png  \n",
            "  inflating: train/7/00007_00002_00025.png  \n",
            "  inflating: train/7/00007_00002_00026.png  \n",
            "  inflating: train/7/00007_00002_00027.png  \n",
            "  inflating: train/7/00007_00002_00028.png  \n",
            "  inflating: train/7/00007_00002_00029.png  \n",
            "  inflating: train/7/00007_00003_00000.png  \n",
            "  inflating: train/7/00007_00003_00001.png  \n",
            "  inflating: train/7/00007_00003_00002.png  \n",
            "  inflating: train/7/00007_00003_00003.png  \n",
            "  inflating: train/7/00007_00003_00004.png  \n",
            "  inflating: train/7/00007_00003_00005.png  \n",
            "  inflating: train/7/00007_00003_00006.png  \n",
            "  inflating: train/7/00007_00003_00007.png  \n",
            "  inflating: train/7/00007_00003_00008.png  \n",
            "  inflating: train/7/00007_00003_00009.png  \n",
            "  inflating: train/7/00007_00003_00010.png  \n",
            "  inflating: train/7/00007_00003_00011.png  \n",
            "  inflating: train/7/00007_00003_00012.png  \n",
            "  inflating: train/7/00007_00003_00013.png  \n",
            "  inflating: train/7/00007_00003_00014.png  \n",
            "  inflating: train/7/00007_00003_00015.png  \n",
            "  inflating: train/7/00007_00003_00016.png  \n",
            "  inflating: train/7/00007_00003_00017.png  \n",
            "  inflating: train/7/00007_00003_00018.png  \n",
            "  inflating: train/7/00007_00003_00019.png  \n",
            "  inflating: train/7/00007_00003_00020.png  \n",
            "  inflating: train/7/00007_00003_00021.png  \n",
            "  inflating: train/7/00007_00003_00022.png  \n",
            "  inflating: train/7/00007_00003_00023.png  \n",
            "  inflating: train/7/00007_00003_00024.png  \n",
            "  inflating: train/7/00007_00003_00025.png  \n",
            "  inflating: train/7/00007_00003_00026.png  \n",
            "  inflating: train/7/00007_00003_00027.png  \n",
            "  inflating: train/7/00007_00003_00028.png  \n",
            "  inflating: train/7/00007_00003_00029.png  \n",
            "  inflating: train/7/00007_00004_00000.png  \n",
            "  inflating: train/7/00007_00004_00001.png  \n",
            "  inflating: train/7/00007_00004_00002.png  \n",
            "  inflating: train/7/00007_00004_00003.png  \n",
            "  inflating: train/7/00007_00004_00004.png  \n",
            "  inflating: train/7/00007_00004_00005.png  \n",
            "  inflating: train/7/00007_00004_00006.png  \n",
            "  inflating: train/7/00007_00004_00007.png  \n",
            "  inflating: train/7/00007_00004_00008.png  \n",
            "  inflating: train/7/00007_00004_00009.png  \n",
            "  inflating: train/7/00007_00004_00010.png  \n",
            "  inflating: train/7/00007_00004_00011.png  \n",
            "  inflating: train/7/00007_00004_00012.png  \n",
            "  inflating: train/7/00007_00004_00013.png  \n",
            "  inflating: train/7/00007_00004_00014.png  \n",
            "  inflating: train/7/00007_00004_00015.png  \n",
            "  inflating: train/7/00007_00004_00016.png  \n",
            "  inflating: train/7/00007_00004_00017.png  \n",
            "  inflating: train/7/00007_00004_00018.png  \n",
            "  inflating: train/7/00007_00004_00019.png  \n",
            "  inflating: train/7/00007_00004_00020.png  \n",
            "  inflating: train/7/00007_00004_00021.png  \n",
            "  inflating: train/7/00007_00004_00022.png  \n",
            "  inflating: train/7/00007_00004_00023.png  \n",
            "  inflating: train/7/00007_00004_00024.png  \n",
            "  inflating: train/7/00007_00004_00025.png  \n",
            "  inflating: train/7/00007_00004_00026.png  \n",
            "  inflating: train/7/00007_00004_00027.png  \n",
            "  inflating: train/7/00007_00004_00028.png  \n",
            "  inflating: train/7/00007_00004_00029.png  \n",
            "  inflating: train/7/00007_00005_00000.png  \n",
            "  inflating: train/7/00007_00005_00001.png  \n",
            "  inflating: train/7/00007_00005_00002.png  \n",
            "  inflating: train/7/00007_00005_00003.png  \n",
            "  inflating: train/7/00007_00005_00004.png  \n",
            "  inflating: train/7/00007_00005_00005.png  \n",
            "  inflating: train/7/00007_00005_00006.png  \n",
            "  inflating: train/7/00007_00005_00007.png  \n",
            "  inflating: train/7/00007_00005_00008.png  \n",
            "  inflating: train/7/00007_00005_00009.png  \n",
            "  inflating: train/7/00007_00005_00010.png  \n",
            "  inflating: train/7/00007_00005_00011.png  \n",
            "  inflating: train/7/00007_00005_00012.png  \n",
            "  inflating: train/7/00007_00005_00013.png  \n",
            "  inflating: train/7/00007_00005_00014.png  \n",
            "  inflating: train/7/00007_00005_00015.png  \n",
            "  inflating: train/7/00007_00005_00016.png  \n",
            "  inflating: train/7/00007_00005_00017.png  \n",
            "  inflating: train/7/00007_00005_00018.png  \n",
            "  inflating: train/7/00007_00005_00019.png  \n",
            "  inflating: train/7/00007_00005_00020.png  \n",
            "  inflating: train/7/00007_00005_00021.png  \n",
            "  inflating: train/7/00007_00005_00022.png  \n",
            "  inflating: train/7/00007_00005_00023.png  \n",
            "  inflating: train/7/00007_00005_00024.png  \n",
            "  inflating: train/7/00007_00005_00025.png  \n",
            "  inflating: train/7/00007_00005_00026.png  \n",
            "  inflating: train/7/00007_00005_00027.png  \n",
            "  inflating: train/7/00007_00005_00028.png  \n",
            "  inflating: train/7/00007_00005_00029.png  \n",
            "  inflating: train/7/00007_00006_00000.png  \n",
            "  inflating: train/7/00007_00006_00001.png  \n",
            "  inflating: train/7/00007_00006_00002.png  \n",
            "  inflating: train/7/00007_00006_00003.png  \n",
            "  inflating: train/7/00007_00006_00004.png  \n",
            "  inflating: train/7/00007_00006_00005.png  \n",
            "  inflating: train/7/00007_00006_00006.png  \n",
            "  inflating: train/7/00007_00006_00007.png  \n",
            "  inflating: train/7/00007_00006_00008.png  \n",
            "  inflating: train/7/00007_00006_00009.png  \n",
            "  inflating: train/7/00007_00006_00010.png  \n",
            "  inflating: train/7/00007_00006_00011.png  \n",
            "  inflating: train/7/00007_00006_00012.png  \n",
            "  inflating: train/7/00007_00006_00013.png  \n",
            "  inflating: train/7/00007_00006_00014.png  \n",
            "  inflating: train/7/00007_00006_00015.png  \n",
            "  inflating: train/7/00007_00006_00016.png  \n",
            "  inflating: train/7/00007_00006_00017.png  \n",
            "  inflating: train/7/00007_00006_00018.png  \n",
            "  inflating: train/7/00007_00006_00019.png  \n",
            "  inflating: train/7/00007_00006_00020.png  \n",
            "  inflating: train/7/00007_00006_00021.png  \n",
            "  inflating: train/7/00007_00006_00022.png  \n",
            "  inflating: train/7/00007_00006_00023.png  \n",
            "  inflating: train/7/00007_00006_00024.png  \n",
            "  inflating: train/7/00007_00006_00025.png  \n",
            "  inflating: train/7/00007_00006_00026.png  \n",
            "  inflating: train/7/00007_00006_00027.png  \n",
            "  inflating: train/7/00007_00006_00028.png  \n",
            "  inflating: train/7/00007_00006_00029.png  \n",
            "  inflating: train/7/00007_00007_00000.png  \n",
            "  inflating: train/7/00007_00007_00001.png  \n",
            "  inflating: train/7/00007_00007_00002.png  \n",
            "  inflating: train/7/00007_00007_00003.png  \n",
            "  inflating: train/7/00007_00007_00004.png  \n",
            "  inflating: train/7/00007_00007_00005.png  \n",
            "  inflating: train/7/00007_00007_00006.png  \n",
            "  inflating: train/7/00007_00007_00007.png  \n",
            "  inflating: train/7/00007_00007_00008.png  \n",
            "  inflating: train/7/00007_00007_00009.png  \n",
            "  inflating: train/7/00007_00007_00010.png  \n",
            "  inflating: train/7/00007_00007_00011.png  \n",
            "  inflating: train/7/00007_00007_00012.png  \n",
            "  inflating: train/7/00007_00007_00013.png  \n",
            "  inflating: train/7/00007_00007_00014.png  \n",
            "  inflating: train/7/00007_00007_00015.png  \n",
            "  inflating: train/7/00007_00007_00016.png  \n",
            "  inflating: train/7/00007_00007_00017.png  \n",
            "  inflating: train/7/00007_00007_00018.png  \n",
            "  inflating: train/7/00007_00007_00019.png  \n",
            "  inflating: train/7/00007_00007_00020.png  \n",
            "  inflating: train/7/00007_00007_00021.png  \n",
            "  inflating: train/7/00007_00007_00022.png  \n",
            "  inflating: train/7/00007_00007_00023.png  \n",
            "  inflating: train/7/00007_00007_00024.png  \n",
            "  inflating: train/7/00007_00007_00025.png  \n",
            "  inflating: train/7/00007_00007_00026.png  \n",
            "  inflating: train/7/00007_00007_00027.png  \n",
            "  inflating: train/7/00007_00007_00028.png  \n",
            "  inflating: train/7/00007_00007_00029.png  \n",
            "  inflating: train/7/00007_00008_00000.png  \n",
            "  inflating: train/7/00007_00008_00001.png  \n",
            "  inflating: train/7/00007_00008_00002.png  \n",
            "  inflating: train/7/00007_00008_00003.png  \n",
            "  inflating: train/7/00007_00008_00004.png  \n",
            "  inflating: train/7/00007_00008_00005.png  \n",
            "  inflating: train/7/00007_00008_00006.png  \n",
            "  inflating: train/7/00007_00008_00007.png  \n",
            "  inflating: train/7/00007_00008_00008.png  \n",
            "  inflating: train/7/00007_00008_00009.png  \n",
            "  inflating: train/7/00007_00008_00010.png  \n",
            "  inflating: train/7/00007_00008_00011.png  \n",
            "  inflating: train/7/00007_00008_00012.png  \n",
            "  inflating: train/7/00007_00008_00013.png  \n",
            "  inflating: train/7/00007_00008_00014.png  \n",
            "  inflating: train/7/00007_00008_00015.png  \n",
            "  inflating: train/7/00007_00008_00016.png  \n",
            "  inflating: train/7/00007_00008_00017.png  \n",
            "  inflating: train/7/00007_00008_00018.png  \n",
            "  inflating: train/7/00007_00008_00019.png  \n",
            "  inflating: train/7/00007_00008_00020.png  \n",
            "  inflating: train/7/00007_00008_00021.png  \n",
            "  inflating: train/7/00007_00008_00022.png  \n",
            "  inflating: train/7/00007_00008_00023.png  \n",
            "  inflating: train/7/00007_00008_00024.png  \n",
            "  inflating: train/7/00007_00008_00025.png  \n",
            "  inflating: train/7/00007_00008_00026.png  \n",
            "  inflating: train/7/00007_00008_00027.png  \n",
            "  inflating: train/7/00007_00008_00028.png  \n",
            "  inflating: train/7/00007_00008_00029.png  \n",
            "  inflating: train/7/00007_00009_00000.png  \n",
            "  inflating: train/7/00007_00009_00001.png  \n",
            "  inflating: train/7/00007_00009_00002.png  \n",
            "  inflating: train/7/00007_00009_00003.png  \n",
            "  inflating: train/7/00007_00009_00004.png  \n",
            "  inflating: train/7/00007_00009_00005.png  \n",
            "  inflating: train/7/00007_00009_00006.png  \n",
            "  inflating: train/7/00007_00009_00007.png  \n",
            "  inflating: train/7/00007_00009_00008.png  \n",
            "  inflating: train/7/00007_00009_00009.png  \n",
            "  inflating: train/7/00007_00009_00010.png  \n",
            "  inflating: train/7/00007_00009_00011.png  \n",
            "  inflating: train/7/00007_00009_00012.png  \n",
            "  inflating: train/7/00007_00009_00013.png  \n",
            "  inflating: train/7/00007_00009_00014.png  \n",
            "  inflating: train/7/00007_00009_00015.png  \n",
            "  inflating: train/7/00007_00009_00016.png  \n",
            "  inflating: train/7/00007_00009_00017.png  \n",
            "  inflating: train/7/00007_00009_00018.png  \n",
            "  inflating: train/7/00007_00009_00019.png  \n",
            "  inflating: train/7/00007_00009_00020.png  \n",
            "  inflating: train/7/00007_00009_00021.png  \n",
            "  inflating: train/7/00007_00009_00022.png  \n",
            "  inflating: train/7/00007_00009_00023.png  \n",
            "  inflating: train/7/00007_00009_00024.png  \n",
            "  inflating: train/7/00007_00009_00025.png  \n",
            "  inflating: train/7/00007_00009_00026.png  \n",
            "  inflating: train/7/00007_00009_00027.png  \n",
            "  inflating: train/7/00007_00009_00028.png  \n",
            "  inflating: train/7/00007_00009_00029.png  \n",
            "  inflating: train/7/00007_00010_00000.png  \n",
            "  inflating: train/7/00007_00010_00001.png  \n",
            "  inflating: train/7/00007_00010_00002.png  \n",
            "  inflating: train/7/00007_00010_00003.png  \n",
            "  inflating: train/7/00007_00010_00004.png  \n",
            "  inflating: train/7/00007_00010_00005.png  \n",
            "  inflating: train/7/00007_00010_00006.png  \n",
            "  inflating: train/7/00007_00010_00007.png  \n",
            "  inflating: train/7/00007_00010_00008.png  \n",
            "  inflating: train/7/00007_00010_00009.png  \n",
            "  inflating: train/7/00007_00010_00010.png  \n",
            "  inflating: train/7/00007_00010_00011.png  \n",
            "  inflating: train/7/00007_00010_00012.png  \n",
            "  inflating: train/7/00007_00010_00013.png  \n",
            "  inflating: train/7/00007_00010_00014.png  \n",
            "  inflating: train/7/00007_00010_00015.png  \n",
            "  inflating: train/7/00007_00010_00016.png  \n",
            "  inflating: train/7/00007_00010_00017.png  \n",
            "  inflating: train/7/00007_00010_00018.png  \n",
            "  inflating: train/7/00007_00010_00019.png  \n",
            "  inflating: train/7/00007_00010_00020.png  \n",
            "  inflating: train/7/00007_00010_00021.png  \n",
            "  inflating: train/7/00007_00010_00022.png  \n",
            "  inflating: train/7/00007_00010_00023.png  \n",
            "  inflating: train/7/00007_00010_00024.png  \n",
            "  inflating: train/7/00007_00010_00025.png  \n",
            "  inflating: train/7/00007_00010_00026.png  \n",
            "  inflating: train/7/00007_00010_00027.png  \n",
            "  inflating: train/7/00007_00010_00028.png  \n",
            "  inflating: train/7/00007_00010_00029.png  \n",
            "  inflating: train/7/00007_00011_00000.png  \n",
            "  inflating: train/7/00007_00011_00001.png  \n",
            "  inflating: train/7/00007_00011_00002.png  \n",
            "  inflating: train/7/00007_00011_00003.png  \n",
            "  inflating: train/7/00007_00011_00004.png  \n",
            "  inflating: train/7/00007_00011_00005.png  \n",
            "  inflating: train/7/00007_00011_00006.png  \n",
            "  inflating: train/7/00007_00011_00007.png  \n",
            "  inflating: train/7/00007_00011_00008.png  \n",
            "  inflating: train/7/00007_00011_00009.png  \n",
            "  inflating: train/7/00007_00011_00010.png  \n",
            "  inflating: train/7/00007_00011_00011.png  \n",
            "  inflating: train/7/00007_00011_00012.png  \n",
            "  inflating: train/7/00007_00011_00013.png  \n",
            "  inflating: train/7/00007_00011_00014.png  \n",
            "  inflating: train/7/00007_00011_00015.png  \n",
            "  inflating: train/7/00007_00011_00016.png  \n",
            "  inflating: train/7/00007_00011_00017.png  \n",
            "  inflating: train/7/00007_00011_00018.png  \n",
            "  inflating: train/7/00007_00011_00019.png  \n",
            "  inflating: train/7/00007_00011_00020.png  \n",
            "  inflating: train/7/00007_00011_00021.png  \n",
            "  inflating: train/7/00007_00011_00022.png  \n",
            "  inflating: train/7/00007_00011_00023.png  \n",
            "  inflating: train/7/00007_00011_00024.png  \n",
            "  inflating: train/7/00007_00011_00025.png  \n",
            "  inflating: train/7/00007_00011_00026.png  \n",
            "  inflating: train/7/00007_00011_00027.png  \n",
            "  inflating: train/7/00007_00011_00028.png  \n",
            "  inflating: train/7/00007_00011_00029.png  \n",
            "  inflating: train/7/00007_00012_00000.png  \n",
            "  inflating: train/7/00007_00012_00001.png  \n",
            "  inflating: train/7/00007_00012_00002.png  \n",
            "  inflating: train/7/00007_00012_00003.png  \n",
            "  inflating: train/7/00007_00012_00004.png  \n",
            "  inflating: train/7/00007_00012_00005.png  \n",
            "  inflating: train/7/00007_00012_00006.png  \n",
            "  inflating: train/7/00007_00012_00007.png  \n",
            "  inflating: train/7/00007_00012_00008.png  \n",
            "  inflating: train/7/00007_00012_00009.png  \n",
            "  inflating: train/7/00007_00012_00010.png  \n",
            "  inflating: train/7/00007_00012_00011.png  \n",
            "  inflating: train/7/00007_00012_00012.png  \n",
            "  inflating: train/7/00007_00012_00013.png  \n",
            "  inflating: train/7/00007_00012_00014.png  \n",
            "  inflating: train/7/00007_00012_00015.png  \n",
            "  inflating: train/7/00007_00012_00016.png  \n",
            "  inflating: train/7/00007_00012_00017.png  \n",
            "  inflating: train/7/00007_00012_00018.png  \n",
            "  inflating: train/7/00007_00012_00019.png  \n",
            "  inflating: train/7/00007_00012_00020.png  \n",
            "  inflating: train/7/00007_00012_00021.png  \n",
            "  inflating: train/7/00007_00012_00022.png  \n",
            "  inflating: train/7/00007_00012_00023.png  \n",
            "  inflating: train/7/00007_00012_00024.png  \n",
            "  inflating: train/7/00007_00012_00025.png  \n",
            "  inflating: train/7/00007_00012_00026.png  \n",
            "  inflating: train/7/00007_00012_00027.png  \n",
            "  inflating: train/7/00007_00012_00028.png  \n",
            "  inflating: train/7/00007_00012_00029.png  \n",
            "  inflating: train/7/00007_00013_00000.png  \n",
            "  inflating: train/7/00007_00013_00001.png  \n",
            "  inflating: train/7/00007_00013_00002.png  \n",
            "  inflating: train/7/00007_00013_00003.png  \n",
            "  inflating: train/7/00007_00013_00004.png  \n",
            "  inflating: train/7/00007_00013_00005.png  \n",
            "  inflating: train/7/00007_00013_00006.png  \n",
            "  inflating: train/7/00007_00013_00007.png  \n",
            "  inflating: train/7/00007_00013_00008.png  \n",
            "  inflating: train/7/00007_00013_00009.png  \n",
            "  inflating: train/7/00007_00013_00010.png  \n",
            "  inflating: train/7/00007_00013_00011.png  \n",
            "  inflating: train/7/00007_00013_00012.png  \n",
            "  inflating: train/7/00007_00013_00013.png  \n",
            "  inflating: train/7/00007_00013_00014.png  \n",
            "  inflating: train/7/00007_00013_00015.png  \n",
            "  inflating: train/7/00007_00013_00016.png  \n",
            "  inflating: train/7/00007_00013_00017.png  \n",
            "  inflating: train/7/00007_00013_00018.png  \n",
            "  inflating: train/7/00007_00013_00019.png  \n",
            "  inflating: train/7/00007_00013_00020.png  \n",
            "  inflating: train/7/00007_00013_00021.png  \n",
            "  inflating: train/7/00007_00013_00022.png  \n",
            "  inflating: train/7/00007_00013_00023.png  \n",
            "  inflating: train/7/00007_00013_00024.png  \n",
            "  inflating: train/7/00007_00013_00025.png  \n",
            "  inflating: train/7/00007_00013_00026.png  \n",
            "  inflating: train/7/00007_00013_00027.png  \n",
            "  inflating: train/7/00007_00013_00028.png  \n",
            "  inflating: train/7/00007_00013_00029.png  \n",
            "  inflating: train/7/00007_00014_00000.png  \n",
            "  inflating: train/7/00007_00014_00001.png  \n",
            "  inflating: train/7/00007_00014_00002.png  \n",
            "  inflating: train/7/00007_00014_00003.png  \n",
            "  inflating: train/7/00007_00014_00004.png  \n",
            "  inflating: train/7/00007_00014_00005.png  \n",
            "  inflating: train/7/00007_00014_00006.png  \n",
            "  inflating: train/7/00007_00014_00007.png  \n",
            "  inflating: train/7/00007_00014_00008.png  \n",
            "  inflating: train/7/00007_00014_00009.png  \n",
            "  inflating: train/7/00007_00014_00010.png  \n",
            "  inflating: train/7/00007_00014_00011.png  \n",
            "  inflating: train/7/00007_00014_00012.png  \n",
            "  inflating: train/7/00007_00014_00013.png  \n",
            "  inflating: train/7/00007_00014_00014.png  \n",
            "  inflating: train/7/00007_00014_00015.png  \n",
            "  inflating: train/7/00007_00014_00016.png  \n",
            "  inflating: train/7/00007_00014_00017.png  \n",
            "  inflating: train/7/00007_00014_00018.png  \n",
            "  inflating: train/7/00007_00014_00019.png  \n",
            "  inflating: train/7/00007_00014_00020.png  \n",
            "  inflating: train/7/00007_00014_00021.png  \n",
            "  inflating: train/7/00007_00014_00022.png  \n",
            "  inflating: train/7/00007_00014_00023.png  \n",
            "  inflating: train/7/00007_00014_00024.png  \n",
            "  inflating: train/7/00007_00014_00025.png  \n",
            "  inflating: train/7/00007_00014_00026.png  \n",
            "  inflating: train/7/00007_00014_00027.png  \n",
            "  inflating: train/7/00007_00014_00028.png  \n",
            "  inflating: train/7/00007_00014_00029.png  \n",
            "  inflating: train/7/00007_00015_00000.png  \n",
            "  inflating: train/7/00007_00015_00001.png  \n",
            "  inflating: train/7/00007_00015_00002.png  \n",
            "  inflating: train/7/00007_00015_00003.png  \n",
            "  inflating: train/7/00007_00015_00004.png  \n",
            "  inflating: train/7/00007_00015_00005.png  \n",
            "  inflating: train/7/00007_00015_00006.png  \n",
            "  inflating: train/7/00007_00015_00007.png  \n",
            "  inflating: train/7/00007_00015_00008.png  \n",
            "  inflating: train/7/00007_00015_00009.png  \n",
            "  inflating: train/7/00007_00015_00010.png  \n",
            "  inflating: train/7/00007_00015_00011.png  \n",
            "  inflating: train/7/00007_00015_00012.png  \n",
            "  inflating: train/7/00007_00015_00013.png  \n",
            "  inflating: train/7/00007_00015_00014.png  \n",
            "  inflating: train/7/00007_00015_00015.png  \n",
            "  inflating: train/7/00007_00015_00016.png  \n",
            "  inflating: train/7/00007_00015_00017.png  \n",
            "  inflating: train/7/00007_00015_00018.png  \n",
            "  inflating: train/7/00007_00015_00019.png  \n",
            "  inflating: train/7/00007_00015_00020.png  \n",
            "  inflating: train/7/00007_00015_00021.png  \n",
            "  inflating: train/7/00007_00015_00022.png  \n",
            "  inflating: train/7/00007_00015_00023.png  \n",
            "  inflating: train/7/00007_00015_00024.png  \n",
            "  inflating: train/7/00007_00015_00025.png  \n",
            "  inflating: train/7/00007_00015_00026.png  \n",
            "  inflating: train/7/00007_00015_00027.png  \n",
            "  inflating: train/7/00007_00015_00028.png  \n",
            "  inflating: train/7/00007_00015_00029.png  \n",
            "  inflating: train/7/00007_00016_00000.png  \n",
            "  inflating: train/7/00007_00016_00001.png  \n",
            "  inflating: train/7/00007_00016_00002.png  \n",
            "  inflating: train/7/00007_00016_00003.png  \n",
            "  inflating: train/7/00007_00016_00004.png  \n",
            "  inflating: train/7/00007_00016_00005.png  \n",
            "  inflating: train/7/00007_00016_00006.png  \n",
            "  inflating: train/7/00007_00016_00007.png  \n",
            "  inflating: train/7/00007_00016_00008.png  \n",
            "  inflating: train/7/00007_00016_00009.png  \n",
            "  inflating: train/7/00007_00016_00010.png  \n",
            "  inflating: train/7/00007_00016_00011.png  \n",
            "  inflating: train/7/00007_00016_00012.png  \n",
            "  inflating: train/7/00007_00016_00013.png  \n",
            "  inflating: train/7/00007_00016_00014.png  \n",
            "  inflating: train/7/00007_00016_00015.png  \n",
            "  inflating: train/7/00007_00016_00016.png  \n",
            "  inflating: train/7/00007_00016_00017.png  \n",
            "  inflating: train/7/00007_00016_00018.png  \n",
            "  inflating: train/7/00007_00016_00019.png  \n",
            "  inflating: train/7/00007_00016_00020.png  \n",
            "  inflating: train/7/00007_00016_00021.png  \n",
            "  inflating: train/7/00007_00016_00022.png  \n",
            "  inflating: train/7/00007_00016_00023.png  \n",
            "  inflating: train/7/00007_00016_00024.png  \n",
            "  inflating: train/7/00007_00016_00025.png  \n",
            "  inflating: train/7/00007_00016_00026.png  \n",
            "  inflating: train/7/00007_00016_00027.png  \n",
            "  inflating: train/7/00007_00016_00028.png  \n",
            "  inflating: train/7/00007_00016_00029.png  \n",
            "  inflating: train/7/00007_00017_00000.png  \n",
            "  inflating: train/7/00007_00017_00001.png  \n",
            "  inflating: train/7/00007_00017_00002.png  \n",
            "  inflating: train/7/00007_00017_00003.png  \n",
            "  inflating: train/7/00007_00017_00004.png  \n",
            "  inflating: train/7/00007_00017_00005.png  \n",
            "  inflating: train/7/00007_00017_00006.png  \n",
            "  inflating: train/7/00007_00017_00007.png  \n",
            "  inflating: train/7/00007_00017_00008.png  \n",
            "  inflating: train/7/00007_00017_00009.png  \n",
            "  inflating: train/7/00007_00017_00010.png  \n",
            "  inflating: train/7/00007_00017_00011.png  \n",
            "  inflating: train/7/00007_00017_00012.png  \n",
            "  inflating: train/7/00007_00017_00013.png  \n",
            "  inflating: train/7/00007_00017_00014.png  \n",
            "  inflating: train/7/00007_00017_00015.png  \n",
            "  inflating: train/7/00007_00017_00016.png  \n",
            "  inflating: train/7/00007_00017_00017.png  \n",
            "  inflating: train/7/00007_00017_00018.png  \n",
            "  inflating: train/7/00007_00017_00019.png  \n",
            "  inflating: train/7/00007_00017_00020.png  \n",
            "  inflating: train/7/00007_00017_00021.png  \n",
            "  inflating: train/7/00007_00017_00022.png  \n",
            "  inflating: train/7/00007_00017_00023.png  \n",
            "  inflating: train/7/00007_00017_00024.png  \n",
            "  inflating: train/7/00007_00017_00025.png  \n",
            "  inflating: train/7/00007_00017_00026.png  \n",
            "  inflating: train/7/00007_00017_00027.png  \n",
            "  inflating: train/7/00007_00017_00028.png  \n",
            "  inflating: train/7/00007_00017_00029.png  \n",
            "  inflating: train/7/00007_00018_00000.png  \n",
            "  inflating: train/7/00007_00018_00001.png  \n",
            "  inflating: train/7/00007_00018_00002.png  \n",
            "  inflating: train/7/00007_00018_00003.png  \n",
            "  inflating: train/7/00007_00018_00004.png  \n",
            "  inflating: train/7/00007_00018_00005.png  \n",
            "  inflating: train/7/00007_00018_00006.png  \n",
            "  inflating: train/7/00007_00018_00007.png  \n",
            "  inflating: train/7/00007_00018_00008.png  \n",
            "  inflating: train/7/00007_00018_00009.png  \n",
            "  inflating: train/7/00007_00018_00010.png  \n",
            "  inflating: train/7/00007_00018_00011.png  \n",
            "  inflating: train/7/00007_00018_00012.png  \n",
            "  inflating: train/7/00007_00018_00013.png  \n",
            "  inflating: train/7/00007_00018_00014.png  \n",
            "  inflating: train/7/00007_00018_00015.png  \n",
            "  inflating: train/7/00007_00018_00016.png  \n",
            "  inflating: train/7/00007_00018_00017.png  \n",
            "  inflating: train/7/00007_00018_00018.png  \n",
            "  inflating: train/7/00007_00018_00019.png  \n",
            "  inflating: train/7/00007_00018_00020.png  \n",
            "  inflating: train/7/00007_00018_00021.png  \n",
            "  inflating: train/7/00007_00018_00022.png  \n",
            "  inflating: train/7/00007_00018_00023.png  \n",
            "  inflating: train/7/00007_00018_00024.png  \n",
            "  inflating: train/7/00007_00018_00025.png  \n",
            "  inflating: train/7/00007_00018_00026.png  \n",
            "  inflating: train/7/00007_00018_00027.png  \n",
            "  inflating: train/7/00007_00018_00028.png  \n",
            "  inflating: train/7/00007_00018_00029.png  \n",
            "  inflating: train/7/00007_00019_00000.png  \n",
            "  inflating: train/7/00007_00019_00001.png  \n",
            "  inflating: train/7/00007_00019_00002.png  \n",
            "  inflating: train/7/00007_00019_00003.png  \n",
            "  inflating: train/7/00007_00019_00004.png  \n",
            "  inflating: train/7/00007_00019_00005.png  \n",
            "  inflating: train/7/00007_00019_00006.png  \n",
            "  inflating: train/7/00007_00019_00007.png  \n",
            "  inflating: train/7/00007_00019_00008.png  \n",
            "  inflating: train/7/00007_00019_00009.png  \n",
            "  inflating: train/7/00007_00019_00010.png  \n",
            "  inflating: train/7/00007_00019_00011.png  \n",
            "  inflating: train/7/00007_00019_00012.png  \n",
            "  inflating: train/7/00007_00019_00013.png  \n",
            "  inflating: train/7/00007_00019_00014.png  \n",
            "  inflating: train/7/00007_00019_00015.png  \n",
            "  inflating: train/7/00007_00019_00016.png  \n",
            "  inflating: train/7/00007_00019_00017.png  \n",
            "  inflating: train/7/00007_00019_00018.png  \n",
            "  inflating: train/7/00007_00019_00019.png  \n",
            "  inflating: train/7/00007_00019_00020.png  \n",
            "  inflating: train/7/00007_00019_00021.png  \n",
            "  inflating: train/7/00007_00019_00022.png  \n",
            "  inflating: train/7/00007_00019_00023.png  \n",
            "  inflating: train/7/00007_00019_00024.png  \n",
            "  inflating: train/7/00007_00019_00025.png  \n",
            "  inflating: train/7/00007_00019_00026.png  \n",
            "  inflating: train/7/00007_00019_00027.png  \n",
            "  inflating: train/7/00007_00019_00028.png  \n",
            "  inflating: train/7/00007_00019_00029.png  \n",
            "  inflating: train/7/00007_00020_00000.png  \n",
            "  inflating: train/7/00007_00020_00001.png  \n",
            "  inflating: train/7/00007_00020_00002.png  \n",
            "  inflating: train/7/00007_00020_00003.png  \n",
            "  inflating: train/7/00007_00020_00004.png  \n",
            "  inflating: train/7/00007_00020_00005.png  \n",
            "  inflating: train/7/00007_00020_00006.png  \n",
            "  inflating: train/7/00007_00020_00007.png  \n",
            "  inflating: train/7/00007_00020_00008.png  \n",
            "  inflating: train/7/00007_00020_00009.png  \n",
            "  inflating: train/7/00007_00020_00010.png  \n",
            "  inflating: train/7/00007_00020_00011.png  \n",
            "  inflating: train/7/00007_00020_00012.png  \n",
            "  inflating: train/7/00007_00020_00013.png  \n",
            "  inflating: train/7/00007_00020_00014.png  \n",
            "  inflating: train/7/00007_00020_00015.png  \n",
            "  inflating: train/7/00007_00020_00016.png  \n",
            "  inflating: train/7/00007_00020_00017.png  \n",
            "  inflating: train/7/00007_00020_00018.png  \n",
            "  inflating: train/7/00007_00020_00019.png  \n",
            "  inflating: train/7/00007_00020_00020.png  \n",
            "  inflating: train/7/00007_00020_00021.png  \n",
            "  inflating: train/7/00007_00020_00022.png  \n",
            "  inflating: train/7/00007_00020_00023.png  \n",
            "  inflating: train/7/00007_00020_00024.png  \n",
            "  inflating: train/7/00007_00020_00025.png  \n",
            "  inflating: train/7/00007_00020_00026.png  \n",
            "  inflating: train/7/00007_00020_00027.png  \n",
            "  inflating: train/7/00007_00020_00028.png  \n",
            "  inflating: train/7/00007_00020_00029.png  \n",
            "  inflating: train/7/00007_00021_00000.png  \n",
            "  inflating: train/7/00007_00021_00001.png  \n",
            "  inflating: train/7/00007_00021_00002.png  \n",
            "  inflating: train/7/00007_00021_00003.png  \n",
            "  inflating: train/7/00007_00021_00004.png  \n",
            "  inflating: train/7/00007_00021_00005.png  \n",
            "  inflating: train/7/00007_00021_00006.png  \n",
            "  inflating: train/7/00007_00021_00007.png  \n",
            "  inflating: train/7/00007_00021_00008.png  \n",
            "  inflating: train/7/00007_00021_00009.png  \n",
            "  inflating: train/7/00007_00021_00010.png  \n",
            "  inflating: train/7/00007_00021_00011.png  \n",
            "  inflating: train/7/00007_00021_00012.png  \n",
            "  inflating: train/7/00007_00021_00013.png  \n",
            "  inflating: train/7/00007_00021_00014.png  \n",
            "  inflating: train/7/00007_00021_00015.png  \n",
            "  inflating: train/7/00007_00021_00016.png  \n",
            "  inflating: train/7/00007_00021_00017.png  \n",
            "  inflating: train/7/00007_00021_00018.png  \n",
            "  inflating: train/7/00007_00021_00019.png  \n",
            "  inflating: train/7/00007_00021_00020.png  \n",
            "  inflating: train/7/00007_00021_00021.png  \n",
            "  inflating: train/7/00007_00021_00022.png  \n",
            "  inflating: train/7/00007_00021_00023.png  \n",
            "  inflating: train/7/00007_00021_00024.png  \n",
            "  inflating: train/7/00007_00021_00025.png  \n",
            "  inflating: train/7/00007_00021_00026.png  \n",
            "  inflating: train/7/00007_00021_00027.png  \n",
            "  inflating: train/7/00007_00021_00028.png  \n",
            "  inflating: train/7/00007_00021_00029.png  \n",
            "  inflating: train/7/00007_00022_00000.png  \n",
            "  inflating: train/7/00007_00022_00001.png  \n",
            "  inflating: train/7/00007_00022_00002.png  \n",
            "  inflating: train/7/00007_00022_00003.png  \n",
            "  inflating: train/7/00007_00022_00004.png  \n",
            "  inflating: train/7/00007_00022_00005.png  \n",
            "  inflating: train/7/00007_00022_00006.png  \n",
            "  inflating: train/7/00007_00022_00007.png  \n",
            "  inflating: train/7/00007_00022_00008.png  \n",
            "  inflating: train/7/00007_00022_00009.png  \n",
            "  inflating: train/7/00007_00022_00010.png  \n",
            "  inflating: train/7/00007_00022_00011.png  \n",
            "  inflating: train/7/00007_00022_00012.png  \n",
            "  inflating: train/7/00007_00022_00013.png  \n",
            "  inflating: train/7/00007_00022_00014.png  \n",
            "  inflating: train/7/00007_00022_00015.png  \n",
            "  inflating: train/7/00007_00022_00016.png  \n",
            "  inflating: train/7/00007_00022_00017.png  \n",
            "  inflating: train/7/00007_00022_00018.png  \n",
            "  inflating: train/7/00007_00022_00019.png  \n",
            "  inflating: train/7/00007_00022_00020.png  \n",
            "  inflating: train/7/00007_00022_00021.png  \n",
            "  inflating: train/7/00007_00022_00022.png  \n",
            "  inflating: train/7/00007_00022_00023.png  \n",
            "  inflating: train/7/00007_00022_00024.png  \n",
            "  inflating: train/7/00007_00022_00025.png  \n",
            "  inflating: train/7/00007_00022_00026.png  \n",
            "  inflating: train/7/00007_00022_00027.png  \n",
            "  inflating: train/7/00007_00022_00028.png  \n",
            "  inflating: train/7/00007_00022_00029.png  \n",
            "  inflating: train/7/00007_00023_00000.png  \n",
            "  inflating: train/7/00007_00023_00001.png  \n",
            "  inflating: train/7/00007_00023_00002.png  \n",
            "  inflating: train/7/00007_00023_00003.png  \n",
            "  inflating: train/7/00007_00023_00004.png  \n",
            "  inflating: train/7/00007_00023_00005.png  \n",
            "  inflating: train/7/00007_00023_00006.png  \n",
            "  inflating: train/7/00007_00023_00007.png  \n",
            "  inflating: train/7/00007_00023_00008.png  \n",
            "  inflating: train/7/00007_00023_00009.png  \n",
            "  inflating: train/7/00007_00023_00010.png  \n",
            "  inflating: train/7/00007_00023_00011.png  \n",
            "  inflating: train/7/00007_00023_00012.png  \n",
            "  inflating: train/7/00007_00023_00013.png  \n",
            "  inflating: train/7/00007_00023_00014.png  \n",
            "  inflating: train/7/00007_00023_00015.png  \n",
            "  inflating: train/7/00007_00023_00016.png  \n",
            "  inflating: train/7/00007_00023_00017.png  \n",
            "  inflating: train/7/00007_00023_00018.png  \n",
            "  inflating: train/7/00007_00023_00019.png  \n",
            "  inflating: train/7/00007_00023_00020.png  \n",
            "  inflating: train/7/00007_00023_00021.png  \n",
            "  inflating: train/7/00007_00023_00022.png  \n",
            "  inflating: train/7/00007_00023_00023.png  \n",
            "  inflating: train/7/00007_00023_00024.png  \n",
            "  inflating: train/7/00007_00023_00025.png  \n",
            "  inflating: train/7/00007_00023_00026.png  \n",
            "  inflating: train/7/00007_00023_00027.png  \n",
            "  inflating: train/7/00007_00023_00028.png  \n",
            "  inflating: train/7/00007_00023_00029.png  \n",
            "  inflating: train/7/00007_00024_00000.png  \n",
            "  inflating: train/7/00007_00024_00001.png  \n",
            "  inflating: train/7/00007_00024_00002.png  \n",
            "  inflating: train/7/00007_00024_00003.png  \n",
            "  inflating: train/7/00007_00024_00004.png  \n",
            "  inflating: train/7/00007_00024_00005.png  \n",
            "  inflating: train/7/00007_00024_00006.png  \n",
            "  inflating: train/7/00007_00024_00007.png  \n",
            "  inflating: train/7/00007_00024_00008.png  \n",
            "  inflating: train/7/00007_00024_00009.png  \n",
            "  inflating: train/7/00007_00024_00010.png  \n",
            "  inflating: train/7/00007_00024_00011.png  \n",
            "  inflating: train/7/00007_00024_00012.png  \n",
            "  inflating: train/7/00007_00024_00013.png  \n",
            "  inflating: train/7/00007_00024_00014.png  \n",
            "  inflating: train/7/00007_00024_00015.png  \n",
            "  inflating: train/7/00007_00024_00016.png  \n",
            "  inflating: train/7/00007_00024_00017.png  \n",
            "  inflating: train/7/00007_00024_00018.png  \n",
            "  inflating: train/7/00007_00024_00019.png  \n",
            "  inflating: train/7/00007_00024_00020.png  \n",
            "  inflating: train/7/00007_00024_00021.png  \n",
            "  inflating: train/7/00007_00024_00022.png  \n",
            "  inflating: train/7/00007_00024_00023.png  \n",
            "  inflating: train/7/00007_00024_00024.png  \n",
            "  inflating: train/7/00007_00024_00025.png  \n",
            "  inflating: train/7/00007_00024_00026.png  \n",
            "  inflating: train/7/00007_00024_00027.png  \n",
            "  inflating: train/7/00007_00024_00028.png  \n",
            "  inflating: train/7/00007_00024_00029.png  \n",
            "  inflating: train/7/00007_00025_00000.png  \n",
            "  inflating: train/7/00007_00025_00001.png  \n",
            "  inflating: train/7/00007_00025_00002.png  \n",
            "  inflating: train/7/00007_00025_00003.png  \n",
            "  inflating: train/7/00007_00025_00004.png  \n",
            "  inflating: train/7/00007_00025_00005.png  \n",
            "  inflating: train/7/00007_00025_00006.png  \n",
            "  inflating: train/7/00007_00025_00007.png  \n",
            "  inflating: train/7/00007_00025_00008.png  \n",
            "  inflating: train/7/00007_00025_00009.png  \n",
            "  inflating: train/7/00007_00025_00010.png  \n",
            "  inflating: train/7/00007_00025_00011.png  \n",
            "  inflating: train/7/00007_00025_00012.png  \n",
            "  inflating: train/7/00007_00025_00013.png  \n",
            "  inflating: train/7/00007_00025_00014.png  \n",
            "  inflating: train/7/00007_00025_00015.png  \n",
            "  inflating: train/7/00007_00025_00016.png  \n",
            "  inflating: train/7/00007_00025_00017.png  \n",
            "  inflating: train/7/00007_00025_00018.png  \n",
            "  inflating: train/7/00007_00025_00019.png  \n",
            "  inflating: train/7/00007_00025_00020.png  \n",
            "  inflating: train/7/00007_00025_00021.png  \n",
            "  inflating: train/7/00007_00025_00022.png  \n",
            "  inflating: train/7/00007_00025_00023.png  \n",
            "  inflating: train/7/00007_00025_00024.png  \n",
            "  inflating: train/7/00007_00025_00025.png  \n",
            "  inflating: train/7/00007_00025_00026.png  \n",
            "  inflating: train/7/00007_00025_00027.png  \n",
            "  inflating: train/7/00007_00025_00028.png  \n",
            "  inflating: train/7/00007_00025_00029.png  \n",
            "  inflating: train/7/00007_00026_00000.png  \n",
            "  inflating: train/7/00007_00026_00001.png  \n",
            "  inflating: train/7/00007_00026_00002.png  \n",
            "  inflating: train/7/00007_00026_00003.png  \n",
            "  inflating: train/7/00007_00026_00004.png  \n",
            "  inflating: train/7/00007_00026_00005.png  \n",
            "  inflating: train/7/00007_00026_00006.png  \n",
            "  inflating: train/7/00007_00026_00007.png  \n",
            "  inflating: train/7/00007_00026_00008.png  \n",
            "  inflating: train/7/00007_00026_00009.png  \n",
            "  inflating: train/7/00007_00026_00010.png  \n",
            "  inflating: train/7/00007_00026_00011.png  \n",
            "  inflating: train/7/00007_00026_00012.png  \n",
            "  inflating: train/7/00007_00026_00013.png  \n",
            "  inflating: train/7/00007_00026_00014.png  \n",
            "  inflating: train/7/00007_00026_00015.png  \n",
            "  inflating: train/7/00007_00026_00016.png  \n",
            "  inflating: train/7/00007_00026_00017.png  \n",
            "  inflating: train/7/00007_00026_00018.png  \n",
            "  inflating: train/7/00007_00026_00019.png  \n",
            "  inflating: train/7/00007_00026_00020.png  \n",
            "  inflating: train/7/00007_00026_00021.png  \n",
            "  inflating: train/7/00007_00026_00022.png  \n",
            "  inflating: train/7/00007_00026_00023.png  \n",
            "  inflating: train/7/00007_00026_00024.png  \n",
            "  inflating: train/7/00007_00026_00025.png  \n",
            "  inflating: train/7/00007_00026_00026.png  \n",
            "  inflating: train/7/00007_00026_00027.png  \n",
            "  inflating: train/7/00007_00026_00028.png  \n",
            "  inflating: train/7/00007_00026_00029.png  \n",
            "  inflating: train/7/00007_00027_00000.png  \n",
            "  inflating: train/7/00007_00027_00001.png  \n",
            "  inflating: train/7/00007_00027_00002.png  \n",
            "  inflating: train/7/00007_00027_00003.png  \n",
            "  inflating: train/7/00007_00027_00004.png  \n",
            "  inflating: train/7/00007_00027_00005.png  \n",
            "  inflating: train/7/00007_00027_00006.png  \n",
            "  inflating: train/7/00007_00027_00007.png  \n",
            "  inflating: train/7/00007_00027_00008.png  \n",
            "  inflating: train/7/00007_00027_00009.png  \n",
            "  inflating: train/7/00007_00027_00010.png  \n",
            "  inflating: train/7/00007_00027_00011.png  \n",
            "  inflating: train/7/00007_00027_00012.png  \n",
            "  inflating: train/7/00007_00027_00013.png  \n",
            "  inflating: train/7/00007_00027_00014.png  \n",
            "  inflating: train/7/00007_00027_00015.png  \n",
            "  inflating: train/7/00007_00027_00016.png  \n",
            "  inflating: train/7/00007_00027_00017.png  \n",
            "  inflating: train/7/00007_00027_00018.png  \n",
            "  inflating: train/7/00007_00027_00019.png  \n",
            "  inflating: train/7/00007_00027_00020.png  \n",
            "  inflating: train/7/00007_00027_00021.png  \n",
            "  inflating: train/7/00007_00027_00022.png  \n",
            "  inflating: train/7/00007_00027_00023.png  \n",
            "  inflating: train/7/00007_00027_00024.png  \n",
            "  inflating: train/7/00007_00027_00025.png  \n",
            "  inflating: train/7/00007_00027_00026.png  \n",
            "  inflating: train/7/00007_00027_00027.png  \n",
            "  inflating: train/7/00007_00027_00028.png  \n",
            "  inflating: train/7/00007_00027_00029.png  \n",
            "  inflating: train/7/00007_00028_00000.png  \n",
            "  inflating: train/7/00007_00028_00001.png  \n",
            "  inflating: train/7/00007_00028_00002.png  \n",
            "  inflating: train/7/00007_00028_00003.png  \n",
            "  inflating: train/7/00007_00028_00004.png  \n",
            "  inflating: train/7/00007_00028_00005.png  \n",
            "  inflating: train/7/00007_00028_00006.png  \n",
            "  inflating: train/7/00007_00028_00007.png  \n",
            "  inflating: train/7/00007_00028_00008.png  \n",
            "  inflating: train/7/00007_00028_00009.png  \n",
            "  inflating: train/7/00007_00028_00010.png  \n",
            "  inflating: train/7/00007_00028_00011.png  \n",
            "  inflating: train/7/00007_00028_00012.png  \n",
            "  inflating: train/7/00007_00028_00013.png  \n",
            "  inflating: train/7/00007_00028_00014.png  \n",
            "  inflating: train/7/00007_00028_00015.png  \n",
            "  inflating: train/7/00007_00028_00016.png  \n",
            "  inflating: train/7/00007_00028_00017.png  \n",
            "  inflating: train/7/00007_00028_00018.png  \n",
            "  inflating: train/7/00007_00028_00019.png  \n",
            "  inflating: train/7/00007_00028_00020.png  \n",
            "  inflating: train/7/00007_00028_00021.png  \n",
            "  inflating: train/7/00007_00028_00022.png  \n",
            "  inflating: train/7/00007_00028_00023.png  \n",
            "  inflating: train/7/00007_00028_00024.png  \n",
            "  inflating: train/7/00007_00028_00025.png  \n",
            "  inflating: train/7/00007_00028_00026.png  \n",
            "  inflating: train/7/00007_00028_00027.png  \n",
            "  inflating: train/7/00007_00028_00028.png  \n",
            "  inflating: train/7/00007_00028_00029.png  \n",
            "  inflating: train/7/00007_00029_00000.png  \n",
            "  inflating: train/7/00007_00029_00001.png  \n",
            "  inflating: train/7/00007_00029_00002.png  \n",
            "  inflating: train/7/00007_00029_00003.png  \n",
            "  inflating: train/7/00007_00029_00004.png  \n",
            "  inflating: train/7/00007_00029_00005.png  \n",
            "  inflating: train/7/00007_00029_00006.png  \n",
            "  inflating: train/7/00007_00029_00007.png  \n",
            "  inflating: train/7/00007_00029_00008.png  \n",
            "  inflating: train/7/00007_00029_00009.png  \n",
            "  inflating: train/7/00007_00029_00010.png  \n",
            "  inflating: train/7/00007_00029_00011.png  \n",
            "  inflating: train/7/00007_00029_00012.png  \n",
            "  inflating: train/7/00007_00029_00013.png  \n",
            "  inflating: train/7/00007_00029_00014.png  \n",
            "  inflating: train/7/00007_00029_00015.png  \n",
            "  inflating: train/7/00007_00029_00016.png  \n",
            "  inflating: train/7/00007_00029_00017.png  \n",
            "  inflating: train/7/00007_00029_00018.png  \n",
            "  inflating: train/7/00007_00029_00019.png  \n",
            "  inflating: train/7/00007_00029_00020.png  \n",
            "  inflating: train/7/00007_00029_00021.png  \n",
            "  inflating: train/7/00007_00029_00022.png  \n",
            "  inflating: train/7/00007_00029_00023.png  \n",
            "  inflating: train/7/00007_00029_00024.png  \n",
            "  inflating: train/7/00007_00029_00025.png  \n",
            "  inflating: train/7/00007_00029_00026.png  \n",
            "  inflating: train/7/00007_00029_00027.png  \n",
            "  inflating: train/7/00007_00029_00028.png  \n",
            "  inflating: train/7/00007_00029_00029.png  \n",
            "  inflating: train/7/00007_00030_00000.png  \n",
            "  inflating: train/7/00007_00030_00001.png  \n",
            "  inflating: train/7/00007_00030_00002.png  \n",
            "  inflating: train/7/00007_00030_00003.png  \n",
            "  inflating: train/7/00007_00030_00004.png  \n",
            "  inflating: train/7/00007_00030_00005.png  \n",
            "  inflating: train/7/00007_00030_00006.png  \n",
            "  inflating: train/7/00007_00030_00007.png  \n",
            "  inflating: train/7/00007_00030_00008.png  \n",
            "  inflating: train/7/00007_00030_00009.png  \n",
            "  inflating: train/7/00007_00030_00010.png  \n",
            "  inflating: train/7/00007_00030_00011.png  \n",
            "  inflating: train/7/00007_00030_00012.png  \n",
            "  inflating: train/7/00007_00030_00013.png  \n",
            "  inflating: train/7/00007_00030_00014.png  \n",
            "  inflating: train/7/00007_00030_00015.png  \n",
            "  inflating: train/7/00007_00030_00016.png  \n",
            "  inflating: train/7/00007_00030_00017.png  \n",
            "  inflating: train/7/00007_00030_00018.png  \n",
            "  inflating: train/7/00007_00030_00019.png  \n",
            "  inflating: train/7/00007_00030_00020.png  \n",
            "  inflating: train/7/00007_00030_00021.png  \n",
            "  inflating: train/7/00007_00030_00022.png  \n",
            "  inflating: train/7/00007_00030_00023.png  \n",
            "  inflating: train/7/00007_00030_00024.png  \n",
            "  inflating: train/7/00007_00030_00025.png  \n",
            "  inflating: train/7/00007_00030_00026.png  \n",
            "  inflating: train/7/00007_00030_00027.png  \n",
            "  inflating: train/7/00007_00030_00028.png  \n",
            "  inflating: train/7/00007_00030_00029.png  \n",
            "  inflating: train/7/00007_00031_00000.png  \n",
            "  inflating: train/7/00007_00031_00001.png  \n",
            "  inflating: train/7/00007_00031_00002.png  \n",
            "  inflating: train/7/00007_00031_00003.png  \n",
            "  inflating: train/7/00007_00031_00004.png  \n",
            "  inflating: train/7/00007_00031_00005.png  \n",
            "  inflating: train/7/00007_00031_00006.png  \n",
            "  inflating: train/7/00007_00031_00007.png  \n",
            "  inflating: train/7/00007_00031_00008.png  \n",
            "  inflating: train/7/00007_00031_00009.png  \n",
            "  inflating: train/7/00007_00031_00010.png  \n",
            "  inflating: train/7/00007_00031_00011.png  \n",
            "  inflating: train/7/00007_00031_00012.png  \n",
            "  inflating: train/7/00007_00031_00013.png  \n",
            "  inflating: train/7/00007_00031_00014.png  \n",
            "  inflating: train/7/00007_00031_00015.png  \n",
            "  inflating: train/7/00007_00031_00016.png  \n",
            "  inflating: train/7/00007_00031_00017.png  \n",
            "  inflating: train/7/00007_00031_00018.png  \n",
            "  inflating: train/7/00007_00031_00019.png  \n",
            "  inflating: train/7/00007_00031_00020.png  \n",
            "  inflating: train/7/00007_00031_00021.png  \n",
            "  inflating: train/7/00007_00031_00022.png  \n",
            "  inflating: train/7/00007_00031_00023.png  \n",
            "  inflating: train/7/00007_00031_00024.png  \n",
            "  inflating: train/7/00007_00031_00025.png  \n",
            "  inflating: train/7/00007_00031_00026.png  \n",
            "  inflating: train/7/00007_00031_00027.png  \n",
            "  inflating: train/7/00007_00031_00028.png  \n",
            "  inflating: train/7/00007_00031_00029.png  \n",
            "  inflating: train/7/00007_00032_00000.png  \n",
            "  inflating: train/7/00007_00032_00001.png  \n",
            "  inflating: train/7/00007_00032_00002.png  \n",
            "  inflating: train/7/00007_00032_00003.png  \n",
            "  inflating: train/7/00007_00032_00004.png  \n",
            "  inflating: train/7/00007_00032_00005.png  \n",
            "  inflating: train/7/00007_00032_00006.png  \n",
            "  inflating: train/7/00007_00032_00007.png  \n",
            "  inflating: train/7/00007_00032_00008.png  \n",
            "  inflating: train/7/00007_00032_00009.png  \n",
            "  inflating: train/7/00007_00032_00010.png  \n",
            "  inflating: train/7/00007_00032_00011.png  \n",
            "  inflating: train/7/00007_00032_00012.png  \n",
            "  inflating: train/7/00007_00032_00013.png  \n",
            "  inflating: train/7/00007_00032_00014.png  \n",
            "  inflating: train/7/00007_00032_00015.png  \n",
            "  inflating: train/7/00007_00032_00016.png  \n",
            "  inflating: train/7/00007_00032_00017.png  \n",
            "  inflating: train/7/00007_00032_00018.png  \n",
            "  inflating: train/7/00007_00032_00019.png  \n",
            "  inflating: train/7/00007_00032_00020.png  \n",
            "  inflating: train/7/00007_00032_00021.png  \n",
            "  inflating: train/7/00007_00032_00022.png  \n",
            "  inflating: train/7/00007_00032_00023.png  \n",
            "  inflating: train/7/00007_00032_00024.png  \n",
            "  inflating: train/7/00007_00032_00025.png  \n",
            "  inflating: train/7/00007_00032_00026.png  \n",
            "  inflating: train/7/00007_00032_00027.png  \n",
            "  inflating: train/7/00007_00032_00028.png  \n",
            "  inflating: train/7/00007_00032_00029.png  \n",
            "  inflating: train/7/00007_00033_00000.png  \n",
            "  inflating: train/7/00007_00033_00001.png  \n",
            "  inflating: train/7/00007_00033_00002.png  \n",
            "  inflating: train/7/00007_00033_00003.png  \n",
            "  inflating: train/7/00007_00033_00004.png  \n",
            "  inflating: train/7/00007_00033_00005.png  \n",
            "  inflating: train/7/00007_00033_00006.png  \n",
            "  inflating: train/7/00007_00033_00007.png  \n",
            "  inflating: train/7/00007_00033_00008.png  \n",
            "  inflating: train/7/00007_00033_00009.png  \n",
            "  inflating: train/7/00007_00033_00010.png  \n",
            "  inflating: train/7/00007_00033_00011.png  \n",
            "  inflating: train/7/00007_00033_00012.png  \n",
            "  inflating: train/7/00007_00033_00013.png  \n",
            "  inflating: train/7/00007_00033_00014.png  \n",
            "  inflating: train/7/00007_00033_00015.png  \n",
            "  inflating: train/7/00007_00033_00016.png  \n",
            "  inflating: train/7/00007_00033_00017.png  \n",
            "  inflating: train/7/00007_00033_00018.png  \n",
            "  inflating: train/7/00007_00033_00019.png  \n",
            "  inflating: train/7/00007_00033_00020.png  \n",
            "  inflating: train/7/00007_00033_00021.png  \n",
            "  inflating: train/7/00007_00033_00022.png  \n",
            "  inflating: train/7/00007_00033_00023.png  \n",
            "  inflating: train/7/00007_00033_00024.png  \n",
            "  inflating: train/7/00007_00033_00025.png  \n",
            "  inflating: train/7/00007_00033_00026.png  \n",
            "  inflating: train/7/00007_00033_00027.png  \n",
            "  inflating: train/7/00007_00033_00028.png  \n",
            "  inflating: train/7/00007_00033_00029.png  \n",
            "  inflating: train/7/00007_00034_00000.png  \n",
            "  inflating: train/7/00007_00034_00001.png  \n",
            "  inflating: train/7/00007_00034_00002.png  \n",
            "  inflating: train/7/00007_00034_00003.png  \n",
            "  inflating: train/7/00007_00034_00004.png  \n",
            "  inflating: train/7/00007_00034_00005.png  \n",
            "  inflating: train/7/00007_00034_00006.png  \n",
            "  inflating: train/7/00007_00034_00007.png  \n",
            "  inflating: train/7/00007_00034_00008.png  \n",
            "  inflating: train/7/00007_00034_00009.png  \n",
            "  inflating: train/7/00007_00034_00010.png  \n",
            "  inflating: train/7/00007_00034_00011.png  \n",
            "  inflating: train/7/00007_00034_00012.png  \n",
            "  inflating: train/7/00007_00034_00013.png  \n",
            "  inflating: train/7/00007_00034_00014.png  \n",
            "  inflating: train/7/00007_00034_00015.png  \n",
            "  inflating: train/7/00007_00034_00016.png  \n",
            "  inflating: train/7/00007_00034_00017.png  \n",
            "  inflating: train/7/00007_00034_00018.png  \n",
            "  inflating: train/7/00007_00034_00019.png  \n",
            "  inflating: train/7/00007_00034_00020.png  \n",
            "  inflating: train/7/00007_00034_00021.png  \n",
            "  inflating: train/7/00007_00034_00022.png  \n",
            "  inflating: train/7/00007_00034_00023.png  \n",
            "  inflating: train/7/00007_00034_00024.png  \n",
            "  inflating: train/7/00007_00034_00025.png  \n",
            "  inflating: train/7/00007_00034_00026.png  \n",
            "  inflating: train/7/00007_00034_00027.png  \n",
            "  inflating: train/7/00007_00034_00028.png  \n",
            "  inflating: train/7/00007_00034_00029.png  \n",
            "  inflating: train/7/00007_00035_00000.png  \n",
            "  inflating: train/7/00007_00035_00001.png  \n",
            "  inflating: train/7/00007_00035_00002.png  \n",
            "  inflating: train/7/00007_00035_00003.png  \n",
            "  inflating: train/7/00007_00035_00004.png  \n",
            "  inflating: train/7/00007_00035_00005.png  \n",
            "  inflating: train/7/00007_00035_00006.png  \n",
            "  inflating: train/7/00007_00035_00007.png  \n",
            "  inflating: train/7/00007_00035_00008.png  \n",
            "  inflating: train/7/00007_00035_00009.png  \n",
            "  inflating: train/7/00007_00035_00010.png  \n",
            "  inflating: train/7/00007_00035_00011.png  \n",
            "  inflating: train/7/00007_00035_00012.png  \n",
            "  inflating: train/7/00007_00035_00013.png  \n",
            "  inflating: train/7/00007_00035_00014.png  \n",
            "  inflating: train/7/00007_00035_00015.png  \n",
            "  inflating: train/7/00007_00035_00016.png  \n",
            "  inflating: train/7/00007_00035_00017.png  \n",
            "  inflating: train/7/00007_00035_00018.png  \n",
            "  inflating: train/7/00007_00035_00019.png  \n",
            "  inflating: train/7/00007_00035_00020.png  \n",
            "  inflating: train/7/00007_00035_00021.png  \n",
            "  inflating: train/7/00007_00035_00022.png  \n",
            "  inflating: train/7/00007_00035_00023.png  \n",
            "  inflating: train/7/00007_00035_00024.png  \n",
            "  inflating: train/7/00007_00035_00025.png  \n",
            "  inflating: train/7/00007_00035_00026.png  \n",
            "  inflating: train/7/00007_00035_00027.png  \n",
            "  inflating: train/7/00007_00035_00028.png  \n",
            "  inflating: train/7/00007_00035_00029.png  \n",
            "  inflating: train/7/00007_00036_00000.png  \n",
            "  inflating: train/7/00007_00036_00001.png  \n",
            "  inflating: train/7/00007_00036_00002.png  \n",
            "  inflating: train/7/00007_00036_00003.png  \n",
            "  inflating: train/7/00007_00036_00004.png  \n",
            "  inflating: train/7/00007_00036_00005.png  \n",
            "  inflating: train/7/00007_00036_00006.png  \n",
            "  inflating: train/7/00007_00036_00007.png  \n",
            "  inflating: train/7/00007_00036_00008.png  \n",
            "  inflating: train/7/00007_00036_00009.png  \n",
            "  inflating: train/7/00007_00036_00010.png  \n",
            "  inflating: train/7/00007_00036_00011.png  \n",
            "  inflating: train/7/00007_00036_00012.png  \n",
            "  inflating: train/7/00007_00036_00013.png  \n",
            "  inflating: train/7/00007_00036_00014.png  \n",
            "  inflating: train/7/00007_00036_00015.png  \n",
            "  inflating: train/7/00007_00036_00016.png  \n",
            "  inflating: train/7/00007_00036_00017.png  \n",
            "  inflating: train/7/00007_00036_00018.png  \n",
            "  inflating: train/7/00007_00036_00019.png  \n",
            "  inflating: train/7/00007_00036_00020.png  \n",
            "  inflating: train/7/00007_00036_00021.png  \n",
            "  inflating: train/7/00007_00036_00022.png  \n",
            "  inflating: train/7/00007_00036_00023.png  \n",
            "  inflating: train/7/00007_00036_00024.png  \n",
            "  inflating: train/7/00007_00036_00025.png  \n",
            "  inflating: train/7/00007_00036_00026.png  \n",
            "  inflating: train/7/00007_00036_00027.png  \n",
            "  inflating: train/7/00007_00036_00028.png  \n",
            "  inflating: train/7/00007_00036_00029.png  \n",
            "  inflating: train/7/00007_00037_00000.png  \n",
            "  inflating: train/7/00007_00037_00001.png  \n",
            "  inflating: train/7/00007_00037_00002.png  \n",
            "  inflating: train/7/00007_00037_00003.png  \n",
            "  inflating: train/7/00007_00037_00004.png  \n",
            "  inflating: train/7/00007_00037_00005.png  \n",
            "  inflating: train/7/00007_00037_00006.png  \n",
            "  inflating: train/7/00007_00037_00007.png  \n",
            "  inflating: train/7/00007_00037_00008.png  \n",
            "  inflating: train/7/00007_00037_00009.png  \n",
            "  inflating: train/7/00007_00037_00010.png  \n",
            "  inflating: train/7/00007_00037_00011.png  \n",
            "  inflating: train/7/00007_00037_00012.png  \n",
            "  inflating: train/7/00007_00037_00013.png  \n",
            "  inflating: train/7/00007_00037_00014.png  \n",
            "  inflating: train/7/00007_00037_00015.png  \n",
            "  inflating: train/7/00007_00037_00016.png  \n",
            "  inflating: train/7/00007_00037_00017.png  \n",
            "  inflating: train/7/00007_00037_00018.png  \n",
            "  inflating: train/7/00007_00037_00019.png  \n",
            "  inflating: train/7/00007_00037_00020.png  \n",
            "  inflating: train/7/00007_00037_00021.png  \n",
            "  inflating: train/7/00007_00037_00022.png  \n",
            "  inflating: train/7/00007_00037_00023.png  \n",
            "  inflating: train/7/00007_00037_00024.png  \n",
            "  inflating: train/7/00007_00037_00025.png  \n",
            "  inflating: train/7/00007_00037_00026.png  \n",
            "  inflating: train/7/00007_00037_00027.png  \n",
            "  inflating: train/7/00007_00037_00028.png  \n",
            "  inflating: train/7/00007_00037_00029.png  \n",
            "  inflating: train/7/00007_00038_00000.png  \n",
            "  inflating: train/7/00007_00038_00001.png  \n",
            "  inflating: train/7/00007_00038_00002.png  \n",
            "  inflating: train/7/00007_00038_00003.png  \n",
            "  inflating: train/7/00007_00038_00004.png  \n",
            "  inflating: train/7/00007_00038_00005.png  \n",
            "  inflating: train/7/00007_00038_00006.png  \n",
            "  inflating: train/7/00007_00038_00007.png  \n",
            "  inflating: train/7/00007_00038_00008.png  \n",
            "  inflating: train/7/00007_00038_00009.png  \n",
            "  inflating: train/7/00007_00038_00010.png  \n",
            "  inflating: train/7/00007_00038_00011.png  \n",
            "  inflating: train/7/00007_00038_00012.png  \n",
            "  inflating: train/7/00007_00038_00013.png  \n",
            "  inflating: train/7/00007_00038_00014.png  \n",
            "  inflating: train/7/00007_00038_00015.png  \n",
            "  inflating: train/7/00007_00038_00016.png  \n",
            "  inflating: train/7/00007_00038_00017.png  \n",
            "  inflating: train/7/00007_00038_00018.png  \n",
            "  inflating: train/7/00007_00038_00019.png  \n",
            "  inflating: train/7/00007_00038_00020.png  \n",
            "  inflating: train/7/00007_00038_00021.png  \n",
            "  inflating: train/7/00007_00038_00022.png  \n",
            "  inflating: train/7/00007_00038_00023.png  \n",
            "  inflating: train/7/00007_00038_00024.png  \n",
            "  inflating: train/7/00007_00038_00025.png  \n",
            "  inflating: train/7/00007_00038_00026.png  \n",
            "  inflating: train/7/00007_00038_00027.png  \n",
            "  inflating: train/7/00007_00038_00028.png  \n",
            "  inflating: train/7/00007_00038_00029.png  \n",
            "  inflating: train/7/00007_00039_00000.png  \n",
            "  inflating: train/7/00007_00039_00001.png  \n",
            "  inflating: train/7/00007_00039_00002.png  \n",
            "  inflating: train/7/00007_00039_00003.png  \n",
            "  inflating: train/7/00007_00039_00004.png  \n",
            "  inflating: train/7/00007_00039_00005.png  \n",
            "  inflating: train/7/00007_00039_00006.png  \n",
            "  inflating: train/7/00007_00039_00007.png  \n",
            "  inflating: train/7/00007_00039_00008.png  \n",
            "  inflating: train/7/00007_00039_00009.png  \n",
            "  inflating: train/7/00007_00039_00010.png  \n",
            "  inflating: train/7/00007_00039_00011.png  \n",
            "  inflating: train/7/00007_00039_00012.png  \n",
            "  inflating: train/7/00007_00039_00013.png  \n",
            "  inflating: train/7/00007_00039_00014.png  \n",
            "  inflating: train/7/00007_00039_00015.png  \n",
            "  inflating: train/7/00007_00039_00016.png  \n",
            "  inflating: train/7/00007_00039_00017.png  \n",
            "  inflating: train/7/00007_00039_00018.png  \n",
            "  inflating: train/7/00007_00039_00019.png  \n",
            "  inflating: train/7/00007_00039_00020.png  \n",
            "  inflating: train/7/00007_00039_00021.png  \n",
            "  inflating: train/7/00007_00039_00022.png  \n",
            "  inflating: train/7/00007_00039_00023.png  \n",
            "  inflating: train/7/00007_00039_00024.png  \n",
            "  inflating: train/7/00007_00039_00025.png  \n",
            "  inflating: train/7/00007_00039_00026.png  \n",
            "  inflating: train/7/00007_00039_00027.png  \n",
            "  inflating: train/7/00007_00039_00028.png  \n",
            "  inflating: train/7/00007_00039_00029.png  \n",
            "  inflating: train/7/00007_00040_00000.png  \n",
            "  inflating: train/7/00007_00040_00001.png  \n",
            "  inflating: train/7/00007_00040_00002.png  \n",
            "  inflating: train/7/00007_00040_00003.png  \n",
            "  inflating: train/7/00007_00040_00004.png  \n",
            "  inflating: train/7/00007_00040_00005.png  \n",
            "  inflating: train/7/00007_00040_00006.png  \n",
            "  inflating: train/7/00007_00040_00007.png  \n",
            "  inflating: train/7/00007_00040_00008.png  \n",
            "  inflating: train/7/00007_00040_00009.png  \n",
            "  inflating: train/7/00007_00040_00010.png  \n",
            "  inflating: train/7/00007_00040_00011.png  \n",
            "  inflating: train/7/00007_00040_00012.png  \n",
            "  inflating: train/7/00007_00040_00013.png  \n",
            "  inflating: train/7/00007_00040_00014.png  \n",
            "  inflating: train/7/00007_00040_00015.png  \n",
            "  inflating: train/7/00007_00040_00016.png  \n",
            "  inflating: train/7/00007_00040_00017.png  \n",
            "  inflating: train/7/00007_00040_00018.png  \n",
            "  inflating: train/7/00007_00040_00019.png  \n",
            "  inflating: train/7/00007_00040_00020.png  \n",
            "  inflating: train/7/00007_00040_00021.png  \n",
            "  inflating: train/7/00007_00040_00022.png  \n",
            "  inflating: train/7/00007_00040_00023.png  \n",
            "  inflating: train/7/00007_00040_00024.png  \n",
            "  inflating: train/7/00007_00040_00025.png  \n",
            "  inflating: train/7/00007_00040_00026.png  \n",
            "  inflating: train/7/00007_00040_00027.png  \n",
            "  inflating: train/7/00007_00040_00028.png  \n",
            "  inflating: train/7/00007_00040_00029.png  \n",
            "  inflating: train/7/00007_00041_00000.png  \n",
            "  inflating: train/7/00007_00041_00001.png  \n",
            "  inflating: train/7/00007_00041_00002.png  \n",
            "  inflating: train/7/00007_00041_00003.png  \n",
            "  inflating: train/7/00007_00041_00004.png  \n",
            "  inflating: train/7/00007_00041_00005.png  \n",
            "  inflating: train/7/00007_00041_00006.png  \n",
            "  inflating: train/7/00007_00041_00007.png  \n",
            "  inflating: train/7/00007_00041_00008.png  \n",
            "  inflating: train/7/00007_00041_00009.png  \n",
            "  inflating: train/7/00007_00041_00010.png  \n",
            "  inflating: train/7/00007_00041_00011.png  \n",
            "  inflating: train/7/00007_00041_00012.png  \n",
            "  inflating: train/7/00007_00041_00013.png  \n",
            "  inflating: train/7/00007_00041_00014.png  \n",
            "  inflating: train/7/00007_00041_00015.png  \n",
            "  inflating: train/7/00007_00041_00016.png  \n",
            "  inflating: train/7/00007_00041_00017.png  \n",
            "  inflating: train/7/00007_00041_00018.png  \n",
            "  inflating: train/7/00007_00041_00019.png  \n",
            "  inflating: train/7/00007_00041_00020.png  \n",
            "  inflating: train/7/00007_00041_00021.png  \n",
            "  inflating: train/7/00007_00041_00022.png  \n",
            "  inflating: train/7/00007_00041_00023.png  \n",
            "  inflating: train/7/00007_00041_00024.png  \n",
            "  inflating: train/7/00007_00041_00025.png  \n",
            "  inflating: train/7/00007_00041_00026.png  \n",
            "  inflating: train/7/00007_00041_00027.png  \n",
            "  inflating: train/7/00007_00041_00028.png  \n",
            "  inflating: train/7/00007_00041_00029.png  \n",
            "  inflating: train/7/00007_00042_00000.png  \n",
            "  inflating: train/7/00007_00042_00001.png  \n",
            "  inflating: train/7/00007_00042_00002.png  \n",
            "  inflating: train/7/00007_00042_00003.png  \n",
            "  inflating: train/7/00007_00042_00004.png  \n",
            "  inflating: train/7/00007_00042_00005.png  \n",
            "  inflating: train/7/00007_00042_00006.png  \n",
            "  inflating: train/7/00007_00042_00007.png  \n",
            "  inflating: train/7/00007_00042_00008.png  \n",
            "  inflating: train/7/00007_00042_00009.png  \n",
            "  inflating: train/7/00007_00042_00010.png  \n",
            "  inflating: train/7/00007_00042_00011.png  \n",
            "  inflating: train/7/00007_00042_00012.png  \n",
            "  inflating: train/7/00007_00042_00013.png  \n",
            "  inflating: train/7/00007_00042_00014.png  \n",
            "  inflating: train/7/00007_00042_00015.png  \n",
            "  inflating: train/7/00007_00042_00016.png  \n",
            "  inflating: train/7/00007_00042_00017.png  \n",
            "  inflating: train/7/00007_00042_00018.png  \n",
            "  inflating: train/7/00007_00042_00019.png  \n",
            "  inflating: train/7/00007_00042_00020.png  \n",
            "  inflating: train/7/00007_00042_00021.png  \n",
            "  inflating: train/7/00007_00042_00022.png  \n",
            "  inflating: train/7/00007_00042_00023.png  \n",
            "  inflating: train/7/00007_00042_00024.png  \n",
            "  inflating: train/7/00007_00042_00025.png  \n",
            "  inflating: train/7/00007_00042_00026.png  \n",
            "  inflating: train/7/00007_00042_00027.png  \n",
            "  inflating: train/7/00007_00042_00028.png  \n",
            "  inflating: train/7/00007_00042_00029.png  \n",
            "  inflating: train/7/00007_00043_00000.png  \n",
            "  inflating: train/7/00007_00043_00001.png  \n",
            "  inflating: train/7/00007_00043_00002.png  \n",
            "  inflating: train/7/00007_00043_00003.png  \n",
            "  inflating: train/7/00007_00043_00004.png  \n",
            "  inflating: train/7/00007_00043_00005.png  \n",
            "  inflating: train/7/00007_00043_00006.png  \n",
            "  inflating: train/7/00007_00043_00007.png  \n",
            "  inflating: train/7/00007_00043_00008.png  \n",
            "  inflating: train/7/00007_00043_00009.png  \n",
            "  inflating: train/7/00007_00043_00010.png  \n",
            "  inflating: train/7/00007_00043_00011.png  \n",
            "  inflating: train/7/00007_00043_00012.png  \n",
            "  inflating: train/7/00007_00043_00013.png  \n",
            "  inflating: train/7/00007_00043_00014.png  \n",
            "  inflating: train/7/00007_00043_00015.png  \n",
            "  inflating: train/7/00007_00043_00016.png  \n",
            "  inflating: train/7/00007_00043_00017.png  \n",
            "  inflating: train/7/00007_00043_00018.png  \n",
            "  inflating: train/7/00007_00043_00019.png  \n",
            "  inflating: train/7/00007_00043_00020.png  \n",
            "  inflating: train/7/00007_00043_00021.png  \n",
            "  inflating: train/7/00007_00043_00022.png  \n",
            "  inflating: train/7/00007_00043_00023.png  \n",
            "  inflating: train/7/00007_00043_00024.png  \n",
            "  inflating: train/7/00007_00043_00025.png  \n",
            "  inflating: train/7/00007_00043_00026.png  \n",
            "  inflating: train/7/00007_00043_00027.png  \n",
            "  inflating: train/7/00007_00043_00028.png  \n",
            "  inflating: train/7/00007_00043_00029.png  \n",
            "  inflating: train/7/00007_00044_00000.png  \n",
            "  inflating: train/7/00007_00044_00001.png  \n",
            "  inflating: train/7/00007_00044_00002.png  \n",
            "  inflating: train/7/00007_00044_00003.png  \n",
            "  inflating: train/7/00007_00044_00004.png  \n",
            "  inflating: train/7/00007_00044_00005.png  \n",
            "  inflating: train/7/00007_00044_00006.png  \n",
            "  inflating: train/7/00007_00044_00007.png  \n",
            "  inflating: train/7/00007_00044_00008.png  \n",
            "  inflating: train/7/00007_00044_00009.png  \n",
            "  inflating: train/7/00007_00044_00010.png  \n",
            "  inflating: train/7/00007_00044_00011.png  \n",
            "  inflating: train/7/00007_00044_00012.png  \n",
            "  inflating: train/7/00007_00044_00013.png  \n",
            "  inflating: train/7/00007_00044_00014.png  \n",
            "  inflating: train/7/00007_00044_00015.png  \n",
            "  inflating: train/7/00007_00044_00016.png  \n",
            "  inflating: train/7/00007_00044_00017.png  \n",
            "  inflating: train/7/00007_00044_00018.png  \n",
            "  inflating: train/7/00007_00044_00019.png  \n",
            "  inflating: train/7/00007_00044_00020.png  \n",
            "  inflating: train/7/00007_00044_00021.png  \n",
            "  inflating: train/7/00007_00044_00022.png  \n",
            "  inflating: train/7/00007_00044_00023.png  \n",
            "  inflating: train/7/00007_00044_00024.png  \n",
            "  inflating: train/7/00007_00044_00025.png  \n",
            "  inflating: train/7/00007_00044_00026.png  \n",
            "  inflating: train/7/00007_00044_00027.png  \n",
            "  inflating: train/7/00007_00044_00028.png  \n",
            "  inflating: train/7/00007_00044_00029.png  \n",
            "  inflating: train/7/00007_00045_00000.png  \n",
            "  inflating: train/7/00007_00045_00001.png  \n",
            "  inflating: train/7/00007_00045_00002.png  \n",
            "  inflating: train/7/00007_00045_00003.png  \n",
            "  inflating: train/7/00007_00045_00004.png  \n",
            "  inflating: train/7/00007_00045_00005.png  \n",
            "  inflating: train/7/00007_00045_00006.png  \n",
            "  inflating: train/7/00007_00045_00007.png  \n",
            "  inflating: train/7/00007_00045_00008.png  \n",
            "  inflating: train/7/00007_00045_00009.png  \n",
            "  inflating: train/7/00007_00045_00010.png  \n",
            "  inflating: train/7/00007_00045_00011.png  \n",
            "  inflating: train/7/00007_00045_00012.png  \n",
            "  inflating: train/7/00007_00045_00013.png  \n",
            "  inflating: train/7/00007_00045_00014.png  \n",
            "  inflating: train/7/00007_00045_00015.png  \n",
            "  inflating: train/7/00007_00045_00016.png  \n",
            "  inflating: train/7/00007_00045_00017.png  \n",
            "  inflating: train/7/00007_00045_00018.png  \n",
            "  inflating: train/7/00007_00045_00019.png  \n",
            "  inflating: train/7/00007_00045_00020.png  \n",
            "  inflating: train/7/00007_00045_00021.png  \n",
            "  inflating: train/7/00007_00045_00022.png  \n",
            "  inflating: train/7/00007_00045_00023.png  \n",
            "  inflating: train/7/00007_00045_00024.png  \n",
            "  inflating: train/7/00007_00045_00025.png  \n",
            "  inflating: train/7/00007_00045_00026.png  \n",
            "  inflating: train/7/00007_00045_00027.png  \n",
            "  inflating: train/7/00007_00045_00028.png  \n",
            "  inflating: train/7/00007_00045_00029.png  \n",
            "  inflating: train/7/00007_00046_00000.png  \n",
            "  inflating: train/7/00007_00046_00001.png  \n",
            "  inflating: train/7/00007_00046_00002.png  \n",
            "  inflating: train/7/00007_00046_00003.png  \n",
            "  inflating: train/7/00007_00046_00004.png  \n",
            "  inflating: train/7/00007_00046_00005.png  \n",
            "  inflating: train/7/00007_00046_00006.png  \n",
            "  inflating: train/7/00007_00046_00007.png  \n",
            "  inflating: train/7/00007_00046_00008.png  \n",
            "  inflating: train/7/00007_00046_00009.png  \n",
            "  inflating: train/7/00007_00046_00010.png  \n",
            "  inflating: train/7/00007_00046_00011.png  \n",
            "  inflating: train/7/00007_00046_00012.png  \n",
            "  inflating: train/7/00007_00046_00013.png  \n",
            "  inflating: train/7/00007_00046_00014.png  \n",
            "  inflating: train/7/00007_00046_00015.png  \n",
            "  inflating: train/7/00007_00046_00016.png  \n",
            "  inflating: train/7/00007_00046_00017.png  \n",
            "  inflating: train/7/00007_00046_00018.png  \n",
            "  inflating: train/7/00007_00046_00019.png  \n",
            "  inflating: train/7/00007_00046_00020.png  \n",
            "  inflating: train/7/00007_00046_00021.png  \n",
            "  inflating: train/7/00007_00046_00022.png  \n",
            "  inflating: train/7/00007_00046_00023.png  \n",
            "  inflating: train/7/00007_00046_00024.png  \n",
            "  inflating: train/7/00007_00046_00025.png  \n",
            "  inflating: train/7/00007_00046_00026.png  \n",
            "  inflating: train/7/00007_00046_00027.png  \n",
            "  inflating: train/7/00007_00046_00028.png  \n",
            "  inflating: train/7/00007_00046_00029.png  \n",
            "  inflating: train/7/00007_00047_00000.png  \n",
            "  inflating: train/7/00007_00047_00001.png  \n",
            "  inflating: train/7/00007_00047_00002.png  \n",
            "  inflating: train/7/00007_00047_00003.png  \n",
            "  inflating: train/7/00007_00047_00004.png  \n",
            "  inflating: train/7/00007_00047_00005.png  \n",
            "  inflating: train/7/00007_00047_00006.png  \n",
            "  inflating: train/7/00007_00047_00007.png  \n",
            "  inflating: train/7/00007_00047_00008.png  \n",
            "  inflating: train/7/00007_00047_00009.png  \n",
            "  inflating: train/7/00007_00047_00010.png  \n",
            "  inflating: train/7/00007_00047_00011.png  \n",
            "  inflating: train/7/00007_00047_00012.png  \n",
            "  inflating: train/7/00007_00047_00013.png  \n",
            "  inflating: train/7/00007_00047_00014.png  \n",
            "  inflating: train/7/00007_00047_00015.png  \n",
            "  inflating: train/7/00007_00047_00016.png  \n",
            "  inflating: train/7/00007_00047_00017.png  \n",
            "  inflating: train/7/00007_00047_00018.png  \n",
            "  inflating: train/7/00007_00047_00019.png  \n",
            "  inflating: train/7/00007_00047_00020.png  \n",
            "  inflating: train/7/00007_00047_00021.png  \n",
            "  inflating: train/7/00007_00047_00022.png  \n",
            "  inflating: train/7/00007_00047_00023.png  \n",
            "  inflating: train/7/00007_00047_00024.png  \n",
            "  inflating: train/7/00007_00047_00025.png  \n",
            "  inflating: train/7/00007_00047_00026.png  \n",
            "  inflating: train/7/00007_00047_00027.png  \n",
            "  inflating: train/7/00007_00047_00028.png  \n",
            "  inflating: train/7/00007_00047_00029.png  \n",
            "  inflating: train/8/00008_00000_00000.png  \n",
            "  inflating: train/8/00008_00000_00001.png  \n",
            "  inflating: train/8/00008_00000_00002.png  \n",
            "  inflating: train/8/00008_00000_00003.png  \n",
            "  inflating: train/8/00008_00000_00004.png  \n",
            "  inflating: train/8/00008_00000_00005.png  \n",
            "  inflating: train/8/00008_00000_00006.png  \n",
            "  inflating: train/8/00008_00000_00007.png  \n",
            "  inflating: train/8/00008_00000_00008.png  \n",
            "  inflating: train/8/00008_00000_00009.png  \n",
            "  inflating: train/8/00008_00000_00010.png  \n",
            "  inflating: train/8/00008_00000_00011.png  \n",
            "  inflating: train/8/00008_00000_00012.png  \n",
            "  inflating: train/8/00008_00000_00013.png  \n",
            "  inflating: train/8/00008_00000_00014.png  \n",
            "  inflating: train/8/00008_00000_00015.png  \n",
            "  inflating: train/8/00008_00000_00016.png  \n",
            "  inflating: train/8/00008_00000_00017.png  \n",
            "  inflating: train/8/00008_00000_00018.png  \n",
            "  inflating: train/8/00008_00000_00019.png  \n",
            "  inflating: train/8/00008_00000_00020.png  \n",
            "  inflating: train/8/00008_00000_00021.png  \n",
            "  inflating: train/8/00008_00000_00022.png  \n",
            "  inflating: train/8/00008_00000_00023.png  \n",
            "  inflating: train/8/00008_00000_00024.png  \n",
            "  inflating: train/8/00008_00000_00025.png  \n",
            "  inflating: train/8/00008_00000_00026.png  \n",
            "  inflating: train/8/00008_00000_00027.png  \n",
            "  inflating: train/8/00008_00000_00028.png  \n",
            "  inflating: train/8/00008_00000_00029.png  \n",
            "  inflating: train/8/00008_00001_00000.png  \n",
            "  inflating: train/8/00008_00001_00001.png  \n",
            "  inflating: train/8/00008_00001_00002.png  \n",
            "  inflating: train/8/00008_00001_00003.png  \n",
            "  inflating: train/8/00008_00001_00004.png  \n",
            "  inflating: train/8/00008_00001_00005.png  \n",
            "  inflating: train/8/00008_00001_00006.png  \n",
            "  inflating: train/8/00008_00001_00007.png  \n",
            "  inflating: train/8/00008_00001_00008.png  \n",
            "  inflating: train/8/00008_00001_00009.png  \n",
            "  inflating: train/8/00008_00001_00010.png  \n",
            "  inflating: train/8/00008_00001_00011.png  \n",
            "  inflating: train/8/00008_00001_00012.png  \n",
            "  inflating: train/8/00008_00001_00013.png  \n",
            "  inflating: train/8/00008_00001_00014.png  \n",
            "  inflating: train/8/00008_00001_00015.png  \n",
            "  inflating: train/8/00008_00001_00016.png  \n",
            "  inflating: train/8/00008_00001_00017.png  \n",
            "  inflating: train/8/00008_00001_00018.png  \n",
            "  inflating: train/8/00008_00001_00019.png  \n",
            "  inflating: train/8/00008_00001_00020.png  \n",
            "  inflating: train/8/00008_00001_00021.png  \n",
            "  inflating: train/8/00008_00001_00022.png  \n",
            "  inflating: train/8/00008_00001_00023.png  \n",
            "  inflating: train/8/00008_00001_00024.png  \n",
            "  inflating: train/8/00008_00001_00025.png  \n",
            "  inflating: train/8/00008_00001_00026.png  \n",
            "  inflating: train/8/00008_00001_00027.png  \n",
            "  inflating: train/8/00008_00001_00028.png  \n",
            "  inflating: train/8/00008_00001_00029.png  \n",
            "  inflating: train/8/00008_00002_00000.png  \n",
            "  inflating: train/8/00008_00002_00001.png  \n",
            "  inflating: train/8/00008_00002_00002.png  \n",
            "  inflating: train/8/00008_00002_00003.png  \n",
            "  inflating: train/8/00008_00002_00004.png  \n",
            "  inflating: train/8/00008_00002_00005.png  \n",
            "  inflating: train/8/00008_00002_00006.png  \n",
            "  inflating: train/8/00008_00002_00007.png  \n",
            "  inflating: train/8/00008_00002_00008.png  \n",
            "  inflating: train/8/00008_00002_00009.png  \n",
            "  inflating: train/8/00008_00002_00010.png  \n",
            "  inflating: train/8/00008_00002_00011.png  \n",
            "  inflating: train/8/00008_00002_00012.png  \n",
            "  inflating: train/8/00008_00002_00013.png  \n",
            "  inflating: train/8/00008_00002_00014.png  \n",
            "  inflating: train/8/00008_00002_00015.png  \n",
            "  inflating: train/8/00008_00002_00016.png  \n",
            "  inflating: train/8/00008_00002_00017.png  \n",
            "  inflating: train/8/00008_00002_00018.png  \n",
            "  inflating: train/8/00008_00002_00019.png  \n",
            "  inflating: train/8/00008_00002_00020.png  \n",
            "  inflating: train/8/00008_00002_00021.png  \n",
            "  inflating: train/8/00008_00002_00022.png  \n",
            "  inflating: train/8/00008_00002_00023.png  \n",
            "  inflating: train/8/00008_00002_00024.png  \n",
            "  inflating: train/8/00008_00002_00025.png  \n",
            "  inflating: train/8/00008_00002_00026.png  \n",
            "  inflating: train/8/00008_00002_00027.png  \n",
            "  inflating: train/8/00008_00002_00028.png  \n",
            "  inflating: train/8/00008_00002_00029.png  \n",
            "  inflating: train/8/00008_00003_00000.png  \n",
            "  inflating: train/8/00008_00003_00001.png  \n",
            "  inflating: train/8/00008_00003_00002.png  \n",
            "  inflating: train/8/00008_00003_00003.png  \n",
            "  inflating: train/8/00008_00003_00004.png  \n",
            "  inflating: train/8/00008_00003_00005.png  \n",
            "  inflating: train/8/00008_00003_00006.png  \n",
            "  inflating: train/8/00008_00003_00007.png  \n",
            "  inflating: train/8/00008_00003_00008.png  \n",
            "  inflating: train/8/00008_00003_00009.png  \n",
            "  inflating: train/8/00008_00003_00010.png  \n",
            "  inflating: train/8/00008_00003_00011.png  \n",
            "  inflating: train/8/00008_00003_00012.png  \n",
            "  inflating: train/8/00008_00003_00013.png  \n",
            "  inflating: train/8/00008_00003_00014.png  \n",
            "  inflating: train/8/00008_00003_00015.png  \n",
            "  inflating: train/8/00008_00003_00016.png  \n",
            "  inflating: train/8/00008_00003_00017.png  \n",
            "  inflating: train/8/00008_00003_00018.png  \n",
            "  inflating: train/8/00008_00003_00019.png  \n",
            "  inflating: train/8/00008_00003_00020.png  \n",
            "  inflating: train/8/00008_00003_00021.png  \n",
            "  inflating: train/8/00008_00003_00022.png  \n",
            "  inflating: train/8/00008_00003_00023.png  \n",
            "  inflating: train/8/00008_00003_00024.png  \n",
            "  inflating: train/8/00008_00003_00025.png  \n",
            "  inflating: train/8/00008_00003_00026.png  \n",
            "  inflating: train/8/00008_00003_00027.png  \n",
            "  inflating: train/8/00008_00003_00028.png  \n",
            "  inflating: train/8/00008_00003_00029.png  \n",
            "  inflating: train/8/00008_00004_00000.png  \n",
            "  inflating: train/8/00008_00004_00001.png  \n",
            "  inflating: train/8/00008_00004_00002.png  \n",
            "  inflating: train/8/00008_00004_00003.png  \n",
            "  inflating: train/8/00008_00004_00004.png  \n",
            "  inflating: train/8/00008_00004_00005.png  \n",
            "  inflating: train/8/00008_00004_00006.png  \n",
            "  inflating: train/8/00008_00004_00007.png  \n",
            "  inflating: train/8/00008_00004_00008.png  \n",
            "  inflating: train/8/00008_00004_00009.png  \n",
            "  inflating: train/8/00008_00004_00010.png  \n",
            "  inflating: train/8/00008_00004_00011.png  \n",
            "  inflating: train/8/00008_00004_00012.png  \n",
            "  inflating: train/8/00008_00004_00013.png  \n",
            "  inflating: train/8/00008_00004_00014.png  \n",
            "  inflating: train/8/00008_00004_00015.png  \n",
            "  inflating: train/8/00008_00004_00016.png  \n",
            "  inflating: train/8/00008_00004_00017.png  \n",
            "  inflating: train/8/00008_00004_00018.png  \n",
            "  inflating: train/8/00008_00004_00019.png  \n",
            "  inflating: train/8/00008_00004_00020.png  \n",
            "  inflating: train/8/00008_00004_00021.png  \n",
            "  inflating: train/8/00008_00004_00022.png  \n",
            "  inflating: train/8/00008_00004_00023.png  \n",
            "  inflating: train/8/00008_00004_00024.png  \n",
            "  inflating: train/8/00008_00004_00025.png  \n",
            "  inflating: train/8/00008_00004_00026.png  \n",
            "  inflating: train/8/00008_00004_00027.png  \n",
            "  inflating: train/8/00008_00004_00028.png  \n",
            "  inflating: train/8/00008_00004_00029.png  \n",
            "  inflating: train/8/00008_00005_00000.png  \n",
            "  inflating: train/8/00008_00005_00001.png  \n",
            "  inflating: train/8/00008_00005_00002.png  \n",
            "  inflating: train/8/00008_00005_00003.png  \n",
            "  inflating: train/8/00008_00005_00004.png  \n",
            "  inflating: train/8/00008_00005_00005.png  \n",
            "  inflating: train/8/00008_00005_00006.png  \n",
            "  inflating: train/8/00008_00005_00007.png  \n",
            "  inflating: train/8/00008_00005_00008.png  \n",
            "  inflating: train/8/00008_00005_00009.png  \n",
            "  inflating: train/8/00008_00005_00010.png  \n",
            "  inflating: train/8/00008_00005_00011.png  \n",
            "  inflating: train/8/00008_00005_00012.png  \n",
            "  inflating: train/8/00008_00005_00013.png  \n",
            "  inflating: train/8/00008_00005_00014.png  \n",
            "  inflating: train/8/00008_00005_00015.png  \n",
            "  inflating: train/8/00008_00005_00016.png  \n",
            "  inflating: train/8/00008_00005_00017.png  \n",
            "  inflating: train/8/00008_00005_00018.png  \n",
            "  inflating: train/8/00008_00005_00019.png  \n",
            "  inflating: train/8/00008_00005_00020.png  \n",
            "  inflating: train/8/00008_00005_00021.png  \n",
            "  inflating: train/8/00008_00005_00022.png  \n",
            "  inflating: train/8/00008_00005_00023.png  \n",
            "  inflating: train/8/00008_00005_00024.png  \n",
            "  inflating: train/8/00008_00005_00025.png  \n",
            "  inflating: train/8/00008_00005_00026.png  \n",
            "  inflating: train/8/00008_00005_00027.png  \n",
            "  inflating: train/8/00008_00005_00028.png  \n",
            "  inflating: train/8/00008_00005_00029.png  \n",
            "  inflating: train/8/00008_00006_00000.png  \n",
            "  inflating: train/8/00008_00006_00001.png  \n",
            "  inflating: train/8/00008_00006_00002.png  \n",
            "  inflating: train/8/00008_00006_00003.png  \n",
            "  inflating: train/8/00008_00006_00004.png  \n",
            "  inflating: train/8/00008_00006_00005.png  \n",
            "  inflating: train/8/00008_00006_00006.png  \n",
            "  inflating: train/8/00008_00006_00007.png  \n",
            "  inflating: train/8/00008_00006_00008.png  \n",
            "  inflating: train/8/00008_00006_00009.png  \n",
            "  inflating: train/8/00008_00006_00010.png  \n",
            "  inflating: train/8/00008_00006_00011.png  \n",
            "  inflating: train/8/00008_00006_00012.png  \n",
            "  inflating: train/8/00008_00006_00013.png  \n",
            "  inflating: train/8/00008_00006_00014.png  \n",
            "  inflating: train/8/00008_00006_00015.png  \n",
            "  inflating: train/8/00008_00006_00016.png  \n",
            "  inflating: train/8/00008_00006_00017.png  \n",
            "  inflating: train/8/00008_00006_00018.png  \n",
            "  inflating: train/8/00008_00006_00019.png  \n",
            "  inflating: train/8/00008_00006_00020.png  \n",
            "  inflating: train/8/00008_00006_00021.png  \n",
            "  inflating: train/8/00008_00006_00022.png  \n",
            "  inflating: train/8/00008_00006_00023.png  \n",
            "  inflating: train/8/00008_00006_00024.png  \n",
            "  inflating: train/8/00008_00006_00025.png  \n",
            "  inflating: train/8/00008_00006_00026.png  \n",
            "  inflating: train/8/00008_00006_00027.png  \n",
            "  inflating: train/8/00008_00006_00028.png  \n",
            "  inflating: train/8/00008_00006_00029.png  \n",
            "  inflating: train/8/00008_00007_00000.png  \n",
            "  inflating: train/8/00008_00007_00001.png  \n",
            "  inflating: train/8/00008_00007_00002.png  \n",
            "  inflating: train/8/00008_00007_00003.png  \n",
            "  inflating: train/8/00008_00007_00004.png  \n",
            "  inflating: train/8/00008_00007_00005.png  \n",
            "  inflating: train/8/00008_00007_00006.png  \n",
            "  inflating: train/8/00008_00007_00007.png  \n",
            "  inflating: train/8/00008_00007_00008.png  \n",
            "  inflating: train/8/00008_00007_00009.png  \n",
            "  inflating: train/8/00008_00007_00010.png  \n",
            "  inflating: train/8/00008_00007_00011.png  \n",
            "  inflating: train/8/00008_00007_00012.png  \n",
            "  inflating: train/8/00008_00007_00013.png  \n",
            "  inflating: train/8/00008_00007_00014.png  \n",
            "  inflating: train/8/00008_00007_00015.png  \n",
            "  inflating: train/8/00008_00007_00016.png  \n",
            "  inflating: train/8/00008_00007_00017.png  \n",
            "  inflating: train/8/00008_00007_00018.png  \n",
            "  inflating: train/8/00008_00007_00019.png  \n",
            "  inflating: train/8/00008_00007_00020.png  \n",
            "  inflating: train/8/00008_00007_00021.png  \n",
            "  inflating: train/8/00008_00007_00022.png  \n",
            "  inflating: train/8/00008_00007_00023.png  \n",
            "  inflating: train/8/00008_00007_00024.png  \n",
            "  inflating: train/8/00008_00007_00025.png  \n",
            "  inflating: train/8/00008_00007_00026.png  \n",
            "  inflating: train/8/00008_00007_00027.png  \n",
            "  inflating: train/8/00008_00007_00028.png  \n",
            "  inflating: train/8/00008_00007_00029.png  \n",
            "  inflating: train/8/00008_00008_00000.png  \n",
            "  inflating: train/8/00008_00008_00001.png  \n",
            "  inflating: train/8/00008_00008_00002.png  \n",
            "  inflating: train/8/00008_00008_00003.png  \n",
            "  inflating: train/8/00008_00008_00004.png  \n",
            "  inflating: train/8/00008_00008_00005.png  \n",
            "  inflating: train/8/00008_00008_00006.png  \n",
            "  inflating: train/8/00008_00008_00007.png  \n",
            "  inflating: train/8/00008_00008_00008.png  \n",
            "  inflating: train/8/00008_00008_00009.png  \n",
            "  inflating: train/8/00008_00008_00010.png  \n",
            "  inflating: train/8/00008_00008_00011.png  \n",
            "  inflating: train/8/00008_00008_00012.png  \n",
            "  inflating: train/8/00008_00008_00013.png  \n",
            "  inflating: train/8/00008_00008_00014.png  \n",
            "  inflating: train/8/00008_00008_00015.png  \n",
            "  inflating: train/8/00008_00008_00016.png  \n",
            "  inflating: train/8/00008_00008_00017.png  \n",
            "  inflating: train/8/00008_00008_00018.png  \n",
            "  inflating: train/8/00008_00008_00019.png  \n",
            "  inflating: train/8/00008_00008_00020.png  \n",
            "  inflating: train/8/00008_00008_00021.png  \n",
            "  inflating: train/8/00008_00008_00022.png  \n",
            "  inflating: train/8/00008_00008_00023.png  \n",
            "  inflating: train/8/00008_00008_00024.png  \n",
            "  inflating: train/8/00008_00008_00025.png  \n",
            "  inflating: train/8/00008_00008_00026.png  \n",
            "  inflating: train/8/00008_00008_00027.png  \n",
            "  inflating: train/8/00008_00008_00028.png  \n",
            "  inflating: train/8/00008_00008_00029.png  \n",
            "  inflating: train/8/00008_00009_00000.png  \n",
            "  inflating: train/8/00008_00009_00001.png  \n",
            "  inflating: train/8/00008_00009_00002.png  \n",
            "  inflating: train/8/00008_00009_00003.png  \n",
            "  inflating: train/8/00008_00009_00004.png  \n",
            "  inflating: train/8/00008_00009_00005.png  \n",
            "  inflating: train/8/00008_00009_00006.png  \n",
            "  inflating: train/8/00008_00009_00007.png  \n",
            "  inflating: train/8/00008_00009_00008.png  \n",
            "  inflating: train/8/00008_00009_00009.png  \n",
            "  inflating: train/8/00008_00009_00010.png  \n",
            "  inflating: train/8/00008_00009_00011.png  \n",
            "  inflating: train/8/00008_00009_00012.png  \n",
            "  inflating: train/8/00008_00009_00013.png  \n",
            "  inflating: train/8/00008_00009_00014.png  \n",
            "  inflating: train/8/00008_00009_00015.png  \n",
            "  inflating: train/8/00008_00009_00016.png  \n",
            "  inflating: train/8/00008_00009_00017.png  \n",
            "  inflating: train/8/00008_00009_00018.png  \n",
            "  inflating: train/8/00008_00009_00019.png  \n",
            "  inflating: train/8/00008_00009_00020.png  \n",
            "  inflating: train/8/00008_00009_00021.png  \n",
            "  inflating: train/8/00008_00009_00022.png  \n",
            "  inflating: train/8/00008_00009_00023.png  \n",
            "  inflating: train/8/00008_00009_00024.png  \n",
            "  inflating: train/8/00008_00009_00025.png  \n",
            "  inflating: train/8/00008_00009_00026.png  \n",
            "  inflating: train/8/00008_00009_00027.png  \n",
            "  inflating: train/8/00008_00009_00028.png  \n",
            "  inflating: train/8/00008_00009_00029.png  \n",
            "  inflating: train/8/00008_00010_00000.png  \n",
            "  inflating: train/8/00008_00010_00001.png  \n",
            "  inflating: train/8/00008_00010_00002.png  \n",
            "  inflating: train/8/00008_00010_00003.png  \n",
            "  inflating: train/8/00008_00010_00004.png  \n",
            "  inflating: train/8/00008_00010_00005.png  \n",
            "  inflating: train/8/00008_00010_00006.png  \n",
            "  inflating: train/8/00008_00010_00007.png  \n",
            "  inflating: train/8/00008_00010_00008.png  \n",
            "  inflating: train/8/00008_00010_00009.png  \n",
            "  inflating: train/8/00008_00010_00010.png  \n",
            "  inflating: train/8/00008_00010_00011.png  \n",
            "  inflating: train/8/00008_00010_00012.png  \n",
            "  inflating: train/8/00008_00010_00013.png  \n",
            "  inflating: train/8/00008_00010_00014.png  \n",
            "  inflating: train/8/00008_00010_00015.png  \n",
            "  inflating: train/8/00008_00010_00016.png  \n",
            "  inflating: train/8/00008_00010_00017.png  \n",
            "  inflating: train/8/00008_00010_00018.png  \n",
            "  inflating: train/8/00008_00010_00019.png  \n",
            "  inflating: train/8/00008_00010_00020.png  \n",
            "  inflating: train/8/00008_00010_00021.png  \n",
            "  inflating: train/8/00008_00010_00022.png  \n",
            "  inflating: train/8/00008_00010_00023.png  \n",
            "  inflating: train/8/00008_00010_00024.png  \n",
            "  inflating: train/8/00008_00010_00025.png  \n",
            "  inflating: train/8/00008_00010_00026.png  \n",
            "  inflating: train/8/00008_00010_00027.png  \n",
            "  inflating: train/8/00008_00010_00028.png  \n",
            "  inflating: train/8/00008_00010_00029.png  \n",
            "  inflating: train/8/00008_00011_00000.png  \n",
            "  inflating: train/8/00008_00011_00001.png  \n",
            "  inflating: train/8/00008_00011_00002.png  \n",
            "  inflating: train/8/00008_00011_00003.png  \n",
            "  inflating: train/8/00008_00011_00004.png  \n",
            "  inflating: train/8/00008_00011_00005.png  \n",
            "  inflating: train/8/00008_00011_00006.png  \n",
            "  inflating: train/8/00008_00011_00007.png  \n",
            "  inflating: train/8/00008_00011_00008.png  \n",
            "  inflating: train/8/00008_00011_00009.png  \n",
            "  inflating: train/8/00008_00011_00010.png  \n",
            "  inflating: train/8/00008_00011_00011.png  \n",
            "  inflating: train/8/00008_00011_00012.png  \n",
            "  inflating: train/8/00008_00011_00013.png  \n",
            "  inflating: train/8/00008_00011_00014.png  \n",
            "  inflating: train/8/00008_00011_00015.png  \n",
            "  inflating: train/8/00008_00011_00016.png  \n",
            "  inflating: train/8/00008_00011_00017.png  \n",
            "  inflating: train/8/00008_00011_00018.png  \n",
            "  inflating: train/8/00008_00011_00019.png  \n",
            "  inflating: train/8/00008_00011_00020.png  \n",
            "  inflating: train/8/00008_00011_00021.png  \n",
            "  inflating: train/8/00008_00011_00022.png  \n",
            "  inflating: train/8/00008_00011_00023.png  \n",
            "  inflating: train/8/00008_00011_00024.png  \n",
            "  inflating: train/8/00008_00011_00025.png  \n",
            "  inflating: train/8/00008_00011_00026.png  \n",
            "  inflating: train/8/00008_00011_00027.png  \n",
            "  inflating: train/8/00008_00011_00028.png  \n",
            "  inflating: train/8/00008_00011_00029.png  \n",
            "  inflating: train/8/00008_00012_00000.png  \n",
            "  inflating: train/8/00008_00012_00001.png  \n",
            "  inflating: train/8/00008_00012_00002.png  \n",
            "  inflating: train/8/00008_00012_00003.png  \n",
            "  inflating: train/8/00008_00012_00004.png  \n",
            "  inflating: train/8/00008_00012_00005.png  \n",
            "  inflating: train/8/00008_00012_00006.png  \n",
            "  inflating: train/8/00008_00012_00007.png  \n",
            "  inflating: train/8/00008_00012_00008.png  \n",
            "  inflating: train/8/00008_00012_00009.png  \n",
            "  inflating: train/8/00008_00012_00010.png  \n",
            "  inflating: train/8/00008_00012_00011.png  \n",
            "  inflating: train/8/00008_00012_00012.png  \n",
            "  inflating: train/8/00008_00012_00013.png  \n",
            "  inflating: train/8/00008_00012_00014.png  \n",
            "  inflating: train/8/00008_00012_00015.png  \n",
            "  inflating: train/8/00008_00012_00016.png  \n",
            "  inflating: train/8/00008_00012_00017.png  \n",
            "  inflating: train/8/00008_00012_00018.png  \n",
            "  inflating: train/8/00008_00012_00019.png  \n",
            "  inflating: train/8/00008_00012_00020.png  \n",
            "  inflating: train/8/00008_00012_00021.png  \n",
            "  inflating: train/8/00008_00012_00022.png  \n",
            "  inflating: train/8/00008_00012_00023.png  \n",
            "  inflating: train/8/00008_00012_00024.png  \n",
            "  inflating: train/8/00008_00012_00025.png  \n",
            "  inflating: train/8/00008_00012_00026.png  \n",
            "  inflating: train/8/00008_00012_00027.png  \n",
            "  inflating: train/8/00008_00012_00028.png  \n",
            "  inflating: train/8/00008_00012_00029.png  \n",
            "  inflating: train/8/00008_00013_00000.png  \n",
            "  inflating: train/8/00008_00013_00001.png  \n",
            "  inflating: train/8/00008_00013_00002.png  \n",
            "  inflating: train/8/00008_00013_00003.png  \n",
            "  inflating: train/8/00008_00013_00004.png  \n",
            "  inflating: train/8/00008_00013_00005.png  \n",
            "  inflating: train/8/00008_00013_00006.png  \n",
            "  inflating: train/8/00008_00013_00007.png  \n",
            "  inflating: train/8/00008_00013_00008.png  \n",
            "  inflating: train/8/00008_00013_00009.png  \n",
            "  inflating: train/8/00008_00013_00010.png  \n",
            "  inflating: train/8/00008_00013_00011.png  \n",
            "  inflating: train/8/00008_00013_00012.png  \n",
            "  inflating: train/8/00008_00013_00013.png  \n",
            "  inflating: train/8/00008_00013_00014.png  \n",
            "  inflating: train/8/00008_00013_00015.png  \n",
            "  inflating: train/8/00008_00013_00016.png  \n",
            "  inflating: train/8/00008_00013_00017.png  \n",
            "  inflating: train/8/00008_00013_00018.png  \n",
            "  inflating: train/8/00008_00013_00019.png  \n",
            "  inflating: train/8/00008_00013_00020.png  \n",
            "  inflating: train/8/00008_00013_00021.png  \n",
            "  inflating: train/8/00008_00013_00022.png  \n",
            "  inflating: train/8/00008_00013_00023.png  \n",
            "  inflating: train/8/00008_00013_00024.png  \n",
            "  inflating: train/8/00008_00013_00025.png  \n",
            "  inflating: train/8/00008_00013_00026.png  \n",
            "  inflating: train/8/00008_00013_00027.png  \n",
            "  inflating: train/8/00008_00013_00028.png  \n",
            "  inflating: train/8/00008_00013_00029.png  \n",
            "  inflating: train/8/00008_00014_00000.png  \n",
            "  inflating: train/8/00008_00014_00001.png  \n",
            "  inflating: train/8/00008_00014_00002.png  \n",
            "  inflating: train/8/00008_00014_00003.png  \n",
            "  inflating: train/8/00008_00014_00004.png  \n",
            "  inflating: train/8/00008_00014_00005.png  \n",
            "  inflating: train/8/00008_00014_00006.png  \n",
            "  inflating: train/8/00008_00014_00007.png  \n",
            "  inflating: train/8/00008_00014_00008.png  \n",
            "  inflating: train/8/00008_00014_00009.png  \n",
            "  inflating: train/8/00008_00014_00010.png  \n",
            "  inflating: train/8/00008_00014_00011.png  \n",
            "  inflating: train/8/00008_00014_00012.png  \n",
            "  inflating: train/8/00008_00014_00013.png  \n",
            "  inflating: train/8/00008_00014_00014.png  \n",
            "  inflating: train/8/00008_00014_00015.png  \n",
            "  inflating: train/8/00008_00014_00016.png  \n",
            "  inflating: train/8/00008_00014_00017.png  \n",
            "  inflating: train/8/00008_00014_00018.png  \n",
            "  inflating: train/8/00008_00014_00019.png  \n",
            "  inflating: train/8/00008_00014_00020.png  \n",
            "  inflating: train/8/00008_00014_00021.png  \n",
            "  inflating: train/8/00008_00014_00022.png  \n",
            "  inflating: train/8/00008_00014_00023.png  \n",
            "  inflating: train/8/00008_00014_00024.png  \n",
            "  inflating: train/8/00008_00014_00025.png  \n",
            "  inflating: train/8/00008_00014_00026.png  \n",
            "  inflating: train/8/00008_00014_00027.png  \n",
            "  inflating: train/8/00008_00014_00028.png  \n",
            "  inflating: train/8/00008_00014_00029.png  \n",
            "  inflating: train/8/00008_00015_00000.png  \n",
            "  inflating: train/8/00008_00015_00001.png  \n",
            "  inflating: train/8/00008_00015_00002.png  \n",
            "  inflating: train/8/00008_00015_00003.png  \n",
            "  inflating: train/8/00008_00015_00004.png  \n",
            "  inflating: train/8/00008_00015_00005.png  \n",
            "  inflating: train/8/00008_00015_00006.png  \n",
            "  inflating: train/8/00008_00015_00007.png  \n",
            "  inflating: train/8/00008_00015_00008.png  \n",
            "  inflating: train/8/00008_00015_00009.png  \n",
            "  inflating: train/8/00008_00015_00010.png  \n",
            "  inflating: train/8/00008_00015_00011.png  \n",
            "  inflating: train/8/00008_00015_00012.png  \n",
            "  inflating: train/8/00008_00015_00013.png  \n",
            "  inflating: train/8/00008_00015_00014.png  \n",
            "  inflating: train/8/00008_00015_00015.png  \n",
            "  inflating: train/8/00008_00015_00016.png  \n",
            "  inflating: train/8/00008_00015_00017.png  \n",
            "  inflating: train/8/00008_00015_00018.png  \n",
            "  inflating: train/8/00008_00015_00019.png  \n",
            "  inflating: train/8/00008_00015_00020.png  \n",
            "  inflating: train/8/00008_00015_00021.png  \n",
            "  inflating: train/8/00008_00015_00022.png  \n",
            "  inflating: train/8/00008_00015_00023.png  \n",
            "  inflating: train/8/00008_00015_00024.png  \n",
            "  inflating: train/8/00008_00015_00025.png  \n",
            "  inflating: train/8/00008_00015_00026.png  \n",
            "  inflating: train/8/00008_00015_00027.png  \n",
            "  inflating: train/8/00008_00015_00028.png  \n",
            "  inflating: train/8/00008_00015_00029.png  \n",
            "  inflating: train/8/00008_00016_00000.png  \n",
            "  inflating: train/8/00008_00016_00001.png  \n",
            "  inflating: train/8/00008_00016_00002.png  \n",
            "  inflating: train/8/00008_00016_00003.png  \n",
            "  inflating: train/8/00008_00016_00004.png  \n",
            "  inflating: train/8/00008_00016_00005.png  \n",
            "  inflating: train/8/00008_00016_00006.png  \n",
            "  inflating: train/8/00008_00016_00007.png  \n",
            "  inflating: train/8/00008_00016_00008.png  \n",
            "  inflating: train/8/00008_00016_00009.png  \n",
            "  inflating: train/8/00008_00016_00010.png  \n",
            "  inflating: train/8/00008_00016_00011.png  \n",
            "  inflating: train/8/00008_00016_00012.png  \n",
            "  inflating: train/8/00008_00016_00013.png  \n",
            "  inflating: train/8/00008_00016_00014.png  \n",
            "  inflating: train/8/00008_00016_00015.png  \n",
            "  inflating: train/8/00008_00016_00016.png  \n",
            "  inflating: train/8/00008_00016_00017.png  \n",
            "  inflating: train/8/00008_00016_00018.png  \n",
            "  inflating: train/8/00008_00016_00019.png  \n",
            "  inflating: train/8/00008_00016_00020.png  \n",
            "  inflating: train/8/00008_00016_00021.png  \n",
            "  inflating: train/8/00008_00016_00022.png  \n",
            "  inflating: train/8/00008_00016_00023.png  \n",
            "  inflating: train/8/00008_00016_00024.png  \n",
            "  inflating: train/8/00008_00016_00025.png  \n",
            "  inflating: train/8/00008_00016_00026.png  \n",
            "  inflating: train/8/00008_00016_00027.png  \n",
            "  inflating: train/8/00008_00016_00028.png  \n",
            "  inflating: train/8/00008_00016_00029.png  \n",
            "  inflating: train/8/00008_00017_00000.png  \n",
            "  inflating: train/8/00008_00017_00001.png  \n",
            "  inflating: train/8/00008_00017_00002.png  \n",
            "  inflating: train/8/00008_00017_00003.png  \n",
            "  inflating: train/8/00008_00017_00004.png  \n",
            "  inflating: train/8/00008_00017_00005.png  \n",
            "  inflating: train/8/00008_00017_00006.png  \n",
            "  inflating: train/8/00008_00017_00007.png  \n",
            "  inflating: train/8/00008_00017_00008.png  \n",
            "  inflating: train/8/00008_00017_00009.png  \n",
            "  inflating: train/8/00008_00017_00010.png  \n",
            "  inflating: train/8/00008_00017_00011.png  \n",
            "  inflating: train/8/00008_00017_00012.png  \n",
            "  inflating: train/8/00008_00017_00013.png  \n",
            "  inflating: train/8/00008_00017_00014.png  \n",
            "  inflating: train/8/00008_00017_00015.png  \n",
            "  inflating: train/8/00008_00017_00016.png  \n",
            "  inflating: train/8/00008_00017_00017.png  \n",
            "  inflating: train/8/00008_00017_00018.png  \n",
            "  inflating: train/8/00008_00017_00019.png  \n",
            "  inflating: train/8/00008_00017_00020.png  \n",
            "  inflating: train/8/00008_00017_00021.png  \n",
            "  inflating: train/8/00008_00017_00022.png  \n",
            "  inflating: train/8/00008_00017_00023.png  \n",
            "  inflating: train/8/00008_00017_00024.png  \n",
            "  inflating: train/8/00008_00017_00025.png  \n",
            "  inflating: train/8/00008_00017_00026.png  \n",
            "  inflating: train/8/00008_00017_00027.png  \n",
            "  inflating: train/8/00008_00017_00028.png  \n",
            "  inflating: train/8/00008_00017_00029.png  \n",
            "  inflating: train/8/00008_00018_00000.png  \n",
            "  inflating: train/8/00008_00018_00001.png  \n",
            "  inflating: train/8/00008_00018_00002.png  \n",
            "  inflating: train/8/00008_00018_00003.png  \n",
            "  inflating: train/8/00008_00018_00004.png  \n",
            "  inflating: train/8/00008_00018_00005.png  \n",
            "  inflating: train/8/00008_00018_00006.png  \n",
            "  inflating: train/8/00008_00018_00007.png  \n",
            "  inflating: train/8/00008_00018_00008.png  \n",
            "  inflating: train/8/00008_00018_00009.png  \n",
            "  inflating: train/8/00008_00018_00010.png  \n",
            "  inflating: train/8/00008_00018_00011.png  \n",
            "  inflating: train/8/00008_00018_00012.png  \n",
            "  inflating: train/8/00008_00018_00013.png  \n",
            "  inflating: train/8/00008_00018_00014.png  \n",
            "  inflating: train/8/00008_00018_00015.png  \n",
            "  inflating: train/8/00008_00018_00016.png  \n",
            "  inflating: train/8/00008_00018_00017.png  \n",
            "  inflating: train/8/00008_00018_00018.png  \n",
            "  inflating: train/8/00008_00018_00019.png  \n",
            "  inflating: train/8/00008_00018_00020.png  \n",
            "  inflating: train/8/00008_00018_00021.png  \n",
            "  inflating: train/8/00008_00018_00022.png  \n",
            "  inflating: train/8/00008_00018_00023.png  \n",
            "  inflating: train/8/00008_00018_00024.png  \n",
            "  inflating: train/8/00008_00018_00025.png  \n",
            "  inflating: train/8/00008_00018_00026.png  \n",
            "  inflating: train/8/00008_00018_00027.png  \n",
            "  inflating: train/8/00008_00018_00028.png  \n",
            "  inflating: train/8/00008_00018_00029.png  \n",
            "  inflating: train/8/00008_00019_00000.png  \n",
            "  inflating: train/8/00008_00019_00001.png  \n",
            "  inflating: train/8/00008_00019_00002.png  \n",
            "  inflating: train/8/00008_00019_00003.png  \n",
            "  inflating: train/8/00008_00019_00004.png  \n",
            "  inflating: train/8/00008_00019_00005.png  \n",
            "  inflating: train/8/00008_00019_00006.png  \n",
            "  inflating: train/8/00008_00019_00007.png  \n",
            "  inflating: train/8/00008_00019_00008.png  \n",
            "  inflating: train/8/00008_00019_00009.png  \n",
            "  inflating: train/8/00008_00019_00010.png  \n",
            "  inflating: train/8/00008_00019_00011.png  \n",
            "  inflating: train/8/00008_00019_00012.png  \n",
            "  inflating: train/8/00008_00019_00013.png  \n",
            "  inflating: train/8/00008_00019_00014.png  \n",
            "  inflating: train/8/00008_00019_00015.png  \n",
            "  inflating: train/8/00008_00019_00016.png  \n",
            "  inflating: train/8/00008_00019_00017.png  \n",
            "  inflating: train/8/00008_00019_00018.png  \n",
            "  inflating: train/8/00008_00019_00019.png  \n",
            "  inflating: train/8/00008_00019_00020.png  \n",
            "  inflating: train/8/00008_00019_00021.png  \n",
            "  inflating: train/8/00008_00019_00022.png  \n",
            "  inflating: train/8/00008_00019_00023.png  \n",
            "  inflating: train/8/00008_00019_00024.png  \n",
            "  inflating: train/8/00008_00019_00025.png  \n",
            "  inflating: train/8/00008_00019_00026.png  \n",
            "  inflating: train/8/00008_00019_00027.png  \n",
            "  inflating: train/8/00008_00019_00028.png  \n",
            "  inflating: train/8/00008_00019_00029.png  \n",
            "  inflating: train/8/00008_00020_00000.png  \n",
            "  inflating: train/8/00008_00020_00001.png  \n",
            "  inflating: train/8/00008_00020_00002.png  \n",
            "  inflating: train/8/00008_00020_00003.png  \n",
            "  inflating: train/8/00008_00020_00004.png  \n",
            "  inflating: train/8/00008_00020_00005.png  \n",
            "  inflating: train/8/00008_00020_00006.png  \n",
            "  inflating: train/8/00008_00020_00007.png  \n",
            "  inflating: train/8/00008_00020_00008.png  \n",
            "  inflating: train/8/00008_00020_00009.png  \n",
            "  inflating: train/8/00008_00020_00010.png  \n",
            "  inflating: train/8/00008_00020_00011.png  \n",
            "  inflating: train/8/00008_00020_00012.png  \n",
            "  inflating: train/8/00008_00020_00013.png  \n",
            "  inflating: train/8/00008_00020_00014.png  \n",
            "  inflating: train/8/00008_00020_00015.png  \n",
            "  inflating: train/8/00008_00020_00016.png  \n",
            "  inflating: train/8/00008_00020_00017.png  \n",
            "  inflating: train/8/00008_00020_00018.png  \n",
            "  inflating: train/8/00008_00020_00019.png  \n",
            "  inflating: train/8/00008_00020_00020.png  \n",
            "  inflating: train/8/00008_00020_00021.png  \n",
            "  inflating: train/8/00008_00020_00022.png  \n",
            "  inflating: train/8/00008_00020_00023.png  \n",
            "  inflating: train/8/00008_00020_00024.png  \n",
            "  inflating: train/8/00008_00020_00025.png  \n",
            "  inflating: train/8/00008_00020_00026.png  \n",
            "  inflating: train/8/00008_00020_00027.png  \n",
            "  inflating: train/8/00008_00020_00028.png  \n",
            "  inflating: train/8/00008_00020_00029.png  \n",
            "  inflating: train/8/00008_00021_00000.png  \n",
            "  inflating: train/8/00008_00021_00001.png  \n",
            "  inflating: train/8/00008_00021_00002.png  \n",
            "  inflating: train/8/00008_00021_00003.png  \n",
            "  inflating: train/8/00008_00021_00004.png  \n",
            "  inflating: train/8/00008_00021_00005.png  \n",
            "  inflating: train/8/00008_00021_00006.png  \n",
            "  inflating: train/8/00008_00021_00007.png  \n",
            "  inflating: train/8/00008_00021_00008.png  \n",
            "  inflating: train/8/00008_00021_00009.png  \n",
            "  inflating: train/8/00008_00021_00010.png  \n",
            "  inflating: train/8/00008_00021_00011.png  \n",
            "  inflating: train/8/00008_00021_00012.png  \n",
            "  inflating: train/8/00008_00021_00013.png  \n",
            "  inflating: train/8/00008_00021_00014.png  \n",
            "  inflating: train/8/00008_00021_00015.png  \n",
            "  inflating: train/8/00008_00021_00016.png  \n",
            "  inflating: train/8/00008_00021_00017.png  \n",
            "  inflating: train/8/00008_00021_00018.png  \n",
            "  inflating: train/8/00008_00021_00019.png  \n",
            "  inflating: train/8/00008_00021_00020.png  \n",
            "  inflating: train/8/00008_00021_00021.png  \n",
            "  inflating: train/8/00008_00021_00022.png  \n",
            "  inflating: train/8/00008_00021_00023.png  \n",
            "  inflating: train/8/00008_00021_00024.png  \n",
            "  inflating: train/8/00008_00021_00025.png  \n",
            "  inflating: train/8/00008_00021_00026.png  \n",
            "  inflating: train/8/00008_00021_00027.png  \n",
            "  inflating: train/8/00008_00021_00028.png  \n",
            "  inflating: train/8/00008_00021_00029.png  \n",
            "  inflating: train/8/00008_00022_00000.png  \n",
            "  inflating: train/8/00008_00022_00001.png  \n",
            "  inflating: train/8/00008_00022_00002.png  \n",
            "  inflating: train/8/00008_00022_00003.png  \n",
            "  inflating: train/8/00008_00022_00004.png  \n",
            "  inflating: train/8/00008_00022_00005.png  \n",
            "  inflating: train/8/00008_00022_00006.png  \n",
            "  inflating: train/8/00008_00022_00007.png  \n",
            "  inflating: train/8/00008_00022_00008.png  \n",
            "  inflating: train/8/00008_00022_00009.png  \n",
            "  inflating: train/8/00008_00022_00010.png  \n",
            "  inflating: train/8/00008_00022_00011.png  \n",
            "  inflating: train/8/00008_00022_00012.png  \n",
            "  inflating: train/8/00008_00022_00013.png  \n",
            "  inflating: train/8/00008_00022_00014.png  \n",
            "  inflating: train/8/00008_00022_00015.png  \n",
            "  inflating: train/8/00008_00022_00016.png  \n",
            "  inflating: train/8/00008_00022_00017.png  \n",
            "  inflating: train/8/00008_00022_00018.png  \n",
            "  inflating: train/8/00008_00022_00019.png  \n",
            "  inflating: train/8/00008_00022_00020.png  \n",
            "  inflating: train/8/00008_00022_00021.png  \n",
            "  inflating: train/8/00008_00022_00022.png  \n",
            "  inflating: train/8/00008_00022_00023.png  \n",
            "  inflating: train/8/00008_00022_00024.png  \n",
            "  inflating: train/8/00008_00022_00025.png  \n",
            "  inflating: train/8/00008_00022_00026.png  \n",
            "  inflating: train/8/00008_00022_00027.png  \n",
            "  inflating: train/8/00008_00022_00028.png  \n",
            "  inflating: train/8/00008_00022_00029.png  \n",
            "  inflating: train/8/00008_00023_00000.png  \n",
            "  inflating: train/8/00008_00023_00001.png  \n",
            "  inflating: train/8/00008_00023_00002.png  \n",
            "  inflating: train/8/00008_00023_00003.png  \n",
            "  inflating: train/8/00008_00023_00004.png  \n",
            "  inflating: train/8/00008_00023_00005.png  \n",
            "  inflating: train/8/00008_00023_00006.png  \n",
            "  inflating: train/8/00008_00023_00007.png  \n",
            "  inflating: train/8/00008_00023_00008.png  \n",
            "  inflating: train/8/00008_00023_00009.png  \n",
            "  inflating: train/8/00008_00023_00010.png  \n",
            "  inflating: train/8/00008_00023_00011.png  \n",
            "  inflating: train/8/00008_00023_00012.png  \n",
            "  inflating: train/8/00008_00023_00013.png  \n",
            "  inflating: train/8/00008_00023_00014.png  \n",
            "  inflating: train/8/00008_00023_00015.png  \n",
            "  inflating: train/8/00008_00023_00016.png  \n",
            "  inflating: train/8/00008_00023_00017.png  \n",
            "  inflating: train/8/00008_00023_00018.png  \n",
            "  inflating: train/8/00008_00023_00019.png  \n",
            "  inflating: train/8/00008_00023_00020.png  \n",
            "  inflating: train/8/00008_00023_00021.png  \n",
            "  inflating: train/8/00008_00023_00022.png  \n",
            "  inflating: train/8/00008_00023_00023.png  \n",
            "  inflating: train/8/00008_00023_00024.png  \n",
            "  inflating: train/8/00008_00023_00025.png  \n",
            "  inflating: train/8/00008_00023_00026.png  \n",
            "  inflating: train/8/00008_00023_00027.png  \n",
            "  inflating: train/8/00008_00023_00028.png  \n",
            "  inflating: train/8/00008_00023_00029.png  \n",
            "  inflating: train/8/00008_00024_00000.png  \n",
            "  inflating: train/8/00008_00024_00001.png  \n",
            "  inflating: train/8/00008_00024_00002.png  \n",
            "  inflating: train/8/00008_00024_00003.png  \n",
            "  inflating: train/8/00008_00024_00004.png  \n",
            "  inflating: train/8/00008_00024_00005.png  \n",
            "  inflating: train/8/00008_00024_00006.png  \n",
            "  inflating: train/8/00008_00024_00007.png  \n",
            "  inflating: train/8/00008_00024_00008.png  \n",
            "  inflating: train/8/00008_00024_00009.png  \n",
            "  inflating: train/8/00008_00024_00010.png  \n",
            "  inflating: train/8/00008_00024_00011.png  \n",
            "  inflating: train/8/00008_00024_00012.png  \n",
            "  inflating: train/8/00008_00024_00013.png  \n",
            "  inflating: train/8/00008_00024_00014.png  \n",
            "  inflating: train/8/00008_00024_00015.png  \n",
            "  inflating: train/8/00008_00024_00016.png  \n",
            "  inflating: train/8/00008_00024_00017.png  \n",
            "  inflating: train/8/00008_00024_00018.png  \n",
            "  inflating: train/8/00008_00024_00019.png  \n",
            "  inflating: train/8/00008_00024_00020.png  \n",
            "  inflating: train/8/00008_00024_00021.png  \n",
            "  inflating: train/8/00008_00024_00022.png  \n",
            "  inflating: train/8/00008_00024_00023.png  \n",
            "  inflating: train/8/00008_00024_00024.png  \n",
            "  inflating: train/8/00008_00024_00025.png  \n",
            "  inflating: train/8/00008_00024_00026.png  \n",
            "  inflating: train/8/00008_00024_00027.png  \n",
            "  inflating: train/8/00008_00024_00028.png  \n",
            "  inflating: train/8/00008_00024_00029.png  \n",
            "  inflating: train/8/00008_00025_00000.png  \n",
            "  inflating: train/8/00008_00025_00001.png  \n",
            "  inflating: train/8/00008_00025_00002.png  \n",
            "  inflating: train/8/00008_00025_00003.png  \n",
            "  inflating: train/8/00008_00025_00004.png  \n",
            "  inflating: train/8/00008_00025_00005.png  \n",
            "  inflating: train/8/00008_00025_00006.png  \n",
            "  inflating: train/8/00008_00025_00007.png  \n",
            "  inflating: train/8/00008_00025_00008.png  \n",
            "  inflating: train/8/00008_00025_00009.png  \n",
            "  inflating: train/8/00008_00025_00010.png  \n",
            "  inflating: train/8/00008_00025_00011.png  \n",
            "  inflating: train/8/00008_00025_00012.png  \n",
            "  inflating: train/8/00008_00025_00013.png  \n",
            "  inflating: train/8/00008_00025_00014.png  \n",
            "  inflating: train/8/00008_00025_00015.png  \n",
            "  inflating: train/8/00008_00025_00016.png  \n",
            "  inflating: train/8/00008_00025_00017.png  \n",
            "  inflating: train/8/00008_00025_00018.png  \n",
            "  inflating: train/8/00008_00025_00019.png  \n",
            "  inflating: train/8/00008_00025_00020.png  \n",
            "  inflating: train/8/00008_00025_00021.png  \n",
            "  inflating: train/8/00008_00025_00022.png  \n",
            "  inflating: train/8/00008_00025_00023.png  \n",
            "  inflating: train/8/00008_00025_00024.png  \n",
            "  inflating: train/8/00008_00025_00025.png  \n",
            "  inflating: train/8/00008_00025_00026.png  \n",
            "  inflating: train/8/00008_00025_00027.png  \n",
            "  inflating: train/8/00008_00025_00028.png  \n",
            "  inflating: train/8/00008_00025_00029.png  \n",
            "  inflating: train/8/00008_00026_00000.png  \n",
            "  inflating: train/8/00008_00026_00001.png  \n",
            "  inflating: train/8/00008_00026_00002.png  \n",
            "  inflating: train/8/00008_00026_00003.png  \n",
            "  inflating: train/8/00008_00026_00004.png  \n",
            "  inflating: train/8/00008_00026_00005.png  \n",
            "  inflating: train/8/00008_00026_00006.png  \n",
            "  inflating: train/8/00008_00026_00007.png  \n",
            "  inflating: train/8/00008_00026_00008.png  \n",
            "  inflating: train/8/00008_00026_00009.png  \n",
            "  inflating: train/8/00008_00026_00010.png  \n",
            "  inflating: train/8/00008_00026_00011.png  \n",
            "  inflating: train/8/00008_00026_00012.png  \n",
            "  inflating: train/8/00008_00026_00013.png  \n",
            "  inflating: train/8/00008_00026_00014.png  \n",
            "  inflating: train/8/00008_00026_00015.png  \n",
            "  inflating: train/8/00008_00026_00016.png  \n",
            "  inflating: train/8/00008_00026_00017.png  \n",
            "  inflating: train/8/00008_00026_00018.png  \n",
            "  inflating: train/8/00008_00026_00019.png  \n",
            "  inflating: train/8/00008_00026_00020.png  \n",
            "  inflating: train/8/00008_00026_00021.png  \n",
            "  inflating: train/8/00008_00026_00022.png  \n",
            "  inflating: train/8/00008_00026_00023.png  \n",
            "  inflating: train/8/00008_00026_00024.png  \n",
            "  inflating: train/8/00008_00026_00025.png  \n",
            "  inflating: train/8/00008_00026_00026.png  \n",
            "  inflating: train/8/00008_00026_00027.png  \n",
            "  inflating: train/8/00008_00026_00028.png  \n",
            "  inflating: train/8/00008_00026_00029.png  \n",
            "  inflating: train/8/00008_00027_00000.png  \n",
            "  inflating: train/8/00008_00027_00001.png  \n",
            "  inflating: train/8/00008_00027_00002.png  \n",
            "  inflating: train/8/00008_00027_00003.png  \n",
            "  inflating: train/8/00008_00027_00004.png  \n",
            "  inflating: train/8/00008_00027_00005.png  \n",
            "  inflating: train/8/00008_00027_00006.png  \n",
            "  inflating: train/8/00008_00027_00007.png  \n",
            "  inflating: train/8/00008_00027_00008.png  \n",
            "  inflating: train/8/00008_00027_00009.png  \n",
            "  inflating: train/8/00008_00027_00010.png  \n",
            "  inflating: train/8/00008_00027_00011.png  \n",
            "  inflating: train/8/00008_00027_00012.png  \n",
            "  inflating: train/8/00008_00027_00013.png  \n",
            "  inflating: train/8/00008_00027_00014.png  \n",
            "  inflating: train/8/00008_00027_00015.png  \n",
            "  inflating: train/8/00008_00027_00016.png  \n",
            "  inflating: train/8/00008_00027_00017.png  \n",
            "  inflating: train/8/00008_00027_00018.png  \n",
            "  inflating: train/8/00008_00027_00019.png  \n",
            "  inflating: train/8/00008_00027_00020.png  \n",
            "  inflating: train/8/00008_00027_00021.png  \n",
            "  inflating: train/8/00008_00027_00022.png  \n",
            "  inflating: train/8/00008_00027_00023.png  \n",
            "  inflating: train/8/00008_00027_00024.png  \n",
            "  inflating: train/8/00008_00027_00025.png  \n",
            "  inflating: train/8/00008_00027_00026.png  \n",
            "  inflating: train/8/00008_00027_00027.png  \n",
            "  inflating: train/8/00008_00027_00028.png  \n",
            "  inflating: train/8/00008_00027_00029.png  \n",
            "  inflating: train/8/00008_00028_00000.png  \n",
            "  inflating: train/8/00008_00028_00001.png  \n",
            "  inflating: train/8/00008_00028_00002.png  \n",
            "  inflating: train/8/00008_00028_00003.png  \n",
            "  inflating: train/8/00008_00028_00004.png  \n",
            "  inflating: train/8/00008_00028_00005.png  \n",
            "  inflating: train/8/00008_00028_00006.png  \n",
            "  inflating: train/8/00008_00028_00007.png  \n",
            "  inflating: train/8/00008_00028_00008.png  \n",
            "  inflating: train/8/00008_00028_00009.png  \n",
            "  inflating: train/8/00008_00028_00010.png  \n",
            "  inflating: train/8/00008_00028_00011.png  \n",
            "  inflating: train/8/00008_00028_00012.png  \n",
            "  inflating: train/8/00008_00028_00013.png  \n",
            "  inflating: train/8/00008_00028_00014.png  \n",
            "  inflating: train/8/00008_00028_00015.png  \n",
            "  inflating: train/8/00008_00028_00016.png  \n",
            "  inflating: train/8/00008_00028_00017.png  \n",
            "  inflating: train/8/00008_00028_00018.png  \n",
            "  inflating: train/8/00008_00028_00019.png  \n",
            "  inflating: train/8/00008_00028_00020.png  \n",
            "  inflating: train/8/00008_00028_00021.png  \n",
            "  inflating: train/8/00008_00028_00022.png  \n",
            "  inflating: train/8/00008_00028_00023.png  \n",
            "  inflating: train/8/00008_00028_00024.png  \n",
            "  inflating: train/8/00008_00028_00025.png  \n",
            "  inflating: train/8/00008_00028_00026.png  \n",
            "  inflating: train/8/00008_00028_00027.png  \n",
            "  inflating: train/8/00008_00028_00028.png  \n",
            "  inflating: train/8/00008_00028_00029.png  \n",
            "  inflating: train/8/00008_00029_00000.png  \n",
            "  inflating: train/8/00008_00029_00001.png  \n",
            "  inflating: train/8/00008_00029_00002.png  \n",
            "  inflating: train/8/00008_00029_00003.png  \n",
            "  inflating: train/8/00008_00029_00004.png  \n",
            "  inflating: train/8/00008_00029_00005.png  \n",
            "  inflating: train/8/00008_00029_00006.png  \n",
            "  inflating: train/8/00008_00029_00007.png  \n",
            "  inflating: train/8/00008_00029_00008.png  \n",
            "  inflating: train/8/00008_00029_00009.png  \n",
            "  inflating: train/8/00008_00029_00010.png  \n",
            "  inflating: train/8/00008_00029_00011.png  \n",
            "  inflating: train/8/00008_00029_00012.png  \n",
            "  inflating: train/8/00008_00029_00013.png  \n",
            "  inflating: train/8/00008_00029_00014.png  \n",
            "  inflating: train/8/00008_00029_00015.png  \n",
            "  inflating: train/8/00008_00029_00016.png  \n",
            "  inflating: train/8/00008_00029_00017.png  \n",
            "  inflating: train/8/00008_00029_00018.png  \n",
            "  inflating: train/8/00008_00029_00019.png  \n",
            "  inflating: train/8/00008_00029_00020.png  \n",
            "  inflating: train/8/00008_00029_00021.png  \n",
            "  inflating: train/8/00008_00029_00022.png  \n",
            "  inflating: train/8/00008_00029_00023.png  \n",
            "  inflating: train/8/00008_00029_00024.png  \n",
            "  inflating: train/8/00008_00029_00025.png  \n",
            "  inflating: train/8/00008_00029_00026.png  \n",
            "  inflating: train/8/00008_00029_00027.png  \n",
            "  inflating: train/8/00008_00029_00028.png  \n",
            "  inflating: train/8/00008_00029_00029.png  \n",
            "  inflating: train/8/00008_00030_00000.png  \n",
            "  inflating: train/8/00008_00030_00001.png  \n",
            "  inflating: train/8/00008_00030_00002.png  \n",
            "  inflating: train/8/00008_00030_00003.png  \n",
            "  inflating: train/8/00008_00030_00004.png  \n",
            "  inflating: train/8/00008_00030_00005.png  \n",
            "  inflating: train/8/00008_00030_00006.png  \n",
            "  inflating: train/8/00008_00030_00007.png  \n",
            "  inflating: train/8/00008_00030_00008.png  \n",
            "  inflating: train/8/00008_00030_00009.png  \n",
            "  inflating: train/8/00008_00030_00010.png  \n",
            "  inflating: train/8/00008_00030_00011.png  \n",
            "  inflating: train/8/00008_00030_00012.png  \n",
            "  inflating: train/8/00008_00030_00013.png  \n",
            "  inflating: train/8/00008_00030_00014.png  \n",
            "  inflating: train/8/00008_00030_00015.png  \n",
            "  inflating: train/8/00008_00030_00016.png  \n",
            "  inflating: train/8/00008_00030_00017.png  \n",
            "  inflating: train/8/00008_00030_00018.png  \n",
            "  inflating: train/8/00008_00030_00019.png  \n",
            "  inflating: train/8/00008_00030_00020.png  \n",
            "  inflating: train/8/00008_00030_00021.png  \n",
            "  inflating: train/8/00008_00030_00022.png  \n",
            "  inflating: train/8/00008_00030_00023.png  \n",
            "  inflating: train/8/00008_00030_00024.png  \n",
            "  inflating: train/8/00008_00030_00025.png  \n",
            "  inflating: train/8/00008_00030_00026.png  \n",
            "  inflating: train/8/00008_00030_00027.png  \n",
            "  inflating: train/8/00008_00030_00028.png  \n",
            "  inflating: train/8/00008_00030_00029.png  \n",
            "  inflating: train/8/00008_00031_00000.png  \n",
            "  inflating: train/8/00008_00031_00001.png  \n",
            "  inflating: train/8/00008_00031_00002.png  \n",
            "  inflating: train/8/00008_00031_00003.png  \n",
            "  inflating: train/8/00008_00031_00004.png  \n",
            "  inflating: train/8/00008_00031_00005.png  \n",
            "  inflating: train/8/00008_00031_00006.png  \n",
            "  inflating: train/8/00008_00031_00007.png  \n",
            "  inflating: train/8/00008_00031_00008.png  \n",
            "  inflating: train/8/00008_00031_00009.png  \n",
            "  inflating: train/8/00008_00031_00010.png  \n",
            "  inflating: train/8/00008_00031_00011.png  \n",
            "  inflating: train/8/00008_00031_00012.png  \n",
            "  inflating: train/8/00008_00031_00013.png  \n",
            "  inflating: train/8/00008_00031_00014.png  \n",
            "  inflating: train/8/00008_00031_00015.png  \n",
            "  inflating: train/8/00008_00031_00016.png  \n",
            "  inflating: train/8/00008_00031_00017.png  \n",
            "  inflating: train/8/00008_00031_00018.png  \n",
            "  inflating: train/8/00008_00031_00019.png  \n",
            "  inflating: train/8/00008_00031_00020.png  \n",
            "  inflating: train/8/00008_00031_00021.png  \n",
            "  inflating: train/8/00008_00031_00022.png  \n",
            "  inflating: train/8/00008_00031_00023.png  \n",
            "  inflating: train/8/00008_00031_00024.png  \n",
            "  inflating: train/8/00008_00031_00025.png  \n",
            "  inflating: train/8/00008_00031_00026.png  \n",
            "  inflating: train/8/00008_00031_00027.png  \n",
            "  inflating: train/8/00008_00031_00028.png  \n",
            "  inflating: train/8/00008_00031_00029.png  \n",
            "  inflating: train/8/00008_00032_00000.png  \n",
            "  inflating: train/8/00008_00032_00001.png  \n",
            "  inflating: train/8/00008_00032_00002.png  \n",
            "  inflating: train/8/00008_00032_00003.png  \n",
            "  inflating: train/8/00008_00032_00004.png  \n",
            "  inflating: train/8/00008_00032_00005.png  \n",
            "  inflating: train/8/00008_00032_00006.png  \n",
            "  inflating: train/8/00008_00032_00007.png  \n",
            "  inflating: train/8/00008_00032_00008.png  \n",
            "  inflating: train/8/00008_00032_00009.png  \n",
            "  inflating: train/8/00008_00032_00010.png  \n",
            "  inflating: train/8/00008_00032_00011.png  \n",
            "  inflating: train/8/00008_00032_00012.png  \n",
            "  inflating: train/8/00008_00032_00013.png  \n",
            "  inflating: train/8/00008_00032_00014.png  \n",
            "  inflating: train/8/00008_00032_00015.png  \n",
            "  inflating: train/8/00008_00032_00016.png  \n",
            "  inflating: train/8/00008_00032_00017.png  \n",
            "  inflating: train/8/00008_00032_00018.png  \n",
            "  inflating: train/8/00008_00032_00019.png  \n",
            "  inflating: train/8/00008_00032_00020.png  \n",
            "  inflating: train/8/00008_00032_00021.png  \n",
            "  inflating: train/8/00008_00032_00022.png  \n",
            "  inflating: train/8/00008_00032_00023.png  \n",
            "  inflating: train/8/00008_00032_00024.png  \n",
            "  inflating: train/8/00008_00032_00025.png  \n",
            "  inflating: train/8/00008_00032_00026.png  \n",
            "  inflating: train/8/00008_00032_00027.png  \n",
            "  inflating: train/8/00008_00032_00028.png  \n",
            "  inflating: train/8/00008_00032_00029.png  \n",
            "  inflating: train/8/00008_00033_00000.png  \n",
            "  inflating: train/8/00008_00033_00001.png  \n",
            "  inflating: train/8/00008_00033_00002.png  \n",
            "  inflating: train/8/00008_00033_00003.png  \n",
            "  inflating: train/8/00008_00033_00004.png  \n",
            "  inflating: train/8/00008_00033_00005.png  \n",
            "  inflating: train/8/00008_00033_00006.png  \n",
            "  inflating: train/8/00008_00033_00007.png  \n",
            "  inflating: train/8/00008_00033_00008.png  \n",
            "  inflating: train/8/00008_00033_00009.png  \n",
            "  inflating: train/8/00008_00033_00010.png  \n",
            "  inflating: train/8/00008_00033_00011.png  \n",
            "  inflating: train/8/00008_00033_00012.png  \n",
            "  inflating: train/8/00008_00033_00013.png  \n",
            "  inflating: train/8/00008_00033_00014.png  \n",
            "  inflating: train/8/00008_00033_00015.png  \n",
            "  inflating: train/8/00008_00033_00016.png  \n",
            "  inflating: train/8/00008_00033_00017.png  \n",
            "  inflating: train/8/00008_00033_00018.png  \n",
            "  inflating: train/8/00008_00033_00019.png  \n",
            "  inflating: train/8/00008_00033_00020.png  \n",
            "  inflating: train/8/00008_00033_00021.png  \n",
            "  inflating: train/8/00008_00033_00022.png  \n",
            "  inflating: train/8/00008_00033_00023.png  \n",
            "  inflating: train/8/00008_00033_00024.png  \n",
            "  inflating: train/8/00008_00033_00025.png  \n",
            "  inflating: train/8/00008_00033_00026.png  \n",
            "  inflating: train/8/00008_00033_00027.png  \n",
            "  inflating: train/8/00008_00033_00028.png  \n",
            "  inflating: train/8/00008_00033_00029.png  \n",
            "  inflating: train/8/00008_00034_00000.png  \n",
            "  inflating: train/8/00008_00034_00001.png  \n",
            "  inflating: train/8/00008_00034_00002.png  \n",
            "  inflating: train/8/00008_00034_00003.png  \n",
            "  inflating: train/8/00008_00034_00004.png  \n",
            "  inflating: train/8/00008_00034_00005.png  \n",
            "  inflating: train/8/00008_00034_00006.png  \n",
            "  inflating: train/8/00008_00034_00007.png  \n",
            "  inflating: train/8/00008_00034_00008.png  \n",
            "  inflating: train/8/00008_00034_00009.png  \n",
            "  inflating: train/8/00008_00034_00010.png  \n",
            "  inflating: train/8/00008_00034_00011.png  \n",
            "  inflating: train/8/00008_00034_00012.png  \n",
            "  inflating: train/8/00008_00034_00013.png  \n",
            "  inflating: train/8/00008_00034_00014.png  \n",
            "  inflating: train/8/00008_00034_00015.png  \n",
            "  inflating: train/8/00008_00034_00016.png  \n",
            "  inflating: train/8/00008_00034_00017.png  \n",
            "  inflating: train/8/00008_00034_00018.png  \n",
            "  inflating: train/8/00008_00034_00019.png  \n",
            "  inflating: train/8/00008_00034_00020.png  \n",
            "  inflating: train/8/00008_00034_00021.png  \n",
            "  inflating: train/8/00008_00034_00022.png  \n",
            "  inflating: train/8/00008_00034_00023.png  \n",
            "  inflating: train/8/00008_00034_00024.png  \n",
            "  inflating: train/8/00008_00034_00025.png  \n",
            "  inflating: train/8/00008_00034_00026.png  \n",
            "  inflating: train/8/00008_00034_00027.png  \n",
            "  inflating: train/8/00008_00034_00028.png  \n",
            "  inflating: train/8/00008_00034_00029.png  \n",
            "  inflating: train/8/00008_00035_00000.png  \n",
            "  inflating: train/8/00008_00035_00001.png  \n",
            "  inflating: train/8/00008_00035_00002.png  \n",
            "  inflating: train/8/00008_00035_00003.png  \n",
            "  inflating: train/8/00008_00035_00004.png  \n",
            "  inflating: train/8/00008_00035_00005.png  \n",
            "  inflating: train/8/00008_00035_00006.png  \n",
            "  inflating: train/8/00008_00035_00007.png  \n",
            "  inflating: train/8/00008_00035_00008.png  \n",
            "  inflating: train/8/00008_00035_00009.png  \n",
            "  inflating: train/8/00008_00035_00010.png  \n",
            "  inflating: train/8/00008_00035_00011.png  \n",
            "  inflating: train/8/00008_00035_00012.png  \n",
            "  inflating: train/8/00008_00035_00013.png  \n",
            "  inflating: train/8/00008_00035_00014.png  \n",
            "  inflating: train/8/00008_00035_00015.png  \n",
            "  inflating: train/8/00008_00035_00016.png  \n",
            "  inflating: train/8/00008_00035_00017.png  \n",
            "  inflating: train/8/00008_00035_00018.png  \n",
            "  inflating: train/8/00008_00035_00019.png  \n",
            "  inflating: train/8/00008_00035_00020.png  \n",
            "  inflating: train/8/00008_00035_00021.png  \n",
            "  inflating: train/8/00008_00035_00022.png  \n",
            "  inflating: train/8/00008_00035_00023.png  \n",
            "  inflating: train/8/00008_00035_00024.png  \n",
            "  inflating: train/8/00008_00035_00025.png  \n",
            "  inflating: train/8/00008_00035_00026.png  \n",
            "  inflating: train/8/00008_00035_00027.png  \n",
            "  inflating: train/8/00008_00035_00028.png  \n",
            "  inflating: train/8/00008_00035_00029.png  \n",
            "  inflating: train/8/00008_00036_00000.png  \n",
            "  inflating: train/8/00008_00036_00001.png  \n",
            "  inflating: train/8/00008_00036_00002.png  \n",
            "  inflating: train/8/00008_00036_00003.png  \n",
            "  inflating: train/8/00008_00036_00004.png  \n",
            "  inflating: train/8/00008_00036_00005.png  \n",
            "  inflating: train/8/00008_00036_00006.png  \n",
            "  inflating: train/8/00008_00036_00007.png  \n",
            "  inflating: train/8/00008_00036_00008.png  \n",
            "  inflating: train/8/00008_00036_00009.png  \n",
            "  inflating: train/8/00008_00036_00010.png  \n",
            "  inflating: train/8/00008_00036_00011.png  \n",
            "  inflating: train/8/00008_00036_00012.png  \n",
            "  inflating: train/8/00008_00036_00013.png  \n",
            "  inflating: train/8/00008_00036_00014.png  \n",
            "  inflating: train/8/00008_00036_00015.png  \n",
            "  inflating: train/8/00008_00036_00016.png  \n",
            "  inflating: train/8/00008_00036_00017.png  \n",
            "  inflating: train/8/00008_00036_00018.png  \n",
            "  inflating: train/8/00008_00036_00019.png  \n",
            "  inflating: train/8/00008_00036_00020.png  \n",
            "  inflating: train/8/00008_00036_00021.png  \n",
            "  inflating: train/8/00008_00036_00022.png  \n",
            "  inflating: train/8/00008_00036_00023.png  \n",
            "  inflating: train/8/00008_00036_00024.png  \n",
            "  inflating: train/8/00008_00036_00025.png  \n",
            "  inflating: train/8/00008_00036_00026.png  \n",
            "  inflating: train/8/00008_00036_00027.png  \n",
            "  inflating: train/8/00008_00036_00028.png  \n",
            "  inflating: train/8/00008_00036_00029.png  \n",
            "  inflating: train/8/00008_00037_00000.png  \n",
            "  inflating: train/8/00008_00037_00001.png  \n",
            "  inflating: train/8/00008_00037_00002.png  \n",
            "  inflating: train/8/00008_00037_00003.png  \n",
            "  inflating: train/8/00008_00037_00004.png  \n",
            "  inflating: train/8/00008_00037_00005.png  \n",
            "  inflating: train/8/00008_00037_00006.png  \n",
            "  inflating: train/8/00008_00037_00007.png  \n",
            "  inflating: train/8/00008_00037_00008.png  \n",
            "  inflating: train/8/00008_00037_00009.png  \n",
            "  inflating: train/8/00008_00037_00010.png  \n",
            "  inflating: train/8/00008_00037_00011.png  \n",
            "  inflating: train/8/00008_00037_00012.png  \n",
            "  inflating: train/8/00008_00037_00013.png  \n",
            "  inflating: train/8/00008_00037_00014.png  \n",
            "  inflating: train/8/00008_00037_00015.png  \n",
            "  inflating: train/8/00008_00037_00016.png  \n",
            "  inflating: train/8/00008_00037_00017.png  \n",
            "  inflating: train/8/00008_00037_00018.png  \n",
            "  inflating: train/8/00008_00037_00019.png  \n",
            "  inflating: train/8/00008_00037_00020.png  \n",
            "  inflating: train/8/00008_00037_00021.png  \n",
            "  inflating: train/8/00008_00037_00022.png  \n",
            "  inflating: train/8/00008_00037_00023.png  \n",
            "  inflating: train/8/00008_00037_00024.png  \n",
            "  inflating: train/8/00008_00037_00025.png  \n",
            "  inflating: train/8/00008_00037_00026.png  \n",
            "  inflating: train/8/00008_00037_00027.png  \n",
            "  inflating: train/8/00008_00037_00028.png  \n",
            "  inflating: train/8/00008_00037_00029.png  \n",
            "  inflating: train/8/00008_00038_00000.png  \n",
            "  inflating: train/8/00008_00038_00001.png  \n",
            "  inflating: train/8/00008_00038_00002.png  \n",
            "  inflating: train/8/00008_00038_00003.png  \n",
            "  inflating: train/8/00008_00038_00004.png  \n",
            "  inflating: train/8/00008_00038_00005.png  \n",
            "  inflating: train/8/00008_00038_00006.png  \n",
            "  inflating: train/8/00008_00038_00007.png  \n",
            "  inflating: train/8/00008_00038_00008.png  \n",
            "  inflating: train/8/00008_00038_00009.png  \n",
            "  inflating: train/8/00008_00038_00010.png  \n",
            "  inflating: train/8/00008_00038_00011.png  \n",
            "  inflating: train/8/00008_00038_00012.png  \n",
            "  inflating: train/8/00008_00038_00013.png  \n",
            "  inflating: train/8/00008_00038_00014.png  \n",
            "  inflating: train/8/00008_00038_00015.png  \n",
            "  inflating: train/8/00008_00038_00016.png  \n",
            "  inflating: train/8/00008_00038_00017.png  \n",
            "  inflating: train/8/00008_00038_00018.png  \n",
            "  inflating: train/8/00008_00038_00019.png  \n",
            "  inflating: train/8/00008_00038_00020.png  \n",
            "  inflating: train/8/00008_00038_00021.png  \n",
            "  inflating: train/8/00008_00038_00022.png  \n",
            "  inflating: train/8/00008_00038_00023.png  \n",
            "  inflating: train/8/00008_00038_00024.png  \n",
            "  inflating: train/8/00008_00038_00025.png  \n",
            "  inflating: train/8/00008_00038_00026.png  \n",
            "  inflating: train/8/00008_00038_00027.png  \n",
            "  inflating: train/8/00008_00038_00028.png  \n",
            "  inflating: train/8/00008_00038_00029.png  \n",
            "  inflating: train/8/00008_00039_00000.png  \n",
            "  inflating: train/8/00008_00039_00001.png  \n",
            "  inflating: train/8/00008_00039_00002.png  \n",
            "  inflating: train/8/00008_00039_00003.png  \n",
            "  inflating: train/8/00008_00039_00004.png  \n",
            "  inflating: train/8/00008_00039_00005.png  \n",
            "  inflating: train/8/00008_00039_00006.png  \n",
            "  inflating: train/8/00008_00039_00007.png  \n",
            "  inflating: train/8/00008_00039_00008.png  \n",
            "  inflating: train/8/00008_00039_00009.png  \n",
            "  inflating: train/8/00008_00039_00010.png  \n",
            "  inflating: train/8/00008_00039_00011.png  \n",
            "  inflating: train/8/00008_00039_00012.png  \n",
            "  inflating: train/8/00008_00039_00013.png  \n",
            "  inflating: train/8/00008_00039_00014.png  \n",
            "  inflating: train/8/00008_00039_00015.png  \n",
            "  inflating: train/8/00008_00039_00016.png  \n",
            "  inflating: train/8/00008_00039_00017.png  \n",
            "  inflating: train/8/00008_00039_00018.png  \n",
            "  inflating: train/8/00008_00039_00019.png  \n",
            "  inflating: train/8/00008_00039_00020.png  \n",
            "  inflating: train/8/00008_00039_00021.png  \n",
            "  inflating: train/8/00008_00039_00022.png  \n",
            "  inflating: train/8/00008_00039_00023.png  \n",
            "  inflating: train/8/00008_00039_00024.png  \n",
            "  inflating: train/8/00008_00039_00025.png  \n",
            "  inflating: train/8/00008_00039_00026.png  \n",
            "  inflating: train/8/00008_00039_00027.png  \n",
            "  inflating: train/8/00008_00039_00028.png  \n",
            "  inflating: train/8/00008_00039_00029.png  \n",
            "  inflating: train/8/00008_00040_00000.png  \n",
            "  inflating: train/8/00008_00040_00001.png  \n",
            "  inflating: train/8/00008_00040_00002.png  \n",
            "  inflating: train/8/00008_00040_00003.png  \n",
            "  inflating: train/8/00008_00040_00004.png  \n",
            "  inflating: train/8/00008_00040_00005.png  \n",
            "  inflating: train/8/00008_00040_00006.png  \n",
            "  inflating: train/8/00008_00040_00007.png  \n",
            "  inflating: train/8/00008_00040_00008.png  \n",
            "  inflating: train/8/00008_00040_00009.png  \n",
            "  inflating: train/8/00008_00040_00010.png  \n",
            "  inflating: train/8/00008_00040_00011.png  \n",
            "  inflating: train/8/00008_00040_00012.png  \n",
            "  inflating: train/8/00008_00040_00013.png  \n",
            "  inflating: train/8/00008_00040_00014.png  \n",
            "  inflating: train/8/00008_00040_00015.png  \n",
            "  inflating: train/8/00008_00040_00016.png  \n",
            "  inflating: train/8/00008_00040_00017.png  \n",
            "  inflating: train/8/00008_00040_00018.png  \n",
            "  inflating: train/8/00008_00040_00019.png  \n",
            "  inflating: train/8/00008_00040_00020.png  \n",
            "  inflating: train/8/00008_00040_00021.png  \n",
            "  inflating: train/8/00008_00040_00022.png  \n",
            "  inflating: train/8/00008_00040_00023.png  \n",
            "  inflating: train/8/00008_00040_00024.png  \n",
            "  inflating: train/8/00008_00040_00025.png  \n",
            "  inflating: train/8/00008_00040_00026.png  \n",
            "  inflating: train/8/00008_00040_00027.png  \n",
            "  inflating: train/8/00008_00040_00028.png  \n",
            "  inflating: train/8/00008_00040_00029.png  \n",
            "  inflating: train/8/00008_00041_00000.png  \n",
            "  inflating: train/8/00008_00041_00001.png  \n",
            "  inflating: train/8/00008_00041_00002.png  \n",
            "  inflating: train/8/00008_00041_00003.png  \n",
            "  inflating: train/8/00008_00041_00004.png  \n",
            "  inflating: train/8/00008_00041_00005.png  \n",
            "  inflating: train/8/00008_00041_00006.png  \n",
            "  inflating: train/8/00008_00041_00007.png  \n",
            "  inflating: train/8/00008_00041_00008.png  \n",
            "  inflating: train/8/00008_00041_00009.png  \n",
            "  inflating: train/8/00008_00041_00010.png  \n",
            "  inflating: train/8/00008_00041_00011.png  \n",
            "  inflating: train/8/00008_00041_00012.png  \n",
            "  inflating: train/8/00008_00041_00013.png  \n",
            "  inflating: train/8/00008_00041_00014.png  \n",
            "  inflating: train/8/00008_00041_00015.png  \n",
            "  inflating: train/8/00008_00041_00016.png  \n",
            "  inflating: train/8/00008_00041_00017.png  \n",
            "  inflating: train/8/00008_00041_00018.png  \n",
            "  inflating: train/8/00008_00041_00019.png  \n",
            "  inflating: train/8/00008_00041_00020.png  \n",
            "  inflating: train/8/00008_00041_00021.png  \n",
            "  inflating: train/8/00008_00041_00022.png  \n",
            "  inflating: train/8/00008_00041_00023.png  \n",
            "  inflating: train/8/00008_00041_00024.png  \n",
            "  inflating: train/8/00008_00041_00025.png  \n",
            "  inflating: train/8/00008_00041_00026.png  \n",
            "  inflating: train/8/00008_00041_00027.png  \n",
            "  inflating: train/8/00008_00041_00028.png  \n",
            "  inflating: train/8/00008_00041_00029.png  \n",
            "  inflating: train/8/00008_00042_00000.png  \n",
            "  inflating: train/8/00008_00042_00001.png  \n",
            "  inflating: train/8/00008_00042_00002.png  \n",
            "  inflating: train/8/00008_00042_00003.png  \n",
            "  inflating: train/8/00008_00042_00004.png  \n",
            "  inflating: train/8/00008_00042_00005.png  \n",
            "  inflating: train/8/00008_00042_00006.png  \n",
            "  inflating: train/8/00008_00042_00007.png  \n",
            "  inflating: train/8/00008_00042_00008.png  \n",
            "  inflating: train/8/00008_00042_00009.png  \n",
            "  inflating: train/8/00008_00042_00010.png  \n",
            "  inflating: train/8/00008_00042_00011.png  \n",
            "  inflating: train/8/00008_00042_00012.png  \n",
            "  inflating: train/8/00008_00042_00013.png  \n",
            "  inflating: train/8/00008_00042_00014.png  \n",
            "  inflating: train/8/00008_00042_00015.png  \n",
            "  inflating: train/8/00008_00042_00016.png  \n",
            "  inflating: train/8/00008_00042_00017.png  \n",
            "  inflating: train/8/00008_00042_00018.png  \n",
            "  inflating: train/8/00008_00042_00019.png  \n",
            "  inflating: train/8/00008_00042_00020.png  \n",
            "  inflating: train/8/00008_00042_00021.png  \n",
            "  inflating: train/8/00008_00042_00022.png  \n",
            "  inflating: train/8/00008_00042_00023.png  \n",
            "  inflating: train/8/00008_00042_00024.png  \n",
            "  inflating: train/8/00008_00042_00025.png  \n",
            "  inflating: train/8/00008_00042_00026.png  \n",
            "  inflating: train/8/00008_00042_00027.png  \n",
            "  inflating: train/8/00008_00042_00028.png  \n",
            "  inflating: train/8/00008_00042_00029.png  \n",
            "  inflating: train/8/00008_00043_00000.png  \n",
            "  inflating: train/8/00008_00043_00001.png  \n",
            "  inflating: train/8/00008_00043_00002.png  \n",
            "  inflating: train/8/00008_00043_00003.png  \n",
            "  inflating: train/8/00008_00043_00004.png  \n",
            "  inflating: train/8/00008_00043_00005.png  \n",
            "  inflating: train/8/00008_00043_00006.png  \n",
            "  inflating: train/8/00008_00043_00007.png  \n",
            "  inflating: train/8/00008_00043_00008.png  \n",
            "  inflating: train/8/00008_00043_00009.png  \n",
            "  inflating: train/8/00008_00043_00010.png  \n",
            "  inflating: train/8/00008_00043_00011.png  \n",
            "  inflating: train/8/00008_00043_00012.png  \n",
            "  inflating: train/8/00008_00043_00013.png  \n",
            "  inflating: train/8/00008_00043_00014.png  \n",
            "  inflating: train/8/00008_00043_00015.png  \n",
            "  inflating: train/8/00008_00043_00016.png  \n",
            "  inflating: train/8/00008_00043_00017.png  \n",
            "  inflating: train/8/00008_00043_00018.png  \n",
            "  inflating: train/8/00008_00043_00019.png  \n",
            "  inflating: train/8/00008_00043_00020.png  \n",
            "  inflating: train/8/00008_00043_00021.png  \n",
            "  inflating: train/8/00008_00043_00022.png  \n",
            "  inflating: train/8/00008_00043_00023.png  \n",
            "  inflating: train/8/00008_00043_00024.png  \n",
            "  inflating: train/8/00008_00043_00025.png  \n",
            "  inflating: train/8/00008_00043_00026.png  \n",
            "  inflating: train/8/00008_00043_00027.png  \n",
            "  inflating: train/8/00008_00043_00028.png  \n",
            "  inflating: train/8/00008_00043_00029.png  \n",
            "  inflating: train/8/00008_00044_00000.png  \n",
            "  inflating: train/8/00008_00044_00001.png  \n",
            "  inflating: train/8/00008_00044_00002.png  \n",
            "  inflating: train/8/00008_00044_00003.png  \n",
            "  inflating: train/8/00008_00044_00004.png  \n",
            "  inflating: train/8/00008_00044_00005.png  \n",
            "  inflating: train/8/00008_00044_00006.png  \n",
            "  inflating: train/8/00008_00044_00007.png  \n",
            "  inflating: train/8/00008_00044_00008.png  \n",
            "  inflating: train/8/00008_00044_00009.png  \n",
            "  inflating: train/8/00008_00044_00010.png  \n",
            "  inflating: train/8/00008_00044_00011.png  \n",
            "  inflating: train/8/00008_00044_00012.png  \n",
            "  inflating: train/8/00008_00044_00013.png  \n",
            "  inflating: train/8/00008_00044_00014.png  \n",
            "  inflating: train/8/00008_00044_00015.png  \n",
            "  inflating: train/8/00008_00044_00016.png  \n",
            "  inflating: train/8/00008_00044_00017.png  \n",
            "  inflating: train/8/00008_00044_00018.png  \n",
            "  inflating: train/8/00008_00044_00019.png  \n",
            "  inflating: train/8/00008_00044_00020.png  \n",
            "  inflating: train/8/00008_00044_00021.png  \n",
            "  inflating: train/8/00008_00044_00022.png  \n",
            "  inflating: train/8/00008_00044_00023.png  \n",
            "  inflating: train/8/00008_00044_00024.png  \n",
            "  inflating: train/8/00008_00044_00025.png  \n",
            "  inflating: train/8/00008_00044_00026.png  \n",
            "  inflating: train/8/00008_00044_00027.png  \n",
            "  inflating: train/8/00008_00044_00028.png  \n",
            "  inflating: train/8/00008_00044_00029.png  \n",
            "  inflating: train/8/00008_00045_00000.png  \n",
            "  inflating: train/8/00008_00045_00001.png  \n",
            "  inflating: train/8/00008_00045_00002.png  \n",
            "  inflating: train/8/00008_00045_00003.png  \n",
            "  inflating: train/8/00008_00045_00004.png  \n",
            "  inflating: train/8/00008_00045_00005.png  \n",
            "  inflating: train/8/00008_00045_00006.png  \n",
            "  inflating: train/8/00008_00045_00007.png  \n",
            "  inflating: train/8/00008_00045_00008.png  \n",
            "  inflating: train/8/00008_00045_00009.png  \n",
            "  inflating: train/8/00008_00045_00010.png  \n",
            "  inflating: train/8/00008_00045_00011.png  \n",
            "  inflating: train/8/00008_00045_00012.png  \n",
            "  inflating: train/8/00008_00045_00013.png  \n",
            "  inflating: train/8/00008_00045_00014.png  \n",
            "  inflating: train/8/00008_00045_00015.png  \n",
            "  inflating: train/8/00008_00045_00016.png  \n",
            "  inflating: train/8/00008_00045_00017.png  \n",
            "  inflating: train/8/00008_00045_00018.png  \n",
            "  inflating: train/8/00008_00045_00019.png  \n",
            "  inflating: train/8/00008_00045_00020.png  \n",
            "  inflating: train/8/00008_00045_00021.png  \n",
            "  inflating: train/8/00008_00045_00022.png  \n",
            "  inflating: train/8/00008_00045_00023.png  \n",
            "  inflating: train/8/00008_00045_00024.png  \n",
            "  inflating: train/8/00008_00045_00025.png  \n",
            "  inflating: train/8/00008_00045_00026.png  \n",
            "  inflating: train/8/00008_00045_00027.png  \n",
            "  inflating: train/8/00008_00045_00028.png  \n",
            "  inflating: train/8/00008_00045_00029.png  \n",
            "  inflating: train/8/00008_00046_00000.png  \n",
            "  inflating: train/8/00008_00046_00001.png  \n",
            "  inflating: train/8/00008_00046_00002.png  \n",
            "  inflating: train/8/00008_00046_00003.png  \n",
            "  inflating: train/8/00008_00046_00004.png  \n",
            "  inflating: train/8/00008_00046_00005.png  \n",
            "  inflating: train/8/00008_00046_00006.png  \n",
            "  inflating: train/8/00008_00046_00007.png  \n",
            "  inflating: train/8/00008_00046_00008.png  \n",
            "  inflating: train/8/00008_00046_00009.png  \n",
            "  inflating: train/8/00008_00046_00010.png  \n",
            "  inflating: train/8/00008_00046_00011.png  \n",
            "  inflating: train/8/00008_00046_00012.png  \n",
            "  inflating: train/8/00008_00046_00013.png  \n",
            "  inflating: train/8/00008_00046_00014.png  \n",
            "  inflating: train/8/00008_00046_00015.png  \n",
            "  inflating: train/8/00008_00046_00016.png  \n",
            "  inflating: train/8/00008_00046_00017.png  \n",
            "  inflating: train/8/00008_00046_00018.png  \n",
            "  inflating: train/8/00008_00046_00019.png  \n",
            "  inflating: train/8/00008_00046_00020.png  \n",
            "  inflating: train/8/00008_00046_00021.png  \n",
            "  inflating: train/8/00008_00046_00022.png  \n",
            "  inflating: train/8/00008_00046_00023.png  \n",
            "  inflating: train/8/00008_00046_00024.png  \n",
            "  inflating: train/8/00008_00046_00025.png  \n",
            "  inflating: train/8/00008_00046_00026.png  \n",
            "  inflating: train/8/00008_00046_00027.png  \n",
            "  inflating: train/8/00008_00046_00028.png  \n",
            "  inflating: train/8/00008_00046_00029.png  \n",
            "  inflating: train/9/00009_00000_00000.png  \n",
            "  inflating: train/9/00009_00000_00001.png  \n",
            "  inflating: train/9/00009_00000_00002.png  \n",
            "  inflating: train/9/00009_00000_00003.png  \n",
            "  inflating: train/9/00009_00000_00004.png  \n",
            "  inflating: train/9/00009_00000_00005.png  \n",
            "  inflating: train/9/00009_00000_00006.png  \n",
            "  inflating: train/9/00009_00000_00007.png  \n",
            "  inflating: train/9/00009_00000_00008.png  \n",
            "  inflating: train/9/00009_00000_00009.png  \n",
            "  inflating: train/9/00009_00000_00010.png  \n",
            "  inflating: train/9/00009_00000_00011.png  \n",
            "  inflating: train/9/00009_00000_00012.png  \n",
            "  inflating: train/9/00009_00000_00013.png  \n",
            "  inflating: train/9/00009_00000_00014.png  \n",
            "  inflating: train/9/00009_00000_00015.png  \n",
            "  inflating: train/9/00009_00000_00016.png  \n",
            "  inflating: train/9/00009_00000_00017.png  \n",
            "  inflating: train/9/00009_00000_00018.png  \n",
            "  inflating: train/9/00009_00000_00019.png  \n",
            "  inflating: train/9/00009_00000_00020.png  \n",
            "  inflating: train/9/00009_00000_00021.png  \n",
            "  inflating: train/9/00009_00000_00022.png  \n",
            "  inflating: train/9/00009_00000_00023.png  \n",
            "  inflating: train/9/00009_00000_00024.png  \n",
            "  inflating: train/9/00009_00000_00025.png  \n",
            "  inflating: train/9/00009_00000_00026.png  \n",
            "  inflating: train/9/00009_00000_00027.png  \n",
            "  inflating: train/9/00009_00000_00028.png  \n",
            "  inflating: train/9/00009_00000_00029.png  \n",
            "  inflating: train/9/00009_00001_00000.png  \n",
            "  inflating: train/9/00009_00001_00001.png  \n",
            "  inflating: train/9/00009_00001_00002.png  \n",
            "  inflating: train/9/00009_00001_00003.png  \n",
            "  inflating: train/9/00009_00001_00004.png  \n",
            "  inflating: train/9/00009_00001_00005.png  \n",
            "  inflating: train/9/00009_00001_00006.png  \n",
            "  inflating: train/9/00009_00001_00007.png  \n",
            "  inflating: train/9/00009_00001_00008.png  \n",
            "  inflating: train/9/00009_00001_00009.png  \n",
            "  inflating: train/9/00009_00001_00010.png  \n",
            "  inflating: train/9/00009_00001_00011.png  \n",
            "  inflating: train/9/00009_00001_00012.png  \n",
            "  inflating: train/9/00009_00001_00013.png  \n",
            "  inflating: train/9/00009_00001_00014.png  \n",
            "  inflating: train/9/00009_00001_00015.png  \n",
            "  inflating: train/9/00009_00001_00016.png  \n",
            "  inflating: train/9/00009_00001_00017.png  \n",
            "  inflating: train/9/00009_00001_00018.png  \n",
            "  inflating: train/9/00009_00001_00019.png  \n",
            "  inflating: train/9/00009_00001_00020.png  \n",
            "  inflating: train/9/00009_00001_00021.png  \n",
            "  inflating: train/9/00009_00001_00022.png  \n",
            "  inflating: train/9/00009_00001_00023.png  \n",
            "  inflating: train/9/00009_00001_00024.png  \n",
            "  inflating: train/9/00009_00001_00025.png  \n",
            "  inflating: train/9/00009_00001_00026.png  \n",
            "  inflating: train/9/00009_00001_00027.png  \n",
            "  inflating: train/9/00009_00001_00028.png  \n",
            "  inflating: train/9/00009_00001_00029.png  \n",
            "  inflating: train/9/00009_00002_00000.png  \n",
            "  inflating: train/9/00009_00002_00001.png  \n",
            "  inflating: train/9/00009_00002_00002.png  \n",
            "  inflating: train/9/00009_00002_00003.png  \n",
            "  inflating: train/9/00009_00002_00004.png  \n",
            "  inflating: train/9/00009_00002_00005.png  \n",
            "  inflating: train/9/00009_00002_00006.png  \n",
            "  inflating: train/9/00009_00002_00007.png  \n",
            "  inflating: train/9/00009_00002_00008.png  \n",
            "  inflating: train/9/00009_00002_00009.png  \n",
            "  inflating: train/9/00009_00002_00010.png  \n",
            "  inflating: train/9/00009_00002_00011.png  \n",
            "  inflating: train/9/00009_00002_00012.png  \n",
            "  inflating: train/9/00009_00002_00013.png  \n",
            "  inflating: train/9/00009_00002_00014.png  \n",
            "  inflating: train/9/00009_00002_00015.png  \n",
            "  inflating: train/9/00009_00002_00016.png  \n",
            "  inflating: train/9/00009_00002_00017.png  \n",
            "  inflating: train/9/00009_00002_00018.png  \n",
            "  inflating: train/9/00009_00002_00019.png  \n",
            "  inflating: train/9/00009_00002_00020.png  \n",
            "  inflating: train/9/00009_00002_00021.png  \n",
            "  inflating: train/9/00009_00002_00022.png  \n",
            "  inflating: train/9/00009_00002_00023.png  \n",
            "  inflating: train/9/00009_00002_00024.png  \n",
            "  inflating: train/9/00009_00002_00025.png  \n",
            "  inflating: train/9/00009_00002_00026.png  \n",
            "  inflating: train/9/00009_00002_00027.png  \n",
            "  inflating: train/9/00009_00002_00028.png  \n",
            "  inflating: train/9/00009_00002_00029.png  \n",
            "  inflating: train/9/00009_00003_00000.png  \n",
            "  inflating: train/9/00009_00003_00001.png  \n",
            "  inflating: train/9/00009_00003_00002.png  \n",
            "  inflating: train/9/00009_00003_00003.png  \n",
            "  inflating: train/9/00009_00003_00004.png  \n",
            "  inflating: train/9/00009_00003_00005.png  \n",
            "  inflating: train/9/00009_00003_00006.png  \n",
            "  inflating: train/9/00009_00003_00007.png  \n",
            "  inflating: train/9/00009_00003_00008.png  \n",
            "  inflating: train/9/00009_00003_00009.png  \n",
            "  inflating: train/9/00009_00003_00010.png  \n",
            "  inflating: train/9/00009_00003_00011.png  \n",
            "  inflating: train/9/00009_00003_00012.png  \n",
            "  inflating: train/9/00009_00003_00013.png  \n",
            "  inflating: train/9/00009_00003_00014.png  \n",
            "  inflating: train/9/00009_00003_00015.png  \n",
            "  inflating: train/9/00009_00003_00016.png  \n",
            "  inflating: train/9/00009_00003_00017.png  \n",
            "  inflating: train/9/00009_00003_00018.png  \n",
            "  inflating: train/9/00009_00003_00019.png  \n",
            "  inflating: train/9/00009_00003_00020.png  \n",
            "  inflating: train/9/00009_00003_00021.png  \n",
            "  inflating: train/9/00009_00003_00022.png  \n",
            "  inflating: train/9/00009_00003_00023.png  \n",
            "  inflating: train/9/00009_00003_00024.png  \n",
            "  inflating: train/9/00009_00003_00025.png  \n",
            "  inflating: train/9/00009_00003_00026.png  \n",
            "  inflating: train/9/00009_00003_00027.png  \n",
            "  inflating: train/9/00009_00003_00028.png  \n",
            "  inflating: train/9/00009_00003_00029.png  \n",
            "  inflating: train/9/00009_00004_00000.png  \n",
            "  inflating: train/9/00009_00004_00001.png  \n",
            "  inflating: train/9/00009_00004_00002.png  \n",
            "  inflating: train/9/00009_00004_00003.png  \n",
            "  inflating: train/9/00009_00004_00004.png  \n",
            "  inflating: train/9/00009_00004_00005.png  \n",
            "  inflating: train/9/00009_00004_00006.png  \n",
            "  inflating: train/9/00009_00004_00007.png  \n",
            "  inflating: train/9/00009_00004_00008.png  \n",
            "  inflating: train/9/00009_00004_00009.png  \n",
            "  inflating: train/9/00009_00004_00010.png  \n",
            "  inflating: train/9/00009_00004_00011.png  \n",
            "  inflating: train/9/00009_00004_00012.png  \n",
            "  inflating: train/9/00009_00004_00013.png  \n",
            "  inflating: train/9/00009_00004_00014.png  \n",
            "  inflating: train/9/00009_00004_00015.png  \n",
            "  inflating: train/9/00009_00004_00016.png  \n",
            "  inflating: train/9/00009_00004_00017.png  \n",
            "  inflating: train/9/00009_00004_00018.png  \n",
            "  inflating: train/9/00009_00004_00019.png  \n",
            "  inflating: train/9/00009_00004_00020.png  \n",
            "  inflating: train/9/00009_00004_00021.png  \n",
            "  inflating: train/9/00009_00004_00022.png  \n",
            "  inflating: train/9/00009_00004_00023.png  \n",
            "  inflating: train/9/00009_00004_00024.png  \n",
            "  inflating: train/9/00009_00004_00025.png  \n",
            "  inflating: train/9/00009_00004_00026.png  \n",
            "  inflating: train/9/00009_00004_00027.png  \n",
            "  inflating: train/9/00009_00004_00028.png  \n",
            "  inflating: train/9/00009_00004_00029.png  \n",
            "  inflating: train/9/00009_00005_00000.png  \n",
            "  inflating: train/9/00009_00005_00001.png  \n",
            "  inflating: train/9/00009_00005_00002.png  \n",
            "  inflating: train/9/00009_00005_00003.png  \n",
            "  inflating: train/9/00009_00005_00004.png  \n",
            "  inflating: train/9/00009_00005_00005.png  \n",
            "  inflating: train/9/00009_00005_00006.png  \n",
            "  inflating: train/9/00009_00005_00007.png  \n",
            "  inflating: train/9/00009_00005_00008.png  \n",
            "  inflating: train/9/00009_00005_00009.png  \n",
            "  inflating: train/9/00009_00005_00010.png  \n",
            "  inflating: train/9/00009_00005_00011.png  \n",
            "  inflating: train/9/00009_00005_00012.png  \n",
            "  inflating: train/9/00009_00005_00013.png  \n",
            "  inflating: train/9/00009_00005_00014.png  \n",
            "  inflating: train/9/00009_00005_00015.png  \n",
            "  inflating: train/9/00009_00005_00016.png  \n",
            "  inflating: train/9/00009_00005_00017.png  \n",
            "  inflating: train/9/00009_00005_00018.png  \n",
            "  inflating: train/9/00009_00005_00019.png  \n",
            "  inflating: train/9/00009_00005_00020.png  \n",
            "  inflating: train/9/00009_00005_00021.png  \n",
            "  inflating: train/9/00009_00005_00022.png  \n",
            "  inflating: train/9/00009_00005_00023.png  \n",
            "  inflating: train/9/00009_00005_00024.png  \n",
            "  inflating: train/9/00009_00005_00025.png  \n",
            "  inflating: train/9/00009_00005_00026.png  \n",
            "  inflating: train/9/00009_00005_00027.png  \n",
            "  inflating: train/9/00009_00005_00028.png  \n",
            "  inflating: train/9/00009_00005_00029.png  \n",
            "  inflating: train/9/00009_00006_00000.png  \n",
            "  inflating: train/9/00009_00006_00001.png  \n",
            "  inflating: train/9/00009_00006_00002.png  \n",
            "  inflating: train/9/00009_00006_00003.png  \n",
            "  inflating: train/9/00009_00006_00004.png  \n",
            "  inflating: train/9/00009_00006_00005.png  \n",
            "  inflating: train/9/00009_00006_00006.png  \n",
            "  inflating: train/9/00009_00006_00007.png  \n",
            "  inflating: train/9/00009_00006_00008.png  \n",
            "  inflating: train/9/00009_00006_00009.png  \n",
            "  inflating: train/9/00009_00006_00010.png  \n",
            "  inflating: train/9/00009_00006_00011.png  \n",
            "  inflating: train/9/00009_00006_00012.png  \n",
            "  inflating: train/9/00009_00006_00013.png  \n",
            "  inflating: train/9/00009_00006_00014.png  \n",
            "  inflating: train/9/00009_00006_00015.png  \n",
            "  inflating: train/9/00009_00006_00016.png  \n",
            "  inflating: train/9/00009_00006_00017.png  \n",
            "  inflating: train/9/00009_00006_00018.png  \n",
            "  inflating: train/9/00009_00006_00019.png  \n",
            "  inflating: train/9/00009_00006_00020.png  \n",
            "  inflating: train/9/00009_00006_00021.png  \n",
            "  inflating: train/9/00009_00006_00022.png  \n",
            "  inflating: train/9/00009_00006_00023.png  \n",
            "  inflating: train/9/00009_00006_00024.png  \n",
            "  inflating: train/9/00009_00006_00025.png  \n",
            "  inflating: train/9/00009_00006_00026.png  \n",
            "  inflating: train/9/00009_00006_00027.png  \n",
            "  inflating: train/9/00009_00006_00028.png  \n",
            "  inflating: train/9/00009_00006_00029.png  \n",
            "  inflating: train/9/00009_00007_00000.png  \n",
            "  inflating: train/9/00009_00007_00001.png  \n",
            "  inflating: train/9/00009_00007_00002.png  \n",
            "  inflating: train/9/00009_00007_00003.png  \n",
            "  inflating: train/9/00009_00007_00004.png  \n",
            "  inflating: train/9/00009_00007_00005.png  \n",
            "  inflating: train/9/00009_00007_00006.png  \n",
            "  inflating: train/9/00009_00007_00007.png  \n",
            "  inflating: train/9/00009_00007_00008.png  \n",
            "  inflating: train/9/00009_00007_00009.png  \n",
            "  inflating: train/9/00009_00007_00010.png  \n",
            "  inflating: train/9/00009_00007_00011.png  \n",
            "  inflating: train/9/00009_00007_00012.png  \n",
            "  inflating: train/9/00009_00007_00013.png  \n",
            "  inflating: train/9/00009_00007_00014.png  \n",
            "  inflating: train/9/00009_00007_00015.png  \n",
            "  inflating: train/9/00009_00007_00016.png  \n",
            "  inflating: train/9/00009_00007_00017.png  \n",
            "  inflating: train/9/00009_00007_00018.png  \n",
            "  inflating: train/9/00009_00007_00019.png  \n",
            "  inflating: train/9/00009_00007_00020.png  \n",
            "  inflating: train/9/00009_00007_00021.png  \n",
            "  inflating: train/9/00009_00007_00022.png  \n",
            "  inflating: train/9/00009_00007_00023.png  \n",
            "  inflating: train/9/00009_00007_00024.png  \n",
            "  inflating: train/9/00009_00007_00025.png  \n",
            "  inflating: train/9/00009_00007_00026.png  \n",
            "  inflating: train/9/00009_00007_00027.png  \n",
            "  inflating: train/9/00009_00007_00028.png  \n",
            "  inflating: train/9/00009_00007_00029.png  \n",
            "  inflating: train/9/00009_00008_00000.png  \n",
            "  inflating: train/9/00009_00008_00001.png  \n",
            "  inflating: train/9/00009_00008_00002.png  \n",
            "  inflating: train/9/00009_00008_00003.png  \n",
            "  inflating: train/9/00009_00008_00004.png  \n",
            "  inflating: train/9/00009_00008_00005.png  \n",
            "  inflating: train/9/00009_00008_00006.png  \n",
            "  inflating: train/9/00009_00008_00007.png  \n",
            "  inflating: train/9/00009_00008_00008.png  \n",
            "  inflating: train/9/00009_00008_00009.png  \n",
            "  inflating: train/9/00009_00008_00010.png  \n",
            "  inflating: train/9/00009_00008_00011.png  \n",
            "  inflating: train/9/00009_00008_00012.png  \n",
            "  inflating: train/9/00009_00008_00013.png  \n",
            "  inflating: train/9/00009_00008_00014.png  \n",
            "  inflating: train/9/00009_00008_00015.png  \n",
            "  inflating: train/9/00009_00008_00016.png  \n",
            "  inflating: train/9/00009_00008_00017.png  \n",
            "  inflating: train/9/00009_00008_00018.png  \n",
            "  inflating: train/9/00009_00008_00019.png  \n",
            "  inflating: train/9/00009_00008_00020.png  \n",
            "  inflating: train/9/00009_00008_00021.png  \n",
            "  inflating: train/9/00009_00008_00022.png  \n",
            "  inflating: train/9/00009_00008_00023.png  \n",
            "  inflating: train/9/00009_00008_00024.png  \n",
            "  inflating: train/9/00009_00008_00025.png  \n",
            "  inflating: train/9/00009_00008_00026.png  \n",
            "  inflating: train/9/00009_00008_00027.png  \n",
            "  inflating: train/9/00009_00008_00028.png  \n",
            "  inflating: train/9/00009_00008_00029.png  \n",
            "  inflating: train/9/00009_00009_00000.png  \n",
            "  inflating: train/9/00009_00009_00001.png  \n",
            "  inflating: train/9/00009_00009_00002.png  \n",
            "  inflating: train/9/00009_00009_00003.png  \n",
            "  inflating: train/9/00009_00009_00004.png  \n",
            "  inflating: train/9/00009_00009_00005.png  \n",
            "  inflating: train/9/00009_00009_00006.png  \n",
            "  inflating: train/9/00009_00009_00007.png  \n",
            "  inflating: train/9/00009_00009_00008.png  \n",
            "  inflating: train/9/00009_00009_00009.png  \n",
            "  inflating: train/9/00009_00009_00010.png  \n",
            "  inflating: train/9/00009_00009_00011.png  \n",
            "  inflating: train/9/00009_00009_00012.png  \n",
            "  inflating: train/9/00009_00009_00013.png  \n",
            "  inflating: train/9/00009_00009_00014.png  \n",
            "  inflating: train/9/00009_00009_00015.png  \n",
            "  inflating: train/9/00009_00009_00016.png  \n",
            "  inflating: train/9/00009_00009_00017.png  \n",
            "  inflating: train/9/00009_00009_00018.png  \n",
            "  inflating: train/9/00009_00009_00019.png  \n",
            "  inflating: train/9/00009_00009_00020.png  \n",
            "  inflating: train/9/00009_00009_00021.png  \n",
            "  inflating: train/9/00009_00009_00022.png  \n",
            "  inflating: train/9/00009_00009_00023.png  \n",
            "  inflating: train/9/00009_00009_00024.png  \n",
            "  inflating: train/9/00009_00009_00025.png  \n",
            "  inflating: train/9/00009_00009_00026.png  \n",
            "  inflating: train/9/00009_00009_00027.png  \n",
            "  inflating: train/9/00009_00009_00028.png  \n",
            "  inflating: train/9/00009_00009_00029.png  \n",
            "  inflating: train/9/00009_00010_00000.png  \n",
            "  inflating: train/9/00009_00010_00001.png  \n",
            "  inflating: train/9/00009_00010_00002.png  \n",
            "  inflating: train/9/00009_00010_00003.png  \n",
            "  inflating: train/9/00009_00010_00004.png  \n",
            "  inflating: train/9/00009_00010_00005.png  \n",
            "  inflating: train/9/00009_00010_00006.png  \n",
            "  inflating: train/9/00009_00010_00007.png  \n",
            "  inflating: train/9/00009_00010_00008.png  \n",
            "  inflating: train/9/00009_00010_00009.png  \n",
            "  inflating: train/9/00009_00010_00010.png  \n",
            "  inflating: train/9/00009_00010_00011.png  \n",
            "  inflating: train/9/00009_00010_00012.png  \n",
            "  inflating: train/9/00009_00010_00013.png  \n",
            "  inflating: train/9/00009_00010_00014.png  \n",
            "  inflating: train/9/00009_00010_00015.png  \n",
            "  inflating: train/9/00009_00010_00016.png  \n",
            "  inflating: train/9/00009_00010_00017.png  \n",
            "  inflating: train/9/00009_00010_00018.png  \n",
            "  inflating: train/9/00009_00010_00019.png  \n",
            "  inflating: train/9/00009_00010_00020.png  \n",
            "  inflating: train/9/00009_00010_00021.png  \n",
            "  inflating: train/9/00009_00010_00022.png  \n",
            "  inflating: train/9/00009_00010_00023.png  \n",
            "  inflating: train/9/00009_00010_00024.png  \n",
            "  inflating: train/9/00009_00010_00025.png  \n",
            "  inflating: train/9/00009_00010_00026.png  \n",
            "  inflating: train/9/00009_00010_00027.png  \n",
            "  inflating: train/9/00009_00010_00028.png  \n",
            "  inflating: train/9/00009_00010_00029.png  \n",
            "  inflating: train/9/00009_00011_00000.png  \n",
            "  inflating: train/9/00009_00011_00001.png  \n",
            "  inflating: train/9/00009_00011_00002.png  \n",
            "  inflating: train/9/00009_00011_00003.png  \n",
            "  inflating: train/9/00009_00011_00004.png  \n",
            "  inflating: train/9/00009_00011_00005.png  \n",
            "  inflating: train/9/00009_00011_00006.png  \n",
            "  inflating: train/9/00009_00011_00007.png  \n",
            "  inflating: train/9/00009_00011_00008.png  \n",
            "  inflating: train/9/00009_00011_00009.png  \n",
            "  inflating: train/9/00009_00011_00010.png  \n",
            "  inflating: train/9/00009_00011_00011.png  \n",
            "  inflating: train/9/00009_00011_00012.png  \n",
            "  inflating: train/9/00009_00011_00013.png  \n",
            "  inflating: train/9/00009_00011_00014.png  \n",
            "  inflating: train/9/00009_00011_00015.png  \n",
            "  inflating: train/9/00009_00011_00016.png  \n",
            "  inflating: train/9/00009_00011_00017.png  \n",
            "  inflating: train/9/00009_00011_00018.png  \n",
            "  inflating: train/9/00009_00011_00019.png  \n",
            "  inflating: train/9/00009_00011_00020.png  \n",
            "  inflating: train/9/00009_00011_00021.png  \n",
            "  inflating: train/9/00009_00011_00022.png  \n",
            "  inflating: train/9/00009_00011_00023.png  \n",
            "  inflating: train/9/00009_00011_00024.png  \n",
            "  inflating: train/9/00009_00011_00025.png  \n",
            "  inflating: train/9/00009_00011_00026.png  \n",
            "  inflating: train/9/00009_00011_00027.png  \n",
            "  inflating: train/9/00009_00011_00028.png  \n",
            "  inflating: train/9/00009_00011_00029.png  \n",
            "  inflating: train/9/00009_00012_00000.png  \n",
            "  inflating: train/9/00009_00012_00001.png  \n",
            "  inflating: train/9/00009_00012_00002.png  \n",
            "  inflating: train/9/00009_00012_00003.png  \n",
            "  inflating: train/9/00009_00012_00004.png  \n",
            "  inflating: train/9/00009_00012_00005.png  \n",
            "  inflating: train/9/00009_00012_00006.png  \n",
            "  inflating: train/9/00009_00012_00007.png  \n",
            "  inflating: train/9/00009_00012_00008.png  \n",
            "  inflating: train/9/00009_00012_00009.png  \n",
            "  inflating: train/9/00009_00012_00010.png  \n",
            "  inflating: train/9/00009_00012_00011.png  \n",
            "  inflating: train/9/00009_00012_00012.png  \n",
            "  inflating: train/9/00009_00012_00013.png  \n",
            "  inflating: train/9/00009_00012_00014.png  \n",
            "  inflating: train/9/00009_00012_00015.png  \n",
            "  inflating: train/9/00009_00012_00016.png  \n",
            "  inflating: train/9/00009_00012_00017.png  \n",
            "  inflating: train/9/00009_00012_00018.png  \n",
            "  inflating: train/9/00009_00012_00019.png  \n",
            "  inflating: train/9/00009_00012_00020.png  \n",
            "  inflating: train/9/00009_00012_00021.png  \n",
            "  inflating: train/9/00009_00012_00022.png  \n",
            "  inflating: train/9/00009_00012_00023.png  \n",
            "  inflating: train/9/00009_00012_00024.png  \n",
            "  inflating: train/9/00009_00012_00025.png  \n",
            "  inflating: train/9/00009_00012_00026.png  \n",
            "  inflating: train/9/00009_00012_00027.png  \n",
            "  inflating: train/9/00009_00012_00028.png  \n",
            "  inflating: train/9/00009_00012_00029.png  \n",
            "  inflating: train/9/00009_00013_00000.png  \n",
            "  inflating: train/9/00009_00013_00001.png  \n",
            "  inflating: train/9/00009_00013_00002.png  \n",
            "  inflating: train/9/00009_00013_00003.png  \n",
            "  inflating: train/9/00009_00013_00004.png  \n",
            "  inflating: train/9/00009_00013_00005.png  \n",
            "  inflating: train/9/00009_00013_00006.png  \n",
            "  inflating: train/9/00009_00013_00007.png  \n",
            "  inflating: train/9/00009_00013_00008.png  \n",
            "  inflating: train/9/00009_00013_00009.png  \n",
            "  inflating: train/9/00009_00013_00010.png  \n",
            "  inflating: train/9/00009_00013_00011.png  \n",
            "  inflating: train/9/00009_00013_00012.png  \n",
            "  inflating: train/9/00009_00013_00013.png  \n",
            "  inflating: train/9/00009_00013_00014.png  \n",
            "  inflating: train/9/00009_00013_00015.png  \n",
            "  inflating: train/9/00009_00013_00016.png  \n",
            "  inflating: train/9/00009_00013_00017.png  \n",
            "  inflating: train/9/00009_00013_00018.png  \n",
            "  inflating: train/9/00009_00013_00019.png  \n",
            "  inflating: train/9/00009_00013_00020.png  \n",
            "  inflating: train/9/00009_00013_00021.png  \n",
            "  inflating: train/9/00009_00013_00022.png  \n",
            "  inflating: train/9/00009_00013_00023.png  \n",
            "  inflating: train/9/00009_00013_00024.png  \n",
            "  inflating: train/9/00009_00013_00025.png  \n",
            "  inflating: train/9/00009_00013_00026.png  \n",
            "  inflating: train/9/00009_00013_00027.png  \n",
            "  inflating: train/9/00009_00013_00028.png  \n",
            "  inflating: train/9/00009_00013_00029.png  \n",
            "  inflating: train/9/00009_00014_00000.png  \n",
            "  inflating: train/9/00009_00014_00001.png  \n",
            "  inflating: train/9/00009_00014_00002.png  \n",
            "  inflating: train/9/00009_00014_00003.png  \n",
            "  inflating: train/9/00009_00014_00004.png  \n",
            "  inflating: train/9/00009_00014_00005.png  \n",
            "  inflating: train/9/00009_00014_00006.png  \n",
            "  inflating: train/9/00009_00014_00007.png  \n",
            "  inflating: train/9/00009_00014_00008.png  \n",
            "  inflating: train/9/00009_00014_00009.png  \n",
            "  inflating: train/9/00009_00014_00010.png  \n",
            "  inflating: train/9/00009_00014_00011.png  \n",
            "  inflating: train/9/00009_00014_00012.png  \n",
            "  inflating: train/9/00009_00014_00013.png  \n",
            "  inflating: train/9/00009_00014_00014.png  \n",
            "  inflating: train/9/00009_00014_00015.png  \n",
            "  inflating: train/9/00009_00014_00016.png  \n",
            "  inflating: train/9/00009_00014_00017.png  \n",
            "  inflating: train/9/00009_00014_00018.png  \n",
            "  inflating: train/9/00009_00014_00019.png  \n",
            "  inflating: train/9/00009_00014_00020.png  \n",
            "  inflating: train/9/00009_00014_00021.png  \n",
            "  inflating: train/9/00009_00014_00022.png  \n",
            "  inflating: train/9/00009_00014_00023.png  \n",
            "  inflating: train/9/00009_00014_00024.png  \n",
            "  inflating: train/9/00009_00014_00025.png  \n",
            "  inflating: train/9/00009_00014_00026.png  \n",
            "  inflating: train/9/00009_00014_00027.png  \n",
            "  inflating: train/9/00009_00014_00028.png  \n",
            "  inflating: train/9/00009_00014_00029.png  \n",
            "  inflating: train/9/00009_00015_00000.png  \n",
            "  inflating: train/9/00009_00015_00001.png  \n",
            "  inflating: train/9/00009_00015_00002.png  \n",
            "  inflating: train/9/00009_00015_00003.png  \n",
            "  inflating: train/9/00009_00015_00004.png  \n",
            "  inflating: train/9/00009_00015_00005.png  \n",
            "  inflating: train/9/00009_00015_00006.png  \n",
            "  inflating: train/9/00009_00015_00007.png  \n",
            "  inflating: train/9/00009_00015_00008.png  \n",
            "  inflating: train/9/00009_00015_00009.png  \n",
            "  inflating: train/9/00009_00015_00010.png  \n",
            "  inflating: train/9/00009_00015_00011.png  \n",
            "  inflating: train/9/00009_00015_00012.png  \n",
            "  inflating: train/9/00009_00015_00013.png  \n",
            "  inflating: train/9/00009_00015_00014.png  \n",
            "  inflating: train/9/00009_00015_00015.png  \n",
            "  inflating: train/9/00009_00015_00016.png  \n",
            "  inflating: train/9/00009_00015_00017.png  \n",
            "  inflating: train/9/00009_00015_00018.png  \n",
            "  inflating: train/9/00009_00015_00019.png  \n",
            "  inflating: train/9/00009_00015_00020.png  \n",
            "  inflating: train/9/00009_00015_00021.png  \n",
            "  inflating: train/9/00009_00015_00022.png  \n",
            "  inflating: train/9/00009_00015_00023.png  \n",
            "  inflating: train/9/00009_00015_00024.png  \n",
            "  inflating: train/9/00009_00015_00025.png  \n",
            "  inflating: train/9/00009_00015_00026.png  \n",
            "  inflating: train/9/00009_00015_00027.png  \n",
            "  inflating: train/9/00009_00015_00028.png  \n",
            "  inflating: train/9/00009_00015_00029.png  \n",
            "  inflating: train/9/00009_00016_00000.png  \n",
            "  inflating: train/9/00009_00016_00001.png  \n",
            "  inflating: train/9/00009_00016_00002.png  \n",
            "  inflating: train/9/00009_00016_00003.png  \n",
            "  inflating: train/9/00009_00016_00004.png  \n",
            "  inflating: train/9/00009_00016_00005.png  \n",
            "  inflating: train/9/00009_00016_00006.png  \n",
            "  inflating: train/9/00009_00016_00007.png  \n",
            "  inflating: train/9/00009_00016_00008.png  \n",
            "  inflating: train/9/00009_00016_00009.png  \n",
            "  inflating: train/9/00009_00016_00010.png  \n",
            "  inflating: train/9/00009_00016_00011.png  \n",
            "  inflating: train/9/00009_00016_00012.png  \n",
            "  inflating: train/9/00009_00016_00013.png  \n",
            "  inflating: train/9/00009_00016_00014.png  \n",
            "  inflating: train/9/00009_00016_00015.png  \n",
            "  inflating: train/9/00009_00016_00016.png  \n",
            "  inflating: train/9/00009_00016_00017.png  \n",
            "  inflating: train/9/00009_00016_00018.png  \n",
            "  inflating: train/9/00009_00016_00019.png  \n",
            "  inflating: train/9/00009_00016_00020.png  \n",
            "  inflating: train/9/00009_00016_00021.png  \n",
            "  inflating: train/9/00009_00016_00022.png  \n",
            "  inflating: train/9/00009_00016_00023.png  \n",
            "  inflating: train/9/00009_00016_00024.png  \n",
            "  inflating: train/9/00009_00016_00025.png  \n",
            "  inflating: train/9/00009_00016_00026.png  \n",
            "  inflating: train/9/00009_00016_00027.png  \n",
            "  inflating: train/9/00009_00016_00028.png  \n",
            "  inflating: train/9/00009_00016_00029.png  \n",
            "  inflating: train/9/00009_00017_00000.png  \n",
            "  inflating: train/9/00009_00017_00001.png  \n",
            "  inflating: train/9/00009_00017_00002.png  \n",
            "  inflating: train/9/00009_00017_00003.png  \n",
            "  inflating: train/9/00009_00017_00004.png  \n",
            "  inflating: train/9/00009_00017_00005.png  \n",
            "  inflating: train/9/00009_00017_00006.png  \n",
            "  inflating: train/9/00009_00017_00007.png  \n",
            "  inflating: train/9/00009_00017_00008.png  \n",
            "  inflating: train/9/00009_00017_00009.png  \n",
            "  inflating: train/9/00009_00017_00010.png  \n",
            "  inflating: train/9/00009_00017_00011.png  \n",
            "  inflating: train/9/00009_00017_00012.png  \n",
            "  inflating: train/9/00009_00017_00013.png  \n",
            "  inflating: train/9/00009_00017_00014.png  \n",
            "  inflating: train/9/00009_00017_00015.png  \n",
            "  inflating: train/9/00009_00017_00016.png  \n",
            "  inflating: train/9/00009_00017_00017.png  \n",
            "  inflating: train/9/00009_00017_00018.png  \n",
            "  inflating: train/9/00009_00017_00019.png  \n",
            "  inflating: train/9/00009_00017_00020.png  \n",
            "  inflating: train/9/00009_00017_00021.png  \n",
            "  inflating: train/9/00009_00017_00022.png  \n",
            "  inflating: train/9/00009_00017_00023.png  \n",
            "  inflating: train/9/00009_00017_00024.png  \n",
            "  inflating: train/9/00009_00017_00025.png  \n",
            "  inflating: train/9/00009_00017_00026.png  \n",
            "  inflating: train/9/00009_00017_00027.png  \n",
            "  inflating: train/9/00009_00017_00028.png  \n",
            "  inflating: train/9/00009_00017_00029.png  \n",
            "  inflating: train/9/00009_00018_00000.png  \n",
            "  inflating: train/9/00009_00018_00001.png  \n",
            "  inflating: train/9/00009_00018_00002.png  \n",
            "  inflating: train/9/00009_00018_00003.png  \n",
            "  inflating: train/9/00009_00018_00004.png  \n",
            "  inflating: train/9/00009_00018_00005.png  \n",
            "  inflating: train/9/00009_00018_00006.png  \n",
            "  inflating: train/9/00009_00018_00007.png  \n",
            "  inflating: train/9/00009_00018_00008.png  \n",
            "  inflating: train/9/00009_00018_00009.png  \n",
            "  inflating: train/9/00009_00018_00010.png  \n",
            "  inflating: train/9/00009_00018_00011.png  \n",
            "  inflating: train/9/00009_00018_00012.png  \n",
            "  inflating: train/9/00009_00018_00013.png  \n",
            "  inflating: train/9/00009_00018_00014.png  \n",
            "  inflating: train/9/00009_00018_00015.png  \n",
            "  inflating: train/9/00009_00018_00016.png  \n",
            "  inflating: train/9/00009_00018_00017.png  \n",
            "  inflating: train/9/00009_00018_00018.png  \n",
            "  inflating: train/9/00009_00018_00019.png  \n",
            "  inflating: train/9/00009_00018_00020.png  \n",
            "  inflating: train/9/00009_00018_00021.png  \n",
            "  inflating: train/9/00009_00018_00022.png  \n",
            "  inflating: train/9/00009_00018_00023.png  \n",
            "  inflating: train/9/00009_00018_00024.png  \n",
            "  inflating: train/9/00009_00018_00025.png  \n",
            "  inflating: train/9/00009_00018_00026.png  \n",
            "  inflating: train/9/00009_00018_00027.png  \n",
            "  inflating: train/9/00009_00018_00028.png  \n",
            "  inflating: train/9/00009_00018_00029.png  \n",
            "  inflating: train/9/00009_00019_00000.png  \n",
            "  inflating: train/9/00009_00019_00001.png  \n",
            "  inflating: train/9/00009_00019_00002.png  \n",
            "  inflating: train/9/00009_00019_00003.png  \n",
            "  inflating: train/9/00009_00019_00004.png  \n",
            "  inflating: train/9/00009_00019_00005.png  \n",
            "  inflating: train/9/00009_00019_00006.png  \n",
            "  inflating: train/9/00009_00019_00007.png  \n",
            "  inflating: train/9/00009_00019_00008.png  \n",
            "  inflating: train/9/00009_00019_00009.png  \n",
            "  inflating: train/9/00009_00019_00010.png  \n",
            "  inflating: train/9/00009_00019_00011.png  \n",
            "  inflating: train/9/00009_00019_00012.png  \n",
            "  inflating: train/9/00009_00019_00013.png  \n",
            "  inflating: train/9/00009_00019_00014.png  \n",
            "  inflating: train/9/00009_00019_00015.png  \n",
            "  inflating: train/9/00009_00019_00016.png  \n",
            "  inflating: train/9/00009_00019_00017.png  \n",
            "  inflating: train/9/00009_00019_00018.png  \n",
            "  inflating: train/9/00009_00019_00019.png  \n",
            "  inflating: train/9/00009_00019_00020.png  \n",
            "  inflating: train/9/00009_00019_00021.png  \n",
            "  inflating: train/9/00009_00019_00022.png  \n",
            "  inflating: train/9/00009_00019_00023.png  \n",
            "  inflating: train/9/00009_00019_00024.png  \n",
            "  inflating: train/9/00009_00019_00025.png  \n",
            "  inflating: train/9/00009_00019_00026.png  \n",
            "  inflating: train/9/00009_00019_00027.png  \n",
            "  inflating: train/9/00009_00019_00028.png  \n",
            "  inflating: train/9/00009_00019_00029.png  \n",
            "  inflating: train/9/00009_00020_00000.png  \n",
            "  inflating: train/9/00009_00020_00001.png  \n",
            "  inflating: train/9/00009_00020_00002.png  \n",
            "  inflating: train/9/00009_00020_00003.png  \n",
            "  inflating: train/9/00009_00020_00004.png  \n",
            "  inflating: train/9/00009_00020_00005.png  \n",
            "  inflating: train/9/00009_00020_00006.png  \n",
            "  inflating: train/9/00009_00020_00007.png  \n",
            "  inflating: train/9/00009_00020_00008.png  \n",
            "  inflating: train/9/00009_00020_00009.png  \n",
            "  inflating: train/9/00009_00020_00010.png  \n",
            "  inflating: train/9/00009_00020_00011.png  \n",
            "  inflating: train/9/00009_00020_00012.png  \n",
            "  inflating: train/9/00009_00020_00013.png  \n",
            "  inflating: train/9/00009_00020_00014.png  \n",
            "  inflating: train/9/00009_00020_00015.png  \n",
            "  inflating: train/9/00009_00020_00016.png  \n",
            "  inflating: train/9/00009_00020_00017.png  \n",
            "  inflating: train/9/00009_00020_00018.png  \n",
            "  inflating: train/9/00009_00020_00019.png  \n",
            "  inflating: train/9/00009_00020_00020.png  \n",
            "  inflating: train/9/00009_00020_00021.png  \n",
            "  inflating: train/9/00009_00020_00022.png  \n",
            "  inflating: train/9/00009_00020_00023.png  \n",
            "  inflating: train/9/00009_00020_00024.png  \n",
            "  inflating: train/9/00009_00020_00025.png  \n",
            "  inflating: train/9/00009_00020_00026.png  \n",
            "  inflating: train/9/00009_00020_00027.png  \n",
            "  inflating: train/9/00009_00020_00028.png  \n",
            "  inflating: train/9/00009_00020_00029.png  \n",
            "  inflating: train/9/00009_00021_00000.png  \n",
            "  inflating: train/9/00009_00021_00001.png  \n",
            "  inflating: train/9/00009_00021_00002.png  \n",
            "  inflating: train/9/00009_00021_00003.png  \n",
            "  inflating: train/9/00009_00021_00004.png  \n",
            "  inflating: train/9/00009_00021_00005.png  \n",
            "  inflating: train/9/00009_00021_00006.png  \n",
            "  inflating: train/9/00009_00021_00007.png  \n",
            "  inflating: train/9/00009_00021_00008.png  \n",
            "  inflating: train/9/00009_00021_00009.png  \n",
            "  inflating: train/9/00009_00021_00010.png  \n",
            "  inflating: train/9/00009_00021_00011.png  \n",
            "  inflating: train/9/00009_00021_00012.png  \n",
            "  inflating: train/9/00009_00021_00013.png  \n",
            "  inflating: train/9/00009_00021_00014.png  \n",
            "  inflating: train/9/00009_00021_00015.png  \n",
            "  inflating: train/9/00009_00021_00016.png  \n",
            "  inflating: train/9/00009_00021_00017.png  \n",
            "  inflating: train/9/00009_00021_00018.png  \n",
            "  inflating: train/9/00009_00021_00019.png  \n",
            "  inflating: train/9/00009_00021_00020.png  \n",
            "  inflating: train/9/00009_00021_00021.png  \n",
            "  inflating: train/9/00009_00021_00022.png  \n",
            "  inflating: train/9/00009_00021_00023.png  \n",
            "  inflating: train/9/00009_00021_00024.png  \n",
            "  inflating: train/9/00009_00021_00025.png  \n",
            "  inflating: train/9/00009_00021_00026.png  \n",
            "  inflating: train/9/00009_00021_00027.png  \n",
            "  inflating: train/9/00009_00021_00028.png  \n",
            "  inflating: train/9/00009_00021_00029.png  \n",
            "  inflating: train/9/00009_00022_00000.png  \n",
            "  inflating: train/9/00009_00022_00001.png  \n",
            "  inflating: train/9/00009_00022_00002.png  \n",
            "  inflating: train/9/00009_00022_00003.png  \n",
            "  inflating: train/9/00009_00022_00004.png  \n",
            "  inflating: train/9/00009_00022_00005.png  \n",
            "  inflating: train/9/00009_00022_00006.png  \n",
            "  inflating: train/9/00009_00022_00007.png  \n",
            "  inflating: train/9/00009_00022_00008.png  \n",
            "  inflating: train/9/00009_00022_00009.png  \n",
            "  inflating: train/9/00009_00022_00010.png  \n",
            "  inflating: train/9/00009_00022_00011.png  \n",
            "  inflating: train/9/00009_00022_00012.png  \n",
            "  inflating: train/9/00009_00022_00013.png  \n",
            "  inflating: train/9/00009_00022_00014.png  \n",
            "  inflating: train/9/00009_00022_00015.png  \n",
            "  inflating: train/9/00009_00022_00016.png  \n",
            "  inflating: train/9/00009_00022_00017.png  \n",
            "  inflating: train/9/00009_00022_00018.png  \n",
            "  inflating: train/9/00009_00022_00019.png  \n",
            "  inflating: train/9/00009_00022_00020.png  \n",
            "  inflating: train/9/00009_00022_00021.png  \n",
            "  inflating: train/9/00009_00022_00022.png  \n",
            "  inflating: train/9/00009_00022_00023.png  \n",
            "  inflating: train/9/00009_00022_00024.png  \n",
            "  inflating: train/9/00009_00022_00025.png  \n",
            "  inflating: train/9/00009_00022_00026.png  \n",
            "  inflating: train/9/00009_00022_00027.png  \n",
            "  inflating: train/9/00009_00022_00028.png  \n",
            "  inflating: train/9/00009_00022_00029.png  \n",
            "  inflating: train/9/00009_00023_00000.png  \n",
            "  inflating: train/9/00009_00023_00001.png  \n",
            "  inflating: train/9/00009_00023_00002.png  \n",
            "  inflating: train/9/00009_00023_00003.png  \n",
            "  inflating: train/9/00009_00023_00004.png  \n",
            "  inflating: train/9/00009_00023_00005.png  \n",
            "  inflating: train/9/00009_00023_00006.png  \n",
            "  inflating: train/9/00009_00023_00007.png  \n",
            "  inflating: train/9/00009_00023_00008.png  \n",
            "  inflating: train/9/00009_00023_00009.png  \n",
            "  inflating: train/9/00009_00023_00010.png  \n",
            "  inflating: train/9/00009_00023_00011.png  \n",
            "  inflating: train/9/00009_00023_00012.png  \n",
            "  inflating: train/9/00009_00023_00013.png  \n",
            "  inflating: train/9/00009_00023_00014.png  \n",
            "  inflating: train/9/00009_00023_00015.png  \n",
            "  inflating: train/9/00009_00023_00016.png  \n",
            "  inflating: train/9/00009_00023_00017.png  \n",
            "  inflating: train/9/00009_00023_00018.png  \n",
            "  inflating: train/9/00009_00023_00019.png  \n",
            "  inflating: train/9/00009_00023_00020.png  \n",
            "  inflating: train/9/00009_00023_00021.png  \n",
            "  inflating: train/9/00009_00023_00022.png  \n",
            "  inflating: train/9/00009_00023_00023.png  \n",
            "  inflating: train/9/00009_00023_00024.png  \n",
            "  inflating: train/9/00009_00023_00025.png  \n",
            "  inflating: train/9/00009_00023_00026.png  \n",
            "  inflating: train/9/00009_00023_00027.png  \n",
            "  inflating: train/9/00009_00023_00028.png  \n",
            "  inflating: train/9/00009_00023_00029.png  \n",
            "  inflating: train/9/00009_00024_00000.png  \n",
            "  inflating: train/9/00009_00024_00001.png  \n",
            "  inflating: train/9/00009_00024_00002.png  \n",
            "  inflating: train/9/00009_00024_00003.png  \n",
            "  inflating: train/9/00009_00024_00004.png  \n",
            "  inflating: train/9/00009_00024_00005.png  \n",
            "  inflating: train/9/00009_00024_00006.png  \n",
            "  inflating: train/9/00009_00024_00007.png  \n",
            "  inflating: train/9/00009_00024_00008.png  \n",
            "  inflating: train/9/00009_00024_00009.png  \n",
            "  inflating: train/9/00009_00024_00010.png  \n",
            "  inflating: train/9/00009_00024_00011.png  \n",
            "  inflating: train/9/00009_00024_00012.png  \n",
            "  inflating: train/9/00009_00024_00013.png  \n",
            "  inflating: train/9/00009_00024_00014.png  \n",
            "  inflating: train/9/00009_00024_00015.png  \n",
            "  inflating: train/9/00009_00024_00016.png  \n",
            "  inflating: train/9/00009_00024_00017.png  \n",
            "  inflating: train/9/00009_00024_00018.png  \n",
            "  inflating: train/9/00009_00024_00019.png  \n",
            "  inflating: train/9/00009_00024_00020.png  \n",
            "  inflating: train/9/00009_00024_00021.png  \n",
            "  inflating: train/9/00009_00024_00022.png  \n",
            "  inflating: train/9/00009_00024_00023.png  \n",
            "  inflating: train/9/00009_00024_00024.png  \n",
            "  inflating: train/9/00009_00024_00025.png  \n",
            "  inflating: train/9/00009_00024_00026.png  \n",
            "  inflating: train/9/00009_00024_00027.png  \n",
            "  inflating: train/9/00009_00024_00028.png  \n",
            "  inflating: train/9/00009_00024_00029.png  \n",
            "  inflating: train/9/00009_00025_00000.png  \n",
            "  inflating: train/9/00009_00025_00001.png  \n",
            "  inflating: train/9/00009_00025_00002.png  \n",
            "  inflating: train/9/00009_00025_00003.png  \n",
            "  inflating: train/9/00009_00025_00004.png  \n",
            "  inflating: train/9/00009_00025_00005.png  \n",
            "  inflating: train/9/00009_00025_00006.png  \n",
            "  inflating: train/9/00009_00025_00007.png  \n",
            "  inflating: train/9/00009_00025_00008.png  \n",
            "  inflating: train/9/00009_00025_00009.png  \n",
            "  inflating: train/9/00009_00025_00010.png  \n",
            "  inflating: train/9/00009_00025_00011.png  \n",
            "  inflating: train/9/00009_00025_00012.png  \n",
            "  inflating: train/9/00009_00025_00013.png  \n",
            "  inflating: train/9/00009_00025_00014.png  \n",
            "  inflating: train/9/00009_00025_00015.png  \n",
            "  inflating: train/9/00009_00025_00016.png  \n",
            "  inflating: train/9/00009_00025_00017.png  \n",
            "  inflating: train/9/00009_00025_00018.png  \n",
            "  inflating: train/9/00009_00025_00019.png  \n",
            "  inflating: train/9/00009_00025_00020.png  \n",
            "  inflating: train/9/00009_00025_00021.png  \n",
            "  inflating: train/9/00009_00025_00022.png  \n",
            "  inflating: train/9/00009_00025_00023.png  \n",
            "  inflating: train/9/00009_00025_00024.png  \n",
            "  inflating: train/9/00009_00025_00025.png  \n",
            "  inflating: train/9/00009_00025_00026.png  \n",
            "  inflating: train/9/00009_00025_00027.png  \n",
            "  inflating: train/9/00009_00025_00028.png  \n",
            "  inflating: train/9/00009_00025_00029.png  \n",
            "  inflating: train/9/00009_00026_00000.png  \n",
            "  inflating: train/9/00009_00026_00001.png  \n",
            "  inflating: train/9/00009_00026_00002.png  \n",
            "  inflating: train/9/00009_00026_00003.png  \n",
            "  inflating: train/9/00009_00026_00004.png  \n",
            "  inflating: train/9/00009_00026_00005.png  \n",
            "  inflating: train/9/00009_00026_00006.png  \n",
            "  inflating: train/9/00009_00026_00007.png  \n",
            "  inflating: train/9/00009_00026_00008.png  \n",
            "  inflating: train/9/00009_00026_00009.png  \n",
            "  inflating: train/9/00009_00026_00010.png  \n",
            "  inflating: train/9/00009_00026_00011.png  \n",
            "  inflating: train/9/00009_00026_00012.png  \n",
            "  inflating: train/9/00009_00026_00013.png  \n",
            "  inflating: train/9/00009_00026_00014.png  \n",
            "  inflating: train/9/00009_00026_00015.png  \n",
            "  inflating: train/9/00009_00026_00016.png  \n",
            "  inflating: train/9/00009_00026_00017.png  \n",
            "  inflating: train/9/00009_00026_00018.png  \n",
            "  inflating: train/9/00009_00026_00019.png  \n",
            "  inflating: train/9/00009_00026_00020.png  \n",
            "  inflating: train/9/00009_00026_00021.png  \n",
            "  inflating: train/9/00009_00026_00022.png  \n",
            "  inflating: train/9/00009_00026_00023.png  \n",
            "  inflating: train/9/00009_00026_00024.png  \n",
            "  inflating: train/9/00009_00026_00025.png  \n",
            "  inflating: train/9/00009_00026_00026.png  \n",
            "  inflating: train/9/00009_00026_00027.png  \n",
            "  inflating: train/9/00009_00026_00028.png  \n",
            "  inflating: train/9/00009_00026_00029.png  \n",
            "  inflating: train/9/00009_00027_00000.png  \n",
            "  inflating: train/9/00009_00027_00001.png  \n",
            "  inflating: train/9/00009_00027_00002.png  \n",
            "  inflating: train/9/00009_00027_00003.png  \n",
            "  inflating: train/9/00009_00027_00004.png  \n",
            "  inflating: train/9/00009_00027_00005.png  \n",
            "  inflating: train/9/00009_00027_00006.png  \n",
            "  inflating: train/9/00009_00027_00007.png  \n",
            "  inflating: train/9/00009_00027_00008.png  \n",
            "  inflating: train/9/00009_00027_00009.png  \n",
            "  inflating: train/9/00009_00027_00010.png  \n",
            "  inflating: train/9/00009_00027_00011.png  \n",
            "  inflating: train/9/00009_00027_00012.png  \n",
            "  inflating: train/9/00009_00027_00013.png  \n",
            "  inflating: train/9/00009_00027_00014.png  \n",
            "  inflating: train/9/00009_00027_00015.png  \n",
            "  inflating: train/9/00009_00027_00016.png  \n",
            "  inflating: train/9/00009_00027_00017.png  \n",
            "  inflating: train/9/00009_00027_00018.png  \n",
            "  inflating: train/9/00009_00027_00019.png  \n",
            "  inflating: train/9/00009_00027_00020.png  \n",
            "  inflating: train/9/00009_00027_00021.png  \n",
            "  inflating: train/9/00009_00027_00022.png  \n",
            "  inflating: train/9/00009_00027_00023.png  \n",
            "  inflating: train/9/00009_00027_00024.png  \n",
            "  inflating: train/9/00009_00027_00025.png  \n",
            "  inflating: train/9/00009_00027_00026.png  \n",
            "  inflating: train/9/00009_00027_00027.png  \n",
            "  inflating: train/9/00009_00027_00028.png  \n",
            "  inflating: train/9/00009_00027_00029.png  \n",
            "  inflating: train/9/00009_00028_00000.png  \n",
            "  inflating: train/9/00009_00028_00001.png  \n",
            "  inflating: train/9/00009_00028_00002.png  \n",
            "  inflating: train/9/00009_00028_00003.png  \n",
            "  inflating: train/9/00009_00028_00004.png  \n",
            "  inflating: train/9/00009_00028_00005.png  \n",
            "  inflating: train/9/00009_00028_00006.png  \n",
            "  inflating: train/9/00009_00028_00007.png  \n",
            "  inflating: train/9/00009_00028_00008.png  \n",
            "  inflating: train/9/00009_00028_00009.png  \n",
            "  inflating: train/9/00009_00028_00010.png  \n",
            "  inflating: train/9/00009_00028_00011.png  \n",
            "  inflating: train/9/00009_00028_00012.png  \n",
            "  inflating: train/9/00009_00028_00013.png  \n",
            "  inflating: train/9/00009_00028_00014.png  \n",
            "  inflating: train/9/00009_00028_00015.png  \n",
            "  inflating: train/9/00009_00028_00016.png  \n",
            "  inflating: train/9/00009_00028_00017.png  \n",
            "  inflating: train/9/00009_00028_00018.png  \n",
            "  inflating: train/9/00009_00028_00019.png  \n",
            "  inflating: train/9/00009_00028_00020.png  \n",
            "  inflating: train/9/00009_00028_00021.png  \n",
            "  inflating: train/9/00009_00028_00022.png  \n",
            "  inflating: train/9/00009_00028_00023.png  \n",
            "  inflating: train/9/00009_00028_00024.png  \n",
            "  inflating: train/9/00009_00028_00025.png  \n",
            "  inflating: train/9/00009_00028_00026.png  \n",
            "  inflating: train/9/00009_00028_00027.png  \n",
            "  inflating: train/9/00009_00028_00028.png  \n",
            "  inflating: train/9/00009_00028_00029.png  \n",
            "  inflating: train/9/00009_00029_00000.png  \n",
            "  inflating: train/9/00009_00029_00001.png  \n",
            "  inflating: train/9/00009_00029_00002.png  \n",
            "  inflating: train/9/00009_00029_00003.png  \n",
            "  inflating: train/9/00009_00029_00004.png  \n",
            "  inflating: train/9/00009_00029_00005.png  \n",
            "  inflating: train/9/00009_00029_00006.png  \n",
            "  inflating: train/9/00009_00029_00007.png  \n",
            "  inflating: train/9/00009_00029_00008.png  \n",
            "  inflating: train/9/00009_00029_00009.png  \n",
            "  inflating: train/9/00009_00029_00010.png  \n",
            "  inflating: train/9/00009_00029_00011.png  \n",
            "  inflating: train/9/00009_00029_00012.png  \n",
            "  inflating: train/9/00009_00029_00013.png  \n",
            "  inflating: train/9/00009_00029_00014.png  \n",
            "  inflating: train/9/00009_00029_00015.png  \n",
            "  inflating: train/9/00009_00029_00016.png  \n",
            "  inflating: train/9/00009_00029_00017.png  \n",
            "  inflating: train/9/00009_00029_00018.png  \n",
            "  inflating: train/9/00009_00029_00019.png  \n",
            "  inflating: train/9/00009_00029_00020.png  \n",
            "  inflating: train/9/00009_00029_00021.png  \n",
            "  inflating: train/9/00009_00029_00022.png  \n",
            "  inflating: train/9/00009_00029_00023.png  \n",
            "  inflating: train/9/00009_00029_00024.png  \n",
            "  inflating: train/9/00009_00029_00025.png  \n",
            "  inflating: train/9/00009_00029_00026.png  \n",
            "  inflating: train/9/00009_00029_00027.png  \n",
            "  inflating: train/9/00009_00029_00028.png  \n",
            "  inflating: train/9/00009_00029_00029.png  \n",
            "  inflating: train/9/00009_00030_00000.png  \n",
            "  inflating: train/9/00009_00030_00001.png  \n",
            "  inflating: train/9/00009_00030_00002.png  \n",
            "  inflating: train/9/00009_00030_00003.png  \n",
            "  inflating: train/9/00009_00030_00004.png  \n",
            "  inflating: train/9/00009_00030_00005.png  \n",
            "  inflating: train/9/00009_00030_00006.png  \n",
            "  inflating: train/9/00009_00030_00007.png  \n",
            "  inflating: train/9/00009_00030_00008.png  \n",
            "  inflating: train/9/00009_00030_00009.png  \n",
            "  inflating: train/9/00009_00030_00010.png  \n",
            "  inflating: train/9/00009_00030_00011.png  \n",
            "  inflating: train/9/00009_00030_00012.png  \n",
            "  inflating: train/9/00009_00030_00013.png  \n",
            "  inflating: train/9/00009_00030_00014.png  \n",
            "  inflating: train/9/00009_00030_00015.png  \n",
            "  inflating: train/9/00009_00030_00016.png  \n",
            "  inflating: train/9/00009_00030_00017.png  \n",
            "  inflating: train/9/00009_00030_00018.png  \n",
            "  inflating: train/9/00009_00030_00019.png  \n",
            "  inflating: train/9/00009_00030_00020.png  \n",
            "  inflating: train/9/00009_00030_00021.png  \n",
            "  inflating: train/9/00009_00030_00022.png  \n",
            "  inflating: train/9/00009_00030_00023.png  \n",
            "  inflating: train/9/00009_00030_00024.png  \n",
            "  inflating: train/9/00009_00030_00025.png  \n",
            "  inflating: train/9/00009_00030_00026.png  \n",
            "  inflating: train/9/00009_00030_00027.png  \n",
            "  inflating: train/9/00009_00030_00028.png  \n",
            "  inflating: train/9/00009_00030_00029.png  \n",
            "  inflating: train/9/00009_00031_00000.png  \n",
            "  inflating: train/9/00009_00031_00001.png  \n",
            "  inflating: train/9/00009_00031_00002.png  \n",
            "  inflating: train/9/00009_00031_00003.png  \n",
            "  inflating: train/9/00009_00031_00004.png  \n",
            "  inflating: train/9/00009_00031_00005.png  \n",
            "  inflating: train/9/00009_00031_00006.png  \n",
            "  inflating: train/9/00009_00031_00007.png  \n",
            "  inflating: train/9/00009_00031_00008.png  \n",
            "  inflating: train/9/00009_00031_00009.png  \n",
            "  inflating: train/9/00009_00031_00010.png  \n",
            "  inflating: train/9/00009_00031_00011.png  \n",
            "  inflating: train/9/00009_00031_00012.png  \n",
            "  inflating: train/9/00009_00031_00013.png  \n",
            "  inflating: train/9/00009_00031_00014.png  \n",
            "  inflating: train/9/00009_00031_00015.png  \n",
            "  inflating: train/9/00009_00031_00016.png  \n",
            "  inflating: train/9/00009_00031_00017.png  \n",
            "  inflating: train/9/00009_00031_00018.png  \n",
            "  inflating: train/9/00009_00031_00019.png  \n",
            "  inflating: train/9/00009_00031_00020.png  \n",
            "  inflating: train/9/00009_00031_00021.png  \n",
            "  inflating: train/9/00009_00031_00022.png  \n",
            "  inflating: train/9/00009_00031_00023.png  \n",
            "  inflating: train/9/00009_00031_00024.png  \n",
            "  inflating: train/9/00009_00031_00025.png  \n",
            "  inflating: train/9/00009_00031_00026.png  \n",
            "  inflating: train/9/00009_00031_00027.png  \n",
            "  inflating: train/9/00009_00031_00028.png  \n",
            "  inflating: train/9/00009_00031_00029.png  \n",
            "  inflating: train/9/00009_00032_00000.png  \n",
            "  inflating: train/9/00009_00032_00001.png  \n",
            "  inflating: train/9/00009_00032_00002.png  \n",
            "  inflating: train/9/00009_00032_00003.png  \n",
            "  inflating: train/9/00009_00032_00004.png  \n",
            "  inflating: train/9/00009_00032_00005.png  \n",
            "  inflating: train/9/00009_00032_00006.png  \n",
            "  inflating: train/9/00009_00032_00007.png  \n",
            "  inflating: train/9/00009_00032_00008.png  \n",
            "  inflating: train/9/00009_00032_00009.png  \n",
            "  inflating: train/9/00009_00032_00010.png  \n",
            "  inflating: train/9/00009_00032_00011.png  \n",
            "  inflating: train/9/00009_00032_00012.png  \n",
            "  inflating: train/9/00009_00032_00013.png  \n",
            "  inflating: train/9/00009_00032_00014.png  \n",
            "  inflating: train/9/00009_00032_00015.png  \n",
            "  inflating: train/9/00009_00032_00016.png  \n",
            "  inflating: train/9/00009_00032_00017.png  \n",
            "  inflating: train/9/00009_00032_00018.png  \n",
            "  inflating: train/9/00009_00032_00019.png  \n",
            "  inflating: train/9/00009_00032_00020.png  \n",
            "  inflating: train/9/00009_00032_00021.png  \n",
            "  inflating: train/9/00009_00032_00022.png  \n",
            "  inflating: train/9/00009_00032_00023.png  \n",
            "  inflating: train/9/00009_00032_00024.png  \n",
            "  inflating: train/9/00009_00032_00025.png  \n",
            "  inflating: train/9/00009_00032_00026.png  \n",
            "  inflating: train/9/00009_00032_00027.png  \n",
            "  inflating: train/9/00009_00032_00028.png  \n",
            "  inflating: train/9/00009_00032_00029.png  \n",
            "  inflating: train/9/00009_00033_00000.png  \n",
            "  inflating: train/9/00009_00033_00001.png  \n",
            "  inflating: train/9/00009_00033_00002.png  \n",
            "  inflating: train/9/00009_00033_00003.png  \n",
            "  inflating: train/9/00009_00033_00004.png  \n",
            "  inflating: train/9/00009_00033_00005.png  \n",
            "  inflating: train/9/00009_00033_00006.png  \n",
            "  inflating: train/9/00009_00033_00007.png  \n",
            "  inflating: train/9/00009_00033_00008.png  \n",
            "  inflating: train/9/00009_00033_00009.png  \n",
            "  inflating: train/9/00009_00033_00010.png  \n",
            "  inflating: train/9/00009_00033_00011.png  \n",
            "  inflating: train/9/00009_00033_00012.png  \n",
            "  inflating: train/9/00009_00033_00013.png  \n",
            "  inflating: train/9/00009_00033_00014.png  \n",
            "  inflating: train/9/00009_00033_00015.png  \n",
            "  inflating: train/9/00009_00033_00016.png  \n",
            "  inflating: train/9/00009_00033_00017.png  \n",
            "  inflating: train/9/00009_00033_00018.png  \n",
            "  inflating: train/9/00009_00033_00019.png  \n",
            "  inflating: train/9/00009_00033_00020.png  \n",
            "  inflating: train/9/00009_00033_00021.png  \n",
            "  inflating: train/9/00009_00033_00022.png  \n",
            "  inflating: train/9/00009_00033_00023.png  \n",
            "  inflating: train/9/00009_00033_00024.png  \n",
            "  inflating: train/9/00009_00033_00025.png  \n",
            "  inflating: train/9/00009_00033_00026.png  \n",
            "  inflating: train/9/00009_00033_00027.png  \n",
            "  inflating: train/9/00009_00033_00028.png  \n",
            "  inflating: train/9/00009_00033_00029.png  \n",
            "  inflating: train/9/00009_00034_00000.png  \n",
            "  inflating: train/9/00009_00034_00001.png  \n",
            "  inflating: train/9/00009_00034_00002.png  \n",
            "  inflating: train/9/00009_00034_00003.png  \n",
            "  inflating: train/9/00009_00034_00004.png  \n",
            "  inflating: train/9/00009_00034_00005.png  \n",
            "  inflating: train/9/00009_00034_00006.png  \n",
            "  inflating: train/9/00009_00034_00007.png  \n",
            "  inflating: train/9/00009_00034_00008.png  \n",
            "  inflating: train/9/00009_00034_00009.png  \n",
            "  inflating: train/9/00009_00034_00010.png  \n",
            "  inflating: train/9/00009_00034_00011.png  \n",
            "  inflating: train/9/00009_00034_00012.png  \n",
            "  inflating: train/9/00009_00034_00013.png  \n",
            "  inflating: train/9/00009_00034_00014.png  \n",
            "  inflating: train/9/00009_00034_00015.png  \n",
            "  inflating: train/9/00009_00034_00016.png  \n",
            "  inflating: train/9/00009_00034_00017.png  \n",
            "  inflating: train/9/00009_00034_00018.png  \n",
            "  inflating: train/9/00009_00034_00019.png  \n",
            "  inflating: train/9/00009_00034_00020.png  \n",
            "  inflating: train/9/00009_00034_00021.png  \n",
            "  inflating: train/9/00009_00034_00022.png  \n",
            "  inflating: train/9/00009_00034_00023.png  \n",
            "  inflating: train/9/00009_00034_00024.png  \n",
            "  inflating: train/9/00009_00034_00025.png  \n",
            "  inflating: train/9/00009_00034_00026.png  \n",
            "  inflating: train/9/00009_00034_00027.png  \n",
            "  inflating: train/9/00009_00034_00028.png  \n",
            "  inflating: train/9/00009_00034_00029.png  \n",
            "  inflating: train/9/00009_00035_00000.png  \n",
            "  inflating: train/9/00009_00035_00001.png  \n",
            "  inflating: train/9/00009_00035_00002.png  \n",
            "  inflating: train/9/00009_00035_00003.png  \n",
            "  inflating: train/9/00009_00035_00004.png  \n",
            "  inflating: train/9/00009_00035_00005.png  \n",
            "  inflating: train/9/00009_00035_00006.png  \n",
            "  inflating: train/9/00009_00035_00007.png  \n",
            "  inflating: train/9/00009_00035_00008.png  \n",
            "  inflating: train/9/00009_00035_00009.png  \n",
            "  inflating: train/9/00009_00035_00010.png  \n",
            "  inflating: train/9/00009_00035_00011.png  \n",
            "  inflating: train/9/00009_00035_00012.png  \n",
            "  inflating: train/9/00009_00035_00013.png  \n",
            "  inflating: train/9/00009_00035_00014.png  \n",
            "  inflating: train/9/00009_00035_00015.png  \n",
            "  inflating: train/9/00009_00035_00016.png  \n",
            "  inflating: train/9/00009_00035_00017.png  \n",
            "  inflating: train/9/00009_00035_00018.png  \n",
            "  inflating: train/9/00009_00035_00019.png  \n",
            "  inflating: train/9/00009_00035_00020.png  \n",
            "  inflating: train/9/00009_00035_00021.png  \n",
            "  inflating: train/9/00009_00035_00022.png  \n",
            "  inflating: train/9/00009_00035_00023.png  \n",
            "  inflating: train/9/00009_00035_00024.png  \n",
            "  inflating: train/9/00009_00035_00025.png  \n",
            "  inflating: train/9/00009_00035_00026.png  \n",
            "  inflating: train/9/00009_00035_00027.png  \n",
            "  inflating: train/9/00009_00035_00028.png  \n",
            "  inflating: train/9/00009_00035_00029.png  \n",
            "  inflating: train/9/00009_00036_00000.png  \n",
            "  inflating: train/9/00009_00036_00001.png  \n",
            "  inflating: train/9/00009_00036_00002.png  \n",
            "  inflating: train/9/00009_00036_00003.png  \n",
            "  inflating: train/9/00009_00036_00004.png  \n",
            "  inflating: train/9/00009_00036_00005.png  \n",
            "  inflating: train/9/00009_00036_00006.png  \n",
            "  inflating: train/9/00009_00036_00007.png  \n",
            "  inflating: train/9/00009_00036_00008.png  \n",
            "  inflating: train/9/00009_00036_00009.png  \n",
            "  inflating: train/9/00009_00036_00010.png  \n",
            "  inflating: train/9/00009_00036_00011.png  \n",
            "  inflating: train/9/00009_00036_00012.png  \n",
            "  inflating: train/9/00009_00036_00013.png  \n",
            "  inflating: train/9/00009_00036_00014.png  \n",
            "  inflating: train/9/00009_00036_00015.png  \n",
            "  inflating: train/9/00009_00036_00016.png  \n",
            "  inflating: train/9/00009_00036_00017.png  \n",
            "  inflating: train/9/00009_00036_00018.png  \n",
            "  inflating: train/9/00009_00036_00019.png  \n",
            "  inflating: train/9/00009_00036_00020.png  \n",
            "  inflating: train/9/00009_00036_00021.png  \n",
            "  inflating: train/9/00009_00036_00022.png  \n",
            "  inflating: train/9/00009_00036_00023.png  \n",
            "  inflating: train/9/00009_00036_00024.png  \n",
            "  inflating: train/9/00009_00036_00025.png  \n",
            "  inflating: train/9/00009_00036_00026.png  \n",
            "  inflating: train/9/00009_00036_00027.png  \n",
            "  inflating: train/9/00009_00036_00028.png  \n",
            "  inflating: train/9/00009_00036_00029.png  \n",
            "  inflating: train/9/00009_00037_00000.png  \n",
            "  inflating: train/9/00009_00037_00001.png  \n",
            "  inflating: train/9/00009_00037_00002.png  \n",
            "  inflating: train/9/00009_00037_00003.png  \n",
            "  inflating: train/9/00009_00037_00004.png  \n",
            "  inflating: train/9/00009_00037_00005.png  \n",
            "  inflating: train/9/00009_00037_00006.png  \n",
            "  inflating: train/9/00009_00037_00007.png  \n",
            "  inflating: train/9/00009_00037_00008.png  \n",
            "  inflating: train/9/00009_00037_00009.png  \n",
            "  inflating: train/9/00009_00037_00010.png  \n",
            "  inflating: train/9/00009_00037_00011.png  \n",
            "  inflating: train/9/00009_00037_00012.png  \n",
            "  inflating: train/9/00009_00037_00013.png  \n",
            "  inflating: train/9/00009_00037_00014.png  \n",
            "  inflating: train/9/00009_00037_00015.png  \n",
            "  inflating: train/9/00009_00037_00016.png  \n",
            "  inflating: train/9/00009_00037_00017.png  \n",
            "  inflating: train/9/00009_00037_00018.png  \n",
            "  inflating: train/9/00009_00037_00019.png  \n",
            "  inflating: train/9/00009_00037_00020.png  \n",
            "  inflating: train/9/00009_00037_00021.png  \n",
            "  inflating: train/9/00009_00037_00022.png  \n",
            "  inflating: train/9/00009_00037_00023.png  \n",
            "  inflating: train/9/00009_00037_00024.png  \n",
            "  inflating: train/9/00009_00037_00025.png  \n",
            "  inflating: train/9/00009_00037_00026.png  \n",
            "  inflating: train/9/00009_00037_00027.png  \n",
            "  inflating: train/9/00009_00037_00028.png  \n",
            "  inflating: train/9/00009_00037_00029.png  \n",
            "  inflating: train/9/00009_00038_00000.png  \n",
            "  inflating: train/9/00009_00038_00001.png  \n",
            "  inflating: train/9/00009_00038_00002.png  \n",
            "  inflating: train/9/00009_00038_00003.png  \n",
            "  inflating: train/9/00009_00038_00004.png  \n",
            "  inflating: train/9/00009_00038_00005.png  \n",
            "  inflating: train/9/00009_00038_00006.png  \n",
            "  inflating: train/9/00009_00038_00007.png  \n",
            "  inflating: train/9/00009_00038_00008.png  \n",
            "  inflating: train/9/00009_00038_00009.png  \n",
            "  inflating: train/9/00009_00038_00010.png  \n",
            "  inflating: train/9/00009_00038_00011.png  \n",
            "  inflating: train/9/00009_00038_00012.png  \n",
            "  inflating: train/9/00009_00038_00013.png  \n",
            "  inflating: train/9/00009_00038_00014.png  \n",
            "  inflating: train/9/00009_00038_00015.png  \n",
            "  inflating: train/9/00009_00038_00016.png  \n",
            "  inflating: train/9/00009_00038_00017.png  \n",
            "  inflating: train/9/00009_00038_00018.png  \n",
            "  inflating: train/9/00009_00038_00019.png  \n",
            "  inflating: train/9/00009_00038_00020.png  \n",
            "  inflating: train/9/00009_00038_00021.png  \n",
            "  inflating: train/9/00009_00038_00022.png  \n",
            "  inflating: train/9/00009_00038_00023.png  \n",
            "  inflating: train/9/00009_00038_00024.png  \n",
            "  inflating: train/9/00009_00038_00025.png  \n",
            "  inflating: train/9/00009_00038_00026.png  \n",
            "  inflating: train/9/00009_00038_00027.png  \n",
            "  inflating: train/9/00009_00038_00028.png  \n",
            "  inflating: train/9/00009_00038_00029.png  \n",
            "  inflating: train/9/00009_00039_00000.png  \n",
            "  inflating: train/9/00009_00039_00001.png  \n",
            "  inflating: train/9/00009_00039_00002.png  \n",
            "  inflating: train/9/00009_00039_00003.png  \n",
            "  inflating: train/9/00009_00039_00004.png  \n",
            "  inflating: train/9/00009_00039_00005.png  \n",
            "  inflating: train/9/00009_00039_00006.png  \n",
            "  inflating: train/9/00009_00039_00007.png  \n",
            "  inflating: train/9/00009_00039_00008.png  \n",
            "  inflating: train/9/00009_00039_00009.png  \n",
            "  inflating: train/9/00009_00039_00010.png  \n",
            "  inflating: train/9/00009_00039_00011.png  \n",
            "  inflating: train/9/00009_00039_00012.png  \n",
            "  inflating: train/9/00009_00039_00013.png  \n",
            "  inflating: train/9/00009_00039_00014.png  \n",
            "  inflating: train/9/00009_00039_00015.png  \n",
            "  inflating: train/9/00009_00039_00016.png  \n",
            "  inflating: train/9/00009_00039_00017.png  \n",
            "  inflating: train/9/00009_00039_00018.png  \n",
            "  inflating: train/9/00009_00039_00019.png  \n",
            "  inflating: train/9/00009_00039_00020.png  \n",
            "  inflating: train/9/00009_00039_00021.png  \n",
            "  inflating: train/9/00009_00039_00022.png  \n",
            "  inflating: train/9/00009_00039_00023.png  \n",
            "  inflating: train/9/00009_00039_00024.png  \n",
            "  inflating: train/9/00009_00039_00025.png  \n",
            "  inflating: train/9/00009_00039_00026.png  \n",
            "  inflating: train/9/00009_00039_00027.png  \n",
            "  inflating: train/9/00009_00039_00028.png  \n",
            "  inflating: train/9/00009_00039_00029.png  \n",
            "  inflating: train/9/00009_00040_00000.png  \n",
            "  inflating: train/9/00009_00040_00001.png  \n",
            "  inflating: train/9/00009_00040_00002.png  \n",
            "  inflating: train/9/00009_00040_00003.png  \n",
            "  inflating: train/9/00009_00040_00004.png  \n",
            "  inflating: train/9/00009_00040_00005.png  \n",
            "  inflating: train/9/00009_00040_00006.png  \n",
            "  inflating: train/9/00009_00040_00007.png  \n",
            "  inflating: train/9/00009_00040_00008.png  \n",
            "  inflating: train/9/00009_00040_00009.png  \n",
            "  inflating: train/9/00009_00040_00010.png  \n",
            "  inflating: train/9/00009_00040_00011.png  \n",
            "  inflating: train/9/00009_00040_00012.png  \n",
            "  inflating: train/9/00009_00040_00013.png  \n",
            "  inflating: train/9/00009_00040_00014.png  \n",
            "  inflating: train/9/00009_00040_00015.png  \n",
            "  inflating: train/9/00009_00040_00016.png  \n",
            "  inflating: train/9/00009_00040_00017.png  \n",
            "  inflating: train/9/00009_00040_00018.png  \n",
            "  inflating: train/9/00009_00040_00019.png  \n",
            "  inflating: train/9/00009_00040_00020.png  \n",
            "  inflating: train/9/00009_00040_00021.png  \n",
            "  inflating: train/9/00009_00040_00022.png  \n",
            "  inflating: train/9/00009_00040_00023.png  \n",
            "  inflating: train/9/00009_00040_00024.png  \n",
            "  inflating: train/9/00009_00040_00025.png  \n",
            "  inflating: train/9/00009_00040_00026.png  \n",
            "  inflating: train/9/00009_00040_00027.png  \n",
            "  inflating: train/9/00009_00040_00028.png  \n",
            "  inflating: train/9/00009_00040_00029.png  \n",
            "  inflating: train/9/00009_00041_00000.png  \n",
            "  inflating: train/9/00009_00041_00001.png  \n",
            "  inflating: train/9/00009_00041_00002.png  \n",
            "  inflating: train/9/00009_00041_00003.png  \n",
            "  inflating: train/9/00009_00041_00004.png  \n",
            "  inflating: train/9/00009_00041_00005.png  \n",
            "  inflating: train/9/00009_00041_00006.png  \n",
            "  inflating: train/9/00009_00041_00007.png  \n",
            "  inflating: train/9/00009_00041_00008.png  \n",
            "  inflating: train/9/00009_00041_00009.png  \n",
            "  inflating: train/9/00009_00041_00010.png  \n",
            "  inflating: train/9/00009_00041_00011.png  \n",
            "  inflating: train/9/00009_00041_00012.png  \n",
            "  inflating: train/9/00009_00041_00013.png  \n",
            "  inflating: train/9/00009_00041_00014.png  \n",
            "  inflating: train/9/00009_00041_00015.png  \n",
            "  inflating: train/9/00009_00041_00016.png  \n",
            "  inflating: train/9/00009_00041_00017.png  \n",
            "  inflating: train/9/00009_00041_00018.png  \n",
            "  inflating: train/9/00009_00041_00019.png  \n",
            "  inflating: train/9/00009_00041_00020.png  \n",
            "  inflating: train/9/00009_00041_00021.png  \n",
            "  inflating: train/9/00009_00041_00022.png  \n",
            "  inflating: train/9/00009_00041_00023.png  \n",
            "  inflating: train/9/00009_00041_00024.png  \n",
            "  inflating: train/9/00009_00041_00025.png  \n",
            "  inflating: train/9/00009_00041_00026.png  \n",
            "  inflating: train/9/00009_00041_00027.png  \n",
            "  inflating: train/9/00009_00041_00028.png  \n",
            "  inflating: train/9/00009_00041_00029.png  \n",
            "  inflating: train/9/00009_00042_00000.png  \n",
            "  inflating: train/9/00009_00042_00001.png  \n",
            "  inflating: train/9/00009_00042_00002.png  \n",
            "  inflating: train/9/00009_00042_00003.png  \n",
            "  inflating: train/9/00009_00042_00004.png  \n",
            "  inflating: train/9/00009_00042_00005.png  \n",
            "  inflating: train/9/00009_00042_00006.png  \n",
            "  inflating: train/9/00009_00042_00007.png  \n",
            "  inflating: train/9/00009_00042_00008.png  \n",
            "  inflating: train/9/00009_00042_00009.png  \n",
            "  inflating: train/9/00009_00042_00010.png  \n",
            "  inflating: train/9/00009_00042_00011.png  \n",
            "  inflating: train/9/00009_00042_00012.png  \n",
            "  inflating: train/9/00009_00042_00013.png  \n",
            "  inflating: train/9/00009_00042_00014.png  \n",
            "  inflating: train/9/00009_00042_00015.png  \n",
            "  inflating: train/9/00009_00042_00016.png  \n",
            "  inflating: train/9/00009_00042_00017.png  \n",
            "  inflating: train/9/00009_00042_00018.png  \n",
            "  inflating: train/9/00009_00042_00019.png  \n",
            "  inflating: train/9/00009_00042_00020.png  \n",
            "  inflating: train/9/00009_00042_00021.png  \n",
            "  inflating: train/9/00009_00042_00022.png  \n",
            "  inflating: train/9/00009_00042_00023.png  \n",
            "  inflating: train/9/00009_00042_00024.png  \n",
            "  inflating: train/9/00009_00042_00025.png  \n",
            "  inflating: train/9/00009_00042_00026.png  \n",
            "  inflating: train/9/00009_00042_00027.png  \n",
            "  inflating: train/9/00009_00042_00028.png  \n",
            "  inflating: train/9/00009_00042_00029.png  \n",
            "  inflating: train/9/00009_00043_00000.png  \n",
            "  inflating: train/9/00009_00043_00001.png  \n",
            "  inflating: train/9/00009_00043_00002.png  \n",
            "  inflating: train/9/00009_00043_00003.png  \n",
            "  inflating: train/9/00009_00043_00004.png  \n",
            "  inflating: train/9/00009_00043_00005.png  \n",
            "  inflating: train/9/00009_00043_00006.png  \n",
            "  inflating: train/9/00009_00043_00007.png  \n",
            "  inflating: train/9/00009_00043_00008.png  \n",
            "  inflating: train/9/00009_00043_00009.png  \n",
            "  inflating: train/9/00009_00043_00010.png  \n",
            "  inflating: train/9/00009_00043_00011.png  \n",
            "  inflating: train/9/00009_00043_00012.png  \n",
            "  inflating: train/9/00009_00043_00013.png  \n",
            "  inflating: train/9/00009_00043_00014.png  \n",
            "  inflating: train/9/00009_00043_00015.png  \n",
            "  inflating: train/9/00009_00043_00016.png  \n",
            "  inflating: train/9/00009_00043_00017.png  \n",
            "  inflating: train/9/00009_00043_00018.png  \n",
            "  inflating: train/9/00009_00043_00019.png  \n",
            "  inflating: train/9/00009_00043_00020.png  \n",
            "  inflating: train/9/00009_00043_00021.png  \n",
            "  inflating: train/9/00009_00043_00022.png  \n",
            "  inflating: train/9/00009_00043_00023.png  \n",
            "  inflating: train/9/00009_00043_00024.png  \n",
            "  inflating: train/9/00009_00043_00025.png  \n",
            "  inflating: train/9/00009_00043_00026.png  \n",
            "  inflating: train/9/00009_00043_00027.png  \n",
            "  inflating: train/9/00009_00043_00028.png  \n",
            "  inflating: train/9/00009_00043_00029.png  \n",
            "  inflating: train/9/00009_00044_00000.png  \n",
            "  inflating: train/9/00009_00044_00001.png  \n",
            "  inflating: train/9/00009_00044_00002.png  \n",
            "  inflating: train/9/00009_00044_00003.png  \n",
            "  inflating: train/9/00009_00044_00004.png  \n",
            "  inflating: train/9/00009_00044_00005.png  \n",
            "  inflating: train/9/00009_00044_00006.png  \n",
            "  inflating: train/9/00009_00044_00007.png  \n",
            "  inflating: train/9/00009_00044_00008.png  \n",
            "  inflating: train/9/00009_00044_00009.png  \n",
            "  inflating: train/9/00009_00044_00010.png  \n",
            "  inflating: train/9/00009_00044_00011.png  \n",
            "  inflating: train/9/00009_00044_00012.png  \n",
            "  inflating: train/9/00009_00044_00013.png  \n",
            "  inflating: train/9/00009_00044_00014.png  \n",
            "  inflating: train/9/00009_00044_00015.png  \n",
            "  inflating: train/9/00009_00044_00016.png  \n",
            "  inflating: train/9/00009_00044_00017.png  \n",
            "  inflating: train/9/00009_00044_00018.png  \n",
            "  inflating: train/9/00009_00044_00019.png  \n",
            "  inflating: train/9/00009_00044_00020.png  \n",
            "  inflating: train/9/00009_00044_00021.png  \n",
            "  inflating: train/9/00009_00044_00022.png  \n",
            "  inflating: train/9/00009_00044_00023.png  \n",
            "  inflating: train/9/00009_00044_00024.png  \n",
            "  inflating: train/9/00009_00044_00025.png  \n",
            "  inflating: train/9/00009_00044_00026.png  \n",
            "  inflating: train/9/00009_00044_00027.png  \n",
            "  inflating: train/9/00009_00044_00028.png  \n",
            "  inflating: train/9/00009_00044_00029.png  \n",
            "  inflating: train/9/00009_00045_00000.png  \n",
            "  inflating: train/9/00009_00045_00001.png  \n",
            "  inflating: train/9/00009_00045_00002.png  \n",
            "  inflating: train/9/00009_00045_00003.png  \n",
            "  inflating: train/9/00009_00045_00004.png  \n",
            "  inflating: train/9/00009_00045_00005.png  \n",
            "  inflating: train/9/00009_00045_00006.png  \n",
            "  inflating: train/9/00009_00045_00007.png  \n",
            "  inflating: train/9/00009_00045_00008.png  \n",
            "  inflating: train/9/00009_00045_00009.png  \n",
            "  inflating: train/9/00009_00045_00010.png  \n",
            "  inflating: train/9/00009_00045_00011.png  \n",
            "  inflating: train/9/00009_00045_00012.png  \n",
            "  inflating: train/9/00009_00045_00013.png  \n",
            "  inflating: train/9/00009_00045_00014.png  \n",
            "  inflating: train/9/00009_00045_00015.png  \n",
            "  inflating: train/9/00009_00045_00016.png  \n",
            "  inflating: train/9/00009_00045_00017.png  \n",
            "  inflating: train/9/00009_00045_00018.png  \n",
            "  inflating: train/9/00009_00045_00019.png  \n",
            "  inflating: train/9/00009_00045_00020.png  \n",
            "  inflating: train/9/00009_00045_00021.png  \n",
            "  inflating: train/9/00009_00045_00022.png  \n",
            "  inflating: train/9/00009_00045_00023.png  \n",
            "  inflating: train/9/00009_00045_00024.png  \n",
            "  inflating: train/9/00009_00045_00025.png  \n",
            "  inflating: train/9/00009_00045_00026.png  \n",
            "  inflating: train/9/00009_00045_00027.png  \n",
            "  inflating: train/9/00009_00045_00028.png  \n",
            "  inflating: train/9/00009_00045_00029.png  \n",
            "  inflating: train/9/00009_00046_00000.png  \n",
            "  inflating: train/9/00009_00046_00001.png  \n",
            "  inflating: train/9/00009_00046_00002.png  \n",
            "  inflating: train/9/00009_00046_00003.png  \n",
            "  inflating: train/9/00009_00046_00004.png  \n",
            "  inflating: train/9/00009_00046_00005.png  \n",
            "  inflating: train/9/00009_00046_00006.png  \n",
            "  inflating: train/9/00009_00046_00007.png  \n",
            "  inflating: train/9/00009_00046_00008.png  \n",
            "  inflating: train/9/00009_00046_00009.png  \n",
            "  inflating: train/9/00009_00046_00010.png  \n",
            "  inflating: train/9/00009_00046_00011.png  \n",
            "  inflating: train/9/00009_00046_00012.png  \n",
            "  inflating: train/9/00009_00046_00013.png  \n",
            "  inflating: train/9/00009_00046_00014.png  \n",
            "  inflating: train/9/00009_00046_00015.png  \n",
            "  inflating: train/9/00009_00046_00016.png  \n",
            "  inflating: train/9/00009_00046_00017.png  \n",
            "  inflating: train/9/00009_00046_00018.png  \n",
            "  inflating: train/9/00009_00046_00019.png  \n",
            "  inflating: train/9/00009_00046_00020.png  \n",
            "  inflating: train/9/00009_00046_00021.png  \n",
            "  inflating: train/9/00009_00046_00022.png  \n",
            "  inflating: train/9/00009_00046_00023.png  \n",
            "  inflating: train/9/00009_00046_00024.png  \n",
            "  inflating: train/9/00009_00046_00025.png  \n",
            "  inflating: train/9/00009_00046_00026.png  \n",
            "  inflating: train/9/00009_00046_00027.png  \n",
            "  inflating: train/9/00009_00046_00028.png  \n",
            "  inflating: train/9/00009_00046_00029.png  \n",
            "  inflating: train/9/00009_00047_00000.png  \n",
            "  inflating: train/9/00009_00047_00001.png  \n",
            "  inflating: train/9/00009_00047_00002.png  \n",
            "  inflating: train/9/00009_00047_00003.png  \n",
            "  inflating: train/9/00009_00047_00004.png  \n",
            "  inflating: train/9/00009_00047_00005.png  \n",
            "  inflating: train/9/00009_00047_00006.png  \n",
            "  inflating: train/9/00009_00047_00007.png  \n",
            "  inflating: train/9/00009_00047_00008.png  \n",
            "  inflating: train/9/00009_00047_00009.png  \n",
            "  inflating: train/9/00009_00047_00010.png  \n",
            "  inflating: train/9/00009_00047_00011.png  \n",
            "  inflating: train/9/00009_00047_00012.png  \n",
            "  inflating: train/9/00009_00047_00013.png  \n",
            "  inflating: train/9/00009_00047_00014.png  \n",
            "  inflating: train/9/00009_00047_00015.png  \n",
            "  inflating: train/9/00009_00047_00016.png  \n",
            "  inflating: train/9/00009_00047_00017.png  \n",
            "  inflating: train/9/00009_00047_00018.png  \n",
            "  inflating: train/9/00009_00047_00019.png  \n",
            "  inflating: train/9/00009_00047_00020.png  \n",
            "  inflating: train/9/00009_00047_00021.png  \n",
            "  inflating: train/9/00009_00047_00022.png  \n",
            "  inflating: train/9/00009_00047_00023.png  \n",
            "  inflating: train/9/00009_00047_00024.png  \n",
            "  inflating: train/9/00009_00047_00025.png  \n",
            "  inflating: train/9/00009_00047_00026.png  \n",
            "  inflating: train/9/00009_00047_00027.png  \n",
            "  inflating: train/9/00009_00047_00028.png  \n",
            "  inflating: train/9/00009_00047_00029.png  \n",
            "  inflating: train/9/00009_00048_00000.png  \n",
            "  inflating: train/9/00009_00048_00001.png  \n",
            "  inflating: train/9/00009_00048_00002.png  \n",
            "  inflating: train/9/00009_00048_00003.png  \n",
            "  inflating: train/9/00009_00048_00004.png  \n",
            "  inflating: train/9/00009_00048_00005.png  \n",
            "  inflating: train/9/00009_00048_00006.png  \n",
            "  inflating: train/9/00009_00048_00007.png  \n",
            "  inflating: train/9/00009_00048_00008.png  \n",
            "  inflating: train/9/00009_00048_00009.png  \n",
            "  inflating: train/9/00009_00048_00010.png  \n",
            "  inflating: train/9/00009_00048_00011.png  \n",
            "  inflating: train/9/00009_00048_00012.png  \n",
            "  inflating: train/9/00009_00048_00013.png  \n",
            "  inflating: train/9/00009_00048_00014.png  \n",
            "  inflating: train/9/00009_00048_00015.png  \n",
            "  inflating: train/9/00009_00048_00016.png  \n",
            "  inflating: train/9/00009_00048_00017.png  \n",
            "  inflating: train/9/00009_00048_00018.png  \n",
            "  inflating: train/9/00009_00048_00019.png  \n",
            "  inflating: train/9/00009_00048_00020.png  \n",
            "  inflating: train/9/00009_00048_00021.png  \n",
            "  inflating: train/9/00009_00048_00022.png  \n",
            "  inflating: train/9/00009_00048_00023.png  \n",
            "  inflating: train/9/00009_00048_00024.png  \n",
            "  inflating: train/9/00009_00048_00025.png  \n",
            "  inflating: train/9/00009_00048_00026.png  \n",
            "  inflating: train/9/00009_00048_00027.png  \n",
            "  inflating: train/9/00009_00048_00028.png  \n",
            "  inflating: train/9/00009_00048_00029.png  \n"
          ]
        }
      ],
      "source": [
        "!unzip gtsrb-german-traffic-sign.zip"
      ]
    },
    {
      "cell_type": "code",
      "execution_count": null,
      "metadata": {
        "id": "Z9wYwiDPOFYp"
      },
      "outputs": [],
      "source": [
        "import pandas as pd\n",
        "\n",
        "train = pd.read_csv('./Train.csv')\n",
        "test = pd.read_csv('./Test.csv')"
      ]
    },
    {
      "cell_type": "code",
      "execution_count": null,
      "metadata": {
        "colab": {
          "base_uri": "https://localhost:8080/"
        },
        "id": "B55a0wHIau28",
        "outputId": "acddd226-774f-4ef1-b435-938bf151c4cf"
      },
      "outputs": [
        {
          "output_type": "stream",
          "name": "stdout",
          "text": [
            "<class 'pandas.core.frame.DataFrame'>\n",
            "RangeIndex: 39209 entries, 0 to 39208\n",
            "Data columns (total 8 columns):\n",
            " #   Column   Non-Null Count  Dtype \n",
            "---  ------   --------------  ----- \n",
            " 0   Width    39209 non-null  int64 \n",
            " 1   Height   39209 non-null  int64 \n",
            " 2   Roi.X1   39209 non-null  int64 \n",
            " 3   Roi.Y1   39209 non-null  int64 \n",
            " 4   Roi.X2   39209 non-null  int64 \n",
            " 5   Roi.Y2   39209 non-null  int64 \n",
            " 6   ClassId  39209 non-null  int64 \n",
            " 7   Path     39209 non-null  object\n",
            "dtypes: int64(7), object(1)\n",
            "memory usage: 2.4+ MB\n"
          ]
        }
      ],
      "source": [
        "train.info()"
      ]
    },
    {
      "cell_type": "markdown",
      "metadata": {
        "id": "1BKxPPEbiSKY"
      },
      "source": [
        "## Pre-process Dataset"
      ]
    },
    {
      "cell_type": "code",
      "execution_count": null,
      "metadata": {
        "colab": {
          "base_uri": "https://localhost:8080/"
        },
        "id": "mSEjazkfiZhD",
        "outputId": "b5445c7b-8446-4aea-c653-c92ced5a9b80"
      },
      "outputs": [
        {
          "output_type": "stream",
          "name": "stdout",
          "text": [
            "Number of classes:  43\n"
          ]
        }
      ],
      "source": [
        "num_classes = len(train['ClassId'].unique())\n",
        "print(\"Number of classes: \", num_classes)"
      ]
    },
    {
      "cell_type": "code",
      "execution_count": null,
      "metadata": {
        "id": "_IySu0_xijFn"
      },
      "outputs": [],
      "source": [
        "data_dir = './'\n",
        "train_path = './Train'\n",
        "test_path = './Test'\n",
        "\n",
        "# Resizing the images to 30x30x3\n",
        "IMG_HEIGHT = 30\n",
        "IMG_WIDTH = 30\n",
        "channels = 3\n",
        "\n",
        "# Label Overview\n",
        "classes = { 0:'Speed limit (20km/h)',\n",
        "            1:'Speed limit (30km/h)', \n",
        "            2:'Speed limit (50km/h)', \n",
        "            3:'Speed limit (60km/h)', \n",
        "            4:'Speed limit (70km/h)', \n",
        "            5:'Speed limit (80km/h)', \n",
        "            6:'End of speed limit (80km/h)', \n",
        "            7:'Speed limit (100km/h)', \n",
        "            8:'Speed limit (120km/h)', \n",
        "            9:'No passing', \n",
        "            10:'No passing veh over 3.5 tons', \n",
        "            11:'Right-of-way at intersection', \n",
        "            12:'Priority road', \n",
        "            13:'Yield', \n",
        "            14:'Stop', \n",
        "            15:'No vehicles', \n",
        "            16:'Veh > 3.5 tons prohibited', \n",
        "            17:'No entry', \n",
        "            18:'General caution', \n",
        "            19:'Dangerous curve left', \n",
        "            20:'Dangerous curve right', \n",
        "            21:'Double curve', \n",
        "            22:'Bumpy road', \n",
        "            23:'Slippery road', \n",
        "            24:'Road narrows on the right', \n",
        "            25:'Road work', \n",
        "            26:'Traffic signals', \n",
        "            27:'Pedestrians', \n",
        "            28:'Children crossing', \n",
        "            29:'Bicycles crossing', \n",
        "            30:'Beware of ice/snow',\n",
        "            31:'Wild animals crossing', \n",
        "            32:'End speed + passing limits', \n",
        "            33:'Turn right ahead', \n",
        "            34:'Turn left ahead', \n",
        "            35:'Ahead only', \n",
        "            36:'Go straight or right', \n",
        "            37:'Go straight or left', \n",
        "            38:'Keep right', \n",
        "            39:'Keep left', \n",
        "            40:'Roundabout mandatory', \n",
        "            41:'End of no passing', \n",
        "            42:'End no passing veh > 3.5 tons' }"
      ]
    },
    {
      "cell_type": "markdown",
      "metadata": {
        "id": "UsefyqyrwVws"
      },
      "source": [
        "## **Wandb.ai - Hyperparameter Tuning** "
      ]
    },
    {
      "cell_type": "code",
      "execution_count": null,
      "metadata": {
        "colab": {
          "base_uri": "https://localhost:8080/"
        },
        "id": "v1NF6Def6DIu",
        "outputId": "8bb94841-6400-452f-8cb4-6064947081f3"
      },
      "outputs": [
        {
          "output_type": "stream",
          "name": "stdout",
          "text": [
            "\u001b[2K     \u001b[90m━━━━━━━━━━━━━━━━━━━━━━━━━━━━━━━━━━━━━━━━\u001b[0m \u001b[32m2.0/2.0 MB\u001b[0m \u001b[31m28.0 MB/s\u001b[0m eta \u001b[36m0:00:00\u001b[0m\n",
            "\u001b[2K     \u001b[90m━━━━━━━━━━━━━━━━━━━━━━━━━━━━━━━━━━━━━━\u001b[0m \u001b[32m203.1/203.1 kB\u001b[0m \u001b[31m23.8 MB/s\u001b[0m eta \u001b[36m0:00:00\u001b[0m\n",
            "\u001b[?25h  Preparing metadata (setup.py) ... \u001b[?25l\u001b[?25hdone\n",
            "\u001b[2K     \u001b[90m━━━━━━━━━━━━━━━━━━━━━━━━━━━━━━━━━━━━━━\u001b[0m \u001b[32m184.3/184.3 kB\u001b[0m \u001b[31m23.1 MB/s\u001b[0m eta \u001b[36m0:00:00\u001b[0m\n",
            "\u001b[2K     \u001b[90m━━━━━━━━━━━━━━━━━━━━━━━━━━━━━━━━━━━━━━━━\u001b[0m \u001b[32m62.7/62.7 kB\u001b[0m \u001b[31m7.9 MB/s\u001b[0m eta \u001b[36m0:00:00\u001b[0m\n",
            "\u001b[?25h  Building wheel for pathtools (setup.py) ... \u001b[?25l\u001b[?25hdone\n"
          ]
        }
      ],
      "source": [
        "!pip install wandb -qU"
      ]
    },
    {
      "cell_type": "code",
      "execution_count": null,
      "metadata": {
        "colab": {
          "base_uri": "https://localhost:8080/",
          "height": 121
        },
        "id": "Cks7t6Sx8dmU",
        "outputId": "ac8fba8d-b49b-49b8-e030-7c128af84ed0"
      },
      "outputs": [
        {
          "output_type": "display_data",
          "data": {
            "text/plain": [
              "<IPython.core.display.Javascript object>"
            ],
            "application/javascript": [
              "\n",
              "        window._wandbApiKey = new Promise((resolve, reject) => {\n",
              "            function loadScript(url) {\n",
              "            return new Promise(function(resolve, reject) {\n",
              "                let newScript = document.createElement(\"script\");\n",
              "                newScript.onerror = reject;\n",
              "                newScript.onload = resolve;\n",
              "                document.body.appendChild(newScript);\n",
              "                newScript.src = url;\n",
              "            });\n",
              "            }\n",
              "            loadScript(\"https://cdn.jsdelivr.net/npm/postmate/build/postmate.min.js\").then(() => {\n",
              "            const iframe = document.createElement('iframe')\n",
              "            iframe.style.cssText = \"width:0;height:0;border:none\"\n",
              "            document.body.appendChild(iframe)\n",
              "            const handshake = new Postmate({\n",
              "                container: iframe,\n",
              "                url: 'https://wandb.ai/authorize'\n",
              "            });\n",
              "            const timeout = setTimeout(() => reject(\"Couldn't auto authenticate\"), 5000)\n",
              "            handshake.then(function(child) {\n",
              "                child.on('authorize', data => {\n",
              "                    clearTimeout(timeout)\n",
              "                    resolve(data)\n",
              "                });\n",
              "            });\n",
              "            })\n",
              "        });\n",
              "    "
            ]
          },
          "metadata": {}
        },
        {
          "output_type": "stream",
          "name": "stderr",
          "text": [
            "\u001b[34m\u001b[1mwandb\u001b[0m: Logging into wandb.ai. (Learn how to deploy a W&B server locally: https://wandb.me/wandb-server)\n",
            "\u001b[34m\u001b[1mwandb\u001b[0m: You can find your API key in your browser here: https://wandb.ai/authorize\n",
            "wandb: Paste an API key from your profile and hit enter, or press ctrl+c to quit:"
          ]
        },
        {
          "name": "stdout",
          "output_type": "stream",
          "text": [
            " ··········\n"
          ]
        },
        {
          "output_type": "stream",
          "name": "stderr",
          "text": [
            "\u001b[34m\u001b[1mwandb\u001b[0m: Appending key for api.wandb.ai to your netrc file: /root/.netrc\n"
          ]
        },
        {
          "output_type": "execute_result",
          "data": {
            "text/plain": [
              "True"
            ]
          },
          "metadata": {},
          "execution_count": 13
        }
      ],
      "source": [
        "import wandb\n",
        "wandb.login()"
      ]
    },
    {
      "cell_type": "code",
      "execution_count": null,
      "metadata": {
        "colab": {
          "base_uri": "https://localhost:8080/"
        },
        "id": "SweNG3mouIcf",
        "outputId": "92e10c94-0535-434b-9408-02b07e9398df"
      },
      "outputs": [
        {
          "output_type": "stream",
          "name": "stdout",
          "text": [
            "Create sweep with ID: k3k9bdxd\n",
            "Sweep URL: https://wandb.ai/atds_ml/resnet50/sweeps/k3k9bdxd\n"
          ]
        }
      ],
      "source": [
        "sweep_config = {\n",
        "    'method': 'random',\n",
        "    'metric': {'goal': 'minimize', 'name': 'test_loss'},\n",
        "    'parameters': {\n",
        "        'optimizer': {'values': ['adam', 'sgd']},\n",
        "        'learning_rate': {'distribution': 'uniform', 'max': 0.001, 'min': 0.0001},\n",
        "        'epochs': {'value': 15}\n",
        "    }\n",
        "}\n",
        "\n",
        "sweep_id = wandb.sweep(sweep_config, entity=\"atds_ml\", project=\"resnet50\")"
      ]
    },
    {
      "cell_type": "code",
      "execution_count": null,
      "metadata": {
        "id": "NHWWgC7xZWri"
      },
      "outputs": [],
      "source": [
        "import torch\n",
        "import torch.optim as optim\n",
        "from torch.optim import lr_scheduler\n",
        "import time\n",
        "import os\n",
        "import copy\n",
        "\n",
        "device = torch.device(\"cuda\" if torch.cuda.is_available() else \"cpu\")\n",
        "\n",
        "def train(config=None):\n",
        "\n",
        "    with wandb.init(config=config):\n",
        "        config = wandb.config\n",
        "\n",
        "        loader = build_dataset(data_dir)\n",
        "        network = build_network()\n",
        "        optimizer = build_optimizer(network, config.optimizer, config.learning_rate)\n",
        "\n",
        "        for epoch in range(config.epochs):\n",
        "            avg_loss = train_epoch(network, loader, optimizer)\n",
        "            wandb.log({\"loss\": avg_loss, \"epoch\": epoch, \"optimizer\": config.optimizer, \"learning_rate\": config.learning_rate})     "
      ]
    },
    {
      "cell_type": "code",
      "execution_count": null,
      "metadata": {
        "id": "Oaie52hABBkK"
      },
      "outputs": [],
      "source": [
        "import os\n",
        "import cv2\n",
        "import numpy as np\n",
        "from PIL import Image\n",
        "import torch\n",
        "from sklearn.model_selection import train_test_split\n",
        "import tensorflow as tf\n",
        "from tensorflow import keras\n",
        "from tensorflow.keras import layers\n",
        "from torch.utils.data import TensorDataset \n",
        "\n",
        "def build_dataset(data_dir):\n",
        "  image_data = []\n",
        "  image_labels = []\n",
        "\n",
        "  for i in range(num_classes):\n",
        "    path = data_dir + '/Train/' + str(i)\n",
        "    images = os.listdir(path)\n",
        "\n",
        "    for img in images:\n",
        "      try:\n",
        "        image = cv2.imread(path + '/' + img)\n",
        "        image_fromarray = Image.fromarray(image, 'RGB')\n",
        "        resize_image = image_fromarray.resize((IMG_HEIGHT, IMG_WIDTH))\n",
        "        image_data.append(np.array(resize_image))\n",
        "        image_labels.append(i)\n",
        "      except:\n",
        "        print(\"Error in \" + img)\n",
        "        \n",
        "  # Changing the list to numpy array\n",
        "  image_data = torch.FloatTensor(np.array(image_data))\n",
        "  image_data = np.transpose(image_data,(0,3,1,2))\n",
        "  image_labels = torch.FloatTensor(np.array(image_labels))\n",
        "\n",
        "  X_train, X_val, y_train, y_val = train_test_split(image_data, image_labels, test_size=0.2, random_state=42, shuffle=True)\n",
        "\n",
        "  X_train = X_train/255 \n",
        "  X_val = X_val/255\n",
        "\n",
        "  print(\"X_train.shape\", X_train.shape)\n",
        "  print(\"X_valid.shape\", X_val.shape)\n",
        "  print(\"y_train.shape\", y_train.shape)\n",
        "  print(\"y_valid.shape\", y_val.shape)\n",
        "\n",
        "  y_train = torch.FloatTensor(keras.utils.to_categorical(y_train, num_classes))\n",
        "  y_val = torch.FloatTensor(keras.utils.to_categorical(y_val, num_classes))\n",
        "\n",
        "  train_dataset = TensorDataset(X_train, y_train)\n",
        "  val_dataset = TensorDataset(X_val, y_val)\n",
        "\n",
        "  dataloaders = {'train': torch.utils.data.DataLoader(train_dataset, batch_size=64,shuffle=True, num_workers=2),\n",
        "               'val': torch.utils.data.DataLoader(val_dataset, batch_size=64,shuffle=True, num_workers=2)}\n",
        "\n",
        "  return dataloaders"
      ]
    },
    {
      "cell_type": "code",
      "execution_count": null,
      "metadata": {
        "id": "bBYKa9drC0RF"
      },
      "outputs": [],
      "source": [
        "import torchvision\n",
        "from torchvision import models\n",
        "import torch\n",
        "import torch.nn as nn\n",
        "\n",
        "def build_network():\n",
        "    model = models.resnet50(pretrained=True)\n",
        "    # Freeze weights of all layers\n",
        "    for param in model.parameters():\n",
        "      param.requires_grad = False\n",
        "    # Add new fully-connected layer with output dimension equal to number of classes\n",
        "    num_features = model.fc.in_features\n",
        "    model.fc = nn.Linear(num_features, 43)\n",
        "    # Initialize weights for new layer\n",
        "    nn.init.kaiming_normal_(model.fc.weight, mode='fan_out', nonlinearity='relu')\n",
        "    nn.init.zeros_(model.fc.bias)\n",
        "\n",
        "    return model.to(device)"
      ]
    },
    {
      "cell_type": "code",
      "execution_count": null,
      "metadata": {
        "id": "JOSIGfWIBGua"
      },
      "outputs": [],
      "source": [
        "def build_optimizer(model, optimizer, learning_rate):\n",
        "    if optimizer == \"sgd\":\n",
        "        optimizer = optim.SGD(model.parameters(),\n",
        "                              lr=learning_rate, momentum=0.9)\n",
        "    elif optimizer == \"adam\":\n",
        "        optimizer = optim.Adam(model.parameters(),\n",
        "                               lr=learning_rate)\n",
        "    return optimizer"
      ]
    },
    {
      "cell_type": "code",
      "execution_count": null,
      "metadata": {
        "id": "2DKGeTg8BIZo"
      },
      "outputs": [],
      "source": [
        "import torch.nn.functional as F\n",
        "\n",
        "def train_epoch(model, dataloaders, optimizer):\n",
        "    model.train()\n",
        "    running_loss = 0.0\n",
        "    total_samples = 0\n",
        "\n",
        "    for inputs, labels in dataloaders['train']:\n",
        "        inputs = inputs.to(device)\n",
        "        labels = labels.to(device)\n",
        "\n",
        "        optimizer.zero_grad()\n",
        "\n",
        "        # Forward pass\n",
        "        outputs = model(inputs)\n",
        "        loss = F.cross_entropy(outputs, torch.max(labels, 1)[1])\n",
        "\n",
        "        # Backward pass\n",
        "        loss.backward()\n",
        "        optimizer.step()\n",
        "\n",
        "        running_loss += loss.item() * inputs.size(0)\n",
        "        total_samples += inputs.size(0)\n",
        "\n",
        "    avg_loss = running_loss / total_samples\n",
        "    return avg_loss"
      ]
    },
    {
      "cell_type": "markdown",
      "metadata": {
        "id": "kSJKlI1OoxQg"
      },
      "source": [
        "###**Testing different optimizers and learning rates**"
      ]
    },
    {
      "cell_type": "code",
      "execution_count": null,
      "metadata": {
        "colab": {
          "base_uri": "https://localhost:8080/",
          "height": 1000,
          "referenced_widgets": [
            "8e4b46efc3df4980ab3cb6a628ac4d57",
            "4ab73ec4acf546ed9ba4973196d89adb",
            "a2919c22c2a544bda588cf7b43c16ec1",
            "8a608fbfd68741ec960791130a6138bf",
            "e8e6adf22fe04d229f347f884aee51a9",
            "7a8852aa51a24f489f854237d896988a",
            "039a604968c14546a135383e5e933fe6",
            "ce15f216fc4d4a3a8718fc2af97afdf9",
            "e2daf9315e574e40843dc3607da56b70",
            "09aaecd86dda4dea86e8a436aad47b7a",
            "49822a26ba6e4cab81e6f0e4df2e0905",
            "8ddc67186be74b93860347e92695c004",
            "b11dffe343de46e19163b3204bd3039a",
            "a2a8f139eb61405e9cd71edcdb9d0d31",
            "14c5ce9cbf7a4234b256623935cbd832",
            "989247ef12c04f3685450f0f7844194c",
            "5b575f4b97284b6c911bdf500b10bb9c",
            "73b409a15efd4344980b8b239d39702c",
            "e04a113480e24230987b9eb8f91aacc4",
            "2e4f85ac3b5e4fe286d63e6b84a758fa",
            "c3b7d0317e8e4ae9b5bbdc0498cea85a",
            "fb705672308949faafa5f34ce7a9c836",
            "1168bcbd21b04866b7f0b828655507d1",
            "3215680780f54c5da233ee57b8edcbb3",
            "31ebe1683ff943178586d1340343dd01",
            "c81d9645f14e4d5185e770b5f309e738",
            "cbea9fc80b8149e28f7df3cb9f8928c9",
            "12f3d4366e8241c2973dc285c8d262dc",
            "7f39f670056b46908dfdc4e2f5034199",
            "9792fb1ce4ed4e98b1a43fa9bb596208",
            "30b1d0d7e41a4d749c57d1dcb5948d71",
            "9b59a1c664874e478f45b0d6d1f50a2a",
            "d51720947e684c80b8dd2b496ae3bf95",
            "80b9b1dfaf134262838d31ffa9356f35",
            "99f96e034fc24a07a5fc9dcdd4bf6754",
            "8658691dc076451691c09d55eac60703",
            "316646f904d64078bcc66a613633e981",
            "0b061c157f404fd3bfe602b859d69567",
            "68bc4616aef14d6ab76cb3cc6e37c527",
            "05e2fccab2f147228b9d909909f9db5c",
            "cab9fd41d8234f35b6683abb5b78fb16",
            "9d1cbc4bc04f4114a652dc77f79d1609",
            "915abd76208046a19c9a5cbc9bde8603",
            "084a260d9b4a4815bf1a4a0f015f6bf5",
            "3eeb6fafc7e44583901397dd4b74d3a4",
            "c31197574fb643588e58bf828b93c67b",
            "4fde3b0c0def47a484be169fafd85865",
            "1a043a1ebfff4d55bd653accb5084338",
            "0e369259f00e4d859346cfe73650e61b",
            "242b50b56d8642739d5380144d549941",
            "f45577b5bba24ed297caf79c374bd0d6",
            "3fe56160861b4956a5fab9880b1f74c5",
            "3da82f2cc8874836ab17ecb3cf87609b",
            "d31c468f69874c839fe339b1b5bd4c3f",
            "d4bec1b1d2ed4ca4b67c53bec3a2cbe5",
            "c9998907f36f4d788c1fa2a35dcd6b4b",
            "2592b19613204c60b5e80985d2cd0e07",
            "7a9de83209c94315a816127b69e73780",
            "d7307cf4cd814a3d8cdfa6d98a187635",
            "6daec0ffc3f84d07a00415bd5fd32221",
            "c71d5e8e8f6843eeb8b635b055dbca73",
            "e690fe1e2f3a46fbbdd68e41f15b508d",
            "81492b08cc244b23869ea06a2111602b",
            "4c5e58107f2546ccb44e0be412854531",
            "59a0b55841834028bbce3a4ce2b9afd8",
            "ec927b1e673b4137be3652896e7dbd5c",
            "ca83914bb0df4c0d952c8d2e0d46468e",
            "c9a7be47e27e42e0bff240d43f6912fc",
            "dcc7ee3fa3164e70ac444cde69b9bb7e",
            "0c2dcba8dc6947ed8d548b98592449f0",
            "441b026e4627431999be43e731eadb84",
            "db896bde90ec4ccf8576ea6064954d50",
            "6460f7cb22ee4c6aadf983339754bbd4",
            "c7241901587247fb873cdb676c8120d6",
            "64fa1c76532b4cb1ab0e8caa2462fb14",
            "65a9cfa5d0fd4dbc81dccfd2259523ed",
            "41cc051138c344eca9515569edb3d578",
            "c5024012856e449baadfd4fae35a0426",
            "c7f84c58598148a7994bab6e6b1fc9d4",
            "94c462d179374704a5ac57e3cdba935f",
            "53218f45dda84f46b22303586c97f5ba",
            "a125ce660fda47a08acf34e4ac357a37",
            "1908cfe095c4472a80d752dd9a9e6023",
            "5638ca56d4bd425b82da3b08603b5c42",
            "1bb514b4d6a64c85b1e0503243e839a3",
            "e27755beb84e4846b65c7022f46df77b",
            "391dba2ff97a4d14ac604898c1879b0b",
            "a191f95150b042e0abc3c1a77f43c40b",
            "88bd09012b7243bc9f01c88d70eef3d0",
            "a4a274ccad164690b4ff940bc40050e5",
            "d4f2a48adee84902873851e1a24663b6",
            "c03ba7e3400e4935be53907ab93fac66",
            "58f066e4b42841d5b54330cf24234e6b",
            "4d9fb76f1ac244afbddbc4f33c2514f9",
            "ecda2b4e84e14e59bf310444ff18af2f",
            "550dd7b71f4d4af7850dfecc680be3a0",
            "ca43360af3ef49648c3c8de316aeb284",
            "7d6ff67a61db4816b82f5b1fbc1c6706",
            "6418af8dfeed43789f5ceb11c3fcc3f6",
            "407f424e24f941bb8306e59b598a6264",
            "4cc188f008a54cb282f53ec001c7bc8a",
            "e71a783129614bc4a5a40f2e609377cc",
            "581c7352d74448738f3ce34e8ba3525f",
            "d4d71830a9d545bbbd5cc402e4cbb060"
          ]
        },
        "id": "a1NFvzuOreoZ",
        "outputId": "c6b0aec1-ebe8-4e57-d2aa-29e0c9d226dc"
      },
      "outputs": [
        {
          "output_type": "stream",
          "name": "stderr",
          "text": [
            "\u001b[34m\u001b[1mwandb\u001b[0m: Agent Starting Run: j04pmq1f with config:\n",
            "\u001b[34m\u001b[1mwandb\u001b[0m: \tepochs: 15\n",
            "\u001b[34m\u001b[1mwandb\u001b[0m: \tlearning_rate: 0.0004798686857326141\n",
            "\u001b[34m\u001b[1mwandb\u001b[0m: \toptimizer: adam\n",
            "\u001b[34m\u001b[1mwandb\u001b[0m: Currently logged in as: \u001b[33msk7905\u001b[0m (\u001b[33matds_ml\u001b[0m). Use \u001b[1m`wandb login --relogin`\u001b[0m to force relogin\n"
          ]
        },
        {
          "output_type": "display_data",
          "data": {
            "text/plain": [
              "<IPython.core.display.HTML object>"
            ],
            "text/html": [
              "Tracking run with wandb version 0.15.2"
            ]
          },
          "metadata": {}
        },
        {
          "output_type": "display_data",
          "data": {
            "text/plain": [
              "<IPython.core.display.HTML object>"
            ],
            "text/html": [
              "Run data is saved locally in <code>/content/wandb/run-20230508_022240-j04pmq1f</code>"
            ]
          },
          "metadata": {}
        },
        {
          "output_type": "display_data",
          "data": {
            "text/plain": [
              "<IPython.core.display.HTML object>"
            ],
            "text/html": [
              "Syncing run <strong><a href='https://wandb.ai/atds_ml/resnet50/runs/j04pmq1f' target=\"_blank\">apricot-sweep-1</a></strong> to <a href='https://wandb.ai/atds_ml/resnet50' target=\"_blank\">Weights & Biases</a> (<a href='https://wandb.me/run' target=\"_blank\">docs</a>)<br/>Sweep page: <a href='https://wandb.ai/atds_ml/resnet50/sweeps/k3k9bdxd' target=\"_blank\">https://wandb.ai/atds_ml/resnet50/sweeps/k3k9bdxd</a>"
            ]
          },
          "metadata": {}
        },
        {
          "output_type": "display_data",
          "data": {
            "text/plain": [
              "<IPython.core.display.HTML object>"
            ],
            "text/html": [
              " View project at <a href='https://wandb.ai/atds_ml/resnet50' target=\"_blank\">https://wandb.ai/atds_ml/resnet50</a>"
            ]
          },
          "metadata": {}
        },
        {
          "output_type": "display_data",
          "data": {
            "text/plain": [
              "<IPython.core.display.HTML object>"
            ],
            "text/html": [
              " View sweep at <a href='https://wandb.ai/atds_ml/resnet50/sweeps/k3k9bdxd' target=\"_blank\">https://wandb.ai/atds_ml/resnet50/sweeps/k3k9bdxd</a>"
            ]
          },
          "metadata": {}
        },
        {
          "output_type": "display_data",
          "data": {
            "text/plain": [
              "<IPython.core.display.HTML object>"
            ],
            "text/html": [
              " View run at <a href='https://wandb.ai/atds_ml/resnet50/runs/j04pmq1f' target=\"_blank\">https://wandb.ai/atds_ml/resnet50/runs/j04pmq1f</a>"
            ]
          },
          "metadata": {}
        },
        {
          "output_type": "stream",
          "name": "stdout",
          "text": [
            "X_train.shape torch.Size([31367, 3, 30, 30])\n",
            "X_valid.shape torch.Size([7842, 3, 30, 30])\n",
            "y_train.shape torch.Size([31367])\n",
            "y_valid.shape torch.Size([7842])\n"
          ]
        },
        {
          "output_type": "stream",
          "name": "stderr",
          "text": [
            "/usr/local/lib/python3.10/dist-packages/torchvision/models/_utils.py:208: UserWarning: The parameter 'pretrained' is deprecated since 0.13 and may be removed in the future, please use 'weights' instead.\n",
            "  warnings.warn(\n",
            "/usr/local/lib/python3.10/dist-packages/torchvision/models/_utils.py:223: UserWarning: Arguments other than a weight enum or `None` for 'weights' are deprecated since 0.13 and may be removed in the future. The current behavior is equivalent to passing `weights=ResNet50_Weights.IMAGENET1K_V1`. You can also use `weights=ResNet50_Weights.DEFAULT` to get the most up-to-date weights.\n",
            "  warnings.warn(msg)\n",
            "Downloading: \"https://download.pytorch.org/models/resnet50-0676ba61.pth\" to /root/.cache/torch/hub/checkpoints/resnet50-0676ba61.pth\n",
            "100%|██████████| 97.8M/97.8M [00:00<00:00, 249MB/s]\n"
          ]
        },
        {
          "output_type": "display_data",
          "data": {
            "text/plain": [
              "<IPython.core.display.HTML object>"
            ],
            "text/html": [
              "Waiting for W&B process to finish... <strong style=\"color:green\">(success).</strong>"
            ]
          },
          "metadata": {}
        },
        {
          "output_type": "display_data",
          "data": {
            "text/plain": [
              "VBox(children=(Label(value='0.001 MB of 0.001 MB uploaded (0.000 MB deduped)\\r'), FloatProgress(value=1.0, max…"
            ],
            "application/vnd.jupyter.widget-view+json": {
              "version_major": 2,
              "version_minor": 0,
              "model_id": "8e4b46efc3df4980ab3cb6a628ac4d57"
            }
          },
          "metadata": {}
        },
        {
          "output_type": "display_data",
          "data": {
            "text/plain": [
              "<IPython.core.display.HTML object>"
            ],
            "text/html": [
              "<style>\n",
              "    table.wandb td:nth-child(1) { padding: 0 10px; text-align: left ; width: auto;} td:nth-child(2) {text-align: left ; width: 100%}\n",
              "    .wandb-row { display: flex; flex-direction: row; flex-wrap: wrap; justify-content: flex-start; width: 100% }\n",
              "    .wandb-col { display: flex; flex-direction: column; flex-basis: 100%; flex: 1; padding: 10px; }\n",
              "    </style>\n",
              "<div class=\"wandb-row\"><div class=\"wandb-col\"><h3>Run history:</h3><br/><table class=\"wandb\"><tr><td>epoch</td><td>▁▁▂▃▃▃▄▅▅▅▆▇▇▇█</td></tr><tr><td>learning_rate</td><td>▁▁▁▁▁▁▁▁▁▁▁▁▁▁▁</td></tr><tr><td>loss</td><td>█▅▄▃▂▂▂▂▂▁▁▁▁▁▁</td></tr></table><br/></div><div class=\"wandb-col\"><h3>Run summary:</h3><br/><table class=\"wandb\"><tr><td>epoch</td><td>14</td></tr><tr><td>learning_rate</td><td>0.00048</td></tr><tr><td>loss</td><td>2.06947</td></tr><tr><td>optimizer</td><td>adam</td></tr></table><br/></div></div>"
            ]
          },
          "metadata": {}
        },
        {
          "output_type": "display_data",
          "data": {
            "text/plain": [
              "<IPython.core.display.HTML object>"
            ],
            "text/html": [
              " View run <strong style=\"color:#cdcd00\">apricot-sweep-1</strong> at: <a href='https://wandb.ai/atds_ml/resnet50/runs/j04pmq1f' target=\"_blank\">https://wandb.ai/atds_ml/resnet50/runs/j04pmq1f</a><br/>Synced 5 W&B file(s), 0 media file(s), 0 artifact file(s) and 0 other file(s)"
            ]
          },
          "metadata": {}
        },
        {
          "output_type": "display_data",
          "data": {
            "text/plain": [
              "<IPython.core.display.HTML object>"
            ],
            "text/html": [
              "Find logs at: <code>./wandb/run-20230508_022240-j04pmq1f/logs</code>"
            ]
          },
          "metadata": {}
        },
        {
          "output_type": "stream",
          "name": "stderr",
          "text": [
            "\u001b[34m\u001b[1mwandb\u001b[0m: Agent Starting Run: bn0ucvbc with config:\n",
            "\u001b[34m\u001b[1mwandb\u001b[0m: \tepochs: 15\n",
            "\u001b[34m\u001b[1mwandb\u001b[0m: \tlearning_rate: 0.0005468656899907587\n",
            "\u001b[34m\u001b[1mwandb\u001b[0m: \toptimizer: sgd\n"
          ]
        },
        {
          "output_type": "display_data",
          "data": {
            "text/plain": [
              "<IPython.core.display.HTML object>"
            ],
            "text/html": [
              "Tracking run with wandb version 0.15.2"
            ]
          },
          "metadata": {}
        },
        {
          "output_type": "display_data",
          "data": {
            "text/plain": [
              "<IPython.core.display.HTML object>"
            ],
            "text/html": [
              "Run data is saved locally in <code>/content/wandb/run-20230508_022452-bn0ucvbc</code>"
            ]
          },
          "metadata": {}
        },
        {
          "output_type": "display_data",
          "data": {
            "text/plain": [
              "<IPython.core.display.HTML object>"
            ],
            "text/html": [
              "Syncing run <strong><a href='https://wandb.ai/atds_ml/resnet50/runs/bn0ucvbc' target=\"_blank\">kind-sweep-2</a></strong> to <a href='https://wandb.ai/atds_ml/resnet50' target=\"_blank\">Weights & Biases</a> (<a href='https://wandb.me/run' target=\"_blank\">docs</a>)<br/>Sweep page: <a href='https://wandb.ai/atds_ml/resnet50/sweeps/k3k9bdxd' target=\"_blank\">https://wandb.ai/atds_ml/resnet50/sweeps/k3k9bdxd</a>"
            ]
          },
          "metadata": {}
        },
        {
          "output_type": "display_data",
          "data": {
            "text/plain": [
              "<IPython.core.display.HTML object>"
            ],
            "text/html": [
              " View project at <a href='https://wandb.ai/atds_ml/resnet50' target=\"_blank\">https://wandb.ai/atds_ml/resnet50</a>"
            ]
          },
          "metadata": {}
        },
        {
          "output_type": "display_data",
          "data": {
            "text/plain": [
              "<IPython.core.display.HTML object>"
            ],
            "text/html": [
              " View sweep at <a href='https://wandb.ai/atds_ml/resnet50/sweeps/k3k9bdxd' target=\"_blank\">https://wandb.ai/atds_ml/resnet50/sweeps/k3k9bdxd</a>"
            ]
          },
          "metadata": {}
        },
        {
          "output_type": "display_data",
          "data": {
            "text/plain": [
              "<IPython.core.display.HTML object>"
            ],
            "text/html": [
              " View run at <a href='https://wandb.ai/atds_ml/resnet50/runs/bn0ucvbc' target=\"_blank\">https://wandb.ai/atds_ml/resnet50/runs/bn0ucvbc</a>"
            ]
          },
          "metadata": {}
        },
        {
          "output_type": "stream",
          "name": "stdout",
          "text": [
            "X_train.shape torch.Size([31367, 3, 30, 30])\n",
            "X_valid.shape torch.Size([7842, 3, 30, 30])\n",
            "y_train.shape torch.Size([31367])\n",
            "y_valid.shape torch.Size([7842])\n"
          ]
        },
        {
          "output_type": "display_data",
          "data": {
            "text/plain": [
              "<IPython.core.display.HTML object>"
            ],
            "text/html": [
              "Waiting for W&B process to finish... <strong style=\"color:green\">(success).</strong>"
            ]
          },
          "metadata": {}
        },
        {
          "output_type": "display_data",
          "data": {
            "text/plain": [
              "VBox(children=(Label(value='0.001 MB of 0.001 MB uploaded (0.000 MB deduped)\\r'), FloatProgress(value=1.0, max…"
            ],
            "application/vnd.jupyter.widget-view+json": {
              "version_major": 2,
              "version_minor": 0,
              "model_id": "e2daf9315e574e40843dc3607da56b70"
            }
          },
          "metadata": {}
        },
        {
          "output_type": "display_data",
          "data": {
            "text/plain": [
              "<IPython.core.display.HTML object>"
            ],
            "text/html": [
              "<style>\n",
              "    table.wandb td:nth-child(1) { padding: 0 10px; text-align: left ; width: auto;} td:nth-child(2) {text-align: left ; width: 100%}\n",
              "    .wandb-row { display: flex; flex-direction: row; flex-wrap: wrap; justify-content: flex-start; width: 100% }\n",
              "    .wandb-col { display: flex; flex-direction: column; flex-basis: 100%; flex: 1; padding: 10px; }\n",
              "    </style>\n",
              "<div class=\"wandb-row\"><div class=\"wandb-col\"><h3>Run history:</h3><br/><table class=\"wandb\"><tr><td>epoch</td><td>▁▁▂▃▃▃▄▅▅▅▆▇▇▇█</td></tr><tr><td>learning_rate</td><td>▁▁▁▁▁▁▁▁▁▁▁▁▁▁▁</td></tr><tr><td>loss</td><td>█▆▅▄▃▃▂▂▂▂▂▁▁▁▁</td></tr></table><br/></div><div class=\"wandb-col\"><h3>Run summary:</h3><br/><table class=\"wandb\"><tr><td>epoch</td><td>14</td></tr><tr><td>learning_rate</td><td>0.00055</td></tr><tr><td>loss</td><td>3.94839</td></tr><tr><td>optimizer</td><td>sgd</td></tr></table><br/></div></div>"
            ]
          },
          "metadata": {}
        },
        {
          "output_type": "display_data",
          "data": {
            "text/plain": [
              "<IPython.core.display.HTML object>"
            ],
            "text/html": [
              " View run <strong style=\"color:#cdcd00\">kind-sweep-2</strong> at: <a href='https://wandb.ai/atds_ml/resnet50/runs/bn0ucvbc' target=\"_blank\">https://wandb.ai/atds_ml/resnet50/runs/bn0ucvbc</a><br/>Synced 5 W&B file(s), 0 media file(s), 0 artifact file(s) and 0 other file(s)"
            ]
          },
          "metadata": {}
        },
        {
          "output_type": "display_data",
          "data": {
            "text/plain": [
              "<IPython.core.display.HTML object>"
            ],
            "text/html": [
              "Find logs at: <code>./wandb/run-20230508_022452-bn0ucvbc/logs</code>"
            ]
          },
          "metadata": {}
        },
        {
          "output_type": "stream",
          "name": "stderr",
          "text": [
            "\u001b[34m\u001b[1mwandb\u001b[0m: Agent Starting Run: 2bdvtywf with config:\n",
            "\u001b[34m\u001b[1mwandb\u001b[0m: \tepochs: 15\n",
            "\u001b[34m\u001b[1mwandb\u001b[0m: \tlearning_rate: 0.0009354524158445008\n",
            "\u001b[34m\u001b[1mwandb\u001b[0m: \toptimizer: adam\n"
          ]
        },
        {
          "output_type": "display_data",
          "data": {
            "text/plain": [
              "<IPython.core.display.HTML object>"
            ],
            "text/html": [
              "Tracking run with wandb version 0.15.2"
            ]
          },
          "metadata": {}
        },
        {
          "output_type": "display_data",
          "data": {
            "text/plain": [
              "<IPython.core.display.HTML object>"
            ],
            "text/html": [
              "Run data is saved locally in <code>/content/wandb/run-20230508_022647-2bdvtywf</code>"
            ]
          },
          "metadata": {}
        },
        {
          "output_type": "display_data",
          "data": {
            "text/plain": [
              "<IPython.core.display.HTML object>"
            ],
            "text/html": [
              "Syncing run <strong><a href='https://wandb.ai/atds_ml/resnet50/runs/2bdvtywf' target=\"_blank\">deft-sweep-3</a></strong> to <a href='https://wandb.ai/atds_ml/resnet50' target=\"_blank\">Weights & Biases</a> (<a href='https://wandb.me/run' target=\"_blank\">docs</a>)<br/>Sweep page: <a href='https://wandb.ai/atds_ml/resnet50/sweeps/k3k9bdxd' target=\"_blank\">https://wandb.ai/atds_ml/resnet50/sweeps/k3k9bdxd</a>"
            ]
          },
          "metadata": {}
        },
        {
          "output_type": "display_data",
          "data": {
            "text/plain": [
              "<IPython.core.display.HTML object>"
            ],
            "text/html": [
              " View project at <a href='https://wandb.ai/atds_ml/resnet50' target=\"_blank\">https://wandb.ai/atds_ml/resnet50</a>"
            ]
          },
          "metadata": {}
        },
        {
          "output_type": "display_data",
          "data": {
            "text/plain": [
              "<IPython.core.display.HTML object>"
            ],
            "text/html": [
              " View sweep at <a href='https://wandb.ai/atds_ml/resnet50/sweeps/k3k9bdxd' target=\"_blank\">https://wandb.ai/atds_ml/resnet50/sweeps/k3k9bdxd</a>"
            ]
          },
          "metadata": {}
        },
        {
          "output_type": "display_data",
          "data": {
            "text/plain": [
              "<IPython.core.display.HTML object>"
            ],
            "text/html": [
              " View run at <a href='https://wandb.ai/atds_ml/resnet50/runs/2bdvtywf' target=\"_blank\">https://wandb.ai/atds_ml/resnet50/runs/2bdvtywf</a>"
            ]
          },
          "metadata": {}
        },
        {
          "output_type": "stream",
          "name": "stdout",
          "text": [
            "X_train.shape torch.Size([31367, 3, 30, 30])\n",
            "X_valid.shape torch.Size([7842, 3, 30, 30])\n",
            "y_train.shape torch.Size([31367])\n",
            "y_valid.shape torch.Size([7842])\n"
          ]
        },
        {
          "output_type": "display_data",
          "data": {
            "text/plain": [
              "<IPython.core.display.HTML object>"
            ],
            "text/html": [
              "Waiting for W&B process to finish... <strong style=\"color:green\">(success).</strong>"
            ]
          },
          "metadata": {}
        },
        {
          "output_type": "display_data",
          "data": {
            "text/plain": [
              "VBox(children=(Label(value='0.001 MB of 0.001 MB uploaded (0.000 MB deduped)\\r'), FloatProgress(value=1.0, max…"
            ],
            "application/vnd.jupyter.widget-view+json": {
              "version_major": 2,
              "version_minor": 0,
              "model_id": "5b575f4b97284b6c911bdf500b10bb9c"
            }
          },
          "metadata": {}
        },
        {
          "output_type": "display_data",
          "data": {
            "text/plain": [
              "<IPython.core.display.HTML object>"
            ],
            "text/html": [
              "<style>\n",
              "    table.wandb td:nth-child(1) { padding: 0 10px; text-align: left ; width: auto;} td:nth-child(2) {text-align: left ; width: 100%}\n",
              "    .wandb-row { display: flex; flex-direction: row; flex-wrap: wrap; justify-content: flex-start; width: 100% }\n",
              "    .wandb-col { display: flex; flex-direction: column; flex-basis: 100%; flex: 1; padding: 10px; }\n",
              "    </style>\n",
              "<div class=\"wandb-row\"><div class=\"wandb-col\"><h3>Run history:</h3><br/><table class=\"wandb\"><tr><td>epoch</td><td>▁▁▂▃▃▃▄▅▅▅▆▇▇▇█</td></tr><tr><td>learning_rate</td><td>▁▁▁▁▁▁▁▁▁▁▁▁▁▁▁</td></tr><tr><td>loss</td><td>█▄▃▃▂▂▂▂▂▁▁▁▁▁▁</td></tr></table><br/></div><div class=\"wandb-col\"><h3>Run summary:</h3><br/><table class=\"wandb\"><tr><td>epoch</td><td>14</td></tr><tr><td>learning_rate</td><td>0.00094</td></tr><tr><td>loss</td><td>1.64783</td></tr><tr><td>optimizer</td><td>adam</td></tr></table><br/></div></div>"
            ]
          },
          "metadata": {}
        },
        {
          "output_type": "display_data",
          "data": {
            "text/plain": [
              "<IPython.core.display.HTML object>"
            ],
            "text/html": [
              " View run <strong style=\"color:#cdcd00\">deft-sweep-3</strong> at: <a href='https://wandb.ai/atds_ml/resnet50/runs/2bdvtywf' target=\"_blank\">https://wandb.ai/atds_ml/resnet50/runs/2bdvtywf</a><br/>Synced 5 W&B file(s), 0 media file(s), 0 artifact file(s) and 0 other file(s)"
            ]
          },
          "metadata": {}
        },
        {
          "output_type": "display_data",
          "data": {
            "text/plain": [
              "<IPython.core.display.HTML object>"
            ],
            "text/html": [
              "Find logs at: <code>./wandb/run-20230508_022647-2bdvtywf/logs</code>"
            ]
          },
          "metadata": {}
        },
        {
          "output_type": "stream",
          "name": "stderr",
          "text": [
            "\u001b[34m\u001b[1mwandb\u001b[0m: Agent Starting Run: jummpfpf with config:\n",
            "\u001b[34m\u001b[1mwandb\u001b[0m: \tepochs: 15\n",
            "\u001b[34m\u001b[1mwandb\u001b[0m: \tlearning_rate: 0.00020221837682282153\n",
            "\u001b[34m\u001b[1mwandb\u001b[0m: \toptimizer: sgd\n"
          ]
        },
        {
          "output_type": "display_data",
          "data": {
            "text/plain": [
              "<IPython.core.display.HTML object>"
            ],
            "text/html": [
              "Tracking run with wandb version 0.15.2"
            ]
          },
          "metadata": {}
        },
        {
          "output_type": "display_data",
          "data": {
            "text/plain": [
              "<IPython.core.display.HTML object>"
            ],
            "text/html": [
              "Run data is saved locally in <code>/content/wandb/run-20230508_022844-jummpfpf</code>"
            ]
          },
          "metadata": {}
        },
        {
          "output_type": "display_data",
          "data": {
            "text/plain": [
              "<IPython.core.display.HTML object>"
            ],
            "text/html": [
              "Syncing run <strong><a href='https://wandb.ai/atds_ml/resnet50/runs/jummpfpf' target=\"_blank\">expert-sweep-4</a></strong> to <a href='https://wandb.ai/atds_ml/resnet50' target=\"_blank\">Weights & Biases</a> (<a href='https://wandb.me/run' target=\"_blank\">docs</a>)<br/>Sweep page: <a href='https://wandb.ai/atds_ml/resnet50/sweeps/k3k9bdxd' target=\"_blank\">https://wandb.ai/atds_ml/resnet50/sweeps/k3k9bdxd</a>"
            ]
          },
          "metadata": {}
        },
        {
          "output_type": "display_data",
          "data": {
            "text/plain": [
              "<IPython.core.display.HTML object>"
            ],
            "text/html": [
              " View project at <a href='https://wandb.ai/atds_ml/resnet50' target=\"_blank\">https://wandb.ai/atds_ml/resnet50</a>"
            ]
          },
          "metadata": {}
        },
        {
          "output_type": "display_data",
          "data": {
            "text/plain": [
              "<IPython.core.display.HTML object>"
            ],
            "text/html": [
              " View sweep at <a href='https://wandb.ai/atds_ml/resnet50/sweeps/k3k9bdxd' target=\"_blank\">https://wandb.ai/atds_ml/resnet50/sweeps/k3k9bdxd</a>"
            ]
          },
          "metadata": {}
        },
        {
          "output_type": "display_data",
          "data": {
            "text/plain": [
              "<IPython.core.display.HTML object>"
            ],
            "text/html": [
              " View run at <a href='https://wandb.ai/atds_ml/resnet50/runs/jummpfpf' target=\"_blank\">https://wandb.ai/atds_ml/resnet50/runs/jummpfpf</a>"
            ]
          },
          "metadata": {}
        },
        {
          "output_type": "stream",
          "name": "stdout",
          "text": [
            "X_train.shape torch.Size([31367, 3, 30, 30])\n",
            "X_valid.shape torch.Size([7842, 3, 30, 30])\n",
            "y_train.shape torch.Size([31367])\n",
            "y_valid.shape torch.Size([7842])\n"
          ]
        },
        {
          "output_type": "display_data",
          "data": {
            "text/plain": [
              "<IPython.core.display.HTML object>"
            ],
            "text/html": [
              "Waiting for W&B process to finish... <strong style=\"color:green\">(success).</strong>"
            ]
          },
          "metadata": {}
        },
        {
          "output_type": "display_data",
          "data": {
            "text/plain": [
              "<IPython.core.display.HTML object>"
            ],
            "text/html": [
              "<style>\n",
              "    table.wandb td:nth-child(1) { padding: 0 10px; text-align: left ; width: auto;} td:nth-child(2) {text-align: left ; width: 100%}\n",
              "    .wandb-row { display: flex; flex-direction: row; flex-wrap: wrap; justify-content: flex-start; width: 100% }\n",
              "    .wandb-col { display: flex; flex-direction: column; flex-basis: 100%; flex: 1; padding: 10px; }\n",
              "    </style>\n",
              "<div class=\"wandb-row\"><div class=\"wandb-col\"><h3>Run history:</h3><br/><table class=\"wandb\"><tr><td>epoch</td><td>▁▁▂▃▃▃▄▅▅▅▆▇▇▇█</td></tr><tr><td>learning_rate</td><td>▁▁▁▁▁▁▁▁▁▁▁▁▁▁▁</td></tr><tr><td>loss</td><td>█▆▅▄▄▃▃▃▂▂▂▂▁▁▁</td></tr></table><br/></div><div class=\"wandb-col\"><h3>Run summary:</h3><br/><table class=\"wandb\"><tr><td>epoch</td><td>14</td></tr><tr><td>learning_rate</td><td>0.0002</td></tr><tr><td>loss</td><td>5.90114</td></tr><tr><td>optimizer</td><td>sgd</td></tr></table><br/></div></div>"
            ]
          },
          "metadata": {}
        },
        {
          "output_type": "display_data",
          "data": {
            "text/plain": [
              "<IPython.core.display.HTML object>"
            ],
            "text/html": [
              " View run <strong style=\"color:#cdcd00\">expert-sweep-4</strong> at: <a href='https://wandb.ai/atds_ml/resnet50/runs/jummpfpf' target=\"_blank\">https://wandb.ai/atds_ml/resnet50/runs/jummpfpf</a><br/>Synced 5 W&B file(s), 0 media file(s), 0 artifact file(s) and 0 other file(s)"
            ]
          },
          "metadata": {}
        },
        {
          "output_type": "display_data",
          "data": {
            "text/plain": [
              "<IPython.core.display.HTML object>"
            ],
            "text/html": [
              "Find logs at: <code>./wandb/run-20230508_022844-jummpfpf/logs</code>"
            ]
          },
          "metadata": {}
        },
        {
          "output_type": "stream",
          "name": "stderr",
          "text": [
            "\u001b[34m\u001b[1mwandb\u001b[0m: Sweep Agent: Waiting for job.\n",
            "\u001b[34m\u001b[1mwandb\u001b[0m: Job received.\n",
            "\u001b[34m\u001b[1mwandb\u001b[0m: Agent Starting Run: sa0foe27 with config:\n",
            "\u001b[34m\u001b[1mwandb\u001b[0m: \tepochs: 15\n",
            "\u001b[34m\u001b[1mwandb\u001b[0m: \tlearning_rate: 0.0002153588511706386\n",
            "\u001b[34m\u001b[1mwandb\u001b[0m: \toptimizer: adam\n"
          ]
        },
        {
          "output_type": "display_data",
          "data": {
            "text/plain": [
              "<IPython.core.display.HTML object>"
            ],
            "text/html": [
              "Tracking run with wandb version 0.15.2"
            ]
          },
          "metadata": {}
        },
        {
          "output_type": "display_data",
          "data": {
            "text/plain": [
              "<IPython.core.display.HTML object>"
            ],
            "text/html": [
              "Run data is saved locally in <code>/content/wandb/run-20230508_023045-sa0foe27</code>"
            ]
          },
          "metadata": {}
        },
        {
          "output_type": "display_data",
          "data": {
            "text/plain": [
              "<IPython.core.display.HTML object>"
            ],
            "text/html": [
              "Syncing run <strong><a href='https://wandb.ai/atds_ml/resnet50/runs/sa0foe27' target=\"_blank\">royal-sweep-5</a></strong> to <a href='https://wandb.ai/atds_ml/resnet50' target=\"_blank\">Weights & Biases</a> (<a href='https://wandb.me/run' target=\"_blank\">docs</a>)<br/>Sweep page: <a href='https://wandb.ai/atds_ml/resnet50/sweeps/k3k9bdxd' target=\"_blank\">https://wandb.ai/atds_ml/resnet50/sweeps/k3k9bdxd</a>"
            ]
          },
          "metadata": {}
        },
        {
          "output_type": "display_data",
          "data": {
            "text/plain": [
              "<IPython.core.display.HTML object>"
            ],
            "text/html": [
              " View project at <a href='https://wandb.ai/atds_ml/resnet50' target=\"_blank\">https://wandb.ai/atds_ml/resnet50</a>"
            ]
          },
          "metadata": {}
        },
        {
          "output_type": "display_data",
          "data": {
            "text/plain": [
              "<IPython.core.display.HTML object>"
            ],
            "text/html": [
              " View sweep at <a href='https://wandb.ai/atds_ml/resnet50/sweeps/k3k9bdxd' target=\"_blank\">https://wandb.ai/atds_ml/resnet50/sweeps/k3k9bdxd</a>"
            ]
          },
          "metadata": {}
        },
        {
          "output_type": "display_data",
          "data": {
            "text/plain": [
              "<IPython.core.display.HTML object>"
            ],
            "text/html": [
              " View run at <a href='https://wandb.ai/atds_ml/resnet50/runs/sa0foe27' target=\"_blank\">https://wandb.ai/atds_ml/resnet50/runs/sa0foe27</a>"
            ]
          },
          "metadata": {}
        },
        {
          "output_type": "stream",
          "name": "stdout",
          "text": [
            "X_train.shape torch.Size([31367, 3, 30, 30])\n",
            "X_valid.shape torch.Size([7842, 3, 30, 30])\n",
            "y_train.shape torch.Size([31367])\n",
            "y_valid.shape torch.Size([7842])\n"
          ]
        },
        {
          "output_type": "display_data",
          "data": {
            "text/plain": [
              "<IPython.core.display.HTML object>"
            ],
            "text/html": [
              "Waiting for W&B process to finish... <strong style=\"color:green\">(success).</strong>"
            ]
          },
          "metadata": {}
        },
        {
          "output_type": "display_data",
          "data": {
            "text/plain": [
              "VBox(children=(Label(value='0.001 MB of 0.002 MB uploaded (0.000 MB deduped)\\r'), FloatProgress(value=0.545332…"
            ],
            "application/vnd.jupyter.widget-view+json": {
              "version_major": 2,
              "version_minor": 0,
              "model_id": "31ebe1683ff943178586d1340343dd01"
            }
          },
          "metadata": {}
        },
        {
          "output_type": "display_data",
          "data": {
            "text/plain": [
              "<IPython.core.display.HTML object>"
            ],
            "text/html": [
              "<style>\n",
              "    table.wandb td:nth-child(1) { padding: 0 10px; text-align: left ; width: auto;} td:nth-child(2) {text-align: left ; width: 100%}\n",
              "    .wandb-row { display: flex; flex-direction: row; flex-wrap: wrap; justify-content: flex-start; width: 100% }\n",
              "    .wandb-col { display: flex; flex-direction: column; flex-basis: 100%; flex: 1; padding: 10px; }\n",
              "    </style>\n",
              "<div class=\"wandb-row\"><div class=\"wandb-col\"><h3>Run history:</h3><br/><table class=\"wandb\"><tr><td>epoch</td><td>▁▁▂▃▃▃▄▅▅▅▆▇▇▇█</td></tr><tr><td>learning_rate</td><td>▁▁▁▁▁▁▁▁▁▁▁▁▁▁▁</td></tr><tr><td>loss</td><td>█▅▄▃▃▂▂▂▂▂▁▁▁▁▁</td></tr></table><br/></div><div class=\"wandb-col\"><h3>Run summary:</h3><br/><table class=\"wandb\"><tr><td>epoch</td><td>14</td></tr><tr><td>learning_rate</td><td>0.00022</td></tr><tr><td>loss</td><td>2.86523</td></tr><tr><td>optimizer</td><td>adam</td></tr></table><br/></div></div>"
            ]
          },
          "metadata": {}
        },
        {
          "output_type": "display_data",
          "data": {
            "text/plain": [
              "<IPython.core.display.HTML object>"
            ],
            "text/html": [
              " View run <strong style=\"color:#cdcd00\">royal-sweep-5</strong> at: <a href='https://wandb.ai/atds_ml/resnet50/runs/sa0foe27' target=\"_blank\">https://wandb.ai/atds_ml/resnet50/runs/sa0foe27</a><br/>Synced 5 W&B file(s), 0 media file(s), 0 artifact file(s) and 0 other file(s)"
            ]
          },
          "metadata": {}
        },
        {
          "output_type": "display_data",
          "data": {
            "text/plain": [
              "<IPython.core.display.HTML object>"
            ],
            "text/html": [
              "Find logs at: <code>./wandb/run-20230508_023045-sa0foe27/logs</code>"
            ]
          },
          "metadata": {}
        },
        {
          "output_type": "stream",
          "name": "stderr",
          "text": [
            "\u001b[34m\u001b[1mwandb\u001b[0m: Agent Starting Run: 0hbd54ix with config:\n",
            "\u001b[34m\u001b[1mwandb\u001b[0m: \tepochs: 15\n",
            "\u001b[34m\u001b[1mwandb\u001b[0m: \tlearning_rate: 0.00022873867475718527\n",
            "\u001b[34m\u001b[1mwandb\u001b[0m: \toptimizer: adam\n"
          ]
        },
        {
          "output_type": "display_data",
          "data": {
            "text/plain": [
              "<IPython.core.display.HTML object>"
            ],
            "text/html": [
              "Tracking run with wandb version 0.15.2"
            ]
          },
          "metadata": {}
        },
        {
          "output_type": "display_data",
          "data": {
            "text/plain": [
              "<IPython.core.display.HTML object>"
            ],
            "text/html": [
              "Run data is saved locally in <code>/content/wandb/run-20230508_023241-0hbd54ix</code>"
            ]
          },
          "metadata": {}
        },
        {
          "output_type": "display_data",
          "data": {
            "text/plain": [
              "<IPython.core.display.HTML object>"
            ],
            "text/html": [
              "Syncing run <strong><a href='https://wandb.ai/atds_ml/resnet50/runs/0hbd54ix' target=\"_blank\">valiant-sweep-6</a></strong> to <a href='https://wandb.ai/atds_ml/resnet50' target=\"_blank\">Weights & Biases</a> (<a href='https://wandb.me/run' target=\"_blank\">docs</a>)<br/>Sweep page: <a href='https://wandb.ai/atds_ml/resnet50/sweeps/k3k9bdxd' target=\"_blank\">https://wandb.ai/atds_ml/resnet50/sweeps/k3k9bdxd</a>"
            ]
          },
          "metadata": {}
        },
        {
          "output_type": "display_data",
          "data": {
            "text/plain": [
              "<IPython.core.display.HTML object>"
            ],
            "text/html": [
              " View project at <a href='https://wandb.ai/atds_ml/resnet50' target=\"_blank\">https://wandb.ai/atds_ml/resnet50</a>"
            ]
          },
          "metadata": {}
        },
        {
          "output_type": "display_data",
          "data": {
            "text/plain": [
              "<IPython.core.display.HTML object>"
            ],
            "text/html": [
              " View sweep at <a href='https://wandb.ai/atds_ml/resnet50/sweeps/k3k9bdxd' target=\"_blank\">https://wandb.ai/atds_ml/resnet50/sweeps/k3k9bdxd</a>"
            ]
          },
          "metadata": {}
        },
        {
          "output_type": "display_data",
          "data": {
            "text/plain": [
              "<IPython.core.display.HTML object>"
            ],
            "text/html": [
              " View run at <a href='https://wandb.ai/atds_ml/resnet50/runs/0hbd54ix' target=\"_blank\">https://wandb.ai/atds_ml/resnet50/runs/0hbd54ix</a>"
            ]
          },
          "metadata": {}
        },
        {
          "output_type": "stream",
          "name": "stdout",
          "text": [
            "X_train.shape torch.Size([31367, 3, 30, 30])\n",
            "X_valid.shape torch.Size([7842, 3, 30, 30])\n",
            "y_train.shape torch.Size([31367])\n",
            "y_valid.shape torch.Size([7842])\n"
          ]
        },
        {
          "output_type": "display_data",
          "data": {
            "text/plain": [
              "<IPython.core.display.HTML object>"
            ],
            "text/html": [
              "Waiting for W&B process to finish... <strong style=\"color:green\">(success).</strong>"
            ]
          },
          "metadata": {}
        },
        {
          "output_type": "display_data",
          "data": {
            "text/plain": [
              "<IPython.core.display.HTML object>"
            ],
            "text/html": [
              "<style>\n",
              "    table.wandb td:nth-child(1) { padding: 0 10px; text-align: left ; width: auto;} td:nth-child(2) {text-align: left ; width: 100%}\n",
              "    .wandb-row { display: flex; flex-direction: row; flex-wrap: wrap; justify-content: flex-start; width: 100% }\n",
              "    .wandb-col { display: flex; flex-direction: column; flex-basis: 100%; flex: 1; padding: 10px; }\n",
              "    </style>\n",
              "<div class=\"wandb-row\"><div class=\"wandb-col\"><h3>Run history:</h3><br/><table class=\"wandb\"><tr><td>epoch</td><td>▁▁▂▃▃▃▄▅▅▅▆▇▇▇█</td></tr><tr><td>learning_rate</td><td>▁▁▁▁▁▁▁▁▁▁▁▁▁▁▁</td></tr><tr><td>loss</td><td>█▅▄▃▃▂▂▂▂▁▁▁▁▁▁</td></tr></table><br/></div><div class=\"wandb-col\"><h3>Run summary:</h3><br/><table class=\"wandb\"><tr><td>epoch</td><td>14</td></tr><tr><td>learning_rate</td><td>0.00023</td></tr><tr><td>loss</td><td>2.83535</td></tr><tr><td>optimizer</td><td>adam</td></tr></table><br/></div></div>"
            ]
          },
          "metadata": {}
        },
        {
          "output_type": "display_data",
          "data": {
            "text/plain": [
              "<IPython.core.display.HTML object>"
            ],
            "text/html": [
              " View run <strong style=\"color:#cdcd00\">valiant-sweep-6</strong> at: <a href='https://wandb.ai/atds_ml/resnet50/runs/0hbd54ix' target=\"_blank\">https://wandb.ai/atds_ml/resnet50/runs/0hbd54ix</a><br/>Synced 5 W&B file(s), 0 media file(s), 0 artifact file(s) and 0 other file(s)"
            ]
          },
          "metadata": {}
        },
        {
          "output_type": "display_data",
          "data": {
            "text/plain": [
              "<IPython.core.display.HTML object>"
            ],
            "text/html": [
              "Find logs at: <code>./wandb/run-20230508_023241-0hbd54ix/logs</code>"
            ]
          },
          "metadata": {}
        },
        {
          "output_type": "stream",
          "name": "stderr",
          "text": [
            "\u001b[34m\u001b[1mwandb\u001b[0m: Agent Starting Run: wrz31lht with config:\n",
            "\u001b[34m\u001b[1mwandb\u001b[0m: \tepochs: 15\n",
            "\u001b[34m\u001b[1mwandb\u001b[0m: \tlearning_rate: 0.000688771645434303\n",
            "\u001b[34m\u001b[1mwandb\u001b[0m: \toptimizer: adam\n"
          ]
        },
        {
          "output_type": "display_data",
          "data": {
            "text/plain": [
              "<IPython.core.display.HTML object>"
            ],
            "text/html": [
              "Tracking run with wandb version 0.15.2"
            ]
          },
          "metadata": {}
        },
        {
          "output_type": "display_data",
          "data": {
            "text/plain": [
              "<IPython.core.display.HTML object>"
            ],
            "text/html": [
              "Run data is saved locally in <code>/content/wandb/run-20230508_023437-wrz31lht</code>"
            ]
          },
          "metadata": {}
        },
        {
          "output_type": "display_data",
          "data": {
            "text/plain": [
              "<IPython.core.display.HTML object>"
            ],
            "text/html": [
              "Syncing run <strong><a href='https://wandb.ai/atds_ml/resnet50/runs/wrz31lht' target=\"_blank\">daily-sweep-7</a></strong> to <a href='https://wandb.ai/atds_ml/resnet50' target=\"_blank\">Weights & Biases</a> (<a href='https://wandb.me/run' target=\"_blank\">docs</a>)<br/>Sweep page: <a href='https://wandb.ai/atds_ml/resnet50/sweeps/k3k9bdxd' target=\"_blank\">https://wandb.ai/atds_ml/resnet50/sweeps/k3k9bdxd</a>"
            ]
          },
          "metadata": {}
        },
        {
          "output_type": "display_data",
          "data": {
            "text/plain": [
              "<IPython.core.display.HTML object>"
            ],
            "text/html": [
              " View project at <a href='https://wandb.ai/atds_ml/resnet50' target=\"_blank\">https://wandb.ai/atds_ml/resnet50</a>"
            ]
          },
          "metadata": {}
        },
        {
          "output_type": "display_data",
          "data": {
            "text/plain": [
              "<IPython.core.display.HTML object>"
            ],
            "text/html": [
              " View sweep at <a href='https://wandb.ai/atds_ml/resnet50/sweeps/k3k9bdxd' target=\"_blank\">https://wandb.ai/atds_ml/resnet50/sweeps/k3k9bdxd</a>"
            ]
          },
          "metadata": {}
        },
        {
          "output_type": "display_data",
          "data": {
            "text/plain": [
              "<IPython.core.display.HTML object>"
            ],
            "text/html": [
              " View run at <a href='https://wandb.ai/atds_ml/resnet50/runs/wrz31lht' target=\"_blank\">https://wandb.ai/atds_ml/resnet50/runs/wrz31lht</a>"
            ]
          },
          "metadata": {}
        },
        {
          "output_type": "stream",
          "name": "stdout",
          "text": [
            "X_train.shape torch.Size([31367, 3, 30, 30])\n",
            "X_valid.shape torch.Size([7842, 3, 30, 30])\n",
            "y_train.shape torch.Size([31367])\n",
            "y_valid.shape torch.Size([7842])\n"
          ]
        },
        {
          "output_type": "display_data",
          "data": {
            "text/plain": [
              "<IPython.core.display.HTML object>"
            ],
            "text/html": [
              "Waiting for W&B process to finish... <strong style=\"color:green\">(success).</strong>"
            ]
          },
          "metadata": {}
        },
        {
          "output_type": "display_data",
          "data": {
            "text/plain": [
              "VBox(children=(Label(value='0.001 MB of 0.001 MB uploaded (0.000 MB deduped)\\r'), FloatProgress(value=1.0, max…"
            ],
            "application/vnd.jupyter.widget-view+json": {
              "version_major": 2,
              "version_minor": 0,
              "model_id": "d51720947e684c80b8dd2b496ae3bf95"
            }
          },
          "metadata": {}
        },
        {
          "output_type": "display_data",
          "data": {
            "text/plain": [
              "<IPython.core.display.HTML object>"
            ],
            "text/html": [
              "<style>\n",
              "    table.wandb td:nth-child(1) { padding: 0 10px; text-align: left ; width: auto;} td:nth-child(2) {text-align: left ; width: 100%}\n",
              "    .wandb-row { display: flex; flex-direction: row; flex-wrap: wrap; justify-content: flex-start; width: 100% }\n",
              "    .wandb-col { display: flex; flex-direction: column; flex-basis: 100%; flex: 1; padding: 10px; }\n",
              "    </style>\n",
              "<div class=\"wandb-row\"><div class=\"wandb-col\"><h3>Run history:</h3><br/><table class=\"wandb\"><tr><td>epoch</td><td>▁▁▂▃▃▃▄▅▅▅▆▇▇▇█</td></tr><tr><td>learning_rate</td><td>▁▁▁▁▁▁▁▁▁▁▁▁▁▁▁</td></tr><tr><td>loss</td><td>█▄▃▃▂▂▂▂▂▁▁▁▁▁▁</td></tr></table><br/></div><div class=\"wandb-col\"><h3>Run summary:</h3><br/><table class=\"wandb\"><tr><td>epoch</td><td>14</td></tr><tr><td>learning_rate</td><td>0.00069</td></tr><tr><td>loss</td><td>1.82238</td></tr><tr><td>optimizer</td><td>adam</td></tr></table><br/></div></div>"
            ]
          },
          "metadata": {}
        },
        {
          "output_type": "display_data",
          "data": {
            "text/plain": [
              "<IPython.core.display.HTML object>"
            ],
            "text/html": [
              " View run <strong style=\"color:#cdcd00\">daily-sweep-7</strong> at: <a href='https://wandb.ai/atds_ml/resnet50/runs/wrz31lht' target=\"_blank\">https://wandb.ai/atds_ml/resnet50/runs/wrz31lht</a><br/>Synced 5 W&B file(s), 0 media file(s), 0 artifact file(s) and 0 other file(s)"
            ]
          },
          "metadata": {}
        },
        {
          "output_type": "display_data",
          "data": {
            "text/plain": [
              "<IPython.core.display.HTML object>"
            ],
            "text/html": [
              "Find logs at: <code>./wandb/run-20230508_023437-wrz31lht/logs</code>"
            ]
          },
          "metadata": {}
        },
        {
          "output_type": "stream",
          "name": "stderr",
          "text": [
            "\u001b[34m\u001b[1mwandb\u001b[0m: Agent Starting Run: 20mvddhx with config:\n",
            "\u001b[34m\u001b[1mwandb\u001b[0m: \tepochs: 15\n",
            "\u001b[34m\u001b[1mwandb\u001b[0m: \tlearning_rate: 0.0005763281650157411\n",
            "\u001b[34m\u001b[1mwandb\u001b[0m: \toptimizer: adam\n"
          ]
        },
        {
          "output_type": "display_data",
          "data": {
            "text/plain": [
              "<IPython.core.display.HTML object>"
            ],
            "text/html": [
              "Tracking run with wandb version 0.15.2"
            ]
          },
          "metadata": {}
        },
        {
          "output_type": "display_data",
          "data": {
            "text/plain": [
              "<IPython.core.display.HTML object>"
            ],
            "text/html": [
              "Run data is saved locally in <code>/content/wandb/run-20230508_023633-20mvddhx</code>"
            ]
          },
          "metadata": {}
        },
        {
          "output_type": "display_data",
          "data": {
            "text/plain": [
              "<IPython.core.display.HTML object>"
            ],
            "text/html": [
              "Syncing run <strong><a href='https://wandb.ai/atds_ml/resnet50/runs/20mvddhx' target=\"_blank\">sage-sweep-8</a></strong> to <a href='https://wandb.ai/atds_ml/resnet50' target=\"_blank\">Weights & Biases</a> (<a href='https://wandb.me/run' target=\"_blank\">docs</a>)<br/>Sweep page: <a href='https://wandb.ai/atds_ml/resnet50/sweeps/k3k9bdxd' target=\"_blank\">https://wandb.ai/atds_ml/resnet50/sweeps/k3k9bdxd</a>"
            ]
          },
          "metadata": {}
        },
        {
          "output_type": "display_data",
          "data": {
            "text/plain": [
              "<IPython.core.display.HTML object>"
            ],
            "text/html": [
              " View project at <a href='https://wandb.ai/atds_ml/resnet50' target=\"_blank\">https://wandb.ai/atds_ml/resnet50</a>"
            ]
          },
          "metadata": {}
        },
        {
          "output_type": "display_data",
          "data": {
            "text/plain": [
              "<IPython.core.display.HTML object>"
            ],
            "text/html": [
              " View sweep at <a href='https://wandb.ai/atds_ml/resnet50/sweeps/k3k9bdxd' target=\"_blank\">https://wandb.ai/atds_ml/resnet50/sweeps/k3k9bdxd</a>"
            ]
          },
          "metadata": {}
        },
        {
          "output_type": "display_data",
          "data": {
            "text/plain": [
              "<IPython.core.display.HTML object>"
            ],
            "text/html": [
              " View run at <a href='https://wandb.ai/atds_ml/resnet50/runs/20mvddhx' target=\"_blank\">https://wandb.ai/atds_ml/resnet50/runs/20mvddhx</a>"
            ]
          },
          "metadata": {}
        },
        {
          "output_type": "stream",
          "name": "stdout",
          "text": [
            "X_train.shape torch.Size([31367, 3, 30, 30])\n",
            "X_valid.shape torch.Size([7842, 3, 30, 30])\n",
            "y_train.shape torch.Size([31367])\n",
            "y_valid.shape torch.Size([7842])\n"
          ]
        },
        {
          "output_type": "display_data",
          "data": {
            "text/plain": [
              "<IPython.core.display.HTML object>"
            ],
            "text/html": [
              "Waiting for W&B process to finish... <strong style=\"color:green\">(success).</strong>"
            ]
          },
          "metadata": {}
        },
        {
          "output_type": "display_data",
          "data": {
            "text/plain": [
              "<IPython.core.display.HTML object>"
            ],
            "text/html": [
              "<style>\n",
              "    table.wandb td:nth-child(1) { padding: 0 10px; text-align: left ; width: auto;} td:nth-child(2) {text-align: left ; width: 100%}\n",
              "    .wandb-row { display: flex; flex-direction: row; flex-wrap: wrap; justify-content: flex-start; width: 100% }\n",
              "    .wandb-col { display: flex; flex-direction: column; flex-basis: 100%; flex: 1; padding: 10px; }\n",
              "    </style>\n",
              "<div class=\"wandb-row\"><div class=\"wandb-col\"><h3>Run history:</h3><br/><table class=\"wandb\"><tr><td>epoch</td><td>▁▁▂▃▃▃▄▅▅▅▆▇▇▇█</td></tr><tr><td>learning_rate</td><td>▁▁▁▁▁▁▁▁▁▁▁▁▁▁▁</td></tr><tr><td>loss</td><td>█▅▃▃▂▂▂▂▂▁▁▁▁▁▁</td></tr></table><br/></div><div class=\"wandb-col\"><h3>Run summary:</h3><br/><table class=\"wandb\"><tr><td>epoch</td><td>14</td></tr><tr><td>learning_rate</td><td>0.00058</td></tr><tr><td>loss</td><td>1.93856</td></tr><tr><td>optimizer</td><td>adam</td></tr></table><br/></div></div>"
            ]
          },
          "metadata": {}
        },
        {
          "output_type": "display_data",
          "data": {
            "text/plain": [
              "<IPython.core.display.HTML object>"
            ],
            "text/html": [
              " View run <strong style=\"color:#cdcd00\">sage-sweep-8</strong> at: <a href='https://wandb.ai/atds_ml/resnet50/runs/20mvddhx' target=\"_blank\">https://wandb.ai/atds_ml/resnet50/runs/20mvddhx</a><br/>Synced 5 W&B file(s), 0 media file(s), 0 artifact file(s) and 0 other file(s)"
            ]
          },
          "metadata": {}
        },
        {
          "output_type": "display_data",
          "data": {
            "text/plain": [
              "<IPython.core.display.HTML object>"
            ],
            "text/html": [
              "Find logs at: <code>./wandb/run-20230508_023633-20mvddhx/logs</code>"
            ]
          },
          "metadata": {}
        },
        {
          "output_type": "stream",
          "name": "stderr",
          "text": [
            "\u001b[34m\u001b[1mwandb\u001b[0m: Agent Starting Run: 21l6go7f with config:\n",
            "\u001b[34m\u001b[1mwandb\u001b[0m: \tepochs: 15\n",
            "\u001b[34m\u001b[1mwandb\u001b[0m: \tlearning_rate: 0.0004187912686772386\n",
            "\u001b[34m\u001b[1mwandb\u001b[0m: \toptimizer: adam\n"
          ]
        },
        {
          "output_type": "display_data",
          "data": {
            "text/plain": [
              "<IPython.core.display.HTML object>"
            ],
            "text/html": [
              "Tracking run with wandb version 0.15.2"
            ]
          },
          "metadata": {}
        },
        {
          "output_type": "display_data",
          "data": {
            "text/plain": [
              "<IPython.core.display.HTML object>"
            ],
            "text/html": [
              "Run data is saved locally in <code>/content/wandb/run-20230508_023825-21l6go7f</code>"
            ]
          },
          "metadata": {}
        },
        {
          "output_type": "display_data",
          "data": {
            "text/plain": [
              "<IPython.core.display.HTML object>"
            ],
            "text/html": [
              "Syncing run <strong><a href='https://wandb.ai/atds_ml/resnet50/runs/21l6go7f' target=\"_blank\">fragrant-sweep-9</a></strong> to <a href='https://wandb.ai/atds_ml/resnet50' target=\"_blank\">Weights & Biases</a> (<a href='https://wandb.me/run' target=\"_blank\">docs</a>)<br/>Sweep page: <a href='https://wandb.ai/atds_ml/resnet50/sweeps/k3k9bdxd' target=\"_blank\">https://wandb.ai/atds_ml/resnet50/sweeps/k3k9bdxd</a>"
            ]
          },
          "metadata": {}
        },
        {
          "output_type": "display_data",
          "data": {
            "text/plain": [
              "<IPython.core.display.HTML object>"
            ],
            "text/html": [
              " View project at <a href='https://wandb.ai/atds_ml/resnet50' target=\"_blank\">https://wandb.ai/atds_ml/resnet50</a>"
            ]
          },
          "metadata": {}
        },
        {
          "output_type": "display_data",
          "data": {
            "text/plain": [
              "<IPython.core.display.HTML object>"
            ],
            "text/html": [
              " View sweep at <a href='https://wandb.ai/atds_ml/resnet50/sweeps/k3k9bdxd' target=\"_blank\">https://wandb.ai/atds_ml/resnet50/sweeps/k3k9bdxd</a>"
            ]
          },
          "metadata": {}
        },
        {
          "output_type": "display_data",
          "data": {
            "text/plain": [
              "<IPython.core.display.HTML object>"
            ],
            "text/html": [
              " View run at <a href='https://wandb.ai/atds_ml/resnet50/runs/21l6go7f' target=\"_blank\">https://wandb.ai/atds_ml/resnet50/runs/21l6go7f</a>"
            ]
          },
          "metadata": {}
        },
        {
          "output_type": "stream",
          "name": "stdout",
          "text": [
            "X_train.shape torch.Size([31367, 3, 30, 30])\n",
            "X_valid.shape torch.Size([7842, 3, 30, 30])\n",
            "y_train.shape torch.Size([31367])\n",
            "y_valid.shape torch.Size([7842])\n"
          ]
        },
        {
          "output_type": "display_data",
          "data": {
            "text/plain": [
              "<IPython.core.display.HTML object>"
            ],
            "text/html": [
              "Waiting for W&B process to finish... <strong style=\"color:green\">(success).</strong>"
            ]
          },
          "metadata": {}
        },
        {
          "output_type": "display_data",
          "data": {
            "text/plain": [
              "VBox(children=(Label(value='0.001 MB of 0.001 MB uploaded (0.000 MB deduped)\\r'), FloatProgress(value=1.0, max…"
            ],
            "application/vnd.jupyter.widget-view+json": {
              "version_major": 2,
              "version_minor": 0,
              "model_id": "cab9fd41d8234f35b6683abb5b78fb16"
            }
          },
          "metadata": {}
        },
        {
          "output_type": "display_data",
          "data": {
            "text/plain": [
              "<IPython.core.display.HTML object>"
            ],
            "text/html": [
              "<style>\n",
              "    table.wandb td:nth-child(1) { padding: 0 10px; text-align: left ; width: auto;} td:nth-child(2) {text-align: left ; width: 100%}\n",
              "    .wandb-row { display: flex; flex-direction: row; flex-wrap: wrap; justify-content: flex-start; width: 100% }\n",
              "    .wandb-col { display: flex; flex-direction: column; flex-basis: 100%; flex: 1; padding: 10px; }\n",
              "    </style>\n",
              "<div class=\"wandb-row\"><div class=\"wandb-col\"><h3>Run history:</h3><br/><table class=\"wandb\"><tr><td>epoch</td><td>▁▁▂▃▃▃▄▅▅▅▆▇▇▇█</td></tr><tr><td>learning_rate</td><td>▁▁▁▁▁▁▁▁▁▁▁▁▁▁▁</td></tr><tr><td>loss</td><td>█▅▄▃▂▂▂▂▂▁▁▁▁▁▁</td></tr></table><br/></div><div class=\"wandb-col\"><h3>Run summary:</h3><br/><table class=\"wandb\"><tr><td>epoch</td><td>14</td></tr><tr><td>learning_rate</td><td>0.00042</td></tr><tr><td>loss</td><td>2.21379</td></tr><tr><td>optimizer</td><td>adam</td></tr></table><br/></div></div>"
            ]
          },
          "metadata": {}
        },
        {
          "output_type": "display_data",
          "data": {
            "text/plain": [
              "<IPython.core.display.HTML object>"
            ],
            "text/html": [
              " View run <strong style=\"color:#cdcd00\">fragrant-sweep-9</strong> at: <a href='https://wandb.ai/atds_ml/resnet50/runs/21l6go7f' target=\"_blank\">https://wandb.ai/atds_ml/resnet50/runs/21l6go7f</a><br/>Synced 5 W&B file(s), 0 media file(s), 0 artifact file(s) and 0 other file(s)"
            ]
          },
          "metadata": {}
        },
        {
          "output_type": "display_data",
          "data": {
            "text/plain": [
              "<IPython.core.display.HTML object>"
            ],
            "text/html": [
              "Find logs at: <code>./wandb/run-20230508_023825-21l6go7f/logs</code>"
            ]
          },
          "metadata": {}
        },
        {
          "output_type": "stream",
          "name": "stderr",
          "text": [
            "\u001b[34m\u001b[1mwandb\u001b[0m: Agent Starting Run: ohmr7xn6 with config:\n",
            "\u001b[34m\u001b[1mwandb\u001b[0m: \tepochs: 15\n",
            "\u001b[34m\u001b[1mwandb\u001b[0m: \tlearning_rate: 0.0006965620428458821\n",
            "\u001b[34m\u001b[1mwandb\u001b[0m: \toptimizer: sgd\n"
          ]
        },
        {
          "output_type": "display_data",
          "data": {
            "text/plain": [
              "<IPython.core.display.HTML object>"
            ],
            "text/html": [
              "Tracking run with wandb version 0.15.2"
            ]
          },
          "metadata": {}
        },
        {
          "output_type": "display_data",
          "data": {
            "text/plain": [
              "<IPython.core.display.HTML object>"
            ],
            "text/html": [
              "Run data is saved locally in <code>/content/wandb/run-20230508_024021-ohmr7xn6</code>"
            ]
          },
          "metadata": {}
        },
        {
          "output_type": "display_data",
          "data": {
            "text/plain": [
              "<IPython.core.display.HTML object>"
            ],
            "text/html": [
              "Syncing run <strong><a href='https://wandb.ai/atds_ml/resnet50/runs/ohmr7xn6' target=\"_blank\">quiet-sweep-10</a></strong> to <a href='https://wandb.ai/atds_ml/resnet50' target=\"_blank\">Weights & Biases</a> (<a href='https://wandb.me/run' target=\"_blank\">docs</a>)<br/>Sweep page: <a href='https://wandb.ai/atds_ml/resnet50/sweeps/k3k9bdxd' target=\"_blank\">https://wandb.ai/atds_ml/resnet50/sweeps/k3k9bdxd</a>"
            ]
          },
          "metadata": {}
        },
        {
          "output_type": "display_data",
          "data": {
            "text/plain": [
              "<IPython.core.display.HTML object>"
            ],
            "text/html": [
              " View project at <a href='https://wandb.ai/atds_ml/resnet50' target=\"_blank\">https://wandb.ai/atds_ml/resnet50</a>"
            ]
          },
          "metadata": {}
        },
        {
          "output_type": "display_data",
          "data": {
            "text/plain": [
              "<IPython.core.display.HTML object>"
            ],
            "text/html": [
              " View sweep at <a href='https://wandb.ai/atds_ml/resnet50/sweeps/k3k9bdxd' target=\"_blank\">https://wandb.ai/atds_ml/resnet50/sweeps/k3k9bdxd</a>"
            ]
          },
          "metadata": {}
        },
        {
          "output_type": "display_data",
          "data": {
            "text/plain": [
              "<IPython.core.display.HTML object>"
            ],
            "text/html": [
              " View run at <a href='https://wandb.ai/atds_ml/resnet50/runs/ohmr7xn6' target=\"_blank\">https://wandb.ai/atds_ml/resnet50/runs/ohmr7xn6</a>"
            ]
          },
          "metadata": {}
        },
        {
          "output_type": "stream",
          "name": "stdout",
          "text": [
            "X_train.shape torch.Size([31367, 3, 30, 30])\n",
            "X_valid.shape torch.Size([7842, 3, 30, 30])\n",
            "y_train.shape torch.Size([31367])\n",
            "y_valid.shape torch.Size([7842])\n"
          ]
        },
        {
          "output_type": "display_data",
          "data": {
            "text/plain": [
              "<IPython.core.display.HTML object>"
            ],
            "text/html": [
              "Waiting for W&B process to finish... <strong style=\"color:green\">(success).</strong>"
            ]
          },
          "metadata": {}
        },
        {
          "output_type": "display_data",
          "data": {
            "text/plain": [
              "VBox(children=(Label(value='0.001 MB of 0.001 MB uploaded (0.000 MB deduped)\\r'), FloatProgress(value=1.0, max…"
            ],
            "application/vnd.jupyter.widget-view+json": {
              "version_major": 2,
              "version_minor": 0,
              "model_id": "0e369259f00e4d859346cfe73650e61b"
            }
          },
          "metadata": {}
        },
        {
          "output_type": "display_data",
          "data": {
            "text/plain": [
              "<IPython.core.display.HTML object>"
            ],
            "text/html": [
              "<style>\n",
              "    table.wandb td:nth-child(1) { padding: 0 10px; text-align: left ; width: auto;} td:nth-child(2) {text-align: left ; width: 100%}\n",
              "    .wandb-row { display: flex; flex-direction: row; flex-wrap: wrap; justify-content: flex-start; width: 100% }\n",
              "    .wandb-col { display: flex; flex-direction: column; flex-basis: 100%; flex: 1; padding: 10px; }\n",
              "    </style>\n",
              "<div class=\"wandb-row\"><div class=\"wandb-col\"><h3>Run history:</h3><br/><table class=\"wandb\"><tr><td>epoch</td><td>▁▁▂▃▃▃▄▅▅▅▆▇▇▇█</td></tr><tr><td>learning_rate</td><td>▁▁▁▁▁▁▁▁▁▁▁▁▁▁▁</td></tr><tr><td>loss</td><td>█▅▄▃▃▃▂▂▂▂▁▁▁▁▁</td></tr></table><br/></div><div class=\"wandb-col\"><h3>Run summary:</h3><br/><table class=\"wandb\"><tr><td>epoch</td><td>14</td></tr><tr><td>learning_rate</td><td>0.0007</td></tr><tr><td>loss</td><td>3.63068</td></tr><tr><td>optimizer</td><td>sgd</td></tr></table><br/></div></div>"
            ]
          },
          "metadata": {}
        },
        {
          "output_type": "display_data",
          "data": {
            "text/plain": [
              "<IPython.core.display.HTML object>"
            ],
            "text/html": [
              " View run <strong style=\"color:#cdcd00\">quiet-sweep-10</strong> at: <a href='https://wandb.ai/atds_ml/resnet50/runs/ohmr7xn6' target=\"_blank\">https://wandb.ai/atds_ml/resnet50/runs/ohmr7xn6</a><br/>Synced 5 W&B file(s), 0 media file(s), 0 artifact file(s) and 0 other file(s)"
            ]
          },
          "metadata": {}
        },
        {
          "output_type": "display_data",
          "data": {
            "text/plain": [
              "<IPython.core.display.HTML object>"
            ],
            "text/html": [
              "Find logs at: <code>./wandb/run-20230508_024021-ohmr7xn6/logs</code>"
            ]
          },
          "metadata": {}
        },
        {
          "output_type": "stream",
          "name": "stderr",
          "text": [
            "\u001b[34m\u001b[1mwandb\u001b[0m: Agent Starting Run: a1go4kgg with config:\n",
            "\u001b[34m\u001b[1mwandb\u001b[0m: \tepochs: 15\n",
            "\u001b[34m\u001b[1mwandb\u001b[0m: \tlearning_rate: 0.00022874161995817656\n",
            "\u001b[34m\u001b[1mwandb\u001b[0m: \toptimizer: sgd\n"
          ]
        },
        {
          "output_type": "display_data",
          "data": {
            "text/plain": [
              "<IPython.core.display.HTML object>"
            ],
            "text/html": [
              "Tracking run with wandb version 0.15.2"
            ]
          },
          "metadata": {}
        },
        {
          "output_type": "display_data",
          "data": {
            "text/plain": [
              "<IPython.core.display.HTML object>"
            ],
            "text/html": [
              "Run data is saved locally in <code>/content/wandb/run-20230508_024218-a1go4kgg</code>"
            ]
          },
          "metadata": {}
        },
        {
          "output_type": "display_data",
          "data": {
            "text/plain": [
              "<IPython.core.display.HTML object>"
            ],
            "text/html": [
              "Syncing run <strong><a href='https://wandb.ai/atds_ml/resnet50/runs/a1go4kgg' target=\"_blank\">fresh-sweep-11</a></strong> to <a href='https://wandb.ai/atds_ml/resnet50' target=\"_blank\">Weights & Biases</a> (<a href='https://wandb.me/run' target=\"_blank\">docs</a>)<br/>Sweep page: <a href='https://wandb.ai/atds_ml/resnet50/sweeps/k3k9bdxd' target=\"_blank\">https://wandb.ai/atds_ml/resnet50/sweeps/k3k9bdxd</a>"
            ]
          },
          "metadata": {}
        },
        {
          "output_type": "display_data",
          "data": {
            "text/plain": [
              "<IPython.core.display.HTML object>"
            ],
            "text/html": [
              " View project at <a href='https://wandb.ai/atds_ml/resnet50' target=\"_blank\">https://wandb.ai/atds_ml/resnet50</a>"
            ]
          },
          "metadata": {}
        },
        {
          "output_type": "display_data",
          "data": {
            "text/plain": [
              "<IPython.core.display.HTML object>"
            ],
            "text/html": [
              " View sweep at <a href='https://wandb.ai/atds_ml/resnet50/sweeps/k3k9bdxd' target=\"_blank\">https://wandb.ai/atds_ml/resnet50/sweeps/k3k9bdxd</a>"
            ]
          },
          "metadata": {}
        },
        {
          "output_type": "display_data",
          "data": {
            "text/plain": [
              "<IPython.core.display.HTML object>"
            ],
            "text/html": [
              " View run at <a href='https://wandb.ai/atds_ml/resnet50/runs/a1go4kgg' target=\"_blank\">https://wandb.ai/atds_ml/resnet50/runs/a1go4kgg</a>"
            ]
          },
          "metadata": {}
        },
        {
          "output_type": "stream",
          "name": "stdout",
          "text": [
            "X_train.shape torch.Size([31367, 3, 30, 30])\n",
            "X_valid.shape torch.Size([7842, 3, 30, 30])\n",
            "y_train.shape torch.Size([31367])\n",
            "y_valid.shape torch.Size([7842])\n"
          ]
        },
        {
          "output_type": "display_data",
          "data": {
            "text/plain": [
              "<IPython.core.display.HTML object>"
            ],
            "text/html": [
              "Waiting for W&B process to finish... <strong style=\"color:green\">(success).</strong>"
            ]
          },
          "metadata": {}
        },
        {
          "output_type": "display_data",
          "data": {
            "text/plain": [
              "VBox(children=(Label(value='0.001 MB of 0.009 MB uploaded (0.000 MB deduped)\\r'), FloatProgress(value=0.124084…"
            ],
            "application/vnd.jupyter.widget-view+json": {
              "version_major": 2,
              "version_minor": 0,
              "model_id": "2592b19613204c60b5e80985d2cd0e07"
            }
          },
          "metadata": {}
        },
        {
          "output_type": "display_data",
          "data": {
            "text/plain": [
              "<IPython.core.display.HTML object>"
            ],
            "text/html": [
              "<style>\n",
              "    table.wandb td:nth-child(1) { padding: 0 10px; text-align: left ; width: auto;} td:nth-child(2) {text-align: left ; width: 100%}\n",
              "    .wandb-row { display: flex; flex-direction: row; flex-wrap: wrap; justify-content: flex-start; width: 100% }\n",
              "    .wandb-col { display: flex; flex-direction: column; flex-basis: 100%; flex: 1; padding: 10px; }\n",
              "    </style>\n",
              "<div class=\"wandb-row\"><div class=\"wandb-col\"><h3>Run history:</h3><br/><table class=\"wandb\"><tr><td>epoch</td><td>▁▁▂▃▃▃▄▅▅▅▆▇▇▇█</td></tr><tr><td>learning_rate</td><td>▁▁▁▁▁▁▁▁▁▁▁▁▁▁▁</td></tr><tr><td>loss</td><td>█▆▅▄▄▃▃▂▂▂▂▂▁▁▁</td></tr></table><br/></div><div class=\"wandb-col\"><h3>Run summary:</h3><br/><table class=\"wandb\"><tr><td>epoch</td><td>14</td></tr><tr><td>learning_rate</td><td>0.00023</td></tr><tr><td>loss</td><td>5.64965</td></tr><tr><td>optimizer</td><td>sgd</td></tr></table><br/></div></div>"
            ]
          },
          "metadata": {}
        },
        {
          "output_type": "display_data",
          "data": {
            "text/plain": [
              "<IPython.core.display.HTML object>"
            ],
            "text/html": [
              " View run <strong style=\"color:#cdcd00\">fresh-sweep-11</strong> at: <a href='https://wandb.ai/atds_ml/resnet50/runs/a1go4kgg' target=\"_blank\">https://wandb.ai/atds_ml/resnet50/runs/a1go4kgg</a><br/>Synced 5 W&B file(s), 0 media file(s), 0 artifact file(s) and 0 other file(s)"
            ]
          },
          "metadata": {}
        },
        {
          "output_type": "display_data",
          "data": {
            "text/plain": [
              "<IPython.core.display.HTML object>"
            ],
            "text/html": [
              "Find logs at: <code>./wandb/run-20230508_024218-a1go4kgg/logs</code>"
            ]
          },
          "metadata": {}
        },
        {
          "output_type": "stream",
          "name": "stderr",
          "text": [
            "\u001b[34m\u001b[1mwandb\u001b[0m: Agent Starting Run: xhxfc0vf with config:\n",
            "\u001b[34m\u001b[1mwandb\u001b[0m: \tepochs: 15\n",
            "\u001b[34m\u001b[1mwandb\u001b[0m: \tlearning_rate: 0.0006073834980572607\n",
            "\u001b[34m\u001b[1mwandb\u001b[0m: \toptimizer: sgd\n"
          ]
        },
        {
          "output_type": "display_data",
          "data": {
            "text/plain": [
              "<IPython.core.display.HTML object>"
            ],
            "text/html": [
              "Tracking run with wandb version 0.15.2"
            ]
          },
          "metadata": {}
        },
        {
          "output_type": "display_data",
          "data": {
            "text/plain": [
              "<IPython.core.display.HTML object>"
            ],
            "text/html": [
              "Run data is saved locally in <code>/content/wandb/run-20230508_024414-xhxfc0vf</code>"
            ]
          },
          "metadata": {}
        },
        {
          "output_type": "display_data",
          "data": {
            "text/plain": [
              "<IPython.core.display.HTML object>"
            ],
            "text/html": [
              "Syncing run <strong><a href='https://wandb.ai/atds_ml/resnet50/runs/xhxfc0vf' target=\"_blank\">fanciful-sweep-12</a></strong> to <a href='https://wandb.ai/atds_ml/resnet50' target=\"_blank\">Weights & Biases</a> (<a href='https://wandb.me/run' target=\"_blank\">docs</a>)<br/>Sweep page: <a href='https://wandb.ai/atds_ml/resnet50/sweeps/k3k9bdxd' target=\"_blank\">https://wandb.ai/atds_ml/resnet50/sweeps/k3k9bdxd</a>"
            ]
          },
          "metadata": {}
        },
        {
          "output_type": "display_data",
          "data": {
            "text/plain": [
              "<IPython.core.display.HTML object>"
            ],
            "text/html": [
              " View project at <a href='https://wandb.ai/atds_ml/resnet50' target=\"_blank\">https://wandb.ai/atds_ml/resnet50</a>"
            ]
          },
          "metadata": {}
        },
        {
          "output_type": "display_data",
          "data": {
            "text/plain": [
              "<IPython.core.display.HTML object>"
            ],
            "text/html": [
              " View sweep at <a href='https://wandb.ai/atds_ml/resnet50/sweeps/k3k9bdxd' target=\"_blank\">https://wandb.ai/atds_ml/resnet50/sweeps/k3k9bdxd</a>"
            ]
          },
          "metadata": {}
        },
        {
          "output_type": "display_data",
          "data": {
            "text/plain": [
              "<IPython.core.display.HTML object>"
            ],
            "text/html": [
              " View run at <a href='https://wandb.ai/atds_ml/resnet50/runs/xhxfc0vf' target=\"_blank\">https://wandb.ai/atds_ml/resnet50/runs/xhxfc0vf</a>"
            ]
          },
          "metadata": {}
        },
        {
          "output_type": "stream",
          "name": "stdout",
          "text": [
            "X_train.shape torch.Size([31367, 3, 30, 30])\n",
            "X_valid.shape torch.Size([7842, 3, 30, 30])\n",
            "y_train.shape torch.Size([31367])\n",
            "y_valid.shape torch.Size([7842])\n"
          ]
        },
        {
          "output_type": "display_data",
          "data": {
            "text/plain": [
              "<IPython.core.display.HTML object>"
            ],
            "text/html": [
              "Waiting for W&B process to finish... <strong style=\"color:green\">(success).</strong>"
            ]
          },
          "metadata": {}
        },
        {
          "output_type": "display_data",
          "data": {
            "text/plain": [
              "<IPython.core.display.HTML object>"
            ],
            "text/html": [
              "<style>\n",
              "    table.wandb td:nth-child(1) { padding: 0 10px; text-align: left ; width: auto;} td:nth-child(2) {text-align: left ; width: 100%}\n",
              "    .wandb-row { display: flex; flex-direction: row; flex-wrap: wrap; justify-content: flex-start; width: 100% }\n",
              "    .wandb-col { display: flex; flex-direction: column; flex-basis: 100%; flex: 1; padding: 10px; }\n",
              "    </style>\n",
              "<div class=\"wandb-row\"><div class=\"wandb-col\"><h3>Run history:</h3><br/><table class=\"wandb\"><tr><td>epoch</td><td>▁▁▂▃▃▃▄▅▅▅▆▇▇▇█</td></tr><tr><td>learning_rate</td><td>▁▁▁▁▁▁▁▁▁▁▁▁▁▁▁</td></tr><tr><td>loss</td><td>█▆▄▄▃▃▂▂▂▂▂▁▁▁▁</td></tr></table><br/></div><div class=\"wandb-col\"><h3>Run summary:</h3><br/><table class=\"wandb\"><tr><td>epoch</td><td>14</td></tr><tr><td>learning_rate</td><td>0.00061</td></tr><tr><td>loss</td><td>3.83102</td></tr><tr><td>optimizer</td><td>sgd</td></tr></table><br/></div></div>"
            ]
          },
          "metadata": {}
        },
        {
          "output_type": "display_data",
          "data": {
            "text/plain": [
              "<IPython.core.display.HTML object>"
            ],
            "text/html": [
              " View run <strong style=\"color:#cdcd00\">fanciful-sweep-12</strong> at: <a href='https://wandb.ai/atds_ml/resnet50/runs/xhxfc0vf' target=\"_blank\">https://wandb.ai/atds_ml/resnet50/runs/xhxfc0vf</a><br/>Synced 5 W&B file(s), 0 media file(s), 0 artifact file(s) and 0 other file(s)"
            ]
          },
          "metadata": {}
        },
        {
          "output_type": "display_data",
          "data": {
            "text/plain": [
              "<IPython.core.display.HTML object>"
            ],
            "text/html": [
              "Find logs at: <code>./wandb/run-20230508_024414-xhxfc0vf/logs</code>"
            ]
          },
          "metadata": {}
        },
        {
          "output_type": "stream",
          "name": "stderr",
          "text": [
            "\u001b[34m\u001b[1mwandb\u001b[0m: Agent Starting Run: 4oco1ugd with config:\n",
            "\u001b[34m\u001b[1mwandb\u001b[0m: \tepochs: 15\n",
            "\u001b[34m\u001b[1mwandb\u001b[0m: \tlearning_rate: 0.0006792756093609689\n",
            "\u001b[34m\u001b[1mwandb\u001b[0m: \toptimizer: sgd\n"
          ]
        },
        {
          "output_type": "display_data",
          "data": {
            "text/plain": [
              "<IPython.core.display.HTML object>"
            ],
            "text/html": [
              "Tracking run with wandb version 0.15.2"
            ]
          },
          "metadata": {}
        },
        {
          "output_type": "display_data",
          "data": {
            "text/plain": [
              "<IPython.core.display.HTML object>"
            ],
            "text/html": [
              "Run data is saved locally in <code>/content/wandb/run-20230508_024607-4oco1ugd</code>"
            ]
          },
          "metadata": {}
        },
        {
          "output_type": "display_data",
          "data": {
            "text/plain": [
              "<IPython.core.display.HTML object>"
            ],
            "text/html": [
              "Syncing run <strong><a href='https://wandb.ai/atds_ml/resnet50/runs/4oco1ugd' target=\"_blank\">pretty-sweep-13</a></strong> to <a href='https://wandb.ai/atds_ml/resnet50' target=\"_blank\">Weights & Biases</a> (<a href='https://wandb.me/run' target=\"_blank\">docs</a>)<br/>Sweep page: <a href='https://wandb.ai/atds_ml/resnet50/sweeps/k3k9bdxd' target=\"_blank\">https://wandb.ai/atds_ml/resnet50/sweeps/k3k9bdxd</a>"
            ]
          },
          "metadata": {}
        },
        {
          "output_type": "display_data",
          "data": {
            "text/plain": [
              "<IPython.core.display.HTML object>"
            ],
            "text/html": [
              " View project at <a href='https://wandb.ai/atds_ml/resnet50' target=\"_blank\">https://wandb.ai/atds_ml/resnet50</a>"
            ]
          },
          "metadata": {}
        },
        {
          "output_type": "display_data",
          "data": {
            "text/plain": [
              "<IPython.core.display.HTML object>"
            ],
            "text/html": [
              " View sweep at <a href='https://wandb.ai/atds_ml/resnet50/sweeps/k3k9bdxd' target=\"_blank\">https://wandb.ai/atds_ml/resnet50/sweeps/k3k9bdxd</a>"
            ]
          },
          "metadata": {}
        },
        {
          "output_type": "display_data",
          "data": {
            "text/plain": [
              "<IPython.core.display.HTML object>"
            ],
            "text/html": [
              " View run at <a href='https://wandb.ai/atds_ml/resnet50/runs/4oco1ugd' target=\"_blank\">https://wandb.ai/atds_ml/resnet50/runs/4oco1ugd</a>"
            ]
          },
          "metadata": {}
        },
        {
          "output_type": "stream",
          "name": "stdout",
          "text": [
            "X_train.shape torch.Size([31367, 3, 30, 30])\n",
            "X_valid.shape torch.Size([7842, 3, 30, 30])\n",
            "y_train.shape torch.Size([31367])\n",
            "y_valid.shape torch.Size([7842])\n"
          ]
        },
        {
          "output_type": "display_data",
          "data": {
            "text/plain": [
              "<IPython.core.display.HTML object>"
            ],
            "text/html": [
              "Waiting for W&B process to finish... <strong style=\"color:green\">(success).</strong>"
            ]
          },
          "metadata": {}
        },
        {
          "output_type": "display_data",
          "data": {
            "text/plain": [
              "<IPython.core.display.HTML object>"
            ],
            "text/html": [
              "<style>\n",
              "    table.wandb td:nth-child(1) { padding: 0 10px; text-align: left ; width: auto;} td:nth-child(2) {text-align: left ; width: 100%}\n",
              "    .wandb-row { display: flex; flex-direction: row; flex-wrap: wrap; justify-content: flex-start; width: 100% }\n",
              "    .wandb-col { display: flex; flex-direction: column; flex-basis: 100%; flex: 1; padding: 10px; }\n",
              "    </style>\n",
              "<div class=\"wandb-row\"><div class=\"wandb-col\"><h3>Run history:</h3><br/><table class=\"wandb\"><tr><td>epoch</td><td>▁▁▂▃▃▃▄▅▅▅▆▇▇▇█</td></tr><tr><td>learning_rate</td><td>▁▁▁▁▁▁▁▁▁▁▁▁▁▁▁</td></tr><tr><td>loss</td><td>█▅▄▄▃▃▂▂▂▂▁▁▁▁▁</td></tr></table><br/></div><div class=\"wandb-col\"><h3>Run summary:</h3><br/><table class=\"wandb\"><tr><td>epoch</td><td>14</td></tr><tr><td>learning_rate</td><td>0.00068</td></tr><tr><td>loss</td><td>3.61177</td></tr><tr><td>optimizer</td><td>sgd</td></tr></table><br/></div></div>"
            ]
          },
          "metadata": {}
        },
        {
          "output_type": "display_data",
          "data": {
            "text/plain": [
              "<IPython.core.display.HTML object>"
            ],
            "text/html": [
              " View run <strong style=\"color:#cdcd00\">pretty-sweep-13</strong> at: <a href='https://wandb.ai/atds_ml/resnet50/runs/4oco1ugd' target=\"_blank\">https://wandb.ai/atds_ml/resnet50/runs/4oco1ugd</a><br/>Synced 5 W&B file(s), 0 media file(s), 0 artifact file(s) and 0 other file(s)"
            ]
          },
          "metadata": {}
        },
        {
          "output_type": "display_data",
          "data": {
            "text/plain": [
              "<IPython.core.display.HTML object>"
            ],
            "text/html": [
              "Find logs at: <code>./wandb/run-20230508_024607-4oco1ugd/logs</code>"
            ]
          },
          "metadata": {}
        },
        {
          "output_type": "stream",
          "name": "stderr",
          "text": [
            "\u001b[34m\u001b[1mwandb\u001b[0m: Agent Starting Run: g8vf6ell with config:\n",
            "\u001b[34m\u001b[1mwandb\u001b[0m: \tepochs: 15\n",
            "\u001b[34m\u001b[1mwandb\u001b[0m: \tlearning_rate: 0.0009478252031210184\n",
            "\u001b[34m\u001b[1mwandb\u001b[0m: \toptimizer: sgd\n"
          ]
        },
        {
          "output_type": "display_data",
          "data": {
            "text/plain": [
              "<IPython.core.display.HTML object>"
            ],
            "text/html": [
              "Tracking run with wandb version 0.15.2"
            ]
          },
          "metadata": {}
        },
        {
          "output_type": "display_data",
          "data": {
            "text/plain": [
              "<IPython.core.display.HTML object>"
            ],
            "text/html": [
              "Run data is saved locally in <code>/content/wandb/run-20230508_024804-g8vf6ell</code>"
            ]
          },
          "metadata": {}
        },
        {
          "output_type": "display_data",
          "data": {
            "text/plain": [
              "<IPython.core.display.HTML object>"
            ],
            "text/html": [
              "Syncing run <strong><a href='https://wandb.ai/atds_ml/resnet50/runs/g8vf6ell' target=\"_blank\">scarlet-sweep-14</a></strong> to <a href='https://wandb.ai/atds_ml/resnet50' target=\"_blank\">Weights & Biases</a> (<a href='https://wandb.me/run' target=\"_blank\">docs</a>)<br/>Sweep page: <a href='https://wandb.ai/atds_ml/resnet50/sweeps/k3k9bdxd' target=\"_blank\">https://wandb.ai/atds_ml/resnet50/sweeps/k3k9bdxd</a>"
            ]
          },
          "metadata": {}
        },
        {
          "output_type": "display_data",
          "data": {
            "text/plain": [
              "<IPython.core.display.HTML object>"
            ],
            "text/html": [
              " View project at <a href='https://wandb.ai/atds_ml/resnet50' target=\"_blank\">https://wandb.ai/atds_ml/resnet50</a>"
            ]
          },
          "metadata": {}
        },
        {
          "output_type": "display_data",
          "data": {
            "text/plain": [
              "<IPython.core.display.HTML object>"
            ],
            "text/html": [
              " View sweep at <a href='https://wandb.ai/atds_ml/resnet50/sweeps/k3k9bdxd' target=\"_blank\">https://wandb.ai/atds_ml/resnet50/sweeps/k3k9bdxd</a>"
            ]
          },
          "metadata": {}
        },
        {
          "output_type": "display_data",
          "data": {
            "text/plain": [
              "<IPython.core.display.HTML object>"
            ],
            "text/html": [
              " View run at <a href='https://wandb.ai/atds_ml/resnet50/runs/g8vf6ell' target=\"_blank\">https://wandb.ai/atds_ml/resnet50/runs/g8vf6ell</a>"
            ]
          },
          "metadata": {}
        },
        {
          "output_type": "stream",
          "name": "stdout",
          "text": [
            "X_train.shape torch.Size([31367, 3, 30, 30])\n",
            "X_valid.shape torch.Size([7842, 3, 30, 30])\n",
            "y_train.shape torch.Size([31367])\n",
            "y_valid.shape torch.Size([7842])\n"
          ]
        },
        {
          "output_type": "display_data",
          "data": {
            "text/plain": [
              "<IPython.core.display.HTML object>"
            ],
            "text/html": [
              "Waiting for W&B process to finish... <strong style=\"color:green\">(success).</strong>"
            ]
          },
          "metadata": {}
        },
        {
          "output_type": "display_data",
          "data": {
            "text/plain": [
              "VBox(children=(Label(value='0.001 MB of 0.001 MB uploaded (0.000 MB deduped)\\r'), FloatProgress(value=1.0, max…"
            ],
            "application/vnd.jupyter.widget-view+json": {
              "version_major": 2,
              "version_minor": 0,
              "model_id": "59a0b55841834028bbce3a4ce2b9afd8"
            }
          },
          "metadata": {}
        },
        {
          "output_type": "display_data",
          "data": {
            "text/plain": [
              "<IPython.core.display.HTML object>"
            ],
            "text/html": [
              "<style>\n",
              "    table.wandb td:nth-child(1) { padding: 0 10px; text-align: left ; width: auto;} td:nth-child(2) {text-align: left ; width: 100%}\n",
              "    .wandb-row { display: flex; flex-direction: row; flex-wrap: wrap; justify-content: flex-start; width: 100% }\n",
              "    .wandb-col { display: flex; flex-direction: column; flex-basis: 100%; flex: 1; padding: 10px; }\n",
              "    </style>\n",
              "<div class=\"wandb-row\"><div class=\"wandb-col\"><h3>Run history:</h3><br/><table class=\"wandb\"><tr><td>epoch</td><td>▁▁▂▃▃▃▄▅▅▅▆▇▇▇█</td></tr><tr><td>learning_rate</td><td>▁▁▁▁▁▁▁▁▁▁▁▁▁▁▁</td></tr><tr><td>loss</td><td>█▅▄▃▃▂▂▂▂▂▁▁▁▁▁</td></tr></table><br/></div><div class=\"wandb-col\"><h3>Run summary:</h3><br/><table class=\"wandb\"><tr><td>epoch</td><td>14</td></tr><tr><td>learning_rate</td><td>0.00095</td></tr><tr><td>loss</td><td>3.21424</td></tr><tr><td>optimizer</td><td>sgd</td></tr></table><br/></div></div>"
            ]
          },
          "metadata": {}
        },
        {
          "output_type": "display_data",
          "data": {
            "text/plain": [
              "<IPython.core.display.HTML object>"
            ],
            "text/html": [
              " View run <strong style=\"color:#cdcd00\">scarlet-sweep-14</strong> at: <a href='https://wandb.ai/atds_ml/resnet50/runs/g8vf6ell' target=\"_blank\">https://wandb.ai/atds_ml/resnet50/runs/g8vf6ell</a><br/>Synced 5 W&B file(s), 0 media file(s), 0 artifact file(s) and 0 other file(s)"
            ]
          },
          "metadata": {}
        },
        {
          "output_type": "display_data",
          "data": {
            "text/plain": [
              "<IPython.core.display.HTML object>"
            ],
            "text/html": [
              "Find logs at: <code>./wandb/run-20230508_024804-g8vf6ell/logs</code>"
            ]
          },
          "metadata": {}
        },
        {
          "output_type": "stream",
          "name": "stderr",
          "text": [
            "\u001b[34m\u001b[1mwandb\u001b[0m: Agent Starting Run: ldxg35qc with config:\n",
            "\u001b[34m\u001b[1mwandb\u001b[0m: \tepochs: 15\n",
            "\u001b[34m\u001b[1mwandb\u001b[0m: \tlearning_rate: 0.0004520187508658593\n",
            "\u001b[34m\u001b[1mwandb\u001b[0m: \toptimizer: adam\n"
          ]
        },
        {
          "output_type": "display_data",
          "data": {
            "text/plain": [
              "<IPython.core.display.HTML object>"
            ],
            "text/html": [
              "Tracking run with wandb version 0.15.2"
            ]
          },
          "metadata": {}
        },
        {
          "output_type": "display_data",
          "data": {
            "text/plain": [
              "<IPython.core.display.HTML object>"
            ],
            "text/html": [
              "Run data is saved locally in <code>/content/wandb/run-20230508_025000-ldxg35qc</code>"
            ]
          },
          "metadata": {}
        },
        {
          "output_type": "display_data",
          "data": {
            "text/plain": [
              "<IPython.core.display.HTML object>"
            ],
            "text/html": [
              "Syncing run <strong><a href='https://wandb.ai/atds_ml/resnet50/runs/ldxg35qc' target=\"_blank\">genial-sweep-15</a></strong> to <a href='https://wandb.ai/atds_ml/resnet50' target=\"_blank\">Weights & Biases</a> (<a href='https://wandb.me/run' target=\"_blank\">docs</a>)<br/>Sweep page: <a href='https://wandb.ai/atds_ml/resnet50/sweeps/k3k9bdxd' target=\"_blank\">https://wandb.ai/atds_ml/resnet50/sweeps/k3k9bdxd</a>"
            ]
          },
          "metadata": {}
        },
        {
          "output_type": "display_data",
          "data": {
            "text/plain": [
              "<IPython.core.display.HTML object>"
            ],
            "text/html": [
              " View project at <a href='https://wandb.ai/atds_ml/resnet50' target=\"_blank\">https://wandb.ai/atds_ml/resnet50</a>"
            ]
          },
          "metadata": {}
        },
        {
          "output_type": "display_data",
          "data": {
            "text/plain": [
              "<IPython.core.display.HTML object>"
            ],
            "text/html": [
              " View sweep at <a href='https://wandb.ai/atds_ml/resnet50/sweeps/k3k9bdxd' target=\"_blank\">https://wandb.ai/atds_ml/resnet50/sweeps/k3k9bdxd</a>"
            ]
          },
          "metadata": {}
        },
        {
          "output_type": "display_data",
          "data": {
            "text/plain": [
              "<IPython.core.display.HTML object>"
            ],
            "text/html": [
              " View run at <a href='https://wandb.ai/atds_ml/resnet50/runs/ldxg35qc' target=\"_blank\">https://wandb.ai/atds_ml/resnet50/runs/ldxg35qc</a>"
            ]
          },
          "metadata": {}
        },
        {
          "output_type": "stream",
          "name": "stdout",
          "text": [
            "X_train.shape torch.Size([31367, 3, 30, 30])\n",
            "X_valid.shape torch.Size([7842, 3, 30, 30])\n",
            "y_train.shape torch.Size([31367])\n",
            "y_valid.shape torch.Size([7842])\n"
          ]
        },
        {
          "output_type": "display_data",
          "data": {
            "text/plain": [
              "<IPython.core.display.HTML object>"
            ],
            "text/html": [
              "Waiting for W&B process to finish... <strong style=\"color:green\">(success).</strong>"
            ]
          },
          "metadata": {}
        },
        {
          "output_type": "display_data",
          "data": {
            "text/plain": [
              "VBox(children=(Label(value='0.001 MB of 0.001 MB uploaded (0.000 MB deduped)\\r'), FloatProgress(value=1.0, max…"
            ],
            "application/vnd.jupyter.widget-view+json": {
              "version_major": 2,
              "version_minor": 0,
              "model_id": "6460f7cb22ee4c6aadf983339754bbd4"
            }
          },
          "metadata": {}
        },
        {
          "output_type": "display_data",
          "data": {
            "text/plain": [
              "<IPython.core.display.HTML object>"
            ],
            "text/html": [
              "<style>\n",
              "    table.wandb td:nth-child(1) { padding: 0 10px; text-align: left ; width: auto;} td:nth-child(2) {text-align: left ; width: 100%}\n",
              "    .wandb-row { display: flex; flex-direction: row; flex-wrap: wrap; justify-content: flex-start; width: 100% }\n",
              "    .wandb-col { display: flex; flex-direction: column; flex-basis: 100%; flex: 1; padding: 10px; }\n",
              "    </style>\n",
              "<div class=\"wandb-row\"><div class=\"wandb-col\"><h3>Run history:</h3><br/><table class=\"wandb\"><tr><td>epoch</td><td>▁▁▂▃▃▃▄▅▅▅▆▇▇▇█</td></tr><tr><td>learning_rate</td><td>▁▁▁▁▁▁▁▁▁▁▁▁▁▁▁</td></tr><tr><td>loss</td><td>█▅▄▃▂▂▂▂▂▁▁▁▁▁▁</td></tr></table><br/></div><div class=\"wandb-col\"><h3>Run summary:</h3><br/><table class=\"wandb\"><tr><td>epoch</td><td>14</td></tr><tr><td>learning_rate</td><td>0.00045</td></tr><tr><td>loss</td><td>2.15368</td></tr><tr><td>optimizer</td><td>adam</td></tr></table><br/></div></div>"
            ]
          },
          "metadata": {}
        },
        {
          "output_type": "display_data",
          "data": {
            "text/plain": [
              "<IPython.core.display.HTML object>"
            ],
            "text/html": [
              " View run <strong style=\"color:#cdcd00\">genial-sweep-15</strong> at: <a href='https://wandb.ai/atds_ml/resnet50/runs/ldxg35qc' target=\"_blank\">https://wandb.ai/atds_ml/resnet50/runs/ldxg35qc</a><br/>Synced 5 W&B file(s), 0 media file(s), 0 artifact file(s) and 0 other file(s)"
            ]
          },
          "metadata": {}
        },
        {
          "output_type": "display_data",
          "data": {
            "text/plain": [
              "<IPython.core.display.HTML object>"
            ],
            "text/html": [
              "Find logs at: <code>./wandb/run-20230508_025000-ldxg35qc/logs</code>"
            ]
          },
          "metadata": {}
        },
        {
          "output_type": "stream",
          "name": "stderr",
          "text": [
            "\u001b[34m\u001b[1mwandb\u001b[0m: Agent Starting Run: 3d532h26 with config:\n",
            "\u001b[34m\u001b[1mwandb\u001b[0m: \tepochs: 15\n",
            "\u001b[34m\u001b[1mwandb\u001b[0m: \tlearning_rate: 0.0006811256076238601\n",
            "\u001b[34m\u001b[1mwandb\u001b[0m: \toptimizer: sgd\n"
          ]
        },
        {
          "output_type": "display_data",
          "data": {
            "text/plain": [
              "<IPython.core.display.HTML object>"
            ],
            "text/html": [
              "Tracking run with wandb version 0.15.2"
            ]
          },
          "metadata": {}
        },
        {
          "output_type": "display_data",
          "data": {
            "text/plain": [
              "<IPython.core.display.HTML object>"
            ],
            "text/html": [
              "Run data is saved locally in <code>/content/wandb/run-20230508_025156-3d532h26</code>"
            ]
          },
          "metadata": {}
        },
        {
          "output_type": "display_data",
          "data": {
            "text/plain": [
              "<IPython.core.display.HTML object>"
            ],
            "text/html": [
              "Syncing run <strong><a href='https://wandb.ai/atds_ml/resnet50/runs/3d532h26' target=\"_blank\">dulcet-sweep-16</a></strong> to <a href='https://wandb.ai/atds_ml/resnet50' target=\"_blank\">Weights & Biases</a> (<a href='https://wandb.me/run' target=\"_blank\">docs</a>)<br/>Sweep page: <a href='https://wandb.ai/atds_ml/resnet50/sweeps/k3k9bdxd' target=\"_blank\">https://wandb.ai/atds_ml/resnet50/sweeps/k3k9bdxd</a>"
            ]
          },
          "metadata": {}
        },
        {
          "output_type": "display_data",
          "data": {
            "text/plain": [
              "<IPython.core.display.HTML object>"
            ],
            "text/html": [
              " View project at <a href='https://wandb.ai/atds_ml/resnet50' target=\"_blank\">https://wandb.ai/atds_ml/resnet50</a>"
            ]
          },
          "metadata": {}
        },
        {
          "output_type": "display_data",
          "data": {
            "text/plain": [
              "<IPython.core.display.HTML object>"
            ],
            "text/html": [
              " View sweep at <a href='https://wandb.ai/atds_ml/resnet50/sweeps/k3k9bdxd' target=\"_blank\">https://wandb.ai/atds_ml/resnet50/sweeps/k3k9bdxd</a>"
            ]
          },
          "metadata": {}
        },
        {
          "output_type": "display_data",
          "data": {
            "text/plain": [
              "<IPython.core.display.HTML object>"
            ],
            "text/html": [
              " View run at <a href='https://wandb.ai/atds_ml/resnet50/runs/3d532h26' target=\"_blank\">https://wandb.ai/atds_ml/resnet50/runs/3d532h26</a>"
            ]
          },
          "metadata": {}
        },
        {
          "output_type": "stream",
          "name": "stdout",
          "text": [
            "X_train.shape torch.Size([31367, 3, 30, 30])\n",
            "X_valid.shape torch.Size([7842, 3, 30, 30])\n",
            "y_train.shape torch.Size([31367])\n",
            "y_valid.shape torch.Size([7842])\n"
          ]
        },
        {
          "output_type": "display_data",
          "data": {
            "text/plain": [
              "<IPython.core.display.HTML object>"
            ],
            "text/html": [
              "Waiting for W&B process to finish... <strong style=\"color:green\">(success).</strong>"
            ]
          },
          "metadata": {}
        },
        {
          "output_type": "display_data",
          "data": {
            "text/plain": [
              "<IPython.core.display.HTML object>"
            ],
            "text/html": [
              "<style>\n",
              "    table.wandb td:nth-child(1) { padding: 0 10px; text-align: left ; width: auto;} td:nth-child(2) {text-align: left ; width: 100%}\n",
              "    .wandb-row { display: flex; flex-direction: row; flex-wrap: wrap; justify-content: flex-start; width: 100% }\n",
              "    .wandb-col { display: flex; flex-direction: column; flex-basis: 100%; flex: 1; padding: 10px; }\n",
              "    </style>\n",
              "<div class=\"wandb-row\"><div class=\"wandb-col\"><h3>Run history:</h3><br/><table class=\"wandb\"><tr><td>epoch</td><td>▁▁▂▃▃▃▄▅▅▅▆▇▇▇█</td></tr><tr><td>learning_rate</td><td>▁▁▁▁▁▁▁▁▁▁▁▁▁▁▁</td></tr><tr><td>loss</td><td>█▅▄▄▃▃▂▂▂▂▁▁▁▁▁</td></tr></table><br/></div><div class=\"wandb-col\"><h3>Run summary:</h3><br/><table class=\"wandb\"><tr><td>epoch</td><td>14</td></tr><tr><td>learning_rate</td><td>0.00068</td></tr><tr><td>loss</td><td>3.5994</td></tr><tr><td>optimizer</td><td>sgd</td></tr></table><br/></div></div>"
            ]
          },
          "metadata": {}
        },
        {
          "output_type": "display_data",
          "data": {
            "text/plain": [
              "<IPython.core.display.HTML object>"
            ],
            "text/html": [
              " View run <strong style=\"color:#cdcd00\">dulcet-sweep-16</strong> at: <a href='https://wandb.ai/atds_ml/resnet50/runs/3d532h26' target=\"_blank\">https://wandb.ai/atds_ml/resnet50/runs/3d532h26</a><br/>Synced 5 W&B file(s), 0 media file(s), 0 artifact file(s) and 0 other file(s)"
            ]
          },
          "metadata": {}
        },
        {
          "output_type": "display_data",
          "data": {
            "text/plain": [
              "<IPython.core.display.HTML object>"
            ],
            "text/html": [
              "Find logs at: <code>./wandb/run-20230508_025156-3d532h26/logs</code>"
            ]
          },
          "metadata": {}
        },
        {
          "output_type": "stream",
          "name": "stderr",
          "text": [
            "\u001b[34m\u001b[1mwandb\u001b[0m: Sweep Agent: Waiting for job.\n",
            "\u001b[34m\u001b[1mwandb\u001b[0m: Job received.\n",
            "\u001b[34m\u001b[1mwandb\u001b[0m: Agent Starting Run: 3u88hubo with config:\n",
            "\u001b[34m\u001b[1mwandb\u001b[0m: \tepochs: 15\n",
            "\u001b[34m\u001b[1mwandb\u001b[0m: \tlearning_rate: 0.0005558126827214623\n",
            "\u001b[34m\u001b[1mwandb\u001b[0m: \toptimizer: adam\n"
          ]
        },
        {
          "output_type": "display_data",
          "data": {
            "text/plain": [
              "<IPython.core.display.HTML object>"
            ],
            "text/html": [
              "Tracking run with wandb version 0.15.2"
            ]
          },
          "metadata": {}
        },
        {
          "output_type": "display_data",
          "data": {
            "text/plain": [
              "<IPython.core.display.HTML object>"
            ],
            "text/html": [
              "Run data is saved locally in <code>/content/wandb/run-20230508_025358-3u88hubo</code>"
            ]
          },
          "metadata": {}
        },
        {
          "output_type": "display_data",
          "data": {
            "text/plain": [
              "<IPython.core.display.HTML object>"
            ],
            "text/html": [
              "Syncing run <strong><a href='https://wandb.ai/atds_ml/resnet50/runs/3u88hubo' target=\"_blank\">laced-sweep-17</a></strong> to <a href='https://wandb.ai/atds_ml/resnet50' target=\"_blank\">Weights & Biases</a> (<a href='https://wandb.me/run' target=\"_blank\">docs</a>)<br/>Sweep page: <a href='https://wandb.ai/atds_ml/resnet50/sweeps/k3k9bdxd' target=\"_blank\">https://wandb.ai/atds_ml/resnet50/sweeps/k3k9bdxd</a>"
            ]
          },
          "metadata": {}
        },
        {
          "output_type": "display_data",
          "data": {
            "text/plain": [
              "<IPython.core.display.HTML object>"
            ],
            "text/html": [
              " View project at <a href='https://wandb.ai/atds_ml/resnet50' target=\"_blank\">https://wandb.ai/atds_ml/resnet50</a>"
            ]
          },
          "metadata": {}
        },
        {
          "output_type": "display_data",
          "data": {
            "text/plain": [
              "<IPython.core.display.HTML object>"
            ],
            "text/html": [
              " View sweep at <a href='https://wandb.ai/atds_ml/resnet50/sweeps/k3k9bdxd' target=\"_blank\">https://wandb.ai/atds_ml/resnet50/sweeps/k3k9bdxd</a>"
            ]
          },
          "metadata": {}
        },
        {
          "output_type": "display_data",
          "data": {
            "text/plain": [
              "<IPython.core.display.HTML object>"
            ],
            "text/html": [
              " View run at <a href='https://wandb.ai/atds_ml/resnet50/runs/3u88hubo' target=\"_blank\">https://wandb.ai/atds_ml/resnet50/runs/3u88hubo</a>"
            ]
          },
          "metadata": {}
        },
        {
          "output_type": "stream",
          "name": "stdout",
          "text": [
            "X_train.shape torch.Size([31367, 3, 30, 30])\n",
            "X_valid.shape torch.Size([7842, 3, 30, 30])\n",
            "y_train.shape torch.Size([31367])\n",
            "y_valid.shape torch.Size([7842])\n"
          ]
        },
        {
          "output_type": "display_data",
          "data": {
            "text/plain": [
              "<IPython.core.display.HTML object>"
            ],
            "text/html": [
              "Waiting for W&B process to finish... <strong style=\"color:green\">(success).</strong>"
            ]
          },
          "metadata": {}
        },
        {
          "output_type": "display_data",
          "data": {
            "text/plain": [
              "VBox(children=(Label(value='0.001 MB of 0.001 MB uploaded (0.000 MB deduped)\\r'), FloatProgress(value=1.0, max…"
            ],
            "application/vnd.jupyter.widget-view+json": {
              "version_major": 2,
              "version_minor": 0,
              "model_id": "53218f45dda84f46b22303586c97f5ba"
            }
          },
          "metadata": {}
        },
        {
          "output_type": "display_data",
          "data": {
            "text/plain": [
              "<IPython.core.display.HTML object>"
            ],
            "text/html": [
              "<style>\n",
              "    table.wandb td:nth-child(1) { padding: 0 10px; text-align: left ; width: auto;} td:nth-child(2) {text-align: left ; width: 100%}\n",
              "    .wandb-row { display: flex; flex-direction: row; flex-wrap: wrap; justify-content: flex-start; width: 100% }\n",
              "    .wandb-col { display: flex; flex-direction: column; flex-basis: 100%; flex: 1; padding: 10px; }\n",
              "    </style>\n",
              "<div class=\"wandb-row\"><div class=\"wandb-col\"><h3>Run history:</h3><br/><table class=\"wandb\"><tr><td>epoch</td><td>▁▁▂▃▃▃▄▅▅▅▆▇▇▇█</td></tr><tr><td>learning_rate</td><td>▁▁▁▁▁▁▁▁▁▁▁▁▁▁▁</td></tr><tr><td>loss</td><td>█▅▃▃▂▂▂▂▂▁▁▁▁▁▁</td></tr></table><br/></div><div class=\"wandb-col\"><h3>Run summary:</h3><br/><table class=\"wandb\"><tr><td>epoch</td><td>14</td></tr><tr><td>learning_rate</td><td>0.00056</td></tr><tr><td>loss</td><td>1.96767</td></tr><tr><td>optimizer</td><td>adam</td></tr></table><br/></div></div>"
            ]
          },
          "metadata": {}
        },
        {
          "output_type": "display_data",
          "data": {
            "text/plain": [
              "<IPython.core.display.HTML object>"
            ],
            "text/html": [
              " View run <strong style=\"color:#cdcd00\">laced-sweep-17</strong> at: <a href='https://wandb.ai/atds_ml/resnet50/runs/3u88hubo' target=\"_blank\">https://wandb.ai/atds_ml/resnet50/runs/3u88hubo</a><br/>Synced 5 W&B file(s), 0 media file(s), 0 artifact file(s) and 0 other file(s)"
            ]
          },
          "metadata": {}
        },
        {
          "output_type": "display_data",
          "data": {
            "text/plain": [
              "<IPython.core.display.HTML object>"
            ],
            "text/html": [
              "Find logs at: <code>./wandb/run-20230508_025358-3u88hubo/logs</code>"
            ]
          },
          "metadata": {}
        },
        {
          "output_type": "stream",
          "name": "stderr",
          "text": [
            "\u001b[34m\u001b[1mwandb\u001b[0m: Sweep Agent: Waiting for job.\n",
            "\u001b[34m\u001b[1mwandb\u001b[0m: Job received.\n",
            "\u001b[34m\u001b[1mwandb\u001b[0m: Agent Starting Run: 6xmt899e with config:\n",
            "\u001b[34m\u001b[1mwandb\u001b[0m: \tepochs: 15\n",
            "\u001b[34m\u001b[1mwandb\u001b[0m: \tlearning_rate: 0.0005870940753870717\n",
            "\u001b[34m\u001b[1mwandb\u001b[0m: \toptimizer: adam\n"
          ]
        },
        {
          "output_type": "display_data",
          "data": {
            "text/plain": [
              "<IPython.core.display.HTML object>"
            ],
            "text/html": [
              "Tracking run with wandb version 0.15.2"
            ]
          },
          "metadata": {}
        },
        {
          "output_type": "display_data",
          "data": {
            "text/plain": [
              "<IPython.core.display.HTML object>"
            ],
            "text/html": [
              "Run data is saved locally in <code>/content/wandb/run-20230508_025602-6xmt899e</code>"
            ]
          },
          "metadata": {}
        },
        {
          "output_type": "display_data",
          "data": {
            "text/plain": [
              "<IPython.core.display.HTML object>"
            ],
            "text/html": [
              "Syncing run <strong><a href='https://wandb.ai/atds_ml/resnet50/runs/6xmt899e' target=\"_blank\">feasible-sweep-18</a></strong> to <a href='https://wandb.ai/atds_ml/resnet50' target=\"_blank\">Weights & Biases</a> (<a href='https://wandb.me/run' target=\"_blank\">docs</a>)<br/>Sweep page: <a href='https://wandb.ai/atds_ml/resnet50/sweeps/k3k9bdxd' target=\"_blank\">https://wandb.ai/atds_ml/resnet50/sweeps/k3k9bdxd</a>"
            ]
          },
          "metadata": {}
        },
        {
          "output_type": "display_data",
          "data": {
            "text/plain": [
              "<IPython.core.display.HTML object>"
            ],
            "text/html": [
              " View project at <a href='https://wandb.ai/atds_ml/resnet50' target=\"_blank\">https://wandb.ai/atds_ml/resnet50</a>"
            ]
          },
          "metadata": {}
        },
        {
          "output_type": "display_data",
          "data": {
            "text/plain": [
              "<IPython.core.display.HTML object>"
            ],
            "text/html": [
              " View sweep at <a href='https://wandb.ai/atds_ml/resnet50/sweeps/k3k9bdxd' target=\"_blank\">https://wandb.ai/atds_ml/resnet50/sweeps/k3k9bdxd</a>"
            ]
          },
          "metadata": {}
        },
        {
          "output_type": "display_data",
          "data": {
            "text/plain": [
              "<IPython.core.display.HTML object>"
            ],
            "text/html": [
              " View run at <a href='https://wandb.ai/atds_ml/resnet50/runs/6xmt899e' target=\"_blank\">https://wandb.ai/atds_ml/resnet50/runs/6xmt899e</a>"
            ]
          },
          "metadata": {}
        },
        {
          "output_type": "stream",
          "name": "stdout",
          "text": [
            "X_train.shape torch.Size([31367, 3, 30, 30])\n",
            "X_valid.shape torch.Size([7842, 3, 30, 30])\n",
            "y_train.shape torch.Size([31367])\n",
            "y_valid.shape torch.Size([7842])\n"
          ]
        },
        {
          "output_type": "display_data",
          "data": {
            "text/plain": [
              "<IPython.core.display.HTML object>"
            ],
            "text/html": [
              "Waiting for W&B process to finish... <strong style=\"color:green\">(success).</strong>"
            ]
          },
          "metadata": {}
        },
        {
          "output_type": "display_data",
          "data": {
            "text/plain": [
              "VBox(children=(Label(value='0.001 MB of 0.001 MB uploaded (0.000 MB deduped)\\r'), FloatProgress(value=1.0, max…"
            ],
            "application/vnd.jupyter.widget-view+json": {
              "version_major": 2,
              "version_minor": 0,
              "model_id": "88bd09012b7243bc9f01c88d70eef3d0"
            }
          },
          "metadata": {}
        },
        {
          "output_type": "display_data",
          "data": {
            "text/plain": [
              "<IPython.core.display.HTML object>"
            ],
            "text/html": [
              "<style>\n",
              "    table.wandb td:nth-child(1) { padding: 0 10px; text-align: left ; width: auto;} td:nth-child(2) {text-align: left ; width: 100%}\n",
              "    .wandb-row { display: flex; flex-direction: row; flex-wrap: wrap; justify-content: flex-start; width: 100% }\n",
              "    .wandb-col { display: flex; flex-direction: column; flex-basis: 100%; flex: 1; padding: 10px; }\n",
              "    </style>\n",
              "<div class=\"wandb-row\"><div class=\"wandb-col\"><h3>Run history:</h3><br/><table class=\"wandb\"><tr><td>epoch</td><td>▁▁▂▃▃▃▄▅▅▅▆▇▇▇█</td></tr><tr><td>learning_rate</td><td>▁▁▁▁▁▁▁▁▁▁▁▁▁▁▁</td></tr><tr><td>loss</td><td>█▅▃▃▂▂▂▂▂▁▁▁▁▁▁</td></tr></table><br/></div><div class=\"wandb-col\"><h3>Run summary:</h3><br/><table class=\"wandb\"><tr><td>epoch</td><td>14</td></tr><tr><td>learning_rate</td><td>0.00059</td></tr><tr><td>loss</td><td>1.92356</td></tr><tr><td>optimizer</td><td>adam</td></tr></table><br/></div></div>"
            ]
          },
          "metadata": {}
        },
        {
          "output_type": "display_data",
          "data": {
            "text/plain": [
              "<IPython.core.display.HTML object>"
            ],
            "text/html": [
              " View run <strong style=\"color:#cdcd00\">feasible-sweep-18</strong> at: <a href='https://wandb.ai/atds_ml/resnet50/runs/6xmt899e' target=\"_blank\">https://wandb.ai/atds_ml/resnet50/runs/6xmt899e</a><br/>Synced 5 W&B file(s), 0 media file(s), 0 artifact file(s) and 0 other file(s)"
            ]
          },
          "metadata": {}
        },
        {
          "output_type": "display_data",
          "data": {
            "text/plain": [
              "<IPython.core.display.HTML object>"
            ],
            "text/html": [
              "Find logs at: <code>./wandb/run-20230508_025602-6xmt899e/logs</code>"
            ]
          },
          "metadata": {}
        },
        {
          "output_type": "stream",
          "name": "stderr",
          "text": [
            "\u001b[34m\u001b[1mwandb\u001b[0m: Agent Starting Run: penqv10u with config:\n",
            "\u001b[34m\u001b[1mwandb\u001b[0m: \tepochs: 15\n",
            "\u001b[34m\u001b[1mwandb\u001b[0m: \tlearning_rate: 0.0008024964230679125\n",
            "\u001b[34m\u001b[1mwandb\u001b[0m: \toptimizer: adam\n"
          ]
        },
        {
          "output_type": "display_data",
          "data": {
            "text/plain": [
              "<IPython.core.display.HTML object>"
            ],
            "text/html": [
              "Tracking run with wandb version 0.15.2"
            ]
          },
          "metadata": {}
        },
        {
          "output_type": "display_data",
          "data": {
            "text/plain": [
              "<IPython.core.display.HTML object>"
            ],
            "text/html": [
              "Run data is saved locally in <code>/content/wandb/run-20230508_025758-penqv10u</code>"
            ]
          },
          "metadata": {}
        },
        {
          "output_type": "display_data",
          "data": {
            "text/plain": [
              "<IPython.core.display.HTML object>"
            ],
            "text/html": [
              "Syncing run <strong><a href='https://wandb.ai/atds_ml/resnet50/runs/penqv10u' target=\"_blank\">glorious-sweep-19</a></strong> to <a href='https://wandb.ai/atds_ml/resnet50' target=\"_blank\">Weights & Biases</a> (<a href='https://wandb.me/run' target=\"_blank\">docs</a>)<br/>Sweep page: <a href='https://wandb.ai/atds_ml/resnet50/sweeps/k3k9bdxd' target=\"_blank\">https://wandb.ai/atds_ml/resnet50/sweeps/k3k9bdxd</a>"
            ]
          },
          "metadata": {}
        },
        {
          "output_type": "display_data",
          "data": {
            "text/plain": [
              "<IPython.core.display.HTML object>"
            ],
            "text/html": [
              " View project at <a href='https://wandb.ai/atds_ml/resnet50' target=\"_blank\">https://wandb.ai/atds_ml/resnet50</a>"
            ]
          },
          "metadata": {}
        },
        {
          "output_type": "display_data",
          "data": {
            "text/plain": [
              "<IPython.core.display.HTML object>"
            ],
            "text/html": [
              " View sweep at <a href='https://wandb.ai/atds_ml/resnet50/sweeps/k3k9bdxd' target=\"_blank\">https://wandb.ai/atds_ml/resnet50/sweeps/k3k9bdxd</a>"
            ]
          },
          "metadata": {}
        },
        {
          "output_type": "display_data",
          "data": {
            "text/plain": [
              "<IPython.core.display.HTML object>"
            ],
            "text/html": [
              " View run at <a href='https://wandb.ai/atds_ml/resnet50/runs/penqv10u' target=\"_blank\">https://wandb.ai/atds_ml/resnet50/runs/penqv10u</a>"
            ]
          },
          "metadata": {}
        },
        {
          "output_type": "stream",
          "name": "stdout",
          "text": [
            "X_train.shape torch.Size([31367, 3, 30, 30])\n",
            "X_valid.shape torch.Size([7842, 3, 30, 30])\n",
            "y_train.shape torch.Size([31367])\n",
            "y_valid.shape torch.Size([7842])\n"
          ]
        },
        {
          "output_type": "display_data",
          "data": {
            "text/plain": [
              "<IPython.core.display.HTML object>"
            ],
            "text/html": [
              "Waiting for W&B process to finish... <strong style=\"color:green\">(success).</strong>"
            ]
          },
          "metadata": {}
        },
        {
          "output_type": "display_data",
          "data": {
            "text/plain": [
              "<IPython.core.display.HTML object>"
            ],
            "text/html": [
              "<style>\n",
              "    table.wandb td:nth-child(1) { padding: 0 10px; text-align: left ; width: auto;} td:nth-child(2) {text-align: left ; width: 100%}\n",
              "    .wandb-row { display: flex; flex-direction: row; flex-wrap: wrap; justify-content: flex-start; width: 100% }\n",
              "    .wandb-col { display: flex; flex-direction: column; flex-basis: 100%; flex: 1; padding: 10px; }\n",
              "    </style>\n",
              "<div class=\"wandb-row\"><div class=\"wandb-col\"><h3>Run history:</h3><br/><table class=\"wandb\"><tr><td>epoch</td><td>▁▁▂▃▃▃▄▅▅▅▆▇▇▇█</td></tr><tr><td>learning_rate</td><td>▁▁▁▁▁▁▁▁▁▁▁▁▁▁▁</td></tr><tr><td>loss</td><td>█▄▃▃▂▂▂▂▂▁▁▁▁▁▁</td></tr></table><br/></div><div class=\"wandb-col\"><h3>Run summary:</h3><br/><table class=\"wandb\"><tr><td>epoch</td><td>14</td></tr><tr><td>learning_rate</td><td>0.0008</td></tr><tr><td>loss</td><td>1.74479</td></tr><tr><td>optimizer</td><td>adam</td></tr></table><br/></div></div>"
            ]
          },
          "metadata": {}
        },
        {
          "output_type": "display_data",
          "data": {
            "text/plain": [
              "<IPython.core.display.HTML object>"
            ],
            "text/html": [
              " View run <strong style=\"color:#cdcd00\">glorious-sweep-19</strong> at: <a href='https://wandb.ai/atds_ml/resnet50/runs/penqv10u' target=\"_blank\">https://wandb.ai/atds_ml/resnet50/runs/penqv10u</a><br/>Synced 5 W&B file(s), 0 media file(s), 0 artifact file(s) and 0 other file(s)"
            ]
          },
          "metadata": {}
        },
        {
          "output_type": "display_data",
          "data": {
            "text/plain": [
              "<IPython.core.display.HTML object>"
            ],
            "text/html": [
              "Find logs at: <code>./wandb/run-20230508_025758-penqv10u/logs</code>"
            ]
          },
          "metadata": {}
        },
        {
          "output_type": "stream",
          "name": "stderr",
          "text": [
            "\u001b[34m\u001b[1mwandb\u001b[0m: Agent Starting Run: ah23ibqo with config:\n",
            "\u001b[34m\u001b[1mwandb\u001b[0m: \tepochs: 15\n",
            "\u001b[34m\u001b[1mwandb\u001b[0m: \tlearning_rate: 0.0002848380458173692\n",
            "\u001b[34m\u001b[1mwandb\u001b[0m: \toptimizer: adam\n"
          ]
        },
        {
          "output_type": "display_data",
          "data": {
            "text/plain": [
              "<IPython.core.display.HTML object>"
            ],
            "text/html": [
              "Tracking run with wandb version 0.15.2"
            ]
          },
          "metadata": {}
        },
        {
          "output_type": "display_data",
          "data": {
            "text/plain": [
              "<IPython.core.display.HTML object>"
            ],
            "text/html": [
              "Run data is saved locally in <code>/content/wandb/run-20230508_025955-ah23ibqo</code>"
            ]
          },
          "metadata": {}
        },
        {
          "output_type": "display_data",
          "data": {
            "text/plain": [
              "<IPython.core.display.HTML object>"
            ],
            "text/html": [
              "Syncing run <strong><a href='https://wandb.ai/atds_ml/resnet50/runs/ah23ibqo' target=\"_blank\">icy-sweep-20</a></strong> to <a href='https://wandb.ai/atds_ml/resnet50' target=\"_blank\">Weights & Biases</a> (<a href='https://wandb.me/run' target=\"_blank\">docs</a>)<br/>Sweep page: <a href='https://wandb.ai/atds_ml/resnet50/sweeps/k3k9bdxd' target=\"_blank\">https://wandb.ai/atds_ml/resnet50/sweeps/k3k9bdxd</a>"
            ]
          },
          "metadata": {}
        },
        {
          "output_type": "display_data",
          "data": {
            "text/plain": [
              "<IPython.core.display.HTML object>"
            ],
            "text/html": [
              " View project at <a href='https://wandb.ai/atds_ml/resnet50' target=\"_blank\">https://wandb.ai/atds_ml/resnet50</a>"
            ]
          },
          "metadata": {}
        },
        {
          "output_type": "display_data",
          "data": {
            "text/plain": [
              "<IPython.core.display.HTML object>"
            ],
            "text/html": [
              " View sweep at <a href='https://wandb.ai/atds_ml/resnet50/sweeps/k3k9bdxd' target=\"_blank\">https://wandb.ai/atds_ml/resnet50/sweeps/k3k9bdxd</a>"
            ]
          },
          "metadata": {}
        },
        {
          "output_type": "display_data",
          "data": {
            "text/plain": [
              "<IPython.core.display.HTML object>"
            ],
            "text/html": [
              " View run at <a href='https://wandb.ai/atds_ml/resnet50/runs/ah23ibqo' target=\"_blank\">https://wandb.ai/atds_ml/resnet50/runs/ah23ibqo</a>"
            ]
          },
          "metadata": {}
        },
        {
          "output_type": "stream",
          "name": "stdout",
          "text": [
            "X_train.shape torch.Size([31367, 3, 30, 30])\n",
            "X_valid.shape torch.Size([7842, 3, 30, 30])\n",
            "y_train.shape torch.Size([31367])\n",
            "y_valid.shape torch.Size([7842])\n"
          ]
        },
        {
          "output_type": "display_data",
          "data": {
            "text/plain": [
              "<IPython.core.display.HTML object>"
            ],
            "text/html": [
              "Waiting for W&B process to finish... <strong style=\"color:green\">(success).</strong>"
            ]
          },
          "metadata": {}
        },
        {
          "output_type": "display_data",
          "data": {
            "text/plain": [
              "VBox(children=(Label(value='0.001 MB of 0.001 MB uploaded (0.000 MB deduped)\\r'), FloatProgress(value=1.0, max…"
            ],
            "application/vnd.jupyter.widget-view+json": {
              "version_major": 2,
              "version_minor": 0,
              "model_id": "ca43360af3ef49648c3c8de316aeb284"
            }
          },
          "metadata": {}
        },
        {
          "output_type": "display_data",
          "data": {
            "text/plain": [
              "<IPython.core.display.HTML object>"
            ],
            "text/html": [
              "<style>\n",
              "    table.wandb td:nth-child(1) { padding: 0 10px; text-align: left ; width: auto;} td:nth-child(2) {text-align: left ; width: 100%}\n",
              "    .wandb-row { display: flex; flex-direction: row; flex-wrap: wrap; justify-content: flex-start; width: 100% }\n",
              "    .wandb-col { display: flex; flex-direction: column; flex-basis: 100%; flex: 1; padding: 10px; }\n",
              "    </style>\n",
              "<div class=\"wandb-row\"><div class=\"wandb-col\"><h3>Run history:</h3><br/><table class=\"wandb\"><tr><td>epoch</td><td>▁▁▂▃▃▃▄▅▅▅▆▇▇▇█</td></tr><tr><td>learning_rate</td><td>▁▁▁▁▁▁▁▁▁▁▁▁▁▁▁</td></tr><tr><td>loss</td><td>█▅▄▃▃▂▂▂▂▁▁▁▁▁▁</td></tr></table><br/></div><div class=\"wandb-col\"><h3>Run summary:</h3><br/><table class=\"wandb\"><tr><td>epoch</td><td>14</td></tr><tr><td>learning_rate</td><td>0.00028</td></tr><tr><td>loss</td><td>2.58922</td></tr><tr><td>optimizer</td><td>adam</td></tr></table><br/></div></div>"
            ]
          },
          "metadata": {}
        },
        {
          "output_type": "display_data",
          "data": {
            "text/plain": [
              "<IPython.core.display.HTML object>"
            ],
            "text/html": [
              " View run <strong style=\"color:#cdcd00\">icy-sweep-20</strong> at: <a href='https://wandb.ai/atds_ml/resnet50/runs/ah23ibqo' target=\"_blank\">https://wandb.ai/atds_ml/resnet50/runs/ah23ibqo</a><br/>Synced 5 W&B file(s), 0 media file(s), 0 artifact file(s) and 0 other file(s)"
            ]
          },
          "metadata": {}
        },
        {
          "output_type": "display_data",
          "data": {
            "text/plain": [
              "<IPython.core.display.HTML object>"
            ],
            "text/html": [
              "Find logs at: <code>./wandb/run-20230508_025955-ah23ibqo/logs</code>"
            ]
          },
          "metadata": {}
        }
      ],
      "source": [
        "wandb.agent(sweep_id, train, count=20)"
      ]
    }
  ],
  "metadata": {
    "accelerator": "GPU",
    "colab": {
      "provenance": []
    },
    "gpuClass": "standard",
    "kernelspec": {
      "display_name": "Python 3",
      "name": "python3"
    },
    "language_info": {
      "name": "python"
    },
    "widgets": {
      "application/vnd.jupyter.widget-state+json": {
        "8e4b46efc3df4980ab3cb6a628ac4d57": {
          "model_module": "@jupyter-widgets/controls",
          "model_name": "VBoxModel",
          "model_module_version": "1.5.0",
          "state": {
            "_dom_classes": [],
            "_model_module": "@jupyter-widgets/controls",
            "_model_module_version": "1.5.0",
            "_model_name": "VBoxModel",
            "_view_count": null,
            "_view_module": "@jupyter-widgets/controls",
            "_view_module_version": "1.5.0",
            "_view_name": "VBoxView",
            "box_style": "",
            "children": [
              "IPY_MODEL_4ab73ec4acf546ed9ba4973196d89adb",
              "IPY_MODEL_a2919c22c2a544bda588cf7b43c16ec1"
            ],
            "layout": "IPY_MODEL_8a608fbfd68741ec960791130a6138bf"
          }
        },
        "4ab73ec4acf546ed9ba4973196d89adb": {
          "model_module": "@jupyter-widgets/controls",
          "model_name": "LabelModel",
          "model_module_version": "1.5.0",
          "state": {
            "_dom_classes": [],
            "_model_module": "@jupyter-widgets/controls",
            "_model_module_version": "1.5.0",
            "_model_name": "LabelModel",
            "_view_count": null,
            "_view_module": "@jupyter-widgets/controls",
            "_view_module_version": "1.5.0",
            "_view_name": "LabelView",
            "description": "",
            "description_tooltip": null,
            "layout": "IPY_MODEL_e8e6adf22fe04d229f347f884aee51a9",
            "placeholder": "​",
            "style": "IPY_MODEL_7a8852aa51a24f489f854237d896988a",
            "value": "0.001 MB of 0.003 MB uploaded (0.000 MB deduped)\r"
          }
        },
        "a2919c22c2a544bda588cf7b43c16ec1": {
          "model_module": "@jupyter-widgets/controls",
          "model_name": "FloatProgressModel",
          "model_module_version": "1.5.0",
          "state": {
            "_dom_classes": [],
            "_model_module": "@jupyter-widgets/controls",
            "_model_module_version": "1.5.0",
            "_model_name": "FloatProgressModel",
            "_view_count": null,
            "_view_module": "@jupyter-widgets/controls",
            "_view_module_version": "1.5.0",
            "_view_name": "ProgressView",
            "bar_style": "",
            "description": "",
            "description_tooltip": null,
            "layout": "IPY_MODEL_039a604968c14546a135383e5e933fe6",
            "max": 1,
            "min": 0,
            "orientation": "horizontal",
            "style": "IPY_MODEL_ce15f216fc4d4a3a8718fc2af97afdf9",
            "value": 0.3979125896934116
          }
        },
        "8a608fbfd68741ec960791130a6138bf": {
          "model_module": "@jupyter-widgets/base",
          "model_name": "LayoutModel",
          "model_module_version": "1.2.0",
          "state": {
            "_model_module": "@jupyter-widgets/base",
            "_model_module_version": "1.2.0",
            "_model_name": "LayoutModel",
            "_view_count": null,
            "_view_module": "@jupyter-widgets/base",
            "_view_module_version": "1.2.0",
            "_view_name": "LayoutView",
            "align_content": null,
            "align_items": null,
            "align_self": null,
            "border": null,
            "bottom": null,
            "display": null,
            "flex": null,
            "flex_flow": null,
            "grid_area": null,
            "grid_auto_columns": null,
            "grid_auto_flow": null,
            "grid_auto_rows": null,
            "grid_column": null,
            "grid_gap": null,
            "grid_row": null,
            "grid_template_areas": null,
            "grid_template_columns": null,
            "grid_template_rows": null,
            "height": null,
            "justify_content": null,
            "justify_items": null,
            "left": null,
            "margin": null,
            "max_height": null,
            "max_width": null,
            "min_height": null,
            "min_width": null,
            "object_fit": null,
            "object_position": null,
            "order": null,
            "overflow": null,
            "overflow_x": null,
            "overflow_y": null,
            "padding": null,
            "right": null,
            "top": null,
            "visibility": null,
            "width": null
          }
        },
        "e8e6adf22fe04d229f347f884aee51a9": {
          "model_module": "@jupyter-widgets/base",
          "model_name": "LayoutModel",
          "model_module_version": "1.2.0",
          "state": {
            "_model_module": "@jupyter-widgets/base",
            "_model_module_version": "1.2.0",
            "_model_name": "LayoutModel",
            "_view_count": null,
            "_view_module": "@jupyter-widgets/base",
            "_view_module_version": "1.2.0",
            "_view_name": "LayoutView",
            "align_content": null,
            "align_items": null,
            "align_self": null,
            "border": null,
            "bottom": null,
            "display": null,
            "flex": null,
            "flex_flow": null,
            "grid_area": null,
            "grid_auto_columns": null,
            "grid_auto_flow": null,
            "grid_auto_rows": null,
            "grid_column": null,
            "grid_gap": null,
            "grid_row": null,
            "grid_template_areas": null,
            "grid_template_columns": null,
            "grid_template_rows": null,
            "height": null,
            "justify_content": null,
            "justify_items": null,
            "left": null,
            "margin": null,
            "max_height": null,
            "max_width": null,
            "min_height": null,
            "min_width": null,
            "object_fit": null,
            "object_position": null,
            "order": null,
            "overflow": null,
            "overflow_x": null,
            "overflow_y": null,
            "padding": null,
            "right": null,
            "top": null,
            "visibility": null,
            "width": null
          }
        },
        "7a8852aa51a24f489f854237d896988a": {
          "model_module": "@jupyter-widgets/controls",
          "model_name": "DescriptionStyleModel",
          "model_module_version": "1.5.0",
          "state": {
            "_model_module": "@jupyter-widgets/controls",
            "_model_module_version": "1.5.0",
            "_model_name": "DescriptionStyleModel",
            "_view_count": null,
            "_view_module": "@jupyter-widgets/base",
            "_view_module_version": "1.2.0",
            "_view_name": "StyleView",
            "description_width": ""
          }
        },
        "039a604968c14546a135383e5e933fe6": {
          "model_module": "@jupyter-widgets/base",
          "model_name": "LayoutModel",
          "model_module_version": "1.2.0",
          "state": {
            "_model_module": "@jupyter-widgets/base",
            "_model_module_version": "1.2.0",
            "_model_name": "LayoutModel",
            "_view_count": null,
            "_view_module": "@jupyter-widgets/base",
            "_view_module_version": "1.2.0",
            "_view_name": "LayoutView",
            "align_content": null,
            "align_items": null,
            "align_self": null,
            "border": null,
            "bottom": null,
            "display": null,
            "flex": null,
            "flex_flow": null,
            "grid_area": null,
            "grid_auto_columns": null,
            "grid_auto_flow": null,
            "grid_auto_rows": null,
            "grid_column": null,
            "grid_gap": null,
            "grid_row": null,
            "grid_template_areas": null,
            "grid_template_columns": null,
            "grid_template_rows": null,
            "height": null,
            "justify_content": null,
            "justify_items": null,
            "left": null,
            "margin": null,
            "max_height": null,
            "max_width": null,
            "min_height": null,
            "min_width": null,
            "object_fit": null,
            "object_position": null,
            "order": null,
            "overflow": null,
            "overflow_x": null,
            "overflow_y": null,
            "padding": null,
            "right": null,
            "top": null,
            "visibility": null,
            "width": null
          }
        },
        "ce15f216fc4d4a3a8718fc2af97afdf9": {
          "model_module": "@jupyter-widgets/controls",
          "model_name": "ProgressStyleModel",
          "model_module_version": "1.5.0",
          "state": {
            "_model_module": "@jupyter-widgets/controls",
            "_model_module_version": "1.5.0",
            "_model_name": "ProgressStyleModel",
            "_view_count": null,
            "_view_module": "@jupyter-widgets/base",
            "_view_module_version": "1.2.0",
            "_view_name": "StyleView",
            "bar_color": null,
            "description_width": ""
          }
        },
        "e2daf9315e574e40843dc3607da56b70": {
          "model_module": "@jupyter-widgets/controls",
          "model_name": "VBoxModel",
          "model_module_version": "1.5.0",
          "state": {
            "_dom_classes": [],
            "_model_module": "@jupyter-widgets/controls",
            "_model_module_version": "1.5.0",
            "_model_name": "VBoxModel",
            "_view_count": null,
            "_view_module": "@jupyter-widgets/controls",
            "_view_module_version": "1.5.0",
            "_view_name": "VBoxView",
            "box_style": "",
            "children": [
              "IPY_MODEL_09aaecd86dda4dea86e8a436aad47b7a",
              "IPY_MODEL_49822a26ba6e4cab81e6f0e4df2e0905"
            ],
            "layout": "IPY_MODEL_8ddc67186be74b93860347e92695c004"
          }
        },
        "09aaecd86dda4dea86e8a436aad47b7a": {
          "model_module": "@jupyter-widgets/controls",
          "model_name": "LabelModel",
          "model_module_version": "1.5.0",
          "state": {
            "_dom_classes": [],
            "_model_module": "@jupyter-widgets/controls",
            "_model_module_version": "1.5.0",
            "_model_name": "LabelModel",
            "_view_count": null,
            "_view_module": "@jupyter-widgets/controls",
            "_view_module_version": "1.5.0",
            "_view_name": "LabelView",
            "description": "",
            "description_tooltip": null,
            "layout": "IPY_MODEL_b11dffe343de46e19163b3204bd3039a",
            "placeholder": "​",
            "style": "IPY_MODEL_a2a8f139eb61405e9cd71edcdb9d0d31",
            "value": "0.001 MB of 0.001 MB uploaded (0.000 MB deduped)\r"
          }
        },
        "49822a26ba6e4cab81e6f0e4df2e0905": {
          "model_module": "@jupyter-widgets/controls",
          "model_name": "FloatProgressModel",
          "model_module_version": "1.5.0",
          "state": {
            "_dom_classes": [],
            "_model_module": "@jupyter-widgets/controls",
            "_model_module_version": "1.5.0",
            "_model_name": "FloatProgressModel",
            "_view_count": null,
            "_view_module": "@jupyter-widgets/controls",
            "_view_module_version": "1.5.0",
            "_view_name": "ProgressView",
            "bar_style": "",
            "description": "",
            "description_tooltip": null,
            "layout": "IPY_MODEL_14c5ce9cbf7a4234b256623935cbd832",
            "max": 1,
            "min": 0,
            "orientation": "horizontal",
            "style": "IPY_MODEL_989247ef12c04f3685450f0f7844194c",
            "value": 1
          }
        },
        "8ddc67186be74b93860347e92695c004": {
          "model_module": "@jupyter-widgets/base",
          "model_name": "LayoutModel",
          "model_module_version": "1.2.0",
          "state": {
            "_model_module": "@jupyter-widgets/base",
            "_model_module_version": "1.2.0",
            "_model_name": "LayoutModel",
            "_view_count": null,
            "_view_module": "@jupyter-widgets/base",
            "_view_module_version": "1.2.0",
            "_view_name": "LayoutView",
            "align_content": null,
            "align_items": null,
            "align_self": null,
            "border": null,
            "bottom": null,
            "display": null,
            "flex": null,
            "flex_flow": null,
            "grid_area": null,
            "grid_auto_columns": null,
            "grid_auto_flow": null,
            "grid_auto_rows": null,
            "grid_column": null,
            "grid_gap": null,
            "grid_row": null,
            "grid_template_areas": null,
            "grid_template_columns": null,
            "grid_template_rows": null,
            "height": null,
            "justify_content": null,
            "justify_items": null,
            "left": null,
            "margin": null,
            "max_height": null,
            "max_width": null,
            "min_height": null,
            "min_width": null,
            "object_fit": null,
            "object_position": null,
            "order": null,
            "overflow": null,
            "overflow_x": null,
            "overflow_y": null,
            "padding": null,
            "right": null,
            "top": null,
            "visibility": null,
            "width": null
          }
        },
        "b11dffe343de46e19163b3204bd3039a": {
          "model_module": "@jupyter-widgets/base",
          "model_name": "LayoutModel",
          "model_module_version": "1.2.0",
          "state": {
            "_model_module": "@jupyter-widgets/base",
            "_model_module_version": "1.2.0",
            "_model_name": "LayoutModel",
            "_view_count": null,
            "_view_module": "@jupyter-widgets/base",
            "_view_module_version": "1.2.0",
            "_view_name": "LayoutView",
            "align_content": null,
            "align_items": null,
            "align_self": null,
            "border": null,
            "bottom": null,
            "display": null,
            "flex": null,
            "flex_flow": null,
            "grid_area": null,
            "grid_auto_columns": null,
            "grid_auto_flow": null,
            "grid_auto_rows": null,
            "grid_column": null,
            "grid_gap": null,
            "grid_row": null,
            "grid_template_areas": null,
            "grid_template_columns": null,
            "grid_template_rows": null,
            "height": null,
            "justify_content": null,
            "justify_items": null,
            "left": null,
            "margin": null,
            "max_height": null,
            "max_width": null,
            "min_height": null,
            "min_width": null,
            "object_fit": null,
            "object_position": null,
            "order": null,
            "overflow": null,
            "overflow_x": null,
            "overflow_y": null,
            "padding": null,
            "right": null,
            "top": null,
            "visibility": null,
            "width": null
          }
        },
        "a2a8f139eb61405e9cd71edcdb9d0d31": {
          "model_module": "@jupyter-widgets/controls",
          "model_name": "DescriptionStyleModel",
          "model_module_version": "1.5.0",
          "state": {
            "_model_module": "@jupyter-widgets/controls",
            "_model_module_version": "1.5.0",
            "_model_name": "DescriptionStyleModel",
            "_view_count": null,
            "_view_module": "@jupyter-widgets/base",
            "_view_module_version": "1.2.0",
            "_view_name": "StyleView",
            "description_width": ""
          }
        },
        "14c5ce9cbf7a4234b256623935cbd832": {
          "model_module": "@jupyter-widgets/base",
          "model_name": "LayoutModel",
          "model_module_version": "1.2.0",
          "state": {
            "_model_module": "@jupyter-widgets/base",
            "_model_module_version": "1.2.0",
            "_model_name": "LayoutModel",
            "_view_count": null,
            "_view_module": "@jupyter-widgets/base",
            "_view_module_version": "1.2.0",
            "_view_name": "LayoutView",
            "align_content": null,
            "align_items": null,
            "align_self": null,
            "border": null,
            "bottom": null,
            "display": null,
            "flex": null,
            "flex_flow": null,
            "grid_area": null,
            "grid_auto_columns": null,
            "grid_auto_flow": null,
            "grid_auto_rows": null,
            "grid_column": null,
            "grid_gap": null,
            "grid_row": null,
            "grid_template_areas": null,
            "grid_template_columns": null,
            "grid_template_rows": null,
            "height": null,
            "justify_content": null,
            "justify_items": null,
            "left": null,
            "margin": null,
            "max_height": null,
            "max_width": null,
            "min_height": null,
            "min_width": null,
            "object_fit": null,
            "object_position": null,
            "order": null,
            "overflow": null,
            "overflow_x": null,
            "overflow_y": null,
            "padding": null,
            "right": null,
            "top": null,
            "visibility": null,
            "width": null
          }
        },
        "989247ef12c04f3685450f0f7844194c": {
          "model_module": "@jupyter-widgets/controls",
          "model_name": "ProgressStyleModel",
          "model_module_version": "1.5.0",
          "state": {
            "_model_module": "@jupyter-widgets/controls",
            "_model_module_version": "1.5.0",
            "_model_name": "ProgressStyleModel",
            "_view_count": null,
            "_view_module": "@jupyter-widgets/base",
            "_view_module_version": "1.2.0",
            "_view_name": "StyleView",
            "bar_color": null,
            "description_width": ""
          }
        },
        "5b575f4b97284b6c911bdf500b10bb9c": {
          "model_module": "@jupyter-widgets/controls",
          "model_name": "VBoxModel",
          "model_module_version": "1.5.0",
          "state": {
            "_dom_classes": [],
            "_model_module": "@jupyter-widgets/controls",
            "_model_module_version": "1.5.0",
            "_model_name": "VBoxModel",
            "_view_count": null,
            "_view_module": "@jupyter-widgets/controls",
            "_view_module_version": "1.5.0",
            "_view_name": "VBoxView",
            "box_style": "",
            "children": [
              "IPY_MODEL_73b409a15efd4344980b8b239d39702c",
              "IPY_MODEL_e04a113480e24230987b9eb8f91aacc4"
            ],
            "layout": "IPY_MODEL_2e4f85ac3b5e4fe286d63e6b84a758fa"
          }
        },
        "73b409a15efd4344980b8b239d39702c": {
          "model_module": "@jupyter-widgets/controls",
          "model_name": "LabelModel",
          "model_module_version": "1.5.0",
          "state": {
            "_dom_classes": [],
            "_model_module": "@jupyter-widgets/controls",
            "_model_module_version": "1.5.0",
            "_model_name": "LabelModel",
            "_view_count": null,
            "_view_module": "@jupyter-widgets/controls",
            "_view_module_version": "1.5.0",
            "_view_name": "LabelView",
            "description": "",
            "description_tooltip": null,
            "layout": "IPY_MODEL_c3b7d0317e8e4ae9b5bbdc0498cea85a",
            "placeholder": "​",
            "style": "IPY_MODEL_fb705672308949faafa5f34ce7a9c836",
            "value": "0.001 MB of 0.009 MB uploaded (0.000 MB deduped)\r"
          }
        },
        "e04a113480e24230987b9eb8f91aacc4": {
          "model_module": "@jupyter-widgets/controls",
          "model_name": "FloatProgressModel",
          "model_module_version": "1.5.0",
          "state": {
            "_dom_classes": [],
            "_model_module": "@jupyter-widgets/controls",
            "_model_module_version": "1.5.0",
            "_model_name": "FloatProgressModel",
            "_view_count": null,
            "_view_module": "@jupyter-widgets/controls",
            "_view_module_version": "1.5.0",
            "_view_name": "ProgressView",
            "bar_style": "",
            "description": "",
            "description_tooltip": null,
            "layout": "IPY_MODEL_1168bcbd21b04866b7f0b828655507d1",
            "max": 1,
            "min": 0,
            "orientation": "horizontal",
            "style": "IPY_MODEL_3215680780f54c5da233ee57b8edcbb3",
            "value": 0.12414844941535333
          }
        },
        "2e4f85ac3b5e4fe286d63e6b84a758fa": {
          "model_module": "@jupyter-widgets/base",
          "model_name": "LayoutModel",
          "model_module_version": "1.2.0",
          "state": {
            "_model_module": "@jupyter-widgets/base",
            "_model_module_version": "1.2.0",
            "_model_name": "LayoutModel",
            "_view_count": null,
            "_view_module": "@jupyter-widgets/base",
            "_view_module_version": "1.2.0",
            "_view_name": "LayoutView",
            "align_content": null,
            "align_items": null,
            "align_self": null,
            "border": null,
            "bottom": null,
            "display": null,
            "flex": null,
            "flex_flow": null,
            "grid_area": null,
            "grid_auto_columns": null,
            "grid_auto_flow": null,
            "grid_auto_rows": null,
            "grid_column": null,
            "grid_gap": null,
            "grid_row": null,
            "grid_template_areas": null,
            "grid_template_columns": null,
            "grid_template_rows": null,
            "height": null,
            "justify_content": null,
            "justify_items": null,
            "left": null,
            "margin": null,
            "max_height": null,
            "max_width": null,
            "min_height": null,
            "min_width": null,
            "object_fit": null,
            "object_position": null,
            "order": null,
            "overflow": null,
            "overflow_x": null,
            "overflow_y": null,
            "padding": null,
            "right": null,
            "top": null,
            "visibility": null,
            "width": null
          }
        },
        "c3b7d0317e8e4ae9b5bbdc0498cea85a": {
          "model_module": "@jupyter-widgets/base",
          "model_name": "LayoutModel",
          "model_module_version": "1.2.0",
          "state": {
            "_model_module": "@jupyter-widgets/base",
            "_model_module_version": "1.2.0",
            "_model_name": "LayoutModel",
            "_view_count": null,
            "_view_module": "@jupyter-widgets/base",
            "_view_module_version": "1.2.0",
            "_view_name": "LayoutView",
            "align_content": null,
            "align_items": null,
            "align_self": null,
            "border": null,
            "bottom": null,
            "display": null,
            "flex": null,
            "flex_flow": null,
            "grid_area": null,
            "grid_auto_columns": null,
            "grid_auto_flow": null,
            "grid_auto_rows": null,
            "grid_column": null,
            "grid_gap": null,
            "grid_row": null,
            "grid_template_areas": null,
            "grid_template_columns": null,
            "grid_template_rows": null,
            "height": null,
            "justify_content": null,
            "justify_items": null,
            "left": null,
            "margin": null,
            "max_height": null,
            "max_width": null,
            "min_height": null,
            "min_width": null,
            "object_fit": null,
            "object_position": null,
            "order": null,
            "overflow": null,
            "overflow_x": null,
            "overflow_y": null,
            "padding": null,
            "right": null,
            "top": null,
            "visibility": null,
            "width": null
          }
        },
        "fb705672308949faafa5f34ce7a9c836": {
          "model_module": "@jupyter-widgets/controls",
          "model_name": "DescriptionStyleModel",
          "model_module_version": "1.5.0",
          "state": {
            "_model_module": "@jupyter-widgets/controls",
            "_model_module_version": "1.5.0",
            "_model_name": "DescriptionStyleModel",
            "_view_count": null,
            "_view_module": "@jupyter-widgets/base",
            "_view_module_version": "1.2.0",
            "_view_name": "StyleView",
            "description_width": ""
          }
        },
        "1168bcbd21b04866b7f0b828655507d1": {
          "model_module": "@jupyter-widgets/base",
          "model_name": "LayoutModel",
          "model_module_version": "1.2.0",
          "state": {
            "_model_module": "@jupyter-widgets/base",
            "_model_module_version": "1.2.0",
            "_model_name": "LayoutModel",
            "_view_count": null,
            "_view_module": "@jupyter-widgets/base",
            "_view_module_version": "1.2.0",
            "_view_name": "LayoutView",
            "align_content": null,
            "align_items": null,
            "align_self": null,
            "border": null,
            "bottom": null,
            "display": null,
            "flex": null,
            "flex_flow": null,
            "grid_area": null,
            "grid_auto_columns": null,
            "grid_auto_flow": null,
            "grid_auto_rows": null,
            "grid_column": null,
            "grid_gap": null,
            "grid_row": null,
            "grid_template_areas": null,
            "grid_template_columns": null,
            "grid_template_rows": null,
            "height": null,
            "justify_content": null,
            "justify_items": null,
            "left": null,
            "margin": null,
            "max_height": null,
            "max_width": null,
            "min_height": null,
            "min_width": null,
            "object_fit": null,
            "object_position": null,
            "order": null,
            "overflow": null,
            "overflow_x": null,
            "overflow_y": null,
            "padding": null,
            "right": null,
            "top": null,
            "visibility": null,
            "width": null
          }
        },
        "3215680780f54c5da233ee57b8edcbb3": {
          "model_module": "@jupyter-widgets/controls",
          "model_name": "ProgressStyleModel",
          "model_module_version": "1.5.0",
          "state": {
            "_model_module": "@jupyter-widgets/controls",
            "_model_module_version": "1.5.0",
            "_model_name": "ProgressStyleModel",
            "_view_count": null,
            "_view_module": "@jupyter-widgets/base",
            "_view_module_version": "1.2.0",
            "_view_name": "StyleView",
            "bar_color": null,
            "description_width": ""
          }
        },
        "31ebe1683ff943178586d1340343dd01": {
          "model_module": "@jupyter-widgets/controls",
          "model_name": "VBoxModel",
          "model_module_version": "1.5.0",
          "state": {
            "_dom_classes": [],
            "_model_module": "@jupyter-widgets/controls",
            "_model_module_version": "1.5.0",
            "_model_name": "VBoxModel",
            "_view_count": null,
            "_view_module": "@jupyter-widgets/controls",
            "_view_module_version": "1.5.0",
            "_view_name": "VBoxView",
            "box_style": "",
            "children": [
              "IPY_MODEL_c81d9645f14e4d5185e770b5f309e738",
              "IPY_MODEL_cbea9fc80b8149e28f7df3cb9f8928c9"
            ],
            "layout": "IPY_MODEL_12f3d4366e8241c2973dc285c8d262dc"
          }
        },
        "c81d9645f14e4d5185e770b5f309e738": {
          "model_module": "@jupyter-widgets/controls",
          "model_name": "LabelModel",
          "model_module_version": "1.5.0",
          "state": {
            "_dom_classes": [],
            "_model_module": "@jupyter-widgets/controls",
            "_model_module_version": "1.5.0",
            "_model_name": "LabelModel",
            "_view_count": null,
            "_view_module": "@jupyter-widgets/controls",
            "_view_module_version": "1.5.0",
            "_view_name": "LabelView",
            "description": "",
            "description_tooltip": null,
            "layout": "IPY_MODEL_7f39f670056b46908dfdc4e2f5034199",
            "placeholder": "​",
            "style": "IPY_MODEL_9792fb1ce4ed4e98b1a43fa9bb596208",
            "value": "0.001 MB of 0.002 MB uploaded (0.000 MB deduped)\r"
          }
        },
        "cbea9fc80b8149e28f7df3cb9f8928c9": {
          "model_module": "@jupyter-widgets/controls",
          "model_name": "FloatProgressModel",
          "model_module_version": "1.5.0",
          "state": {
            "_dom_classes": [],
            "_model_module": "@jupyter-widgets/controls",
            "_model_module_version": "1.5.0",
            "_model_name": "FloatProgressModel",
            "_view_count": null,
            "_view_module": "@jupyter-widgets/controls",
            "_view_module_version": "1.5.0",
            "_view_name": "ProgressView",
            "bar_style": "",
            "description": "",
            "description_tooltip": null,
            "layout": "IPY_MODEL_30b1d0d7e41a4d749c57d1dcb5948d71",
            "max": 1,
            "min": 0,
            "orientation": "horizontal",
            "style": "IPY_MODEL_9b59a1c664874e478f45b0d6d1f50a2a",
            "value": 0.5453327378293881
          }
        },
        "12f3d4366e8241c2973dc285c8d262dc": {
          "model_module": "@jupyter-widgets/base",
          "model_name": "LayoutModel",
          "model_module_version": "1.2.0",
          "state": {
            "_model_module": "@jupyter-widgets/base",
            "_model_module_version": "1.2.0",
            "_model_name": "LayoutModel",
            "_view_count": null,
            "_view_module": "@jupyter-widgets/base",
            "_view_module_version": "1.2.0",
            "_view_name": "LayoutView",
            "align_content": null,
            "align_items": null,
            "align_self": null,
            "border": null,
            "bottom": null,
            "display": null,
            "flex": null,
            "flex_flow": null,
            "grid_area": null,
            "grid_auto_columns": null,
            "grid_auto_flow": null,
            "grid_auto_rows": null,
            "grid_column": null,
            "grid_gap": null,
            "grid_row": null,
            "grid_template_areas": null,
            "grid_template_columns": null,
            "grid_template_rows": null,
            "height": null,
            "justify_content": null,
            "justify_items": null,
            "left": null,
            "margin": null,
            "max_height": null,
            "max_width": null,
            "min_height": null,
            "min_width": null,
            "object_fit": null,
            "object_position": null,
            "order": null,
            "overflow": null,
            "overflow_x": null,
            "overflow_y": null,
            "padding": null,
            "right": null,
            "top": null,
            "visibility": null,
            "width": null
          }
        },
        "7f39f670056b46908dfdc4e2f5034199": {
          "model_module": "@jupyter-widgets/base",
          "model_name": "LayoutModel",
          "model_module_version": "1.2.0",
          "state": {
            "_model_module": "@jupyter-widgets/base",
            "_model_module_version": "1.2.0",
            "_model_name": "LayoutModel",
            "_view_count": null,
            "_view_module": "@jupyter-widgets/base",
            "_view_module_version": "1.2.0",
            "_view_name": "LayoutView",
            "align_content": null,
            "align_items": null,
            "align_self": null,
            "border": null,
            "bottom": null,
            "display": null,
            "flex": null,
            "flex_flow": null,
            "grid_area": null,
            "grid_auto_columns": null,
            "grid_auto_flow": null,
            "grid_auto_rows": null,
            "grid_column": null,
            "grid_gap": null,
            "grid_row": null,
            "grid_template_areas": null,
            "grid_template_columns": null,
            "grid_template_rows": null,
            "height": null,
            "justify_content": null,
            "justify_items": null,
            "left": null,
            "margin": null,
            "max_height": null,
            "max_width": null,
            "min_height": null,
            "min_width": null,
            "object_fit": null,
            "object_position": null,
            "order": null,
            "overflow": null,
            "overflow_x": null,
            "overflow_y": null,
            "padding": null,
            "right": null,
            "top": null,
            "visibility": null,
            "width": null
          }
        },
        "9792fb1ce4ed4e98b1a43fa9bb596208": {
          "model_module": "@jupyter-widgets/controls",
          "model_name": "DescriptionStyleModel",
          "model_module_version": "1.5.0",
          "state": {
            "_model_module": "@jupyter-widgets/controls",
            "_model_module_version": "1.5.0",
            "_model_name": "DescriptionStyleModel",
            "_view_count": null,
            "_view_module": "@jupyter-widgets/base",
            "_view_module_version": "1.2.0",
            "_view_name": "StyleView",
            "description_width": ""
          }
        },
        "30b1d0d7e41a4d749c57d1dcb5948d71": {
          "model_module": "@jupyter-widgets/base",
          "model_name": "LayoutModel",
          "model_module_version": "1.2.0",
          "state": {
            "_model_module": "@jupyter-widgets/base",
            "_model_module_version": "1.2.0",
            "_model_name": "LayoutModel",
            "_view_count": null,
            "_view_module": "@jupyter-widgets/base",
            "_view_module_version": "1.2.0",
            "_view_name": "LayoutView",
            "align_content": null,
            "align_items": null,
            "align_self": null,
            "border": null,
            "bottom": null,
            "display": null,
            "flex": null,
            "flex_flow": null,
            "grid_area": null,
            "grid_auto_columns": null,
            "grid_auto_flow": null,
            "grid_auto_rows": null,
            "grid_column": null,
            "grid_gap": null,
            "grid_row": null,
            "grid_template_areas": null,
            "grid_template_columns": null,
            "grid_template_rows": null,
            "height": null,
            "justify_content": null,
            "justify_items": null,
            "left": null,
            "margin": null,
            "max_height": null,
            "max_width": null,
            "min_height": null,
            "min_width": null,
            "object_fit": null,
            "object_position": null,
            "order": null,
            "overflow": null,
            "overflow_x": null,
            "overflow_y": null,
            "padding": null,
            "right": null,
            "top": null,
            "visibility": null,
            "width": null
          }
        },
        "9b59a1c664874e478f45b0d6d1f50a2a": {
          "model_module": "@jupyter-widgets/controls",
          "model_name": "ProgressStyleModel",
          "model_module_version": "1.5.0",
          "state": {
            "_model_module": "@jupyter-widgets/controls",
            "_model_module_version": "1.5.0",
            "_model_name": "ProgressStyleModel",
            "_view_count": null,
            "_view_module": "@jupyter-widgets/base",
            "_view_module_version": "1.2.0",
            "_view_name": "StyleView",
            "bar_color": null,
            "description_width": ""
          }
        },
        "d51720947e684c80b8dd2b496ae3bf95": {
          "model_module": "@jupyter-widgets/controls",
          "model_name": "VBoxModel",
          "model_module_version": "1.5.0",
          "state": {
            "_dom_classes": [],
            "_model_module": "@jupyter-widgets/controls",
            "_model_module_version": "1.5.0",
            "_model_name": "VBoxModel",
            "_view_count": null,
            "_view_module": "@jupyter-widgets/controls",
            "_view_module_version": "1.5.0",
            "_view_name": "VBoxView",
            "box_style": "",
            "children": [
              "IPY_MODEL_80b9b1dfaf134262838d31ffa9356f35",
              "IPY_MODEL_99f96e034fc24a07a5fc9dcdd4bf6754"
            ],
            "layout": "IPY_MODEL_8658691dc076451691c09d55eac60703"
          }
        },
        "80b9b1dfaf134262838d31ffa9356f35": {
          "model_module": "@jupyter-widgets/controls",
          "model_name": "LabelModel",
          "model_module_version": "1.5.0",
          "state": {
            "_dom_classes": [],
            "_model_module": "@jupyter-widgets/controls",
            "_model_module_version": "1.5.0",
            "_model_name": "LabelModel",
            "_view_count": null,
            "_view_module": "@jupyter-widgets/controls",
            "_view_module_version": "1.5.0",
            "_view_name": "LabelView",
            "description": "",
            "description_tooltip": null,
            "layout": "IPY_MODEL_316646f904d64078bcc66a613633e981",
            "placeholder": "​",
            "style": "IPY_MODEL_0b061c157f404fd3bfe602b859d69567",
            "value": "0.001 MB of 0.001 MB uploaded (0.000 MB deduped)\r"
          }
        },
        "99f96e034fc24a07a5fc9dcdd4bf6754": {
          "model_module": "@jupyter-widgets/controls",
          "model_name": "FloatProgressModel",
          "model_module_version": "1.5.0",
          "state": {
            "_dom_classes": [],
            "_model_module": "@jupyter-widgets/controls",
            "_model_module_version": "1.5.0",
            "_model_name": "FloatProgressModel",
            "_view_count": null,
            "_view_module": "@jupyter-widgets/controls",
            "_view_module_version": "1.5.0",
            "_view_name": "ProgressView",
            "bar_style": "",
            "description": "",
            "description_tooltip": null,
            "layout": "IPY_MODEL_68bc4616aef14d6ab76cb3cc6e37c527",
            "max": 1,
            "min": 0,
            "orientation": "horizontal",
            "style": "IPY_MODEL_05e2fccab2f147228b9d909909f9db5c",
            "value": 1
          }
        },
        "8658691dc076451691c09d55eac60703": {
          "model_module": "@jupyter-widgets/base",
          "model_name": "LayoutModel",
          "model_module_version": "1.2.0",
          "state": {
            "_model_module": "@jupyter-widgets/base",
            "_model_module_version": "1.2.0",
            "_model_name": "LayoutModel",
            "_view_count": null,
            "_view_module": "@jupyter-widgets/base",
            "_view_module_version": "1.2.0",
            "_view_name": "LayoutView",
            "align_content": null,
            "align_items": null,
            "align_self": null,
            "border": null,
            "bottom": null,
            "display": null,
            "flex": null,
            "flex_flow": null,
            "grid_area": null,
            "grid_auto_columns": null,
            "grid_auto_flow": null,
            "grid_auto_rows": null,
            "grid_column": null,
            "grid_gap": null,
            "grid_row": null,
            "grid_template_areas": null,
            "grid_template_columns": null,
            "grid_template_rows": null,
            "height": null,
            "justify_content": null,
            "justify_items": null,
            "left": null,
            "margin": null,
            "max_height": null,
            "max_width": null,
            "min_height": null,
            "min_width": null,
            "object_fit": null,
            "object_position": null,
            "order": null,
            "overflow": null,
            "overflow_x": null,
            "overflow_y": null,
            "padding": null,
            "right": null,
            "top": null,
            "visibility": null,
            "width": null
          }
        },
        "316646f904d64078bcc66a613633e981": {
          "model_module": "@jupyter-widgets/base",
          "model_name": "LayoutModel",
          "model_module_version": "1.2.0",
          "state": {
            "_model_module": "@jupyter-widgets/base",
            "_model_module_version": "1.2.0",
            "_model_name": "LayoutModel",
            "_view_count": null,
            "_view_module": "@jupyter-widgets/base",
            "_view_module_version": "1.2.0",
            "_view_name": "LayoutView",
            "align_content": null,
            "align_items": null,
            "align_self": null,
            "border": null,
            "bottom": null,
            "display": null,
            "flex": null,
            "flex_flow": null,
            "grid_area": null,
            "grid_auto_columns": null,
            "grid_auto_flow": null,
            "grid_auto_rows": null,
            "grid_column": null,
            "grid_gap": null,
            "grid_row": null,
            "grid_template_areas": null,
            "grid_template_columns": null,
            "grid_template_rows": null,
            "height": null,
            "justify_content": null,
            "justify_items": null,
            "left": null,
            "margin": null,
            "max_height": null,
            "max_width": null,
            "min_height": null,
            "min_width": null,
            "object_fit": null,
            "object_position": null,
            "order": null,
            "overflow": null,
            "overflow_x": null,
            "overflow_y": null,
            "padding": null,
            "right": null,
            "top": null,
            "visibility": null,
            "width": null
          }
        },
        "0b061c157f404fd3bfe602b859d69567": {
          "model_module": "@jupyter-widgets/controls",
          "model_name": "DescriptionStyleModel",
          "model_module_version": "1.5.0",
          "state": {
            "_model_module": "@jupyter-widgets/controls",
            "_model_module_version": "1.5.0",
            "_model_name": "DescriptionStyleModel",
            "_view_count": null,
            "_view_module": "@jupyter-widgets/base",
            "_view_module_version": "1.2.0",
            "_view_name": "StyleView",
            "description_width": ""
          }
        },
        "68bc4616aef14d6ab76cb3cc6e37c527": {
          "model_module": "@jupyter-widgets/base",
          "model_name": "LayoutModel",
          "model_module_version": "1.2.0",
          "state": {
            "_model_module": "@jupyter-widgets/base",
            "_model_module_version": "1.2.0",
            "_model_name": "LayoutModel",
            "_view_count": null,
            "_view_module": "@jupyter-widgets/base",
            "_view_module_version": "1.2.0",
            "_view_name": "LayoutView",
            "align_content": null,
            "align_items": null,
            "align_self": null,
            "border": null,
            "bottom": null,
            "display": null,
            "flex": null,
            "flex_flow": null,
            "grid_area": null,
            "grid_auto_columns": null,
            "grid_auto_flow": null,
            "grid_auto_rows": null,
            "grid_column": null,
            "grid_gap": null,
            "grid_row": null,
            "grid_template_areas": null,
            "grid_template_columns": null,
            "grid_template_rows": null,
            "height": null,
            "justify_content": null,
            "justify_items": null,
            "left": null,
            "margin": null,
            "max_height": null,
            "max_width": null,
            "min_height": null,
            "min_width": null,
            "object_fit": null,
            "object_position": null,
            "order": null,
            "overflow": null,
            "overflow_x": null,
            "overflow_y": null,
            "padding": null,
            "right": null,
            "top": null,
            "visibility": null,
            "width": null
          }
        },
        "05e2fccab2f147228b9d909909f9db5c": {
          "model_module": "@jupyter-widgets/controls",
          "model_name": "ProgressStyleModel",
          "model_module_version": "1.5.0",
          "state": {
            "_model_module": "@jupyter-widgets/controls",
            "_model_module_version": "1.5.0",
            "_model_name": "ProgressStyleModel",
            "_view_count": null,
            "_view_module": "@jupyter-widgets/base",
            "_view_module_version": "1.2.0",
            "_view_name": "StyleView",
            "bar_color": null,
            "description_width": ""
          }
        },
        "cab9fd41d8234f35b6683abb5b78fb16": {
          "model_module": "@jupyter-widgets/controls",
          "model_name": "VBoxModel",
          "model_module_version": "1.5.0",
          "state": {
            "_dom_classes": [],
            "_model_module": "@jupyter-widgets/controls",
            "_model_module_version": "1.5.0",
            "_model_name": "VBoxModel",
            "_view_count": null,
            "_view_module": "@jupyter-widgets/controls",
            "_view_module_version": "1.5.0",
            "_view_name": "VBoxView",
            "box_style": "",
            "children": [
              "IPY_MODEL_9d1cbc4bc04f4114a652dc77f79d1609",
              "IPY_MODEL_915abd76208046a19c9a5cbc9bde8603"
            ],
            "layout": "IPY_MODEL_084a260d9b4a4815bf1a4a0f015f6bf5"
          }
        },
        "9d1cbc4bc04f4114a652dc77f79d1609": {
          "model_module": "@jupyter-widgets/controls",
          "model_name": "LabelModel",
          "model_module_version": "1.5.0",
          "state": {
            "_dom_classes": [],
            "_model_module": "@jupyter-widgets/controls",
            "_model_module_version": "1.5.0",
            "_model_name": "LabelModel",
            "_view_count": null,
            "_view_module": "@jupyter-widgets/controls",
            "_view_module_version": "1.5.0",
            "_view_name": "LabelView",
            "description": "",
            "description_tooltip": null,
            "layout": "IPY_MODEL_3eeb6fafc7e44583901397dd4b74d3a4",
            "placeholder": "​",
            "style": "IPY_MODEL_c31197574fb643588e58bf828b93c67b",
            "value": "0.001 MB of 0.001 MB uploaded (0.000 MB deduped)\r"
          }
        },
        "915abd76208046a19c9a5cbc9bde8603": {
          "model_module": "@jupyter-widgets/controls",
          "model_name": "FloatProgressModel",
          "model_module_version": "1.5.0",
          "state": {
            "_dom_classes": [],
            "_model_module": "@jupyter-widgets/controls",
            "_model_module_version": "1.5.0",
            "_model_name": "FloatProgressModel",
            "_view_count": null,
            "_view_module": "@jupyter-widgets/controls",
            "_view_module_version": "1.5.0",
            "_view_name": "ProgressView",
            "bar_style": "",
            "description": "",
            "description_tooltip": null,
            "layout": "IPY_MODEL_4fde3b0c0def47a484be169fafd85865",
            "max": 1,
            "min": 0,
            "orientation": "horizontal",
            "style": "IPY_MODEL_1a043a1ebfff4d55bd653accb5084338",
            "value": 1
          }
        },
        "084a260d9b4a4815bf1a4a0f015f6bf5": {
          "model_module": "@jupyter-widgets/base",
          "model_name": "LayoutModel",
          "model_module_version": "1.2.0",
          "state": {
            "_model_module": "@jupyter-widgets/base",
            "_model_module_version": "1.2.0",
            "_model_name": "LayoutModel",
            "_view_count": null,
            "_view_module": "@jupyter-widgets/base",
            "_view_module_version": "1.2.0",
            "_view_name": "LayoutView",
            "align_content": null,
            "align_items": null,
            "align_self": null,
            "border": null,
            "bottom": null,
            "display": null,
            "flex": null,
            "flex_flow": null,
            "grid_area": null,
            "grid_auto_columns": null,
            "grid_auto_flow": null,
            "grid_auto_rows": null,
            "grid_column": null,
            "grid_gap": null,
            "grid_row": null,
            "grid_template_areas": null,
            "grid_template_columns": null,
            "grid_template_rows": null,
            "height": null,
            "justify_content": null,
            "justify_items": null,
            "left": null,
            "margin": null,
            "max_height": null,
            "max_width": null,
            "min_height": null,
            "min_width": null,
            "object_fit": null,
            "object_position": null,
            "order": null,
            "overflow": null,
            "overflow_x": null,
            "overflow_y": null,
            "padding": null,
            "right": null,
            "top": null,
            "visibility": null,
            "width": null
          }
        },
        "3eeb6fafc7e44583901397dd4b74d3a4": {
          "model_module": "@jupyter-widgets/base",
          "model_name": "LayoutModel",
          "model_module_version": "1.2.0",
          "state": {
            "_model_module": "@jupyter-widgets/base",
            "_model_module_version": "1.2.0",
            "_model_name": "LayoutModel",
            "_view_count": null,
            "_view_module": "@jupyter-widgets/base",
            "_view_module_version": "1.2.0",
            "_view_name": "LayoutView",
            "align_content": null,
            "align_items": null,
            "align_self": null,
            "border": null,
            "bottom": null,
            "display": null,
            "flex": null,
            "flex_flow": null,
            "grid_area": null,
            "grid_auto_columns": null,
            "grid_auto_flow": null,
            "grid_auto_rows": null,
            "grid_column": null,
            "grid_gap": null,
            "grid_row": null,
            "grid_template_areas": null,
            "grid_template_columns": null,
            "grid_template_rows": null,
            "height": null,
            "justify_content": null,
            "justify_items": null,
            "left": null,
            "margin": null,
            "max_height": null,
            "max_width": null,
            "min_height": null,
            "min_width": null,
            "object_fit": null,
            "object_position": null,
            "order": null,
            "overflow": null,
            "overflow_x": null,
            "overflow_y": null,
            "padding": null,
            "right": null,
            "top": null,
            "visibility": null,
            "width": null
          }
        },
        "c31197574fb643588e58bf828b93c67b": {
          "model_module": "@jupyter-widgets/controls",
          "model_name": "DescriptionStyleModel",
          "model_module_version": "1.5.0",
          "state": {
            "_model_module": "@jupyter-widgets/controls",
            "_model_module_version": "1.5.0",
            "_model_name": "DescriptionStyleModel",
            "_view_count": null,
            "_view_module": "@jupyter-widgets/base",
            "_view_module_version": "1.2.0",
            "_view_name": "StyleView",
            "description_width": ""
          }
        },
        "4fde3b0c0def47a484be169fafd85865": {
          "model_module": "@jupyter-widgets/base",
          "model_name": "LayoutModel",
          "model_module_version": "1.2.0",
          "state": {
            "_model_module": "@jupyter-widgets/base",
            "_model_module_version": "1.2.0",
            "_model_name": "LayoutModel",
            "_view_count": null,
            "_view_module": "@jupyter-widgets/base",
            "_view_module_version": "1.2.0",
            "_view_name": "LayoutView",
            "align_content": null,
            "align_items": null,
            "align_self": null,
            "border": null,
            "bottom": null,
            "display": null,
            "flex": null,
            "flex_flow": null,
            "grid_area": null,
            "grid_auto_columns": null,
            "grid_auto_flow": null,
            "grid_auto_rows": null,
            "grid_column": null,
            "grid_gap": null,
            "grid_row": null,
            "grid_template_areas": null,
            "grid_template_columns": null,
            "grid_template_rows": null,
            "height": null,
            "justify_content": null,
            "justify_items": null,
            "left": null,
            "margin": null,
            "max_height": null,
            "max_width": null,
            "min_height": null,
            "min_width": null,
            "object_fit": null,
            "object_position": null,
            "order": null,
            "overflow": null,
            "overflow_x": null,
            "overflow_y": null,
            "padding": null,
            "right": null,
            "top": null,
            "visibility": null,
            "width": null
          }
        },
        "1a043a1ebfff4d55bd653accb5084338": {
          "model_module": "@jupyter-widgets/controls",
          "model_name": "ProgressStyleModel",
          "model_module_version": "1.5.0",
          "state": {
            "_model_module": "@jupyter-widgets/controls",
            "_model_module_version": "1.5.0",
            "_model_name": "ProgressStyleModel",
            "_view_count": null,
            "_view_module": "@jupyter-widgets/base",
            "_view_module_version": "1.2.0",
            "_view_name": "StyleView",
            "bar_color": null,
            "description_width": ""
          }
        },
        "0e369259f00e4d859346cfe73650e61b": {
          "model_module": "@jupyter-widgets/controls",
          "model_name": "VBoxModel",
          "model_module_version": "1.5.0",
          "state": {
            "_dom_classes": [],
            "_model_module": "@jupyter-widgets/controls",
            "_model_module_version": "1.5.0",
            "_model_name": "VBoxModel",
            "_view_count": null,
            "_view_module": "@jupyter-widgets/controls",
            "_view_module_version": "1.5.0",
            "_view_name": "VBoxView",
            "box_style": "",
            "children": [
              "IPY_MODEL_242b50b56d8642739d5380144d549941",
              "IPY_MODEL_f45577b5bba24ed297caf79c374bd0d6"
            ],
            "layout": "IPY_MODEL_3fe56160861b4956a5fab9880b1f74c5"
          }
        },
        "242b50b56d8642739d5380144d549941": {
          "model_module": "@jupyter-widgets/controls",
          "model_name": "LabelModel",
          "model_module_version": "1.5.0",
          "state": {
            "_dom_classes": [],
            "_model_module": "@jupyter-widgets/controls",
            "_model_module_version": "1.5.0",
            "_model_name": "LabelModel",
            "_view_count": null,
            "_view_module": "@jupyter-widgets/controls",
            "_view_module_version": "1.5.0",
            "_view_name": "LabelView",
            "description": "",
            "description_tooltip": null,
            "layout": "IPY_MODEL_3da82f2cc8874836ab17ecb3cf87609b",
            "placeholder": "​",
            "style": "IPY_MODEL_d31c468f69874c839fe339b1b5bd4c3f",
            "value": "0.001 MB of 0.001 MB uploaded (0.000 MB deduped)\r"
          }
        },
        "f45577b5bba24ed297caf79c374bd0d6": {
          "model_module": "@jupyter-widgets/controls",
          "model_name": "FloatProgressModel",
          "model_module_version": "1.5.0",
          "state": {
            "_dom_classes": [],
            "_model_module": "@jupyter-widgets/controls",
            "_model_module_version": "1.5.0",
            "_model_name": "FloatProgressModel",
            "_view_count": null,
            "_view_module": "@jupyter-widgets/controls",
            "_view_module_version": "1.5.0",
            "_view_name": "ProgressView",
            "bar_style": "",
            "description": "",
            "description_tooltip": null,
            "layout": "IPY_MODEL_d4bec1b1d2ed4ca4b67c53bec3a2cbe5",
            "max": 1,
            "min": 0,
            "orientation": "horizontal",
            "style": "IPY_MODEL_c9998907f36f4d788c1fa2a35dcd6b4b",
            "value": 1
          }
        },
        "3fe56160861b4956a5fab9880b1f74c5": {
          "model_module": "@jupyter-widgets/base",
          "model_name": "LayoutModel",
          "model_module_version": "1.2.0",
          "state": {
            "_model_module": "@jupyter-widgets/base",
            "_model_module_version": "1.2.0",
            "_model_name": "LayoutModel",
            "_view_count": null,
            "_view_module": "@jupyter-widgets/base",
            "_view_module_version": "1.2.0",
            "_view_name": "LayoutView",
            "align_content": null,
            "align_items": null,
            "align_self": null,
            "border": null,
            "bottom": null,
            "display": null,
            "flex": null,
            "flex_flow": null,
            "grid_area": null,
            "grid_auto_columns": null,
            "grid_auto_flow": null,
            "grid_auto_rows": null,
            "grid_column": null,
            "grid_gap": null,
            "grid_row": null,
            "grid_template_areas": null,
            "grid_template_columns": null,
            "grid_template_rows": null,
            "height": null,
            "justify_content": null,
            "justify_items": null,
            "left": null,
            "margin": null,
            "max_height": null,
            "max_width": null,
            "min_height": null,
            "min_width": null,
            "object_fit": null,
            "object_position": null,
            "order": null,
            "overflow": null,
            "overflow_x": null,
            "overflow_y": null,
            "padding": null,
            "right": null,
            "top": null,
            "visibility": null,
            "width": null
          }
        },
        "3da82f2cc8874836ab17ecb3cf87609b": {
          "model_module": "@jupyter-widgets/base",
          "model_name": "LayoutModel",
          "model_module_version": "1.2.0",
          "state": {
            "_model_module": "@jupyter-widgets/base",
            "_model_module_version": "1.2.0",
            "_model_name": "LayoutModel",
            "_view_count": null,
            "_view_module": "@jupyter-widgets/base",
            "_view_module_version": "1.2.0",
            "_view_name": "LayoutView",
            "align_content": null,
            "align_items": null,
            "align_self": null,
            "border": null,
            "bottom": null,
            "display": null,
            "flex": null,
            "flex_flow": null,
            "grid_area": null,
            "grid_auto_columns": null,
            "grid_auto_flow": null,
            "grid_auto_rows": null,
            "grid_column": null,
            "grid_gap": null,
            "grid_row": null,
            "grid_template_areas": null,
            "grid_template_columns": null,
            "grid_template_rows": null,
            "height": null,
            "justify_content": null,
            "justify_items": null,
            "left": null,
            "margin": null,
            "max_height": null,
            "max_width": null,
            "min_height": null,
            "min_width": null,
            "object_fit": null,
            "object_position": null,
            "order": null,
            "overflow": null,
            "overflow_x": null,
            "overflow_y": null,
            "padding": null,
            "right": null,
            "top": null,
            "visibility": null,
            "width": null
          }
        },
        "d31c468f69874c839fe339b1b5bd4c3f": {
          "model_module": "@jupyter-widgets/controls",
          "model_name": "DescriptionStyleModel",
          "model_module_version": "1.5.0",
          "state": {
            "_model_module": "@jupyter-widgets/controls",
            "_model_module_version": "1.5.0",
            "_model_name": "DescriptionStyleModel",
            "_view_count": null,
            "_view_module": "@jupyter-widgets/base",
            "_view_module_version": "1.2.0",
            "_view_name": "StyleView",
            "description_width": ""
          }
        },
        "d4bec1b1d2ed4ca4b67c53bec3a2cbe5": {
          "model_module": "@jupyter-widgets/base",
          "model_name": "LayoutModel",
          "model_module_version": "1.2.0",
          "state": {
            "_model_module": "@jupyter-widgets/base",
            "_model_module_version": "1.2.0",
            "_model_name": "LayoutModel",
            "_view_count": null,
            "_view_module": "@jupyter-widgets/base",
            "_view_module_version": "1.2.0",
            "_view_name": "LayoutView",
            "align_content": null,
            "align_items": null,
            "align_self": null,
            "border": null,
            "bottom": null,
            "display": null,
            "flex": null,
            "flex_flow": null,
            "grid_area": null,
            "grid_auto_columns": null,
            "grid_auto_flow": null,
            "grid_auto_rows": null,
            "grid_column": null,
            "grid_gap": null,
            "grid_row": null,
            "grid_template_areas": null,
            "grid_template_columns": null,
            "grid_template_rows": null,
            "height": null,
            "justify_content": null,
            "justify_items": null,
            "left": null,
            "margin": null,
            "max_height": null,
            "max_width": null,
            "min_height": null,
            "min_width": null,
            "object_fit": null,
            "object_position": null,
            "order": null,
            "overflow": null,
            "overflow_x": null,
            "overflow_y": null,
            "padding": null,
            "right": null,
            "top": null,
            "visibility": null,
            "width": null
          }
        },
        "c9998907f36f4d788c1fa2a35dcd6b4b": {
          "model_module": "@jupyter-widgets/controls",
          "model_name": "ProgressStyleModel",
          "model_module_version": "1.5.0",
          "state": {
            "_model_module": "@jupyter-widgets/controls",
            "_model_module_version": "1.5.0",
            "_model_name": "ProgressStyleModel",
            "_view_count": null,
            "_view_module": "@jupyter-widgets/base",
            "_view_module_version": "1.2.0",
            "_view_name": "StyleView",
            "bar_color": null,
            "description_width": ""
          }
        },
        "2592b19613204c60b5e80985d2cd0e07": {
          "model_module": "@jupyter-widgets/controls",
          "model_name": "VBoxModel",
          "model_module_version": "1.5.0",
          "state": {
            "_dom_classes": [],
            "_model_module": "@jupyter-widgets/controls",
            "_model_module_version": "1.5.0",
            "_model_name": "VBoxModel",
            "_view_count": null,
            "_view_module": "@jupyter-widgets/controls",
            "_view_module_version": "1.5.0",
            "_view_name": "VBoxView",
            "box_style": "",
            "children": [
              "IPY_MODEL_7a9de83209c94315a816127b69e73780",
              "IPY_MODEL_d7307cf4cd814a3d8cdfa6d98a187635"
            ],
            "layout": "IPY_MODEL_6daec0ffc3f84d07a00415bd5fd32221"
          }
        },
        "7a9de83209c94315a816127b69e73780": {
          "model_module": "@jupyter-widgets/controls",
          "model_name": "LabelModel",
          "model_module_version": "1.5.0",
          "state": {
            "_dom_classes": [],
            "_model_module": "@jupyter-widgets/controls",
            "_model_module_version": "1.5.0",
            "_model_name": "LabelModel",
            "_view_count": null,
            "_view_module": "@jupyter-widgets/controls",
            "_view_module_version": "1.5.0",
            "_view_name": "LabelView",
            "description": "",
            "description_tooltip": null,
            "layout": "IPY_MODEL_c71d5e8e8f6843eeb8b635b055dbca73",
            "placeholder": "​",
            "style": "IPY_MODEL_e690fe1e2f3a46fbbdd68e41f15b508d",
            "value": "0.001 MB of 0.009 MB uploaded (0.000 MB deduped)\r"
          }
        },
        "d7307cf4cd814a3d8cdfa6d98a187635": {
          "model_module": "@jupyter-widgets/controls",
          "model_name": "FloatProgressModel",
          "model_module_version": "1.5.0",
          "state": {
            "_dom_classes": [],
            "_model_module": "@jupyter-widgets/controls",
            "_model_module_version": "1.5.0",
            "_model_name": "FloatProgressModel",
            "_view_count": null,
            "_view_module": "@jupyter-widgets/controls",
            "_view_module_version": "1.5.0",
            "_view_name": "ProgressView",
            "bar_style": "",
            "description": "",
            "description_tooltip": null,
            "layout": "IPY_MODEL_81492b08cc244b23869ea06a2111602b",
            "max": 1,
            "min": 0,
            "orientation": "horizontal",
            "style": "IPY_MODEL_4c5e58107f2546ccb44e0be412854531",
            "value": 0.1240846216436127
          }
        },
        "6daec0ffc3f84d07a00415bd5fd32221": {
          "model_module": "@jupyter-widgets/base",
          "model_name": "LayoutModel",
          "model_module_version": "1.2.0",
          "state": {
            "_model_module": "@jupyter-widgets/base",
            "_model_module_version": "1.2.0",
            "_model_name": "LayoutModel",
            "_view_count": null,
            "_view_module": "@jupyter-widgets/base",
            "_view_module_version": "1.2.0",
            "_view_name": "LayoutView",
            "align_content": null,
            "align_items": null,
            "align_self": null,
            "border": null,
            "bottom": null,
            "display": null,
            "flex": null,
            "flex_flow": null,
            "grid_area": null,
            "grid_auto_columns": null,
            "grid_auto_flow": null,
            "grid_auto_rows": null,
            "grid_column": null,
            "grid_gap": null,
            "grid_row": null,
            "grid_template_areas": null,
            "grid_template_columns": null,
            "grid_template_rows": null,
            "height": null,
            "justify_content": null,
            "justify_items": null,
            "left": null,
            "margin": null,
            "max_height": null,
            "max_width": null,
            "min_height": null,
            "min_width": null,
            "object_fit": null,
            "object_position": null,
            "order": null,
            "overflow": null,
            "overflow_x": null,
            "overflow_y": null,
            "padding": null,
            "right": null,
            "top": null,
            "visibility": null,
            "width": null
          }
        },
        "c71d5e8e8f6843eeb8b635b055dbca73": {
          "model_module": "@jupyter-widgets/base",
          "model_name": "LayoutModel",
          "model_module_version": "1.2.0",
          "state": {
            "_model_module": "@jupyter-widgets/base",
            "_model_module_version": "1.2.0",
            "_model_name": "LayoutModel",
            "_view_count": null,
            "_view_module": "@jupyter-widgets/base",
            "_view_module_version": "1.2.0",
            "_view_name": "LayoutView",
            "align_content": null,
            "align_items": null,
            "align_self": null,
            "border": null,
            "bottom": null,
            "display": null,
            "flex": null,
            "flex_flow": null,
            "grid_area": null,
            "grid_auto_columns": null,
            "grid_auto_flow": null,
            "grid_auto_rows": null,
            "grid_column": null,
            "grid_gap": null,
            "grid_row": null,
            "grid_template_areas": null,
            "grid_template_columns": null,
            "grid_template_rows": null,
            "height": null,
            "justify_content": null,
            "justify_items": null,
            "left": null,
            "margin": null,
            "max_height": null,
            "max_width": null,
            "min_height": null,
            "min_width": null,
            "object_fit": null,
            "object_position": null,
            "order": null,
            "overflow": null,
            "overflow_x": null,
            "overflow_y": null,
            "padding": null,
            "right": null,
            "top": null,
            "visibility": null,
            "width": null
          }
        },
        "e690fe1e2f3a46fbbdd68e41f15b508d": {
          "model_module": "@jupyter-widgets/controls",
          "model_name": "DescriptionStyleModel",
          "model_module_version": "1.5.0",
          "state": {
            "_model_module": "@jupyter-widgets/controls",
            "_model_module_version": "1.5.0",
            "_model_name": "DescriptionStyleModel",
            "_view_count": null,
            "_view_module": "@jupyter-widgets/base",
            "_view_module_version": "1.2.0",
            "_view_name": "StyleView",
            "description_width": ""
          }
        },
        "81492b08cc244b23869ea06a2111602b": {
          "model_module": "@jupyter-widgets/base",
          "model_name": "LayoutModel",
          "model_module_version": "1.2.0",
          "state": {
            "_model_module": "@jupyter-widgets/base",
            "_model_module_version": "1.2.0",
            "_model_name": "LayoutModel",
            "_view_count": null,
            "_view_module": "@jupyter-widgets/base",
            "_view_module_version": "1.2.0",
            "_view_name": "LayoutView",
            "align_content": null,
            "align_items": null,
            "align_self": null,
            "border": null,
            "bottom": null,
            "display": null,
            "flex": null,
            "flex_flow": null,
            "grid_area": null,
            "grid_auto_columns": null,
            "grid_auto_flow": null,
            "grid_auto_rows": null,
            "grid_column": null,
            "grid_gap": null,
            "grid_row": null,
            "grid_template_areas": null,
            "grid_template_columns": null,
            "grid_template_rows": null,
            "height": null,
            "justify_content": null,
            "justify_items": null,
            "left": null,
            "margin": null,
            "max_height": null,
            "max_width": null,
            "min_height": null,
            "min_width": null,
            "object_fit": null,
            "object_position": null,
            "order": null,
            "overflow": null,
            "overflow_x": null,
            "overflow_y": null,
            "padding": null,
            "right": null,
            "top": null,
            "visibility": null,
            "width": null
          }
        },
        "4c5e58107f2546ccb44e0be412854531": {
          "model_module": "@jupyter-widgets/controls",
          "model_name": "ProgressStyleModel",
          "model_module_version": "1.5.0",
          "state": {
            "_model_module": "@jupyter-widgets/controls",
            "_model_module_version": "1.5.0",
            "_model_name": "ProgressStyleModel",
            "_view_count": null,
            "_view_module": "@jupyter-widgets/base",
            "_view_module_version": "1.2.0",
            "_view_name": "StyleView",
            "bar_color": null,
            "description_width": ""
          }
        },
        "59a0b55841834028bbce3a4ce2b9afd8": {
          "model_module": "@jupyter-widgets/controls",
          "model_name": "VBoxModel",
          "model_module_version": "1.5.0",
          "state": {
            "_dom_classes": [],
            "_model_module": "@jupyter-widgets/controls",
            "_model_module_version": "1.5.0",
            "_model_name": "VBoxModel",
            "_view_count": null,
            "_view_module": "@jupyter-widgets/controls",
            "_view_module_version": "1.5.0",
            "_view_name": "VBoxView",
            "box_style": "",
            "children": [
              "IPY_MODEL_ec927b1e673b4137be3652896e7dbd5c",
              "IPY_MODEL_ca83914bb0df4c0d952c8d2e0d46468e"
            ],
            "layout": "IPY_MODEL_c9a7be47e27e42e0bff240d43f6912fc"
          }
        },
        "ec927b1e673b4137be3652896e7dbd5c": {
          "model_module": "@jupyter-widgets/controls",
          "model_name": "LabelModel",
          "model_module_version": "1.5.0",
          "state": {
            "_dom_classes": [],
            "_model_module": "@jupyter-widgets/controls",
            "_model_module_version": "1.5.0",
            "_model_name": "LabelModel",
            "_view_count": null,
            "_view_module": "@jupyter-widgets/controls",
            "_view_module_version": "1.5.0",
            "_view_name": "LabelView",
            "description": "",
            "description_tooltip": null,
            "layout": "IPY_MODEL_dcc7ee3fa3164e70ac444cde69b9bb7e",
            "placeholder": "​",
            "style": "IPY_MODEL_0c2dcba8dc6947ed8d548b98592449f0",
            "value": "0.001 MB of 0.002 MB uploaded (0.000 MB deduped)\r"
          }
        },
        "ca83914bb0df4c0d952c8d2e0d46468e": {
          "model_module": "@jupyter-widgets/controls",
          "model_name": "FloatProgressModel",
          "model_module_version": "1.5.0",
          "state": {
            "_dom_classes": [],
            "_model_module": "@jupyter-widgets/controls",
            "_model_module_version": "1.5.0",
            "_model_name": "FloatProgressModel",
            "_view_count": null,
            "_view_module": "@jupyter-widgets/controls",
            "_view_module_version": "1.5.0",
            "_view_name": "ProgressView",
            "bar_style": "",
            "description": "",
            "description_tooltip": null,
            "layout": "IPY_MODEL_441b026e4627431999be43e731eadb84",
            "max": 1,
            "min": 0,
            "orientation": "horizontal",
            "style": "IPY_MODEL_db896bde90ec4ccf8576ea6064954d50",
            "value": 0.5458202950379973
          }
        },
        "c9a7be47e27e42e0bff240d43f6912fc": {
          "model_module": "@jupyter-widgets/base",
          "model_name": "LayoutModel",
          "model_module_version": "1.2.0",
          "state": {
            "_model_module": "@jupyter-widgets/base",
            "_model_module_version": "1.2.0",
            "_model_name": "LayoutModel",
            "_view_count": null,
            "_view_module": "@jupyter-widgets/base",
            "_view_module_version": "1.2.0",
            "_view_name": "LayoutView",
            "align_content": null,
            "align_items": null,
            "align_self": null,
            "border": null,
            "bottom": null,
            "display": null,
            "flex": null,
            "flex_flow": null,
            "grid_area": null,
            "grid_auto_columns": null,
            "grid_auto_flow": null,
            "grid_auto_rows": null,
            "grid_column": null,
            "grid_gap": null,
            "grid_row": null,
            "grid_template_areas": null,
            "grid_template_columns": null,
            "grid_template_rows": null,
            "height": null,
            "justify_content": null,
            "justify_items": null,
            "left": null,
            "margin": null,
            "max_height": null,
            "max_width": null,
            "min_height": null,
            "min_width": null,
            "object_fit": null,
            "object_position": null,
            "order": null,
            "overflow": null,
            "overflow_x": null,
            "overflow_y": null,
            "padding": null,
            "right": null,
            "top": null,
            "visibility": null,
            "width": null
          }
        },
        "dcc7ee3fa3164e70ac444cde69b9bb7e": {
          "model_module": "@jupyter-widgets/base",
          "model_name": "LayoutModel",
          "model_module_version": "1.2.0",
          "state": {
            "_model_module": "@jupyter-widgets/base",
            "_model_module_version": "1.2.0",
            "_model_name": "LayoutModel",
            "_view_count": null,
            "_view_module": "@jupyter-widgets/base",
            "_view_module_version": "1.2.0",
            "_view_name": "LayoutView",
            "align_content": null,
            "align_items": null,
            "align_self": null,
            "border": null,
            "bottom": null,
            "display": null,
            "flex": null,
            "flex_flow": null,
            "grid_area": null,
            "grid_auto_columns": null,
            "grid_auto_flow": null,
            "grid_auto_rows": null,
            "grid_column": null,
            "grid_gap": null,
            "grid_row": null,
            "grid_template_areas": null,
            "grid_template_columns": null,
            "grid_template_rows": null,
            "height": null,
            "justify_content": null,
            "justify_items": null,
            "left": null,
            "margin": null,
            "max_height": null,
            "max_width": null,
            "min_height": null,
            "min_width": null,
            "object_fit": null,
            "object_position": null,
            "order": null,
            "overflow": null,
            "overflow_x": null,
            "overflow_y": null,
            "padding": null,
            "right": null,
            "top": null,
            "visibility": null,
            "width": null
          }
        },
        "0c2dcba8dc6947ed8d548b98592449f0": {
          "model_module": "@jupyter-widgets/controls",
          "model_name": "DescriptionStyleModel",
          "model_module_version": "1.5.0",
          "state": {
            "_model_module": "@jupyter-widgets/controls",
            "_model_module_version": "1.5.0",
            "_model_name": "DescriptionStyleModel",
            "_view_count": null,
            "_view_module": "@jupyter-widgets/base",
            "_view_module_version": "1.2.0",
            "_view_name": "StyleView",
            "description_width": ""
          }
        },
        "441b026e4627431999be43e731eadb84": {
          "model_module": "@jupyter-widgets/base",
          "model_name": "LayoutModel",
          "model_module_version": "1.2.0",
          "state": {
            "_model_module": "@jupyter-widgets/base",
            "_model_module_version": "1.2.0",
            "_model_name": "LayoutModel",
            "_view_count": null,
            "_view_module": "@jupyter-widgets/base",
            "_view_module_version": "1.2.0",
            "_view_name": "LayoutView",
            "align_content": null,
            "align_items": null,
            "align_self": null,
            "border": null,
            "bottom": null,
            "display": null,
            "flex": null,
            "flex_flow": null,
            "grid_area": null,
            "grid_auto_columns": null,
            "grid_auto_flow": null,
            "grid_auto_rows": null,
            "grid_column": null,
            "grid_gap": null,
            "grid_row": null,
            "grid_template_areas": null,
            "grid_template_columns": null,
            "grid_template_rows": null,
            "height": null,
            "justify_content": null,
            "justify_items": null,
            "left": null,
            "margin": null,
            "max_height": null,
            "max_width": null,
            "min_height": null,
            "min_width": null,
            "object_fit": null,
            "object_position": null,
            "order": null,
            "overflow": null,
            "overflow_x": null,
            "overflow_y": null,
            "padding": null,
            "right": null,
            "top": null,
            "visibility": null,
            "width": null
          }
        },
        "db896bde90ec4ccf8576ea6064954d50": {
          "model_module": "@jupyter-widgets/controls",
          "model_name": "ProgressStyleModel",
          "model_module_version": "1.5.0",
          "state": {
            "_model_module": "@jupyter-widgets/controls",
            "_model_module_version": "1.5.0",
            "_model_name": "ProgressStyleModel",
            "_view_count": null,
            "_view_module": "@jupyter-widgets/base",
            "_view_module_version": "1.2.0",
            "_view_name": "StyleView",
            "bar_color": null,
            "description_width": ""
          }
        },
        "6460f7cb22ee4c6aadf983339754bbd4": {
          "model_module": "@jupyter-widgets/controls",
          "model_name": "VBoxModel",
          "model_module_version": "1.5.0",
          "state": {
            "_dom_classes": [],
            "_model_module": "@jupyter-widgets/controls",
            "_model_module_version": "1.5.0",
            "_model_name": "VBoxModel",
            "_view_count": null,
            "_view_module": "@jupyter-widgets/controls",
            "_view_module_version": "1.5.0",
            "_view_name": "VBoxView",
            "box_style": "",
            "children": [
              "IPY_MODEL_c7241901587247fb873cdb676c8120d6",
              "IPY_MODEL_64fa1c76532b4cb1ab0e8caa2462fb14"
            ],
            "layout": "IPY_MODEL_65a9cfa5d0fd4dbc81dccfd2259523ed"
          }
        },
        "c7241901587247fb873cdb676c8120d6": {
          "model_module": "@jupyter-widgets/controls",
          "model_name": "LabelModel",
          "model_module_version": "1.5.0",
          "state": {
            "_dom_classes": [],
            "_model_module": "@jupyter-widgets/controls",
            "_model_module_version": "1.5.0",
            "_model_name": "LabelModel",
            "_view_count": null,
            "_view_module": "@jupyter-widgets/controls",
            "_view_module_version": "1.5.0",
            "_view_name": "LabelView",
            "description": "",
            "description_tooltip": null,
            "layout": "IPY_MODEL_41cc051138c344eca9515569edb3d578",
            "placeholder": "​",
            "style": "IPY_MODEL_c5024012856e449baadfd4fae35a0426",
            "value": "0.001 MB of 0.001 MB uploaded (0.000 MB deduped)\r"
          }
        },
        "64fa1c76532b4cb1ab0e8caa2462fb14": {
          "model_module": "@jupyter-widgets/controls",
          "model_name": "FloatProgressModel",
          "model_module_version": "1.5.0",
          "state": {
            "_dom_classes": [],
            "_model_module": "@jupyter-widgets/controls",
            "_model_module_version": "1.5.0",
            "_model_name": "FloatProgressModel",
            "_view_count": null,
            "_view_module": "@jupyter-widgets/controls",
            "_view_module_version": "1.5.0",
            "_view_name": "ProgressView",
            "bar_style": "",
            "description": "",
            "description_tooltip": null,
            "layout": "IPY_MODEL_c7f84c58598148a7994bab6e6b1fc9d4",
            "max": 1,
            "min": 0,
            "orientation": "horizontal",
            "style": "IPY_MODEL_94c462d179374704a5ac57e3cdba935f",
            "value": 1
          }
        },
        "65a9cfa5d0fd4dbc81dccfd2259523ed": {
          "model_module": "@jupyter-widgets/base",
          "model_name": "LayoutModel",
          "model_module_version": "1.2.0",
          "state": {
            "_model_module": "@jupyter-widgets/base",
            "_model_module_version": "1.2.0",
            "_model_name": "LayoutModel",
            "_view_count": null,
            "_view_module": "@jupyter-widgets/base",
            "_view_module_version": "1.2.0",
            "_view_name": "LayoutView",
            "align_content": null,
            "align_items": null,
            "align_self": null,
            "border": null,
            "bottom": null,
            "display": null,
            "flex": null,
            "flex_flow": null,
            "grid_area": null,
            "grid_auto_columns": null,
            "grid_auto_flow": null,
            "grid_auto_rows": null,
            "grid_column": null,
            "grid_gap": null,
            "grid_row": null,
            "grid_template_areas": null,
            "grid_template_columns": null,
            "grid_template_rows": null,
            "height": null,
            "justify_content": null,
            "justify_items": null,
            "left": null,
            "margin": null,
            "max_height": null,
            "max_width": null,
            "min_height": null,
            "min_width": null,
            "object_fit": null,
            "object_position": null,
            "order": null,
            "overflow": null,
            "overflow_x": null,
            "overflow_y": null,
            "padding": null,
            "right": null,
            "top": null,
            "visibility": null,
            "width": null
          }
        },
        "41cc051138c344eca9515569edb3d578": {
          "model_module": "@jupyter-widgets/base",
          "model_name": "LayoutModel",
          "model_module_version": "1.2.0",
          "state": {
            "_model_module": "@jupyter-widgets/base",
            "_model_module_version": "1.2.0",
            "_model_name": "LayoutModel",
            "_view_count": null,
            "_view_module": "@jupyter-widgets/base",
            "_view_module_version": "1.2.0",
            "_view_name": "LayoutView",
            "align_content": null,
            "align_items": null,
            "align_self": null,
            "border": null,
            "bottom": null,
            "display": null,
            "flex": null,
            "flex_flow": null,
            "grid_area": null,
            "grid_auto_columns": null,
            "grid_auto_flow": null,
            "grid_auto_rows": null,
            "grid_column": null,
            "grid_gap": null,
            "grid_row": null,
            "grid_template_areas": null,
            "grid_template_columns": null,
            "grid_template_rows": null,
            "height": null,
            "justify_content": null,
            "justify_items": null,
            "left": null,
            "margin": null,
            "max_height": null,
            "max_width": null,
            "min_height": null,
            "min_width": null,
            "object_fit": null,
            "object_position": null,
            "order": null,
            "overflow": null,
            "overflow_x": null,
            "overflow_y": null,
            "padding": null,
            "right": null,
            "top": null,
            "visibility": null,
            "width": null
          }
        },
        "c5024012856e449baadfd4fae35a0426": {
          "model_module": "@jupyter-widgets/controls",
          "model_name": "DescriptionStyleModel",
          "model_module_version": "1.5.0",
          "state": {
            "_model_module": "@jupyter-widgets/controls",
            "_model_module_version": "1.5.0",
            "_model_name": "DescriptionStyleModel",
            "_view_count": null,
            "_view_module": "@jupyter-widgets/base",
            "_view_module_version": "1.2.0",
            "_view_name": "StyleView",
            "description_width": ""
          }
        },
        "c7f84c58598148a7994bab6e6b1fc9d4": {
          "model_module": "@jupyter-widgets/base",
          "model_name": "LayoutModel",
          "model_module_version": "1.2.0",
          "state": {
            "_model_module": "@jupyter-widgets/base",
            "_model_module_version": "1.2.0",
            "_model_name": "LayoutModel",
            "_view_count": null,
            "_view_module": "@jupyter-widgets/base",
            "_view_module_version": "1.2.0",
            "_view_name": "LayoutView",
            "align_content": null,
            "align_items": null,
            "align_self": null,
            "border": null,
            "bottom": null,
            "display": null,
            "flex": null,
            "flex_flow": null,
            "grid_area": null,
            "grid_auto_columns": null,
            "grid_auto_flow": null,
            "grid_auto_rows": null,
            "grid_column": null,
            "grid_gap": null,
            "grid_row": null,
            "grid_template_areas": null,
            "grid_template_columns": null,
            "grid_template_rows": null,
            "height": null,
            "justify_content": null,
            "justify_items": null,
            "left": null,
            "margin": null,
            "max_height": null,
            "max_width": null,
            "min_height": null,
            "min_width": null,
            "object_fit": null,
            "object_position": null,
            "order": null,
            "overflow": null,
            "overflow_x": null,
            "overflow_y": null,
            "padding": null,
            "right": null,
            "top": null,
            "visibility": null,
            "width": null
          }
        },
        "94c462d179374704a5ac57e3cdba935f": {
          "model_module": "@jupyter-widgets/controls",
          "model_name": "ProgressStyleModel",
          "model_module_version": "1.5.0",
          "state": {
            "_model_module": "@jupyter-widgets/controls",
            "_model_module_version": "1.5.0",
            "_model_name": "ProgressStyleModel",
            "_view_count": null,
            "_view_module": "@jupyter-widgets/base",
            "_view_module_version": "1.2.0",
            "_view_name": "StyleView",
            "bar_color": null,
            "description_width": ""
          }
        },
        "53218f45dda84f46b22303586c97f5ba": {
          "model_module": "@jupyter-widgets/controls",
          "model_name": "VBoxModel",
          "model_module_version": "1.5.0",
          "state": {
            "_dom_classes": [],
            "_model_module": "@jupyter-widgets/controls",
            "_model_module_version": "1.5.0",
            "_model_name": "VBoxModel",
            "_view_count": null,
            "_view_module": "@jupyter-widgets/controls",
            "_view_module_version": "1.5.0",
            "_view_name": "VBoxView",
            "box_style": "",
            "children": [
              "IPY_MODEL_a125ce660fda47a08acf34e4ac357a37",
              "IPY_MODEL_1908cfe095c4472a80d752dd9a9e6023"
            ],
            "layout": "IPY_MODEL_5638ca56d4bd425b82da3b08603b5c42"
          }
        },
        "a125ce660fda47a08acf34e4ac357a37": {
          "model_module": "@jupyter-widgets/controls",
          "model_name": "LabelModel",
          "model_module_version": "1.5.0",
          "state": {
            "_dom_classes": [],
            "_model_module": "@jupyter-widgets/controls",
            "_model_module_version": "1.5.0",
            "_model_name": "LabelModel",
            "_view_count": null,
            "_view_module": "@jupyter-widgets/controls",
            "_view_module_version": "1.5.0",
            "_view_name": "LabelView",
            "description": "",
            "description_tooltip": null,
            "layout": "IPY_MODEL_1bb514b4d6a64c85b1e0503243e839a3",
            "placeholder": "​",
            "style": "IPY_MODEL_e27755beb84e4846b65c7022f46df77b",
            "value": "0.001 MB of 0.001 MB uploaded (0.000 MB deduped)\r"
          }
        },
        "1908cfe095c4472a80d752dd9a9e6023": {
          "model_module": "@jupyter-widgets/controls",
          "model_name": "FloatProgressModel",
          "model_module_version": "1.5.0",
          "state": {
            "_dom_classes": [],
            "_model_module": "@jupyter-widgets/controls",
            "_model_module_version": "1.5.0",
            "_model_name": "FloatProgressModel",
            "_view_count": null,
            "_view_module": "@jupyter-widgets/controls",
            "_view_module_version": "1.5.0",
            "_view_name": "ProgressView",
            "bar_style": "",
            "description": "",
            "description_tooltip": null,
            "layout": "IPY_MODEL_391dba2ff97a4d14ac604898c1879b0b",
            "max": 1,
            "min": 0,
            "orientation": "horizontal",
            "style": "IPY_MODEL_a191f95150b042e0abc3c1a77f43c40b",
            "value": 1
          }
        },
        "5638ca56d4bd425b82da3b08603b5c42": {
          "model_module": "@jupyter-widgets/base",
          "model_name": "LayoutModel",
          "model_module_version": "1.2.0",
          "state": {
            "_model_module": "@jupyter-widgets/base",
            "_model_module_version": "1.2.0",
            "_model_name": "LayoutModel",
            "_view_count": null,
            "_view_module": "@jupyter-widgets/base",
            "_view_module_version": "1.2.0",
            "_view_name": "LayoutView",
            "align_content": null,
            "align_items": null,
            "align_self": null,
            "border": null,
            "bottom": null,
            "display": null,
            "flex": null,
            "flex_flow": null,
            "grid_area": null,
            "grid_auto_columns": null,
            "grid_auto_flow": null,
            "grid_auto_rows": null,
            "grid_column": null,
            "grid_gap": null,
            "grid_row": null,
            "grid_template_areas": null,
            "grid_template_columns": null,
            "grid_template_rows": null,
            "height": null,
            "justify_content": null,
            "justify_items": null,
            "left": null,
            "margin": null,
            "max_height": null,
            "max_width": null,
            "min_height": null,
            "min_width": null,
            "object_fit": null,
            "object_position": null,
            "order": null,
            "overflow": null,
            "overflow_x": null,
            "overflow_y": null,
            "padding": null,
            "right": null,
            "top": null,
            "visibility": null,
            "width": null
          }
        },
        "1bb514b4d6a64c85b1e0503243e839a3": {
          "model_module": "@jupyter-widgets/base",
          "model_name": "LayoutModel",
          "model_module_version": "1.2.0",
          "state": {
            "_model_module": "@jupyter-widgets/base",
            "_model_module_version": "1.2.0",
            "_model_name": "LayoutModel",
            "_view_count": null,
            "_view_module": "@jupyter-widgets/base",
            "_view_module_version": "1.2.0",
            "_view_name": "LayoutView",
            "align_content": null,
            "align_items": null,
            "align_self": null,
            "border": null,
            "bottom": null,
            "display": null,
            "flex": null,
            "flex_flow": null,
            "grid_area": null,
            "grid_auto_columns": null,
            "grid_auto_flow": null,
            "grid_auto_rows": null,
            "grid_column": null,
            "grid_gap": null,
            "grid_row": null,
            "grid_template_areas": null,
            "grid_template_columns": null,
            "grid_template_rows": null,
            "height": null,
            "justify_content": null,
            "justify_items": null,
            "left": null,
            "margin": null,
            "max_height": null,
            "max_width": null,
            "min_height": null,
            "min_width": null,
            "object_fit": null,
            "object_position": null,
            "order": null,
            "overflow": null,
            "overflow_x": null,
            "overflow_y": null,
            "padding": null,
            "right": null,
            "top": null,
            "visibility": null,
            "width": null
          }
        },
        "e27755beb84e4846b65c7022f46df77b": {
          "model_module": "@jupyter-widgets/controls",
          "model_name": "DescriptionStyleModel",
          "model_module_version": "1.5.0",
          "state": {
            "_model_module": "@jupyter-widgets/controls",
            "_model_module_version": "1.5.0",
            "_model_name": "DescriptionStyleModel",
            "_view_count": null,
            "_view_module": "@jupyter-widgets/base",
            "_view_module_version": "1.2.0",
            "_view_name": "StyleView",
            "description_width": ""
          }
        },
        "391dba2ff97a4d14ac604898c1879b0b": {
          "model_module": "@jupyter-widgets/base",
          "model_name": "LayoutModel",
          "model_module_version": "1.2.0",
          "state": {
            "_model_module": "@jupyter-widgets/base",
            "_model_module_version": "1.2.0",
            "_model_name": "LayoutModel",
            "_view_count": null,
            "_view_module": "@jupyter-widgets/base",
            "_view_module_version": "1.2.0",
            "_view_name": "LayoutView",
            "align_content": null,
            "align_items": null,
            "align_self": null,
            "border": null,
            "bottom": null,
            "display": null,
            "flex": null,
            "flex_flow": null,
            "grid_area": null,
            "grid_auto_columns": null,
            "grid_auto_flow": null,
            "grid_auto_rows": null,
            "grid_column": null,
            "grid_gap": null,
            "grid_row": null,
            "grid_template_areas": null,
            "grid_template_columns": null,
            "grid_template_rows": null,
            "height": null,
            "justify_content": null,
            "justify_items": null,
            "left": null,
            "margin": null,
            "max_height": null,
            "max_width": null,
            "min_height": null,
            "min_width": null,
            "object_fit": null,
            "object_position": null,
            "order": null,
            "overflow": null,
            "overflow_x": null,
            "overflow_y": null,
            "padding": null,
            "right": null,
            "top": null,
            "visibility": null,
            "width": null
          }
        },
        "a191f95150b042e0abc3c1a77f43c40b": {
          "model_module": "@jupyter-widgets/controls",
          "model_name": "ProgressStyleModel",
          "model_module_version": "1.5.0",
          "state": {
            "_model_module": "@jupyter-widgets/controls",
            "_model_module_version": "1.5.0",
            "_model_name": "ProgressStyleModel",
            "_view_count": null,
            "_view_module": "@jupyter-widgets/base",
            "_view_module_version": "1.2.0",
            "_view_name": "StyleView",
            "bar_color": null,
            "description_width": ""
          }
        },
        "88bd09012b7243bc9f01c88d70eef3d0": {
          "model_module": "@jupyter-widgets/controls",
          "model_name": "VBoxModel",
          "model_module_version": "1.5.0",
          "state": {
            "_dom_classes": [],
            "_model_module": "@jupyter-widgets/controls",
            "_model_module_version": "1.5.0",
            "_model_name": "VBoxModel",
            "_view_count": null,
            "_view_module": "@jupyter-widgets/controls",
            "_view_module_version": "1.5.0",
            "_view_name": "VBoxView",
            "box_style": "",
            "children": [
              "IPY_MODEL_a4a274ccad164690b4ff940bc40050e5",
              "IPY_MODEL_d4f2a48adee84902873851e1a24663b6"
            ],
            "layout": "IPY_MODEL_c03ba7e3400e4935be53907ab93fac66"
          }
        },
        "a4a274ccad164690b4ff940bc40050e5": {
          "model_module": "@jupyter-widgets/controls",
          "model_name": "LabelModel",
          "model_module_version": "1.5.0",
          "state": {
            "_dom_classes": [],
            "_model_module": "@jupyter-widgets/controls",
            "_model_module_version": "1.5.0",
            "_model_name": "LabelModel",
            "_view_count": null,
            "_view_module": "@jupyter-widgets/controls",
            "_view_module_version": "1.5.0",
            "_view_name": "LabelView",
            "description": "",
            "description_tooltip": null,
            "layout": "IPY_MODEL_58f066e4b42841d5b54330cf24234e6b",
            "placeholder": "​",
            "style": "IPY_MODEL_4d9fb76f1ac244afbddbc4f33c2514f9",
            "value": "0.001 MB of 0.001 MB uploaded (0.000 MB deduped)\r"
          }
        },
        "d4f2a48adee84902873851e1a24663b6": {
          "model_module": "@jupyter-widgets/controls",
          "model_name": "FloatProgressModel",
          "model_module_version": "1.5.0",
          "state": {
            "_dom_classes": [],
            "_model_module": "@jupyter-widgets/controls",
            "_model_module_version": "1.5.0",
            "_model_name": "FloatProgressModel",
            "_view_count": null,
            "_view_module": "@jupyter-widgets/controls",
            "_view_module_version": "1.5.0",
            "_view_name": "ProgressView",
            "bar_style": "",
            "description": "",
            "description_tooltip": null,
            "layout": "IPY_MODEL_ecda2b4e84e14e59bf310444ff18af2f",
            "max": 1,
            "min": 0,
            "orientation": "horizontal",
            "style": "IPY_MODEL_550dd7b71f4d4af7850dfecc680be3a0",
            "value": 1
          }
        },
        "c03ba7e3400e4935be53907ab93fac66": {
          "model_module": "@jupyter-widgets/base",
          "model_name": "LayoutModel",
          "model_module_version": "1.2.0",
          "state": {
            "_model_module": "@jupyter-widgets/base",
            "_model_module_version": "1.2.0",
            "_model_name": "LayoutModel",
            "_view_count": null,
            "_view_module": "@jupyter-widgets/base",
            "_view_module_version": "1.2.0",
            "_view_name": "LayoutView",
            "align_content": null,
            "align_items": null,
            "align_self": null,
            "border": null,
            "bottom": null,
            "display": null,
            "flex": null,
            "flex_flow": null,
            "grid_area": null,
            "grid_auto_columns": null,
            "grid_auto_flow": null,
            "grid_auto_rows": null,
            "grid_column": null,
            "grid_gap": null,
            "grid_row": null,
            "grid_template_areas": null,
            "grid_template_columns": null,
            "grid_template_rows": null,
            "height": null,
            "justify_content": null,
            "justify_items": null,
            "left": null,
            "margin": null,
            "max_height": null,
            "max_width": null,
            "min_height": null,
            "min_width": null,
            "object_fit": null,
            "object_position": null,
            "order": null,
            "overflow": null,
            "overflow_x": null,
            "overflow_y": null,
            "padding": null,
            "right": null,
            "top": null,
            "visibility": null,
            "width": null
          }
        },
        "58f066e4b42841d5b54330cf24234e6b": {
          "model_module": "@jupyter-widgets/base",
          "model_name": "LayoutModel",
          "model_module_version": "1.2.0",
          "state": {
            "_model_module": "@jupyter-widgets/base",
            "_model_module_version": "1.2.0",
            "_model_name": "LayoutModel",
            "_view_count": null,
            "_view_module": "@jupyter-widgets/base",
            "_view_module_version": "1.2.0",
            "_view_name": "LayoutView",
            "align_content": null,
            "align_items": null,
            "align_self": null,
            "border": null,
            "bottom": null,
            "display": null,
            "flex": null,
            "flex_flow": null,
            "grid_area": null,
            "grid_auto_columns": null,
            "grid_auto_flow": null,
            "grid_auto_rows": null,
            "grid_column": null,
            "grid_gap": null,
            "grid_row": null,
            "grid_template_areas": null,
            "grid_template_columns": null,
            "grid_template_rows": null,
            "height": null,
            "justify_content": null,
            "justify_items": null,
            "left": null,
            "margin": null,
            "max_height": null,
            "max_width": null,
            "min_height": null,
            "min_width": null,
            "object_fit": null,
            "object_position": null,
            "order": null,
            "overflow": null,
            "overflow_x": null,
            "overflow_y": null,
            "padding": null,
            "right": null,
            "top": null,
            "visibility": null,
            "width": null
          }
        },
        "4d9fb76f1ac244afbddbc4f33c2514f9": {
          "model_module": "@jupyter-widgets/controls",
          "model_name": "DescriptionStyleModel",
          "model_module_version": "1.5.0",
          "state": {
            "_model_module": "@jupyter-widgets/controls",
            "_model_module_version": "1.5.0",
            "_model_name": "DescriptionStyleModel",
            "_view_count": null,
            "_view_module": "@jupyter-widgets/base",
            "_view_module_version": "1.2.0",
            "_view_name": "StyleView",
            "description_width": ""
          }
        },
        "ecda2b4e84e14e59bf310444ff18af2f": {
          "model_module": "@jupyter-widgets/base",
          "model_name": "LayoutModel",
          "model_module_version": "1.2.0",
          "state": {
            "_model_module": "@jupyter-widgets/base",
            "_model_module_version": "1.2.0",
            "_model_name": "LayoutModel",
            "_view_count": null,
            "_view_module": "@jupyter-widgets/base",
            "_view_module_version": "1.2.0",
            "_view_name": "LayoutView",
            "align_content": null,
            "align_items": null,
            "align_self": null,
            "border": null,
            "bottom": null,
            "display": null,
            "flex": null,
            "flex_flow": null,
            "grid_area": null,
            "grid_auto_columns": null,
            "grid_auto_flow": null,
            "grid_auto_rows": null,
            "grid_column": null,
            "grid_gap": null,
            "grid_row": null,
            "grid_template_areas": null,
            "grid_template_columns": null,
            "grid_template_rows": null,
            "height": null,
            "justify_content": null,
            "justify_items": null,
            "left": null,
            "margin": null,
            "max_height": null,
            "max_width": null,
            "min_height": null,
            "min_width": null,
            "object_fit": null,
            "object_position": null,
            "order": null,
            "overflow": null,
            "overflow_x": null,
            "overflow_y": null,
            "padding": null,
            "right": null,
            "top": null,
            "visibility": null,
            "width": null
          }
        },
        "550dd7b71f4d4af7850dfecc680be3a0": {
          "model_module": "@jupyter-widgets/controls",
          "model_name": "ProgressStyleModel",
          "model_module_version": "1.5.0",
          "state": {
            "_model_module": "@jupyter-widgets/controls",
            "_model_module_version": "1.5.0",
            "_model_name": "ProgressStyleModel",
            "_view_count": null,
            "_view_module": "@jupyter-widgets/base",
            "_view_module_version": "1.2.0",
            "_view_name": "StyleView",
            "bar_color": null,
            "description_width": ""
          }
        },
        "ca43360af3ef49648c3c8de316aeb284": {
          "model_module": "@jupyter-widgets/controls",
          "model_name": "VBoxModel",
          "model_module_version": "1.5.0",
          "state": {
            "_dom_classes": [],
            "_model_module": "@jupyter-widgets/controls",
            "_model_module_version": "1.5.0",
            "_model_name": "VBoxModel",
            "_view_count": null,
            "_view_module": "@jupyter-widgets/controls",
            "_view_module_version": "1.5.0",
            "_view_name": "VBoxView",
            "box_style": "",
            "children": [
              "IPY_MODEL_7d6ff67a61db4816b82f5b1fbc1c6706",
              "IPY_MODEL_6418af8dfeed43789f5ceb11c3fcc3f6"
            ],
            "layout": "IPY_MODEL_407f424e24f941bb8306e59b598a6264"
          }
        },
        "7d6ff67a61db4816b82f5b1fbc1c6706": {
          "model_module": "@jupyter-widgets/controls",
          "model_name": "LabelModel",
          "model_module_version": "1.5.0",
          "state": {
            "_dom_classes": [],
            "_model_module": "@jupyter-widgets/controls",
            "_model_module_version": "1.5.0",
            "_model_name": "LabelModel",
            "_view_count": null,
            "_view_module": "@jupyter-widgets/controls",
            "_view_module_version": "1.5.0",
            "_view_name": "LabelView",
            "description": "",
            "description_tooltip": null,
            "layout": "IPY_MODEL_4cc188f008a54cb282f53ec001c7bc8a",
            "placeholder": "​",
            "style": "IPY_MODEL_e71a783129614bc4a5a40f2e609377cc",
            "value": "0.001 MB of 0.001 MB uploaded (0.000 MB deduped)\r"
          }
        },
        "6418af8dfeed43789f5ceb11c3fcc3f6": {
          "model_module": "@jupyter-widgets/controls",
          "model_name": "FloatProgressModel",
          "model_module_version": "1.5.0",
          "state": {
            "_dom_classes": [],
            "_model_module": "@jupyter-widgets/controls",
            "_model_module_version": "1.5.0",
            "_model_name": "FloatProgressModel",
            "_view_count": null,
            "_view_module": "@jupyter-widgets/controls",
            "_view_module_version": "1.5.0",
            "_view_name": "ProgressView",
            "bar_style": "",
            "description": "",
            "description_tooltip": null,
            "layout": "IPY_MODEL_581c7352d74448738f3ce34e8ba3525f",
            "max": 1,
            "min": 0,
            "orientation": "horizontal",
            "style": "IPY_MODEL_d4d71830a9d545bbbd5cc402e4cbb060",
            "value": 1
          }
        },
        "407f424e24f941bb8306e59b598a6264": {
          "model_module": "@jupyter-widgets/base",
          "model_name": "LayoutModel",
          "model_module_version": "1.2.0",
          "state": {
            "_model_module": "@jupyter-widgets/base",
            "_model_module_version": "1.2.0",
            "_model_name": "LayoutModel",
            "_view_count": null,
            "_view_module": "@jupyter-widgets/base",
            "_view_module_version": "1.2.0",
            "_view_name": "LayoutView",
            "align_content": null,
            "align_items": null,
            "align_self": null,
            "border": null,
            "bottom": null,
            "display": null,
            "flex": null,
            "flex_flow": null,
            "grid_area": null,
            "grid_auto_columns": null,
            "grid_auto_flow": null,
            "grid_auto_rows": null,
            "grid_column": null,
            "grid_gap": null,
            "grid_row": null,
            "grid_template_areas": null,
            "grid_template_columns": null,
            "grid_template_rows": null,
            "height": null,
            "justify_content": null,
            "justify_items": null,
            "left": null,
            "margin": null,
            "max_height": null,
            "max_width": null,
            "min_height": null,
            "min_width": null,
            "object_fit": null,
            "object_position": null,
            "order": null,
            "overflow": null,
            "overflow_x": null,
            "overflow_y": null,
            "padding": null,
            "right": null,
            "top": null,
            "visibility": null,
            "width": null
          }
        },
        "4cc188f008a54cb282f53ec001c7bc8a": {
          "model_module": "@jupyter-widgets/base",
          "model_name": "LayoutModel",
          "model_module_version": "1.2.0",
          "state": {
            "_model_module": "@jupyter-widgets/base",
            "_model_module_version": "1.2.0",
            "_model_name": "LayoutModel",
            "_view_count": null,
            "_view_module": "@jupyter-widgets/base",
            "_view_module_version": "1.2.0",
            "_view_name": "LayoutView",
            "align_content": null,
            "align_items": null,
            "align_self": null,
            "border": null,
            "bottom": null,
            "display": null,
            "flex": null,
            "flex_flow": null,
            "grid_area": null,
            "grid_auto_columns": null,
            "grid_auto_flow": null,
            "grid_auto_rows": null,
            "grid_column": null,
            "grid_gap": null,
            "grid_row": null,
            "grid_template_areas": null,
            "grid_template_columns": null,
            "grid_template_rows": null,
            "height": null,
            "justify_content": null,
            "justify_items": null,
            "left": null,
            "margin": null,
            "max_height": null,
            "max_width": null,
            "min_height": null,
            "min_width": null,
            "object_fit": null,
            "object_position": null,
            "order": null,
            "overflow": null,
            "overflow_x": null,
            "overflow_y": null,
            "padding": null,
            "right": null,
            "top": null,
            "visibility": null,
            "width": null
          }
        },
        "e71a783129614bc4a5a40f2e609377cc": {
          "model_module": "@jupyter-widgets/controls",
          "model_name": "DescriptionStyleModel",
          "model_module_version": "1.5.0",
          "state": {
            "_model_module": "@jupyter-widgets/controls",
            "_model_module_version": "1.5.0",
            "_model_name": "DescriptionStyleModel",
            "_view_count": null,
            "_view_module": "@jupyter-widgets/base",
            "_view_module_version": "1.2.0",
            "_view_name": "StyleView",
            "description_width": ""
          }
        },
        "581c7352d74448738f3ce34e8ba3525f": {
          "model_module": "@jupyter-widgets/base",
          "model_name": "LayoutModel",
          "model_module_version": "1.2.0",
          "state": {
            "_model_module": "@jupyter-widgets/base",
            "_model_module_version": "1.2.0",
            "_model_name": "LayoutModel",
            "_view_count": null,
            "_view_module": "@jupyter-widgets/base",
            "_view_module_version": "1.2.0",
            "_view_name": "LayoutView",
            "align_content": null,
            "align_items": null,
            "align_self": null,
            "border": null,
            "bottom": null,
            "display": null,
            "flex": null,
            "flex_flow": null,
            "grid_area": null,
            "grid_auto_columns": null,
            "grid_auto_flow": null,
            "grid_auto_rows": null,
            "grid_column": null,
            "grid_gap": null,
            "grid_row": null,
            "grid_template_areas": null,
            "grid_template_columns": null,
            "grid_template_rows": null,
            "height": null,
            "justify_content": null,
            "justify_items": null,
            "left": null,
            "margin": null,
            "max_height": null,
            "max_width": null,
            "min_height": null,
            "min_width": null,
            "object_fit": null,
            "object_position": null,
            "order": null,
            "overflow": null,
            "overflow_x": null,
            "overflow_y": null,
            "padding": null,
            "right": null,
            "top": null,
            "visibility": null,
            "width": null
          }
        },
        "d4d71830a9d545bbbd5cc402e4cbb060": {
          "model_module": "@jupyter-widgets/controls",
          "model_name": "ProgressStyleModel",
          "model_module_version": "1.5.0",
          "state": {
            "_model_module": "@jupyter-widgets/controls",
            "_model_module_version": "1.5.0",
            "_model_name": "ProgressStyleModel",
            "_view_count": null,
            "_view_module": "@jupyter-widgets/base",
            "_view_module_version": "1.2.0",
            "_view_name": "StyleView",
            "bar_color": null,
            "description_width": ""
          }
        }
      }
    }
  },
  "nbformat": 4,
  "nbformat_minor": 0
}