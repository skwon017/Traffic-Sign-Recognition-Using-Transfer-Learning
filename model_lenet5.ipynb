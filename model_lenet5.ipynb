{
  "cells": [
    {
      "cell_type": "markdown",
      "metadata": {
        "id": "nt1b-GRLOwR7"
      },
      "source": [
        "## **Prepare Dataset**"
      ]
    },
    {
      "cell_type": "markdown",
      "metadata": {
        "id": "EtUf1RuVxGbc"
      },
      "source": [
        "### Download Dataset"
      ]
    },
    {
      "cell_type": "code",
      "execution_count": 1,
      "metadata": {
        "id": "NTEwOiIfP3MS"
      },
      "outputs": [],
      "source": [
        "! pip install -q kaggle"
      ]
    },
    {
      "cell_type": "code",
      "execution_count": 2,
      "metadata": {
        "colab": {
          "base_uri": "https://localhost:8080/",
          "height": 86
        },
        "id": "QG4fc60D2huS",
        "outputId": "8af20956-a89b-41a9-f812-e82e34a2402c"
      },
      "outputs": [
        {
          "output_type": "display_data",
          "data": {
            "text/plain": [
              "<IPython.core.display.HTML object>"
            ],
            "text/html": [
              "\n",
              "     <input type=\"file\" id=\"files-5ed80019-f034-4ba9-9bf4-3aa7830cbdc1\" name=\"files[]\" multiple disabled\n",
              "        style=\"border:none\" />\n",
              "     <output id=\"result-5ed80019-f034-4ba9-9bf4-3aa7830cbdc1\">\n",
              "      Upload widget is only available when the cell has been executed in the\n",
              "      current browser session. Please rerun this cell to enable.\n",
              "      </output>\n",
              "      <script>// Copyright 2017 Google LLC\n",
              "//\n",
              "// Licensed under the Apache License, Version 2.0 (the \"License\");\n",
              "// you may not use this file except in compliance with the License.\n",
              "// You may obtain a copy of the License at\n",
              "//\n",
              "//      http://www.apache.org/licenses/LICENSE-2.0\n",
              "//\n",
              "// Unless required by applicable law or agreed to in writing, software\n",
              "// distributed under the License is distributed on an \"AS IS\" BASIS,\n",
              "// WITHOUT WARRANTIES OR CONDITIONS OF ANY KIND, either express or implied.\n",
              "// See the License for the specific language governing permissions and\n",
              "// limitations under the License.\n",
              "\n",
              "/**\n",
              " * @fileoverview Helpers for google.colab Python module.\n",
              " */\n",
              "(function(scope) {\n",
              "function span(text, styleAttributes = {}) {\n",
              "  const element = document.createElement('span');\n",
              "  element.textContent = text;\n",
              "  for (const key of Object.keys(styleAttributes)) {\n",
              "    element.style[key] = styleAttributes[key];\n",
              "  }\n",
              "  return element;\n",
              "}\n",
              "\n",
              "// Max number of bytes which will be uploaded at a time.\n",
              "const MAX_PAYLOAD_SIZE = 100 * 1024;\n",
              "\n",
              "function _uploadFiles(inputId, outputId) {\n",
              "  const steps = uploadFilesStep(inputId, outputId);\n",
              "  const outputElement = document.getElementById(outputId);\n",
              "  // Cache steps on the outputElement to make it available for the next call\n",
              "  // to uploadFilesContinue from Python.\n",
              "  outputElement.steps = steps;\n",
              "\n",
              "  return _uploadFilesContinue(outputId);\n",
              "}\n",
              "\n",
              "// This is roughly an async generator (not supported in the browser yet),\n",
              "// where there are multiple asynchronous steps and the Python side is going\n",
              "// to poll for completion of each step.\n",
              "// This uses a Promise to block the python side on completion of each step,\n",
              "// then passes the result of the previous step as the input to the next step.\n",
              "function _uploadFilesContinue(outputId) {\n",
              "  const outputElement = document.getElementById(outputId);\n",
              "  const steps = outputElement.steps;\n",
              "\n",
              "  const next = steps.next(outputElement.lastPromiseValue);\n",
              "  return Promise.resolve(next.value.promise).then((value) => {\n",
              "    // Cache the last promise value to make it available to the next\n",
              "    // step of the generator.\n",
              "    outputElement.lastPromiseValue = value;\n",
              "    return next.value.response;\n",
              "  });\n",
              "}\n",
              "\n",
              "/**\n",
              " * Generator function which is called between each async step of the upload\n",
              " * process.\n",
              " * @param {string} inputId Element ID of the input file picker element.\n",
              " * @param {string} outputId Element ID of the output display.\n",
              " * @return {!Iterable<!Object>} Iterable of next steps.\n",
              " */\n",
              "function* uploadFilesStep(inputId, outputId) {\n",
              "  const inputElement = document.getElementById(inputId);\n",
              "  inputElement.disabled = false;\n",
              "\n",
              "  const outputElement = document.getElementById(outputId);\n",
              "  outputElement.innerHTML = '';\n",
              "\n",
              "  const pickedPromise = new Promise((resolve) => {\n",
              "    inputElement.addEventListener('change', (e) => {\n",
              "      resolve(e.target.files);\n",
              "    });\n",
              "  });\n",
              "\n",
              "  const cancel = document.createElement('button');\n",
              "  inputElement.parentElement.appendChild(cancel);\n",
              "  cancel.textContent = 'Cancel upload';\n",
              "  const cancelPromise = new Promise((resolve) => {\n",
              "    cancel.onclick = () => {\n",
              "      resolve(null);\n",
              "    };\n",
              "  });\n",
              "\n",
              "  // Wait for the user to pick the files.\n",
              "  const files = yield {\n",
              "    promise: Promise.race([pickedPromise, cancelPromise]),\n",
              "    response: {\n",
              "      action: 'starting',\n",
              "    }\n",
              "  };\n",
              "\n",
              "  cancel.remove();\n",
              "\n",
              "  // Disable the input element since further picks are not allowed.\n",
              "  inputElement.disabled = true;\n",
              "\n",
              "  if (!files) {\n",
              "    return {\n",
              "      response: {\n",
              "        action: 'complete',\n",
              "      }\n",
              "    };\n",
              "  }\n",
              "\n",
              "  for (const file of files) {\n",
              "    const li = document.createElement('li');\n",
              "    li.append(span(file.name, {fontWeight: 'bold'}));\n",
              "    li.append(span(\n",
              "        `(${file.type || 'n/a'}) - ${file.size} bytes, ` +\n",
              "        `last modified: ${\n",
              "            file.lastModifiedDate ? file.lastModifiedDate.toLocaleDateString() :\n",
              "                                    'n/a'} - `));\n",
              "    const percent = span('0% done');\n",
              "    li.appendChild(percent);\n",
              "\n",
              "    outputElement.appendChild(li);\n",
              "\n",
              "    const fileDataPromise = new Promise((resolve) => {\n",
              "      const reader = new FileReader();\n",
              "      reader.onload = (e) => {\n",
              "        resolve(e.target.result);\n",
              "      };\n",
              "      reader.readAsArrayBuffer(file);\n",
              "    });\n",
              "    // Wait for the data to be ready.\n",
              "    let fileData = yield {\n",
              "      promise: fileDataPromise,\n",
              "      response: {\n",
              "        action: 'continue',\n",
              "      }\n",
              "    };\n",
              "\n",
              "    // Use a chunked sending to avoid message size limits. See b/62115660.\n",
              "    let position = 0;\n",
              "    do {\n",
              "      const length = Math.min(fileData.byteLength - position, MAX_PAYLOAD_SIZE);\n",
              "      const chunk = new Uint8Array(fileData, position, length);\n",
              "      position += length;\n",
              "\n",
              "      const base64 = btoa(String.fromCharCode.apply(null, chunk));\n",
              "      yield {\n",
              "        response: {\n",
              "          action: 'append',\n",
              "          file: file.name,\n",
              "          data: base64,\n",
              "        },\n",
              "      };\n",
              "\n",
              "      let percentDone = fileData.byteLength === 0 ?\n",
              "          100 :\n",
              "          Math.round((position / fileData.byteLength) * 100);\n",
              "      percent.textContent = `${percentDone}% done`;\n",
              "\n",
              "    } while (position < fileData.byteLength);\n",
              "  }\n",
              "\n",
              "  // All done.\n",
              "  yield {\n",
              "    response: {\n",
              "      action: 'complete',\n",
              "    }\n",
              "  };\n",
              "}\n",
              "\n",
              "scope.google = scope.google || {};\n",
              "scope.google.colab = scope.google.colab || {};\n",
              "scope.google.colab._files = {\n",
              "  _uploadFiles,\n",
              "  _uploadFilesContinue,\n",
              "};\n",
              "})(self);\n",
              "</script> "
            ]
          },
          "metadata": {}
        },
        {
          "output_type": "stream",
          "name": "stdout",
          "text": [
            "Saving kaggle.json to kaggle.json\n"
          ]
        },
        {
          "output_type": "execute_result",
          "data": {
            "text/plain": [
              "{'kaggle.json': b'{\"username\":\"s00hyun00\",\"key\":\"521460db8cc76b0d510d56c9bd51eb71\"}'}"
            ]
          },
          "metadata": {},
          "execution_count": 2
        }
      ],
      "source": [
        "from google.colab import files\n",
        "\n",
        "files.upload()"
      ]
    },
    {
      "cell_type": "code",
      "execution_count": 3,
      "metadata": {
        "id": "Ekx5emZ02hr0"
      },
      "outputs": [],
      "source": [
        "! mkdir ~/.kaggle\n",
        "\n",
        "! cp kaggle.json ~/.kaggle/"
      ]
    },
    {
      "cell_type": "code",
      "execution_count": 4,
      "metadata": {
        "id": "-hIqM1AM2hoy"
      },
      "outputs": [],
      "source": [
        "! chmod 600 ~/.kaggle/kaggle.json"
      ]
    },
    {
      "cell_type": "code",
      "execution_count": 5,
      "metadata": {
        "colab": {
          "base_uri": "https://localhost:8080/"
        },
        "id": "NwzdlPez2hlA",
        "outputId": "c113561d-6593-4380-9beb-39a63b54c7ff"
      },
      "outputs": [
        {
          "output_type": "stream",
          "name": "stdout",
          "text": [
            "ref                                                     title                                               size  lastUpdated          downloadCount  voteCount  usabilityRating  \n",
            "------------------------------------------------------  -------------------------------------------------  -----  -------------------  -------------  ---------  ---------------  \n",
            "uciml/german-credit                                     German Credit Risk                                  11KB  2016-12-14 21:25:02          41710        373  0.8235294        \n",
            "meowmeowmeowmeowmeow/gtsrb-german-traffic-sign          GTSRB - German Traffic Sign Recognition Benchmark  612MB  2018-11-25 18:12:34          83301        968  0.8235294        \n",
            "sterby/german-recipes-dataset                           German Recipes Dataset                               5MB  2019-03-06 16:25:22           4004         66  1.0              \n",
            "mpwolke/cusersmarildownloadsgermancsv                   Creditability - German Credit Data                  13KB  2021-03-12 19:01:40           1202         48  1.0              \n",
            "abhishek/10k-german-news-articles                       10k German News Articles                           123MB  2019-11-07 08:50:32            986        101  0.8235294        \n",
            "corrieaar/apartment-rental-offers-in-germany            Apartment rental offers in Germany                  93MB  2020-04-20 10:29:50           5562        117  1.0              \n",
            "headsortails/covid19-tracking-germany                   COVID-19 Tracking Germany                           14MB  2023-02-07 19:27:10           7783        196  0.7647059        \n",
            "ander289386/cars-germany                                Germany Cars Dataset                               498KB  2021-06-09 16:14:27           2878         37  1.0              \n",
            "kabure/german-credit-data-with-risk                     German Credit Risk - With Target                    11KB  2018-01-09 15:09:46          11759         87  0.5294118        \n",
            "dhruvildave/german-football-scores                      German Football Scores                               4MB  2020-11-28 18:50:09            395         19  1.0              \n",
            "jorgesandoval/wind-power-generation                     Wind Power Generation Data                         245KB  2021-01-07 18:45:08           4012        114  1.0              \n",
            "jenslaufer/german-election-2017                         German Federal Elections 2017                        7MB  2017-09-30 13:02:14            850         26  0.7058824        \n",
            "kaushal2896/english-to-german                           English To German                                    8MB  2020-11-14 08:13:57            403         10  0.625            \n",
            "rtatman/3-million-german-sentences                      3 Million German Sentences                         140MB  2017-08-16 00:03:59           1813         53  0.8235294        \n",
            "mreverybody/covid19-data-germany-robert-koch-institute  COVID19 data Germany / Deutschland (RKI)            32MB  2022-02-10 06:01:53            348         17  0.9411765        \n",
            "danilzyryanov/crime-in-berlin-2012-2019                 Crime in Berlin, Germany, 2012 - 2019               36KB  2020-04-24 16:54:37           1132         35  1.0              \n",
            "tblock/10kgnad                                          Ten Thousand German News Articles Dataset           20MB  2023-05-02 01:59:08            853         35  0.8235294        \n",
            "rtatman/german-sentiment-analysis-toolkit               German Sentiment Analysis Toolkit                   84KB  2017-08-15 22:54:27           1856         56  0.8125           \n",
            "marcelotc/german-credit-risk                            german_credit_risk_dataset                          13KB  2019-06-25 02:28:41            660          8  0.9411765        \n",
            "mvianna10/germany-electricity-power-for-20062017        Germany electricity power for 2006-2017             66KB  2019-08-10 18:59:19           1502         17  1.0              \n"
          ]
        }
      ],
      "source": [
        "! kaggle datasets list -s german"
      ]
    },
    {
      "cell_type": "code",
      "execution_count": 6,
      "metadata": {
        "colab": {
          "base_uri": "https://localhost:8080/"
        },
        "id": "Zj_JBisA2hbt",
        "outputId": "ca90360b-508e-4d55-a5a8-ff5367031356"
      },
      "outputs": [
        {
          "output_type": "stream",
          "name": "stdout",
          "text": [
            "Downloading gtsrb-german-traffic-sign.zip to /content\n",
            " 98% 598M/612M [00:04<00:00, 188MB/s]\n",
            "100% 612M/612M [00:04<00:00, 153MB/s]\n"
          ]
        }
      ],
      "source": [
        "! kaggle datasets download -d meowmeowmeowmeowmeow/gtsrb-german-traffic-sign"
      ]
    },
    {
      "cell_type": "code",
      "execution_count": 7,
      "metadata": {
        "colab": {
          "base_uri": "https://localhost:8080/"
        },
        "id": "t7OGrZSmMCa0",
        "outputId": "728cce27-8768-4cf1-f7e6-db9a508b6662"
      },
      "outputs": [
        {
          "output_type": "stream",
          "name": "stdout",
          "text": [
            "\u001b[1;30;43mStreaming output truncated to the last 5000 lines.\u001b[0m\n",
            "  inflating: train/5/00005_00053_00010.png  \n",
            "  inflating: train/5/00005_00053_00011.png  \n",
            "  inflating: train/5/00005_00053_00012.png  \n",
            "  inflating: train/5/00005_00053_00013.png  \n",
            "  inflating: train/5/00005_00053_00014.png  \n",
            "  inflating: train/5/00005_00053_00015.png  \n",
            "  inflating: train/5/00005_00053_00016.png  \n",
            "  inflating: train/5/00005_00053_00017.png  \n",
            "  inflating: train/5/00005_00053_00018.png  \n",
            "  inflating: train/5/00005_00053_00019.png  \n",
            "  inflating: train/5/00005_00053_00020.png  \n",
            "  inflating: train/5/00005_00053_00021.png  \n",
            "  inflating: train/5/00005_00053_00022.png  \n",
            "  inflating: train/5/00005_00053_00023.png  \n",
            "  inflating: train/5/00005_00053_00024.png  \n",
            "  inflating: train/5/00005_00053_00025.png  \n",
            "  inflating: train/5/00005_00053_00026.png  \n",
            "  inflating: train/5/00005_00053_00027.png  \n",
            "  inflating: train/5/00005_00053_00028.png  \n",
            "  inflating: train/5/00005_00053_00029.png  \n",
            "  inflating: train/5/00005_00054_00000.png  \n",
            "  inflating: train/5/00005_00054_00001.png  \n",
            "  inflating: train/5/00005_00054_00002.png  \n",
            "  inflating: train/5/00005_00054_00003.png  \n",
            "  inflating: train/5/00005_00054_00004.png  \n",
            "  inflating: train/5/00005_00054_00005.png  \n",
            "  inflating: train/5/00005_00054_00006.png  \n",
            "  inflating: train/5/00005_00054_00007.png  \n",
            "  inflating: train/5/00005_00054_00008.png  \n",
            "  inflating: train/5/00005_00054_00009.png  \n",
            "  inflating: train/5/00005_00054_00010.png  \n",
            "  inflating: train/5/00005_00054_00011.png  \n",
            "  inflating: train/5/00005_00054_00012.png  \n",
            "  inflating: train/5/00005_00054_00013.png  \n",
            "  inflating: train/5/00005_00054_00014.png  \n",
            "  inflating: train/5/00005_00054_00015.png  \n",
            "  inflating: train/5/00005_00054_00016.png  \n",
            "  inflating: train/5/00005_00054_00017.png  \n",
            "  inflating: train/5/00005_00054_00018.png  \n",
            "  inflating: train/5/00005_00054_00019.png  \n",
            "  inflating: train/5/00005_00054_00020.png  \n",
            "  inflating: train/5/00005_00054_00021.png  \n",
            "  inflating: train/5/00005_00054_00022.png  \n",
            "  inflating: train/5/00005_00054_00023.png  \n",
            "  inflating: train/5/00005_00054_00024.png  \n",
            "  inflating: train/5/00005_00054_00025.png  \n",
            "  inflating: train/5/00005_00054_00026.png  \n",
            "  inflating: train/5/00005_00054_00027.png  \n",
            "  inflating: train/5/00005_00054_00028.png  \n",
            "  inflating: train/5/00005_00054_00029.png  \n",
            "  inflating: train/5/00005_00055_00000.png  \n",
            "  inflating: train/5/00005_00055_00001.png  \n",
            "  inflating: train/5/00005_00055_00002.png  \n",
            "  inflating: train/5/00005_00055_00003.png  \n",
            "  inflating: train/5/00005_00055_00004.png  \n",
            "  inflating: train/5/00005_00055_00005.png  \n",
            "  inflating: train/5/00005_00055_00006.png  \n",
            "  inflating: train/5/00005_00055_00007.png  \n",
            "  inflating: train/5/00005_00055_00008.png  \n",
            "  inflating: train/5/00005_00055_00009.png  \n",
            "  inflating: train/5/00005_00055_00010.png  \n",
            "  inflating: train/5/00005_00055_00011.png  \n",
            "  inflating: train/5/00005_00055_00012.png  \n",
            "  inflating: train/5/00005_00055_00013.png  \n",
            "  inflating: train/5/00005_00055_00014.png  \n",
            "  inflating: train/5/00005_00055_00015.png  \n",
            "  inflating: train/5/00005_00055_00016.png  \n",
            "  inflating: train/5/00005_00055_00017.png  \n",
            "  inflating: train/5/00005_00055_00018.png  \n",
            "  inflating: train/5/00005_00055_00019.png  \n",
            "  inflating: train/5/00005_00055_00020.png  \n",
            "  inflating: train/5/00005_00055_00021.png  \n",
            "  inflating: train/5/00005_00055_00022.png  \n",
            "  inflating: train/5/00005_00055_00023.png  \n",
            "  inflating: train/5/00005_00055_00024.png  \n",
            "  inflating: train/5/00005_00055_00025.png  \n",
            "  inflating: train/5/00005_00055_00026.png  \n",
            "  inflating: train/5/00005_00055_00027.png  \n",
            "  inflating: train/5/00005_00055_00028.png  \n",
            "  inflating: train/5/00005_00055_00029.png  \n",
            "  inflating: train/5/00005_00056_00000.png  \n",
            "  inflating: train/5/00005_00056_00001.png  \n",
            "  inflating: train/5/00005_00056_00002.png  \n",
            "  inflating: train/5/00005_00056_00003.png  \n",
            "  inflating: train/5/00005_00056_00004.png  \n",
            "  inflating: train/5/00005_00056_00005.png  \n",
            "  inflating: train/5/00005_00056_00006.png  \n",
            "  inflating: train/5/00005_00056_00007.png  \n",
            "  inflating: train/5/00005_00056_00008.png  \n",
            "  inflating: train/5/00005_00056_00009.png  \n",
            "  inflating: train/5/00005_00056_00010.png  \n",
            "  inflating: train/5/00005_00056_00011.png  \n",
            "  inflating: train/5/00005_00056_00012.png  \n",
            "  inflating: train/5/00005_00056_00013.png  \n",
            "  inflating: train/5/00005_00056_00014.png  \n",
            "  inflating: train/5/00005_00056_00015.png  \n",
            "  inflating: train/5/00005_00056_00016.png  \n",
            "  inflating: train/5/00005_00056_00017.png  \n",
            "  inflating: train/5/00005_00056_00018.png  \n",
            "  inflating: train/5/00005_00056_00019.png  \n",
            "  inflating: train/5/00005_00056_00020.png  \n",
            "  inflating: train/5/00005_00056_00021.png  \n",
            "  inflating: train/5/00005_00056_00022.png  \n",
            "  inflating: train/5/00005_00056_00023.png  \n",
            "  inflating: train/5/00005_00056_00024.png  \n",
            "  inflating: train/5/00005_00056_00025.png  \n",
            "  inflating: train/5/00005_00056_00026.png  \n",
            "  inflating: train/5/00005_00056_00027.png  \n",
            "  inflating: train/5/00005_00056_00028.png  \n",
            "  inflating: train/5/00005_00056_00029.png  \n",
            "  inflating: train/5/00005_00057_00000.png  \n",
            "  inflating: train/5/00005_00057_00001.png  \n",
            "  inflating: train/5/00005_00057_00002.png  \n",
            "  inflating: train/5/00005_00057_00003.png  \n",
            "  inflating: train/5/00005_00057_00004.png  \n",
            "  inflating: train/5/00005_00057_00005.png  \n",
            "  inflating: train/5/00005_00057_00006.png  \n",
            "  inflating: train/5/00005_00057_00007.png  \n",
            "  inflating: train/5/00005_00057_00008.png  \n",
            "  inflating: train/5/00005_00057_00009.png  \n",
            "  inflating: train/5/00005_00057_00010.png  \n",
            "  inflating: train/5/00005_00057_00011.png  \n",
            "  inflating: train/5/00005_00057_00012.png  \n",
            "  inflating: train/5/00005_00057_00013.png  \n",
            "  inflating: train/5/00005_00057_00014.png  \n",
            "  inflating: train/5/00005_00057_00015.png  \n",
            "  inflating: train/5/00005_00057_00016.png  \n",
            "  inflating: train/5/00005_00057_00017.png  \n",
            "  inflating: train/5/00005_00057_00018.png  \n",
            "  inflating: train/5/00005_00057_00019.png  \n",
            "  inflating: train/5/00005_00057_00020.png  \n",
            "  inflating: train/5/00005_00057_00021.png  \n",
            "  inflating: train/5/00005_00057_00022.png  \n",
            "  inflating: train/5/00005_00057_00023.png  \n",
            "  inflating: train/5/00005_00057_00024.png  \n",
            "  inflating: train/5/00005_00057_00025.png  \n",
            "  inflating: train/5/00005_00057_00026.png  \n",
            "  inflating: train/5/00005_00057_00027.png  \n",
            "  inflating: train/5/00005_00057_00028.png  \n",
            "  inflating: train/5/00005_00057_00029.png  \n",
            "  inflating: train/5/00005_00058_00000.png  \n",
            "  inflating: train/5/00005_00058_00001.png  \n",
            "  inflating: train/5/00005_00058_00002.png  \n",
            "  inflating: train/5/00005_00058_00003.png  \n",
            "  inflating: train/5/00005_00058_00004.png  \n",
            "  inflating: train/5/00005_00058_00005.png  \n",
            "  inflating: train/5/00005_00058_00006.png  \n",
            "  inflating: train/5/00005_00058_00007.png  \n",
            "  inflating: train/5/00005_00058_00008.png  \n",
            "  inflating: train/5/00005_00058_00009.png  \n",
            "  inflating: train/5/00005_00058_00010.png  \n",
            "  inflating: train/5/00005_00058_00011.png  \n",
            "  inflating: train/5/00005_00058_00012.png  \n",
            "  inflating: train/5/00005_00058_00013.png  \n",
            "  inflating: train/5/00005_00058_00014.png  \n",
            "  inflating: train/5/00005_00058_00015.png  \n",
            "  inflating: train/5/00005_00058_00016.png  \n",
            "  inflating: train/5/00005_00058_00017.png  \n",
            "  inflating: train/5/00005_00058_00018.png  \n",
            "  inflating: train/5/00005_00058_00019.png  \n",
            "  inflating: train/5/00005_00058_00020.png  \n",
            "  inflating: train/5/00005_00058_00021.png  \n",
            "  inflating: train/5/00005_00058_00022.png  \n",
            "  inflating: train/5/00005_00058_00023.png  \n",
            "  inflating: train/5/00005_00058_00024.png  \n",
            "  inflating: train/5/00005_00058_00025.png  \n",
            "  inflating: train/5/00005_00058_00026.png  \n",
            "  inflating: train/5/00005_00058_00027.png  \n",
            "  inflating: train/5/00005_00058_00028.png  \n",
            "  inflating: train/5/00005_00058_00029.png  \n",
            "  inflating: train/5/00005_00059_00000.png  \n",
            "  inflating: train/5/00005_00059_00001.png  \n",
            "  inflating: train/5/00005_00059_00002.png  \n",
            "  inflating: train/5/00005_00059_00003.png  \n",
            "  inflating: train/5/00005_00059_00004.png  \n",
            "  inflating: train/5/00005_00059_00005.png  \n",
            "  inflating: train/5/00005_00059_00006.png  \n",
            "  inflating: train/5/00005_00059_00007.png  \n",
            "  inflating: train/5/00005_00059_00008.png  \n",
            "  inflating: train/5/00005_00059_00009.png  \n",
            "  inflating: train/5/00005_00059_00010.png  \n",
            "  inflating: train/5/00005_00059_00011.png  \n",
            "  inflating: train/5/00005_00059_00012.png  \n",
            "  inflating: train/5/00005_00059_00013.png  \n",
            "  inflating: train/5/00005_00059_00014.png  \n",
            "  inflating: train/5/00005_00059_00015.png  \n",
            "  inflating: train/5/00005_00059_00016.png  \n",
            "  inflating: train/5/00005_00059_00017.png  \n",
            "  inflating: train/5/00005_00059_00018.png  \n",
            "  inflating: train/5/00005_00059_00019.png  \n",
            "  inflating: train/5/00005_00059_00020.png  \n",
            "  inflating: train/5/00005_00059_00021.png  \n",
            "  inflating: train/5/00005_00059_00022.png  \n",
            "  inflating: train/5/00005_00059_00023.png  \n",
            "  inflating: train/5/00005_00059_00024.png  \n",
            "  inflating: train/5/00005_00059_00025.png  \n",
            "  inflating: train/5/00005_00059_00026.png  \n",
            "  inflating: train/5/00005_00059_00027.png  \n",
            "  inflating: train/5/00005_00059_00028.png  \n",
            "  inflating: train/5/00005_00059_00029.png  \n",
            "  inflating: train/5/00005_00060_00000.png  \n",
            "  inflating: train/5/00005_00060_00001.png  \n",
            "  inflating: train/5/00005_00060_00002.png  \n",
            "  inflating: train/5/00005_00060_00003.png  \n",
            "  inflating: train/5/00005_00060_00004.png  \n",
            "  inflating: train/5/00005_00060_00005.png  \n",
            "  inflating: train/5/00005_00060_00006.png  \n",
            "  inflating: train/5/00005_00060_00007.png  \n",
            "  inflating: train/5/00005_00060_00008.png  \n",
            "  inflating: train/5/00005_00060_00009.png  \n",
            "  inflating: train/5/00005_00060_00010.png  \n",
            "  inflating: train/5/00005_00060_00011.png  \n",
            "  inflating: train/5/00005_00060_00012.png  \n",
            "  inflating: train/5/00005_00060_00013.png  \n",
            "  inflating: train/5/00005_00060_00014.png  \n",
            "  inflating: train/5/00005_00060_00015.png  \n",
            "  inflating: train/5/00005_00060_00016.png  \n",
            "  inflating: train/5/00005_00060_00017.png  \n",
            "  inflating: train/5/00005_00060_00018.png  \n",
            "  inflating: train/5/00005_00060_00019.png  \n",
            "  inflating: train/5/00005_00060_00020.png  \n",
            "  inflating: train/5/00005_00060_00021.png  \n",
            "  inflating: train/5/00005_00060_00022.png  \n",
            "  inflating: train/5/00005_00060_00023.png  \n",
            "  inflating: train/5/00005_00060_00024.png  \n",
            "  inflating: train/5/00005_00060_00025.png  \n",
            "  inflating: train/5/00005_00060_00026.png  \n",
            "  inflating: train/5/00005_00060_00027.png  \n",
            "  inflating: train/5/00005_00060_00028.png  \n",
            "  inflating: train/5/00005_00060_00029.png  \n",
            "  inflating: train/5/00005_00061_00000.png  \n",
            "  inflating: train/5/00005_00061_00001.png  \n",
            "  inflating: train/5/00005_00061_00002.png  \n",
            "  inflating: train/5/00005_00061_00003.png  \n",
            "  inflating: train/5/00005_00061_00004.png  \n",
            "  inflating: train/5/00005_00061_00005.png  \n",
            "  inflating: train/5/00005_00061_00006.png  \n",
            "  inflating: train/5/00005_00061_00007.png  \n",
            "  inflating: train/5/00005_00061_00008.png  \n",
            "  inflating: train/5/00005_00061_00009.png  \n",
            "  inflating: train/5/00005_00061_00010.png  \n",
            "  inflating: train/5/00005_00061_00011.png  \n",
            "  inflating: train/5/00005_00061_00012.png  \n",
            "  inflating: train/5/00005_00061_00013.png  \n",
            "  inflating: train/5/00005_00061_00014.png  \n",
            "  inflating: train/5/00005_00061_00015.png  \n",
            "  inflating: train/5/00005_00061_00016.png  \n",
            "  inflating: train/5/00005_00061_00017.png  \n",
            "  inflating: train/5/00005_00061_00018.png  \n",
            "  inflating: train/5/00005_00061_00019.png  \n",
            "  inflating: train/5/00005_00061_00020.png  \n",
            "  inflating: train/5/00005_00061_00021.png  \n",
            "  inflating: train/5/00005_00061_00022.png  \n",
            "  inflating: train/5/00005_00061_00023.png  \n",
            "  inflating: train/5/00005_00061_00024.png  \n",
            "  inflating: train/5/00005_00061_00025.png  \n",
            "  inflating: train/5/00005_00061_00026.png  \n",
            "  inflating: train/5/00005_00061_00027.png  \n",
            "  inflating: train/5/00005_00061_00028.png  \n",
            "  inflating: train/5/00005_00061_00029.png  \n",
            "  inflating: train/6/00006_00000_00000.png  \n",
            "  inflating: train/6/00006_00000_00001.png  \n",
            "  inflating: train/6/00006_00000_00002.png  \n",
            "  inflating: train/6/00006_00000_00003.png  \n",
            "  inflating: train/6/00006_00000_00004.png  \n",
            "  inflating: train/6/00006_00000_00005.png  \n",
            "  inflating: train/6/00006_00000_00006.png  \n",
            "  inflating: train/6/00006_00000_00007.png  \n",
            "  inflating: train/6/00006_00000_00008.png  \n",
            "  inflating: train/6/00006_00000_00009.png  \n",
            "  inflating: train/6/00006_00000_00010.png  \n",
            "  inflating: train/6/00006_00000_00011.png  \n",
            "  inflating: train/6/00006_00000_00012.png  \n",
            "  inflating: train/6/00006_00000_00013.png  \n",
            "  inflating: train/6/00006_00000_00014.png  \n",
            "  inflating: train/6/00006_00000_00015.png  \n",
            "  inflating: train/6/00006_00000_00016.png  \n",
            "  inflating: train/6/00006_00000_00017.png  \n",
            "  inflating: train/6/00006_00000_00018.png  \n",
            "  inflating: train/6/00006_00000_00019.png  \n",
            "  inflating: train/6/00006_00000_00020.png  \n",
            "  inflating: train/6/00006_00000_00021.png  \n",
            "  inflating: train/6/00006_00000_00022.png  \n",
            "  inflating: train/6/00006_00000_00023.png  \n",
            "  inflating: train/6/00006_00000_00024.png  \n",
            "  inflating: train/6/00006_00000_00025.png  \n",
            "  inflating: train/6/00006_00000_00026.png  \n",
            "  inflating: train/6/00006_00000_00027.png  \n",
            "  inflating: train/6/00006_00000_00028.png  \n",
            "  inflating: train/6/00006_00000_00029.png  \n",
            "  inflating: train/6/00006_00001_00000.png  \n",
            "  inflating: train/6/00006_00001_00001.png  \n",
            "  inflating: train/6/00006_00001_00002.png  \n",
            "  inflating: train/6/00006_00001_00003.png  \n",
            "  inflating: train/6/00006_00001_00004.png  \n",
            "  inflating: train/6/00006_00001_00005.png  \n",
            "  inflating: train/6/00006_00001_00006.png  \n",
            "  inflating: train/6/00006_00001_00007.png  \n",
            "  inflating: train/6/00006_00001_00008.png  \n",
            "  inflating: train/6/00006_00001_00009.png  \n",
            "  inflating: train/6/00006_00001_00010.png  \n",
            "  inflating: train/6/00006_00001_00011.png  \n",
            "  inflating: train/6/00006_00001_00012.png  \n",
            "  inflating: train/6/00006_00001_00013.png  \n",
            "  inflating: train/6/00006_00001_00014.png  \n",
            "  inflating: train/6/00006_00001_00015.png  \n",
            "  inflating: train/6/00006_00001_00016.png  \n",
            "  inflating: train/6/00006_00001_00017.png  \n",
            "  inflating: train/6/00006_00001_00018.png  \n",
            "  inflating: train/6/00006_00001_00019.png  \n",
            "  inflating: train/6/00006_00001_00020.png  \n",
            "  inflating: train/6/00006_00001_00021.png  \n",
            "  inflating: train/6/00006_00001_00022.png  \n",
            "  inflating: train/6/00006_00001_00023.png  \n",
            "  inflating: train/6/00006_00001_00024.png  \n",
            "  inflating: train/6/00006_00001_00025.png  \n",
            "  inflating: train/6/00006_00001_00026.png  \n",
            "  inflating: train/6/00006_00001_00027.png  \n",
            "  inflating: train/6/00006_00001_00028.png  \n",
            "  inflating: train/6/00006_00001_00029.png  \n",
            "  inflating: train/6/00006_00002_00000.png  \n",
            "  inflating: train/6/00006_00002_00001.png  \n",
            "  inflating: train/6/00006_00002_00002.png  \n",
            "  inflating: train/6/00006_00002_00003.png  \n",
            "  inflating: train/6/00006_00002_00004.png  \n",
            "  inflating: train/6/00006_00002_00005.png  \n",
            "  inflating: train/6/00006_00002_00006.png  \n",
            "  inflating: train/6/00006_00002_00007.png  \n",
            "  inflating: train/6/00006_00002_00008.png  \n",
            "  inflating: train/6/00006_00002_00009.png  \n",
            "  inflating: train/6/00006_00002_00010.png  \n",
            "  inflating: train/6/00006_00002_00011.png  \n",
            "  inflating: train/6/00006_00002_00012.png  \n",
            "  inflating: train/6/00006_00002_00013.png  \n",
            "  inflating: train/6/00006_00002_00014.png  \n",
            "  inflating: train/6/00006_00002_00015.png  \n",
            "  inflating: train/6/00006_00002_00016.png  \n",
            "  inflating: train/6/00006_00002_00017.png  \n",
            "  inflating: train/6/00006_00002_00018.png  \n",
            "  inflating: train/6/00006_00002_00019.png  \n",
            "  inflating: train/6/00006_00002_00020.png  \n",
            "  inflating: train/6/00006_00002_00021.png  \n",
            "  inflating: train/6/00006_00002_00022.png  \n",
            "  inflating: train/6/00006_00002_00023.png  \n",
            "  inflating: train/6/00006_00002_00024.png  \n",
            "  inflating: train/6/00006_00002_00025.png  \n",
            "  inflating: train/6/00006_00002_00026.png  \n",
            "  inflating: train/6/00006_00002_00027.png  \n",
            "  inflating: train/6/00006_00002_00028.png  \n",
            "  inflating: train/6/00006_00002_00029.png  \n",
            "  inflating: train/6/00006_00003_00000.png  \n",
            "  inflating: train/6/00006_00003_00001.png  \n",
            "  inflating: train/6/00006_00003_00002.png  \n",
            "  inflating: train/6/00006_00003_00003.png  \n",
            "  inflating: train/6/00006_00003_00004.png  \n",
            "  inflating: train/6/00006_00003_00005.png  \n",
            "  inflating: train/6/00006_00003_00006.png  \n",
            "  inflating: train/6/00006_00003_00007.png  \n",
            "  inflating: train/6/00006_00003_00008.png  \n",
            "  inflating: train/6/00006_00003_00009.png  \n",
            "  inflating: train/6/00006_00003_00010.png  \n",
            "  inflating: train/6/00006_00003_00011.png  \n",
            "  inflating: train/6/00006_00003_00012.png  \n",
            "  inflating: train/6/00006_00003_00013.png  \n",
            "  inflating: train/6/00006_00003_00014.png  \n",
            "  inflating: train/6/00006_00003_00015.png  \n",
            "  inflating: train/6/00006_00003_00016.png  \n",
            "  inflating: train/6/00006_00003_00017.png  \n",
            "  inflating: train/6/00006_00003_00018.png  \n",
            "  inflating: train/6/00006_00003_00019.png  \n",
            "  inflating: train/6/00006_00003_00020.png  \n",
            "  inflating: train/6/00006_00003_00021.png  \n",
            "  inflating: train/6/00006_00003_00022.png  \n",
            "  inflating: train/6/00006_00003_00023.png  \n",
            "  inflating: train/6/00006_00003_00024.png  \n",
            "  inflating: train/6/00006_00003_00025.png  \n",
            "  inflating: train/6/00006_00003_00026.png  \n",
            "  inflating: train/6/00006_00003_00027.png  \n",
            "  inflating: train/6/00006_00003_00028.png  \n",
            "  inflating: train/6/00006_00003_00029.png  \n",
            "  inflating: train/6/00006_00004_00000.png  \n",
            "  inflating: train/6/00006_00004_00001.png  \n",
            "  inflating: train/6/00006_00004_00002.png  \n",
            "  inflating: train/6/00006_00004_00003.png  \n",
            "  inflating: train/6/00006_00004_00004.png  \n",
            "  inflating: train/6/00006_00004_00005.png  \n",
            "  inflating: train/6/00006_00004_00006.png  \n",
            "  inflating: train/6/00006_00004_00007.png  \n",
            "  inflating: train/6/00006_00004_00008.png  \n",
            "  inflating: train/6/00006_00004_00009.png  \n",
            "  inflating: train/6/00006_00004_00010.png  \n",
            "  inflating: train/6/00006_00004_00011.png  \n",
            "  inflating: train/6/00006_00004_00012.png  \n",
            "  inflating: train/6/00006_00004_00013.png  \n",
            "  inflating: train/6/00006_00004_00014.png  \n",
            "  inflating: train/6/00006_00004_00015.png  \n",
            "  inflating: train/6/00006_00004_00016.png  \n",
            "  inflating: train/6/00006_00004_00017.png  \n",
            "  inflating: train/6/00006_00004_00018.png  \n",
            "  inflating: train/6/00006_00004_00019.png  \n",
            "  inflating: train/6/00006_00004_00020.png  \n",
            "  inflating: train/6/00006_00004_00021.png  \n",
            "  inflating: train/6/00006_00004_00022.png  \n",
            "  inflating: train/6/00006_00004_00023.png  \n",
            "  inflating: train/6/00006_00004_00024.png  \n",
            "  inflating: train/6/00006_00004_00025.png  \n",
            "  inflating: train/6/00006_00004_00026.png  \n",
            "  inflating: train/6/00006_00004_00027.png  \n",
            "  inflating: train/6/00006_00004_00028.png  \n",
            "  inflating: train/6/00006_00004_00029.png  \n",
            "  inflating: train/6/00006_00005_00000.png  \n",
            "  inflating: train/6/00006_00005_00001.png  \n",
            "  inflating: train/6/00006_00005_00002.png  \n",
            "  inflating: train/6/00006_00005_00003.png  \n",
            "  inflating: train/6/00006_00005_00004.png  \n",
            "  inflating: train/6/00006_00005_00005.png  \n",
            "  inflating: train/6/00006_00005_00006.png  \n",
            "  inflating: train/6/00006_00005_00007.png  \n",
            "  inflating: train/6/00006_00005_00008.png  \n",
            "  inflating: train/6/00006_00005_00009.png  \n",
            "  inflating: train/6/00006_00005_00010.png  \n",
            "  inflating: train/6/00006_00005_00011.png  \n",
            "  inflating: train/6/00006_00005_00012.png  \n",
            "  inflating: train/6/00006_00005_00013.png  \n",
            "  inflating: train/6/00006_00005_00014.png  \n",
            "  inflating: train/6/00006_00005_00015.png  \n",
            "  inflating: train/6/00006_00005_00016.png  \n",
            "  inflating: train/6/00006_00005_00017.png  \n",
            "  inflating: train/6/00006_00005_00018.png  \n",
            "  inflating: train/6/00006_00005_00019.png  \n",
            "  inflating: train/6/00006_00005_00020.png  \n",
            "  inflating: train/6/00006_00005_00021.png  \n",
            "  inflating: train/6/00006_00005_00022.png  \n",
            "  inflating: train/6/00006_00005_00023.png  \n",
            "  inflating: train/6/00006_00005_00024.png  \n",
            "  inflating: train/6/00006_00005_00025.png  \n",
            "  inflating: train/6/00006_00005_00026.png  \n",
            "  inflating: train/6/00006_00005_00027.png  \n",
            "  inflating: train/6/00006_00005_00028.png  \n",
            "  inflating: train/6/00006_00005_00029.png  \n",
            "  inflating: train/6/00006_00006_00000.png  \n",
            "  inflating: train/6/00006_00006_00001.png  \n",
            "  inflating: train/6/00006_00006_00002.png  \n",
            "  inflating: train/6/00006_00006_00003.png  \n",
            "  inflating: train/6/00006_00006_00004.png  \n",
            "  inflating: train/6/00006_00006_00005.png  \n",
            "  inflating: train/6/00006_00006_00006.png  \n",
            "  inflating: train/6/00006_00006_00007.png  \n",
            "  inflating: train/6/00006_00006_00008.png  \n",
            "  inflating: train/6/00006_00006_00009.png  \n",
            "  inflating: train/6/00006_00006_00010.png  \n",
            "  inflating: train/6/00006_00006_00011.png  \n",
            "  inflating: train/6/00006_00006_00012.png  \n",
            "  inflating: train/6/00006_00006_00013.png  \n",
            "  inflating: train/6/00006_00006_00014.png  \n",
            "  inflating: train/6/00006_00006_00015.png  \n",
            "  inflating: train/6/00006_00006_00016.png  \n",
            "  inflating: train/6/00006_00006_00017.png  \n",
            "  inflating: train/6/00006_00006_00018.png  \n",
            "  inflating: train/6/00006_00006_00019.png  \n",
            "  inflating: train/6/00006_00006_00020.png  \n",
            "  inflating: train/6/00006_00006_00021.png  \n",
            "  inflating: train/6/00006_00006_00022.png  \n",
            "  inflating: train/6/00006_00006_00023.png  \n",
            "  inflating: train/6/00006_00006_00024.png  \n",
            "  inflating: train/6/00006_00006_00025.png  \n",
            "  inflating: train/6/00006_00006_00026.png  \n",
            "  inflating: train/6/00006_00006_00027.png  \n",
            "  inflating: train/6/00006_00006_00028.png  \n",
            "  inflating: train/6/00006_00006_00029.png  \n",
            "  inflating: train/6/00006_00007_00000.png  \n",
            "  inflating: train/6/00006_00007_00001.png  \n",
            "  inflating: train/6/00006_00007_00002.png  \n",
            "  inflating: train/6/00006_00007_00003.png  \n",
            "  inflating: train/6/00006_00007_00004.png  \n",
            "  inflating: train/6/00006_00007_00005.png  \n",
            "  inflating: train/6/00006_00007_00006.png  \n",
            "  inflating: train/6/00006_00007_00007.png  \n",
            "  inflating: train/6/00006_00007_00008.png  \n",
            "  inflating: train/6/00006_00007_00009.png  \n",
            "  inflating: train/6/00006_00007_00010.png  \n",
            "  inflating: train/6/00006_00007_00011.png  \n",
            "  inflating: train/6/00006_00007_00012.png  \n",
            "  inflating: train/6/00006_00007_00013.png  \n",
            "  inflating: train/6/00006_00007_00014.png  \n",
            "  inflating: train/6/00006_00007_00015.png  \n",
            "  inflating: train/6/00006_00007_00016.png  \n",
            "  inflating: train/6/00006_00007_00017.png  \n",
            "  inflating: train/6/00006_00007_00018.png  \n",
            "  inflating: train/6/00006_00007_00019.png  \n",
            "  inflating: train/6/00006_00007_00020.png  \n",
            "  inflating: train/6/00006_00007_00021.png  \n",
            "  inflating: train/6/00006_00007_00022.png  \n",
            "  inflating: train/6/00006_00007_00023.png  \n",
            "  inflating: train/6/00006_00007_00024.png  \n",
            "  inflating: train/6/00006_00007_00025.png  \n",
            "  inflating: train/6/00006_00007_00026.png  \n",
            "  inflating: train/6/00006_00007_00027.png  \n",
            "  inflating: train/6/00006_00007_00028.png  \n",
            "  inflating: train/6/00006_00007_00029.png  \n",
            "  inflating: train/6/00006_00008_00000.png  \n",
            "  inflating: train/6/00006_00008_00001.png  \n",
            "  inflating: train/6/00006_00008_00002.png  \n",
            "  inflating: train/6/00006_00008_00003.png  \n",
            "  inflating: train/6/00006_00008_00004.png  \n",
            "  inflating: train/6/00006_00008_00005.png  \n",
            "  inflating: train/6/00006_00008_00006.png  \n",
            "  inflating: train/6/00006_00008_00007.png  \n",
            "  inflating: train/6/00006_00008_00008.png  \n",
            "  inflating: train/6/00006_00008_00009.png  \n",
            "  inflating: train/6/00006_00008_00010.png  \n",
            "  inflating: train/6/00006_00008_00011.png  \n",
            "  inflating: train/6/00006_00008_00012.png  \n",
            "  inflating: train/6/00006_00008_00013.png  \n",
            "  inflating: train/6/00006_00008_00014.png  \n",
            "  inflating: train/6/00006_00008_00015.png  \n",
            "  inflating: train/6/00006_00008_00016.png  \n",
            "  inflating: train/6/00006_00008_00017.png  \n",
            "  inflating: train/6/00006_00008_00018.png  \n",
            "  inflating: train/6/00006_00008_00019.png  \n",
            "  inflating: train/6/00006_00008_00020.png  \n",
            "  inflating: train/6/00006_00008_00021.png  \n",
            "  inflating: train/6/00006_00008_00022.png  \n",
            "  inflating: train/6/00006_00008_00023.png  \n",
            "  inflating: train/6/00006_00008_00024.png  \n",
            "  inflating: train/6/00006_00008_00025.png  \n",
            "  inflating: train/6/00006_00008_00026.png  \n",
            "  inflating: train/6/00006_00008_00027.png  \n",
            "  inflating: train/6/00006_00008_00028.png  \n",
            "  inflating: train/6/00006_00008_00029.png  \n",
            "  inflating: train/6/00006_00009_00000.png  \n",
            "  inflating: train/6/00006_00009_00001.png  \n",
            "  inflating: train/6/00006_00009_00002.png  \n",
            "  inflating: train/6/00006_00009_00003.png  \n",
            "  inflating: train/6/00006_00009_00004.png  \n",
            "  inflating: train/6/00006_00009_00005.png  \n",
            "  inflating: train/6/00006_00009_00006.png  \n",
            "  inflating: train/6/00006_00009_00007.png  \n",
            "  inflating: train/6/00006_00009_00008.png  \n",
            "  inflating: train/6/00006_00009_00009.png  \n",
            "  inflating: train/6/00006_00009_00010.png  \n",
            "  inflating: train/6/00006_00009_00011.png  \n",
            "  inflating: train/6/00006_00009_00012.png  \n",
            "  inflating: train/6/00006_00009_00013.png  \n",
            "  inflating: train/6/00006_00009_00014.png  \n",
            "  inflating: train/6/00006_00009_00015.png  \n",
            "  inflating: train/6/00006_00009_00016.png  \n",
            "  inflating: train/6/00006_00009_00017.png  \n",
            "  inflating: train/6/00006_00009_00018.png  \n",
            "  inflating: train/6/00006_00009_00019.png  \n",
            "  inflating: train/6/00006_00009_00020.png  \n",
            "  inflating: train/6/00006_00009_00021.png  \n",
            "  inflating: train/6/00006_00009_00022.png  \n",
            "  inflating: train/6/00006_00009_00023.png  \n",
            "  inflating: train/6/00006_00009_00024.png  \n",
            "  inflating: train/6/00006_00009_00025.png  \n",
            "  inflating: train/6/00006_00009_00026.png  \n",
            "  inflating: train/6/00006_00009_00027.png  \n",
            "  inflating: train/6/00006_00009_00028.png  \n",
            "  inflating: train/6/00006_00009_00029.png  \n",
            "  inflating: train/6/00006_00010_00000.png  \n",
            "  inflating: train/6/00006_00010_00001.png  \n",
            "  inflating: train/6/00006_00010_00002.png  \n",
            "  inflating: train/6/00006_00010_00003.png  \n",
            "  inflating: train/6/00006_00010_00004.png  \n",
            "  inflating: train/6/00006_00010_00005.png  \n",
            "  inflating: train/6/00006_00010_00006.png  \n",
            "  inflating: train/6/00006_00010_00007.png  \n",
            "  inflating: train/6/00006_00010_00008.png  \n",
            "  inflating: train/6/00006_00010_00009.png  \n",
            "  inflating: train/6/00006_00010_00010.png  \n",
            "  inflating: train/6/00006_00010_00011.png  \n",
            "  inflating: train/6/00006_00010_00012.png  \n",
            "  inflating: train/6/00006_00010_00013.png  \n",
            "  inflating: train/6/00006_00010_00014.png  \n",
            "  inflating: train/6/00006_00010_00015.png  \n",
            "  inflating: train/6/00006_00010_00016.png  \n",
            "  inflating: train/6/00006_00010_00017.png  \n",
            "  inflating: train/6/00006_00010_00018.png  \n",
            "  inflating: train/6/00006_00010_00019.png  \n",
            "  inflating: train/6/00006_00010_00020.png  \n",
            "  inflating: train/6/00006_00010_00021.png  \n",
            "  inflating: train/6/00006_00010_00022.png  \n",
            "  inflating: train/6/00006_00010_00023.png  \n",
            "  inflating: train/6/00006_00010_00024.png  \n",
            "  inflating: train/6/00006_00010_00025.png  \n",
            "  inflating: train/6/00006_00010_00026.png  \n",
            "  inflating: train/6/00006_00010_00027.png  \n",
            "  inflating: train/6/00006_00010_00028.png  \n",
            "  inflating: train/6/00006_00010_00029.png  \n",
            "  inflating: train/6/00006_00011_00000.png  \n",
            "  inflating: train/6/00006_00011_00001.png  \n",
            "  inflating: train/6/00006_00011_00002.png  \n",
            "  inflating: train/6/00006_00011_00003.png  \n",
            "  inflating: train/6/00006_00011_00004.png  \n",
            "  inflating: train/6/00006_00011_00005.png  \n",
            "  inflating: train/6/00006_00011_00006.png  \n",
            "  inflating: train/6/00006_00011_00007.png  \n",
            "  inflating: train/6/00006_00011_00008.png  \n",
            "  inflating: train/6/00006_00011_00009.png  \n",
            "  inflating: train/6/00006_00011_00010.png  \n",
            "  inflating: train/6/00006_00011_00011.png  \n",
            "  inflating: train/6/00006_00011_00012.png  \n",
            "  inflating: train/6/00006_00011_00013.png  \n",
            "  inflating: train/6/00006_00011_00014.png  \n",
            "  inflating: train/6/00006_00011_00015.png  \n",
            "  inflating: train/6/00006_00011_00016.png  \n",
            "  inflating: train/6/00006_00011_00017.png  \n",
            "  inflating: train/6/00006_00011_00018.png  \n",
            "  inflating: train/6/00006_00011_00019.png  \n",
            "  inflating: train/6/00006_00011_00020.png  \n",
            "  inflating: train/6/00006_00011_00021.png  \n",
            "  inflating: train/6/00006_00011_00022.png  \n",
            "  inflating: train/6/00006_00011_00023.png  \n",
            "  inflating: train/6/00006_00011_00024.png  \n",
            "  inflating: train/6/00006_00011_00025.png  \n",
            "  inflating: train/6/00006_00011_00026.png  \n",
            "  inflating: train/6/00006_00011_00027.png  \n",
            "  inflating: train/6/00006_00011_00028.png  \n",
            "  inflating: train/6/00006_00011_00029.png  \n",
            "  inflating: train/6/00006_00012_00000.png  \n",
            "  inflating: train/6/00006_00012_00001.png  \n",
            "  inflating: train/6/00006_00012_00002.png  \n",
            "  inflating: train/6/00006_00012_00003.png  \n",
            "  inflating: train/6/00006_00012_00004.png  \n",
            "  inflating: train/6/00006_00012_00005.png  \n",
            "  inflating: train/6/00006_00012_00006.png  \n",
            "  inflating: train/6/00006_00012_00007.png  \n",
            "  inflating: train/6/00006_00012_00008.png  \n",
            "  inflating: train/6/00006_00012_00009.png  \n",
            "  inflating: train/6/00006_00012_00010.png  \n",
            "  inflating: train/6/00006_00012_00011.png  \n",
            "  inflating: train/6/00006_00012_00012.png  \n",
            "  inflating: train/6/00006_00012_00013.png  \n",
            "  inflating: train/6/00006_00012_00014.png  \n",
            "  inflating: train/6/00006_00012_00015.png  \n",
            "  inflating: train/6/00006_00012_00016.png  \n",
            "  inflating: train/6/00006_00012_00017.png  \n",
            "  inflating: train/6/00006_00012_00018.png  \n",
            "  inflating: train/6/00006_00012_00019.png  \n",
            "  inflating: train/6/00006_00012_00020.png  \n",
            "  inflating: train/6/00006_00012_00021.png  \n",
            "  inflating: train/6/00006_00012_00022.png  \n",
            "  inflating: train/6/00006_00012_00023.png  \n",
            "  inflating: train/6/00006_00012_00024.png  \n",
            "  inflating: train/6/00006_00012_00025.png  \n",
            "  inflating: train/6/00006_00012_00026.png  \n",
            "  inflating: train/6/00006_00012_00027.png  \n",
            "  inflating: train/6/00006_00012_00028.png  \n",
            "  inflating: train/6/00006_00012_00029.png  \n",
            "  inflating: train/6/00006_00013_00000.png  \n",
            "  inflating: train/6/00006_00013_00001.png  \n",
            "  inflating: train/6/00006_00013_00002.png  \n",
            "  inflating: train/6/00006_00013_00003.png  \n",
            "  inflating: train/6/00006_00013_00004.png  \n",
            "  inflating: train/6/00006_00013_00005.png  \n",
            "  inflating: train/6/00006_00013_00006.png  \n",
            "  inflating: train/6/00006_00013_00007.png  \n",
            "  inflating: train/6/00006_00013_00008.png  \n",
            "  inflating: train/6/00006_00013_00009.png  \n",
            "  inflating: train/6/00006_00013_00010.png  \n",
            "  inflating: train/6/00006_00013_00011.png  \n",
            "  inflating: train/6/00006_00013_00012.png  \n",
            "  inflating: train/6/00006_00013_00013.png  \n",
            "  inflating: train/6/00006_00013_00014.png  \n",
            "  inflating: train/6/00006_00013_00015.png  \n",
            "  inflating: train/6/00006_00013_00016.png  \n",
            "  inflating: train/6/00006_00013_00017.png  \n",
            "  inflating: train/6/00006_00013_00018.png  \n",
            "  inflating: train/6/00006_00013_00019.png  \n",
            "  inflating: train/6/00006_00013_00020.png  \n",
            "  inflating: train/6/00006_00013_00021.png  \n",
            "  inflating: train/6/00006_00013_00022.png  \n",
            "  inflating: train/6/00006_00013_00023.png  \n",
            "  inflating: train/6/00006_00013_00024.png  \n",
            "  inflating: train/6/00006_00013_00025.png  \n",
            "  inflating: train/6/00006_00013_00026.png  \n",
            "  inflating: train/6/00006_00013_00027.png  \n",
            "  inflating: train/6/00006_00013_00028.png  \n",
            "  inflating: train/6/00006_00013_00029.png  \n",
            "  inflating: train/7/00007_00000_00000.png  \n",
            "  inflating: train/7/00007_00000_00001.png  \n",
            "  inflating: train/7/00007_00000_00002.png  \n",
            "  inflating: train/7/00007_00000_00003.png  \n",
            "  inflating: train/7/00007_00000_00004.png  \n",
            "  inflating: train/7/00007_00000_00005.png  \n",
            "  inflating: train/7/00007_00000_00006.png  \n",
            "  inflating: train/7/00007_00000_00007.png  \n",
            "  inflating: train/7/00007_00000_00008.png  \n",
            "  inflating: train/7/00007_00000_00009.png  \n",
            "  inflating: train/7/00007_00000_00010.png  \n",
            "  inflating: train/7/00007_00000_00011.png  \n",
            "  inflating: train/7/00007_00000_00012.png  \n",
            "  inflating: train/7/00007_00000_00013.png  \n",
            "  inflating: train/7/00007_00000_00014.png  \n",
            "  inflating: train/7/00007_00000_00015.png  \n",
            "  inflating: train/7/00007_00000_00016.png  \n",
            "  inflating: train/7/00007_00000_00017.png  \n",
            "  inflating: train/7/00007_00000_00018.png  \n",
            "  inflating: train/7/00007_00000_00019.png  \n",
            "  inflating: train/7/00007_00000_00020.png  \n",
            "  inflating: train/7/00007_00000_00021.png  \n",
            "  inflating: train/7/00007_00000_00022.png  \n",
            "  inflating: train/7/00007_00000_00023.png  \n",
            "  inflating: train/7/00007_00000_00024.png  \n",
            "  inflating: train/7/00007_00000_00025.png  \n",
            "  inflating: train/7/00007_00000_00026.png  \n",
            "  inflating: train/7/00007_00000_00027.png  \n",
            "  inflating: train/7/00007_00000_00028.png  \n",
            "  inflating: train/7/00007_00000_00029.png  \n",
            "  inflating: train/7/00007_00001_00000.png  \n",
            "  inflating: train/7/00007_00001_00001.png  \n",
            "  inflating: train/7/00007_00001_00002.png  \n",
            "  inflating: train/7/00007_00001_00003.png  \n",
            "  inflating: train/7/00007_00001_00004.png  \n",
            "  inflating: train/7/00007_00001_00005.png  \n",
            "  inflating: train/7/00007_00001_00006.png  \n",
            "  inflating: train/7/00007_00001_00007.png  \n",
            "  inflating: train/7/00007_00001_00008.png  \n",
            "  inflating: train/7/00007_00001_00009.png  \n",
            "  inflating: train/7/00007_00001_00010.png  \n",
            "  inflating: train/7/00007_00001_00011.png  \n",
            "  inflating: train/7/00007_00001_00012.png  \n",
            "  inflating: train/7/00007_00001_00013.png  \n",
            "  inflating: train/7/00007_00001_00014.png  \n",
            "  inflating: train/7/00007_00001_00015.png  \n",
            "  inflating: train/7/00007_00001_00016.png  \n",
            "  inflating: train/7/00007_00001_00017.png  \n",
            "  inflating: train/7/00007_00001_00018.png  \n",
            "  inflating: train/7/00007_00001_00019.png  \n",
            "  inflating: train/7/00007_00001_00020.png  \n",
            "  inflating: train/7/00007_00001_00021.png  \n",
            "  inflating: train/7/00007_00001_00022.png  \n",
            "  inflating: train/7/00007_00001_00023.png  \n",
            "  inflating: train/7/00007_00001_00024.png  \n",
            "  inflating: train/7/00007_00001_00025.png  \n",
            "  inflating: train/7/00007_00001_00026.png  \n",
            "  inflating: train/7/00007_00001_00027.png  \n",
            "  inflating: train/7/00007_00001_00028.png  \n",
            "  inflating: train/7/00007_00001_00029.png  \n",
            "  inflating: train/7/00007_00002_00000.png  \n",
            "  inflating: train/7/00007_00002_00001.png  \n",
            "  inflating: train/7/00007_00002_00002.png  \n",
            "  inflating: train/7/00007_00002_00003.png  \n",
            "  inflating: train/7/00007_00002_00004.png  \n",
            "  inflating: train/7/00007_00002_00005.png  \n",
            "  inflating: train/7/00007_00002_00006.png  \n",
            "  inflating: train/7/00007_00002_00007.png  \n",
            "  inflating: train/7/00007_00002_00008.png  \n",
            "  inflating: train/7/00007_00002_00009.png  \n",
            "  inflating: train/7/00007_00002_00010.png  \n",
            "  inflating: train/7/00007_00002_00011.png  \n",
            "  inflating: train/7/00007_00002_00012.png  \n",
            "  inflating: train/7/00007_00002_00013.png  \n",
            "  inflating: train/7/00007_00002_00014.png  \n",
            "  inflating: train/7/00007_00002_00015.png  \n",
            "  inflating: train/7/00007_00002_00016.png  \n",
            "  inflating: train/7/00007_00002_00017.png  \n",
            "  inflating: train/7/00007_00002_00018.png  \n",
            "  inflating: train/7/00007_00002_00019.png  \n",
            "  inflating: train/7/00007_00002_00020.png  \n",
            "  inflating: train/7/00007_00002_00021.png  \n",
            "  inflating: train/7/00007_00002_00022.png  \n",
            "  inflating: train/7/00007_00002_00023.png  \n",
            "  inflating: train/7/00007_00002_00024.png  \n",
            "  inflating: train/7/00007_00002_00025.png  \n",
            "  inflating: train/7/00007_00002_00026.png  \n",
            "  inflating: train/7/00007_00002_00027.png  \n",
            "  inflating: train/7/00007_00002_00028.png  \n",
            "  inflating: train/7/00007_00002_00029.png  \n",
            "  inflating: train/7/00007_00003_00000.png  \n",
            "  inflating: train/7/00007_00003_00001.png  \n",
            "  inflating: train/7/00007_00003_00002.png  \n",
            "  inflating: train/7/00007_00003_00003.png  \n",
            "  inflating: train/7/00007_00003_00004.png  \n",
            "  inflating: train/7/00007_00003_00005.png  \n",
            "  inflating: train/7/00007_00003_00006.png  \n",
            "  inflating: train/7/00007_00003_00007.png  \n",
            "  inflating: train/7/00007_00003_00008.png  \n",
            "  inflating: train/7/00007_00003_00009.png  \n",
            "  inflating: train/7/00007_00003_00010.png  \n",
            "  inflating: train/7/00007_00003_00011.png  \n",
            "  inflating: train/7/00007_00003_00012.png  \n",
            "  inflating: train/7/00007_00003_00013.png  \n",
            "  inflating: train/7/00007_00003_00014.png  \n",
            "  inflating: train/7/00007_00003_00015.png  \n",
            "  inflating: train/7/00007_00003_00016.png  \n",
            "  inflating: train/7/00007_00003_00017.png  \n",
            "  inflating: train/7/00007_00003_00018.png  \n",
            "  inflating: train/7/00007_00003_00019.png  \n",
            "  inflating: train/7/00007_00003_00020.png  \n",
            "  inflating: train/7/00007_00003_00021.png  \n",
            "  inflating: train/7/00007_00003_00022.png  \n",
            "  inflating: train/7/00007_00003_00023.png  \n",
            "  inflating: train/7/00007_00003_00024.png  \n",
            "  inflating: train/7/00007_00003_00025.png  \n",
            "  inflating: train/7/00007_00003_00026.png  \n",
            "  inflating: train/7/00007_00003_00027.png  \n",
            "  inflating: train/7/00007_00003_00028.png  \n",
            "  inflating: train/7/00007_00003_00029.png  \n",
            "  inflating: train/7/00007_00004_00000.png  \n",
            "  inflating: train/7/00007_00004_00001.png  \n",
            "  inflating: train/7/00007_00004_00002.png  \n",
            "  inflating: train/7/00007_00004_00003.png  \n",
            "  inflating: train/7/00007_00004_00004.png  \n",
            "  inflating: train/7/00007_00004_00005.png  \n",
            "  inflating: train/7/00007_00004_00006.png  \n",
            "  inflating: train/7/00007_00004_00007.png  \n",
            "  inflating: train/7/00007_00004_00008.png  \n",
            "  inflating: train/7/00007_00004_00009.png  \n",
            "  inflating: train/7/00007_00004_00010.png  \n",
            "  inflating: train/7/00007_00004_00011.png  \n",
            "  inflating: train/7/00007_00004_00012.png  \n",
            "  inflating: train/7/00007_00004_00013.png  \n",
            "  inflating: train/7/00007_00004_00014.png  \n",
            "  inflating: train/7/00007_00004_00015.png  \n",
            "  inflating: train/7/00007_00004_00016.png  \n",
            "  inflating: train/7/00007_00004_00017.png  \n",
            "  inflating: train/7/00007_00004_00018.png  \n",
            "  inflating: train/7/00007_00004_00019.png  \n",
            "  inflating: train/7/00007_00004_00020.png  \n",
            "  inflating: train/7/00007_00004_00021.png  \n",
            "  inflating: train/7/00007_00004_00022.png  \n",
            "  inflating: train/7/00007_00004_00023.png  \n",
            "  inflating: train/7/00007_00004_00024.png  \n",
            "  inflating: train/7/00007_00004_00025.png  \n",
            "  inflating: train/7/00007_00004_00026.png  \n",
            "  inflating: train/7/00007_00004_00027.png  \n",
            "  inflating: train/7/00007_00004_00028.png  \n",
            "  inflating: train/7/00007_00004_00029.png  \n",
            "  inflating: train/7/00007_00005_00000.png  \n",
            "  inflating: train/7/00007_00005_00001.png  \n",
            "  inflating: train/7/00007_00005_00002.png  \n",
            "  inflating: train/7/00007_00005_00003.png  \n",
            "  inflating: train/7/00007_00005_00004.png  \n",
            "  inflating: train/7/00007_00005_00005.png  \n",
            "  inflating: train/7/00007_00005_00006.png  \n",
            "  inflating: train/7/00007_00005_00007.png  \n",
            "  inflating: train/7/00007_00005_00008.png  \n",
            "  inflating: train/7/00007_00005_00009.png  \n",
            "  inflating: train/7/00007_00005_00010.png  \n",
            "  inflating: train/7/00007_00005_00011.png  \n",
            "  inflating: train/7/00007_00005_00012.png  \n",
            "  inflating: train/7/00007_00005_00013.png  \n",
            "  inflating: train/7/00007_00005_00014.png  \n",
            "  inflating: train/7/00007_00005_00015.png  \n",
            "  inflating: train/7/00007_00005_00016.png  \n",
            "  inflating: train/7/00007_00005_00017.png  \n",
            "  inflating: train/7/00007_00005_00018.png  \n",
            "  inflating: train/7/00007_00005_00019.png  \n",
            "  inflating: train/7/00007_00005_00020.png  \n",
            "  inflating: train/7/00007_00005_00021.png  \n",
            "  inflating: train/7/00007_00005_00022.png  \n",
            "  inflating: train/7/00007_00005_00023.png  \n",
            "  inflating: train/7/00007_00005_00024.png  \n",
            "  inflating: train/7/00007_00005_00025.png  \n",
            "  inflating: train/7/00007_00005_00026.png  \n",
            "  inflating: train/7/00007_00005_00027.png  \n",
            "  inflating: train/7/00007_00005_00028.png  \n",
            "  inflating: train/7/00007_00005_00029.png  \n",
            "  inflating: train/7/00007_00006_00000.png  \n",
            "  inflating: train/7/00007_00006_00001.png  \n",
            "  inflating: train/7/00007_00006_00002.png  \n",
            "  inflating: train/7/00007_00006_00003.png  \n",
            "  inflating: train/7/00007_00006_00004.png  \n",
            "  inflating: train/7/00007_00006_00005.png  \n",
            "  inflating: train/7/00007_00006_00006.png  \n",
            "  inflating: train/7/00007_00006_00007.png  \n",
            "  inflating: train/7/00007_00006_00008.png  \n",
            "  inflating: train/7/00007_00006_00009.png  \n",
            "  inflating: train/7/00007_00006_00010.png  \n",
            "  inflating: train/7/00007_00006_00011.png  \n",
            "  inflating: train/7/00007_00006_00012.png  \n",
            "  inflating: train/7/00007_00006_00013.png  \n",
            "  inflating: train/7/00007_00006_00014.png  \n",
            "  inflating: train/7/00007_00006_00015.png  \n",
            "  inflating: train/7/00007_00006_00016.png  \n",
            "  inflating: train/7/00007_00006_00017.png  \n",
            "  inflating: train/7/00007_00006_00018.png  \n",
            "  inflating: train/7/00007_00006_00019.png  \n",
            "  inflating: train/7/00007_00006_00020.png  \n",
            "  inflating: train/7/00007_00006_00021.png  \n",
            "  inflating: train/7/00007_00006_00022.png  \n",
            "  inflating: train/7/00007_00006_00023.png  \n",
            "  inflating: train/7/00007_00006_00024.png  \n",
            "  inflating: train/7/00007_00006_00025.png  \n",
            "  inflating: train/7/00007_00006_00026.png  \n",
            "  inflating: train/7/00007_00006_00027.png  \n",
            "  inflating: train/7/00007_00006_00028.png  \n",
            "  inflating: train/7/00007_00006_00029.png  \n",
            "  inflating: train/7/00007_00007_00000.png  \n",
            "  inflating: train/7/00007_00007_00001.png  \n",
            "  inflating: train/7/00007_00007_00002.png  \n",
            "  inflating: train/7/00007_00007_00003.png  \n",
            "  inflating: train/7/00007_00007_00004.png  \n",
            "  inflating: train/7/00007_00007_00005.png  \n",
            "  inflating: train/7/00007_00007_00006.png  \n",
            "  inflating: train/7/00007_00007_00007.png  \n",
            "  inflating: train/7/00007_00007_00008.png  \n",
            "  inflating: train/7/00007_00007_00009.png  \n",
            "  inflating: train/7/00007_00007_00010.png  \n",
            "  inflating: train/7/00007_00007_00011.png  \n",
            "  inflating: train/7/00007_00007_00012.png  \n",
            "  inflating: train/7/00007_00007_00013.png  \n",
            "  inflating: train/7/00007_00007_00014.png  \n",
            "  inflating: train/7/00007_00007_00015.png  \n",
            "  inflating: train/7/00007_00007_00016.png  \n",
            "  inflating: train/7/00007_00007_00017.png  \n",
            "  inflating: train/7/00007_00007_00018.png  \n",
            "  inflating: train/7/00007_00007_00019.png  \n",
            "  inflating: train/7/00007_00007_00020.png  \n",
            "  inflating: train/7/00007_00007_00021.png  \n",
            "  inflating: train/7/00007_00007_00022.png  \n",
            "  inflating: train/7/00007_00007_00023.png  \n",
            "  inflating: train/7/00007_00007_00024.png  \n",
            "  inflating: train/7/00007_00007_00025.png  \n",
            "  inflating: train/7/00007_00007_00026.png  \n",
            "  inflating: train/7/00007_00007_00027.png  \n",
            "  inflating: train/7/00007_00007_00028.png  \n",
            "  inflating: train/7/00007_00007_00029.png  \n",
            "  inflating: train/7/00007_00008_00000.png  \n",
            "  inflating: train/7/00007_00008_00001.png  \n",
            "  inflating: train/7/00007_00008_00002.png  \n",
            "  inflating: train/7/00007_00008_00003.png  \n",
            "  inflating: train/7/00007_00008_00004.png  \n",
            "  inflating: train/7/00007_00008_00005.png  \n",
            "  inflating: train/7/00007_00008_00006.png  \n",
            "  inflating: train/7/00007_00008_00007.png  \n",
            "  inflating: train/7/00007_00008_00008.png  \n",
            "  inflating: train/7/00007_00008_00009.png  \n",
            "  inflating: train/7/00007_00008_00010.png  \n",
            "  inflating: train/7/00007_00008_00011.png  \n",
            "  inflating: train/7/00007_00008_00012.png  \n",
            "  inflating: train/7/00007_00008_00013.png  \n",
            "  inflating: train/7/00007_00008_00014.png  \n",
            "  inflating: train/7/00007_00008_00015.png  \n",
            "  inflating: train/7/00007_00008_00016.png  \n",
            "  inflating: train/7/00007_00008_00017.png  \n",
            "  inflating: train/7/00007_00008_00018.png  \n",
            "  inflating: train/7/00007_00008_00019.png  \n",
            "  inflating: train/7/00007_00008_00020.png  \n",
            "  inflating: train/7/00007_00008_00021.png  \n",
            "  inflating: train/7/00007_00008_00022.png  \n",
            "  inflating: train/7/00007_00008_00023.png  \n",
            "  inflating: train/7/00007_00008_00024.png  \n",
            "  inflating: train/7/00007_00008_00025.png  \n",
            "  inflating: train/7/00007_00008_00026.png  \n",
            "  inflating: train/7/00007_00008_00027.png  \n",
            "  inflating: train/7/00007_00008_00028.png  \n",
            "  inflating: train/7/00007_00008_00029.png  \n",
            "  inflating: train/7/00007_00009_00000.png  \n",
            "  inflating: train/7/00007_00009_00001.png  \n",
            "  inflating: train/7/00007_00009_00002.png  \n",
            "  inflating: train/7/00007_00009_00003.png  \n",
            "  inflating: train/7/00007_00009_00004.png  \n",
            "  inflating: train/7/00007_00009_00005.png  \n",
            "  inflating: train/7/00007_00009_00006.png  \n",
            "  inflating: train/7/00007_00009_00007.png  \n",
            "  inflating: train/7/00007_00009_00008.png  \n",
            "  inflating: train/7/00007_00009_00009.png  \n",
            "  inflating: train/7/00007_00009_00010.png  \n",
            "  inflating: train/7/00007_00009_00011.png  \n",
            "  inflating: train/7/00007_00009_00012.png  \n",
            "  inflating: train/7/00007_00009_00013.png  \n",
            "  inflating: train/7/00007_00009_00014.png  \n",
            "  inflating: train/7/00007_00009_00015.png  \n",
            "  inflating: train/7/00007_00009_00016.png  \n",
            "  inflating: train/7/00007_00009_00017.png  \n",
            "  inflating: train/7/00007_00009_00018.png  \n",
            "  inflating: train/7/00007_00009_00019.png  \n",
            "  inflating: train/7/00007_00009_00020.png  \n",
            "  inflating: train/7/00007_00009_00021.png  \n",
            "  inflating: train/7/00007_00009_00022.png  \n",
            "  inflating: train/7/00007_00009_00023.png  \n",
            "  inflating: train/7/00007_00009_00024.png  \n",
            "  inflating: train/7/00007_00009_00025.png  \n",
            "  inflating: train/7/00007_00009_00026.png  \n",
            "  inflating: train/7/00007_00009_00027.png  \n",
            "  inflating: train/7/00007_00009_00028.png  \n",
            "  inflating: train/7/00007_00009_00029.png  \n",
            "  inflating: train/7/00007_00010_00000.png  \n",
            "  inflating: train/7/00007_00010_00001.png  \n",
            "  inflating: train/7/00007_00010_00002.png  \n",
            "  inflating: train/7/00007_00010_00003.png  \n",
            "  inflating: train/7/00007_00010_00004.png  \n",
            "  inflating: train/7/00007_00010_00005.png  \n",
            "  inflating: train/7/00007_00010_00006.png  \n",
            "  inflating: train/7/00007_00010_00007.png  \n",
            "  inflating: train/7/00007_00010_00008.png  \n",
            "  inflating: train/7/00007_00010_00009.png  \n",
            "  inflating: train/7/00007_00010_00010.png  \n",
            "  inflating: train/7/00007_00010_00011.png  \n",
            "  inflating: train/7/00007_00010_00012.png  \n",
            "  inflating: train/7/00007_00010_00013.png  \n",
            "  inflating: train/7/00007_00010_00014.png  \n",
            "  inflating: train/7/00007_00010_00015.png  \n",
            "  inflating: train/7/00007_00010_00016.png  \n",
            "  inflating: train/7/00007_00010_00017.png  \n",
            "  inflating: train/7/00007_00010_00018.png  \n",
            "  inflating: train/7/00007_00010_00019.png  \n",
            "  inflating: train/7/00007_00010_00020.png  \n",
            "  inflating: train/7/00007_00010_00021.png  \n",
            "  inflating: train/7/00007_00010_00022.png  \n",
            "  inflating: train/7/00007_00010_00023.png  \n",
            "  inflating: train/7/00007_00010_00024.png  \n",
            "  inflating: train/7/00007_00010_00025.png  \n",
            "  inflating: train/7/00007_00010_00026.png  \n",
            "  inflating: train/7/00007_00010_00027.png  \n",
            "  inflating: train/7/00007_00010_00028.png  \n",
            "  inflating: train/7/00007_00010_00029.png  \n",
            "  inflating: train/7/00007_00011_00000.png  \n",
            "  inflating: train/7/00007_00011_00001.png  \n",
            "  inflating: train/7/00007_00011_00002.png  \n",
            "  inflating: train/7/00007_00011_00003.png  \n",
            "  inflating: train/7/00007_00011_00004.png  \n",
            "  inflating: train/7/00007_00011_00005.png  \n",
            "  inflating: train/7/00007_00011_00006.png  \n",
            "  inflating: train/7/00007_00011_00007.png  \n",
            "  inflating: train/7/00007_00011_00008.png  \n",
            "  inflating: train/7/00007_00011_00009.png  \n",
            "  inflating: train/7/00007_00011_00010.png  \n",
            "  inflating: train/7/00007_00011_00011.png  \n",
            "  inflating: train/7/00007_00011_00012.png  \n",
            "  inflating: train/7/00007_00011_00013.png  \n",
            "  inflating: train/7/00007_00011_00014.png  \n",
            "  inflating: train/7/00007_00011_00015.png  \n",
            "  inflating: train/7/00007_00011_00016.png  \n",
            "  inflating: train/7/00007_00011_00017.png  \n",
            "  inflating: train/7/00007_00011_00018.png  \n",
            "  inflating: train/7/00007_00011_00019.png  \n",
            "  inflating: train/7/00007_00011_00020.png  \n",
            "  inflating: train/7/00007_00011_00021.png  \n",
            "  inflating: train/7/00007_00011_00022.png  \n",
            "  inflating: train/7/00007_00011_00023.png  \n",
            "  inflating: train/7/00007_00011_00024.png  \n",
            "  inflating: train/7/00007_00011_00025.png  \n",
            "  inflating: train/7/00007_00011_00026.png  \n",
            "  inflating: train/7/00007_00011_00027.png  \n",
            "  inflating: train/7/00007_00011_00028.png  \n",
            "  inflating: train/7/00007_00011_00029.png  \n",
            "  inflating: train/7/00007_00012_00000.png  \n",
            "  inflating: train/7/00007_00012_00001.png  \n",
            "  inflating: train/7/00007_00012_00002.png  \n",
            "  inflating: train/7/00007_00012_00003.png  \n",
            "  inflating: train/7/00007_00012_00004.png  \n",
            "  inflating: train/7/00007_00012_00005.png  \n",
            "  inflating: train/7/00007_00012_00006.png  \n",
            "  inflating: train/7/00007_00012_00007.png  \n",
            "  inflating: train/7/00007_00012_00008.png  \n",
            "  inflating: train/7/00007_00012_00009.png  \n",
            "  inflating: train/7/00007_00012_00010.png  \n",
            "  inflating: train/7/00007_00012_00011.png  \n",
            "  inflating: train/7/00007_00012_00012.png  \n",
            "  inflating: train/7/00007_00012_00013.png  \n",
            "  inflating: train/7/00007_00012_00014.png  \n",
            "  inflating: train/7/00007_00012_00015.png  \n",
            "  inflating: train/7/00007_00012_00016.png  \n",
            "  inflating: train/7/00007_00012_00017.png  \n",
            "  inflating: train/7/00007_00012_00018.png  \n",
            "  inflating: train/7/00007_00012_00019.png  \n",
            "  inflating: train/7/00007_00012_00020.png  \n",
            "  inflating: train/7/00007_00012_00021.png  \n",
            "  inflating: train/7/00007_00012_00022.png  \n",
            "  inflating: train/7/00007_00012_00023.png  \n",
            "  inflating: train/7/00007_00012_00024.png  \n",
            "  inflating: train/7/00007_00012_00025.png  \n",
            "  inflating: train/7/00007_00012_00026.png  \n",
            "  inflating: train/7/00007_00012_00027.png  \n",
            "  inflating: train/7/00007_00012_00028.png  \n",
            "  inflating: train/7/00007_00012_00029.png  \n",
            "  inflating: train/7/00007_00013_00000.png  \n",
            "  inflating: train/7/00007_00013_00001.png  \n",
            "  inflating: train/7/00007_00013_00002.png  \n",
            "  inflating: train/7/00007_00013_00003.png  \n",
            "  inflating: train/7/00007_00013_00004.png  \n",
            "  inflating: train/7/00007_00013_00005.png  \n",
            "  inflating: train/7/00007_00013_00006.png  \n",
            "  inflating: train/7/00007_00013_00007.png  \n",
            "  inflating: train/7/00007_00013_00008.png  \n",
            "  inflating: train/7/00007_00013_00009.png  \n",
            "  inflating: train/7/00007_00013_00010.png  \n",
            "  inflating: train/7/00007_00013_00011.png  \n",
            "  inflating: train/7/00007_00013_00012.png  \n",
            "  inflating: train/7/00007_00013_00013.png  \n",
            "  inflating: train/7/00007_00013_00014.png  \n",
            "  inflating: train/7/00007_00013_00015.png  \n",
            "  inflating: train/7/00007_00013_00016.png  \n",
            "  inflating: train/7/00007_00013_00017.png  \n",
            "  inflating: train/7/00007_00013_00018.png  \n",
            "  inflating: train/7/00007_00013_00019.png  \n",
            "  inflating: train/7/00007_00013_00020.png  \n",
            "  inflating: train/7/00007_00013_00021.png  \n",
            "  inflating: train/7/00007_00013_00022.png  \n",
            "  inflating: train/7/00007_00013_00023.png  \n",
            "  inflating: train/7/00007_00013_00024.png  \n",
            "  inflating: train/7/00007_00013_00025.png  \n",
            "  inflating: train/7/00007_00013_00026.png  \n",
            "  inflating: train/7/00007_00013_00027.png  \n",
            "  inflating: train/7/00007_00013_00028.png  \n",
            "  inflating: train/7/00007_00013_00029.png  \n",
            "  inflating: train/7/00007_00014_00000.png  \n",
            "  inflating: train/7/00007_00014_00001.png  \n",
            "  inflating: train/7/00007_00014_00002.png  \n",
            "  inflating: train/7/00007_00014_00003.png  \n",
            "  inflating: train/7/00007_00014_00004.png  \n",
            "  inflating: train/7/00007_00014_00005.png  \n",
            "  inflating: train/7/00007_00014_00006.png  \n",
            "  inflating: train/7/00007_00014_00007.png  \n",
            "  inflating: train/7/00007_00014_00008.png  \n",
            "  inflating: train/7/00007_00014_00009.png  \n",
            "  inflating: train/7/00007_00014_00010.png  \n",
            "  inflating: train/7/00007_00014_00011.png  \n",
            "  inflating: train/7/00007_00014_00012.png  \n",
            "  inflating: train/7/00007_00014_00013.png  \n",
            "  inflating: train/7/00007_00014_00014.png  \n",
            "  inflating: train/7/00007_00014_00015.png  \n",
            "  inflating: train/7/00007_00014_00016.png  \n",
            "  inflating: train/7/00007_00014_00017.png  \n",
            "  inflating: train/7/00007_00014_00018.png  \n",
            "  inflating: train/7/00007_00014_00019.png  \n",
            "  inflating: train/7/00007_00014_00020.png  \n",
            "  inflating: train/7/00007_00014_00021.png  \n",
            "  inflating: train/7/00007_00014_00022.png  \n",
            "  inflating: train/7/00007_00014_00023.png  \n",
            "  inflating: train/7/00007_00014_00024.png  \n",
            "  inflating: train/7/00007_00014_00025.png  \n",
            "  inflating: train/7/00007_00014_00026.png  \n",
            "  inflating: train/7/00007_00014_00027.png  \n",
            "  inflating: train/7/00007_00014_00028.png  \n",
            "  inflating: train/7/00007_00014_00029.png  \n",
            "  inflating: train/7/00007_00015_00000.png  \n",
            "  inflating: train/7/00007_00015_00001.png  \n",
            "  inflating: train/7/00007_00015_00002.png  \n",
            "  inflating: train/7/00007_00015_00003.png  \n",
            "  inflating: train/7/00007_00015_00004.png  \n",
            "  inflating: train/7/00007_00015_00005.png  \n",
            "  inflating: train/7/00007_00015_00006.png  \n",
            "  inflating: train/7/00007_00015_00007.png  \n",
            "  inflating: train/7/00007_00015_00008.png  \n",
            "  inflating: train/7/00007_00015_00009.png  \n",
            "  inflating: train/7/00007_00015_00010.png  \n",
            "  inflating: train/7/00007_00015_00011.png  \n",
            "  inflating: train/7/00007_00015_00012.png  \n",
            "  inflating: train/7/00007_00015_00013.png  \n",
            "  inflating: train/7/00007_00015_00014.png  \n",
            "  inflating: train/7/00007_00015_00015.png  \n",
            "  inflating: train/7/00007_00015_00016.png  \n",
            "  inflating: train/7/00007_00015_00017.png  \n",
            "  inflating: train/7/00007_00015_00018.png  \n",
            "  inflating: train/7/00007_00015_00019.png  \n",
            "  inflating: train/7/00007_00015_00020.png  \n",
            "  inflating: train/7/00007_00015_00021.png  \n",
            "  inflating: train/7/00007_00015_00022.png  \n",
            "  inflating: train/7/00007_00015_00023.png  \n",
            "  inflating: train/7/00007_00015_00024.png  \n",
            "  inflating: train/7/00007_00015_00025.png  \n",
            "  inflating: train/7/00007_00015_00026.png  \n",
            "  inflating: train/7/00007_00015_00027.png  \n",
            "  inflating: train/7/00007_00015_00028.png  \n",
            "  inflating: train/7/00007_00015_00029.png  \n",
            "  inflating: train/7/00007_00016_00000.png  \n",
            "  inflating: train/7/00007_00016_00001.png  \n",
            "  inflating: train/7/00007_00016_00002.png  \n",
            "  inflating: train/7/00007_00016_00003.png  \n",
            "  inflating: train/7/00007_00016_00004.png  \n",
            "  inflating: train/7/00007_00016_00005.png  \n",
            "  inflating: train/7/00007_00016_00006.png  \n",
            "  inflating: train/7/00007_00016_00007.png  \n",
            "  inflating: train/7/00007_00016_00008.png  \n",
            "  inflating: train/7/00007_00016_00009.png  \n",
            "  inflating: train/7/00007_00016_00010.png  \n",
            "  inflating: train/7/00007_00016_00011.png  \n",
            "  inflating: train/7/00007_00016_00012.png  \n",
            "  inflating: train/7/00007_00016_00013.png  \n",
            "  inflating: train/7/00007_00016_00014.png  \n",
            "  inflating: train/7/00007_00016_00015.png  \n",
            "  inflating: train/7/00007_00016_00016.png  \n",
            "  inflating: train/7/00007_00016_00017.png  \n",
            "  inflating: train/7/00007_00016_00018.png  \n",
            "  inflating: train/7/00007_00016_00019.png  \n",
            "  inflating: train/7/00007_00016_00020.png  \n",
            "  inflating: train/7/00007_00016_00021.png  \n",
            "  inflating: train/7/00007_00016_00022.png  \n",
            "  inflating: train/7/00007_00016_00023.png  \n",
            "  inflating: train/7/00007_00016_00024.png  \n",
            "  inflating: train/7/00007_00016_00025.png  \n",
            "  inflating: train/7/00007_00016_00026.png  \n",
            "  inflating: train/7/00007_00016_00027.png  \n",
            "  inflating: train/7/00007_00016_00028.png  \n",
            "  inflating: train/7/00007_00016_00029.png  \n",
            "  inflating: train/7/00007_00017_00000.png  \n",
            "  inflating: train/7/00007_00017_00001.png  \n",
            "  inflating: train/7/00007_00017_00002.png  \n",
            "  inflating: train/7/00007_00017_00003.png  \n",
            "  inflating: train/7/00007_00017_00004.png  \n",
            "  inflating: train/7/00007_00017_00005.png  \n",
            "  inflating: train/7/00007_00017_00006.png  \n",
            "  inflating: train/7/00007_00017_00007.png  \n",
            "  inflating: train/7/00007_00017_00008.png  \n",
            "  inflating: train/7/00007_00017_00009.png  \n",
            "  inflating: train/7/00007_00017_00010.png  \n",
            "  inflating: train/7/00007_00017_00011.png  \n",
            "  inflating: train/7/00007_00017_00012.png  \n",
            "  inflating: train/7/00007_00017_00013.png  \n",
            "  inflating: train/7/00007_00017_00014.png  \n",
            "  inflating: train/7/00007_00017_00015.png  \n",
            "  inflating: train/7/00007_00017_00016.png  \n",
            "  inflating: train/7/00007_00017_00017.png  \n",
            "  inflating: train/7/00007_00017_00018.png  \n",
            "  inflating: train/7/00007_00017_00019.png  \n",
            "  inflating: train/7/00007_00017_00020.png  \n",
            "  inflating: train/7/00007_00017_00021.png  \n",
            "  inflating: train/7/00007_00017_00022.png  \n",
            "  inflating: train/7/00007_00017_00023.png  \n",
            "  inflating: train/7/00007_00017_00024.png  \n",
            "  inflating: train/7/00007_00017_00025.png  \n",
            "  inflating: train/7/00007_00017_00026.png  \n",
            "  inflating: train/7/00007_00017_00027.png  \n",
            "  inflating: train/7/00007_00017_00028.png  \n",
            "  inflating: train/7/00007_00017_00029.png  \n",
            "  inflating: train/7/00007_00018_00000.png  \n",
            "  inflating: train/7/00007_00018_00001.png  \n",
            "  inflating: train/7/00007_00018_00002.png  \n",
            "  inflating: train/7/00007_00018_00003.png  \n",
            "  inflating: train/7/00007_00018_00004.png  \n",
            "  inflating: train/7/00007_00018_00005.png  \n",
            "  inflating: train/7/00007_00018_00006.png  \n",
            "  inflating: train/7/00007_00018_00007.png  \n",
            "  inflating: train/7/00007_00018_00008.png  \n",
            "  inflating: train/7/00007_00018_00009.png  \n",
            "  inflating: train/7/00007_00018_00010.png  \n",
            "  inflating: train/7/00007_00018_00011.png  \n",
            "  inflating: train/7/00007_00018_00012.png  \n",
            "  inflating: train/7/00007_00018_00013.png  \n",
            "  inflating: train/7/00007_00018_00014.png  \n",
            "  inflating: train/7/00007_00018_00015.png  \n",
            "  inflating: train/7/00007_00018_00016.png  \n",
            "  inflating: train/7/00007_00018_00017.png  \n",
            "  inflating: train/7/00007_00018_00018.png  \n",
            "  inflating: train/7/00007_00018_00019.png  \n",
            "  inflating: train/7/00007_00018_00020.png  \n",
            "  inflating: train/7/00007_00018_00021.png  \n",
            "  inflating: train/7/00007_00018_00022.png  \n",
            "  inflating: train/7/00007_00018_00023.png  \n",
            "  inflating: train/7/00007_00018_00024.png  \n",
            "  inflating: train/7/00007_00018_00025.png  \n",
            "  inflating: train/7/00007_00018_00026.png  \n",
            "  inflating: train/7/00007_00018_00027.png  \n",
            "  inflating: train/7/00007_00018_00028.png  \n",
            "  inflating: train/7/00007_00018_00029.png  \n",
            "  inflating: train/7/00007_00019_00000.png  \n",
            "  inflating: train/7/00007_00019_00001.png  \n",
            "  inflating: train/7/00007_00019_00002.png  \n",
            "  inflating: train/7/00007_00019_00003.png  \n",
            "  inflating: train/7/00007_00019_00004.png  \n",
            "  inflating: train/7/00007_00019_00005.png  \n",
            "  inflating: train/7/00007_00019_00006.png  \n",
            "  inflating: train/7/00007_00019_00007.png  \n",
            "  inflating: train/7/00007_00019_00008.png  \n",
            "  inflating: train/7/00007_00019_00009.png  \n",
            "  inflating: train/7/00007_00019_00010.png  \n",
            "  inflating: train/7/00007_00019_00011.png  \n",
            "  inflating: train/7/00007_00019_00012.png  \n",
            "  inflating: train/7/00007_00019_00013.png  \n",
            "  inflating: train/7/00007_00019_00014.png  \n",
            "  inflating: train/7/00007_00019_00015.png  \n",
            "  inflating: train/7/00007_00019_00016.png  \n",
            "  inflating: train/7/00007_00019_00017.png  \n",
            "  inflating: train/7/00007_00019_00018.png  \n",
            "  inflating: train/7/00007_00019_00019.png  \n",
            "  inflating: train/7/00007_00019_00020.png  \n",
            "  inflating: train/7/00007_00019_00021.png  \n",
            "  inflating: train/7/00007_00019_00022.png  \n",
            "  inflating: train/7/00007_00019_00023.png  \n",
            "  inflating: train/7/00007_00019_00024.png  \n",
            "  inflating: train/7/00007_00019_00025.png  \n",
            "  inflating: train/7/00007_00019_00026.png  \n",
            "  inflating: train/7/00007_00019_00027.png  \n",
            "  inflating: train/7/00007_00019_00028.png  \n",
            "  inflating: train/7/00007_00019_00029.png  \n",
            "  inflating: train/7/00007_00020_00000.png  \n",
            "  inflating: train/7/00007_00020_00001.png  \n",
            "  inflating: train/7/00007_00020_00002.png  \n",
            "  inflating: train/7/00007_00020_00003.png  \n",
            "  inflating: train/7/00007_00020_00004.png  \n",
            "  inflating: train/7/00007_00020_00005.png  \n",
            "  inflating: train/7/00007_00020_00006.png  \n",
            "  inflating: train/7/00007_00020_00007.png  \n",
            "  inflating: train/7/00007_00020_00008.png  \n",
            "  inflating: train/7/00007_00020_00009.png  \n",
            "  inflating: train/7/00007_00020_00010.png  \n",
            "  inflating: train/7/00007_00020_00011.png  \n",
            "  inflating: train/7/00007_00020_00012.png  \n",
            "  inflating: train/7/00007_00020_00013.png  \n",
            "  inflating: train/7/00007_00020_00014.png  \n",
            "  inflating: train/7/00007_00020_00015.png  \n",
            "  inflating: train/7/00007_00020_00016.png  \n",
            "  inflating: train/7/00007_00020_00017.png  \n",
            "  inflating: train/7/00007_00020_00018.png  \n",
            "  inflating: train/7/00007_00020_00019.png  \n",
            "  inflating: train/7/00007_00020_00020.png  \n",
            "  inflating: train/7/00007_00020_00021.png  \n",
            "  inflating: train/7/00007_00020_00022.png  \n",
            "  inflating: train/7/00007_00020_00023.png  \n",
            "  inflating: train/7/00007_00020_00024.png  \n",
            "  inflating: train/7/00007_00020_00025.png  \n",
            "  inflating: train/7/00007_00020_00026.png  \n",
            "  inflating: train/7/00007_00020_00027.png  \n",
            "  inflating: train/7/00007_00020_00028.png  \n",
            "  inflating: train/7/00007_00020_00029.png  \n",
            "  inflating: train/7/00007_00021_00000.png  \n",
            "  inflating: train/7/00007_00021_00001.png  \n",
            "  inflating: train/7/00007_00021_00002.png  \n",
            "  inflating: train/7/00007_00021_00003.png  \n",
            "  inflating: train/7/00007_00021_00004.png  \n",
            "  inflating: train/7/00007_00021_00005.png  \n",
            "  inflating: train/7/00007_00021_00006.png  \n",
            "  inflating: train/7/00007_00021_00007.png  \n",
            "  inflating: train/7/00007_00021_00008.png  \n",
            "  inflating: train/7/00007_00021_00009.png  \n",
            "  inflating: train/7/00007_00021_00010.png  \n",
            "  inflating: train/7/00007_00021_00011.png  \n",
            "  inflating: train/7/00007_00021_00012.png  \n",
            "  inflating: train/7/00007_00021_00013.png  \n",
            "  inflating: train/7/00007_00021_00014.png  \n",
            "  inflating: train/7/00007_00021_00015.png  \n",
            "  inflating: train/7/00007_00021_00016.png  \n",
            "  inflating: train/7/00007_00021_00017.png  \n",
            "  inflating: train/7/00007_00021_00018.png  \n",
            "  inflating: train/7/00007_00021_00019.png  \n",
            "  inflating: train/7/00007_00021_00020.png  \n",
            "  inflating: train/7/00007_00021_00021.png  \n",
            "  inflating: train/7/00007_00021_00022.png  \n",
            "  inflating: train/7/00007_00021_00023.png  \n",
            "  inflating: train/7/00007_00021_00024.png  \n",
            "  inflating: train/7/00007_00021_00025.png  \n",
            "  inflating: train/7/00007_00021_00026.png  \n",
            "  inflating: train/7/00007_00021_00027.png  \n",
            "  inflating: train/7/00007_00021_00028.png  \n",
            "  inflating: train/7/00007_00021_00029.png  \n",
            "  inflating: train/7/00007_00022_00000.png  \n",
            "  inflating: train/7/00007_00022_00001.png  \n",
            "  inflating: train/7/00007_00022_00002.png  \n",
            "  inflating: train/7/00007_00022_00003.png  \n",
            "  inflating: train/7/00007_00022_00004.png  \n",
            "  inflating: train/7/00007_00022_00005.png  \n",
            "  inflating: train/7/00007_00022_00006.png  \n",
            "  inflating: train/7/00007_00022_00007.png  \n",
            "  inflating: train/7/00007_00022_00008.png  \n",
            "  inflating: train/7/00007_00022_00009.png  \n",
            "  inflating: train/7/00007_00022_00010.png  \n",
            "  inflating: train/7/00007_00022_00011.png  \n",
            "  inflating: train/7/00007_00022_00012.png  \n",
            "  inflating: train/7/00007_00022_00013.png  \n",
            "  inflating: train/7/00007_00022_00014.png  \n",
            "  inflating: train/7/00007_00022_00015.png  \n",
            "  inflating: train/7/00007_00022_00016.png  \n",
            "  inflating: train/7/00007_00022_00017.png  \n",
            "  inflating: train/7/00007_00022_00018.png  \n",
            "  inflating: train/7/00007_00022_00019.png  \n",
            "  inflating: train/7/00007_00022_00020.png  \n",
            "  inflating: train/7/00007_00022_00021.png  \n",
            "  inflating: train/7/00007_00022_00022.png  \n",
            "  inflating: train/7/00007_00022_00023.png  \n",
            "  inflating: train/7/00007_00022_00024.png  \n",
            "  inflating: train/7/00007_00022_00025.png  \n",
            "  inflating: train/7/00007_00022_00026.png  \n",
            "  inflating: train/7/00007_00022_00027.png  \n",
            "  inflating: train/7/00007_00022_00028.png  \n",
            "  inflating: train/7/00007_00022_00029.png  \n",
            "  inflating: train/7/00007_00023_00000.png  \n",
            "  inflating: train/7/00007_00023_00001.png  \n",
            "  inflating: train/7/00007_00023_00002.png  \n",
            "  inflating: train/7/00007_00023_00003.png  \n",
            "  inflating: train/7/00007_00023_00004.png  \n",
            "  inflating: train/7/00007_00023_00005.png  \n",
            "  inflating: train/7/00007_00023_00006.png  \n",
            "  inflating: train/7/00007_00023_00007.png  \n",
            "  inflating: train/7/00007_00023_00008.png  \n",
            "  inflating: train/7/00007_00023_00009.png  \n",
            "  inflating: train/7/00007_00023_00010.png  \n",
            "  inflating: train/7/00007_00023_00011.png  \n",
            "  inflating: train/7/00007_00023_00012.png  \n",
            "  inflating: train/7/00007_00023_00013.png  \n",
            "  inflating: train/7/00007_00023_00014.png  \n",
            "  inflating: train/7/00007_00023_00015.png  \n",
            "  inflating: train/7/00007_00023_00016.png  \n",
            "  inflating: train/7/00007_00023_00017.png  \n",
            "  inflating: train/7/00007_00023_00018.png  \n",
            "  inflating: train/7/00007_00023_00019.png  \n",
            "  inflating: train/7/00007_00023_00020.png  \n",
            "  inflating: train/7/00007_00023_00021.png  \n",
            "  inflating: train/7/00007_00023_00022.png  \n",
            "  inflating: train/7/00007_00023_00023.png  \n",
            "  inflating: train/7/00007_00023_00024.png  \n",
            "  inflating: train/7/00007_00023_00025.png  \n",
            "  inflating: train/7/00007_00023_00026.png  \n",
            "  inflating: train/7/00007_00023_00027.png  \n",
            "  inflating: train/7/00007_00023_00028.png  \n",
            "  inflating: train/7/00007_00023_00029.png  \n",
            "  inflating: train/7/00007_00024_00000.png  \n",
            "  inflating: train/7/00007_00024_00001.png  \n",
            "  inflating: train/7/00007_00024_00002.png  \n",
            "  inflating: train/7/00007_00024_00003.png  \n",
            "  inflating: train/7/00007_00024_00004.png  \n",
            "  inflating: train/7/00007_00024_00005.png  \n",
            "  inflating: train/7/00007_00024_00006.png  \n",
            "  inflating: train/7/00007_00024_00007.png  \n",
            "  inflating: train/7/00007_00024_00008.png  \n",
            "  inflating: train/7/00007_00024_00009.png  \n",
            "  inflating: train/7/00007_00024_00010.png  \n",
            "  inflating: train/7/00007_00024_00011.png  \n",
            "  inflating: train/7/00007_00024_00012.png  \n",
            "  inflating: train/7/00007_00024_00013.png  \n",
            "  inflating: train/7/00007_00024_00014.png  \n",
            "  inflating: train/7/00007_00024_00015.png  \n",
            "  inflating: train/7/00007_00024_00016.png  \n",
            "  inflating: train/7/00007_00024_00017.png  \n",
            "  inflating: train/7/00007_00024_00018.png  \n",
            "  inflating: train/7/00007_00024_00019.png  \n",
            "  inflating: train/7/00007_00024_00020.png  \n",
            "  inflating: train/7/00007_00024_00021.png  \n",
            "  inflating: train/7/00007_00024_00022.png  \n",
            "  inflating: train/7/00007_00024_00023.png  \n",
            "  inflating: train/7/00007_00024_00024.png  \n",
            "  inflating: train/7/00007_00024_00025.png  \n",
            "  inflating: train/7/00007_00024_00026.png  \n",
            "  inflating: train/7/00007_00024_00027.png  \n",
            "  inflating: train/7/00007_00024_00028.png  \n",
            "  inflating: train/7/00007_00024_00029.png  \n",
            "  inflating: train/7/00007_00025_00000.png  \n",
            "  inflating: train/7/00007_00025_00001.png  \n",
            "  inflating: train/7/00007_00025_00002.png  \n",
            "  inflating: train/7/00007_00025_00003.png  \n",
            "  inflating: train/7/00007_00025_00004.png  \n",
            "  inflating: train/7/00007_00025_00005.png  \n",
            "  inflating: train/7/00007_00025_00006.png  \n",
            "  inflating: train/7/00007_00025_00007.png  \n",
            "  inflating: train/7/00007_00025_00008.png  \n",
            "  inflating: train/7/00007_00025_00009.png  \n",
            "  inflating: train/7/00007_00025_00010.png  \n",
            "  inflating: train/7/00007_00025_00011.png  \n",
            "  inflating: train/7/00007_00025_00012.png  \n",
            "  inflating: train/7/00007_00025_00013.png  \n",
            "  inflating: train/7/00007_00025_00014.png  \n",
            "  inflating: train/7/00007_00025_00015.png  \n",
            "  inflating: train/7/00007_00025_00016.png  \n",
            "  inflating: train/7/00007_00025_00017.png  \n",
            "  inflating: train/7/00007_00025_00018.png  \n",
            "  inflating: train/7/00007_00025_00019.png  \n",
            "  inflating: train/7/00007_00025_00020.png  \n",
            "  inflating: train/7/00007_00025_00021.png  \n",
            "  inflating: train/7/00007_00025_00022.png  \n",
            "  inflating: train/7/00007_00025_00023.png  \n",
            "  inflating: train/7/00007_00025_00024.png  \n",
            "  inflating: train/7/00007_00025_00025.png  \n",
            "  inflating: train/7/00007_00025_00026.png  \n",
            "  inflating: train/7/00007_00025_00027.png  \n",
            "  inflating: train/7/00007_00025_00028.png  \n",
            "  inflating: train/7/00007_00025_00029.png  \n",
            "  inflating: train/7/00007_00026_00000.png  \n",
            "  inflating: train/7/00007_00026_00001.png  \n",
            "  inflating: train/7/00007_00026_00002.png  \n",
            "  inflating: train/7/00007_00026_00003.png  \n",
            "  inflating: train/7/00007_00026_00004.png  \n",
            "  inflating: train/7/00007_00026_00005.png  \n",
            "  inflating: train/7/00007_00026_00006.png  \n",
            "  inflating: train/7/00007_00026_00007.png  \n",
            "  inflating: train/7/00007_00026_00008.png  \n",
            "  inflating: train/7/00007_00026_00009.png  \n",
            "  inflating: train/7/00007_00026_00010.png  \n",
            "  inflating: train/7/00007_00026_00011.png  \n",
            "  inflating: train/7/00007_00026_00012.png  \n",
            "  inflating: train/7/00007_00026_00013.png  \n",
            "  inflating: train/7/00007_00026_00014.png  \n",
            "  inflating: train/7/00007_00026_00015.png  \n",
            "  inflating: train/7/00007_00026_00016.png  \n",
            "  inflating: train/7/00007_00026_00017.png  \n",
            "  inflating: train/7/00007_00026_00018.png  \n",
            "  inflating: train/7/00007_00026_00019.png  \n",
            "  inflating: train/7/00007_00026_00020.png  \n",
            "  inflating: train/7/00007_00026_00021.png  \n",
            "  inflating: train/7/00007_00026_00022.png  \n",
            "  inflating: train/7/00007_00026_00023.png  \n",
            "  inflating: train/7/00007_00026_00024.png  \n",
            "  inflating: train/7/00007_00026_00025.png  \n",
            "  inflating: train/7/00007_00026_00026.png  \n",
            "  inflating: train/7/00007_00026_00027.png  \n",
            "  inflating: train/7/00007_00026_00028.png  \n",
            "  inflating: train/7/00007_00026_00029.png  \n",
            "  inflating: train/7/00007_00027_00000.png  \n",
            "  inflating: train/7/00007_00027_00001.png  \n",
            "  inflating: train/7/00007_00027_00002.png  \n",
            "  inflating: train/7/00007_00027_00003.png  \n",
            "  inflating: train/7/00007_00027_00004.png  \n",
            "  inflating: train/7/00007_00027_00005.png  \n",
            "  inflating: train/7/00007_00027_00006.png  \n",
            "  inflating: train/7/00007_00027_00007.png  \n",
            "  inflating: train/7/00007_00027_00008.png  \n",
            "  inflating: train/7/00007_00027_00009.png  \n",
            "  inflating: train/7/00007_00027_00010.png  \n",
            "  inflating: train/7/00007_00027_00011.png  \n",
            "  inflating: train/7/00007_00027_00012.png  \n",
            "  inflating: train/7/00007_00027_00013.png  \n",
            "  inflating: train/7/00007_00027_00014.png  \n",
            "  inflating: train/7/00007_00027_00015.png  \n",
            "  inflating: train/7/00007_00027_00016.png  \n",
            "  inflating: train/7/00007_00027_00017.png  \n",
            "  inflating: train/7/00007_00027_00018.png  \n",
            "  inflating: train/7/00007_00027_00019.png  \n",
            "  inflating: train/7/00007_00027_00020.png  \n",
            "  inflating: train/7/00007_00027_00021.png  \n",
            "  inflating: train/7/00007_00027_00022.png  \n",
            "  inflating: train/7/00007_00027_00023.png  \n",
            "  inflating: train/7/00007_00027_00024.png  \n",
            "  inflating: train/7/00007_00027_00025.png  \n",
            "  inflating: train/7/00007_00027_00026.png  \n",
            "  inflating: train/7/00007_00027_00027.png  \n",
            "  inflating: train/7/00007_00027_00028.png  \n",
            "  inflating: train/7/00007_00027_00029.png  \n",
            "  inflating: train/7/00007_00028_00000.png  \n",
            "  inflating: train/7/00007_00028_00001.png  \n",
            "  inflating: train/7/00007_00028_00002.png  \n",
            "  inflating: train/7/00007_00028_00003.png  \n",
            "  inflating: train/7/00007_00028_00004.png  \n",
            "  inflating: train/7/00007_00028_00005.png  \n",
            "  inflating: train/7/00007_00028_00006.png  \n",
            "  inflating: train/7/00007_00028_00007.png  \n",
            "  inflating: train/7/00007_00028_00008.png  \n",
            "  inflating: train/7/00007_00028_00009.png  \n",
            "  inflating: train/7/00007_00028_00010.png  \n",
            "  inflating: train/7/00007_00028_00011.png  \n",
            "  inflating: train/7/00007_00028_00012.png  \n",
            "  inflating: train/7/00007_00028_00013.png  \n",
            "  inflating: train/7/00007_00028_00014.png  \n",
            "  inflating: train/7/00007_00028_00015.png  \n",
            "  inflating: train/7/00007_00028_00016.png  \n",
            "  inflating: train/7/00007_00028_00017.png  \n",
            "  inflating: train/7/00007_00028_00018.png  \n",
            "  inflating: train/7/00007_00028_00019.png  \n",
            "  inflating: train/7/00007_00028_00020.png  \n",
            "  inflating: train/7/00007_00028_00021.png  \n",
            "  inflating: train/7/00007_00028_00022.png  \n",
            "  inflating: train/7/00007_00028_00023.png  \n",
            "  inflating: train/7/00007_00028_00024.png  \n",
            "  inflating: train/7/00007_00028_00025.png  \n",
            "  inflating: train/7/00007_00028_00026.png  \n",
            "  inflating: train/7/00007_00028_00027.png  \n",
            "  inflating: train/7/00007_00028_00028.png  \n",
            "  inflating: train/7/00007_00028_00029.png  \n",
            "  inflating: train/7/00007_00029_00000.png  \n",
            "  inflating: train/7/00007_00029_00001.png  \n",
            "  inflating: train/7/00007_00029_00002.png  \n",
            "  inflating: train/7/00007_00029_00003.png  \n",
            "  inflating: train/7/00007_00029_00004.png  \n",
            "  inflating: train/7/00007_00029_00005.png  \n",
            "  inflating: train/7/00007_00029_00006.png  \n",
            "  inflating: train/7/00007_00029_00007.png  \n",
            "  inflating: train/7/00007_00029_00008.png  \n",
            "  inflating: train/7/00007_00029_00009.png  \n",
            "  inflating: train/7/00007_00029_00010.png  \n",
            "  inflating: train/7/00007_00029_00011.png  \n",
            "  inflating: train/7/00007_00029_00012.png  \n",
            "  inflating: train/7/00007_00029_00013.png  \n",
            "  inflating: train/7/00007_00029_00014.png  \n",
            "  inflating: train/7/00007_00029_00015.png  \n",
            "  inflating: train/7/00007_00029_00016.png  \n",
            "  inflating: train/7/00007_00029_00017.png  \n",
            "  inflating: train/7/00007_00029_00018.png  \n",
            "  inflating: train/7/00007_00029_00019.png  \n",
            "  inflating: train/7/00007_00029_00020.png  \n",
            "  inflating: train/7/00007_00029_00021.png  \n",
            "  inflating: train/7/00007_00029_00022.png  \n",
            "  inflating: train/7/00007_00029_00023.png  \n",
            "  inflating: train/7/00007_00029_00024.png  \n",
            "  inflating: train/7/00007_00029_00025.png  \n",
            "  inflating: train/7/00007_00029_00026.png  \n",
            "  inflating: train/7/00007_00029_00027.png  \n",
            "  inflating: train/7/00007_00029_00028.png  \n",
            "  inflating: train/7/00007_00029_00029.png  \n",
            "  inflating: train/7/00007_00030_00000.png  \n",
            "  inflating: train/7/00007_00030_00001.png  \n",
            "  inflating: train/7/00007_00030_00002.png  \n",
            "  inflating: train/7/00007_00030_00003.png  \n",
            "  inflating: train/7/00007_00030_00004.png  \n",
            "  inflating: train/7/00007_00030_00005.png  \n",
            "  inflating: train/7/00007_00030_00006.png  \n",
            "  inflating: train/7/00007_00030_00007.png  \n",
            "  inflating: train/7/00007_00030_00008.png  \n",
            "  inflating: train/7/00007_00030_00009.png  \n",
            "  inflating: train/7/00007_00030_00010.png  \n",
            "  inflating: train/7/00007_00030_00011.png  \n",
            "  inflating: train/7/00007_00030_00012.png  \n",
            "  inflating: train/7/00007_00030_00013.png  \n",
            "  inflating: train/7/00007_00030_00014.png  \n",
            "  inflating: train/7/00007_00030_00015.png  \n",
            "  inflating: train/7/00007_00030_00016.png  \n",
            "  inflating: train/7/00007_00030_00017.png  \n",
            "  inflating: train/7/00007_00030_00018.png  \n",
            "  inflating: train/7/00007_00030_00019.png  \n",
            "  inflating: train/7/00007_00030_00020.png  \n",
            "  inflating: train/7/00007_00030_00021.png  \n",
            "  inflating: train/7/00007_00030_00022.png  \n",
            "  inflating: train/7/00007_00030_00023.png  \n",
            "  inflating: train/7/00007_00030_00024.png  \n",
            "  inflating: train/7/00007_00030_00025.png  \n",
            "  inflating: train/7/00007_00030_00026.png  \n",
            "  inflating: train/7/00007_00030_00027.png  \n",
            "  inflating: train/7/00007_00030_00028.png  \n",
            "  inflating: train/7/00007_00030_00029.png  \n",
            "  inflating: train/7/00007_00031_00000.png  \n",
            "  inflating: train/7/00007_00031_00001.png  \n",
            "  inflating: train/7/00007_00031_00002.png  \n",
            "  inflating: train/7/00007_00031_00003.png  \n",
            "  inflating: train/7/00007_00031_00004.png  \n",
            "  inflating: train/7/00007_00031_00005.png  \n",
            "  inflating: train/7/00007_00031_00006.png  \n",
            "  inflating: train/7/00007_00031_00007.png  \n",
            "  inflating: train/7/00007_00031_00008.png  \n",
            "  inflating: train/7/00007_00031_00009.png  \n",
            "  inflating: train/7/00007_00031_00010.png  \n",
            "  inflating: train/7/00007_00031_00011.png  \n",
            "  inflating: train/7/00007_00031_00012.png  \n",
            "  inflating: train/7/00007_00031_00013.png  \n",
            "  inflating: train/7/00007_00031_00014.png  \n",
            "  inflating: train/7/00007_00031_00015.png  \n",
            "  inflating: train/7/00007_00031_00016.png  \n",
            "  inflating: train/7/00007_00031_00017.png  \n",
            "  inflating: train/7/00007_00031_00018.png  \n",
            "  inflating: train/7/00007_00031_00019.png  \n",
            "  inflating: train/7/00007_00031_00020.png  \n",
            "  inflating: train/7/00007_00031_00021.png  \n",
            "  inflating: train/7/00007_00031_00022.png  \n",
            "  inflating: train/7/00007_00031_00023.png  \n",
            "  inflating: train/7/00007_00031_00024.png  \n",
            "  inflating: train/7/00007_00031_00025.png  \n",
            "  inflating: train/7/00007_00031_00026.png  \n",
            "  inflating: train/7/00007_00031_00027.png  \n",
            "  inflating: train/7/00007_00031_00028.png  \n",
            "  inflating: train/7/00007_00031_00029.png  \n",
            "  inflating: train/7/00007_00032_00000.png  \n",
            "  inflating: train/7/00007_00032_00001.png  \n",
            "  inflating: train/7/00007_00032_00002.png  \n",
            "  inflating: train/7/00007_00032_00003.png  \n",
            "  inflating: train/7/00007_00032_00004.png  \n",
            "  inflating: train/7/00007_00032_00005.png  \n",
            "  inflating: train/7/00007_00032_00006.png  \n",
            "  inflating: train/7/00007_00032_00007.png  \n",
            "  inflating: train/7/00007_00032_00008.png  \n",
            "  inflating: train/7/00007_00032_00009.png  \n",
            "  inflating: train/7/00007_00032_00010.png  \n",
            "  inflating: train/7/00007_00032_00011.png  \n",
            "  inflating: train/7/00007_00032_00012.png  \n",
            "  inflating: train/7/00007_00032_00013.png  \n",
            "  inflating: train/7/00007_00032_00014.png  \n",
            "  inflating: train/7/00007_00032_00015.png  \n",
            "  inflating: train/7/00007_00032_00016.png  \n",
            "  inflating: train/7/00007_00032_00017.png  \n",
            "  inflating: train/7/00007_00032_00018.png  \n",
            "  inflating: train/7/00007_00032_00019.png  \n",
            "  inflating: train/7/00007_00032_00020.png  \n",
            "  inflating: train/7/00007_00032_00021.png  \n",
            "  inflating: train/7/00007_00032_00022.png  \n",
            "  inflating: train/7/00007_00032_00023.png  \n",
            "  inflating: train/7/00007_00032_00024.png  \n",
            "  inflating: train/7/00007_00032_00025.png  \n",
            "  inflating: train/7/00007_00032_00026.png  \n",
            "  inflating: train/7/00007_00032_00027.png  \n",
            "  inflating: train/7/00007_00032_00028.png  \n",
            "  inflating: train/7/00007_00032_00029.png  \n",
            "  inflating: train/7/00007_00033_00000.png  \n",
            "  inflating: train/7/00007_00033_00001.png  \n",
            "  inflating: train/7/00007_00033_00002.png  \n",
            "  inflating: train/7/00007_00033_00003.png  \n",
            "  inflating: train/7/00007_00033_00004.png  \n",
            "  inflating: train/7/00007_00033_00005.png  \n",
            "  inflating: train/7/00007_00033_00006.png  \n",
            "  inflating: train/7/00007_00033_00007.png  \n",
            "  inflating: train/7/00007_00033_00008.png  \n",
            "  inflating: train/7/00007_00033_00009.png  \n",
            "  inflating: train/7/00007_00033_00010.png  \n",
            "  inflating: train/7/00007_00033_00011.png  \n",
            "  inflating: train/7/00007_00033_00012.png  \n",
            "  inflating: train/7/00007_00033_00013.png  \n",
            "  inflating: train/7/00007_00033_00014.png  \n",
            "  inflating: train/7/00007_00033_00015.png  \n",
            "  inflating: train/7/00007_00033_00016.png  \n",
            "  inflating: train/7/00007_00033_00017.png  \n",
            "  inflating: train/7/00007_00033_00018.png  \n",
            "  inflating: train/7/00007_00033_00019.png  \n",
            "  inflating: train/7/00007_00033_00020.png  \n",
            "  inflating: train/7/00007_00033_00021.png  \n",
            "  inflating: train/7/00007_00033_00022.png  \n",
            "  inflating: train/7/00007_00033_00023.png  \n",
            "  inflating: train/7/00007_00033_00024.png  \n",
            "  inflating: train/7/00007_00033_00025.png  \n",
            "  inflating: train/7/00007_00033_00026.png  \n",
            "  inflating: train/7/00007_00033_00027.png  \n",
            "  inflating: train/7/00007_00033_00028.png  \n",
            "  inflating: train/7/00007_00033_00029.png  \n",
            "  inflating: train/7/00007_00034_00000.png  \n",
            "  inflating: train/7/00007_00034_00001.png  \n",
            "  inflating: train/7/00007_00034_00002.png  \n",
            "  inflating: train/7/00007_00034_00003.png  \n",
            "  inflating: train/7/00007_00034_00004.png  \n",
            "  inflating: train/7/00007_00034_00005.png  \n",
            "  inflating: train/7/00007_00034_00006.png  \n",
            "  inflating: train/7/00007_00034_00007.png  \n",
            "  inflating: train/7/00007_00034_00008.png  \n",
            "  inflating: train/7/00007_00034_00009.png  \n",
            "  inflating: train/7/00007_00034_00010.png  \n",
            "  inflating: train/7/00007_00034_00011.png  \n",
            "  inflating: train/7/00007_00034_00012.png  \n",
            "  inflating: train/7/00007_00034_00013.png  \n",
            "  inflating: train/7/00007_00034_00014.png  \n",
            "  inflating: train/7/00007_00034_00015.png  \n",
            "  inflating: train/7/00007_00034_00016.png  \n",
            "  inflating: train/7/00007_00034_00017.png  \n",
            "  inflating: train/7/00007_00034_00018.png  \n",
            "  inflating: train/7/00007_00034_00019.png  \n",
            "  inflating: train/7/00007_00034_00020.png  \n",
            "  inflating: train/7/00007_00034_00021.png  \n",
            "  inflating: train/7/00007_00034_00022.png  \n",
            "  inflating: train/7/00007_00034_00023.png  \n",
            "  inflating: train/7/00007_00034_00024.png  \n",
            "  inflating: train/7/00007_00034_00025.png  \n",
            "  inflating: train/7/00007_00034_00026.png  \n",
            "  inflating: train/7/00007_00034_00027.png  \n",
            "  inflating: train/7/00007_00034_00028.png  \n",
            "  inflating: train/7/00007_00034_00029.png  \n",
            "  inflating: train/7/00007_00035_00000.png  \n",
            "  inflating: train/7/00007_00035_00001.png  \n",
            "  inflating: train/7/00007_00035_00002.png  \n",
            "  inflating: train/7/00007_00035_00003.png  \n",
            "  inflating: train/7/00007_00035_00004.png  \n",
            "  inflating: train/7/00007_00035_00005.png  \n",
            "  inflating: train/7/00007_00035_00006.png  \n",
            "  inflating: train/7/00007_00035_00007.png  \n",
            "  inflating: train/7/00007_00035_00008.png  \n",
            "  inflating: train/7/00007_00035_00009.png  \n",
            "  inflating: train/7/00007_00035_00010.png  \n",
            "  inflating: train/7/00007_00035_00011.png  \n",
            "  inflating: train/7/00007_00035_00012.png  \n",
            "  inflating: train/7/00007_00035_00013.png  \n",
            "  inflating: train/7/00007_00035_00014.png  \n",
            "  inflating: train/7/00007_00035_00015.png  \n",
            "  inflating: train/7/00007_00035_00016.png  \n",
            "  inflating: train/7/00007_00035_00017.png  \n",
            "  inflating: train/7/00007_00035_00018.png  \n",
            "  inflating: train/7/00007_00035_00019.png  \n",
            "  inflating: train/7/00007_00035_00020.png  \n",
            "  inflating: train/7/00007_00035_00021.png  \n",
            "  inflating: train/7/00007_00035_00022.png  \n",
            "  inflating: train/7/00007_00035_00023.png  \n",
            "  inflating: train/7/00007_00035_00024.png  \n",
            "  inflating: train/7/00007_00035_00025.png  \n",
            "  inflating: train/7/00007_00035_00026.png  \n",
            "  inflating: train/7/00007_00035_00027.png  \n",
            "  inflating: train/7/00007_00035_00028.png  \n",
            "  inflating: train/7/00007_00035_00029.png  \n",
            "  inflating: train/7/00007_00036_00000.png  \n",
            "  inflating: train/7/00007_00036_00001.png  \n",
            "  inflating: train/7/00007_00036_00002.png  \n",
            "  inflating: train/7/00007_00036_00003.png  \n",
            "  inflating: train/7/00007_00036_00004.png  \n",
            "  inflating: train/7/00007_00036_00005.png  \n",
            "  inflating: train/7/00007_00036_00006.png  \n",
            "  inflating: train/7/00007_00036_00007.png  \n",
            "  inflating: train/7/00007_00036_00008.png  \n",
            "  inflating: train/7/00007_00036_00009.png  \n",
            "  inflating: train/7/00007_00036_00010.png  \n",
            "  inflating: train/7/00007_00036_00011.png  \n",
            "  inflating: train/7/00007_00036_00012.png  \n",
            "  inflating: train/7/00007_00036_00013.png  \n",
            "  inflating: train/7/00007_00036_00014.png  \n",
            "  inflating: train/7/00007_00036_00015.png  \n",
            "  inflating: train/7/00007_00036_00016.png  \n",
            "  inflating: train/7/00007_00036_00017.png  \n",
            "  inflating: train/7/00007_00036_00018.png  \n",
            "  inflating: train/7/00007_00036_00019.png  \n",
            "  inflating: train/7/00007_00036_00020.png  \n",
            "  inflating: train/7/00007_00036_00021.png  \n",
            "  inflating: train/7/00007_00036_00022.png  \n",
            "  inflating: train/7/00007_00036_00023.png  \n",
            "  inflating: train/7/00007_00036_00024.png  \n",
            "  inflating: train/7/00007_00036_00025.png  \n",
            "  inflating: train/7/00007_00036_00026.png  \n",
            "  inflating: train/7/00007_00036_00027.png  \n",
            "  inflating: train/7/00007_00036_00028.png  \n",
            "  inflating: train/7/00007_00036_00029.png  \n",
            "  inflating: train/7/00007_00037_00000.png  \n",
            "  inflating: train/7/00007_00037_00001.png  \n",
            "  inflating: train/7/00007_00037_00002.png  \n",
            "  inflating: train/7/00007_00037_00003.png  \n",
            "  inflating: train/7/00007_00037_00004.png  \n",
            "  inflating: train/7/00007_00037_00005.png  \n",
            "  inflating: train/7/00007_00037_00006.png  \n",
            "  inflating: train/7/00007_00037_00007.png  \n",
            "  inflating: train/7/00007_00037_00008.png  \n",
            "  inflating: train/7/00007_00037_00009.png  \n",
            "  inflating: train/7/00007_00037_00010.png  \n",
            "  inflating: train/7/00007_00037_00011.png  \n",
            "  inflating: train/7/00007_00037_00012.png  \n",
            "  inflating: train/7/00007_00037_00013.png  \n",
            "  inflating: train/7/00007_00037_00014.png  \n",
            "  inflating: train/7/00007_00037_00015.png  \n",
            "  inflating: train/7/00007_00037_00016.png  \n",
            "  inflating: train/7/00007_00037_00017.png  \n",
            "  inflating: train/7/00007_00037_00018.png  \n",
            "  inflating: train/7/00007_00037_00019.png  \n",
            "  inflating: train/7/00007_00037_00020.png  \n",
            "  inflating: train/7/00007_00037_00021.png  \n",
            "  inflating: train/7/00007_00037_00022.png  \n",
            "  inflating: train/7/00007_00037_00023.png  \n",
            "  inflating: train/7/00007_00037_00024.png  \n",
            "  inflating: train/7/00007_00037_00025.png  \n",
            "  inflating: train/7/00007_00037_00026.png  \n",
            "  inflating: train/7/00007_00037_00027.png  \n",
            "  inflating: train/7/00007_00037_00028.png  \n",
            "  inflating: train/7/00007_00037_00029.png  \n",
            "  inflating: train/7/00007_00038_00000.png  \n",
            "  inflating: train/7/00007_00038_00001.png  \n",
            "  inflating: train/7/00007_00038_00002.png  \n",
            "  inflating: train/7/00007_00038_00003.png  \n",
            "  inflating: train/7/00007_00038_00004.png  \n",
            "  inflating: train/7/00007_00038_00005.png  \n",
            "  inflating: train/7/00007_00038_00006.png  \n",
            "  inflating: train/7/00007_00038_00007.png  \n",
            "  inflating: train/7/00007_00038_00008.png  \n",
            "  inflating: train/7/00007_00038_00009.png  \n",
            "  inflating: train/7/00007_00038_00010.png  \n",
            "  inflating: train/7/00007_00038_00011.png  \n",
            "  inflating: train/7/00007_00038_00012.png  \n",
            "  inflating: train/7/00007_00038_00013.png  \n",
            "  inflating: train/7/00007_00038_00014.png  \n",
            "  inflating: train/7/00007_00038_00015.png  \n",
            "  inflating: train/7/00007_00038_00016.png  \n",
            "  inflating: train/7/00007_00038_00017.png  \n",
            "  inflating: train/7/00007_00038_00018.png  \n",
            "  inflating: train/7/00007_00038_00019.png  \n",
            "  inflating: train/7/00007_00038_00020.png  \n",
            "  inflating: train/7/00007_00038_00021.png  \n",
            "  inflating: train/7/00007_00038_00022.png  \n",
            "  inflating: train/7/00007_00038_00023.png  \n",
            "  inflating: train/7/00007_00038_00024.png  \n",
            "  inflating: train/7/00007_00038_00025.png  \n",
            "  inflating: train/7/00007_00038_00026.png  \n",
            "  inflating: train/7/00007_00038_00027.png  \n",
            "  inflating: train/7/00007_00038_00028.png  \n",
            "  inflating: train/7/00007_00038_00029.png  \n",
            "  inflating: train/7/00007_00039_00000.png  \n",
            "  inflating: train/7/00007_00039_00001.png  \n",
            "  inflating: train/7/00007_00039_00002.png  \n",
            "  inflating: train/7/00007_00039_00003.png  \n",
            "  inflating: train/7/00007_00039_00004.png  \n",
            "  inflating: train/7/00007_00039_00005.png  \n",
            "  inflating: train/7/00007_00039_00006.png  \n",
            "  inflating: train/7/00007_00039_00007.png  \n",
            "  inflating: train/7/00007_00039_00008.png  \n",
            "  inflating: train/7/00007_00039_00009.png  \n",
            "  inflating: train/7/00007_00039_00010.png  \n",
            "  inflating: train/7/00007_00039_00011.png  \n",
            "  inflating: train/7/00007_00039_00012.png  \n",
            "  inflating: train/7/00007_00039_00013.png  \n",
            "  inflating: train/7/00007_00039_00014.png  \n",
            "  inflating: train/7/00007_00039_00015.png  \n",
            "  inflating: train/7/00007_00039_00016.png  \n",
            "  inflating: train/7/00007_00039_00017.png  \n",
            "  inflating: train/7/00007_00039_00018.png  \n",
            "  inflating: train/7/00007_00039_00019.png  \n",
            "  inflating: train/7/00007_00039_00020.png  \n",
            "  inflating: train/7/00007_00039_00021.png  \n",
            "  inflating: train/7/00007_00039_00022.png  \n",
            "  inflating: train/7/00007_00039_00023.png  \n",
            "  inflating: train/7/00007_00039_00024.png  \n",
            "  inflating: train/7/00007_00039_00025.png  \n",
            "  inflating: train/7/00007_00039_00026.png  \n",
            "  inflating: train/7/00007_00039_00027.png  \n",
            "  inflating: train/7/00007_00039_00028.png  \n",
            "  inflating: train/7/00007_00039_00029.png  \n",
            "  inflating: train/7/00007_00040_00000.png  \n",
            "  inflating: train/7/00007_00040_00001.png  \n",
            "  inflating: train/7/00007_00040_00002.png  \n",
            "  inflating: train/7/00007_00040_00003.png  \n",
            "  inflating: train/7/00007_00040_00004.png  \n",
            "  inflating: train/7/00007_00040_00005.png  \n",
            "  inflating: train/7/00007_00040_00006.png  \n",
            "  inflating: train/7/00007_00040_00007.png  \n",
            "  inflating: train/7/00007_00040_00008.png  \n",
            "  inflating: train/7/00007_00040_00009.png  \n",
            "  inflating: train/7/00007_00040_00010.png  \n",
            "  inflating: train/7/00007_00040_00011.png  \n",
            "  inflating: train/7/00007_00040_00012.png  \n",
            "  inflating: train/7/00007_00040_00013.png  \n",
            "  inflating: train/7/00007_00040_00014.png  \n",
            "  inflating: train/7/00007_00040_00015.png  \n",
            "  inflating: train/7/00007_00040_00016.png  \n",
            "  inflating: train/7/00007_00040_00017.png  \n",
            "  inflating: train/7/00007_00040_00018.png  \n",
            "  inflating: train/7/00007_00040_00019.png  \n",
            "  inflating: train/7/00007_00040_00020.png  \n",
            "  inflating: train/7/00007_00040_00021.png  \n",
            "  inflating: train/7/00007_00040_00022.png  \n",
            "  inflating: train/7/00007_00040_00023.png  \n",
            "  inflating: train/7/00007_00040_00024.png  \n",
            "  inflating: train/7/00007_00040_00025.png  \n",
            "  inflating: train/7/00007_00040_00026.png  \n",
            "  inflating: train/7/00007_00040_00027.png  \n",
            "  inflating: train/7/00007_00040_00028.png  \n",
            "  inflating: train/7/00007_00040_00029.png  \n",
            "  inflating: train/7/00007_00041_00000.png  \n",
            "  inflating: train/7/00007_00041_00001.png  \n",
            "  inflating: train/7/00007_00041_00002.png  \n",
            "  inflating: train/7/00007_00041_00003.png  \n",
            "  inflating: train/7/00007_00041_00004.png  \n",
            "  inflating: train/7/00007_00041_00005.png  \n",
            "  inflating: train/7/00007_00041_00006.png  \n",
            "  inflating: train/7/00007_00041_00007.png  \n",
            "  inflating: train/7/00007_00041_00008.png  \n",
            "  inflating: train/7/00007_00041_00009.png  \n",
            "  inflating: train/7/00007_00041_00010.png  \n",
            "  inflating: train/7/00007_00041_00011.png  \n",
            "  inflating: train/7/00007_00041_00012.png  \n",
            "  inflating: train/7/00007_00041_00013.png  \n",
            "  inflating: train/7/00007_00041_00014.png  \n",
            "  inflating: train/7/00007_00041_00015.png  \n",
            "  inflating: train/7/00007_00041_00016.png  \n",
            "  inflating: train/7/00007_00041_00017.png  \n",
            "  inflating: train/7/00007_00041_00018.png  \n",
            "  inflating: train/7/00007_00041_00019.png  \n",
            "  inflating: train/7/00007_00041_00020.png  \n",
            "  inflating: train/7/00007_00041_00021.png  \n",
            "  inflating: train/7/00007_00041_00022.png  \n",
            "  inflating: train/7/00007_00041_00023.png  \n",
            "  inflating: train/7/00007_00041_00024.png  \n",
            "  inflating: train/7/00007_00041_00025.png  \n",
            "  inflating: train/7/00007_00041_00026.png  \n",
            "  inflating: train/7/00007_00041_00027.png  \n",
            "  inflating: train/7/00007_00041_00028.png  \n",
            "  inflating: train/7/00007_00041_00029.png  \n",
            "  inflating: train/7/00007_00042_00000.png  \n",
            "  inflating: train/7/00007_00042_00001.png  \n",
            "  inflating: train/7/00007_00042_00002.png  \n",
            "  inflating: train/7/00007_00042_00003.png  \n",
            "  inflating: train/7/00007_00042_00004.png  \n",
            "  inflating: train/7/00007_00042_00005.png  \n",
            "  inflating: train/7/00007_00042_00006.png  \n",
            "  inflating: train/7/00007_00042_00007.png  \n",
            "  inflating: train/7/00007_00042_00008.png  \n",
            "  inflating: train/7/00007_00042_00009.png  \n",
            "  inflating: train/7/00007_00042_00010.png  \n",
            "  inflating: train/7/00007_00042_00011.png  \n",
            "  inflating: train/7/00007_00042_00012.png  \n",
            "  inflating: train/7/00007_00042_00013.png  \n",
            "  inflating: train/7/00007_00042_00014.png  \n",
            "  inflating: train/7/00007_00042_00015.png  \n",
            "  inflating: train/7/00007_00042_00016.png  \n",
            "  inflating: train/7/00007_00042_00017.png  \n",
            "  inflating: train/7/00007_00042_00018.png  \n",
            "  inflating: train/7/00007_00042_00019.png  \n",
            "  inflating: train/7/00007_00042_00020.png  \n",
            "  inflating: train/7/00007_00042_00021.png  \n",
            "  inflating: train/7/00007_00042_00022.png  \n",
            "  inflating: train/7/00007_00042_00023.png  \n",
            "  inflating: train/7/00007_00042_00024.png  \n",
            "  inflating: train/7/00007_00042_00025.png  \n",
            "  inflating: train/7/00007_00042_00026.png  \n",
            "  inflating: train/7/00007_00042_00027.png  \n",
            "  inflating: train/7/00007_00042_00028.png  \n",
            "  inflating: train/7/00007_00042_00029.png  \n",
            "  inflating: train/7/00007_00043_00000.png  \n",
            "  inflating: train/7/00007_00043_00001.png  \n",
            "  inflating: train/7/00007_00043_00002.png  \n",
            "  inflating: train/7/00007_00043_00003.png  \n",
            "  inflating: train/7/00007_00043_00004.png  \n",
            "  inflating: train/7/00007_00043_00005.png  \n",
            "  inflating: train/7/00007_00043_00006.png  \n",
            "  inflating: train/7/00007_00043_00007.png  \n",
            "  inflating: train/7/00007_00043_00008.png  \n",
            "  inflating: train/7/00007_00043_00009.png  \n",
            "  inflating: train/7/00007_00043_00010.png  \n",
            "  inflating: train/7/00007_00043_00011.png  \n",
            "  inflating: train/7/00007_00043_00012.png  \n",
            "  inflating: train/7/00007_00043_00013.png  \n",
            "  inflating: train/7/00007_00043_00014.png  \n",
            "  inflating: train/7/00007_00043_00015.png  \n",
            "  inflating: train/7/00007_00043_00016.png  \n",
            "  inflating: train/7/00007_00043_00017.png  \n",
            "  inflating: train/7/00007_00043_00018.png  \n",
            "  inflating: train/7/00007_00043_00019.png  \n",
            "  inflating: train/7/00007_00043_00020.png  \n",
            "  inflating: train/7/00007_00043_00021.png  \n",
            "  inflating: train/7/00007_00043_00022.png  \n",
            "  inflating: train/7/00007_00043_00023.png  \n",
            "  inflating: train/7/00007_00043_00024.png  \n",
            "  inflating: train/7/00007_00043_00025.png  \n",
            "  inflating: train/7/00007_00043_00026.png  \n",
            "  inflating: train/7/00007_00043_00027.png  \n",
            "  inflating: train/7/00007_00043_00028.png  \n",
            "  inflating: train/7/00007_00043_00029.png  \n",
            "  inflating: train/7/00007_00044_00000.png  \n",
            "  inflating: train/7/00007_00044_00001.png  \n",
            "  inflating: train/7/00007_00044_00002.png  \n",
            "  inflating: train/7/00007_00044_00003.png  \n",
            "  inflating: train/7/00007_00044_00004.png  \n",
            "  inflating: train/7/00007_00044_00005.png  \n",
            "  inflating: train/7/00007_00044_00006.png  \n",
            "  inflating: train/7/00007_00044_00007.png  \n",
            "  inflating: train/7/00007_00044_00008.png  \n",
            "  inflating: train/7/00007_00044_00009.png  \n",
            "  inflating: train/7/00007_00044_00010.png  \n",
            "  inflating: train/7/00007_00044_00011.png  \n",
            "  inflating: train/7/00007_00044_00012.png  \n",
            "  inflating: train/7/00007_00044_00013.png  \n",
            "  inflating: train/7/00007_00044_00014.png  \n",
            "  inflating: train/7/00007_00044_00015.png  \n",
            "  inflating: train/7/00007_00044_00016.png  \n",
            "  inflating: train/7/00007_00044_00017.png  \n",
            "  inflating: train/7/00007_00044_00018.png  \n",
            "  inflating: train/7/00007_00044_00019.png  \n",
            "  inflating: train/7/00007_00044_00020.png  \n",
            "  inflating: train/7/00007_00044_00021.png  \n",
            "  inflating: train/7/00007_00044_00022.png  \n",
            "  inflating: train/7/00007_00044_00023.png  \n",
            "  inflating: train/7/00007_00044_00024.png  \n",
            "  inflating: train/7/00007_00044_00025.png  \n",
            "  inflating: train/7/00007_00044_00026.png  \n",
            "  inflating: train/7/00007_00044_00027.png  \n",
            "  inflating: train/7/00007_00044_00028.png  \n",
            "  inflating: train/7/00007_00044_00029.png  \n",
            "  inflating: train/7/00007_00045_00000.png  \n",
            "  inflating: train/7/00007_00045_00001.png  \n",
            "  inflating: train/7/00007_00045_00002.png  \n",
            "  inflating: train/7/00007_00045_00003.png  \n",
            "  inflating: train/7/00007_00045_00004.png  \n",
            "  inflating: train/7/00007_00045_00005.png  \n",
            "  inflating: train/7/00007_00045_00006.png  \n",
            "  inflating: train/7/00007_00045_00007.png  \n",
            "  inflating: train/7/00007_00045_00008.png  \n",
            "  inflating: train/7/00007_00045_00009.png  \n",
            "  inflating: train/7/00007_00045_00010.png  \n",
            "  inflating: train/7/00007_00045_00011.png  \n",
            "  inflating: train/7/00007_00045_00012.png  \n",
            "  inflating: train/7/00007_00045_00013.png  \n",
            "  inflating: train/7/00007_00045_00014.png  \n",
            "  inflating: train/7/00007_00045_00015.png  \n",
            "  inflating: train/7/00007_00045_00016.png  \n",
            "  inflating: train/7/00007_00045_00017.png  \n",
            "  inflating: train/7/00007_00045_00018.png  \n",
            "  inflating: train/7/00007_00045_00019.png  \n",
            "  inflating: train/7/00007_00045_00020.png  \n",
            "  inflating: train/7/00007_00045_00021.png  \n",
            "  inflating: train/7/00007_00045_00022.png  \n",
            "  inflating: train/7/00007_00045_00023.png  \n",
            "  inflating: train/7/00007_00045_00024.png  \n",
            "  inflating: train/7/00007_00045_00025.png  \n",
            "  inflating: train/7/00007_00045_00026.png  \n",
            "  inflating: train/7/00007_00045_00027.png  \n",
            "  inflating: train/7/00007_00045_00028.png  \n",
            "  inflating: train/7/00007_00045_00029.png  \n",
            "  inflating: train/7/00007_00046_00000.png  \n",
            "  inflating: train/7/00007_00046_00001.png  \n",
            "  inflating: train/7/00007_00046_00002.png  \n",
            "  inflating: train/7/00007_00046_00003.png  \n",
            "  inflating: train/7/00007_00046_00004.png  \n",
            "  inflating: train/7/00007_00046_00005.png  \n",
            "  inflating: train/7/00007_00046_00006.png  \n",
            "  inflating: train/7/00007_00046_00007.png  \n",
            "  inflating: train/7/00007_00046_00008.png  \n",
            "  inflating: train/7/00007_00046_00009.png  \n",
            "  inflating: train/7/00007_00046_00010.png  \n",
            "  inflating: train/7/00007_00046_00011.png  \n",
            "  inflating: train/7/00007_00046_00012.png  \n",
            "  inflating: train/7/00007_00046_00013.png  \n",
            "  inflating: train/7/00007_00046_00014.png  \n",
            "  inflating: train/7/00007_00046_00015.png  \n",
            "  inflating: train/7/00007_00046_00016.png  \n",
            "  inflating: train/7/00007_00046_00017.png  \n",
            "  inflating: train/7/00007_00046_00018.png  \n",
            "  inflating: train/7/00007_00046_00019.png  \n",
            "  inflating: train/7/00007_00046_00020.png  \n",
            "  inflating: train/7/00007_00046_00021.png  \n",
            "  inflating: train/7/00007_00046_00022.png  \n",
            "  inflating: train/7/00007_00046_00023.png  \n",
            "  inflating: train/7/00007_00046_00024.png  \n",
            "  inflating: train/7/00007_00046_00025.png  \n",
            "  inflating: train/7/00007_00046_00026.png  \n",
            "  inflating: train/7/00007_00046_00027.png  \n",
            "  inflating: train/7/00007_00046_00028.png  \n",
            "  inflating: train/7/00007_00046_00029.png  \n",
            "  inflating: train/7/00007_00047_00000.png  \n",
            "  inflating: train/7/00007_00047_00001.png  \n",
            "  inflating: train/7/00007_00047_00002.png  \n",
            "  inflating: train/7/00007_00047_00003.png  \n",
            "  inflating: train/7/00007_00047_00004.png  \n",
            "  inflating: train/7/00007_00047_00005.png  \n",
            "  inflating: train/7/00007_00047_00006.png  \n",
            "  inflating: train/7/00007_00047_00007.png  \n",
            "  inflating: train/7/00007_00047_00008.png  \n",
            "  inflating: train/7/00007_00047_00009.png  \n",
            "  inflating: train/7/00007_00047_00010.png  \n",
            "  inflating: train/7/00007_00047_00011.png  \n",
            "  inflating: train/7/00007_00047_00012.png  \n",
            "  inflating: train/7/00007_00047_00013.png  \n",
            "  inflating: train/7/00007_00047_00014.png  \n",
            "  inflating: train/7/00007_00047_00015.png  \n",
            "  inflating: train/7/00007_00047_00016.png  \n",
            "  inflating: train/7/00007_00047_00017.png  \n",
            "  inflating: train/7/00007_00047_00018.png  \n",
            "  inflating: train/7/00007_00047_00019.png  \n",
            "  inflating: train/7/00007_00047_00020.png  \n",
            "  inflating: train/7/00007_00047_00021.png  \n",
            "  inflating: train/7/00007_00047_00022.png  \n",
            "  inflating: train/7/00007_00047_00023.png  \n",
            "  inflating: train/7/00007_00047_00024.png  \n",
            "  inflating: train/7/00007_00047_00025.png  \n",
            "  inflating: train/7/00007_00047_00026.png  \n",
            "  inflating: train/7/00007_00047_00027.png  \n",
            "  inflating: train/7/00007_00047_00028.png  \n",
            "  inflating: train/7/00007_00047_00029.png  \n",
            "  inflating: train/8/00008_00000_00000.png  \n",
            "  inflating: train/8/00008_00000_00001.png  \n",
            "  inflating: train/8/00008_00000_00002.png  \n",
            "  inflating: train/8/00008_00000_00003.png  \n",
            "  inflating: train/8/00008_00000_00004.png  \n",
            "  inflating: train/8/00008_00000_00005.png  \n",
            "  inflating: train/8/00008_00000_00006.png  \n",
            "  inflating: train/8/00008_00000_00007.png  \n",
            "  inflating: train/8/00008_00000_00008.png  \n",
            "  inflating: train/8/00008_00000_00009.png  \n",
            "  inflating: train/8/00008_00000_00010.png  \n",
            "  inflating: train/8/00008_00000_00011.png  \n",
            "  inflating: train/8/00008_00000_00012.png  \n",
            "  inflating: train/8/00008_00000_00013.png  \n",
            "  inflating: train/8/00008_00000_00014.png  \n",
            "  inflating: train/8/00008_00000_00015.png  \n",
            "  inflating: train/8/00008_00000_00016.png  \n",
            "  inflating: train/8/00008_00000_00017.png  \n",
            "  inflating: train/8/00008_00000_00018.png  \n",
            "  inflating: train/8/00008_00000_00019.png  \n",
            "  inflating: train/8/00008_00000_00020.png  \n",
            "  inflating: train/8/00008_00000_00021.png  \n",
            "  inflating: train/8/00008_00000_00022.png  \n",
            "  inflating: train/8/00008_00000_00023.png  \n",
            "  inflating: train/8/00008_00000_00024.png  \n",
            "  inflating: train/8/00008_00000_00025.png  \n",
            "  inflating: train/8/00008_00000_00026.png  \n",
            "  inflating: train/8/00008_00000_00027.png  \n",
            "  inflating: train/8/00008_00000_00028.png  \n",
            "  inflating: train/8/00008_00000_00029.png  \n",
            "  inflating: train/8/00008_00001_00000.png  \n",
            "  inflating: train/8/00008_00001_00001.png  \n",
            "  inflating: train/8/00008_00001_00002.png  \n",
            "  inflating: train/8/00008_00001_00003.png  \n",
            "  inflating: train/8/00008_00001_00004.png  \n",
            "  inflating: train/8/00008_00001_00005.png  \n",
            "  inflating: train/8/00008_00001_00006.png  \n",
            "  inflating: train/8/00008_00001_00007.png  \n",
            "  inflating: train/8/00008_00001_00008.png  \n",
            "  inflating: train/8/00008_00001_00009.png  \n",
            "  inflating: train/8/00008_00001_00010.png  \n",
            "  inflating: train/8/00008_00001_00011.png  \n",
            "  inflating: train/8/00008_00001_00012.png  \n",
            "  inflating: train/8/00008_00001_00013.png  \n",
            "  inflating: train/8/00008_00001_00014.png  \n",
            "  inflating: train/8/00008_00001_00015.png  \n",
            "  inflating: train/8/00008_00001_00016.png  \n",
            "  inflating: train/8/00008_00001_00017.png  \n",
            "  inflating: train/8/00008_00001_00018.png  \n",
            "  inflating: train/8/00008_00001_00019.png  \n",
            "  inflating: train/8/00008_00001_00020.png  \n",
            "  inflating: train/8/00008_00001_00021.png  \n",
            "  inflating: train/8/00008_00001_00022.png  \n",
            "  inflating: train/8/00008_00001_00023.png  \n",
            "  inflating: train/8/00008_00001_00024.png  \n",
            "  inflating: train/8/00008_00001_00025.png  \n",
            "  inflating: train/8/00008_00001_00026.png  \n",
            "  inflating: train/8/00008_00001_00027.png  \n",
            "  inflating: train/8/00008_00001_00028.png  \n",
            "  inflating: train/8/00008_00001_00029.png  \n",
            "  inflating: train/8/00008_00002_00000.png  \n",
            "  inflating: train/8/00008_00002_00001.png  \n",
            "  inflating: train/8/00008_00002_00002.png  \n",
            "  inflating: train/8/00008_00002_00003.png  \n",
            "  inflating: train/8/00008_00002_00004.png  \n",
            "  inflating: train/8/00008_00002_00005.png  \n",
            "  inflating: train/8/00008_00002_00006.png  \n",
            "  inflating: train/8/00008_00002_00007.png  \n",
            "  inflating: train/8/00008_00002_00008.png  \n",
            "  inflating: train/8/00008_00002_00009.png  \n",
            "  inflating: train/8/00008_00002_00010.png  \n",
            "  inflating: train/8/00008_00002_00011.png  \n",
            "  inflating: train/8/00008_00002_00012.png  \n",
            "  inflating: train/8/00008_00002_00013.png  \n",
            "  inflating: train/8/00008_00002_00014.png  \n",
            "  inflating: train/8/00008_00002_00015.png  \n",
            "  inflating: train/8/00008_00002_00016.png  \n",
            "  inflating: train/8/00008_00002_00017.png  \n",
            "  inflating: train/8/00008_00002_00018.png  \n",
            "  inflating: train/8/00008_00002_00019.png  \n",
            "  inflating: train/8/00008_00002_00020.png  \n",
            "  inflating: train/8/00008_00002_00021.png  \n",
            "  inflating: train/8/00008_00002_00022.png  \n",
            "  inflating: train/8/00008_00002_00023.png  \n",
            "  inflating: train/8/00008_00002_00024.png  \n",
            "  inflating: train/8/00008_00002_00025.png  \n",
            "  inflating: train/8/00008_00002_00026.png  \n",
            "  inflating: train/8/00008_00002_00027.png  \n",
            "  inflating: train/8/00008_00002_00028.png  \n",
            "  inflating: train/8/00008_00002_00029.png  \n",
            "  inflating: train/8/00008_00003_00000.png  \n",
            "  inflating: train/8/00008_00003_00001.png  \n",
            "  inflating: train/8/00008_00003_00002.png  \n",
            "  inflating: train/8/00008_00003_00003.png  \n",
            "  inflating: train/8/00008_00003_00004.png  \n",
            "  inflating: train/8/00008_00003_00005.png  \n",
            "  inflating: train/8/00008_00003_00006.png  \n",
            "  inflating: train/8/00008_00003_00007.png  \n",
            "  inflating: train/8/00008_00003_00008.png  \n",
            "  inflating: train/8/00008_00003_00009.png  \n",
            "  inflating: train/8/00008_00003_00010.png  \n",
            "  inflating: train/8/00008_00003_00011.png  \n",
            "  inflating: train/8/00008_00003_00012.png  \n",
            "  inflating: train/8/00008_00003_00013.png  \n",
            "  inflating: train/8/00008_00003_00014.png  \n",
            "  inflating: train/8/00008_00003_00015.png  \n",
            "  inflating: train/8/00008_00003_00016.png  \n",
            "  inflating: train/8/00008_00003_00017.png  \n",
            "  inflating: train/8/00008_00003_00018.png  \n",
            "  inflating: train/8/00008_00003_00019.png  \n",
            "  inflating: train/8/00008_00003_00020.png  \n",
            "  inflating: train/8/00008_00003_00021.png  \n",
            "  inflating: train/8/00008_00003_00022.png  \n",
            "  inflating: train/8/00008_00003_00023.png  \n",
            "  inflating: train/8/00008_00003_00024.png  \n",
            "  inflating: train/8/00008_00003_00025.png  \n",
            "  inflating: train/8/00008_00003_00026.png  \n",
            "  inflating: train/8/00008_00003_00027.png  \n",
            "  inflating: train/8/00008_00003_00028.png  \n",
            "  inflating: train/8/00008_00003_00029.png  \n",
            "  inflating: train/8/00008_00004_00000.png  \n",
            "  inflating: train/8/00008_00004_00001.png  \n",
            "  inflating: train/8/00008_00004_00002.png  \n",
            "  inflating: train/8/00008_00004_00003.png  \n",
            "  inflating: train/8/00008_00004_00004.png  \n",
            "  inflating: train/8/00008_00004_00005.png  \n",
            "  inflating: train/8/00008_00004_00006.png  \n",
            "  inflating: train/8/00008_00004_00007.png  \n",
            "  inflating: train/8/00008_00004_00008.png  \n",
            "  inflating: train/8/00008_00004_00009.png  \n",
            "  inflating: train/8/00008_00004_00010.png  \n",
            "  inflating: train/8/00008_00004_00011.png  \n",
            "  inflating: train/8/00008_00004_00012.png  \n",
            "  inflating: train/8/00008_00004_00013.png  \n",
            "  inflating: train/8/00008_00004_00014.png  \n",
            "  inflating: train/8/00008_00004_00015.png  \n",
            "  inflating: train/8/00008_00004_00016.png  \n",
            "  inflating: train/8/00008_00004_00017.png  \n",
            "  inflating: train/8/00008_00004_00018.png  \n",
            "  inflating: train/8/00008_00004_00019.png  \n",
            "  inflating: train/8/00008_00004_00020.png  \n",
            "  inflating: train/8/00008_00004_00021.png  \n",
            "  inflating: train/8/00008_00004_00022.png  \n",
            "  inflating: train/8/00008_00004_00023.png  \n",
            "  inflating: train/8/00008_00004_00024.png  \n",
            "  inflating: train/8/00008_00004_00025.png  \n",
            "  inflating: train/8/00008_00004_00026.png  \n",
            "  inflating: train/8/00008_00004_00027.png  \n",
            "  inflating: train/8/00008_00004_00028.png  \n",
            "  inflating: train/8/00008_00004_00029.png  \n",
            "  inflating: train/8/00008_00005_00000.png  \n",
            "  inflating: train/8/00008_00005_00001.png  \n",
            "  inflating: train/8/00008_00005_00002.png  \n",
            "  inflating: train/8/00008_00005_00003.png  \n",
            "  inflating: train/8/00008_00005_00004.png  \n",
            "  inflating: train/8/00008_00005_00005.png  \n",
            "  inflating: train/8/00008_00005_00006.png  \n",
            "  inflating: train/8/00008_00005_00007.png  \n",
            "  inflating: train/8/00008_00005_00008.png  \n",
            "  inflating: train/8/00008_00005_00009.png  \n",
            "  inflating: train/8/00008_00005_00010.png  \n",
            "  inflating: train/8/00008_00005_00011.png  \n",
            "  inflating: train/8/00008_00005_00012.png  \n",
            "  inflating: train/8/00008_00005_00013.png  \n",
            "  inflating: train/8/00008_00005_00014.png  \n",
            "  inflating: train/8/00008_00005_00015.png  \n",
            "  inflating: train/8/00008_00005_00016.png  \n",
            "  inflating: train/8/00008_00005_00017.png  \n",
            "  inflating: train/8/00008_00005_00018.png  \n",
            "  inflating: train/8/00008_00005_00019.png  \n",
            "  inflating: train/8/00008_00005_00020.png  \n",
            "  inflating: train/8/00008_00005_00021.png  \n",
            "  inflating: train/8/00008_00005_00022.png  \n",
            "  inflating: train/8/00008_00005_00023.png  \n",
            "  inflating: train/8/00008_00005_00024.png  \n",
            "  inflating: train/8/00008_00005_00025.png  \n",
            "  inflating: train/8/00008_00005_00026.png  \n",
            "  inflating: train/8/00008_00005_00027.png  \n",
            "  inflating: train/8/00008_00005_00028.png  \n",
            "  inflating: train/8/00008_00005_00029.png  \n",
            "  inflating: train/8/00008_00006_00000.png  \n",
            "  inflating: train/8/00008_00006_00001.png  \n",
            "  inflating: train/8/00008_00006_00002.png  \n",
            "  inflating: train/8/00008_00006_00003.png  \n",
            "  inflating: train/8/00008_00006_00004.png  \n",
            "  inflating: train/8/00008_00006_00005.png  \n",
            "  inflating: train/8/00008_00006_00006.png  \n",
            "  inflating: train/8/00008_00006_00007.png  \n",
            "  inflating: train/8/00008_00006_00008.png  \n",
            "  inflating: train/8/00008_00006_00009.png  \n",
            "  inflating: train/8/00008_00006_00010.png  \n",
            "  inflating: train/8/00008_00006_00011.png  \n",
            "  inflating: train/8/00008_00006_00012.png  \n",
            "  inflating: train/8/00008_00006_00013.png  \n",
            "  inflating: train/8/00008_00006_00014.png  \n",
            "  inflating: train/8/00008_00006_00015.png  \n",
            "  inflating: train/8/00008_00006_00016.png  \n",
            "  inflating: train/8/00008_00006_00017.png  \n",
            "  inflating: train/8/00008_00006_00018.png  \n",
            "  inflating: train/8/00008_00006_00019.png  \n",
            "  inflating: train/8/00008_00006_00020.png  \n",
            "  inflating: train/8/00008_00006_00021.png  \n",
            "  inflating: train/8/00008_00006_00022.png  \n",
            "  inflating: train/8/00008_00006_00023.png  \n",
            "  inflating: train/8/00008_00006_00024.png  \n",
            "  inflating: train/8/00008_00006_00025.png  \n",
            "  inflating: train/8/00008_00006_00026.png  \n",
            "  inflating: train/8/00008_00006_00027.png  \n",
            "  inflating: train/8/00008_00006_00028.png  \n",
            "  inflating: train/8/00008_00006_00029.png  \n",
            "  inflating: train/8/00008_00007_00000.png  \n",
            "  inflating: train/8/00008_00007_00001.png  \n",
            "  inflating: train/8/00008_00007_00002.png  \n",
            "  inflating: train/8/00008_00007_00003.png  \n",
            "  inflating: train/8/00008_00007_00004.png  \n",
            "  inflating: train/8/00008_00007_00005.png  \n",
            "  inflating: train/8/00008_00007_00006.png  \n",
            "  inflating: train/8/00008_00007_00007.png  \n",
            "  inflating: train/8/00008_00007_00008.png  \n",
            "  inflating: train/8/00008_00007_00009.png  \n",
            "  inflating: train/8/00008_00007_00010.png  \n",
            "  inflating: train/8/00008_00007_00011.png  \n",
            "  inflating: train/8/00008_00007_00012.png  \n",
            "  inflating: train/8/00008_00007_00013.png  \n",
            "  inflating: train/8/00008_00007_00014.png  \n",
            "  inflating: train/8/00008_00007_00015.png  \n",
            "  inflating: train/8/00008_00007_00016.png  \n",
            "  inflating: train/8/00008_00007_00017.png  \n",
            "  inflating: train/8/00008_00007_00018.png  \n",
            "  inflating: train/8/00008_00007_00019.png  \n",
            "  inflating: train/8/00008_00007_00020.png  \n",
            "  inflating: train/8/00008_00007_00021.png  \n",
            "  inflating: train/8/00008_00007_00022.png  \n",
            "  inflating: train/8/00008_00007_00023.png  \n",
            "  inflating: train/8/00008_00007_00024.png  \n",
            "  inflating: train/8/00008_00007_00025.png  \n",
            "  inflating: train/8/00008_00007_00026.png  \n",
            "  inflating: train/8/00008_00007_00027.png  \n",
            "  inflating: train/8/00008_00007_00028.png  \n",
            "  inflating: train/8/00008_00007_00029.png  \n",
            "  inflating: train/8/00008_00008_00000.png  \n",
            "  inflating: train/8/00008_00008_00001.png  \n",
            "  inflating: train/8/00008_00008_00002.png  \n",
            "  inflating: train/8/00008_00008_00003.png  \n",
            "  inflating: train/8/00008_00008_00004.png  \n",
            "  inflating: train/8/00008_00008_00005.png  \n",
            "  inflating: train/8/00008_00008_00006.png  \n",
            "  inflating: train/8/00008_00008_00007.png  \n",
            "  inflating: train/8/00008_00008_00008.png  \n",
            "  inflating: train/8/00008_00008_00009.png  \n",
            "  inflating: train/8/00008_00008_00010.png  \n",
            "  inflating: train/8/00008_00008_00011.png  \n",
            "  inflating: train/8/00008_00008_00012.png  \n",
            "  inflating: train/8/00008_00008_00013.png  \n",
            "  inflating: train/8/00008_00008_00014.png  \n",
            "  inflating: train/8/00008_00008_00015.png  \n",
            "  inflating: train/8/00008_00008_00016.png  \n",
            "  inflating: train/8/00008_00008_00017.png  \n",
            "  inflating: train/8/00008_00008_00018.png  \n",
            "  inflating: train/8/00008_00008_00019.png  \n",
            "  inflating: train/8/00008_00008_00020.png  \n",
            "  inflating: train/8/00008_00008_00021.png  \n",
            "  inflating: train/8/00008_00008_00022.png  \n",
            "  inflating: train/8/00008_00008_00023.png  \n",
            "  inflating: train/8/00008_00008_00024.png  \n",
            "  inflating: train/8/00008_00008_00025.png  \n",
            "  inflating: train/8/00008_00008_00026.png  \n",
            "  inflating: train/8/00008_00008_00027.png  \n",
            "  inflating: train/8/00008_00008_00028.png  \n",
            "  inflating: train/8/00008_00008_00029.png  \n",
            "  inflating: train/8/00008_00009_00000.png  \n",
            "  inflating: train/8/00008_00009_00001.png  \n",
            "  inflating: train/8/00008_00009_00002.png  \n",
            "  inflating: train/8/00008_00009_00003.png  \n",
            "  inflating: train/8/00008_00009_00004.png  \n",
            "  inflating: train/8/00008_00009_00005.png  \n",
            "  inflating: train/8/00008_00009_00006.png  \n",
            "  inflating: train/8/00008_00009_00007.png  \n",
            "  inflating: train/8/00008_00009_00008.png  \n",
            "  inflating: train/8/00008_00009_00009.png  \n",
            "  inflating: train/8/00008_00009_00010.png  \n",
            "  inflating: train/8/00008_00009_00011.png  \n",
            "  inflating: train/8/00008_00009_00012.png  \n",
            "  inflating: train/8/00008_00009_00013.png  \n",
            "  inflating: train/8/00008_00009_00014.png  \n",
            "  inflating: train/8/00008_00009_00015.png  \n",
            "  inflating: train/8/00008_00009_00016.png  \n",
            "  inflating: train/8/00008_00009_00017.png  \n",
            "  inflating: train/8/00008_00009_00018.png  \n",
            "  inflating: train/8/00008_00009_00019.png  \n",
            "  inflating: train/8/00008_00009_00020.png  \n",
            "  inflating: train/8/00008_00009_00021.png  \n",
            "  inflating: train/8/00008_00009_00022.png  \n",
            "  inflating: train/8/00008_00009_00023.png  \n",
            "  inflating: train/8/00008_00009_00024.png  \n",
            "  inflating: train/8/00008_00009_00025.png  \n",
            "  inflating: train/8/00008_00009_00026.png  \n",
            "  inflating: train/8/00008_00009_00027.png  \n",
            "  inflating: train/8/00008_00009_00028.png  \n",
            "  inflating: train/8/00008_00009_00029.png  \n",
            "  inflating: train/8/00008_00010_00000.png  \n",
            "  inflating: train/8/00008_00010_00001.png  \n",
            "  inflating: train/8/00008_00010_00002.png  \n",
            "  inflating: train/8/00008_00010_00003.png  \n",
            "  inflating: train/8/00008_00010_00004.png  \n",
            "  inflating: train/8/00008_00010_00005.png  \n",
            "  inflating: train/8/00008_00010_00006.png  \n",
            "  inflating: train/8/00008_00010_00007.png  \n",
            "  inflating: train/8/00008_00010_00008.png  \n",
            "  inflating: train/8/00008_00010_00009.png  \n",
            "  inflating: train/8/00008_00010_00010.png  \n",
            "  inflating: train/8/00008_00010_00011.png  \n",
            "  inflating: train/8/00008_00010_00012.png  \n",
            "  inflating: train/8/00008_00010_00013.png  \n",
            "  inflating: train/8/00008_00010_00014.png  \n",
            "  inflating: train/8/00008_00010_00015.png  \n",
            "  inflating: train/8/00008_00010_00016.png  \n",
            "  inflating: train/8/00008_00010_00017.png  \n",
            "  inflating: train/8/00008_00010_00018.png  \n",
            "  inflating: train/8/00008_00010_00019.png  \n",
            "  inflating: train/8/00008_00010_00020.png  \n",
            "  inflating: train/8/00008_00010_00021.png  \n",
            "  inflating: train/8/00008_00010_00022.png  \n",
            "  inflating: train/8/00008_00010_00023.png  \n",
            "  inflating: train/8/00008_00010_00024.png  \n",
            "  inflating: train/8/00008_00010_00025.png  \n",
            "  inflating: train/8/00008_00010_00026.png  \n",
            "  inflating: train/8/00008_00010_00027.png  \n",
            "  inflating: train/8/00008_00010_00028.png  \n",
            "  inflating: train/8/00008_00010_00029.png  \n",
            "  inflating: train/8/00008_00011_00000.png  \n",
            "  inflating: train/8/00008_00011_00001.png  \n",
            "  inflating: train/8/00008_00011_00002.png  \n",
            "  inflating: train/8/00008_00011_00003.png  \n",
            "  inflating: train/8/00008_00011_00004.png  \n",
            "  inflating: train/8/00008_00011_00005.png  \n",
            "  inflating: train/8/00008_00011_00006.png  \n",
            "  inflating: train/8/00008_00011_00007.png  \n",
            "  inflating: train/8/00008_00011_00008.png  \n",
            "  inflating: train/8/00008_00011_00009.png  \n",
            "  inflating: train/8/00008_00011_00010.png  \n",
            "  inflating: train/8/00008_00011_00011.png  \n",
            "  inflating: train/8/00008_00011_00012.png  \n",
            "  inflating: train/8/00008_00011_00013.png  \n",
            "  inflating: train/8/00008_00011_00014.png  \n",
            "  inflating: train/8/00008_00011_00015.png  \n",
            "  inflating: train/8/00008_00011_00016.png  \n",
            "  inflating: train/8/00008_00011_00017.png  \n",
            "  inflating: train/8/00008_00011_00018.png  \n",
            "  inflating: train/8/00008_00011_00019.png  \n",
            "  inflating: train/8/00008_00011_00020.png  \n",
            "  inflating: train/8/00008_00011_00021.png  \n",
            "  inflating: train/8/00008_00011_00022.png  \n",
            "  inflating: train/8/00008_00011_00023.png  \n",
            "  inflating: train/8/00008_00011_00024.png  \n",
            "  inflating: train/8/00008_00011_00025.png  \n",
            "  inflating: train/8/00008_00011_00026.png  \n",
            "  inflating: train/8/00008_00011_00027.png  \n",
            "  inflating: train/8/00008_00011_00028.png  \n",
            "  inflating: train/8/00008_00011_00029.png  \n",
            "  inflating: train/8/00008_00012_00000.png  \n",
            "  inflating: train/8/00008_00012_00001.png  \n",
            "  inflating: train/8/00008_00012_00002.png  \n",
            "  inflating: train/8/00008_00012_00003.png  \n",
            "  inflating: train/8/00008_00012_00004.png  \n",
            "  inflating: train/8/00008_00012_00005.png  \n",
            "  inflating: train/8/00008_00012_00006.png  \n",
            "  inflating: train/8/00008_00012_00007.png  \n",
            "  inflating: train/8/00008_00012_00008.png  \n",
            "  inflating: train/8/00008_00012_00009.png  \n",
            "  inflating: train/8/00008_00012_00010.png  \n",
            "  inflating: train/8/00008_00012_00011.png  \n",
            "  inflating: train/8/00008_00012_00012.png  \n",
            "  inflating: train/8/00008_00012_00013.png  \n",
            "  inflating: train/8/00008_00012_00014.png  \n",
            "  inflating: train/8/00008_00012_00015.png  \n",
            "  inflating: train/8/00008_00012_00016.png  \n",
            "  inflating: train/8/00008_00012_00017.png  \n",
            "  inflating: train/8/00008_00012_00018.png  \n",
            "  inflating: train/8/00008_00012_00019.png  \n",
            "  inflating: train/8/00008_00012_00020.png  \n",
            "  inflating: train/8/00008_00012_00021.png  \n",
            "  inflating: train/8/00008_00012_00022.png  \n",
            "  inflating: train/8/00008_00012_00023.png  \n",
            "  inflating: train/8/00008_00012_00024.png  \n",
            "  inflating: train/8/00008_00012_00025.png  \n",
            "  inflating: train/8/00008_00012_00026.png  \n",
            "  inflating: train/8/00008_00012_00027.png  \n",
            "  inflating: train/8/00008_00012_00028.png  \n",
            "  inflating: train/8/00008_00012_00029.png  \n",
            "  inflating: train/8/00008_00013_00000.png  \n",
            "  inflating: train/8/00008_00013_00001.png  \n",
            "  inflating: train/8/00008_00013_00002.png  \n",
            "  inflating: train/8/00008_00013_00003.png  \n",
            "  inflating: train/8/00008_00013_00004.png  \n",
            "  inflating: train/8/00008_00013_00005.png  \n",
            "  inflating: train/8/00008_00013_00006.png  \n",
            "  inflating: train/8/00008_00013_00007.png  \n",
            "  inflating: train/8/00008_00013_00008.png  \n",
            "  inflating: train/8/00008_00013_00009.png  \n",
            "  inflating: train/8/00008_00013_00010.png  \n",
            "  inflating: train/8/00008_00013_00011.png  \n",
            "  inflating: train/8/00008_00013_00012.png  \n",
            "  inflating: train/8/00008_00013_00013.png  \n",
            "  inflating: train/8/00008_00013_00014.png  \n",
            "  inflating: train/8/00008_00013_00015.png  \n",
            "  inflating: train/8/00008_00013_00016.png  \n",
            "  inflating: train/8/00008_00013_00017.png  \n",
            "  inflating: train/8/00008_00013_00018.png  \n",
            "  inflating: train/8/00008_00013_00019.png  \n",
            "  inflating: train/8/00008_00013_00020.png  \n",
            "  inflating: train/8/00008_00013_00021.png  \n",
            "  inflating: train/8/00008_00013_00022.png  \n",
            "  inflating: train/8/00008_00013_00023.png  \n",
            "  inflating: train/8/00008_00013_00024.png  \n",
            "  inflating: train/8/00008_00013_00025.png  \n",
            "  inflating: train/8/00008_00013_00026.png  \n",
            "  inflating: train/8/00008_00013_00027.png  \n",
            "  inflating: train/8/00008_00013_00028.png  \n",
            "  inflating: train/8/00008_00013_00029.png  \n",
            "  inflating: train/8/00008_00014_00000.png  \n",
            "  inflating: train/8/00008_00014_00001.png  \n",
            "  inflating: train/8/00008_00014_00002.png  \n",
            "  inflating: train/8/00008_00014_00003.png  \n",
            "  inflating: train/8/00008_00014_00004.png  \n",
            "  inflating: train/8/00008_00014_00005.png  \n",
            "  inflating: train/8/00008_00014_00006.png  \n",
            "  inflating: train/8/00008_00014_00007.png  \n",
            "  inflating: train/8/00008_00014_00008.png  \n",
            "  inflating: train/8/00008_00014_00009.png  \n",
            "  inflating: train/8/00008_00014_00010.png  \n",
            "  inflating: train/8/00008_00014_00011.png  \n",
            "  inflating: train/8/00008_00014_00012.png  \n",
            "  inflating: train/8/00008_00014_00013.png  \n",
            "  inflating: train/8/00008_00014_00014.png  \n",
            "  inflating: train/8/00008_00014_00015.png  \n",
            "  inflating: train/8/00008_00014_00016.png  \n",
            "  inflating: train/8/00008_00014_00017.png  \n",
            "  inflating: train/8/00008_00014_00018.png  \n",
            "  inflating: train/8/00008_00014_00019.png  \n",
            "  inflating: train/8/00008_00014_00020.png  \n",
            "  inflating: train/8/00008_00014_00021.png  \n",
            "  inflating: train/8/00008_00014_00022.png  \n",
            "  inflating: train/8/00008_00014_00023.png  \n",
            "  inflating: train/8/00008_00014_00024.png  \n",
            "  inflating: train/8/00008_00014_00025.png  \n",
            "  inflating: train/8/00008_00014_00026.png  \n",
            "  inflating: train/8/00008_00014_00027.png  \n",
            "  inflating: train/8/00008_00014_00028.png  \n",
            "  inflating: train/8/00008_00014_00029.png  \n",
            "  inflating: train/8/00008_00015_00000.png  \n",
            "  inflating: train/8/00008_00015_00001.png  \n",
            "  inflating: train/8/00008_00015_00002.png  \n",
            "  inflating: train/8/00008_00015_00003.png  \n",
            "  inflating: train/8/00008_00015_00004.png  \n",
            "  inflating: train/8/00008_00015_00005.png  \n",
            "  inflating: train/8/00008_00015_00006.png  \n",
            "  inflating: train/8/00008_00015_00007.png  \n",
            "  inflating: train/8/00008_00015_00008.png  \n",
            "  inflating: train/8/00008_00015_00009.png  \n",
            "  inflating: train/8/00008_00015_00010.png  \n",
            "  inflating: train/8/00008_00015_00011.png  \n",
            "  inflating: train/8/00008_00015_00012.png  \n",
            "  inflating: train/8/00008_00015_00013.png  \n",
            "  inflating: train/8/00008_00015_00014.png  \n",
            "  inflating: train/8/00008_00015_00015.png  \n",
            "  inflating: train/8/00008_00015_00016.png  \n",
            "  inflating: train/8/00008_00015_00017.png  \n",
            "  inflating: train/8/00008_00015_00018.png  \n",
            "  inflating: train/8/00008_00015_00019.png  \n",
            "  inflating: train/8/00008_00015_00020.png  \n",
            "  inflating: train/8/00008_00015_00021.png  \n",
            "  inflating: train/8/00008_00015_00022.png  \n",
            "  inflating: train/8/00008_00015_00023.png  \n",
            "  inflating: train/8/00008_00015_00024.png  \n",
            "  inflating: train/8/00008_00015_00025.png  \n",
            "  inflating: train/8/00008_00015_00026.png  \n",
            "  inflating: train/8/00008_00015_00027.png  \n",
            "  inflating: train/8/00008_00015_00028.png  \n",
            "  inflating: train/8/00008_00015_00029.png  \n",
            "  inflating: train/8/00008_00016_00000.png  \n",
            "  inflating: train/8/00008_00016_00001.png  \n",
            "  inflating: train/8/00008_00016_00002.png  \n",
            "  inflating: train/8/00008_00016_00003.png  \n",
            "  inflating: train/8/00008_00016_00004.png  \n",
            "  inflating: train/8/00008_00016_00005.png  \n",
            "  inflating: train/8/00008_00016_00006.png  \n",
            "  inflating: train/8/00008_00016_00007.png  \n",
            "  inflating: train/8/00008_00016_00008.png  \n",
            "  inflating: train/8/00008_00016_00009.png  \n",
            "  inflating: train/8/00008_00016_00010.png  \n",
            "  inflating: train/8/00008_00016_00011.png  \n",
            "  inflating: train/8/00008_00016_00012.png  \n",
            "  inflating: train/8/00008_00016_00013.png  \n",
            "  inflating: train/8/00008_00016_00014.png  \n",
            "  inflating: train/8/00008_00016_00015.png  \n",
            "  inflating: train/8/00008_00016_00016.png  \n",
            "  inflating: train/8/00008_00016_00017.png  \n",
            "  inflating: train/8/00008_00016_00018.png  \n",
            "  inflating: train/8/00008_00016_00019.png  \n",
            "  inflating: train/8/00008_00016_00020.png  \n",
            "  inflating: train/8/00008_00016_00021.png  \n",
            "  inflating: train/8/00008_00016_00022.png  \n",
            "  inflating: train/8/00008_00016_00023.png  \n",
            "  inflating: train/8/00008_00016_00024.png  \n",
            "  inflating: train/8/00008_00016_00025.png  \n",
            "  inflating: train/8/00008_00016_00026.png  \n",
            "  inflating: train/8/00008_00016_00027.png  \n",
            "  inflating: train/8/00008_00016_00028.png  \n",
            "  inflating: train/8/00008_00016_00029.png  \n",
            "  inflating: train/8/00008_00017_00000.png  \n",
            "  inflating: train/8/00008_00017_00001.png  \n",
            "  inflating: train/8/00008_00017_00002.png  \n",
            "  inflating: train/8/00008_00017_00003.png  \n",
            "  inflating: train/8/00008_00017_00004.png  \n",
            "  inflating: train/8/00008_00017_00005.png  \n",
            "  inflating: train/8/00008_00017_00006.png  \n",
            "  inflating: train/8/00008_00017_00007.png  \n",
            "  inflating: train/8/00008_00017_00008.png  \n",
            "  inflating: train/8/00008_00017_00009.png  \n",
            "  inflating: train/8/00008_00017_00010.png  \n",
            "  inflating: train/8/00008_00017_00011.png  \n",
            "  inflating: train/8/00008_00017_00012.png  \n",
            "  inflating: train/8/00008_00017_00013.png  \n",
            "  inflating: train/8/00008_00017_00014.png  \n",
            "  inflating: train/8/00008_00017_00015.png  \n",
            "  inflating: train/8/00008_00017_00016.png  \n",
            "  inflating: train/8/00008_00017_00017.png  \n",
            "  inflating: train/8/00008_00017_00018.png  \n",
            "  inflating: train/8/00008_00017_00019.png  \n",
            "  inflating: train/8/00008_00017_00020.png  \n",
            "  inflating: train/8/00008_00017_00021.png  \n",
            "  inflating: train/8/00008_00017_00022.png  \n",
            "  inflating: train/8/00008_00017_00023.png  \n",
            "  inflating: train/8/00008_00017_00024.png  \n",
            "  inflating: train/8/00008_00017_00025.png  \n",
            "  inflating: train/8/00008_00017_00026.png  \n",
            "  inflating: train/8/00008_00017_00027.png  \n",
            "  inflating: train/8/00008_00017_00028.png  \n",
            "  inflating: train/8/00008_00017_00029.png  \n",
            "  inflating: train/8/00008_00018_00000.png  \n",
            "  inflating: train/8/00008_00018_00001.png  \n",
            "  inflating: train/8/00008_00018_00002.png  \n",
            "  inflating: train/8/00008_00018_00003.png  \n",
            "  inflating: train/8/00008_00018_00004.png  \n",
            "  inflating: train/8/00008_00018_00005.png  \n",
            "  inflating: train/8/00008_00018_00006.png  \n",
            "  inflating: train/8/00008_00018_00007.png  \n",
            "  inflating: train/8/00008_00018_00008.png  \n",
            "  inflating: train/8/00008_00018_00009.png  \n",
            "  inflating: train/8/00008_00018_00010.png  \n",
            "  inflating: train/8/00008_00018_00011.png  \n",
            "  inflating: train/8/00008_00018_00012.png  \n",
            "  inflating: train/8/00008_00018_00013.png  \n",
            "  inflating: train/8/00008_00018_00014.png  \n",
            "  inflating: train/8/00008_00018_00015.png  \n",
            "  inflating: train/8/00008_00018_00016.png  \n",
            "  inflating: train/8/00008_00018_00017.png  \n",
            "  inflating: train/8/00008_00018_00018.png  \n",
            "  inflating: train/8/00008_00018_00019.png  \n",
            "  inflating: train/8/00008_00018_00020.png  \n",
            "  inflating: train/8/00008_00018_00021.png  \n",
            "  inflating: train/8/00008_00018_00022.png  \n",
            "  inflating: train/8/00008_00018_00023.png  \n",
            "  inflating: train/8/00008_00018_00024.png  \n",
            "  inflating: train/8/00008_00018_00025.png  \n",
            "  inflating: train/8/00008_00018_00026.png  \n",
            "  inflating: train/8/00008_00018_00027.png  \n",
            "  inflating: train/8/00008_00018_00028.png  \n",
            "  inflating: train/8/00008_00018_00029.png  \n",
            "  inflating: train/8/00008_00019_00000.png  \n",
            "  inflating: train/8/00008_00019_00001.png  \n",
            "  inflating: train/8/00008_00019_00002.png  \n",
            "  inflating: train/8/00008_00019_00003.png  \n",
            "  inflating: train/8/00008_00019_00004.png  \n",
            "  inflating: train/8/00008_00019_00005.png  \n",
            "  inflating: train/8/00008_00019_00006.png  \n",
            "  inflating: train/8/00008_00019_00007.png  \n",
            "  inflating: train/8/00008_00019_00008.png  \n",
            "  inflating: train/8/00008_00019_00009.png  \n",
            "  inflating: train/8/00008_00019_00010.png  \n",
            "  inflating: train/8/00008_00019_00011.png  \n",
            "  inflating: train/8/00008_00019_00012.png  \n",
            "  inflating: train/8/00008_00019_00013.png  \n",
            "  inflating: train/8/00008_00019_00014.png  \n",
            "  inflating: train/8/00008_00019_00015.png  \n",
            "  inflating: train/8/00008_00019_00016.png  \n",
            "  inflating: train/8/00008_00019_00017.png  \n",
            "  inflating: train/8/00008_00019_00018.png  \n",
            "  inflating: train/8/00008_00019_00019.png  \n",
            "  inflating: train/8/00008_00019_00020.png  \n",
            "  inflating: train/8/00008_00019_00021.png  \n",
            "  inflating: train/8/00008_00019_00022.png  \n",
            "  inflating: train/8/00008_00019_00023.png  \n",
            "  inflating: train/8/00008_00019_00024.png  \n",
            "  inflating: train/8/00008_00019_00025.png  \n",
            "  inflating: train/8/00008_00019_00026.png  \n",
            "  inflating: train/8/00008_00019_00027.png  \n",
            "  inflating: train/8/00008_00019_00028.png  \n",
            "  inflating: train/8/00008_00019_00029.png  \n",
            "  inflating: train/8/00008_00020_00000.png  \n",
            "  inflating: train/8/00008_00020_00001.png  \n",
            "  inflating: train/8/00008_00020_00002.png  \n",
            "  inflating: train/8/00008_00020_00003.png  \n",
            "  inflating: train/8/00008_00020_00004.png  \n",
            "  inflating: train/8/00008_00020_00005.png  \n",
            "  inflating: train/8/00008_00020_00006.png  \n",
            "  inflating: train/8/00008_00020_00007.png  \n",
            "  inflating: train/8/00008_00020_00008.png  \n",
            "  inflating: train/8/00008_00020_00009.png  \n",
            "  inflating: train/8/00008_00020_00010.png  \n",
            "  inflating: train/8/00008_00020_00011.png  \n",
            "  inflating: train/8/00008_00020_00012.png  \n",
            "  inflating: train/8/00008_00020_00013.png  \n",
            "  inflating: train/8/00008_00020_00014.png  \n",
            "  inflating: train/8/00008_00020_00015.png  \n",
            "  inflating: train/8/00008_00020_00016.png  \n",
            "  inflating: train/8/00008_00020_00017.png  \n",
            "  inflating: train/8/00008_00020_00018.png  \n",
            "  inflating: train/8/00008_00020_00019.png  \n",
            "  inflating: train/8/00008_00020_00020.png  \n",
            "  inflating: train/8/00008_00020_00021.png  \n",
            "  inflating: train/8/00008_00020_00022.png  \n",
            "  inflating: train/8/00008_00020_00023.png  \n",
            "  inflating: train/8/00008_00020_00024.png  \n",
            "  inflating: train/8/00008_00020_00025.png  \n",
            "  inflating: train/8/00008_00020_00026.png  \n",
            "  inflating: train/8/00008_00020_00027.png  \n",
            "  inflating: train/8/00008_00020_00028.png  \n",
            "  inflating: train/8/00008_00020_00029.png  \n",
            "  inflating: train/8/00008_00021_00000.png  \n",
            "  inflating: train/8/00008_00021_00001.png  \n",
            "  inflating: train/8/00008_00021_00002.png  \n",
            "  inflating: train/8/00008_00021_00003.png  \n",
            "  inflating: train/8/00008_00021_00004.png  \n",
            "  inflating: train/8/00008_00021_00005.png  \n",
            "  inflating: train/8/00008_00021_00006.png  \n",
            "  inflating: train/8/00008_00021_00007.png  \n",
            "  inflating: train/8/00008_00021_00008.png  \n",
            "  inflating: train/8/00008_00021_00009.png  \n",
            "  inflating: train/8/00008_00021_00010.png  \n",
            "  inflating: train/8/00008_00021_00011.png  \n",
            "  inflating: train/8/00008_00021_00012.png  \n",
            "  inflating: train/8/00008_00021_00013.png  \n",
            "  inflating: train/8/00008_00021_00014.png  \n",
            "  inflating: train/8/00008_00021_00015.png  \n",
            "  inflating: train/8/00008_00021_00016.png  \n",
            "  inflating: train/8/00008_00021_00017.png  \n",
            "  inflating: train/8/00008_00021_00018.png  \n",
            "  inflating: train/8/00008_00021_00019.png  \n",
            "  inflating: train/8/00008_00021_00020.png  \n",
            "  inflating: train/8/00008_00021_00021.png  \n",
            "  inflating: train/8/00008_00021_00022.png  \n",
            "  inflating: train/8/00008_00021_00023.png  \n",
            "  inflating: train/8/00008_00021_00024.png  \n",
            "  inflating: train/8/00008_00021_00025.png  \n",
            "  inflating: train/8/00008_00021_00026.png  \n",
            "  inflating: train/8/00008_00021_00027.png  \n",
            "  inflating: train/8/00008_00021_00028.png  \n",
            "  inflating: train/8/00008_00021_00029.png  \n",
            "  inflating: train/8/00008_00022_00000.png  \n",
            "  inflating: train/8/00008_00022_00001.png  \n",
            "  inflating: train/8/00008_00022_00002.png  \n",
            "  inflating: train/8/00008_00022_00003.png  \n",
            "  inflating: train/8/00008_00022_00004.png  \n",
            "  inflating: train/8/00008_00022_00005.png  \n",
            "  inflating: train/8/00008_00022_00006.png  \n",
            "  inflating: train/8/00008_00022_00007.png  \n",
            "  inflating: train/8/00008_00022_00008.png  \n",
            "  inflating: train/8/00008_00022_00009.png  \n",
            "  inflating: train/8/00008_00022_00010.png  \n",
            "  inflating: train/8/00008_00022_00011.png  \n",
            "  inflating: train/8/00008_00022_00012.png  \n",
            "  inflating: train/8/00008_00022_00013.png  \n",
            "  inflating: train/8/00008_00022_00014.png  \n",
            "  inflating: train/8/00008_00022_00015.png  \n",
            "  inflating: train/8/00008_00022_00016.png  \n",
            "  inflating: train/8/00008_00022_00017.png  \n",
            "  inflating: train/8/00008_00022_00018.png  \n",
            "  inflating: train/8/00008_00022_00019.png  \n",
            "  inflating: train/8/00008_00022_00020.png  \n",
            "  inflating: train/8/00008_00022_00021.png  \n",
            "  inflating: train/8/00008_00022_00022.png  \n",
            "  inflating: train/8/00008_00022_00023.png  \n",
            "  inflating: train/8/00008_00022_00024.png  \n",
            "  inflating: train/8/00008_00022_00025.png  \n",
            "  inflating: train/8/00008_00022_00026.png  \n",
            "  inflating: train/8/00008_00022_00027.png  \n",
            "  inflating: train/8/00008_00022_00028.png  \n",
            "  inflating: train/8/00008_00022_00029.png  \n",
            "  inflating: train/8/00008_00023_00000.png  \n",
            "  inflating: train/8/00008_00023_00001.png  \n",
            "  inflating: train/8/00008_00023_00002.png  \n",
            "  inflating: train/8/00008_00023_00003.png  \n",
            "  inflating: train/8/00008_00023_00004.png  \n",
            "  inflating: train/8/00008_00023_00005.png  \n",
            "  inflating: train/8/00008_00023_00006.png  \n",
            "  inflating: train/8/00008_00023_00007.png  \n",
            "  inflating: train/8/00008_00023_00008.png  \n",
            "  inflating: train/8/00008_00023_00009.png  \n",
            "  inflating: train/8/00008_00023_00010.png  \n",
            "  inflating: train/8/00008_00023_00011.png  \n",
            "  inflating: train/8/00008_00023_00012.png  \n",
            "  inflating: train/8/00008_00023_00013.png  \n",
            "  inflating: train/8/00008_00023_00014.png  \n",
            "  inflating: train/8/00008_00023_00015.png  \n",
            "  inflating: train/8/00008_00023_00016.png  \n",
            "  inflating: train/8/00008_00023_00017.png  \n",
            "  inflating: train/8/00008_00023_00018.png  \n",
            "  inflating: train/8/00008_00023_00019.png  \n",
            "  inflating: train/8/00008_00023_00020.png  \n",
            "  inflating: train/8/00008_00023_00021.png  \n",
            "  inflating: train/8/00008_00023_00022.png  \n",
            "  inflating: train/8/00008_00023_00023.png  \n",
            "  inflating: train/8/00008_00023_00024.png  \n",
            "  inflating: train/8/00008_00023_00025.png  \n",
            "  inflating: train/8/00008_00023_00026.png  \n",
            "  inflating: train/8/00008_00023_00027.png  \n",
            "  inflating: train/8/00008_00023_00028.png  \n",
            "  inflating: train/8/00008_00023_00029.png  \n",
            "  inflating: train/8/00008_00024_00000.png  \n",
            "  inflating: train/8/00008_00024_00001.png  \n",
            "  inflating: train/8/00008_00024_00002.png  \n",
            "  inflating: train/8/00008_00024_00003.png  \n",
            "  inflating: train/8/00008_00024_00004.png  \n",
            "  inflating: train/8/00008_00024_00005.png  \n",
            "  inflating: train/8/00008_00024_00006.png  \n",
            "  inflating: train/8/00008_00024_00007.png  \n",
            "  inflating: train/8/00008_00024_00008.png  \n",
            "  inflating: train/8/00008_00024_00009.png  \n",
            "  inflating: train/8/00008_00024_00010.png  \n",
            "  inflating: train/8/00008_00024_00011.png  \n",
            "  inflating: train/8/00008_00024_00012.png  \n",
            "  inflating: train/8/00008_00024_00013.png  \n",
            "  inflating: train/8/00008_00024_00014.png  \n",
            "  inflating: train/8/00008_00024_00015.png  \n",
            "  inflating: train/8/00008_00024_00016.png  \n",
            "  inflating: train/8/00008_00024_00017.png  \n",
            "  inflating: train/8/00008_00024_00018.png  \n",
            "  inflating: train/8/00008_00024_00019.png  \n",
            "  inflating: train/8/00008_00024_00020.png  \n",
            "  inflating: train/8/00008_00024_00021.png  \n",
            "  inflating: train/8/00008_00024_00022.png  \n",
            "  inflating: train/8/00008_00024_00023.png  \n",
            "  inflating: train/8/00008_00024_00024.png  \n",
            "  inflating: train/8/00008_00024_00025.png  \n",
            "  inflating: train/8/00008_00024_00026.png  \n",
            "  inflating: train/8/00008_00024_00027.png  \n",
            "  inflating: train/8/00008_00024_00028.png  \n",
            "  inflating: train/8/00008_00024_00029.png  \n",
            "  inflating: train/8/00008_00025_00000.png  \n",
            "  inflating: train/8/00008_00025_00001.png  \n",
            "  inflating: train/8/00008_00025_00002.png  \n",
            "  inflating: train/8/00008_00025_00003.png  \n",
            "  inflating: train/8/00008_00025_00004.png  \n",
            "  inflating: train/8/00008_00025_00005.png  \n",
            "  inflating: train/8/00008_00025_00006.png  \n",
            "  inflating: train/8/00008_00025_00007.png  \n",
            "  inflating: train/8/00008_00025_00008.png  \n",
            "  inflating: train/8/00008_00025_00009.png  \n",
            "  inflating: train/8/00008_00025_00010.png  \n",
            "  inflating: train/8/00008_00025_00011.png  \n",
            "  inflating: train/8/00008_00025_00012.png  \n",
            "  inflating: train/8/00008_00025_00013.png  \n",
            "  inflating: train/8/00008_00025_00014.png  \n",
            "  inflating: train/8/00008_00025_00015.png  \n",
            "  inflating: train/8/00008_00025_00016.png  \n",
            "  inflating: train/8/00008_00025_00017.png  \n",
            "  inflating: train/8/00008_00025_00018.png  \n",
            "  inflating: train/8/00008_00025_00019.png  \n",
            "  inflating: train/8/00008_00025_00020.png  \n",
            "  inflating: train/8/00008_00025_00021.png  \n",
            "  inflating: train/8/00008_00025_00022.png  \n",
            "  inflating: train/8/00008_00025_00023.png  \n",
            "  inflating: train/8/00008_00025_00024.png  \n",
            "  inflating: train/8/00008_00025_00025.png  \n",
            "  inflating: train/8/00008_00025_00026.png  \n",
            "  inflating: train/8/00008_00025_00027.png  \n",
            "  inflating: train/8/00008_00025_00028.png  \n",
            "  inflating: train/8/00008_00025_00029.png  \n",
            "  inflating: train/8/00008_00026_00000.png  \n",
            "  inflating: train/8/00008_00026_00001.png  \n",
            "  inflating: train/8/00008_00026_00002.png  \n",
            "  inflating: train/8/00008_00026_00003.png  \n",
            "  inflating: train/8/00008_00026_00004.png  \n",
            "  inflating: train/8/00008_00026_00005.png  \n",
            "  inflating: train/8/00008_00026_00006.png  \n",
            "  inflating: train/8/00008_00026_00007.png  \n",
            "  inflating: train/8/00008_00026_00008.png  \n",
            "  inflating: train/8/00008_00026_00009.png  \n",
            "  inflating: train/8/00008_00026_00010.png  \n",
            "  inflating: train/8/00008_00026_00011.png  \n",
            "  inflating: train/8/00008_00026_00012.png  \n",
            "  inflating: train/8/00008_00026_00013.png  \n",
            "  inflating: train/8/00008_00026_00014.png  \n",
            "  inflating: train/8/00008_00026_00015.png  \n",
            "  inflating: train/8/00008_00026_00016.png  \n",
            "  inflating: train/8/00008_00026_00017.png  \n",
            "  inflating: train/8/00008_00026_00018.png  \n",
            "  inflating: train/8/00008_00026_00019.png  \n",
            "  inflating: train/8/00008_00026_00020.png  \n",
            "  inflating: train/8/00008_00026_00021.png  \n",
            "  inflating: train/8/00008_00026_00022.png  \n",
            "  inflating: train/8/00008_00026_00023.png  \n",
            "  inflating: train/8/00008_00026_00024.png  \n",
            "  inflating: train/8/00008_00026_00025.png  \n",
            "  inflating: train/8/00008_00026_00026.png  \n",
            "  inflating: train/8/00008_00026_00027.png  \n",
            "  inflating: train/8/00008_00026_00028.png  \n",
            "  inflating: train/8/00008_00026_00029.png  \n",
            "  inflating: train/8/00008_00027_00000.png  \n",
            "  inflating: train/8/00008_00027_00001.png  \n",
            "  inflating: train/8/00008_00027_00002.png  \n",
            "  inflating: train/8/00008_00027_00003.png  \n",
            "  inflating: train/8/00008_00027_00004.png  \n",
            "  inflating: train/8/00008_00027_00005.png  \n",
            "  inflating: train/8/00008_00027_00006.png  \n",
            "  inflating: train/8/00008_00027_00007.png  \n",
            "  inflating: train/8/00008_00027_00008.png  \n",
            "  inflating: train/8/00008_00027_00009.png  \n",
            "  inflating: train/8/00008_00027_00010.png  \n",
            "  inflating: train/8/00008_00027_00011.png  \n",
            "  inflating: train/8/00008_00027_00012.png  \n",
            "  inflating: train/8/00008_00027_00013.png  \n",
            "  inflating: train/8/00008_00027_00014.png  \n",
            "  inflating: train/8/00008_00027_00015.png  \n",
            "  inflating: train/8/00008_00027_00016.png  \n",
            "  inflating: train/8/00008_00027_00017.png  \n",
            "  inflating: train/8/00008_00027_00018.png  \n",
            "  inflating: train/8/00008_00027_00019.png  \n",
            "  inflating: train/8/00008_00027_00020.png  \n",
            "  inflating: train/8/00008_00027_00021.png  \n",
            "  inflating: train/8/00008_00027_00022.png  \n",
            "  inflating: train/8/00008_00027_00023.png  \n",
            "  inflating: train/8/00008_00027_00024.png  \n",
            "  inflating: train/8/00008_00027_00025.png  \n",
            "  inflating: train/8/00008_00027_00026.png  \n",
            "  inflating: train/8/00008_00027_00027.png  \n",
            "  inflating: train/8/00008_00027_00028.png  \n",
            "  inflating: train/8/00008_00027_00029.png  \n",
            "  inflating: train/8/00008_00028_00000.png  \n",
            "  inflating: train/8/00008_00028_00001.png  \n",
            "  inflating: train/8/00008_00028_00002.png  \n",
            "  inflating: train/8/00008_00028_00003.png  \n",
            "  inflating: train/8/00008_00028_00004.png  \n",
            "  inflating: train/8/00008_00028_00005.png  \n",
            "  inflating: train/8/00008_00028_00006.png  \n",
            "  inflating: train/8/00008_00028_00007.png  \n",
            "  inflating: train/8/00008_00028_00008.png  \n",
            "  inflating: train/8/00008_00028_00009.png  \n",
            "  inflating: train/8/00008_00028_00010.png  \n",
            "  inflating: train/8/00008_00028_00011.png  \n",
            "  inflating: train/8/00008_00028_00012.png  \n",
            "  inflating: train/8/00008_00028_00013.png  \n",
            "  inflating: train/8/00008_00028_00014.png  \n",
            "  inflating: train/8/00008_00028_00015.png  \n",
            "  inflating: train/8/00008_00028_00016.png  \n",
            "  inflating: train/8/00008_00028_00017.png  \n",
            "  inflating: train/8/00008_00028_00018.png  \n",
            "  inflating: train/8/00008_00028_00019.png  \n",
            "  inflating: train/8/00008_00028_00020.png  \n",
            "  inflating: train/8/00008_00028_00021.png  \n",
            "  inflating: train/8/00008_00028_00022.png  \n",
            "  inflating: train/8/00008_00028_00023.png  \n",
            "  inflating: train/8/00008_00028_00024.png  \n",
            "  inflating: train/8/00008_00028_00025.png  \n",
            "  inflating: train/8/00008_00028_00026.png  \n",
            "  inflating: train/8/00008_00028_00027.png  \n",
            "  inflating: train/8/00008_00028_00028.png  \n",
            "  inflating: train/8/00008_00028_00029.png  \n",
            "  inflating: train/8/00008_00029_00000.png  \n",
            "  inflating: train/8/00008_00029_00001.png  \n",
            "  inflating: train/8/00008_00029_00002.png  \n",
            "  inflating: train/8/00008_00029_00003.png  \n",
            "  inflating: train/8/00008_00029_00004.png  \n",
            "  inflating: train/8/00008_00029_00005.png  \n",
            "  inflating: train/8/00008_00029_00006.png  \n",
            "  inflating: train/8/00008_00029_00007.png  \n",
            "  inflating: train/8/00008_00029_00008.png  \n",
            "  inflating: train/8/00008_00029_00009.png  \n",
            "  inflating: train/8/00008_00029_00010.png  \n",
            "  inflating: train/8/00008_00029_00011.png  \n",
            "  inflating: train/8/00008_00029_00012.png  \n",
            "  inflating: train/8/00008_00029_00013.png  \n",
            "  inflating: train/8/00008_00029_00014.png  \n",
            "  inflating: train/8/00008_00029_00015.png  \n",
            "  inflating: train/8/00008_00029_00016.png  \n",
            "  inflating: train/8/00008_00029_00017.png  \n",
            "  inflating: train/8/00008_00029_00018.png  \n",
            "  inflating: train/8/00008_00029_00019.png  \n",
            "  inflating: train/8/00008_00029_00020.png  \n",
            "  inflating: train/8/00008_00029_00021.png  \n",
            "  inflating: train/8/00008_00029_00022.png  \n",
            "  inflating: train/8/00008_00029_00023.png  \n",
            "  inflating: train/8/00008_00029_00024.png  \n",
            "  inflating: train/8/00008_00029_00025.png  \n",
            "  inflating: train/8/00008_00029_00026.png  \n",
            "  inflating: train/8/00008_00029_00027.png  \n",
            "  inflating: train/8/00008_00029_00028.png  \n",
            "  inflating: train/8/00008_00029_00029.png  \n",
            "  inflating: train/8/00008_00030_00000.png  \n",
            "  inflating: train/8/00008_00030_00001.png  \n",
            "  inflating: train/8/00008_00030_00002.png  \n",
            "  inflating: train/8/00008_00030_00003.png  \n",
            "  inflating: train/8/00008_00030_00004.png  \n",
            "  inflating: train/8/00008_00030_00005.png  \n",
            "  inflating: train/8/00008_00030_00006.png  \n",
            "  inflating: train/8/00008_00030_00007.png  \n",
            "  inflating: train/8/00008_00030_00008.png  \n",
            "  inflating: train/8/00008_00030_00009.png  \n",
            "  inflating: train/8/00008_00030_00010.png  \n",
            "  inflating: train/8/00008_00030_00011.png  \n",
            "  inflating: train/8/00008_00030_00012.png  \n",
            "  inflating: train/8/00008_00030_00013.png  \n",
            "  inflating: train/8/00008_00030_00014.png  \n",
            "  inflating: train/8/00008_00030_00015.png  \n",
            "  inflating: train/8/00008_00030_00016.png  \n",
            "  inflating: train/8/00008_00030_00017.png  \n",
            "  inflating: train/8/00008_00030_00018.png  \n",
            "  inflating: train/8/00008_00030_00019.png  \n",
            "  inflating: train/8/00008_00030_00020.png  \n",
            "  inflating: train/8/00008_00030_00021.png  \n",
            "  inflating: train/8/00008_00030_00022.png  \n",
            "  inflating: train/8/00008_00030_00023.png  \n",
            "  inflating: train/8/00008_00030_00024.png  \n",
            "  inflating: train/8/00008_00030_00025.png  \n",
            "  inflating: train/8/00008_00030_00026.png  \n",
            "  inflating: train/8/00008_00030_00027.png  \n",
            "  inflating: train/8/00008_00030_00028.png  \n",
            "  inflating: train/8/00008_00030_00029.png  \n",
            "  inflating: train/8/00008_00031_00000.png  \n",
            "  inflating: train/8/00008_00031_00001.png  \n",
            "  inflating: train/8/00008_00031_00002.png  \n",
            "  inflating: train/8/00008_00031_00003.png  \n",
            "  inflating: train/8/00008_00031_00004.png  \n",
            "  inflating: train/8/00008_00031_00005.png  \n",
            "  inflating: train/8/00008_00031_00006.png  \n",
            "  inflating: train/8/00008_00031_00007.png  \n",
            "  inflating: train/8/00008_00031_00008.png  \n",
            "  inflating: train/8/00008_00031_00009.png  \n",
            "  inflating: train/8/00008_00031_00010.png  \n",
            "  inflating: train/8/00008_00031_00011.png  \n",
            "  inflating: train/8/00008_00031_00012.png  \n",
            "  inflating: train/8/00008_00031_00013.png  \n",
            "  inflating: train/8/00008_00031_00014.png  \n",
            "  inflating: train/8/00008_00031_00015.png  \n",
            "  inflating: train/8/00008_00031_00016.png  \n",
            "  inflating: train/8/00008_00031_00017.png  \n",
            "  inflating: train/8/00008_00031_00018.png  \n",
            "  inflating: train/8/00008_00031_00019.png  \n",
            "  inflating: train/8/00008_00031_00020.png  \n",
            "  inflating: train/8/00008_00031_00021.png  \n",
            "  inflating: train/8/00008_00031_00022.png  \n",
            "  inflating: train/8/00008_00031_00023.png  \n",
            "  inflating: train/8/00008_00031_00024.png  \n",
            "  inflating: train/8/00008_00031_00025.png  \n",
            "  inflating: train/8/00008_00031_00026.png  \n",
            "  inflating: train/8/00008_00031_00027.png  \n",
            "  inflating: train/8/00008_00031_00028.png  \n",
            "  inflating: train/8/00008_00031_00029.png  \n",
            "  inflating: train/8/00008_00032_00000.png  \n",
            "  inflating: train/8/00008_00032_00001.png  \n",
            "  inflating: train/8/00008_00032_00002.png  \n",
            "  inflating: train/8/00008_00032_00003.png  \n",
            "  inflating: train/8/00008_00032_00004.png  \n",
            "  inflating: train/8/00008_00032_00005.png  \n",
            "  inflating: train/8/00008_00032_00006.png  \n",
            "  inflating: train/8/00008_00032_00007.png  \n",
            "  inflating: train/8/00008_00032_00008.png  \n",
            "  inflating: train/8/00008_00032_00009.png  \n",
            "  inflating: train/8/00008_00032_00010.png  \n",
            "  inflating: train/8/00008_00032_00011.png  \n",
            "  inflating: train/8/00008_00032_00012.png  \n",
            "  inflating: train/8/00008_00032_00013.png  \n",
            "  inflating: train/8/00008_00032_00014.png  \n",
            "  inflating: train/8/00008_00032_00015.png  \n",
            "  inflating: train/8/00008_00032_00016.png  \n",
            "  inflating: train/8/00008_00032_00017.png  \n",
            "  inflating: train/8/00008_00032_00018.png  \n",
            "  inflating: train/8/00008_00032_00019.png  \n",
            "  inflating: train/8/00008_00032_00020.png  \n",
            "  inflating: train/8/00008_00032_00021.png  \n",
            "  inflating: train/8/00008_00032_00022.png  \n",
            "  inflating: train/8/00008_00032_00023.png  \n",
            "  inflating: train/8/00008_00032_00024.png  \n",
            "  inflating: train/8/00008_00032_00025.png  \n",
            "  inflating: train/8/00008_00032_00026.png  \n",
            "  inflating: train/8/00008_00032_00027.png  \n",
            "  inflating: train/8/00008_00032_00028.png  \n",
            "  inflating: train/8/00008_00032_00029.png  \n",
            "  inflating: train/8/00008_00033_00000.png  \n",
            "  inflating: train/8/00008_00033_00001.png  \n",
            "  inflating: train/8/00008_00033_00002.png  \n",
            "  inflating: train/8/00008_00033_00003.png  \n",
            "  inflating: train/8/00008_00033_00004.png  \n",
            "  inflating: train/8/00008_00033_00005.png  \n",
            "  inflating: train/8/00008_00033_00006.png  \n",
            "  inflating: train/8/00008_00033_00007.png  \n",
            "  inflating: train/8/00008_00033_00008.png  \n",
            "  inflating: train/8/00008_00033_00009.png  \n",
            "  inflating: train/8/00008_00033_00010.png  \n",
            "  inflating: train/8/00008_00033_00011.png  \n",
            "  inflating: train/8/00008_00033_00012.png  \n",
            "  inflating: train/8/00008_00033_00013.png  \n",
            "  inflating: train/8/00008_00033_00014.png  \n",
            "  inflating: train/8/00008_00033_00015.png  \n",
            "  inflating: train/8/00008_00033_00016.png  \n",
            "  inflating: train/8/00008_00033_00017.png  \n",
            "  inflating: train/8/00008_00033_00018.png  \n",
            "  inflating: train/8/00008_00033_00019.png  \n",
            "  inflating: train/8/00008_00033_00020.png  \n",
            "  inflating: train/8/00008_00033_00021.png  \n",
            "  inflating: train/8/00008_00033_00022.png  \n",
            "  inflating: train/8/00008_00033_00023.png  \n",
            "  inflating: train/8/00008_00033_00024.png  \n",
            "  inflating: train/8/00008_00033_00025.png  \n",
            "  inflating: train/8/00008_00033_00026.png  \n",
            "  inflating: train/8/00008_00033_00027.png  \n",
            "  inflating: train/8/00008_00033_00028.png  \n",
            "  inflating: train/8/00008_00033_00029.png  \n",
            "  inflating: train/8/00008_00034_00000.png  \n",
            "  inflating: train/8/00008_00034_00001.png  \n",
            "  inflating: train/8/00008_00034_00002.png  \n",
            "  inflating: train/8/00008_00034_00003.png  \n",
            "  inflating: train/8/00008_00034_00004.png  \n",
            "  inflating: train/8/00008_00034_00005.png  \n",
            "  inflating: train/8/00008_00034_00006.png  \n",
            "  inflating: train/8/00008_00034_00007.png  \n",
            "  inflating: train/8/00008_00034_00008.png  \n",
            "  inflating: train/8/00008_00034_00009.png  \n",
            "  inflating: train/8/00008_00034_00010.png  \n",
            "  inflating: train/8/00008_00034_00011.png  \n",
            "  inflating: train/8/00008_00034_00012.png  \n",
            "  inflating: train/8/00008_00034_00013.png  \n",
            "  inflating: train/8/00008_00034_00014.png  \n",
            "  inflating: train/8/00008_00034_00015.png  \n",
            "  inflating: train/8/00008_00034_00016.png  \n",
            "  inflating: train/8/00008_00034_00017.png  \n",
            "  inflating: train/8/00008_00034_00018.png  \n",
            "  inflating: train/8/00008_00034_00019.png  \n",
            "  inflating: train/8/00008_00034_00020.png  \n",
            "  inflating: train/8/00008_00034_00021.png  \n",
            "  inflating: train/8/00008_00034_00022.png  \n",
            "  inflating: train/8/00008_00034_00023.png  \n",
            "  inflating: train/8/00008_00034_00024.png  \n",
            "  inflating: train/8/00008_00034_00025.png  \n",
            "  inflating: train/8/00008_00034_00026.png  \n",
            "  inflating: train/8/00008_00034_00027.png  \n",
            "  inflating: train/8/00008_00034_00028.png  \n",
            "  inflating: train/8/00008_00034_00029.png  \n",
            "  inflating: train/8/00008_00035_00000.png  \n",
            "  inflating: train/8/00008_00035_00001.png  \n",
            "  inflating: train/8/00008_00035_00002.png  \n",
            "  inflating: train/8/00008_00035_00003.png  \n",
            "  inflating: train/8/00008_00035_00004.png  \n",
            "  inflating: train/8/00008_00035_00005.png  \n",
            "  inflating: train/8/00008_00035_00006.png  \n",
            "  inflating: train/8/00008_00035_00007.png  \n",
            "  inflating: train/8/00008_00035_00008.png  \n",
            "  inflating: train/8/00008_00035_00009.png  \n",
            "  inflating: train/8/00008_00035_00010.png  \n",
            "  inflating: train/8/00008_00035_00011.png  \n",
            "  inflating: train/8/00008_00035_00012.png  \n",
            "  inflating: train/8/00008_00035_00013.png  \n",
            "  inflating: train/8/00008_00035_00014.png  \n",
            "  inflating: train/8/00008_00035_00015.png  \n",
            "  inflating: train/8/00008_00035_00016.png  \n",
            "  inflating: train/8/00008_00035_00017.png  \n",
            "  inflating: train/8/00008_00035_00018.png  \n",
            "  inflating: train/8/00008_00035_00019.png  \n",
            "  inflating: train/8/00008_00035_00020.png  \n",
            "  inflating: train/8/00008_00035_00021.png  \n",
            "  inflating: train/8/00008_00035_00022.png  \n",
            "  inflating: train/8/00008_00035_00023.png  \n",
            "  inflating: train/8/00008_00035_00024.png  \n",
            "  inflating: train/8/00008_00035_00025.png  \n",
            "  inflating: train/8/00008_00035_00026.png  \n",
            "  inflating: train/8/00008_00035_00027.png  \n",
            "  inflating: train/8/00008_00035_00028.png  \n",
            "  inflating: train/8/00008_00035_00029.png  \n",
            "  inflating: train/8/00008_00036_00000.png  \n",
            "  inflating: train/8/00008_00036_00001.png  \n",
            "  inflating: train/8/00008_00036_00002.png  \n",
            "  inflating: train/8/00008_00036_00003.png  \n",
            "  inflating: train/8/00008_00036_00004.png  \n",
            "  inflating: train/8/00008_00036_00005.png  \n",
            "  inflating: train/8/00008_00036_00006.png  \n",
            "  inflating: train/8/00008_00036_00007.png  \n",
            "  inflating: train/8/00008_00036_00008.png  \n",
            "  inflating: train/8/00008_00036_00009.png  \n",
            "  inflating: train/8/00008_00036_00010.png  \n",
            "  inflating: train/8/00008_00036_00011.png  \n",
            "  inflating: train/8/00008_00036_00012.png  \n",
            "  inflating: train/8/00008_00036_00013.png  \n",
            "  inflating: train/8/00008_00036_00014.png  \n",
            "  inflating: train/8/00008_00036_00015.png  \n",
            "  inflating: train/8/00008_00036_00016.png  \n",
            "  inflating: train/8/00008_00036_00017.png  \n",
            "  inflating: train/8/00008_00036_00018.png  \n",
            "  inflating: train/8/00008_00036_00019.png  \n",
            "  inflating: train/8/00008_00036_00020.png  \n",
            "  inflating: train/8/00008_00036_00021.png  \n",
            "  inflating: train/8/00008_00036_00022.png  \n",
            "  inflating: train/8/00008_00036_00023.png  \n",
            "  inflating: train/8/00008_00036_00024.png  \n",
            "  inflating: train/8/00008_00036_00025.png  \n",
            "  inflating: train/8/00008_00036_00026.png  \n",
            "  inflating: train/8/00008_00036_00027.png  \n",
            "  inflating: train/8/00008_00036_00028.png  \n",
            "  inflating: train/8/00008_00036_00029.png  \n",
            "  inflating: train/8/00008_00037_00000.png  \n",
            "  inflating: train/8/00008_00037_00001.png  \n",
            "  inflating: train/8/00008_00037_00002.png  \n",
            "  inflating: train/8/00008_00037_00003.png  \n",
            "  inflating: train/8/00008_00037_00004.png  \n",
            "  inflating: train/8/00008_00037_00005.png  \n",
            "  inflating: train/8/00008_00037_00006.png  \n",
            "  inflating: train/8/00008_00037_00007.png  \n",
            "  inflating: train/8/00008_00037_00008.png  \n",
            "  inflating: train/8/00008_00037_00009.png  \n",
            "  inflating: train/8/00008_00037_00010.png  \n",
            "  inflating: train/8/00008_00037_00011.png  \n",
            "  inflating: train/8/00008_00037_00012.png  \n",
            "  inflating: train/8/00008_00037_00013.png  \n",
            "  inflating: train/8/00008_00037_00014.png  \n",
            "  inflating: train/8/00008_00037_00015.png  \n",
            "  inflating: train/8/00008_00037_00016.png  \n",
            "  inflating: train/8/00008_00037_00017.png  \n",
            "  inflating: train/8/00008_00037_00018.png  \n",
            "  inflating: train/8/00008_00037_00019.png  \n",
            "  inflating: train/8/00008_00037_00020.png  \n",
            "  inflating: train/8/00008_00037_00021.png  \n",
            "  inflating: train/8/00008_00037_00022.png  \n",
            "  inflating: train/8/00008_00037_00023.png  \n",
            "  inflating: train/8/00008_00037_00024.png  \n",
            "  inflating: train/8/00008_00037_00025.png  \n",
            "  inflating: train/8/00008_00037_00026.png  \n",
            "  inflating: train/8/00008_00037_00027.png  \n",
            "  inflating: train/8/00008_00037_00028.png  \n",
            "  inflating: train/8/00008_00037_00029.png  \n",
            "  inflating: train/8/00008_00038_00000.png  \n",
            "  inflating: train/8/00008_00038_00001.png  \n",
            "  inflating: train/8/00008_00038_00002.png  \n",
            "  inflating: train/8/00008_00038_00003.png  \n",
            "  inflating: train/8/00008_00038_00004.png  \n",
            "  inflating: train/8/00008_00038_00005.png  \n",
            "  inflating: train/8/00008_00038_00006.png  \n",
            "  inflating: train/8/00008_00038_00007.png  \n",
            "  inflating: train/8/00008_00038_00008.png  \n",
            "  inflating: train/8/00008_00038_00009.png  \n",
            "  inflating: train/8/00008_00038_00010.png  \n",
            "  inflating: train/8/00008_00038_00011.png  \n",
            "  inflating: train/8/00008_00038_00012.png  \n",
            "  inflating: train/8/00008_00038_00013.png  \n",
            "  inflating: train/8/00008_00038_00014.png  \n",
            "  inflating: train/8/00008_00038_00015.png  \n",
            "  inflating: train/8/00008_00038_00016.png  \n",
            "  inflating: train/8/00008_00038_00017.png  \n",
            "  inflating: train/8/00008_00038_00018.png  \n",
            "  inflating: train/8/00008_00038_00019.png  \n",
            "  inflating: train/8/00008_00038_00020.png  \n",
            "  inflating: train/8/00008_00038_00021.png  \n",
            "  inflating: train/8/00008_00038_00022.png  \n",
            "  inflating: train/8/00008_00038_00023.png  \n",
            "  inflating: train/8/00008_00038_00024.png  \n",
            "  inflating: train/8/00008_00038_00025.png  \n",
            "  inflating: train/8/00008_00038_00026.png  \n",
            "  inflating: train/8/00008_00038_00027.png  \n",
            "  inflating: train/8/00008_00038_00028.png  \n",
            "  inflating: train/8/00008_00038_00029.png  \n",
            "  inflating: train/8/00008_00039_00000.png  \n",
            "  inflating: train/8/00008_00039_00001.png  \n",
            "  inflating: train/8/00008_00039_00002.png  \n",
            "  inflating: train/8/00008_00039_00003.png  \n",
            "  inflating: train/8/00008_00039_00004.png  \n",
            "  inflating: train/8/00008_00039_00005.png  \n",
            "  inflating: train/8/00008_00039_00006.png  \n",
            "  inflating: train/8/00008_00039_00007.png  \n",
            "  inflating: train/8/00008_00039_00008.png  \n",
            "  inflating: train/8/00008_00039_00009.png  \n",
            "  inflating: train/8/00008_00039_00010.png  \n",
            "  inflating: train/8/00008_00039_00011.png  \n",
            "  inflating: train/8/00008_00039_00012.png  \n",
            "  inflating: train/8/00008_00039_00013.png  \n",
            "  inflating: train/8/00008_00039_00014.png  \n",
            "  inflating: train/8/00008_00039_00015.png  \n",
            "  inflating: train/8/00008_00039_00016.png  \n",
            "  inflating: train/8/00008_00039_00017.png  \n",
            "  inflating: train/8/00008_00039_00018.png  \n",
            "  inflating: train/8/00008_00039_00019.png  \n",
            "  inflating: train/8/00008_00039_00020.png  \n",
            "  inflating: train/8/00008_00039_00021.png  \n",
            "  inflating: train/8/00008_00039_00022.png  \n",
            "  inflating: train/8/00008_00039_00023.png  \n",
            "  inflating: train/8/00008_00039_00024.png  \n",
            "  inflating: train/8/00008_00039_00025.png  \n",
            "  inflating: train/8/00008_00039_00026.png  \n",
            "  inflating: train/8/00008_00039_00027.png  \n",
            "  inflating: train/8/00008_00039_00028.png  \n",
            "  inflating: train/8/00008_00039_00029.png  \n",
            "  inflating: train/8/00008_00040_00000.png  \n",
            "  inflating: train/8/00008_00040_00001.png  \n",
            "  inflating: train/8/00008_00040_00002.png  \n",
            "  inflating: train/8/00008_00040_00003.png  \n",
            "  inflating: train/8/00008_00040_00004.png  \n",
            "  inflating: train/8/00008_00040_00005.png  \n",
            "  inflating: train/8/00008_00040_00006.png  \n",
            "  inflating: train/8/00008_00040_00007.png  \n",
            "  inflating: train/8/00008_00040_00008.png  \n",
            "  inflating: train/8/00008_00040_00009.png  \n",
            "  inflating: train/8/00008_00040_00010.png  \n",
            "  inflating: train/8/00008_00040_00011.png  \n",
            "  inflating: train/8/00008_00040_00012.png  \n",
            "  inflating: train/8/00008_00040_00013.png  \n",
            "  inflating: train/8/00008_00040_00014.png  \n",
            "  inflating: train/8/00008_00040_00015.png  \n",
            "  inflating: train/8/00008_00040_00016.png  \n",
            "  inflating: train/8/00008_00040_00017.png  \n",
            "  inflating: train/8/00008_00040_00018.png  \n",
            "  inflating: train/8/00008_00040_00019.png  \n",
            "  inflating: train/8/00008_00040_00020.png  \n",
            "  inflating: train/8/00008_00040_00021.png  \n",
            "  inflating: train/8/00008_00040_00022.png  \n",
            "  inflating: train/8/00008_00040_00023.png  \n",
            "  inflating: train/8/00008_00040_00024.png  \n",
            "  inflating: train/8/00008_00040_00025.png  \n",
            "  inflating: train/8/00008_00040_00026.png  \n",
            "  inflating: train/8/00008_00040_00027.png  \n",
            "  inflating: train/8/00008_00040_00028.png  \n",
            "  inflating: train/8/00008_00040_00029.png  \n",
            "  inflating: train/8/00008_00041_00000.png  \n",
            "  inflating: train/8/00008_00041_00001.png  \n",
            "  inflating: train/8/00008_00041_00002.png  \n",
            "  inflating: train/8/00008_00041_00003.png  \n",
            "  inflating: train/8/00008_00041_00004.png  \n",
            "  inflating: train/8/00008_00041_00005.png  \n",
            "  inflating: train/8/00008_00041_00006.png  \n",
            "  inflating: train/8/00008_00041_00007.png  \n",
            "  inflating: train/8/00008_00041_00008.png  \n",
            "  inflating: train/8/00008_00041_00009.png  \n",
            "  inflating: train/8/00008_00041_00010.png  \n",
            "  inflating: train/8/00008_00041_00011.png  \n",
            "  inflating: train/8/00008_00041_00012.png  \n",
            "  inflating: train/8/00008_00041_00013.png  \n",
            "  inflating: train/8/00008_00041_00014.png  \n",
            "  inflating: train/8/00008_00041_00015.png  \n",
            "  inflating: train/8/00008_00041_00016.png  \n",
            "  inflating: train/8/00008_00041_00017.png  \n",
            "  inflating: train/8/00008_00041_00018.png  \n",
            "  inflating: train/8/00008_00041_00019.png  \n",
            "  inflating: train/8/00008_00041_00020.png  \n",
            "  inflating: train/8/00008_00041_00021.png  \n",
            "  inflating: train/8/00008_00041_00022.png  \n",
            "  inflating: train/8/00008_00041_00023.png  \n",
            "  inflating: train/8/00008_00041_00024.png  \n",
            "  inflating: train/8/00008_00041_00025.png  \n",
            "  inflating: train/8/00008_00041_00026.png  \n",
            "  inflating: train/8/00008_00041_00027.png  \n",
            "  inflating: train/8/00008_00041_00028.png  \n",
            "  inflating: train/8/00008_00041_00029.png  \n",
            "  inflating: train/8/00008_00042_00000.png  \n",
            "  inflating: train/8/00008_00042_00001.png  \n",
            "  inflating: train/8/00008_00042_00002.png  \n",
            "  inflating: train/8/00008_00042_00003.png  \n",
            "  inflating: train/8/00008_00042_00004.png  \n",
            "  inflating: train/8/00008_00042_00005.png  \n",
            "  inflating: train/8/00008_00042_00006.png  \n",
            "  inflating: train/8/00008_00042_00007.png  \n",
            "  inflating: train/8/00008_00042_00008.png  \n",
            "  inflating: train/8/00008_00042_00009.png  \n",
            "  inflating: train/8/00008_00042_00010.png  \n",
            "  inflating: train/8/00008_00042_00011.png  \n",
            "  inflating: train/8/00008_00042_00012.png  \n",
            "  inflating: train/8/00008_00042_00013.png  \n",
            "  inflating: train/8/00008_00042_00014.png  \n",
            "  inflating: train/8/00008_00042_00015.png  \n",
            "  inflating: train/8/00008_00042_00016.png  \n",
            "  inflating: train/8/00008_00042_00017.png  \n",
            "  inflating: train/8/00008_00042_00018.png  \n",
            "  inflating: train/8/00008_00042_00019.png  \n",
            "  inflating: train/8/00008_00042_00020.png  \n",
            "  inflating: train/8/00008_00042_00021.png  \n",
            "  inflating: train/8/00008_00042_00022.png  \n",
            "  inflating: train/8/00008_00042_00023.png  \n",
            "  inflating: train/8/00008_00042_00024.png  \n",
            "  inflating: train/8/00008_00042_00025.png  \n",
            "  inflating: train/8/00008_00042_00026.png  \n",
            "  inflating: train/8/00008_00042_00027.png  \n",
            "  inflating: train/8/00008_00042_00028.png  \n",
            "  inflating: train/8/00008_00042_00029.png  \n",
            "  inflating: train/8/00008_00043_00000.png  \n",
            "  inflating: train/8/00008_00043_00001.png  \n",
            "  inflating: train/8/00008_00043_00002.png  \n",
            "  inflating: train/8/00008_00043_00003.png  \n",
            "  inflating: train/8/00008_00043_00004.png  \n",
            "  inflating: train/8/00008_00043_00005.png  \n",
            "  inflating: train/8/00008_00043_00006.png  \n",
            "  inflating: train/8/00008_00043_00007.png  \n",
            "  inflating: train/8/00008_00043_00008.png  \n",
            "  inflating: train/8/00008_00043_00009.png  \n",
            "  inflating: train/8/00008_00043_00010.png  \n",
            "  inflating: train/8/00008_00043_00011.png  \n",
            "  inflating: train/8/00008_00043_00012.png  \n",
            "  inflating: train/8/00008_00043_00013.png  \n",
            "  inflating: train/8/00008_00043_00014.png  \n",
            "  inflating: train/8/00008_00043_00015.png  \n",
            "  inflating: train/8/00008_00043_00016.png  \n",
            "  inflating: train/8/00008_00043_00017.png  \n",
            "  inflating: train/8/00008_00043_00018.png  \n",
            "  inflating: train/8/00008_00043_00019.png  \n",
            "  inflating: train/8/00008_00043_00020.png  \n",
            "  inflating: train/8/00008_00043_00021.png  \n",
            "  inflating: train/8/00008_00043_00022.png  \n",
            "  inflating: train/8/00008_00043_00023.png  \n",
            "  inflating: train/8/00008_00043_00024.png  \n",
            "  inflating: train/8/00008_00043_00025.png  \n",
            "  inflating: train/8/00008_00043_00026.png  \n",
            "  inflating: train/8/00008_00043_00027.png  \n",
            "  inflating: train/8/00008_00043_00028.png  \n",
            "  inflating: train/8/00008_00043_00029.png  \n",
            "  inflating: train/8/00008_00044_00000.png  \n",
            "  inflating: train/8/00008_00044_00001.png  \n",
            "  inflating: train/8/00008_00044_00002.png  \n",
            "  inflating: train/8/00008_00044_00003.png  \n",
            "  inflating: train/8/00008_00044_00004.png  \n",
            "  inflating: train/8/00008_00044_00005.png  \n",
            "  inflating: train/8/00008_00044_00006.png  \n",
            "  inflating: train/8/00008_00044_00007.png  \n",
            "  inflating: train/8/00008_00044_00008.png  \n",
            "  inflating: train/8/00008_00044_00009.png  \n",
            "  inflating: train/8/00008_00044_00010.png  \n",
            "  inflating: train/8/00008_00044_00011.png  \n",
            "  inflating: train/8/00008_00044_00012.png  \n",
            "  inflating: train/8/00008_00044_00013.png  \n",
            "  inflating: train/8/00008_00044_00014.png  \n",
            "  inflating: train/8/00008_00044_00015.png  \n",
            "  inflating: train/8/00008_00044_00016.png  \n",
            "  inflating: train/8/00008_00044_00017.png  \n",
            "  inflating: train/8/00008_00044_00018.png  \n",
            "  inflating: train/8/00008_00044_00019.png  \n",
            "  inflating: train/8/00008_00044_00020.png  \n",
            "  inflating: train/8/00008_00044_00021.png  \n",
            "  inflating: train/8/00008_00044_00022.png  \n",
            "  inflating: train/8/00008_00044_00023.png  \n",
            "  inflating: train/8/00008_00044_00024.png  \n",
            "  inflating: train/8/00008_00044_00025.png  \n",
            "  inflating: train/8/00008_00044_00026.png  \n",
            "  inflating: train/8/00008_00044_00027.png  \n",
            "  inflating: train/8/00008_00044_00028.png  \n",
            "  inflating: train/8/00008_00044_00029.png  \n",
            "  inflating: train/8/00008_00045_00000.png  \n",
            "  inflating: train/8/00008_00045_00001.png  \n",
            "  inflating: train/8/00008_00045_00002.png  \n",
            "  inflating: train/8/00008_00045_00003.png  \n",
            "  inflating: train/8/00008_00045_00004.png  \n",
            "  inflating: train/8/00008_00045_00005.png  \n",
            "  inflating: train/8/00008_00045_00006.png  \n",
            "  inflating: train/8/00008_00045_00007.png  \n",
            "  inflating: train/8/00008_00045_00008.png  \n",
            "  inflating: train/8/00008_00045_00009.png  \n",
            "  inflating: train/8/00008_00045_00010.png  \n",
            "  inflating: train/8/00008_00045_00011.png  \n",
            "  inflating: train/8/00008_00045_00012.png  \n",
            "  inflating: train/8/00008_00045_00013.png  \n",
            "  inflating: train/8/00008_00045_00014.png  \n",
            "  inflating: train/8/00008_00045_00015.png  \n",
            "  inflating: train/8/00008_00045_00016.png  \n",
            "  inflating: train/8/00008_00045_00017.png  \n",
            "  inflating: train/8/00008_00045_00018.png  \n",
            "  inflating: train/8/00008_00045_00019.png  \n",
            "  inflating: train/8/00008_00045_00020.png  \n",
            "  inflating: train/8/00008_00045_00021.png  \n",
            "  inflating: train/8/00008_00045_00022.png  \n",
            "  inflating: train/8/00008_00045_00023.png  \n",
            "  inflating: train/8/00008_00045_00024.png  \n",
            "  inflating: train/8/00008_00045_00025.png  \n",
            "  inflating: train/8/00008_00045_00026.png  \n",
            "  inflating: train/8/00008_00045_00027.png  \n",
            "  inflating: train/8/00008_00045_00028.png  \n",
            "  inflating: train/8/00008_00045_00029.png  \n",
            "  inflating: train/8/00008_00046_00000.png  \n",
            "  inflating: train/8/00008_00046_00001.png  \n",
            "  inflating: train/8/00008_00046_00002.png  \n",
            "  inflating: train/8/00008_00046_00003.png  \n",
            "  inflating: train/8/00008_00046_00004.png  \n",
            "  inflating: train/8/00008_00046_00005.png  \n",
            "  inflating: train/8/00008_00046_00006.png  \n",
            "  inflating: train/8/00008_00046_00007.png  \n",
            "  inflating: train/8/00008_00046_00008.png  \n",
            "  inflating: train/8/00008_00046_00009.png  \n",
            "  inflating: train/8/00008_00046_00010.png  \n",
            "  inflating: train/8/00008_00046_00011.png  \n",
            "  inflating: train/8/00008_00046_00012.png  \n",
            "  inflating: train/8/00008_00046_00013.png  \n",
            "  inflating: train/8/00008_00046_00014.png  \n",
            "  inflating: train/8/00008_00046_00015.png  \n",
            "  inflating: train/8/00008_00046_00016.png  \n",
            "  inflating: train/8/00008_00046_00017.png  \n",
            "  inflating: train/8/00008_00046_00018.png  \n",
            "  inflating: train/8/00008_00046_00019.png  \n",
            "  inflating: train/8/00008_00046_00020.png  \n",
            "  inflating: train/8/00008_00046_00021.png  \n",
            "  inflating: train/8/00008_00046_00022.png  \n",
            "  inflating: train/8/00008_00046_00023.png  \n",
            "  inflating: train/8/00008_00046_00024.png  \n",
            "  inflating: train/8/00008_00046_00025.png  \n",
            "  inflating: train/8/00008_00046_00026.png  \n",
            "  inflating: train/8/00008_00046_00027.png  \n",
            "  inflating: train/8/00008_00046_00028.png  \n",
            "  inflating: train/8/00008_00046_00029.png  \n",
            "  inflating: train/9/00009_00000_00000.png  \n",
            "  inflating: train/9/00009_00000_00001.png  \n",
            "  inflating: train/9/00009_00000_00002.png  \n",
            "  inflating: train/9/00009_00000_00003.png  \n",
            "  inflating: train/9/00009_00000_00004.png  \n",
            "  inflating: train/9/00009_00000_00005.png  \n",
            "  inflating: train/9/00009_00000_00006.png  \n",
            "  inflating: train/9/00009_00000_00007.png  \n",
            "  inflating: train/9/00009_00000_00008.png  \n",
            "  inflating: train/9/00009_00000_00009.png  \n",
            "  inflating: train/9/00009_00000_00010.png  \n",
            "  inflating: train/9/00009_00000_00011.png  \n",
            "  inflating: train/9/00009_00000_00012.png  \n",
            "  inflating: train/9/00009_00000_00013.png  \n",
            "  inflating: train/9/00009_00000_00014.png  \n",
            "  inflating: train/9/00009_00000_00015.png  \n",
            "  inflating: train/9/00009_00000_00016.png  \n",
            "  inflating: train/9/00009_00000_00017.png  \n",
            "  inflating: train/9/00009_00000_00018.png  \n",
            "  inflating: train/9/00009_00000_00019.png  \n",
            "  inflating: train/9/00009_00000_00020.png  \n",
            "  inflating: train/9/00009_00000_00021.png  \n",
            "  inflating: train/9/00009_00000_00022.png  \n",
            "  inflating: train/9/00009_00000_00023.png  \n",
            "  inflating: train/9/00009_00000_00024.png  \n",
            "  inflating: train/9/00009_00000_00025.png  \n",
            "  inflating: train/9/00009_00000_00026.png  \n",
            "  inflating: train/9/00009_00000_00027.png  \n",
            "  inflating: train/9/00009_00000_00028.png  \n",
            "  inflating: train/9/00009_00000_00029.png  \n",
            "  inflating: train/9/00009_00001_00000.png  \n",
            "  inflating: train/9/00009_00001_00001.png  \n",
            "  inflating: train/9/00009_00001_00002.png  \n",
            "  inflating: train/9/00009_00001_00003.png  \n",
            "  inflating: train/9/00009_00001_00004.png  \n",
            "  inflating: train/9/00009_00001_00005.png  \n",
            "  inflating: train/9/00009_00001_00006.png  \n",
            "  inflating: train/9/00009_00001_00007.png  \n",
            "  inflating: train/9/00009_00001_00008.png  \n",
            "  inflating: train/9/00009_00001_00009.png  \n",
            "  inflating: train/9/00009_00001_00010.png  \n",
            "  inflating: train/9/00009_00001_00011.png  \n",
            "  inflating: train/9/00009_00001_00012.png  \n",
            "  inflating: train/9/00009_00001_00013.png  \n",
            "  inflating: train/9/00009_00001_00014.png  \n",
            "  inflating: train/9/00009_00001_00015.png  \n",
            "  inflating: train/9/00009_00001_00016.png  \n",
            "  inflating: train/9/00009_00001_00017.png  \n",
            "  inflating: train/9/00009_00001_00018.png  \n",
            "  inflating: train/9/00009_00001_00019.png  \n",
            "  inflating: train/9/00009_00001_00020.png  \n",
            "  inflating: train/9/00009_00001_00021.png  \n",
            "  inflating: train/9/00009_00001_00022.png  \n",
            "  inflating: train/9/00009_00001_00023.png  \n",
            "  inflating: train/9/00009_00001_00024.png  \n",
            "  inflating: train/9/00009_00001_00025.png  \n",
            "  inflating: train/9/00009_00001_00026.png  \n",
            "  inflating: train/9/00009_00001_00027.png  \n",
            "  inflating: train/9/00009_00001_00028.png  \n",
            "  inflating: train/9/00009_00001_00029.png  \n",
            "  inflating: train/9/00009_00002_00000.png  \n",
            "  inflating: train/9/00009_00002_00001.png  \n",
            "  inflating: train/9/00009_00002_00002.png  \n",
            "  inflating: train/9/00009_00002_00003.png  \n",
            "  inflating: train/9/00009_00002_00004.png  \n",
            "  inflating: train/9/00009_00002_00005.png  \n",
            "  inflating: train/9/00009_00002_00006.png  \n",
            "  inflating: train/9/00009_00002_00007.png  \n",
            "  inflating: train/9/00009_00002_00008.png  \n",
            "  inflating: train/9/00009_00002_00009.png  \n",
            "  inflating: train/9/00009_00002_00010.png  \n",
            "  inflating: train/9/00009_00002_00011.png  \n",
            "  inflating: train/9/00009_00002_00012.png  \n",
            "  inflating: train/9/00009_00002_00013.png  \n",
            "  inflating: train/9/00009_00002_00014.png  \n",
            "  inflating: train/9/00009_00002_00015.png  \n",
            "  inflating: train/9/00009_00002_00016.png  \n",
            "  inflating: train/9/00009_00002_00017.png  \n",
            "  inflating: train/9/00009_00002_00018.png  \n",
            "  inflating: train/9/00009_00002_00019.png  \n",
            "  inflating: train/9/00009_00002_00020.png  \n",
            "  inflating: train/9/00009_00002_00021.png  \n",
            "  inflating: train/9/00009_00002_00022.png  \n",
            "  inflating: train/9/00009_00002_00023.png  \n",
            "  inflating: train/9/00009_00002_00024.png  \n",
            "  inflating: train/9/00009_00002_00025.png  \n",
            "  inflating: train/9/00009_00002_00026.png  \n",
            "  inflating: train/9/00009_00002_00027.png  \n",
            "  inflating: train/9/00009_00002_00028.png  \n",
            "  inflating: train/9/00009_00002_00029.png  \n",
            "  inflating: train/9/00009_00003_00000.png  \n",
            "  inflating: train/9/00009_00003_00001.png  \n",
            "  inflating: train/9/00009_00003_00002.png  \n",
            "  inflating: train/9/00009_00003_00003.png  \n",
            "  inflating: train/9/00009_00003_00004.png  \n",
            "  inflating: train/9/00009_00003_00005.png  \n",
            "  inflating: train/9/00009_00003_00006.png  \n",
            "  inflating: train/9/00009_00003_00007.png  \n",
            "  inflating: train/9/00009_00003_00008.png  \n",
            "  inflating: train/9/00009_00003_00009.png  \n",
            "  inflating: train/9/00009_00003_00010.png  \n",
            "  inflating: train/9/00009_00003_00011.png  \n",
            "  inflating: train/9/00009_00003_00012.png  \n",
            "  inflating: train/9/00009_00003_00013.png  \n",
            "  inflating: train/9/00009_00003_00014.png  \n",
            "  inflating: train/9/00009_00003_00015.png  \n",
            "  inflating: train/9/00009_00003_00016.png  \n",
            "  inflating: train/9/00009_00003_00017.png  \n",
            "  inflating: train/9/00009_00003_00018.png  \n",
            "  inflating: train/9/00009_00003_00019.png  \n",
            "  inflating: train/9/00009_00003_00020.png  \n",
            "  inflating: train/9/00009_00003_00021.png  \n",
            "  inflating: train/9/00009_00003_00022.png  \n",
            "  inflating: train/9/00009_00003_00023.png  \n",
            "  inflating: train/9/00009_00003_00024.png  \n",
            "  inflating: train/9/00009_00003_00025.png  \n",
            "  inflating: train/9/00009_00003_00026.png  \n",
            "  inflating: train/9/00009_00003_00027.png  \n",
            "  inflating: train/9/00009_00003_00028.png  \n",
            "  inflating: train/9/00009_00003_00029.png  \n",
            "  inflating: train/9/00009_00004_00000.png  \n",
            "  inflating: train/9/00009_00004_00001.png  \n",
            "  inflating: train/9/00009_00004_00002.png  \n",
            "  inflating: train/9/00009_00004_00003.png  \n",
            "  inflating: train/9/00009_00004_00004.png  \n",
            "  inflating: train/9/00009_00004_00005.png  \n",
            "  inflating: train/9/00009_00004_00006.png  \n",
            "  inflating: train/9/00009_00004_00007.png  \n",
            "  inflating: train/9/00009_00004_00008.png  \n",
            "  inflating: train/9/00009_00004_00009.png  \n",
            "  inflating: train/9/00009_00004_00010.png  \n",
            "  inflating: train/9/00009_00004_00011.png  \n",
            "  inflating: train/9/00009_00004_00012.png  \n",
            "  inflating: train/9/00009_00004_00013.png  \n",
            "  inflating: train/9/00009_00004_00014.png  \n",
            "  inflating: train/9/00009_00004_00015.png  \n",
            "  inflating: train/9/00009_00004_00016.png  \n",
            "  inflating: train/9/00009_00004_00017.png  \n",
            "  inflating: train/9/00009_00004_00018.png  \n",
            "  inflating: train/9/00009_00004_00019.png  \n",
            "  inflating: train/9/00009_00004_00020.png  \n",
            "  inflating: train/9/00009_00004_00021.png  \n",
            "  inflating: train/9/00009_00004_00022.png  \n",
            "  inflating: train/9/00009_00004_00023.png  \n",
            "  inflating: train/9/00009_00004_00024.png  \n",
            "  inflating: train/9/00009_00004_00025.png  \n",
            "  inflating: train/9/00009_00004_00026.png  \n",
            "  inflating: train/9/00009_00004_00027.png  \n",
            "  inflating: train/9/00009_00004_00028.png  \n",
            "  inflating: train/9/00009_00004_00029.png  \n",
            "  inflating: train/9/00009_00005_00000.png  \n",
            "  inflating: train/9/00009_00005_00001.png  \n",
            "  inflating: train/9/00009_00005_00002.png  \n",
            "  inflating: train/9/00009_00005_00003.png  \n",
            "  inflating: train/9/00009_00005_00004.png  \n",
            "  inflating: train/9/00009_00005_00005.png  \n",
            "  inflating: train/9/00009_00005_00006.png  \n",
            "  inflating: train/9/00009_00005_00007.png  \n",
            "  inflating: train/9/00009_00005_00008.png  \n",
            "  inflating: train/9/00009_00005_00009.png  \n",
            "  inflating: train/9/00009_00005_00010.png  \n",
            "  inflating: train/9/00009_00005_00011.png  \n",
            "  inflating: train/9/00009_00005_00012.png  \n",
            "  inflating: train/9/00009_00005_00013.png  \n",
            "  inflating: train/9/00009_00005_00014.png  \n",
            "  inflating: train/9/00009_00005_00015.png  \n",
            "  inflating: train/9/00009_00005_00016.png  \n",
            "  inflating: train/9/00009_00005_00017.png  \n",
            "  inflating: train/9/00009_00005_00018.png  \n",
            "  inflating: train/9/00009_00005_00019.png  \n",
            "  inflating: train/9/00009_00005_00020.png  \n",
            "  inflating: train/9/00009_00005_00021.png  \n",
            "  inflating: train/9/00009_00005_00022.png  \n",
            "  inflating: train/9/00009_00005_00023.png  \n",
            "  inflating: train/9/00009_00005_00024.png  \n",
            "  inflating: train/9/00009_00005_00025.png  \n",
            "  inflating: train/9/00009_00005_00026.png  \n",
            "  inflating: train/9/00009_00005_00027.png  \n",
            "  inflating: train/9/00009_00005_00028.png  \n",
            "  inflating: train/9/00009_00005_00029.png  \n",
            "  inflating: train/9/00009_00006_00000.png  \n",
            "  inflating: train/9/00009_00006_00001.png  \n",
            "  inflating: train/9/00009_00006_00002.png  \n",
            "  inflating: train/9/00009_00006_00003.png  \n",
            "  inflating: train/9/00009_00006_00004.png  \n",
            "  inflating: train/9/00009_00006_00005.png  \n",
            "  inflating: train/9/00009_00006_00006.png  \n",
            "  inflating: train/9/00009_00006_00007.png  \n",
            "  inflating: train/9/00009_00006_00008.png  \n",
            "  inflating: train/9/00009_00006_00009.png  \n",
            "  inflating: train/9/00009_00006_00010.png  \n",
            "  inflating: train/9/00009_00006_00011.png  \n",
            "  inflating: train/9/00009_00006_00012.png  \n",
            "  inflating: train/9/00009_00006_00013.png  \n",
            "  inflating: train/9/00009_00006_00014.png  \n",
            "  inflating: train/9/00009_00006_00015.png  \n",
            "  inflating: train/9/00009_00006_00016.png  \n",
            "  inflating: train/9/00009_00006_00017.png  \n",
            "  inflating: train/9/00009_00006_00018.png  \n",
            "  inflating: train/9/00009_00006_00019.png  \n",
            "  inflating: train/9/00009_00006_00020.png  \n",
            "  inflating: train/9/00009_00006_00021.png  \n",
            "  inflating: train/9/00009_00006_00022.png  \n",
            "  inflating: train/9/00009_00006_00023.png  \n",
            "  inflating: train/9/00009_00006_00024.png  \n",
            "  inflating: train/9/00009_00006_00025.png  \n",
            "  inflating: train/9/00009_00006_00026.png  \n",
            "  inflating: train/9/00009_00006_00027.png  \n",
            "  inflating: train/9/00009_00006_00028.png  \n",
            "  inflating: train/9/00009_00006_00029.png  \n",
            "  inflating: train/9/00009_00007_00000.png  \n",
            "  inflating: train/9/00009_00007_00001.png  \n",
            "  inflating: train/9/00009_00007_00002.png  \n",
            "  inflating: train/9/00009_00007_00003.png  \n",
            "  inflating: train/9/00009_00007_00004.png  \n",
            "  inflating: train/9/00009_00007_00005.png  \n",
            "  inflating: train/9/00009_00007_00006.png  \n",
            "  inflating: train/9/00009_00007_00007.png  \n",
            "  inflating: train/9/00009_00007_00008.png  \n",
            "  inflating: train/9/00009_00007_00009.png  \n",
            "  inflating: train/9/00009_00007_00010.png  \n",
            "  inflating: train/9/00009_00007_00011.png  \n",
            "  inflating: train/9/00009_00007_00012.png  \n",
            "  inflating: train/9/00009_00007_00013.png  \n",
            "  inflating: train/9/00009_00007_00014.png  \n",
            "  inflating: train/9/00009_00007_00015.png  \n",
            "  inflating: train/9/00009_00007_00016.png  \n",
            "  inflating: train/9/00009_00007_00017.png  \n",
            "  inflating: train/9/00009_00007_00018.png  \n",
            "  inflating: train/9/00009_00007_00019.png  \n",
            "  inflating: train/9/00009_00007_00020.png  \n",
            "  inflating: train/9/00009_00007_00021.png  \n",
            "  inflating: train/9/00009_00007_00022.png  \n",
            "  inflating: train/9/00009_00007_00023.png  \n",
            "  inflating: train/9/00009_00007_00024.png  \n",
            "  inflating: train/9/00009_00007_00025.png  \n",
            "  inflating: train/9/00009_00007_00026.png  \n",
            "  inflating: train/9/00009_00007_00027.png  \n",
            "  inflating: train/9/00009_00007_00028.png  \n",
            "  inflating: train/9/00009_00007_00029.png  \n",
            "  inflating: train/9/00009_00008_00000.png  \n",
            "  inflating: train/9/00009_00008_00001.png  \n",
            "  inflating: train/9/00009_00008_00002.png  \n",
            "  inflating: train/9/00009_00008_00003.png  \n",
            "  inflating: train/9/00009_00008_00004.png  \n",
            "  inflating: train/9/00009_00008_00005.png  \n",
            "  inflating: train/9/00009_00008_00006.png  \n",
            "  inflating: train/9/00009_00008_00007.png  \n",
            "  inflating: train/9/00009_00008_00008.png  \n",
            "  inflating: train/9/00009_00008_00009.png  \n",
            "  inflating: train/9/00009_00008_00010.png  \n",
            "  inflating: train/9/00009_00008_00011.png  \n",
            "  inflating: train/9/00009_00008_00012.png  \n",
            "  inflating: train/9/00009_00008_00013.png  \n",
            "  inflating: train/9/00009_00008_00014.png  \n",
            "  inflating: train/9/00009_00008_00015.png  \n",
            "  inflating: train/9/00009_00008_00016.png  \n",
            "  inflating: train/9/00009_00008_00017.png  \n",
            "  inflating: train/9/00009_00008_00018.png  \n",
            "  inflating: train/9/00009_00008_00019.png  \n",
            "  inflating: train/9/00009_00008_00020.png  \n",
            "  inflating: train/9/00009_00008_00021.png  \n",
            "  inflating: train/9/00009_00008_00022.png  \n",
            "  inflating: train/9/00009_00008_00023.png  \n",
            "  inflating: train/9/00009_00008_00024.png  \n",
            "  inflating: train/9/00009_00008_00025.png  \n",
            "  inflating: train/9/00009_00008_00026.png  \n",
            "  inflating: train/9/00009_00008_00027.png  \n",
            "  inflating: train/9/00009_00008_00028.png  \n",
            "  inflating: train/9/00009_00008_00029.png  \n",
            "  inflating: train/9/00009_00009_00000.png  \n",
            "  inflating: train/9/00009_00009_00001.png  \n",
            "  inflating: train/9/00009_00009_00002.png  \n",
            "  inflating: train/9/00009_00009_00003.png  \n",
            "  inflating: train/9/00009_00009_00004.png  \n",
            "  inflating: train/9/00009_00009_00005.png  \n",
            "  inflating: train/9/00009_00009_00006.png  \n",
            "  inflating: train/9/00009_00009_00007.png  \n",
            "  inflating: train/9/00009_00009_00008.png  \n",
            "  inflating: train/9/00009_00009_00009.png  \n",
            "  inflating: train/9/00009_00009_00010.png  \n",
            "  inflating: train/9/00009_00009_00011.png  \n",
            "  inflating: train/9/00009_00009_00012.png  \n",
            "  inflating: train/9/00009_00009_00013.png  \n",
            "  inflating: train/9/00009_00009_00014.png  \n",
            "  inflating: train/9/00009_00009_00015.png  \n",
            "  inflating: train/9/00009_00009_00016.png  \n",
            "  inflating: train/9/00009_00009_00017.png  \n",
            "  inflating: train/9/00009_00009_00018.png  \n",
            "  inflating: train/9/00009_00009_00019.png  \n",
            "  inflating: train/9/00009_00009_00020.png  \n",
            "  inflating: train/9/00009_00009_00021.png  \n",
            "  inflating: train/9/00009_00009_00022.png  \n",
            "  inflating: train/9/00009_00009_00023.png  \n",
            "  inflating: train/9/00009_00009_00024.png  \n",
            "  inflating: train/9/00009_00009_00025.png  \n",
            "  inflating: train/9/00009_00009_00026.png  \n",
            "  inflating: train/9/00009_00009_00027.png  \n",
            "  inflating: train/9/00009_00009_00028.png  \n",
            "  inflating: train/9/00009_00009_00029.png  \n",
            "  inflating: train/9/00009_00010_00000.png  \n",
            "  inflating: train/9/00009_00010_00001.png  \n",
            "  inflating: train/9/00009_00010_00002.png  \n",
            "  inflating: train/9/00009_00010_00003.png  \n",
            "  inflating: train/9/00009_00010_00004.png  \n",
            "  inflating: train/9/00009_00010_00005.png  \n",
            "  inflating: train/9/00009_00010_00006.png  \n",
            "  inflating: train/9/00009_00010_00007.png  \n",
            "  inflating: train/9/00009_00010_00008.png  \n",
            "  inflating: train/9/00009_00010_00009.png  \n",
            "  inflating: train/9/00009_00010_00010.png  \n",
            "  inflating: train/9/00009_00010_00011.png  \n",
            "  inflating: train/9/00009_00010_00012.png  \n",
            "  inflating: train/9/00009_00010_00013.png  \n",
            "  inflating: train/9/00009_00010_00014.png  \n",
            "  inflating: train/9/00009_00010_00015.png  \n",
            "  inflating: train/9/00009_00010_00016.png  \n",
            "  inflating: train/9/00009_00010_00017.png  \n",
            "  inflating: train/9/00009_00010_00018.png  \n",
            "  inflating: train/9/00009_00010_00019.png  \n",
            "  inflating: train/9/00009_00010_00020.png  \n",
            "  inflating: train/9/00009_00010_00021.png  \n",
            "  inflating: train/9/00009_00010_00022.png  \n",
            "  inflating: train/9/00009_00010_00023.png  \n",
            "  inflating: train/9/00009_00010_00024.png  \n",
            "  inflating: train/9/00009_00010_00025.png  \n",
            "  inflating: train/9/00009_00010_00026.png  \n",
            "  inflating: train/9/00009_00010_00027.png  \n",
            "  inflating: train/9/00009_00010_00028.png  \n",
            "  inflating: train/9/00009_00010_00029.png  \n",
            "  inflating: train/9/00009_00011_00000.png  \n",
            "  inflating: train/9/00009_00011_00001.png  \n",
            "  inflating: train/9/00009_00011_00002.png  \n",
            "  inflating: train/9/00009_00011_00003.png  \n",
            "  inflating: train/9/00009_00011_00004.png  \n",
            "  inflating: train/9/00009_00011_00005.png  \n",
            "  inflating: train/9/00009_00011_00006.png  \n",
            "  inflating: train/9/00009_00011_00007.png  \n",
            "  inflating: train/9/00009_00011_00008.png  \n",
            "  inflating: train/9/00009_00011_00009.png  \n",
            "  inflating: train/9/00009_00011_00010.png  \n",
            "  inflating: train/9/00009_00011_00011.png  \n",
            "  inflating: train/9/00009_00011_00012.png  \n",
            "  inflating: train/9/00009_00011_00013.png  \n",
            "  inflating: train/9/00009_00011_00014.png  \n",
            "  inflating: train/9/00009_00011_00015.png  \n",
            "  inflating: train/9/00009_00011_00016.png  \n",
            "  inflating: train/9/00009_00011_00017.png  \n",
            "  inflating: train/9/00009_00011_00018.png  \n",
            "  inflating: train/9/00009_00011_00019.png  \n",
            "  inflating: train/9/00009_00011_00020.png  \n",
            "  inflating: train/9/00009_00011_00021.png  \n",
            "  inflating: train/9/00009_00011_00022.png  \n",
            "  inflating: train/9/00009_00011_00023.png  \n",
            "  inflating: train/9/00009_00011_00024.png  \n",
            "  inflating: train/9/00009_00011_00025.png  \n",
            "  inflating: train/9/00009_00011_00026.png  \n",
            "  inflating: train/9/00009_00011_00027.png  \n",
            "  inflating: train/9/00009_00011_00028.png  \n",
            "  inflating: train/9/00009_00011_00029.png  \n",
            "  inflating: train/9/00009_00012_00000.png  \n",
            "  inflating: train/9/00009_00012_00001.png  \n",
            "  inflating: train/9/00009_00012_00002.png  \n",
            "  inflating: train/9/00009_00012_00003.png  \n",
            "  inflating: train/9/00009_00012_00004.png  \n",
            "  inflating: train/9/00009_00012_00005.png  \n",
            "  inflating: train/9/00009_00012_00006.png  \n",
            "  inflating: train/9/00009_00012_00007.png  \n",
            "  inflating: train/9/00009_00012_00008.png  \n",
            "  inflating: train/9/00009_00012_00009.png  \n",
            "  inflating: train/9/00009_00012_00010.png  \n",
            "  inflating: train/9/00009_00012_00011.png  \n",
            "  inflating: train/9/00009_00012_00012.png  \n",
            "  inflating: train/9/00009_00012_00013.png  \n",
            "  inflating: train/9/00009_00012_00014.png  \n",
            "  inflating: train/9/00009_00012_00015.png  \n",
            "  inflating: train/9/00009_00012_00016.png  \n",
            "  inflating: train/9/00009_00012_00017.png  \n",
            "  inflating: train/9/00009_00012_00018.png  \n",
            "  inflating: train/9/00009_00012_00019.png  \n",
            "  inflating: train/9/00009_00012_00020.png  \n",
            "  inflating: train/9/00009_00012_00021.png  \n",
            "  inflating: train/9/00009_00012_00022.png  \n",
            "  inflating: train/9/00009_00012_00023.png  \n",
            "  inflating: train/9/00009_00012_00024.png  \n",
            "  inflating: train/9/00009_00012_00025.png  \n",
            "  inflating: train/9/00009_00012_00026.png  \n",
            "  inflating: train/9/00009_00012_00027.png  \n",
            "  inflating: train/9/00009_00012_00028.png  \n",
            "  inflating: train/9/00009_00012_00029.png  \n",
            "  inflating: train/9/00009_00013_00000.png  \n",
            "  inflating: train/9/00009_00013_00001.png  \n",
            "  inflating: train/9/00009_00013_00002.png  \n",
            "  inflating: train/9/00009_00013_00003.png  \n",
            "  inflating: train/9/00009_00013_00004.png  \n",
            "  inflating: train/9/00009_00013_00005.png  \n",
            "  inflating: train/9/00009_00013_00006.png  \n",
            "  inflating: train/9/00009_00013_00007.png  \n",
            "  inflating: train/9/00009_00013_00008.png  \n",
            "  inflating: train/9/00009_00013_00009.png  \n",
            "  inflating: train/9/00009_00013_00010.png  \n",
            "  inflating: train/9/00009_00013_00011.png  \n",
            "  inflating: train/9/00009_00013_00012.png  \n",
            "  inflating: train/9/00009_00013_00013.png  \n",
            "  inflating: train/9/00009_00013_00014.png  \n",
            "  inflating: train/9/00009_00013_00015.png  \n",
            "  inflating: train/9/00009_00013_00016.png  \n",
            "  inflating: train/9/00009_00013_00017.png  \n",
            "  inflating: train/9/00009_00013_00018.png  \n",
            "  inflating: train/9/00009_00013_00019.png  \n",
            "  inflating: train/9/00009_00013_00020.png  \n",
            "  inflating: train/9/00009_00013_00021.png  \n",
            "  inflating: train/9/00009_00013_00022.png  \n",
            "  inflating: train/9/00009_00013_00023.png  \n",
            "  inflating: train/9/00009_00013_00024.png  \n",
            "  inflating: train/9/00009_00013_00025.png  \n",
            "  inflating: train/9/00009_00013_00026.png  \n",
            "  inflating: train/9/00009_00013_00027.png  \n",
            "  inflating: train/9/00009_00013_00028.png  \n",
            "  inflating: train/9/00009_00013_00029.png  \n",
            "  inflating: train/9/00009_00014_00000.png  \n",
            "  inflating: train/9/00009_00014_00001.png  \n",
            "  inflating: train/9/00009_00014_00002.png  \n",
            "  inflating: train/9/00009_00014_00003.png  \n",
            "  inflating: train/9/00009_00014_00004.png  \n",
            "  inflating: train/9/00009_00014_00005.png  \n",
            "  inflating: train/9/00009_00014_00006.png  \n",
            "  inflating: train/9/00009_00014_00007.png  \n",
            "  inflating: train/9/00009_00014_00008.png  \n",
            "  inflating: train/9/00009_00014_00009.png  \n",
            "  inflating: train/9/00009_00014_00010.png  \n",
            "  inflating: train/9/00009_00014_00011.png  \n",
            "  inflating: train/9/00009_00014_00012.png  \n",
            "  inflating: train/9/00009_00014_00013.png  \n",
            "  inflating: train/9/00009_00014_00014.png  \n",
            "  inflating: train/9/00009_00014_00015.png  \n",
            "  inflating: train/9/00009_00014_00016.png  \n",
            "  inflating: train/9/00009_00014_00017.png  \n",
            "  inflating: train/9/00009_00014_00018.png  \n",
            "  inflating: train/9/00009_00014_00019.png  \n",
            "  inflating: train/9/00009_00014_00020.png  \n",
            "  inflating: train/9/00009_00014_00021.png  \n",
            "  inflating: train/9/00009_00014_00022.png  \n",
            "  inflating: train/9/00009_00014_00023.png  \n",
            "  inflating: train/9/00009_00014_00024.png  \n",
            "  inflating: train/9/00009_00014_00025.png  \n",
            "  inflating: train/9/00009_00014_00026.png  \n",
            "  inflating: train/9/00009_00014_00027.png  \n",
            "  inflating: train/9/00009_00014_00028.png  \n",
            "  inflating: train/9/00009_00014_00029.png  \n",
            "  inflating: train/9/00009_00015_00000.png  \n",
            "  inflating: train/9/00009_00015_00001.png  \n",
            "  inflating: train/9/00009_00015_00002.png  \n",
            "  inflating: train/9/00009_00015_00003.png  \n",
            "  inflating: train/9/00009_00015_00004.png  \n",
            "  inflating: train/9/00009_00015_00005.png  \n",
            "  inflating: train/9/00009_00015_00006.png  \n",
            "  inflating: train/9/00009_00015_00007.png  \n",
            "  inflating: train/9/00009_00015_00008.png  \n",
            "  inflating: train/9/00009_00015_00009.png  \n",
            "  inflating: train/9/00009_00015_00010.png  \n",
            "  inflating: train/9/00009_00015_00011.png  \n",
            "  inflating: train/9/00009_00015_00012.png  \n",
            "  inflating: train/9/00009_00015_00013.png  \n",
            "  inflating: train/9/00009_00015_00014.png  \n",
            "  inflating: train/9/00009_00015_00015.png  \n",
            "  inflating: train/9/00009_00015_00016.png  \n",
            "  inflating: train/9/00009_00015_00017.png  \n",
            "  inflating: train/9/00009_00015_00018.png  \n",
            "  inflating: train/9/00009_00015_00019.png  \n",
            "  inflating: train/9/00009_00015_00020.png  \n",
            "  inflating: train/9/00009_00015_00021.png  \n",
            "  inflating: train/9/00009_00015_00022.png  \n",
            "  inflating: train/9/00009_00015_00023.png  \n",
            "  inflating: train/9/00009_00015_00024.png  \n",
            "  inflating: train/9/00009_00015_00025.png  \n",
            "  inflating: train/9/00009_00015_00026.png  \n",
            "  inflating: train/9/00009_00015_00027.png  \n",
            "  inflating: train/9/00009_00015_00028.png  \n",
            "  inflating: train/9/00009_00015_00029.png  \n",
            "  inflating: train/9/00009_00016_00000.png  \n",
            "  inflating: train/9/00009_00016_00001.png  \n",
            "  inflating: train/9/00009_00016_00002.png  \n",
            "  inflating: train/9/00009_00016_00003.png  \n",
            "  inflating: train/9/00009_00016_00004.png  \n",
            "  inflating: train/9/00009_00016_00005.png  \n",
            "  inflating: train/9/00009_00016_00006.png  \n",
            "  inflating: train/9/00009_00016_00007.png  \n",
            "  inflating: train/9/00009_00016_00008.png  \n",
            "  inflating: train/9/00009_00016_00009.png  \n",
            "  inflating: train/9/00009_00016_00010.png  \n",
            "  inflating: train/9/00009_00016_00011.png  \n",
            "  inflating: train/9/00009_00016_00012.png  \n",
            "  inflating: train/9/00009_00016_00013.png  \n",
            "  inflating: train/9/00009_00016_00014.png  \n",
            "  inflating: train/9/00009_00016_00015.png  \n",
            "  inflating: train/9/00009_00016_00016.png  \n",
            "  inflating: train/9/00009_00016_00017.png  \n",
            "  inflating: train/9/00009_00016_00018.png  \n",
            "  inflating: train/9/00009_00016_00019.png  \n",
            "  inflating: train/9/00009_00016_00020.png  \n",
            "  inflating: train/9/00009_00016_00021.png  \n",
            "  inflating: train/9/00009_00016_00022.png  \n",
            "  inflating: train/9/00009_00016_00023.png  \n",
            "  inflating: train/9/00009_00016_00024.png  \n",
            "  inflating: train/9/00009_00016_00025.png  \n",
            "  inflating: train/9/00009_00016_00026.png  \n",
            "  inflating: train/9/00009_00016_00027.png  \n",
            "  inflating: train/9/00009_00016_00028.png  \n",
            "  inflating: train/9/00009_00016_00029.png  \n",
            "  inflating: train/9/00009_00017_00000.png  \n",
            "  inflating: train/9/00009_00017_00001.png  \n",
            "  inflating: train/9/00009_00017_00002.png  \n",
            "  inflating: train/9/00009_00017_00003.png  \n",
            "  inflating: train/9/00009_00017_00004.png  \n",
            "  inflating: train/9/00009_00017_00005.png  \n",
            "  inflating: train/9/00009_00017_00006.png  \n",
            "  inflating: train/9/00009_00017_00007.png  \n",
            "  inflating: train/9/00009_00017_00008.png  \n",
            "  inflating: train/9/00009_00017_00009.png  \n",
            "  inflating: train/9/00009_00017_00010.png  \n",
            "  inflating: train/9/00009_00017_00011.png  \n",
            "  inflating: train/9/00009_00017_00012.png  \n",
            "  inflating: train/9/00009_00017_00013.png  \n",
            "  inflating: train/9/00009_00017_00014.png  \n",
            "  inflating: train/9/00009_00017_00015.png  \n",
            "  inflating: train/9/00009_00017_00016.png  \n",
            "  inflating: train/9/00009_00017_00017.png  \n",
            "  inflating: train/9/00009_00017_00018.png  \n",
            "  inflating: train/9/00009_00017_00019.png  \n",
            "  inflating: train/9/00009_00017_00020.png  \n",
            "  inflating: train/9/00009_00017_00021.png  \n",
            "  inflating: train/9/00009_00017_00022.png  \n",
            "  inflating: train/9/00009_00017_00023.png  \n",
            "  inflating: train/9/00009_00017_00024.png  \n",
            "  inflating: train/9/00009_00017_00025.png  \n",
            "  inflating: train/9/00009_00017_00026.png  \n",
            "  inflating: train/9/00009_00017_00027.png  \n",
            "  inflating: train/9/00009_00017_00028.png  \n",
            "  inflating: train/9/00009_00017_00029.png  \n",
            "  inflating: train/9/00009_00018_00000.png  \n",
            "  inflating: train/9/00009_00018_00001.png  \n",
            "  inflating: train/9/00009_00018_00002.png  \n",
            "  inflating: train/9/00009_00018_00003.png  \n",
            "  inflating: train/9/00009_00018_00004.png  \n",
            "  inflating: train/9/00009_00018_00005.png  \n",
            "  inflating: train/9/00009_00018_00006.png  \n",
            "  inflating: train/9/00009_00018_00007.png  \n",
            "  inflating: train/9/00009_00018_00008.png  \n",
            "  inflating: train/9/00009_00018_00009.png  \n",
            "  inflating: train/9/00009_00018_00010.png  \n",
            "  inflating: train/9/00009_00018_00011.png  \n",
            "  inflating: train/9/00009_00018_00012.png  \n",
            "  inflating: train/9/00009_00018_00013.png  \n",
            "  inflating: train/9/00009_00018_00014.png  \n",
            "  inflating: train/9/00009_00018_00015.png  \n",
            "  inflating: train/9/00009_00018_00016.png  \n",
            "  inflating: train/9/00009_00018_00017.png  \n",
            "  inflating: train/9/00009_00018_00018.png  \n",
            "  inflating: train/9/00009_00018_00019.png  \n",
            "  inflating: train/9/00009_00018_00020.png  \n",
            "  inflating: train/9/00009_00018_00021.png  \n",
            "  inflating: train/9/00009_00018_00022.png  \n",
            "  inflating: train/9/00009_00018_00023.png  \n",
            "  inflating: train/9/00009_00018_00024.png  \n",
            "  inflating: train/9/00009_00018_00025.png  \n",
            "  inflating: train/9/00009_00018_00026.png  \n",
            "  inflating: train/9/00009_00018_00027.png  \n",
            "  inflating: train/9/00009_00018_00028.png  \n",
            "  inflating: train/9/00009_00018_00029.png  \n",
            "  inflating: train/9/00009_00019_00000.png  \n",
            "  inflating: train/9/00009_00019_00001.png  \n",
            "  inflating: train/9/00009_00019_00002.png  \n",
            "  inflating: train/9/00009_00019_00003.png  \n",
            "  inflating: train/9/00009_00019_00004.png  \n",
            "  inflating: train/9/00009_00019_00005.png  \n",
            "  inflating: train/9/00009_00019_00006.png  \n",
            "  inflating: train/9/00009_00019_00007.png  \n",
            "  inflating: train/9/00009_00019_00008.png  \n",
            "  inflating: train/9/00009_00019_00009.png  \n",
            "  inflating: train/9/00009_00019_00010.png  \n",
            "  inflating: train/9/00009_00019_00011.png  \n",
            "  inflating: train/9/00009_00019_00012.png  \n",
            "  inflating: train/9/00009_00019_00013.png  \n",
            "  inflating: train/9/00009_00019_00014.png  \n",
            "  inflating: train/9/00009_00019_00015.png  \n",
            "  inflating: train/9/00009_00019_00016.png  \n",
            "  inflating: train/9/00009_00019_00017.png  \n",
            "  inflating: train/9/00009_00019_00018.png  \n",
            "  inflating: train/9/00009_00019_00019.png  \n",
            "  inflating: train/9/00009_00019_00020.png  \n",
            "  inflating: train/9/00009_00019_00021.png  \n",
            "  inflating: train/9/00009_00019_00022.png  \n",
            "  inflating: train/9/00009_00019_00023.png  \n",
            "  inflating: train/9/00009_00019_00024.png  \n",
            "  inflating: train/9/00009_00019_00025.png  \n",
            "  inflating: train/9/00009_00019_00026.png  \n",
            "  inflating: train/9/00009_00019_00027.png  \n",
            "  inflating: train/9/00009_00019_00028.png  \n",
            "  inflating: train/9/00009_00019_00029.png  \n",
            "  inflating: train/9/00009_00020_00000.png  \n",
            "  inflating: train/9/00009_00020_00001.png  \n",
            "  inflating: train/9/00009_00020_00002.png  \n",
            "  inflating: train/9/00009_00020_00003.png  \n",
            "  inflating: train/9/00009_00020_00004.png  \n",
            "  inflating: train/9/00009_00020_00005.png  \n",
            "  inflating: train/9/00009_00020_00006.png  \n",
            "  inflating: train/9/00009_00020_00007.png  \n",
            "  inflating: train/9/00009_00020_00008.png  \n",
            "  inflating: train/9/00009_00020_00009.png  \n",
            "  inflating: train/9/00009_00020_00010.png  \n",
            "  inflating: train/9/00009_00020_00011.png  \n",
            "  inflating: train/9/00009_00020_00012.png  \n",
            "  inflating: train/9/00009_00020_00013.png  \n",
            "  inflating: train/9/00009_00020_00014.png  \n",
            "  inflating: train/9/00009_00020_00015.png  \n",
            "  inflating: train/9/00009_00020_00016.png  \n",
            "  inflating: train/9/00009_00020_00017.png  \n",
            "  inflating: train/9/00009_00020_00018.png  \n",
            "  inflating: train/9/00009_00020_00019.png  \n",
            "  inflating: train/9/00009_00020_00020.png  \n",
            "  inflating: train/9/00009_00020_00021.png  \n",
            "  inflating: train/9/00009_00020_00022.png  \n",
            "  inflating: train/9/00009_00020_00023.png  \n",
            "  inflating: train/9/00009_00020_00024.png  \n",
            "  inflating: train/9/00009_00020_00025.png  \n",
            "  inflating: train/9/00009_00020_00026.png  \n",
            "  inflating: train/9/00009_00020_00027.png  \n",
            "  inflating: train/9/00009_00020_00028.png  \n",
            "  inflating: train/9/00009_00020_00029.png  \n",
            "  inflating: train/9/00009_00021_00000.png  \n",
            "  inflating: train/9/00009_00021_00001.png  \n",
            "  inflating: train/9/00009_00021_00002.png  \n",
            "  inflating: train/9/00009_00021_00003.png  \n",
            "  inflating: train/9/00009_00021_00004.png  \n",
            "  inflating: train/9/00009_00021_00005.png  \n",
            "  inflating: train/9/00009_00021_00006.png  \n",
            "  inflating: train/9/00009_00021_00007.png  \n",
            "  inflating: train/9/00009_00021_00008.png  \n",
            "  inflating: train/9/00009_00021_00009.png  \n",
            "  inflating: train/9/00009_00021_00010.png  \n",
            "  inflating: train/9/00009_00021_00011.png  \n",
            "  inflating: train/9/00009_00021_00012.png  \n",
            "  inflating: train/9/00009_00021_00013.png  \n",
            "  inflating: train/9/00009_00021_00014.png  \n",
            "  inflating: train/9/00009_00021_00015.png  \n",
            "  inflating: train/9/00009_00021_00016.png  \n",
            "  inflating: train/9/00009_00021_00017.png  \n",
            "  inflating: train/9/00009_00021_00018.png  \n",
            "  inflating: train/9/00009_00021_00019.png  \n",
            "  inflating: train/9/00009_00021_00020.png  \n",
            "  inflating: train/9/00009_00021_00021.png  \n",
            "  inflating: train/9/00009_00021_00022.png  \n",
            "  inflating: train/9/00009_00021_00023.png  \n",
            "  inflating: train/9/00009_00021_00024.png  \n",
            "  inflating: train/9/00009_00021_00025.png  \n",
            "  inflating: train/9/00009_00021_00026.png  \n",
            "  inflating: train/9/00009_00021_00027.png  \n",
            "  inflating: train/9/00009_00021_00028.png  \n",
            "  inflating: train/9/00009_00021_00029.png  \n",
            "  inflating: train/9/00009_00022_00000.png  \n",
            "  inflating: train/9/00009_00022_00001.png  \n",
            "  inflating: train/9/00009_00022_00002.png  \n",
            "  inflating: train/9/00009_00022_00003.png  \n",
            "  inflating: train/9/00009_00022_00004.png  \n",
            "  inflating: train/9/00009_00022_00005.png  \n",
            "  inflating: train/9/00009_00022_00006.png  \n",
            "  inflating: train/9/00009_00022_00007.png  \n",
            "  inflating: train/9/00009_00022_00008.png  \n",
            "  inflating: train/9/00009_00022_00009.png  \n",
            "  inflating: train/9/00009_00022_00010.png  \n",
            "  inflating: train/9/00009_00022_00011.png  \n",
            "  inflating: train/9/00009_00022_00012.png  \n",
            "  inflating: train/9/00009_00022_00013.png  \n",
            "  inflating: train/9/00009_00022_00014.png  \n",
            "  inflating: train/9/00009_00022_00015.png  \n",
            "  inflating: train/9/00009_00022_00016.png  \n",
            "  inflating: train/9/00009_00022_00017.png  \n",
            "  inflating: train/9/00009_00022_00018.png  \n",
            "  inflating: train/9/00009_00022_00019.png  \n",
            "  inflating: train/9/00009_00022_00020.png  \n",
            "  inflating: train/9/00009_00022_00021.png  \n",
            "  inflating: train/9/00009_00022_00022.png  \n",
            "  inflating: train/9/00009_00022_00023.png  \n",
            "  inflating: train/9/00009_00022_00024.png  \n",
            "  inflating: train/9/00009_00022_00025.png  \n",
            "  inflating: train/9/00009_00022_00026.png  \n",
            "  inflating: train/9/00009_00022_00027.png  \n",
            "  inflating: train/9/00009_00022_00028.png  \n",
            "  inflating: train/9/00009_00022_00029.png  \n",
            "  inflating: train/9/00009_00023_00000.png  \n",
            "  inflating: train/9/00009_00023_00001.png  \n",
            "  inflating: train/9/00009_00023_00002.png  \n",
            "  inflating: train/9/00009_00023_00003.png  \n",
            "  inflating: train/9/00009_00023_00004.png  \n",
            "  inflating: train/9/00009_00023_00005.png  \n",
            "  inflating: train/9/00009_00023_00006.png  \n",
            "  inflating: train/9/00009_00023_00007.png  \n",
            "  inflating: train/9/00009_00023_00008.png  \n",
            "  inflating: train/9/00009_00023_00009.png  \n",
            "  inflating: train/9/00009_00023_00010.png  \n",
            "  inflating: train/9/00009_00023_00011.png  \n",
            "  inflating: train/9/00009_00023_00012.png  \n",
            "  inflating: train/9/00009_00023_00013.png  \n",
            "  inflating: train/9/00009_00023_00014.png  \n",
            "  inflating: train/9/00009_00023_00015.png  \n",
            "  inflating: train/9/00009_00023_00016.png  \n",
            "  inflating: train/9/00009_00023_00017.png  \n",
            "  inflating: train/9/00009_00023_00018.png  \n",
            "  inflating: train/9/00009_00023_00019.png  \n",
            "  inflating: train/9/00009_00023_00020.png  \n",
            "  inflating: train/9/00009_00023_00021.png  \n",
            "  inflating: train/9/00009_00023_00022.png  \n",
            "  inflating: train/9/00009_00023_00023.png  \n",
            "  inflating: train/9/00009_00023_00024.png  \n",
            "  inflating: train/9/00009_00023_00025.png  \n",
            "  inflating: train/9/00009_00023_00026.png  \n",
            "  inflating: train/9/00009_00023_00027.png  \n",
            "  inflating: train/9/00009_00023_00028.png  \n",
            "  inflating: train/9/00009_00023_00029.png  \n",
            "  inflating: train/9/00009_00024_00000.png  \n",
            "  inflating: train/9/00009_00024_00001.png  \n",
            "  inflating: train/9/00009_00024_00002.png  \n",
            "  inflating: train/9/00009_00024_00003.png  \n",
            "  inflating: train/9/00009_00024_00004.png  \n",
            "  inflating: train/9/00009_00024_00005.png  \n",
            "  inflating: train/9/00009_00024_00006.png  \n",
            "  inflating: train/9/00009_00024_00007.png  \n",
            "  inflating: train/9/00009_00024_00008.png  \n",
            "  inflating: train/9/00009_00024_00009.png  \n",
            "  inflating: train/9/00009_00024_00010.png  \n",
            "  inflating: train/9/00009_00024_00011.png  \n",
            "  inflating: train/9/00009_00024_00012.png  \n",
            "  inflating: train/9/00009_00024_00013.png  \n",
            "  inflating: train/9/00009_00024_00014.png  \n",
            "  inflating: train/9/00009_00024_00015.png  \n",
            "  inflating: train/9/00009_00024_00016.png  \n",
            "  inflating: train/9/00009_00024_00017.png  \n",
            "  inflating: train/9/00009_00024_00018.png  \n",
            "  inflating: train/9/00009_00024_00019.png  \n",
            "  inflating: train/9/00009_00024_00020.png  \n",
            "  inflating: train/9/00009_00024_00021.png  \n",
            "  inflating: train/9/00009_00024_00022.png  \n",
            "  inflating: train/9/00009_00024_00023.png  \n",
            "  inflating: train/9/00009_00024_00024.png  \n",
            "  inflating: train/9/00009_00024_00025.png  \n",
            "  inflating: train/9/00009_00024_00026.png  \n",
            "  inflating: train/9/00009_00024_00027.png  \n",
            "  inflating: train/9/00009_00024_00028.png  \n",
            "  inflating: train/9/00009_00024_00029.png  \n",
            "  inflating: train/9/00009_00025_00000.png  \n",
            "  inflating: train/9/00009_00025_00001.png  \n",
            "  inflating: train/9/00009_00025_00002.png  \n",
            "  inflating: train/9/00009_00025_00003.png  \n",
            "  inflating: train/9/00009_00025_00004.png  \n",
            "  inflating: train/9/00009_00025_00005.png  \n",
            "  inflating: train/9/00009_00025_00006.png  \n",
            "  inflating: train/9/00009_00025_00007.png  \n",
            "  inflating: train/9/00009_00025_00008.png  \n",
            "  inflating: train/9/00009_00025_00009.png  \n",
            "  inflating: train/9/00009_00025_00010.png  \n",
            "  inflating: train/9/00009_00025_00011.png  \n",
            "  inflating: train/9/00009_00025_00012.png  \n",
            "  inflating: train/9/00009_00025_00013.png  \n",
            "  inflating: train/9/00009_00025_00014.png  \n",
            "  inflating: train/9/00009_00025_00015.png  \n",
            "  inflating: train/9/00009_00025_00016.png  \n",
            "  inflating: train/9/00009_00025_00017.png  \n",
            "  inflating: train/9/00009_00025_00018.png  \n",
            "  inflating: train/9/00009_00025_00019.png  \n",
            "  inflating: train/9/00009_00025_00020.png  \n",
            "  inflating: train/9/00009_00025_00021.png  \n",
            "  inflating: train/9/00009_00025_00022.png  \n",
            "  inflating: train/9/00009_00025_00023.png  \n",
            "  inflating: train/9/00009_00025_00024.png  \n",
            "  inflating: train/9/00009_00025_00025.png  \n",
            "  inflating: train/9/00009_00025_00026.png  \n",
            "  inflating: train/9/00009_00025_00027.png  \n",
            "  inflating: train/9/00009_00025_00028.png  \n",
            "  inflating: train/9/00009_00025_00029.png  \n",
            "  inflating: train/9/00009_00026_00000.png  \n",
            "  inflating: train/9/00009_00026_00001.png  \n",
            "  inflating: train/9/00009_00026_00002.png  \n",
            "  inflating: train/9/00009_00026_00003.png  \n",
            "  inflating: train/9/00009_00026_00004.png  \n",
            "  inflating: train/9/00009_00026_00005.png  \n",
            "  inflating: train/9/00009_00026_00006.png  \n",
            "  inflating: train/9/00009_00026_00007.png  \n",
            "  inflating: train/9/00009_00026_00008.png  \n",
            "  inflating: train/9/00009_00026_00009.png  \n",
            "  inflating: train/9/00009_00026_00010.png  \n",
            "  inflating: train/9/00009_00026_00011.png  \n",
            "  inflating: train/9/00009_00026_00012.png  \n",
            "  inflating: train/9/00009_00026_00013.png  \n",
            "  inflating: train/9/00009_00026_00014.png  \n",
            "  inflating: train/9/00009_00026_00015.png  \n",
            "  inflating: train/9/00009_00026_00016.png  \n",
            "  inflating: train/9/00009_00026_00017.png  \n",
            "  inflating: train/9/00009_00026_00018.png  \n",
            "  inflating: train/9/00009_00026_00019.png  \n",
            "  inflating: train/9/00009_00026_00020.png  \n",
            "  inflating: train/9/00009_00026_00021.png  \n",
            "  inflating: train/9/00009_00026_00022.png  \n",
            "  inflating: train/9/00009_00026_00023.png  \n",
            "  inflating: train/9/00009_00026_00024.png  \n",
            "  inflating: train/9/00009_00026_00025.png  \n",
            "  inflating: train/9/00009_00026_00026.png  \n",
            "  inflating: train/9/00009_00026_00027.png  \n",
            "  inflating: train/9/00009_00026_00028.png  \n",
            "  inflating: train/9/00009_00026_00029.png  \n",
            "  inflating: train/9/00009_00027_00000.png  \n",
            "  inflating: train/9/00009_00027_00001.png  \n",
            "  inflating: train/9/00009_00027_00002.png  \n",
            "  inflating: train/9/00009_00027_00003.png  \n",
            "  inflating: train/9/00009_00027_00004.png  \n",
            "  inflating: train/9/00009_00027_00005.png  \n",
            "  inflating: train/9/00009_00027_00006.png  \n",
            "  inflating: train/9/00009_00027_00007.png  \n",
            "  inflating: train/9/00009_00027_00008.png  \n",
            "  inflating: train/9/00009_00027_00009.png  \n",
            "  inflating: train/9/00009_00027_00010.png  \n",
            "  inflating: train/9/00009_00027_00011.png  \n",
            "  inflating: train/9/00009_00027_00012.png  \n",
            "  inflating: train/9/00009_00027_00013.png  \n",
            "  inflating: train/9/00009_00027_00014.png  \n",
            "  inflating: train/9/00009_00027_00015.png  \n",
            "  inflating: train/9/00009_00027_00016.png  \n",
            "  inflating: train/9/00009_00027_00017.png  \n",
            "  inflating: train/9/00009_00027_00018.png  \n",
            "  inflating: train/9/00009_00027_00019.png  \n",
            "  inflating: train/9/00009_00027_00020.png  \n",
            "  inflating: train/9/00009_00027_00021.png  \n",
            "  inflating: train/9/00009_00027_00022.png  \n",
            "  inflating: train/9/00009_00027_00023.png  \n",
            "  inflating: train/9/00009_00027_00024.png  \n",
            "  inflating: train/9/00009_00027_00025.png  \n",
            "  inflating: train/9/00009_00027_00026.png  \n",
            "  inflating: train/9/00009_00027_00027.png  \n",
            "  inflating: train/9/00009_00027_00028.png  \n",
            "  inflating: train/9/00009_00027_00029.png  \n",
            "  inflating: train/9/00009_00028_00000.png  \n",
            "  inflating: train/9/00009_00028_00001.png  \n",
            "  inflating: train/9/00009_00028_00002.png  \n",
            "  inflating: train/9/00009_00028_00003.png  \n",
            "  inflating: train/9/00009_00028_00004.png  \n",
            "  inflating: train/9/00009_00028_00005.png  \n",
            "  inflating: train/9/00009_00028_00006.png  \n",
            "  inflating: train/9/00009_00028_00007.png  \n",
            "  inflating: train/9/00009_00028_00008.png  \n",
            "  inflating: train/9/00009_00028_00009.png  \n",
            "  inflating: train/9/00009_00028_00010.png  \n",
            "  inflating: train/9/00009_00028_00011.png  \n",
            "  inflating: train/9/00009_00028_00012.png  \n",
            "  inflating: train/9/00009_00028_00013.png  \n",
            "  inflating: train/9/00009_00028_00014.png  \n",
            "  inflating: train/9/00009_00028_00015.png  \n",
            "  inflating: train/9/00009_00028_00016.png  \n",
            "  inflating: train/9/00009_00028_00017.png  \n",
            "  inflating: train/9/00009_00028_00018.png  \n",
            "  inflating: train/9/00009_00028_00019.png  \n",
            "  inflating: train/9/00009_00028_00020.png  \n",
            "  inflating: train/9/00009_00028_00021.png  \n",
            "  inflating: train/9/00009_00028_00022.png  \n",
            "  inflating: train/9/00009_00028_00023.png  \n",
            "  inflating: train/9/00009_00028_00024.png  \n",
            "  inflating: train/9/00009_00028_00025.png  \n",
            "  inflating: train/9/00009_00028_00026.png  \n",
            "  inflating: train/9/00009_00028_00027.png  \n",
            "  inflating: train/9/00009_00028_00028.png  \n",
            "  inflating: train/9/00009_00028_00029.png  \n",
            "  inflating: train/9/00009_00029_00000.png  \n",
            "  inflating: train/9/00009_00029_00001.png  \n",
            "  inflating: train/9/00009_00029_00002.png  \n",
            "  inflating: train/9/00009_00029_00003.png  \n",
            "  inflating: train/9/00009_00029_00004.png  \n",
            "  inflating: train/9/00009_00029_00005.png  \n",
            "  inflating: train/9/00009_00029_00006.png  \n",
            "  inflating: train/9/00009_00029_00007.png  \n",
            "  inflating: train/9/00009_00029_00008.png  \n",
            "  inflating: train/9/00009_00029_00009.png  \n",
            "  inflating: train/9/00009_00029_00010.png  \n",
            "  inflating: train/9/00009_00029_00011.png  \n",
            "  inflating: train/9/00009_00029_00012.png  \n",
            "  inflating: train/9/00009_00029_00013.png  \n",
            "  inflating: train/9/00009_00029_00014.png  \n",
            "  inflating: train/9/00009_00029_00015.png  \n",
            "  inflating: train/9/00009_00029_00016.png  \n",
            "  inflating: train/9/00009_00029_00017.png  \n",
            "  inflating: train/9/00009_00029_00018.png  \n",
            "  inflating: train/9/00009_00029_00019.png  \n",
            "  inflating: train/9/00009_00029_00020.png  \n",
            "  inflating: train/9/00009_00029_00021.png  \n",
            "  inflating: train/9/00009_00029_00022.png  \n",
            "  inflating: train/9/00009_00029_00023.png  \n",
            "  inflating: train/9/00009_00029_00024.png  \n",
            "  inflating: train/9/00009_00029_00025.png  \n",
            "  inflating: train/9/00009_00029_00026.png  \n",
            "  inflating: train/9/00009_00029_00027.png  \n",
            "  inflating: train/9/00009_00029_00028.png  \n",
            "  inflating: train/9/00009_00029_00029.png  \n",
            "  inflating: train/9/00009_00030_00000.png  \n",
            "  inflating: train/9/00009_00030_00001.png  \n",
            "  inflating: train/9/00009_00030_00002.png  \n",
            "  inflating: train/9/00009_00030_00003.png  \n",
            "  inflating: train/9/00009_00030_00004.png  \n",
            "  inflating: train/9/00009_00030_00005.png  \n",
            "  inflating: train/9/00009_00030_00006.png  \n",
            "  inflating: train/9/00009_00030_00007.png  \n",
            "  inflating: train/9/00009_00030_00008.png  \n",
            "  inflating: train/9/00009_00030_00009.png  \n",
            "  inflating: train/9/00009_00030_00010.png  \n",
            "  inflating: train/9/00009_00030_00011.png  \n",
            "  inflating: train/9/00009_00030_00012.png  \n",
            "  inflating: train/9/00009_00030_00013.png  \n",
            "  inflating: train/9/00009_00030_00014.png  \n",
            "  inflating: train/9/00009_00030_00015.png  \n",
            "  inflating: train/9/00009_00030_00016.png  \n",
            "  inflating: train/9/00009_00030_00017.png  \n",
            "  inflating: train/9/00009_00030_00018.png  \n",
            "  inflating: train/9/00009_00030_00019.png  \n",
            "  inflating: train/9/00009_00030_00020.png  \n",
            "  inflating: train/9/00009_00030_00021.png  \n",
            "  inflating: train/9/00009_00030_00022.png  \n",
            "  inflating: train/9/00009_00030_00023.png  \n",
            "  inflating: train/9/00009_00030_00024.png  \n",
            "  inflating: train/9/00009_00030_00025.png  \n",
            "  inflating: train/9/00009_00030_00026.png  \n",
            "  inflating: train/9/00009_00030_00027.png  \n",
            "  inflating: train/9/00009_00030_00028.png  \n",
            "  inflating: train/9/00009_00030_00029.png  \n",
            "  inflating: train/9/00009_00031_00000.png  \n",
            "  inflating: train/9/00009_00031_00001.png  \n",
            "  inflating: train/9/00009_00031_00002.png  \n",
            "  inflating: train/9/00009_00031_00003.png  \n",
            "  inflating: train/9/00009_00031_00004.png  \n",
            "  inflating: train/9/00009_00031_00005.png  \n",
            "  inflating: train/9/00009_00031_00006.png  \n",
            "  inflating: train/9/00009_00031_00007.png  \n",
            "  inflating: train/9/00009_00031_00008.png  \n",
            "  inflating: train/9/00009_00031_00009.png  \n",
            "  inflating: train/9/00009_00031_00010.png  \n",
            "  inflating: train/9/00009_00031_00011.png  \n",
            "  inflating: train/9/00009_00031_00012.png  \n",
            "  inflating: train/9/00009_00031_00013.png  \n",
            "  inflating: train/9/00009_00031_00014.png  \n",
            "  inflating: train/9/00009_00031_00015.png  \n",
            "  inflating: train/9/00009_00031_00016.png  \n",
            "  inflating: train/9/00009_00031_00017.png  \n",
            "  inflating: train/9/00009_00031_00018.png  \n",
            "  inflating: train/9/00009_00031_00019.png  \n",
            "  inflating: train/9/00009_00031_00020.png  \n",
            "  inflating: train/9/00009_00031_00021.png  \n",
            "  inflating: train/9/00009_00031_00022.png  \n",
            "  inflating: train/9/00009_00031_00023.png  \n",
            "  inflating: train/9/00009_00031_00024.png  \n",
            "  inflating: train/9/00009_00031_00025.png  \n",
            "  inflating: train/9/00009_00031_00026.png  \n",
            "  inflating: train/9/00009_00031_00027.png  \n",
            "  inflating: train/9/00009_00031_00028.png  \n",
            "  inflating: train/9/00009_00031_00029.png  \n",
            "  inflating: train/9/00009_00032_00000.png  \n",
            "  inflating: train/9/00009_00032_00001.png  \n",
            "  inflating: train/9/00009_00032_00002.png  \n",
            "  inflating: train/9/00009_00032_00003.png  \n",
            "  inflating: train/9/00009_00032_00004.png  \n",
            "  inflating: train/9/00009_00032_00005.png  \n",
            "  inflating: train/9/00009_00032_00006.png  \n",
            "  inflating: train/9/00009_00032_00007.png  \n",
            "  inflating: train/9/00009_00032_00008.png  \n",
            "  inflating: train/9/00009_00032_00009.png  \n",
            "  inflating: train/9/00009_00032_00010.png  \n",
            "  inflating: train/9/00009_00032_00011.png  \n",
            "  inflating: train/9/00009_00032_00012.png  \n",
            "  inflating: train/9/00009_00032_00013.png  \n",
            "  inflating: train/9/00009_00032_00014.png  \n",
            "  inflating: train/9/00009_00032_00015.png  \n",
            "  inflating: train/9/00009_00032_00016.png  \n",
            "  inflating: train/9/00009_00032_00017.png  \n",
            "  inflating: train/9/00009_00032_00018.png  \n",
            "  inflating: train/9/00009_00032_00019.png  \n",
            "  inflating: train/9/00009_00032_00020.png  \n",
            "  inflating: train/9/00009_00032_00021.png  \n",
            "  inflating: train/9/00009_00032_00022.png  \n",
            "  inflating: train/9/00009_00032_00023.png  \n",
            "  inflating: train/9/00009_00032_00024.png  \n",
            "  inflating: train/9/00009_00032_00025.png  \n",
            "  inflating: train/9/00009_00032_00026.png  \n",
            "  inflating: train/9/00009_00032_00027.png  \n",
            "  inflating: train/9/00009_00032_00028.png  \n",
            "  inflating: train/9/00009_00032_00029.png  \n",
            "  inflating: train/9/00009_00033_00000.png  \n",
            "  inflating: train/9/00009_00033_00001.png  \n",
            "  inflating: train/9/00009_00033_00002.png  \n",
            "  inflating: train/9/00009_00033_00003.png  \n",
            "  inflating: train/9/00009_00033_00004.png  \n",
            "  inflating: train/9/00009_00033_00005.png  \n",
            "  inflating: train/9/00009_00033_00006.png  \n",
            "  inflating: train/9/00009_00033_00007.png  \n",
            "  inflating: train/9/00009_00033_00008.png  \n",
            "  inflating: train/9/00009_00033_00009.png  \n",
            "  inflating: train/9/00009_00033_00010.png  \n",
            "  inflating: train/9/00009_00033_00011.png  \n",
            "  inflating: train/9/00009_00033_00012.png  \n",
            "  inflating: train/9/00009_00033_00013.png  \n",
            "  inflating: train/9/00009_00033_00014.png  \n",
            "  inflating: train/9/00009_00033_00015.png  \n",
            "  inflating: train/9/00009_00033_00016.png  \n",
            "  inflating: train/9/00009_00033_00017.png  \n",
            "  inflating: train/9/00009_00033_00018.png  \n",
            "  inflating: train/9/00009_00033_00019.png  \n",
            "  inflating: train/9/00009_00033_00020.png  \n",
            "  inflating: train/9/00009_00033_00021.png  \n",
            "  inflating: train/9/00009_00033_00022.png  \n",
            "  inflating: train/9/00009_00033_00023.png  \n",
            "  inflating: train/9/00009_00033_00024.png  \n",
            "  inflating: train/9/00009_00033_00025.png  \n",
            "  inflating: train/9/00009_00033_00026.png  \n",
            "  inflating: train/9/00009_00033_00027.png  \n",
            "  inflating: train/9/00009_00033_00028.png  \n",
            "  inflating: train/9/00009_00033_00029.png  \n",
            "  inflating: train/9/00009_00034_00000.png  \n",
            "  inflating: train/9/00009_00034_00001.png  \n",
            "  inflating: train/9/00009_00034_00002.png  \n",
            "  inflating: train/9/00009_00034_00003.png  \n",
            "  inflating: train/9/00009_00034_00004.png  \n",
            "  inflating: train/9/00009_00034_00005.png  \n",
            "  inflating: train/9/00009_00034_00006.png  \n",
            "  inflating: train/9/00009_00034_00007.png  \n",
            "  inflating: train/9/00009_00034_00008.png  \n",
            "  inflating: train/9/00009_00034_00009.png  \n",
            "  inflating: train/9/00009_00034_00010.png  \n",
            "  inflating: train/9/00009_00034_00011.png  \n",
            "  inflating: train/9/00009_00034_00012.png  \n",
            "  inflating: train/9/00009_00034_00013.png  \n",
            "  inflating: train/9/00009_00034_00014.png  \n",
            "  inflating: train/9/00009_00034_00015.png  \n",
            "  inflating: train/9/00009_00034_00016.png  \n",
            "  inflating: train/9/00009_00034_00017.png  \n",
            "  inflating: train/9/00009_00034_00018.png  \n",
            "  inflating: train/9/00009_00034_00019.png  \n",
            "  inflating: train/9/00009_00034_00020.png  \n",
            "  inflating: train/9/00009_00034_00021.png  \n",
            "  inflating: train/9/00009_00034_00022.png  \n",
            "  inflating: train/9/00009_00034_00023.png  \n",
            "  inflating: train/9/00009_00034_00024.png  \n",
            "  inflating: train/9/00009_00034_00025.png  \n",
            "  inflating: train/9/00009_00034_00026.png  \n",
            "  inflating: train/9/00009_00034_00027.png  \n",
            "  inflating: train/9/00009_00034_00028.png  \n",
            "  inflating: train/9/00009_00034_00029.png  \n",
            "  inflating: train/9/00009_00035_00000.png  \n",
            "  inflating: train/9/00009_00035_00001.png  \n",
            "  inflating: train/9/00009_00035_00002.png  \n",
            "  inflating: train/9/00009_00035_00003.png  \n",
            "  inflating: train/9/00009_00035_00004.png  \n",
            "  inflating: train/9/00009_00035_00005.png  \n",
            "  inflating: train/9/00009_00035_00006.png  \n",
            "  inflating: train/9/00009_00035_00007.png  \n",
            "  inflating: train/9/00009_00035_00008.png  \n",
            "  inflating: train/9/00009_00035_00009.png  \n",
            "  inflating: train/9/00009_00035_00010.png  \n",
            "  inflating: train/9/00009_00035_00011.png  \n",
            "  inflating: train/9/00009_00035_00012.png  \n",
            "  inflating: train/9/00009_00035_00013.png  \n",
            "  inflating: train/9/00009_00035_00014.png  \n",
            "  inflating: train/9/00009_00035_00015.png  \n",
            "  inflating: train/9/00009_00035_00016.png  \n",
            "  inflating: train/9/00009_00035_00017.png  \n",
            "  inflating: train/9/00009_00035_00018.png  \n",
            "  inflating: train/9/00009_00035_00019.png  \n",
            "  inflating: train/9/00009_00035_00020.png  \n",
            "  inflating: train/9/00009_00035_00021.png  \n",
            "  inflating: train/9/00009_00035_00022.png  \n",
            "  inflating: train/9/00009_00035_00023.png  \n",
            "  inflating: train/9/00009_00035_00024.png  \n",
            "  inflating: train/9/00009_00035_00025.png  \n",
            "  inflating: train/9/00009_00035_00026.png  \n",
            "  inflating: train/9/00009_00035_00027.png  \n",
            "  inflating: train/9/00009_00035_00028.png  \n",
            "  inflating: train/9/00009_00035_00029.png  \n",
            "  inflating: train/9/00009_00036_00000.png  \n",
            "  inflating: train/9/00009_00036_00001.png  \n",
            "  inflating: train/9/00009_00036_00002.png  \n",
            "  inflating: train/9/00009_00036_00003.png  \n",
            "  inflating: train/9/00009_00036_00004.png  \n",
            "  inflating: train/9/00009_00036_00005.png  \n",
            "  inflating: train/9/00009_00036_00006.png  \n",
            "  inflating: train/9/00009_00036_00007.png  \n",
            "  inflating: train/9/00009_00036_00008.png  \n",
            "  inflating: train/9/00009_00036_00009.png  \n",
            "  inflating: train/9/00009_00036_00010.png  \n",
            "  inflating: train/9/00009_00036_00011.png  \n",
            "  inflating: train/9/00009_00036_00012.png  \n",
            "  inflating: train/9/00009_00036_00013.png  \n",
            "  inflating: train/9/00009_00036_00014.png  \n",
            "  inflating: train/9/00009_00036_00015.png  \n",
            "  inflating: train/9/00009_00036_00016.png  \n",
            "  inflating: train/9/00009_00036_00017.png  \n",
            "  inflating: train/9/00009_00036_00018.png  \n",
            "  inflating: train/9/00009_00036_00019.png  \n",
            "  inflating: train/9/00009_00036_00020.png  \n",
            "  inflating: train/9/00009_00036_00021.png  \n",
            "  inflating: train/9/00009_00036_00022.png  \n",
            "  inflating: train/9/00009_00036_00023.png  \n",
            "  inflating: train/9/00009_00036_00024.png  \n",
            "  inflating: train/9/00009_00036_00025.png  \n",
            "  inflating: train/9/00009_00036_00026.png  \n",
            "  inflating: train/9/00009_00036_00027.png  \n",
            "  inflating: train/9/00009_00036_00028.png  \n",
            "  inflating: train/9/00009_00036_00029.png  \n",
            "  inflating: train/9/00009_00037_00000.png  \n",
            "  inflating: train/9/00009_00037_00001.png  \n",
            "  inflating: train/9/00009_00037_00002.png  \n",
            "  inflating: train/9/00009_00037_00003.png  \n",
            "  inflating: train/9/00009_00037_00004.png  \n",
            "  inflating: train/9/00009_00037_00005.png  \n",
            "  inflating: train/9/00009_00037_00006.png  \n",
            "  inflating: train/9/00009_00037_00007.png  \n",
            "  inflating: train/9/00009_00037_00008.png  \n",
            "  inflating: train/9/00009_00037_00009.png  \n",
            "  inflating: train/9/00009_00037_00010.png  \n",
            "  inflating: train/9/00009_00037_00011.png  \n",
            "  inflating: train/9/00009_00037_00012.png  \n",
            "  inflating: train/9/00009_00037_00013.png  \n",
            "  inflating: train/9/00009_00037_00014.png  \n",
            "  inflating: train/9/00009_00037_00015.png  \n",
            "  inflating: train/9/00009_00037_00016.png  \n",
            "  inflating: train/9/00009_00037_00017.png  \n",
            "  inflating: train/9/00009_00037_00018.png  \n",
            "  inflating: train/9/00009_00037_00019.png  \n",
            "  inflating: train/9/00009_00037_00020.png  \n",
            "  inflating: train/9/00009_00037_00021.png  \n",
            "  inflating: train/9/00009_00037_00022.png  \n",
            "  inflating: train/9/00009_00037_00023.png  \n",
            "  inflating: train/9/00009_00037_00024.png  \n",
            "  inflating: train/9/00009_00037_00025.png  \n",
            "  inflating: train/9/00009_00037_00026.png  \n",
            "  inflating: train/9/00009_00037_00027.png  \n",
            "  inflating: train/9/00009_00037_00028.png  \n",
            "  inflating: train/9/00009_00037_00029.png  \n",
            "  inflating: train/9/00009_00038_00000.png  \n",
            "  inflating: train/9/00009_00038_00001.png  \n",
            "  inflating: train/9/00009_00038_00002.png  \n",
            "  inflating: train/9/00009_00038_00003.png  \n",
            "  inflating: train/9/00009_00038_00004.png  \n",
            "  inflating: train/9/00009_00038_00005.png  \n",
            "  inflating: train/9/00009_00038_00006.png  \n",
            "  inflating: train/9/00009_00038_00007.png  \n",
            "  inflating: train/9/00009_00038_00008.png  \n",
            "  inflating: train/9/00009_00038_00009.png  \n",
            "  inflating: train/9/00009_00038_00010.png  \n",
            "  inflating: train/9/00009_00038_00011.png  \n",
            "  inflating: train/9/00009_00038_00012.png  \n",
            "  inflating: train/9/00009_00038_00013.png  \n",
            "  inflating: train/9/00009_00038_00014.png  \n",
            "  inflating: train/9/00009_00038_00015.png  \n",
            "  inflating: train/9/00009_00038_00016.png  \n",
            "  inflating: train/9/00009_00038_00017.png  \n",
            "  inflating: train/9/00009_00038_00018.png  \n",
            "  inflating: train/9/00009_00038_00019.png  \n",
            "  inflating: train/9/00009_00038_00020.png  \n",
            "  inflating: train/9/00009_00038_00021.png  \n",
            "  inflating: train/9/00009_00038_00022.png  \n",
            "  inflating: train/9/00009_00038_00023.png  \n",
            "  inflating: train/9/00009_00038_00024.png  \n",
            "  inflating: train/9/00009_00038_00025.png  \n",
            "  inflating: train/9/00009_00038_00026.png  \n",
            "  inflating: train/9/00009_00038_00027.png  \n",
            "  inflating: train/9/00009_00038_00028.png  \n",
            "  inflating: train/9/00009_00038_00029.png  \n",
            "  inflating: train/9/00009_00039_00000.png  \n",
            "  inflating: train/9/00009_00039_00001.png  \n",
            "  inflating: train/9/00009_00039_00002.png  \n",
            "  inflating: train/9/00009_00039_00003.png  \n",
            "  inflating: train/9/00009_00039_00004.png  \n",
            "  inflating: train/9/00009_00039_00005.png  \n",
            "  inflating: train/9/00009_00039_00006.png  \n",
            "  inflating: train/9/00009_00039_00007.png  \n",
            "  inflating: train/9/00009_00039_00008.png  \n",
            "  inflating: train/9/00009_00039_00009.png  \n",
            "  inflating: train/9/00009_00039_00010.png  \n",
            "  inflating: train/9/00009_00039_00011.png  \n",
            "  inflating: train/9/00009_00039_00012.png  \n",
            "  inflating: train/9/00009_00039_00013.png  \n",
            "  inflating: train/9/00009_00039_00014.png  \n",
            "  inflating: train/9/00009_00039_00015.png  \n",
            "  inflating: train/9/00009_00039_00016.png  \n",
            "  inflating: train/9/00009_00039_00017.png  \n",
            "  inflating: train/9/00009_00039_00018.png  \n",
            "  inflating: train/9/00009_00039_00019.png  \n",
            "  inflating: train/9/00009_00039_00020.png  \n",
            "  inflating: train/9/00009_00039_00021.png  \n",
            "  inflating: train/9/00009_00039_00022.png  \n",
            "  inflating: train/9/00009_00039_00023.png  \n",
            "  inflating: train/9/00009_00039_00024.png  \n",
            "  inflating: train/9/00009_00039_00025.png  \n",
            "  inflating: train/9/00009_00039_00026.png  \n",
            "  inflating: train/9/00009_00039_00027.png  \n",
            "  inflating: train/9/00009_00039_00028.png  \n",
            "  inflating: train/9/00009_00039_00029.png  \n",
            "  inflating: train/9/00009_00040_00000.png  \n",
            "  inflating: train/9/00009_00040_00001.png  \n",
            "  inflating: train/9/00009_00040_00002.png  \n",
            "  inflating: train/9/00009_00040_00003.png  \n",
            "  inflating: train/9/00009_00040_00004.png  \n",
            "  inflating: train/9/00009_00040_00005.png  \n",
            "  inflating: train/9/00009_00040_00006.png  \n",
            "  inflating: train/9/00009_00040_00007.png  \n",
            "  inflating: train/9/00009_00040_00008.png  \n",
            "  inflating: train/9/00009_00040_00009.png  \n",
            "  inflating: train/9/00009_00040_00010.png  \n",
            "  inflating: train/9/00009_00040_00011.png  \n",
            "  inflating: train/9/00009_00040_00012.png  \n",
            "  inflating: train/9/00009_00040_00013.png  \n",
            "  inflating: train/9/00009_00040_00014.png  \n",
            "  inflating: train/9/00009_00040_00015.png  \n",
            "  inflating: train/9/00009_00040_00016.png  \n",
            "  inflating: train/9/00009_00040_00017.png  \n",
            "  inflating: train/9/00009_00040_00018.png  \n",
            "  inflating: train/9/00009_00040_00019.png  \n",
            "  inflating: train/9/00009_00040_00020.png  \n",
            "  inflating: train/9/00009_00040_00021.png  \n",
            "  inflating: train/9/00009_00040_00022.png  \n",
            "  inflating: train/9/00009_00040_00023.png  \n",
            "  inflating: train/9/00009_00040_00024.png  \n",
            "  inflating: train/9/00009_00040_00025.png  \n",
            "  inflating: train/9/00009_00040_00026.png  \n",
            "  inflating: train/9/00009_00040_00027.png  \n",
            "  inflating: train/9/00009_00040_00028.png  \n",
            "  inflating: train/9/00009_00040_00029.png  \n",
            "  inflating: train/9/00009_00041_00000.png  \n",
            "  inflating: train/9/00009_00041_00001.png  \n",
            "  inflating: train/9/00009_00041_00002.png  \n",
            "  inflating: train/9/00009_00041_00003.png  \n",
            "  inflating: train/9/00009_00041_00004.png  \n",
            "  inflating: train/9/00009_00041_00005.png  \n",
            "  inflating: train/9/00009_00041_00006.png  \n",
            "  inflating: train/9/00009_00041_00007.png  \n",
            "  inflating: train/9/00009_00041_00008.png  \n",
            "  inflating: train/9/00009_00041_00009.png  \n",
            "  inflating: train/9/00009_00041_00010.png  \n",
            "  inflating: train/9/00009_00041_00011.png  \n",
            "  inflating: train/9/00009_00041_00012.png  \n",
            "  inflating: train/9/00009_00041_00013.png  \n",
            "  inflating: train/9/00009_00041_00014.png  \n",
            "  inflating: train/9/00009_00041_00015.png  \n",
            "  inflating: train/9/00009_00041_00016.png  \n",
            "  inflating: train/9/00009_00041_00017.png  \n",
            "  inflating: train/9/00009_00041_00018.png  \n",
            "  inflating: train/9/00009_00041_00019.png  \n",
            "  inflating: train/9/00009_00041_00020.png  \n",
            "  inflating: train/9/00009_00041_00021.png  \n",
            "  inflating: train/9/00009_00041_00022.png  \n",
            "  inflating: train/9/00009_00041_00023.png  \n",
            "  inflating: train/9/00009_00041_00024.png  \n",
            "  inflating: train/9/00009_00041_00025.png  \n",
            "  inflating: train/9/00009_00041_00026.png  \n",
            "  inflating: train/9/00009_00041_00027.png  \n",
            "  inflating: train/9/00009_00041_00028.png  \n",
            "  inflating: train/9/00009_00041_00029.png  \n",
            "  inflating: train/9/00009_00042_00000.png  \n",
            "  inflating: train/9/00009_00042_00001.png  \n",
            "  inflating: train/9/00009_00042_00002.png  \n",
            "  inflating: train/9/00009_00042_00003.png  \n",
            "  inflating: train/9/00009_00042_00004.png  \n",
            "  inflating: train/9/00009_00042_00005.png  \n",
            "  inflating: train/9/00009_00042_00006.png  \n",
            "  inflating: train/9/00009_00042_00007.png  \n",
            "  inflating: train/9/00009_00042_00008.png  \n",
            "  inflating: train/9/00009_00042_00009.png  \n",
            "  inflating: train/9/00009_00042_00010.png  \n",
            "  inflating: train/9/00009_00042_00011.png  \n",
            "  inflating: train/9/00009_00042_00012.png  \n",
            "  inflating: train/9/00009_00042_00013.png  \n",
            "  inflating: train/9/00009_00042_00014.png  \n",
            "  inflating: train/9/00009_00042_00015.png  \n",
            "  inflating: train/9/00009_00042_00016.png  \n",
            "  inflating: train/9/00009_00042_00017.png  \n",
            "  inflating: train/9/00009_00042_00018.png  \n",
            "  inflating: train/9/00009_00042_00019.png  \n",
            "  inflating: train/9/00009_00042_00020.png  \n",
            "  inflating: train/9/00009_00042_00021.png  \n",
            "  inflating: train/9/00009_00042_00022.png  \n",
            "  inflating: train/9/00009_00042_00023.png  \n",
            "  inflating: train/9/00009_00042_00024.png  \n",
            "  inflating: train/9/00009_00042_00025.png  \n",
            "  inflating: train/9/00009_00042_00026.png  \n",
            "  inflating: train/9/00009_00042_00027.png  \n",
            "  inflating: train/9/00009_00042_00028.png  \n",
            "  inflating: train/9/00009_00042_00029.png  \n",
            "  inflating: train/9/00009_00043_00000.png  \n",
            "  inflating: train/9/00009_00043_00001.png  \n",
            "  inflating: train/9/00009_00043_00002.png  \n",
            "  inflating: train/9/00009_00043_00003.png  \n",
            "  inflating: train/9/00009_00043_00004.png  \n",
            "  inflating: train/9/00009_00043_00005.png  \n",
            "  inflating: train/9/00009_00043_00006.png  \n",
            "  inflating: train/9/00009_00043_00007.png  \n",
            "  inflating: train/9/00009_00043_00008.png  \n",
            "  inflating: train/9/00009_00043_00009.png  \n",
            "  inflating: train/9/00009_00043_00010.png  \n",
            "  inflating: train/9/00009_00043_00011.png  \n",
            "  inflating: train/9/00009_00043_00012.png  \n",
            "  inflating: train/9/00009_00043_00013.png  \n",
            "  inflating: train/9/00009_00043_00014.png  \n",
            "  inflating: train/9/00009_00043_00015.png  \n",
            "  inflating: train/9/00009_00043_00016.png  \n",
            "  inflating: train/9/00009_00043_00017.png  \n",
            "  inflating: train/9/00009_00043_00018.png  \n",
            "  inflating: train/9/00009_00043_00019.png  \n",
            "  inflating: train/9/00009_00043_00020.png  \n",
            "  inflating: train/9/00009_00043_00021.png  \n",
            "  inflating: train/9/00009_00043_00022.png  \n",
            "  inflating: train/9/00009_00043_00023.png  \n",
            "  inflating: train/9/00009_00043_00024.png  \n",
            "  inflating: train/9/00009_00043_00025.png  \n",
            "  inflating: train/9/00009_00043_00026.png  \n",
            "  inflating: train/9/00009_00043_00027.png  \n",
            "  inflating: train/9/00009_00043_00028.png  \n",
            "  inflating: train/9/00009_00043_00029.png  \n",
            "  inflating: train/9/00009_00044_00000.png  \n",
            "  inflating: train/9/00009_00044_00001.png  \n",
            "  inflating: train/9/00009_00044_00002.png  \n",
            "  inflating: train/9/00009_00044_00003.png  \n",
            "  inflating: train/9/00009_00044_00004.png  \n",
            "  inflating: train/9/00009_00044_00005.png  \n",
            "  inflating: train/9/00009_00044_00006.png  \n",
            "  inflating: train/9/00009_00044_00007.png  \n",
            "  inflating: train/9/00009_00044_00008.png  \n",
            "  inflating: train/9/00009_00044_00009.png  \n",
            "  inflating: train/9/00009_00044_00010.png  \n",
            "  inflating: train/9/00009_00044_00011.png  \n",
            "  inflating: train/9/00009_00044_00012.png  \n",
            "  inflating: train/9/00009_00044_00013.png  \n",
            "  inflating: train/9/00009_00044_00014.png  \n",
            "  inflating: train/9/00009_00044_00015.png  \n",
            "  inflating: train/9/00009_00044_00016.png  \n",
            "  inflating: train/9/00009_00044_00017.png  \n",
            "  inflating: train/9/00009_00044_00018.png  \n",
            "  inflating: train/9/00009_00044_00019.png  \n",
            "  inflating: train/9/00009_00044_00020.png  \n",
            "  inflating: train/9/00009_00044_00021.png  \n",
            "  inflating: train/9/00009_00044_00022.png  \n",
            "  inflating: train/9/00009_00044_00023.png  \n",
            "  inflating: train/9/00009_00044_00024.png  \n",
            "  inflating: train/9/00009_00044_00025.png  \n",
            "  inflating: train/9/00009_00044_00026.png  \n",
            "  inflating: train/9/00009_00044_00027.png  \n",
            "  inflating: train/9/00009_00044_00028.png  \n",
            "  inflating: train/9/00009_00044_00029.png  \n",
            "  inflating: train/9/00009_00045_00000.png  \n",
            "  inflating: train/9/00009_00045_00001.png  \n",
            "  inflating: train/9/00009_00045_00002.png  \n",
            "  inflating: train/9/00009_00045_00003.png  \n",
            "  inflating: train/9/00009_00045_00004.png  \n",
            "  inflating: train/9/00009_00045_00005.png  \n",
            "  inflating: train/9/00009_00045_00006.png  \n",
            "  inflating: train/9/00009_00045_00007.png  \n",
            "  inflating: train/9/00009_00045_00008.png  \n",
            "  inflating: train/9/00009_00045_00009.png  \n",
            "  inflating: train/9/00009_00045_00010.png  \n",
            "  inflating: train/9/00009_00045_00011.png  \n",
            "  inflating: train/9/00009_00045_00012.png  \n",
            "  inflating: train/9/00009_00045_00013.png  \n",
            "  inflating: train/9/00009_00045_00014.png  \n",
            "  inflating: train/9/00009_00045_00015.png  \n",
            "  inflating: train/9/00009_00045_00016.png  \n",
            "  inflating: train/9/00009_00045_00017.png  \n",
            "  inflating: train/9/00009_00045_00018.png  \n",
            "  inflating: train/9/00009_00045_00019.png  \n",
            "  inflating: train/9/00009_00045_00020.png  \n",
            "  inflating: train/9/00009_00045_00021.png  \n",
            "  inflating: train/9/00009_00045_00022.png  \n",
            "  inflating: train/9/00009_00045_00023.png  \n",
            "  inflating: train/9/00009_00045_00024.png  \n",
            "  inflating: train/9/00009_00045_00025.png  \n",
            "  inflating: train/9/00009_00045_00026.png  \n",
            "  inflating: train/9/00009_00045_00027.png  \n",
            "  inflating: train/9/00009_00045_00028.png  \n",
            "  inflating: train/9/00009_00045_00029.png  \n",
            "  inflating: train/9/00009_00046_00000.png  \n",
            "  inflating: train/9/00009_00046_00001.png  \n",
            "  inflating: train/9/00009_00046_00002.png  \n",
            "  inflating: train/9/00009_00046_00003.png  \n",
            "  inflating: train/9/00009_00046_00004.png  \n",
            "  inflating: train/9/00009_00046_00005.png  \n",
            "  inflating: train/9/00009_00046_00006.png  \n",
            "  inflating: train/9/00009_00046_00007.png  \n",
            "  inflating: train/9/00009_00046_00008.png  \n",
            "  inflating: train/9/00009_00046_00009.png  \n",
            "  inflating: train/9/00009_00046_00010.png  \n",
            "  inflating: train/9/00009_00046_00011.png  \n",
            "  inflating: train/9/00009_00046_00012.png  \n",
            "  inflating: train/9/00009_00046_00013.png  \n",
            "  inflating: train/9/00009_00046_00014.png  \n",
            "  inflating: train/9/00009_00046_00015.png  \n",
            "  inflating: train/9/00009_00046_00016.png  \n",
            "  inflating: train/9/00009_00046_00017.png  \n",
            "  inflating: train/9/00009_00046_00018.png  \n",
            "  inflating: train/9/00009_00046_00019.png  \n",
            "  inflating: train/9/00009_00046_00020.png  \n",
            "  inflating: train/9/00009_00046_00021.png  \n",
            "  inflating: train/9/00009_00046_00022.png  \n",
            "  inflating: train/9/00009_00046_00023.png  \n",
            "  inflating: train/9/00009_00046_00024.png  \n",
            "  inflating: train/9/00009_00046_00025.png  \n",
            "  inflating: train/9/00009_00046_00026.png  \n",
            "  inflating: train/9/00009_00046_00027.png  \n",
            "  inflating: train/9/00009_00046_00028.png  \n",
            "  inflating: train/9/00009_00046_00029.png  \n",
            "  inflating: train/9/00009_00047_00000.png  \n",
            "  inflating: train/9/00009_00047_00001.png  \n",
            "  inflating: train/9/00009_00047_00002.png  \n",
            "  inflating: train/9/00009_00047_00003.png  \n",
            "  inflating: train/9/00009_00047_00004.png  \n",
            "  inflating: train/9/00009_00047_00005.png  \n",
            "  inflating: train/9/00009_00047_00006.png  \n",
            "  inflating: train/9/00009_00047_00007.png  \n",
            "  inflating: train/9/00009_00047_00008.png  \n",
            "  inflating: train/9/00009_00047_00009.png  \n",
            "  inflating: train/9/00009_00047_00010.png  \n",
            "  inflating: train/9/00009_00047_00011.png  \n",
            "  inflating: train/9/00009_00047_00012.png  \n",
            "  inflating: train/9/00009_00047_00013.png  \n",
            "  inflating: train/9/00009_00047_00014.png  \n",
            "  inflating: train/9/00009_00047_00015.png  \n",
            "  inflating: train/9/00009_00047_00016.png  \n",
            "  inflating: train/9/00009_00047_00017.png  \n",
            "  inflating: train/9/00009_00047_00018.png  \n",
            "  inflating: train/9/00009_00047_00019.png  \n",
            "  inflating: train/9/00009_00047_00020.png  \n",
            "  inflating: train/9/00009_00047_00021.png  \n",
            "  inflating: train/9/00009_00047_00022.png  \n",
            "  inflating: train/9/00009_00047_00023.png  \n",
            "  inflating: train/9/00009_00047_00024.png  \n",
            "  inflating: train/9/00009_00047_00025.png  \n",
            "  inflating: train/9/00009_00047_00026.png  \n",
            "  inflating: train/9/00009_00047_00027.png  \n",
            "  inflating: train/9/00009_00047_00028.png  \n",
            "  inflating: train/9/00009_00047_00029.png  \n",
            "  inflating: train/9/00009_00048_00000.png  \n",
            "  inflating: train/9/00009_00048_00001.png  \n",
            "  inflating: train/9/00009_00048_00002.png  \n",
            "  inflating: train/9/00009_00048_00003.png  \n",
            "  inflating: train/9/00009_00048_00004.png  \n",
            "  inflating: train/9/00009_00048_00005.png  \n",
            "  inflating: train/9/00009_00048_00006.png  \n",
            "  inflating: train/9/00009_00048_00007.png  \n",
            "  inflating: train/9/00009_00048_00008.png  \n",
            "  inflating: train/9/00009_00048_00009.png  \n",
            "  inflating: train/9/00009_00048_00010.png  \n",
            "  inflating: train/9/00009_00048_00011.png  \n",
            "  inflating: train/9/00009_00048_00012.png  \n",
            "  inflating: train/9/00009_00048_00013.png  \n",
            "  inflating: train/9/00009_00048_00014.png  \n",
            "  inflating: train/9/00009_00048_00015.png  \n",
            "  inflating: train/9/00009_00048_00016.png  \n",
            "  inflating: train/9/00009_00048_00017.png  \n",
            "  inflating: train/9/00009_00048_00018.png  \n",
            "  inflating: train/9/00009_00048_00019.png  \n",
            "  inflating: train/9/00009_00048_00020.png  \n",
            "  inflating: train/9/00009_00048_00021.png  \n",
            "  inflating: train/9/00009_00048_00022.png  \n",
            "  inflating: train/9/00009_00048_00023.png  \n",
            "  inflating: train/9/00009_00048_00024.png  \n",
            "  inflating: train/9/00009_00048_00025.png  \n",
            "  inflating: train/9/00009_00048_00026.png  \n",
            "  inflating: train/9/00009_00048_00027.png  \n",
            "  inflating: train/9/00009_00048_00028.png  \n",
            "  inflating: train/9/00009_00048_00029.png  \n"
          ]
        }
      ],
      "source": [
        "!unzip gtsrb-german-traffic-sign.zip"
      ]
    },
    {
      "cell_type": "code",
      "execution_count": 8,
      "metadata": {
        "id": "Z9wYwiDPOFYp"
      },
      "outputs": [],
      "source": [
        "import pandas as pd\n",
        "\n",
        "train = pd.read_csv('./Train.csv')\n",
        "test = pd.read_csv('./Test.csv')"
      ]
    },
    {
      "cell_type": "code",
      "execution_count": 9,
      "metadata": {
        "colab": {
          "base_uri": "https://localhost:8080/"
        },
        "id": "B55a0wHIau28",
        "outputId": "44228c9e-488d-4121-8b6b-fa922ba5ea81"
      },
      "outputs": [
        {
          "output_type": "stream",
          "name": "stdout",
          "text": [
            "<class 'pandas.core.frame.DataFrame'>\n",
            "RangeIndex: 39209 entries, 0 to 39208\n",
            "Data columns (total 8 columns):\n",
            " #   Column   Non-Null Count  Dtype \n",
            "---  ------   --------------  ----- \n",
            " 0   Width    39209 non-null  int64 \n",
            " 1   Height   39209 non-null  int64 \n",
            " 2   Roi.X1   39209 non-null  int64 \n",
            " 3   Roi.Y1   39209 non-null  int64 \n",
            " 4   Roi.X2   39209 non-null  int64 \n",
            " 5   Roi.Y2   39209 non-null  int64 \n",
            " 6   ClassId  39209 non-null  int64 \n",
            " 7   Path     39209 non-null  object\n",
            "dtypes: int64(7), object(1)\n",
            "memory usage: 2.4+ MB\n"
          ]
        }
      ],
      "source": [
        "train.info()"
      ]
    },
    {
      "cell_type": "markdown",
      "metadata": {
        "id": "1BKxPPEbiSKY"
      },
      "source": [
        "## Pre-process Dataset"
      ]
    },
    {
      "cell_type": "code",
      "execution_count": 10,
      "metadata": {
        "colab": {
          "base_uri": "https://localhost:8080/"
        },
        "id": "mSEjazkfiZhD",
        "outputId": "4e709a2c-b064-4231-ff58-6f1efbc80105"
      },
      "outputs": [
        {
          "output_type": "stream",
          "name": "stdout",
          "text": [
            "Number of classes:  43\n"
          ]
        }
      ],
      "source": [
        "num_classes = len(train['ClassId'].unique())\n",
        "print(\"Number of classes: \", num_classes)"
      ]
    },
    {
      "cell_type": "code",
      "execution_count": 11,
      "metadata": {
        "id": "_IySu0_xijFn"
      },
      "outputs": [],
      "source": [
        "data_dir = './'\n",
        "train_path = './Train'\n",
        "test_path = './Test'\n",
        "\n",
        "# Resizing the images to 30x30x3\n",
        "IMG_HEIGHT = 30\n",
        "IMG_WIDTH = 30\n",
        "channels = 3\n",
        "\n",
        "# Label Overview\n",
        "classes = { 0:'Speed limit (20km/h)',\n",
        "            1:'Speed limit (30km/h)', \n",
        "            2:'Speed limit (50km/h)', \n",
        "            3:'Speed limit (60km/h)', \n",
        "            4:'Speed limit (70km/h)', \n",
        "            5:'Speed limit (80km/h)', \n",
        "            6:'End of speed limit (80km/h)', \n",
        "            7:'Speed limit (100km/h)', \n",
        "            8:'Speed limit (120km/h)', \n",
        "            9:'No passing', \n",
        "            10:'No passing veh over 3.5 tons', \n",
        "            11:'Right-of-way at intersection', \n",
        "            12:'Priority road', \n",
        "            13:'Yield', \n",
        "            14:'Stop', \n",
        "            15:'No vehicles', \n",
        "            16:'Veh > 3.5 tons prohibited', \n",
        "            17:'No entry', \n",
        "            18:'General caution', \n",
        "            19:'Dangerous curve left', \n",
        "            20:'Dangerous curve right', \n",
        "            21:'Double curve', \n",
        "            22:'Bumpy road', \n",
        "            23:'Slippery road', \n",
        "            24:'Road narrows on the right', \n",
        "            25:'Road work', \n",
        "            26:'Traffic signals', \n",
        "            27:'Pedestrians', \n",
        "            28:'Children crossing', \n",
        "            29:'Bicycles crossing', \n",
        "            30:'Beware of ice/snow',\n",
        "            31:'Wild animals crossing', \n",
        "            32:'End speed + passing limits', \n",
        "            33:'Turn right ahead', \n",
        "            34:'Turn left ahead', \n",
        "            35:'Ahead only', \n",
        "            36:'Go straight or right', \n",
        "            37:'Go straight or left', \n",
        "            38:'Keep right', \n",
        "            39:'Keep left', \n",
        "            40:'Roundabout mandatory', \n",
        "            41:'End of no passing', \n",
        "            42:'End no passing veh > 3.5 tons' }"
      ]
    },
    {
      "cell_type": "markdown",
      "metadata": {
        "id": "UsefyqyrwVws"
      },
      "source": [
        "## **Wandb.ai - Hyperparameter Tuning** "
      ]
    },
    {
      "cell_type": "code",
      "execution_count": 12,
      "metadata": {
        "colab": {
          "base_uri": "https://localhost:8080/"
        },
        "id": "v1NF6Def6DIu",
        "outputId": "4daa6523-0e76-42f3-e15e-d8405ee49f7f"
      },
      "outputs": [
        {
          "output_type": "stream",
          "name": "stdout",
          "text": [
            "\u001b[2K     \u001b[90m━━━━━━━━━━━━━━━━━━━━━━━━━━━━━━━━━━━━━━━━\u001b[0m \u001b[32m2.0/2.0 MB\u001b[0m \u001b[31m27.6 MB/s\u001b[0m eta \u001b[36m0:00:00\u001b[0m\n",
            "\u001b[2K     \u001b[90m━━━━━━━━━━━━━━━━━━━━━━━━━━━━━━━━━━━━━━\u001b[0m \u001b[32m203.3/203.3 kB\u001b[0m \u001b[31m19.2 MB/s\u001b[0m eta \u001b[36m0:00:00\u001b[0m\n",
            "\u001b[2K     \u001b[90m━━━━━━━━━━━━━━━━━━━━━━━━━━━━━━━━━━━━━━\u001b[0m \u001b[32m184.3/184.3 kB\u001b[0m \u001b[31m22.9 MB/s\u001b[0m eta \u001b[36m0:00:00\u001b[0m\n",
            "\u001b[?25h  Preparing metadata (setup.py) ... \u001b[?25l\u001b[?25hdone\n",
            "\u001b[2K     \u001b[90m━━━━━━━━━━━━━━━━━━━━━━━━━━━━━━━━━━━━━━━━\u001b[0m \u001b[32m62.7/62.7 kB\u001b[0m \u001b[31m8.9 MB/s\u001b[0m eta \u001b[36m0:00:00\u001b[0m\n",
            "\u001b[?25h  Building wheel for pathtools (setup.py) ... \u001b[?25l\u001b[?25hdone\n"
          ]
        }
      ],
      "source": [
        "!pip install wandb -qU"
      ]
    },
    {
      "cell_type": "code",
      "execution_count": 13,
      "metadata": {
        "colab": {
          "base_uri": "https://localhost:8080/",
          "height": 121
        },
        "id": "Cks7t6Sx8dmU",
        "outputId": "f3e4334d-8909-47f8-fee9-c69427c9d6a1"
      },
      "outputs": [
        {
          "output_type": "display_data",
          "data": {
            "text/plain": [
              "<IPython.core.display.Javascript object>"
            ],
            "application/javascript": [
              "\n",
              "        window._wandbApiKey = new Promise((resolve, reject) => {\n",
              "            function loadScript(url) {\n",
              "            return new Promise(function(resolve, reject) {\n",
              "                let newScript = document.createElement(\"script\");\n",
              "                newScript.onerror = reject;\n",
              "                newScript.onload = resolve;\n",
              "                document.body.appendChild(newScript);\n",
              "                newScript.src = url;\n",
              "            });\n",
              "            }\n",
              "            loadScript(\"https://cdn.jsdelivr.net/npm/postmate/build/postmate.min.js\").then(() => {\n",
              "            const iframe = document.createElement('iframe')\n",
              "            iframe.style.cssText = \"width:0;height:0;border:none\"\n",
              "            document.body.appendChild(iframe)\n",
              "            const handshake = new Postmate({\n",
              "                container: iframe,\n",
              "                url: 'https://wandb.ai/authorize'\n",
              "            });\n",
              "            const timeout = setTimeout(() => reject(\"Couldn't auto authenticate\"), 5000)\n",
              "            handshake.then(function(child) {\n",
              "                child.on('authorize', data => {\n",
              "                    clearTimeout(timeout)\n",
              "                    resolve(data)\n",
              "                });\n",
              "            });\n",
              "            })\n",
              "        });\n",
              "    "
            ]
          },
          "metadata": {}
        },
        {
          "output_type": "stream",
          "name": "stderr",
          "text": [
            "\u001b[34m\u001b[1mwandb\u001b[0m: Logging into wandb.ai. (Learn how to deploy a W&B server locally: https://wandb.me/wandb-server)\n",
            "\u001b[34m\u001b[1mwandb\u001b[0m: You can find your API key in your browser here: https://wandb.ai/authorize\n",
            "wandb: Paste an API key from your profile and hit enter, or press ctrl+c to quit:"
          ]
        },
        {
          "name": "stdout",
          "output_type": "stream",
          "text": [
            " ··········\n"
          ]
        },
        {
          "output_type": "stream",
          "name": "stderr",
          "text": [
            "\u001b[34m\u001b[1mwandb\u001b[0m: Appending key for api.wandb.ai to your netrc file: /root/.netrc\n"
          ]
        },
        {
          "output_type": "execute_result",
          "data": {
            "text/plain": [
              "True"
            ]
          },
          "metadata": {},
          "execution_count": 13
        }
      ],
      "source": [
        "import wandb\n",
        "wandb.login()"
      ]
    },
    {
      "cell_type": "code",
      "execution_count": 14,
      "metadata": {
        "colab": {
          "base_uri": "https://localhost:8080/"
        },
        "id": "SweNG3mouIcf",
        "outputId": "490d9367-727a-42e5-d80e-046411fef42a"
      },
      "outputs": [
        {
          "output_type": "stream",
          "name": "stdout",
          "text": [
            "Create sweep with ID: f87hyidm\n",
            "Sweep URL: https://wandb.ai/atds_ml/lenet_5/sweeps/f87hyidm\n"
          ]
        }
      ],
      "source": [
        "sweep_config = {\n",
        "    'method': 'random',\n",
        "    'metric': {'goal': 'minimize', 'name': 'test_loss'},\n",
        "    'parameters': {\n",
        "        'optimizer': {'values': ['adam', 'sgd']},\n",
        "        'learning_rate': {'distribution': 'uniform', 'max': 0.001, 'min': 0.0001},\n",
        "        'epochs': {'value': 15}\n",
        "    }\n",
        "}\n",
        "\n",
        "sweep_id = wandb.sweep(sweep_config, entity=\"atds_ml\", project=\"lenet_5\")"
      ]
    },
    {
      "cell_type": "code",
      "execution_count": 15,
      "metadata": {
        "id": "NHWWgC7xZWri"
      },
      "outputs": [],
      "source": [
        "import torch\n",
        "import torch.optim as optim\n",
        "from torch.optim import lr_scheduler\n",
        "import time\n",
        "import os\n",
        "import copy\n",
        "\n",
        "device = torch.device(\"cuda\" if torch.cuda.is_available() else \"cpu\")\n",
        "\n",
        "def train(config=None):\n",
        "\n",
        "    with wandb.init(config=config):\n",
        "        config = wandb.config\n",
        "\n",
        "        loader = build_dataset(data_dir)\n",
        "        network = build_network()\n",
        "        optimizer = build_optimizer(network, config.optimizer, config.learning_rate)\n",
        "\n",
        "        # Initialize variables for storing the best model\n",
        "        best_model_state_dict = copy.deepcopy(network.state_dict())\n",
        "        min_val_loss = float('inf')\n",
        "\n",
        "        for epoch in range(config.epochs):\n",
        "            val_loss, accuracy = train_epoch(network, loader, optimizer)\n",
        "            wandb.log({\"loss\": val_loss, \"epoch\": epoch, \"optimizer\": config.optimizer, \"learning_rate\": config.learning_rate, \"accuracy\": accuracy})\n",
        "\n",
        "            # Update the best model if the current validation loss is lower\n",
        "            if val_loss < min_val_loss:\n",
        "                min_val_loss = val_loss\n",
        "                best_model_state_dict = copy.deepcopy(network.state_dict())\n",
        "\n",
        "        # Save the best model's state_dict\n",
        "        torch.save(best_model_state_dict, 'best_model.pth')  "
      ]
    },
    {
      "cell_type": "code",
      "execution_count": 16,
      "metadata": {
        "id": "Oaie52hABBkK"
      },
      "outputs": [],
      "source": [
        "import os\n",
        "import cv2\n",
        "import numpy as np\n",
        "from PIL import Image\n",
        "import torch\n",
        "from sklearn.model_selection import train_test_split\n",
        "import tensorflow as tf\n",
        "from tensorflow import keras\n",
        "from tensorflow.keras import layers\n",
        "from torch.utils.data import TensorDataset \n",
        "\n",
        "def build_dataset(data_dir):\n",
        "  image_data = []\n",
        "  image_labels = []\n",
        "\n",
        "  for i in range(num_classes):\n",
        "    path = data_dir + '/Train/' + str(i)\n",
        "    images = os.listdir(path)\n",
        "\n",
        "    for img in images:\n",
        "      try:\n",
        "        image = cv2.imread(path + '/' + img)\n",
        "        image_fromarray = Image.fromarray(image, 'RGB')\n",
        "        resize_image = image_fromarray.resize((IMG_HEIGHT, IMG_WIDTH))\n",
        "        image_data.append(np.array(resize_image))\n",
        "        image_labels.append(i)\n",
        "      except:\n",
        "        print(\"Error in \" + img)\n",
        "        \n",
        "  # Changing the list to numpy array\n",
        "  image_data = torch.FloatTensor(np.array(image_data))\n",
        "  image_data = np.transpose(image_data,(0,3,1,2))\n",
        "  image_labels = torch.FloatTensor(np.array(image_labels))\n",
        "\n",
        "  X_train, X_val, y_train, y_val = train_test_split(image_data, image_labels, test_size=0.2, random_state=42, shuffle=True)\n",
        "\n",
        "  X_train = X_train/255 \n",
        "  X_val = X_val/255\n",
        "\n",
        "  print(\"X_train.shape\", X_train.shape)\n",
        "  print(\"X_valid.shape\", X_val.shape)\n",
        "  print(\"y_train.shape\", y_train.shape)\n",
        "  print(\"y_valid.shape\", y_val.shape)\n",
        "\n",
        "  y_train = torch.FloatTensor(keras.utils.to_categorical(y_train, num_classes))\n",
        "  y_val = torch.FloatTensor(keras.utils.to_categorical(y_val, num_classes))\n",
        "\n",
        "  train_dataset = TensorDataset(X_train, y_train)\n",
        "  val_dataset = TensorDataset(X_val, y_val)\n",
        "\n",
        "  dataloaders = {'train': torch.utils.data.DataLoader(train_dataset, batch_size=64,shuffle=True, num_workers=2),\n",
        "               'val': torch.utils.data.DataLoader(val_dataset, batch_size=64,shuffle=True, num_workers=2)}\n",
        "\n",
        "  return dataloaders"
      ]
    },
    {
      "cell_type": "code",
      "execution_count": 17,
      "metadata": {
        "id": "bBYKa9drC0RF"
      },
      "outputs": [],
      "source": [
        "import torchvision\n",
        "from torchvision import models\n",
        "import torch\n",
        "import torch.nn as nn\n",
        "\n",
        "def build_network():\n",
        "    model = models.googlenet(pretrained = True)\n",
        "    # Freeze weights of all layers\n",
        "    for param in model.parameters():\n",
        "        param.requires_grad = False\n",
        "    # Add new fully-connected layer with output dimension equal to number of classes\n",
        "    num_features = model.fc.in_features\n",
        "    model.fc = nn.Linear(num_features, 43)\n",
        "    # Initialize weights for new layer\n",
        "    nn.init.kaiming_normal_(model.fc.weight, mode='fan_out', nonlinearity='relu')\n",
        "    nn.init.zeros_(model.fc.bias)\n",
        "\n",
        "    return model.to(device)"
      ]
    },
    {
      "cell_type": "code",
      "execution_count": 18,
      "metadata": {
        "id": "JOSIGfWIBGua"
      },
      "outputs": [],
      "source": [
        "def build_optimizer(model, optimizer, learning_rate):\n",
        "    if optimizer == \"sgd\":\n",
        "        optimizer = optim.SGD(model.parameters(),\n",
        "                              lr=learning_rate, momentum=0.9)\n",
        "    elif optimizer == \"adam\":\n",
        "        optimizer = optim.Adam(model.parameters(),\n",
        "                               lr=learning_rate)\n",
        "    return optimizer"
      ]
    },
    {
      "cell_type": "code",
      "execution_count": 19,
      "metadata": {
        "id": "2DKGeTg8BIZo"
      },
      "outputs": [],
      "source": [
        "import torch.nn.functional as F\n",
        "\n",
        "def train_epoch(model, dataloaders, optimizer):\n",
        "    model.train()\n",
        "    running_loss = 0.0\n",
        "    total_samples = 0\n",
        "\n",
        "    for inputs, labels in dataloaders['train']:\n",
        "        inputs = inputs.to(device)\n",
        "        labels = labels.to(device)\n",
        "\n",
        "        optimizer.zero_grad()\n",
        "\n",
        "        # Forward pass\n",
        "        outputs = model(inputs)\n",
        "        loss = F.cross_entropy(outputs, torch.max(labels, 1)[1])\n",
        "\n",
        "        # Backward pass\n",
        "        loss.backward()\n",
        "        optimizer.step()\n",
        "\n",
        "        running_loss += loss.item() * inputs.size(0)\n",
        "        total_samples += inputs.size(0)\n",
        "\n",
        "    val_loss = evaluate(model, dataloaders['val'])\n",
        "\n",
        "    return val_loss\n",
        "\n",
        "def evaluate(model, dataloader):\n",
        "    model.eval()\n",
        "    running_loss = 0.0\n",
        "    total_samples = 0\n",
        "    correct = 0\n",
        "    total = 0\n",
        "\n",
        "    with torch.no_grad():\n",
        "        for inputs, labels in dataloader:\n",
        "            inputs = inputs.to(device)\n",
        "            labels = labels.to(device)\n",
        "\n",
        "            # Forward pass\n",
        "            outputs = model(inputs)\n",
        "            loss = F.cross_entropy(outputs, torch.max(labels, 1)[1])\n",
        "\n",
        "            running_loss += loss.item() * inputs.size(0)\n",
        "            total_samples += inputs.size(0)\n",
        "            _, predicted = torch.max(outputs.data, 1)\n",
        "            total += labels.size(0)\n",
        "            correct += torch.sum(predicted == torch.max(labels.data,1).indices)\n",
        "\n",
        "    # Calculate accuracy and loss\n",
        "    accuracy = 100 * correct / total\n",
        "    avg_loss = running_loss / total_samples\n",
        "\n",
        "    return avg_loss, accuracy"
      ]
    },
    {
      "cell_type": "markdown",
      "metadata": {
        "id": "kSJKlI1OoxQg"
      },
      "source": [
        "###**Testing different optimizers and learning rates**"
      ]
    },
    {
      "cell_type": "code",
      "execution_count": 20,
      "metadata": {
        "colab": {
          "base_uri": "https://localhost:8080/",
          "height": 1000,
          "referenced_widgets": [
            "fbc32360c17a4495ac842bffa80a0b26",
            "f494bd4784b14b729ab04ec131aa599a",
            "9b507f3eb686488e83165afff03588c8",
            "36c80a2d508041b89f055d13a7c6a66a",
            "4c266e14f10242f2a1e7c7f4f35c9146",
            "1fdd1bbecc2f4413b6b66b5e06aa61a6",
            "93c2e7fee5b84b91afcb2765816e4738",
            "84e38df8b3ed433f912708c5b65b89c4",
            "3f878e59be5c4cffa0eaaa8548f29039",
            "5539e42f60d245cabd68e050f4748b49",
            "58bd170c1e2e49389c2e2d97df707de3",
            "579b2568489042089708ffcb706481cb",
            "4381129a645a403bb871abf3abdeff1c",
            "77e30a1883ff4cf0986e7078167a6c70",
            "4620121dd5cb45c3b09ad1342829d141",
            "e81390e2f51f4a07a3e33815d1707ed7",
            "52308f34a55b48eda7c2865c57139a66",
            "52fd246116a346729334ab046e86eb12",
            "120b49a4f35a4f32b417b4a2bef3201c",
            "e71ca2a88a8b46eca121bec011b235fc",
            "def639f8c6814eae8a3c5a691ef4f0c9",
            "03858c806da244fbaf93e4d29e970d16",
            "59f2ea8a8ea0460fba9ad4db76a291ea",
            "a09c60fb70634c7b91a018f4627fcf3b",
            "c59f3eb009fb41e89eb3818d9c2540ea",
            "a73fce1ba8ce45f1b3f86534f34a08af",
            "e1de1876fae8473d9e9636840bc0a303",
            "aefce94006814d17bd418acfed98a075",
            "e68892f521074557b20bc3f091fd0fa2",
            "f01e29eb176e4870874d662feded9b51",
            "d524bf502dc841cb9bb03ba3e5c66ba0",
            "025ce38a589d42b09699f7015b161eea",
            "434f18751d084703832171e38d325a35",
            "73ff6a9369284e108fafc8c0f6d7c402",
            "920c2a0bf5d94549ac5b08d53c9487c1",
            "d9d48f1f0b0644bf90bd0ead97792bb3",
            "fda639cb50794c63871055e5c99e7537",
            "a9d5b710ccb8412f85e9d25e8bd8ea76",
            "b7eb10392fb54affbf410a2ea686fae8",
            "8f81319e5abf43d6bf8c69fdb325fb69",
            "d41d25c948b24ecdbb89a48e06110f9e",
            "ed5cea72399a450c80bcc5611080bc10",
            "59502ddb019c4b118675f525fe1af9fe",
            "9dee0cd424304fa5a18d29c99ea3459d",
            "e35a2bb0b4154df8b0e68ec61fdb6a47",
            "3dd65e71bda342048c948686c56b6581",
            "e7bd4d0a2fd845c386644908153e00e1",
            "f9da532981194a17a4f3d6a95a90905f",
            "a4e4f3966bca4d4aa5a9831dabb93531",
            "dab93586f5ed4fc58b3b50ecf0e9588f",
            "e05832ef56dc422a9eead599bceea25d",
            "6df7a97a8fdb45ef8813c6a318f147e2",
            "4439d07990bc489a82f2b9b368ac176e",
            "9312679ba6ec485da367410421ecbbc0",
            "461b2aa200c0425c86e562e6a9b0209d",
            "31f415a64afe4874acb29b11caab883c",
            "9564e0c8bb9a4e3397d4530ca3bb1cc4",
            "2d1a975cf36445bf9070b9ede38c0c17",
            "ffdbd15871594216afe3a70f19f31122",
            "9ed8b508781a41d3a68445551a2a26b7",
            "d0fa49cca98d4ef28807fd7fbf9669da",
            "04835c94cdc54ae38144703b7e9c72c0",
            "b17440aeab94438bb2f03b60b8d15793",
            "1d6193ab2ebc4a939d98fb81ddb9381d",
            "38b0612ec82a4b0ebb886ad256038fea",
            "9c586cdb1e484646931f0927ec21e40d",
            "0e03600ee87e4e26be66bbe619d2388a",
            "14cea5958ace47bcaf597f2f9e49cc4e",
            "7ec111d2338143248b1f9413019a9f43",
            "7690fb8471064fecac273ce33b9646f5",
            "a7171c0ff3644c4da28da5e612abc063",
            "0b5e4528997e4bc6bd79bfc080b7cd30",
            "65c8434d41964b2fbd12f8aab39a38bc",
            "74cd509db9a546e5bec7492fee3e7ad1",
            "f43e7bd20bd34dd8acdd6031a6f1bfa9",
            "35400bb1c8fd448885f3f1a3ff29fd4a",
            "3a9072989c1e4191acb56ccc8fbb1201",
            "4c78fe51f9a54a779366d9f0e2def58e",
            "d132d664c8fd4359bc56fd603621f2a7",
            "c4a287210fc944129eddf45b794d90f0",
            "30ed85192c68415b8bd611eff33e14f4",
            "0142011bc841406ab99b0724f8ff7dad",
            "0fb90457bb95413e8377613895d99408",
            "32da60983429485082bc11dda325ce51",
            "d863d29e8a6f4f1cbf33b428c9e424f5",
            "4c4aacd3c3924c908113a468a617b2d8",
            "ba1f067697ed4a10804b650676bbe702",
            "2c8fd78abe92412a8ff044c94fd117d9",
            "a46f761f92d14424bed76ad283fc33f2",
            "9ca3490e501f43f0a20ef41579356c11",
            "415743c6c45c466d86dbea9856a72722",
            "67a9189076fc47b8b65156196815505f",
            "30a2fd18c835459c8ddc73315e08faf7",
            "f07ba9b4ed264018bbf448eb8ae9fc72",
            "e77bbc12c3364640aa131982abbc0dce",
            "469da73526004ab291f5d075772cc5a2",
            "ba8b9055a3934285ba75518dfabd3e5c",
            "5538322e8d964da48094c754cf2fe43e",
            "8f320f50112741b59713a08665127dce",
            "4e8754f1cf7e4625a1215b65abd32dde",
            "81928e8990c94d4ba34005c689ae48a4",
            "62f0c7a0d6c94ef38deebb86abbb9d66",
            "204928179b7c498391d525338b715b56",
            "394b8830a96345e797604f8976ac33b2",
            "05c76815a2df4fcd9ece5e3465f42186",
            "53708bc061e84f60bff98ea6cc695581",
            "1566197abb2743c582a8c05667fd346a",
            "69fade9552544e7291599c9523b26824",
            "b9654aeba5c249b8999b9b539ff184ee",
            "d82df5a902f0499997862105ac74555a",
            "e02e4660286b460993a29a22634779f5",
            "7840ae56a7924a058a34c2423aef9780"
          ]
        },
        "id": "a1NFvzuOreoZ",
        "outputId": "1a339328-1715-4120-d43b-691e44690208"
      },
      "outputs": [
        {
          "output_type": "stream",
          "name": "stderr",
          "text": [
            "\u001b[34m\u001b[1mwandb\u001b[0m: Agent Starting Run: ikvtjocg with config:\n",
            "\u001b[34m\u001b[1mwandb\u001b[0m: \tepochs: 15\n",
            "\u001b[34m\u001b[1mwandb\u001b[0m: \tlearning_rate: 0.00024104490345006573\n",
            "\u001b[34m\u001b[1mwandb\u001b[0m: \toptimizer: sgd\n",
            "\u001b[34m\u001b[1mwandb\u001b[0m: Currently logged in as: \u001b[33msk7905\u001b[0m (\u001b[33matds_ml\u001b[0m). Use \u001b[1m`wandb login --relogin`\u001b[0m to force relogin\n"
          ]
        },
        {
          "output_type": "display_data",
          "data": {
            "text/plain": [
              "<IPython.core.display.HTML object>"
            ],
            "text/html": [
              "Tracking run with wandb version 0.15.2"
            ]
          },
          "metadata": {}
        },
        {
          "output_type": "display_data",
          "data": {
            "text/plain": [
              "<IPython.core.display.HTML object>"
            ],
            "text/html": [
              "Run data is saved locally in <code>/content/wandb/run-20230508_163724-ikvtjocg</code>"
            ]
          },
          "metadata": {}
        },
        {
          "output_type": "display_data",
          "data": {
            "text/plain": [
              "<IPython.core.display.HTML object>"
            ],
            "text/html": [
              "Syncing run <strong><a href='https://wandb.ai/atds_ml/lenet_5/runs/ikvtjocg' target=\"_blank\">fancy-sweep-1</a></strong> to <a href='https://wandb.ai/atds_ml/lenet_5' target=\"_blank\">Weights & Biases</a> (<a href='https://wandb.me/run' target=\"_blank\">docs</a>)<br/>Sweep page: <a href='https://wandb.ai/atds_ml/lenet_5/sweeps/f87hyidm' target=\"_blank\">https://wandb.ai/atds_ml/lenet_5/sweeps/f87hyidm</a>"
            ]
          },
          "metadata": {}
        },
        {
          "output_type": "display_data",
          "data": {
            "text/plain": [
              "<IPython.core.display.HTML object>"
            ],
            "text/html": [
              " View project at <a href='https://wandb.ai/atds_ml/lenet_5' target=\"_blank\">https://wandb.ai/atds_ml/lenet_5</a>"
            ]
          },
          "metadata": {}
        },
        {
          "output_type": "display_data",
          "data": {
            "text/plain": [
              "<IPython.core.display.HTML object>"
            ],
            "text/html": [
              " View sweep at <a href='https://wandb.ai/atds_ml/lenet_5/sweeps/f87hyidm' target=\"_blank\">https://wandb.ai/atds_ml/lenet_5/sweeps/f87hyidm</a>"
            ]
          },
          "metadata": {}
        },
        {
          "output_type": "display_data",
          "data": {
            "text/plain": [
              "<IPython.core.display.HTML object>"
            ],
            "text/html": [
              " View run at <a href='https://wandb.ai/atds_ml/lenet_5/runs/ikvtjocg' target=\"_blank\">https://wandb.ai/atds_ml/lenet_5/runs/ikvtjocg</a>"
            ]
          },
          "metadata": {}
        },
        {
          "output_type": "stream",
          "name": "stdout",
          "text": [
            "X_train.shape torch.Size([31367, 3, 30, 30])\n",
            "X_valid.shape torch.Size([7842, 3, 30, 30])\n",
            "y_train.shape torch.Size([31367])\n",
            "y_valid.shape torch.Size([7842])\n"
          ]
        },
        {
          "output_type": "stream",
          "name": "stderr",
          "text": [
            "/usr/local/lib/python3.10/dist-packages/torchvision/models/_utils.py:208: UserWarning: The parameter 'pretrained' is deprecated since 0.13 and may be removed in the future, please use 'weights' instead.\n",
            "  warnings.warn(\n",
            "/usr/local/lib/python3.10/dist-packages/torchvision/models/_utils.py:223: UserWarning: Arguments other than a weight enum or `None` for 'weights' are deprecated since 0.13 and may be removed in the future. The current behavior is equivalent to passing `weights=GoogLeNet_Weights.IMAGENET1K_V1`. You can also use `weights=GoogLeNet_Weights.DEFAULT` to get the most up-to-date weights.\n",
            "  warnings.warn(msg)\n",
            "Downloading: \"https://download.pytorch.org/models/googlenet-1378be20.pth\" to /root/.cache/torch/hub/checkpoints/googlenet-1378be20.pth\n",
            "100%|██████████| 49.7M/49.7M [00:00<00:00, 199MB/s]\n"
          ]
        },
        {
          "output_type": "display_data",
          "data": {
            "text/plain": [
              "<IPython.core.display.HTML object>"
            ],
            "text/html": [
              "Waiting for W&B process to finish... <strong style=\"color:green\">(success).</strong>"
            ]
          },
          "metadata": {}
        },
        {
          "output_type": "display_data",
          "data": {
            "text/plain": [
              "VBox(children=(Label(value='0.001 MB of 0.001 MB uploaded (0.000 MB deduped)\\r'), FloatProgress(value=1.0, max…"
            ],
            "application/vnd.jupyter.widget-view+json": {
              "version_major": 2,
              "version_minor": 0,
              "model_id": "fbc32360c17a4495ac842bffa80a0b26"
            }
          },
          "metadata": {}
        },
        {
          "output_type": "display_data",
          "data": {
            "text/plain": [
              "<IPython.core.display.HTML object>"
            ],
            "text/html": [
              "<style>\n",
              "    table.wandb td:nth-child(1) { padding: 0 10px; text-align: left ; width: auto;} td:nth-child(2) {text-align: left ; width: 100%}\n",
              "    .wandb-row { display: flex; flex-direction: row; flex-wrap: wrap; justify-content: flex-start; width: 100% }\n",
              "    .wandb-col { display: flex; flex-direction: column; flex-basis: 100%; flex: 1; padding: 10px; }\n",
              "    </style>\n",
              "<div class=\"wandb-row\"><div class=\"wandb-col\"><h3>Run history:</h3><br/><table class=\"wandb\"><tr><td>accuracy</td><td>▁▂▂▃▄▄▅▅▆▆▇▇▆▇█</td></tr><tr><td>epoch</td><td>▁▁▂▃▃▃▄▅▅▅▆▇▇▇█</td></tr><tr><td>learning_rate</td><td>▁▁▁▁▁▁▁▁▁▁▁▁▁▁▁</td></tr><tr><td>loss</td><td>██▆▅▅▅▄▄▃▃▄▂▂▂▁</td></tr></table><br/></div><div class=\"wandb-col\"><h3>Run summary:</h3><br/><table class=\"wandb\"><tr><td>accuracy</td><td>14.93242</td></tr><tr><td>epoch</td><td>14</td></tr><tr><td>learning_rate</td><td>0.00024</td></tr><tr><td>loss</td><td>4.56287</td></tr><tr><td>optimizer</td><td>sgd</td></tr></table><br/></div></div>"
            ]
          },
          "metadata": {}
        },
        {
          "output_type": "display_data",
          "data": {
            "text/plain": [
              "<IPython.core.display.HTML object>"
            ],
            "text/html": [
              " View run <strong style=\"color:#cdcd00\">fancy-sweep-1</strong> at: <a href='https://wandb.ai/atds_ml/lenet_5/runs/ikvtjocg' target=\"_blank\">https://wandb.ai/atds_ml/lenet_5/runs/ikvtjocg</a><br/>Synced 5 W&B file(s), 0 media file(s), 0 artifact file(s) and 0 other file(s)"
            ]
          },
          "metadata": {}
        },
        {
          "output_type": "display_data",
          "data": {
            "text/plain": [
              "<IPython.core.display.HTML object>"
            ],
            "text/html": [
              "Find logs at: <code>./wandb/run-20230508_163724-ikvtjocg/logs</code>"
            ]
          },
          "metadata": {}
        },
        {
          "output_type": "stream",
          "name": "stderr",
          "text": [
            "\u001b[34m\u001b[1mwandb\u001b[0m: Agent Starting Run: kq25d9b0 with config:\n",
            "\u001b[34m\u001b[1mwandb\u001b[0m: \tepochs: 15\n",
            "\u001b[34m\u001b[1mwandb\u001b[0m: \tlearning_rate: 0.0008740538608787734\n",
            "\u001b[34m\u001b[1mwandb\u001b[0m: \toptimizer: adam\n"
          ]
        },
        {
          "output_type": "display_data",
          "data": {
            "text/plain": [
              "<IPython.core.display.HTML object>"
            ],
            "text/html": [
              "Tracking run with wandb version 0.15.2"
            ]
          },
          "metadata": {}
        },
        {
          "output_type": "display_data",
          "data": {
            "text/plain": [
              "<IPython.core.display.HTML object>"
            ],
            "text/html": [
              "Run data is saved locally in <code>/content/wandb/run-20230508_164014-kq25d9b0</code>"
            ]
          },
          "metadata": {}
        },
        {
          "output_type": "display_data",
          "data": {
            "text/plain": [
              "<IPython.core.display.HTML object>"
            ],
            "text/html": [
              "Syncing run <strong><a href='https://wandb.ai/atds_ml/lenet_5/runs/kq25d9b0' target=\"_blank\">neat-sweep-2</a></strong> to <a href='https://wandb.ai/atds_ml/lenet_5' target=\"_blank\">Weights & Biases</a> (<a href='https://wandb.me/run' target=\"_blank\">docs</a>)<br/>Sweep page: <a href='https://wandb.ai/atds_ml/lenet_5/sweeps/f87hyidm' target=\"_blank\">https://wandb.ai/atds_ml/lenet_5/sweeps/f87hyidm</a>"
            ]
          },
          "metadata": {}
        },
        {
          "output_type": "display_data",
          "data": {
            "text/plain": [
              "<IPython.core.display.HTML object>"
            ],
            "text/html": [
              " View project at <a href='https://wandb.ai/atds_ml/lenet_5' target=\"_blank\">https://wandb.ai/atds_ml/lenet_5</a>"
            ]
          },
          "metadata": {}
        },
        {
          "output_type": "display_data",
          "data": {
            "text/plain": [
              "<IPython.core.display.HTML object>"
            ],
            "text/html": [
              " View sweep at <a href='https://wandb.ai/atds_ml/lenet_5/sweeps/f87hyidm' target=\"_blank\">https://wandb.ai/atds_ml/lenet_5/sweeps/f87hyidm</a>"
            ]
          },
          "metadata": {}
        },
        {
          "output_type": "display_data",
          "data": {
            "text/plain": [
              "<IPython.core.display.HTML object>"
            ],
            "text/html": [
              " View run at <a href='https://wandb.ai/atds_ml/lenet_5/runs/kq25d9b0' target=\"_blank\">https://wandb.ai/atds_ml/lenet_5/runs/kq25d9b0</a>"
            ]
          },
          "metadata": {}
        },
        {
          "output_type": "stream",
          "name": "stdout",
          "text": [
            "X_train.shape torch.Size([31367, 3, 30, 30])\n",
            "X_valid.shape torch.Size([7842, 3, 30, 30])\n",
            "y_train.shape torch.Size([31367])\n",
            "y_valid.shape torch.Size([7842])\n"
          ]
        },
        {
          "output_type": "display_data",
          "data": {
            "text/plain": [
              "<IPython.core.display.HTML object>"
            ],
            "text/html": [
              "Waiting for W&B process to finish... <strong style=\"color:green\">(success).</strong>"
            ]
          },
          "metadata": {}
        },
        {
          "output_type": "display_data",
          "data": {
            "text/plain": [
              "VBox(children=(Label(value='0.001 MB of 0.001 MB uploaded (0.000 MB deduped)\\r'), FloatProgress(value=1.0, max…"
            ],
            "application/vnd.jupyter.widget-view+json": {
              "version_major": 2,
              "version_minor": 0,
              "model_id": "3f878e59be5c4cffa0eaaa8548f29039"
            }
          },
          "metadata": {}
        },
        {
          "output_type": "display_data",
          "data": {
            "text/plain": [
              "<IPython.core.display.HTML object>"
            ],
            "text/html": [
              "<style>\n",
              "    table.wandb td:nth-child(1) { padding: 0 10px; text-align: left ; width: auto;} td:nth-child(2) {text-align: left ; width: 100%}\n",
              "    .wandb-row { display: flex; flex-direction: row; flex-wrap: wrap; justify-content: flex-start; width: 100% }\n",
              "    .wandb-col { display: flex; flex-direction: column; flex-basis: 100%; flex: 1; padding: 10px; }\n",
              "    </style>\n",
              "<div class=\"wandb-row\"><div class=\"wandb-col\"><h3>Run history:</h3><br/><table class=\"wandb\"><tr><td>accuracy</td><td>▁▃▄▅▆▆▇▇▇▇█████</td></tr><tr><td>epoch</td><td>▁▁▂▃▃▃▄▅▅▅▆▇▇▇█</td></tr><tr><td>learning_rate</td><td>▁▁▁▁▁▁▁▁▁▁▁▁▁▁▁</td></tr><tr><td>loss</td><td>█▄▄▃▃▂▂▂▁▂▂▁▁▁▁</td></tr></table><br/></div><div class=\"wandb-col\"><h3>Run summary:</h3><br/><table class=\"wandb\"><tr><td>accuracy</td><td>41.99184</td></tr><tr><td>epoch</td><td>14</td></tr><tr><td>learning_rate</td><td>0.00087</td></tr><tr><td>loss</td><td>2.15284</td></tr><tr><td>optimizer</td><td>adam</td></tr></table><br/></div></div>"
            ]
          },
          "metadata": {}
        },
        {
          "output_type": "display_data",
          "data": {
            "text/plain": [
              "<IPython.core.display.HTML object>"
            ],
            "text/html": [
              " View run <strong style=\"color:#cdcd00\">neat-sweep-2</strong> at: <a href='https://wandb.ai/atds_ml/lenet_5/runs/kq25d9b0' target=\"_blank\">https://wandb.ai/atds_ml/lenet_5/runs/kq25d9b0</a><br/>Synced 5 W&B file(s), 0 media file(s), 0 artifact file(s) and 0 other file(s)"
            ]
          },
          "metadata": {}
        },
        {
          "output_type": "display_data",
          "data": {
            "text/plain": [
              "<IPython.core.display.HTML object>"
            ],
            "text/html": [
              "Find logs at: <code>./wandb/run-20230508_164014-kq25d9b0/logs</code>"
            ]
          },
          "metadata": {}
        },
        {
          "output_type": "stream",
          "name": "stderr",
          "text": [
            "\u001b[34m\u001b[1mwandb\u001b[0m: Agent Starting Run: 4mv8oqxp with config:\n",
            "\u001b[34m\u001b[1mwandb\u001b[0m: \tepochs: 15\n",
            "\u001b[34m\u001b[1mwandb\u001b[0m: \tlearning_rate: 0.0005565415703946952\n",
            "\u001b[34m\u001b[1mwandb\u001b[0m: \toptimizer: adam\n"
          ]
        },
        {
          "output_type": "display_data",
          "data": {
            "text/plain": [
              "<IPython.core.display.HTML object>"
            ],
            "text/html": [
              "Tracking run with wandb version 0.15.2"
            ]
          },
          "metadata": {}
        },
        {
          "output_type": "display_data",
          "data": {
            "text/plain": [
              "<IPython.core.display.HTML object>"
            ],
            "text/html": [
              "Run data is saved locally in <code>/content/wandb/run-20230508_164248-4mv8oqxp</code>"
            ]
          },
          "metadata": {}
        },
        {
          "output_type": "display_data",
          "data": {
            "text/plain": [
              "<IPython.core.display.HTML object>"
            ],
            "text/html": [
              "Syncing run <strong><a href='https://wandb.ai/atds_ml/lenet_5/runs/4mv8oqxp' target=\"_blank\">zesty-sweep-3</a></strong> to <a href='https://wandb.ai/atds_ml/lenet_5' target=\"_blank\">Weights & Biases</a> (<a href='https://wandb.me/run' target=\"_blank\">docs</a>)<br/>Sweep page: <a href='https://wandb.ai/atds_ml/lenet_5/sweeps/f87hyidm' target=\"_blank\">https://wandb.ai/atds_ml/lenet_5/sweeps/f87hyidm</a>"
            ]
          },
          "metadata": {}
        },
        {
          "output_type": "display_data",
          "data": {
            "text/plain": [
              "<IPython.core.display.HTML object>"
            ],
            "text/html": [
              " View project at <a href='https://wandb.ai/atds_ml/lenet_5' target=\"_blank\">https://wandb.ai/atds_ml/lenet_5</a>"
            ]
          },
          "metadata": {}
        },
        {
          "output_type": "display_data",
          "data": {
            "text/plain": [
              "<IPython.core.display.HTML object>"
            ],
            "text/html": [
              " View sweep at <a href='https://wandb.ai/atds_ml/lenet_5/sweeps/f87hyidm' target=\"_blank\">https://wandb.ai/atds_ml/lenet_5/sweeps/f87hyidm</a>"
            ]
          },
          "metadata": {}
        },
        {
          "output_type": "display_data",
          "data": {
            "text/plain": [
              "<IPython.core.display.HTML object>"
            ],
            "text/html": [
              " View run at <a href='https://wandb.ai/atds_ml/lenet_5/runs/4mv8oqxp' target=\"_blank\">https://wandb.ai/atds_ml/lenet_5/runs/4mv8oqxp</a>"
            ]
          },
          "metadata": {}
        },
        {
          "output_type": "stream",
          "name": "stdout",
          "text": [
            "X_train.shape torch.Size([31367, 3, 30, 30])\n",
            "X_valid.shape torch.Size([7842, 3, 30, 30])\n",
            "y_train.shape torch.Size([31367])\n",
            "y_valid.shape torch.Size([7842])\n"
          ]
        },
        {
          "output_type": "display_data",
          "data": {
            "text/plain": [
              "<IPython.core.display.HTML object>"
            ],
            "text/html": [
              "Waiting for W&B process to finish... <strong style=\"color:green\">(success).</strong>"
            ]
          },
          "metadata": {}
        },
        {
          "output_type": "display_data",
          "data": {
            "text/plain": [
              "<IPython.core.display.HTML object>"
            ],
            "text/html": [
              "<style>\n",
              "    table.wandb td:nth-child(1) { padding: 0 10px; text-align: left ; width: auto;} td:nth-child(2) {text-align: left ; width: 100%}\n",
              "    .wandb-row { display: flex; flex-direction: row; flex-wrap: wrap; justify-content: flex-start; width: 100% }\n",
              "    .wandb-col { display: flex; flex-direction: column; flex-basis: 100%; flex: 1; padding: 10px; }\n",
              "    </style>\n",
              "<div class=\"wandb-row\"><div class=\"wandb-col\"><h3>Run history:</h3><br/><table class=\"wandb\"><tr><td>accuracy</td><td>▁▃▄▅▅▆▆▇▇▇▇████</td></tr><tr><td>epoch</td><td>▁▁▂▃▃▃▄▅▅▅▆▇▇▇█</td></tr><tr><td>learning_rate</td><td>▁▁▁▁▁▁▁▁▁▁▁▁▁▁▁</td></tr><tr><td>loss</td><td>█▆▅▄▄▂▂▂▂▂▁▂▁▁▁</td></tr></table><br/></div><div class=\"wandb-col\"><h3>Run summary:</h3><br/><table class=\"wandb\"><tr><td>accuracy</td><td>39.03341</td></tr><tr><td>epoch</td><td>14</td></tr><tr><td>learning_rate</td><td>0.00056</td></tr><tr><td>loss</td><td>2.27792</td></tr><tr><td>optimizer</td><td>adam</td></tr></table><br/></div></div>"
            ]
          },
          "metadata": {}
        },
        {
          "output_type": "display_data",
          "data": {
            "text/plain": [
              "<IPython.core.display.HTML object>"
            ],
            "text/html": [
              " View run <strong style=\"color:#cdcd00\">zesty-sweep-3</strong> at: <a href='https://wandb.ai/atds_ml/lenet_5/runs/4mv8oqxp' target=\"_blank\">https://wandb.ai/atds_ml/lenet_5/runs/4mv8oqxp</a><br/>Synced 5 W&B file(s), 0 media file(s), 0 artifact file(s) and 0 other file(s)"
            ]
          },
          "metadata": {}
        },
        {
          "output_type": "display_data",
          "data": {
            "text/plain": [
              "<IPython.core.display.HTML object>"
            ],
            "text/html": [
              "Find logs at: <code>./wandb/run-20230508_164248-4mv8oqxp/logs</code>"
            ]
          },
          "metadata": {}
        },
        {
          "output_type": "stream",
          "name": "stderr",
          "text": [
            "\u001b[34m\u001b[1mwandb\u001b[0m: Agent Starting Run: 58a0ndfz with config:\n",
            "\u001b[34m\u001b[1mwandb\u001b[0m: \tepochs: 15\n",
            "\u001b[34m\u001b[1mwandb\u001b[0m: \tlearning_rate: 0.0004781222646009507\n",
            "\u001b[34m\u001b[1mwandb\u001b[0m: \toptimizer: sgd\n"
          ]
        },
        {
          "output_type": "display_data",
          "data": {
            "text/plain": [
              "<IPython.core.display.HTML object>"
            ],
            "text/html": [
              "Tracking run with wandb version 0.15.2"
            ]
          },
          "metadata": {}
        },
        {
          "output_type": "display_data",
          "data": {
            "text/plain": [
              "<IPython.core.display.HTML object>"
            ],
            "text/html": [
              "Run data is saved locally in <code>/content/wandb/run-20230508_164515-58a0ndfz</code>"
            ]
          },
          "metadata": {}
        },
        {
          "output_type": "display_data",
          "data": {
            "text/plain": [
              "<IPython.core.display.HTML object>"
            ],
            "text/html": [
              "Syncing run <strong><a href='https://wandb.ai/atds_ml/lenet_5/runs/58a0ndfz' target=\"_blank\">lemon-sweep-4</a></strong> to <a href='https://wandb.ai/atds_ml/lenet_5' target=\"_blank\">Weights & Biases</a> (<a href='https://wandb.me/run' target=\"_blank\">docs</a>)<br/>Sweep page: <a href='https://wandb.ai/atds_ml/lenet_5/sweeps/f87hyidm' target=\"_blank\">https://wandb.ai/atds_ml/lenet_5/sweeps/f87hyidm</a>"
            ]
          },
          "metadata": {}
        },
        {
          "output_type": "display_data",
          "data": {
            "text/plain": [
              "<IPython.core.display.HTML object>"
            ],
            "text/html": [
              " View project at <a href='https://wandb.ai/atds_ml/lenet_5' target=\"_blank\">https://wandb.ai/atds_ml/lenet_5</a>"
            ]
          },
          "metadata": {}
        },
        {
          "output_type": "display_data",
          "data": {
            "text/plain": [
              "<IPython.core.display.HTML object>"
            ],
            "text/html": [
              " View sweep at <a href='https://wandb.ai/atds_ml/lenet_5/sweeps/f87hyidm' target=\"_blank\">https://wandb.ai/atds_ml/lenet_5/sweeps/f87hyidm</a>"
            ]
          },
          "metadata": {}
        },
        {
          "output_type": "display_data",
          "data": {
            "text/plain": [
              "<IPython.core.display.HTML object>"
            ],
            "text/html": [
              " View run at <a href='https://wandb.ai/atds_ml/lenet_5/runs/58a0ndfz' target=\"_blank\">https://wandb.ai/atds_ml/lenet_5/runs/58a0ndfz</a>"
            ]
          },
          "metadata": {}
        },
        {
          "output_type": "stream",
          "name": "stdout",
          "text": [
            "X_train.shape torch.Size([31367, 3, 30, 30])\n",
            "X_valid.shape torch.Size([7842, 3, 30, 30])\n",
            "y_train.shape torch.Size([31367])\n",
            "y_valid.shape torch.Size([7842])\n"
          ]
        },
        {
          "output_type": "display_data",
          "data": {
            "text/plain": [
              "<IPython.core.display.HTML object>"
            ],
            "text/html": [
              "Waiting for W&B process to finish... <strong style=\"color:green\">(success).</strong>"
            ]
          },
          "metadata": {}
        },
        {
          "output_type": "display_data",
          "data": {
            "text/plain": [
              "<IPython.core.display.HTML object>"
            ],
            "text/html": [
              "<style>\n",
              "    table.wandb td:nth-child(1) { padding: 0 10px; text-align: left ; width: auto;} td:nth-child(2) {text-align: left ; width: 100%}\n",
              "    .wandb-row { display: flex; flex-direction: row; flex-wrap: wrap; justify-content: flex-start; width: 100% }\n",
              "    .wandb-col { display: flex; flex-direction: column; flex-basis: 100%; flex: 1; padding: 10px; }\n",
              "    </style>\n",
              "<div class=\"wandb-row\"><div class=\"wandb-col\"><h3>Run history:</h3><br/><table class=\"wandb\"><tr><td>accuracy</td><td>▁▂▃▃▄▄▅▆▆▇▇▇▇██</td></tr><tr><td>epoch</td><td>▁▁▂▃▃▃▄▅▅▅▆▇▇▇█</td></tr><tr><td>learning_rate</td><td>▁▁▁▁▁▁▁▁▁▁▁▁▁▁▁</td></tr><tr><td>loss</td><td>█▆▆▄▄▄▃▃▂▂▂▁▁▁▁</td></tr></table><br/></div><div class=\"wandb-col\"><h3>Run summary:</h3><br/><table class=\"wandb\"><tr><td>accuracy</td><td>20.51772</td></tr><tr><td>epoch</td><td>14</td></tr><tr><td>learning_rate</td><td>0.00048</td></tr><tr><td>loss</td><td>4.18998</td></tr><tr><td>optimizer</td><td>sgd</td></tr></table><br/></div></div>"
            ]
          },
          "metadata": {}
        },
        {
          "output_type": "display_data",
          "data": {
            "text/plain": [
              "<IPython.core.display.HTML object>"
            ],
            "text/html": [
              " View run <strong style=\"color:#cdcd00\">lemon-sweep-4</strong> at: <a href='https://wandb.ai/atds_ml/lenet_5/runs/58a0ndfz' target=\"_blank\">https://wandb.ai/atds_ml/lenet_5/runs/58a0ndfz</a><br/>Synced 5 W&B file(s), 0 media file(s), 0 artifact file(s) and 0 other file(s)"
            ]
          },
          "metadata": {}
        },
        {
          "output_type": "display_data",
          "data": {
            "text/plain": [
              "<IPython.core.display.HTML object>"
            ],
            "text/html": [
              "Find logs at: <code>./wandb/run-20230508_164515-58a0ndfz/logs</code>"
            ]
          },
          "metadata": {}
        },
        {
          "output_type": "stream",
          "name": "stderr",
          "text": [
            "\u001b[34m\u001b[1mwandb\u001b[0m: Agent Starting Run: 5p931ctz with config:\n",
            "\u001b[34m\u001b[1mwandb\u001b[0m: \tepochs: 15\n",
            "\u001b[34m\u001b[1mwandb\u001b[0m: \tlearning_rate: 0.0007145994012311796\n",
            "\u001b[34m\u001b[1mwandb\u001b[0m: \toptimizer: sgd\n"
          ]
        },
        {
          "output_type": "display_data",
          "data": {
            "text/plain": [
              "<IPython.core.display.HTML object>"
            ],
            "text/html": [
              "Tracking run with wandb version 0.15.2"
            ]
          },
          "metadata": {}
        },
        {
          "output_type": "display_data",
          "data": {
            "text/plain": [
              "<IPython.core.display.HTML object>"
            ],
            "text/html": [
              "Run data is saved locally in <code>/content/wandb/run-20230508_164744-5p931ctz</code>"
            ]
          },
          "metadata": {}
        },
        {
          "output_type": "display_data",
          "data": {
            "text/plain": [
              "<IPython.core.display.HTML object>"
            ],
            "text/html": [
              "Syncing run <strong><a href='https://wandb.ai/atds_ml/lenet_5/runs/5p931ctz' target=\"_blank\">robust-sweep-5</a></strong> to <a href='https://wandb.ai/atds_ml/lenet_5' target=\"_blank\">Weights & Biases</a> (<a href='https://wandb.me/run' target=\"_blank\">docs</a>)<br/>Sweep page: <a href='https://wandb.ai/atds_ml/lenet_5/sweeps/f87hyidm' target=\"_blank\">https://wandb.ai/atds_ml/lenet_5/sweeps/f87hyidm</a>"
            ]
          },
          "metadata": {}
        },
        {
          "output_type": "display_data",
          "data": {
            "text/plain": [
              "<IPython.core.display.HTML object>"
            ],
            "text/html": [
              " View project at <a href='https://wandb.ai/atds_ml/lenet_5' target=\"_blank\">https://wandb.ai/atds_ml/lenet_5</a>"
            ]
          },
          "metadata": {}
        },
        {
          "output_type": "display_data",
          "data": {
            "text/plain": [
              "<IPython.core.display.HTML object>"
            ],
            "text/html": [
              " View sweep at <a href='https://wandb.ai/atds_ml/lenet_5/sweeps/f87hyidm' target=\"_blank\">https://wandb.ai/atds_ml/lenet_5/sweeps/f87hyidm</a>"
            ]
          },
          "metadata": {}
        },
        {
          "output_type": "display_data",
          "data": {
            "text/plain": [
              "<IPython.core.display.HTML object>"
            ],
            "text/html": [
              " View run at <a href='https://wandb.ai/atds_ml/lenet_5/runs/5p931ctz' target=\"_blank\">https://wandb.ai/atds_ml/lenet_5/runs/5p931ctz</a>"
            ]
          },
          "metadata": {}
        },
        {
          "output_type": "stream",
          "name": "stdout",
          "text": [
            "X_train.shape torch.Size([31367, 3, 30, 30])\n",
            "X_valid.shape torch.Size([7842, 3, 30, 30])\n",
            "y_train.shape torch.Size([31367])\n",
            "y_valid.shape torch.Size([7842])\n"
          ]
        },
        {
          "output_type": "display_data",
          "data": {
            "text/plain": [
              "<IPython.core.display.HTML object>"
            ],
            "text/html": [
              "Waiting for W&B process to finish... <strong style=\"color:green\">(success).</strong>"
            ]
          },
          "metadata": {}
        },
        {
          "output_type": "display_data",
          "data": {
            "text/plain": [
              "VBox(children=(Label(value='0.001 MB of 0.002 MB uploaded (0.000 MB deduped)\\r'), FloatProgress(value=0.528140…"
            ],
            "application/vnd.jupyter.widget-view+json": {
              "version_major": 2,
              "version_minor": 0,
              "model_id": "52308f34a55b48eda7c2865c57139a66"
            }
          },
          "metadata": {}
        },
        {
          "output_type": "display_data",
          "data": {
            "text/plain": [
              "<IPython.core.display.HTML object>"
            ],
            "text/html": [
              "<style>\n",
              "    table.wandb td:nth-child(1) { padding: 0 10px; text-align: left ; width: auto;} td:nth-child(2) {text-align: left ; width: 100%}\n",
              "    .wandb-row { display: flex; flex-direction: row; flex-wrap: wrap; justify-content: flex-start; width: 100% }\n",
              "    .wandb-col { display: flex; flex-direction: column; flex-basis: 100%; flex: 1; padding: 10px; }\n",
              "    </style>\n",
              "<div class=\"wandb-row\"><div class=\"wandb-col\"><h3>Run history:</h3><br/><table class=\"wandb\"><tr><td>accuracy</td><td>▁▂▃▄▄▄▅▆▆▇▇▇███</td></tr><tr><td>epoch</td><td>▁▁▂▃▃▃▄▅▅▅▆▇▇▇█</td></tr><tr><td>learning_rate</td><td>▁▁▁▁▁▁▁▁▁▁▁▁▁▁▁</td></tr><tr><td>loss</td><td>██▆▆▆▅▄▃▃▂▂▂▁▂▁</td></tr></table><br/></div><div class=\"wandb-col\"><h3>Run summary:</h3><br/><table class=\"wandb\"><tr><td>accuracy</td><td>23.99898</td></tr><tr><td>epoch</td><td>14</td></tr><tr><td>learning_rate</td><td>0.00071</td></tr><tr><td>loss</td><td>3.56772</td></tr><tr><td>optimizer</td><td>sgd</td></tr></table><br/></div></div>"
            ]
          },
          "metadata": {}
        },
        {
          "output_type": "display_data",
          "data": {
            "text/plain": [
              "<IPython.core.display.HTML object>"
            ],
            "text/html": [
              " View run <strong style=\"color:#cdcd00\">robust-sweep-5</strong> at: <a href='https://wandb.ai/atds_ml/lenet_5/runs/5p931ctz' target=\"_blank\">https://wandb.ai/atds_ml/lenet_5/runs/5p931ctz</a><br/>Synced 5 W&B file(s), 0 media file(s), 0 artifact file(s) and 0 other file(s)"
            ]
          },
          "metadata": {}
        },
        {
          "output_type": "display_data",
          "data": {
            "text/plain": [
              "<IPython.core.display.HTML object>"
            ],
            "text/html": [
              "Find logs at: <code>./wandb/run-20230508_164744-5p931ctz/logs</code>"
            ]
          },
          "metadata": {}
        },
        {
          "output_type": "stream",
          "name": "stderr",
          "text": [
            "\u001b[34m\u001b[1mwandb\u001b[0m: Agent Starting Run: lk5w1g14 with config:\n",
            "\u001b[34m\u001b[1mwandb\u001b[0m: \tepochs: 15\n",
            "\u001b[34m\u001b[1mwandb\u001b[0m: \tlearning_rate: 0.00016979199271617917\n",
            "\u001b[34m\u001b[1mwandb\u001b[0m: \toptimizer: sgd\n"
          ]
        },
        {
          "output_type": "display_data",
          "data": {
            "text/plain": [
              "<IPython.core.display.HTML object>"
            ],
            "text/html": [
              "Tracking run with wandb version 0.15.2"
            ]
          },
          "metadata": {}
        },
        {
          "output_type": "display_data",
          "data": {
            "text/plain": [
              "<IPython.core.display.HTML object>"
            ],
            "text/html": [
              "Run data is saved locally in <code>/content/wandb/run-20230508_165011-lk5w1g14</code>"
            ]
          },
          "metadata": {}
        },
        {
          "output_type": "display_data",
          "data": {
            "text/plain": [
              "<IPython.core.display.HTML object>"
            ],
            "text/html": [
              "Syncing run <strong><a href='https://wandb.ai/atds_ml/lenet_5/runs/lk5w1g14' target=\"_blank\">royal-sweep-6</a></strong> to <a href='https://wandb.ai/atds_ml/lenet_5' target=\"_blank\">Weights & Biases</a> (<a href='https://wandb.me/run' target=\"_blank\">docs</a>)<br/>Sweep page: <a href='https://wandb.ai/atds_ml/lenet_5/sweeps/f87hyidm' target=\"_blank\">https://wandb.ai/atds_ml/lenet_5/sweeps/f87hyidm</a>"
            ]
          },
          "metadata": {}
        },
        {
          "output_type": "display_data",
          "data": {
            "text/plain": [
              "<IPython.core.display.HTML object>"
            ],
            "text/html": [
              " View project at <a href='https://wandb.ai/atds_ml/lenet_5' target=\"_blank\">https://wandb.ai/atds_ml/lenet_5</a>"
            ]
          },
          "metadata": {}
        },
        {
          "output_type": "display_data",
          "data": {
            "text/plain": [
              "<IPython.core.display.HTML object>"
            ],
            "text/html": [
              " View sweep at <a href='https://wandb.ai/atds_ml/lenet_5/sweeps/f87hyidm' target=\"_blank\">https://wandb.ai/atds_ml/lenet_5/sweeps/f87hyidm</a>"
            ]
          },
          "metadata": {}
        },
        {
          "output_type": "display_data",
          "data": {
            "text/plain": [
              "<IPython.core.display.HTML object>"
            ],
            "text/html": [
              " View run at <a href='https://wandb.ai/atds_ml/lenet_5/runs/lk5w1g14' target=\"_blank\">https://wandb.ai/atds_ml/lenet_5/runs/lk5w1g14</a>"
            ]
          },
          "metadata": {}
        },
        {
          "output_type": "stream",
          "name": "stdout",
          "text": [
            "X_train.shape torch.Size([31367, 3, 30, 30])\n",
            "X_valid.shape torch.Size([7842, 3, 30, 30])\n",
            "y_train.shape torch.Size([31367])\n",
            "y_valid.shape torch.Size([7842])\n"
          ]
        },
        {
          "output_type": "display_data",
          "data": {
            "text/plain": [
              "<IPython.core.display.HTML object>"
            ],
            "text/html": [
              "Waiting for W&B process to finish... <strong style=\"color:green\">(success).</strong>"
            ]
          },
          "metadata": {}
        },
        {
          "output_type": "display_data",
          "data": {
            "text/plain": [
              "VBox(children=(Label(value='0.001 MB of 0.002 MB uploaded (0.000 MB deduped)\\r'), FloatProgress(value=0.527902…"
            ],
            "application/vnd.jupyter.widget-view+json": {
              "version_major": 2,
              "version_minor": 0,
              "model_id": "c59f3eb009fb41e89eb3818d9c2540ea"
            }
          },
          "metadata": {}
        },
        {
          "output_type": "display_data",
          "data": {
            "text/plain": [
              "<IPython.core.display.HTML object>"
            ],
            "text/html": [
              "<style>\n",
              "    table.wandb td:nth-child(1) { padding: 0 10px; text-align: left ; width: auto;} td:nth-child(2) {text-align: left ; width: 100%}\n",
              "    .wandb-row { display: flex; flex-direction: row; flex-wrap: wrap; justify-content: flex-start; width: 100% }\n",
              "    .wandb-col { display: flex; flex-direction: column; flex-basis: 100%; flex: 1; padding: 10px; }\n",
              "    </style>\n",
              "<div class=\"wandb-row\"><div class=\"wandb-col\"><h3>Run history:</h3><br/><table class=\"wandb\"><tr><td>accuracy</td><td>▁▂▂▃▄▄▅▅▆▆▇▆▇██</td></tr><tr><td>epoch</td><td>▁▁▂▃▃▃▄▅▅▅▆▇▇▇█</td></tr><tr><td>learning_rate</td><td>▁▁▁▁▁▁▁▁▁▁▁▁▁▁▁</td></tr><tr><td>loss</td><td>█▅▅▄▄▅▄▃▂▃▃▃▁▁▁</td></tr></table><br/></div><div class=\"wandb-col\"><h3>Run summary:</h3><br/><table class=\"wandb\"><tr><td>accuracy</td><td>11.84647</td></tr><tr><td>epoch</td><td>14</td></tr><tr><td>learning_rate</td><td>0.00017</td></tr><tr><td>loss</td><td>5.03581</td></tr><tr><td>optimizer</td><td>sgd</td></tr></table><br/></div></div>"
            ]
          },
          "metadata": {}
        },
        {
          "output_type": "display_data",
          "data": {
            "text/plain": [
              "<IPython.core.display.HTML object>"
            ],
            "text/html": [
              " View run <strong style=\"color:#cdcd00\">royal-sweep-6</strong> at: <a href='https://wandb.ai/atds_ml/lenet_5/runs/lk5w1g14' target=\"_blank\">https://wandb.ai/atds_ml/lenet_5/runs/lk5w1g14</a><br/>Synced 5 W&B file(s), 0 media file(s), 0 artifact file(s) and 0 other file(s)"
            ]
          },
          "metadata": {}
        },
        {
          "output_type": "display_data",
          "data": {
            "text/plain": [
              "<IPython.core.display.HTML object>"
            ],
            "text/html": [
              "Find logs at: <code>./wandb/run-20230508_165011-lk5w1g14/logs</code>"
            ]
          },
          "metadata": {}
        },
        {
          "output_type": "stream",
          "name": "stderr",
          "text": [
            "\u001b[34m\u001b[1mwandb\u001b[0m: Agent Starting Run: xvwksugc with config:\n",
            "\u001b[34m\u001b[1mwandb\u001b[0m: \tepochs: 15\n",
            "\u001b[34m\u001b[1mwandb\u001b[0m: \tlearning_rate: 0.00042990897629118023\n",
            "\u001b[34m\u001b[1mwandb\u001b[0m: \toptimizer: adam\n"
          ]
        },
        {
          "output_type": "display_data",
          "data": {
            "text/plain": [
              "<IPython.core.display.HTML object>"
            ],
            "text/html": [
              "Tracking run with wandb version 0.15.2"
            ]
          },
          "metadata": {}
        },
        {
          "output_type": "display_data",
          "data": {
            "text/plain": [
              "<IPython.core.display.HTML object>"
            ],
            "text/html": [
              "Run data is saved locally in <code>/content/wandb/run-20230508_165237-xvwksugc</code>"
            ]
          },
          "metadata": {}
        },
        {
          "output_type": "display_data",
          "data": {
            "text/plain": [
              "<IPython.core.display.HTML object>"
            ],
            "text/html": [
              "Syncing run <strong><a href='https://wandb.ai/atds_ml/lenet_5/runs/xvwksugc' target=\"_blank\">glowing-sweep-7</a></strong> to <a href='https://wandb.ai/atds_ml/lenet_5' target=\"_blank\">Weights & Biases</a> (<a href='https://wandb.me/run' target=\"_blank\">docs</a>)<br/>Sweep page: <a href='https://wandb.ai/atds_ml/lenet_5/sweeps/f87hyidm' target=\"_blank\">https://wandb.ai/atds_ml/lenet_5/sweeps/f87hyidm</a>"
            ]
          },
          "metadata": {}
        },
        {
          "output_type": "display_data",
          "data": {
            "text/plain": [
              "<IPython.core.display.HTML object>"
            ],
            "text/html": [
              " View project at <a href='https://wandb.ai/atds_ml/lenet_5' target=\"_blank\">https://wandb.ai/atds_ml/lenet_5</a>"
            ]
          },
          "metadata": {}
        },
        {
          "output_type": "display_data",
          "data": {
            "text/plain": [
              "<IPython.core.display.HTML object>"
            ],
            "text/html": [
              " View sweep at <a href='https://wandb.ai/atds_ml/lenet_5/sweeps/f87hyidm' target=\"_blank\">https://wandb.ai/atds_ml/lenet_5/sweeps/f87hyidm</a>"
            ]
          },
          "metadata": {}
        },
        {
          "output_type": "display_data",
          "data": {
            "text/plain": [
              "<IPython.core.display.HTML object>"
            ],
            "text/html": [
              " View run at <a href='https://wandb.ai/atds_ml/lenet_5/runs/xvwksugc' target=\"_blank\">https://wandb.ai/atds_ml/lenet_5/runs/xvwksugc</a>"
            ]
          },
          "metadata": {}
        },
        {
          "output_type": "stream",
          "name": "stdout",
          "text": [
            "X_train.shape torch.Size([31367, 3, 30, 30])\n",
            "X_valid.shape torch.Size([7842, 3, 30, 30])\n",
            "y_train.shape torch.Size([31367])\n",
            "y_valid.shape torch.Size([7842])\n"
          ]
        },
        {
          "output_type": "display_data",
          "data": {
            "text/plain": [
              "<IPython.core.display.HTML object>"
            ],
            "text/html": [
              "Waiting for W&B process to finish... <strong style=\"color:green\">(success).</strong>"
            ]
          },
          "metadata": {}
        },
        {
          "output_type": "display_data",
          "data": {
            "text/plain": [
              "<IPython.core.display.HTML object>"
            ],
            "text/html": [
              "<style>\n",
              "    table.wandb td:nth-child(1) { padding: 0 10px; text-align: left ; width: auto;} td:nth-child(2) {text-align: left ; width: 100%}\n",
              "    .wandb-row { display: flex; flex-direction: row; flex-wrap: wrap; justify-content: flex-start; width: 100% }\n",
              "    .wandb-col { display: flex; flex-direction: column; flex-basis: 100%; flex: 1; padding: 10px; }\n",
              "    </style>\n",
              "<div class=\"wandb-row\"><div class=\"wandb-col\"><h3>Run history:</h3><br/><table class=\"wandb\"><tr><td>accuracy</td><td>▁▂▃▄▅▆▆▆▇▇▇▇███</td></tr><tr><td>epoch</td><td>▁▁▂▃▃▃▄▅▅▅▆▇▇▇█</td></tr><tr><td>learning_rate</td><td>▁▁▁▁▁▁▁▁▁▁▁▁▁▁▁</td></tr><tr><td>loss</td><td>█▆▅▄▃▃▂▂▂▂▂▁▁▁▁</td></tr></table><br/></div><div class=\"wandb-col\"><h3>Run summary:</h3><br/><table class=\"wandb\"><tr><td>accuracy</td><td>38.35756</td></tr><tr><td>epoch</td><td>14</td></tr><tr><td>learning_rate</td><td>0.00043</td></tr><tr><td>loss</td><td>2.4656</td></tr><tr><td>optimizer</td><td>adam</td></tr></table><br/></div></div>"
            ]
          },
          "metadata": {}
        },
        {
          "output_type": "display_data",
          "data": {
            "text/plain": [
              "<IPython.core.display.HTML object>"
            ],
            "text/html": [
              " View run <strong style=\"color:#cdcd00\">glowing-sweep-7</strong> at: <a href='https://wandb.ai/atds_ml/lenet_5/runs/xvwksugc' target=\"_blank\">https://wandb.ai/atds_ml/lenet_5/runs/xvwksugc</a><br/>Synced 5 W&B file(s), 0 media file(s), 0 artifact file(s) and 0 other file(s)"
            ]
          },
          "metadata": {}
        },
        {
          "output_type": "display_data",
          "data": {
            "text/plain": [
              "<IPython.core.display.HTML object>"
            ],
            "text/html": [
              "Find logs at: <code>./wandb/run-20230508_165237-xvwksugc/logs</code>"
            ]
          },
          "metadata": {}
        },
        {
          "output_type": "stream",
          "name": "stderr",
          "text": [
            "\u001b[34m\u001b[1mwandb\u001b[0m: Agent Starting Run: dvb82ctc with config:\n",
            "\u001b[34m\u001b[1mwandb\u001b[0m: \tepochs: 15\n",
            "\u001b[34m\u001b[1mwandb\u001b[0m: \tlearning_rate: 0.00032381335531469157\n",
            "\u001b[34m\u001b[1mwandb\u001b[0m: \toptimizer: adam\n"
          ]
        },
        {
          "output_type": "display_data",
          "data": {
            "text/plain": [
              "<IPython.core.display.HTML object>"
            ],
            "text/html": [
              "Tracking run with wandb version 0.15.2"
            ]
          },
          "metadata": {}
        },
        {
          "output_type": "display_data",
          "data": {
            "text/plain": [
              "<IPython.core.display.HTML object>"
            ],
            "text/html": [
              "Run data is saved locally in <code>/content/wandb/run-20230508_165509-dvb82ctc</code>"
            ]
          },
          "metadata": {}
        },
        {
          "output_type": "display_data",
          "data": {
            "text/plain": [
              "<IPython.core.display.HTML object>"
            ],
            "text/html": [
              "Syncing run <strong><a href='https://wandb.ai/atds_ml/lenet_5/runs/dvb82ctc' target=\"_blank\">genial-sweep-8</a></strong> to <a href='https://wandb.ai/atds_ml/lenet_5' target=\"_blank\">Weights & Biases</a> (<a href='https://wandb.me/run' target=\"_blank\">docs</a>)<br/>Sweep page: <a href='https://wandb.ai/atds_ml/lenet_5/sweeps/f87hyidm' target=\"_blank\">https://wandb.ai/atds_ml/lenet_5/sweeps/f87hyidm</a>"
            ]
          },
          "metadata": {}
        },
        {
          "output_type": "display_data",
          "data": {
            "text/plain": [
              "<IPython.core.display.HTML object>"
            ],
            "text/html": [
              " View project at <a href='https://wandb.ai/atds_ml/lenet_5' target=\"_blank\">https://wandb.ai/atds_ml/lenet_5</a>"
            ]
          },
          "metadata": {}
        },
        {
          "output_type": "display_data",
          "data": {
            "text/plain": [
              "<IPython.core.display.HTML object>"
            ],
            "text/html": [
              " View sweep at <a href='https://wandb.ai/atds_ml/lenet_5/sweeps/f87hyidm' target=\"_blank\">https://wandb.ai/atds_ml/lenet_5/sweeps/f87hyidm</a>"
            ]
          },
          "metadata": {}
        },
        {
          "output_type": "display_data",
          "data": {
            "text/plain": [
              "<IPython.core.display.HTML object>"
            ],
            "text/html": [
              " View run at <a href='https://wandb.ai/atds_ml/lenet_5/runs/dvb82ctc' target=\"_blank\">https://wandb.ai/atds_ml/lenet_5/runs/dvb82ctc</a>"
            ]
          },
          "metadata": {}
        },
        {
          "output_type": "stream",
          "name": "stdout",
          "text": [
            "X_train.shape torch.Size([31367, 3, 30, 30])\n",
            "X_valid.shape torch.Size([7842, 3, 30, 30])\n",
            "y_train.shape torch.Size([31367])\n",
            "y_valid.shape torch.Size([7842])\n"
          ]
        },
        {
          "output_type": "display_data",
          "data": {
            "text/plain": [
              "<IPython.core.display.HTML object>"
            ],
            "text/html": [
              "Waiting for W&B process to finish... <strong style=\"color:green\">(success).</strong>"
            ]
          },
          "metadata": {}
        },
        {
          "output_type": "display_data",
          "data": {
            "text/plain": [
              "VBox(children=(Label(value='0.001 MB of 0.001 MB uploaded (0.000 MB deduped)\\r'), FloatProgress(value=1.0, max…"
            ],
            "application/vnd.jupyter.widget-view+json": {
              "version_major": 2,
              "version_minor": 0,
              "model_id": "434f18751d084703832171e38d325a35"
            }
          },
          "metadata": {}
        },
        {
          "output_type": "display_data",
          "data": {
            "text/plain": [
              "<IPython.core.display.HTML object>"
            ],
            "text/html": [
              "<style>\n",
              "    table.wandb td:nth-child(1) { padding: 0 10px; text-align: left ; width: auto;} td:nth-child(2) {text-align: left ; width: 100%}\n",
              "    .wandb-row { display: flex; flex-direction: row; flex-wrap: wrap; justify-content: flex-start; width: 100% }\n",
              "    .wandb-col { display: flex; flex-direction: column; flex-basis: 100%; flex: 1; padding: 10px; }\n",
              "    </style>\n",
              "<div class=\"wandb-row\"><div class=\"wandb-col\"><h3>Run history:</h3><br/><table class=\"wandb\"><tr><td>accuracy</td><td>▁▃▃▄▅▆▆▆▇▇▇▇███</td></tr><tr><td>epoch</td><td>▁▁▂▃▃▃▄▅▅▅▆▇▇▇█</td></tr><tr><td>learning_rate</td><td>▁▁▁▁▁▁▁▁▁▁▁▁▁▁▁</td></tr><tr><td>loss</td><td>█▆▅▄▃▂▃▃▂▂▁▁▁▁▂</td></tr></table><br/></div><div class=\"wandb-col\"><h3>Run summary:</h3><br/><table class=\"wandb\"><tr><td>accuracy</td><td>35.81994</td></tr><tr><td>epoch</td><td>14</td></tr><tr><td>learning_rate</td><td>0.00032</td></tr><tr><td>loss</td><td>2.88313</td></tr><tr><td>optimizer</td><td>adam</td></tr></table><br/></div></div>"
            ]
          },
          "metadata": {}
        },
        {
          "output_type": "display_data",
          "data": {
            "text/plain": [
              "<IPython.core.display.HTML object>"
            ],
            "text/html": [
              " View run <strong style=\"color:#cdcd00\">genial-sweep-8</strong> at: <a href='https://wandb.ai/atds_ml/lenet_5/runs/dvb82ctc' target=\"_blank\">https://wandb.ai/atds_ml/lenet_5/runs/dvb82ctc</a><br/>Synced 5 W&B file(s), 0 media file(s), 0 artifact file(s) and 0 other file(s)"
            ]
          },
          "metadata": {}
        },
        {
          "output_type": "display_data",
          "data": {
            "text/plain": [
              "<IPython.core.display.HTML object>"
            ],
            "text/html": [
              "Find logs at: <code>./wandb/run-20230508_165509-dvb82ctc/logs</code>"
            ]
          },
          "metadata": {}
        },
        {
          "output_type": "stream",
          "name": "stderr",
          "text": [
            "\u001b[34m\u001b[1mwandb\u001b[0m: Agent Starting Run: yuovbbpm with config:\n",
            "\u001b[34m\u001b[1mwandb\u001b[0m: \tepochs: 15\n",
            "\u001b[34m\u001b[1mwandb\u001b[0m: \tlearning_rate: 0.0004777203087302998\n",
            "\u001b[34m\u001b[1mwandb\u001b[0m: \toptimizer: sgd\n"
          ]
        },
        {
          "output_type": "display_data",
          "data": {
            "text/plain": [
              "<IPython.core.display.HTML object>"
            ],
            "text/html": [
              "Tracking run with wandb version 0.15.2"
            ]
          },
          "metadata": {}
        },
        {
          "output_type": "display_data",
          "data": {
            "text/plain": [
              "<IPython.core.display.HTML object>"
            ],
            "text/html": [
              "Run data is saved locally in <code>/content/wandb/run-20230508_165743-yuovbbpm</code>"
            ]
          },
          "metadata": {}
        },
        {
          "output_type": "display_data",
          "data": {
            "text/plain": [
              "<IPython.core.display.HTML object>"
            ],
            "text/html": [
              "Syncing run <strong><a href='https://wandb.ai/atds_ml/lenet_5/runs/yuovbbpm' target=\"_blank\">peachy-sweep-9</a></strong> to <a href='https://wandb.ai/atds_ml/lenet_5' target=\"_blank\">Weights & Biases</a> (<a href='https://wandb.me/run' target=\"_blank\">docs</a>)<br/>Sweep page: <a href='https://wandb.ai/atds_ml/lenet_5/sweeps/f87hyidm' target=\"_blank\">https://wandb.ai/atds_ml/lenet_5/sweeps/f87hyidm</a>"
            ]
          },
          "metadata": {}
        },
        {
          "output_type": "display_data",
          "data": {
            "text/plain": [
              "<IPython.core.display.HTML object>"
            ],
            "text/html": [
              " View project at <a href='https://wandb.ai/atds_ml/lenet_5' target=\"_blank\">https://wandb.ai/atds_ml/lenet_5</a>"
            ]
          },
          "metadata": {}
        },
        {
          "output_type": "display_data",
          "data": {
            "text/plain": [
              "<IPython.core.display.HTML object>"
            ],
            "text/html": [
              " View sweep at <a href='https://wandb.ai/atds_ml/lenet_5/sweeps/f87hyidm' target=\"_blank\">https://wandb.ai/atds_ml/lenet_5/sweeps/f87hyidm</a>"
            ]
          },
          "metadata": {}
        },
        {
          "output_type": "display_data",
          "data": {
            "text/plain": [
              "<IPython.core.display.HTML object>"
            ],
            "text/html": [
              " View run at <a href='https://wandb.ai/atds_ml/lenet_5/runs/yuovbbpm' target=\"_blank\">https://wandb.ai/atds_ml/lenet_5/runs/yuovbbpm</a>"
            ]
          },
          "metadata": {}
        },
        {
          "output_type": "stream",
          "name": "stdout",
          "text": [
            "X_train.shape torch.Size([31367, 3, 30, 30])\n",
            "X_valid.shape torch.Size([7842, 3, 30, 30])\n",
            "y_train.shape torch.Size([31367])\n",
            "y_valid.shape torch.Size([7842])\n"
          ]
        },
        {
          "output_type": "display_data",
          "data": {
            "text/plain": [
              "<IPython.core.display.HTML object>"
            ],
            "text/html": [
              "Waiting for W&B process to finish... <strong style=\"color:green\">(success).</strong>"
            ]
          },
          "metadata": {}
        },
        {
          "output_type": "display_data",
          "data": {
            "text/plain": [
              "VBox(children=(Label(value='0.001 MB of 0.001 MB uploaded (0.000 MB deduped)\\r'), FloatProgress(value=1.0, max…"
            ],
            "application/vnd.jupyter.widget-view+json": {
              "version_major": 2,
              "version_minor": 0,
              "model_id": "d41d25c948b24ecdbb89a48e06110f9e"
            }
          },
          "metadata": {}
        },
        {
          "output_type": "display_data",
          "data": {
            "text/plain": [
              "<IPython.core.display.HTML object>"
            ],
            "text/html": [
              "<style>\n",
              "    table.wandb td:nth-child(1) { padding: 0 10px; text-align: left ; width: auto;} td:nth-child(2) {text-align: left ; width: 100%}\n",
              "    .wandb-row { display: flex; flex-direction: row; flex-wrap: wrap; justify-content: flex-start; width: 100% }\n",
              "    .wandb-col { display: flex; flex-direction: column; flex-basis: 100%; flex: 1; padding: 10px; }\n",
              "    </style>\n",
              "<div class=\"wandb-row\"><div class=\"wandb-col\"><h3>Run history:</h3><br/><table class=\"wandb\"><tr><td>accuracy</td><td>▁▂▃▃▄▄▅▆▆▆▇▇▇██</td></tr><tr><td>epoch</td><td>▁▁▂▃▃▃▄▅▅▅▆▇▇▇█</td></tr><tr><td>learning_rate</td><td>▁▁▁▁▁▁▁▁▁▁▁▁▁▁▁</td></tr><tr><td>loss</td><td>██▆▆▆▃▃▃▂▂▂▂▂▁▁</td></tr></table><br/></div><div class=\"wandb-col\"><h3>Run summary:</h3><br/><table class=\"wandb\"><tr><td>accuracy</td><td>21.75465</td></tr><tr><td>epoch</td><td>14</td></tr><tr><td>learning_rate</td><td>0.00048</td></tr><tr><td>loss</td><td>3.79939</td></tr><tr><td>optimizer</td><td>sgd</td></tr></table><br/></div></div>"
            ]
          },
          "metadata": {}
        },
        {
          "output_type": "display_data",
          "data": {
            "text/plain": [
              "<IPython.core.display.HTML object>"
            ],
            "text/html": [
              " View run <strong style=\"color:#cdcd00\">peachy-sweep-9</strong> at: <a href='https://wandb.ai/atds_ml/lenet_5/runs/yuovbbpm' target=\"_blank\">https://wandb.ai/atds_ml/lenet_5/runs/yuovbbpm</a><br/>Synced 5 W&B file(s), 0 media file(s), 0 artifact file(s) and 0 other file(s)"
            ]
          },
          "metadata": {}
        },
        {
          "output_type": "display_data",
          "data": {
            "text/plain": [
              "<IPython.core.display.HTML object>"
            ],
            "text/html": [
              "Find logs at: <code>./wandb/run-20230508_165743-yuovbbpm/logs</code>"
            ]
          },
          "metadata": {}
        },
        {
          "output_type": "stream",
          "name": "stderr",
          "text": [
            "\u001b[34m\u001b[1mwandb\u001b[0m: Sweep Agent: Waiting for job.\n",
            "\u001b[34m\u001b[1mwandb\u001b[0m: Job received.\n",
            "\u001b[34m\u001b[1mwandb\u001b[0m: Agent Starting Run: 3mtgkx9o with config:\n",
            "\u001b[34m\u001b[1mwandb\u001b[0m: \tepochs: 15\n",
            "\u001b[34m\u001b[1mwandb\u001b[0m: \tlearning_rate: 0.0007324062051065244\n",
            "\u001b[34m\u001b[1mwandb\u001b[0m: \toptimizer: adam\n"
          ]
        },
        {
          "output_type": "display_data",
          "data": {
            "text/plain": [
              "<IPython.core.display.HTML object>"
            ],
            "text/html": [
              "Tracking run with wandb version 0.15.2"
            ]
          },
          "metadata": {}
        },
        {
          "output_type": "display_data",
          "data": {
            "text/plain": [
              "<IPython.core.display.HTML object>"
            ],
            "text/html": [
              "Run data is saved locally in <code>/content/wandb/run-20230508_170020-3mtgkx9o</code>"
            ]
          },
          "metadata": {}
        },
        {
          "output_type": "display_data",
          "data": {
            "text/plain": [
              "<IPython.core.display.HTML object>"
            ],
            "text/html": [
              "Syncing run <strong><a href='https://wandb.ai/atds_ml/lenet_5/runs/3mtgkx9o' target=\"_blank\">celestial-sweep-10</a></strong> to <a href='https://wandb.ai/atds_ml/lenet_5' target=\"_blank\">Weights & Biases</a> (<a href='https://wandb.me/run' target=\"_blank\">docs</a>)<br/>Sweep page: <a href='https://wandb.ai/atds_ml/lenet_5/sweeps/f87hyidm' target=\"_blank\">https://wandb.ai/atds_ml/lenet_5/sweeps/f87hyidm</a>"
            ]
          },
          "metadata": {}
        },
        {
          "output_type": "display_data",
          "data": {
            "text/plain": [
              "<IPython.core.display.HTML object>"
            ],
            "text/html": [
              " View project at <a href='https://wandb.ai/atds_ml/lenet_5' target=\"_blank\">https://wandb.ai/atds_ml/lenet_5</a>"
            ]
          },
          "metadata": {}
        },
        {
          "output_type": "display_data",
          "data": {
            "text/plain": [
              "<IPython.core.display.HTML object>"
            ],
            "text/html": [
              " View sweep at <a href='https://wandb.ai/atds_ml/lenet_5/sweeps/f87hyidm' target=\"_blank\">https://wandb.ai/atds_ml/lenet_5/sweeps/f87hyidm</a>"
            ]
          },
          "metadata": {}
        },
        {
          "output_type": "display_data",
          "data": {
            "text/plain": [
              "<IPython.core.display.HTML object>"
            ],
            "text/html": [
              " View run at <a href='https://wandb.ai/atds_ml/lenet_5/runs/3mtgkx9o' target=\"_blank\">https://wandb.ai/atds_ml/lenet_5/runs/3mtgkx9o</a>"
            ]
          },
          "metadata": {}
        },
        {
          "output_type": "stream",
          "name": "stdout",
          "text": [
            "X_train.shape torch.Size([31367, 3, 30, 30])\n",
            "X_valid.shape torch.Size([7842, 3, 30, 30])\n",
            "y_train.shape torch.Size([31367])\n",
            "y_valid.shape torch.Size([7842])\n"
          ]
        },
        {
          "output_type": "display_data",
          "data": {
            "text/plain": [
              "<IPython.core.display.HTML object>"
            ],
            "text/html": [
              "Waiting for W&B process to finish... <strong style=\"color:green\">(success).</strong>"
            ]
          },
          "metadata": {}
        },
        {
          "output_type": "display_data",
          "data": {
            "text/plain": [
              "VBox(children=(Label(value='0.001 MB of 0.001 MB uploaded (0.000 MB deduped)\\r'), FloatProgress(value=1.0, max…"
            ],
            "application/vnd.jupyter.widget-view+json": {
              "version_major": 2,
              "version_minor": 0,
              "model_id": "a4e4f3966bca4d4aa5a9831dabb93531"
            }
          },
          "metadata": {}
        },
        {
          "output_type": "display_data",
          "data": {
            "text/plain": [
              "<IPython.core.display.HTML object>"
            ],
            "text/html": [
              "<style>\n",
              "    table.wandb td:nth-child(1) { padding: 0 10px; text-align: left ; width: auto;} td:nth-child(2) {text-align: left ; width: 100%}\n",
              "    .wandb-row { display: flex; flex-direction: row; flex-wrap: wrap; justify-content: flex-start; width: 100% }\n",
              "    .wandb-col { display: flex; flex-direction: column; flex-basis: 100%; flex: 1; padding: 10px; }\n",
              "    </style>\n",
              "<div class=\"wandb-row\"><div class=\"wandb-col\"><h3>Run history:</h3><br/><table class=\"wandb\"><tr><td>accuracy</td><td>▁▃▄▅▅▆▆▇▇▇▇████</td></tr><tr><td>epoch</td><td>▁▁▂▃▃▃▄▅▅▅▆▇▇▇█</td></tr><tr><td>learning_rate</td><td>▁▁▁▁▁▁▁▁▁▁▁▁▁▁▁</td></tr><tr><td>loss</td><td>█▇▅▄▃▂▂▂▂▂▁▁▁▂▁</td></tr></table><br/></div><div class=\"wandb-col\"><h3>Run summary:</h3><br/><table class=\"wandb\"><tr><td>accuracy</td><td>40.79317</td></tr><tr><td>epoch</td><td>14</td></tr><tr><td>learning_rate</td><td>0.00073</td></tr><tr><td>loss</td><td>2.17963</td></tr><tr><td>optimizer</td><td>adam</td></tr></table><br/></div></div>"
            ]
          },
          "metadata": {}
        },
        {
          "output_type": "display_data",
          "data": {
            "text/plain": [
              "<IPython.core.display.HTML object>"
            ],
            "text/html": [
              " View run <strong style=\"color:#cdcd00\">celestial-sweep-10</strong> at: <a href='https://wandb.ai/atds_ml/lenet_5/runs/3mtgkx9o' target=\"_blank\">https://wandb.ai/atds_ml/lenet_5/runs/3mtgkx9o</a><br/>Synced 5 W&B file(s), 0 media file(s), 0 artifact file(s) and 0 other file(s)"
            ]
          },
          "metadata": {}
        },
        {
          "output_type": "display_data",
          "data": {
            "text/plain": [
              "<IPython.core.display.HTML object>"
            ],
            "text/html": [
              "Find logs at: <code>./wandb/run-20230508_170020-3mtgkx9o/logs</code>"
            ]
          },
          "metadata": {}
        },
        {
          "output_type": "stream",
          "name": "stderr",
          "text": [
            "\u001b[34m\u001b[1mwandb\u001b[0m: Sweep Agent: Waiting for job.\n",
            "\u001b[34m\u001b[1mwandb\u001b[0m: Job received.\n",
            "\u001b[34m\u001b[1mwandb\u001b[0m: Agent Starting Run: w6ug1da0 with config:\n",
            "\u001b[34m\u001b[1mwandb\u001b[0m: \tepochs: 15\n",
            "\u001b[34m\u001b[1mwandb\u001b[0m: \tlearning_rate: 0.0003633891159889132\n",
            "\u001b[34m\u001b[1mwandb\u001b[0m: \toptimizer: sgd\n"
          ]
        },
        {
          "output_type": "display_data",
          "data": {
            "text/plain": [
              "<IPython.core.display.HTML object>"
            ],
            "text/html": [
              "Tracking run with wandb version 0.15.2"
            ]
          },
          "metadata": {}
        },
        {
          "output_type": "display_data",
          "data": {
            "text/plain": [
              "<IPython.core.display.HTML object>"
            ],
            "text/html": [
              "Run data is saved locally in <code>/content/wandb/run-20230508_170257-w6ug1da0</code>"
            ]
          },
          "metadata": {}
        },
        {
          "output_type": "display_data",
          "data": {
            "text/plain": [
              "<IPython.core.display.HTML object>"
            ],
            "text/html": [
              "Syncing run <strong><a href='https://wandb.ai/atds_ml/lenet_5/runs/w6ug1da0' target=\"_blank\">crimson-sweep-11</a></strong> to <a href='https://wandb.ai/atds_ml/lenet_5' target=\"_blank\">Weights & Biases</a> (<a href='https://wandb.me/run' target=\"_blank\">docs</a>)<br/>Sweep page: <a href='https://wandb.ai/atds_ml/lenet_5/sweeps/f87hyidm' target=\"_blank\">https://wandb.ai/atds_ml/lenet_5/sweeps/f87hyidm</a>"
            ]
          },
          "metadata": {}
        },
        {
          "output_type": "display_data",
          "data": {
            "text/plain": [
              "<IPython.core.display.HTML object>"
            ],
            "text/html": [
              " View project at <a href='https://wandb.ai/atds_ml/lenet_5' target=\"_blank\">https://wandb.ai/atds_ml/lenet_5</a>"
            ]
          },
          "metadata": {}
        },
        {
          "output_type": "display_data",
          "data": {
            "text/plain": [
              "<IPython.core.display.HTML object>"
            ],
            "text/html": [
              " View sweep at <a href='https://wandb.ai/atds_ml/lenet_5/sweeps/f87hyidm' target=\"_blank\">https://wandb.ai/atds_ml/lenet_5/sweeps/f87hyidm</a>"
            ]
          },
          "metadata": {}
        },
        {
          "output_type": "display_data",
          "data": {
            "text/plain": [
              "<IPython.core.display.HTML object>"
            ],
            "text/html": [
              " View run at <a href='https://wandb.ai/atds_ml/lenet_5/runs/w6ug1da0' target=\"_blank\">https://wandb.ai/atds_ml/lenet_5/runs/w6ug1da0</a>"
            ]
          },
          "metadata": {}
        },
        {
          "output_type": "stream",
          "name": "stdout",
          "text": [
            "X_train.shape torch.Size([31367, 3, 30, 30])\n",
            "X_valid.shape torch.Size([7842, 3, 30, 30])\n",
            "y_train.shape torch.Size([31367])\n",
            "y_valid.shape torch.Size([7842])\n"
          ]
        },
        {
          "output_type": "display_data",
          "data": {
            "text/plain": [
              "<IPython.core.display.HTML object>"
            ],
            "text/html": [
              "Waiting for W&B process to finish... <strong style=\"color:green\">(success).</strong>"
            ]
          },
          "metadata": {}
        },
        {
          "output_type": "display_data",
          "data": {
            "text/plain": [
              "VBox(children=(Label(value='0.001 MB of 0.001 MB uploaded (0.000 MB deduped)\\r'), FloatProgress(value=1.0, max…"
            ],
            "application/vnd.jupyter.widget-view+json": {
              "version_major": 2,
              "version_minor": 0,
              "model_id": "9564e0c8bb9a4e3397d4530ca3bb1cc4"
            }
          },
          "metadata": {}
        },
        {
          "output_type": "display_data",
          "data": {
            "text/plain": [
              "<IPython.core.display.HTML object>"
            ],
            "text/html": [
              "<style>\n",
              "    table.wandb td:nth-child(1) { padding: 0 10px; text-align: left ; width: auto;} td:nth-child(2) {text-align: left ; width: 100%}\n",
              "    .wandb-row { display: flex; flex-direction: row; flex-wrap: wrap; justify-content: flex-start; width: 100% }\n",
              "    .wandb-col { display: flex; flex-direction: column; flex-basis: 100%; flex: 1; padding: 10px; }\n",
              "    </style>\n",
              "<div class=\"wandb-row\"><div class=\"wandb-col\"><h3>Run history:</h3><br/><table class=\"wandb\"><tr><td>accuracy</td><td>▁▂▂▃▃▄▄▅▅▇▆▇▇██</td></tr><tr><td>epoch</td><td>▁▁▂▃▃▃▄▅▅▅▆▇▇▇█</td></tr><tr><td>learning_rate</td><td>▁▁▁▁▁▁▁▁▁▁▁▁▁▁▁</td></tr><tr><td>loss</td><td>█▇█▆▅█▄▃▃▄▃▂▂▁▁</td></tr></table><br/></div><div class=\"wandb-col\"><h3>Run summary:</h3><br/><table class=\"wandb\"><tr><td>accuracy</td><td>19.08952</td></tr><tr><td>epoch</td><td>14</td></tr><tr><td>learning_rate</td><td>0.00036</td></tr><tr><td>loss</td><td>4.0617</td></tr><tr><td>optimizer</td><td>sgd</td></tr></table><br/></div></div>"
            ]
          },
          "metadata": {}
        },
        {
          "output_type": "display_data",
          "data": {
            "text/plain": [
              "<IPython.core.display.HTML object>"
            ],
            "text/html": [
              " View run <strong style=\"color:#cdcd00\">crimson-sweep-11</strong> at: <a href='https://wandb.ai/atds_ml/lenet_5/runs/w6ug1da0' target=\"_blank\">https://wandb.ai/atds_ml/lenet_5/runs/w6ug1da0</a><br/>Synced 5 W&B file(s), 0 media file(s), 0 artifact file(s) and 0 other file(s)"
            ]
          },
          "metadata": {}
        },
        {
          "output_type": "display_data",
          "data": {
            "text/plain": [
              "<IPython.core.display.HTML object>"
            ],
            "text/html": [
              "Find logs at: <code>./wandb/run-20230508_170257-w6ug1da0/logs</code>"
            ]
          },
          "metadata": {}
        },
        {
          "output_type": "stream",
          "name": "stderr",
          "text": [
            "\u001b[34m\u001b[1mwandb\u001b[0m: Agent Starting Run: rgyvw7um with config:\n",
            "\u001b[34m\u001b[1mwandb\u001b[0m: \tepochs: 15\n",
            "\u001b[34m\u001b[1mwandb\u001b[0m: \tlearning_rate: 0.00038626524735593\n",
            "\u001b[34m\u001b[1mwandb\u001b[0m: \toptimizer: adam\n"
          ]
        },
        {
          "output_type": "display_data",
          "data": {
            "text/plain": [
              "<IPython.core.display.HTML object>"
            ],
            "text/html": [
              "Tracking run with wandb version 0.15.2"
            ]
          },
          "metadata": {}
        },
        {
          "output_type": "display_data",
          "data": {
            "text/plain": [
              "<IPython.core.display.HTML object>"
            ],
            "text/html": [
              "Run data is saved locally in <code>/content/wandb/run-20230508_170524-rgyvw7um</code>"
            ]
          },
          "metadata": {}
        },
        {
          "output_type": "display_data",
          "data": {
            "text/plain": [
              "<IPython.core.display.HTML object>"
            ],
            "text/html": [
              "Syncing run <strong><a href='https://wandb.ai/atds_ml/lenet_5/runs/rgyvw7um' target=\"_blank\">bumbling-sweep-12</a></strong> to <a href='https://wandb.ai/atds_ml/lenet_5' target=\"_blank\">Weights & Biases</a> (<a href='https://wandb.me/run' target=\"_blank\">docs</a>)<br/>Sweep page: <a href='https://wandb.ai/atds_ml/lenet_5/sweeps/f87hyidm' target=\"_blank\">https://wandb.ai/atds_ml/lenet_5/sweeps/f87hyidm</a>"
            ]
          },
          "metadata": {}
        },
        {
          "output_type": "display_data",
          "data": {
            "text/plain": [
              "<IPython.core.display.HTML object>"
            ],
            "text/html": [
              " View project at <a href='https://wandb.ai/atds_ml/lenet_5' target=\"_blank\">https://wandb.ai/atds_ml/lenet_5</a>"
            ]
          },
          "metadata": {}
        },
        {
          "output_type": "display_data",
          "data": {
            "text/plain": [
              "<IPython.core.display.HTML object>"
            ],
            "text/html": [
              " View sweep at <a href='https://wandb.ai/atds_ml/lenet_5/sweeps/f87hyidm' target=\"_blank\">https://wandb.ai/atds_ml/lenet_5/sweeps/f87hyidm</a>"
            ]
          },
          "metadata": {}
        },
        {
          "output_type": "display_data",
          "data": {
            "text/plain": [
              "<IPython.core.display.HTML object>"
            ],
            "text/html": [
              " View run at <a href='https://wandb.ai/atds_ml/lenet_5/runs/rgyvw7um' target=\"_blank\">https://wandb.ai/atds_ml/lenet_5/runs/rgyvw7um</a>"
            ]
          },
          "metadata": {}
        },
        {
          "output_type": "stream",
          "name": "stdout",
          "text": [
            "X_train.shape torch.Size([31367, 3, 30, 30])\n",
            "X_valid.shape torch.Size([7842, 3, 30, 30])\n",
            "y_train.shape torch.Size([31367])\n",
            "y_valid.shape torch.Size([7842])\n"
          ]
        },
        {
          "output_type": "display_data",
          "data": {
            "text/plain": [
              "<IPython.core.display.HTML object>"
            ],
            "text/html": [
              "Waiting for W&B process to finish... <strong style=\"color:green\">(success).</strong>"
            ]
          },
          "metadata": {}
        },
        {
          "output_type": "display_data",
          "data": {
            "text/plain": [
              "<IPython.core.display.HTML object>"
            ],
            "text/html": [
              "<style>\n",
              "    table.wandb td:nth-child(1) { padding: 0 10px; text-align: left ; width: auto;} td:nth-child(2) {text-align: left ; width: 100%}\n",
              "    .wandb-row { display: flex; flex-direction: row; flex-wrap: wrap; justify-content: flex-start; width: 100% }\n",
              "    .wandb-col { display: flex; flex-direction: column; flex-basis: 100%; flex: 1; padding: 10px; }\n",
              "    </style>\n",
              "<div class=\"wandb-row\"><div class=\"wandb-col\"><h3>Run history:</h3><br/><table class=\"wandb\"><tr><td>accuracy</td><td>▁▃▄▄▅▆▆▆▇▇▇▇███</td></tr><tr><td>epoch</td><td>▁▁▂▃▃▃▄▅▅▅▆▇▇▇█</td></tr><tr><td>learning_rate</td><td>▁▁▁▁▁▁▁▁▁▁▁▁▁▁▁</td></tr><tr><td>loss</td><td>█▆▅▄▄▃▃▂▂▂▂▁▁▁▁</td></tr></table><br/></div><div class=\"wandb-col\"><h3>Run summary:</h3><br/><table class=\"wandb\"><tr><td>accuracy</td><td>37.43943</td></tr><tr><td>epoch</td><td>14</td></tr><tr><td>learning_rate</td><td>0.00039</td></tr><tr><td>loss</td><td>2.4433</td></tr><tr><td>optimizer</td><td>adam</td></tr></table><br/></div></div>"
            ]
          },
          "metadata": {}
        },
        {
          "output_type": "display_data",
          "data": {
            "text/plain": [
              "<IPython.core.display.HTML object>"
            ],
            "text/html": [
              " View run <strong style=\"color:#cdcd00\">bumbling-sweep-12</strong> at: <a href='https://wandb.ai/atds_ml/lenet_5/runs/rgyvw7um' target=\"_blank\">https://wandb.ai/atds_ml/lenet_5/runs/rgyvw7um</a><br/>Synced 5 W&B file(s), 0 media file(s), 0 artifact file(s) and 0 other file(s)"
            ]
          },
          "metadata": {}
        },
        {
          "output_type": "display_data",
          "data": {
            "text/plain": [
              "<IPython.core.display.HTML object>"
            ],
            "text/html": [
              "Find logs at: <code>./wandb/run-20230508_170524-rgyvw7um/logs</code>"
            ]
          },
          "metadata": {}
        },
        {
          "output_type": "stream",
          "name": "stderr",
          "text": [
            "\u001b[34m\u001b[1mwandb\u001b[0m: Agent Starting Run: dhzkgzfz with config:\n",
            "\u001b[34m\u001b[1mwandb\u001b[0m: \tepochs: 15\n",
            "\u001b[34m\u001b[1mwandb\u001b[0m: \tlearning_rate: 0.0004439648267409231\n",
            "\u001b[34m\u001b[1mwandb\u001b[0m: \toptimizer: sgd\n"
          ]
        },
        {
          "output_type": "display_data",
          "data": {
            "text/plain": [
              "<IPython.core.display.HTML object>"
            ],
            "text/html": [
              "Tracking run with wandb version 0.15.2"
            ]
          },
          "metadata": {}
        },
        {
          "output_type": "display_data",
          "data": {
            "text/plain": [
              "<IPython.core.display.HTML object>"
            ],
            "text/html": [
              "Run data is saved locally in <code>/content/wandb/run-20230508_170751-dhzkgzfz</code>"
            ]
          },
          "metadata": {}
        },
        {
          "output_type": "display_data",
          "data": {
            "text/plain": [
              "<IPython.core.display.HTML object>"
            ],
            "text/html": [
              "Syncing run <strong><a href='https://wandb.ai/atds_ml/lenet_5/runs/dhzkgzfz' target=\"_blank\">silver-sweep-13</a></strong> to <a href='https://wandb.ai/atds_ml/lenet_5' target=\"_blank\">Weights & Biases</a> (<a href='https://wandb.me/run' target=\"_blank\">docs</a>)<br/>Sweep page: <a href='https://wandb.ai/atds_ml/lenet_5/sweeps/f87hyidm' target=\"_blank\">https://wandb.ai/atds_ml/lenet_5/sweeps/f87hyidm</a>"
            ]
          },
          "metadata": {}
        },
        {
          "output_type": "display_data",
          "data": {
            "text/plain": [
              "<IPython.core.display.HTML object>"
            ],
            "text/html": [
              " View project at <a href='https://wandb.ai/atds_ml/lenet_5' target=\"_blank\">https://wandb.ai/atds_ml/lenet_5</a>"
            ]
          },
          "metadata": {}
        },
        {
          "output_type": "display_data",
          "data": {
            "text/plain": [
              "<IPython.core.display.HTML object>"
            ],
            "text/html": [
              " View sweep at <a href='https://wandb.ai/atds_ml/lenet_5/sweeps/f87hyidm' target=\"_blank\">https://wandb.ai/atds_ml/lenet_5/sweeps/f87hyidm</a>"
            ]
          },
          "metadata": {}
        },
        {
          "output_type": "display_data",
          "data": {
            "text/plain": [
              "<IPython.core.display.HTML object>"
            ],
            "text/html": [
              " View run at <a href='https://wandb.ai/atds_ml/lenet_5/runs/dhzkgzfz' target=\"_blank\">https://wandb.ai/atds_ml/lenet_5/runs/dhzkgzfz</a>"
            ]
          },
          "metadata": {}
        },
        {
          "output_type": "stream",
          "name": "stdout",
          "text": [
            "X_train.shape torch.Size([31367, 3, 30, 30])\n",
            "X_valid.shape torch.Size([7842, 3, 30, 30])\n",
            "y_train.shape torch.Size([31367])\n",
            "y_valid.shape torch.Size([7842])\n"
          ]
        },
        {
          "output_type": "display_data",
          "data": {
            "text/plain": [
              "<IPython.core.display.HTML object>"
            ],
            "text/html": [
              "Waiting for W&B process to finish... <strong style=\"color:green\">(success).</strong>"
            ]
          },
          "metadata": {}
        },
        {
          "output_type": "display_data",
          "data": {
            "text/plain": [
              "VBox(children=(Label(value='0.001 MB of 0.001 MB uploaded (0.000 MB deduped)\\r'), FloatProgress(value=1.0, max…"
            ],
            "application/vnd.jupyter.widget-view+json": {
              "version_major": 2,
              "version_minor": 0,
              "model_id": "38b0612ec82a4b0ebb886ad256038fea"
            }
          },
          "metadata": {}
        },
        {
          "output_type": "display_data",
          "data": {
            "text/plain": [
              "<IPython.core.display.HTML object>"
            ],
            "text/html": [
              "<style>\n",
              "    table.wandb td:nth-child(1) { padding: 0 10px; text-align: left ; width: auto;} td:nth-child(2) {text-align: left ; width: 100%}\n",
              "    .wandb-row { display: flex; flex-direction: row; flex-wrap: wrap; justify-content: flex-start; width: 100% }\n",
              "    .wandb-col { display: flex; flex-direction: column; flex-basis: 100%; flex: 1; padding: 10px; }\n",
              "    </style>\n",
              "<div class=\"wandb-row\"><div class=\"wandb-col\"><h3>Run history:</h3><br/><table class=\"wandb\"><tr><td>accuracy</td><td>▁▂▃▃▄▄▅▅▆▆▇▇▇██</td></tr><tr><td>epoch</td><td>▁▁▂▃▃▃▄▅▅▅▆▇▇▇█</td></tr><tr><td>learning_rate</td><td>▁▁▁▁▁▁▁▁▁▁▁▁▁▁▁</td></tr><tr><td>loss</td><td>█▇▆▅▄▄▃▃▃▂▂▄▂▁▁</td></tr></table><br/></div><div class=\"wandb-col\"><h3>Run summary:</h3><br/><table class=\"wandb\"><tr><td>accuracy</td><td>20.709</td></tr><tr><td>epoch</td><td>14</td></tr><tr><td>learning_rate</td><td>0.00044</td></tr><tr><td>loss</td><td>3.93072</td></tr><tr><td>optimizer</td><td>sgd</td></tr></table><br/></div></div>"
            ]
          },
          "metadata": {}
        },
        {
          "output_type": "display_data",
          "data": {
            "text/plain": [
              "<IPython.core.display.HTML object>"
            ],
            "text/html": [
              " View run <strong style=\"color:#cdcd00\">silver-sweep-13</strong> at: <a href='https://wandb.ai/atds_ml/lenet_5/runs/dhzkgzfz' target=\"_blank\">https://wandb.ai/atds_ml/lenet_5/runs/dhzkgzfz</a><br/>Synced 5 W&B file(s), 0 media file(s), 0 artifact file(s) and 0 other file(s)"
            ]
          },
          "metadata": {}
        },
        {
          "output_type": "display_data",
          "data": {
            "text/plain": [
              "<IPython.core.display.HTML object>"
            ],
            "text/html": [
              "Find logs at: <code>./wandb/run-20230508_170751-dhzkgzfz/logs</code>"
            ]
          },
          "metadata": {}
        },
        {
          "output_type": "stream",
          "name": "stderr",
          "text": [
            "\u001b[34m\u001b[1mwandb\u001b[0m: Sweep Agent: Waiting for job.\n",
            "\u001b[34m\u001b[1mwandb\u001b[0m: Job received.\n",
            "\u001b[34m\u001b[1mwandb\u001b[0m: Agent Starting Run: vnusfij3 with config:\n",
            "\u001b[34m\u001b[1mwandb\u001b[0m: \tepochs: 15\n",
            "\u001b[34m\u001b[1mwandb\u001b[0m: \tlearning_rate: 0.0009063468758875564\n",
            "\u001b[34m\u001b[1mwandb\u001b[0m: \toptimizer: adam\n"
          ]
        },
        {
          "output_type": "display_data",
          "data": {
            "text/plain": [
              "<IPython.core.display.HTML object>"
            ],
            "text/html": [
              "Tracking run with wandb version 0.15.2"
            ]
          },
          "metadata": {}
        },
        {
          "output_type": "display_data",
          "data": {
            "text/plain": [
              "<IPython.core.display.HTML object>"
            ],
            "text/html": [
              "Run data is saved locally in <code>/content/wandb/run-20230508_171028-vnusfij3</code>"
            ]
          },
          "metadata": {}
        },
        {
          "output_type": "display_data",
          "data": {
            "text/plain": [
              "<IPython.core.display.HTML object>"
            ],
            "text/html": [
              "Syncing run <strong><a href='https://wandb.ai/atds_ml/lenet_5/runs/vnusfij3' target=\"_blank\">eager-sweep-14</a></strong> to <a href='https://wandb.ai/atds_ml/lenet_5' target=\"_blank\">Weights & Biases</a> (<a href='https://wandb.me/run' target=\"_blank\">docs</a>)<br/>Sweep page: <a href='https://wandb.ai/atds_ml/lenet_5/sweeps/f87hyidm' target=\"_blank\">https://wandb.ai/atds_ml/lenet_5/sweeps/f87hyidm</a>"
            ]
          },
          "metadata": {}
        },
        {
          "output_type": "display_data",
          "data": {
            "text/plain": [
              "<IPython.core.display.HTML object>"
            ],
            "text/html": [
              " View project at <a href='https://wandb.ai/atds_ml/lenet_5' target=\"_blank\">https://wandb.ai/atds_ml/lenet_5</a>"
            ]
          },
          "metadata": {}
        },
        {
          "output_type": "display_data",
          "data": {
            "text/plain": [
              "<IPython.core.display.HTML object>"
            ],
            "text/html": [
              " View sweep at <a href='https://wandb.ai/atds_ml/lenet_5/sweeps/f87hyidm' target=\"_blank\">https://wandb.ai/atds_ml/lenet_5/sweeps/f87hyidm</a>"
            ]
          },
          "metadata": {}
        },
        {
          "output_type": "display_data",
          "data": {
            "text/plain": [
              "<IPython.core.display.HTML object>"
            ],
            "text/html": [
              " View run at <a href='https://wandb.ai/atds_ml/lenet_5/runs/vnusfij3' target=\"_blank\">https://wandb.ai/atds_ml/lenet_5/runs/vnusfij3</a>"
            ]
          },
          "metadata": {}
        },
        {
          "output_type": "stream",
          "name": "stdout",
          "text": [
            "X_train.shape torch.Size([31367, 3, 30, 30])\n",
            "X_valid.shape torch.Size([7842, 3, 30, 30])\n",
            "y_train.shape torch.Size([31367])\n",
            "y_valid.shape torch.Size([7842])\n"
          ]
        },
        {
          "output_type": "display_data",
          "data": {
            "text/plain": [
              "<IPython.core.display.HTML object>"
            ],
            "text/html": [
              "Waiting for W&B process to finish... <strong style=\"color:green\">(success).</strong>"
            ]
          },
          "metadata": {}
        },
        {
          "output_type": "display_data",
          "data": {
            "text/plain": [
              "VBox(children=(Label(value='0.001 MB of 0.001 MB uploaded (0.000 MB deduped)\\r'), FloatProgress(value=1.0, max…"
            ],
            "application/vnd.jupyter.widget-view+json": {
              "version_major": 2,
              "version_minor": 0,
              "model_id": "65c8434d41964b2fbd12f8aab39a38bc"
            }
          },
          "metadata": {}
        },
        {
          "output_type": "display_data",
          "data": {
            "text/plain": [
              "<IPython.core.display.HTML object>"
            ],
            "text/html": [
              "<style>\n",
              "    table.wandb td:nth-child(1) { padding: 0 10px; text-align: left ; width: auto;} td:nth-child(2) {text-align: left ; width: 100%}\n",
              "    .wandb-row { display: flex; flex-direction: row; flex-wrap: wrap; justify-content: flex-start; width: 100% }\n",
              "    .wandb-col { display: flex; flex-direction: column; flex-basis: 100%; flex: 1; padding: 10px; }\n",
              "    </style>\n",
              "<div class=\"wandb-row\"><div class=\"wandb-col\"><h3>Run history:</h3><br/><table class=\"wandb\"><tr><td>accuracy</td><td>▁▃▄▅▆▆▇▇▇▇▇▇███</td></tr><tr><td>epoch</td><td>▁▁▂▃▃▃▄▅▅▅▆▇▇▇█</td></tr><tr><td>learning_rate</td><td>▁▁▁▁▁▁▁▁▁▁▁▁▁▁▁</td></tr><tr><td>loss</td><td>█▆▄▃▂▃▃▂▂▂▁▂▁▁▁</td></tr></table><br/></div><div class=\"wandb-col\"><h3>Run summary:</h3><br/><table class=\"wandb\"><tr><td>accuracy</td><td>42.73145</td></tr><tr><td>epoch</td><td>14</td></tr><tr><td>learning_rate</td><td>0.00091</td></tr><tr><td>loss</td><td>2.26124</td></tr><tr><td>optimizer</td><td>adam</td></tr></table><br/></div></div>"
            ]
          },
          "metadata": {}
        },
        {
          "output_type": "display_data",
          "data": {
            "text/plain": [
              "<IPython.core.display.HTML object>"
            ],
            "text/html": [
              " View run <strong style=\"color:#cdcd00\">eager-sweep-14</strong> at: <a href='https://wandb.ai/atds_ml/lenet_5/runs/vnusfij3' target=\"_blank\">https://wandb.ai/atds_ml/lenet_5/runs/vnusfij3</a><br/>Synced 5 W&B file(s), 0 media file(s), 0 artifact file(s) and 0 other file(s)"
            ]
          },
          "metadata": {}
        },
        {
          "output_type": "display_data",
          "data": {
            "text/plain": [
              "<IPython.core.display.HTML object>"
            ],
            "text/html": [
              "Find logs at: <code>./wandb/run-20230508_171028-vnusfij3/logs</code>"
            ]
          },
          "metadata": {}
        },
        {
          "output_type": "stream",
          "name": "stderr",
          "text": [
            "\u001b[34m\u001b[1mwandb\u001b[0m: Agent Starting Run: ecbp9wvw with config:\n",
            "\u001b[34m\u001b[1mwandb\u001b[0m: \tepochs: 15\n",
            "\u001b[34m\u001b[1mwandb\u001b[0m: \tlearning_rate: 0.0005708952022181801\n",
            "\u001b[34m\u001b[1mwandb\u001b[0m: \toptimizer: sgd\n"
          ]
        },
        {
          "output_type": "display_data",
          "data": {
            "text/plain": [
              "<IPython.core.display.HTML object>"
            ],
            "text/html": [
              "Tracking run with wandb version 0.15.2"
            ]
          },
          "metadata": {}
        },
        {
          "output_type": "display_data",
          "data": {
            "text/plain": [
              "<IPython.core.display.HTML object>"
            ],
            "text/html": [
              "Run data is saved locally in <code>/content/wandb/run-20230508_171255-ecbp9wvw</code>"
            ]
          },
          "metadata": {}
        },
        {
          "output_type": "display_data",
          "data": {
            "text/plain": [
              "<IPython.core.display.HTML object>"
            ],
            "text/html": [
              "Syncing run <strong><a href='https://wandb.ai/atds_ml/lenet_5/runs/ecbp9wvw' target=\"_blank\">misty-sweep-15</a></strong> to <a href='https://wandb.ai/atds_ml/lenet_5' target=\"_blank\">Weights & Biases</a> (<a href='https://wandb.me/run' target=\"_blank\">docs</a>)<br/>Sweep page: <a href='https://wandb.ai/atds_ml/lenet_5/sweeps/f87hyidm' target=\"_blank\">https://wandb.ai/atds_ml/lenet_5/sweeps/f87hyidm</a>"
            ]
          },
          "metadata": {}
        },
        {
          "output_type": "display_data",
          "data": {
            "text/plain": [
              "<IPython.core.display.HTML object>"
            ],
            "text/html": [
              " View project at <a href='https://wandb.ai/atds_ml/lenet_5' target=\"_blank\">https://wandb.ai/atds_ml/lenet_5</a>"
            ]
          },
          "metadata": {}
        },
        {
          "output_type": "display_data",
          "data": {
            "text/plain": [
              "<IPython.core.display.HTML object>"
            ],
            "text/html": [
              " View sweep at <a href='https://wandb.ai/atds_ml/lenet_5/sweeps/f87hyidm' target=\"_blank\">https://wandb.ai/atds_ml/lenet_5/sweeps/f87hyidm</a>"
            ]
          },
          "metadata": {}
        },
        {
          "output_type": "display_data",
          "data": {
            "text/plain": [
              "<IPython.core.display.HTML object>"
            ],
            "text/html": [
              " View run at <a href='https://wandb.ai/atds_ml/lenet_5/runs/ecbp9wvw' target=\"_blank\">https://wandb.ai/atds_ml/lenet_5/runs/ecbp9wvw</a>"
            ]
          },
          "metadata": {}
        },
        {
          "output_type": "stream",
          "name": "stdout",
          "text": [
            "X_train.shape torch.Size([31367, 3, 30, 30])\n",
            "X_valid.shape torch.Size([7842, 3, 30, 30])\n",
            "y_train.shape torch.Size([31367])\n",
            "y_valid.shape torch.Size([7842])\n"
          ]
        },
        {
          "output_type": "display_data",
          "data": {
            "text/plain": [
              "<IPython.core.display.HTML object>"
            ],
            "text/html": [
              "Waiting for W&B process to finish... <strong style=\"color:green\">(success).</strong>"
            ]
          },
          "metadata": {}
        },
        {
          "output_type": "display_data",
          "data": {
            "text/plain": [
              "VBox(children=(Label(value='0.001 MB of 0.001 MB uploaded (0.000 MB deduped)\\r'), FloatProgress(value=1.0, max…"
            ],
            "application/vnd.jupyter.widget-view+json": {
              "version_major": 2,
              "version_minor": 0,
              "model_id": "30ed85192c68415b8bd611eff33e14f4"
            }
          },
          "metadata": {}
        },
        {
          "output_type": "display_data",
          "data": {
            "text/plain": [
              "<IPython.core.display.HTML object>"
            ],
            "text/html": [
              "<style>\n",
              "    table.wandb td:nth-child(1) { padding: 0 10px; text-align: left ; width: auto;} td:nth-child(2) {text-align: left ; width: 100%}\n",
              "    .wandb-row { display: flex; flex-direction: row; flex-wrap: wrap; justify-content: flex-start; width: 100% }\n",
              "    .wandb-col { display: flex; flex-direction: column; flex-basis: 100%; flex: 1; padding: 10px; }\n",
              "    </style>\n",
              "<div class=\"wandb-row\"><div class=\"wandb-col\"><h3>Run history:</h3><br/><table class=\"wandb\"><tr><td>accuracy</td><td>▁▂▃▄▄▅▅▅▆▇▇▇▇▇█</td></tr><tr><td>epoch</td><td>▁▁▂▃▃▃▄▅▅▅▆▇▇▇█</td></tr><tr><td>learning_rate</td><td>▁▁▁▁▁▁▁▁▁▁▁▁▁▁▁</td></tr><tr><td>loss</td><td>█▆▅▅▃▃▃▂▂▂▂▁▁▁▁</td></tr></table><br/></div><div class=\"wandb-col\"><h3>Run summary:</h3><br/><table class=\"wandb\"><tr><td>accuracy</td><td>23.36139</td></tr><tr><td>epoch</td><td>14</td></tr><tr><td>learning_rate</td><td>0.00057</td></tr><tr><td>loss</td><td>3.96202</td></tr><tr><td>optimizer</td><td>sgd</td></tr></table><br/></div></div>"
            ]
          },
          "metadata": {}
        },
        {
          "output_type": "display_data",
          "data": {
            "text/plain": [
              "<IPython.core.display.HTML object>"
            ],
            "text/html": [
              " View run <strong style=\"color:#cdcd00\">misty-sweep-15</strong> at: <a href='https://wandb.ai/atds_ml/lenet_5/runs/ecbp9wvw' target=\"_blank\">https://wandb.ai/atds_ml/lenet_5/runs/ecbp9wvw</a><br/>Synced 5 W&B file(s), 0 media file(s), 0 artifact file(s) and 0 other file(s)"
            ]
          },
          "metadata": {}
        },
        {
          "output_type": "display_data",
          "data": {
            "text/plain": [
              "<IPython.core.display.HTML object>"
            ],
            "text/html": [
              "Find logs at: <code>./wandb/run-20230508_171255-ecbp9wvw/logs</code>"
            ]
          },
          "metadata": {}
        },
        {
          "output_type": "stream",
          "name": "stderr",
          "text": [
            "\u001b[34m\u001b[1mwandb\u001b[0m: Agent Starting Run: tb4ni761 with config:\n",
            "\u001b[34m\u001b[1mwandb\u001b[0m: \tepochs: 15\n",
            "\u001b[34m\u001b[1mwandb\u001b[0m: \tlearning_rate: 0.0007623422323777292\n",
            "\u001b[34m\u001b[1mwandb\u001b[0m: \toptimizer: sgd\n"
          ]
        },
        {
          "output_type": "display_data",
          "data": {
            "text/plain": [
              "<IPython.core.display.HTML object>"
            ],
            "text/html": [
              "Tracking run with wandb version 0.15.2"
            ]
          },
          "metadata": {}
        },
        {
          "output_type": "display_data",
          "data": {
            "text/plain": [
              "<IPython.core.display.HTML object>"
            ],
            "text/html": [
              "Run data is saved locally in <code>/content/wandb/run-20230508_171527-tb4ni761</code>"
            ]
          },
          "metadata": {}
        },
        {
          "output_type": "display_data",
          "data": {
            "text/plain": [
              "<IPython.core.display.HTML object>"
            ],
            "text/html": [
              "Syncing run <strong><a href='https://wandb.ai/atds_ml/lenet_5/runs/tb4ni761' target=\"_blank\">effortless-sweep-16</a></strong> to <a href='https://wandb.ai/atds_ml/lenet_5' target=\"_blank\">Weights & Biases</a> (<a href='https://wandb.me/run' target=\"_blank\">docs</a>)<br/>Sweep page: <a href='https://wandb.ai/atds_ml/lenet_5/sweeps/f87hyidm' target=\"_blank\">https://wandb.ai/atds_ml/lenet_5/sweeps/f87hyidm</a>"
            ]
          },
          "metadata": {}
        },
        {
          "output_type": "display_data",
          "data": {
            "text/plain": [
              "<IPython.core.display.HTML object>"
            ],
            "text/html": [
              " View project at <a href='https://wandb.ai/atds_ml/lenet_5' target=\"_blank\">https://wandb.ai/atds_ml/lenet_5</a>"
            ]
          },
          "metadata": {}
        },
        {
          "output_type": "display_data",
          "data": {
            "text/plain": [
              "<IPython.core.display.HTML object>"
            ],
            "text/html": [
              " View sweep at <a href='https://wandb.ai/atds_ml/lenet_5/sweeps/f87hyidm' target=\"_blank\">https://wandb.ai/atds_ml/lenet_5/sweeps/f87hyidm</a>"
            ]
          },
          "metadata": {}
        },
        {
          "output_type": "display_data",
          "data": {
            "text/plain": [
              "<IPython.core.display.HTML object>"
            ],
            "text/html": [
              " View run at <a href='https://wandb.ai/atds_ml/lenet_5/runs/tb4ni761' target=\"_blank\">https://wandb.ai/atds_ml/lenet_5/runs/tb4ni761</a>"
            ]
          },
          "metadata": {}
        },
        {
          "output_type": "stream",
          "name": "stdout",
          "text": [
            "X_train.shape torch.Size([31367, 3, 30, 30])\n",
            "X_valid.shape torch.Size([7842, 3, 30, 30])\n",
            "y_train.shape torch.Size([31367])\n",
            "y_valid.shape torch.Size([7842])\n"
          ]
        },
        {
          "output_type": "display_data",
          "data": {
            "text/plain": [
              "<IPython.core.display.HTML object>"
            ],
            "text/html": [
              "Waiting for W&B process to finish... <strong style=\"color:green\">(success).</strong>"
            ]
          },
          "metadata": {}
        },
        {
          "output_type": "display_data",
          "data": {
            "text/plain": [
              "<IPython.core.display.HTML object>"
            ],
            "text/html": [
              "<style>\n",
              "    table.wandb td:nth-child(1) { padding: 0 10px; text-align: left ; width: auto;} td:nth-child(2) {text-align: left ; width: 100%}\n",
              "    .wandb-row { display: flex; flex-direction: row; flex-wrap: wrap; justify-content: flex-start; width: 100% }\n",
              "    .wandb-col { display: flex; flex-direction: column; flex-basis: 100%; flex: 1; padding: 10px; }\n",
              "    </style>\n",
              "<div class=\"wandb-row\"><div class=\"wandb-col\"><h3>Run history:</h3><br/><table class=\"wandb\"><tr><td>accuracy</td><td>▁▂▃▃▄▅▅▆▆▇▇▇███</td></tr><tr><td>epoch</td><td>▁▁▂▃▃▃▄▅▅▅▆▇▇▇█</td></tr><tr><td>learning_rate</td><td>▁▁▁▁▁▁▁▁▁▁▁▁▁▁▁</td></tr><tr><td>loss</td><td>█▇▅▅▅▄▃▃▃▂▂▂▁▁▁</td></tr></table><br/></div><div class=\"wandb-col\"><h3>Run summary:</h3><br/><table class=\"wandb\"><tr><td>accuracy</td><td>26.26881</td></tr><tr><td>epoch</td><td>14</td></tr><tr><td>learning_rate</td><td>0.00076</td></tr><tr><td>loss</td><td>3.38988</td></tr><tr><td>optimizer</td><td>sgd</td></tr></table><br/></div></div>"
            ]
          },
          "metadata": {}
        },
        {
          "output_type": "display_data",
          "data": {
            "text/plain": [
              "<IPython.core.display.HTML object>"
            ],
            "text/html": [
              " View run <strong style=\"color:#cdcd00\">effortless-sweep-16</strong> at: <a href='https://wandb.ai/atds_ml/lenet_5/runs/tb4ni761' target=\"_blank\">https://wandb.ai/atds_ml/lenet_5/runs/tb4ni761</a><br/>Synced 5 W&B file(s), 0 media file(s), 0 artifact file(s) and 0 other file(s)"
            ]
          },
          "metadata": {}
        },
        {
          "output_type": "display_data",
          "data": {
            "text/plain": [
              "<IPython.core.display.HTML object>"
            ],
            "text/html": [
              "Find logs at: <code>./wandb/run-20230508_171527-tb4ni761/logs</code>"
            ]
          },
          "metadata": {}
        },
        {
          "output_type": "stream",
          "name": "stderr",
          "text": [
            "\u001b[34m\u001b[1mwandb\u001b[0m: Agent Starting Run: 3cmkrbrr with config:\n",
            "\u001b[34m\u001b[1mwandb\u001b[0m: \tepochs: 15\n",
            "\u001b[34m\u001b[1mwandb\u001b[0m: \tlearning_rate: 0.00041216750476904504\n",
            "\u001b[34m\u001b[1mwandb\u001b[0m: \toptimizer: adam\n"
          ]
        },
        {
          "output_type": "display_data",
          "data": {
            "text/plain": [
              "<IPython.core.display.HTML object>"
            ],
            "text/html": [
              "Tracking run with wandb version 0.15.2"
            ]
          },
          "metadata": {}
        },
        {
          "output_type": "display_data",
          "data": {
            "text/plain": [
              "<IPython.core.display.HTML object>"
            ],
            "text/html": [
              "Run data is saved locally in <code>/content/wandb/run-20230508_171758-3cmkrbrr</code>"
            ]
          },
          "metadata": {}
        },
        {
          "output_type": "display_data",
          "data": {
            "text/plain": [
              "<IPython.core.display.HTML object>"
            ],
            "text/html": [
              "Syncing run <strong><a href='https://wandb.ai/atds_ml/lenet_5/runs/3cmkrbrr' target=\"_blank\">astral-sweep-17</a></strong> to <a href='https://wandb.ai/atds_ml/lenet_5' target=\"_blank\">Weights & Biases</a> (<a href='https://wandb.me/run' target=\"_blank\">docs</a>)<br/>Sweep page: <a href='https://wandb.ai/atds_ml/lenet_5/sweeps/f87hyidm' target=\"_blank\">https://wandb.ai/atds_ml/lenet_5/sweeps/f87hyidm</a>"
            ]
          },
          "metadata": {}
        },
        {
          "output_type": "display_data",
          "data": {
            "text/plain": [
              "<IPython.core.display.HTML object>"
            ],
            "text/html": [
              " View project at <a href='https://wandb.ai/atds_ml/lenet_5' target=\"_blank\">https://wandb.ai/atds_ml/lenet_5</a>"
            ]
          },
          "metadata": {}
        },
        {
          "output_type": "display_data",
          "data": {
            "text/plain": [
              "<IPython.core.display.HTML object>"
            ],
            "text/html": [
              " View sweep at <a href='https://wandb.ai/atds_ml/lenet_5/sweeps/f87hyidm' target=\"_blank\">https://wandb.ai/atds_ml/lenet_5/sweeps/f87hyidm</a>"
            ]
          },
          "metadata": {}
        },
        {
          "output_type": "display_data",
          "data": {
            "text/plain": [
              "<IPython.core.display.HTML object>"
            ],
            "text/html": [
              " View run at <a href='https://wandb.ai/atds_ml/lenet_5/runs/3cmkrbrr' target=\"_blank\">https://wandb.ai/atds_ml/lenet_5/runs/3cmkrbrr</a>"
            ]
          },
          "metadata": {}
        },
        {
          "output_type": "stream",
          "name": "stdout",
          "text": [
            "X_train.shape torch.Size([31367, 3, 30, 30])\n",
            "X_valid.shape torch.Size([7842, 3, 30, 30])\n",
            "y_train.shape torch.Size([31367])\n",
            "y_valid.shape torch.Size([7842])\n"
          ]
        },
        {
          "output_type": "display_data",
          "data": {
            "text/plain": [
              "<IPython.core.display.HTML object>"
            ],
            "text/html": [
              "Waiting for W&B process to finish... <strong style=\"color:green\">(success).</strong>"
            ]
          },
          "metadata": {}
        },
        {
          "output_type": "display_data",
          "data": {
            "text/plain": [
              "<IPython.core.display.HTML object>"
            ],
            "text/html": [
              "<style>\n",
              "    table.wandb td:nth-child(1) { padding: 0 10px; text-align: left ; width: auto;} td:nth-child(2) {text-align: left ; width: 100%}\n",
              "    .wandb-row { display: flex; flex-direction: row; flex-wrap: wrap; justify-content: flex-start; width: 100% }\n",
              "    .wandb-col { display: flex; flex-direction: column; flex-basis: 100%; flex: 1; padding: 10px; }\n",
              "    </style>\n",
              "<div class=\"wandb-row\"><div class=\"wandb-col\"><h3>Run history:</h3><br/><table class=\"wandb\"><tr><td>accuracy</td><td>▁▃▄▄▅▆▆▆▇▇▇█▇██</td></tr><tr><td>epoch</td><td>▁▁▂▃▃▃▄▅▅▅▆▇▇▇█</td></tr><tr><td>learning_rate</td><td>▁▁▁▁▁▁▁▁▁▁▁▁▁▁▁</td></tr><tr><td>loss</td><td>█▆▄▄▃▃▂▂▂▂▂▁▂▁▁</td></tr></table><br/></div><div class=\"wandb-col\"><h3>Run summary:</h3><br/><table class=\"wandb\"><tr><td>accuracy</td><td>37.75822</td></tr><tr><td>epoch</td><td>14</td></tr><tr><td>learning_rate</td><td>0.00041</td></tr><tr><td>loss</td><td>2.48853</td></tr><tr><td>optimizer</td><td>adam</td></tr></table><br/></div></div>"
            ]
          },
          "metadata": {}
        },
        {
          "output_type": "display_data",
          "data": {
            "text/plain": [
              "<IPython.core.display.HTML object>"
            ],
            "text/html": [
              " View run <strong style=\"color:#cdcd00\">astral-sweep-17</strong> at: <a href='https://wandb.ai/atds_ml/lenet_5/runs/3cmkrbrr' target=\"_blank\">https://wandb.ai/atds_ml/lenet_5/runs/3cmkrbrr</a><br/>Synced 5 W&B file(s), 0 media file(s), 0 artifact file(s) and 0 other file(s)"
            ]
          },
          "metadata": {}
        },
        {
          "output_type": "display_data",
          "data": {
            "text/plain": [
              "<IPython.core.display.HTML object>"
            ],
            "text/html": [
              "Find logs at: <code>./wandb/run-20230508_171758-3cmkrbrr/logs</code>"
            ]
          },
          "metadata": {}
        },
        {
          "output_type": "stream",
          "name": "stderr",
          "text": [
            "\u001b[34m\u001b[1mwandb\u001b[0m: Agent Starting Run: f91qffq1 with config:\n",
            "\u001b[34m\u001b[1mwandb\u001b[0m: \tepochs: 15\n",
            "\u001b[34m\u001b[1mwandb\u001b[0m: \tlearning_rate: 0.0007361107206283534\n",
            "\u001b[34m\u001b[1mwandb\u001b[0m: \toptimizer: sgd\n"
          ]
        },
        {
          "output_type": "display_data",
          "data": {
            "text/plain": [
              "<IPython.core.display.HTML object>"
            ],
            "text/html": [
              "Tracking run with wandb version 0.15.2"
            ]
          },
          "metadata": {}
        },
        {
          "output_type": "display_data",
          "data": {
            "text/plain": [
              "<IPython.core.display.HTML object>"
            ],
            "text/html": [
              "Run data is saved locally in <code>/content/wandb/run-20230508_172032-f91qffq1</code>"
            ]
          },
          "metadata": {}
        },
        {
          "output_type": "display_data",
          "data": {
            "text/plain": [
              "<IPython.core.display.HTML object>"
            ],
            "text/html": [
              "Syncing run <strong><a href='https://wandb.ai/atds_ml/lenet_5/runs/f91qffq1' target=\"_blank\">fiery-sweep-18</a></strong> to <a href='https://wandb.ai/atds_ml/lenet_5' target=\"_blank\">Weights & Biases</a> (<a href='https://wandb.me/run' target=\"_blank\">docs</a>)<br/>Sweep page: <a href='https://wandb.ai/atds_ml/lenet_5/sweeps/f87hyidm' target=\"_blank\">https://wandb.ai/atds_ml/lenet_5/sweeps/f87hyidm</a>"
            ]
          },
          "metadata": {}
        },
        {
          "output_type": "display_data",
          "data": {
            "text/plain": [
              "<IPython.core.display.HTML object>"
            ],
            "text/html": [
              " View project at <a href='https://wandb.ai/atds_ml/lenet_5' target=\"_blank\">https://wandb.ai/atds_ml/lenet_5</a>"
            ]
          },
          "metadata": {}
        },
        {
          "output_type": "display_data",
          "data": {
            "text/plain": [
              "<IPython.core.display.HTML object>"
            ],
            "text/html": [
              " View sweep at <a href='https://wandb.ai/atds_ml/lenet_5/sweeps/f87hyidm' target=\"_blank\">https://wandb.ai/atds_ml/lenet_5/sweeps/f87hyidm</a>"
            ]
          },
          "metadata": {}
        },
        {
          "output_type": "display_data",
          "data": {
            "text/plain": [
              "<IPython.core.display.HTML object>"
            ],
            "text/html": [
              " View run at <a href='https://wandb.ai/atds_ml/lenet_5/runs/f91qffq1' target=\"_blank\">https://wandb.ai/atds_ml/lenet_5/runs/f91qffq1</a>"
            ]
          },
          "metadata": {}
        },
        {
          "output_type": "stream",
          "name": "stdout",
          "text": [
            "X_train.shape torch.Size([31367, 3, 30, 30])\n",
            "X_valid.shape torch.Size([7842, 3, 30, 30])\n",
            "y_train.shape torch.Size([31367])\n",
            "y_valid.shape torch.Size([7842])\n"
          ]
        },
        {
          "output_type": "display_data",
          "data": {
            "text/plain": [
              "<IPython.core.display.HTML object>"
            ],
            "text/html": [
              "Waiting for W&B process to finish... <strong style=\"color:green\">(success).</strong>"
            ]
          },
          "metadata": {}
        },
        {
          "output_type": "display_data",
          "data": {
            "text/plain": [
              "VBox(children=(Label(value='0.001 MB of 0.001 MB uploaded (0.000 MB deduped)\\r'), FloatProgress(value=1.0, max…"
            ],
            "application/vnd.jupyter.widget-view+json": {
              "version_major": 2,
              "version_minor": 0,
              "model_id": "a46f761f92d14424bed76ad283fc33f2"
            }
          },
          "metadata": {}
        },
        {
          "output_type": "display_data",
          "data": {
            "text/plain": [
              "<IPython.core.display.HTML object>"
            ],
            "text/html": [
              "<style>\n",
              "    table.wandb td:nth-child(1) { padding: 0 10px; text-align: left ; width: auto;} td:nth-child(2) {text-align: left ; width: 100%}\n",
              "    .wandb-row { display: flex; flex-direction: row; flex-wrap: wrap; justify-content: flex-start; width: 100% }\n",
              "    .wandb-col { display: flex; flex-direction: column; flex-basis: 100%; flex: 1; padding: 10px; }\n",
              "    </style>\n",
              "<div class=\"wandb-row\"><div class=\"wandb-col\"><h3>Run history:</h3><br/><table class=\"wandb\"><tr><td>accuracy</td><td>▁▂▃▄▄▅▆▆▆▇▇▇███</td></tr><tr><td>epoch</td><td>▁▁▂▃▃▃▄▅▅▅▆▇▇▇█</td></tr><tr><td>learning_rate</td><td>▁▁▁▁▁▁▁▁▁▁▁▁▁▁▁</td></tr><tr><td>loss</td><td>█▇▆▄▄▄▃▃▃▂▂▂▂▁▂</td></tr></table><br/></div><div class=\"wandb-col\"><h3>Run summary:</h3><br/><table class=\"wandb\"><tr><td>accuracy</td><td>24.61107</td></tr><tr><td>epoch</td><td>14</td></tr><tr><td>learning_rate</td><td>0.00074</td></tr><tr><td>loss</td><td>3.66228</td></tr><tr><td>optimizer</td><td>sgd</td></tr></table><br/></div></div>"
            ]
          },
          "metadata": {}
        },
        {
          "output_type": "display_data",
          "data": {
            "text/plain": [
              "<IPython.core.display.HTML object>"
            ],
            "text/html": [
              " View run <strong style=\"color:#cdcd00\">fiery-sweep-18</strong> at: <a href='https://wandb.ai/atds_ml/lenet_5/runs/f91qffq1' target=\"_blank\">https://wandb.ai/atds_ml/lenet_5/runs/f91qffq1</a><br/>Synced 5 W&B file(s), 0 media file(s), 0 artifact file(s) and 0 other file(s)"
            ]
          },
          "metadata": {}
        },
        {
          "output_type": "display_data",
          "data": {
            "text/plain": [
              "<IPython.core.display.HTML object>"
            ],
            "text/html": [
              "Find logs at: <code>./wandb/run-20230508_172032-f91qffq1/logs</code>"
            ]
          },
          "metadata": {}
        },
        {
          "output_type": "stream",
          "name": "stderr",
          "text": [
            "\u001b[34m\u001b[1mwandb\u001b[0m: Agent Starting Run: xh5f41k6 with config:\n",
            "\u001b[34m\u001b[1mwandb\u001b[0m: \tepochs: 15\n",
            "\u001b[34m\u001b[1mwandb\u001b[0m: \tlearning_rate: 0.0008706260496535625\n",
            "\u001b[34m\u001b[1mwandb\u001b[0m: \toptimizer: sgd\n"
          ]
        },
        {
          "output_type": "display_data",
          "data": {
            "text/plain": [
              "<IPython.core.display.HTML object>"
            ],
            "text/html": [
              "Tracking run with wandb version 0.15.2"
            ]
          },
          "metadata": {}
        },
        {
          "output_type": "display_data",
          "data": {
            "text/plain": [
              "<IPython.core.display.HTML object>"
            ],
            "text/html": [
              "Run data is saved locally in <code>/content/wandb/run-20230508_172303-xh5f41k6</code>"
            ]
          },
          "metadata": {}
        },
        {
          "output_type": "display_data",
          "data": {
            "text/plain": [
              "<IPython.core.display.HTML object>"
            ],
            "text/html": [
              "Syncing run <strong><a href='https://wandb.ai/atds_ml/lenet_5/runs/xh5f41k6' target=\"_blank\">lively-sweep-19</a></strong> to <a href='https://wandb.ai/atds_ml/lenet_5' target=\"_blank\">Weights & Biases</a> (<a href='https://wandb.me/run' target=\"_blank\">docs</a>)<br/>Sweep page: <a href='https://wandb.ai/atds_ml/lenet_5/sweeps/f87hyidm' target=\"_blank\">https://wandb.ai/atds_ml/lenet_5/sweeps/f87hyidm</a>"
            ]
          },
          "metadata": {}
        },
        {
          "output_type": "display_data",
          "data": {
            "text/plain": [
              "<IPython.core.display.HTML object>"
            ],
            "text/html": [
              " View project at <a href='https://wandb.ai/atds_ml/lenet_5' target=\"_blank\">https://wandb.ai/atds_ml/lenet_5</a>"
            ]
          },
          "metadata": {}
        },
        {
          "output_type": "display_data",
          "data": {
            "text/plain": [
              "<IPython.core.display.HTML object>"
            ],
            "text/html": [
              " View sweep at <a href='https://wandb.ai/atds_ml/lenet_5/sweeps/f87hyidm' target=\"_blank\">https://wandb.ai/atds_ml/lenet_5/sweeps/f87hyidm</a>"
            ]
          },
          "metadata": {}
        },
        {
          "output_type": "display_data",
          "data": {
            "text/plain": [
              "<IPython.core.display.HTML object>"
            ],
            "text/html": [
              " View run at <a href='https://wandb.ai/atds_ml/lenet_5/runs/xh5f41k6' target=\"_blank\">https://wandb.ai/atds_ml/lenet_5/runs/xh5f41k6</a>"
            ]
          },
          "metadata": {}
        },
        {
          "output_type": "stream",
          "name": "stdout",
          "text": [
            "X_train.shape torch.Size([31367, 3, 30, 30])\n",
            "X_valid.shape torch.Size([7842, 3, 30, 30])\n",
            "y_train.shape torch.Size([31367])\n",
            "y_valid.shape torch.Size([7842])\n"
          ]
        },
        {
          "output_type": "display_data",
          "data": {
            "text/plain": [
              "<IPython.core.display.HTML object>"
            ],
            "text/html": [
              "Waiting for W&B process to finish... <strong style=\"color:green\">(success).</strong>"
            ]
          },
          "metadata": {}
        },
        {
          "output_type": "display_data",
          "data": {
            "text/plain": [
              "VBox(children=(Label(value='0.001 MB of 0.002 MB uploaded (0.000 MB deduped)\\r'), FloatProgress(value=0.528854…"
            ],
            "application/vnd.jupyter.widget-view+json": {
              "version_major": 2,
              "version_minor": 0,
              "model_id": "ba8b9055a3934285ba75518dfabd3e5c"
            }
          },
          "metadata": {}
        },
        {
          "output_type": "display_data",
          "data": {
            "text/plain": [
              "<IPython.core.display.HTML object>"
            ],
            "text/html": [
              "<style>\n",
              "    table.wandb td:nth-child(1) { padding: 0 10px; text-align: left ; width: auto;} td:nth-child(2) {text-align: left ; width: 100%}\n",
              "    .wandb-row { display: flex; flex-direction: row; flex-wrap: wrap; justify-content: flex-start; width: 100% }\n",
              "    .wandb-col { display: flex; flex-direction: column; flex-basis: 100%; flex: 1; padding: 10px; }\n",
              "    </style>\n",
              "<div class=\"wandb-row\"><div class=\"wandb-col\"><h3>Run history:</h3><br/><table class=\"wandb\"><tr><td>accuracy</td><td>▁▂▃▄▅▅▅▆▆▇▇▇███</td></tr><tr><td>epoch</td><td>▁▁▂▃▃▃▄▅▅▅▆▇▇▇█</td></tr><tr><td>learning_rate</td><td>▁▁▁▁▁▁▁▁▁▁▁▁▁▁▁</td></tr><tr><td>loss</td><td>██▇▅▄▃▃▃▂▂▂▁▂▁▁</td></tr></table><br/></div><div class=\"wandb-col\"><h3>Run summary:</h3><br/><table class=\"wandb\"><tr><td>accuracy</td><td>26.17955</td></tr><tr><td>epoch</td><td>14</td></tr><tr><td>learning_rate</td><td>0.00087</td></tr><tr><td>loss</td><td>3.3508</td></tr><tr><td>optimizer</td><td>sgd</td></tr></table><br/></div></div>"
            ]
          },
          "metadata": {}
        },
        {
          "output_type": "display_data",
          "data": {
            "text/plain": [
              "<IPython.core.display.HTML object>"
            ],
            "text/html": [
              " View run <strong style=\"color:#cdcd00\">lively-sweep-19</strong> at: <a href='https://wandb.ai/atds_ml/lenet_5/runs/xh5f41k6' target=\"_blank\">https://wandb.ai/atds_ml/lenet_5/runs/xh5f41k6</a><br/>Synced 5 W&B file(s), 0 media file(s), 0 artifact file(s) and 0 other file(s)"
            ]
          },
          "metadata": {}
        },
        {
          "output_type": "display_data",
          "data": {
            "text/plain": [
              "<IPython.core.display.HTML object>"
            ],
            "text/html": [
              "Find logs at: <code>./wandb/run-20230508_172303-xh5f41k6/logs</code>"
            ]
          },
          "metadata": {}
        },
        {
          "output_type": "stream",
          "name": "stderr",
          "text": [
            "\u001b[34m\u001b[1mwandb\u001b[0m: Agent Starting Run: v4797wrj with config:\n",
            "\u001b[34m\u001b[1mwandb\u001b[0m: \tepochs: 15\n",
            "\u001b[34m\u001b[1mwandb\u001b[0m: \tlearning_rate: 0.0004584973742995668\n",
            "\u001b[34m\u001b[1mwandb\u001b[0m: \toptimizer: sgd\n"
          ]
        },
        {
          "output_type": "display_data",
          "data": {
            "text/plain": [
              "<IPython.core.display.HTML object>"
            ],
            "text/html": [
              "Tracking run with wandb version 0.15.2"
            ]
          },
          "metadata": {}
        },
        {
          "output_type": "display_data",
          "data": {
            "text/plain": [
              "<IPython.core.display.HTML object>"
            ],
            "text/html": [
              "Run data is saved locally in <code>/content/wandb/run-20230508_172535-v4797wrj</code>"
            ]
          },
          "metadata": {}
        },
        {
          "output_type": "display_data",
          "data": {
            "text/plain": [
              "<IPython.core.display.HTML object>"
            ],
            "text/html": [
              "Syncing run <strong><a href='https://wandb.ai/atds_ml/lenet_5/runs/v4797wrj' target=\"_blank\">classic-sweep-20</a></strong> to <a href='https://wandb.ai/atds_ml/lenet_5' target=\"_blank\">Weights & Biases</a> (<a href='https://wandb.me/run' target=\"_blank\">docs</a>)<br/>Sweep page: <a href='https://wandb.ai/atds_ml/lenet_5/sweeps/f87hyidm' target=\"_blank\">https://wandb.ai/atds_ml/lenet_5/sweeps/f87hyidm</a>"
            ]
          },
          "metadata": {}
        },
        {
          "output_type": "display_data",
          "data": {
            "text/plain": [
              "<IPython.core.display.HTML object>"
            ],
            "text/html": [
              " View project at <a href='https://wandb.ai/atds_ml/lenet_5' target=\"_blank\">https://wandb.ai/atds_ml/lenet_5</a>"
            ]
          },
          "metadata": {}
        },
        {
          "output_type": "display_data",
          "data": {
            "text/plain": [
              "<IPython.core.display.HTML object>"
            ],
            "text/html": [
              " View sweep at <a href='https://wandb.ai/atds_ml/lenet_5/sweeps/f87hyidm' target=\"_blank\">https://wandb.ai/atds_ml/lenet_5/sweeps/f87hyidm</a>"
            ]
          },
          "metadata": {}
        },
        {
          "output_type": "display_data",
          "data": {
            "text/plain": [
              "<IPython.core.display.HTML object>"
            ],
            "text/html": [
              " View run at <a href='https://wandb.ai/atds_ml/lenet_5/runs/v4797wrj' target=\"_blank\">https://wandb.ai/atds_ml/lenet_5/runs/v4797wrj</a>"
            ]
          },
          "metadata": {}
        },
        {
          "output_type": "stream",
          "name": "stdout",
          "text": [
            "X_train.shape torch.Size([31367, 3, 30, 30])\n",
            "X_valid.shape torch.Size([7842, 3, 30, 30])\n",
            "y_train.shape torch.Size([31367])\n",
            "y_valid.shape torch.Size([7842])\n"
          ]
        },
        {
          "output_type": "display_data",
          "data": {
            "text/plain": [
              "<IPython.core.display.HTML object>"
            ],
            "text/html": [
              "Waiting for W&B process to finish... <strong style=\"color:green\">(success).</strong>"
            ]
          },
          "metadata": {}
        },
        {
          "output_type": "display_data",
          "data": {
            "text/plain": [
              "VBox(children=(Label(value='0.001 MB of 0.001 MB uploaded (0.000 MB deduped)\\r'), FloatProgress(value=1.0, max…"
            ],
            "application/vnd.jupyter.widget-view+json": {
              "version_major": 2,
              "version_minor": 0,
              "model_id": "05c76815a2df4fcd9ece5e3465f42186"
            }
          },
          "metadata": {}
        },
        {
          "output_type": "display_data",
          "data": {
            "text/plain": [
              "<IPython.core.display.HTML object>"
            ],
            "text/html": [
              "<style>\n",
              "    table.wandb td:nth-child(1) { padding: 0 10px; text-align: left ; width: auto;} td:nth-child(2) {text-align: left ; width: 100%}\n",
              "    .wandb-row { display: flex; flex-direction: row; flex-wrap: wrap; justify-content: flex-start; width: 100% }\n",
              "    .wandb-col { display: flex; flex-direction: column; flex-basis: 100%; flex: 1; padding: 10px; }\n",
              "    </style>\n",
              "<div class=\"wandb-row\"><div class=\"wandb-col\"><h3>Run history:</h3><br/><table class=\"wandb\"><tr><td>accuracy</td><td>▁▂▃▄▄▅▅▆▆▇▇▇▇██</td></tr><tr><td>epoch</td><td>▁▁▂▃▃▃▄▅▅▅▆▇▇▇█</td></tr><tr><td>learning_rate</td><td>▁▁▁▁▁▁▁▁▁▁▁▁▁▁▁</td></tr><tr><td>loss</td><td>██▆▅▆▄▄▃▃▃▃▂▃▂▁</td></tr></table><br/></div><div class=\"wandb-col\"><h3>Run summary:</h3><br/><table class=\"wandb\"><tr><td>accuracy</td><td>20.28819</td></tr><tr><td>epoch</td><td>14</td></tr><tr><td>learning_rate</td><td>0.00046</td></tr><tr><td>loss</td><td>3.94581</td></tr><tr><td>optimizer</td><td>sgd</td></tr></table><br/></div></div>"
            ]
          },
          "metadata": {}
        },
        {
          "output_type": "display_data",
          "data": {
            "text/plain": [
              "<IPython.core.display.HTML object>"
            ],
            "text/html": [
              " View run <strong style=\"color:#cdcd00\">classic-sweep-20</strong> at: <a href='https://wandb.ai/atds_ml/lenet_5/runs/v4797wrj' target=\"_blank\">https://wandb.ai/atds_ml/lenet_5/runs/v4797wrj</a><br/>Synced 5 W&B file(s), 0 media file(s), 0 artifact file(s) and 0 other file(s)"
            ]
          },
          "metadata": {}
        },
        {
          "output_type": "display_data",
          "data": {
            "text/plain": [
              "<IPython.core.display.HTML object>"
            ],
            "text/html": [
              "Find logs at: <code>./wandb/run-20230508_172535-v4797wrj/logs</code>"
            ]
          },
          "metadata": {}
        }
      ],
      "source": [
        "wandb.agent(sweep_id, train, count=20)"
      ]
    }
  ],
  "metadata": {
    "accelerator": "GPU",
    "colab": {
      "provenance": []
    },
    "gpuClass": "standard",
    "kernelspec": {
      "display_name": "Python 3",
      "name": "python3"
    },
    "language_info": {
      "name": "python"
    },
    "widgets": {
      "application/vnd.jupyter.widget-state+json": {
        "fbc32360c17a4495ac842bffa80a0b26": {
          "model_module": "@jupyter-widgets/controls",
          "model_name": "VBoxModel",
          "model_module_version": "1.5.0",
          "state": {
            "_dom_classes": [],
            "_model_module": "@jupyter-widgets/controls",
            "_model_module_version": "1.5.0",
            "_model_name": "VBoxModel",
            "_view_count": null,
            "_view_module": "@jupyter-widgets/controls",
            "_view_module_version": "1.5.0",
            "_view_name": "VBoxView",
            "box_style": "",
            "children": [
              "IPY_MODEL_f494bd4784b14b729ab04ec131aa599a",
              "IPY_MODEL_9b507f3eb686488e83165afff03588c8"
            ],
            "layout": "IPY_MODEL_36c80a2d508041b89f055d13a7c6a66a"
          }
        },
        "f494bd4784b14b729ab04ec131aa599a": {
          "model_module": "@jupyter-widgets/controls",
          "model_name": "LabelModel",
          "model_module_version": "1.5.0",
          "state": {
            "_dom_classes": [],
            "_model_module": "@jupyter-widgets/controls",
            "_model_module_version": "1.5.0",
            "_model_name": "LabelModel",
            "_view_count": null,
            "_view_module": "@jupyter-widgets/controls",
            "_view_module_version": "1.5.0",
            "_view_name": "LabelView",
            "description": "",
            "description_tooltip": null,
            "layout": "IPY_MODEL_4c266e14f10242f2a1e7c7f4f35c9146",
            "placeholder": "​",
            "style": "IPY_MODEL_1fdd1bbecc2f4413b6b66b5e06aa61a6",
            "value": "0.001 MB of 0.001 MB uploaded (0.000 MB deduped)\r"
          }
        },
        "9b507f3eb686488e83165afff03588c8": {
          "model_module": "@jupyter-widgets/controls",
          "model_name": "FloatProgressModel",
          "model_module_version": "1.5.0",
          "state": {
            "_dom_classes": [],
            "_model_module": "@jupyter-widgets/controls",
            "_model_module_version": "1.5.0",
            "_model_name": "FloatProgressModel",
            "_view_count": null,
            "_view_module": "@jupyter-widgets/controls",
            "_view_module_version": "1.5.0",
            "_view_name": "ProgressView",
            "bar_style": "",
            "description": "",
            "description_tooltip": null,
            "layout": "IPY_MODEL_93c2e7fee5b84b91afcb2765816e4738",
            "max": 1,
            "min": 0,
            "orientation": "horizontal",
            "style": "IPY_MODEL_84e38df8b3ed433f912708c5b65b89c4",
            "value": 1
          }
        },
        "36c80a2d508041b89f055d13a7c6a66a": {
          "model_module": "@jupyter-widgets/base",
          "model_name": "LayoutModel",
          "model_module_version": "1.2.0",
          "state": {
            "_model_module": "@jupyter-widgets/base",
            "_model_module_version": "1.2.0",
            "_model_name": "LayoutModel",
            "_view_count": null,
            "_view_module": "@jupyter-widgets/base",
            "_view_module_version": "1.2.0",
            "_view_name": "LayoutView",
            "align_content": null,
            "align_items": null,
            "align_self": null,
            "border": null,
            "bottom": null,
            "display": null,
            "flex": null,
            "flex_flow": null,
            "grid_area": null,
            "grid_auto_columns": null,
            "grid_auto_flow": null,
            "grid_auto_rows": null,
            "grid_column": null,
            "grid_gap": null,
            "grid_row": null,
            "grid_template_areas": null,
            "grid_template_columns": null,
            "grid_template_rows": null,
            "height": null,
            "justify_content": null,
            "justify_items": null,
            "left": null,
            "margin": null,
            "max_height": null,
            "max_width": null,
            "min_height": null,
            "min_width": null,
            "object_fit": null,
            "object_position": null,
            "order": null,
            "overflow": null,
            "overflow_x": null,
            "overflow_y": null,
            "padding": null,
            "right": null,
            "top": null,
            "visibility": null,
            "width": null
          }
        },
        "4c266e14f10242f2a1e7c7f4f35c9146": {
          "model_module": "@jupyter-widgets/base",
          "model_name": "LayoutModel",
          "model_module_version": "1.2.0",
          "state": {
            "_model_module": "@jupyter-widgets/base",
            "_model_module_version": "1.2.0",
            "_model_name": "LayoutModel",
            "_view_count": null,
            "_view_module": "@jupyter-widgets/base",
            "_view_module_version": "1.2.0",
            "_view_name": "LayoutView",
            "align_content": null,
            "align_items": null,
            "align_self": null,
            "border": null,
            "bottom": null,
            "display": null,
            "flex": null,
            "flex_flow": null,
            "grid_area": null,
            "grid_auto_columns": null,
            "grid_auto_flow": null,
            "grid_auto_rows": null,
            "grid_column": null,
            "grid_gap": null,
            "grid_row": null,
            "grid_template_areas": null,
            "grid_template_columns": null,
            "grid_template_rows": null,
            "height": null,
            "justify_content": null,
            "justify_items": null,
            "left": null,
            "margin": null,
            "max_height": null,
            "max_width": null,
            "min_height": null,
            "min_width": null,
            "object_fit": null,
            "object_position": null,
            "order": null,
            "overflow": null,
            "overflow_x": null,
            "overflow_y": null,
            "padding": null,
            "right": null,
            "top": null,
            "visibility": null,
            "width": null
          }
        },
        "1fdd1bbecc2f4413b6b66b5e06aa61a6": {
          "model_module": "@jupyter-widgets/controls",
          "model_name": "DescriptionStyleModel",
          "model_module_version": "1.5.0",
          "state": {
            "_model_module": "@jupyter-widgets/controls",
            "_model_module_version": "1.5.0",
            "_model_name": "DescriptionStyleModel",
            "_view_count": null,
            "_view_module": "@jupyter-widgets/base",
            "_view_module_version": "1.2.0",
            "_view_name": "StyleView",
            "description_width": ""
          }
        },
        "93c2e7fee5b84b91afcb2765816e4738": {
          "model_module": "@jupyter-widgets/base",
          "model_name": "LayoutModel",
          "model_module_version": "1.2.0",
          "state": {
            "_model_module": "@jupyter-widgets/base",
            "_model_module_version": "1.2.0",
            "_model_name": "LayoutModel",
            "_view_count": null,
            "_view_module": "@jupyter-widgets/base",
            "_view_module_version": "1.2.0",
            "_view_name": "LayoutView",
            "align_content": null,
            "align_items": null,
            "align_self": null,
            "border": null,
            "bottom": null,
            "display": null,
            "flex": null,
            "flex_flow": null,
            "grid_area": null,
            "grid_auto_columns": null,
            "grid_auto_flow": null,
            "grid_auto_rows": null,
            "grid_column": null,
            "grid_gap": null,
            "grid_row": null,
            "grid_template_areas": null,
            "grid_template_columns": null,
            "grid_template_rows": null,
            "height": null,
            "justify_content": null,
            "justify_items": null,
            "left": null,
            "margin": null,
            "max_height": null,
            "max_width": null,
            "min_height": null,
            "min_width": null,
            "object_fit": null,
            "object_position": null,
            "order": null,
            "overflow": null,
            "overflow_x": null,
            "overflow_y": null,
            "padding": null,
            "right": null,
            "top": null,
            "visibility": null,
            "width": null
          }
        },
        "84e38df8b3ed433f912708c5b65b89c4": {
          "model_module": "@jupyter-widgets/controls",
          "model_name": "ProgressStyleModel",
          "model_module_version": "1.5.0",
          "state": {
            "_model_module": "@jupyter-widgets/controls",
            "_model_module_version": "1.5.0",
            "_model_name": "ProgressStyleModel",
            "_view_count": null,
            "_view_module": "@jupyter-widgets/base",
            "_view_module_version": "1.2.0",
            "_view_name": "StyleView",
            "bar_color": null,
            "description_width": ""
          }
        },
        "3f878e59be5c4cffa0eaaa8548f29039": {
          "model_module": "@jupyter-widgets/controls",
          "model_name": "VBoxModel",
          "model_module_version": "1.5.0",
          "state": {
            "_dom_classes": [],
            "_model_module": "@jupyter-widgets/controls",
            "_model_module_version": "1.5.0",
            "_model_name": "VBoxModel",
            "_view_count": null,
            "_view_module": "@jupyter-widgets/controls",
            "_view_module_version": "1.5.0",
            "_view_name": "VBoxView",
            "box_style": "",
            "children": [
              "IPY_MODEL_5539e42f60d245cabd68e050f4748b49",
              "IPY_MODEL_58bd170c1e2e49389c2e2d97df707de3"
            ],
            "layout": "IPY_MODEL_579b2568489042089708ffcb706481cb"
          }
        },
        "5539e42f60d245cabd68e050f4748b49": {
          "model_module": "@jupyter-widgets/controls",
          "model_name": "LabelModel",
          "model_module_version": "1.5.0",
          "state": {
            "_dom_classes": [],
            "_model_module": "@jupyter-widgets/controls",
            "_model_module_version": "1.5.0",
            "_model_name": "LabelModel",
            "_view_count": null,
            "_view_module": "@jupyter-widgets/controls",
            "_view_module_version": "1.5.0",
            "_view_name": "LabelView",
            "description": "",
            "description_tooltip": null,
            "layout": "IPY_MODEL_4381129a645a403bb871abf3abdeff1c",
            "placeholder": "​",
            "style": "IPY_MODEL_77e30a1883ff4cf0986e7078167a6c70",
            "value": "0.001 MB of 0.002 MB uploaded (0.000 MB deduped)\r"
          }
        },
        "58bd170c1e2e49389c2e2d97df707de3": {
          "model_module": "@jupyter-widgets/controls",
          "model_name": "FloatProgressModel",
          "model_module_version": "1.5.0",
          "state": {
            "_dom_classes": [],
            "_model_module": "@jupyter-widgets/controls",
            "_model_module_version": "1.5.0",
            "_model_name": "FloatProgressModel",
            "_view_count": null,
            "_view_module": "@jupyter-widgets/controls",
            "_view_module_version": "1.5.0",
            "_view_name": "ProgressView",
            "bar_style": "",
            "description": "",
            "description_tooltip": null,
            "layout": "IPY_MODEL_4620121dd5cb45c3b09ad1342829d141",
            "max": 1,
            "min": 0,
            "orientation": "horizontal",
            "style": "IPY_MODEL_e81390e2f51f4a07a3e33815d1707ed7",
            "value": 0.52686230248307
          }
        },
        "579b2568489042089708ffcb706481cb": {
          "model_module": "@jupyter-widgets/base",
          "model_name": "LayoutModel",
          "model_module_version": "1.2.0",
          "state": {
            "_model_module": "@jupyter-widgets/base",
            "_model_module_version": "1.2.0",
            "_model_name": "LayoutModel",
            "_view_count": null,
            "_view_module": "@jupyter-widgets/base",
            "_view_module_version": "1.2.0",
            "_view_name": "LayoutView",
            "align_content": null,
            "align_items": null,
            "align_self": null,
            "border": null,
            "bottom": null,
            "display": null,
            "flex": null,
            "flex_flow": null,
            "grid_area": null,
            "grid_auto_columns": null,
            "grid_auto_flow": null,
            "grid_auto_rows": null,
            "grid_column": null,
            "grid_gap": null,
            "grid_row": null,
            "grid_template_areas": null,
            "grid_template_columns": null,
            "grid_template_rows": null,
            "height": null,
            "justify_content": null,
            "justify_items": null,
            "left": null,
            "margin": null,
            "max_height": null,
            "max_width": null,
            "min_height": null,
            "min_width": null,
            "object_fit": null,
            "object_position": null,
            "order": null,
            "overflow": null,
            "overflow_x": null,
            "overflow_y": null,
            "padding": null,
            "right": null,
            "top": null,
            "visibility": null,
            "width": null
          }
        },
        "4381129a645a403bb871abf3abdeff1c": {
          "model_module": "@jupyter-widgets/base",
          "model_name": "LayoutModel",
          "model_module_version": "1.2.0",
          "state": {
            "_model_module": "@jupyter-widgets/base",
            "_model_module_version": "1.2.0",
            "_model_name": "LayoutModel",
            "_view_count": null,
            "_view_module": "@jupyter-widgets/base",
            "_view_module_version": "1.2.0",
            "_view_name": "LayoutView",
            "align_content": null,
            "align_items": null,
            "align_self": null,
            "border": null,
            "bottom": null,
            "display": null,
            "flex": null,
            "flex_flow": null,
            "grid_area": null,
            "grid_auto_columns": null,
            "grid_auto_flow": null,
            "grid_auto_rows": null,
            "grid_column": null,
            "grid_gap": null,
            "grid_row": null,
            "grid_template_areas": null,
            "grid_template_columns": null,
            "grid_template_rows": null,
            "height": null,
            "justify_content": null,
            "justify_items": null,
            "left": null,
            "margin": null,
            "max_height": null,
            "max_width": null,
            "min_height": null,
            "min_width": null,
            "object_fit": null,
            "object_position": null,
            "order": null,
            "overflow": null,
            "overflow_x": null,
            "overflow_y": null,
            "padding": null,
            "right": null,
            "top": null,
            "visibility": null,
            "width": null
          }
        },
        "77e30a1883ff4cf0986e7078167a6c70": {
          "model_module": "@jupyter-widgets/controls",
          "model_name": "DescriptionStyleModel",
          "model_module_version": "1.5.0",
          "state": {
            "_model_module": "@jupyter-widgets/controls",
            "_model_module_version": "1.5.0",
            "_model_name": "DescriptionStyleModel",
            "_view_count": null,
            "_view_module": "@jupyter-widgets/base",
            "_view_module_version": "1.2.0",
            "_view_name": "StyleView",
            "description_width": ""
          }
        },
        "4620121dd5cb45c3b09ad1342829d141": {
          "model_module": "@jupyter-widgets/base",
          "model_name": "LayoutModel",
          "model_module_version": "1.2.0",
          "state": {
            "_model_module": "@jupyter-widgets/base",
            "_model_module_version": "1.2.0",
            "_model_name": "LayoutModel",
            "_view_count": null,
            "_view_module": "@jupyter-widgets/base",
            "_view_module_version": "1.2.0",
            "_view_name": "LayoutView",
            "align_content": null,
            "align_items": null,
            "align_self": null,
            "border": null,
            "bottom": null,
            "display": null,
            "flex": null,
            "flex_flow": null,
            "grid_area": null,
            "grid_auto_columns": null,
            "grid_auto_flow": null,
            "grid_auto_rows": null,
            "grid_column": null,
            "grid_gap": null,
            "grid_row": null,
            "grid_template_areas": null,
            "grid_template_columns": null,
            "grid_template_rows": null,
            "height": null,
            "justify_content": null,
            "justify_items": null,
            "left": null,
            "margin": null,
            "max_height": null,
            "max_width": null,
            "min_height": null,
            "min_width": null,
            "object_fit": null,
            "object_position": null,
            "order": null,
            "overflow": null,
            "overflow_x": null,
            "overflow_y": null,
            "padding": null,
            "right": null,
            "top": null,
            "visibility": null,
            "width": null
          }
        },
        "e81390e2f51f4a07a3e33815d1707ed7": {
          "model_module": "@jupyter-widgets/controls",
          "model_name": "ProgressStyleModel",
          "model_module_version": "1.5.0",
          "state": {
            "_model_module": "@jupyter-widgets/controls",
            "_model_module_version": "1.5.0",
            "_model_name": "ProgressStyleModel",
            "_view_count": null,
            "_view_module": "@jupyter-widgets/base",
            "_view_module_version": "1.2.0",
            "_view_name": "StyleView",
            "bar_color": null,
            "description_width": ""
          }
        },
        "52308f34a55b48eda7c2865c57139a66": {
          "model_module": "@jupyter-widgets/controls",
          "model_name": "VBoxModel",
          "model_module_version": "1.5.0",
          "state": {
            "_dom_classes": [],
            "_model_module": "@jupyter-widgets/controls",
            "_model_module_version": "1.5.0",
            "_model_name": "VBoxModel",
            "_view_count": null,
            "_view_module": "@jupyter-widgets/controls",
            "_view_module_version": "1.5.0",
            "_view_name": "VBoxView",
            "box_style": "",
            "children": [
              "IPY_MODEL_52fd246116a346729334ab046e86eb12",
              "IPY_MODEL_120b49a4f35a4f32b417b4a2bef3201c"
            ],
            "layout": "IPY_MODEL_e71ca2a88a8b46eca121bec011b235fc"
          }
        },
        "52fd246116a346729334ab046e86eb12": {
          "model_module": "@jupyter-widgets/controls",
          "model_name": "LabelModel",
          "model_module_version": "1.5.0",
          "state": {
            "_dom_classes": [],
            "_model_module": "@jupyter-widgets/controls",
            "_model_module_version": "1.5.0",
            "_model_name": "LabelModel",
            "_view_count": null,
            "_view_module": "@jupyter-widgets/controls",
            "_view_module_version": "1.5.0",
            "_view_name": "LabelView",
            "description": "",
            "description_tooltip": null,
            "layout": "IPY_MODEL_def639f8c6814eae8a3c5a691ef4f0c9",
            "placeholder": "​",
            "style": "IPY_MODEL_03858c806da244fbaf93e4d29e970d16",
            "value": "0.001 MB of 0.002 MB uploaded (0.000 MB deduped)\r"
          }
        },
        "120b49a4f35a4f32b417b4a2bef3201c": {
          "model_module": "@jupyter-widgets/controls",
          "model_name": "FloatProgressModel",
          "model_module_version": "1.5.0",
          "state": {
            "_dom_classes": [],
            "_model_module": "@jupyter-widgets/controls",
            "_model_module_version": "1.5.0",
            "_model_name": "FloatProgressModel",
            "_view_count": null,
            "_view_module": "@jupyter-widgets/controls",
            "_view_module_version": "1.5.0",
            "_view_name": "ProgressView",
            "bar_style": "",
            "description": "",
            "description_tooltip": null,
            "layout": "IPY_MODEL_59f2ea8a8ea0460fba9ad4db76a291ea",
            "max": 1,
            "min": 0,
            "orientation": "horizontal",
            "style": "IPY_MODEL_a09c60fb70634c7b91a018f4627fcf3b",
            "value": 0.5281404772624944
          }
        },
        "e71ca2a88a8b46eca121bec011b235fc": {
          "model_module": "@jupyter-widgets/base",
          "model_name": "LayoutModel",
          "model_module_version": "1.2.0",
          "state": {
            "_model_module": "@jupyter-widgets/base",
            "_model_module_version": "1.2.0",
            "_model_name": "LayoutModel",
            "_view_count": null,
            "_view_module": "@jupyter-widgets/base",
            "_view_module_version": "1.2.0",
            "_view_name": "LayoutView",
            "align_content": null,
            "align_items": null,
            "align_self": null,
            "border": null,
            "bottom": null,
            "display": null,
            "flex": null,
            "flex_flow": null,
            "grid_area": null,
            "grid_auto_columns": null,
            "grid_auto_flow": null,
            "grid_auto_rows": null,
            "grid_column": null,
            "grid_gap": null,
            "grid_row": null,
            "grid_template_areas": null,
            "grid_template_columns": null,
            "grid_template_rows": null,
            "height": null,
            "justify_content": null,
            "justify_items": null,
            "left": null,
            "margin": null,
            "max_height": null,
            "max_width": null,
            "min_height": null,
            "min_width": null,
            "object_fit": null,
            "object_position": null,
            "order": null,
            "overflow": null,
            "overflow_x": null,
            "overflow_y": null,
            "padding": null,
            "right": null,
            "top": null,
            "visibility": null,
            "width": null
          }
        },
        "def639f8c6814eae8a3c5a691ef4f0c9": {
          "model_module": "@jupyter-widgets/base",
          "model_name": "LayoutModel",
          "model_module_version": "1.2.0",
          "state": {
            "_model_module": "@jupyter-widgets/base",
            "_model_module_version": "1.2.0",
            "_model_name": "LayoutModel",
            "_view_count": null,
            "_view_module": "@jupyter-widgets/base",
            "_view_module_version": "1.2.0",
            "_view_name": "LayoutView",
            "align_content": null,
            "align_items": null,
            "align_self": null,
            "border": null,
            "bottom": null,
            "display": null,
            "flex": null,
            "flex_flow": null,
            "grid_area": null,
            "grid_auto_columns": null,
            "grid_auto_flow": null,
            "grid_auto_rows": null,
            "grid_column": null,
            "grid_gap": null,
            "grid_row": null,
            "grid_template_areas": null,
            "grid_template_columns": null,
            "grid_template_rows": null,
            "height": null,
            "justify_content": null,
            "justify_items": null,
            "left": null,
            "margin": null,
            "max_height": null,
            "max_width": null,
            "min_height": null,
            "min_width": null,
            "object_fit": null,
            "object_position": null,
            "order": null,
            "overflow": null,
            "overflow_x": null,
            "overflow_y": null,
            "padding": null,
            "right": null,
            "top": null,
            "visibility": null,
            "width": null
          }
        },
        "03858c806da244fbaf93e4d29e970d16": {
          "model_module": "@jupyter-widgets/controls",
          "model_name": "DescriptionStyleModel",
          "model_module_version": "1.5.0",
          "state": {
            "_model_module": "@jupyter-widgets/controls",
            "_model_module_version": "1.5.0",
            "_model_name": "DescriptionStyleModel",
            "_view_count": null,
            "_view_module": "@jupyter-widgets/base",
            "_view_module_version": "1.2.0",
            "_view_name": "StyleView",
            "description_width": ""
          }
        },
        "59f2ea8a8ea0460fba9ad4db76a291ea": {
          "model_module": "@jupyter-widgets/base",
          "model_name": "LayoutModel",
          "model_module_version": "1.2.0",
          "state": {
            "_model_module": "@jupyter-widgets/base",
            "_model_module_version": "1.2.0",
            "_model_name": "LayoutModel",
            "_view_count": null,
            "_view_module": "@jupyter-widgets/base",
            "_view_module_version": "1.2.0",
            "_view_name": "LayoutView",
            "align_content": null,
            "align_items": null,
            "align_self": null,
            "border": null,
            "bottom": null,
            "display": null,
            "flex": null,
            "flex_flow": null,
            "grid_area": null,
            "grid_auto_columns": null,
            "grid_auto_flow": null,
            "grid_auto_rows": null,
            "grid_column": null,
            "grid_gap": null,
            "grid_row": null,
            "grid_template_areas": null,
            "grid_template_columns": null,
            "grid_template_rows": null,
            "height": null,
            "justify_content": null,
            "justify_items": null,
            "left": null,
            "margin": null,
            "max_height": null,
            "max_width": null,
            "min_height": null,
            "min_width": null,
            "object_fit": null,
            "object_position": null,
            "order": null,
            "overflow": null,
            "overflow_x": null,
            "overflow_y": null,
            "padding": null,
            "right": null,
            "top": null,
            "visibility": null,
            "width": null
          }
        },
        "a09c60fb70634c7b91a018f4627fcf3b": {
          "model_module": "@jupyter-widgets/controls",
          "model_name": "ProgressStyleModel",
          "model_module_version": "1.5.0",
          "state": {
            "_model_module": "@jupyter-widgets/controls",
            "_model_module_version": "1.5.0",
            "_model_name": "ProgressStyleModel",
            "_view_count": null,
            "_view_module": "@jupyter-widgets/base",
            "_view_module_version": "1.2.0",
            "_view_name": "StyleView",
            "bar_color": null,
            "description_width": ""
          }
        },
        "c59f3eb009fb41e89eb3818d9c2540ea": {
          "model_module": "@jupyter-widgets/controls",
          "model_name": "VBoxModel",
          "model_module_version": "1.5.0",
          "state": {
            "_dom_classes": [],
            "_model_module": "@jupyter-widgets/controls",
            "_model_module_version": "1.5.0",
            "_model_name": "VBoxModel",
            "_view_count": null,
            "_view_module": "@jupyter-widgets/controls",
            "_view_module_version": "1.5.0",
            "_view_name": "VBoxView",
            "box_style": "",
            "children": [
              "IPY_MODEL_a73fce1ba8ce45f1b3f86534f34a08af",
              "IPY_MODEL_e1de1876fae8473d9e9636840bc0a303"
            ],
            "layout": "IPY_MODEL_aefce94006814d17bd418acfed98a075"
          }
        },
        "a73fce1ba8ce45f1b3f86534f34a08af": {
          "model_module": "@jupyter-widgets/controls",
          "model_name": "LabelModel",
          "model_module_version": "1.5.0",
          "state": {
            "_dom_classes": [],
            "_model_module": "@jupyter-widgets/controls",
            "_model_module_version": "1.5.0",
            "_model_name": "LabelModel",
            "_view_count": null,
            "_view_module": "@jupyter-widgets/controls",
            "_view_module_version": "1.5.0",
            "_view_name": "LabelView",
            "description": "",
            "description_tooltip": null,
            "layout": "IPY_MODEL_e68892f521074557b20bc3f091fd0fa2",
            "placeholder": "​",
            "style": "IPY_MODEL_f01e29eb176e4870874d662feded9b51",
            "value": "0.001 MB of 0.002 MB uploaded (0.000 MB deduped)\r"
          }
        },
        "e1de1876fae8473d9e9636840bc0a303": {
          "model_module": "@jupyter-widgets/controls",
          "model_name": "FloatProgressModel",
          "model_module_version": "1.5.0",
          "state": {
            "_dom_classes": [],
            "_model_module": "@jupyter-widgets/controls",
            "_model_module_version": "1.5.0",
            "_model_name": "FloatProgressModel",
            "_view_count": null,
            "_view_module": "@jupyter-widgets/controls",
            "_view_module_version": "1.5.0",
            "_view_name": "ProgressView",
            "bar_style": "",
            "description": "",
            "description_tooltip": null,
            "layout": "IPY_MODEL_d524bf502dc841cb9bb03ba3e5c66ba0",
            "max": 1,
            "min": 0,
            "orientation": "horizontal",
            "style": "IPY_MODEL_025ce38a589d42b09699f7015b161eea",
            "value": 0.5279027902790279
          }
        },
        "aefce94006814d17bd418acfed98a075": {
          "model_module": "@jupyter-widgets/base",
          "model_name": "LayoutModel",
          "model_module_version": "1.2.0",
          "state": {
            "_model_module": "@jupyter-widgets/base",
            "_model_module_version": "1.2.0",
            "_model_name": "LayoutModel",
            "_view_count": null,
            "_view_module": "@jupyter-widgets/base",
            "_view_module_version": "1.2.0",
            "_view_name": "LayoutView",
            "align_content": null,
            "align_items": null,
            "align_self": null,
            "border": null,
            "bottom": null,
            "display": null,
            "flex": null,
            "flex_flow": null,
            "grid_area": null,
            "grid_auto_columns": null,
            "grid_auto_flow": null,
            "grid_auto_rows": null,
            "grid_column": null,
            "grid_gap": null,
            "grid_row": null,
            "grid_template_areas": null,
            "grid_template_columns": null,
            "grid_template_rows": null,
            "height": null,
            "justify_content": null,
            "justify_items": null,
            "left": null,
            "margin": null,
            "max_height": null,
            "max_width": null,
            "min_height": null,
            "min_width": null,
            "object_fit": null,
            "object_position": null,
            "order": null,
            "overflow": null,
            "overflow_x": null,
            "overflow_y": null,
            "padding": null,
            "right": null,
            "top": null,
            "visibility": null,
            "width": null
          }
        },
        "e68892f521074557b20bc3f091fd0fa2": {
          "model_module": "@jupyter-widgets/base",
          "model_name": "LayoutModel",
          "model_module_version": "1.2.0",
          "state": {
            "_model_module": "@jupyter-widgets/base",
            "_model_module_version": "1.2.0",
            "_model_name": "LayoutModel",
            "_view_count": null,
            "_view_module": "@jupyter-widgets/base",
            "_view_module_version": "1.2.0",
            "_view_name": "LayoutView",
            "align_content": null,
            "align_items": null,
            "align_self": null,
            "border": null,
            "bottom": null,
            "display": null,
            "flex": null,
            "flex_flow": null,
            "grid_area": null,
            "grid_auto_columns": null,
            "grid_auto_flow": null,
            "grid_auto_rows": null,
            "grid_column": null,
            "grid_gap": null,
            "grid_row": null,
            "grid_template_areas": null,
            "grid_template_columns": null,
            "grid_template_rows": null,
            "height": null,
            "justify_content": null,
            "justify_items": null,
            "left": null,
            "margin": null,
            "max_height": null,
            "max_width": null,
            "min_height": null,
            "min_width": null,
            "object_fit": null,
            "object_position": null,
            "order": null,
            "overflow": null,
            "overflow_x": null,
            "overflow_y": null,
            "padding": null,
            "right": null,
            "top": null,
            "visibility": null,
            "width": null
          }
        },
        "f01e29eb176e4870874d662feded9b51": {
          "model_module": "@jupyter-widgets/controls",
          "model_name": "DescriptionStyleModel",
          "model_module_version": "1.5.0",
          "state": {
            "_model_module": "@jupyter-widgets/controls",
            "_model_module_version": "1.5.0",
            "_model_name": "DescriptionStyleModel",
            "_view_count": null,
            "_view_module": "@jupyter-widgets/base",
            "_view_module_version": "1.2.0",
            "_view_name": "StyleView",
            "description_width": ""
          }
        },
        "d524bf502dc841cb9bb03ba3e5c66ba0": {
          "model_module": "@jupyter-widgets/base",
          "model_name": "LayoutModel",
          "model_module_version": "1.2.0",
          "state": {
            "_model_module": "@jupyter-widgets/base",
            "_model_module_version": "1.2.0",
            "_model_name": "LayoutModel",
            "_view_count": null,
            "_view_module": "@jupyter-widgets/base",
            "_view_module_version": "1.2.0",
            "_view_name": "LayoutView",
            "align_content": null,
            "align_items": null,
            "align_self": null,
            "border": null,
            "bottom": null,
            "display": null,
            "flex": null,
            "flex_flow": null,
            "grid_area": null,
            "grid_auto_columns": null,
            "grid_auto_flow": null,
            "grid_auto_rows": null,
            "grid_column": null,
            "grid_gap": null,
            "grid_row": null,
            "grid_template_areas": null,
            "grid_template_columns": null,
            "grid_template_rows": null,
            "height": null,
            "justify_content": null,
            "justify_items": null,
            "left": null,
            "margin": null,
            "max_height": null,
            "max_width": null,
            "min_height": null,
            "min_width": null,
            "object_fit": null,
            "object_position": null,
            "order": null,
            "overflow": null,
            "overflow_x": null,
            "overflow_y": null,
            "padding": null,
            "right": null,
            "top": null,
            "visibility": null,
            "width": null
          }
        },
        "025ce38a589d42b09699f7015b161eea": {
          "model_module": "@jupyter-widgets/controls",
          "model_name": "ProgressStyleModel",
          "model_module_version": "1.5.0",
          "state": {
            "_model_module": "@jupyter-widgets/controls",
            "_model_module_version": "1.5.0",
            "_model_name": "ProgressStyleModel",
            "_view_count": null,
            "_view_module": "@jupyter-widgets/base",
            "_view_module_version": "1.2.0",
            "_view_name": "StyleView",
            "bar_color": null,
            "description_width": ""
          }
        },
        "434f18751d084703832171e38d325a35": {
          "model_module": "@jupyter-widgets/controls",
          "model_name": "VBoxModel",
          "model_module_version": "1.5.0",
          "state": {
            "_dom_classes": [],
            "_model_module": "@jupyter-widgets/controls",
            "_model_module_version": "1.5.0",
            "_model_name": "VBoxModel",
            "_view_count": null,
            "_view_module": "@jupyter-widgets/controls",
            "_view_module_version": "1.5.0",
            "_view_name": "VBoxView",
            "box_style": "",
            "children": [
              "IPY_MODEL_73ff6a9369284e108fafc8c0f6d7c402",
              "IPY_MODEL_920c2a0bf5d94549ac5b08d53c9487c1"
            ],
            "layout": "IPY_MODEL_d9d48f1f0b0644bf90bd0ead97792bb3"
          }
        },
        "73ff6a9369284e108fafc8c0f6d7c402": {
          "model_module": "@jupyter-widgets/controls",
          "model_name": "LabelModel",
          "model_module_version": "1.5.0",
          "state": {
            "_dom_classes": [],
            "_model_module": "@jupyter-widgets/controls",
            "_model_module_version": "1.5.0",
            "_model_name": "LabelModel",
            "_view_count": null,
            "_view_module": "@jupyter-widgets/controls",
            "_view_module_version": "1.5.0",
            "_view_name": "LabelView",
            "description": "",
            "description_tooltip": null,
            "layout": "IPY_MODEL_fda639cb50794c63871055e5c99e7537",
            "placeholder": "​",
            "style": "IPY_MODEL_a9d5b710ccb8412f85e9d25e8bd8ea76",
            "value": "0.001 MB of 0.001 MB uploaded (0.000 MB deduped)\r"
          }
        },
        "920c2a0bf5d94549ac5b08d53c9487c1": {
          "model_module": "@jupyter-widgets/controls",
          "model_name": "FloatProgressModel",
          "model_module_version": "1.5.0",
          "state": {
            "_dom_classes": [],
            "_model_module": "@jupyter-widgets/controls",
            "_model_module_version": "1.5.0",
            "_model_name": "FloatProgressModel",
            "_view_count": null,
            "_view_module": "@jupyter-widgets/controls",
            "_view_module_version": "1.5.0",
            "_view_name": "ProgressView",
            "bar_style": "",
            "description": "",
            "description_tooltip": null,
            "layout": "IPY_MODEL_b7eb10392fb54affbf410a2ea686fae8",
            "max": 1,
            "min": 0,
            "orientation": "horizontal",
            "style": "IPY_MODEL_8f81319e5abf43d6bf8c69fdb325fb69",
            "value": 1
          }
        },
        "d9d48f1f0b0644bf90bd0ead97792bb3": {
          "model_module": "@jupyter-widgets/base",
          "model_name": "LayoutModel",
          "model_module_version": "1.2.0",
          "state": {
            "_model_module": "@jupyter-widgets/base",
            "_model_module_version": "1.2.0",
            "_model_name": "LayoutModel",
            "_view_count": null,
            "_view_module": "@jupyter-widgets/base",
            "_view_module_version": "1.2.0",
            "_view_name": "LayoutView",
            "align_content": null,
            "align_items": null,
            "align_self": null,
            "border": null,
            "bottom": null,
            "display": null,
            "flex": null,
            "flex_flow": null,
            "grid_area": null,
            "grid_auto_columns": null,
            "grid_auto_flow": null,
            "grid_auto_rows": null,
            "grid_column": null,
            "grid_gap": null,
            "grid_row": null,
            "grid_template_areas": null,
            "grid_template_columns": null,
            "grid_template_rows": null,
            "height": null,
            "justify_content": null,
            "justify_items": null,
            "left": null,
            "margin": null,
            "max_height": null,
            "max_width": null,
            "min_height": null,
            "min_width": null,
            "object_fit": null,
            "object_position": null,
            "order": null,
            "overflow": null,
            "overflow_x": null,
            "overflow_y": null,
            "padding": null,
            "right": null,
            "top": null,
            "visibility": null,
            "width": null
          }
        },
        "fda639cb50794c63871055e5c99e7537": {
          "model_module": "@jupyter-widgets/base",
          "model_name": "LayoutModel",
          "model_module_version": "1.2.0",
          "state": {
            "_model_module": "@jupyter-widgets/base",
            "_model_module_version": "1.2.0",
            "_model_name": "LayoutModel",
            "_view_count": null,
            "_view_module": "@jupyter-widgets/base",
            "_view_module_version": "1.2.0",
            "_view_name": "LayoutView",
            "align_content": null,
            "align_items": null,
            "align_self": null,
            "border": null,
            "bottom": null,
            "display": null,
            "flex": null,
            "flex_flow": null,
            "grid_area": null,
            "grid_auto_columns": null,
            "grid_auto_flow": null,
            "grid_auto_rows": null,
            "grid_column": null,
            "grid_gap": null,
            "grid_row": null,
            "grid_template_areas": null,
            "grid_template_columns": null,
            "grid_template_rows": null,
            "height": null,
            "justify_content": null,
            "justify_items": null,
            "left": null,
            "margin": null,
            "max_height": null,
            "max_width": null,
            "min_height": null,
            "min_width": null,
            "object_fit": null,
            "object_position": null,
            "order": null,
            "overflow": null,
            "overflow_x": null,
            "overflow_y": null,
            "padding": null,
            "right": null,
            "top": null,
            "visibility": null,
            "width": null
          }
        },
        "a9d5b710ccb8412f85e9d25e8bd8ea76": {
          "model_module": "@jupyter-widgets/controls",
          "model_name": "DescriptionStyleModel",
          "model_module_version": "1.5.0",
          "state": {
            "_model_module": "@jupyter-widgets/controls",
            "_model_module_version": "1.5.0",
            "_model_name": "DescriptionStyleModel",
            "_view_count": null,
            "_view_module": "@jupyter-widgets/base",
            "_view_module_version": "1.2.0",
            "_view_name": "StyleView",
            "description_width": ""
          }
        },
        "b7eb10392fb54affbf410a2ea686fae8": {
          "model_module": "@jupyter-widgets/base",
          "model_name": "LayoutModel",
          "model_module_version": "1.2.0",
          "state": {
            "_model_module": "@jupyter-widgets/base",
            "_model_module_version": "1.2.0",
            "_model_name": "LayoutModel",
            "_view_count": null,
            "_view_module": "@jupyter-widgets/base",
            "_view_module_version": "1.2.0",
            "_view_name": "LayoutView",
            "align_content": null,
            "align_items": null,
            "align_self": null,
            "border": null,
            "bottom": null,
            "display": null,
            "flex": null,
            "flex_flow": null,
            "grid_area": null,
            "grid_auto_columns": null,
            "grid_auto_flow": null,
            "grid_auto_rows": null,
            "grid_column": null,
            "grid_gap": null,
            "grid_row": null,
            "grid_template_areas": null,
            "grid_template_columns": null,
            "grid_template_rows": null,
            "height": null,
            "justify_content": null,
            "justify_items": null,
            "left": null,
            "margin": null,
            "max_height": null,
            "max_width": null,
            "min_height": null,
            "min_width": null,
            "object_fit": null,
            "object_position": null,
            "order": null,
            "overflow": null,
            "overflow_x": null,
            "overflow_y": null,
            "padding": null,
            "right": null,
            "top": null,
            "visibility": null,
            "width": null
          }
        },
        "8f81319e5abf43d6bf8c69fdb325fb69": {
          "model_module": "@jupyter-widgets/controls",
          "model_name": "ProgressStyleModel",
          "model_module_version": "1.5.0",
          "state": {
            "_model_module": "@jupyter-widgets/controls",
            "_model_module_version": "1.5.0",
            "_model_name": "ProgressStyleModel",
            "_view_count": null,
            "_view_module": "@jupyter-widgets/base",
            "_view_module_version": "1.2.0",
            "_view_name": "StyleView",
            "bar_color": null,
            "description_width": ""
          }
        },
        "d41d25c948b24ecdbb89a48e06110f9e": {
          "model_module": "@jupyter-widgets/controls",
          "model_name": "VBoxModel",
          "model_module_version": "1.5.0",
          "state": {
            "_dom_classes": [],
            "_model_module": "@jupyter-widgets/controls",
            "_model_module_version": "1.5.0",
            "_model_name": "VBoxModel",
            "_view_count": null,
            "_view_module": "@jupyter-widgets/controls",
            "_view_module_version": "1.5.0",
            "_view_name": "VBoxView",
            "box_style": "",
            "children": [
              "IPY_MODEL_ed5cea72399a450c80bcc5611080bc10",
              "IPY_MODEL_59502ddb019c4b118675f525fe1af9fe"
            ],
            "layout": "IPY_MODEL_9dee0cd424304fa5a18d29c99ea3459d"
          }
        },
        "ed5cea72399a450c80bcc5611080bc10": {
          "model_module": "@jupyter-widgets/controls",
          "model_name": "LabelModel",
          "model_module_version": "1.5.0",
          "state": {
            "_dom_classes": [],
            "_model_module": "@jupyter-widgets/controls",
            "_model_module_version": "1.5.0",
            "_model_name": "LabelModel",
            "_view_count": null,
            "_view_module": "@jupyter-widgets/controls",
            "_view_module_version": "1.5.0",
            "_view_name": "LabelView",
            "description": "",
            "description_tooltip": null,
            "layout": "IPY_MODEL_e35a2bb0b4154df8b0e68ec61fdb6a47",
            "placeholder": "​",
            "style": "IPY_MODEL_3dd65e71bda342048c948686c56b6581",
            "value": "0.001 MB of 0.009 MB uploaded (0.000 MB deduped)\r"
          }
        },
        "59502ddb019c4b118675f525fe1af9fe": {
          "model_module": "@jupyter-widgets/controls",
          "model_name": "FloatProgressModel",
          "model_module_version": "1.5.0",
          "state": {
            "_dom_classes": [],
            "_model_module": "@jupyter-widgets/controls",
            "_model_module_version": "1.5.0",
            "_model_name": "FloatProgressModel",
            "_view_count": null,
            "_view_module": "@jupyter-widgets/controls",
            "_view_module_version": "1.5.0",
            "_view_name": "ProgressView",
            "bar_style": "",
            "description": "",
            "description_tooltip": null,
            "layout": "IPY_MODEL_e7bd4d0a2fd845c386644908153e00e1",
            "max": 1,
            "min": 0,
            "orientation": "horizontal",
            "style": "IPY_MODEL_f9da532981194a17a4f3d6a95a90905f",
            "value": 0.11951095262353541
          }
        },
        "9dee0cd424304fa5a18d29c99ea3459d": {
          "model_module": "@jupyter-widgets/base",
          "model_name": "LayoutModel",
          "model_module_version": "1.2.0",
          "state": {
            "_model_module": "@jupyter-widgets/base",
            "_model_module_version": "1.2.0",
            "_model_name": "LayoutModel",
            "_view_count": null,
            "_view_module": "@jupyter-widgets/base",
            "_view_module_version": "1.2.0",
            "_view_name": "LayoutView",
            "align_content": null,
            "align_items": null,
            "align_self": null,
            "border": null,
            "bottom": null,
            "display": null,
            "flex": null,
            "flex_flow": null,
            "grid_area": null,
            "grid_auto_columns": null,
            "grid_auto_flow": null,
            "grid_auto_rows": null,
            "grid_column": null,
            "grid_gap": null,
            "grid_row": null,
            "grid_template_areas": null,
            "grid_template_columns": null,
            "grid_template_rows": null,
            "height": null,
            "justify_content": null,
            "justify_items": null,
            "left": null,
            "margin": null,
            "max_height": null,
            "max_width": null,
            "min_height": null,
            "min_width": null,
            "object_fit": null,
            "object_position": null,
            "order": null,
            "overflow": null,
            "overflow_x": null,
            "overflow_y": null,
            "padding": null,
            "right": null,
            "top": null,
            "visibility": null,
            "width": null
          }
        },
        "e35a2bb0b4154df8b0e68ec61fdb6a47": {
          "model_module": "@jupyter-widgets/base",
          "model_name": "LayoutModel",
          "model_module_version": "1.2.0",
          "state": {
            "_model_module": "@jupyter-widgets/base",
            "_model_module_version": "1.2.0",
            "_model_name": "LayoutModel",
            "_view_count": null,
            "_view_module": "@jupyter-widgets/base",
            "_view_module_version": "1.2.0",
            "_view_name": "LayoutView",
            "align_content": null,
            "align_items": null,
            "align_self": null,
            "border": null,
            "bottom": null,
            "display": null,
            "flex": null,
            "flex_flow": null,
            "grid_area": null,
            "grid_auto_columns": null,
            "grid_auto_flow": null,
            "grid_auto_rows": null,
            "grid_column": null,
            "grid_gap": null,
            "grid_row": null,
            "grid_template_areas": null,
            "grid_template_columns": null,
            "grid_template_rows": null,
            "height": null,
            "justify_content": null,
            "justify_items": null,
            "left": null,
            "margin": null,
            "max_height": null,
            "max_width": null,
            "min_height": null,
            "min_width": null,
            "object_fit": null,
            "object_position": null,
            "order": null,
            "overflow": null,
            "overflow_x": null,
            "overflow_y": null,
            "padding": null,
            "right": null,
            "top": null,
            "visibility": null,
            "width": null
          }
        },
        "3dd65e71bda342048c948686c56b6581": {
          "model_module": "@jupyter-widgets/controls",
          "model_name": "DescriptionStyleModel",
          "model_module_version": "1.5.0",
          "state": {
            "_model_module": "@jupyter-widgets/controls",
            "_model_module_version": "1.5.0",
            "_model_name": "DescriptionStyleModel",
            "_view_count": null,
            "_view_module": "@jupyter-widgets/base",
            "_view_module_version": "1.2.0",
            "_view_name": "StyleView",
            "description_width": ""
          }
        },
        "e7bd4d0a2fd845c386644908153e00e1": {
          "model_module": "@jupyter-widgets/base",
          "model_name": "LayoutModel",
          "model_module_version": "1.2.0",
          "state": {
            "_model_module": "@jupyter-widgets/base",
            "_model_module_version": "1.2.0",
            "_model_name": "LayoutModel",
            "_view_count": null,
            "_view_module": "@jupyter-widgets/base",
            "_view_module_version": "1.2.0",
            "_view_name": "LayoutView",
            "align_content": null,
            "align_items": null,
            "align_self": null,
            "border": null,
            "bottom": null,
            "display": null,
            "flex": null,
            "flex_flow": null,
            "grid_area": null,
            "grid_auto_columns": null,
            "grid_auto_flow": null,
            "grid_auto_rows": null,
            "grid_column": null,
            "grid_gap": null,
            "grid_row": null,
            "grid_template_areas": null,
            "grid_template_columns": null,
            "grid_template_rows": null,
            "height": null,
            "justify_content": null,
            "justify_items": null,
            "left": null,
            "margin": null,
            "max_height": null,
            "max_width": null,
            "min_height": null,
            "min_width": null,
            "object_fit": null,
            "object_position": null,
            "order": null,
            "overflow": null,
            "overflow_x": null,
            "overflow_y": null,
            "padding": null,
            "right": null,
            "top": null,
            "visibility": null,
            "width": null
          }
        },
        "f9da532981194a17a4f3d6a95a90905f": {
          "model_module": "@jupyter-widgets/controls",
          "model_name": "ProgressStyleModel",
          "model_module_version": "1.5.0",
          "state": {
            "_model_module": "@jupyter-widgets/controls",
            "_model_module_version": "1.5.0",
            "_model_name": "ProgressStyleModel",
            "_view_count": null,
            "_view_module": "@jupyter-widgets/base",
            "_view_module_version": "1.2.0",
            "_view_name": "StyleView",
            "bar_color": null,
            "description_width": ""
          }
        },
        "a4e4f3966bca4d4aa5a9831dabb93531": {
          "model_module": "@jupyter-widgets/controls",
          "model_name": "VBoxModel",
          "model_module_version": "1.5.0",
          "state": {
            "_dom_classes": [],
            "_model_module": "@jupyter-widgets/controls",
            "_model_module_version": "1.5.0",
            "_model_name": "VBoxModel",
            "_view_count": null,
            "_view_module": "@jupyter-widgets/controls",
            "_view_module_version": "1.5.0",
            "_view_name": "VBoxView",
            "box_style": "",
            "children": [
              "IPY_MODEL_dab93586f5ed4fc58b3b50ecf0e9588f",
              "IPY_MODEL_e05832ef56dc422a9eead599bceea25d"
            ],
            "layout": "IPY_MODEL_6df7a97a8fdb45ef8813c6a318f147e2"
          }
        },
        "dab93586f5ed4fc58b3b50ecf0e9588f": {
          "model_module": "@jupyter-widgets/controls",
          "model_name": "LabelModel",
          "model_module_version": "1.5.0",
          "state": {
            "_dom_classes": [],
            "_model_module": "@jupyter-widgets/controls",
            "_model_module_version": "1.5.0",
            "_model_name": "LabelModel",
            "_view_count": null,
            "_view_module": "@jupyter-widgets/controls",
            "_view_module_version": "1.5.0",
            "_view_name": "LabelView",
            "description": "",
            "description_tooltip": null,
            "layout": "IPY_MODEL_4439d07990bc489a82f2b9b368ac176e",
            "placeholder": "​",
            "style": "IPY_MODEL_9312679ba6ec485da367410421ecbbc0",
            "value": "0.001 MB of 0.009 MB uploaded (0.000 MB deduped)\r"
          }
        },
        "e05832ef56dc422a9eead599bceea25d": {
          "model_module": "@jupyter-widgets/controls",
          "model_name": "FloatProgressModel",
          "model_module_version": "1.5.0",
          "state": {
            "_dom_classes": [],
            "_model_module": "@jupyter-widgets/controls",
            "_model_module_version": "1.5.0",
            "_model_name": "FloatProgressModel",
            "_view_count": null,
            "_view_module": "@jupyter-widgets/controls",
            "_view_module_version": "1.5.0",
            "_view_name": "ProgressView",
            "bar_style": "",
            "description": "",
            "description_tooltip": null,
            "layout": "IPY_MODEL_461b2aa200c0425c86e562e6a9b0209d",
            "max": 1,
            "min": 0,
            "orientation": "horizontal",
            "style": "IPY_MODEL_31f415a64afe4874acb29b11caab883c",
            "value": 0.11947443471175392
          }
        },
        "6df7a97a8fdb45ef8813c6a318f147e2": {
          "model_module": "@jupyter-widgets/base",
          "model_name": "LayoutModel",
          "model_module_version": "1.2.0",
          "state": {
            "_model_module": "@jupyter-widgets/base",
            "_model_module_version": "1.2.0",
            "_model_name": "LayoutModel",
            "_view_count": null,
            "_view_module": "@jupyter-widgets/base",
            "_view_module_version": "1.2.0",
            "_view_name": "LayoutView",
            "align_content": null,
            "align_items": null,
            "align_self": null,
            "border": null,
            "bottom": null,
            "display": null,
            "flex": null,
            "flex_flow": null,
            "grid_area": null,
            "grid_auto_columns": null,
            "grid_auto_flow": null,
            "grid_auto_rows": null,
            "grid_column": null,
            "grid_gap": null,
            "grid_row": null,
            "grid_template_areas": null,
            "grid_template_columns": null,
            "grid_template_rows": null,
            "height": null,
            "justify_content": null,
            "justify_items": null,
            "left": null,
            "margin": null,
            "max_height": null,
            "max_width": null,
            "min_height": null,
            "min_width": null,
            "object_fit": null,
            "object_position": null,
            "order": null,
            "overflow": null,
            "overflow_x": null,
            "overflow_y": null,
            "padding": null,
            "right": null,
            "top": null,
            "visibility": null,
            "width": null
          }
        },
        "4439d07990bc489a82f2b9b368ac176e": {
          "model_module": "@jupyter-widgets/base",
          "model_name": "LayoutModel",
          "model_module_version": "1.2.0",
          "state": {
            "_model_module": "@jupyter-widgets/base",
            "_model_module_version": "1.2.0",
            "_model_name": "LayoutModel",
            "_view_count": null,
            "_view_module": "@jupyter-widgets/base",
            "_view_module_version": "1.2.0",
            "_view_name": "LayoutView",
            "align_content": null,
            "align_items": null,
            "align_self": null,
            "border": null,
            "bottom": null,
            "display": null,
            "flex": null,
            "flex_flow": null,
            "grid_area": null,
            "grid_auto_columns": null,
            "grid_auto_flow": null,
            "grid_auto_rows": null,
            "grid_column": null,
            "grid_gap": null,
            "grid_row": null,
            "grid_template_areas": null,
            "grid_template_columns": null,
            "grid_template_rows": null,
            "height": null,
            "justify_content": null,
            "justify_items": null,
            "left": null,
            "margin": null,
            "max_height": null,
            "max_width": null,
            "min_height": null,
            "min_width": null,
            "object_fit": null,
            "object_position": null,
            "order": null,
            "overflow": null,
            "overflow_x": null,
            "overflow_y": null,
            "padding": null,
            "right": null,
            "top": null,
            "visibility": null,
            "width": null
          }
        },
        "9312679ba6ec485da367410421ecbbc0": {
          "model_module": "@jupyter-widgets/controls",
          "model_name": "DescriptionStyleModel",
          "model_module_version": "1.5.0",
          "state": {
            "_model_module": "@jupyter-widgets/controls",
            "_model_module_version": "1.5.0",
            "_model_name": "DescriptionStyleModel",
            "_view_count": null,
            "_view_module": "@jupyter-widgets/base",
            "_view_module_version": "1.2.0",
            "_view_name": "StyleView",
            "description_width": ""
          }
        },
        "461b2aa200c0425c86e562e6a9b0209d": {
          "model_module": "@jupyter-widgets/base",
          "model_name": "LayoutModel",
          "model_module_version": "1.2.0",
          "state": {
            "_model_module": "@jupyter-widgets/base",
            "_model_module_version": "1.2.0",
            "_model_name": "LayoutModel",
            "_view_count": null,
            "_view_module": "@jupyter-widgets/base",
            "_view_module_version": "1.2.0",
            "_view_name": "LayoutView",
            "align_content": null,
            "align_items": null,
            "align_self": null,
            "border": null,
            "bottom": null,
            "display": null,
            "flex": null,
            "flex_flow": null,
            "grid_area": null,
            "grid_auto_columns": null,
            "grid_auto_flow": null,
            "grid_auto_rows": null,
            "grid_column": null,
            "grid_gap": null,
            "grid_row": null,
            "grid_template_areas": null,
            "grid_template_columns": null,
            "grid_template_rows": null,
            "height": null,
            "justify_content": null,
            "justify_items": null,
            "left": null,
            "margin": null,
            "max_height": null,
            "max_width": null,
            "min_height": null,
            "min_width": null,
            "object_fit": null,
            "object_position": null,
            "order": null,
            "overflow": null,
            "overflow_x": null,
            "overflow_y": null,
            "padding": null,
            "right": null,
            "top": null,
            "visibility": null,
            "width": null
          }
        },
        "31f415a64afe4874acb29b11caab883c": {
          "model_module": "@jupyter-widgets/controls",
          "model_name": "ProgressStyleModel",
          "model_module_version": "1.5.0",
          "state": {
            "_model_module": "@jupyter-widgets/controls",
            "_model_module_version": "1.5.0",
            "_model_name": "ProgressStyleModel",
            "_view_count": null,
            "_view_module": "@jupyter-widgets/base",
            "_view_module_version": "1.2.0",
            "_view_name": "StyleView",
            "bar_color": null,
            "description_width": ""
          }
        },
        "9564e0c8bb9a4e3397d4530ca3bb1cc4": {
          "model_module": "@jupyter-widgets/controls",
          "model_name": "VBoxModel",
          "model_module_version": "1.5.0",
          "state": {
            "_dom_classes": [],
            "_model_module": "@jupyter-widgets/controls",
            "_model_module_version": "1.5.0",
            "_model_name": "VBoxModel",
            "_view_count": null,
            "_view_module": "@jupyter-widgets/controls",
            "_view_module_version": "1.5.0",
            "_view_name": "VBoxView",
            "box_style": "",
            "children": [
              "IPY_MODEL_2d1a975cf36445bf9070b9ede38c0c17",
              "IPY_MODEL_ffdbd15871594216afe3a70f19f31122"
            ],
            "layout": "IPY_MODEL_9ed8b508781a41d3a68445551a2a26b7"
          }
        },
        "2d1a975cf36445bf9070b9ede38c0c17": {
          "model_module": "@jupyter-widgets/controls",
          "model_name": "LabelModel",
          "model_module_version": "1.5.0",
          "state": {
            "_dom_classes": [],
            "_model_module": "@jupyter-widgets/controls",
            "_model_module_version": "1.5.0",
            "_model_name": "LabelModel",
            "_view_count": null,
            "_view_module": "@jupyter-widgets/controls",
            "_view_module_version": "1.5.0",
            "_view_name": "LabelView",
            "description": "",
            "description_tooltip": null,
            "layout": "IPY_MODEL_d0fa49cca98d4ef28807fd7fbf9669da",
            "placeholder": "​",
            "style": "IPY_MODEL_04835c94cdc54ae38144703b7e9c72c0",
            "value": "0.001 MB of 0.001 MB uploaded (0.000 MB deduped)\r"
          }
        },
        "ffdbd15871594216afe3a70f19f31122": {
          "model_module": "@jupyter-widgets/controls",
          "model_name": "FloatProgressModel",
          "model_module_version": "1.5.0",
          "state": {
            "_dom_classes": [],
            "_model_module": "@jupyter-widgets/controls",
            "_model_module_version": "1.5.0",
            "_model_name": "FloatProgressModel",
            "_view_count": null,
            "_view_module": "@jupyter-widgets/controls",
            "_view_module_version": "1.5.0",
            "_view_name": "ProgressView",
            "bar_style": "",
            "description": "",
            "description_tooltip": null,
            "layout": "IPY_MODEL_b17440aeab94438bb2f03b60b8d15793",
            "max": 1,
            "min": 0,
            "orientation": "horizontal",
            "style": "IPY_MODEL_1d6193ab2ebc4a939d98fb81ddb9381d",
            "value": 1
          }
        },
        "9ed8b508781a41d3a68445551a2a26b7": {
          "model_module": "@jupyter-widgets/base",
          "model_name": "LayoutModel",
          "model_module_version": "1.2.0",
          "state": {
            "_model_module": "@jupyter-widgets/base",
            "_model_module_version": "1.2.0",
            "_model_name": "LayoutModel",
            "_view_count": null,
            "_view_module": "@jupyter-widgets/base",
            "_view_module_version": "1.2.0",
            "_view_name": "LayoutView",
            "align_content": null,
            "align_items": null,
            "align_self": null,
            "border": null,
            "bottom": null,
            "display": null,
            "flex": null,
            "flex_flow": null,
            "grid_area": null,
            "grid_auto_columns": null,
            "grid_auto_flow": null,
            "grid_auto_rows": null,
            "grid_column": null,
            "grid_gap": null,
            "grid_row": null,
            "grid_template_areas": null,
            "grid_template_columns": null,
            "grid_template_rows": null,
            "height": null,
            "justify_content": null,
            "justify_items": null,
            "left": null,
            "margin": null,
            "max_height": null,
            "max_width": null,
            "min_height": null,
            "min_width": null,
            "object_fit": null,
            "object_position": null,
            "order": null,
            "overflow": null,
            "overflow_x": null,
            "overflow_y": null,
            "padding": null,
            "right": null,
            "top": null,
            "visibility": null,
            "width": null
          }
        },
        "d0fa49cca98d4ef28807fd7fbf9669da": {
          "model_module": "@jupyter-widgets/base",
          "model_name": "LayoutModel",
          "model_module_version": "1.2.0",
          "state": {
            "_model_module": "@jupyter-widgets/base",
            "_model_module_version": "1.2.0",
            "_model_name": "LayoutModel",
            "_view_count": null,
            "_view_module": "@jupyter-widgets/base",
            "_view_module_version": "1.2.0",
            "_view_name": "LayoutView",
            "align_content": null,
            "align_items": null,
            "align_self": null,
            "border": null,
            "bottom": null,
            "display": null,
            "flex": null,
            "flex_flow": null,
            "grid_area": null,
            "grid_auto_columns": null,
            "grid_auto_flow": null,
            "grid_auto_rows": null,
            "grid_column": null,
            "grid_gap": null,
            "grid_row": null,
            "grid_template_areas": null,
            "grid_template_columns": null,
            "grid_template_rows": null,
            "height": null,
            "justify_content": null,
            "justify_items": null,
            "left": null,
            "margin": null,
            "max_height": null,
            "max_width": null,
            "min_height": null,
            "min_width": null,
            "object_fit": null,
            "object_position": null,
            "order": null,
            "overflow": null,
            "overflow_x": null,
            "overflow_y": null,
            "padding": null,
            "right": null,
            "top": null,
            "visibility": null,
            "width": null
          }
        },
        "04835c94cdc54ae38144703b7e9c72c0": {
          "model_module": "@jupyter-widgets/controls",
          "model_name": "DescriptionStyleModel",
          "model_module_version": "1.5.0",
          "state": {
            "_model_module": "@jupyter-widgets/controls",
            "_model_module_version": "1.5.0",
            "_model_name": "DescriptionStyleModel",
            "_view_count": null,
            "_view_module": "@jupyter-widgets/base",
            "_view_module_version": "1.2.0",
            "_view_name": "StyleView",
            "description_width": ""
          }
        },
        "b17440aeab94438bb2f03b60b8d15793": {
          "model_module": "@jupyter-widgets/base",
          "model_name": "LayoutModel",
          "model_module_version": "1.2.0",
          "state": {
            "_model_module": "@jupyter-widgets/base",
            "_model_module_version": "1.2.0",
            "_model_name": "LayoutModel",
            "_view_count": null,
            "_view_module": "@jupyter-widgets/base",
            "_view_module_version": "1.2.0",
            "_view_name": "LayoutView",
            "align_content": null,
            "align_items": null,
            "align_self": null,
            "border": null,
            "bottom": null,
            "display": null,
            "flex": null,
            "flex_flow": null,
            "grid_area": null,
            "grid_auto_columns": null,
            "grid_auto_flow": null,
            "grid_auto_rows": null,
            "grid_column": null,
            "grid_gap": null,
            "grid_row": null,
            "grid_template_areas": null,
            "grid_template_columns": null,
            "grid_template_rows": null,
            "height": null,
            "justify_content": null,
            "justify_items": null,
            "left": null,
            "margin": null,
            "max_height": null,
            "max_width": null,
            "min_height": null,
            "min_width": null,
            "object_fit": null,
            "object_position": null,
            "order": null,
            "overflow": null,
            "overflow_x": null,
            "overflow_y": null,
            "padding": null,
            "right": null,
            "top": null,
            "visibility": null,
            "width": null
          }
        },
        "1d6193ab2ebc4a939d98fb81ddb9381d": {
          "model_module": "@jupyter-widgets/controls",
          "model_name": "ProgressStyleModel",
          "model_module_version": "1.5.0",
          "state": {
            "_model_module": "@jupyter-widgets/controls",
            "_model_module_version": "1.5.0",
            "_model_name": "ProgressStyleModel",
            "_view_count": null,
            "_view_module": "@jupyter-widgets/base",
            "_view_module_version": "1.2.0",
            "_view_name": "StyleView",
            "bar_color": null,
            "description_width": ""
          }
        },
        "38b0612ec82a4b0ebb886ad256038fea": {
          "model_module": "@jupyter-widgets/controls",
          "model_name": "VBoxModel",
          "model_module_version": "1.5.0",
          "state": {
            "_dom_classes": [],
            "_model_module": "@jupyter-widgets/controls",
            "_model_module_version": "1.5.0",
            "_model_name": "VBoxModel",
            "_view_count": null,
            "_view_module": "@jupyter-widgets/controls",
            "_view_module_version": "1.5.0",
            "_view_name": "VBoxView",
            "box_style": "",
            "children": [
              "IPY_MODEL_9c586cdb1e484646931f0927ec21e40d",
              "IPY_MODEL_0e03600ee87e4e26be66bbe619d2388a"
            ],
            "layout": "IPY_MODEL_14cea5958ace47bcaf597f2f9e49cc4e"
          }
        },
        "9c586cdb1e484646931f0927ec21e40d": {
          "model_module": "@jupyter-widgets/controls",
          "model_name": "LabelModel",
          "model_module_version": "1.5.0",
          "state": {
            "_dom_classes": [],
            "_model_module": "@jupyter-widgets/controls",
            "_model_module_version": "1.5.0",
            "_model_name": "LabelModel",
            "_view_count": null,
            "_view_module": "@jupyter-widgets/controls",
            "_view_module_version": "1.5.0",
            "_view_name": "LabelView",
            "description": "",
            "description_tooltip": null,
            "layout": "IPY_MODEL_7ec111d2338143248b1f9413019a9f43",
            "placeholder": "​",
            "style": "IPY_MODEL_7690fb8471064fecac273ce33b9646f5",
            "value": "0.001 MB of 0.001 MB uploaded (0.000 MB deduped)\r"
          }
        },
        "0e03600ee87e4e26be66bbe619d2388a": {
          "model_module": "@jupyter-widgets/controls",
          "model_name": "FloatProgressModel",
          "model_module_version": "1.5.0",
          "state": {
            "_dom_classes": [],
            "_model_module": "@jupyter-widgets/controls",
            "_model_module_version": "1.5.0",
            "_model_name": "FloatProgressModel",
            "_view_count": null,
            "_view_module": "@jupyter-widgets/controls",
            "_view_module_version": "1.5.0",
            "_view_name": "ProgressView",
            "bar_style": "",
            "description": "",
            "description_tooltip": null,
            "layout": "IPY_MODEL_a7171c0ff3644c4da28da5e612abc063",
            "max": 1,
            "min": 0,
            "orientation": "horizontal",
            "style": "IPY_MODEL_0b5e4528997e4bc6bd79bfc080b7cd30",
            "value": 1
          }
        },
        "14cea5958ace47bcaf597f2f9e49cc4e": {
          "model_module": "@jupyter-widgets/base",
          "model_name": "LayoutModel",
          "model_module_version": "1.2.0",
          "state": {
            "_model_module": "@jupyter-widgets/base",
            "_model_module_version": "1.2.0",
            "_model_name": "LayoutModel",
            "_view_count": null,
            "_view_module": "@jupyter-widgets/base",
            "_view_module_version": "1.2.0",
            "_view_name": "LayoutView",
            "align_content": null,
            "align_items": null,
            "align_self": null,
            "border": null,
            "bottom": null,
            "display": null,
            "flex": null,
            "flex_flow": null,
            "grid_area": null,
            "grid_auto_columns": null,
            "grid_auto_flow": null,
            "grid_auto_rows": null,
            "grid_column": null,
            "grid_gap": null,
            "grid_row": null,
            "grid_template_areas": null,
            "grid_template_columns": null,
            "grid_template_rows": null,
            "height": null,
            "justify_content": null,
            "justify_items": null,
            "left": null,
            "margin": null,
            "max_height": null,
            "max_width": null,
            "min_height": null,
            "min_width": null,
            "object_fit": null,
            "object_position": null,
            "order": null,
            "overflow": null,
            "overflow_x": null,
            "overflow_y": null,
            "padding": null,
            "right": null,
            "top": null,
            "visibility": null,
            "width": null
          }
        },
        "7ec111d2338143248b1f9413019a9f43": {
          "model_module": "@jupyter-widgets/base",
          "model_name": "LayoutModel",
          "model_module_version": "1.2.0",
          "state": {
            "_model_module": "@jupyter-widgets/base",
            "_model_module_version": "1.2.0",
            "_model_name": "LayoutModel",
            "_view_count": null,
            "_view_module": "@jupyter-widgets/base",
            "_view_module_version": "1.2.0",
            "_view_name": "LayoutView",
            "align_content": null,
            "align_items": null,
            "align_self": null,
            "border": null,
            "bottom": null,
            "display": null,
            "flex": null,
            "flex_flow": null,
            "grid_area": null,
            "grid_auto_columns": null,
            "grid_auto_flow": null,
            "grid_auto_rows": null,
            "grid_column": null,
            "grid_gap": null,
            "grid_row": null,
            "grid_template_areas": null,
            "grid_template_columns": null,
            "grid_template_rows": null,
            "height": null,
            "justify_content": null,
            "justify_items": null,
            "left": null,
            "margin": null,
            "max_height": null,
            "max_width": null,
            "min_height": null,
            "min_width": null,
            "object_fit": null,
            "object_position": null,
            "order": null,
            "overflow": null,
            "overflow_x": null,
            "overflow_y": null,
            "padding": null,
            "right": null,
            "top": null,
            "visibility": null,
            "width": null
          }
        },
        "7690fb8471064fecac273ce33b9646f5": {
          "model_module": "@jupyter-widgets/controls",
          "model_name": "DescriptionStyleModel",
          "model_module_version": "1.5.0",
          "state": {
            "_model_module": "@jupyter-widgets/controls",
            "_model_module_version": "1.5.0",
            "_model_name": "DescriptionStyleModel",
            "_view_count": null,
            "_view_module": "@jupyter-widgets/base",
            "_view_module_version": "1.2.0",
            "_view_name": "StyleView",
            "description_width": ""
          }
        },
        "a7171c0ff3644c4da28da5e612abc063": {
          "model_module": "@jupyter-widgets/base",
          "model_name": "LayoutModel",
          "model_module_version": "1.2.0",
          "state": {
            "_model_module": "@jupyter-widgets/base",
            "_model_module_version": "1.2.0",
            "_model_name": "LayoutModel",
            "_view_count": null,
            "_view_module": "@jupyter-widgets/base",
            "_view_module_version": "1.2.0",
            "_view_name": "LayoutView",
            "align_content": null,
            "align_items": null,
            "align_self": null,
            "border": null,
            "bottom": null,
            "display": null,
            "flex": null,
            "flex_flow": null,
            "grid_area": null,
            "grid_auto_columns": null,
            "grid_auto_flow": null,
            "grid_auto_rows": null,
            "grid_column": null,
            "grid_gap": null,
            "grid_row": null,
            "grid_template_areas": null,
            "grid_template_columns": null,
            "grid_template_rows": null,
            "height": null,
            "justify_content": null,
            "justify_items": null,
            "left": null,
            "margin": null,
            "max_height": null,
            "max_width": null,
            "min_height": null,
            "min_width": null,
            "object_fit": null,
            "object_position": null,
            "order": null,
            "overflow": null,
            "overflow_x": null,
            "overflow_y": null,
            "padding": null,
            "right": null,
            "top": null,
            "visibility": null,
            "width": null
          }
        },
        "0b5e4528997e4bc6bd79bfc080b7cd30": {
          "model_module": "@jupyter-widgets/controls",
          "model_name": "ProgressStyleModel",
          "model_module_version": "1.5.0",
          "state": {
            "_model_module": "@jupyter-widgets/controls",
            "_model_module_version": "1.5.0",
            "_model_name": "ProgressStyleModel",
            "_view_count": null,
            "_view_module": "@jupyter-widgets/base",
            "_view_module_version": "1.2.0",
            "_view_name": "StyleView",
            "bar_color": null,
            "description_width": ""
          }
        },
        "65c8434d41964b2fbd12f8aab39a38bc": {
          "model_module": "@jupyter-widgets/controls",
          "model_name": "VBoxModel",
          "model_module_version": "1.5.0",
          "state": {
            "_dom_classes": [],
            "_model_module": "@jupyter-widgets/controls",
            "_model_module_version": "1.5.0",
            "_model_name": "VBoxModel",
            "_view_count": null,
            "_view_module": "@jupyter-widgets/controls",
            "_view_module_version": "1.5.0",
            "_view_name": "VBoxView",
            "box_style": "",
            "children": [
              "IPY_MODEL_74cd509db9a546e5bec7492fee3e7ad1",
              "IPY_MODEL_f43e7bd20bd34dd8acdd6031a6f1bfa9"
            ],
            "layout": "IPY_MODEL_35400bb1c8fd448885f3f1a3ff29fd4a"
          }
        },
        "74cd509db9a546e5bec7492fee3e7ad1": {
          "model_module": "@jupyter-widgets/controls",
          "model_name": "LabelModel",
          "model_module_version": "1.5.0",
          "state": {
            "_dom_classes": [],
            "_model_module": "@jupyter-widgets/controls",
            "_model_module_version": "1.5.0",
            "_model_name": "LabelModel",
            "_view_count": null,
            "_view_module": "@jupyter-widgets/controls",
            "_view_module_version": "1.5.0",
            "_view_name": "LabelView",
            "description": "",
            "description_tooltip": null,
            "layout": "IPY_MODEL_3a9072989c1e4191acb56ccc8fbb1201",
            "placeholder": "​",
            "style": "IPY_MODEL_4c78fe51f9a54a779366d9f0e2def58e",
            "value": "0.001 MB of 0.001 MB uploaded (0.000 MB deduped)\r"
          }
        },
        "f43e7bd20bd34dd8acdd6031a6f1bfa9": {
          "model_module": "@jupyter-widgets/controls",
          "model_name": "FloatProgressModel",
          "model_module_version": "1.5.0",
          "state": {
            "_dom_classes": [],
            "_model_module": "@jupyter-widgets/controls",
            "_model_module_version": "1.5.0",
            "_model_name": "FloatProgressModel",
            "_view_count": null,
            "_view_module": "@jupyter-widgets/controls",
            "_view_module_version": "1.5.0",
            "_view_name": "ProgressView",
            "bar_style": "",
            "description": "",
            "description_tooltip": null,
            "layout": "IPY_MODEL_d132d664c8fd4359bc56fd603621f2a7",
            "max": 1,
            "min": 0,
            "orientation": "horizontal",
            "style": "IPY_MODEL_c4a287210fc944129eddf45b794d90f0",
            "value": 1
          }
        },
        "35400bb1c8fd448885f3f1a3ff29fd4a": {
          "model_module": "@jupyter-widgets/base",
          "model_name": "LayoutModel",
          "model_module_version": "1.2.0",
          "state": {
            "_model_module": "@jupyter-widgets/base",
            "_model_module_version": "1.2.0",
            "_model_name": "LayoutModel",
            "_view_count": null,
            "_view_module": "@jupyter-widgets/base",
            "_view_module_version": "1.2.0",
            "_view_name": "LayoutView",
            "align_content": null,
            "align_items": null,
            "align_self": null,
            "border": null,
            "bottom": null,
            "display": null,
            "flex": null,
            "flex_flow": null,
            "grid_area": null,
            "grid_auto_columns": null,
            "grid_auto_flow": null,
            "grid_auto_rows": null,
            "grid_column": null,
            "grid_gap": null,
            "grid_row": null,
            "grid_template_areas": null,
            "grid_template_columns": null,
            "grid_template_rows": null,
            "height": null,
            "justify_content": null,
            "justify_items": null,
            "left": null,
            "margin": null,
            "max_height": null,
            "max_width": null,
            "min_height": null,
            "min_width": null,
            "object_fit": null,
            "object_position": null,
            "order": null,
            "overflow": null,
            "overflow_x": null,
            "overflow_y": null,
            "padding": null,
            "right": null,
            "top": null,
            "visibility": null,
            "width": null
          }
        },
        "3a9072989c1e4191acb56ccc8fbb1201": {
          "model_module": "@jupyter-widgets/base",
          "model_name": "LayoutModel",
          "model_module_version": "1.2.0",
          "state": {
            "_model_module": "@jupyter-widgets/base",
            "_model_module_version": "1.2.0",
            "_model_name": "LayoutModel",
            "_view_count": null,
            "_view_module": "@jupyter-widgets/base",
            "_view_module_version": "1.2.0",
            "_view_name": "LayoutView",
            "align_content": null,
            "align_items": null,
            "align_self": null,
            "border": null,
            "bottom": null,
            "display": null,
            "flex": null,
            "flex_flow": null,
            "grid_area": null,
            "grid_auto_columns": null,
            "grid_auto_flow": null,
            "grid_auto_rows": null,
            "grid_column": null,
            "grid_gap": null,
            "grid_row": null,
            "grid_template_areas": null,
            "grid_template_columns": null,
            "grid_template_rows": null,
            "height": null,
            "justify_content": null,
            "justify_items": null,
            "left": null,
            "margin": null,
            "max_height": null,
            "max_width": null,
            "min_height": null,
            "min_width": null,
            "object_fit": null,
            "object_position": null,
            "order": null,
            "overflow": null,
            "overflow_x": null,
            "overflow_y": null,
            "padding": null,
            "right": null,
            "top": null,
            "visibility": null,
            "width": null
          }
        },
        "4c78fe51f9a54a779366d9f0e2def58e": {
          "model_module": "@jupyter-widgets/controls",
          "model_name": "DescriptionStyleModel",
          "model_module_version": "1.5.0",
          "state": {
            "_model_module": "@jupyter-widgets/controls",
            "_model_module_version": "1.5.0",
            "_model_name": "DescriptionStyleModel",
            "_view_count": null,
            "_view_module": "@jupyter-widgets/base",
            "_view_module_version": "1.2.0",
            "_view_name": "StyleView",
            "description_width": ""
          }
        },
        "d132d664c8fd4359bc56fd603621f2a7": {
          "model_module": "@jupyter-widgets/base",
          "model_name": "LayoutModel",
          "model_module_version": "1.2.0",
          "state": {
            "_model_module": "@jupyter-widgets/base",
            "_model_module_version": "1.2.0",
            "_model_name": "LayoutModel",
            "_view_count": null,
            "_view_module": "@jupyter-widgets/base",
            "_view_module_version": "1.2.0",
            "_view_name": "LayoutView",
            "align_content": null,
            "align_items": null,
            "align_self": null,
            "border": null,
            "bottom": null,
            "display": null,
            "flex": null,
            "flex_flow": null,
            "grid_area": null,
            "grid_auto_columns": null,
            "grid_auto_flow": null,
            "grid_auto_rows": null,
            "grid_column": null,
            "grid_gap": null,
            "grid_row": null,
            "grid_template_areas": null,
            "grid_template_columns": null,
            "grid_template_rows": null,
            "height": null,
            "justify_content": null,
            "justify_items": null,
            "left": null,
            "margin": null,
            "max_height": null,
            "max_width": null,
            "min_height": null,
            "min_width": null,
            "object_fit": null,
            "object_position": null,
            "order": null,
            "overflow": null,
            "overflow_x": null,
            "overflow_y": null,
            "padding": null,
            "right": null,
            "top": null,
            "visibility": null,
            "width": null
          }
        },
        "c4a287210fc944129eddf45b794d90f0": {
          "model_module": "@jupyter-widgets/controls",
          "model_name": "ProgressStyleModel",
          "model_module_version": "1.5.0",
          "state": {
            "_model_module": "@jupyter-widgets/controls",
            "_model_module_version": "1.5.0",
            "_model_name": "ProgressStyleModel",
            "_view_count": null,
            "_view_module": "@jupyter-widgets/base",
            "_view_module_version": "1.2.0",
            "_view_name": "StyleView",
            "bar_color": null,
            "description_width": ""
          }
        },
        "30ed85192c68415b8bd611eff33e14f4": {
          "model_module": "@jupyter-widgets/controls",
          "model_name": "VBoxModel",
          "model_module_version": "1.5.0",
          "state": {
            "_dom_classes": [],
            "_model_module": "@jupyter-widgets/controls",
            "_model_module_version": "1.5.0",
            "_model_name": "VBoxModel",
            "_view_count": null,
            "_view_module": "@jupyter-widgets/controls",
            "_view_module_version": "1.5.0",
            "_view_name": "VBoxView",
            "box_style": "",
            "children": [
              "IPY_MODEL_0142011bc841406ab99b0724f8ff7dad",
              "IPY_MODEL_0fb90457bb95413e8377613895d99408"
            ],
            "layout": "IPY_MODEL_32da60983429485082bc11dda325ce51"
          }
        },
        "0142011bc841406ab99b0724f8ff7dad": {
          "model_module": "@jupyter-widgets/controls",
          "model_name": "LabelModel",
          "model_module_version": "1.5.0",
          "state": {
            "_dom_classes": [],
            "_model_module": "@jupyter-widgets/controls",
            "_model_module_version": "1.5.0",
            "_model_name": "LabelModel",
            "_view_count": null,
            "_view_module": "@jupyter-widgets/controls",
            "_view_module_version": "1.5.0",
            "_view_name": "LabelView",
            "description": "",
            "description_tooltip": null,
            "layout": "IPY_MODEL_d863d29e8a6f4f1cbf33b428c9e424f5",
            "placeholder": "​",
            "style": "IPY_MODEL_4c4aacd3c3924c908113a468a617b2d8",
            "value": "0.001 MB of 0.001 MB uploaded (0.000 MB deduped)\r"
          }
        },
        "0fb90457bb95413e8377613895d99408": {
          "model_module": "@jupyter-widgets/controls",
          "model_name": "FloatProgressModel",
          "model_module_version": "1.5.0",
          "state": {
            "_dom_classes": [],
            "_model_module": "@jupyter-widgets/controls",
            "_model_module_version": "1.5.0",
            "_model_name": "FloatProgressModel",
            "_view_count": null,
            "_view_module": "@jupyter-widgets/controls",
            "_view_module_version": "1.5.0",
            "_view_name": "ProgressView",
            "bar_style": "",
            "description": "",
            "description_tooltip": null,
            "layout": "IPY_MODEL_ba1f067697ed4a10804b650676bbe702",
            "max": 1,
            "min": 0,
            "orientation": "horizontal",
            "style": "IPY_MODEL_2c8fd78abe92412a8ff044c94fd117d9",
            "value": 1
          }
        },
        "32da60983429485082bc11dda325ce51": {
          "model_module": "@jupyter-widgets/base",
          "model_name": "LayoutModel",
          "model_module_version": "1.2.0",
          "state": {
            "_model_module": "@jupyter-widgets/base",
            "_model_module_version": "1.2.0",
            "_model_name": "LayoutModel",
            "_view_count": null,
            "_view_module": "@jupyter-widgets/base",
            "_view_module_version": "1.2.0",
            "_view_name": "LayoutView",
            "align_content": null,
            "align_items": null,
            "align_self": null,
            "border": null,
            "bottom": null,
            "display": null,
            "flex": null,
            "flex_flow": null,
            "grid_area": null,
            "grid_auto_columns": null,
            "grid_auto_flow": null,
            "grid_auto_rows": null,
            "grid_column": null,
            "grid_gap": null,
            "grid_row": null,
            "grid_template_areas": null,
            "grid_template_columns": null,
            "grid_template_rows": null,
            "height": null,
            "justify_content": null,
            "justify_items": null,
            "left": null,
            "margin": null,
            "max_height": null,
            "max_width": null,
            "min_height": null,
            "min_width": null,
            "object_fit": null,
            "object_position": null,
            "order": null,
            "overflow": null,
            "overflow_x": null,
            "overflow_y": null,
            "padding": null,
            "right": null,
            "top": null,
            "visibility": null,
            "width": null
          }
        },
        "d863d29e8a6f4f1cbf33b428c9e424f5": {
          "model_module": "@jupyter-widgets/base",
          "model_name": "LayoutModel",
          "model_module_version": "1.2.0",
          "state": {
            "_model_module": "@jupyter-widgets/base",
            "_model_module_version": "1.2.0",
            "_model_name": "LayoutModel",
            "_view_count": null,
            "_view_module": "@jupyter-widgets/base",
            "_view_module_version": "1.2.0",
            "_view_name": "LayoutView",
            "align_content": null,
            "align_items": null,
            "align_self": null,
            "border": null,
            "bottom": null,
            "display": null,
            "flex": null,
            "flex_flow": null,
            "grid_area": null,
            "grid_auto_columns": null,
            "grid_auto_flow": null,
            "grid_auto_rows": null,
            "grid_column": null,
            "grid_gap": null,
            "grid_row": null,
            "grid_template_areas": null,
            "grid_template_columns": null,
            "grid_template_rows": null,
            "height": null,
            "justify_content": null,
            "justify_items": null,
            "left": null,
            "margin": null,
            "max_height": null,
            "max_width": null,
            "min_height": null,
            "min_width": null,
            "object_fit": null,
            "object_position": null,
            "order": null,
            "overflow": null,
            "overflow_x": null,
            "overflow_y": null,
            "padding": null,
            "right": null,
            "top": null,
            "visibility": null,
            "width": null
          }
        },
        "4c4aacd3c3924c908113a468a617b2d8": {
          "model_module": "@jupyter-widgets/controls",
          "model_name": "DescriptionStyleModel",
          "model_module_version": "1.5.0",
          "state": {
            "_model_module": "@jupyter-widgets/controls",
            "_model_module_version": "1.5.0",
            "_model_name": "DescriptionStyleModel",
            "_view_count": null,
            "_view_module": "@jupyter-widgets/base",
            "_view_module_version": "1.2.0",
            "_view_name": "StyleView",
            "description_width": ""
          }
        },
        "ba1f067697ed4a10804b650676bbe702": {
          "model_module": "@jupyter-widgets/base",
          "model_name": "LayoutModel",
          "model_module_version": "1.2.0",
          "state": {
            "_model_module": "@jupyter-widgets/base",
            "_model_module_version": "1.2.0",
            "_model_name": "LayoutModel",
            "_view_count": null,
            "_view_module": "@jupyter-widgets/base",
            "_view_module_version": "1.2.0",
            "_view_name": "LayoutView",
            "align_content": null,
            "align_items": null,
            "align_self": null,
            "border": null,
            "bottom": null,
            "display": null,
            "flex": null,
            "flex_flow": null,
            "grid_area": null,
            "grid_auto_columns": null,
            "grid_auto_flow": null,
            "grid_auto_rows": null,
            "grid_column": null,
            "grid_gap": null,
            "grid_row": null,
            "grid_template_areas": null,
            "grid_template_columns": null,
            "grid_template_rows": null,
            "height": null,
            "justify_content": null,
            "justify_items": null,
            "left": null,
            "margin": null,
            "max_height": null,
            "max_width": null,
            "min_height": null,
            "min_width": null,
            "object_fit": null,
            "object_position": null,
            "order": null,
            "overflow": null,
            "overflow_x": null,
            "overflow_y": null,
            "padding": null,
            "right": null,
            "top": null,
            "visibility": null,
            "width": null
          }
        },
        "2c8fd78abe92412a8ff044c94fd117d9": {
          "model_module": "@jupyter-widgets/controls",
          "model_name": "ProgressStyleModel",
          "model_module_version": "1.5.0",
          "state": {
            "_model_module": "@jupyter-widgets/controls",
            "_model_module_version": "1.5.0",
            "_model_name": "ProgressStyleModel",
            "_view_count": null,
            "_view_module": "@jupyter-widgets/base",
            "_view_module_version": "1.2.0",
            "_view_name": "StyleView",
            "bar_color": null,
            "description_width": ""
          }
        },
        "a46f761f92d14424bed76ad283fc33f2": {
          "model_module": "@jupyter-widgets/controls",
          "model_name": "VBoxModel",
          "model_module_version": "1.5.0",
          "state": {
            "_dom_classes": [],
            "_model_module": "@jupyter-widgets/controls",
            "_model_module_version": "1.5.0",
            "_model_name": "VBoxModel",
            "_view_count": null,
            "_view_module": "@jupyter-widgets/controls",
            "_view_module_version": "1.5.0",
            "_view_name": "VBoxView",
            "box_style": "",
            "children": [
              "IPY_MODEL_9ca3490e501f43f0a20ef41579356c11",
              "IPY_MODEL_415743c6c45c466d86dbea9856a72722"
            ],
            "layout": "IPY_MODEL_67a9189076fc47b8b65156196815505f"
          }
        },
        "9ca3490e501f43f0a20ef41579356c11": {
          "model_module": "@jupyter-widgets/controls",
          "model_name": "LabelModel",
          "model_module_version": "1.5.0",
          "state": {
            "_dom_classes": [],
            "_model_module": "@jupyter-widgets/controls",
            "_model_module_version": "1.5.0",
            "_model_name": "LabelModel",
            "_view_count": null,
            "_view_module": "@jupyter-widgets/controls",
            "_view_module_version": "1.5.0",
            "_view_name": "LabelView",
            "description": "",
            "description_tooltip": null,
            "layout": "IPY_MODEL_30a2fd18c835459c8ddc73315e08faf7",
            "placeholder": "​",
            "style": "IPY_MODEL_f07ba9b4ed264018bbf448eb8ae9fc72",
            "value": "0.001 MB of 0.001 MB uploaded (0.000 MB deduped)\r"
          }
        },
        "415743c6c45c466d86dbea9856a72722": {
          "model_module": "@jupyter-widgets/controls",
          "model_name": "FloatProgressModel",
          "model_module_version": "1.5.0",
          "state": {
            "_dom_classes": [],
            "_model_module": "@jupyter-widgets/controls",
            "_model_module_version": "1.5.0",
            "_model_name": "FloatProgressModel",
            "_view_count": null,
            "_view_module": "@jupyter-widgets/controls",
            "_view_module_version": "1.5.0",
            "_view_name": "ProgressView",
            "bar_style": "",
            "description": "",
            "description_tooltip": null,
            "layout": "IPY_MODEL_e77bbc12c3364640aa131982abbc0dce",
            "max": 1,
            "min": 0,
            "orientation": "horizontal",
            "style": "IPY_MODEL_469da73526004ab291f5d075772cc5a2",
            "value": 1
          }
        },
        "67a9189076fc47b8b65156196815505f": {
          "model_module": "@jupyter-widgets/base",
          "model_name": "LayoutModel",
          "model_module_version": "1.2.0",
          "state": {
            "_model_module": "@jupyter-widgets/base",
            "_model_module_version": "1.2.0",
            "_model_name": "LayoutModel",
            "_view_count": null,
            "_view_module": "@jupyter-widgets/base",
            "_view_module_version": "1.2.0",
            "_view_name": "LayoutView",
            "align_content": null,
            "align_items": null,
            "align_self": null,
            "border": null,
            "bottom": null,
            "display": null,
            "flex": null,
            "flex_flow": null,
            "grid_area": null,
            "grid_auto_columns": null,
            "grid_auto_flow": null,
            "grid_auto_rows": null,
            "grid_column": null,
            "grid_gap": null,
            "grid_row": null,
            "grid_template_areas": null,
            "grid_template_columns": null,
            "grid_template_rows": null,
            "height": null,
            "justify_content": null,
            "justify_items": null,
            "left": null,
            "margin": null,
            "max_height": null,
            "max_width": null,
            "min_height": null,
            "min_width": null,
            "object_fit": null,
            "object_position": null,
            "order": null,
            "overflow": null,
            "overflow_x": null,
            "overflow_y": null,
            "padding": null,
            "right": null,
            "top": null,
            "visibility": null,
            "width": null
          }
        },
        "30a2fd18c835459c8ddc73315e08faf7": {
          "model_module": "@jupyter-widgets/base",
          "model_name": "LayoutModel",
          "model_module_version": "1.2.0",
          "state": {
            "_model_module": "@jupyter-widgets/base",
            "_model_module_version": "1.2.0",
            "_model_name": "LayoutModel",
            "_view_count": null,
            "_view_module": "@jupyter-widgets/base",
            "_view_module_version": "1.2.0",
            "_view_name": "LayoutView",
            "align_content": null,
            "align_items": null,
            "align_self": null,
            "border": null,
            "bottom": null,
            "display": null,
            "flex": null,
            "flex_flow": null,
            "grid_area": null,
            "grid_auto_columns": null,
            "grid_auto_flow": null,
            "grid_auto_rows": null,
            "grid_column": null,
            "grid_gap": null,
            "grid_row": null,
            "grid_template_areas": null,
            "grid_template_columns": null,
            "grid_template_rows": null,
            "height": null,
            "justify_content": null,
            "justify_items": null,
            "left": null,
            "margin": null,
            "max_height": null,
            "max_width": null,
            "min_height": null,
            "min_width": null,
            "object_fit": null,
            "object_position": null,
            "order": null,
            "overflow": null,
            "overflow_x": null,
            "overflow_y": null,
            "padding": null,
            "right": null,
            "top": null,
            "visibility": null,
            "width": null
          }
        },
        "f07ba9b4ed264018bbf448eb8ae9fc72": {
          "model_module": "@jupyter-widgets/controls",
          "model_name": "DescriptionStyleModel",
          "model_module_version": "1.5.0",
          "state": {
            "_model_module": "@jupyter-widgets/controls",
            "_model_module_version": "1.5.0",
            "_model_name": "DescriptionStyleModel",
            "_view_count": null,
            "_view_module": "@jupyter-widgets/base",
            "_view_module_version": "1.2.0",
            "_view_name": "StyleView",
            "description_width": ""
          }
        },
        "e77bbc12c3364640aa131982abbc0dce": {
          "model_module": "@jupyter-widgets/base",
          "model_name": "LayoutModel",
          "model_module_version": "1.2.0",
          "state": {
            "_model_module": "@jupyter-widgets/base",
            "_model_module_version": "1.2.0",
            "_model_name": "LayoutModel",
            "_view_count": null,
            "_view_module": "@jupyter-widgets/base",
            "_view_module_version": "1.2.0",
            "_view_name": "LayoutView",
            "align_content": null,
            "align_items": null,
            "align_self": null,
            "border": null,
            "bottom": null,
            "display": null,
            "flex": null,
            "flex_flow": null,
            "grid_area": null,
            "grid_auto_columns": null,
            "grid_auto_flow": null,
            "grid_auto_rows": null,
            "grid_column": null,
            "grid_gap": null,
            "grid_row": null,
            "grid_template_areas": null,
            "grid_template_columns": null,
            "grid_template_rows": null,
            "height": null,
            "justify_content": null,
            "justify_items": null,
            "left": null,
            "margin": null,
            "max_height": null,
            "max_width": null,
            "min_height": null,
            "min_width": null,
            "object_fit": null,
            "object_position": null,
            "order": null,
            "overflow": null,
            "overflow_x": null,
            "overflow_y": null,
            "padding": null,
            "right": null,
            "top": null,
            "visibility": null,
            "width": null
          }
        },
        "469da73526004ab291f5d075772cc5a2": {
          "model_module": "@jupyter-widgets/controls",
          "model_name": "ProgressStyleModel",
          "model_module_version": "1.5.0",
          "state": {
            "_model_module": "@jupyter-widgets/controls",
            "_model_module_version": "1.5.0",
            "_model_name": "ProgressStyleModel",
            "_view_count": null,
            "_view_module": "@jupyter-widgets/base",
            "_view_module_version": "1.2.0",
            "_view_name": "StyleView",
            "bar_color": null,
            "description_width": ""
          }
        },
        "ba8b9055a3934285ba75518dfabd3e5c": {
          "model_module": "@jupyter-widgets/controls",
          "model_name": "VBoxModel",
          "model_module_version": "1.5.0",
          "state": {
            "_dom_classes": [],
            "_model_module": "@jupyter-widgets/controls",
            "_model_module_version": "1.5.0",
            "_model_name": "VBoxModel",
            "_view_count": null,
            "_view_module": "@jupyter-widgets/controls",
            "_view_module_version": "1.5.0",
            "_view_name": "VBoxView",
            "box_style": "",
            "children": [
              "IPY_MODEL_5538322e8d964da48094c754cf2fe43e",
              "IPY_MODEL_8f320f50112741b59713a08665127dce"
            ],
            "layout": "IPY_MODEL_4e8754f1cf7e4625a1215b65abd32dde"
          }
        },
        "5538322e8d964da48094c754cf2fe43e": {
          "model_module": "@jupyter-widgets/controls",
          "model_name": "LabelModel",
          "model_module_version": "1.5.0",
          "state": {
            "_dom_classes": [],
            "_model_module": "@jupyter-widgets/controls",
            "_model_module_version": "1.5.0",
            "_model_name": "LabelModel",
            "_view_count": null,
            "_view_module": "@jupyter-widgets/controls",
            "_view_module_version": "1.5.0",
            "_view_name": "LabelView",
            "description": "",
            "description_tooltip": null,
            "layout": "IPY_MODEL_81928e8990c94d4ba34005c689ae48a4",
            "placeholder": "​",
            "style": "IPY_MODEL_62f0c7a0d6c94ef38deebb86abbb9d66",
            "value": "0.001 MB of 0.002 MB uploaded (0.000 MB deduped)\r"
          }
        },
        "8f320f50112741b59713a08665127dce": {
          "model_module": "@jupyter-widgets/controls",
          "model_name": "FloatProgressModel",
          "model_module_version": "1.5.0",
          "state": {
            "_dom_classes": [],
            "_model_module": "@jupyter-widgets/controls",
            "_model_module_version": "1.5.0",
            "_model_name": "FloatProgressModel",
            "_view_count": null,
            "_view_module": "@jupyter-widgets/controls",
            "_view_module_version": "1.5.0",
            "_view_name": "ProgressView",
            "bar_style": "",
            "description": "",
            "description_tooltip": null,
            "layout": "IPY_MODEL_204928179b7c498391d525338b715b56",
            "max": 1,
            "min": 0,
            "orientation": "horizontal",
            "style": "IPY_MODEL_394b8830a96345e797604f8976ac33b2",
            "value": 0.5288548241659152
          }
        },
        "4e8754f1cf7e4625a1215b65abd32dde": {
          "model_module": "@jupyter-widgets/base",
          "model_name": "LayoutModel",
          "model_module_version": "1.2.0",
          "state": {
            "_model_module": "@jupyter-widgets/base",
            "_model_module_version": "1.2.0",
            "_model_name": "LayoutModel",
            "_view_count": null,
            "_view_module": "@jupyter-widgets/base",
            "_view_module_version": "1.2.0",
            "_view_name": "LayoutView",
            "align_content": null,
            "align_items": null,
            "align_self": null,
            "border": null,
            "bottom": null,
            "display": null,
            "flex": null,
            "flex_flow": null,
            "grid_area": null,
            "grid_auto_columns": null,
            "grid_auto_flow": null,
            "grid_auto_rows": null,
            "grid_column": null,
            "grid_gap": null,
            "grid_row": null,
            "grid_template_areas": null,
            "grid_template_columns": null,
            "grid_template_rows": null,
            "height": null,
            "justify_content": null,
            "justify_items": null,
            "left": null,
            "margin": null,
            "max_height": null,
            "max_width": null,
            "min_height": null,
            "min_width": null,
            "object_fit": null,
            "object_position": null,
            "order": null,
            "overflow": null,
            "overflow_x": null,
            "overflow_y": null,
            "padding": null,
            "right": null,
            "top": null,
            "visibility": null,
            "width": null
          }
        },
        "81928e8990c94d4ba34005c689ae48a4": {
          "model_module": "@jupyter-widgets/base",
          "model_name": "LayoutModel",
          "model_module_version": "1.2.0",
          "state": {
            "_model_module": "@jupyter-widgets/base",
            "_model_module_version": "1.2.0",
            "_model_name": "LayoutModel",
            "_view_count": null,
            "_view_module": "@jupyter-widgets/base",
            "_view_module_version": "1.2.0",
            "_view_name": "LayoutView",
            "align_content": null,
            "align_items": null,
            "align_self": null,
            "border": null,
            "bottom": null,
            "display": null,
            "flex": null,
            "flex_flow": null,
            "grid_area": null,
            "grid_auto_columns": null,
            "grid_auto_flow": null,
            "grid_auto_rows": null,
            "grid_column": null,
            "grid_gap": null,
            "grid_row": null,
            "grid_template_areas": null,
            "grid_template_columns": null,
            "grid_template_rows": null,
            "height": null,
            "justify_content": null,
            "justify_items": null,
            "left": null,
            "margin": null,
            "max_height": null,
            "max_width": null,
            "min_height": null,
            "min_width": null,
            "object_fit": null,
            "object_position": null,
            "order": null,
            "overflow": null,
            "overflow_x": null,
            "overflow_y": null,
            "padding": null,
            "right": null,
            "top": null,
            "visibility": null,
            "width": null
          }
        },
        "62f0c7a0d6c94ef38deebb86abbb9d66": {
          "model_module": "@jupyter-widgets/controls",
          "model_name": "DescriptionStyleModel",
          "model_module_version": "1.5.0",
          "state": {
            "_model_module": "@jupyter-widgets/controls",
            "_model_module_version": "1.5.0",
            "_model_name": "DescriptionStyleModel",
            "_view_count": null,
            "_view_module": "@jupyter-widgets/base",
            "_view_module_version": "1.2.0",
            "_view_name": "StyleView",
            "description_width": ""
          }
        },
        "204928179b7c498391d525338b715b56": {
          "model_module": "@jupyter-widgets/base",
          "model_name": "LayoutModel",
          "model_module_version": "1.2.0",
          "state": {
            "_model_module": "@jupyter-widgets/base",
            "_model_module_version": "1.2.0",
            "_model_name": "LayoutModel",
            "_view_count": null,
            "_view_module": "@jupyter-widgets/base",
            "_view_module_version": "1.2.0",
            "_view_name": "LayoutView",
            "align_content": null,
            "align_items": null,
            "align_self": null,
            "border": null,
            "bottom": null,
            "display": null,
            "flex": null,
            "flex_flow": null,
            "grid_area": null,
            "grid_auto_columns": null,
            "grid_auto_flow": null,
            "grid_auto_rows": null,
            "grid_column": null,
            "grid_gap": null,
            "grid_row": null,
            "grid_template_areas": null,
            "grid_template_columns": null,
            "grid_template_rows": null,
            "height": null,
            "justify_content": null,
            "justify_items": null,
            "left": null,
            "margin": null,
            "max_height": null,
            "max_width": null,
            "min_height": null,
            "min_width": null,
            "object_fit": null,
            "object_position": null,
            "order": null,
            "overflow": null,
            "overflow_x": null,
            "overflow_y": null,
            "padding": null,
            "right": null,
            "top": null,
            "visibility": null,
            "width": null
          }
        },
        "394b8830a96345e797604f8976ac33b2": {
          "model_module": "@jupyter-widgets/controls",
          "model_name": "ProgressStyleModel",
          "model_module_version": "1.5.0",
          "state": {
            "_model_module": "@jupyter-widgets/controls",
            "_model_module_version": "1.5.0",
            "_model_name": "ProgressStyleModel",
            "_view_count": null,
            "_view_module": "@jupyter-widgets/base",
            "_view_module_version": "1.2.0",
            "_view_name": "StyleView",
            "bar_color": null,
            "description_width": ""
          }
        },
        "05c76815a2df4fcd9ece5e3465f42186": {
          "model_module": "@jupyter-widgets/controls",
          "model_name": "VBoxModel",
          "model_module_version": "1.5.0",
          "state": {
            "_dom_classes": [],
            "_model_module": "@jupyter-widgets/controls",
            "_model_module_version": "1.5.0",
            "_model_name": "VBoxModel",
            "_view_count": null,
            "_view_module": "@jupyter-widgets/controls",
            "_view_module_version": "1.5.0",
            "_view_name": "VBoxView",
            "box_style": "",
            "children": [
              "IPY_MODEL_53708bc061e84f60bff98ea6cc695581",
              "IPY_MODEL_1566197abb2743c582a8c05667fd346a"
            ],
            "layout": "IPY_MODEL_69fade9552544e7291599c9523b26824"
          }
        },
        "53708bc061e84f60bff98ea6cc695581": {
          "model_module": "@jupyter-widgets/controls",
          "model_name": "LabelModel",
          "model_module_version": "1.5.0",
          "state": {
            "_dom_classes": [],
            "_model_module": "@jupyter-widgets/controls",
            "_model_module_version": "1.5.0",
            "_model_name": "LabelModel",
            "_view_count": null,
            "_view_module": "@jupyter-widgets/controls",
            "_view_module_version": "1.5.0",
            "_view_name": "LabelView",
            "description": "",
            "description_tooltip": null,
            "layout": "IPY_MODEL_b9654aeba5c249b8999b9b539ff184ee",
            "placeholder": "​",
            "style": "IPY_MODEL_d82df5a902f0499997862105ac74555a",
            "value": "0.001 MB of 0.001 MB uploaded (0.000 MB deduped)\r"
          }
        },
        "1566197abb2743c582a8c05667fd346a": {
          "model_module": "@jupyter-widgets/controls",
          "model_name": "FloatProgressModel",
          "model_module_version": "1.5.0",
          "state": {
            "_dom_classes": [],
            "_model_module": "@jupyter-widgets/controls",
            "_model_module_version": "1.5.0",
            "_model_name": "FloatProgressModel",
            "_view_count": null,
            "_view_module": "@jupyter-widgets/controls",
            "_view_module_version": "1.5.0",
            "_view_name": "ProgressView",
            "bar_style": "",
            "description": "",
            "description_tooltip": null,
            "layout": "IPY_MODEL_e02e4660286b460993a29a22634779f5",
            "max": 1,
            "min": 0,
            "orientation": "horizontal",
            "style": "IPY_MODEL_7840ae56a7924a058a34c2423aef9780",
            "value": 1
          }
        },
        "69fade9552544e7291599c9523b26824": {
          "model_module": "@jupyter-widgets/base",
          "model_name": "LayoutModel",
          "model_module_version": "1.2.0",
          "state": {
            "_model_module": "@jupyter-widgets/base",
            "_model_module_version": "1.2.0",
            "_model_name": "LayoutModel",
            "_view_count": null,
            "_view_module": "@jupyter-widgets/base",
            "_view_module_version": "1.2.0",
            "_view_name": "LayoutView",
            "align_content": null,
            "align_items": null,
            "align_self": null,
            "border": null,
            "bottom": null,
            "display": null,
            "flex": null,
            "flex_flow": null,
            "grid_area": null,
            "grid_auto_columns": null,
            "grid_auto_flow": null,
            "grid_auto_rows": null,
            "grid_column": null,
            "grid_gap": null,
            "grid_row": null,
            "grid_template_areas": null,
            "grid_template_columns": null,
            "grid_template_rows": null,
            "height": null,
            "justify_content": null,
            "justify_items": null,
            "left": null,
            "margin": null,
            "max_height": null,
            "max_width": null,
            "min_height": null,
            "min_width": null,
            "object_fit": null,
            "object_position": null,
            "order": null,
            "overflow": null,
            "overflow_x": null,
            "overflow_y": null,
            "padding": null,
            "right": null,
            "top": null,
            "visibility": null,
            "width": null
          }
        },
        "b9654aeba5c249b8999b9b539ff184ee": {
          "model_module": "@jupyter-widgets/base",
          "model_name": "LayoutModel",
          "model_module_version": "1.2.0",
          "state": {
            "_model_module": "@jupyter-widgets/base",
            "_model_module_version": "1.2.0",
            "_model_name": "LayoutModel",
            "_view_count": null,
            "_view_module": "@jupyter-widgets/base",
            "_view_module_version": "1.2.0",
            "_view_name": "LayoutView",
            "align_content": null,
            "align_items": null,
            "align_self": null,
            "border": null,
            "bottom": null,
            "display": null,
            "flex": null,
            "flex_flow": null,
            "grid_area": null,
            "grid_auto_columns": null,
            "grid_auto_flow": null,
            "grid_auto_rows": null,
            "grid_column": null,
            "grid_gap": null,
            "grid_row": null,
            "grid_template_areas": null,
            "grid_template_columns": null,
            "grid_template_rows": null,
            "height": null,
            "justify_content": null,
            "justify_items": null,
            "left": null,
            "margin": null,
            "max_height": null,
            "max_width": null,
            "min_height": null,
            "min_width": null,
            "object_fit": null,
            "object_position": null,
            "order": null,
            "overflow": null,
            "overflow_x": null,
            "overflow_y": null,
            "padding": null,
            "right": null,
            "top": null,
            "visibility": null,
            "width": null
          }
        },
        "d82df5a902f0499997862105ac74555a": {
          "model_module": "@jupyter-widgets/controls",
          "model_name": "DescriptionStyleModel",
          "model_module_version": "1.5.0",
          "state": {
            "_model_module": "@jupyter-widgets/controls",
            "_model_module_version": "1.5.0",
            "_model_name": "DescriptionStyleModel",
            "_view_count": null,
            "_view_module": "@jupyter-widgets/base",
            "_view_module_version": "1.2.0",
            "_view_name": "StyleView",
            "description_width": ""
          }
        },
        "e02e4660286b460993a29a22634779f5": {
          "model_module": "@jupyter-widgets/base",
          "model_name": "LayoutModel",
          "model_module_version": "1.2.0",
          "state": {
            "_model_module": "@jupyter-widgets/base",
            "_model_module_version": "1.2.0",
            "_model_name": "LayoutModel",
            "_view_count": null,
            "_view_module": "@jupyter-widgets/base",
            "_view_module_version": "1.2.0",
            "_view_name": "LayoutView",
            "align_content": null,
            "align_items": null,
            "align_self": null,
            "border": null,
            "bottom": null,
            "display": null,
            "flex": null,
            "flex_flow": null,
            "grid_area": null,
            "grid_auto_columns": null,
            "grid_auto_flow": null,
            "grid_auto_rows": null,
            "grid_column": null,
            "grid_gap": null,
            "grid_row": null,
            "grid_template_areas": null,
            "grid_template_columns": null,
            "grid_template_rows": null,
            "height": null,
            "justify_content": null,
            "justify_items": null,
            "left": null,
            "margin": null,
            "max_height": null,
            "max_width": null,
            "min_height": null,
            "min_width": null,
            "object_fit": null,
            "object_position": null,
            "order": null,
            "overflow": null,
            "overflow_x": null,
            "overflow_y": null,
            "padding": null,
            "right": null,
            "top": null,
            "visibility": null,
            "width": null
          }
        },
        "7840ae56a7924a058a34c2423aef9780": {
          "model_module": "@jupyter-widgets/controls",
          "model_name": "ProgressStyleModel",
          "model_module_version": "1.5.0",
          "state": {
            "_model_module": "@jupyter-widgets/controls",
            "_model_module_version": "1.5.0",
            "_model_name": "ProgressStyleModel",
            "_view_count": null,
            "_view_module": "@jupyter-widgets/base",
            "_view_module_version": "1.2.0",
            "_view_name": "StyleView",
            "bar_color": null,
            "description_width": ""
          }
        }
      }
    }
  },
  "nbformat": 4,
  "nbformat_minor": 0
}