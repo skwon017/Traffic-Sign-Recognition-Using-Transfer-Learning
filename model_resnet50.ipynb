{
  "cells": [
    {
      "cell_type": "markdown",
      "metadata": {
        "id": "nt1b-GRLOwR7"
      },
      "source": [
        "## **Prepare Dataset**"
      ]
    },
    {
      "cell_type": "markdown",
      "metadata": {
        "id": "EtUf1RuVxGbc"
      },
      "source": [
        "### Download Dataset"
      ]
    },
    {
      "cell_type": "code",
      "execution_count": 1,
      "metadata": {
        "id": "NTEwOiIfP3MS"
      },
      "outputs": [],
      "source": [
        "! pip install -q kaggle"
      ]
    },
    {
      "cell_type": "code",
      "execution_count": 2,
      "metadata": {
        "colab": {
          "base_uri": "https://localhost:8080/",
          "height": 86
        },
        "id": "QG4fc60D2huS",
        "outputId": "23716d07-3563-4592-91ef-6a82abae4f8f"
      },
      "outputs": [
        {
          "output_type": "display_data",
          "data": {
            "text/plain": [
              "<IPython.core.display.HTML object>"
            ],
            "text/html": [
              "\n",
              "     <input type=\"file\" id=\"files-d6a20d81-81ca-4e11-83f4-7b60f1c04f09\" name=\"files[]\" multiple disabled\n",
              "        style=\"border:none\" />\n",
              "     <output id=\"result-d6a20d81-81ca-4e11-83f4-7b60f1c04f09\">\n",
              "      Upload widget is only available when the cell has been executed in the\n",
              "      current browser session. Please rerun this cell to enable.\n",
              "      </output>\n",
              "      <script>// Copyright 2017 Google LLC\n",
              "//\n",
              "// Licensed under the Apache License, Version 2.0 (the \"License\");\n",
              "// you may not use this file except in compliance with the License.\n",
              "// You may obtain a copy of the License at\n",
              "//\n",
              "//      http://www.apache.org/licenses/LICENSE-2.0\n",
              "//\n",
              "// Unless required by applicable law or agreed to in writing, software\n",
              "// distributed under the License is distributed on an \"AS IS\" BASIS,\n",
              "// WITHOUT WARRANTIES OR CONDITIONS OF ANY KIND, either express or implied.\n",
              "// See the License for the specific language governing permissions and\n",
              "// limitations under the License.\n",
              "\n",
              "/**\n",
              " * @fileoverview Helpers for google.colab Python module.\n",
              " */\n",
              "(function(scope) {\n",
              "function span(text, styleAttributes = {}) {\n",
              "  const element = document.createElement('span');\n",
              "  element.textContent = text;\n",
              "  for (const key of Object.keys(styleAttributes)) {\n",
              "    element.style[key] = styleAttributes[key];\n",
              "  }\n",
              "  return element;\n",
              "}\n",
              "\n",
              "// Max number of bytes which will be uploaded at a time.\n",
              "const MAX_PAYLOAD_SIZE = 100 * 1024;\n",
              "\n",
              "function _uploadFiles(inputId, outputId) {\n",
              "  const steps = uploadFilesStep(inputId, outputId);\n",
              "  const outputElement = document.getElementById(outputId);\n",
              "  // Cache steps on the outputElement to make it available for the next call\n",
              "  // to uploadFilesContinue from Python.\n",
              "  outputElement.steps = steps;\n",
              "\n",
              "  return _uploadFilesContinue(outputId);\n",
              "}\n",
              "\n",
              "// This is roughly an async generator (not supported in the browser yet),\n",
              "// where there are multiple asynchronous steps and the Python side is going\n",
              "// to poll for completion of each step.\n",
              "// This uses a Promise to block the python side on completion of each step,\n",
              "// then passes the result of the previous step as the input to the next step.\n",
              "function _uploadFilesContinue(outputId) {\n",
              "  const outputElement = document.getElementById(outputId);\n",
              "  const steps = outputElement.steps;\n",
              "\n",
              "  const next = steps.next(outputElement.lastPromiseValue);\n",
              "  return Promise.resolve(next.value.promise).then((value) => {\n",
              "    // Cache the last promise value to make it available to the next\n",
              "    // step of the generator.\n",
              "    outputElement.lastPromiseValue = value;\n",
              "    return next.value.response;\n",
              "  });\n",
              "}\n",
              "\n",
              "/**\n",
              " * Generator function which is called between each async step of the upload\n",
              " * process.\n",
              " * @param {string} inputId Element ID of the input file picker element.\n",
              " * @param {string} outputId Element ID of the output display.\n",
              " * @return {!Iterable<!Object>} Iterable of next steps.\n",
              " */\n",
              "function* uploadFilesStep(inputId, outputId) {\n",
              "  const inputElement = document.getElementById(inputId);\n",
              "  inputElement.disabled = false;\n",
              "\n",
              "  const outputElement = document.getElementById(outputId);\n",
              "  outputElement.innerHTML = '';\n",
              "\n",
              "  const pickedPromise = new Promise((resolve) => {\n",
              "    inputElement.addEventListener('change', (e) => {\n",
              "      resolve(e.target.files);\n",
              "    });\n",
              "  });\n",
              "\n",
              "  const cancel = document.createElement('button');\n",
              "  inputElement.parentElement.appendChild(cancel);\n",
              "  cancel.textContent = 'Cancel upload';\n",
              "  const cancelPromise = new Promise((resolve) => {\n",
              "    cancel.onclick = () => {\n",
              "      resolve(null);\n",
              "    };\n",
              "  });\n",
              "\n",
              "  // Wait for the user to pick the files.\n",
              "  const files = yield {\n",
              "    promise: Promise.race([pickedPromise, cancelPromise]),\n",
              "    response: {\n",
              "      action: 'starting',\n",
              "    }\n",
              "  };\n",
              "\n",
              "  cancel.remove();\n",
              "\n",
              "  // Disable the input element since further picks are not allowed.\n",
              "  inputElement.disabled = true;\n",
              "\n",
              "  if (!files) {\n",
              "    return {\n",
              "      response: {\n",
              "        action: 'complete',\n",
              "      }\n",
              "    };\n",
              "  }\n",
              "\n",
              "  for (const file of files) {\n",
              "    const li = document.createElement('li');\n",
              "    li.append(span(file.name, {fontWeight: 'bold'}));\n",
              "    li.append(span(\n",
              "        `(${file.type || 'n/a'}) - ${file.size} bytes, ` +\n",
              "        `last modified: ${\n",
              "            file.lastModifiedDate ? file.lastModifiedDate.toLocaleDateString() :\n",
              "                                    'n/a'} - `));\n",
              "    const percent = span('0% done');\n",
              "    li.appendChild(percent);\n",
              "\n",
              "    outputElement.appendChild(li);\n",
              "\n",
              "    const fileDataPromise = new Promise((resolve) => {\n",
              "      const reader = new FileReader();\n",
              "      reader.onload = (e) => {\n",
              "        resolve(e.target.result);\n",
              "      };\n",
              "      reader.readAsArrayBuffer(file);\n",
              "    });\n",
              "    // Wait for the data to be ready.\n",
              "    let fileData = yield {\n",
              "      promise: fileDataPromise,\n",
              "      response: {\n",
              "        action: 'continue',\n",
              "      }\n",
              "    };\n",
              "\n",
              "    // Use a chunked sending to avoid message size limits. See b/62115660.\n",
              "    let position = 0;\n",
              "    do {\n",
              "      const length = Math.min(fileData.byteLength - position, MAX_PAYLOAD_SIZE);\n",
              "      const chunk = new Uint8Array(fileData, position, length);\n",
              "      position += length;\n",
              "\n",
              "      const base64 = btoa(String.fromCharCode.apply(null, chunk));\n",
              "      yield {\n",
              "        response: {\n",
              "          action: 'append',\n",
              "          file: file.name,\n",
              "          data: base64,\n",
              "        },\n",
              "      };\n",
              "\n",
              "      let percentDone = fileData.byteLength === 0 ?\n",
              "          100 :\n",
              "          Math.round((position / fileData.byteLength) * 100);\n",
              "      percent.textContent = `${percentDone}% done`;\n",
              "\n",
              "    } while (position < fileData.byteLength);\n",
              "  }\n",
              "\n",
              "  // All done.\n",
              "  yield {\n",
              "    response: {\n",
              "      action: 'complete',\n",
              "    }\n",
              "  };\n",
              "}\n",
              "\n",
              "scope.google = scope.google || {};\n",
              "scope.google.colab = scope.google.colab || {};\n",
              "scope.google.colab._files = {\n",
              "  _uploadFiles,\n",
              "  _uploadFilesContinue,\n",
              "};\n",
              "})(self);\n",
              "</script> "
            ]
          },
          "metadata": {}
        },
        {
          "output_type": "stream",
          "name": "stdout",
          "text": [
            "Saving kaggle.json to kaggle.json\n"
          ]
        },
        {
          "output_type": "execute_result",
          "data": {
            "text/plain": [
              "{'kaggle.json': b'{\"username\":\"s00hyun00\",\"key\":\"521460db8cc76b0d510d56c9bd51eb71\"}'}"
            ]
          },
          "metadata": {},
          "execution_count": 2
        }
      ],
      "source": [
        "from google.colab import files\n",
        "\n",
        "files.upload()"
      ]
    },
    {
      "cell_type": "code",
      "execution_count": 3,
      "metadata": {
        "id": "Ekx5emZ02hr0"
      },
      "outputs": [],
      "source": [
        "! mkdir ~/.kaggle\n",
        "\n",
        "! cp kaggle.json ~/.kaggle/"
      ]
    },
    {
      "cell_type": "code",
      "execution_count": 4,
      "metadata": {
        "id": "-hIqM1AM2hoy"
      },
      "outputs": [],
      "source": [
        "! chmod 600 ~/.kaggle/kaggle.json"
      ]
    },
    {
      "cell_type": "code",
      "execution_count": 5,
      "metadata": {
        "colab": {
          "base_uri": "https://localhost:8080/"
        },
        "id": "NwzdlPez2hlA",
        "outputId": "a9f1be95-f735-46c5-99f3-b906db79d6c2"
      },
      "outputs": [
        {
          "output_type": "stream",
          "name": "stdout",
          "text": [
            "ref                                                     title                                               size  lastUpdated          downloadCount  voteCount  usabilityRating  \n",
            "------------------------------------------------------  -------------------------------------------------  -----  -------------------  -------------  ---------  ---------------  \n",
            "uciml/german-credit                                     German Credit Risk                                  11KB  2016-12-14 21:25:02          41708        373  0.8235294        \n",
            "meowmeowmeowmeowmeow/gtsrb-german-traffic-sign          GTSRB - German Traffic Sign Recognition Benchmark  612MB  2018-11-25 18:12:34          83293        968  0.8235294        \n",
            "sterby/german-recipes-dataset                           German Recipes Dataset                               5MB  2019-03-06 16:25:22           4004         66  1.0              \n",
            "mpwolke/cusersmarildownloadsgermancsv                   Creditability - German Credit Data                  13KB  2021-03-12 19:01:40           1202         48  1.0              \n",
            "abhishek/10k-german-news-articles                       10k German News Articles                           123MB  2019-11-07 08:50:32            986        101  0.8235294        \n",
            "corrieaar/apartment-rental-offers-in-germany            Apartment rental offers in Germany                  93MB  2020-04-20 10:29:50           5562        117  1.0              \n",
            "headsortails/covid19-tracking-germany                   COVID-19 Tracking Germany                           14MB  2023-02-07 19:27:10           7783        196  0.7647059        \n",
            "ander289386/cars-germany                                Germany Cars Dataset                               498KB  2021-06-09 16:14:27           2878         37  1.0              \n",
            "kabure/german-credit-data-with-risk                     German Credit Risk - With Target                    11KB  2018-01-09 15:09:46          11759         87  0.5294118        \n",
            "dhruvildave/german-football-scores                      German Football Scores                               4MB  2020-11-28 18:50:09            395         19  1.0              \n",
            "jorgesandoval/wind-power-generation                     Wind Power Generation Data                         245KB  2021-01-07 18:45:08           4012        114  1.0              \n",
            "jenslaufer/german-election-2017                         German Federal Elections 2017                        7MB  2017-09-30 13:02:14            850         26  0.7058824        \n",
            "kaushal2896/english-to-german                           English To German                                    8MB  2020-11-14 08:13:57            403         10  0.625            \n",
            "rtatman/3-million-german-sentences                      3 Million German Sentences                         140MB  2017-08-16 00:03:59           1813         53  0.8235294        \n",
            "mreverybody/covid19-data-germany-robert-koch-institute  COVID19 data Germany / Deutschland (RKI)            32MB  2022-02-10 06:01:53            348         17  0.9411765        \n",
            "danilzyryanov/crime-in-berlin-2012-2019                 Crime in Berlin, Germany, 2012 - 2019               36KB  2020-04-24 16:54:37           1132         35  1.0              \n",
            "tblock/10kgnad                                          Ten Thousand German News Articles Dataset           20MB  2023-05-02 01:59:08            853         35  0.8235294        \n",
            "rtatman/german-sentiment-analysis-toolkit               German Sentiment Analysis Toolkit                   84KB  2017-08-15 22:54:27           1856         56  0.8125           \n",
            "marcelotc/german-credit-risk                            german_credit_risk_dataset                          13KB  2019-06-25 02:28:41            660          8  0.9411765        \n",
            "mvianna10/germany-electricity-power-for-20062017        Germany electricity power for 2006-2017             66KB  2019-08-10 18:59:19           1502         17  1.0              \n"
          ]
        }
      ],
      "source": [
        "! kaggle datasets list -s german"
      ]
    },
    {
      "cell_type": "code",
      "execution_count": 6,
      "metadata": {
        "colab": {
          "base_uri": "https://localhost:8080/"
        },
        "id": "Zj_JBisA2hbt",
        "outputId": "e0a3fc4f-66b7-47cc-f349-5e2b0bb0a3dc"
      },
      "outputs": [
        {
          "output_type": "stream",
          "name": "stdout",
          "text": [
            "Downloading gtsrb-german-traffic-sign.zip to /content\n",
            " 98% 601M/612M [00:05<00:00, 112MB/s]\n",
            "100% 612M/612M [00:05<00:00, 114MB/s]\n"
          ]
        }
      ],
      "source": [
        "! kaggle datasets download -d meowmeowmeowmeowmeow/gtsrb-german-traffic-sign"
      ]
    },
    {
      "cell_type": "code",
      "execution_count": 7,
      "metadata": {
        "colab": {
          "base_uri": "https://localhost:8080/"
        },
        "id": "t7OGrZSmMCa0",
        "outputId": "ece3b2b5-debc-4ebb-f4bf-65758ce6b2e3"
      },
      "outputs": [
        {
          "output_type": "stream",
          "name": "stdout",
          "text": [
            "\u001b[1;30;43mStreaming output truncated to the last 5000 lines.\u001b[0m\n",
            "  inflating: train/5/00005_00053_00010.png  \n",
            "  inflating: train/5/00005_00053_00011.png  \n",
            "  inflating: train/5/00005_00053_00012.png  \n",
            "  inflating: train/5/00005_00053_00013.png  \n",
            "  inflating: train/5/00005_00053_00014.png  \n",
            "  inflating: train/5/00005_00053_00015.png  \n",
            "  inflating: train/5/00005_00053_00016.png  \n",
            "  inflating: train/5/00005_00053_00017.png  \n",
            "  inflating: train/5/00005_00053_00018.png  \n",
            "  inflating: train/5/00005_00053_00019.png  \n",
            "  inflating: train/5/00005_00053_00020.png  \n",
            "  inflating: train/5/00005_00053_00021.png  \n",
            "  inflating: train/5/00005_00053_00022.png  \n",
            "  inflating: train/5/00005_00053_00023.png  \n",
            "  inflating: train/5/00005_00053_00024.png  \n",
            "  inflating: train/5/00005_00053_00025.png  \n",
            "  inflating: train/5/00005_00053_00026.png  \n",
            "  inflating: train/5/00005_00053_00027.png  \n",
            "  inflating: train/5/00005_00053_00028.png  \n",
            "  inflating: train/5/00005_00053_00029.png  \n",
            "  inflating: train/5/00005_00054_00000.png  \n",
            "  inflating: train/5/00005_00054_00001.png  \n",
            "  inflating: train/5/00005_00054_00002.png  \n",
            "  inflating: train/5/00005_00054_00003.png  \n",
            "  inflating: train/5/00005_00054_00004.png  \n",
            "  inflating: train/5/00005_00054_00005.png  \n",
            "  inflating: train/5/00005_00054_00006.png  \n",
            "  inflating: train/5/00005_00054_00007.png  \n",
            "  inflating: train/5/00005_00054_00008.png  \n",
            "  inflating: train/5/00005_00054_00009.png  \n",
            "  inflating: train/5/00005_00054_00010.png  \n",
            "  inflating: train/5/00005_00054_00011.png  \n",
            "  inflating: train/5/00005_00054_00012.png  \n",
            "  inflating: train/5/00005_00054_00013.png  \n",
            "  inflating: train/5/00005_00054_00014.png  \n",
            "  inflating: train/5/00005_00054_00015.png  \n",
            "  inflating: train/5/00005_00054_00016.png  \n",
            "  inflating: train/5/00005_00054_00017.png  \n",
            "  inflating: train/5/00005_00054_00018.png  \n",
            "  inflating: train/5/00005_00054_00019.png  \n",
            "  inflating: train/5/00005_00054_00020.png  \n",
            "  inflating: train/5/00005_00054_00021.png  \n",
            "  inflating: train/5/00005_00054_00022.png  \n",
            "  inflating: train/5/00005_00054_00023.png  \n",
            "  inflating: train/5/00005_00054_00024.png  \n",
            "  inflating: train/5/00005_00054_00025.png  \n",
            "  inflating: train/5/00005_00054_00026.png  \n",
            "  inflating: train/5/00005_00054_00027.png  \n",
            "  inflating: train/5/00005_00054_00028.png  \n",
            "  inflating: train/5/00005_00054_00029.png  \n",
            "  inflating: train/5/00005_00055_00000.png  \n",
            "  inflating: train/5/00005_00055_00001.png  \n",
            "  inflating: train/5/00005_00055_00002.png  \n",
            "  inflating: train/5/00005_00055_00003.png  \n",
            "  inflating: train/5/00005_00055_00004.png  \n",
            "  inflating: train/5/00005_00055_00005.png  \n",
            "  inflating: train/5/00005_00055_00006.png  \n",
            "  inflating: train/5/00005_00055_00007.png  \n",
            "  inflating: train/5/00005_00055_00008.png  \n",
            "  inflating: train/5/00005_00055_00009.png  \n",
            "  inflating: train/5/00005_00055_00010.png  \n",
            "  inflating: train/5/00005_00055_00011.png  \n",
            "  inflating: train/5/00005_00055_00012.png  \n",
            "  inflating: train/5/00005_00055_00013.png  \n",
            "  inflating: train/5/00005_00055_00014.png  \n",
            "  inflating: train/5/00005_00055_00015.png  \n",
            "  inflating: train/5/00005_00055_00016.png  \n",
            "  inflating: train/5/00005_00055_00017.png  \n",
            "  inflating: train/5/00005_00055_00018.png  \n",
            "  inflating: train/5/00005_00055_00019.png  \n",
            "  inflating: train/5/00005_00055_00020.png  \n",
            "  inflating: train/5/00005_00055_00021.png  \n",
            "  inflating: train/5/00005_00055_00022.png  \n",
            "  inflating: train/5/00005_00055_00023.png  \n",
            "  inflating: train/5/00005_00055_00024.png  \n",
            "  inflating: train/5/00005_00055_00025.png  \n",
            "  inflating: train/5/00005_00055_00026.png  \n",
            "  inflating: train/5/00005_00055_00027.png  \n",
            "  inflating: train/5/00005_00055_00028.png  \n",
            "  inflating: train/5/00005_00055_00029.png  \n",
            "  inflating: train/5/00005_00056_00000.png  \n",
            "  inflating: train/5/00005_00056_00001.png  \n",
            "  inflating: train/5/00005_00056_00002.png  \n",
            "  inflating: train/5/00005_00056_00003.png  \n",
            "  inflating: train/5/00005_00056_00004.png  \n",
            "  inflating: train/5/00005_00056_00005.png  \n",
            "  inflating: train/5/00005_00056_00006.png  \n",
            "  inflating: train/5/00005_00056_00007.png  \n",
            "  inflating: train/5/00005_00056_00008.png  \n",
            "  inflating: train/5/00005_00056_00009.png  \n",
            "  inflating: train/5/00005_00056_00010.png  \n",
            "  inflating: train/5/00005_00056_00011.png  \n",
            "  inflating: train/5/00005_00056_00012.png  \n",
            "  inflating: train/5/00005_00056_00013.png  \n",
            "  inflating: train/5/00005_00056_00014.png  \n",
            "  inflating: train/5/00005_00056_00015.png  \n",
            "  inflating: train/5/00005_00056_00016.png  \n",
            "  inflating: train/5/00005_00056_00017.png  \n",
            "  inflating: train/5/00005_00056_00018.png  \n",
            "  inflating: train/5/00005_00056_00019.png  \n",
            "  inflating: train/5/00005_00056_00020.png  \n",
            "  inflating: train/5/00005_00056_00021.png  \n",
            "  inflating: train/5/00005_00056_00022.png  \n",
            "  inflating: train/5/00005_00056_00023.png  \n",
            "  inflating: train/5/00005_00056_00024.png  \n",
            "  inflating: train/5/00005_00056_00025.png  \n",
            "  inflating: train/5/00005_00056_00026.png  \n",
            "  inflating: train/5/00005_00056_00027.png  \n",
            "  inflating: train/5/00005_00056_00028.png  \n",
            "  inflating: train/5/00005_00056_00029.png  \n",
            "  inflating: train/5/00005_00057_00000.png  \n",
            "  inflating: train/5/00005_00057_00001.png  \n",
            "  inflating: train/5/00005_00057_00002.png  \n",
            "  inflating: train/5/00005_00057_00003.png  \n",
            "  inflating: train/5/00005_00057_00004.png  \n",
            "  inflating: train/5/00005_00057_00005.png  \n",
            "  inflating: train/5/00005_00057_00006.png  \n",
            "  inflating: train/5/00005_00057_00007.png  \n",
            "  inflating: train/5/00005_00057_00008.png  \n",
            "  inflating: train/5/00005_00057_00009.png  \n",
            "  inflating: train/5/00005_00057_00010.png  \n",
            "  inflating: train/5/00005_00057_00011.png  \n",
            "  inflating: train/5/00005_00057_00012.png  \n",
            "  inflating: train/5/00005_00057_00013.png  \n",
            "  inflating: train/5/00005_00057_00014.png  \n",
            "  inflating: train/5/00005_00057_00015.png  \n",
            "  inflating: train/5/00005_00057_00016.png  \n",
            "  inflating: train/5/00005_00057_00017.png  \n",
            "  inflating: train/5/00005_00057_00018.png  \n",
            "  inflating: train/5/00005_00057_00019.png  \n",
            "  inflating: train/5/00005_00057_00020.png  \n",
            "  inflating: train/5/00005_00057_00021.png  \n",
            "  inflating: train/5/00005_00057_00022.png  \n",
            "  inflating: train/5/00005_00057_00023.png  \n",
            "  inflating: train/5/00005_00057_00024.png  \n",
            "  inflating: train/5/00005_00057_00025.png  \n",
            "  inflating: train/5/00005_00057_00026.png  \n",
            "  inflating: train/5/00005_00057_00027.png  \n",
            "  inflating: train/5/00005_00057_00028.png  \n",
            "  inflating: train/5/00005_00057_00029.png  \n",
            "  inflating: train/5/00005_00058_00000.png  \n",
            "  inflating: train/5/00005_00058_00001.png  \n",
            "  inflating: train/5/00005_00058_00002.png  \n",
            "  inflating: train/5/00005_00058_00003.png  \n",
            "  inflating: train/5/00005_00058_00004.png  \n",
            "  inflating: train/5/00005_00058_00005.png  \n",
            "  inflating: train/5/00005_00058_00006.png  \n",
            "  inflating: train/5/00005_00058_00007.png  \n",
            "  inflating: train/5/00005_00058_00008.png  \n",
            "  inflating: train/5/00005_00058_00009.png  \n",
            "  inflating: train/5/00005_00058_00010.png  \n",
            "  inflating: train/5/00005_00058_00011.png  \n",
            "  inflating: train/5/00005_00058_00012.png  \n",
            "  inflating: train/5/00005_00058_00013.png  \n",
            "  inflating: train/5/00005_00058_00014.png  \n",
            "  inflating: train/5/00005_00058_00015.png  \n",
            "  inflating: train/5/00005_00058_00016.png  \n",
            "  inflating: train/5/00005_00058_00017.png  \n",
            "  inflating: train/5/00005_00058_00018.png  \n",
            "  inflating: train/5/00005_00058_00019.png  \n",
            "  inflating: train/5/00005_00058_00020.png  \n",
            "  inflating: train/5/00005_00058_00021.png  \n",
            "  inflating: train/5/00005_00058_00022.png  \n",
            "  inflating: train/5/00005_00058_00023.png  \n",
            "  inflating: train/5/00005_00058_00024.png  \n",
            "  inflating: train/5/00005_00058_00025.png  \n",
            "  inflating: train/5/00005_00058_00026.png  \n",
            "  inflating: train/5/00005_00058_00027.png  \n",
            "  inflating: train/5/00005_00058_00028.png  \n",
            "  inflating: train/5/00005_00058_00029.png  \n",
            "  inflating: train/5/00005_00059_00000.png  \n",
            "  inflating: train/5/00005_00059_00001.png  \n",
            "  inflating: train/5/00005_00059_00002.png  \n",
            "  inflating: train/5/00005_00059_00003.png  \n",
            "  inflating: train/5/00005_00059_00004.png  \n",
            "  inflating: train/5/00005_00059_00005.png  \n",
            "  inflating: train/5/00005_00059_00006.png  \n",
            "  inflating: train/5/00005_00059_00007.png  \n",
            "  inflating: train/5/00005_00059_00008.png  \n",
            "  inflating: train/5/00005_00059_00009.png  \n",
            "  inflating: train/5/00005_00059_00010.png  \n",
            "  inflating: train/5/00005_00059_00011.png  \n",
            "  inflating: train/5/00005_00059_00012.png  \n",
            "  inflating: train/5/00005_00059_00013.png  \n",
            "  inflating: train/5/00005_00059_00014.png  \n",
            "  inflating: train/5/00005_00059_00015.png  \n",
            "  inflating: train/5/00005_00059_00016.png  \n",
            "  inflating: train/5/00005_00059_00017.png  \n",
            "  inflating: train/5/00005_00059_00018.png  \n",
            "  inflating: train/5/00005_00059_00019.png  \n",
            "  inflating: train/5/00005_00059_00020.png  \n",
            "  inflating: train/5/00005_00059_00021.png  \n",
            "  inflating: train/5/00005_00059_00022.png  \n",
            "  inflating: train/5/00005_00059_00023.png  \n",
            "  inflating: train/5/00005_00059_00024.png  \n",
            "  inflating: train/5/00005_00059_00025.png  \n",
            "  inflating: train/5/00005_00059_00026.png  \n",
            "  inflating: train/5/00005_00059_00027.png  \n",
            "  inflating: train/5/00005_00059_00028.png  \n",
            "  inflating: train/5/00005_00059_00029.png  \n",
            "  inflating: train/5/00005_00060_00000.png  \n",
            "  inflating: train/5/00005_00060_00001.png  \n",
            "  inflating: train/5/00005_00060_00002.png  \n",
            "  inflating: train/5/00005_00060_00003.png  \n",
            "  inflating: train/5/00005_00060_00004.png  \n",
            "  inflating: train/5/00005_00060_00005.png  \n",
            "  inflating: train/5/00005_00060_00006.png  \n",
            "  inflating: train/5/00005_00060_00007.png  \n",
            "  inflating: train/5/00005_00060_00008.png  \n",
            "  inflating: train/5/00005_00060_00009.png  \n",
            "  inflating: train/5/00005_00060_00010.png  \n",
            "  inflating: train/5/00005_00060_00011.png  \n",
            "  inflating: train/5/00005_00060_00012.png  \n",
            "  inflating: train/5/00005_00060_00013.png  \n",
            "  inflating: train/5/00005_00060_00014.png  \n",
            "  inflating: train/5/00005_00060_00015.png  \n",
            "  inflating: train/5/00005_00060_00016.png  \n",
            "  inflating: train/5/00005_00060_00017.png  \n",
            "  inflating: train/5/00005_00060_00018.png  \n",
            "  inflating: train/5/00005_00060_00019.png  \n",
            "  inflating: train/5/00005_00060_00020.png  \n",
            "  inflating: train/5/00005_00060_00021.png  \n",
            "  inflating: train/5/00005_00060_00022.png  \n",
            "  inflating: train/5/00005_00060_00023.png  \n",
            "  inflating: train/5/00005_00060_00024.png  \n",
            "  inflating: train/5/00005_00060_00025.png  \n",
            "  inflating: train/5/00005_00060_00026.png  \n",
            "  inflating: train/5/00005_00060_00027.png  \n",
            "  inflating: train/5/00005_00060_00028.png  \n",
            "  inflating: train/5/00005_00060_00029.png  \n",
            "  inflating: train/5/00005_00061_00000.png  \n",
            "  inflating: train/5/00005_00061_00001.png  \n",
            "  inflating: train/5/00005_00061_00002.png  \n",
            "  inflating: train/5/00005_00061_00003.png  \n",
            "  inflating: train/5/00005_00061_00004.png  \n",
            "  inflating: train/5/00005_00061_00005.png  \n",
            "  inflating: train/5/00005_00061_00006.png  \n",
            "  inflating: train/5/00005_00061_00007.png  \n",
            "  inflating: train/5/00005_00061_00008.png  \n",
            "  inflating: train/5/00005_00061_00009.png  \n",
            "  inflating: train/5/00005_00061_00010.png  \n",
            "  inflating: train/5/00005_00061_00011.png  \n",
            "  inflating: train/5/00005_00061_00012.png  \n",
            "  inflating: train/5/00005_00061_00013.png  \n",
            "  inflating: train/5/00005_00061_00014.png  \n",
            "  inflating: train/5/00005_00061_00015.png  \n",
            "  inflating: train/5/00005_00061_00016.png  \n",
            "  inflating: train/5/00005_00061_00017.png  \n",
            "  inflating: train/5/00005_00061_00018.png  \n",
            "  inflating: train/5/00005_00061_00019.png  \n",
            "  inflating: train/5/00005_00061_00020.png  \n",
            "  inflating: train/5/00005_00061_00021.png  \n",
            "  inflating: train/5/00005_00061_00022.png  \n",
            "  inflating: train/5/00005_00061_00023.png  \n",
            "  inflating: train/5/00005_00061_00024.png  \n",
            "  inflating: train/5/00005_00061_00025.png  \n",
            "  inflating: train/5/00005_00061_00026.png  \n",
            "  inflating: train/5/00005_00061_00027.png  \n",
            "  inflating: train/5/00005_00061_00028.png  \n",
            "  inflating: train/5/00005_00061_00029.png  \n",
            "  inflating: train/6/00006_00000_00000.png  \n",
            "  inflating: train/6/00006_00000_00001.png  \n",
            "  inflating: train/6/00006_00000_00002.png  \n",
            "  inflating: train/6/00006_00000_00003.png  \n",
            "  inflating: train/6/00006_00000_00004.png  \n",
            "  inflating: train/6/00006_00000_00005.png  \n",
            "  inflating: train/6/00006_00000_00006.png  \n",
            "  inflating: train/6/00006_00000_00007.png  \n",
            "  inflating: train/6/00006_00000_00008.png  \n",
            "  inflating: train/6/00006_00000_00009.png  \n",
            "  inflating: train/6/00006_00000_00010.png  \n",
            "  inflating: train/6/00006_00000_00011.png  \n",
            "  inflating: train/6/00006_00000_00012.png  \n",
            "  inflating: train/6/00006_00000_00013.png  \n",
            "  inflating: train/6/00006_00000_00014.png  \n",
            "  inflating: train/6/00006_00000_00015.png  \n",
            "  inflating: train/6/00006_00000_00016.png  \n",
            "  inflating: train/6/00006_00000_00017.png  \n",
            "  inflating: train/6/00006_00000_00018.png  \n",
            "  inflating: train/6/00006_00000_00019.png  \n",
            "  inflating: train/6/00006_00000_00020.png  \n",
            "  inflating: train/6/00006_00000_00021.png  \n",
            "  inflating: train/6/00006_00000_00022.png  \n",
            "  inflating: train/6/00006_00000_00023.png  \n",
            "  inflating: train/6/00006_00000_00024.png  \n",
            "  inflating: train/6/00006_00000_00025.png  \n",
            "  inflating: train/6/00006_00000_00026.png  \n",
            "  inflating: train/6/00006_00000_00027.png  \n",
            "  inflating: train/6/00006_00000_00028.png  \n",
            "  inflating: train/6/00006_00000_00029.png  \n",
            "  inflating: train/6/00006_00001_00000.png  \n",
            "  inflating: train/6/00006_00001_00001.png  \n",
            "  inflating: train/6/00006_00001_00002.png  \n",
            "  inflating: train/6/00006_00001_00003.png  \n",
            "  inflating: train/6/00006_00001_00004.png  \n",
            "  inflating: train/6/00006_00001_00005.png  \n",
            "  inflating: train/6/00006_00001_00006.png  \n",
            "  inflating: train/6/00006_00001_00007.png  \n",
            "  inflating: train/6/00006_00001_00008.png  \n",
            "  inflating: train/6/00006_00001_00009.png  \n",
            "  inflating: train/6/00006_00001_00010.png  \n",
            "  inflating: train/6/00006_00001_00011.png  \n",
            "  inflating: train/6/00006_00001_00012.png  \n",
            "  inflating: train/6/00006_00001_00013.png  \n",
            "  inflating: train/6/00006_00001_00014.png  \n",
            "  inflating: train/6/00006_00001_00015.png  \n",
            "  inflating: train/6/00006_00001_00016.png  \n",
            "  inflating: train/6/00006_00001_00017.png  \n",
            "  inflating: train/6/00006_00001_00018.png  \n",
            "  inflating: train/6/00006_00001_00019.png  \n",
            "  inflating: train/6/00006_00001_00020.png  \n",
            "  inflating: train/6/00006_00001_00021.png  \n",
            "  inflating: train/6/00006_00001_00022.png  \n",
            "  inflating: train/6/00006_00001_00023.png  \n",
            "  inflating: train/6/00006_00001_00024.png  \n",
            "  inflating: train/6/00006_00001_00025.png  \n",
            "  inflating: train/6/00006_00001_00026.png  \n",
            "  inflating: train/6/00006_00001_00027.png  \n",
            "  inflating: train/6/00006_00001_00028.png  \n",
            "  inflating: train/6/00006_00001_00029.png  \n",
            "  inflating: train/6/00006_00002_00000.png  \n",
            "  inflating: train/6/00006_00002_00001.png  \n",
            "  inflating: train/6/00006_00002_00002.png  \n",
            "  inflating: train/6/00006_00002_00003.png  \n",
            "  inflating: train/6/00006_00002_00004.png  \n",
            "  inflating: train/6/00006_00002_00005.png  \n",
            "  inflating: train/6/00006_00002_00006.png  \n",
            "  inflating: train/6/00006_00002_00007.png  \n",
            "  inflating: train/6/00006_00002_00008.png  \n",
            "  inflating: train/6/00006_00002_00009.png  \n",
            "  inflating: train/6/00006_00002_00010.png  \n",
            "  inflating: train/6/00006_00002_00011.png  \n",
            "  inflating: train/6/00006_00002_00012.png  \n",
            "  inflating: train/6/00006_00002_00013.png  \n",
            "  inflating: train/6/00006_00002_00014.png  \n",
            "  inflating: train/6/00006_00002_00015.png  \n",
            "  inflating: train/6/00006_00002_00016.png  \n",
            "  inflating: train/6/00006_00002_00017.png  \n",
            "  inflating: train/6/00006_00002_00018.png  \n",
            "  inflating: train/6/00006_00002_00019.png  \n",
            "  inflating: train/6/00006_00002_00020.png  \n",
            "  inflating: train/6/00006_00002_00021.png  \n",
            "  inflating: train/6/00006_00002_00022.png  \n",
            "  inflating: train/6/00006_00002_00023.png  \n",
            "  inflating: train/6/00006_00002_00024.png  \n",
            "  inflating: train/6/00006_00002_00025.png  \n",
            "  inflating: train/6/00006_00002_00026.png  \n",
            "  inflating: train/6/00006_00002_00027.png  \n",
            "  inflating: train/6/00006_00002_00028.png  \n",
            "  inflating: train/6/00006_00002_00029.png  \n",
            "  inflating: train/6/00006_00003_00000.png  \n",
            "  inflating: train/6/00006_00003_00001.png  \n",
            "  inflating: train/6/00006_00003_00002.png  \n",
            "  inflating: train/6/00006_00003_00003.png  \n",
            "  inflating: train/6/00006_00003_00004.png  \n",
            "  inflating: train/6/00006_00003_00005.png  \n",
            "  inflating: train/6/00006_00003_00006.png  \n",
            "  inflating: train/6/00006_00003_00007.png  \n",
            "  inflating: train/6/00006_00003_00008.png  \n",
            "  inflating: train/6/00006_00003_00009.png  \n",
            "  inflating: train/6/00006_00003_00010.png  \n",
            "  inflating: train/6/00006_00003_00011.png  \n",
            "  inflating: train/6/00006_00003_00012.png  \n",
            "  inflating: train/6/00006_00003_00013.png  \n",
            "  inflating: train/6/00006_00003_00014.png  \n",
            "  inflating: train/6/00006_00003_00015.png  \n",
            "  inflating: train/6/00006_00003_00016.png  \n",
            "  inflating: train/6/00006_00003_00017.png  \n",
            "  inflating: train/6/00006_00003_00018.png  \n",
            "  inflating: train/6/00006_00003_00019.png  \n",
            "  inflating: train/6/00006_00003_00020.png  \n",
            "  inflating: train/6/00006_00003_00021.png  \n",
            "  inflating: train/6/00006_00003_00022.png  \n",
            "  inflating: train/6/00006_00003_00023.png  \n",
            "  inflating: train/6/00006_00003_00024.png  \n",
            "  inflating: train/6/00006_00003_00025.png  \n",
            "  inflating: train/6/00006_00003_00026.png  \n",
            "  inflating: train/6/00006_00003_00027.png  \n",
            "  inflating: train/6/00006_00003_00028.png  \n",
            "  inflating: train/6/00006_00003_00029.png  \n",
            "  inflating: train/6/00006_00004_00000.png  \n",
            "  inflating: train/6/00006_00004_00001.png  \n",
            "  inflating: train/6/00006_00004_00002.png  \n",
            "  inflating: train/6/00006_00004_00003.png  \n",
            "  inflating: train/6/00006_00004_00004.png  \n",
            "  inflating: train/6/00006_00004_00005.png  \n",
            "  inflating: train/6/00006_00004_00006.png  \n",
            "  inflating: train/6/00006_00004_00007.png  \n",
            "  inflating: train/6/00006_00004_00008.png  \n",
            "  inflating: train/6/00006_00004_00009.png  \n",
            "  inflating: train/6/00006_00004_00010.png  \n",
            "  inflating: train/6/00006_00004_00011.png  \n",
            "  inflating: train/6/00006_00004_00012.png  \n",
            "  inflating: train/6/00006_00004_00013.png  \n",
            "  inflating: train/6/00006_00004_00014.png  \n",
            "  inflating: train/6/00006_00004_00015.png  \n",
            "  inflating: train/6/00006_00004_00016.png  \n",
            "  inflating: train/6/00006_00004_00017.png  \n",
            "  inflating: train/6/00006_00004_00018.png  \n",
            "  inflating: train/6/00006_00004_00019.png  \n",
            "  inflating: train/6/00006_00004_00020.png  \n",
            "  inflating: train/6/00006_00004_00021.png  \n",
            "  inflating: train/6/00006_00004_00022.png  \n",
            "  inflating: train/6/00006_00004_00023.png  \n",
            "  inflating: train/6/00006_00004_00024.png  \n",
            "  inflating: train/6/00006_00004_00025.png  \n",
            "  inflating: train/6/00006_00004_00026.png  \n",
            "  inflating: train/6/00006_00004_00027.png  \n",
            "  inflating: train/6/00006_00004_00028.png  \n",
            "  inflating: train/6/00006_00004_00029.png  \n",
            "  inflating: train/6/00006_00005_00000.png  \n",
            "  inflating: train/6/00006_00005_00001.png  \n",
            "  inflating: train/6/00006_00005_00002.png  \n",
            "  inflating: train/6/00006_00005_00003.png  \n",
            "  inflating: train/6/00006_00005_00004.png  \n",
            "  inflating: train/6/00006_00005_00005.png  \n",
            "  inflating: train/6/00006_00005_00006.png  \n",
            "  inflating: train/6/00006_00005_00007.png  \n",
            "  inflating: train/6/00006_00005_00008.png  \n",
            "  inflating: train/6/00006_00005_00009.png  \n",
            "  inflating: train/6/00006_00005_00010.png  \n",
            "  inflating: train/6/00006_00005_00011.png  \n",
            "  inflating: train/6/00006_00005_00012.png  \n",
            "  inflating: train/6/00006_00005_00013.png  \n",
            "  inflating: train/6/00006_00005_00014.png  \n",
            "  inflating: train/6/00006_00005_00015.png  \n",
            "  inflating: train/6/00006_00005_00016.png  \n",
            "  inflating: train/6/00006_00005_00017.png  \n",
            "  inflating: train/6/00006_00005_00018.png  \n",
            "  inflating: train/6/00006_00005_00019.png  \n",
            "  inflating: train/6/00006_00005_00020.png  \n",
            "  inflating: train/6/00006_00005_00021.png  \n",
            "  inflating: train/6/00006_00005_00022.png  \n",
            "  inflating: train/6/00006_00005_00023.png  \n",
            "  inflating: train/6/00006_00005_00024.png  \n",
            "  inflating: train/6/00006_00005_00025.png  \n",
            "  inflating: train/6/00006_00005_00026.png  \n",
            "  inflating: train/6/00006_00005_00027.png  \n",
            "  inflating: train/6/00006_00005_00028.png  \n",
            "  inflating: train/6/00006_00005_00029.png  \n",
            "  inflating: train/6/00006_00006_00000.png  \n",
            "  inflating: train/6/00006_00006_00001.png  \n",
            "  inflating: train/6/00006_00006_00002.png  \n",
            "  inflating: train/6/00006_00006_00003.png  \n",
            "  inflating: train/6/00006_00006_00004.png  \n",
            "  inflating: train/6/00006_00006_00005.png  \n",
            "  inflating: train/6/00006_00006_00006.png  \n",
            "  inflating: train/6/00006_00006_00007.png  \n",
            "  inflating: train/6/00006_00006_00008.png  \n",
            "  inflating: train/6/00006_00006_00009.png  \n",
            "  inflating: train/6/00006_00006_00010.png  \n",
            "  inflating: train/6/00006_00006_00011.png  \n",
            "  inflating: train/6/00006_00006_00012.png  \n",
            "  inflating: train/6/00006_00006_00013.png  \n",
            "  inflating: train/6/00006_00006_00014.png  \n",
            "  inflating: train/6/00006_00006_00015.png  \n",
            "  inflating: train/6/00006_00006_00016.png  \n",
            "  inflating: train/6/00006_00006_00017.png  \n",
            "  inflating: train/6/00006_00006_00018.png  \n",
            "  inflating: train/6/00006_00006_00019.png  \n",
            "  inflating: train/6/00006_00006_00020.png  \n",
            "  inflating: train/6/00006_00006_00021.png  \n",
            "  inflating: train/6/00006_00006_00022.png  \n",
            "  inflating: train/6/00006_00006_00023.png  \n",
            "  inflating: train/6/00006_00006_00024.png  \n",
            "  inflating: train/6/00006_00006_00025.png  \n",
            "  inflating: train/6/00006_00006_00026.png  \n",
            "  inflating: train/6/00006_00006_00027.png  \n",
            "  inflating: train/6/00006_00006_00028.png  \n",
            "  inflating: train/6/00006_00006_00029.png  \n",
            "  inflating: train/6/00006_00007_00000.png  \n",
            "  inflating: train/6/00006_00007_00001.png  \n",
            "  inflating: train/6/00006_00007_00002.png  \n",
            "  inflating: train/6/00006_00007_00003.png  \n",
            "  inflating: train/6/00006_00007_00004.png  \n",
            "  inflating: train/6/00006_00007_00005.png  \n",
            "  inflating: train/6/00006_00007_00006.png  \n",
            "  inflating: train/6/00006_00007_00007.png  \n",
            "  inflating: train/6/00006_00007_00008.png  \n",
            "  inflating: train/6/00006_00007_00009.png  \n",
            "  inflating: train/6/00006_00007_00010.png  \n",
            "  inflating: train/6/00006_00007_00011.png  \n",
            "  inflating: train/6/00006_00007_00012.png  \n",
            "  inflating: train/6/00006_00007_00013.png  \n",
            "  inflating: train/6/00006_00007_00014.png  \n",
            "  inflating: train/6/00006_00007_00015.png  \n",
            "  inflating: train/6/00006_00007_00016.png  \n",
            "  inflating: train/6/00006_00007_00017.png  \n",
            "  inflating: train/6/00006_00007_00018.png  \n",
            "  inflating: train/6/00006_00007_00019.png  \n",
            "  inflating: train/6/00006_00007_00020.png  \n",
            "  inflating: train/6/00006_00007_00021.png  \n",
            "  inflating: train/6/00006_00007_00022.png  \n",
            "  inflating: train/6/00006_00007_00023.png  \n",
            "  inflating: train/6/00006_00007_00024.png  \n",
            "  inflating: train/6/00006_00007_00025.png  \n",
            "  inflating: train/6/00006_00007_00026.png  \n",
            "  inflating: train/6/00006_00007_00027.png  \n",
            "  inflating: train/6/00006_00007_00028.png  \n",
            "  inflating: train/6/00006_00007_00029.png  \n",
            "  inflating: train/6/00006_00008_00000.png  \n",
            "  inflating: train/6/00006_00008_00001.png  \n",
            "  inflating: train/6/00006_00008_00002.png  \n",
            "  inflating: train/6/00006_00008_00003.png  \n",
            "  inflating: train/6/00006_00008_00004.png  \n",
            "  inflating: train/6/00006_00008_00005.png  \n",
            "  inflating: train/6/00006_00008_00006.png  \n",
            "  inflating: train/6/00006_00008_00007.png  \n",
            "  inflating: train/6/00006_00008_00008.png  \n",
            "  inflating: train/6/00006_00008_00009.png  \n",
            "  inflating: train/6/00006_00008_00010.png  \n",
            "  inflating: train/6/00006_00008_00011.png  \n",
            "  inflating: train/6/00006_00008_00012.png  \n",
            "  inflating: train/6/00006_00008_00013.png  \n",
            "  inflating: train/6/00006_00008_00014.png  \n",
            "  inflating: train/6/00006_00008_00015.png  \n",
            "  inflating: train/6/00006_00008_00016.png  \n",
            "  inflating: train/6/00006_00008_00017.png  \n",
            "  inflating: train/6/00006_00008_00018.png  \n",
            "  inflating: train/6/00006_00008_00019.png  \n",
            "  inflating: train/6/00006_00008_00020.png  \n",
            "  inflating: train/6/00006_00008_00021.png  \n",
            "  inflating: train/6/00006_00008_00022.png  \n",
            "  inflating: train/6/00006_00008_00023.png  \n",
            "  inflating: train/6/00006_00008_00024.png  \n",
            "  inflating: train/6/00006_00008_00025.png  \n",
            "  inflating: train/6/00006_00008_00026.png  \n",
            "  inflating: train/6/00006_00008_00027.png  \n",
            "  inflating: train/6/00006_00008_00028.png  \n",
            "  inflating: train/6/00006_00008_00029.png  \n",
            "  inflating: train/6/00006_00009_00000.png  \n",
            "  inflating: train/6/00006_00009_00001.png  \n",
            "  inflating: train/6/00006_00009_00002.png  \n",
            "  inflating: train/6/00006_00009_00003.png  \n",
            "  inflating: train/6/00006_00009_00004.png  \n",
            "  inflating: train/6/00006_00009_00005.png  \n",
            "  inflating: train/6/00006_00009_00006.png  \n",
            "  inflating: train/6/00006_00009_00007.png  \n",
            "  inflating: train/6/00006_00009_00008.png  \n",
            "  inflating: train/6/00006_00009_00009.png  \n",
            "  inflating: train/6/00006_00009_00010.png  \n",
            "  inflating: train/6/00006_00009_00011.png  \n",
            "  inflating: train/6/00006_00009_00012.png  \n",
            "  inflating: train/6/00006_00009_00013.png  \n",
            "  inflating: train/6/00006_00009_00014.png  \n",
            "  inflating: train/6/00006_00009_00015.png  \n",
            "  inflating: train/6/00006_00009_00016.png  \n",
            "  inflating: train/6/00006_00009_00017.png  \n",
            "  inflating: train/6/00006_00009_00018.png  \n",
            "  inflating: train/6/00006_00009_00019.png  \n",
            "  inflating: train/6/00006_00009_00020.png  \n",
            "  inflating: train/6/00006_00009_00021.png  \n",
            "  inflating: train/6/00006_00009_00022.png  \n",
            "  inflating: train/6/00006_00009_00023.png  \n",
            "  inflating: train/6/00006_00009_00024.png  \n",
            "  inflating: train/6/00006_00009_00025.png  \n",
            "  inflating: train/6/00006_00009_00026.png  \n",
            "  inflating: train/6/00006_00009_00027.png  \n",
            "  inflating: train/6/00006_00009_00028.png  \n",
            "  inflating: train/6/00006_00009_00029.png  \n",
            "  inflating: train/6/00006_00010_00000.png  \n",
            "  inflating: train/6/00006_00010_00001.png  \n",
            "  inflating: train/6/00006_00010_00002.png  \n",
            "  inflating: train/6/00006_00010_00003.png  \n",
            "  inflating: train/6/00006_00010_00004.png  \n",
            "  inflating: train/6/00006_00010_00005.png  \n",
            "  inflating: train/6/00006_00010_00006.png  \n",
            "  inflating: train/6/00006_00010_00007.png  \n",
            "  inflating: train/6/00006_00010_00008.png  \n",
            "  inflating: train/6/00006_00010_00009.png  \n",
            "  inflating: train/6/00006_00010_00010.png  \n",
            "  inflating: train/6/00006_00010_00011.png  \n",
            "  inflating: train/6/00006_00010_00012.png  \n",
            "  inflating: train/6/00006_00010_00013.png  \n",
            "  inflating: train/6/00006_00010_00014.png  \n",
            "  inflating: train/6/00006_00010_00015.png  \n",
            "  inflating: train/6/00006_00010_00016.png  \n",
            "  inflating: train/6/00006_00010_00017.png  \n",
            "  inflating: train/6/00006_00010_00018.png  \n",
            "  inflating: train/6/00006_00010_00019.png  \n",
            "  inflating: train/6/00006_00010_00020.png  \n",
            "  inflating: train/6/00006_00010_00021.png  \n",
            "  inflating: train/6/00006_00010_00022.png  \n",
            "  inflating: train/6/00006_00010_00023.png  \n",
            "  inflating: train/6/00006_00010_00024.png  \n",
            "  inflating: train/6/00006_00010_00025.png  \n",
            "  inflating: train/6/00006_00010_00026.png  \n",
            "  inflating: train/6/00006_00010_00027.png  \n",
            "  inflating: train/6/00006_00010_00028.png  \n",
            "  inflating: train/6/00006_00010_00029.png  \n",
            "  inflating: train/6/00006_00011_00000.png  \n",
            "  inflating: train/6/00006_00011_00001.png  \n",
            "  inflating: train/6/00006_00011_00002.png  \n",
            "  inflating: train/6/00006_00011_00003.png  \n",
            "  inflating: train/6/00006_00011_00004.png  \n",
            "  inflating: train/6/00006_00011_00005.png  \n",
            "  inflating: train/6/00006_00011_00006.png  \n",
            "  inflating: train/6/00006_00011_00007.png  \n",
            "  inflating: train/6/00006_00011_00008.png  \n",
            "  inflating: train/6/00006_00011_00009.png  \n",
            "  inflating: train/6/00006_00011_00010.png  \n",
            "  inflating: train/6/00006_00011_00011.png  \n",
            "  inflating: train/6/00006_00011_00012.png  \n",
            "  inflating: train/6/00006_00011_00013.png  \n",
            "  inflating: train/6/00006_00011_00014.png  \n",
            "  inflating: train/6/00006_00011_00015.png  \n",
            "  inflating: train/6/00006_00011_00016.png  \n",
            "  inflating: train/6/00006_00011_00017.png  \n",
            "  inflating: train/6/00006_00011_00018.png  \n",
            "  inflating: train/6/00006_00011_00019.png  \n",
            "  inflating: train/6/00006_00011_00020.png  \n",
            "  inflating: train/6/00006_00011_00021.png  \n",
            "  inflating: train/6/00006_00011_00022.png  \n",
            "  inflating: train/6/00006_00011_00023.png  \n",
            "  inflating: train/6/00006_00011_00024.png  \n",
            "  inflating: train/6/00006_00011_00025.png  \n",
            "  inflating: train/6/00006_00011_00026.png  \n",
            "  inflating: train/6/00006_00011_00027.png  \n",
            "  inflating: train/6/00006_00011_00028.png  \n",
            "  inflating: train/6/00006_00011_00029.png  \n",
            "  inflating: train/6/00006_00012_00000.png  \n",
            "  inflating: train/6/00006_00012_00001.png  \n",
            "  inflating: train/6/00006_00012_00002.png  \n",
            "  inflating: train/6/00006_00012_00003.png  \n",
            "  inflating: train/6/00006_00012_00004.png  \n",
            "  inflating: train/6/00006_00012_00005.png  \n",
            "  inflating: train/6/00006_00012_00006.png  \n",
            "  inflating: train/6/00006_00012_00007.png  \n",
            "  inflating: train/6/00006_00012_00008.png  \n",
            "  inflating: train/6/00006_00012_00009.png  \n",
            "  inflating: train/6/00006_00012_00010.png  \n",
            "  inflating: train/6/00006_00012_00011.png  \n",
            "  inflating: train/6/00006_00012_00012.png  \n",
            "  inflating: train/6/00006_00012_00013.png  \n",
            "  inflating: train/6/00006_00012_00014.png  \n",
            "  inflating: train/6/00006_00012_00015.png  \n",
            "  inflating: train/6/00006_00012_00016.png  \n",
            "  inflating: train/6/00006_00012_00017.png  \n",
            "  inflating: train/6/00006_00012_00018.png  \n",
            "  inflating: train/6/00006_00012_00019.png  \n",
            "  inflating: train/6/00006_00012_00020.png  \n",
            "  inflating: train/6/00006_00012_00021.png  \n",
            "  inflating: train/6/00006_00012_00022.png  \n",
            "  inflating: train/6/00006_00012_00023.png  \n",
            "  inflating: train/6/00006_00012_00024.png  \n",
            "  inflating: train/6/00006_00012_00025.png  \n",
            "  inflating: train/6/00006_00012_00026.png  \n",
            "  inflating: train/6/00006_00012_00027.png  \n",
            "  inflating: train/6/00006_00012_00028.png  \n",
            "  inflating: train/6/00006_00012_00029.png  \n",
            "  inflating: train/6/00006_00013_00000.png  \n",
            "  inflating: train/6/00006_00013_00001.png  \n",
            "  inflating: train/6/00006_00013_00002.png  \n",
            "  inflating: train/6/00006_00013_00003.png  \n",
            "  inflating: train/6/00006_00013_00004.png  \n",
            "  inflating: train/6/00006_00013_00005.png  \n",
            "  inflating: train/6/00006_00013_00006.png  \n",
            "  inflating: train/6/00006_00013_00007.png  \n",
            "  inflating: train/6/00006_00013_00008.png  \n",
            "  inflating: train/6/00006_00013_00009.png  \n",
            "  inflating: train/6/00006_00013_00010.png  \n",
            "  inflating: train/6/00006_00013_00011.png  \n",
            "  inflating: train/6/00006_00013_00012.png  \n",
            "  inflating: train/6/00006_00013_00013.png  \n",
            "  inflating: train/6/00006_00013_00014.png  \n",
            "  inflating: train/6/00006_00013_00015.png  \n",
            "  inflating: train/6/00006_00013_00016.png  \n",
            "  inflating: train/6/00006_00013_00017.png  \n",
            "  inflating: train/6/00006_00013_00018.png  \n",
            "  inflating: train/6/00006_00013_00019.png  \n",
            "  inflating: train/6/00006_00013_00020.png  \n",
            "  inflating: train/6/00006_00013_00021.png  \n",
            "  inflating: train/6/00006_00013_00022.png  \n",
            "  inflating: train/6/00006_00013_00023.png  \n",
            "  inflating: train/6/00006_00013_00024.png  \n",
            "  inflating: train/6/00006_00013_00025.png  \n",
            "  inflating: train/6/00006_00013_00026.png  \n",
            "  inflating: train/6/00006_00013_00027.png  \n",
            "  inflating: train/6/00006_00013_00028.png  \n",
            "  inflating: train/6/00006_00013_00029.png  \n",
            "  inflating: train/7/00007_00000_00000.png  \n",
            "  inflating: train/7/00007_00000_00001.png  \n",
            "  inflating: train/7/00007_00000_00002.png  \n",
            "  inflating: train/7/00007_00000_00003.png  \n",
            "  inflating: train/7/00007_00000_00004.png  \n",
            "  inflating: train/7/00007_00000_00005.png  \n",
            "  inflating: train/7/00007_00000_00006.png  \n",
            "  inflating: train/7/00007_00000_00007.png  \n",
            "  inflating: train/7/00007_00000_00008.png  \n",
            "  inflating: train/7/00007_00000_00009.png  \n",
            "  inflating: train/7/00007_00000_00010.png  \n",
            "  inflating: train/7/00007_00000_00011.png  \n",
            "  inflating: train/7/00007_00000_00012.png  \n",
            "  inflating: train/7/00007_00000_00013.png  \n",
            "  inflating: train/7/00007_00000_00014.png  \n",
            "  inflating: train/7/00007_00000_00015.png  \n",
            "  inflating: train/7/00007_00000_00016.png  \n",
            "  inflating: train/7/00007_00000_00017.png  \n",
            "  inflating: train/7/00007_00000_00018.png  \n",
            "  inflating: train/7/00007_00000_00019.png  \n",
            "  inflating: train/7/00007_00000_00020.png  \n",
            "  inflating: train/7/00007_00000_00021.png  \n",
            "  inflating: train/7/00007_00000_00022.png  \n",
            "  inflating: train/7/00007_00000_00023.png  \n",
            "  inflating: train/7/00007_00000_00024.png  \n",
            "  inflating: train/7/00007_00000_00025.png  \n",
            "  inflating: train/7/00007_00000_00026.png  \n",
            "  inflating: train/7/00007_00000_00027.png  \n",
            "  inflating: train/7/00007_00000_00028.png  \n",
            "  inflating: train/7/00007_00000_00029.png  \n",
            "  inflating: train/7/00007_00001_00000.png  \n",
            "  inflating: train/7/00007_00001_00001.png  \n",
            "  inflating: train/7/00007_00001_00002.png  \n",
            "  inflating: train/7/00007_00001_00003.png  \n",
            "  inflating: train/7/00007_00001_00004.png  \n",
            "  inflating: train/7/00007_00001_00005.png  \n",
            "  inflating: train/7/00007_00001_00006.png  \n",
            "  inflating: train/7/00007_00001_00007.png  \n",
            "  inflating: train/7/00007_00001_00008.png  \n",
            "  inflating: train/7/00007_00001_00009.png  \n",
            "  inflating: train/7/00007_00001_00010.png  \n",
            "  inflating: train/7/00007_00001_00011.png  \n",
            "  inflating: train/7/00007_00001_00012.png  \n",
            "  inflating: train/7/00007_00001_00013.png  \n",
            "  inflating: train/7/00007_00001_00014.png  \n",
            "  inflating: train/7/00007_00001_00015.png  \n",
            "  inflating: train/7/00007_00001_00016.png  \n",
            "  inflating: train/7/00007_00001_00017.png  \n",
            "  inflating: train/7/00007_00001_00018.png  \n",
            "  inflating: train/7/00007_00001_00019.png  \n",
            "  inflating: train/7/00007_00001_00020.png  \n",
            "  inflating: train/7/00007_00001_00021.png  \n",
            "  inflating: train/7/00007_00001_00022.png  \n",
            "  inflating: train/7/00007_00001_00023.png  \n",
            "  inflating: train/7/00007_00001_00024.png  \n",
            "  inflating: train/7/00007_00001_00025.png  \n",
            "  inflating: train/7/00007_00001_00026.png  \n",
            "  inflating: train/7/00007_00001_00027.png  \n",
            "  inflating: train/7/00007_00001_00028.png  \n",
            "  inflating: train/7/00007_00001_00029.png  \n",
            "  inflating: train/7/00007_00002_00000.png  \n",
            "  inflating: train/7/00007_00002_00001.png  \n",
            "  inflating: train/7/00007_00002_00002.png  \n",
            "  inflating: train/7/00007_00002_00003.png  \n",
            "  inflating: train/7/00007_00002_00004.png  \n",
            "  inflating: train/7/00007_00002_00005.png  \n",
            "  inflating: train/7/00007_00002_00006.png  \n",
            "  inflating: train/7/00007_00002_00007.png  \n",
            "  inflating: train/7/00007_00002_00008.png  \n",
            "  inflating: train/7/00007_00002_00009.png  \n",
            "  inflating: train/7/00007_00002_00010.png  \n",
            "  inflating: train/7/00007_00002_00011.png  \n",
            "  inflating: train/7/00007_00002_00012.png  \n",
            "  inflating: train/7/00007_00002_00013.png  \n",
            "  inflating: train/7/00007_00002_00014.png  \n",
            "  inflating: train/7/00007_00002_00015.png  \n",
            "  inflating: train/7/00007_00002_00016.png  \n",
            "  inflating: train/7/00007_00002_00017.png  \n",
            "  inflating: train/7/00007_00002_00018.png  \n",
            "  inflating: train/7/00007_00002_00019.png  \n",
            "  inflating: train/7/00007_00002_00020.png  \n",
            "  inflating: train/7/00007_00002_00021.png  \n",
            "  inflating: train/7/00007_00002_00022.png  \n",
            "  inflating: train/7/00007_00002_00023.png  \n",
            "  inflating: train/7/00007_00002_00024.png  \n",
            "  inflating: train/7/00007_00002_00025.png  \n",
            "  inflating: train/7/00007_00002_00026.png  \n",
            "  inflating: train/7/00007_00002_00027.png  \n",
            "  inflating: train/7/00007_00002_00028.png  \n",
            "  inflating: train/7/00007_00002_00029.png  \n",
            "  inflating: train/7/00007_00003_00000.png  \n",
            "  inflating: train/7/00007_00003_00001.png  \n",
            "  inflating: train/7/00007_00003_00002.png  \n",
            "  inflating: train/7/00007_00003_00003.png  \n",
            "  inflating: train/7/00007_00003_00004.png  \n",
            "  inflating: train/7/00007_00003_00005.png  \n",
            "  inflating: train/7/00007_00003_00006.png  \n",
            "  inflating: train/7/00007_00003_00007.png  \n",
            "  inflating: train/7/00007_00003_00008.png  \n",
            "  inflating: train/7/00007_00003_00009.png  \n",
            "  inflating: train/7/00007_00003_00010.png  \n",
            "  inflating: train/7/00007_00003_00011.png  \n",
            "  inflating: train/7/00007_00003_00012.png  \n",
            "  inflating: train/7/00007_00003_00013.png  \n",
            "  inflating: train/7/00007_00003_00014.png  \n",
            "  inflating: train/7/00007_00003_00015.png  \n",
            "  inflating: train/7/00007_00003_00016.png  \n",
            "  inflating: train/7/00007_00003_00017.png  \n",
            "  inflating: train/7/00007_00003_00018.png  \n",
            "  inflating: train/7/00007_00003_00019.png  \n",
            "  inflating: train/7/00007_00003_00020.png  \n",
            "  inflating: train/7/00007_00003_00021.png  \n",
            "  inflating: train/7/00007_00003_00022.png  \n",
            "  inflating: train/7/00007_00003_00023.png  \n",
            "  inflating: train/7/00007_00003_00024.png  \n",
            "  inflating: train/7/00007_00003_00025.png  \n",
            "  inflating: train/7/00007_00003_00026.png  \n",
            "  inflating: train/7/00007_00003_00027.png  \n",
            "  inflating: train/7/00007_00003_00028.png  \n",
            "  inflating: train/7/00007_00003_00029.png  \n",
            "  inflating: train/7/00007_00004_00000.png  \n",
            "  inflating: train/7/00007_00004_00001.png  \n",
            "  inflating: train/7/00007_00004_00002.png  \n",
            "  inflating: train/7/00007_00004_00003.png  \n",
            "  inflating: train/7/00007_00004_00004.png  \n",
            "  inflating: train/7/00007_00004_00005.png  \n",
            "  inflating: train/7/00007_00004_00006.png  \n",
            "  inflating: train/7/00007_00004_00007.png  \n",
            "  inflating: train/7/00007_00004_00008.png  \n",
            "  inflating: train/7/00007_00004_00009.png  \n",
            "  inflating: train/7/00007_00004_00010.png  \n",
            "  inflating: train/7/00007_00004_00011.png  \n",
            "  inflating: train/7/00007_00004_00012.png  \n",
            "  inflating: train/7/00007_00004_00013.png  \n",
            "  inflating: train/7/00007_00004_00014.png  \n",
            "  inflating: train/7/00007_00004_00015.png  \n",
            "  inflating: train/7/00007_00004_00016.png  \n",
            "  inflating: train/7/00007_00004_00017.png  \n",
            "  inflating: train/7/00007_00004_00018.png  \n",
            "  inflating: train/7/00007_00004_00019.png  \n",
            "  inflating: train/7/00007_00004_00020.png  \n",
            "  inflating: train/7/00007_00004_00021.png  \n",
            "  inflating: train/7/00007_00004_00022.png  \n",
            "  inflating: train/7/00007_00004_00023.png  \n",
            "  inflating: train/7/00007_00004_00024.png  \n",
            "  inflating: train/7/00007_00004_00025.png  \n",
            "  inflating: train/7/00007_00004_00026.png  \n",
            "  inflating: train/7/00007_00004_00027.png  \n",
            "  inflating: train/7/00007_00004_00028.png  \n",
            "  inflating: train/7/00007_00004_00029.png  \n",
            "  inflating: train/7/00007_00005_00000.png  \n",
            "  inflating: train/7/00007_00005_00001.png  \n",
            "  inflating: train/7/00007_00005_00002.png  \n",
            "  inflating: train/7/00007_00005_00003.png  \n",
            "  inflating: train/7/00007_00005_00004.png  \n",
            "  inflating: train/7/00007_00005_00005.png  \n",
            "  inflating: train/7/00007_00005_00006.png  \n",
            "  inflating: train/7/00007_00005_00007.png  \n",
            "  inflating: train/7/00007_00005_00008.png  \n",
            "  inflating: train/7/00007_00005_00009.png  \n",
            "  inflating: train/7/00007_00005_00010.png  \n",
            "  inflating: train/7/00007_00005_00011.png  \n",
            "  inflating: train/7/00007_00005_00012.png  \n",
            "  inflating: train/7/00007_00005_00013.png  \n",
            "  inflating: train/7/00007_00005_00014.png  \n",
            "  inflating: train/7/00007_00005_00015.png  \n",
            "  inflating: train/7/00007_00005_00016.png  \n",
            "  inflating: train/7/00007_00005_00017.png  \n",
            "  inflating: train/7/00007_00005_00018.png  \n",
            "  inflating: train/7/00007_00005_00019.png  \n",
            "  inflating: train/7/00007_00005_00020.png  \n",
            "  inflating: train/7/00007_00005_00021.png  \n",
            "  inflating: train/7/00007_00005_00022.png  \n",
            "  inflating: train/7/00007_00005_00023.png  \n",
            "  inflating: train/7/00007_00005_00024.png  \n",
            "  inflating: train/7/00007_00005_00025.png  \n",
            "  inflating: train/7/00007_00005_00026.png  \n",
            "  inflating: train/7/00007_00005_00027.png  \n",
            "  inflating: train/7/00007_00005_00028.png  \n",
            "  inflating: train/7/00007_00005_00029.png  \n",
            "  inflating: train/7/00007_00006_00000.png  \n",
            "  inflating: train/7/00007_00006_00001.png  \n",
            "  inflating: train/7/00007_00006_00002.png  \n",
            "  inflating: train/7/00007_00006_00003.png  \n",
            "  inflating: train/7/00007_00006_00004.png  \n",
            "  inflating: train/7/00007_00006_00005.png  \n",
            "  inflating: train/7/00007_00006_00006.png  \n",
            "  inflating: train/7/00007_00006_00007.png  \n",
            "  inflating: train/7/00007_00006_00008.png  \n",
            "  inflating: train/7/00007_00006_00009.png  \n",
            "  inflating: train/7/00007_00006_00010.png  \n",
            "  inflating: train/7/00007_00006_00011.png  \n",
            "  inflating: train/7/00007_00006_00012.png  \n",
            "  inflating: train/7/00007_00006_00013.png  \n",
            "  inflating: train/7/00007_00006_00014.png  \n",
            "  inflating: train/7/00007_00006_00015.png  \n",
            "  inflating: train/7/00007_00006_00016.png  \n",
            "  inflating: train/7/00007_00006_00017.png  \n",
            "  inflating: train/7/00007_00006_00018.png  \n",
            "  inflating: train/7/00007_00006_00019.png  \n",
            "  inflating: train/7/00007_00006_00020.png  \n",
            "  inflating: train/7/00007_00006_00021.png  \n",
            "  inflating: train/7/00007_00006_00022.png  \n",
            "  inflating: train/7/00007_00006_00023.png  \n",
            "  inflating: train/7/00007_00006_00024.png  \n",
            "  inflating: train/7/00007_00006_00025.png  \n",
            "  inflating: train/7/00007_00006_00026.png  \n",
            "  inflating: train/7/00007_00006_00027.png  \n",
            "  inflating: train/7/00007_00006_00028.png  \n",
            "  inflating: train/7/00007_00006_00029.png  \n",
            "  inflating: train/7/00007_00007_00000.png  \n",
            "  inflating: train/7/00007_00007_00001.png  \n",
            "  inflating: train/7/00007_00007_00002.png  \n",
            "  inflating: train/7/00007_00007_00003.png  \n",
            "  inflating: train/7/00007_00007_00004.png  \n",
            "  inflating: train/7/00007_00007_00005.png  \n",
            "  inflating: train/7/00007_00007_00006.png  \n",
            "  inflating: train/7/00007_00007_00007.png  \n",
            "  inflating: train/7/00007_00007_00008.png  \n",
            "  inflating: train/7/00007_00007_00009.png  \n",
            "  inflating: train/7/00007_00007_00010.png  \n",
            "  inflating: train/7/00007_00007_00011.png  \n",
            "  inflating: train/7/00007_00007_00012.png  \n",
            "  inflating: train/7/00007_00007_00013.png  \n",
            "  inflating: train/7/00007_00007_00014.png  \n",
            "  inflating: train/7/00007_00007_00015.png  \n",
            "  inflating: train/7/00007_00007_00016.png  \n",
            "  inflating: train/7/00007_00007_00017.png  \n",
            "  inflating: train/7/00007_00007_00018.png  \n",
            "  inflating: train/7/00007_00007_00019.png  \n",
            "  inflating: train/7/00007_00007_00020.png  \n",
            "  inflating: train/7/00007_00007_00021.png  \n",
            "  inflating: train/7/00007_00007_00022.png  \n",
            "  inflating: train/7/00007_00007_00023.png  \n",
            "  inflating: train/7/00007_00007_00024.png  \n",
            "  inflating: train/7/00007_00007_00025.png  \n",
            "  inflating: train/7/00007_00007_00026.png  \n",
            "  inflating: train/7/00007_00007_00027.png  \n",
            "  inflating: train/7/00007_00007_00028.png  \n",
            "  inflating: train/7/00007_00007_00029.png  \n",
            "  inflating: train/7/00007_00008_00000.png  \n",
            "  inflating: train/7/00007_00008_00001.png  \n",
            "  inflating: train/7/00007_00008_00002.png  \n",
            "  inflating: train/7/00007_00008_00003.png  \n",
            "  inflating: train/7/00007_00008_00004.png  \n",
            "  inflating: train/7/00007_00008_00005.png  \n",
            "  inflating: train/7/00007_00008_00006.png  \n",
            "  inflating: train/7/00007_00008_00007.png  \n",
            "  inflating: train/7/00007_00008_00008.png  \n",
            "  inflating: train/7/00007_00008_00009.png  \n",
            "  inflating: train/7/00007_00008_00010.png  \n",
            "  inflating: train/7/00007_00008_00011.png  \n",
            "  inflating: train/7/00007_00008_00012.png  \n",
            "  inflating: train/7/00007_00008_00013.png  \n",
            "  inflating: train/7/00007_00008_00014.png  \n",
            "  inflating: train/7/00007_00008_00015.png  \n",
            "  inflating: train/7/00007_00008_00016.png  \n",
            "  inflating: train/7/00007_00008_00017.png  \n",
            "  inflating: train/7/00007_00008_00018.png  \n",
            "  inflating: train/7/00007_00008_00019.png  \n",
            "  inflating: train/7/00007_00008_00020.png  \n",
            "  inflating: train/7/00007_00008_00021.png  \n",
            "  inflating: train/7/00007_00008_00022.png  \n",
            "  inflating: train/7/00007_00008_00023.png  \n",
            "  inflating: train/7/00007_00008_00024.png  \n",
            "  inflating: train/7/00007_00008_00025.png  \n",
            "  inflating: train/7/00007_00008_00026.png  \n",
            "  inflating: train/7/00007_00008_00027.png  \n",
            "  inflating: train/7/00007_00008_00028.png  \n",
            "  inflating: train/7/00007_00008_00029.png  \n",
            "  inflating: train/7/00007_00009_00000.png  \n",
            "  inflating: train/7/00007_00009_00001.png  \n",
            "  inflating: train/7/00007_00009_00002.png  \n",
            "  inflating: train/7/00007_00009_00003.png  \n",
            "  inflating: train/7/00007_00009_00004.png  \n",
            "  inflating: train/7/00007_00009_00005.png  \n",
            "  inflating: train/7/00007_00009_00006.png  \n",
            "  inflating: train/7/00007_00009_00007.png  \n",
            "  inflating: train/7/00007_00009_00008.png  \n",
            "  inflating: train/7/00007_00009_00009.png  \n",
            "  inflating: train/7/00007_00009_00010.png  \n",
            "  inflating: train/7/00007_00009_00011.png  \n",
            "  inflating: train/7/00007_00009_00012.png  \n",
            "  inflating: train/7/00007_00009_00013.png  \n",
            "  inflating: train/7/00007_00009_00014.png  \n",
            "  inflating: train/7/00007_00009_00015.png  \n",
            "  inflating: train/7/00007_00009_00016.png  \n",
            "  inflating: train/7/00007_00009_00017.png  \n",
            "  inflating: train/7/00007_00009_00018.png  \n",
            "  inflating: train/7/00007_00009_00019.png  \n",
            "  inflating: train/7/00007_00009_00020.png  \n",
            "  inflating: train/7/00007_00009_00021.png  \n",
            "  inflating: train/7/00007_00009_00022.png  \n",
            "  inflating: train/7/00007_00009_00023.png  \n",
            "  inflating: train/7/00007_00009_00024.png  \n",
            "  inflating: train/7/00007_00009_00025.png  \n",
            "  inflating: train/7/00007_00009_00026.png  \n",
            "  inflating: train/7/00007_00009_00027.png  \n",
            "  inflating: train/7/00007_00009_00028.png  \n",
            "  inflating: train/7/00007_00009_00029.png  \n",
            "  inflating: train/7/00007_00010_00000.png  \n",
            "  inflating: train/7/00007_00010_00001.png  \n",
            "  inflating: train/7/00007_00010_00002.png  \n",
            "  inflating: train/7/00007_00010_00003.png  \n",
            "  inflating: train/7/00007_00010_00004.png  \n",
            "  inflating: train/7/00007_00010_00005.png  \n",
            "  inflating: train/7/00007_00010_00006.png  \n",
            "  inflating: train/7/00007_00010_00007.png  \n",
            "  inflating: train/7/00007_00010_00008.png  \n",
            "  inflating: train/7/00007_00010_00009.png  \n",
            "  inflating: train/7/00007_00010_00010.png  \n",
            "  inflating: train/7/00007_00010_00011.png  \n",
            "  inflating: train/7/00007_00010_00012.png  \n",
            "  inflating: train/7/00007_00010_00013.png  \n",
            "  inflating: train/7/00007_00010_00014.png  \n",
            "  inflating: train/7/00007_00010_00015.png  \n",
            "  inflating: train/7/00007_00010_00016.png  \n",
            "  inflating: train/7/00007_00010_00017.png  \n",
            "  inflating: train/7/00007_00010_00018.png  \n",
            "  inflating: train/7/00007_00010_00019.png  \n",
            "  inflating: train/7/00007_00010_00020.png  \n",
            "  inflating: train/7/00007_00010_00021.png  \n",
            "  inflating: train/7/00007_00010_00022.png  \n",
            "  inflating: train/7/00007_00010_00023.png  \n",
            "  inflating: train/7/00007_00010_00024.png  \n",
            "  inflating: train/7/00007_00010_00025.png  \n",
            "  inflating: train/7/00007_00010_00026.png  \n",
            "  inflating: train/7/00007_00010_00027.png  \n",
            "  inflating: train/7/00007_00010_00028.png  \n",
            "  inflating: train/7/00007_00010_00029.png  \n",
            "  inflating: train/7/00007_00011_00000.png  \n",
            "  inflating: train/7/00007_00011_00001.png  \n",
            "  inflating: train/7/00007_00011_00002.png  \n",
            "  inflating: train/7/00007_00011_00003.png  \n",
            "  inflating: train/7/00007_00011_00004.png  \n",
            "  inflating: train/7/00007_00011_00005.png  \n",
            "  inflating: train/7/00007_00011_00006.png  \n",
            "  inflating: train/7/00007_00011_00007.png  \n",
            "  inflating: train/7/00007_00011_00008.png  \n",
            "  inflating: train/7/00007_00011_00009.png  \n",
            "  inflating: train/7/00007_00011_00010.png  \n",
            "  inflating: train/7/00007_00011_00011.png  \n",
            "  inflating: train/7/00007_00011_00012.png  \n",
            "  inflating: train/7/00007_00011_00013.png  \n",
            "  inflating: train/7/00007_00011_00014.png  \n",
            "  inflating: train/7/00007_00011_00015.png  \n",
            "  inflating: train/7/00007_00011_00016.png  \n",
            "  inflating: train/7/00007_00011_00017.png  \n",
            "  inflating: train/7/00007_00011_00018.png  \n",
            "  inflating: train/7/00007_00011_00019.png  \n",
            "  inflating: train/7/00007_00011_00020.png  \n",
            "  inflating: train/7/00007_00011_00021.png  \n",
            "  inflating: train/7/00007_00011_00022.png  \n",
            "  inflating: train/7/00007_00011_00023.png  \n",
            "  inflating: train/7/00007_00011_00024.png  \n",
            "  inflating: train/7/00007_00011_00025.png  \n",
            "  inflating: train/7/00007_00011_00026.png  \n",
            "  inflating: train/7/00007_00011_00027.png  \n",
            "  inflating: train/7/00007_00011_00028.png  \n",
            "  inflating: train/7/00007_00011_00029.png  \n",
            "  inflating: train/7/00007_00012_00000.png  \n",
            "  inflating: train/7/00007_00012_00001.png  \n",
            "  inflating: train/7/00007_00012_00002.png  \n",
            "  inflating: train/7/00007_00012_00003.png  \n",
            "  inflating: train/7/00007_00012_00004.png  \n",
            "  inflating: train/7/00007_00012_00005.png  \n",
            "  inflating: train/7/00007_00012_00006.png  \n",
            "  inflating: train/7/00007_00012_00007.png  \n",
            "  inflating: train/7/00007_00012_00008.png  \n",
            "  inflating: train/7/00007_00012_00009.png  \n",
            "  inflating: train/7/00007_00012_00010.png  \n",
            "  inflating: train/7/00007_00012_00011.png  \n",
            "  inflating: train/7/00007_00012_00012.png  \n",
            "  inflating: train/7/00007_00012_00013.png  \n",
            "  inflating: train/7/00007_00012_00014.png  \n",
            "  inflating: train/7/00007_00012_00015.png  \n",
            "  inflating: train/7/00007_00012_00016.png  \n",
            "  inflating: train/7/00007_00012_00017.png  \n",
            "  inflating: train/7/00007_00012_00018.png  \n",
            "  inflating: train/7/00007_00012_00019.png  \n",
            "  inflating: train/7/00007_00012_00020.png  \n",
            "  inflating: train/7/00007_00012_00021.png  \n",
            "  inflating: train/7/00007_00012_00022.png  \n",
            "  inflating: train/7/00007_00012_00023.png  \n",
            "  inflating: train/7/00007_00012_00024.png  \n",
            "  inflating: train/7/00007_00012_00025.png  \n",
            "  inflating: train/7/00007_00012_00026.png  \n",
            "  inflating: train/7/00007_00012_00027.png  \n",
            "  inflating: train/7/00007_00012_00028.png  \n",
            "  inflating: train/7/00007_00012_00029.png  \n",
            "  inflating: train/7/00007_00013_00000.png  \n",
            "  inflating: train/7/00007_00013_00001.png  \n",
            "  inflating: train/7/00007_00013_00002.png  \n",
            "  inflating: train/7/00007_00013_00003.png  \n",
            "  inflating: train/7/00007_00013_00004.png  \n",
            "  inflating: train/7/00007_00013_00005.png  \n",
            "  inflating: train/7/00007_00013_00006.png  \n",
            "  inflating: train/7/00007_00013_00007.png  \n",
            "  inflating: train/7/00007_00013_00008.png  \n",
            "  inflating: train/7/00007_00013_00009.png  \n",
            "  inflating: train/7/00007_00013_00010.png  \n",
            "  inflating: train/7/00007_00013_00011.png  \n",
            "  inflating: train/7/00007_00013_00012.png  \n",
            "  inflating: train/7/00007_00013_00013.png  \n",
            "  inflating: train/7/00007_00013_00014.png  \n",
            "  inflating: train/7/00007_00013_00015.png  \n",
            "  inflating: train/7/00007_00013_00016.png  \n",
            "  inflating: train/7/00007_00013_00017.png  \n",
            "  inflating: train/7/00007_00013_00018.png  \n",
            "  inflating: train/7/00007_00013_00019.png  \n",
            "  inflating: train/7/00007_00013_00020.png  \n",
            "  inflating: train/7/00007_00013_00021.png  \n",
            "  inflating: train/7/00007_00013_00022.png  \n",
            "  inflating: train/7/00007_00013_00023.png  \n",
            "  inflating: train/7/00007_00013_00024.png  \n",
            "  inflating: train/7/00007_00013_00025.png  \n",
            "  inflating: train/7/00007_00013_00026.png  \n",
            "  inflating: train/7/00007_00013_00027.png  \n",
            "  inflating: train/7/00007_00013_00028.png  \n",
            "  inflating: train/7/00007_00013_00029.png  \n",
            "  inflating: train/7/00007_00014_00000.png  \n",
            "  inflating: train/7/00007_00014_00001.png  \n",
            "  inflating: train/7/00007_00014_00002.png  \n",
            "  inflating: train/7/00007_00014_00003.png  \n",
            "  inflating: train/7/00007_00014_00004.png  \n",
            "  inflating: train/7/00007_00014_00005.png  \n",
            "  inflating: train/7/00007_00014_00006.png  \n",
            "  inflating: train/7/00007_00014_00007.png  \n",
            "  inflating: train/7/00007_00014_00008.png  \n",
            "  inflating: train/7/00007_00014_00009.png  \n",
            "  inflating: train/7/00007_00014_00010.png  \n",
            "  inflating: train/7/00007_00014_00011.png  \n",
            "  inflating: train/7/00007_00014_00012.png  \n",
            "  inflating: train/7/00007_00014_00013.png  \n",
            "  inflating: train/7/00007_00014_00014.png  \n",
            "  inflating: train/7/00007_00014_00015.png  \n",
            "  inflating: train/7/00007_00014_00016.png  \n",
            "  inflating: train/7/00007_00014_00017.png  \n",
            "  inflating: train/7/00007_00014_00018.png  \n",
            "  inflating: train/7/00007_00014_00019.png  \n",
            "  inflating: train/7/00007_00014_00020.png  \n",
            "  inflating: train/7/00007_00014_00021.png  \n",
            "  inflating: train/7/00007_00014_00022.png  \n",
            "  inflating: train/7/00007_00014_00023.png  \n",
            "  inflating: train/7/00007_00014_00024.png  \n",
            "  inflating: train/7/00007_00014_00025.png  \n",
            "  inflating: train/7/00007_00014_00026.png  \n",
            "  inflating: train/7/00007_00014_00027.png  \n",
            "  inflating: train/7/00007_00014_00028.png  \n",
            "  inflating: train/7/00007_00014_00029.png  \n",
            "  inflating: train/7/00007_00015_00000.png  \n",
            "  inflating: train/7/00007_00015_00001.png  \n",
            "  inflating: train/7/00007_00015_00002.png  \n",
            "  inflating: train/7/00007_00015_00003.png  \n",
            "  inflating: train/7/00007_00015_00004.png  \n",
            "  inflating: train/7/00007_00015_00005.png  \n",
            "  inflating: train/7/00007_00015_00006.png  \n",
            "  inflating: train/7/00007_00015_00007.png  \n",
            "  inflating: train/7/00007_00015_00008.png  \n",
            "  inflating: train/7/00007_00015_00009.png  \n",
            "  inflating: train/7/00007_00015_00010.png  \n",
            "  inflating: train/7/00007_00015_00011.png  \n",
            "  inflating: train/7/00007_00015_00012.png  \n",
            "  inflating: train/7/00007_00015_00013.png  \n",
            "  inflating: train/7/00007_00015_00014.png  \n",
            "  inflating: train/7/00007_00015_00015.png  \n",
            "  inflating: train/7/00007_00015_00016.png  \n",
            "  inflating: train/7/00007_00015_00017.png  \n",
            "  inflating: train/7/00007_00015_00018.png  \n",
            "  inflating: train/7/00007_00015_00019.png  \n",
            "  inflating: train/7/00007_00015_00020.png  \n",
            "  inflating: train/7/00007_00015_00021.png  \n",
            "  inflating: train/7/00007_00015_00022.png  \n",
            "  inflating: train/7/00007_00015_00023.png  \n",
            "  inflating: train/7/00007_00015_00024.png  \n",
            "  inflating: train/7/00007_00015_00025.png  \n",
            "  inflating: train/7/00007_00015_00026.png  \n",
            "  inflating: train/7/00007_00015_00027.png  \n",
            "  inflating: train/7/00007_00015_00028.png  \n",
            "  inflating: train/7/00007_00015_00029.png  \n",
            "  inflating: train/7/00007_00016_00000.png  \n",
            "  inflating: train/7/00007_00016_00001.png  \n",
            "  inflating: train/7/00007_00016_00002.png  \n",
            "  inflating: train/7/00007_00016_00003.png  \n",
            "  inflating: train/7/00007_00016_00004.png  \n",
            "  inflating: train/7/00007_00016_00005.png  \n",
            "  inflating: train/7/00007_00016_00006.png  \n",
            "  inflating: train/7/00007_00016_00007.png  \n",
            "  inflating: train/7/00007_00016_00008.png  \n",
            "  inflating: train/7/00007_00016_00009.png  \n",
            "  inflating: train/7/00007_00016_00010.png  \n",
            "  inflating: train/7/00007_00016_00011.png  \n",
            "  inflating: train/7/00007_00016_00012.png  \n",
            "  inflating: train/7/00007_00016_00013.png  \n",
            "  inflating: train/7/00007_00016_00014.png  \n",
            "  inflating: train/7/00007_00016_00015.png  \n",
            "  inflating: train/7/00007_00016_00016.png  \n",
            "  inflating: train/7/00007_00016_00017.png  \n",
            "  inflating: train/7/00007_00016_00018.png  \n",
            "  inflating: train/7/00007_00016_00019.png  \n",
            "  inflating: train/7/00007_00016_00020.png  \n",
            "  inflating: train/7/00007_00016_00021.png  \n",
            "  inflating: train/7/00007_00016_00022.png  \n",
            "  inflating: train/7/00007_00016_00023.png  \n",
            "  inflating: train/7/00007_00016_00024.png  \n",
            "  inflating: train/7/00007_00016_00025.png  \n",
            "  inflating: train/7/00007_00016_00026.png  \n",
            "  inflating: train/7/00007_00016_00027.png  \n",
            "  inflating: train/7/00007_00016_00028.png  \n",
            "  inflating: train/7/00007_00016_00029.png  \n",
            "  inflating: train/7/00007_00017_00000.png  \n",
            "  inflating: train/7/00007_00017_00001.png  \n",
            "  inflating: train/7/00007_00017_00002.png  \n",
            "  inflating: train/7/00007_00017_00003.png  \n",
            "  inflating: train/7/00007_00017_00004.png  \n",
            "  inflating: train/7/00007_00017_00005.png  \n",
            "  inflating: train/7/00007_00017_00006.png  \n",
            "  inflating: train/7/00007_00017_00007.png  \n",
            "  inflating: train/7/00007_00017_00008.png  \n",
            "  inflating: train/7/00007_00017_00009.png  \n",
            "  inflating: train/7/00007_00017_00010.png  \n",
            "  inflating: train/7/00007_00017_00011.png  \n",
            "  inflating: train/7/00007_00017_00012.png  \n",
            "  inflating: train/7/00007_00017_00013.png  \n",
            "  inflating: train/7/00007_00017_00014.png  \n",
            "  inflating: train/7/00007_00017_00015.png  \n",
            "  inflating: train/7/00007_00017_00016.png  \n",
            "  inflating: train/7/00007_00017_00017.png  \n",
            "  inflating: train/7/00007_00017_00018.png  \n",
            "  inflating: train/7/00007_00017_00019.png  \n",
            "  inflating: train/7/00007_00017_00020.png  \n",
            "  inflating: train/7/00007_00017_00021.png  \n",
            "  inflating: train/7/00007_00017_00022.png  \n",
            "  inflating: train/7/00007_00017_00023.png  \n",
            "  inflating: train/7/00007_00017_00024.png  \n",
            "  inflating: train/7/00007_00017_00025.png  \n",
            "  inflating: train/7/00007_00017_00026.png  \n",
            "  inflating: train/7/00007_00017_00027.png  \n",
            "  inflating: train/7/00007_00017_00028.png  \n",
            "  inflating: train/7/00007_00017_00029.png  \n",
            "  inflating: train/7/00007_00018_00000.png  \n",
            "  inflating: train/7/00007_00018_00001.png  \n",
            "  inflating: train/7/00007_00018_00002.png  \n",
            "  inflating: train/7/00007_00018_00003.png  \n",
            "  inflating: train/7/00007_00018_00004.png  \n",
            "  inflating: train/7/00007_00018_00005.png  \n",
            "  inflating: train/7/00007_00018_00006.png  \n",
            "  inflating: train/7/00007_00018_00007.png  \n",
            "  inflating: train/7/00007_00018_00008.png  \n",
            "  inflating: train/7/00007_00018_00009.png  \n",
            "  inflating: train/7/00007_00018_00010.png  \n",
            "  inflating: train/7/00007_00018_00011.png  \n",
            "  inflating: train/7/00007_00018_00012.png  \n",
            "  inflating: train/7/00007_00018_00013.png  \n",
            "  inflating: train/7/00007_00018_00014.png  \n",
            "  inflating: train/7/00007_00018_00015.png  \n",
            "  inflating: train/7/00007_00018_00016.png  \n",
            "  inflating: train/7/00007_00018_00017.png  \n",
            "  inflating: train/7/00007_00018_00018.png  \n",
            "  inflating: train/7/00007_00018_00019.png  \n",
            "  inflating: train/7/00007_00018_00020.png  \n",
            "  inflating: train/7/00007_00018_00021.png  \n",
            "  inflating: train/7/00007_00018_00022.png  \n",
            "  inflating: train/7/00007_00018_00023.png  \n",
            "  inflating: train/7/00007_00018_00024.png  \n",
            "  inflating: train/7/00007_00018_00025.png  \n",
            "  inflating: train/7/00007_00018_00026.png  \n",
            "  inflating: train/7/00007_00018_00027.png  \n",
            "  inflating: train/7/00007_00018_00028.png  \n",
            "  inflating: train/7/00007_00018_00029.png  \n",
            "  inflating: train/7/00007_00019_00000.png  \n",
            "  inflating: train/7/00007_00019_00001.png  \n",
            "  inflating: train/7/00007_00019_00002.png  \n",
            "  inflating: train/7/00007_00019_00003.png  \n",
            "  inflating: train/7/00007_00019_00004.png  \n",
            "  inflating: train/7/00007_00019_00005.png  \n",
            "  inflating: train/7/00007_00019_00006.png  \n",
            "  inflating: train/7/00007_00019_00007.png  \n",
            "  inflating: train/7/00007_00019_00008.png  \n",
            "  inflating: train/7/00007_00019_00009.png  \n",
            "  inflating: train/7/00007_00019_00010.png  \n",
            "  inflating: train/7/00007_00019_00011.png  \n",
            "  inflating: train/7/00007_00019_00012.png  \n",
            "  inflating: train/7/00007_00019_00013.png  \n",
            "  inflating: train/7/00007_00019_00014.png  \n",
            "  inflating: train/7/00007_00019_00015.png  \n",
            "  inflating: train/7/00007_00019_00016.png  \n",
            "  inflating: train/7/00007_00019_00017.png  \n",
            "  inflating: train/7/00007_00019_00018.png  \n",
            "  inflating: train/7/00007_00019_00019.png  \n",
            "  inflating: train/7/00007_00019_00020.png  \n",
            "  inflating: train/7/00007_00019_00021.png  \n",
            "  inflating: train/7/00007_00019_00022.png  \n",
            "  inflating: train/7/00007_00019_00023.png  \n",
            "  inflating: train/7/00007_00019_00024.png  \n",
            "  inflating: train/7/00007_00019_00025.png  \n",
            "  inflating: train/7/00007_00019_00026.png  \n",
            "  inflating: train/7/00007_00019_00027.png  \n",
            "  inflating: train/7/00007_00019_00028.png  \n",
            "  inflating: train/7/00007_00019_00029.png  \n",
            "  inflating: train/7/00007_00020_00000.png  \n",
            "  inflating: train/7/00007_00020_00001.png  \n",
            "  inflating: train/7/00007_00020_00002.png  \n",
            "  inflating: train/7/00007_00020_00003.png  \n",
            "  inflating: train/7/00007_00020_00004.png  \n",
            "  inflating: train/7/00007_00020_00005.png  \n",
            "  inflating: train/7/00007_00020_00006.png  \n",
            "  inflating: train/7/00007_00020_00007.png  \n",
            "  inflating: train/7/00007_00020_00008.png  \n",
            "  inflating: train/7/00007_00020_00009.png  \n",
            "  inflating: train/7/00007_00020_00010.png  \n",
            "  inflating: train/7/00007_00020_00011.png  \n",
            "  inflating: train/7/00007_00020_00012.png  \n",
            "  inflating: train/7/00007_00020_00013.png  \n",
            "  inflating: train/7/00007_00020_00014.png  \n",
            "  inflating: train/7/00007_00020_00015.png  \n",
            "  inflating: train/7/00007_00020_00016.png  \n",
            "  inflating: train/7/00007_00020_00017.png  \n",
            "  inflating: train/7/00007_00020_00018.png  \n",
            "  inflating: train/7/00007_00020_00019.png  \n",
            "  inflating: train/7/00007_00020_00020.png  \n",
            "  inflating: train/7/00007_00020_00021.png  \n",
            "  inflating: train/7/00007_00020_00022.png  \n",
            "  inflating: train/7/00007_00020_00023.png  \n",
            "  inflating: train/7/00007_00020_00024.png  \n",
            "  inflating: train/7/00007_00020_00025.png  \n",
            "  inflating: train/7/00007_00020_00026.png  \n",
            "  inflating: train/7/00007_00020_00027.png  \n",
            "  inflating: train/7/00007_00020_00028.png  \n",
            "  inflating: train/7/00007_00020_00029.png  \n",
            "  inflating: train/7/00007_00021_00000.png  \n",
            "  inflating: train/7/00007_00021_00001.png  \n",
            "  inflating: train/7/00007_00021_00002.png  \n",
            "  inflating: train/7/00007_00021_00003.png  \n",
            "  inflating: train/7/00007_00021_00004.png  \n",
            "  inflating: train/7/00007_00021_00005.png  \n",
            "  inflating: train/7/00007_00021_00006.png  \n",
            "  inflating: train/7/00007_00021_00007.png  \n",
            "  inflating: train/7/00007_00021_00008.png  \n",
            "  inflating: train/7/00007_00021_00009.png  \n",
            "  inflating: train/7/00007_00021_00010.png  \n",
            "  inflating: train/7/00007_00021_00011.png  \n",
            "  inflating: train/7/00007_00021_00012.png  \n",
            "  inflating: train/7/00007_00021_00013.png  \n",
            "  inflating: train/7/00007_00021_00014.png  \n",
            "  inflating: train/7/00007_00021_00015.png  \n",
            "  inflating: train/7/00007_00021_00016.png  \n",
            "  inflating: train/7/00007_00021_00017.png  \n",
            "  inflating: train/7/00007_00021_00018.png  \n",
            "  inflating: train/7/00007_00021_00019.png  \n",
            "  inflating: train/7/00007_00021_00020.png  \n",
            "  inflating: train/7/00007_00021_00021.png  \n",
            "  inflating: train/7/00007_00021_00022.png  \n",
            "  inflating: train/7/00007_00021_00023.png  \n",
            "  inflating: train/7/00007_00021_00024.png  \n",
            "  inflating: train/7/00007_00021_00025.png  \n",
            "  inflating: train/7/00007_00021_00026.png  \n",
            "  inflating: train/7/00007_00021_00027.png  \n",
            "  inflating: train/7/00007_00021_00028.png  \n",
            "  inflating: train/7/00007_00021_00029.png  \n",
            "  inflating: train/7/00007_00022_00000.png  \n",
            "  inflating: train/7/00007_00022_00001.png  \n",
            "  inflating: train/7/00007_00022_00002.png  \n",
            "  inflating: train/7/00007_00022_00003.png  \n",
            "  inflating: train/7/00007_00022_00004.png  \n",
            "  inflating: train/7/00007_00022_00005.png  \n",
            "  inflating: train/7/00007_00022_00006.png  \n",
            "  inflating: train/7/00007_00022_00007.png  \n",
            "  inflating: train/7/00007_00022_00008.png  \n",
            "  inflating: train/7/00007_00022_00009.png  \n",
            "  inflating: train/7/00007_00022_00010.png  \n",
            "  inflating: train/7/00007_00022_00011.png  \n",
            "  inflating: train/7/00007_00022_00012.png  \n",
            "  inflating: train/7/00007_00022_00013.png  \n",
            "  inflating: train/7/00007_00022_00014.png  \n",
            "  inflating: train/7/00007_00022_00015.png  \n",
            "  inflating: train/7/00007_00022_00016.png  \n",
            "  inflating: train/7/00007_00022_00017.png  \n",
            "  inflating: train/7/00007_00022_00018.png  \n",
            "  inflating: train/7/00007_00022_00019.png  \n",
            "  inflating: train/7/00007_00022_00020.png  \n",
            "  inflating: train/7/00007_00022_00021.png  \n",
            "  inflating: train/7/00007_00022_00022.png  \n",
            "  inflating: train/7/00007_00022_00023.png  \n",
            "  inflating: train/7/00007_00022_00024.png  \n",
            "  inflating: train/7/00007_00022_00025.png  \n",
            "  inflating: train/7/00007_00022_00026.png  \n",
            "  inflating: train/7/00007_00022_00027.png  \n",
            "  inflating: train/7/00007_00022_00028.png  \n",
            "  inflating: train/7/00007_00022_00029.png  \n",
            "  inflating: train/7/00007_00023_00000.png  \n",
            "  inflating: train/7/00007_00023_00001.png  \n",
            "  inflating: train/7/00007_00023_00002.png  \n",
            "  inflating: train/7/00007_00023_00003.png  \n",
            "  inflating: train/7/00007_00023_00004.png  \n",
            "  inflating: train/7/00007_00023_00005.png  \n",
            "  inflating: train/7/00007_00023_00006.png  \n",
            "  inflating: train/7/00007_00023_00007.png  \n",
            "  inflating: train/7/00007_00023_00008.png  \n",
            "  inflating: train/7/00007_00023_00009.png  \n",
            "  inflating: train/7/00007_00023_00010.png  \n",
            "  inflating: train/7/00007_00023_00011.png  \n",
            "  inflating: train/7/00007_00023_00012.png  \n",
            "  inflating: train/7/00007_00023_00013.png  \n",
            "  inflating: train/7/00007_00023_00014.png  \n",
            "  inflating: train/7/00007_00023_00015.png  \n",
            "  inflating: train/7/00007_00023_00016.png  \n",
            "  inflating: train/7/00007_00023_00017.png  \n",
            "  inflating: train/7/00007_00023_00018.png  \n",
            "  inflating: train/7/00007_00023_00019.png  \n",
            "  inflating: train/7/00007_00023_00020.png  \n",
            "  inflating: train/7/00007_00023_00021.png  \n",
            "  inflating: train/7/00007_00023_00022.png  \n",
            "  inflating: train/7/00007_00023_00023.png  \n",
            "  inflating: train/7/00007_00023_00024.png  \n",
            "  inflating: train/7/00007_00023_00025.png  \n",
            "  inflating: train/7/00007_00023_00026.png  \n",
            "  inflating: train/7/00007_00023_00027.png  \n",
            "  inflating: train/7/00007_00023_00028.png  \n",
            "  inflating: train/7/00007_00023_00029.png  \n",
            "  inflating: train/7/00007_00024_00000.png  \n",
            "  inflating: train/7/00007_00024_00001.png  \n",
            "  inflating: train/7/00007_00024_00002.png  \n",
            "  inflating: train/7/00007_00024_00003.png  \n",
            "  inflating: train/7/00007_00024_00004.png  \n",
            "  inflating: train/7/00007_00024_00005.png  \n",
            "  inflating: train/7/00007_00024_00006.png  \n",
            "  inflating: train/7/00007_00024_00007.png  \n",
            "  inflating: train/7/00007_00024_00008.png  \n",
            "  inflating: train/7/00007_00024_00009.png  \n",
            "  inflating: train/7/00007_00024_00010.png  \n",
            "  inflating: train/7/00007_00024_00011.png  \n",
            "  inflating: train/7/00007_00024_00012.png  \n",
            "  inflating: train/7/00007_00024_00013.png  \n",
            "  inflating: train/7/00007_00024_00014.png  \n",
            "  inflating: train/7/00007_00024_00015.png  \n",
            "  inflating: train/7/00007_00024_00016.png  \n",
            "  inflating: train/7/00007_00024_00017.png  \n",
            "  inflating: train/7/00007_00024_00018.png  \n",
            "  inflating: train/7/00007_00024_00019.png  \n",
            "  inflating: train/7/00007_00024_00020.png  \n",
            "  inflating: train/7/00007_00024_00021.png  \n",
            "  inflating: train/7/00007_00024_00022.png  \n",
            "  inflating: train/7/00007_00024_00023.png  \n",
            "  inflating: train/7/00007_00024_00024.png  \n",
            "  inflating: train/7/00007_00024_00025.png  \n",
            "  inflating: train/7/00007_00024_00026.png  \n",
            "  inflating: train/7/00007_00024_00027.png  \n",
            "  inflating: train/7/00007_00024_00028.png  \n",
            "  inflating: train/7/00007_00024_00029.png  \n",
            "  inflating: train/7/00007_00025_00000.png  \n",
            "  inflating: train/7/00007_00025_00001.png  \n",
            "  inflating: train/7/00007_00025_00002.png  \n",
            "  inflating: train/7/00007_00025_00003.png  \n",
            "  inflating: train/7/00007_00025_00004.png  \n",
            "  inflating: train/7/00007_00025_00005.png  \n",
            "  inflating: train/7/00007_00025_00006.png  \n",
            "  inflating: train/7/00007_00025_00007.png  \n",
            "  inflating: train/7/00007_00025_00008.png  \n",
            "  inflating: train/7/00007_00025_00009.png  \n",
            "  inflating: train/7/00007_00025_00010.png  \n",
            "  inflating: train/7/00007_00025_00011.png  \n",
            "  inflating: train/7/00007_00025_00012.png  \n",
            "  inflating: train/7/00007_00025_00013.png  \n",
            "  inflating: train/7/00007_00025_00014.png  \n",
            "  inflating: train/7/00007_00025_00015.png  \n",
            "  inflating: train/7/00007_00025_00016.png  \n",
            "  inflating: train/7/00007_00025_00017.png  \n",
            "  inflating: train/7/00007_00025_00018.png  \n",
            "  inflating: train/7/00007_00025_00019.png  \n",
            "  inflating: train/7/00007_00025_00020.png  \n",
            "  inflating: train/7/00007_00025_00021.png  \n",
            "  inflating: train/7/00007_00025_00022.png  \n",
            "  inflating: train/7/00007_00025_00023.png  \n",
            "  inflating: train/7/00007_00025_00024.png  \n",
            "  inflating: train/7/00007_00025_00025.png  \n",
            "  inflating: train/7/00007_00025_00026.png  \n",
            "  inflating: train/7/00007_00025_00027.png  \n",
            "  inflating: train/7/00007_00025_00028.png  \n",
            "  inflating: train/7/00007_00025_00029.png  \n",
            "  inflating: train/7/00007_00026_00000.png  \n",
            "  inflating: train/7/00007_00026_00001.png  \n",
            "  inflating: train/7/00007_00026_00002.png  \n",
            "  inflating: train/7/00007_00026_00003.png  \n",
            "  inflating: train/7/00007_00026_00004.png  \n",
            "  inflating: train/7/00007_00026_00005.png  \n",
            "  inflating: train/7/00007_00026_00006.png  \n",
            "  inflating: train/7/00007_00026_00007.png  \n",
            "  inflating: train/7/00007_00026_00008.png  \n",
            "  inflating: train/7/00007_00026_00009.png  \n",
            "  inflating: train/7/00007_00026_00010.png  \n",
            "  inflating: train/7/00007_00026_00011.png  \n",
            "  inflating: train/7/00007_00026_00012.png  \n",
            "  inflating: train/7/00007_00026_00013.png  \n",
            "  inflating: train/7/00007_00026_00014.png  \n",
            "  inflating: train/7/00007_00026_00015.png  \n",
            "  inflating: train/7/00007_00026_00016.png  \n",
            "  inflating: train/7/00007_00026_00017.png  \n",
            "  inflating: train/7/00007_00026_00018.png  \n",
            "  inflating: train/7/00007_00026_00019.png  \n",
            "  inflating: train/7/00007_00026_00020.png  \n",
            "  inflating: train/7/00007_00026_00021.png  \n",
            "  inflating: train/7/00007_00026_00022.png  \n",
            "  inflating: train/7/00007_00026_00023.png  \n",
            "  inflating: train/7/00007_00026_00024.png  \n",
            "  inflating: train/7/00007_00026_00025.png  \n",
            "  inflating: train/7/00007_00026_00026.png  \n",
            "  inflating: train/7/00007_00026_00027.png  \n",
            "  inflating: train/7/00007_00026_00028.png  \n",
            "  inflating: train/7/00007_00026_00029.png  \n",
            "  inflating: train/7/00007_00027_00000.png  \n",
            "  inflating: train/7/00007_00027_00001.png  \n",
            "  inflating: train/7/00007_00027_00002.png  \n",
            "  inflating: train/7/00007_00027_00003.png  \n",
            "  inflating: train/7/00007_00027_00004.png  \n",
            "  inflating: train/7/00007_00027_00005.png  \n",
            "  inflating: train/7/00007_00027_00006.png  \n",
            "  inflating: train/7/00007_00027_00007.png  \n",
            "  inflating: train/7/00007_00027_00008.png  \n",
            "  inflating: train/7/00007_00027_00009.png  \n",
            "  inflating: train/7/00007_00027_00010.png  \n",
            "  inflating: train/7/00007_00027_00011.png  \n",
            "  inflating: train/7/00007_00027_00012.png  \n",
            "  inflating: train/7/00007_00027_00013.png  \n",
            "  inflating: train/7/00007_00027_00014.png  \n",
            "  inflating: train/7/00007_00027_00015.png  \n",
            "  inflating: train/7/00007_00027_00016.png  \n",
            "  inflating: train/7/00007_00027_00017.png  \n",
            "  inflating: train/7/00007_00027_00018.png  \n",
            "  inflating: train/7/00007_00027_00019.png  \n",
            "  inflating: train/7/00007_00027_00020.png  \n",
            "  inflating: train/7/00007_00027_00021.png  \n",
            "  inflating: train/7/00007_00027_00022.png  \n",
            "  inflating: train/7/00007_00027_00023.png  \n",
            "  inflating: train/7/00007_00027_00024.png  \n",
            "  inflating: train/7/00007_00027_00025.png  \n",
            "  inflating: train/7/00007_00027_00026.png  \n",
            "  inflating: train/7/00007_00027_00027.png  \n",
            "  inflating: train/7/00007_00027_00028.png  \n",
            "  inflating: train/7/00007_00027_00029.png  \n",
            "  inflating: train/7/00007_00028_00000.png  \n",
            "  inflating: train/7/00007_00028_00001.png  \n",
            "  inflating: train/7/00007_00028_00002.png  \n",
            "  inflating: train/7/00007_00028_00003.png  \n",
            "  inflating: train/7/00007_00028_00004.png  \n",
            "  inflating: train/7/00007_00028_00005.png  \n",
            "  inflating: train/7/00007_00028_00006.png  \n",
            "  inflating: train/7/00007_00028_00007.png  \n",
            "  inflating: train/7/00007_00028_00008.png  \n",
            "  inflating: train/7/00007_00028_00009.png  \n",
            "  inflating: train/7/00007_00028_00010.png  \n",
            "  inflating: train/7/00007_00028_00011.png  \n",
            "  inflating: train/7/00007_00028_00012.png  \n",
            "  inflating: train/7/00007_00028_00013.png  \n",
            "  inflating: train/7/00007_00028_00014.png  \n",
            "  inflating: train/7/00007_00028_00015.png  \n",
            "  inflating: train/7/00007_00028_00016.png  \n",
            "  inflating: train/7/00007_00028_00017.png  \n",
            "  inflating: train/7/00007_00028_00018.png  \n",
            "  inflating: train/7/00007_00028_00019.png  \n",
            "  inflating: train/7/00007_00028_00020.png  \n",
            "  inflating: train/7/00007_00028_00021.png  \n",
            "  inflating: train/7/00007_00028_00022.png  \n",
            "  inflating: train/7/00007_00028_00023.png  \n",
            "  inflating: train/7/00007_00028_00024.png  \n",
            "  inflating: train/7/00007_00028_00025.png  \n",
            "  inflating: train/7/00007_00028_00026.png  \n",
            "  inflating: train/7/00007_00028_00027.png  \n",
            "  inflating: train/7/00007_00028_00028.png  \n",
            "  inflating: train/7/00007_00028_00029.png  \n",
            "  inflating: train/7/00007_00029_00000.png  \n",
            "  inflating: train/7/00007_00029_00001.png  \n",
            "  inflating: train/7/00007_00029_00002.png  \n",
            "  inflating: train/7/00007_00029_00003.png  \n",
            "  inflating: train/7/00007_00029_00004.png  \n",
            "  inflating: train/7/00007_00029_00005.png  \n",
            "  inflating: train/7/00007_00029_00006.png  \n",
            "  inflating: train/7/00007_00029_00007.png  \n",
            "  inflating: train/7/00007_00029_00008.png  \n",
            "  inflating: train/7/00007_00029_00009.png  \n",
            "  inflating: train/7/00007_00029_00010.png  \n",
            "  inflating: train/7/00007_00029_00011.png  \n",
            "  inflating: train/7/00007_00029_00012.png  \n",
            "  inflating: train/7/00007_00029_00013.png  \n",
            "  inflating: train/7/00007_00029_00014.png  \n",
            "  inflating: train/7/00007_00029_00015.png  \n",
            "  inflating: train/7/00007_00029_00016.png  \n",
            "  inflating: train/7/00007_00029_00017.png  \n",
            "  inflating: train/7/00007_00029_00018.png  \n",
            "  inflating: train/7/00007_00029_00019.png  \n",
            "  inflating: train/7/00007_00029_00020.png  \n",
            "  inflating: train/7/00007_00029_00021.png  \n",
            "  inflating: train/7/00007_00029_00022.png  \n",
            "  inflating: train/7/00007_00029_00023.png  \n",
            "  inflating: train/7/00007_00029_00024.png  \n",
            "  inflating: train/7/00007_00029_00025.png  \n",
            "  inflating: train/7/00007_00029_00026.png  \n",
            "  inflating: train/7/00007_00029_00027.png  \n",
            "  inflating: train/7/00007_00029_00028.png  \n",
            "  inflating: train/7/00007_00029_00029.png  \n",
            "  inflating: train/7/00007_00030_00000.png  \n",
            "  inflating: train/7/00007_00030_00001.png  \n",
            "  inflating: train/7/00007_00030_00002.png  \n",
            "  inflating: train/7/00007_00030_00003.png  \n",
            "  inflating: train/7/00007_00030_00004.png  \n",
            "  inflating: train/7/00007_00030_00005.png  \n",
            "  inflating: train/7/00007_00030_00006.png  \n",
            "  inflating: train/7/00007_00030_00007.png  \n",
            "  inflating: train/7/00007_00030_00008.png  \n",
            "  inflating: train/7/00007_00030_00009.png  \n",
            "  inflating: train/7/00007_00030_00010.png  \n",
            "  inflating: train/7/00007_00030_00011.png  \n",
            "  inflating: train/7/00007_00030_00012.png  \n",
            "  inflating: train/7/00007_00030_00013.png  \n",
            "  inflating: train/7/00007_00030_00014.png  \n",
            "  inflating: train/7/00007_00030_00015.png  \n",
            "  inflating: train/7/00007_00030_00016.png  \n",
            "  inflating: train/7/00007_00030_00017.png  \n",
            "  inflating: train/7/00007_00030_00018.png  \n",
            "  inflating: train/7/00007_00030_00019.png  \n",
            "  inflating: train/7/00007_00030_00020.png  \n",
            "  inflating: train/7/00007_00030_00021.png  \n",
            "  inflating: train/7/00007_00030_00022.png  \n",
            "  inflating: train/7/00007_00030_00023.png  \n",
            "  inflating: train/7/00007_00030_00024.png  \n",
            "  inflating: train/7/00007_00030_00025.png  \n",
            "  inflating: train/7/00007_00030_00026.png  \n",
            "  inflating: train/7/00007_00030_00027.png  \n",
            "  inflating: train/7/00007_00030_00028.png  \n",
            "  inflating: train/7/00007_00030_00029.png  \n",
            "  inflating: train/7/00007_00031_00000.png  \n",
            "  inflating: train/7/00007_00031_00001.png  \n",
            "  inflating: train/7/00007_00031_00002.png  \n",
            "  inflating: train/7/00007_00031_00003.png  \n",
            "  inflating: train/7/00007_00031_00004.png  \n",
            "  inflating: train/7/00007_00031_00005.png  \n",
            "  inflating: train/7/00007_00031_00006.png  \n",
            "  inflating: train/7/00007_00031_00007.png  \n",
            "  inflating: train/7/00007_00031_00008.png  \n",
            "  inflating: train/7/00007_00031_00009.png  \n",
            "  inflating: train/7/00007_00031_00010.png  \n",
            "  inflating: train/7/00007_00031_00011.png  \n",
            "  inflating: train/7/00007_00031_00012.png  \n",
            "  inflating: train/7/00007_00031_00013.png  \n",
            "  inflating: train/7/00007_00031_00014.png  \n",
            "  inflating: train/7/00007_00031_00015.png  \n",
            "  inflating: train/7/00007_00031_00016.png  \n",
            "  inflating: train/7/00007_00031_00017.png  \n",
            "  inflating: train/7/00007_00031_00018.png  \n",
            "  inflating: train/7/00007_00031_00019.png  \n",
            "  inflating: train/7/00007_00031_00020.png  \n",
            "  inflating: train/7/00007_00031_00021.png  \n",
            "  inflating: train/7/00007_00031_00022.png  \n",
            "  inflating: train/7/00007_00031_00023.png  \n",
            "  inflating: train/7/00007_00031_00024.png  \n",
            "  inflating: train/7/00007_00031_00025.png  \n",
            "  inflating: train/7/00007_00031_00026.png  \n",
            "  inflating: train/7/00007_00031_00027.png  \n",
            "  inflating: train/7/00007_00031_00028.png  \n",
            "  inflating: train/7/00007_00031_00029.png  \n",
            "  inflating: train/7/00007_00032_00000.png  \n",
            "  inflating: train/7/00007_00032_00001.png  \n",
            "  inflating: train/7/00007_00032_00002.png  \n",
            "  inflating: train/7/00007_00032_00003.png  \n",
            "  inflating: train/7/00007_00032_00004.png  \n",
            "  inflating: train/7/00007_00032_00005.png  \n",
            "  inflating: train/7/00007_00032_00006.png  \n",
            "  inflating: train/7/00007_00032_00007.png  \n",
            "  inflating: train/7/00007_00032_00008.png  \n",
            "  inflating: train/7/00007_00032_00009.png  \n",
            "  inflating: train/7/00007_00032_00010.png  \n",
            "  inflating: train/7/00007_00032_00011.png  \n",
            "  inflating: train/7/00007_00032_00012.png  \n",
            "  inflating: train/7/00007_00032_00013.png  \n",
            "  inflating: train/7/00007_00032_00014.png  \n",
            "  inflating: train/7/00007_00032_00015.png  \n",
            "  inflating: train/7/00007_00032_00016.png  \n",
            "  inflating: train/7/00007_00032_00017.png  \n",
            "  inflating: train/7/00007_00032_00018.png  \n",
            "  inflating: train/7/00007_00032_00019.png  \n",
            "  inflating: train/7/00007_00032_00020.png  \n",
            "  inflating: train/7/00007_00032_00021.png  \n",
            "  inflating: train/7/00007_00032_00022.png  \n",
            "  inflating: train/7/00007_00032_00023.png  \n",
            "  inflating: train/7/00007_00032_00024.png  \n",
            "  inflating: train/7/00007_00032_00025.png  \n",
            "  inflating: train/7/00007_00032_00026.png  \n",
            "  inflating: train/7/00007_00032_00027.png  \n",
            "  inflating: train/7/00007_00032_00028.png  \n",
            "  inflating: train/7/00007_00032_00029.png  \n",
            "  inflating: train/7/00007_00033_00000.png  \n",
            "  inflating: train/7/00007_00033_00001.png  \n",
            "  inflating: train/7/00007_00033_00002.png  \n",
            "  inflating: train/7/00007_00033_00003.png  \n",
            "  inflating: train/7/00007_00033_00004.png  \n",
            "  inflating: train/7/00007_00033_00005.png  \n",
            "  inflating: train/7/00007_00033_00006.png  \n",
            "  inflating: train/7/00007_00033_00007.png  \n",
            "  inflating: train/7/00007_00033_00008.png  \n",
            "  inflating: train/7/00007_00033_00009.png  \n",
            "  inflating: train/7/00007_00033_00010.png  \n",
            "  inflating: train/7/00007_00033_00011.png  \n",
            "  inflating: train/7/00007_00033_00012.png  \n",
            "  inflating: train/7/00007_00033_00013.png  \n",
            "  inflating: train/7/00007_00033_00014.png  \n",
            "  inflating: train/7/00007_00033_00015.png  \n",
            "  inflating: train/7/00007_00033_00016.png  \n",
            "  inflating: train/7/00007_00033_00017.png  \n",
            "  inflating: train/7/00007_00033_00018.png  \n",
            "  inflating: train/7/00007_00033_00019.png  \n",
            "  inflating: train/7/00007_00033_00020.png  \n",
            "  inflating: train/7/00007_00033_00021.png  \n",
            "  inflating: train/7/00007_00033_00022.png  \n",
            "  inflating: train/7/00007_00033_00023.png  \n",
            "  inflating: train/7/00007_00033_00024.png  \n",
            "  inflating: train/7/00007_00033_00025.png  \n",
            "  inflating: train/7/00007_00033_00026.png  \n",
            "  inflating: train/7/00007_00033_00027.png  \n",
            "  inflating: train/7/00007_00033_00028.png  \n",
            "  inflating: train/7/00007_00033_00029.png  \n",
            "  inflating: train/7/00007_00034_00000.png  \n",
            "  inflating: train/7/00007_00034_00001.png  \n",
            "  inflating: train/7/00007_00034_00002.png  \n",
            "  inflating: train/7/00007_00034_00003.png  \n",
            "  inflating: train/7/00007_00034_00004.png  \n",
            "  inflating: train/7/00007_00034_00005.png  \n",
            "  inflating: train/7/00007_00034_00006.png  \n",
            "  inflating: train/7/00007_00034_00007.png  \n",
            "  inflating: train/7/00007_00034_00008.png  \n",
            "  inflating: train/7/00007_00034_00009.png  \n",
            "  inflating: train/7/00007_00034_00010.png  \n",
            "  inflating: train/7/00007_00034_00011.png  \n",
            "  inflating: train/7/00007_00034_00012.png  \n",
            "  inflating: train/7/00007_00034_00013.png  \n",
            "  inflating: train/7/00007_00034_00014.png  \n",
            "  inflating: train/7/00007_00034_00015.png  \n",
            "  inflating: train/7/00007_00034_00016.png  \n",
            "  inflating: train/7/00007_00034_00017.png  \n",
            "  inflating: train/7/00007_00034_00018.png  \n",
            "  inflating: train/7/00007_00034_00019.png  \n",
            "  inflating: train/7/00007_00034_00020.png  \n",
            "  inflating: train/7/00007_00034_00021.png  \n",
            "  inflating: train/7/00007_00034_00022.png  \n",
            "  inflating: train/7/00007_00034_00023.png  \n",
            "  inflating: train/7/00007_00034_00024.png  \n",
            "  inflating: train/7/00007_00034_00025.png  \n",
            "  inflating: train/7/00007_00034_00026.png  \n",
            "  inflating: train/7/00007_00034_00027.png  \n",
            "  inflating: train/7/00007_00034_00028.png  \n",
            "  inflating: train/7/00007_00034_00029.png  \n",
            "  inflating: train/7/00007_00035_00000.png  \n",
            "  inflating: train/7/00007_00035_00001.png  \n",
            "  inflating: train/7/00007_00035_00002.png  \n",
            "  inflating: train/7/00007_00035_00003.png  \n",
            "  inflating: train/7/00007_00035_00004.png  \n",
            "  inflating: train/7/00007_00035_00005.png  \n",
            "  inflating: train/7/00007_00035_00006.png  \n",
            "  inflating: train/7/00007_00035_00007.png  \n",
            "  inflating: train/7/00007_00035_00008.png  \n",
            "  inflating: train/7/00007_00035_00009.png  \n",
            "  inflating: train/7/00007_00035_00010.png  \n",
            "  inflating: train/7/00007_00035_00011.png  \n",
            "  inflating: train/7/00007_00035_00012.png  \n",
            "  inflating: train/7/00007_00035_00013.png  \n",
            "  inflating: train/7/00007_00035_00014.png  \n",
            "  inflating: train/7/00007_00035_00015.png  \n",
            "  inflating: train/7/00007_00035_00016.png  \n",
            "  inflating: train/7/00007_00035_00017.png  \n",
            "  inflating: train/7/00007_00035_00018.png  \n",
            "  inflating: train/7/00007_00035_00019.png  \n",
            "  inflating: train/7/00007_00035_00020.png  \n",
            "  inflating: train/7/00007_00035_00021.png  \n",
            "  inflating: train/7/00007_00035_00022.png  \n",
            "  inflating: train/7/00007_00035_00023.png  \n",
            "  inflating: train/7/00007_00035_00024.png  \n",
            "  inflating: train/7/00007_00035_00025.png  \n",
            "  inflating: train/7/00007_00035_00026.png  \n",
            "  inflating: train/7/00007_00035_00027.png  \n",
            "  inflating: train/7/00007_00035_00028.png  \n",
            "  inflating: train/7/00007_00035_00029.png  \n",
            "  inflating: train/7/00007_00036_00000.png  \n",
            "  inflating: train/7/00007_00036_00001.png  \n",
            "  inflating: train/7/00007_00036_00002.png  \n",
            "  inflating: train/7/00007_00036_00003.png  \n",
            "  inflating: train/7/00007_00036_00004.png  \n",
            "  inflating: train/7/00007_00036_00005.png  \n",
            "  inflating: train/7/00007_00036_00006.png  \n",
            "  inflating: train/7/00007_00036_00007.png  \n",
            "  inflating: train/7/00007_00036_00008.png  \n",
            "  inflating: train/7/00007_00036_00009.png  \n",
            "  inflating: train/7/00007_00036_00010.png  \n",
            "  inflating: train/7/00007_00036_00011.png  \n",
            "  inflating: train/7/00007_00036_00012.png  \n",
            "  inflating: train/7/00007_00036_00013.png  \n",
            "  inflating: train/7/00007_00036_00014.png  \n",
            "  inflating: train/7/00007_00036_00015.png  \n",
            "  inflating: train/7/00007_00036_00016.png  \n",
            "  inflating: train/7/00007_00036_00017.png  \n",
            "  inflating: train/7/00007_00036_00018.png  \n",
            "  inflating: train/7/00007_00036_00019.png  \n",
            "  inflating: train/7/00007_00036_00020.png  \n",
            "  inflating: train/7/00007_00036_00021.png  \n",
            "  inflating: train/7/00007_00036_00022.png  \n",
            "  inflating: train/7/00007_00036_00023.png  \n",
            "  inflating: train/7/00007_00036_00024.png  \n",
            "  inflating: train/7/00007_00036_00025.png  \n",
            "  inflating: train/7/00007_00036_00026.png  \n",
            "  inflating: train/7/00007_00036_00027.png  \n",
            "  inflating: train/7/00007_00036_00028.png  \n",
            "  inflating: train/7/00007_00036_00029.png  \n",
            "  inflating: train/7/00007_00037_00000.png  \n",
            "  inflating: train/7/00007_00037_00001.png  \n",
            "  inflating: train/7/00007_00037_00002.png  \n",
            "  inflating: train/7/00007_00037_00003.png  \n",
            "  inflating: train/7/00007_00037_00004.png  \n",
            "  inflating: train/7/00007_00037_00005.png  \n",
            "  inflating: train/7/00007_00037_00006.png  \n",
            "  inflating: train/7/00007_00037_00007.png  \n",
            "  inflating: train/7/00007_00037_00008.png  \n",
            "  inflating: train/7/00007_00037_00009.png  \n",
            "  inflating: train/7/00007_00037_00010.png  \n",
            "  inflating: train/7/00007_00037_00011.png  \n",
            "  inflating: train/7/00007_00037_00012.png  \n",
            "  inflating: train/7/00007_00037_00013.png  \n",
            "  inflating: train/7/00007_00037_00014.png  \n",
            "  inflating: train/7/00007_00037_00015.png  \n",
            "  inflating: train/7/00007_00037_00016.png  \n",
            "  inflating: train/7/00007_00037_00017.png  \n",
            "  inflating: train/7/00007_00037_00018.png  \n",
            "  inflating: train/7/00007_00037_00019.png  \n",
            "  inflating: train/7/00007_00037_00020.png  \n",
            "  inflating: train/7/00007_00037_00021.png  \n",
            "  inflating: train/7/00007_00037_00022.png  \n",
            "  inflating: train/7/00007_00037_00023.png  \n",
            "  inflating: train/7/00007_00037_00024.png  \n",
            "  inflating: train/7/00007_00037_00025.png  \n",
            "  inflating: train/7/00007_00037_00026.png  \n",
            "  inflating: train/7/00007_00037_00027.png  \n",
            "  inflating: train/7/00007_00037_00028.png  \n",
            "  inflating: train/7/00007_00037_00029.png  \n",
            "  inflating: train/7/00007_00038_00000.png  \n",
            "  inflating: train/7/00007_00038_00001.png  \n",
            "  inflating: train/7/00007_00038_00002.png  \n",
            "  inflating: train/7/00007_00038_00003.png  \n",
            "  inflating: train/7/00007_00038_00004.png  \n",
            "  inflating: train/7/00007_00038_00005.png  \n",
            "  inflating: train/7/00007_00038_00006.png  \n",
            "  inflating: train/7/00007_00038_00007.png  \n",
            "  inflating: train/7/00007_00038_00008.png  \n",
            "  inflating: train/7/00007_00038_00009.png  \n",
            "  inflating: train/7/00007_00038_00010.png  \n",
            "  inflating: train/7/00007_00038_00011.png  \n",
            "  inflating: train/7/00007_00038_00012.png  \n",
            "  inflating: train/7/00007_00038_00013.png  \n",
            "  inflating: train/7/00007_00038_00014.png  \n",
            "  inflating: train/7/00007_00038_00015.png  \n",
            "  inflating: train/7/00007_00038_00016.png  \n",
            "  inflating: train/7/00007_00038_00017.png  \n",
            "  inflating: train/7/00007_00038_00018.png  \n",
            "  inflating: train/7/00007_00038_00019.png  \n",
            "  inflating: train/7/00007_00038_00020.png  \n",
            "  inflating: train/7/00007_00038_00021.png  \n",
            "  inflating: train/7/00007_00038_00022.png  \n",
            "  inflating: train/7/00007_00038_00023.png  \n",
            "  inflating: train/7/00007_00038_00024.png  \n",
            "  inflating: train/7/00007_00038_00025.png  \n",
            "  inflating: train/7/00007_00038_00026.png  \n",
            "  inflating: train/7/00007_00038_00027.png  \n",
            "  inflating: train/7/00007_00038_00028.png  \n",
            "  inflating: train/7/00007_00038_00029.png  \n",
            "  inflating: train/7/00007_00039_00000.png  \n",
            "  inflating: train/7/00007_00039_00001.png  \n",
            "  inflating: train/7/00007_00039_00002.png  \n",
            "  inflating: train/7/00007_00039_00003.png  \n",
            "  inflating: train/7/00007_00039_00004.png  \n",
            "  inflating: train/7/00007_00039_00005.png  \n",
            "  inflating: train/7/00007_00039_00006.png  \n",
            "  inflating: train/7/00007_00039_00007.png  \n",
            "  inflating: train/7/00007_00039_00008.png  \n",
            "  inflating: train/7/00007_00039_00009.png  \n",
            "  inflating: train/7/00007_00039_00010.png  \n",
            "  inflating: train/7/00007_00039_00011.png  \n",
            "  inflating: train/7/00007_00039_00012.png  \n",
            "  inflating: train/7/00007_00039_00013.png  \n",
            "  inflating: train/7/00007_00039_00014.png  \n",
            "  inflating: train/7/00007_00039_00015.png  \n",
            "  inflating: train/7/00007_00039_00016.png  \n",
            "  inflating: train/7/00007_00039_00017.png  \n",
            "  inflating: train/7/00007_00039_00018.png  \n",
            "  inflating: train/7/00007_00039_00019.png  \n",
            "  inflating: train/7/00007_00039_00020.png  \n",
            "  inflating: train/7/00007_00039_00021.png  \n",
            "  inflating: train/7/00007_00039_00022.png  \n",
            "  inflating: train/7/00007_00039_00023.png  \n",
            "  inflating: train/7/00007_00039_00024.png  \n",
            "  inflating: train/7/00007_00039_00025.png  \n",
            "  inflating: train/7/00007_00039_00026.png  \n",
            "  inflating: train/7/00007_00039_00027.png  \n",
            "  inflating: train/7/00007_00039_00028.png  \n",
            "  inflating: train/7/00007_00039_00029.png  \n",
            "  inflating: train/7/00007_00040_00000.png  \n",
            "  inflating: train/7/00007_00040_00001.png  \n",
            "  inflating: train/7/00007_00040_00002.png  \n",
            "  inflating: train/7/00007_00040_00003.png  \n",
            "  inflating: train/7/00007_00040_00004.png  \n",
            "  inflating: train/7/00007_00040_00005.png  \n",
            "  inflating: train/7/00007_00040_00006.png  \n",
            "  inflating: train/7/00007_00040_00007.png  \n",
            "  inflating: train/7/00007_00040_00008.png  \n",
            "  inflating: train/7/00007_00040_00009.png  \n",
            "  inflating: train/7/00007_00040_00010.png  \n",
            "  inflating: train/7/00007_00040_00011.png  \n",
            "  inflating: train/7/00007_00040_00012.png  \n",
            "  inflating: train/7/00007_00040_00013.png  \n",
            "  inflating: train/7/00007_00040_00014.png  \n",
            "  inflating: train/7/00007_00040_00015.png  \n",
            "  inflating: train/7/00007_00040_00016.png  \n",
            "  inflating: train/7/00007_00040_00017.png  \n",
            "  inflating: train/7/00007_00040_00018.png  \n",
            "  inflating: train/7/00007_00040_00019.png  \n",
            "  inflating: train/7/00007_00040_00020.png  \n",
            "  inflating: train/7/00007_00040_00021.png  \n",
            "  inflating: train/7/00007_00040_00022.png  \n",
            "  inflating: train/7/00007_00040_00023.png  \n",
            "  inflating: train/7/00007_00040_00024.png  \n",
            "  inflating: train/7/00007_00040_00025.png  \n",
            "  inflating: train/7/00007_00040_00026.png  \n",
            "  inflating: train/7/00007_00040_00027.png  \n",
            "  inflating: train/7/00007_00040_00028.png  \n",
            "  inflating: train/7/00007_00040_00029.png  \n",
            "  inflating: train/7/00007_00041_00000.png  \n",
            "  inflating: train/7/00007_00041_00001.png  \n",
            "  inflating: train/7/00007_00041_00002.png  \n",
            "  inflating: train/7/00007_00041_00003.png  \n",
            "  inflating: train/7/00007_00041_00004.png  \n",
            "  inflating: train/7/00007_00041_00005.png  \n",
            "  inflating: train/7/00007_00041_00006.png  \n",
            "  inflating: train/7/00007_00041_00007.png  \n",
            "  inflating: train/7/00007_00041_00008.png  \n",
            "  inflating: train/7/00007_00041_00009.png  \n",
            "  inflating: train/7/00007_00041_00010.png  \n",
            "  inflating: train/7/00007_00041_00011.png  \n",
            "  inflating: train/7/00007_00041_00012.png  \n",
            "  inflating: train/7/00007_00041_00013.png  \n",
            "  inflating: train/7/00007_00041_00014.png  \n",
            "  inflating: train/7/00007_00041_00015.png  \n",
            "  inflating: train/7/00007_00041_00016.png  \n",
            "  inflating: train/7/00007_00041_00017.png  \n",
            "  inflating: train/7/00007_00041_00018.png  \n",
            "  inflating: train/7/00007_00041_00019.png  \n",
            "  inflating: train/7/00007_00041_00020.png  \n",
            "  inflating: train/7/00007_00041_00021.png  \n",
            "  inflating: train/7/00007_00041_00022.png  \n",
            "  inflating: train/7/00007_00041_00023.png  \n",
            "  inflating: train/7/00007_00041_00024.png  \n",
            "  inflating: train/7/00007_00041_00025.png  \n",
            "  inflating: train/7/00007_00041_00026.png  \n",
            "  inflating: train/7/00007_00041_00027.png  \n",
            "  inflating: train/7/00007_00041_00028.png  \n",
            "  inflating: train/7/00007_00041_00029.png  \n",
            "  inflating: train/7/00007_00042_00000.png  \n",
            "  inflating: train/7/00007_00042_00001.png  \n",
            "  inflating: train/7/00007_00042_00002.png  \n",
            "  inflating: train/7/00007_00042_00003.png  \n",
            "  inflating: train/7/00007_00042_00004.png  \n",
            "  inflating: train/7/00007_00042_00005.png  \n",
            "  inflating: train/7/00007_00042_00006.png  \n",
            "  inflating: train/7/00007_00042_00007.png  \n",
            "  inflating: train/7/00007_00042_00008.png  \n",
            "  inflating: train/7/00007_00042_00009.png  \n",
            "  inflating: train/7/00007_00042_00010.png  \n",
            "  inflating: train/7/00007_00042_00011.png  \n",
            "  inflating: train/7/00007_00042_00012.png  \n",
            "  inflating: train/7/00007_00042_00013.png  \n",
            "  inflating: train/7/00007_00042_00014.png  \n",
            "  inflating: train/7/00007_00042_00015.png  \n",
            "  inflating: train/7/00007_00042_00016.png  \n",
            "  inflating: train/7/00007_00042_00017.png  \n",
            "  inflating: train/7/00007_00042_00018.png  \n",
            "  inflating: train/7/00007_00042_00019.png  \n",
            "  inflating: train/7/00007_00042_00020.png  \n",
            "  inflating: train/7/00007_00042_00021.png  \n",
            "  inflating: train/7/00007_00042_00022.png  \n",
            "  inflating: train/7/00007_00042_00023.png  \n",
            "  inflating: train/7/00007_00042_00024.png  \n",
            "  inflating: train/7/00007_00042_00025.png  \n",
            "  inflating: train/7/00007_00042_00026.png  \n",
            "  inflating: train/7/00007_00042_00027.png  \n",
            "  inflating: train/7/00007_00042_00028.png  \n",
            "  inflating: train/7/00007_00042_00029.png  \n",
            "  inflating: train/7/00007_00043_00000.png  \n",
            "  inflating: train/7/00007_00043_00001.png  \n",
            "  inflating: train/7/00007_00043_00002.png  \n",
            "  inflating: train/7/00007_00043_00003.png  \n",
            "  inflating: train/7/00007_00043_00004.png  \n",
            "  inflating: train/7/00007_00043_00005.png  \n",
            "  inflating: train/7/00007_00043_00006.png  \n",
            "  inflating: train/7/00007_00043_00007.png  \n",
            "  inflating: train/7/00007_00043_00008.png  \n",
            "  inflating: train/7/00007_00043_00009.png  \n",
            "  inflating: train/7/00007_00043_00010.png  \n",
            "  inflating: train/7/00007_00043_00011.png  \n",
            "  inflating: train/7/00007_00043_00012.png  \n",
            "  inflating: train/7/00007_00043_00013.png  \n",
            "  inflating: train/7/00007_00043_00014.png  \n",
            "  inflating: train/7/00007_00043_00015.png  \n",
            "  inflating: train/7/00007_00043_00016.png  \n",
            "  inflating: train/7/00007_00043_00017.png  \n",
            "  inflating: train/7/00007_00043_00018.png  \n",
            "  inflating: train/7/00007_00043_00019.png  \n",
            "  inflating: train/7/00007_00043_00020.png  \n",
            "  inflating: train/7/00007_00043_00021.png  \n",
            "  inflating: train/7/00007_00043_00022.png  \n",
            "  inflating: train/7/00007_00043_00023.png  \n",
            "  inflating: train/7/00007_00043_00024.png  \n",
            "  inflating: train/7/00007_00043_00025.png  \n",
            "  inflating: train/7/00007_00043_00026.png  \n",
            "  inflating: train/7/00007_00043_00027.png  \n",
            "  inflating: train/7/00007_00043_00028.png  \n",
            "  inflating: train/7/00007_00043_00029.png  \n",
            "  inflating: train/7/00007_00044_00000.png  \n",
            "  inflating: train/7/00007_00044_00001.png  \n",
            "  inflating: train/7/00007_00044_00002.png  \n",
            "  inflating: train/7/00007_00044_00003.png  \n",
            "  inflating: train/7/00007_00044_00004.png  \n",
            "  inflating: train/7/00007_00044_00005.png  \n",
            "  inflating: train/7/00007_00044_00006.png  \n",
            "  inflating: train/7/00007_00044_00007.png  \n",
            "  inflating: train/7/00007_00044_00008.png  \n",
            "  inflating: train/7/00007_00044_00009.png  \n",
            "  inflating: train/7/00007_00044_00010.png  \n",
            "  inflating: train/7/00007_00044_00011.png  \n",
            "  inflating: train/7/00007_00044_00012.png  \n",
            "  inflating: train/7/00007_00044_00013.png  \n",
            "  inflating: train/7/00007_00044_00014.png  \n",
            "  inflating: train/7/00007_00044_00015.png  \n",
            "  inflating: train/7/00007_00044_00016.png  \n",
            "  inflating: train/7/00007_00044_00017.png  \n",
            "  inflating: train/7/00007_00044_00018.png  \n",
            "  inflating: train/7/00007_00044_00019.png  \n",
            "  inflating: train/7/00007_00044_00020.png  \n",
            "  inflating: train/7/00007_00044_00021.png  \n",
            "  inflating: train/7/00007_00044_00022.png  \n",
            "  inflating: train/7/00007_00044_00023.png  \n",
            "  inflating: train/7/00007_00044_00024.png  \n",
            "  inflating: train/7/00007_00044_00025.png  \n",
            "  inflating: train/7/00007_00044_00026.png  \n",
            "  inflating: train/7/00007_00044_00027.png  \n",
            "  inflating: train/7/00007_00044_00028.png  \n",
            "  inflating: train/7/00007_00044_00029.png  \n",
            "  inflating: train/7/00007_00045_00000.png  \n",
            "  inflating: train/7/00007_00045_00001.png  \n",
            "  inflating: train/7/00007_00045_00002.png  \n",
            "  inflating: train/7/00007_00045_00003.png  \n",
            "  inflating: train/7/00007_00045_00004.png  \n",
            "  inflating: train/7/00007_00045_00005.png  \n",
            "  inflating: train/7/00007_00045_00006.png  \n",
            "  inflating: train/7/00007_00045_00007.png  \n",
            "  inflating: train/7/00007_00045_00008.png  \n",
            "  inflating: train/7/00007_00045_00009.png  \n",
            "  inflating: train/7/00007_00045_00010.png  \n",
            "  inflating: train/7/00007_00045_00011.png  \n",
            "  inflating: train/7/00007_00045_00012.png  \n",
            "  inflating: train/7/00007_00045_00013.png  \n",
            "  inflating: train/7/00007_00045_00014.png  \n",
            "  inflating: train/7/00007_00045_00015.png  \n",
            "  inflating: train/7/00007_00045_00016.png  \n",
            "  inflating: train/7/00007_00045_00017.png  \n",
            "  inflating: train/7/00007_00045_00018.png  \n",
            "  inflating: train/7/00007_00045_00019.png  \n",
            "  inflating: train/7/00007_00045_00020.png  \n",
            "  inflating: train/7/00007_00045_00021.png  \n",
            "  inflating: train/7/00007_00045_00022.png  \n",
            "  inflating: train/7/00007_00045_00023.png  \n",
            "  inflating: train/7/00007_00045_00024.png  \n",
            "  inflating: train/7/00007_00045_00025.png  \n",
            "  inflating: train/7/00007_00045_00026.png  \n",
            "  inflating: train/7/00007_00045_00027.png  \n",
            "  inflating: train/7/00007_00045_00028.png  \n",
            "  inflating: train/7/00007_00045_00029.png  \n",
            "  inflating: train/7/00007_00046_00000.png  \n",
            "  inflating: train/7/00007_00046_00001.png  \n",
            "  inflating: train/7/00007_00046_00002.png  \n",
            "  inflating: train/7/00007_00046_00003.png  \n",
            "  inflating: train/7/00007_00046_00004.png  \n",
            "  inflating: train/7/00007_00046_00005.png  \n",
            "  inflating: train/7/00007_00046_00006.png  \n",
            "  inflating: train/7/00007_00046_00007.png  \n",
            "  inflating: train/7/00007_00046_00008.png  \n",
            "  inflating: train/7/00007_00046_00009.png  \n",
            "  inflating: train/7/00007_00046_00010.png  \n",
            "  inflating: train/7/00007_00046_00011.png  \n",
            "  inflating: train/7/00007_00046_00012.png  \n",
            "  inflating: train/7/00007_00046_00013.png  \n",
            "  inflating: train/7/00007_00046_00014.png  \n",
            "  inflating: train/7/00007_00046_00015.png  \n",
            "  inflating: train/7/00007_00046_00016.png  \n",
            "  inflating: train/7/00007_00046_00017.png  \n",
            "  inflating: train/7/00007_00046_00018.png  \n",
            "  inflating: train/7/00007_00046_00019.png  \n",
            "  inflating: train/7/00007_00046_00020.png  \n",
            "  inflating: train/7/00007_00046_00021.png  \n",
            "  inflating: train/7/00007_00046_00022.png  \n",
            "  inflating: train/7/00007_00046_00023.png  \n",
            "  inflating: train/7/00007_00046_00024.png  \n",
            "  inflating: train/7/00007_00046_00025.png  \n",
            "  inflating: train/7/00007_00046_00026.png  \n",
            "  inflating: train/7/00007_00046_00027.png  \n",
            "  inflating: train/7/00007_00046_00028.png  \n",
            "  inflating: train/7/00007_00046_00029.png  \n",
            "  inflating: train/7/00007_00047_00000.png  \n",
            "  inflating: train/7/00007_00047_00001.png  \n",
            "  inflating: train/7/00007_00047_00002.png  \n",
            "  inflating: train/7/00007_00047_00003.png  \n",
            "  inflating: train/7/00007_00047_00004.png  \n",
            "  inflating: train/7/00007_00047_00005.png  \n",
            "  inflating: train/7/00007_00047_00006.png  \n",
            "  inflating: train/7/00007_00047_00007.png  \n",
            "  inflating: train/7/00007_00047_00008.png  \n",
            "  inflating: train/7/00007_00047_00009.png  \n",
            "  inflating: train/7/00007_00047_00010.png  \n",
            "  inflating: train/7/00007_00047_00011.png  \n",
            "  inflating: train/7/00007_00047_00012.png  \n",
            "  inflating: train/7/00007_00047_00013.png  \n",
            "  inflating: train/7/00007_00047_00014.png  \n",
            "  inflating: train/7/00007_00047_00015.png  \n",
            "  inflating: train/7/00007_00047_00016.png  \n",
            "  inflating: train/7/00007_00047_00017.png  \n",
            "  inflating: train/7/00007_00047_00018.png  \n",
            "  inflating: train/7/00007_00047_00019.png  \n",
            "  inflating: train/7/00007_00047_00020.png  \n",
            "  inflating: train/7/00007_00047_00021.png  \n",
            "  inflating: train/7/00007_00047_00022.png  \n",
            "  inflating: train/7/00007_00047_00023.png  \n",
            "  inflating: train/7/00007_00047_00024.png  \n",
            "  inflating: train/7/00007_00047_00025.png  \n",
            "  inflating: train/7/00007_00047_00026.png  \n",
            "  inflating: train/7/00007_00047_00027.png  \n",
            "  inflating: train/7/00007_00047_00028.png  \n",
            "  inflating: train/7/00007_00047_00029.png  \n",
            "  inflating: train/8/00008_00000_00000.png  \n",
            "  inflating: train/8/00008_00000_00001.png  \n",
            "  inflating: train/8/00008_00000_00002.png  \n",
            "  inflating: train/8/00008_00000_00003.png  \n",
            "  inflating: train/8/00008_00000_00004.png  \n",
            "  inflating: train/8/00008_00000_00005.png  \n",
            "  inflating: train/8/00008_00000_00006.png  \n",
            "  inflating: train/8/00008_00000_00007.png  \n",
            "  inflating: train/8/00008_00000_00008.png  \n",
            "  inflating: train/8/00008_00000_00009.png  \n",
            "  inflating: train/8/00008_00000_00010.png  \n",
            "  inflating: train/8/00008_00000_00011.png  \n",
            "  inflating: train/8/00008_00000_00012.png  \n",
            "  inflating: train/8/00008_00000_00013.png  \n",
            "  inflating: train/8/00008_00000_00014.png  \n",
            "  inflating: train/8/00008_00000_00015.png  \n",
            "  inflating: train/8/00008_00000_00016.png  \n",
            "  inflating: train/8/00008_00000_00017.png  \n",
            "  inflating: train/8/00008_00000_00018.png  \n",
            "  inflating: train/8/00008_00000_00019.png  \n",
            "  inflating: train/8/00008_00000_00020.png  \n",
            "  inflating: train/8/00008_00000_00021.png  \n",
            "  inflating: train/8/00008_00000_00022.png  \n",
            "  inflating: train/8/00008_00000_00023.png  \n",
            "  inflating: train/8/00008_00000_00024.png  \n",
            "  inflating: train/8/00008_00000_00025.png  \n",
            "  inflating: train/8/00008_00000_00026.png  \n",
            "  inflating: train/8/00008_00000_00027.png  \n",
            "  inflating: train/8/00008_00000_00028.png  \n",
            "  inflating: train/8/00008_00000_00029.png  \n",
            "  inflating: train/8/00008_00001_00000.png  \n",
            "  inflating: train/8/00008_00001_00001.png  \n",
            "  inflating: train/8/00008_00001_00002.png  \n",
            "  inflating: train/8/00008_00001_00003.png  \n",
            "  inflating: train/8/00008_00001_00004.png  \n",
            "  inflating: train/8/00008_00001_00005.png  \n",
            "  inflating: train/8/00008_00001_00006.png  \n",
            "  inflating: train/8/00008_00001_00007.png  \n",
            "  inflating: train/8/00008_00001_00008.png  \n",
            "  inflating: train/8/00008_00001_00009.png  \n",
            "  inflating: train/8/00008_00001_00010.png  \n",
            "  inflating: train/8/00008_00001_00011.png  \n",
            "  inflating: train/8/00008_00001_00012.png  \n",
            "  inflating: train/8/00008_00001_00013.png  \n",
            "  inflating: train/8/00008_00001_00014.png  \n",
            "  inflating: train/8/00008_00001_00015.png  \n",
            "  inflating: train/8/00008_00001_00016.png  \n",
            "  inflating: train/8/00008_00001_00017.png  \n",
            "  inflating: train/8/00008_00001_00018.png  \n",
            "  inflating: train/8/00008_00001_00019.png  \n",
            "  inflating: train/8/00008_00001_00020.png  \n",
            "  inflating: train/8/00008_00001_00021.png  \n",
            "  inflating: train/8/00008_00001_00022.png  \n",
            "  inflating: train/8/00008_00001_00023.png  \n",
            "  inflating: train/8/00008_00001_00024.png  \n",
            "  inflating: train/8/00008_00001_00025.png  \n",
            "  inflating: train/8/00008_00001_00026.png  \n",
            "  inflating: train/8/00008_00001_00027.png  \n",
            "  inflating: train/8/00008_00001_00028.png  \n",
            "  inflating: train/8/00008_00001_00029.png  \n",
            "  inflating: train/8/00008_00002_00000.png  \n",
            "  inflating: train/8/00008_00002_00001.png  \n",
            "  inflating: train/8/00008_00002_00002.png  \n",
            "  inflating: train/8/00008_00002_00003.png  \n",
            "  inflating: train/8/00008_00002_00004.png  \n",
            "  inflating: train/8/00008_00002_00005.png  \n",
            "  inflating: train/8/00008_00002_00006.png  \n",
            "  inflating: train/8/00008_00002_00007.png  \n",
            "  inflating: train/8/00008_00002_00008.png  \n",
            "  inflating: train/8/00008_00002_00009.png  \n",
            "  inflating: train/8/00008_00002_00010.png  \n",
            "  inflating: train/8/00008_00002_00011.png  \n",
            "  inflating: train/8/00008_00002_00012.png  \n",
            "  inflating: train/8/00008_00002_00013.png  \n",
            "  inflating: train/8/00008_00002_00014.png  \n",
            "  inflating: train/8/00008_00002_00015.png  \n",
            "  inflating: train/8/00008_00002_00016.png  \n",
            "  inflating: train/8/00008_00002_00017.png  \n",
            "  inflating: train/8/00008_00002_00018.png  \n",
            "  inflating: train/8/00008_00002_00019.png  \n",
            "  inflating: train/8/00008_00002_00020.png  \n",
            "  inflating: train/8/00008_00002_00021.png  \n",
            "  inflating: train/8/00008_00002_00022.png  \n",
            "  inflating: train/8/00008_00002_00023.png  \n",
            "  inflating: train/8/00008_00002_00024.png  \n",
            "  inflating: train/8/00008_00002_00025.png  \n",
            "  inflating: train/8/00008_00002_00026.png  \n",
            "  inflating: train/8/00008_00002_00027.png  \n",
            "  inflating: train/8/00008_00002_00028.png  \n",
            "  inflating: train/8/00008_00002_00029.png  \n",
            "  inflating: train/8/00008_00003_00000.png  \n",
            "  inflating: train/8/00008_00003_00001.png  \n",
            "  inflating: train/8/00008_00003_00002.png  \n",
            "  inflating: train/8/00008_00003_00003.png  \n",
            "  inflating: train/8/00008_00003_00004.png  \n",
            "  inflating: train/8/00008_00003_00005.png  \n",
            "  inflating: train/8/00008_00003_00006.png  \n",
            "  inflating: train/8/00008_00003_00007.png  \n",
            "  inflating: train/8/00008_00003_00008.png  \n",
            "  inflating: train/8/00008_00003_00009.png  \n",
            "  inflating: train/8/00008_00003_00010.png  \n",
            "  inflating: train/8/00008_00003_00011.png  \n",
            "  inflating: train/8/00008_00003_00012.png  \n",
            "  inflating: train/8/00008_00003_00013.png  \n",
            "  inflating: train/8/00008_00003_00014.png  \n",
            "  inflating: train/8/00008_00003_00015.png  \n",
            "  inflating: train/8/00008_00003_00016.png  \n",
            "  inflating: train/8/00008_00003_00017.png  \n",
            "  inflating: train/8/00008_00003_00018.png  \n",
            "  inflating: train/8/00008_00003_00019.png  \n",
            "  inflating: train/8/00008_00003_00020.png  \n",
            "  inflating: train/8/00008_00003_00021.png  \n",
            "  inflating: train/8/00008_00003_00022.png  \n",
            "  inflating: train/8/00008_00003_00023.png  \n",
            "  inflating: train/8/00008_00003_00024.png  \n",
            "  inflating: train/8/00008_00003_00025.png  \n",
            "  inflating: train/8/00008_00003_00026.png  \n",
            "  inflating: train/8/00008_00003_00027.png  \n",
            "  inflating: train/8/00008_00003_00028.png  \n",
            "  inflating: train/8/00008_00003_00029.png  \n",
            "  inflating: train/8/00008_00004_00000.png  \n",
            "  inflating: train/8/00008_00004_00001.png  \n",
            "  inflating: train/8/00008_00004_00002.png  \n",
            "  inflating: train/8/00008_00004_00003.png  \n",
            "  inflating: train/8/00008_00004_00004.png  \n",
            "  inflating: train/8/00008_00004_00005.png  \n",
            "  inflating: train/8/00008_00004_00006.png  \n",
            "  inflating: train/8/00008_00004_00007.png  \n",
            "  inflating: train/8/00008_00004_00008.png  \n",
            "  inflating: train/8/00008_00004_00009.png  \n",
            "  inflating: train/8/00008_00004_00010.png  \n",
            "  inflating: train/8/00008_00004_00011.png  \n",
            "  inflating: train/8/00008_00004_00012.png  \n",
            "  inflating: train/8/00008_00004_00013.png  \n",
            "  inflating: train/8/00008_00004_00014.png  \n",
            "  inflating: train/8/00008_00004_00015.png  \n",
            "  inflating: train/8/00008_00004_00016.png  \n",
            "  inflating: train/8/00008_00004_00017.png  \n",
            "  inflating: train/8/00008_00004_00018.png  \n",
            "  inflating: train/8/00008_00004_00019.png  \n",
            "  inflating: train/8/00008_00004_00020.png  \n",
            "  inflating: train/8/00008_00004_00021.png  \n",
            "  inflating: train/8/00008_00004_00022.png  \n",
            "  inflating: train/8/00008_00004_00023.png  \n",
            "  inflating: train/8/00008_00004_00024.png  \n",
            "  inflating: train/8/00008_00004_00025.png  \n",
            "  inflating: train/8/00008_00004_00026.png  \n",
            "  inflating: train/8/00008_00004_00027.png  \n",
            "  inflating: train/8/00008_00004_00028.png  \n",
            "  inflating: train/8/00008_00004_00029.png  \n",
            "  inflating: train/8/00008_00005_00000.png  \n",
            "  inflating: train/8/00008_00005_00001.png  \n",
            "  inflating: train/8/00008_00005_00002.png  \n",
            "  inflating: train/8/00008_00005_00003.png  \n",
            "  inflating: train/8/00008_00005_00004.png  \n",
            "  inflating: train/8/00008_00005_00005.png  \n",
            "  inflating: train/8/00008_00005_00006.png  \n",
            "  inflating: train/8/00008_00005_00007.png  \n",
            "  inflating: train/8/00008_00005_00008.png  \n",
            "  inflating: train/8/00008_00005_00009.png  \n",
            "  inflating: train/8/00008_00005_00010.png  \n",
            "  inflating: train/8/00008_00005_00011.png  \n",
            "  inflating: train/8/00008_00005_00012.png  \n",
            "  inflating: train/8/00008_00005_00013.png  \n",
            "  inflating: train/8/00008_00005_00014.png  \n",
            "  inflating: train/8/00008_00005_00015.png  \n",
            "  inflating: train/8/00008_00005_00016.png  \n",
            "  inflating: train/8/00008_00005_00017.png  \n",
            "  inflating: train/8/00008_00005_00018.png  \n",
            "  inflating: train/8/00008_00005_00019.png  \n",
            "  inflating: train/8/00008_00005_00020.png  \n",
            "  inflating: train/8/00008_00005_00021.png  \n",
            "  inflating: train/8/00008_00005_00022.png  \n",
            "  inflating: train/8/00008_00005_00023.png  \n",
            "  inflating: train/8/00008_00005_00024.png  \n",
            "  inflating: train/8/00008_00005_00025.png  \n",
            "  inflating: train/8/00008_00005_00026.png  \n",
            "  inflating: train/8/00008_00005_00027.png  \n",
            "  inflating: train/8/00008_00005_00028.png  \n",
            "  inflating: train/8/00008_00005_00029.png  \n",
            "  inflating: train/8/00008_00006_00000.png  \n",
            "  inflating: train/8/00008_00006_00001.png  \n",
            "  inflating: train/8/00008_00006_00002.png  \n",
            "  inflating: train/8/00008_00006_00003.png  \n",
            "  inflating: train/8/00008_00006_00004.png  \n",
            "  inflating: train/8/00008_00006_00005.png  \n",
            "  inflating: train/8/00008_00006_00006.png  \n",
            "  inflating: train/8/00008_00006_00007.png  \n",
            "  inflating: train/8/00008_00006_00008.png  \n",
            "  inflating: train/8/00008_00006_00009.png  \n",
            "  inflating: train/8/00008_00006_00010.png  \n",
            "  inflating: train/8/00008_00006_00011.png  \n",
            "  inflating: train/8/00008_00006_00012.png  \n",
            "  inflating: train/8/00008_00006_00013.png  \n",
            "  inflating: train/8/00008_00006_00014.png  \n",
            "  inflating: train/8/00008_00006_00015.png  \n",
            "  inflating: train/8/00008_00006_00016.png  \n",
            "  inflating: train/8/00008_00006_00017.png  \n",
            "  inflating: train/8/00008_00006_00018.png  \n",
            "  inflating: train/8/00008_00006_00019.png  \n",
            "  inflating: train/8/00008_00006_00020.png  \n",
            "  inflating: train/8/00008_00006_00021.png  \n",
            "  inflating: train/8/00008_00006_00022.png  \n",
            "  inflating: train/8/00008_00006_00023.png  \n",
            "  inflating: train/8/00008_00006_00024.png  \n",
            "  inflating: train/8/00008_00006_00025.png  \n",
            "  inflating: train/8/00008_00006_00026.png  \n",
            "  inflating: train/8/00008_00006_00027.png  \n",
            "  inflating: train/8/00008_00006_00028.png  \n",
            "  inflating: train/8/00008_00006_00029.png  \n",
            "  inflating: train/8/00008_00007_00000.png  \n",
            "  inflating: train/8/00008_00007_00001.png  \n",
            "  inflating: train/8/00008_00007_00002.png  \n",
            "  inflating: train/8/00008_00007_00003.png  \n",
            "  inflating: train/8/00008_00007_00004.png  \n",
            "  inflating: train/8/00008_00007_00005.png  \n",
            "  inflating: train/8/00008_00007_00006.png  \n",
            "  inflating: train/8/00008_00007_00007.png  \n",
            "  inflating: train/8/00008_00007_00008.png  \n",
            "  inflating: train/8/00008_00007_00009.png  \n",
            "  inflating: train/8/00008_00007_00010.png  \n",
            "  inflating: train/8/00008_00007_00011.png  \n",
            "  inflating: train/8/00008_00007_00012.png  \n",
            "  inflating: train/8/00008_00007_00013.png  \n",
            "  inflating: train/8/00008_00007_00014.png  \n",
            "  inflating: train/8/00008_00007_00015.png  \n",
            "  inflating: train/8/00008_00007_00016.png  \n",
            "  inflating: train/8/00008_00007_00017.png  \n",
            "  inflating: train/8/00008_00007_00018.png  \n",
            "  inflating: train/8/00008_00007_00019.png  \n",
            "  inflating: train/8/00008_00007_00020.png  \n",
            "  inflating: train/8/00008_00007_00021.png  \n",
            "  inflating: train/8/00008_00007_00022.png  \n",
            "  inflating: train/8/00008_00007_00023.png  \n",
            "  inflating: train/8/00008_00007_00024.png  \n",
            "  inflating: train/8/00008_00007_00025.png  \n",
            "  inflating: train/8/00008_00007_00026.png  \n",
            "  inflating: train/8/00008_00007_00027.png  \n",
            "  inflating: train/8/00008_00007_00028.png  \n",
            "  inflating: train/8/00008_00007_00029.png  \n",
            "  inflating: train/8/00008_00008_00000.png  \n",
            "  inflating: train/8/00008_00008_00001.png  \n",
            "  inflating: train/8/00008_00008_00002.png  \n",
            "  inflating: train/8/00008_00008_00003.png  \n",
            "  inflating: train/8/00008_00008_00004.png  \n",
            "  inflating: train/8/00008_00008_00005.png  \n",
            "  inflating: train/8/00008_00008_00006.png  \n",
            "  inflating: train/8/00008_00008_00007.png  \n",
            "  inflating: train/8/00008_00008_00008.png  \n",
            "  inflating: train/8/00008_00008_00009.png  \n",
            "  inflating: train/8/00008_00008_00010.png  \n",
            "  inflating: train/8/00008_00008_00011.png  \n",
            "  inflating: train/8/00008_00008_00012.png  \n",
            "  inflating: train/8/00008_00008_00013.png  \n",
            "  inflating: train/8/00008_00008_00014.png  \n",
            "  inflating: train/8/00008_00008_00015.png  \n",
            "  inflating: train/8/00008_00008_00016.png  \n",
            "  inflating: train/8/00008_00008_00017.png  \n",
            "  inflating: train/8/00008_00008_00018.png  \n",
            "  inflating: train/8/00008_00008_00019.png  \n",
            "  inflating: train/8/00008_00008_00020.png  \n",
            "  inflating: train/8/00008_00008_00021.png  \n",
            "  inflating: train/8/00008_00008_00022.png  \n",
            "  inflating: train/8/00008_00008_00023.png  \n",
            "  inflating: train/8/00008_00008_00024.png  \n",
            "  inflating: train/8/00008_00008_00025.png  \n",
            "  inflating: train/8/00008_00008_00026.png  \n",
            "  inflating: train/8/00008_00008_00027.png  \n",
            "  inflating: train/8/00008_00008_00028.png  \n",
            "  inflating: train/8/00008_00008_00029.png  \n",
            "  inflating: train/8/00008_00009_00000.png  \n",
            "  inflating: train/8/00008_00009_00001.png  \n",
            "  inflating: train/8/00008_00009_00002.png  \n",
            "  inflating: train/8/00008_00009_00003.png  \n",
            "  inflating: train/8/00008_00009_00004.png  \n",
            "  inflating: train/8/00008_00009_00005.png  \n",
            "  inflating: train/8/00008_00009_00006.png  \n",
            "  inflating: train/8/00008_00009_00007.png  \n",
            "  inflating: train/8/00008_00009_00008.png  \n",
            "  inflating: train/8/00008_00009_00009.png  \n",
            "  inflating: train/8/00008_00009_00010.png  \n",
            "  inflating: train/8/00008_00009_00011.png  \n",
            "  inflating: train/8/00008_00009_00012.png  \n",
            "  inflating: train/8/00008_00009_00013.png  \n",
            "  inflating: train/8/00008_00009_00014.png  \n",
            "  inflating: train/8/00008_00009_00015.png  \n",
            "  inflating: train/8/00008_00009_00016.png  \n",
            "  inflating: train/8/00008_00009_00017.png  \n",
            "  inflating: train/8/00008_00009_00018.png  \n",
            "  inflating: train/8/00008_00009_00019.png  \n",
            "  inflating: train/8/00008_00009_00020.png  \n",
            "  inflating: train/8/00008_00009_00021.png  \n",
            "  inflating: train/8/00008_00009_00022.png  \n",
            "  inflating: train/8/00008_00009_00023.png  \n",
            "  inflating: train/8/00008_00009_00024.png  \n",
            "  inflating: train/8/00008_00009_00025.png  \n",
            "  inflating: train/8/00008_00009_00026.png  \n",
            "  inflating: train/8/00008_00009_00027.png  \n",
            "  inflating: train/8/00008_00009_00028.png  \n",
            "  inflating: train/8/00008_00009_00029.png  \n",
            "  inflating: train/8/00008_00010_00000.png  \n",
            "  inflating: train/8/00008_00010_00001.png  \n",
            "  inflating: train/8/00008_00010_00002.png  \n",
            "  inflating: train/8/00008_00010_00003.png  \n",
            "  inflating: train/8/00008_00010_00004.png  \n",
            "  inflating: train/8/00008_00010_00005.png  \n",
            "  inflating: train/8/00008_00010_00006.png  \n",
            "  inflating: train/8/00008_00010_00007.png  \n",
            "  inflating: train/8/00008_00010_00008.png  \n",
            "  inflating: train/8/00008_00010_00009.png  \n",
            "  inflating: train/8/00008_00010_00010.png  \n",
            "  inflating: train/8/00008_00010_00011.png  \n",
            "  inflating: train/8/00008_00010_00012.png  \n",
            "  inflating: train/8/00008_00010_00013.png  \n",
            "  inflating: train/8/00008_00010_00014.png  \n",
            "  inflating: train/8/00008_00010_00015.png  \n",
            "  inflating: train/8/00008_00010_00016.png  \n",
            "  inflating: train/8/00008_00010_00017.png  \n",
            "  inflating: train/8/00008_00010_00018.png  \n",
            "  inflating: train/8/00008_00010_00019.png  \n",
            "  inflating: train/8/00008_00010_00020.png  \n",
            "  inflating: train/8/00008_00010_00021.png  \n",
            "  inflating: train/8/00008_00010_00022.png  \n",
            "  inflating: train/8/00008_00010_00023.png  \n",
            "  inflating: train/8/00008_00010_00024.png  \n",
            "  inflating: train/8/00008_00010_00025.png  \n",
            "  inflating: train/8/00008_00010_00026.png  \n",
            "  inflating: train/8/00008_00010_00027.png  \n",
            "  inflating: train/8/00008_00010_00028.png  \n",
            "  inflating: train/8/00008_00010_00029.png  \n",
            "  inflating: train/8/00008_00011_00000.png  \n",
            "  inflating: train/8/00008_00011_00001.png  \n",
            "  inflating: train/8/00008_00011_00002.png  \n",
            "  inflating: train/8/00008_00011_00003.png  \n",
            "  inflating: train/8/00008_00011_00004.png  \n",
            "  inflating: train/8/00008_00011_00005.png  \n",
            "  inflating: train/8/00008_00011_00006.png  \n",
            "  inflating: train/8/00008_00011_00007.png  \n",
            "  inflating: train/8/00008_00011_00008.png  \n",
            "  inflating: train/8/00008_00011_00009.png  \n",
            "  inflating: train/8/00008_00011_00010.png  \n",
            "  inflating: train/8/00008_00011_00011.png  \n",
            "  inflating: train/8/00008_00011_00012.png  \n",
            "  inflating: train/8/00008_00011_00013.png  \n",
            "  inflating: train/8/00008_00011_00014.png  \n",
            "  inflating: train/8/00008_00011_00015.png  \n",
            "  inflating: train/8/00008_00011_00016.png  \n",
            "  inflating: train/8/00008_00011_00017.png  \n",
            "  inflating: train/8/00008_00011_00018.png  \n",
            "  inflating: train/8/00008_00011_00019.png  \n",
            "  inflating: train/8/00008_00011_00020.png  \n",
            "  inflating: train/8/00008_00011_00021.png  \n",
            "  inflating: train/8/00008_00011_00022.png  \n",
            "  inflating: train/8/00008_00011_00023.png  \n",
            "  inflating: train/8/00008_00011_00024.png  \n",
            "  inflating: train/8/00008_00011_00025.png  \n",
            "  inflating: train/8/00008_00011_00026.png  \n",
            "  inflating: train/8/00008_00011_00027.png  \n",
            "  inflating: train/8/00008_00011_00028.png  \n",
            "  inflating: train/8/00008_00011_00029.png  \n",
            "  inflating: train/8/00008_00012_00000.png  \n",
            "  inflating: train/8/00008_00012_00001.png  \n",
            "  inflating: train/8/00008_00012_00002.png  \n",
            "  inflating: train/8/00008_00012_00003.png  \n",
            "  inflating: train/8/00008_00012_00004.png  \n",
            "  inflating: train/8/00008_00012_00005.png  \n",
            "  inflating: train/8/00008_00012_00006.png  \n",
            "  inflating: train/8/00008_00012_00007.png  \n",
            "  inflating: train/8/00008_00012_00008.png  \n",
            "  inflating: train/8/00008_00012_00009.png  \n",
            "  inflating: train/8/00008_00012_00010.png  \n",
            "  inflating: train/8/00008_00012_00011.png  \n",
            "  inflating: train/8/00008_00012_00012.png  \n",
            "  inflating: train/8/00008_00012_00013.png  \n",
            "  inflating: train/8/00008_00012_00014.png  \n",
            "  inflating: train/8/00008_00012_00015.png  \n",
            "  inflating: train/8/00008_00012_00016.png  \n",
            "  inflating: train/8/00008_00012_00017.png  \n",
            "  inflating: train/8/00008_00012_00018.png  \n",
            "  inflating: train/8/00008_00012_00019.png  \n",
            "  inflating: train/8/00008_00012_00020.png  \n",
            "  inflating: train/8/00008_00012_00021.png  \n",
            "  inflating: train/8/00008_00012_00022.png  \n",
            "  inflating: train/8/00008_00012_00023.png  \n",
            "  inflating: train/8/00008_00012_00024.png  \n",
            "  inflating: train/8/00008_00012_00025.png  \n",
            "  inflating: train/8/00008_00012_00026.png  \n",
            "  inflating: train/8/00008_00012_00027.png  \n",
            "  inflating: train/8/00008_00012_00028.png  \n",
            "  inflating: train/8/00008_00012_00029.png  \n",
            "  inflating: train/8/00008_00013_00000.png  \n",
            "  inflating: train/8/00008_00013_00001.png  \n",
            "  inflating: train/8/00008_00013_00002.png  \n",
            "  inflating: train/8/00008_00013_00003.png  \n",
            "  inflating: train/8/00008_00013_00004.png  \n",
            "  inflating: train/8/00008_00013_00005.png  \n",
            "  inflating: train/8/00008_00013_00006.png  \n",
            "  inflating: train/8/00008_00013_00007.png  \n",
            "  inflating: train/8/00008_00013_00008.png  \n",
            "  inflating: train/8/00008_00013_00009.png  \n",
            "  inflating: train/8/00008_00013_00010.png  \n",
            "  inflating: train/8/00008_00013_00011.png  \n",
            "  inflating: train/8/00008_00013_00012.png  \n",
            "  inflating: train/8/00008_00013_00013.png  \n",
            "  inflating: train/8/00008_00013_00014.png  \n",
            "  inflating: train/8/00008_00013_00015.png  \n",
            "  inflating: train/8/00008_00013_00016.png  \n",
            "  inflating: train/8/00008_00013_00017.png  \n",
            "  inflating: train/8/00008_00013_00018.png  \n",
            "  inflating: train/8/00008_00013_00019.png  \n",
            "  inflating: train/8/00008_00013_00020.png  \n",
            "  inflating: train/8/00008_00013_00021.png  \n",
            "  inflating: train/8/00008_00013_00022.png  \n",
            "  inflating: train/8/00008_00013_00023.png  \n",
            "  inflating: train/8/00008_00013_00024.png  \n",
            "  inflating: train/8/00008_00013_00025.png  \n",
            "  inflating: train/8/00008_00013_00026.png  \n",
            "  inflating: train/8/00008_00013_00027.png  \n",
            "  inflating: train/8/00008_00013_00028.png  \n",
            "  inflating: train/8/00008_00013_00029.png  \n",
            "  inflating: train/8/00008_00014_00000.png  \n",
            "  inflating: train/8/00008_00014_00001.png  \n",
            "  inflating: train/8/00008_00014_00002.png  \n",
            "  inflating: train/8/00008_00014_00003.png  \n",
            "  inflating: train/8/00008_00014_00004.png  \n",
            "  inflating: train/8/00008_00014_00005.png  \n",
            "  inflating: train/8/00008_00014_00006.png  \n",
            "  inflating: train/8/00008_00014_00007.png  \n",
            "  inflating: train/8/00008_00014_00008.png  \n",
            "  inflating: train/8/00008_00014_00009.png  \n",
            "  inflating: train/8/00008_00014_00010.png  \n",
            "  inflating: train/8/00008_00014_00011.png  \n",
            "  inflating: train/8/00008_00014_00012.png  \n",
            "  inflating: train/8/00008_00014_00013.png  \n",
            "  inflating: train/8/00008_00014_00014.png  \n",
            "  inflating: train/8/00008_00014_00015.png  \n",
            "  inflating: train/8/00008_00014_00016.png  \n",
            "  inflating: train/8/00008_00014_00017.png  \n",
            "  inflating: train/8/00008_00014_00018.png  \n",
            "  inflating: train/8/00008_00014_00019.png  \n",
            "  inflating: train/8/00008_00014_00020.png  \n",
            "  inflating: train/8/00008_00014_00021.png  \n",
            "  inflating: train/8/00008_00014_00022.png  \n",
            "  inflating: train/8/00008_00014_00023.png  \n",
            "  inflating: train/8/00008_00014_00024.png  \n",
            "  inflating: train/8/00008_00014_00025.png  \n",
            "  inflating: train/8/00008_00014_00026.png  \n",
            "  inflating: train/8/00008_00014_00027.png  \n",
            "  inflating: train/8/00008_00014_00028.png  \n",
            "  inflating: train/8/00008_00014_00029.png  \n",
            "  inflating: train/8/00008_00015_00000.png  \n",
            "  inflating: train/8/00008_00015_00001.png  \n",
            "  inflating: train/8/00008_00015_00002.png  \n",
            "  inflating: train/8/00008_00015_00003.png  \n",
            "  inflating: train/8/00008_00015_00004.png  \n",
            "  inflating: train/8/00008_00015_00005.png  \n",
            "  inflating: train/8/00008_00015_00006.png  \n",
            "  inflating: train/8/00008_00015_00007.png  \n",
            "  inflating: train/8/00008_00015_00008.png  \n",
            "  inflating: train/8/00008_00015_00009.png  \n",
            "  inflating: train/8/00008_00015_00010.png  \n",
            "  inflating: train/8/00008_00015_00011.png  \n",
            "  inflating: train/8/00008_00015_00012.png  \n",
            "  inflating: train/8/00008_00015_00013.png  \n",
            "  inflating: train/8/00008_00015_00014.png  \n",
            "  inflating: train/8/00008_00015_00015.png  \n",
            "  inflating: train/8/00008_00015_00016.png  \n",
            "  inflating: train/8/00008_00015_00017.png  \n",
            "  inflating: train/8/00008_00015_00018.png  \n",
            "  inflating: train/8/00008_00015_00019.png  \n",
            "  inflating: train/8/00008_00015_00020.png  \n",
            "  inflating: train/8/00008_00015_00021.png  \n",
            "  inflating: train/8/00008_00015_00022.png  \n",
            "  inflating: train/8/00008_00015_00023.png  \n",
            "  inflating: train/8/00008_00015_00024.png  \n",
            "  inflating: train/8/00008_00015_00025.png  \n",
            "  inflating: train/8/00008_00015_00026.png  \n",
            "  inflating: train/8/00008_00015_00027.png  \n",
            "  inflating: train/8/00008_00015_00028.png  \n",
            "  inflating: train/8/00008_00015_00029.png  \n",
            "  inflating: train/8/00008_00016_00000.png  \n",
            "  inflating: train/8/00008_00016_00001.png  \n",
            "  inflating: train/8/00008_00016_00002.png  \n",
            "  inflating: train/8/00008_00016_00003.png  \n",
            "  inflating: train/8/00008_00016_00004.png  \n",
            "  inflating: train/8/00008_00016_00005.png  \n",
            "  inflating: train/8/00008_00016_00006.png  \n",
            "  inflating: train/8/00008_00016_00007.png  \n",
            "  inflating: train/8/00008_00016_00008.png  \n",
            "  inflating: train/8/00008_00016_00009.png  \n",
            "  inflating: train/8/00008_00016_00010.png  \n",
            "  inflating: train/8/00008_00016_00011.png  \n",
            "  inflating: train/8/00008_00016_00012.png  \n",
            "  inflating: train/8/00008_00016_00013.png  \n",
            "  inflating: train/8/00008_00016_00014.png  \n",
            "  inflating: train/8/00008_00016_00015.png  \n",
            "  inflating: train/8/00008_00016_00016.png  \n",
            "  inflating: train/8/00008_00016_00017.png  \n",
            "  inflating: train/8/00008_00016_00018.png  \n",
            "  inflating: train/8/00008_00016_00019.png  \n",
            "  inflating: train/8/00008_00016_00020.png  \n",
            "  inflating: train/8/00008_00016_00021.png  \n",
            "  inflating: train/8/00008_00016_00022.png  \n",
            "  inflating: train/8/00008_00016_00023.png  \n",
            "  inflating: train/8/00008_00016_00024.png  \n",
            "  inflating: train/8/00008_00016_00025.png  \n",
            "  inflating: train/8/00008_00016_00026.png  \n",
            "  inflating: train/8/00008_00016_00027.png  \n",
            "  inflating: train/8/00008_00016_00028.png  \n",
            "  inflating: train/8/00008_00016_00029.png  \n",
            "  inflating: train/8/00008_00017_00000.png  \n",
            "  inflating: train/8/00008_00017_00001.png  \n",
            "  inflating: train/8/00008_00017_00002.png  \n",
            "  inflating: train/8/00008_00017_00003.png  \n",
            "  inflating: train/8/00008_00017_00004.png  \n",
            "  inflating: train/8/00008_00017_00005.png  \n",
            "  inflating: train/8/00008_00017_00006.png  \n",
            "  inflating: train/8/00008_00017_00007.png  \n",
            "  inflating: train/8/00008_00017_00008.png  \n",
            "  inflating: train/8/00008_00017_00009.png  \n",
            "  inflating: train/8/00008_00017_00010.png  \n",
            "  inflating: train/8/00008_00017_00011.png  \n",
            "  inflating: train/8/00008_00017_00012.png  \n",
            "  inflating: train/8/00008_00017_00013.png  \n",
            "  inflating: train/8/00008_00017_00014.png  \n",
            "  inflating: train/8/00008_00017_00015.png  \n",
            "  inflating: train/8/00008_00017_00016.png  \n",
            "  inflating: train/8/00008_00017_00017.png  \n",
            "  inflating: train/8/00008_00017_00018.png  \n",
            "  inflating: train/8/00008_00017_00019.png  \n",
            "  inflating: train/8/00008_00017_00020.png  \n",
            "  inflating: train/8/00008_00017_00021.png  \n",
            "  inflating: train/8/00008_00017_00022.png  \n",
            "  inflating: train/8/00008_00017_00023.png  \n",
            "  inflating: train/8/00008_00017_00024.png  \n",
            "  inflating: train/8/00008_00017_00025.png  \n",
            "  inflating: train/8/00008_00017_00026.png  \n",
            "  inflating: train/8/00008_00017_00027.png  \n",
            "  inflating: train/8/00008_00017_00028.png  \n",
            "  inflating: train/8/00008_00017_00029.png  \n",
            "  inflating: train/8/00008_00018_00000.png  \n",
            "  inflating: train/8/00008_00018_00001.png  \n",
            "  inflating: train/8/00008_00018_00002.png  \n",
            "  inflating: train/8/00008_00018_00003.png  \n",
            "  inflating: train/8/00008_00018_00004.png  \n",
            "  inflating: train/8/00008_00018_00005.png  \n",
            "  inflating: train/8/00008_00018_00006.png  \n",
            "  inflating: train/8/00008_00018_00007.png  \n",
            "  inflating: train/8/00008_00018_00008.png  \n",
            "  inflating: train/8/00008_00018_00009.png  \n",
            "  inflating: train/8/00008_00018_00010.png  \n",
            "  inflating: train/8/00008_00018_00011.png  \n",
            "  inflating: train/8/00008_00018_00012.png  \n",
            "  inflating: train/8/00008_00018_00013.png  \n",
            "  inflating: train/8/00008_00018_00014.png  \n",
            "  inflating: train/8/00008_00018_00015.png  \n",
            "  inflating: train/8/00008_00018_00016.png  \n",
            "  inflating: train/8/00008_00018_00017.png  \n",
            "  inflating: train/8/00008_00018_00018.png  \n",
            "  inflating: train/8/00008_00018_00019.png  \n",
            "  inflating: train/8/00008_00018_00020.png  \n",
            "  inflating: train/8/00008_00018_00021.png  \n",
            "  inflating: train/8/00008_00018_00022.png  \n",
            "  inflating: train/8/00008_00018_00023.png  \n",
            "  inflating: train/8/00008_00018_00024.png  \n",
            "  inflating: train/8/00008_00018_00025.png  \n",
            "  inflating: train/8/00008_00018_00026.png  \n",
            "  inflating: train/8/00008_00018_00027.png  \n",
            "  inflating: train/8/00008_00018_00028.png  \n",
            "  inflating: train/8/00008_00018_00029.png  \n",
            "  inflating: train/8/00008_00019_00000.png  \n",
            "  inflating: train/8/00008_00019_00001.png  \n",
            "  inflating: train/8/00008_00019_00002.png  \n",
            "  inflating: train/8/00008_00019_00003.png  \n",
            "  inflating: train/8/00008_00019_00004.png  \n",
            "  inflating: train/8/00008_00019_00005.png  \n",
            "  inflating: train/8/00008_00019_00006.png  \n",
            "  inflating: train/8/00008_00019_00007.png  \n",
            "  inflating: train/8/00008_00019_00008.png  \n",
            "  inflating: train/8/00008_00019_00009.png  \n",
            "  inflating: train/8/00008_00019_00010.png  \n",
            "  inflating: train/8/00008_00019_00011.png  \n",
            "  inflating: train/8/00008_00019_00012.png  \n",
            "  inflating: train/8/00008_00019_00013.png  \n",
            "  inflating: train/8/00008_00019_00014.png  \n",
            "  inflating: train/8/00008_00019_00015.png  \n",
            "  inflating: train/8/00008_00019_00016.png  \n",
            "  inflating: train/8/00008_00019_00017.png  \n",
            "  inflating: train/8/00008_00019_00018.png  \n",
            "  inflating: train/8/00008_00019_00019.png  \n",
            "  inflating: train/8/00008_00019_00020.png  \n",
            "  inflating: train/8/00008_00019_00021.png  \n",
            "  inflating: train/8/00008_00019_00022.png  \n",
            "  inflating: train/8/00008_00019_00023.png  \n",
            "  inflating: train/8/00008_00019_00024.png  \n",
            "  inflating: train/8/00008_00019_00025.png  \n",
            "  inflating: train/8/00008_00019_00026.png  \n",
            "  inflating: train/8/00008_00019_00027.png  \n",
            "  inflating: train/8/00008_00019_00028.png  \n",
            "  inflating: train/8/00008_00019_00029.png  \n",
            "  inflating: train/8/00008_00020_00000.png  \n",
            "  inflating: train/8/00008_00020_00001.png  \n",
            "  inflating: train/8/00008_00020_00002.png  \n",
            "  inflating: train/8/00008_00020_00003.png  \n",
            "  inflating: train/8/00008_00020_00004.png  \n",
            "  inflating: train/8/00008_00020_00005.png  \n",
            "  inflating: train/8/00008_00020_00006.png  \n",
            "  inflating: train/8/00008_00020_00007.png  \n",
            "  inflating: train/8/00008_00020_00008.png  \n",
            "  inflating: train/8/00008_00020_00009.png  \n",
            "  inflating: train/8/00008_00020_00010.png  \n",
            "  inflating: train/8/00008_00020_00011.png  \n",
            "  inflating: train/8/00008_00020_00012.png  \n",
            "  inflating: train/8/00008_00020_00013.png  \n",
            "  inflating: train/8/00008_00020_00014.png  \n",
            "  inflating: train/8/00008_00020_00015.png  \n",
            "  inflating: train/8/00008_00020_00016.png  \n",
            "  inflating: train/8/00008_00020_00017.png  \n",
            "  inflating: train/8/00008_00020_00018.png  \n",
            "  inflating: train/8/00008_00020_00019.png  \n",
            "  inflating: train/8/00008_00020_00020.png  \n",
            "  inflating: train/8/00008_00020_00021.png  \n",
            "  inflating: train/8/00008_00020_00022.png  \n",
            "  inflating: train/8/00008_00020_00023.png  \n",
            "  inflating: train/8/00008_00020_00024.png  \n",
            "  inflating: train/8/00008_00020_00025.png  \n",
            "  inflating: train/8/00008_00020_00026.png  \n",
            "  inflating: train/8/00008_00020_00027.png  \n",
            "  inflating: train/8/00008_00020_00028.png  \n",
            "  inflating: train/8/00008_00020_00029.png  \n",
            "  inflating: train/8/00008_00021_00000.png  \n",
            "  inflating: train/8/00008_00021_00001.png  \n",
            "  inflating: train/8/00008_00021_00002.png  \n",
            "  inflating: train/8/00008_00021_00003.png  \n",
            "  inflating: train/8/00008_00021_00004.png  \n",
            "  inflating: train/8/00008_00021_00005.png  \n",
            "  inflating: train/8/00008_00021_00006.png  \n",
            "  inflating: train/8/00008_00021_00007.png  \n",
            "  inflating: train/8/00008_00021_00008.png  \n",
            "  inflating: train/8/00008_00021_00009.png  \n",
            "  inflating: train/8/00008_00021_00010.png  \n",
            "  inflating: train/8/00008_00021_00011.png  \n",
            "  inflating: train/8/00008_00021_00012.png  \n",
            "  inflating: train/8/00008_00021_00013.png  \n",
            "  inflating: train/8/00008_00021_00014.png  \n",
            "  inflating: train/8/00008_00021_00015.png  \n",
            "  inflating: train/8/00008_00021_00016.png  \n",
            "  inflating: train/8/00008_00021_00017.png  \n",
            "  inflating: train/8/00008_00021_00018.png  \n",
            "  inflating: train/8/00008_00021_00019.png  \n",
            "  inflating: train/8/00008_00021_00020.png  \n",
            "  inflating: train/8/00008_00021_00021.png  \n",
            "  inflating: train/8/00008_00021_00022.png  \n",
            "  inflating: train/8/00008_00021_00023.png  \n",
            "  inflating: train/8/00008_00021_00024.png  \n",
            "  inflating: train/8/00008_00021_00025.png  \n",
            "  inflating: train/8/00008_00021_00026.png  \n",
            "  inflating: train/8/00008_00021_00027.png  \n",
            "  inflating: train/8/00008_00021_00028.png  \n",
            "  inflating: train/8/00008_00021_00029.png  \n",
            "  inflating: train/8/00008_00022_00000.png  \n",
            "  inflating: train/8/00008_00022_00001.png  \n",
            "  inflating: train/8/00008_00022_00002.png  \n",
            "  inflating: train/8/00008_00022_00003.png  \n",
            "  inflating: train/8/00008_00022_00004.png  \n",
            "  inflating: train/8/00008_00022_00005.png  \n",
            "  inflating: train/8/00008_00022_00006.png  \n",
            "  inflating: train/8/00008_00022_00007.png  \n",
            "  inflating: train/8/00008_00022_00008.png  \n",
            "  inflating: train/8/00008_00022_00009.png  \n",
            "  inflating: train/8/00008_00022_00010.png  \n",
            "  inflating: train/8/00008_00022_00011.png  \n",
            "  inflating: train/8/00008_00022_00012.png  \n",
            "  inflating: train/8/00008_00022_00013.png  \n",
            "  inflating: train/8/00008_00022_00014.png  \n",
            "  inflating: train/8/00008_00022_00015.png  \n",
            "  inflating: train/8/00008_00022_00016.png  \n",
            "  inflating: train/8/00008_00022_00017.png  \n",
            "  inflating: train/8/00008_00022_00018.png  \n",
            "  inflating: train/8/00008_00022_00019.png  \n",
            "  inflating: train/8/00008_00022_00020.png  \n",
            "  inflating: train/8/00008_00022_00021.png  \n",
            "  inflating: train/8/00008_00022_00022.png  \n",
            "  inflating: train/8/00008_00022_00023.png  \n",
            "  inflating: train/8/00008_00022_00024.png  \n",
            "  inflating: train/8/00008_00022_00025.png  \n",
            "  inflating: train/8/00008_00022_00026.png  \n",
            "  inflating: train/8/00008_00022_00027.png  \n",
            "  inflating: train/8/00008_00022_00028.png  \n",
            "  inflating: train/8/00008_00022_00029.png  \n",
            "  inflating: train/8/00008_00023_00000.png  \n",
            "  inflating: train/8/00008_00023_00001.png  \n",
            "  inflating: train/8/00008_00023_00002.png  \n",
            "  inflating: train/8/00008_00023_00003.png  \n",
            "  inflating: train/8/00008_00023_00004.png  \n",
            "  inflating: train/8/00008_00023_00005.png  \n",
            "  inflating: train/8/00008_00023_00006.png  \n",
            "  inflating: train/8/00008_00023_00007.png  \n",
            "  inflating: train/8/00008_00023_00008.png  \n",
            "  inflating: train/8/00008_00023_00009.png  \n",
            "  inflating: train/8/00008_00023_00010.png  \n",
            "  inflating: train/8/00008_00023_00011.png  \n",
            "  inflating: train/8/00008_00023_00012.png  \n",
            "  inflating: train/8/00008_00023_00013.png  \n",
            "  inflating: train/8/00008_00023_00014.png  \n",
            "  inflating: train/8/00008_00023_00015.png  \n",
            "  inflating: train/8/00008_00023_00016.png  \n",
            "  inflating: train/8/00008_00023_00017.png  \n",
            "  inflating: train/8/00008_00023_00018.png  \n",
            "  inflating: train/8/00008_00023_00019.png  \n",
            "  inflating: train/8/00008_00023_00020.png  \n",
            "  inflating: train/8/00008_00023_00021.png  \n",
            "  inflating: train/8/00008_00023_00022.png  \n",
            "  inflating: train/8/00008_00023_00023.png  \n",
            "  inflating: train/8/00008_00023_00024.png  \n",
            "  inflating: train/8/00008_00023_00025.png  \n",
            "  inflating: train/8/00008_00023_00026.png  \n",
            "  inflating: train/8/00008_00023_00027.png  \n",
            "  inflating: train/8/00008_00023_00028.png  \n",
            "  inflating: train/8/00008_00023_00029.png  \n",
            "  inflating: train/8/00008_00024_00000.png  \n",
            "  inflating: train/8/00008_00024_00001.png  \n",
            "  inflating: train/8/00008_00024_00002.png  \n",
            "  inflating: train/8/00008_00024_00003.png  \n",
            "  inflating: train/8/00008_00024_00004.png  \n",
            "  inflating: train/8/00008_00024_00005.png  \n",
            "  inflating: train/8/00008_00024_00006.png  \n",
            "  inflating: train/8/00008_00024_00007.png  \n",
            "  inflating: train/8/00008_00024_00008.png  \n",
            "  inflating: train/8/00008_00024_00009.png  \n",
            "  inflating: train/8/00008_00024_00010.png  \n",
            "  inflating: train/8/00008_00024_00011.png  \n",
            "  inflating: train/8/00008_00024_00012.png  \n",
            "  inflating: train/8/00008_00024_00013.png  \n",
            "  inflating: train/8/00008_00024_00014.png  \n",
            "  inflating: train/8/00008_00024_00015.png  \n",
            "  inflating: train/8/00008_00024_00016.png  \n",
            "  inflating: train/8/00008_00024_00017.png  \n",
            "  inflating: train/8/00008_00024_00018.png  \n",
            "  inflating: train/8/00008_00024_00019.png  \n",
            "  inflating: train/8/00008_00024_00020.png  \n",
            "  inflating: train/8/00008_00024_00021.png  \n",
            "  inflating: train/8/00008_00024_00022.png  \n",
            "  inflating: train/8/00008_00024_00023.png  \n",
            "  inflating: train/8/00008_00024_00024.png  \n",
            "  inflating: train/8/00008_00024_00025.png  \n",
            "  inflating: train/8/00008_00024_00026.png  \n",
            "  inflating: train/8/00008_00024_00027.png  \n",
            "  inflating: train/8/00008_00024_00028.png  \n",
            "  inflating: train/8/00008_00024_00029.png  \n",
            "  inflating: train/8/00008_00025_00000.png  \n",
            "  inflating: train/8/00008_00025_00001.png  \n",
            "  inflating: train/8/00008_00025_00002.png  \n",
            "  inflating: train/8/00008_00025_00003.png  \n",
            "  inflating: train/8/00008_00025_00004.png  \n",
            "  inflating: train/8/00008_00025_00005.png  \n",
            "  inflating: train/8/00008_00025_00006.png  \n",
            "  inflating: train/8/00008_00025_00007.png  \n",
            "  inflating: train/8/00008_00025_00008.png  \n",
            "  inflating: train/8/00008_00025_00009.png  \n",
            "  inflating: train/8/00008_00025_00010.png  \n",
            "  inflating: train/8/00008_00025_00011.png  \n",
            "  inflating: train/8/00008_00025_00012.png  \n",
            "  inflating: train/8/00008_00025_00013.png  \n",
            "  inflating: train/8/00008_00025_00014.png  \n",
            "  inflating: train/8/00008_00025_00015.png  \n",
            "  inflating: train/8/00008_00025_00016.png  \n",
            "  inflating: train/8/00008_00025_00017.png  \n",
            "  inflating: train/8/00008_00025_00018.png  \n",
            "  inflating: train/8/00008_00025_00019.png  \n",
            "  inflating: train/8/00008_00025_00020.png  \n",
            "  inflating: train/8/00008_00025_00021.png  \n",
            "  inflating: train/8/00008_00025_00022.png  \n",
            "  inflating: train/8/00008_00025_00023.png  \n",
            "  inflating: train/8/00008_00025_00024.png  \n",
            "  inflating: train/8/00008_00025_00025.png  \n",
            "  inflating: train/8/00008_00025_00026.png  \n",
            "  inflating: train/8/00008_00025_00027.png  \n",
            "  inflating: train/8/00008_00025_00028.png  \n",
            "  inflating: train/8/00008_00025_00029.png  \n",
            "  inflating: train/8/00008_00026_00000.png  \n",
            "  inflating: train/8/00008_00026_00001.png  \n",
            "  inflating: train/8/00008_00026_00002.png  \n",
            "  inflating: train/8/00008_00026_00003.png  \n",
            "  inflating: train/8/00008_00026_00004.png  \n",
            "  inflating: train/8/00008_00026_00005.png  \n",
            "  inflating: train/8/00008_00026_00006.png  \n",
            "  inflating: train/8/00008_00026_00007.png  \n",
            "  inflating: train/8/00008_00026_00008.png  \n",
            "  inflating: train/8/00008_00026_00009.png  \n",
            "  inflating: train/8/00008_00026_00010.png  \n",
            "  inflating: train/8/00008_00026_00011.png  \n",
            "  inflating: train/8/00008_00026_00012.png  \n",
            "  inflating: train/8/00008_00026_00013.png  \n",
            "  inflating: train/8/00008_00026_00014.png  \n",
            "  inflating: train/8/00008_00026_00015.png  \n",
            "  inflating: train/8/00008_00026_00016.png  \n",
            "  inflating: train/8/00008_00026_00017.png  \n",
            "  inflating: train/8/00008_00026_00018.png  \n",
            "  inflating: train/8/00008_00026_00019.png  \n",
            "  inflating: train/8/00008_00026_00020.png  \n",
            "  inflating: train/8/00008_00026_00021.png  \n",
            "  inflating: train/8/00008_00026_00022.png  \n",
            "  inflating: train/8/00008_00026_00023.png  \n",
            "  inflating: train/8/00008_00026_00024.png  \n",
            "  inflating: train/8/00008_00026_00025.png  \n",
            "  inflating: train/8/00008_00026_00026.png  \n",
            "  inflating: train/8/00008_00026_00027.png  \n",
            "  inflating: train/8/00008_00026_00028.png  \n",
            "  inflating: train/8/00008_00026_00029.png  \n",
            "  inflating: train/8/00008_00027_00000.png  \n",
            "  inflating: train/8/00008_00027_00001.png  \n",
            "  inflating: train/8/00008_00027_00002.png  \n",
            "  inflating: train/8/00008_00027_00003.png  \n",
            "  inflating: train/8/00008_00027_00004.png  \n",
            "  inflating: train/8/00008_00027_00005.png  \n",
            "  inflating: train/8/00008_00027_00006.png  \n",
            "  inflating: train/8/00008_00027_00007.png  \n",
            "  inflating: train/8/00008_00027_00008.png  \n",
            "  inflating: train/8/00008_00027_00009.png  \n",
            "  inflating: train/8/00008_00027_00010.png  \n",
            "  inflating: train/8/00008_00027_00011.png  \n",
            "  inflating: train/8/00008_00027_00012.png  \n",
            "  inflating: train/8/00008_00027_00013.png  \n",
            "  inflating: train/8/00008_00027_00014.png  \n",
            "  inflating: train/8/00008_00027_00015.png  \n",
            "  inflating: train/8/00008_00027_00016.png  \n",
            "  inflating: train/8/00008_00027_00017.png  \n",
            "  inflating: train/8/00008_00027_00018.png  \n",
            "  inflating: train/8/00008_00027_00019.png  \n",
            "  inflating: train/8/00008_00027_00020.png  \n",
            "  inflating: train/8/00008_00027_00021.png  \n",
            "  inflating: train/8/00008_00027_00022.png  \n",
            "  inflating: train/8/00008_00027_00023.png  \n",
            "  inflating: train/8/00008_00027_00024.png  \n",
            "  inflating: train/8/00008_00027_00025.png  \n",
            "  inflating: train/8/00008_00027_00026.png  \n",
            "  inflating: train/8/00008_00027_00027.png  \n",
            "  inflating: train/8/00008_00027_00028.png  \n",
            "  inflating: train/8/00008_00027_00029.png  \n",
            "  inflating: train/8/00008_00028_00000.png  \n",
            "  inflating: train/8/00008_00028_00001.png  \n",
            "  inflating: train/8/00008_00028_00002.png  \n",
            "  inflating: train/8/00008_00028_00003.png  \n",
            "  inflating: train/8/00008_00028_00004.png  \n",
            "  inflating: train/8/00008_00028_00005.png  \n",
            "  inflating: train/8/00008_00028_00006.png  \n",
            "  inflating: train/8/00008_00028_00007.png  \n",
            "  inflating: train/8/00008_00028_00008.png  \n",
            "  inflating: train/8/00008_00028_00009.png  \n",
            "  inflating: train/8/00008_00028_00010.png  \n",
            "  inflating: train/8/00008_00028_00011.png  \n",
            "  inflating: train/8/00008_00028_00012.png  \n",
            "  inflating: train/8/00008_00028_00013.png  \n",
            "  inflating: train/8/00008_00028_00014.png  \n",
            "  inflating: train/8/00008_00028_00015.png  \n",
            "  inflating: train/8/00008_00028_00016.png  \n",
            "  inflating: train/8/00008_00028_00017.png  \n",
            "  inflating: train/8/00008_00028_00018.png  \n",
            "  inflating: train/8/00008_00028_00019.png  \n",
            "  inflating: train/8/00008_00028_00020.png  \n",
            "  inflating: train/8/00008_00028_00021.png  \n",
            "  inflating: train/8/00008_00028_00022.png  \n",
            "  inflating: train/8/00008_00028_00023.png  \n",
            "  inflating: train/8/00008_00028_00024.png  \n",
            "  inflating: train/8/00008_00028_00025.png  \n",
            "  inflating: train/8/00008_00028_00026.png  \n",
            "  inflating: train/8/00008_00028_00027.png  \n",
            "  inflating: train/8/00008_00028_00028.png  \n",
            "  inflating: train/8/00008_00028_00029.png  \n",
            "  inflating: train/8/00008_00029_00000.png  \n",
            "  inflating: train/8/00008_00029_00001.png  \n",
            "  inflating: train/8/00008_00029_00002.png  \n",
            "  inflating: train/8/00008_00029_00003.png  \n",
            "  inflating: train/8/00008_00029_00004.png  \n",
            "  inflating: train/8/00008_00029_00005.png  \n",
            "  inflating: train/8/00008_00029_00006.png  \n",
            "  inflating: train/8/00008_00029_00007.png  \n",
            "  inflating: train/8/00008_00029_00008.png  \n",
            "  inflating: train/8/00008_00029_00009.png  \n",
            "  inflating: train/8/00008_00029_00010.png  \n",
            "  inflating: train/8/00008_00029_00011.png  \n",
            "  inflating: train/8/00008_00029_00012.png  \n",
            "  inflating: train/8/00008_00029_00013.png  \n",
            "  inflating: train/8/00008_00029_00014.png  \n",
            "  inflating: train/8/00008_00029_00015.png  \n",
            "  inflating: train/8/00008_00029_00016.png  \n",
            "  inflating: train/8/00008_00029_00017.png  \n",
            "  inflating: train/8/00008_00029_00018.png  \n",
            "  inflating: train/8/00008_00029_00019.png  \n",
            "  inflating: train/8/00008_00029_00020.png  \n",
            "  inflating: train/8/00008_00029_00021.png  \n",
            "  inflating: train/8/00008_00029_00022.png  \n",
            "  inflating: train/8/00008_00029_00023.png  \n",
            "  inflating: train/8/00008_00029_00024.png  \n",
            "  inflating: train/8/00008_00029_00025.png  \n",
            "  inflating: train/8/00008_00029_00026.png  \n",
            "  inflating: train/8/00008_00029_00027.png  \n",
            "  inflating: train/8/00008_00029_00028.png  \n",
            "  inflating: train/8/00008_00029_00029.png  \n",
            "  inflating: train/8/00008_00030_00000.png  \n",
            "  inflating: train/8/00008_00030_00001.png  \n",
            "  inflating: train/8/00008_00030_00002.png  \n",
            "  inflating: train/8/00008_00030_00003.png  \n",
            "  inflating: train/8/00008_00030_00004.png  \n",
            "  inflating: train/8/00008_00030_00005.png  \n",
            "  inflating: train/8/00008_00030_00006.png  \n",
            "  inflating: train/8/00008_00030_00007.png  \n",
            "  inflating: train/8/00008_00030_00008.png  \n",
            "  inflating: train/8/00008_00030_00009.png  \n",
            "  inflating: train/8/00008_00030_00010.png  \n",
            "  inflating: train/8/00008_00030_00011.png  \n",
            "  inflating: train/8/00008_00030_00012.png  \n",
            "  inflating: train/8/00008_00030_00013.png  \n",
            "  inflating: train/8/00008_00030_00014.png  \n",
            "  inflating: train/8/00008_00030_00015.png  \n",
            "  inflating: train/8/00008_00030_00016.png  \n",
            "  inflating: train/8/00008_00030_00017.png  \n",
            "  inflating: train/8/00008_00030_00018.png  \n",
            "  inflating: train/8/00008_00030_00019.png  \n",
            "  inflating: train/8/00008_00030_00020.png  \n",
            "  inflating: train/8/00008_00030_00021.png  \n",
            "  inflating: train/8/00008_00030_00022.png  \n",
            "  inflating: train/8/00008_00030_00023.png  \n",
            "  inflating: train/8/00008_00030_00024.png  \n",
            "  inflating: train/8/00008_00030_00025.png  \n",
            "  inflating: train/8/00008_00030_00026.png  \n",
            "  inflating: train/8/00008_00030_00027.png  \n",
            "  inflating: train/8/00008_00030_00028.png  \n",
            "  inflating: train/8/00008_00030_00029.png  \n",
            "  inflating: train/8/00008_00031_00000.png  \n",
            "  inflating: train/8/00008_00031_00001.png  \n",
            "  inflating: train/8/00008_00031_00002.png  \n",
            "  inflating: train/8/00008_00031_00003.png  \n",
            "  inflating: train/8/00008_00031_00004.png  \n",
            "  inflating: train/8/00008_00031_00005.png  \n",
            "  inflating: train/8/00008_00031_00006.png  \n",
            "  inflating: train/8/00008_00031_00007.png  \n",
            "  inflating: train/8/00008_00031_00008.png  \n",
            "  inflating: train/8/00008_00031_00009.png  \n",
            "  inflating: train/8/00008_00031_00010.png  \n",
            "  inflating: train/8/00008_00031_00011.png  \n",
            "  inflating: train/8/00008_00031_00012.png  \n",
            "  inflating: train/8/00008_00031_00013.png  \n",
            "  inflating: train/8/00008_00031_00014.png  \n",
            "  inflating: train/8/00008_00031_00015.png  \n",
            "  inflating: train/8/00008_00031_00016.png  \n",
            "  inflating: train/8/00008_00031_00017.png  \n",
            "  inflating: train/8/00008_00031_00018.png  \n",
            "  inflating: train/8/00008_00031_00019.png  \n",
            "  inflating: train/8/00008_00031_00020.png  \n",
            "  inflating: train/8/00008_00031_00021.png  \n",
            "  inflating: train/8/00008_00031_00022.png  \n",
            "  inflating: train/8/00008_00031_00023.png  \n",
            "  inflating: train/8/00008_00031_00024.png  \n",
            "  inflating: train/8/00008_00031_00025.png  \n",
            "  inflating: train/8/00008_00031_00026.png  \n",
            "  inflating: train/8/00008_00031_00027.png  \n",
            "  inflating: train/8/00008_00031_00028.png  \n",
            "  inflating: train/8/00008_00031_00029.png  \n",
            "  inflating: train/8/00008_00032_00000.png  \n",
            "  inflating: train/8/00008_00032_00001.png  \n",
            "  inflating: train/8/00008_00032_00002.png  \n",
            "  inflating: train/8/00008_00032_00003.png  \n",
            "  inflating: train/8/00008_00032_00004.png  \n",
            "  inflating: train/8/00008_00032_00005.png  \n",
            "  inflating: train/8/00008_00032_00006.png  \n",
            "  inflating: train/8/00008_00032_00007.png  \n",
            "  inflating: train/8/00008_00032_00008.png  \n",
            "  inflating: train/8/00008_00032_00009.png  \n",
            "  inflating: train/8/00008_00032_00010.png  \n",
            "  inflating: train/8/00008_00032_00011.png  \n",
            "  inflating: train/8/00008_00032_00012.png  \n",
            "  inflating: train/8/00008_00032_00013.png  \n",
            "  inflating: train/8/00008_00032_00014.png  \n",
            "  inflating: train/8/00008_00032_00015.png  \n",
            "  inflating: train/8/00008_00032_00016.png  \n",
            "  inflating: train/8/00008_00032_00017.png  \n",
            "  inflating: train/8/00008_00032_00018.png  \n",
            "  inflating: train/8/00008_00032_00019.png  \n",
            "  inflating: train/8/00008_00032_00020.png  \n",
            "  inflating: train/8/00008_00032_00021.png  \n",
            "  inflating: train/8/00008_00032_00022.png  \n",
            "  inflating: train/8/00008_00032_00023.png  \n",
            "  inflating: train/8/00008_00032_00024.png  \n",
            "  inflating: train/8/00008_00032_00025.png  \n",
            "  inflating: train/8/00008_00032_00026.png  \n",
            "  inflating: train/8/00008_00032_00027.png  \n",
            "  inflating: train/8/00008_00032_00028.png  \n",
            "  inflating: train/8/00008_00032_00029.png  \n",
            "  inflating: train/8/00008_00033_00000.png  \n",
            "  inflating: train/8/00008_00033_00001.png  \n",
            "  inflating: train/8/00008_00033_00002.png  \n",
            "  inflating: train/8/00008_00033_00003.png  \n",
            "  inflating: train/8/00008_00033_00004.png  \n",
            "  inflating: train/8/00008_00033_00005.png  \n",
            "  inflating: train/8/00008_00033_00006.png  \n",
            "  inflating: train/8/00008_00033_00007.png  \n",
            "  inflating: train/8/00008_00033_00008.png  \n",
            "  inflating: train/8/00008_00033_00009.png  \n",
            "  inflating: train/8/00008_00033_00010.png  \n",
            "  inflating: train/8/00008_00033_00011.png  \n",
            "  inflating: train/8/00008_00033_00012.png  \n",
            "  inflating: train/8/00008_00033_00013.png  \n",
            "  inflating: train/8/00008_00033_00014.png  \n",
            "  inflating: train/8/00008_00033_00015.png  \n",
            "  inflating: train/8/00008_00033_00016.png  \n",
            "  inflating: train/8/00008_00033_00017.png  \n",
            "  inflating: train/8/00008_00033_00018.png  \n",
            "  inflating: train/8/00008_00033_00019.png  \n",
            "  inflating: train/8/00008_00033_00020.png  \n",
            "  inflating: train/8/00008_00033_00021.png  \n",
            "  inflating: train/8/00008_00033_00022.png  \n",
            "  inflating: train/8/00008_00033_00023.png  \n",
            "  inflating: train/8/00008_00033_00024.png  \n",
            "  inflating: train/8/00008_00033_00025.png  \n",
            "  inflating: train/8/00008_00033_00026.png  \n",
            "  inflating: train/8/00008_00033_00027.png  \n",
            "  inflating: train/8/00008_00033_00028.png  \n",
            "  inflating: train/8/00008_00033_00029.png  \n",
            "  inflating: train/8/00008_00034_00000.png  \n",
            "  inflating: train/8/00008_00034_00001.png  \n",
            "  inflating: train/8/00008_00034_00002.png  \n",
            "  inflating: train/8/00008_00034_00003.png  \n",
            "  inflating: train/8/00008_00034_00004.png  \n",
            "  inflating: train/8/00008_00034_00005.png  \n",
            "  inflating: train/8/00008_00034_00006.png  \n",
            "  inflating: train/8/00008_00034_00007.png  \n",
            "  inflating: train/8/00008_00034_00008.png  \n",
            "  inflating: train/8/00008_00034_00009.png  \n",
            "  inflating: train/8/00008_00034_00010.png  \n",
            "  inflating: train/8/00008_00034_00011.png  \n",
            "  inflating: train/8/00008_00034_00012.png  \n",
            "  inflating: train/8/00008_00034_00013.png  \n",
            "  inflating: train/8/00008_00034_00014.png  \n",
            "  inflating: train/8/00008_00034_00015.png  \n",
            "  inflating: train/8/00008_00034_00016.png  \n",
            "  inflating: train/8/00008_00034_00017.png  \n",
            "  inflating: train/8/00008_00034_00018.png  \n",
            "  inflating: train/8/00008_00034_00019.png  \n",
            "  inflating: train/8/00008_00034_00020.png  \n",
            "  inflating: train/8/00008_00034_00021.png  \n",
            "  inflating: train/8/00008_00034_00022.png  \n",
            "  inflating: train/8/00008_00034_00023.png  \n",
            "  inflating: train/8/00008_00034_00024.png  \n",
            "  inflating: train/8/00008_00034_00025.png  \n",
            "  inflating: train/8/00008_00034_00026.png  \n",
            "  inflating: train/8/00008_00034_00027.png  \n",
            "  inflating: train/8/00008_00034_00028.png  \n",
            "  inflating: train/8/00008_00034_00029.png  \n",
            "  inflating: train/8/00008_00035_00000.png  \n",
            "  inflating: train/8/00008_00035_00001.png  \n",
            "  inflating: train/8/00008_00035_00002.png  \n",
            "  inflating: train/8/00008_00035_00003.png  \n",
            "  inflating: train/8/00008_00035_00004.png  \n",
            "  inflating: train/8/00008_00035_00005.png  \n",
            "  inflating: train/8/00008_00035_00006.png  \n",
            "  inflating: train/8/00008_00035_00007.png  \n",
            "  inflating: train/8/00008_00035_00008.png  \n",
            "  inflating: train/8/00008_00035_00009.png  \n",
            "  inflating: train/8/00008_00035_00010.png  \n",
            "  inflating: train/8/00008_00035_00011.png  \n",
            "  inflating: train/8/00008_00035_00012.png  \n",
            "  inflating: train/8/00008_00035_00013.png  \n",
            "  inflating: train/8/00008_00035_00014.png  \n",
            "  inflating: train/8/00008_00035_00015.png  \n",
            "  inflating: train/8/00008_00035_00016.png  \n",
            "  inflating: train/8/00008_00035_00017.png  \n",
            "  inflating: train/8/00008_00035_00018.png  \n",
            "  inflating: train/8/00008_00035_00019.png  \n",
            "  inflating: train/8/00008_00035_00020.png  \n",
            "  inflating: train/8/00008_00035_00021.png  \n",
            "  inflating: train/8/00008_00035_00022.png  \n",
            "  inflating: train/8/00008_00035_00023.png  \n",
            "  inflating: train/8/00008_00035_00024.png  \n",
            "  inflating: train/8/00008_00035_00025.png  \n",
            "  inflating: train/8/00008_00035_00026.png  \n",
            "  inflating: train/8/00008_00035_00027.png  \n",
            "  inflating: train/8/00008_00035_00028.png  \n",
            "  inflating: train/8/00008_00035_00029.png  \n",
            "  inflating: train/8/00008_00036_00000.png  \n",
            "  inflating: train/8/00008_00036_00001.png  \n",
            "  inflating: train/8/00008_00036_00002.png  \n",
            "  inflating: train/8/00008_00036_00003.png  \n",
            "  inflating: train/8/00008_00036_00004.png  \n",
            "  inflating: train/8/00008_00036_00005.png  \n",
            "  inflating: train/8/00008_00036_00006.png  \n",
            "  inflating: train/8/00008_00036_00007.png  \n",
            "  inflating: train/8/00008_00036_00008.png  \n",
            "  inflating: train/8/00008_00036_00009.png  \n",
            "  inflating: train/8/00008_00036_00010.png  \n",
            "  inflating: train/8/00008_00036_00011.png  \n",
            "  inflating: train/8/00008_00036_00012.png  \n",
            "  inflating: train/8/00008_00036_00013.png  \n",
            "  inflating: train/8/00008_00036_00014.png  \n",
            "  inflating: train/8/00008_00036_00015.png  \n",
            "  inflating: train/8/00008_00036_00016.png  \n",
            "  inflating: train/8/00008_00036_00017.png  \n",
            "  inflating: train/8/00008_00036_00018.png  \n",
            "  inflating: train/8/00008_00036_00019.png  \n",
            "  inflating: train/8/00008_00036_00020.png  \n",
            "  inflating: train/8/00008_00036_00021.png  \n",
            "  inflating: train/8/00008_00036_00022.png  \n",
            "  inflating: train/8/00008_00036_00023.png  \n",
            "  inflating: train/8/00008_00036_00024.png  \n",
            "  inflating: train/8/00008_00036_00025.png  \n",
            "  inflating: train/8/00008_00036_00026.png  \n",
            "  inflating: train/8/00008_00036_00027.png  \n",
            "  inflating: train/8/00008_00036_00028.png  \n",
            "  inflating: train/8/00008_00036_00029.png  \n",
            "  inflating: train/8/00008_00037_00000.png  \n",
            "  inflating: train/8/00008_00037_00001.png  \n",
            "  inflating: train/8/00008_00037_00002.png  \n",
            "  inflating: train/8/00008_00037_00003.png  \n",
            "  inflating: train/8/00008_00037_00004.png  \n",
            "  inflating: train/8/00008_00037_00005.png  \n",
            "  inflating: train/8/00008_00037_00006.png  \n",
            "  inflating: train/8/00008_00037_00007.png  \n",
            "  inflating: train/8/00008_00037_00008.png  \n",
            "  inflating: train/8/00008_00037_00009.png  \n",
            "  inflating: train/8/00008_00037_00010.png  \n",
            "  inflating: train/8/00008_00037_00011.png  \n",
            "  inflating: train/8/00008_00037_00012.png  \n",
            "  inflating: train/8/00008_00037_00013.png  \n",
            "  inflating: train/8/00008_00037_00014.png  \n",
            "  inflating: train/8/00008_00037_00015.png  \n",
            "  inflating: train/8/00008_00037_00016.png  \n",
            "  inflating: train/8/00008_00037_00017.png  \n",
            "  inflating: train/8/00008_00037_00018.png  \n",
            "  inflating: train/8/00008_00037_00019.png  \n",
            "  inflating: train/8/00008_00037_00020.png  \n",
            "  inflating: train/8/00008_00037_00021.png  \n",
            "  inflating: train/8/00008_00037_00022.png  \n",
            "  inflating: train/8/00008_00037_00023.png  \n",
            "  inflating: train/8/00008_00037_00024.png  \n",
            "  inflating: train/8/00008_00037_00025.png  \n",
            "  inflating: train/8/00008_00037_00026.png  \n",
            "  inflating: train/8/00008_00037_00027.png  \n",
            "  inflating: train/8/00008_00037_00028.png  \n",
            "  inflating: train/8/00008_00037_00029.png  \n",
            "  inflating: train/8/00008_00038_00000.png  \n",
            "  inflating: train/8/00008_00038_00001.png  \n",
            "  inflating: train/8/00008_00038_00002.png  \n",
            "  inflating: train/8/00008_00038_00003.png  \n",
            "  inflating: train/8/00008_00038_00004.png  \n",
            "  inflating: train/8/00008_00038_00005.png  \n",
            "  inflating: train/8/00008_00038_00006.png  \n",
            "  inflating: train/8/00008_00038_00007.png  \n",
            "  inflating: train/8/00008_00038_00008.png  \n",
            "  inflating: train/8/00008_00038_00009.png  \n",
            "  inflating: train/8/00008_00038_00010.png  \n",
            "  inflating: train/8/00008_00038_00011.png  \n",
            "  inflating: train/8/00008_00038_00012.png  \n",
            "  inflating: train/8/00008_00038_00013.png  \n",
            "  inflating: train/8/00008_00038_00014.png  \n",
            "  inflating: train/8/00008_00038_00015.png  \n",
            "  inflating: train/8/00008_00038_00016.png  \n",
            "  inflating: train/8/00008_00038_00017.png  \n",
            "  inflating: train/8/00008_00038_00018.png  \n",
            "  inflating: train/8/00008_00038_00019.png  \n",
            "  inflating: train/8/00008_00038_00020.png  \n",
            "  inflating: train/8/00008_00038_00021.png  \n",
            "  inflating: train/8/00008_00038_00022.png  \n",
            "  inflating: train/8/00008_00038_00023.png  \n",
            "  inflating: train/8/00008_00038_00024.png  \n",
            "  inflating: train/8/00008_00038_00025.png  \n",
            "  inflating: train/8/00008_00038_00026.png  \n",
            "  inflating: train/8/00008_00038_00027.png  \n",
            "  inflating: train/8/00008_00038_00028.png  \n",
            "  inflating: train/8/00008_00038_00029.png  \n",
            "  inflating: train/8/00008_00039_00000.png  \n",
            "  inflating: train/8/00008_00039_00001.png  \n",
            "  inflating: train/8/00008_00039_00002.png  \n",
            "  inflating: train/8/00008_00039_00003.png  \n",
            "  inflating: train/8/00008_00039_00004.png  \n",
            "  inflating: train/8/00008_00039_00005.png  \n",
            "  inflating: train/8/00008_00039_00006.png  \n",
            "  inflating: train/8/00008_00039_00007.png  \n",
            "  inflating: train/8/00008_00039_00008.png  \n",
            "  inflating: train/8/00008_00039_00009.png  \n",
            "  inflating: train/8/00008_00039_00010.png  \n",
            "  inflating: train/8/00008_00039_00011.png  \n",
            "  inflating: train/8/00008_00039_00012.png  \n",
            "  inflating: train/8/00008_00039_00013.png  \n",
            "  inflating: train/8/00008_00039_00014.png  \n",
            "  inflating: train/8/00008_00039_00015.png  \n",
            "  inflating: train/8/00008_00039_00016.png  \n",
            "  inflating: train/8/00008_00039_00017.png  \n",
            "  inflating: train/8/00008_00039_00018.png  \n",
            "  inflating: train/8/00008_00039_00019.png  \n",
            "  inflating: train/8/00008_00039_00020.png  \n",
            "  inflating: train/8/00008_00039_00021.png  \n",
            "  inflating: train/8/00008_00039_00022.png  \n",
            "  inflating: train/8/00008_00039_00023.png  \n",
            "  inflating: train/8/00008_00039_00024.png  \n",
            "  inflating: train/8/00008_00039_00025.png  \n",
            "  inflating: train/8/00008_00039_00026.png  \n",
            "  inflating: train/8/00008_00039_00027.png  \n",
            "  inflating: train/8/00008_00039_00028.png  \n",
            "  inflating: train/8/00008_00039_00029.png  \n",
            "  inflating: train/8/00008_00040_00000.png  \n",
            "  inflating: train/8/00008_00040_00001.png  \n",
            "  inflating: train/8/00008_00040_00002.png  \n",
            "  inflating: train/8/00008_00040_00003.png  \n",
            "  inflating: train/8/00008_00040_00004.png  \n",
            "  inflating: train/8/00008_00040_00005.png  \n",
            "  inflating: train/8/00008_00040_00006.png  \n",
            "  inflating: train/8/00008_00040_00007.png  \n",
            "  inflating: train/8/00008_00040_00008.png  \n",
            "  inflating: train/8/00008_00040_00009.png  \n",
            "  inflating: train/8/00008_00040_00010.png  \n",
            "  inflating: train/8/00008_00040_00011.png  \n",
            "  inflating: train/8/00008_00040_00012.png  \n",
            "  inflating: train/8/00008_00040_00013.png  \n",
            "  inflating: train/8/00008_00040_00014.png  \n",
            "  inflating: train/8/00008_00040_00015.png  \n",
            "  inflating: train/8/00008_00040_00016.png  \n",
            "  inflating: train/8/00008_00040_00017.png  \n",
            "  inflating: train/8/00008_00040_00018.png  \n",
            "  inflating: train/8/00008_00040_00019.png  \n",
            "  inflating: train/8/00008_00040_00020.png  \n",
            "  inflating: train/8/00008_00040_00021.png  \n",
            "  inflating: train/8/00008_00040_00022.png  \n",
            "  inflating: train/8/00008_00040_00023.png  \n",
            "  inflating: train/8/00008_00040_00024.png  \n",
            "  inflating: train/8/00008_00040_00025.png  \n",
            "  inflating: train/8/00008_00040_00026.png  \n",
            "  inflating: train/8/00008_00040_00027.png  \n",
            "  inflating: train/8/00008_00040_00028.png  \n",
            "  inflating: train/8/00008_00040_00029.png  \n",
            "  inflating: train/8/00008_00041_00000.png  \n",
            "  inflating: train/8/00008_00041_00001.png  \n",
            "  inflating: train/8/00008_00041_00002.png  \n",
            "  inflating: train/8/00008_00041_00003.png  \n",
            "  inflating: train/8/00008_00041_00004.png  \n",
            "  inflating: train/8/00008_00041_00005.png  \n",
            "  inflating: train/8/00008_00041_00006.png  \n",
            "  inflating: train/8/00008_00041_00007.png  \n",
            "  inflating: train/8/00008_00041_00008.png  \n",
            "  inflating: train/8/00008_00041_00009.png  \n",
            "  inflating: train/8/00008_00041_00010.png  \n",
            "  inflating: train/8/00008_00041_00011.png  \n",
            "  inflating: train/8/00008_00041_00012.png  \n",
            "  inflating: train/8/00008_00041_00013.png  \n",
            "  inflating: train/8/00008_00041_00014.png  \n",
            "  inflating: train/8/00008_00041_00015.png  \n",
            "  inflating: train/8/00008_00041_00016.png  \n",
            "  inflating: train/8/00008_00041_00017.png  \n",
            "  inflating: train/8/00008_00041_00018.png  \n",
            "  inflating: train/8/00008_00041_00019.png  \n",
            "  inflating: train/8/00008_00041_00020.png  \n",
            "  inflating: train/8/00008_00041_00021.png  \n",
            "  inflating: train/8/00008_00041_00022.png  \n",
            "  inflating: train/8/00008_00041_00023.png  \n",
            "  inflating: train/8/00008_00041_00024.png  \n",
            "  inflating: train/8/00008_00041_00025.png  \n",
            "  inflating: train/8/00008_00041_00026.png  \n",
            "  inflating: train/8/00008_00041_00027.png  \n",
            "  inflating: train/8/00008_00041_00028.png  \n",
            "  inflating: train/8/00008_00041_00029.png  \n",
            "  inflating: train/8/00008_00042_00000.png  \n",
            "  inflating: train/8/00008_00042_00001.png  \n",
            "  inflating: train/8/00008_00042_00002.png  \n",
            "  inflating: train/8/00008_00042_00003.png  \n",
            "  inflating: train/8/00008_00042_00004.png  \n",
            "  inflating: train/8/00008_00042_00005.png  \n",
            "  inflating: train/8/00008_00042_00006.png  \n",
            "  inflating: train/8/00008_00042_00007.png  \n",
            "  inflating: train/8/00008_00042_00008.png  \n",
            "  inflating: train/8/00008_00042_00009.png  \n",
            "  inflating: train/8/00008_00042_00010.png  \n",
            "  inflating: train/8/00008_00042_00011.png  \n",
            "  inflating: train/8/00008_00042_00012.png  \n",
            "  inflating: train/8/00008_00042_00013.png  \n",
            "  inflating: train/8/00008_00042_00014.png  \n",
            "  inflating: train/8/00008_00042_00015.png  \n",
            "  inflating: train/8/00008_00042_00016.png  \n",
            "  inflating: train/8/00008_00042_00017.png  \n",
            "  inflating: train/8/00008_00042_00018.png  \n",
            "  inflating: train/8/00008_00042_00019.png  \n",
            "  inflating: train/8/00008_00042_00020.png  \n",
            "  inflating: train/8/00008_00042_00021.png  \n",
            "  inflating: train/8/00008_00042_00022.png  \n",
            "  inflating: train/8/00008_00042_00023.png  \n",
            "  inflating: train/8/00008_00042_00024.png  \n",
            "  inflating: train/8/00008_00042_00025.png  \n",
            "  inflating: train/8/00008_00042_00026.png  \n",
            "  inflating: train/8/00008_00042_00027.png  \n",
            "  inflating: train/8/00008_00042_00028.png  \n",
            "  inflating: train/8/00008_00042_00029.png  \n",
            "  inflating: train/8/00008_00043_00000.png  \n",
            "  inflating: train/8/00008_00043_00001.png  \n",
            "  inflating: train/8/00008_00043_00002.png  \n",
            "  inflating: train/8/00008_00043_00003.png  \n",
            "  inflating: train/8/00008_00043_00004.png  \n",
            "  inflating: train/8/00008_00043_00005.png  \n",
            "  inflating: train/8/00008_00043_00006.png  \n",
            "  inflating: train/8/00008_00043_00007.png  \n",
            "  inflating: train/8/00008_00043_00008.png  \n",
            "  inflating: train/8/00008_00043_00009.png  \n",
            "  inflating: train/8/00008_00043_00010.png  \n",
            "  inflating: train/8/00008_00043_00011.png  \n",
            "  inflating: train/8/00008_00043_00012.png  \n",
            "  inflating: train/8/00008_00043_00013.png  \n",
            "  inflating: train/8/00008_00043_00014.png  \n",
            "  inflating: train/8/00008_00043_00015.png  \n",
            "  inflating: train/8/00008_00043_00016.png  \n",
            "  inflating: train/8/00008_00043_00017.png  \n",
            "  inflating: train/8/00008_00043_00018.png  \n",
            "  inflating: train/8/00008_00043_00019.png  \n",
            "  inflating: train/8/00008_00043_00020.png  \n",
            "  inflating: train/8/00008_00043_00021.png  \n",
            "  inflating: train/8/00008_00043_00022.png  \n",
            "  inflating: train/8/00008_00043_00023.png  \n",
            "  inflating: train/8/00008_00043_00024.png  \n",
            "  inflating: train/8/00008_00043_00025.png  \n",
            "  inflating: train/8/00008_00043_00026.png  \n",
            "  inflating: train/8/00008_00043_00027.png  \n",
            "  inflating: train/8/00008_00043_00028.png  \n",
            "  inflating: train/8/00008_00043_00029.png  \n",
            "  inflating: train/8/00008_00044_00000.png  \n",
            "  inflating: train/8/00008_00044_00001.png  \n",
            "  inflating: train/8/00008_00044_00002.png  \n",
            "  inflating: train/8/00008_00044_00003.png  \n",
            "  inflating: train/8/00008_00044_00004.png  \n",
            "  inflating: train/8/00008_00044_00005.png  \n",
            "  inflating: train/8/00008_00044_00006.png  \n",
            "  inflating: train/8/00008_00044_00007.png  \n",
            "  inflating: train/8/00008_00044_00008.png  \n",
            "  inflating: train/8/00008_00044_00009.png  \n",
            "  inflating: train/8/00008_00044_00010.png  \n",
            "  inflating: train/8/00008_00044_00011.png  \n",
            "  inflating: train/8/00008_00044_00012.png  \n",
            "  inflating: train/8/00008_00044_00013.png  \n",
            "  inflating: train/8/00008_00044_00014.png  \n",
            "  inflating: train/8/00008_00044_00015.png  \n",
            "  inflating: train/8/00008_00044_00016.png  \n",
            "  inflating: train/8/00008_00044_00017.png  \n",
            "  inflating: train/8/00008_00044_00018.png  \n",
            "  inflating: train/8/00008_00044_00019.png  \n",
            "  inflating: train/8/00008_00044_00020.png  \n",
            "  inflating: train/8/00008_00044_00021.png  \n",
            "  inflating: train/8/00008_00044_00022.png  \n",
            "  inflating: train/8/00008_00044_00023.png  \n",
            "  inflating: train/8/00008_00044_00024.png  \n",
            "  inflating: train/8/00008_00044_00025.png  \n",
            "  inflating: train/8/00008_00044_00026.png  \n",
            "  inflating: train/8/00008_00044_00027.png  \n",
            "  inflating: train/8/00008_00044_00028.png  \n",
            "  inflating: train/8/00008_00044_00029.png  \n",
            "  inflating: train/8/00008_00045_00000.png  \n",
            "  inflating: train/8/00008_00045_00001.png  \n",
            "  inflating: train/8/00008_00045_00002.png  \n",
            "  inflating: train/8/00008_00045_00003.png  \n",
            "  inflating: train/8/00008_00045_00004.png  \n",
            "  inflating: train/8/00008_00045_00005.png  \n",
            "  inflating: train/8/00008_00045_00006.png  \n",
            "  inflating: train/8/00008_00045_00007.png  \n",
            "  inflating: train/8/00008_00045_00008.png  \n",
            "  inflating: train/8/00008_00045_00009.png  \n",
            "  inflating: train/8/00008_00045_00010.png  \n",
            "  inflating: train/8/00008_00045_00011.png  \n",
            "  inflating: train/8/00008_00045_00012.png  \n",
            "  inflating: train/8/00008_00045_00013.png  \n",
            "  inflating: train/8/00008_00045_00014.png  \n",
            "  inflating: train/8/00008_00045_00015.png  \n",
            "  inflating: train/8/00008_00045_00016.png  \n",
            "  inflating: train/8/00008_00045_00017.png  \n",
            "  inflating: train/8/00008_00045_00018.png  \n",
            "  inflating: train/8/00008_00045_00019.png  \n",
            "  inflating: train/8/00008_00045_00020.png  \n",
            "  inflating: train/8/00008_00045_00021.png  \n",
            "  inflating: train/8/00008_00045_00022.png  \n",
            "  inflating: train/8/00008_00045_00023.png  \n",
            "  inflating: train/8/00008_00045_00024.png  \n",
            "  inflating: train/8/00008_00045_00025.png  \n",
            "  inflating: train/8/00008_00045_00026.png  \n",
            "  inflating: train/8/00008_00045_00027.png  \n",
            "  inflating: train/8/00008_00045_00028.png  \n",
            "  inflating: train/8/00008_00045_00029.png  \n",
            "  inflating: train/8/00008_00046_00000.png  \n",
            "  inflating: train/8/00008_00046_00001.png  \n",
            "  inflating: train/8/00008_00046_00002.png  \n",
            "  inflating: train/8/00008_00046_00003.png  \n",
            "  inflating: train/8/00008_00046_00004.png  \n",
            "  inflating: train/8/00008_00046_00005.png  \n",
            "  inflating: train/8/00008_00046_00006.png  \n",
            "  inflating: train/8/00008_00046_00007.png  \n",
            "  inflating: train/8/00008_00046_00008.png  \n",
            "  inflating: train/8/00008_00046_00009.png  \n",
            "  inflating: train/8/00008_00046_00010.png  \n",
            "  inflating: train/8/00008_00046_00011.png  \n",
            "  inflating: train/8/00008_00046_00012.png  \n",
            "  inflating: train/8/00008_00046_00013.png  \n",
            "  inflating: train/8/00008_00046_00014.png  \n",
            "  inflating: train/8/00008_00046_00015.png  \n",
            "  inflating: train/8/00008_00046_00016.png  \n",
            "  inflating: train/8/00008_00046_00017.png  \n",
            "  inflating: train/8/00008_00046_00018.png  \n",
            "  inflating: train/8/00008_00046_00019.png  \n",
            "  inflating: train/8/00008_00046_00020.png  \n",
            "  inflating: train/8/00008_00046_00021.png  \n",
            "  inflating: train/8/00008_00046_00022.png  \n",
            "  inflating: train/8/00008_00046_00023.png  \n",
            "  inflating: train/8/00008_00046_00024.png  \n",
            "  inflating: train/8/00008_00046_00025.png  \n",
            "  inflating: train/8/00008_00046_00026.png  \n",
            "  inflating: train/8/00008_00046_00027.png  \n",
            "  inflating: train/8/00008_00046_00028.png  \n",
            "  inflating: train/8/00008_00046_00029.png  \n",
            "  inflating: train/9/00009_00000_00000.png  \n",
            "  inflating: train/9/00009_00000_00001.png  \n",
            "  inflating: train/9/00009_00000_00002.png  \n",
            "  inflating: train/9/00009_00000_00003.png  \n",
            "  inflating: train/9/00009_00000_00004.png  \n",
            "  inflating: train/9/00009_00000_00005.png  \n",
            "  inflating: train/9/00009_00000_00006.png  \n",
            "  inflating: train/9/00009_00000_00007.png  \n",
            "  inflating: train/9/00009_00000_00008.png  \n",
            "  inflating: train/9/00009_00000_00009.png  \n",
            "  inflating: train/9/00009_00000_00010.png  \n",
            "  inflating: train/9/00009_00000_00011.png  \n",
            "  inflating: train/9/00009_00000_00012.png  \n",
            "  inflating: train/9/00009_00000_00013.png  \n",
            "  inflating: train/9/00009_00000_00014.png  \n",
            "  inflating: train/9/00009_00000_00015.png  \n",
            "  inflating: train/9/00009_00000_00016.png  \n",
            "  inflating: train/9/00009_00000_00017.png  \n",
            "  inflating: train/9/00009_00000_00018.png  \n",
            "  inflating: train/9/00009_00000_00019.png  \n",
            "  inflating: train/9/00009_00000_00020.png  \n",
            "  inflating: train/9/00009_00000_00021.png  \n",
            "  inflating: train/9/00009_00000_00022.png  \n",
            "  inflating: train/9/00009_00000_00023.png  \n",
            "  inflating: train/9/00009_00000_00024.png  \n",
            "  inflating: train/9/00009_00000_00025.png  \n",
            "  inflating: train/9/00009_00000_00026.png  \n",
            "  inflating: train/9/00009_00000_00027.png  \n",
            "  inflating: train/9/00009_00000_00028.png  \n",
            "  inflating: train/9/00009_00000_00029.png  \n",
            "  inflating: train/9/00009_00001_00000.png  \n",
            "  inflating: train/9/00009_00001_00001.png  \n",
            "  inflating: train/9/00009_00001_00002.png  \n",
            "  inflating: train/9/00009_00001_00003.png  \n",
            "  inflating: train/9/00009_00001_00004.png  \n",
            "  inflating: train/9/00009_00001_00005.png  \n",
            "  inflating: train/9/00009_00001_00006.png  \n",
            "  inflating: train/9/00009_00001_00007.png  \n",
            "  inflating: train/9/00009_00001_00008.png  \n",
            "  inflating: train/9/00009_00001_00009.png  \n",
            "  inflating: train/9/00009_00001_00010.png  \n",
            "  inflating: train/9/00009_00001_00011.png  \n",
            "  inflating: train/9/00009_00001_00012.png  \n",
            "  inflating: train/9/00009_00001_00013.png  \n",
            "  inflating: train/9/00009_00001_00014.png  \n",
            "  inflating: train/9/00009_00001_00015.png  \n",
            "  inflating: train/9/00009_00001_00016.png  \n",
            "  inflating: train/9/00009_00001_00017.png  \n",
            "  inflating: train/9/00009_00001_00018.png  \n",
            "  inflating: train/9/00009_00001_00019.png  \n",
            "  inflating: train/9/00009_00001_00020.png  \n",
            "  inflating: train/9/00009_00001_00021.png  \n",
            "  inflating: train/9/00009_00001_00022.png  \n",
            "  inflating: train/9/00009_00001_00023.png  \n",
            "  inflating: train/9/00009_00001_00024.png  \n",
            "  inflating: train/9/00009_00001_00025.png  \n",
            "  inflating: train/9/00009_00001_00026.png  \n",
            "  inflating: train/9/00009_00001_00027.png  \n",
            "  inflating: train/9/00009_00001_00028.png  \n",
            "  inflating: train/9/00009_00001_00029.png  \n",
            "  inflating: train/9/00009_00002_00000.png  \n",
            "  inflating: train/9/00009_00002_00001.png  \n",
            "  inflating: train/9/00009_00002_00002.png  \n",
            "  inflating: train/9/00009_00002_00003.png  \n",
            "  inflating: train/9/00009_00002_00004.png  \n",
            "  inflating: train/9/00009_00002_00005.png  \n",
            "  inflating: train/9/00009_00002_00006.png  \n",
            "  inflating: train/9/00009_00002_00007.png  \n",
            "  inflating: train/9/00009_00002_00008.png  \n",
            "  inflating: train/9/00009_00002_00009.png  \n",
            "  inflating: train/9/00009_00002_00010.png  \n",
            "  inflating: train/9/00009_00002_00011.png  \n",
            "  inflating: train/9/00009_00002_00012.png  \n",
            "  inflating: train/9/00009_00002_00013.png  \n",
            "  inflating: train/9/00009_00002_00014.png  \n",
            "  inflating: train/9/00009_00002_00015.png  \n",
            "  inflating: train/9/00009_00002_00016.png  \n",
            "  inflating: train/9/00009_00002_00017.png  \n",
            "  inflating: train/9/00009_00002_00018.png  \n",
            "  inflating: train/9/00009_00002_00019.png  \n",
            "  inflating: train/9/00009_00002_00020.png  \n",
            "  inflating: train/9/00009_00002_00021.png  \n",
            "  inflating: train/9/00009_00002_00022.png  \n",
            "  inflating: train/9/00009_00002_00023.png  \n",
            "  inflating: train/9/00009_00002_00024.png  \n",
            "  inflating: train/9/00009_00002_00025.png  \n",
            "  inflating: train/9/00009_00002_00026.png  \n",
            "  inflating: train/9/00009_00002_00027.png  \n",
            "  inflating: train/9/00009_00002_00028.png  \n",
            "  inflating: train/9/00009_00002_00029.png  \n",
            "  inflating: train/9/00009_00003_00000.png  \n",
            "  inflating: train/9/00009_00003_00001.png  \n",
            "  inflating: train/9/00009_00003_00002.png  \n",
            "  inflating: train/9/00009_00003_00003.png  \n",
            "  inflating: train/9/00009_00003_00004.png  \n",
            "  inflating: train/9/00009_00003_00005.png  \n",
            "  inflating: train/9/00009_00003_00006.png  \n",
            "  inflating: train/9/00009_00003_00007.png  \n",
            "  inflating: train/9/00009_00003_00008.png  \n",
            "  inflating: train/9/00009_00003_00009.png  \n",
            "  inflating: train/9/00009_00003_00010.png  \n",
            "  inflating: train/9/00009_00003_00011.png  \n",
            "  inflating: train/9/00009_00003_00012.png  \n",
            "  inflating: train/9/00009_00003_00013.png  \n",
            "  inflating: train/9/00009_00003_00014.png  \n",
            "  inflating: train/9/00009_00003_00015.png  \n",
            "  inflating: train/9/00009_00003_00016.png  \n",
            "  inflating: train/9/00009_00003_00017.png  \n",
            "  inflating: train/9/00009_00003_00018.png  \n",
            "  inflating: train/9/00009_00003_00019.png  \n",
            "  inflating: train/9/00009_00003_00020.png  \n",
            "  inflating: train/9/00009_00003_00021.png  \n",
            "  inflating: train/9/00009_00003_00022.png  \n",
            "  inflating: train/9/00009_00003_00023.png  \n",
            "  inflating: train/9/00009_00003_00024.png  \n",
            "  inflating: train/9/00009_00003_00025.png  \n",
            "  inflating: train/9/00009_00003_00026.png  \n",
            "  inflating: train/9/00009_00003_00027.png  \n",
            "  inflating: train/9/00009_00003_00028.png  \n",
            "  inflating: train/9/00009_00003_00029.png  \n",
            "  inflating: train/9/00009_00004_00000.png  \n",
            "  inflating: train/9/00009_00004_00001.png  \n",
            "  inflating: train/9/00009_00004_00002.png  \n",
            "  inflating: train/9/00009_00004_00003.png  \n",
            "  inflating: train/9/00009_00004_00004.png  \n",
            "  inflating: train/9/00009_00004_00005.png  \n",
            "  inflating: train/9/00009_00004_00006.png  \n",
            "  inflating: train/9/00009_00004_00007.png  \n",
            "  inflating: train/9/00009_00004_00008.png  \n",
            "  inflating: train/9/00009_00004_00009.png  \n",
            "  inflating: train/9/00009_00004_00010.png  \n",
            "  inflating: train/9/00009_00004_00011.png  \n",
            "  inflating: train/9/00009_00004_00012.png  \n",
            "  inflating: train/9/00009_00004_00013.png  \n",
            "  inflating: train/9/00009_00004_00014.png  \n",
            "  inflating: train/9/00009_00004_00015.png  \n",
            "  inflating: train/9/00009_00004_00016.png  \n",
            "  inflating: train/9/00009_00004_00017.png  \n",
            "  inflating: train/9/00009_00004_00018.png  \n",
            "  inflating: train/9/00009_00004_00019.png  \n",
            "  inflating: train/9/00009_00004_00020.png  \n",
            "  inflating: train/9/00009_00004_00021.png  \n",
            "  inflating: train/9/00009_00004_00022.png  \n",
            "  inflating: train/9/00009_00004_00023.png  \n",
            "  inflating: train/9/00009_00004_00024.png  \n",
            "  inflating: train/9/00009_00004_00025.png  \n",
            "  inflating: train/9/00009_00004_00026.png  \n",
            "  inflating: train/9/00009_00004_00027.png  \n",
            "  inflating: train/9/00009_00004_00028.png  \n",
            "  inflating: train/9/00009_00004_00029.png  \n",
            "  inflating: train/9/00009_00005_00000.png  \n",
            "  inflating: train/9/00009_00005_00001.png  \n",
            "  inflating: train/9/00009_00005_00002.png  \n",
            "  inflating: train/9/00009_00005_00003.png  \n",
            "  inflating: train/9/00009_00005_00004.png  \n",
            "  inflating: train/9/00009_00005_00005.png  \n",
            "  inflating: train/9/00009_00005_00006.png  \n",
            "  inflating: train/9/00009_00005_00007.png  \n",
            "  inflating: train/9/00009_00005_00008.png  \n",
            "  inflating: train/9/00009_00005_00009.png  \n",
            "  inflating: train/9/00009_00005_00010.png  \n",
            "  inflating: train/9/00009_00005_00011.png  \n",
            "  inflating: train/9/00009_00005_00012.png  \n",
            "  inflating: train/9/00009_00005_00013.png  \n",
            "  inflating: train/9/00009_00005_00014.png  \n",
            "  inflating: train/9/00009_00005_00015.png  \n",
            "  inflating: train/9/00009_00005_00016.png  \n",
            "  inflating: train/9/00009_00005_00017.png  \n",
            "  inflating: train/9/00009_00005_00018.png  \n",
            "  inflating: train/9/00009_00005_00019.png  \n",
            "  inflating: train/9/00009_00005_00020.png  \n",
            "  inflating: train/9/00009_00005_00021.png  \n",
            "  inflating: train/9/00009_00005_00022.png  \n",
            "  inflating: train/9/00009_00005_00023.png  \n",
            "  inflating: train/9/00009_00005_00024.png  \n",
            "  inflating: train/9/00009_00005_00025.png  \n",
            "  inflating: train/9/00009_00005_00026.png  \n",
            "  inflating: train/9/00009_00005_00027.png  \n",
            "  inflating: train/9/00009_00005_00028.png  \n",
            "  inflating: train/9/00009_00005_00029.png  \n",
            "  inflating: train/9/00009_00006_00000.png  \n",
            "  inflating: train/9/00009_00006_00001.png  \n",
            "  inflating: train/9/00009_00006_00002.png  \n",
            "  inflating: train/9/00009_00006_00003.png  \n",
            "  inflating: train/9/00009_00006_00004.png  \n",
            "  inflating: train/9/00009_00006_00005.png  \n",
            "  inflating: train/9/00009_00006_00006.png  \n",
            "  inflating: train/9/00009_00006_00007.png  \n",
            "  inflating: train/9/00009_00006_00008.png  \n",
            "  inflating: train/9/00009_00006_00009.png  \n",
            "  inflating: train/9/00009_00006_00010.png  \n",
            "  inflating: train/9/00009_00006_00011.png  \n",
            "  inflating: train/9/00009_00006_00012.png  \n",
            "  inflating: train/9/00009_00006_00013.png  \n",
            "  inflating: train/9/00009_00006_00014.png  \n",
            "  inflating: train/9/00009_00006_00015.png  \n",
            "  inflating: train/9/00009_00006_00016.png  \n",
            "  inflating: train/9/00009_00006_00017.png  \n",
            "  inflating: train/9/00009_00006_00018.png  \n",
            "  inflating: train/9/00009_00006_00019.png  \n",
            "  inflating: train/9/00009_00006_00020.png  \n",
            "  inflating: train/9/00009_00006_00021.png  \n",
            "  inflating: train/9/00009_00006_00022.png  \n",
            "  inflating: train/9/00009_00006_00023.png  \n",
            "  inflating: train/9/00009_00006_00024.png  \n",
            "  inflating: train/9/00009_00006_00025.png  \n",
            "  inflating: train/9/00009_00006_00026.png  \n",
            "  inflating: train/9/00009_00006_00027.png  \n",
            "  inflating: train/9/00009_00006_00028.png  \n",
            "  inflating: train/9/00009_00006_00029.png  \n",
            "  inflating: train/9/00009_00007_00000.png  \n",
            "  inflating: train/9/00009_00007_00001.png  \n",
            "  inflating: train/9/00009_00007_00002.png  \n",
            "  inflating: train/9/00009_00007_00003.png  \n",
            "  inflating: train/9/00009_00007_00004.png  \n",
            "  inflating: train/9/00009_00007_00005.png  \n",
            "  inflating: train/9/00009_00007_00006.png  \n",
            "  inflating: train/9/00009_00007_00007.png  \n",
            "  inflating: train/9/00009_00007_00008.png  \n",
            "  inflating: train/9/00009_00007_00009.png  \n",
            "  inflating: train/9/00009_00007_00010.png  \n",
            "  inflating: train/9/00009_00007_00011.png  \n",
            "  inflating: train/9/00009_00007_00012.png  \n",
            "  inflating: train/9/00009_00007_00013.png  \n",
            "  inflating: train/9/00009_00007_00014.png  \n",
            "  inflating: train/9/00009_00007_00015.png  \n",
            "  inflating: train/9/00009_00007_00016.png  \n",
            "  inflating: train/9/00009_00007_00017.png  \n",
            "  inflating: train/9/00009_00007_00018.png  \n",
            "  inflating: train/9/00009_00007_00019.png  \n",
            "  inflating: train/9/00009_00007_00020.png  \n",
            "  inflating: train/9/00009_00007_00021.png  \n",
            "  inflating: train/9/00009_00007_00022.png  \n",
            "  inflating: train/9/00009_00007_00023.png  \n",
            "  inflating: train/9/00009_00007_00024.png  \n",
            "  inflating: train/9/00009_00007_00025.png  \n",
            "  inflating: train/9/00009_00007_00026.png  \n",
            "  inflating: train/9/00009_00007_00027.png  \n",
            "  inflating: train/9/00009_00007_00028.png  \n",
            "  inflating: train/9/00009_00007_00029.png  \n",
            "  inflating: train/9/00009_00008_00000.png  \n",
            "  inflating: train/9/00009_00008_00001.png  \n",
            "  inflating: train/9/00009_00008_00002.png  \n",
            "  inflating: train/9/00009_00008_00003.png  \n",
            "  inflating: train/9/00009_00008_00004.png  \n",
            "  inflating: train/9/00009_00008_00005.png  \n",
            "  inflating: train/9/00009_00008_00006.png  \n",
            "  inflating: train/9/00009_00008_00007.png  \n",
            "  inflating: train/9/00009_00008_00008.png  \n",
            "  inflating: train/9/00009_00008_00009.png  \n",
            "  inflating: train/9/00009_00008_00010.png  \n",
            "  inflating: train/9/00009_00008_00011.png  \n",
            "  inflating: train/9/00009_00008_00012.png  \n",
            "  inflating: train/9/00009_00008_00013.png  \n",
            "  inflating: train/9/00009_00008_00014.png  \n",
            "  inflating: train/9/00009_00008_00015.png  \n",
            "  inflating: train/9/00009_00008_00016.png  \n",
            "  inflating: train/9/00009_00008_00017.png  \n",
            "  inflating: train/9/00009_00008_00018.png  \n",
            "  inflating: train/9/00009_00008_00019.png  \n",
            "  inflating: train/9/00009_00008_00020.png  \n",
            "  inflating: train/9/00009_00008_00021.png  \n",
            "  inflating: train/9/00009_00008_00022.png  \n",
            "  inflating: train/9/00009_00008_00023.png  \n",
            "  inflating: train/9/00009_00008_00024.png  \n",
            "  inflating: train/9/00009_00008_00025.png  \n",
            "  inflating: train/9/00009_00008_00026.png  \n",
            "  inflating: train/9/00009_00008_00027.png  \n",
            "  inflating: train/9/00009_00008_00028.png  \n",
            "  inflating: train/9/00009_00008_00029.png  \n",
            "  inflating: train/9/00009_00009_00000.png  \n",
            "  inflating: train/9/00009_00009_00001.png  \n",
            "  inflating: train/9/00009_00009_00002.png  \n",
            "  inflating: train/9/00009_00009_00003.png  \n",
            "  inflating: train/9/00009_00009_00004.png  \n",
            "  inflating: train/9/00009_00009_00005.png  \n",
            "  inflating: train/9/00009_00009_00006.png  \n",
            "  inflating: train/9/00009_00009_00007.png  \n",
            "  inflating: train/9/00009_00009_00008.png  \n",
            "  inflating: train/9/00009_00009_00009.png  \n",
            "  inflating: train/9/00009_00009_00010.png  \n",
            "  inflating: train/9/00009_00009_00011.png  \n",
            "  inflating: train/9/00009_00009_00012.png  \n",
            "  inflating: train/9/00009_00009_00013.png  \n",
            "  inflating: train/9/00009_00009_00014.png  \n",
            "  inflating: train/9/00009_00009_00015.png  \n",
            "  inflating: train/9/00009_00009_00016.png  \n",
            "  inflating: train/9/00009_00009_00017.png  \n",
            "  inflating: train/9/00009_00009_00018.png  \n",
            "  inflating: train/9/00009_00009_00019.png  \n",
            "  inflating: train/9/00009_00009_00020.png  \n",
            "  inflating: train/9/00009_00009_00021.png  \n",
            "  inflating: train/9/00009_00009_00022.png  \n",
            "  inflating: train/9/00009_00009_00023.png  \n",
            "  inflating: train/9/00009_00009_00024.png  \n",
            "  inflating: train/9/00009_00009_00025.png  \n",
            "  inflating: train/9/00009_00009_00026.png  \n",
            "  inflating: train/9/00009_00009_00027.png  \n",
            "  inflating: train/9/00009_00009_00028.png  \n",
            "  inflating: train/9/00009_00009_00029.png  \n",
            "  inflating: train/9/00009_00010_00000.png  \n",
            "  inflating: train/9/00009_00010_00001.png  \n",
            "  inflating: train/9/00009_00010_00002.png  \n",
            "  inflating: train/9/00009_00010_00003.png  \n",
            "  inflating: train/9/00009_00010_00004.png  \n",
            "  inflating: train/9/00009_00010_00005.png  \n",
            "  inflating: train/9/00009_00010_00006.png  \n",
            "  inflating: train/9/00009_00010_00007.png  \n",
            "  inflating: train/9/00009_00010_00008.png  \n",
            "  inflating: train/9/00009_00010_00009.png  \n",
            "  inflating: train/9/00009_00010_00010.png  \n",
            "  inflating: train/9/00009_00010_00011.png  \n",
            "  inflating: train/9/00009_00010_00012.png  \n",
            "  inflating: train/9/00009_00010_00013.png  \n",
            "  inflating: train/9/00009_00010_00014.png  \n",
            "  inflating: train/9/00009_00010_00015.png  \n",
            "  inflating: train/9/00009_00010_00016.png  \n",
            "  inflating: train/9/00009_00010_00017.png  \n",
            "  inflating: train/9/00009_00010_00018.png  \n",
            "  inflating: train/9/00009_00010_00019.png  \n",
            "  inflating: train/9/00009_00010_00020.png  \n",
            "  inflating: train/9/00009_00010_00021.png  \n",
            "  inflating: train/9/00009_00010_00022.png  \n",
            "  inflating: train/9/00009_00010_00023.png  \n",
            "  inflating: train/9/00009_00010_00024.png  \n",
            "  inflating: train/9/00009_00010_00025.png  \n",
            "  inflating: train/9/00009_00010_00026.png  \n",
            "  inflating: train/9/00009_00010_00027.png  \n",
            "  inflating: train/9/00009_00010_00028.png  \n",
            "  inflating: train/9/00009_00010_00029.png  \n",
            "  inflating: train/9/00009_00011_00000.png  \n",
            "  inflating: train/9/00009_00011_00001.png  \n",
            "  inflating: train/9/00009_00011_00002.png  \n",
            "  inflating: train/9/00009_00011_00003.png  \n",
            "  inflating: train/9/00009_00011_00004.png  \n",
            "  inflating: train/9/00009_00011_00005.png  \n",
            "  inflating: train/9/00009_00011_00006.png  \n",
            "  inflating: train/9/00009_00011_00007.png  \n",
            "  inflating: train/9/00009_00011_00008.png  \n",
            "  inflating: train/9/00009_00011_00009.png  \n",
            "  inflating: train/9/00009_00011_00010.png  \n",
            "  inflating: train/9/00009_00011_00011.png  \n",
            "  inflating: train/9/00009_00011_00012.png  \n",
            "  inflating: train/9/00009_00011_00013.png  \n",
            "  inflating: train/9/00009_00011_00014.png  \n",
            "  inflating: train/9/00009_00011_00015.png  \n",
            "  inflating: train/9/00009_00011_00016.png  \n",
            "  inflating: train/9/00009_00011_00017.png  \n",
            "  inflating: train/9/00009_00011_00018.png  \n",
            "  inflating: train/9/00009_00011_00019.png  \n",
            "  inflating: train/9/00009_00011_00020.png  \n",
            "  inflating: train/9/00009_00011_00021.png  \n",
            "  inflating: train/9/00009_00011_00022.png  \n",
            "  inflating: train/9/00009_00011_00023.png  \n",
            "  inflating: train/9/00009_00011_00024.png  \n",
            "  inflating: train/9/00009_00011_00025.png  \n",
            "  inflating: train/9/00009_00011_00026.png  \n",
            "  inflating: train/9/00009_00011_00027.png  \n",
            "  inflating: train/9/00009_00011_00028.png  \n",
            "  inflating: train/9/00009_00011_00029.png  \n",
            "  inflating: train/9/00009_00012_00000.png  \n",
            "  inflating: train/9/00009_00012_00001.png  \n",
            "  inflating: train/9/00009_00012_00002.png  \n",
            "  inflating: train/9/00009_00012_00003.png  \n",
            "  inflating: train/9/00009_00012_00004.png  \n",
            "  inflating: train/9/00009_00012_00005.png  \n",
            "  inflating: train/9/00009_00012_00006.png  \n",
            "  inflating: train/9/00009_00012_00007.png  \n",
            "  inflating: train/9/00009_00012_00008.png  \n",
            "  inflating: train/9/00009_00012_00009.png  \n",
            "  inflating: train/9/00009_00012_00010.png  \n",
            "  inflating: train/9/00009_00012_00011.png  \n",
            "  inflating: train/9/00009_00012_00012.png  \n",
            "  inflating: train/9/00009_00012_00013.png  \n",
            "  inflating: train/9/00009_00012_00014.png  \n",
            "  inflating: train/9/00009_00012_00015.png  \n",
            "  inflating: train/9/00009_00012_00016.png  \n",
            "  inflating: train/9/00009_00012_00017.png  \n",
            "  inflating: train/9/00009_00012_00018.png  \n",
            "  inflating: train/9/00009_00012_00019.png  \n",
            "  inflating: train/9/00009_00012_00020.png  \n",
            "  inflating: train/9/00009_00012_00021.png  \n",
            "  inflating: train/9/00009_00012_00022.png  \n",
            "  inflating: train/9/00009_00012_00023.png  \n",
            "  inflating: train/9/00009_00012_00024.png  \n",
            "  inflating: train/9/00009_00012_00025.png  \n",
            "  inflating: train/9/00009_00012_00026.png  \n",
            "  inflating: train/9/00009_00012_00027.png  \n",
            "  inflating: train/9/00009_00012_00028.png  \n",
            "  inflating: train/9/00009_00012_00029.png  \n",
            "  inflating: train/9/00009_00013_00000.png  \n",
            "  inflating: train/9/00009_00013_00001.png  \n",
            "  inflating: train/9/00009_00013_00002.png  \n",
            "  inflating: train/9/00009_00013_00003.png  \n",
            "  inflating: train/9/00009_00013_00004.png  \n",
            "  inflating: train/9/00009_00013_00005.png  \n",
            "  inflating: train/9/00009_00013_00006.png  \n",
            "  inflating: train/9/00009_00013_00007.png  \n",
            "  inflating: train/9/00009_00013_00008.png  \n",
            "  inflating: train/9/00009_00013_00009.png  \n",
            "  inflating: train/9/00009_00013_00010.png  \n",
            "  inflating: train/9/00009_00013_00011.png  \n",
            "  inflating: train/9/00009_00013_00012.png  \n",
            "  inflating: train/9/00009_00013_00013.png  \n",
            "  inflating: train/9/00009_00013_00014.png  \n",
            "  inflating: train/9/00009_00013_00015.png  \n",
            "  inflating: train/9/00009_00013_00016.png  \n",
            "  inflating: train/9/00009_00013_00017.png  \n",
            "  inflating: train/9/00009_00013_00018.png  \n",
            "  inflating: train/9/00009_00013_00019.png  \n",
            "  inflating: train/9/00009_00013_00020.png  \n",
            "  inflating: train/9/00009_00013_00021.png  \n",
            "  inflating: train/9/00009_00013_00022.png  \n",
            "  inflating: train/9/00009_00013_00023.png  \n",
            "  inflating: train/9/00009_00013_00024.png  \n",
            "  inflating: train/9/00009_00013_00025.png  \n",
            "  inflating: train/9/00009_00013_00026.png  \n",
            "  inflating: train/9/00009_00013_00027.png  \n",
            "  inflating: train/9/00009_00013_00028.png  \n",
            "  inflating: train/9/00009_00013_00029.png  \n",
            "  inflating: train/9/00009_00014_00000.png  \n",
            "  inflating: train/9/00009_00014_00001.png  \n",
            "  inflating: train/9/00009_00014_00002.png  \n",
            "  inflating: train/9/00009_00014_00003.png  \n",
            "  inflating: train/9/00009_00014_00004.png  \n",
            "  inflating: train/9/00009_00014_00005.png  \n",
            "  inflating: train/9/00009_00014_00006.png  \n",
            "  inflating: train/9/00009_00014_00007.png  \n",
            "  inflating: train/9/00009_00014_00008.png  \n",
            "  inflating: train/9/00009_00014_00009.png  \n",
            "  inflating: train/9/00009_00014_00010.png  \n",
            "  inflating: train/9/00009_00014_00011.png  \n",
            "  inflating: train/9/00009_00014_00012.png  \n",
            "  inflating: train/9/00009_00014_00013.png  \n",
            "  inflating: train/9/00009_00014_00014.png  \n",
            "  inflating: train/9/00009_00014_00015.png  \n",
            "  inflating: train/9/00009_00014_00016.png  \n",
            "  inflating: train/9/00009_00014_00017.png  \n",
            "  inflating: train/9/00009_00014_00018.png  \n",
            "  inflating: train/9/00009_00014_00019.png  \n",
            "  inflating: train/9/00009_00014_00020.png  \n",
            "  inflating: train/9/00009_00014_00021.png  \n",
            "  inflating: train/9/00009_00014_00022.png  \n",
            "  inflating: train/9/00009_00014_00023.png  \n",
            "  inflating: train/9/00009_00014_00024.png  \n",
            "  inflating: train/9/00009_00014_00025.png  \n",
            "  inflating: train/9/00009_00014_00026.png  \n",
            "  inflating: train/9/00009_00014_00027.png  \n",
            "  inflating: train/9/00009_00014_00028.png  \n",
            "  inflating: train/9/00009_00014_00029.png  \n",
            "  inflating: train/9/00009_00015_00000.png  \n",
            "  inflating: train/9/00009_00015_00001.png  \n",
            "  inflating: train/9/00009_00015_00002.png  \n",
            "  inflating: train/9/00009_00015_00003.png  \n",
            "  inflating: train/9/00009_00015_00004.png  \n",
            "  inflating: train/9/00009_00015_00005.png  \n",
            "  inflating: train/9/00009_00015_00006.png  \n",
            "  inflating: train/9/00009_00015_00007.png  \n",
            "  inflating: train/9/00009_00015_00008.png  \n",
            "  inflating: train/9/00009_00015_00009.png  \n",
            "  inflating: train/9/00009_00015_00010.png  \n",
            "  inflating: train/9/00009_00015_00011.png  \n",
            "  inflating: train/9/00009_00015_00012.png  \n",
            "  inflating: train/9/00009_00015_00013.png  \n",
            "  inflating: train/9/00009_00015_00014.png  \n",
            "  inflating: train/9/00009_00015_00015.png  \n",
            "  inflating: train/9/00009_00015_00016.png  \n",
            "  inflating: train/9/00009_00015_00017.png  \n",
            "  inflating: train/9/00009_00015_00018.png  \n",
            "  inflating: train/9/00009_00015_00019.png  \n",
            "  inflating: train/9/00009_00015_00020.png  \n",
            "  inflating: train/9/00009_00015_00021.png  \n",
            "  inflating: train/9/00009_00015_00022.png  \n",
            "  inflating: train/9/00009_00015_00023.png  \n",
            "  inflating: train/9/00009_00015_00024.png  \n",
            "  inflating: train/9/00009_00015_00025.png  \n",
            "  inflating: train/9/00009_00015_00026.png  \n",
            "  inflating: train/9/00009_00015_00027.png  \n",
            "  inflating: train/9/00009_00015_00028.png  \n",
            "  inflating: train/9/00009_00015_00029.png  \n",
            "  inflating: train/9/00009_00016_00000.png  \n",
            "  inflating: train/9/00009_00016_00001.png  \n",
            "  inflating: train/9/00009_00016_00002.png  \n",
            "  inflating: train/9/00009_00016_00003.png  \n",
            "  inflating: train/9/00009_00016_00004.png  \n",
            "  inflating: train/9/00009_00016_00005.png  \n",
            "  inflating: train/9/00009_00016_00006.png  \n",
            "  inflating: train/9/00009_00016_00007.png  \n",
            "  inflating: train/9/00009_00016_00008.png  \n",
            "  inflating: train/9/00009_00016_00009.png  \n",
            "  inflating: train/9/00009_00016_00010.png  \n",
            "  inflating: train/9/00009_00016_00011.png  \n",
            "  inflating: train/9/00009_00016_00012.png  \n",
            "  inflating: train/9/00009_00016_00013.png  \n",
            "  inflating: train/9/00009_00016_00014.png  \n",
            "  inflating: train/9/00009_00016_00015.png  \n",
            "  inflating: train/9/00009_00016_00016.png  \n",
            "  inflating: train/9/00009_00016_00017.png  \n",
            "  inflating: train/9/00009_00016_00018.png  \n",
            "  inflating: train/9/00009_00016_00019.png  \n",
            "  inflating: train/9/00009_00016_00020.png  \n",
            "  inflating: train/9/00009_00016_00021.png  \n",
            "  inflating: train/9/00009_00016_00022.png  \n",
            "  inflating: train/9/00009_00016_00023.png  \n",
            "  inflating: train/9/00009_00016_00024.png  \n",
            "  inflating: train/9/00009_00016_00025.png  \n",
            "  inflating: train/9/00009_00016_00026.png  \n",
            "  inflating: train/9/00009_00016_00027.png  \n",
            "  inflating: train/9/00009_00016_00028.png  \n",
            "  inflating: train/9/00009_00016_00029.png  \n",
            "  inflating: train/9/00009_00017_00000.png  \n",
            "  inflating: train/9/00009_00017_00001.png  \n",
            "  inflating: train/9/00009_00017_00002.png  \n",
            "  inflating: train/9/00009_00017_00003.png  \n",
            "  inflating: train/9/00009_00017_00004.png  \n",
            "  inflating: train/9/00009_00017_00005.png  \n",
            "  inflating: train/9/00009_00017_00006.png  \n",
            "  inflating: train/9/00009_00017_00007.png  \n",
            "  inflating: train/9/00009_00017_00008.png  \n",
            "  inflating: train/9/00009_00017_00009.png  \n",
            "  inflating: train/9/00009_00017_00010.png  \n",
            "  inflating: train/9/00009_00017_00011.png  \n",
            "  inflating: train/9/00009_00017_00012.png  \n",
            "  inflating: train/9/00009_00017_00013.png  \n",
            "  inflating: train/9/00009_00017_00014.png  \n",
            "  inflating: train/9/00009_00017_00015.png  \n",
            "  inflating: train/9/00009_00017_00016.png  \n",
            "  inflating: train/9/00009_00017_00017.png  \n",
            "  inflating: train/9/00009_00017_00018.png  \n",
            "  inflating: train/9/00009_00017_00019.png  \n",
            "  inflating: train/9/00009_00017_00020.png  \n",
            "  inflating: train/9/00009_00017_00021.png  \n",
            "  inflating: train/9/00009_00017_00022.png  \n",
            "  inflating: train/9/00009_00017_00023.png  \n",
            "  inflating: train/9/00009_00017_00024.png  \n",
            "  inflating: train/9/00009_00017_00025.png  \n",
            "  inflating: train/9/00009_00017_00026.png  \n",
            "  inflating: train/9/00009_00017_00027.png  \n",
            "  inflating: train/9/00009_00017_00028.png  \n",
            "  inflating: train/9/00009_00017_00029.png  \n",
            "  inflating: train/9/00009_00018_00000.png  \n",
            "  inflating: train/9/00009_00018_00001.png  \n",
            "  inflating: train/9/00009_00018_00002.png  \n",
            "  inflating: train/9/00009_00018_00003.png  \n",
            "  inflating: train/9/00009_00018_00004.png  \n",
            "  inflating: train/9/00009_00018_00005.png  \n",
            "  inflating: train/9/00009_00018_00006.png  \n",
            "  inflating: train/9/00009_00018_00007.png  \n",
            "  inflating: train/9/00009_00018_00008.png  \n",
            "  inflating: train/9/00009_00018_00009.png  \n",
            "  inflating: train/9/00009_00018_00010.png  \n",
            "  inflating: train/9/00009_00018_00011.png  \n",
            "  inflating: train/9/00009_00018_00012.png  \n",
            "  inflating: train/9/00009_00018_00013.png  \n",
            "  inflating: train/9/00009_00018_00014.png  \n",
            "  inflating: train/9/00009_00018_00015.png  \n",
            "  inflating: train/9/00009_00018_00016.png  \n",
            "  inflating: train/9/00009_00018_00017.png  \n",
            "  inflating: train/9/00009_00018_00018.png  \n",
            "  inflating: train/9/00009_00018_00019.png  \n",
            "  inflating: train/9/00009_00018_00020.png  \n",
            "  inflating: train/9/00009_00018_00021.png  \n",
            "  inflating: train/9/00009_00018_00022.png  \n",
            "  inflating: train/9/00009_00018_00023.png  \n",
            "  inflating: train/9/00009_00018_00024.png  \n",
            "  inflating: train/9/00009_00018_00025.png  \n",
            "  inflating: train/9/00009_00018_00026.png  \n",
            "  inflating: train/9/00009_00018_00027.png  \n",
            "  inflating: train/9/00009_00018_00028.png  \n",
            "  inflating: train/9/00009_00018_00029.png  \n",
            "  inflating: train/9/00009_00019_00000.png  \n",
            "  inflating: train/9/00009_00019_00001.png  \n",
            "  inflating: train/9/00009_00019_00002.png  \n",
            "  inflating: train/9/00009_00019_00003.png  \n",
            "  inflating: train/9/00009_00019_00004.png  \n",
            "  inflating: train/9/00009_00019_00005.png  \n",
            "  inflating: train/9/00009_00019_00006.png  \n",
            "  inflating: train/9/00009_00019_00007.png  \n",
            "  inflating: train/9/00009_00019_00008.png  \n",
            "  inflating: train/9/00009_00019_00009.png  \n",
            "  inflating: train/9/00009_00019_00010.png  \n",
            "  inflating: train/9/00009_00019_00011.png  \n",
            "  inflating: train/9/00009_00019_00012.png  \n",
            "  inflating: train/9/00009_00019_00013.png  \n",
            "  inflating: train/9/00009_00019_00014.png  \n",
            "  inflating: train/9/00009_00019_00015.png  \n",
            "  inflating: train/9/00009_00019_00016.png  \n",
            "  inflating: train/9/00009_00019_00017.png  \n",
            "  inflating: train/9/00009_00019_00018.png  \n",
            "  inflating: train/9/00009_00019_00019.png  \n",
            "  inflating: train/9/00009_00019_00020.png  \n",
            "  inflating: train/9/00009_00019_00021.png  \n",
            "  inflating: train/9/00009_00019_00022.png  \n",
            "  inflating: train/9/00009_00019_00023.png  \n",
            "  inflating: train/9/00009_00019_00024.png  \n",
            "  inflating: train/9/00009_00019_00025.png  \n",
            "  inflating: train/9/00009_00019_00026.png  \n",
            "  inflating: train/9/00009_00019_00027.png  \n",
            "  inflating: train/9/00009_00019_00028.png  \n",
            "  inflating: train/9/00009_00019_00029.png  \n",
            "  inflating: train/9/00009_00020_00000.png  \n",
            "  inflating: train/9/00009_00020_00001.png  \n",
            "  inflating: train/9/00009_00020_00002.png  \n",
            "  inflating: train/9/00009_00020_00003.png  \n",
            "  inflating: train/9/00009_00020_00004.png  \n",
            "  inflating: train/9/00009_00020_00005.png  \n",
            "  inflating: train/9/00009_00020_00006.png  \n",
            "  inflating: train/9/00009_00020_00007.png  \n",
            "  inflating: train/9/00009_00020_00008.png  \n",
            "  inflating: train/9/00009_00020_00009.png  \n",
            "  inflating: train/9/00009_00020_00010.png  \n",
            "  inflating: train/9/00009_00020_00011.png  \n",
            "  inflating: train/9/00009_00020_00012.png  \n",
            "  inflating: train/9/00009_00020_00013.png  \n",
            "  inflating: train/9/00009_00020_00014.png  \n",
            "  inflating: train/9/00009_00020_00015.png  \n",
            "  inflating: train/9/00009_00020_00016.png  \n",
            "  inflating: train/9/00009_00020_00017.png  \n",
            "  inflating: train/9/00009_00020_00018.png  \n",
            "  inflating: train/9/00009_00020_00019.png  \n",
            "  inflating: train/9/00009_00020_00020.png  \n",
            "  inflating: train/9/00009_00020_00021.png  \n",
            "  inflating: train/9/00009_00020_00022.png  \n",
            "  inflating: train/9/00009_00020_00023.png  \n",
            "  inflating: train/9/00009_00020_00024.png  \n",
            "  inflating: train/9/00009_00020_00025.png  \n",
            "  inflating: train/9/00009_00020_00026.png  \n",
            "  inflating: train/9/00009_00020_00027.png  \n",
            "  inflating: train/9/00009_00020_00028.png  \n",
            "  inflating: train/9/00009_00020_00029.png  \n",
            "  inflating: train/9/00009_00021_00000.png  \n",
            "  inflating: train/9/00009_00021_00001.png  \n",
            "  inflating: train/9/00009_00021_00002.png  \n",
            "  inflating: train/9/00009_00021_00003.png  \n",
            "  inflating: train/9/00009_00021_00004.png  \n",
            "  inflating: train/9/00009_00021_00005.png  \n",
            "  inflating: train/9/00009_00021_00006.png  \n",
            "  inflating: train/9/00009_00021_00007.png  \n",
            "  inflating: train/9/00009_00021_00008.png  \n",
            "  inflating: train/9/00009_00021_00009.png  \n",
            "  inflating: train/9/00009_00021_00010.png  \n",
            "  inflating: train/9/00009_00021_00011.png  \n",
            "  inflating: train/9/00009_00021_00012.png  \n",
            "  inflating: train/9/00009_00021_00013.png  \n",
            "  inflating: train/9/00009_00021_00014.png  \n",
            "  inflating: train/9/00009_00021_00015.png  \n",
            "  inflating: train/9/00009_00021_00016.png  \n",
            "  inflating: train/9/00009_00021_00017.png  \n",
            "  inflating: train/9/00009_00021_00018.png  \n",
            "  inflating: train/9/00009_00021_00019.png  \n",
            "  inflating: train/9/00009_00021_00020.png  \n",
            "  inflating: train/9/00009_00021_00021.png  \n",
            "  inflating: train/9/00009_00021_00022.png  \n",
            "  inflating: train/9/00009_00021_00023.png  \n",
            "  inflating: train/9/00009_00021_00024.png  \n",
            "  inflating: train/9/00009_00021_00025.png  \n",
            "  inflating: train/9/00009_00021_00026.png  \n",
            "  inflating: train/9/00009_00021_00027.png  \n",
            "  inflating: train/9/00009_00021_00028.png  \n",
            "  inflating: train/9/00009_00021_00029.png  \n",
            "  inflating: train/9/00009_00022_00000.png  \n",
            "  inflating: train/9/00009_00022_00001.png  \n",
            "  inflating: train/9/00009_00022_00002.png  \n",
            "  inflating: train/9/00009_00022_00003.png  \n",
            "  inflating: train/9/00009_00022_00004.png  \n",
            "  inflating: train/9/00009_00022_00005.png  \n",
            "  inflating: train/9/00009_00022_00006.png  \n",
            "  inflating: train/9/00009_00022_00007.png  \n",
            "  inflating: train/9/00009_00022_00008.png  \n",
            "  inflating: train/9/00009_00022_00009.png  \n",
            "  inflating: train/9/00009_00022_00010.png  \n",
            "  inflating: train/9/00009_00022_00011.png  \n",
            "  inflating: train/9/00009_00022_00012.png  \n",
            "  inflating: train/9/00009_00022_00013.png  \n",
            "  inflating: train/9/00009_00022_00014.png  \n",
            "  inflating: train/9/00009_00022_00015.png  \n",
            "  inflating: train/9/00009_00022_00016.png  \n",
            "  inflating: train/9/00009_00022_00017.png  \n",
            "  inflating: train/9/00009_00022_00018.png  \n",
            "  inflating: train/9/00009_00022_00019.png  \n",
            "  inflating: train/9/00009_00022_00020.png  \n",
            "  inflating: train/9/00009_00022_00021.png  \n",
            "  inflating: train/9/00009_00022_00022.png  \n",
            "  inflating: train/9/00009_00022_00023.png  \n",
            "  inflating: train/9/00009_00022_00024.png  \n",
            "  inflating: train/9/00009_00022_00025.png  \n",
            "  inflating: train/9/00009_00022_00026.png  \n",
            "  inflating: train/9/00009_00022_00027.png  \n",
            "  inflating: train/9/00009_00022_00028.png  \n",
            "  inflating: train/9/00009_00022_00029.png  \n",
            "  inflating: train/9/00009_00023_00000.png  \n",
            "  inflating: train/9/00009_00023_00001.png  \n",
            "  inflating: train/9/00009_00023_00002.png  \n",
            "  inflating: train/9/00009_00023_00003.png  \n",
            "  inflating: train/9/00009_00023_00004.png  \n",
            "  inflating: train/9/00009_00023_00005.png  \n",
            "  inflating: train/9/00009_00023_00006.png  \n",
            "  inflating: train/9/00009_00023_00007.png  \n",
            "  inflating: train/9/00009_00023_00008.png  \n",
            "  inflating: train/9/00009_00023_00009.png  \n",
            "  inflating: train/9/00009_00023_00010.png  \n",
            "  inflating: train/9/00009_00023_00011.png  \n",
            "  inflating: train/9/00009_00023_00012.png  \n",
            "  inflating: train/9/00009_00023_00013.png  \n",
            "  inflating: train/9/00009_00023_00014.png  \n",
            "  inflating: train/9/00009_00023_00015.png  \n",
            "  inflating: train/9/00009_00023_00016.png  \n",
            "  inflating: train/9/00009_00023_00017.png  \n",
            "  inflating: train/9/00009_00023_00018.png  \n",
            "  inflating: train/9/00009_00023_00019.png  \n",
            "  inflating: train/9/00009_00023_00020.png  \n",
            "  inflating: train/9/00009_00023_00021.png  \n",
            "  inflating: train/9/00009_00023_00022.png  \n",
            "  inflating: train/9/00009_00023_00023.png  \n",
            "  inflating: train/9/00009_00023_00024.png  \n",
            "  inflating: train/9/00009_00023_00025.png  \n",
            "  inflating: train/9/00009_00023_00026.png  \n",
            "  inflating: train/9/00009_00023_00027.png  \n",
            "  inflating: train/9/00009_00023_00028.png  \n",
            "  inflating: train/9/00009_00023_00029.png  \n",
            "  inflating: train/9/00009_00024_00000.png  \n",
            "  inflating: train/9/00009_00024_00001.png  \n",
            "  inflating: train/9/00009_00024_00002.png  \n",
            "  inflating: train/9/00009_00024_00003.png  \n",
            "  inflating: train/9/00009_00024_00004.png  \n",
            "  inflating: train/9/00009_00024_00005.png  \n",
            "  inflating: train/9/00009_00024_00006.png  \n",
            "  inflating: train/9/00009_00024_00007.png  \n",
            "  inflating: train/9/00009_00024_00008.png  \n",
            "  inflating: train/9/00009_00024_00009.png  \n",
            "  inflating: train/9/00009_00024_00010.png  \n",
            "  inflating: train/9/00009_00024_00011.png  \n",
            "  inflating: train/9/00009_00024_00012.png  \n",
            "  inflating: train/9/00009_00024_00013.png  \n",
            "  inflating: train/9/00009_00024_00014.png  \n",
            "  inflating: train/9/00009_00024_00015.png  \n",
            "  inflating: train/9/00009_00024_00016.png  \n",
            "  inflating: train/9/00009_00024_00017.png  \n",
            "  inflating: train/9/00009_00024_00018.png  \n",
            "  inflating: train/9/00009_00024_00019.png  \n",
            "  inflating: train/9/00009_00024_00020.png  \n",
            "  inflating: train/9/00009_00024_00021.png  \n",
            "  inflating: train/9/00009_00024_00022.png  \n",
            "  inflating: train/9/00009_00024_00023.png  \n",
            "  inflating: train/9/00009_00024_00024.png  \n",
            "  inflating: train/9/00009_00024_00025.png  \n",
            "  inflating: train/9/00009_00024_00026.png  \n",
            "  inflating: train/9/00009_00024_00027.png  \n",
            "  inflating: train/9/00009_00024_00028.png  \n",
            "  inflating: train/9/00009_00024_00029.png  \n",
            "  inflating: train/9/00009_00025_00000.png  \n",
            "  inflating: train/9/00009_00025_00001.png  \n",
            "  inflating: train/9/00009_00025_00002.png  \n",
            "  inflating: train/9/00009_00025_00003.png  \n",
            "  inflating: train/9/00009_00025_00004.png  \n",
            "  inflating: train/9/00009_00025_00005.png  \n",
            "  inflating: train/9/00009_00025_00006.png  \n",
            "  inflating: train/9/00009_00025_00007.png  \n",
            "  inflating: train/9/00009_00025_00008.png  \n",
            "  inflating: train/9/00009_00025_00009.png  \n",
            "  inflating: train/9/00009_00025_00010.png  \n",
            "  inflating: train/9/00009_00025_00011.png  \n",
            "  inflating: train/9/00009_00025_00012.png  \n",
            "  inflating: train/9/00009_00025_00013.png  \n",
            "  inflating: train/9/00009_00025_00014.png  \n",
            "  inflating: train/9/00009_00025_00015.png  \n",
            "  inflating: train/9/00009_00025_00016.png  \n",
            "  inflating: train/9/00009_00025_00017.png  \n",
            "  inflating: train/9/00009_00025_00018.png  \n",
            "  inflating: train/9/00009_00025_00019.png  \n",
            "  inflating: train/9/00009_00025_00020.png  \n",
            "  inflating: train/9/00009_00025_00021.png  \n",
            "  inflating: train/9/00009_00025_00022.png  \n",
            "  inflating: train/9/00009_00025_00023.png  \n",
            "  inflating: train/9/00009_00025_00024.png  \n",
            "  inflating: train/9/00009_00025_00025.png  \n",
            "  inflating: train/9/00009_00025_00026.png  \n",
            "  inflating: train/9/00009_00025_00027.png  \n",
            "  inflating: train/9/00009_00025_00028.png  \n",
            "  inflating: train/9/00009_00025_00029.png  \n",
            "  inflating: train/9/00009_00026_00000.png  \n",
            "  inflating: train/9/00009_00026_00001.png  \n",
            "  inflating: train/9/00009_00026_00002.png  \n",
            "  inflating: train/9/00009_00026_00003.png  \n",
            "  inflating: train/9/00009_00026_00004.png  \n",
            "  inflating: train/9/00009_00026_00005.png  \n",
            "  inflating: train/9/00009_00026_00006.png  \n",
            "  inflating: train/9/00009_00026_00007.png  \n",
            "  inflating: train/9/00009_00026_00008.png  \n",
            "  inflating: train/9/00009_00026_00009.png  \n",
            "  inflating: train/9/00009_00026_00010.png  \n",
            "  inflating: train/9/00009_00026_00011.png  \n",
            "  inflating: train/9/00009_00026_00012.png  \n",
            "  inflating: train/9/00009_00026_00013.png  \n",
            "  inflating: train/9/00009_00026_00014.png  \n",
            "  inflating: train/9/00009_00026_00015.png  \n",
            "  inflating: train/9/00009_00026_00016.png  \n",
            "  inflating: train/9/00009_00026_00017.png  \n",
            "  inflating: train/9/00009_00026_00018.png  \n",
            "  inflating: train/9/00009_00026_00019.png  \n",
            "  inflating: train/9/00009_00026_00020.png  \n",
            "  inflating: train/9/00009_00026_00021.png  \n",
            "  inflating: train/9/00009_00026_00022.png  \n",
            "  inflating: train/9/00009_00026_00023.png  \n",
            "  inflating: train/9/00009_00026_00024.png  \n",
            "  inflating: train/9/00009_00026_00025.png  \n",
            "  inflating: train/9/00009_00026_00026.png  \n",
            "  inflating: train/9/00009_00026_00027.png  \n",
            "  inflating: train/9/00009_00026_00028.png  \n",
            "  inflating: train/9/00009_00026_00029.png  \n",
            "  inflating: train/9/00009_00027_00000.png  \n",
            "  inflating: train/9/00009_00027_00001.png  \n",
            "  inflating: train/9/00009_00027_00002.png  \n",
            "  inflating: train/9/00009_00027_00003.png  \n",
            "  inflating: train/9/00009_00027_00004.png  \n",
            "  inflating: train/9/00009_00027_00005.png  \n",
            "  inflating: train/9/00009_00027_00006.png  \n",
            "  inflating: train/9/00009_00027_00007.png  \n",
            "  inflating: train/9/00009_00027_00008.png  \n",
            "  inflating: train/9/00009_00027_00009.png  \n",
            "  inflating: train/9/00009_00027_00010.png  \n",
            "  inflating: train/9/00009_00027_00011.png  \n",
            "  inflating: train/9/00009_00027_00012.png  \n",
            "  inflating: train/9/00009_00027_00013.png  \n",
            "  inflating: train/9/00009_00027_00014.png  \n",
            "  inflating: train/9/00009_00027_00015.png  \n",
            "  inflating: train/9/00009_00027_00016.png  \n",
            "  inflating: train/9/00009_00027_00017.png  \n",
            "  inflating: train/9/00009_00027_00018.png  \n",
            "  inflating: train/9/00009_00027_00019.png  \n",
            "  inflating: train/9/00009_00027_00020.png  \n",
            "  inflating: train/9/00009_00027_00021.png  \n",
            "  inflating: train/9/00009_00027_00022.png  \n",
            "  inflating: train/9/00009_00027_00023.png  \n",
            "  inflating: train/9/00009_00027_00024.png  \n",
            "  inflating: train/9/00009_00027_00025.png  \n",
            "  inflating: train/9/00009_00027_00026.png  \n",
            "  inflating: train/9/00009_00027_00027.png  \n",
            "  inflating: train/9/00009_00027_00028.png  \n",
            "  inflating: train/9/00009_00027_00029.png  \n",
            "  inflating: train/9/00009_00028_00000.png  \n",
            "  inflating: train/9/00009_00028_00001.png  \n",
            "  inflating: train/9/00009_00028_00002.png  \n",
            "  inflating: train/9/00009_00028_00003.png  \n",
            "  inflating: train/9/00009_00028_00004.png  \n",
            "  inflating: train/9/00009_00028_00005.png  \n",
            "  inflating: train/9/00009_00028_00006.png  \n",
            "  inflating: train/9/00009_00028_00007.png  \n",
            "  inflating: train/9/00009_00028_00008.png  \n",
            "  inflating: train/9/00009_00028_00009.png  \n",
            "  inflating: train/9/00009_00028_00010.png  \n",
            "  inflating: train/9/00009_00028_00011.png  \n",
            "  inflating: train/9/00009_00028_00012.png  \n",
            "  inflating: train/9/00009_00028_00013.png  \n",
            "  inflating: train/9/00009_00028_00014.png  \n",
            "  inflating: train/9/00009_00028_00015.png  \n",
            "  inflating: train/9/00009_00028_00016.png  \n",
            "  inflating: train/9/00009_00028_00017.png  \n",
            "  inflating: train/9/00009_00028_00018.png  \n",
            "  inflating: train/9/00009_00028_00019.png  \n",
            "  inflating: train/9/00009_00028_00020.png  \n",
            "  inflating: train/9/00009_00028_00021.png  \n",
            "  inflating: train/9/00009_00028_00022.png  \n",
            "  inflating: train/9/00009_00028_00023.png  \n",
            "  inflating: train/9/00009_00028_00024.png  \n",
            "  inflating: train/9/00009_00028_00025.png  \n",
            "  inflating: train/9/00009_00028_00026.png  \n",
            "  inflating: train/9/00009_00028_00027.png  \n",
            "  inflating: train/9/00009_00028_00028.png  \n",
            "  inflating: train/9/00009_00028_00029.png  \n",
            "  inflating: train/9/00009_00029_00000.png  \n",
            "  inflating: train/9/00009_00029_00001.png  \n",
            "  inflating: train/9/00009_00029_00002.png  \n",
            "  inflating: train/9/00009_00029_00003.png  \n",
            "  inflating: train/9/00009_00029_00004.png  \n",
            "  inflating: train/9/00009_00029_00005.png  \n",
            "  inflating: train/9/00009_00029_00006.png  \n",
            "  inflating: train/9/00009_00029_00007.png  \n",
            "  inflating: train/9/00009_00029_00008.png  \n",
            "  inflating: train/9/00009_00029_00009.png  \n",
            "  inflating: train/9/00009_00029_00010.png  \n",
            "  inflating: train/9/00009_00029_00011.png  \n",
            "  inflating: train/9/00009_00029_00012.png  \n",
            "  inflating: train/9/00009_00029_00013.png  \n",
            "  inflating: train/9/00009_00029_00014.png  \n",
            "  inflating: train/9/00009_00029_00015.png  \n",
            "  inflating: train/9/00009_00029_00016.png  \n",
            "  inflating: train/9/00009_00029_00017.png  \n",
            "  inflating: train/9/00009_00029_00018.png  \n",
            "  inflating: train/9/00009_00029_00019.png  \n",
            "  inflating: train/9/00009_00029_00020.png  \n",
            "  inflating: train/9/00009_00029_00021.png  \n",
            "  inflating: train/9/00009_00029_00022.png  \n",
            "  inflating: train/9/00009_00029_00023.png  \n",
            "  inflating: train/9/00009_00029_00024.png  \n",
            "  inflating: train/9/00009_00029_00025.png  \n",
            "  inflating: train/9/00009_00029_00026.png  \n",
            "  inflating: train/9/00009_00029_00027.png  \n",
            "  inflating: train/9/00009_00029_00028.png  \n",
            "  inflating: train/9/00009_00029_00029.png  \n",
            "  inflating: train/9/00009_00030_00000.png  \n",
            "  inflating: train/9/00009_00030_00001.png  \n",
            "  inflating: train/9/00009_00030_00002.png  \n",
            "  inflating: train/9/00009_00030_00003.png  \n",
            "  inflating: train/9/00009_00030_00004.png  \n",
            "  inflating: train/9/00009_00030_00005.png  \n",
            "  inflating: train/9/00009_00030_00006.png  \n",
            "  inflating: train/9/00009_00030_00007.png  \n",
            "  inflating: train/9/00009_00030_00008.png  \n",
            "  inflating: train/9/00009_00030_00009.png  \n",
            "  inflating: train/9/00009_00030_00010.png  \n",
            "  inflating: train/9/00009_00030_00011.png  \n",
            "  inflating: train/9/00009_00030_00012.png  \n",
            "  inflating: train/9/00009_00030_00013.png  \n",
            "  inflating: train/9/00009_00030_00014.png  \n",
            "  inflating: train/9/00009_00030_00015.png  \n",
            "  inflating: train/9/00009_00030_00016.png  \n",
            "  inflating: train/9/00009_00030_00017.png  \n",
            "  inflating: train/9/00009_00030_00018.png  \n",
            "  inflating: train/9/00009_00030_00019.png  \n",
            "  inflating: train/9/00009_00030_00020.png  \n",
            "  inflating: train/9/00009_00030_00021.png  \n",
            "  inflating: train/9/00009_00030_00022.png  \n",
            "  inflating: train/9/00009_00030_00023.png  \n",
            "  inflating: train/9/00009_00030_00024.png  \n",
            "  inflating: train/9/00009_00030_00025.png  \n",
            "  inflating: train/9/00009_00030_00026.png  \n",
            "  inflating: train/9/00009_00030_00027.png  \n",
            "  inflating: train/9/00009_00030_00028.png  \n",
            "  inflating: train/9/00009_00030_00029.png  \n",
            "  inflating: train/9/00009_00031_00000.png  \n",
            "  inflating: train/9/00009_00031_00001.png  \n",
            "  inflating: train/9/00009_00031_00002.png  \n",
            "  inflating: train/9/00009_00031_00003.png  \n",
            "  inflating: train/9/00009_00031_00004.png  \n",
            "  inflating: train/9/00009_00031_00005.png  \n",
            "  inflating: train/9/00009_00031_00006.png  \n",
            "  inflating: train/9/00009_00031_00007.png  \n",
            "  inflating: train/9/00009_00031_00008.png  \n",
            "  inflating: train/9/00009_00031_00009.png  \n",
            "  inflating: train/9/00009_00031_00010.png  \n",
            "  inflating: train/9/00009_00031_00011.png  \n",
            "  inflating: train/9/00009_00031_00012.png  \n",
            "  inflating: train/9/00009_00031_00013.png  \n",
            "  inflating: train/9/00009_00031_00014.png  \n",
            "  inflating: train/9/00009_00031_00015.png  \n",
            "  inflating: train/9/00009_00031_00016.png  \n",
            "  inflating: train/9/00009_00031_00017.png  \n",
            "  inflating: train/9/00009_00031_00018.png  \n",
            "  inflating: train/9/00009_00031_00019.png  \n",
            "  inflating: train/9/00009_00031_00020.png  \n",
            "  inflating: train/9/00009_00031_00021.png  \n",
            "  inflating: train/9/00009_00031_00022.png  \n",
            "  inflating: train/9/00009_00031_00023.png  \n",
            "  inflating: train/9/00009_00031_00024.png  \n",
            "  inflating: train/9/00009_00031_00025.png  \n",
            "  inflating: train/9/00009_00031_00026.png  \n",
            "  inflating: train/9/00009_00031_00027.png  \n",
            "  inflating: train/9/00009_00031_00028.png  \n",
            "  inflating: train/9/00009_00031_00029.png  \n",
            "  inflating: train/9/00009_00032_00000.png  \n",
            "  inflating: train/9/00009_00032_00001.png  \n",
            "  inflating: train/9/00009_00032_00002.png  \n",
            "  inflating: train/9/00009_00032_00003.png  \n",
            "  inflating: train/9/00009_00032_00004.png  \n",
            "  inflating: train/9/00009_00032_00005.png  \n",
            "  inflating: train/9/00009_00032_00006.png  \n",
            "  inflating: train/9/00009_00032_00007.png  \n",
            "  inflating: train/9/00009_00032_00008.png  \n",
            "  inflating: train/9/00009_00032_00009.png  \n",
            "  inflating: train/9/00009_00032_00010.png  \n",
            "  inflating: train/9/00009_00032_00011.png  \n",
            "  inflating: train/9/00009_00032_00012.png  \n",
            "  inflating: train/9/00009_00032_00013.png  \n",
            "  inflating: train/9/00009_00032_00014.png  \n",
            "  inflating: train/9/00009_00032_00015.png  \n",
            "  inflating: train/9/00009_00032_00016.png  \n",
            "  inflating: train/9/00009_00032_00017.png  \n",
            "  inflating: train/9/00009_00032_00018.png  \n",
            "  inflating: train/9/00009_00032_00019.png  \n",
            "  inflating: train/9/00009_00032_00020.png  \n",
            "  inflating: train/9/00009_00032_00021.png  \n",
            "  inflating: train/9/00009_00032_00022.png  \n",
            "  inflating: train/9/00009_00032_00023.png  \n",
            "  inflating: train/9/00009_00032_00024.png  \n",
            "  inflating: train/9/00009_00032_00025.png  \n",
            "  inflating: train/9/00009_00032_00026.png  \n",
            "  inflating: train/9/00009_00032_00027.png  \n",
            "  inflating: train/9/00009_00032_00028.png  \n",
            "  inflating: train/9/00009_00032_00029.png  \n",
            "  inflating: train/9/00009_00033_00000.png  \n",
            "  inflating: train/9/00009_00033_00001.png  \n",
            "  inflating: train/9/00009_00033_00002.png  \n",
            "  inflating: train/9/00009_00033_00003.png  \n",
            "  inflating: train/9/00009_00033_00004.png  \n",
            "  inflating: train/9/00009_00033_00005.png  \n",
            "  inflating: train/9/00009_00033_00006.png  \n",
            "  inflating: train/9/00009_00033_00007.png  \n",
            "  inflating: train/9/00009_00033_00008.png  \n",
            "  inflating: train/9/00009_00033_00009.png  \n",
            "  inflating: train/9/00009_00033_00010.png  \n",
            "  inflating: train/9/00009_00033_00011.png  \n",
            "  inflating: train/9/00009_00033_00012.png  \n",
            "  inflating: train/9/00009_00033_00013.png  \n",
            "  inflating: train/9/00009_00033_00014.png  \n",
            "  inflating: train/9/00009_00033_00015.png  \n",
            "  inflating: train/9/00009_00033_00016.png  \n",
            "  inflating: train/9/00009_00033_00017.png  \n",
            "  inflating: train/9/00009_00033_00018.png  \n",
            "  inflating: train/9/00009_00033_00019.png  \n",
            "  inflating: train/9/00009_00033_00020.png  \n",
            "  inflating: train/9/00009_00033_00021.png  \n",
            "  inflating: train/9/00009_00033_00022.png  \n",
            "  inflating: train/9/00009_00033_00023.png  \n",
            "  inflating: train/9/00009_00033_00024.png  \n",
            "  inflating: train/9/00009_00033_00025.png  \n",
            "  inflating: train/9/00009_00033_00026.png  \n",
            "  inflating: train/9/00009_00033_00027.png  \n",
            "  inflating: train/9/00009_00033_00028.png  \n",
            "  inflating: train/9/00009_00033_00029.png  \n",
            "  inflating: train/9/00009_00034_00000.png  \n",
            "  inflating: train/9/00009_00034_00001.png  \n",
            "  inflating: train/9/00009_00034_00002.png  \n",
            "  inflating: train/9/00009_00034_00003.png  \n",
            "  inflating: train/9/00009_00034_00004.png  \n",
            "  inflating: train/9/00009_00034_00005.png  \n",
            "  inflating: train/9/00009_00034_00006.png  \n",
            "  inflating: train/9/00009_00034_00007.png  \n",
            "  inflating: train/9/00009_00034_00008.png  \n",
            "  inflating: train/9/00009_00034_00009.png  \n",
            "  inflating: train/9/00009_00034_00010.png  \n",
            "  inflating: train/9/00009_00034_00011.png  \n",
            "  inflating: train/9/00009_00034_00012.png  \n",
            "  inflating: train/9/00009_00034_00013.png  \n",
            "  inflating: train/9/00009_00034_00014.png  \n",
            "  inflating: train/9/00009_00034_00015.png  \n",
            "  inflating: train/9/00009_00034_00016.png  \n",
            "  inflating: train/9/00009_00034_00017.png  \n",
            "  inflating: train/9/00009_00034_00018.png  \n",
            "  inflating: train/9/00009_00034_00019.png  \n",
            "  inflating: train/9/00009_00034_00020.png  \n",
            "  inflating: train/9/00009_00034_00021.png  \n",
            "  inflating: train/9/00009_00034_00022.png  \n",
            "  inflating: train/9/00009_00034_00023.png  \n",
            "  inflating: train/9/00009_00034_00024.png  \n",
            "  inflating: train/9/00009_00034_00025.png  \n",
            "  inflating: train/9/00009_00034_00026.png  \n",
            "  inflating: train/9/00009_00034_00027.png  \n",
            "  inflating: train/9/00009_00034_00028.png  \n",
            "  inflating: train/9/00009_00034_00029.png  \n",
            "  inflating: train/9/00009_00035_00000.png  \n",
            "  inflating: train/9/00009_00035_00001.png  \n",
            "  inflating: train/9/00009_00035_00002.png  \n",
            "  inflating: train/9/00009_00035_00003.png  \n",
            "  inflating: train/9/00009_00035_00004.png  \n",
            "  inflating: train/9/00009_00035_00005.png  \n",
            "  inflating: train/9/00009_00035_00006.png  \n",
            "  inflating: train/9/00009_00035_00007.png  \n",
            "  inflating: train/9/00009_00035_00008.png  \n",
            "  inflating: train/9/00009_00035_00009.png  \n",
            "  inflating: train/9/00009_00035_00010.png  \n",
            "  inflating: train/9/00009_00035_00011.png  \n",
            "  inflating: train/9/00009_00035_00012.png  \n",
            "  inflating: train/9/00009_00035_00013.png  \n",
            "  inflating: train/9/00009_00035_00014.png  \n",
            "  inflating: train/9/00009_00035_00015.png  \n",
            "  inflating: train/9/00009_00035_00016.png  \n",
            "  inflating: train/9/00009_00035_00017.png  \n",
            "  inflating: train/9/00009_00035_00018.png  \n",
            "  inflating: train/9/00009_00035_00019.png  \n",
            "  inflating: train/9/00009_00035_00020.png  \n",
            "  inflating: train/9/00009_00035_00021.png  \n",
            "  inflating: train/9/00009_00035_00022.png  \n",
            "  inflating: train/9/00009_00035_00023.png  \n",
            "  inflating: train/9/00009_00035_00024.png  \n",
            "  inflating: train/9/00009_00035_00025.png  \n",
            "  inflating: train/9/00009_00035_00026.png  \n",
            "  inflating: train/9/00009_00035_00027.png  \n",
            "  inflating: train/9/00009_00035_00028.png  \n",
            "  inflating: train/9/00009_00035_00029.png  \n",
            "  inflating: train/9/00009_00036_00000.png  \n",
            "  inflating: train/9/00009_00036_00001.png  \n",
            "  inflating: train/9/00009_00036_00002.png  \n",
            "  inflating: train/9/00009_00036_00003.png  \n",
            "  inflating: train/9/00009_00036_00004.png  \n",
            "  inflating: train/9/00009_00036_00005.png  \n",
            "  inflating: train/9/00009_00036_00006.png  \n",
            "  inflating: train/9/00009_00036_00007.png  \n",
            "  inflating: train/9/00009_00036_00008.png  \n",
            "  inflating: train/9/00009_00036_00009.png  \n",
            "  inflating: train/9/00009_00036_00010.png  \n",
            "  inflating: train/9/00009_00036_00011.png  \n",
            "  inflating: train/9/00009_00036_00012.png  \n",
            "  inflating: train/9/00009_00036_00013.png  \n",
            "  inflating: train/9/00009_00036_00014.png  \n",
            "  inflating: train/9/00009_00036_00015.png  \n",
            "  inflating: train/9/00009_00036_00016.png  \n",
            "  inflating: train/9/00009_00036_00017.png  \n",
            "  inflating: train/9/00009_00036_00018.png  \n",
            "  inflating: train/9/00009_00036_00019.png  \n",
            "  inflating: train/9/00009_00036_00020.png  \n",
            "  inflating: train/9/00009_00036_00021.png  \n",
            "  inflating: train/9/00009_00036_00022.png  \n",
            "  inflating: train/9/00009_00036_00023.png  \n",
            "  inflating: train/9/00009_00036_00024.png  \n",
            "  inflating: train/9/00009_00036_00025.png  \n",
            "  inflating: train/9/00009_00036_00026.png  \n",
            "  inflating: train/9/00009_00036_00027.png  \n",
            "  inflating: train/9/00009_00036_00028.png  \n",
            "  inflating: train/9/00009_00036_00029.png  \n",
            "  inflating: train/9/00009_00037_00000.png  \n",
            "  inflating: train/9/00009_00037_00001.png  \n",
            "  inflating: train/9/00009_00037_00002.png  \n",
            "  inflating: train/9/00009_00037_00003.png  \n",
            "  inflating: train/9/00009_00037_00004.png  \n",
            "  inflating: train/9/00009_00037_00005.png  \n",
            "  inflating: train/9/00009_00037_00006.png  \n",
            "  inflating: train/9/00009_00037_00007.png  \n",
            "  inflating: train/9/00009_00037_00008.png  \n",
            "  inflating: train/9/00009_00037_00009.png  \n",
            "  inflating: train/9/00009_00037_00010.png  \n",
            "  inflating: train/9/00009_00037_00011.png  \n",
            "  inflating: train/9/00009_00037_00012.png  \n",
            "  inflating: train/9/00009_00037_00013.png  \n",
            "  inflating: train/9/00009_00037_00014.png  \n",
            "  inflating: train/9/00009_00037_00015.png  \n",
            "  inflating: train/9/00009_00037_00016.png  \n",
            "  inflating: train/9/00009_00037_00017.png  \n",
            "  inflating: train/9/00009_00037_00018.png  \n",
            "  inflating: train/9/00009_00037_00019.png  \n",
            "  inflating: train/9/00009_00037_00020.png  \n",
            "  inflating: train/9/00009_00037_00021.png  \n",
            "  inflating: train/9/00009_00037_00022.png  \n",
            "  inflating: train/9/00009_00037_00023.png  \n",
            "  inflating: train/9/00009_00037_00024.png  \n",
            "  inflating: train/9/00009_00037_00025.png  \n",
            "  inflating: train/9/00009_00037_00026.png  \n",
            "  inflating: train/9/00009_00037_00027.png  \n",
            "  inflating: train/9/00009_00037_00028.png  \n",
            "  inflating: train/9/00009_00037_00029.png  \n",
            "  inflating: train/9/00009_00038_00000.png  \n",
            "  inflating: train/9/00009_00038_00001.png  \n",
            "  inflating: train/9/00009_00038_00002.png  \n",
            "  inflating: train/9/00009_00038_00003.png  \n",
            "  inflating: train/9/00009_00038_00004.png  \n",
            "  inflating: train/9/00009_00038_00005.png  \n",
            "  inflating: train/9/00009_00038_00006.png  \n",
            "  inflating: train/9/00009_00038_00007.png  \n",
            "  inflating: train/9/00009_00038_00008.png  \n",
            "  inflating: train/9/00009_00038_00009.png  \n",
            "  inflating: train/9/00009_00038_00010.png  \n",
            "  inflating: train/9/00009_00038_00011.png  \n",
            "  inflating: train/9/00009_00038_00012.png  \n",
            "  inflating: train/9/00009_00038_00013.png  \n",
            "  inflating: train/9/00009_00038_00014.png  \n",
            "  inflating: train/9/00009_00038_00015.png  \n",
            "  inflating: train/9/00009_00038_00016.png  \n",
            "  inflating: train/9/00009_00038_00017.png  \n",
            "  inflating: train/9/00009_00038_00018.png  \n",
            "  inflating: train/9/00009_00038_00019.png  \n",
            "  inflating: train/9/00009_00038_00020.png  \n",
            "  inflating: train/9/00009_00038_00021.png  \n",
            "  inflating: train/9/00009_00038_00022.png  \n",
            "  inflating: train/9/00009_00038_00023.png  \n",
            "  inflating: train/9/00009_00038_00024.png  \n",
            "  inflating: train/9/00009_00038_00025.png  \n",
            "  inflating: train/9/00009_00038_00026.png  \n",
            "  inflating: train/9/00009_00038_00027.png  \n",
            "  inflating: train/9/00009_00038_00028.png  \n",
            "  inflating: train/9/00009_00038_00029.png  \n",
            "  inflating: train/9/00009_00039_00000.png  \n",
            "  inflating: train/9/00009_00039_00001.png  \n",
            "  inflating: train/9/00009_00039_00002.png  \n",
            "  inflating: train/9/00009_00039_00003.png  \n",
            "  inflating: train/9/00009_00039_00004.png  \n",
            "  inflating: train/9/00009_00039_00005.png  \n",
            "  inflating: train/9/00009_00039_00006.png  \n",
            "  inflating: train/9/00009_00039_00007.png  \n",
            "  inflating: train/9/00009_00039_00008.png  \n",
            "  inflating: train/9/00009_00039_00009.png  \n",
            "  inflating: train/9/00009_00039_00010.png  \n",
            "  inflating: train/9/00009_00039_00011.png  \n",
            "  inflating: train/9/00009_00039_00012.png  \n",
            "  inflating: train/9/00009_00039_00013.png  \n",
            "  inflating: train/9/00009_00039_00014.png  \n",
            "  inflating: train/9/00009_00039_00015.png  \n",
            "  inflating: train/9/00009_00039_00016.png  \n",
            "  inflating: train/9/00009_00039_00017.png  \n",
            "  inflating: train/9/00009_00039_00018.png  \n",
            "  inflating: train/9/00009_00039_00019.png  \n",
            "  inflating: train/9/00009_00039_00020.png  \n",
            "  inflating: train/9/00009_00039_00021.png  \n",
            "  inflating: train/9/00009_00039_00022.png  \n",
            "  inflating: train/9/00009_00039_00023.png  \n",
            "  inflating: train/9/00009_00039_00024.png  \n",
            "  inflating: train/9/00009_00039_00025.png  \n",
            "  inflating: train/9/00009_00039_00026.png  \n",
            "  inflating: train/9/00009_00039_00027.png  \n",
            "  inflating: train/9/00009_00039_00028.png  \n",
            "  inflating: train/9/00009_00039_00029.png  \n",
            "  inflating: train/9/00009_00040_00000.png  \n",
            "  inflating: train/9/00009_00040_00001.png  \n",
            "  inflating: train/9/00009_00040_00002.png  \n",
            "  inflating: train/9/00009_00040_00003.png  \n",
            "  inflating: train/9/00009_00040_00004.png  \n",
            "  inflating: train/9/00009_00040_00005.png  \n",
            "  inflating: train/9/00009_00040_00006.png  \n",
            "  inflating: train/9/00009_00040_00007.png  \n",
            "  inflating: train/9/00009_00040_00008.png  \n",
            "  inflating: train/9/00009_00040_00009.png  \n",
            "  inflating: train/9/00009_00040_00010.png  \n",
            "  inflating: train/9/00009_00040_00011.png  \n",
            "  inflating: train/9/00009_00040_00012.png  \n",
            "  inflating: train/9/00009_00040_00013.png  \n",
            "  inflating: train/9/00009_00040_00014.png  \n",
            "  inflating: train/9/00009_00040_00015.png  \n",
            "  inflating: train/9/00009_00040_00016.png  \n",
            "  inflating: train/9/00009_00040_00017.png  \n",
            "  inflating: train/9/00009_00040_00018.png  \n",
            "  inflating: train/9/00009_00040_00019.png  \n",
            "  inflating: train/9/00009_00040_00020.png  \n",
            "  inflating: train/9/00009_00040_00021.png  \n",
            "  inflating: train/9/00009_00040_00022.png  \n",
            "  inflating: train/9/00009_00040_00023.png  \n",
            "  inflating: train/9/00009_00040_00024.png  \n",
            "  inflating: train/9/00009_00040_00025.png  \n",
            "  inflating: train/9/00009_00040_00026.png  \n",
            "  inflating: train/9/00009_00040_00027.png  \n",
            "  inflating: train/9/00009_00040_00028.png  \n",
            "  inflating: train/9/00009_00040_00029.png  \n",
            "  inflating: train/9/00009_00041_00000.png  \n",
            "  inflating: train/9/00009_00041_00001.png  \n",
            "  inflating: train/9/00009_00041_00002.png  \n",
            "  inflating: train/9/00009_00041_00003.png  \n",
            "  inflating: train/9/00009_00041_00004.png  \n",
            "  inflating: train/9/00009_00041_00005.png  \n",
            "  inflating: train/9/00009_00041_00006.png  \n",
            "  inflating: train/9/00009_00041_00007.png  \n",
            "  inflating: train/9/00009_00041_00008.png  \n",
            "  inflating: train/9/00009_00041_00009.png  \n",
            "  inflating: train/9/00009_00041_00010.png  \n",
            "  inflating: train/9/00009_00041_00011.png  \n",
            "  inflating: train/9/00009_00041_00012.png  \n",
            "  inflating: train/9/00009_00041_00013.png  \n",
            "  inflating: train/9/00009_00041_00014.png  \n",
            "  inflating: train/9/00009_00041_00015.png  \n",
            "  inflating: train/9/00009_00041_00016.png  \n",
            "  inflating: train/9/00009_00041_00017.png  \n",
            "  inflating: train/9/00009_00041_00018.png  \n",
            "  inflating: train/9/00009_00041_00019.png  \n",
            "  inflating: train/9/00009_00041_00020.png  \n",
            "  inflating: train/9/00009_00041_00021.png  \n",
            "  inflating: train/9/00009_00041_00022.png  \n",
            "  inflating: train/9/00009_00041_00023.png  \n",
            "  inflating: train/9/00009_00041_00024.png  \n",
            "  inflating: train/9/00009_00041_00025.png  \n",
            "  inflating: train/9/00009_00041_00026.png  \n",
            "  inflating: train/9/00009_00041_00027.png  \n",
            "  inflating: train/9/00009_00041_00028.png  \n",
            "  inflating: train/9/00009_00041_00029.png  \n",
            "  inflating: train/9/00009_00042_00000.png  \n",
            "  inflating: train/9/00009_00042_00001.png  \n",
            "  inflating: train/9/00009_00042_00002.png  \n",
            "  inflating: train/9/00009_00042_00003.png  \n",
            "  inflating: train/9/00009_00042_00004.png  \n",
            "  inflating: train/9/00009_00042_00005.png  \n",
            "  inflating: train/9/00009_00042_00006.png  \n",
            "  inflating: train/9/00009_00042_00007.png  \n",
            "  inflating: train/9/00009_00042_00008.png  \n",
            "  inflating: train/9/00009_00042_00009.png  \n",
            "  inflating: train/9/00009_00042_00010.png  \n",
            "  inflating: train/9/00009_00042_00011.png  \n",
            "  inflating: train/9/00009_00042_00012.png  \n",
            "  inflating: train/9/00009_00042_00013.png  \n",
            "  inflating: train/9/00009_00042_00014.png  \n",
            "  inflating: train/9/00009_00042_00015.png  \n",
            "  inflating: train/9/00009_00042_00016.png  \n",
            "  inflating: train/9/00009_00042_00017.png  \n",
            "  inflating: train/9/00009_00042_00018.png  \n",
            "  inflating: train/9/00009_00042_00019.png  \n",
            "  inflating: train/9/00009_00042_00020.png  \n",
            "  inflating: train/9/00009_00042_00021.png  \n",
            "  inflating: train/9/00009_00042_00022.png  \n",
            "  inflating: train/9/00009_00042_00023.png  \n",
            "  inflating: train/9/00009_00042_00024.png  \n",
            "  inflating: train/9/00009_00042_00025.png  \n",
            "  inflating: train/9/00009_00042_00026.png  \n",
            "  inflating: train/9/00009_00042_00027.png  \n",
            "  inflating: train/9/00009_00042_00028.png  \n",
            "  inflating: train/9/00009_00042_00029.png  \n",
            "  inflating: train/9/00009_00043_00000.png  \n",
            "  inflating: train/9/00009_00043_00001.png  \n",
            "  inflating: train/9/00009_00043_00002.png  \n",
            "  inflating: train/9/00009_00043_00003.png  \n",
            "  inflating: train/9/00009_00043_00004.png  \n",
            "  inflating: train/9/00009_00043_00005.png  \n",
            "  inflating: train/9/00009_00043_00006.png  \n",
            "  inflating: train/9/00009_00043_00007.png  \n",
            "  inflating: train/9/00009_00043_00008.png  \n",
            "  inflating: train/9/00009_00043_00009.png  \n",
            "  inflating: train/9/00009_00043_00010.png  \n",
            "  inflating: train/9/00009_00043_00011.png  \n",
            "  inflating: train/9/00009_00043_00012.png  \n",
            "  inflating: train/9/00009_00043_00013.png  \n",
            "  inflating: train/9/00009_00043_00014.png  \n",
            "  inflating: train/9/00009_00043_00015.png  \n",
            "  inflating: train/9/00009_00043_00016.png  \n",
            "  inflating: train/9/00009_00043_00017.png  \n",
            "  inflating: train/9/00009_00043_00018.png  \n",
            "  inflating: train/9/00009_00043_00019.png  \n",
            "  inflating: train/9/00009_00043_00020.png  \n",
            "  inflating: train/9/00009_00043_00021.png  \n",
            "  inflating: train/9/00009_00043_00022.png  \n",
            "  inflating: train/9/00009_00043_00023.png  \n",
            "  inflating: train/9/00009_00043_00024.png  \n",
            "  inflating: train/9/00009_00043_00025.png  \n",
            "  inflating: train/9/00009_00043_00026.png  \n",
            "  inflating: train/9/00009_00043_00027.png  \n",
            "  inflating: train/9/00009_00043_00028.png  \n",
            "  inflating: train/9/00009_00043_00029.png  \n",
            "  inflating: train/9/00009_00044_00000.png  \n",
            "  inflating: train/9/00009_00044_00001.png  \n",
            "  inflating: train/9/00009_00044_00002.png  \n",
            "  inflating: train/9/00009_00044_00003.png  \n",
            "  inflating: train/9/00009_00044_00004.png  \n",
            "  inflating: train/9/00009_00044_00005.png  \n",
            "  inflating: train/9/00009_00044_00006.png  \n",
            "  inflating: train/9/00009_00044_00007.png  \n",
            "  inflating: train/9/00009_00044_00008.png  \n",
            "  inflating: train/9/00009_00044_00009.png  \n",
            "  inflating: train/9/00009_00044_00010.png  \n",
            "  inflating: train/9/00009_00044_00011.png  \n",
            "  inflating: train/9/00009_00044_00012.png  \n",
            "  inflating: train/9/00009_00044_00013.png  \n",
            "  inflating: train/9/00009_00044_00014.png  \n",
            "  inflating: train/9/00009_00044_00015.png  \n",
            "  inflating: train/9/00009_00044_00016.png  \n",
            "  inflating: train/9/00009_00044_00017.png  \n",
            "  inflating: train/9/00009_00044_00018.png  \n",
            "  inflating: train/9/00009_00044_00019.png  \n",
            "  inflating: train/9/00009_00044_00020.png  \n",
            "  inflating: train/9/00009_00044_00021.png  \n",
            "  inflating: train/9/00009_00044_00022.png  \n",
            "  inflating: train/9/00009_00044_00023.png  \n",
            "  inflating: train/9/00009_00044_00024.png  \n",
            "  inflating: train/9/00009_00044_00025.png  \n",
            "  inflating: train/9/00009_00044_00026.png  \n",
            "  inflating: train/9/00009_00044_00027.png  \n",
            "  inflating: train/9/00009_00044_00028.png  \n",
            "  inflating: train/9/00009_00044_00029.png  \n",
            "  inflating: train/9/00009_00045_00000.png  \n",
            "  inflating: train/9/00009_00045_00001.png  \n",
            "  inflating: train/9/00009_00045_00002.png  \n",
            "  inflating: train/9/00009_00045_00003.png  \n",
            "  inflating: train/9/00009_00045_00004.png  \n",
            "  inflating: train/9/00009_00045_00005.png  \n",
            "  inflating: train/9/00009_00045_00006.png  \n",
            "  inflating: train/9/00009_00045_00007.png  \n",
            "  inflating: train/9/00009_00045_00008.png  \n",
            "  inflating: train/9/00009_00045_00009.png  \n",
            "  inflating: train/9/00009_00045_00010.png  \n",
            "  inflating: train/9/00009_00045_00011.png  \n",
            "  inflating: train/9/00009_00045_00012.png  \n",
            "  inflating: train/9/00009_00045_00013.png  \n",
            "  inflating: train/9/00009_00045_00014.png  \n",
            "  inflating: train/9/00009_00045_00015.png  \n",
            "  inflating: train/9/00009_00045_00016.png  \n",
            "  inflating: train/9/00009_00045_00017.png  \n",
            "  inflating: train/9/00009_00045_00018.png  \n",
            "  inflating: train/9/00009_00045_00019.png  \n",
            "  inflating: train/9/00009_00045_00020.png  \n",
            "  inflating: train/9/00009_00045_00021.png  \n",
            "  inflating: train/9/00009_00045_00022.png  \n",
            "  inflating: train/9/00009_00045_00023.png  \n",
            "  inflating: train/9/00009_00045_00024.png  \n",
            "  inflating: train/9/00009_00045_00025.png  \n",
            "  inflating: train/9/00009_00045_00026.png  \n",
            "  inflating: train/9/00009_00045_00027.png  \n",
            "  inflating: train/9/00009_00045_00028.png  \n",
            "  inflating: train/9/00009_00045_00029.png  \n",
            "  inflating: train/9/00009_00046_00000.png  \n",
            "  inflating: train/9/00009_00046_00001.png  \n",
            "  inflating: train/9/00009_00046_00002.png  \n",
            "  inflating: train/9/00009_00046_00003.png  \n",
            "  inflating: train/9/00009_00046_00004.png  \n",
            "  inflating: train/9/00009_00046_00005.png  \n",
            "  inflating: train/9/00009_00046_00006.png  \n",
            "  inflating: train/9/00009_00046_00007.png  \n",
            "  inflating: train/9/00009_00046_00008.png  \n",
            "  inflating: train/9/00009_00046_00009.png  \n",
            "  inflating: train/9/00009_00046_00010.png  \n",
            "  inflating: train/9/00009_00046_00011.png  \n",
            "  inflating: train/9/00009_00046_00012.png  \n",
            "  inflating: train/9/00009_00046_00013.png  \n",
            "  inflating: train/9/00009_00046_00014.png  \n",
            "  inflating: train/9/00009_00046_00015.png  \n",
            "  inflating: train/9/00009_00046_00016.png  \n",
            "  inflating: train/9/00009_00046_00017.png  \n",
            "  inflating: train/9/00009_00046_00018.png  \n",
            "  inflating: train/9/00009_00046_00019.png  \n",
            "  inflating: train/9/00009_00046_00020.png  \n",
            "  inflating: train/9/00009_00046_00021.png  \n",
            "  inflating: train/9/00009_00046_00022.png  \n",
            "  inflating: train/9/00009_00046_00023.png  \n",
            "  inflating: train/9/00009_00046_00024.png  \n",
            "  inflating: train/9/00009_00046_00025.png  \n",
            "  inflating: train/9/00009_00046_00026.png  \n",
            "  inflating: train/9/00009_00046_00027.png  \n",
            "  inflating: train/9/00009_00046_00028.png  \n",
            "  inflating: train/9/00009_00046_00029.png  \n",
            "  inflating: train/9/00009_00047_00000.png  \n",
            "  inflating: train/9/00009_00047_00001.png  \n",
            "  inflating: train/9/00009_00047_00002.png  \n",
            "  inflating: train/9/00009_00047_00003.png  \n",
            "  inflating: train/9/00009_00047_00004.png  \n",
            "  inflating: train/9/00009_00047_00005.png  \n",
            "  inflating: train/9/00009_00047_00006.png  \n",
            "  inflating: train/9/00009_00047_00007.png  \n",
            "  inflating: train/9/00009_00047_00008.png  \n",
            "  inflating: train/9/00009_00047_00009.png  \n",
            "  inflating: train/9/00009_00047_00010.png  \n",
            "  inflating: train/9/00009_00047_00011.png  \n",
            "  inflating: train/9/00009_00047_00012.png  \n",
            "  inflating: train/9/00009_00047_00013.png  \n",
            "  inflating: train/9/00009_00047_00014.png  \n",
            "  inflating: train/9/00009_00047_00015.png  \n",
            "  inflating: train/9/00009_00047_00016.png  \n",
            "  inflating: train/9/00009_00047_00017.png  \n",
            "  inflating: train/9/00009_00047_00018.png  \n",
            "  inflating: train/9/00009_00047_00019.png  \n",
            "  inflating: train/9/00009_00047_00020.png  \n",
            "  inflating: train/9/00009_00047_00021.png  \n",
            "  inflating: train/9/00009_00047_00022.png  \n",
            "  inflating: train/9/00009_00047_00023.png  \n",
            "  inflating: train/9/00009_00047_00024.png  \n",
            "  inflating: train/9/00009_00047_00025.png  \n",
            "  inflating: train/9/00009_00047_00026.png  \n",
            "  inflating: train/9/00009_00047_00027.png  \n",
            "  inflating: train/9/00009_00047_00028.png  \n",
            "  inflating: train/9/00009_00047_00029.png  \n",
            "  inflating: train/9/00009_00048_00000.png  \n",
            "  inflating: train/9/00009_00048_00001.png  \n",
            "  inflating: train/9/00009_00048_00002.png  \n",
            "  inflating: train/9/00009_00048_00003.png  \n",
            "  inflating: train/9/00009_00048_00004.png  \n",
            "  inflating: train/9/00009_00048_00005.png  \n",
            "  inflating: train/9/00009_00048_00006.png  \n",
            "  inflating: train/9/00009_00048_00007.png  \n",
            "  inflating: train/9/00009_00048_00008.png  \n",
            "  inflating: train/9/00009_00048_00009.png  \n",
            "  inflating: train/9/00009_00048_00010.png  \n",
            "  inflating: train/9/00009_00048_00011.png  \n",
            "  inflating: train/9/00009_00048_00012.png  \n",
            "  inflating: train/9/00009_00048_00013.png  \n",
            "  inflating: train/9/00009_00048_00014.png  \n",
            "  inflating: train/9/00009_00048_00015.png  \n",
            "  inflating: train/9/00009_00048_00016.png  \n",
            "  inflating: train/9/00009_00048_00017.png  \n",
            "  inflating: train/9/00009_00048_00018.png  \n",
            "  inflating: train/9/00009_00048_00019.png  \n",
            "  inflating: train/9/00009_00048_00020.png  \n",
            "  inflating: train/9/00009_00048_00021.png  \n",
            "  inflating: train/9/00009_00048_00022.png  \n",
            "  inflating: train/9/00009_00048_00023.png  \n",
            "  inflating: train/9/00009_00048_00024.png  \n",
            "  inflating: train/9/00009_00048_00025.png  \n",
            "  inflating: train/9/00009_00048_00026.png  \n",
            "  inflating: train/9/00009_00048_00027.png  \n",
            "  inflating: train/9/00009_00048_00028.png  \n",
            "  inflating: train/9/00009_00048_00029.png  \n"
          ]
        }
      ],
      "source": [
        "!unzip gtsrb-german-traffic-sign.zip"
      ]
    },
    {
      "cell_type": "code",
      "execution_count": 8,
      "metadata": {
        "id": "Z9wYwiDPOFYp"
      },
      "outputs": [],
      "source": [
        "import pandas as pd\n",
        "\n",
        "train = pd.read_csv('./Train.csv')\n",
        "test = pd.read_csv('./Test.csv')"
      ]
    },
    {
      "cell_type": "code",
      "execution_count": 9,
      "metadata": {
        "colab": {
          "base_uri": "https://localhost:8080/"
        },
        "id": "B55a0wHIau28",
        "outputId": "c7ce5db9-98e9-4b64-ad3e-f2371d99fe8d"
      },
      "outputs": [
        {
          "output_type": "stream",
          "name": "stdout",
          "text": [
            "<class 'pandas.core.frame.DataFrame'>\n",
            "RangeIndex: 39209 entries, 0 to 39208\n",
            "Data columns (total 8 columns):\n",
            " #   Column   Non-Null Count  Dtype \n",
            "---  ------   --------------  ----- \n",
            " 0   Width    39209 non-null  int64 \n",
            " 1   Height   39209 non-null  int64 \n",
            " 2   Roi.X1   39209 non-null  int64 \n",
            " 3   Roi.Y1   39209 non-null  int64 \n",
            " 4   Roi.X2   39209 non-null  int64 \n",
            " 5   Roi.Y2   39209 non-null  int64 \n",
            " 6   ClassId  39209 non-null  int64 \n",
            " 7   Path     39209 non-null  object\n",
            "dtypes: int64(7), object(1)\n",
            "memory usage: 2.4+ MB\n"
          ]
        }
      ],
      "source": [
        "train.info()"
      ]
    },
    {
      "cell_type": "markdown",
      "metadata": {
        "id": "1BKxPPEbiSKY"
      },
      "source": [
        "## Pre-process Dataset"
      ]
    },
    {
      "cell_type": "code",
      "execution_count": 10,
      "metadata": {
        "colab": {
          "base_uri": "https://localhost:8080/"
        },
        "id": "mSEjazkfiZhD",
        "outputId": "02213c52-2d30-4108-abda-57016a577358"
      },
      "outputs": [
        {
          "output_type": "stream",
          "name": "stdout",
          "text": [
            "Number of classes:  43\n"
          ]
        }
      ],
      "source": [
        "num_classes = len(train['ClassId'].unique())\n",
        "print(\"Number of classes: \", num_classes)"
      ]
    },
    {
      "cell_type": "code",
      "execution_count": 11,
      "metadata": {
        "id": "_IySu0_xijFn"
      },
      "outputs": [],
      "source": [
        "data_dir = './'\n",
        "train_path = './Train'\n",
        "test_path = './Test'\n",
        "\n",
        "# Resizing the images to 30x30x3\n",
        "IMG_HEIGHT = 30\n",
        "IMG_WIDTH = 30\n",
        "channels = 3\n",
        "\n",
        "# Label Overview\n",
        "classes = { 0:'Speed limit (20km/h)',\n",
        "            1:'Speed limit (30km/h)', \n",
        "            2:'Speed limit (50km/h)', \n",
        "            3:'Speed limit (60km/h)', \n",
        "            4:'Speed limit (70km/h)', \n",
        "            5:'Speed limit (80km/h)', \n",
        "            6:'End of speed limit (80km/h)', \n",
        "            7:'Speed limit (100km/h)', \n",
        "            8:'Speed limit (120km/h)', \n",
        "            9:'No passing', \n",
        "            10:'No passing veh over 3.5 tons', \n",
        "            11:'Right-of-way at intersection', \n",
        "            12:'Priority road', \n",
        "            13:'Yield', \n",
        "            14:'Stop', \n",
        "            15:'No vehicles', \n",
        "            16:'Veh > 3.5 tons prohibited', \n",
        "            17:'No entry', \n",
        "            18:'General caution', \n",
        "            19:'Dangerous curve left', \n",
        "            20:'Dangerous curve right', \n",
        "            21:'Double curve', \n",
        "            22:'Bumpy road', \n",
        "            23:'Slippery road', \n",
        "            24:'Road narrows on the right', \n",
        "            25:'Road work', \n",
        "            26:'Traffic signals', \n",
        "            27:'Pedestrians', \n",
        "            28:'Children crossing', \n",
        "            29:'Bicycles crossing', \n",
        "            30:'Beware of ice/snow',\n",
        "            31:'Wild animals crossing', \n",
        "            32:'End speed + passing limits', \n",
        "            33:'Turn right ahead', \n",
        "            34:'Turn left ahead', \n",
        "            35:'Ahead only', \n",
        "            36:'Go straight or right', \n",
        "            37:'Go straight or left', \n",
        "            38:'Keep right', \n",
        "            39:'Keep left', \n",
        "            40:'Roundabout mandatory', \n",
        "            41:'End of no passing', \n",
        "            42:'End no passing veh > 3.5 tons' }"
      ]
    },
    {
      "cell_type": "markdown",
      "metadata": {
        "id": "UsefyqyrwVws"
      },
      "source": [
        "## **Wandb.ai - Hyperparameter Tuning** "
      ]
    },
    {
      "cell_type": "code",
      "execution_count": 12,
      "metadata": {
        "colab": {
          "base_uri": "https://localhost:8080/"
        },
        "id": "v1NF6Def6DIu",
        "outputId": "7054671e-925a-46ef-86af-a99b22074e98"
      },
      "outputs": [
        {
          "output_type": "stream",
          "name": "stdout",
          "text": [
            "\u001b[?25l     \u001b[90m━━━━━━━━━━━━━━━━━━━━━━━━━━━━━━━━━━━━━━━━\u001b[0m \u001b[32m0.0/2.0 MB\u001b[0m \u001b[31m?\u001b[0m eta \u001b[36m-:--:--\u001b[0m\r\u001b[2K     \u001b[91m━━━━\u001b[0m\u001b[91m╸\u001b[0m\u001b[90m━━━━━━━━━━━━━━━━━━━━━━━━━━━━━━━━━━━\u001b[0m \u001b[32m0.2/2.0 MB\u001b[0m \u001b[31m7.5 MB/s\u001b[0m eta \u001b[36m0:00:01\u001b[0m\r\u001b[2K     \u001b[91m━━━━━━━━━━━━━━━━━━━━━━━━━━━━━━━━━━━━━━\u001b[0m\u001b[90m╺\u001b[0m\u001b[90m━\u001b[0m \u001b[32m1.9/2.0 MB\u001b[0m \u001b[31m28.4 MB/s\u001b[0m eta \u001b[36m0:00:01\u001b[0m\r\u001b[2K     \u001b[90m━━━━━━━━━━━━━━━━━━━━━━━━━━━━━━━━━━━━━━━━\u001b[0m \u001b[32m2.0/2.0 MB\u001b[0m \u001b[31m23.9 MB/s\u001b[0m eta \u001b[36m0:00:00\u001b[0m\n",
            "\u001b[?25h  Preparing metadata (setup.py) ... \u001b[?25l\u001b[?25hdone\n",
            "\u001b[2K     \u001b[90m━━━━━━━━━━━━━━━━━━━━━━━━━━━━━━━━━━━━━━\u001b[0m \u001b[32m184.3/184.3 kB\u001b[0m \u001b[31m21.1 MB/s\u001b[0m eta \u001b[36m0:00:00\u001b[0m\n",
            "\u001b[2K     \u001b[90m━━━━━━━━━━━━━━━━━━━━━━━━━━━━━━━━━━━━━━\u001b[0m \u001b[32m203.3/203.3 kB\u001b[0m \u001b[31m25.5 MB/s\u001b[0m eta \u001b[36m0:00:00\u001b[0m\n",
            "\u001b[2K     \u001b[90m━━━━━━━━━━━━━━━━━━━━━━━━━━━━━━━━━━━━━━━━\u001b[0m \u001b[32m62.7/62.7 kB\u001b[0m \u001b[31m6.7 MB/s\u001b[0m eta \u001b[36m0:00:00\u001b[0m\n",
            "\u001b[?25h  Building wheel for pathtools (setup.py) ... \u001b[?25l\u001b[?25hdone\n"
          ]
        }
      ],
      "source": [
        "!pip install wandb -qU"
      ]
    },
    {
      "cell_type": "code",
      "execution_count": 13,
      "metadata": {
        "colab": {
          "base_uri": "https://localhost:8080/",
          "height": 121
        },
        "id": "Cks7t6Sx8dmU",
        "outputId": "35b2cbec-af90-4603-d22e-5884d3e15703"
      },
      "outputs": [
        {
          "output_type": "display_data",
          "data": {
            "text/plain": [
              "<IPython.core.display.Javascript object>"
            ],
            "application/javascript": [
              "\n",
              "        window._wandbApiKey = new Promise((resolve, reject) => {\n",
              "            function loadScript(url) {\n",
              "            return new Promise(function(resolve, reject) {\n",
              "                let newScript = document.createElement(\"script\");\n",
              "                newScript.onerror = reject;\n",
              "                newScript.onload = resolve;\n",
              "                document.body.appendChild(newScript);\n",
              "                newScript.src = url;\n",
              "            });\n",
              "            }\n",
              "            loadScript(\"https://cdn.jsdelivr.net/npm/postmate/build/postmate.min.js\").then(() => {\n",
              "            const iframe = document.createElement('iframe')\n",
              "            iframe.style.cssText = \"width:0;height:0;border:none\"\n",
              "            document.body.appendChild(iframe)\n",
              "            const handshake = new Postmate({\n",
              "                container: iframe,\n",
              "                url: 'https://wandb.ai/authorize'\n",
              "            });\n",
              "            const timeout = setTimeout(() => reject(\"Couldn't auto authenticate\"), 5000)\n",
              "            handshake.then(function(child) {\n",
              "                child.on('authorize', data => {\n",
              "                    clearTimeout(timeout)\n",
              "                    resolve(data)\n",
              "                });\n",
              "            });\n",
              "            })\n",
              "        });\n",
              "    "
            ]
          },
          "metadata": {}
        },
        {
          "output_type": "stream",
          "name": "stderr",
          "text": [
            "\u001b[34m\u001b[1mwandb\u001b[0m: Logging into wandb.ai. (Learn how to deploy a W&B server locally: https://wandb.me/wandb-server)\n",
            "\u001b[34m\u001b[1mwandb\u001b[0m: You can find your API key in your browser here: https://wandb.ai/authorize\n",
            "wandb: Paste an API key from your profile and hit enter, or press ctrl+c to quit:"
          ]
        },
        {
          "name": "stdout",
          "output_type": "stream",
          "text": [
            " ··········\n"
          ]
        },
        {
          "output_type": "stream",
          "name": "stderr",
          "text": [
            "\u001b[34m\u001b[1mwandb\u001b[0m: Appending key for api.wandb.ai to your netrc file: /root/.netrc\n"
          ]
        },
        {
          "output_type": "execute_result",
          "data": {
            "text/plain": [
              "True"
            ]
          },
          "metadata": {},
          "execution_count": 13
        }
      ],
      "source": [
        "import wandb\n",
        "wandb.login()"
      ]
    },
    {
      "cell_type": "code",
      "execution_count": 14,
      "metadata": {
        "colab": {
          "base_uri": "https://localhost:8080/"
        },
        "id": "SweNG3mouIcf",
        "outputId": "80a2fd6b-ea07-4a78-e114-a04e9489ad06"
      },
      "outputs": [
        {
          "output_type": "stream",
          "name": "stdout",
          "text": [
            "Create sweep with ID: scmcgjjx\n",
            "Sweep URL: https://wandb.ai/atds_ml/resnet_50/sweeps/scmcgjjx\n"
          ]
        }
      ],
      "source": [
        "sweep_config = {\n",
        "    'method': 'random',\n",
        "    'metric': {'goal': 'minimize', 'name': 'test_loss'},\n",
        "    'parameters': {\n",
        "        'optimizer': {'values': ['adam', 'sgd']},\n",
        "        'learning_rate': {'distribution': 'uniform', 'max': 0.001, 'min': 0.0001},\n",
        "        'epochs': {'value': 15}\n",
        "    }\n",
        "}\n",
        "\n",
        "sweep_id = wandb.sweep(sweep_config, entity=\"atds_ml\", project=\"resnet_50\")"
      ]
    },
    {
      "cell_type": "code",
      "execution_count": 15,
      "metadata": {
        "id": "NHWWgC7xZWri"
      },
      "outputs": [],
      "source": [
        "import torch\n",
        "import torch.optim as optim\n",
        "from torch.optim import lr_scheduler\n",
        "import time\n",
        "import os\n",
        "import copy\n",
        "\n",
        "device = torch.device(\"cuda\" if torch.cuda.is_available() else \"cpu\")\n",
        "\n",
        "def train(config=None):\n",
        "\n",
        "    with wandb.init(config=config):\n",
        "        config = wandb.config\n",
        "\n",
        "        loader = build_dataset(data_dir)\n",
        "        network = build_network()\n",
        "        optimizer = build_optimizer(network, config.optimizer, config.learning_rate)\n",
        "\n",
        "        # Initialize variables for storing the best model\n",
        "        best_model_state_dict = copy.deepcopy(network.state_dict())\n",
        "        min_val_loss = float('inf')\n",
        "\n",
        "        for epoch in range(config.epochs):\n",
        "            val_loss, accuracy = train_epoch(network, loader, optimizer)\n",
        "            wandb.log({\"loss\": val_loss, \"epoch\": epoch, \"optimizer\": config.optimizer, \"learning_rate\": config.learning_rate, \"accuracy\": accuracy})\n",
        "\n",
        "            # Update the best model if the current validation loss is lower\n",
        "            if val_loss < min_val_loss:\n",
        "                min_val_loss = val_loss\n",
        "                best_model_state_dict = copy.deepcopy(network.state_dict())\n",
        "\n",
        "        # Save the best model's state_dict\n",
        "        torch.save(best_model_state_dict, 'best_model.pth')   "
      ]
    },
    {
      "cell_type": "code",
      "execution_count": 16,
      "metadata": {
        "id": "Oaie52hABBkK"
      },
      "outputs": [],
      "source": [
        "import os\n",
        "import cv2\n",
        "import numpy as np\n",
        "from PIL import Image\n",
        "import torch\n",
        "from sklearn.model_selection import train_test_split\n",
        "import tensorflow as tf\n",
        "from tensorflow import keras\n",
        "from tensorflow.keras import layers\n",
        "from torch.utils.data import TensorDataset \n",
        "\n",
        "def build_dataset(data_dir):\n",
        "  image_data = []\n",
        "  image_labels = []\n",
        "\n",
        "  for i in range(num_classes):\n",
        "    path = data_dir + '/Train/' + str(i)\n",
        "    images = os.listdir(path)\n",
        "\n",
        "    for img in images:\n",
        "      try:\n",
        "        image = cv2.imread(path + '/' + img)\n",
        "        image_fromarray = Image.fromarray(image, 'RGB')\n",
        "        resize_image = image_fromarray.resize((IMG_HEIGHT, IMG_WIDTH))\n",
        "        image_data.append(np.array(resize_image))\n",
        "        image_labels.append(i)\n",
        "      except:\n",
        "        print(\"Error in \" + img)\n",
        "        \n",
        "  # Changing the list to numpy array\n",
        "  image_data = torch.FloatTensor(np.array(image_data))\n",
        "  image_data = np.transpose(image_data,(0,3,1,2))\n",
        "  image_labels = torch.FloatTensor(np.array(image_labels))\n",
        "\n",
        "  X_train, X_val, y_train, y_val = train_test_split(image_data, image_labels, test_size=0.2, random_state=42, shuffle=True)\n",
        "\n",
        "  X_train = X_train/255 \n",
        "  X_val = X_val/255\n",
        "\n",
        "  print(\"X_train.shape\", X_train.shape)\n",
        "  print(\"X_valid.shape\", X_val.shape)\n",
        "  print(\"y_train.shape\", y_train.shape)\n",
        "  print(\"y_valid.shape\", y_val.shape)\n",
        "\n",
        "  y_train = torch.FloatTensor(keras.utils.to_categorical(y_train, num_classes))\n",
        "  y_val = torch.FloatTensor(keras.utils.to_categorical(y_val, num_classes))\n",
        "\n",
        "  train_dataset = TensorDataset(X_train, y_train)\n",
        "  val_dataset = TensorDataset(X_val, y_val)\n",
        "\n",
        "  dataloaders = {'train': torch.utils.data.DataLoader(train_dataset, batch_size=64,shuffle=True, num_workers=2),\n",
        "               'val': torch.utils.data.DataLoader(val_dataset, batch_size=64,shuffle=True, num_workers=2)}\n",
        "\n",
        "  return dataloaders"
      ]
    },
    {
      "cell_type": "code",
      "execution_count": 17,
      "metadata": {
        "id": "bBYKa9drC0RF"
      },
      "outputs": [],
      "source": [
        "import torchvision\n",
        "from torchvision import models\n",
        "import torch\n",
        "import torch.nn as nn\n",
        "\n",
        "def build_network():\n",
        "    model = models.resnet50(pretrained=True)\n",
        "    # Freeze weights of all layers\n",
        "    for param in model.parameters():\n",
        "      param.requires_grad = False\n",
        "    # Add new fully-connected layer with output dimension equal to number of classes\n",
        "    num_features = model.fc.in_features\n",
        "    model.fc = nn.Linear(num_features, 43)\n",
        "    # Initialize weights for new layer\n",
        "    nn.init.kaiming_normal_(model.fc.weight, mode='fan_out', nonlinearity='relu')\n",
        "    nn.init.zeros_(model.fc.bias)\n",
        "\n",
        "    return model.to(device)"
      ]
    },
    {
      "cell_type": "code",
      "execution_count": 18,
      "metadata": {
        "id": "JOSIGfWIBGua"
      },
      "outputs": [],
      "source": [
        "def build_optimizer(model, optimizer, learning_rate):\n",
        "    if optimizer == \"sgd\":\n",
        "        optimizer = optim.SGD(model.parameters(),\n",
        "                              lr=learning_rate, momentum=0.9)\n",
        "    elif optimizer == \"adam\":\n",
        "        optimizer = optim.Adam(model.parameters(),\n",
        "                               lr=learning_rate)\n",
        "    return optimizer"
      ]
    },
    {
      "cell_type": "code",
      "execution_count": 19,
      "metadata": {
        "id": "2DKGeTg8BIZo"
      },
      "outputs": [],
      "source": [
        "import torch.nn.functional as F\n",
        "\n",
        "def train_epoch(model, dataloaders, optimizer):\n",
        "    model.train()\n",
        "    running_loss = 0.0\n",
        "    total_samples = 0\n",
        "\n",
        "    for inputs, labels in dataloaders['train']:\n",
        "        inputs = inputs.to(device)\n",
        "        labels = labels.to(device)\n",
        "\n",
        "        optimizer.zero_grad()\n",
        "\n",
        "        # Forward pass\n",
        "        outputs = model(inputs)\n",
        "        loss = F.cross_entropy(outputs, torch.max(labels, 1)[1])\n",
        "\n",
        "        # Backward pass\n",
        "        loss.backward()\n",
        "        optimizer.step()\n",
        "\n",
        "        running_loss += loss.item() * inputs.size(0)\n",
        "        total_samples += inputs.size(0)\n",
        "\n",
        "    val_loss = evaluate(model, dataloaders['val'])\n",
        "\n",
        "    return val_loss\n",
        "\n",
        "def evaluate(model, dataloader):\n",
        "    model.eval()\n",
        "    running_loss = 0.0\n",
        "    total_samples = 0\n",
        "    correct = 0\n",
        "    total = 0\n",
        "\n",
        "    with torch.no_grad():\n",
        "        for inputs, labels in dataloader:\n",
        "            inputs = inputs.to(device)\n",
        "            labels = labels.to(device)\n",
        "\n",
        "            # Forward pass\n",
        "            outputs = model(inputs)\n",
        "            loss = F.cross_entropy(outputs, torch.max(labels, 1)[1])\n",
        "\n",
        "            running_loss += loss.item() * inputs.size(0)\n",
        "            total_samples += inputs.size(0)\n",
        "            _, predicted = torch.max(outputs.data, 1)\n",
        "            total += labels.size(0)\n",
        "            correct += torch.sum(predicted == torch.max(labels.data,1).indices)\n",
        "\n",
        "    # Calculate accuracy and loss\n",
        "    accuracy = 100 * correct / total\n",
        "    avg_loss = running_loss / total_samples\n",
        "\n",
        "    return avg_loss, accuracy"
      ]
    },
    {
      "cell_type": "markdown",
      "metadata": {
        "id": "kSJKlI1OoxQg"
      },
      "source": [
        "###**Testing different optimizers and learning rates**"
      ]
    },
    {
      "cell_type": "code",
      "execution_count": 20,
      "metadata": {
        "colab": {
          "base_uri": "https://localhost:8080/",
          "height": 1000,
          "referenced_widgets": [
            "9f56671dd47a44de967600492050cdac",
            "e98ae1802b4a43b0b068055c1c8325d4",
            "08ddcdc315c5458699b633c5f16bea3b",
            "4f7bb6c1736442ae8937f983176aac07",
            "02c111ac206746ee9698f1cf445f0f09",
            "20be3e9899894a2fb330275c8621117c",
            "0997033fbb7946bbb15a4de2c0abb7ae",
            "47bb1cdcea6e4bdeb310fb117c0e2f53",
            "7ce35c9a8b1245fd9683af06cac76812",
            "8b259ffd79e94b17bc14c3683ed1b495",
            "cb89c376a5ba4cada820e1bacc554bc6",
            "a405fcba248a46618ffb17b3d6fa18df",
            "9db9c8ab2998434c9fed417bea7c5039",
            "df9fc25ed89f4190b13ff6e40d1d04f4",
            "a8197f8677b144b095436cc2c6fe2608",
            "896c3791cc244908a0b2ed9a64cf07d8",
            "edf1a95389e44242b22d3965cfd163e0",
            "dbf7404f1bf7430f80589d9b25bb0a8e",
            "7d16d8302b534c3a8ea0f684991efbf1",
            "b1a577fe21b64d41b7ace3264bfb09ec",
            "2f6d26f89274450b9f99aa8fd20998c5",
            "d0c3bc586f0a4ba2980f3a3b69d4d3b3",
            "b9d425effd9e473cbbed3cca4927c0b9",
            "c360ab8ecdbb40808bbcc34191af3c4e",
            "64a02ea0100a481eaa677632a7fcd0f1",
            "3e2bfcb1890042299d9d6be067c1bd5e",
            "7643db28720945a687b6297bb150c77b",
            "db365ee02ea249c3ad3353a4ca691e1e",
            "de9c7b12de744d05942ca1c77cb7e52d",
            "69be978739ec4b67b1540c00e63e55d3",
            "af72d0b0eccc416e9f936a4238b38cd0",
            "bb9b206f06f0410f92ad1c65dddb1e8f",
            "52c1fa35b5d542ea995e28bf08e2e205",
            "4b21a08a426e4a59bf68ef0289db3ddf",
            "36566c3ecdf24b7cb5016af1b9b18428",
            "2b62578c24ff4aa1b8e87f2a2ab10f6d",
            "fba8d1cd4b68489ba2842de437c6500c",
            "3a13da84fca24f3bb24fae36353a4f91",
            "24b479c994504e8da5e1559e2e3fd5de",
            "f8b8e76bfd69433e86386190cba4b176",
            "fcc3e7c56185473b8c4dd42bb94e4b2d",
            "9eb7cf496fae4a88b851ba72c4a8c580",
            "c1ab9add48b24c6d9eb57b1cee2468d2",
            "35d3ae7b7a3c4005873a255588588219",
            "346d5f2e2db34ef4a8aaea1ba3ab2e05",
            "8b8314cde4484d628149ad906c1c81a4",
            "da4d1b6095094f44a9930ea12c781cda",
            "ce987244cefc448494c87082c72fccc5",
            "9304c7181b8244cab22bd0df056808fb",
            "698bac45a9374914a59ebff8c80cc36a",
            "9bca4f2cdde14aeabb5c298833620258",
            "9492945b953845f0a1b7896773048e70",
            "5fe4b8765f174debaab8ed8fd6900a0c",
            "3603e1d9589c47eeb83a03cfd5ec213e",
            "4de0e78635674f7d9a00feee6606e41e",
            "6a4013f67d9047c882d8f3a568992c78",
            "5b7998449e974c35be7b71ad1e83c55a",
            "f06ef48090934e35a3551ca312581dc4",
            "460cb266489f4628a995316863b95fa8",
            "a27123b302ec48d3bf7c8f761017eb0b",
            "db778061b18d439d908684cd8c5a8446",
            "140b842da7d7463a8a7d91886e7d0d40",
            "1406958c175e4f8b8b740b0d2f96be4d",
            "93a0b0a6310c4753b605f2a9b98b0067",
            "d09546f81d854e94ba1684849ee514f1",
            "cc0fb9abaebf4715bd3a95c74ac6a741",
            "f52cffdc0d6e473793c5b3cc057b5a4d",
            "c99aeb9aa5624908896eacf16b370097",
            "dc1b9961d9dc44e28ac3d13e9ddf72d7",
            "ff023decf1fb4a05968c35d05a53e992",
            "314b3b389ac24fdba077f9a87217fef9",
            "572c3d5eefb142248e40d11a2c611cc4",
            "41720b73175a496e8cee6740c890078d",
            "ce44221648264b5d83b170028d97a610",
            "f1dc2a4ab2f04481a673534bce041fa3",
            "54c3cc50ed1a458581ff67c3a03626c4",
            "1717b3ec68504ac2a45ec078c255a5d9",
            "8130095b7f5840fa8bb62205f05d265e",
            "6ff9663250ba4c80884397c1f794a501",
            "e65be78be5894a9b9ae90ed87ddde70f",
            "64b23b9b2b774320abc5cbdcc0d93b07",
            "85471db0c40b4ea6b9cdb21855e13d15",
            "4747ac100c0e433b8a3ed630745cc5c7",
            "57dea25901b44100b987b17cb2992b6c",
            "48061fd83cbd4e62867610f9038ac9e2",
            "076a18dac5dc44d98a794864e105e1fc",
            "e16cd23e55a4423fa29da06c4a1dae3e",
            "ae4ed4e60bfc4dc3a6ca3590bfd9c9d1",
            "f5b1b46228e54686aa28bc25e08eb8e3",
            "253bf09f014a45188a81b7476007ee72",
            "cf9d59aacb18438db1cfa7c5dd85336b",
            "6d8d4f0c29af4cdb9a60a680272734e7",
            "bfe06b209fa3415baf9d1d6ec1b2de51",
            "28c7a45803764f8a896b5217a4fde2dc",
            "0730e81e19db4ae2bf3b72d0b17d6551",
            "56575d84eda24ca19aa88a387c66bb3f",
            "ba44b0865088413789d55172bd77ee84",
            "d30b31346e7341a1a7cab9ccd271f9de",
            "02f3402b0e6e4bbb944630733be417c5",
            "5d3af0e6d9174310b0c97272c350cf6e",
            "f3907461c03f4eadaa5099ef663ed5fd",
            "d603a53934d848349235d282ebac1b0a",
            "5cce1e91fd0548e298e39bbeabdfe7d1",
            "42d34cdfbb4d4933975f20e5b1310fba",
            "e030bcf273d34c98b05e30e903199f2e",
            "1112579f6463433383fc0b500785a38b",
            "049ccfdb15c94f3285545f72d1f82761",
            "2a3ddc8b94f14c45bfac80d02fd5fd6b",
            "c424673705354dc5962c422b09823199",
            "31d088c8cf3745d58a467d5dedfaca4b",
            "6a6b220b9dfb471b97115e644260bc4c",
            "b9ca78befe304eafad284804040671be"
          ]
        },
        "id": "a1NFvzuOreoZ",
        "outputId": "6dd3b90c-b848-4492-a6fd-af31c9fd6fba"
      },
      "outputs": [
        {
          "output_type": "stream",
          "name": "stderr",
          "text": [
            "\u001b[34m\u001b[1mwandb\u001b[0m: Agent Starting Run: o5csh8je with config:\n",
            "\u001b[34m\u001b[1mwandb\u001b[0m: \tepochs: 15\n",
            "\u001b[34m\u001b[1mwandb\u001b[0m: \tlearning_rate: 0.00013748572426771117\n",
            "\u001b[34m\u001b[1mwandb\u001b[0m: \toptimizer: adam\n",
            "\u001b[34m\u001b[1mwandb\u001b[0m: Currently logged in as: \u001b[33msk7905\u001b[0m (\u001b[33matds_ml\u001b[0m). Use \u001b[1m`wandb login --relogin`\u001b[0m to force relogin\n"
          ]
        },
        {
          "output_type": "display_data",
          "data": {
            "text/plain": [
              "<IPython.core.display.HTML object>"
            ],
            "text/html": [
              "Tracking run with wandb version 0.15.2"
            ]
          },
          "metadata": {}
        },
        {
          "output_type": "display_data",
          "data": {
            "text/plain": [
              "<IPython.core.display.HTML object>"
            ],
            "text/html": [
              "Run data is saved locally in <code>/content/wandb/run-20230508_153920-o5csh8je</code>"
            ]
          },
          "metadata": {}
        },
        {
          "output_type": "display_data",
          "data": {
            "text/plain": [
              "<IPython.core.display.HTML object>"
            ],
            "text/html": [
              "Syncing run <strong><a href='https://wandb.ai/atds_ml/resnet_50/runs/o5csh8je' target=\"_blank\">balmy-sweep-1</a></strong> to <a href='https://wandb.ai/atds_ml/resnet_50' target=\"_blank\">Weights & Biases</a> (<a href='https://wandb.me/run' target=\"_blank\">docs</a>)<br/>Sweep page: <a href='https://wandb.ai/atds_ml/resnet_50/sweeps/scmcgjjx' target=\"_blank\">https://wandb.ai/atds_ml/resnet_50/sweeps/scmcgjjx</a>"
            ]
          },
          "metadata": {}
        },
        {
          "output_type": "display_data",
          "data": {
            "text/plain": [
              "<IPython.core.display.HTML object>"
            ],
            "text/html": [
              " View project at <a href='https://wandb.ai/atds_ml/resnet_50' target=\"_blank\">https://wandb.ai/atds_ml/resnet_50</a>"
            ]
          },
          "metadata": {}
        },
        {
          "output_type": "display_data",
          "data": {
            "text/plain": [
              "<IPython.core.display.HTML object>"
            ],
            "text/html": [
              " View sweep at <a href='https://wandb.ai/atds_ml/resnet_50/sweeps/scmcgjjx' target=\"_blank\">https://wandb.ai/atds_ml/resnet_50/sweeps/scmcgjjx</a>"
            ]
          },
          "metadata": {}
        },
        {
          "output_type": "display_data",
          "data": {
            "text/plain": [
              "<IPython.core.display.HTML object>"
            ],
            "text/html": [
              " View run at <a href='https://wandb.ai/atds_ml/resnet_50/runs/o5csh8je' target=\"_blank\">https://wandb.ai/atds_ml/resnet_50/runs/o5csh8je</a>"
            ]
          },
          "metadata": {}
        },
        {
          "output_type": "stream",
          "name": "stdout",
          "text": [
            "X_train.shape torch.Size([31367, 3, 30, 30])\n",
            "X_valid.shape torch.Size([7842, 3, 30, 30])\n",
            "y_train.shape torch.Size([31367])\n",
            "y_valid.shape torch.Size([7842])\n"
          ]
        },
        {
          "output_type": "stream",
          "name": "stderr",
          "text": [
            "/usr/local/lib/python3.10/dist-packages/torchvision/models/_utils.py:208: UserWarning: The parameter 'pretrained' is deprecated since 0.13 and may be removed in the future, please use 'weights' instead.\n",
            "  warnings.warn(\n",
            "/usr/local/lib/python3.10/dist-packages/torchvision/models/_utils.py:223: UserWarning: Arguments other than a weight enum or `None` for 'weights' are deprecated since 0.13 and may be removed in the future. The current behavior is equivalent to passing `weights=ResNet50_Weights.IMAGENET1K_V1`. You can also use `weights=ResNet50_Weights.DEFAULT` to get the most up-to-date weights.\n",
            "  warnings.warn(msg)\n",
            "Downloading: \"https://download.pytorch.org/models/resnet50-0676ba61.pth\" to /root/.cache/torch/hub/checkpoints/resnet50-0676ba61.pth\n",
            "100%|██████████| 97.8M/97.8M [00:00<00:00, 131MB/s]\n"
          ]
        },
        {
          "output_type": "display_data",
          "data": {
            "text/plain": [
              "<IPython.core.display.HTML object>"
            ],
            "text/html": [
              "Waiting for W&B process to finish... <strong style=\"color:green\">(success).</strong>"
            ]
          },
          "metadata": {}
        },
        {
          "output_type": "display_data",
          "data": {
            "text/plain": [
              "VBox(children=(Label(value='0.001 MB of 0.001 MB uploaded (0.000 MB deduped)\\r'), FloatProgress(value=1.0, max…"
            ],
            "application/vnd.jupyter.widget-view+json": {
              "version_major": 2,
              "version_minor": 0,
              "model_id": "9f56671dd47a44de967600492050cdac"
            }
          },
          "metadata": {}
        },
        {
          "output_type": "display_data",
          "data": {
            "text/plain": [
              "<IPython.core.display.HTML object>"
            ],
            "text/html": [
              "<style>\n",
              "    table.wandb td:nth-child(1) { padding: 0 10px; text-align: left ; width: auto;} td:nth-child(2) {text-align: left ; width: 100%}\n",
              "    .wandb-row { display: flex; flex-direction: row; flex-wrap: wrap; justify-content: flex-start; width: 100% }\n",
              "    .wandb-col { display: flex; flex-direction: column; flex-basis: 100%; flex: 1; padding: 10px; }\n",
              "    </style>\n",
              "<div class=\"wandb-row\"><div class=\"wandb-col\"><h3>Run history:</h3><br/><table class=\"wandb\"><tr><td>accuracy</td><td>▁▂▃▄▄▅▅▆▆▆▇▇▇▇█</td></tr><tr><td>epoch</td><td>▁▁▂▃▃▃▄▅▅▅▆▇▇▇█</td></tr><tr><td>learning_rate</td><td>▁▁▁▁▁▁▁▁▁▁▁▁▁▁▁</td></tr><tr><td>loss</td><td>█▆▅▄▃▃▃▂▂▂▂▁▁▁▁</td></tr></table><br/></div><div class=\"wandb-col\"><h3>Run summary:</h3><br/><table class=\"wandb\"><tr><td>accuracy</td><td>36.43203</td></tr><tr><td>epoch</td><td>14</td></tr><tr><td>learning_rate</td><td>0.00014</td></tr><tr><td>loss</td><td>3.49241</td></tr><tr><td>optimizer</td><td>adam</td></tr></table><br/></div></div>"
            ]
          },
          "metadata": {}
        },
        {
          "output_type": "display_data",
          "data": {
            "text/plain": [
              "<IPython.core.display.HTML object>"
            ],
            "text/html": [
              " View run <strong style=\"color:#cdcd00\">balmy-sweep-1</strong> at: <a href='https://wandb.ai/atds_ml/resnet_50/runs/o5csh8je' target=\"_blank\">https://wandb.ai/atds_ml/resnet_50/runs/o5csh8je</a><br/>Synced 5 W&B file(s), 0 media file(s), 0 artifact file(s) and 0 other file(s)"
            ]
          },
          "metadata": {}
        },
        {
          "output_type": "display_data",
          "data": {
            "text/plain": [
              "<IPython.core.display.HTML object>"
            ],
            "text/html": [
              "Find logs at: <code>./wandb/run-20230508_153920-o5csh8je/logs</code>"
            ]
          },
          "metadata": {}
        },
        {
          "output_type": "stream",
          "name": "stderr",
          "text": [
            "\u001b[34m\u001b[1mwandb\u001b[0m: Sweep Agent: Waiting for job.\n",
            "\u001b[34m\u001b[1mwandb\u001b[0m: Job received.\n",
            "\u001b[34m\u001b[1mwandb\u001b[0m: Agent Starting Run: ltvlxbm0 with config:\n",
            "\u001b[34m\u001b[1mwandb\u001b[0m: \tepochs: 15\n",
            "\u001b[34m\u001b[1mwandb\u001b[0m: \tlearning_rate: 0.00020255800247943537\n",
            "\u001b[34m\u001b[1mwandb\u001b[0m: \toptimizer: sgd\n"
          ]
        },
        {
          "output_type": "display_data",
          "data": {
            "text/plain": [
              "<IPython.core.display.HTML object>"
            ],
            "text/html": [
              "Tracking run with wandb version 0.15.2"
            ]
          },
          "metadata": {}
        },
        {
          "output_type": "display_data",
          "data": {
            "text/plain": [
              "<IPython.core.display.HTML object>"
            ],
            "text/html": [
              "Run data is saved locally in <code>/content/wandb/run-20230508_154214-ltvlxbm0</code>"
            ]
          },
          "metadata": {}
        },
        {
          "output_type": "display_data",
          "data": {
            "text/plain": [
              "<IPython.core.display.HTML object>"
            ],
            "text/html": [
              "Syncing run <strong><a href='https://wandb.ai/atds_ml/resnet_50/runs/ltvlxbm0' target=\"_blank\">vocal-sweep-2</a></strong> to <a href='https://wandb.ai/atds_ml/resnet_50' target=\"_blank\">Weights & Biases</a> (<a href='https://wandb.me/run' target=\"_blank\">docs</a>)<br/>Sweep page: <a href='https://wandb.ai/atds_ml/resnet_50/sweeps/scmcgjjx' target=\"_blank\">https://wandb.ai/atds_ml/resnet_50/sweeps/scmcgjjx</a>"
            ]
          },
          "metadata": {}
        },
        {
          "output_type": "display_data",
          "data": {
            "text/plain": [
              "<IPython.core.display.HTML object>"
            ],
            "text/html": [
              " View project at <a href='https://wandb.ai/atds_ml/resnet_50' target=\"_blank\">https://wandb.ai/atds_ml/resnet_50</a>"
            ]
          },
          "metadata": {}
        },
        {
          "output_type": "display_data",
          "data": {
            "text/plain": [
              "<IPython.core.display.HTML object>"
            ],
            "text/html": [
              " View sweep at <a href='https://wandb.ai/atds_ml/resnet_50/sweeps/scmcgjjx' target=\"_blank\">https://wandb.ai/atds_ml/resnet_50/sweeps/scmcgjjx</a>"
            ]
          },
          "metadata": {}
        },
        {
          "output_type": "display_data",
          "data": {
            "text/plain": [
              "<IPython.core.display.HTML object>"
            ],
            "text/html": [
              " View run at <a href='https://wandb.ai/atds_ml/resnet_50/runs/ltvlxbm0' target=\"_blank\">https://wandb.ai/atds_ml/resnet_50/runs/ltvlxbm0</a>"
            ]
          },
          "metadata": {}
        },
        {
          "output_type": "stream",
          "name": "stdout",
          "text": [
            "X_train.shape torch.Size([31367, 3, 30, 30])\n",
            "X_valid.shape torch.Size([7842, 3, 30, 30])\n",
            "y_train.shape torch.Size([31367])\n",
            "y_valid.shape torch.Size([7842])\n"
          ]
        },
        {
          "output_type": "display_data",
          "data": {
            "text/plain": [
              "<IPython.core.display.HTML object>"
            ],
            "text/html": [
              "Waiting for W&B process to finish... <strong style=\"color:green\">(success).</strong>"
            ]
          },
          "metadata": {}
        },
        {
          "output_type": "display_data",
          "data": {
            "text/plain": [
              "<IPython.core.display.HTML object>"
            ],
            "text/html": [
              "<style>\n",
              "    table.wandb td:nth-child(1) { padding: 0 10px; text-align: left ; width: auto;} td:nth-child(2) {text-align: left ; width: 100%}\n",
              "    .wandb-row { display: flex; flex-direction: row; flex-wrap: wrap; justify-content: flex-start; width: 100% }\n",
              "    .wandb-col { display: flex; flex-direction: column; flex-basis: 100%; flex: 1; padding: 10px; }\n",
              "    </style>\n",
              "<div class=\"wandb-row\"><div class=\"wandb-col\"><h3>Run history:</h3><br/><table class=\"wandb\"><tr><td>accuracy</td><td>▁▂▂▃▄▄▅▅▆▇▇▇▇▇█</td></tr><tr><td>epoch</td><td>▁▁▂▃▃▃▄▅▅▅▆▇▇▇█</td></tr><tr><td>learning_rate</td><td>▁▁▁▁▁▁▁▁▁▁▁▁▁▁▁</td></tr><tr><td>loss</td><td>█▇▅▅▄▄▃▃▃▂▁▂▂▁▁</td></tr></table><br/></div><div class=\"wandb-col\"><h3>Run summary:</h3><br/><table class=\"wandb\"><tr><td>accuracy</td><td>22.07345</td></tr><tr><td>epoch</td><td>14</td></tr><tr><td>learning_rate</td><td>0.0002</td></tr><tr><td>loss</td><td>6.24214</td></tr><tr><td>optimizer</td><td>sgd</td></tr></table><br/></div></div>"
            ]
          },
          "metadata": {}
        },
        {
          "output_type": "display_data",
          "data": {
            "text/plain": [
              "<IPython.core.display.HTML object>"
            ],
            "text/html": [
              " View run <strong style=\"color:#cdcd00\">vocal-sweep-2</strong> at: <a href='https://wandb.ai/atds_ml/resnet_50/runs/ltvlxbm0' target=\"_blank\">https://wandb.ai/atds_ml/resnet_50/runs/ltvlxbm0</a><br/>Synced 5 W&B file(s), 0 media file(s), 0 artifact file(s) and 0 other file(s)"
            ]
          },
          "metadata": {}
        },
        {
          "output_type": "display_data",
          "data": {
            "text/plain": [
              "<IPython.core.display.HTML object>"
            ],
            "text/html": [
              "Find logs at: <code>./wandb/run-20230508_154214-ltvlxbm0/logs</code>"
            ]
          },
          "metadata": {}
        },
        {
          "output_type": "stream",
          "name": "stderr",
          "text": [
            "\u001b[34m\u001b[1mwandb\u001b[0m: Agent Starting Run: 74mce1mu with config:\n",
            "\u001b[34m\u001b[1mwandb\u001b[0m: \tepochs: 15\n",
            "\u001b[34m\u001b[1mwandb\u001b[0m: \tlearning_rate: 0.0006563197702680951\n",
            "\u001b[34m\u001b[1mwandb\u001b[0m: \toptimizer: adam\n"
          ]
        },
        {
          "output_type": "display_data",
          "data": {
            "text/plain": [
              "<IPython.core.display.HTML object>"
            ],
            "text/html": [
              "Tracking run with wandb version 0.15.2"
            ]
          },
          "metadata": {}
        },
        {
          "output_type": "display_data",
          "data": {
            "text/plain": [
              "<IPython.core.display.HTML object>"
            ],
            "text/html": [
              "Run data is saved locally in <code>/content/wandb/run-20230508_154438-74mce1mu</code>"
            ]
          },
          "metadata": {}
        },
        {
          "output_type": "display_data",
          "data": {
            "text/plain": [
              "<IPython.core.display.HTML object>"
            ],
            "text/html": [
              "Syncing run <strong><a href='https://wandb.ai/atds_ml/resnet_50/runs/74mce1mu' target=\"_blank\">driven-sweep-3</a></strong> to <a href='https://wandb.ai/atds_ml/resnet_50' target=\"_blank\">Weights & Biases</a> (<a href='https://wandb.me/run' target=\"_blank\">docs</a>)<br/>Sweep page: <a href='https://wandb.ai/atds_ml/resnet_50/sweeps/scmcgjjx' target=\"_blank\">https://wandb.ai/atds_ml/resnet_50/sweeps/scmcgjjx</a>"
            ]
          },
          "metadata": {}
        },
        {
          "output_type": "display_data",
          "data": {
            "text/plain": [
              "<IPython.core.display.HTML object>"
            ],
            "text/html": [
              " View project at <a href='https://wandb.ai/atds_ml/resnet_50' target=\"_blank\">https://wandb.ai/atds_ml/resnet_50</a>"
            ]
          },
          "metadata": {}
        },
        {
          "output_type": "display_data",
          "data": {
            "text/plain": [
              "<IPython.core.display.HTML object>"
            ],
            "text/html": [
              " View sweep at <a href='https://wandb.ai/atds_ml/resnet_50/sweeps/scmcgjjx' target=\"_blank\">https://wandb.ai/atds_ml/resnet_50/sweeps/scmcgjjx</a>"
            ]
          },
          "metadata": {}
        },
        {
          "output_type": "display_data",
          "data": {
            "text/plain": [
              "<IPython.core.display.HTML object>"
            ],
            "text/html": [
              " View run at <a href='https://wandb.ai/atds_ml/resnet_50/runs/74mce1mu' target=\"_blank\">https://wandb.ai/atds_ml/resnet_50/runs/74mce1mu</a>"
            ]
          },
          "metadata": {}
        },
        {
          "output_type": "stream",
          "name": "stdout",
          "text": [
            "X_train.shape torch.Size([31367, 3, 30, 30])\n",
            "X_valid.shape torch.Size([7842, 3, 30, 30])\n",
            "y_train.shape torch.Size([31367])\n",
            "y_valid.shape torch.Size([7842])\n"
          ]
        },
        {
          "output_type": "display_data",
          "data": {
            "text/plain": [
              "<IPython.core.display.HTML object>"
            ],
            "text/html": [
              "Waiting for W&B process to finish... <strong style=\"color:green\">(success).</strong>"
            ]
          },
          "metadata": {}
        },
        {
          "output_type": "display_data",
          "data": {
            "text/plain": [
              "<IPython.core.display.HTML object>"
            ],
            "text/html": [
              "<style>\n",
              "    table.wandb td:nth-child(1) { padding: 0 10px; text-align: left ; width: auto;} td:nth-child(2) {text-align: left ; width: 100%}\n",
              "    .wandb-row { display: flex; flex-direction: row; flex-wrap: wrap; justify-content: flex-start; width: 100% }\n",
              "    .wandb-col { display: flex; flex-direction: column; flex-basis: 100%; flex: 1; padding: 10px; }\n",
              "    </style>\n",
              "<div class=\"wandb-row\"><div class=\"wandb-col\"><h3>Run history:</h3><br/><table class=\"wandb\"><tr><td>accuracy</td><td>▁▃▄▄▅▅▆▆▆▇▇▇███</td></tr><tr><td>epoch</td><td>▁▁▂▃▃▃▄▅▅▅▆▇▇▇█</td></tr><tr><td>learning_rate</td><td>▁▁▁▁▁▁▁▁▁▁▁▁▁▁▁</td></tr><tr><td>loss</td><td>█▅▄▄▃▃▃▂▂▂▂▁▁▁▁</td></tr></table><br/></div><div class=\"wandb-col\"><h3>Run summary:</h3><br/><table class=\"wandb\"><tr><td>accuracy</td><td>53.45575</td></tr><tr><td>epoch</td><td>14</td></tr><tr><td>learning_rate</td><td>0.00066</td></tr><tr><td>loss</td><td>1.95054</td></tr><tr><td>optimizer</td><td>adam</td></tr></table><br/></div></div>"
            ]
          },
          "metadata": {}
        },
        {
          "output_type": "display_data",
          "data": {
            "text/plain": [
              "<IPython.core.display.HTML object>"
            ],
            "text/html": [
              " View run <strong style=\"color:#cdcd00\">driven-sweep-3</strong> at: <a href='https://wandb.ai/atds_ml/resnet_50/runs/74mce1mu' target=\"_blank\">https://wandb.ai/atds_ml/resnet_50/runs/74mce1mu</a><br/>Synced 5 W&B file(s), 0 media file(s), 0 artifact file(s) and 0 other file(s)"
            ]
          },
          "metadata": {}
        },
        {
          "output_type": "display_data",
          "data": {
            "text/plain": [
              "<IPython.core.display.HTML object>"
            ],
            "text/html": [
              "Find logs at: <code>./wandb/run-20230508_154438-74mce1mu/logs</code>"
            ]
          },
          "metadata": {}
        },
        {
          "output_type": "stream",
          "name": "stderr",
          "text": [
            "\u001b[34m\u001b[1mwandb\u001b[0m: Agent Starting Run: kqyx48k3 with config:\n",
            "\u001b[34m\u001b[1mwandb\u001b[0m: \tepochs: 15\n",
            "\u001b[34m\u001b[1mwandb\u001b[0m: \tlearning_rate: 0.0006650400646565638\n",
            "\u001b[34m\u001b[1mwandb\u001b[0m: \toptimizer: sgd\n"
          ]
        },
        {
          "output_type": "display_data",
          "data": {
            "text/plain": [
              "<IPython.core.display.HTML object>"
            ],
            "text/html": [
              "Tracking run with wandb version 0.15.2"
            ]
          },
          "metadata": {}
        },
        {
          "output_type": "display_data",
          "data": {
            "text/plain": [
              "<IPython.core.display.HTML object>"
            ],
            "text/html": [
              "Run data is saved locally in <code>/content/wandb/run-20230508_154709-kqyx48k3</code>"
            ]
          },
          "metadata": {}
        },
        {
          "output_type": "display_data",
          "data": {
            "text/plain": [
              "<IPython.core.display.HTML object>"
            ],
            "text/html": [
              "Syncing run <strong><a href='https://wandb.ai/atds_ml/resnet_50/runs/kqyx48k3' target=\"_blank\">likely-sweep-4</a></strong> to <a href='https://wandb.ai/atds_ml/resnet_50' target=\"_blank\">Weights & Biases</a> (<a href='https://wandb.me/run' target=\"_blank\">docs</a>)<br/>Sweep page: <a href='https://wandb.ai/atds_ml/resnet_50/sweeps/scmcgjjx' target=\"_blank\">https://wandb.ai/atds_ml/resnet_50/sweeps/scmcgjjx</a>"
            ]
          },
          "metadata": {}
        },
        {
          "output_type": "display_data",
          "data": {
            "text/plain": [
              "<IPython.core.display.HTML object>"
            ],
            "text/html": [
              " View project at <a href='https://wandb.ai/atds_ml/resnet_50' target=\"_blank\">https://wandb.ai/atds_ml/resnet_50</a>"
            ]
          },
          "metadata": {}
        },
        {
          "output_type": "display_data",
          "data": {
            "text/plain": [
              "<IPython.core.display.HTML object>"
            ],
            "text/html": [
              " View sweep at <a href='https://wandb.ai/atds_ml/resnet_50/sweeps/scmcgjjx' target=\"_blank\">https://wandb.ai/atds_ml/resnet_50/sweeps/scmcgjjx</a>"
            ]
          },
          "metadata": {}
        },
        {
          "output_type": "display_data",
          "data": {
            "text/plain": [
              "<IPython.core.display.HTML object>"
            ],
            "text/html": [
              " View run at <a href='https://wandb.ai/atds_ml/resnet_50/runs/kqyx48k3' target=\"_blank\">https://wandb.ai/atds_ml/resnet_50/runs/kqyx48k3</a>"
            ]
          },
          "metadata": {}
        },
        {
          "output_type": "stream",
          "name": "stdout",
          "text": [
            "X_train.shape torch.Size([31367, 3, 30, 30])\n",
            "X_valid.shape torch.Size([7842, 3, 30, 30])\n",
            "y_train.shape torch.Size([31367])\n",
            "y_valid.shape torch.Size([7842])\n"
          ]
        },
        {
          "output_type": "display_data",
          "data": {
            "text/plain": [
              "<IPython.core.display.HTML object>"
            ],
            "text/html": [
              "Waiting for W&B process to finish... <strong style=\"color:green\">(success).</strong>"
            ]
          },
          "metadata": {}
        },
        {
          "output_type": "display_data",
          "data": {
            "text/plain": [
              "VBox(children=(Label(value='0.001 MB of 0.001 MB uploaded (0.000 MB deduped)\\r'), FloatProgress(value=1.0, max…"
            ],
            "application/vnd.jupyter.widget-view+json": {
              "version_major": 2,
              "version_minor": 0,
              "model_id": "7ce35c9a8b1245fd9683af06cac76812"
            }
          },
          "metadata": {}
        },
        {
          "output_type": "display_data",
          "data": {
            "text/plain": [
              "<IPython.core.display.HTML object>"
            ],
            "text/html": [
              "<style>\n",
              "    table.wandb td:nth-child(1) { padding: 0 10px; text-align: left ; width: auto;} td:nth-child(2) {text-align: left ; width: 100%}\n",
              "    .wandb-row { display: flex; flex-direction: row; flex-wrap: wrap; justify-content: flex-start; width: 100% }\n",
              "    .wandb-col { display: flex; flex-direction: column; flex-basis: 100%; flex: 1; padding: 10px; }\n",
              "    </style>\n",
              "<div class=\"wandb-row\"><div class=\"wandb-col\"><h3>Run history:</h3><br/><table class=\"wandb\"><tr><td>accuracy</td><td>▁▂▃▄▅▅▆▆▇▇▇████</td></tr><tr><td>epoch</td><td>▁▁▂▃▃▃▄▅▅▅▆▇▇▇█</td></tr><tr><td>learning_rate</td><td>▁▁▁▁▁▁▁▁▁▁▁▁▁▁▁</td></tr><tr><td>loss</td><td>█▆▅▄▃▃▂▂▂▂▁▁▁▁▁</td></tr></table><br/></div><div class=\"wandb-col\"><h3>Run summary:</h3><br/><table class=\"wandb\"><tr><td>accuracy</td><td>34.07294</td></tr><tr><td>epoch</td><td>14</td></tr><tr><td>learning_rate</td><td>0.00067</td></tr><tr><td>loss</td><td>4.02615</td></tr><tr><td>optimizer</td><td>sgd</td></tr></table><br/></div></div>"
            ]
          },
          "metadata": {}
        },
        {
          "output_type": "display_data",
          "data": {
            "text/plain": [
              "<IPython.core.display.HTML object>"
            ],
            "text/html": [
              " View run <strong style=\"color:#cdcd00\">likely-sweep-4</strong> at: <a href='https://wandb.ai/atds_ml/resnet_50/runs/kqyx48k3' target=\"_blank\">https://wandb.ai/atds_ml/resnet_50/runs/kqyx48k3</a><br/>Synced 5 W&B file(s), 0 media file(s), 0 artifact file(s) and 0 other file(s)"
            ]
          },
          "metadata": {}
        },
        {
          "output_type": "display_data",
          "data": {
            "text/plain": [
              "<IPython.core.display.HTML object>"
            ],
            "text/html": [
              "Find logs at: <code>./wandb/run-20230508_154709-kqyx48k3/logs</code>"
            ]
          },
          "metadata": {}
        },
        {
          "output_type": "stream",
          "name": "stderr",
          "text": [
            "\u001b[34m\u001b[1mwandb\u001b[0m: Sweep Agent: Waiting for job.\n",
            "\u001b[34m\u001b[1mwandb\u001b[0m: Job received.\n",
            "\u001b[34m\u001b[1mwandb\u001b[0m: Agent Starting Run: 4zprbkwl with config:\n",
            "\u001b[34m\u001b[1mwandb\u001b[0m: \tepochs: 15\n",
            "\u001b[34m\u001b[1mwandb\u001b[0m: \tlearning_rate: 0.0007753318451506014\n",
            "\u001b[34m\u001b[1mwandb\u001b[0m: \toptimizer: adam\n"
          ]
        },
        {
          "output_type": "display_data",
          "data": {
            "text/plain": [
              "<IPython.core.display.HTML object>"
            ],
            "text/html": [
              "Tracking run with wandb version 0.15.2"
            ]
          },
          "metadata": {}
        },
        {
          "output_type": "display_data",
          "data": {
            "text/plain": [
              "<IPython.core.display.HTML object>"
            ],
            "text/html": [
              "Run data is saved locally in <code>/content/wandb/run-20230508_154942-4zprbkwl</code>"
            ]
          },
          "metadata": {}
        },
        {
          "output_type": "display_data",
          "data": {
            "text/plain": [
              "<IPython.core.display.HTML object>"
            ],
            "text/html": [
              "Syncing run <strong><a href='https://wandb.ai/atds_ml/resnet_50/runs/4zprbkwl' target=\"_blank\">eager-sweep-5</a></strong> to <a href='https://wandb.ai/atds_ml/resnet_50' target=\"_blank\">Weights & Biases</a> (<a href='https://wandb.me/run' target=\"_blank\">docs</a>)<br/>Sweep page: <a href='https://wandb.ai/atds_ml/resnet_50/sweeps/scmcgjjx' target=\"_blank\">https://wandb.ai/atds_ml/resnet_50/sweeps/scmcgjjx</a>"
            ]
          },
          "metadata": {}
        },
        {
          "output_type": "display_data",
          "data": {
            "text/plain": [
              "<IPython.core.display.HTML object>"
            ],
            "text/html": [
              " View project at <a href='https://wandb.ai/atds_ml/resnet_50' target=\"_blank\">https://wandb.ai/atds_ml/resnet_50</a>"
            ]
          },
          "metadata": {}
        },
        {
          "output_type": "display_data",
          "data": {
            "text/plain": [
              "<IPython.core.display.HTML object>"
            ],
            "text/html": [
              " View sweep at <a href='https://wandb.ai/atds_ml/resnet_50/sweeps/scmcgjjx' target=\"_blank\">https://wandb.ai/atds_ml/resnet_50/sweeps/scmcgjjx</a>"
            ]
          },
          "metadata": {}
        },
        {
          "output_type": "display_data",
          "data": {
            "text/plain": [
              "<IPython.core.display.HTML object>"
            ],
            "text/html": [
              " View run at <a href='https://wandb.ai/atds_ml/resnet_50/runs/4zprbkwl' target=\"_blank\">https://wandb.ai/atds_ml/resnet_50/runs/4zprbkwl</a>"
            ]
          },
          "metadata": {}
        },
        {
          "output_type": "stream",
          "name": "stdout",
          "text": [
            "X_train.shape torch.Size([31367, 3, 30, 30])\n",
            "X_valid.shape torch.Size([7842, 3, 30, 30])\n",
            "y_train.shape torch.Size([31367])\n",
            "y_valid.shape torch.Size([7842])\n"
          ]
        },
        {
          "output_type": "display_data",
          "data": {
            "text/plain": [
              "<IPython.core.display.HTML object>"
            ],
            "text/html": [
              "Waiting for W&B process to finish... <strong style=\"color:green\">(success).</strong>"
            ]
          },
          "metadata": {}
        },
        {
          "output_type": "display_data",
          "data": {
            "text/plain": [
              "VBox(children=(Label(value='0.001 MB of 0.001 MB uploaded (0.000 MB deduped)\\r'), FloatProgress(value=1.0, max…"
            ],
            "application/vnd.jupyter.widget-view+json": {
              "version_major": 2,
              "version_minor": 0,
              "model_id": "edf1a95389e44242b22d3965cfd163e0"
            }
          },
          "metadata": {}
        },
        {
          "output_type": "display_data",
          "data": {
            "text/plain": [
              "<IPython.core.display.HTML object>"
            ],
            "text/html": [
              "<style>\n",
              "    table.wandb td:nth-child(1) { padding: 0 10px; text-align: left ; width: auto;} td:nth-child(2) {text-align: left ; width: 100%}\n",
              "    .wandb-row { display: flex; flex-direction: row; flex-wrap: wrap; justify-content: flex-start; width: 100% }\n",
              "    .wandb-col { display: flex; flex-direction: column; flex-basis: 100%; flex: 1; padding: 10px; }\n",
              "    </style>\n",
              "<div class=\"wandb-row\"><div class=\"wandb-col\"><h3>Run history:</h3><br/><table class=\"wandb\"><tr><td>accuracy</td><td>▁▃▄▅▅▆▆▇▇▇▇████</td></tr><tr><td>epoch</td><td>▁▁▂▃▃▃▄▅▅▅▆▇▇▇█</td></tr><tr><td>learning_rate</td><td>▁▁▁▁▁▁▁▁▁▁▁▁▁▁▁</td></tr><tr><td>loss</td><td>█▅▄▄▃▂▂▂▂▂▂▁▁▁▁</td></tr></table><br/></div><div class=\"wandb-col\"><h3>Run summary:</h3><br/><table class=\"wandb\"><tr><td>accuracy</td><td>54.48865</td></tr><tr><td>epoch</td><td>14</td></tr><tr><td>learning_rate</td><td>0.00078</td></tr><tr><td>loss</td><td>1.82698</td></tr><tr><td>optimizer</td><td>adam</td></tr></table><br/></div></div>"
            ]
          },
          "metadata": {}
        },
        {
          "output_type": "display_data",
          "data": {
            "text/plain": [
              "<IPython.core.display.HTML object>"
            ],
            "text/html": [
              " View run <strong style=\"color:#cdcd00\">eager-sweep-5</strong> at: <a href='https://wandb.ai/atds_ml/resnet_50/runs/4zprbkwl' target=\"_blank\">https://wandb.ai/atds_ml/resnet_50/runs/4zprbkwl</a><br/>Synced 5 W&B file(s), 0 media file(s), 0 artifact file(s) and 0 other file(s)"
            ]
          },
          "metadata": {}
        },
        {
          "output_type": "display_data",
          "data": {
            "text/plain": [
              "<IPython.core.display.HTML object>"
            ],
            "text/html": [
              "Find logs at: <code>./wandb/run-20230508_154942-4zprbkwl/logs</code>"
            ]
          },
          "metadata": {}
        },
        {
          "output_type": "stream",
          "name": "stderr",
          "text": [
            "\u001b[34m\u001b[1mwandb\u001b[0m: Agent Starting Run: gzibo9d7 with config:\n",
            "\u001b[34m\u001b[1mwandb\u001b[0m: \tepochs: 15\n",
            "\u001b[34m\u001b[1mwandb\u001b[0m: \tlearning_rate: 0.0008566231336084013\n",
            "\u001b[34m\u001b[1mwandb\u001b[0m: \toptimizer: adam\n"
          ]
        },
        {
          "output_type": "display_data",
          "data": {
            "text/plain": [
              "<IPython.core.display.HTML object>"
            ],
            "text/html": [
              "Tracking run with wandb version 0.15.2"
            ]
          },
          "metadata": {}
        },
        {
          "output_type": "display_data",
          "data": {
            "text/plain": [
              "<IPython.core.display.HTML object>"
            ],
            "text/html": [
              "Run data is saved locally in <code>/content/wandb/run-20230508_155210-gzibo9d7</code>"
            ]
          },
          "metadata": {}
        },
        {
          "output_type": "display_data",
          "data": {
            "text/plain": [
              "<IPython.core.display.HTML object>"
            ],
            "text/html": [
              "Syncing run <strong><a href='https://wandb.ai/atds_ml/resnet_50/runs/gzibo9d7' target=\"_blank\">cool-sweep-6</a></strong> to <a href='https://wandb.ai/atds_ml/resnet_50' target=\"_blank\">Weights & Biases</a> (<a href='https://wandb.me/run' target=\"_blank\">docs</a>)<br/>Sweep page: <a href='https://wandb.ai/atds_ml/resnet_50/sweeps/scmcgjjx' target=\"_blank\">https://wandb.ai/atds_ml/resnet_50/sweeps/scmcgjjx</a>"
            ]
          },
          "metadata": {}
        },
        {
          "output_type": "display_data",
          "data": {
            "text/plain": [
              "<IPython.core.display.HTML object>"
            ],
            "text/html": [
              " View project at <a href='https://wandb.ai/atds_ml/resnet_50' target=\"_blank\">https://wandb.ai/atds_ml/resnet_50</a>"
            ]
          },
          "metadata": {}
        },
        {
          "output_type": "display_data",
          "data": {
            "text/plain": [
              "<IPython.core.display.HTML object>"
            ],
            "text/html": [
              " View sweep at <a href='https://wandb.ai/atds_ml/resnet_50/sweeps/scmcgjjx' target=\"_blank\">https://wandb.ai/atds_ml/resnet_50/sweeps/scmcgjjx</a>"
            ]
          },
          "metadata": {}
        },
        {
          "output_type": "display_data",
          "data": {
            "text/plain": [
              "<IPython.core.display.HTML object>"
            ],
            "text/html": [
              " View run at <a href='https://wandb.ai/atds_ml/resnet_50/runs/gzibo9d7' target=\"_blank\">https://wandb.ai/atds_ml/resnet_50/runs/gzibo9d7</a>"
            ]
          },
          "metadata": {}
        },
        {
          "output_type": "stream",
          "name": "stdout",
          "text": [
            "X_train.shape torch.Size([31367, 3, 30, 30])\n",
            "X_valid.shape torch.Size([7842, 3, 30, 30])\n",
            "y_train.shape torch.Size([31367])\n",
            "y_valid.shape torch.Size([7842])\n"
          ]
        },
        {
          "output_type": "display_data",
          "data": {
            "text/plain": [
              "<IPython.core.display.HTML object>"
            ],
            "text/html": [
              "Waiting for W&B process to finish... <strong style=\"color:green\">(success).</strong>"
            ]
          },
          "metadata": {}
        },
        {
          "output_type": "display_data",
          "data": {
            "text/plain": [
              "VBox(children=(Label(value='0.001 MB of 0.009 MB uploaded (0.000 MB deduped)\\r'), FloatProgress(value=0.120215…"
            ],
            "application/vnd.jupyter.widget-view+json": {
              "version_major": 2,
              "version_minor": 0,
              "model_id": "64a02ea0100a481eaa677632a7fcd0f1"
            }
          },
          "metadata": {}
        },
        {
          "output_type": "display_data",
          "data": {
            "text/plain": [
              "<IPython.core.display.HTML object>"
            ],
            "text/html": [
              "<style>\n",
              "    table.wandb td:nth-child(1) { padding: 0 10px; text-align: left ; width: auto;} td:nth-child(2) {text-align: left ; width: 100%}\n",
              "    .wandb-row { display: flex; flex-direction: row; flex-wrap: wrap; justify-content: flex-start; width: 100% }\n",
              "    .wandb-col { display: flex; flex-direction: column; flex-basis: 100%; flex: 1; padding: 10px; }\n",
              "    </style>\n",
              "<div class=\"wandb-row\"><div class=\"wandb-col\"><h3>Run history:</h3><br/><table class=\"wandb\"><tr><td>accuracy</td><td>▁▃▄▅▅▆▆▆▇▇▇▇███</td></tr><tr><td>epoch</td><td>▁▁▂▃▃▃▄▅▅▅▆▇▇▇█</td></tr><tr><td>learning_rate</td><td>▁▁▁▁▁▁▁▁▁▁▁▁▁▁▁</td></tr><tr><td>loss</td><td>█▅▄▃▃▃▂▂▂▁▁▁▁▁▁</td></tr></table><br/></div><div class=\"wandb-col\"><h3>Run summary:</h3><br/><table class=\"wandb\"><tr><td>accuracy</td><td>56.21015</td></tr><tr><td>epoch</td><td>14</td></tr><tr><td>learning_rate</td><td>0.00086</td></tr><tr><td>loss</td><td>1.78868</td></tr><tr><td>optimizer</td><td>adam</td></tr></table><br/></div></div>"
            ]
          },
          "metadata": {}
        },
        {
          "output_type": "display_data",
          "data": {
            "text/plain": [
              "<IPython.core.display.HTML object>"
            ],
            "text/html": [
              " View run <strong style=\"color:#cdcd00\">cool-sweep-6</strong> at: <a href='https://wandb.ai/atds_ml/resnet_50/runs/gzibo9d7' target=\"_blank\">https://wandb.ai/atds_ml/resnet_50/runs/gzibo9d7</a><br/>Synced 5 W&B file(s), 0 media file(s), 0 artifact file(s) and 0 other file(s)"
            ]
          },
          "metadata": {}
        },
        {
          "output_type": "display_data",
          "data": {
            "text/plain": [
              "<IPython.core.display.HTML object>"
            ],
            "text/html": [
              "Find logs at: <code>./wandb/run-20230508_155210-gzibo9d7/logs</code>"
            ]
          },
          "metadata": {}
        },
        {
          "output_type": "stream",
          "name": "stderr",
          "text": [
            "\u001b[34m\u001b[1mwandb\u001b[0m: Agent Starting Run: 4m35agf4 with config:\n",
            "\u001b[34m\u001b[1mwandb\u001b[0m: \tepochs: 15\n",
            "\u001b[34m\u001b[1mwandb\u001b[0m: \tlearning_rate: 0.0002446308480828391\n",
            "\u001b[34m\u001b[1mwandb\u001b[0m: \toptimizer: adam\n"
          ]
        },
        {
          "output_type": "display_data",
          "data": {
            "text/plain": [
              "<IPython.core.display.HTML object>"
            ],
            "text/html": [
              "Tracking run with wandb version 0.15.2"
            ]
          },
          "metadata": {}
        },
        {
          "output_type": "display_data",
          "data": {
            "text/plain": [
              "<IPython.core.display.HTML object>"
            ],
            "text/html": [
              "Run data is saved locally in <code>/content/wandb/run-20230508_155433-4m35agf4</code>"
            ]
          },
          "metadata": {}
        },
        {
          "output_type": "display_data",
          "data": {
            "text/plain": [
              "<IPython.core.display.HTML object>"
            ],
            "text/html": [
              "Syncing run <strong><a href='https://wandb.ai/atds_ml/resnet_50/runs/4m35agf4' target=\"_blank\">vibrant-sweep-7</a></strong> to <a href='https://wandb.ai/atds_ml/resnet_50' target=\"_blank\">Weights & Biases</a> (<a href='https://wandb.me/run' target=\"_blank\">docs</a>)<br/>Sweep page: <a href='https://wandb.ai/atds_ml/resnet_50/sweeps/scmcgjjx' target=\"_blank\">https://wandb.ai/atds_ml/resnet_50/sweeps/scmcgjjx</a>"
            ]
          },
          "metadata": {}
        },
        {
          "output_type": "display_data",
          "data": {
            "text/plain": [
              "<IPython.core.display.HTML object>"
            ],
            "text/html": [
              " View project at <a href='https://wandb.ai/atds_ml/resnet_50' target=\"_blank\">https://wandb.ai/atds_ml/resnet_50</a>"
            ]
          },
          "metadata": {}
        },
        {
          "output_type": "display_data",
          "data": {
            "text/plain": [
              "<IPython.core.display.HTML object>"
            ],
            "text/html": [
              " View sweep at <a href='https://wandb.ai/atds_ml/resnet_50/sweeps/scmcgjjx' target=\"_blank\">https://wandb.ai/atds_ml/resnet_50/sweeps/scmcgjjx</a>"
            ]
          },
          "metadata": {}
        },
        {
          "output_type": "display_data",
          "data": {
            "text/plain": [
              "<IPython.core.display.HTML object>"
            ],
            "text/html": [
              " View run at <a href='https://wandb.ai/atds_ml/resnet_50/runs/4m35agf4' target=\"_blank\">https://wandb.ai/atds_ml/resnet_50/runs/4m35agf4</a>"
            ]
          },
          "metadata": {}
        },
        {
          "output_type": "stream",
          "name": "stdout",
          "text": [
            "X_train.shape torch.Size([31367, 3, 30, 30])\n",
            "X_valid.shape torch.Size([7842, 3, 30, 30])\n",
            "y_train.shape torch.Size([31367])\n",
            "y_valid.shape torch.Size([7842])\n"
          ]
        },
        {
          "output_type": "display_data",
          "data": {
            "text/plain": [
              "<IPython.core.display.HTML object>"
            ],
            "text/html": [
              "Waiting for W&B process to finish... <strong style=\"color:green\">(success).</strong>"
            ]
          },
          "metadata": {}
        },
        {
          "output_type": "display_data",
          "data": {
            "text/plain": [
              "VBox(children=(Label(value='0.001 MB of 0.002 MB uploaded (0.000 MB deduped)\\r'), FloatProgress(value=0.529860…"
            ],
            "application/vnd.jupyter.widget-view+json": {
              "version_major": 2,
              "version_minor": 0,
              "model_id": "52c1fa35b5d542ea995e28bf08e2e205"
            }
          },
          "metadata": {}
        },
        {
          "output_type": "display_data",
          "data": {
            "text/plain": [
              "<IPython.core.display.HTML object>"
            ],
            "text/html": [
              "<style>\n",
              "    table.wandb td:nth-child(1) { padding: 0 10px; text-align: left ; width: auto;} td:nth-child(2) {text-align: left ; width: 100%}\n",
              "    .wandb-row { display: flex; flex-direction: row; flex-wrap: wrap; justify-content: flex-start; width: 100% }\n",
              "    .wandb-col { display: flex; flex-direction: column; flex-basis: 100%; flex: 1; padding: 10px; }\n",
              "    </style>\n",
              "<div class=\"wandb-row\"><div class=\"wandb-col\"><h3>Run history:</h3><br/><table class=\"wandb\"><tr><td>accuracy</td><td>▁▂▃▄▅▅▆▆▆▇▇▇███</td></tr><tr><td>epoch</td><td>▁▁▂▃▃▃▄▅▅▅▆▇▇▇█</td></tr><tr><td>learning_rate</td><td>▁▁▁▁▁▁▁▁▁▁▁▁▁▁▁</td></tr><tr><td>loss</td><td>█▅▄▄▃▃▂▂▂▂▁▁▁▁▁</td></tr></table><br/></div><div class=\"wandb-col\"><h3>Run summary:</h3><br/><table class=\"wandb\"><tr><td>accuracy</td><td>42.56567</td></tr><tr><td>epoch</td><td>14</td></tr><tr><td>learning_rate</td><td>0.00024</td></tr><tr><td>loss</td><td>2.8327</td></tr><tr><td>optimizer</td><td>adam</td></tr></table><br/></div></div>"
            ]
          },
          "metadata": {}
        },
        {
          "output_type": "display_data",
          "data": {
            "text/plain": [
              "<IPython.core.display.HTML object>"
            ],
            "text/html": [
              " View run <strong style=\"color:#cdcd00\">vibrant-sweep-7</strong> at: <a href='https://wandb.ai/atds_ml/resnet_50/runs/4m35agf4' target=\"_blank\">https://wandb.ai/atds_ml/resnet_50/runs/4m35agf4</a><br/>Synced 5 W&B file(s), 0 media file(s), 0 artifact file(s) and 0 other file(s)"
            ]
          },
          "metadata": {}
        },
        {
          "output_type": "display_data",
          "data": {
            "text/plain": [
              "<IPython.core.display.HTML object>"
            ],
            "text/html": [
              "Find logs at: <code>./wandb/run-20230508_155433-4m35agf4/logs</code>"
            ]
          },
          "metadata": {}
        },
        {
          "output_type": "stream",
          "name": "stderr",
          "text": [
            "\u001b[34m\u001b[1mwandb\u001b[0m: Agent Starting Run: iiuyylih with config:\n",
            "\u001b[34m\u001b[1mwandb\u001b[0m: \tepochs: 15\n",
            "\u001b[34m\u001b[1mwandb\u001b[0m: \tlearning_rate: 0.0008586995124563696\n",
            "\u001b[34m\u001b[1mwandb\u001b[0m: \toptimizer: sgd\n"
          ]
        },
        {
          "output_type": "display_data",
          "data": {
            "text/plain": [
              "<IPython.core.display.HTML object>"
            ],
            "text/html": [
              "Tracking run with wandb version 0.15.2"
            ]
          },
          "metadata": {}
        },
        {
          "output_type": "display_data",
          "data": {
            "text/plain": [
              "<IPython.core.display.HTML object>"
            ],
            "text/html": [
              "Run data is saved locally in <code>/content/wandb/run-20230508_155700-iiuyylih</code>"
            ]
          },
          "metadata": {}
        },
        {
          "output_type": "display_data",
          "data": {
            "text/plain": [
              "<IPython.core.display.HTML object>"
            ],
            "text/html": [
              "Syncing run <strong><a href='https://wandb.ai/atds_ml/resnet_50/runs/iiuyylih' target=\"_blank\">misunderstood-sweep-8</a></strong> to <a href='https://wandb.ai/atds_ml/resnet_50' target=\"_blank\">Weights & Biases</a> (<a href='https://wandb.me/run' target=\"_blank\">docs</a>)<br/>Sweep page: <a href='https://wandb.ai/atds_ml/resnet_50/sweeps/scmcgjjx' target=\"_blank\">https://wandb.ai/atds_ml/resnet_50/sweeps/scmcgjjx</a>"
            ]
          },
          "metadata": {}
        },
        {
          "output_type": "display_data",
          "data": {
            "text/plain": [
              "<IPython.core.display.HTML object>"
            ],
            "text/html": [
              " View project at <a href='https://wandb.ai/atds_ml/resnet_50' target=\"_blank\">https://wandb.ai/atds_ml/resnet_50</a>"
            ]
          },
          "metadata": {}
        },
        {
          "output_type": "display_data",
          "data": {
            "text/plain": [
              "<IPython.core.display.HTML object>"
            ],
            "text/html": [
              " View sweep at <a href='https://wandb.ai/atds_ml/resnet_50/sweeps/scmcgjjx' target=\"_blank\">https://wandb.ai/atds_ml/resnet_50/sweeps/scmcgjjx</a>"
            ]
          },
          "metadata": {}
        },
        {
          "output_type": "display_data",
          "data": {
            "text/plain": [
              "<IPython.core.display.HTML object>"
            ],
            "text/html": [
              " View run at <a href='https://wandb.ai/atds_ml/resnet_50/runs/iiuyylih' target=\"_blank\">https://wandb.ai/atds_ml/resnet_50/runs/iiuyylih</a>"
            ]
          },
          "metadata": {}
        },
        {
          "output_type": "stream",
          "name": "stdout",
          "text": [
            "X_train.shape torch.Size([31367, 3, 30, 30])\n",
            "X_valid.shape torch.Size([7842, 3, 30, 30])\n",
            "y_train.shape torch.Size([31367])\n",
            "y_valid.shape torch.Size([7842])\n"
          ]
        },
        {
          "output_type": "display_data",
          "data": {
            "text/plain": [
              "<IPython.core.display.HTML object>"
            ],
            "text/html": [
              "Waiting for W&B process to finish... <strong style=\"color:green\">(success).</strong>"
            ]
          },
          "metadata": {}
        },
        {
          "output_type": "display_data",
          "data": {
            "text/plain": [
              "VBox(children=(Label(value='0.001 MB of 0.001 MB uploaded (0.000 MB deduped)\\r'), FloatProgress(value=1.0, max…"
            ],
            "application/vnd.jupyter.widget-view+json": {
              "version_major": 2,
              "version_minor": 0,
              "model_id": "fcc3e7c56185473b8c4dd42bb94e4b2d"
            }
          },
          "metadata": {}
        },
        {
          "output_type": "display_data",
          "data": {
            "text/plain": [
              "<IPython.core.display.HTML object>"
            ],
            "text/html": [
              "<style>\n",
              "    table.wandb td:nth-child(1) { padding: 0 10px; text-align: left ; width: auto;} td:nth-child(2) {text-align: left ; width: 100%}\n",
              "    .wandb-row { display: flex; flex-direction: row; flex-wrap: wrap; justify-content: flex-start; width: 100% }\n",
              "    .wandb-col { display: flex; flex-direction: column; flex-basis: 100%; flex: 1; padding: 10px; }\n",
              "    </style>\n",
              "<div class=\"wandb-row\"><div class=\"wandb-col\"><h3>Run history:</h3><br/><table class=\"wandb\"><tr><td>accuracy</td><td>▁▂▄▄▅▆▆▆▇▇▇▇▇██</td></tr><tr><td>epoch</td><td>▁▁▂▃▃▃▄▅▅▅▆▇▇▇█</td></tr><tr><td>learning_rate</td><td>▁▁▁▁▁▁▁▁▁▁▁▁▁▁▁</td></tr><tr><td>loss</td><td>█▇▅▄▃▃▂▂▂▂▂▁▂▁▁</td></tr></table><br/></div><div class=\"wandb-col\"><h3>Run summary:</h3><br/><table class=\"wandb\"><tr><td>accuracy</td><td>37.9495</td></tr><tr><td>epoch</td><td>14</td></tr><tr><td>learning_rate</td><td>0.00086</td></tr><tr><td>loss</td><td>3.33799</td></tr><tr><td>optimizer</td><td>sgd</td></tr></table><br/></div></div>"
            ]
          },
          "metadata": {}
        },
        {
          "output_type": "display_data",
          "data": {
            "text/plain": [
              "<IPython.core.display.HTML object>"
            ],
            "text/html": [
              " View run <strong style=\"color:#cdcd00\">misunderstood-sweep-8</strong> at: <a href='https://wandb.ai/atds_ml/resnet_50/runs/iiuyylih' target=\"_blank\">https://wandb.ai/atds_ml/resnet_50/runs/iiuyylih</a><br/>Synced 5 W&B file(s), 0 media file(s), 0 artifact file(s) and 0 other file(s)"
            ]
          },
          "metadata": {}
        },
        {
          "output_type": "display_data",
          "data": {
            "text/plain": [
              "<IPython.core.display.HTML object>"
            ],
            "text/html": [
              "Find logs at: <code>./wandb/run-20230508_155700-iiuyylih/logs</code>"
            ]
          },
          "metadata": {}
        },
        {
          "output_type": "stream",
          "name": "stderr",
          "text": [
            "\u001b[34m\u001b[1mwandb\u001b[0m: Agent Starting Run: e10mddxp with config:\n",
            "\u001b[34m\u001b[1mwandb\u001b[0m: \tepochs: 15\n",
            "\u001b[34m\u001b[1mwandb\u001b[0m: \tlearning_rate: 0.0006850496515372327\n",
            "\u001b[34m\u001b[1mwandb\u001b[0m: \toptimizer: adam\n"
          ]
        },
        {
          "output_type": "display_data",
          "data": {
            "text/plain": [
              "<IPython.core.display.HTML object>"
            ],
            "text/html": [
              "Tracking run with wandb version 0.15.2"
            ]
          },
          "metadata": {}
        },
        {
          "output_type": "display_data",
          "data": {
            "text/plain": [
              "<IPython.core.display.HTML object>"
            ],
            "text/html": [
              "Run data is saved locally in <code>/content/wandb/run-20230508_155925-e10mddxp</code>"
            ]
          },
          "metadata": {}
        },
        {
          "output_type": "display_data",
          "data": {
            "text/plain": [
              "<IPython.core.display.HTML object>"
            ],
            "text/html": [
              "Syncing run <strong><a href='https://wandb.ai/atds_ml/resnet_50/runs/e10mddxp' target=\"_blank\">golden-sweep-9</a></strong> to <a href='https://wandb.ai/atds_ml/resnet_50' target=\"_blank\">Weights & Biases</a> (<a href='https://wandb.me/run' target=\"_blank\">docs</a>)<br/>Sweep page: <a href='https://wandb.ai/atds_ml/resnet_50/sweeps/scmcgjjx' target=\"_blank\">https://wandb.ai/atds_ml/resnet_50/sweeps/scmcgjjx</a>"
            ]
          },
          "metadata": {}
        },
        {
          "output_type": "display_data",
          "data": {
            "text/plain": [
              "<IPython.core.display.HTML object>"
            ],
            "text/html": [
              " View project at <a href='https://wandb.ai/atds_ml/resnet_50' target=\"_blank\">https://wandb.ai/atds_ml/resnet_50</a>"
            ]
          },
          "metadata": {}
        },
        {
          "output_type": "display_data",
          "data": {
            "text/plain": [
              "<IPython.core.display.HTML object>"
            ],
            "text/html": [
              " View sweep at <a href='https://wandb.ai/atds_ml/resnet_50/sweeps/scmcgjjx' target=\"_blank\">https://wandb.ai/atds_ml/resnet_50/sweeps/scmcgjjx</a>"
            ]
          },
          "metadata": {}
        },
        {
          "output_type": "display_data",
          "data": {
            "text/plain": [
              "<IPython.core.display.HTML object>"
            ],
            "text/html": [
              " View run at <a href='https://wandb.ai/atds_ml/resnet_50/runs/e10mddxp' target=\"_blank\">https://wandb.ai/atds_ml/resnet_50/runs/e10mddxp</a>"
            ]
          },
          "metadata": {}
        },
        {
          "output_type": "stream",
          "name": "stdout",
          "text": [
            "X_train.shape torch.Size([31367, 3, 30, 30])\n",
            "X_valid.shape torch.Size([7842, 3, 30, 30])\n",
            "y_train.shape torch.Size([31367])\n",
            "y_valid.shape torch.Size([7842])\n"
          ]
        },
        {
          "output_type": "display_data",
          "data": {
            "text/plain": [
              "<IPython.core.display.HTML object>"
            ],
            "text/html": [
              "Waiting for W&B process to finish... <strong style=\"color:green\">(success).</strong>"
            ]
          },
          "metadata": {}
        },
        {
          "output_type": "display_data",
          "data": {
            "text/plain": [
              "VBox(children=(Label(value='0.001 MB of 0.002 MB uploaded (0.000 MB deduped)\\r'), FloatProgress(value=0.569156…"
            ],
            "application/vnd.jupyter.widget-view+json": {
              "version_major": 2,
              "version_minor": 0,
              "model_id": "9304c7181b8244cab22bd0df056808fb"
            }
          },
          "metadata": {}
        },
        {
          "output_type": "display_data",
          "data": {
            "text/plain": [
              "<IPython.core.display.HTML object>"
            ],
            "text/html": [
              "<style>\n",
              "    table.wandb td:nth-child(1) { padding: 0 10px; text-align: left ; width: auto;} td:nth-child(2) {text-align: left ; width: 100%}\n",
              "    .wandb-row { display: flex; flex-direction: row; flex-wrap: wrap; justify-content: flex-start; width: 100% }\n",
              "    .wandb-col { display: flex; flex-direction: column; flex-basis: 100%; flex: 1; padding: 10px; }\n",
              "    </style>\n",
              "<div class=\"wandb-row\"><div class=\"wandb-col\"><h3>Run history:</h3><br/><table class=\"wandb\"><tr><td>accuracy</td><td>▁▃▄▅▅▆▆▆▇▇▇▇███</td></tr><tr><td>epoch</td><td>▁▁▂▃▃▃▄▅▅▅▆▇▇▇█</td></tr><tr><td>learning_rate</td><td>▁▁▁▁▁▁▁▁▁▁▁▁▁▁▁</td></tr><tr><td>loss</td><td>█▅▄▃▃▂▂▂▂▁▁▁▁▁▁</td></tr></table><br/></div><div class=\"wandb-col\"><h3>Run summary:</h3><br/><table class=\"wandb\"><tr><td>accuracy</td><td>53.4175</td></tr><tr><td>epoch</td><td>14</td></tr><tr><td>learning_rate</td><td>0.00069</td></tr><tr><td>loss</td><td>1.94254</td></tr><tr><td>optimizer</td><td>adam</td></tr></table><br/></div></div>"
            ]
          },
          "metadata": {}
        },
        {
          "output_type": "display_data",
          "data": {
            "text/plain": [
              "<IPython.core.display.HTML object>"
            ],
            "text/html": [
              " View run <strong style=\"color:#cdcd00\">golden-sweep-9</strong> at: <a href='https://wandb.ai/atds_ml/resnet_50/runs/e10mddxp' target=\"_blank\">https://wandb.ai/atds_ml/resnet_50/runs/e10mddxp</a><br/>Synced 5 W&B file(s), 0 media file(s), 0 artifact file(s) and 0 other file(s)"
            ]
          },
          "metadata": {}
        },
        {
          "output_type": "display_data",
          "data": {
            "text/plain": [
              "<IPython.core.display.HTML object>"
            ],
            "text/html": [
              "Find logs at: <code>./wandb/run-20230508_155925-e10mddxp/logs</code>"
            ]
          },
          "metadata": {}
        },
        {
          "output_type": "stream",
          "name": "stderr",
          "text": [
            "\u001b[34m\u001b[1mwandb\u001b[0m: Agent Starting Run: lkd2jzkg with config:\n",
            "\u001b[34m\u001b[1mwandb\u001b[0m: \tepochs: 15\n",
            "\u001b[34m\u001b[1mwandb\u001b[0m: \tlearning_rate: 0.00017311098802183769\n",
            "\u001b[34m\u001b[1mwandb\u001b[0m: \toptimizer: sgd\n"
          ]
        },
        {
          "output_type": "display_data",
          "data": {
            "text/plain": [
              "<IPython.core.display.HTML object>"
            ],
            "text/html": [
              "Tracking run with wandb version 0.15.2"
            ]
          },
          "metadata": {}
        },
        {
          "output_type": "display_data",
          "data": {
            "text/plain": [
              "<IPython.core.display.HTML object>"
            ],
            "text/html": [
              "Run data is saved locally in <code>/content/wandb/run-20230508_160151-lkd2jzkg</code>"
            ]
          },
          "metadata": {}
        },
        {
          "output_type": "display_data",
          "data": {
            "text/plain": [
              "<IPython.core.display.HTML object>"
            ],
            "text/html": [
              "Syncing run <strong><a href='https://wandb.ai/atds_ml/resnet_50/runs/lkd2jzkg' target=\"_blank\">colorful-sweep-10</a></strong> to <a href='https://wandb.ai/atds_ml/resnet_50' target=\"_blank\">Weights & Biases</a> (<a href='https://wandb.me/run' target=\"_blank\">docs</a>)<br/>Sweep page: <a href='https://wandb.ai/atds_ml/resnet_50/sweeps/scmcgjjx' target=\"_blank\">https://wandb.ai/atds_ml/resnet_50/sweeps/scmcgjjx</a>"
            ]
          },
          "metadata": {}
        },
        {
          "output_type": "display_data",
          "data": {
            "text/plain": [
              "<IPython.core.display.HTML object>"
            ],
            "text/html": [
              " View project at <a href='https://wandb.ai/atds_ml/resnet_50' target=\"_blank\">https://wandb.ai/atds_ml/resnet_50</a>"
            ]
          },
          "metadata": {}
        },
        {
          "output_type": "display_data",
          "data": {
            "text/plain": [
              "<IPython.core.display.HTML object>"
            ],
            "text/html": [
              " View sweep at <a href='https://wandb.ai/atds_ml/resnet_50/sweeps/scmcgjjx' target=\"_blank\">https://wandb.ai/atds_ml/resnet_50/sweeps/scmcgjjx</a>"
            ]
          },
          "metadata": {}
        },
        {
          "output_type": "display_data",
          "data": {
            "text/plain": [
              "<IPython.core.display.HTML object>"
            ],
            "text/html": [
              " View run at <a href='https://wandb.ai/atds_ml/resnet_50/runs/lkd2jzkg' target=\"_blank\">https://wandb.ai/atds_ml/resnet_50/runs/lkd2jzkg</a>"
            ]
          },
          "metadata": {}
        },
        {
          "output_type": "stream",
          "name": "stdout",
          "text": [
            "X_train.shape torch.Size([31367, 3, 30, 30])\n",
            "X_valid.shape torch.Size([7842, 3, 30, 30])\n",
            "y_train.shape torch.Size([31367])\n",
            "y_valid.shape torch.Size([7842])\n"
          ]
        },
        {
          "output_type": "display_data",
          "data": {
            "text/plain": [
              "<IPython.core.display.HTML object>"
            ],
            "text/html": [
              "Waiting for W&B process to finish... <strong style=\"color:green\">(success).</strong>"
            ]
          },
          "metadata": {}
        },
        {
          "output_type": "display_data",
          "data": {
            "text/plain": [
              "VBox(children=(Label(value='0.001 MB of 0.001 MB uploaded (0.000 MB deduped)\\r'), FloatProgress(value=1.0, max…"
            ],
            "application/vnd.jupyter.widget-view+json": {
              "version_major": 2,
              "version_minor": 0,
              "model_id": "5b7998449e974c35be7b71ad1e83c55a"
            }
          },
          "metadata": {}
        },
        {
          "output_type": "display_data",
          "data": {
            "text/plain": [
              "<IPython.core.display.HTML object>"
            ],
            "text/html": [
              "<style>\n",
              "    table.wandb td:nth-child(1) { padding: 0 10px; text-align: left ; width: auto;} td:nth-child(2) {text-align: left ; width: 100%}\n",
              "    .wandb-row { display: flex; flex-direction: row; flex-wrap: wrap; justify-content: flex-start; width: 100% }\n",
              "    .wandb-col { display: flex; flex-direction: column; flex-basis: 100%; flex: 1; padding: 10px; }\n",
              "    </style>\n",
              "<div class=\"wandb-row\"><div class=\"wandb-col\"><h3>Run history:</h3><br/><table class=\"wandb\"><tr><td>accuracy</td><td>▁▂▃▃▄▅▅▆▆▆▇▇███</td></tr><tr><td>epoch</td><td>▁▁▂▃▃▃▄▅▅▅▆▇▇▇█</td></tr><tr><td>learning_rate</td><td>▁▁▁▁▁▁▁▁▁▁▁▁▁▁▁</td></tr><tr><td>loss</td><td>█▇▆▅▅▄▄▃▃▃▂▂▁▁▁</td></tr></table><br/></div><div class=\"wandb-col\"><h3>Run summary:</h3><br/><table class=\"wandb\"><tr><td>accuracy</td><td>20.61974</td></tr><tr><td>epoch</td><td>14</td></tr><tr><td>learning_rate</td><td>0.00017</td></tr><tr><td>loss</td><td>6.59871</td></tr><tr><td>optimizer</td><td>sgd</td></tr></table><br/></div></div>"
            ]
          },
          "metadata": {}
        },
        {
          "output_type": "display_data",
          "data": {
            "text/plain": [
              "<IPython.core.display.HTML object>"
            ],
            "text/html": [
              " View run <strong style=\"color:#cdcd00\">colorful-sweep-10</strong> at: <a href='https://wandb.ai/atds_ml/resnet_50/runs/lkd2jzkg' target=\"_blank\">https://wandb.ai/atds_ml/resnet_50/runs/lkd2jzkg</a><br/>Synced 5 W&B file(s), 0 media file(s), 0 artifact file(s) and 0 other file(s)"
            ]
          },
          "metadata": {}
        },
        {
          "output_type": "display_data",
          "data": {
            "text/plain": [
              "<IPython.core.display.HTML object>"
            ],
            "text/html": [
              "Find logs at: <code>./wandb/run-20230508_160151-lkd2jzkg/logs</code>"
            ]
          },
          "metadata": {}
        },
        {
          "output_type": "stream",
          "name": "stderr",
          "text": [
            "\u001b[34m\u001b[1mwandb\u001b[0m: Agent Starting Run: lotiey4e with config:\n",
            "\u001b[34m\u001b[1mwandb\u001b[0m: \tepochs: 15\n",
            "\u001b[34m\u001b[1mwandb\u001b[0m: \tlearning_rate: 0.0004376530127944462\n",
            "\u001b[34m\u001b[1mwandb\u001b[0m: \toptimizer: adam\n"
          ]
        },
        {
          "output_type": "display_data",
          "data": {
            "text/plain": [
              "<IPython.core.display.HTML object>"
            ],
            "text/html": [
              "Tracking run with wandb version 0.15.2"
            ]
          },
          "metadata": {}
        },
        {
          "output_type": "display_data",
          "data": {
            "text/plain": [
              "<IPython.core.display.HTML object>"
            ],
            "text/html": [
              "Run data is saved locally in <code>/content/wandb/run-20230508_160417-lotiey4e</code>"
            ]
          },
          "metadata": {}
        },
        {
          "output_type": "display_data",
          "data": {
            "text/plain": [
              "<IPython.core.display.HTML object>"
            ],
            "text/html": [
              "Syncing run <strong><a href='https://wandb.ai/atds_ml/resnet_50/runs/lotiey4e' target=\"_blank\">sunny-sweep-11</a></strong> to <a href='https://wandb.ai/atds_ml/resnet_50' target=\"_blank\">Weights & Biases</a> (<a href='https://wandb.me/run' target=\"_blank\">docs</a>)<br/>Sweep page: <a href='https://wandb.ai/atds_ml/resnet_50/sweeps/scmcgjjx' target=\"_blank\">https://wandb.ai/atds_ml/resnet_50/sweeps/scmcgjjx</a>"
            ]
          },
          "metadata": {}
        },
        {
          "output_type": "display_data",
          "data": {
            "text/plain": [
              "<IPython.core.display.HTML object>"
            ],
            "text/html": [
              " View project at <a href='https://wandb.ai/atds_ml/resnet_50' target=\"_blank\">https://wandb.ai/atds_ml/resnet_50</a>"
            ]
          },
          "metadata": {}
        },
        {
          "output_type": "display_data",
          "data": {
            "text/plain": [
              "<IPython.core.display.HTML object>"
            ],
            "text/html": [
              " View sweep at <a href='https://wandb.ai/atds_ml/resnet_50/sweeps/scmcgjjx' target=\"_blank\">https://wandb.ai/atds_ml/resnet_50/sweeps/scmcgjjx</a>"
            ]
          },
          "metadata": {}
        },
        {
          "output_type": "display_data",
          "data": {
            "text/plain": [
              "<IPython.core.display.HTML object>"
            ],
            "text/html": [
              " View run at <a href='https://wandb.ai/atds_ml/resnet_50/runs/lotiey4e' target=\"_blank\">https://wandb.ai/atds_ml/resnet_50/runs/lotiey4e</a>"
            ]
          },
          "metadata": {}
        },
        {
          "output_type": "stream",
          "name": "stdout",
          "text": [
            "X_train.shape torch.Size([31367, 3, 30, 30])\n",
            "X_valid.shape torch.Size([7842, 3, 30, 30])\n",
            "y_train.shape torch.Size([31367])\n",
            "y_valid.shape torch.Size([7842])\n"
          ]
        },
        {
          "output_type": "display_data",
          "data": {
            "text/plain": [
              "<IPython.core.display.HTML object>"
            ],
            "text/html": [
              "Waiting for W&B process to finish... <strong style=\"color:green\">(success).</strong>"
            ]
          },
          "metadata": {}
        },
        {
          "output_type": "display_data",
          "data": {
            "text/plain": [
              "<IPython.core.display.HTML object>"
            ],
            "text/html": [
              "<style>\n",
              "    table.wandb td:nth-child(1) { padding: 0 10px; text-align: left ; width: auto;} td:nth-child(2) {text-align: left ; width: 100%}\n",
              "    .wandb-row { display: flex; flex-direction: row; flex-wrap: wrap; justify-content: flex-start; width: 100% }\n",
              "    .wandb-col { display: flex; flex-direction: column; flex-basis: 100%; flex: 1; padding: 10px; }\n",
              "    </style>\n",
              "<div class=\"wandb-row\"><div class=\"wandb-col\"><h3>Run history:</h3><br/><table class=\"wandb\"><tr><td>accuracy</td><td>▁▃▄▅▅▆▆▆▇▇▇▇███</td></tr><tr><td>epoch</td><td>▁▁▂▃▃▃▄▅▅▅▆▇▇▇█</td></tr><tr><td>learning_rate</td><td>▁▁▁▁▁▁▁▁▁▁▁▁▁▁▁</td></tr><tr><td>loss</td><td>█▅▄▃▃▃▂▂▂▂▂▁▁▁▁</td></tr></table><br/></div><div class=\"wandb-col\"><h3>Run summary:</h3><br/><table class=\"wandb\"><tr><td>accuracy</td><td>49.47717</td></tr><tr><td>epoch</td><td>14</td></tr><tr><td>learning_rate</td><td>0.00044</td></tr><tr><td>loss</td><td>2.23223</td></tr><tr><td>optimizer</td><td>adam</td></tr></table><br/></div></div>"
            ]
          },
          "metadata": {}
        },
        {
          "output_type": "display_data",
          "data": {
            "text/plain": [
              "<IPython.core.display.HTML object>"
            ],
            "text/html": [
              " View run <strong style=\"color:#cdcd00\">sunny-sweep-11</strong> at: <a href='https://wandb.ai/atds_ml/resnet_50/runs/lotiey4e' target=\"_blank\">https://wandb.ai/atds_ml/resnet_50/runs/lotiey4e</a><br/>Synced 5 W&B file(s), 0 media file(s), 0 artifact file(s) and 0 other file(s)"
            ]
          },
          "metadata": {}
        },
        {
          "output_type": "display_data",
          "data": {
            "text/plain": [
              "<IPython.core.display.HTML object>"
            ],
            "text/html": [
              "Find logs at: <code>./wandb/run-20230508_160417-lotiey4e/logs</code>"
            ]
          },
          "metadata": {}
        },
        {
          "output_type": "stream",
          "name": "stderr",
          "text": [
            "\u001b[34m\u001b[1mwandb\u001b[0m: Agent Starting Run: yfo1yf4u with config:\n",
            "\u001b[34m\u001b[1mwandb\u001b[0m: \tepochs: 15\n",
            "\u001b[34m\u001b[1mwandb\u001b[0m: \tlearning_rate: 0.0006597947370849753\n",
            "\u001b[34m\u001b[1mwandb\u001b[0m: \toptimizer: adam\n"
          ]
        },
        {
          "output_type": "display_data",
          "data": {
            "text/plain": [
              "<IPython.core.display.HTML object>"
            ],
            "text/html": [
              "Tracking run with wandb version 0.15.2"
            ]
          },
          "metadata": {}
        },
        {
          "output_type": "display_data",
          "data": {
            "text/plain": [
              "<IPython.core.display.HTML object>"
            ],
            "text/html": [
              "Run data is saved locally in <code>/content/wandb/run-20230508_160641-yfo1yf4u</code>"
            ]
          },
          "metadata": {}
        },
        {
          "output_type": "display_data",
          "data": {
            "text/plain": [
              "<IPython.core.display.HTML object>"
            ],
            "text/html": [
              "Syncing run <strong><a href='https://wandb.ai/atds_ml/resnet_50/runs/yfo1yf4u' target=\"_blank\">still-sweep-12</a></strong> to <a href='https://wandb.ai/atds_ml/resnet_50' target=\"_blank\">Weights & Biases</a> (<a href='https://wandb.me/run' target=\"_blank\">docs</a>)<br/>Sweep page: <a href='https://wandb.ai/atds_ml/resnet_50/sweeps/scmcgjjx' target=\"_blank\">https://wandb.ai/atds_ml/resnet_50/sweeps/scmcgjjx</a>"
            ]
          },
          "metadata": {}
        },
        {
          "output_type": "display_data",
          "data": {
            "text/plain": [
              "<IPython.core.display.HTML object>"
            ],
            "text/html": [
              " View project at <a href='https://wandb.ai/atds_ml/resnet_50' target=\"_blank\">https://wandb.ai/atds_ml/resnet_50</a>"
            ]
          },
          "metadata": {}
        },
        {
          "output_type": "display_data",
          "data": {
            "text/plain": [
              "<IPython.core.display.HTML object>"
            ],
            "text/html": [
              " View sweep at <a href='https://wandb.ai/atds_ml/resnet_50/sweeps/scmcgjjx' target=\"_blank\">https://wandb.ai/atds_ml/resnet_50/sweeps/scmcgjjx</a>"
            ]
          },
          "metadata": {}
        },
        {
          "output_type": "display_data",
          "data": {
            "text/plain": [
              "<IPython.core.display.HTML object>"
            ],
            "text/html": [
              " View run at <a href='https://wandb.ai/atds_ml/resnet_50/runs/yfo1yf4u' target=\"_blank\">https://wandb.ai/atds_ml/resnet_50/runs/yfo1yf4u</a>"
            ]
          },
          "metadata": {}
        },
        {
          "output_type": "stream",
          "name": "stdout",
          "text": [
            "X_train.shape torch.Size([31367, 3, 30, 30])\n",
            "X_valid.shape torch.Size([7842, 3, 30, 30])\n",
            "y_train.shape torch.Size([31367])\n",
            "y_valid.shape torch.Size([7842])\n"
          ]
        },
        {
          "output_type": "display_data",
          "data": {
            "text/plain": [
              "<IPython.core.display.HTML object>"
            ],
            "text/html": [
              "Waiting for W&B process to finish... <strong style=\"color:green\">(success).</strong>"
            ]
          },
          "metadata": {}
        },
        {
          "output_type": "display_data",
          "data": {
            "text/plain": [
              "VBox(children=(Label(value='0.001 MB of 0.002 MB uploaded (0.000 MB deduped)\\r'), FloatProgress(value=0.529622…"
            ],
            "application/vnd.jupyter.widget-view+json": {
              "version_major": 2,
              "version_minor": 0,
              "model_id": "d09546f81d854e94ba1684849ee514f1"
            }
          },
          "metadata": {}
        },
        {
          "output_type": "display_data",
          "data": {
            "text/plain": [
              "<IPython.core.display.HTML object>"
            ],
            "text/html": [
              "<style>\n",
              "    table.wandb td:nth-child(1) { padding: 0 10px; text-align: left ; width: auto;} td:nth-child(2) {text-align: left ; width: 100%}\n",
              "    .wandb-row { display: flex; flex-direction: row; flex-wrap: wrap; justify-content: flex-start; width: 100% }\n",
              "    .wandb-col { display: flex; flex-direction: column; flex-basis: 100%; flex: 1; padding: 10px; }\n",
              "    </style>\n",
              "<div class=\"wandb-row\"><div class=\"wandb-col\"><h3>Run history:</h3><br/><table class=\"wandb\"><tr><td>accuracy</td><td>▁▃▄▅▆▆▆▇▇▇▇████</td></tr><tr><td>epoch</td><td>▁▁▂▃▃▃▄▅▅▅▆▇▇▇█</td></tr><tr><td>learning_rate</td><td>▁▁▁▁▁▁▁▁▁▁▁▁▁▁▁</td></tr><tr><td>loss</td><td>█▆▄▃▃▂▂▂▂▁▁▁▁▁▁</td></tr></table><br/></div><div class=\"wandb-col\"><h3>Run summary:</h3><br/><table class=\"wandb\"><tr><td>accuracy</td><td>53.57052</td></tr><tr><td>epoch</td><td>14</td></tr><tr><td>learning_rate</td><td>0.00066</td></tr><tr><td>loss</td><td>1.97685</td></tr><tr><td>optimizer</td><td>adam</td></tr></table><br/></div></div>"
            ]
          },
          "metadata": {}
        },
        {
          "output_type": "display_data",
          "data": {
            "text/plain": [
              "<IPython.core.display.HTML object>"
            ],
            "text/html": [
              " View run <strong style=\"color:#cdcd00\">still-sweep-12</strong> at: <a href='https://wandb.ai/atds_ml/resnet_50/runs/yfo1yf4u' target=\"_blank\">https://wandb.ai/atds_ml/resnet_50/runs/yfo1yf4u</a><br/>Synced 5 W&B file(s), 0 media file(s), 0 artifact file(s) and 0 other file(s)"
            ]
          },
          "metadata": {}
        },
        {
          "output_type": "display_data",
          "data": {
            "text/plain": [
              "<IPython.core.display.HTML object>"
            ],
            "text/html": [
              "Find logs at: <code>./wandb/run-20230508_160641-yfo1yf4u/logs</code>"
            ]
          },
          "metadata": {}
        },
        {
          "output_type": "stream",
          "name": "stderr",
          "text": [
            "\u001b[34m\u001b[1mwandb\u001b[0m: Sweep Agent: Waiting for job.\n",
            "\u001b[34m\u001b[1mwandb\u001b[0m: Job received.\n",
            "\u001b[34m\u001b[1mwandb\u001b[0m: Agent Starting Run: 73fw9fpc with config:\n",
            "\u001b[34m\u001b[1mwandb\u001b[0m: \tepochs: 15\n",
            "\u001b[34m\u001b[1mwandb\u001b[0m: \tlearning_rate: 0.0008861450254881166\n",
            "\u001b[34m\u001b[1mwandb\u001b[0m: \toptimizer: adam\n"
          ]
        },
        {
          "output_type": "display_data",
          "data": {
            "text/plain": [
              "<IPython.core.display.HTML object>"
            ],
            "text/html": [
              "Tracking run with wandb version 0.15.2"
            ]
          },
          "metadata": {}
        },
        {
          "output_type": "display_data",
          "data": {
            "text/plain": [
              "<IPython.core.display.HTML object>"
            ],
            "text/html": [
              "Run data is saved locally in <code>/content/wandb/run-20230508_160914-73fw9fpc</code>"
            ]
          },
          "metadata": {}
        },
        {
          "output_type": "display_data",
          "data": {
            "text/plain": [
              "<IPython.core.display.HTML object>"
            ],
            "text/html": [
              "Syncing run <strong><a href='https://wandb.ai/atds_ml/resnet_50/runs/73fw9fpc' target=\"_blank\">drawn-sweep-13</a></strong> to <a href='https://wandb.ai/atds_ml/resnet_50' target=\"_blank\">Weights & Biases</a> (<a href='https://wandb.me/run' target=\"_blank\">docs</a>)<br/>Sweep page: <a href='https://wandb.ai/atds_ml/resnet_50/sweeps/scmcgjjx' target=\"_blank\">https://wandb.ai/atds_ml/resnet_50/sweeps/scmcgjjx</a>"
            ]
          },
          "metadata": {}
        },
        {
          "output_type": "display_data",
          "data": {
            "text/plain": [
              "<IPython.core.display.HTML object>"
            ],
            "text/html": [
              " View project at <a href='https://wandb.ai/atds_ml/resnet_50' target=\"_blank\">https://wandb.ai/atds_ml/resnet_50</a>"
            ]
          },
          "metadata": {}
        },
        {
          "output_type": "display_data",
          "data": {
            "text/plain": [
              "<IPython.core.display.HTML object>"
            ],
            "text/html": [
              " View sweep at <a href='https://wandb.ai/atds_ml/resnet_50/sweeps/scmcgjjx' target=\"_blank\">https://wandb.ai/atds_ml/resnet_50/sweeps/scmcgjjx</a>"
            ]
          },
          "metadata": {}
        },
        {
          "output_type": "display_data",
          "data": {
            "text/plain": [
              "<IPython.core.display.HTML object>"
            ],
            "text/html": [
              " View run at <a href='https://wandb.ai/atds_ml/resnet_50/runs/73fw9fpc' target=\"_blank\">https://wandb.ai/atds_ml/resnet_50/runs/73fw9fpc</a>"
            ]
          },
          "metadata": {}
        },
        {
          "output_type": "stream",
          "name": "stdout",
          "text": [
            "X_train.shape torch.Size([31367, 3, 30, 30])\n",
            "X_valid.shape torch.Size([7842, 3, 30, 30])\n",
            "y_train.shape torch.Size([31367])\n",
            "y_valid.shape torch.Size([7842])\n"
          ]
        },
        {
          "output_type": "display_data",
          "data": {
            "text/plain": [
              "<IPython.core.display.HTML object>"
            ],
            "text/html": [
              "Waiting for W&B process to finish... <strong style=\"color:green\">(success).</strong>"
            ]
          },
          "metadata": {}
        },
        {
          "output_type": "display_data",
          "data": {
            "text/plain": [
              "VBox(children=(Label(value='0.001 MB of 0.001 MB uploaded (0.000 MB deduped)\\r'), FloatProgress(value=1.0, max…"
            ],
            "application/vnd.jupyter.widget-view+json": {
              "version_major": 2,
              "version_minor": 0,
              "model_id": "41720b73175a496e8cee6740c890078d"
            }
          },
          "metadata": {}
        },
        {
          "output_type": "display_data",
          "data": {
            "text/plain": [
              "<IPython.core.display.HTML object>"
            ],
            "text/html": [
              "<style>\n",
              "    table.wandb td:nth-child(1) { padding: 0 10px; text-align: left ; width: auto;} td:nth-child(2) {text-align: left ; width: 100%}\n",
              "    .wandb-row { display: flex; flex-direction: row; flex-wrap: wrap; justify-content: flex-start; width: 100% }\n",
              "    .wandb-col { display: flex; flex-direction: column; flex-basis: 100%; flex: 1; padding: 10px; }\n",
              "    </style>\n",
              "<div class=\"wandb-row\"><div class=\"wandb-col\"><h3>Run history:</h3><br/><table class=\"wandb\"><tr><td>accuracy</td><td>▁▃▄▅▅▆▆▇▇▇▇▇███</td></tr><tr><td>epoch</td><td>▁▁▂▃▃▃▄▅▅▅▆▇▇▇█</td></tr><tr><td>learning_rate</td><td>▁▁▁▁▁▁▁▁▁▁▁▁▁▁▁</td></tr><tr><td>loss</td><td>█▆▄▄▃▃▂▂▂▂▂▂▁▁▁</td></tr></table><br/></div><div class=\"wandb-col\"><h3>Run summary:</h3><br/><table class=\"wandb\"><tr><td>accuracy</td><td>57.2558</td></tr><tr><td>epoch</td><td>14</td></tr><tr><td>learning_rate</td><td>0.00089</td></tr><tr><td>loss</td><td>1.73425</td></tr><tr><td>optimizer</td><td>adam</td></tr></table><br/></div></div>"
            ]
          },
          "metadata": {}
        },
        {
          "output_type": "display_data",
          "data": {
            "text/plain": [
              "<IPython.core.display.HTML object>"
            ],
            "text/html": [
              " View run <strong style=\"color:#cdcd00\">drawn-sweep-13</strong> at: <a href='https://wandb.ai/atds_ml/resnet_50/runs/73fw9fpc' target=\"_blank\">https://wandb.ai/atds_ml/resnet_50/runs/73fw9fpc</a><br/>Synced 5 W&B file(s), 0 media file(s), 0 artifact file(s) and 0 other file(s)"
            ]
          },
          "metadata": {}
        },
        {
          "output_type": "display_data",
          "data": {
            "text/plain": [
              "<IPython.core.display.HTML object>"
            ],
            "text/html": [
              "Find logs at: <code>./wandb/run-20230508_160914-73fw9fpc/logs</code>"
            ]
          },
          "metadata": {}
        },
        {
          "output_type": "stream",
          "name": "stderr",
          "text": [
            "\u001b[34m\u001b[1mwandb\u001b[0m: Agent Starting Run: oc4csgei with config:\n",
            "\u001b[34m\u001b[1mwandb\u001b[0m: \tepochs: 15\n",
            "\u001b[34m\u001b[1mwandb\u001b[0m: \tlearning_rate: 0.0004619507506611355\n",
            "\u001b[34m\u001b[1mwandb\u001b[0m: \toptimizer: sgd\n"
          ]
        },
        {
          "output_type": "display_data",
          "data": {
            "text/plain": [
              "<IPython.core.display.HTML object>"
            ],
            "text/html": [
              "Tracking run with wandb version 0.15.2"
            ]
          },
          "metadata": {}
        },
        {
          "output_type": "display_data",
          "data": {
            "text/plain": [
              "<IPython.core.display.HTML object>"
            ],
            "text/html": [
              "Run data is saved locally in <code>/content/wandb/run-20230508_161142-oc4csgei</code>"
            ]
          },
          "metadata": {}
        },
        {
          "output_type": "display_data",
          "data": {
            "text/plain": [
              "<IPython.core.display.HTML object>"
            ],
            "text/html": [
              "Syncing run <strong><a href='https://wandb.ai/atds_ml/resnet_50/runs/oc4csgei' target=\"_blank\">breezy-sweep-14</a></strong> to <a href='https://wandb.ai/atds_ml/resnet_50' target=\"_blank\">Weights & Biases</a> (<a href='https://wandb.me/run' target=\"_blank\">docs</a>)<br/>Sweep page: <a href='https://wandb.ai/atds_ml/resnet_50/sweeps/scmcgjjx' target=\"_blank\">https://wandb.ai/atds_ml/resnet_50/sweeps/scmcgjjx</a>"
            ]
          },
          "metadata": {}
        },
        {
          "output_type": "display_data",
          "data": {
            "text/plain": [
              "<IPython.core.display.HTML object>"
            ],
            "text/html": [
              " View project at <a href='https://wandb.ai/atds_ml/resnet_50' target=\"_blank\">https://wandb.ai/atds_ml/resnet_50</a>"
            ]
          },
          "metadata": {}
        },
        {
          "output_type": "display_data",
          "data": {
            "text/plain": [
              "<IPython.core.display.HTML object>"
            ],
            "text/html": [
              " View sweep at <a href='https://wandb.ai/atds_ml/resnet_50/sweeps/scmcgjjx' target=\"_blank\">https://wandb.ai/atds_ml/resnet_50/sweeps/scmcgjjx</a>"
            ]
          },
          "metadata": {}
        },
        {
          "output_type": "display_data",
          "data": {
            "text/plain": [
              "<IPython.core.display.HTML object>"
            ],
            "text/html": [
              " View run at <a href='https://wandb.ai/atds_ml/resnet_50/runs/oc4csgei' target=\"_blank\">https://wandb.ai/atds_ml/resnet_50/runs/oc4csgei</a>"
            ]
          },
          "metadata": {}
        },
        {
          "output_type": "stream",
          "name": "stdout",
          "text": [
            "X_train.shape torch.Size([31367, 3, 30, 30])\n",
            "X_valid.shape torch.Size([7842, 3, 30, 30])\n",
            "y_train.shape torch.Size([31367])\n",
            "y_valid.shape torch.Size([7842])\n"
          ]
        },
        {
          "output_type": "display_data",
          "data": {
            "text/plain": [
              "<IPython.core.display.HTML object>"
            ],
            "text/html": [
              "Waiting for W&B process to finish... <strong style=\"color:green\">(success).</strong>"
            ]
          },
          "metadata": {}
        },
        {
          "output_type": "display_data",
          "data": {
            "text/plain": [
              "VBox(children=(Label(value='0.001 MB of 0.009 MB uploaded (0.000 MB deduped)\\r'), FloatProgress(value=0.120114…"
            ],
            "application/vnd.jupyter.widget-view+json": {
              "version_major": 2,
              "version_minor": 0,
              "model_id": "64b23b9b2b774320abc5cbdcc0d93b07"
            }
          },
          "metadata": {}
        },
        {
          "output_type": "display_data",
          "data": {
            "text/plain": [
              "<IPython.core.display.HTML object>"
            ],
            "text/html": [
              "<style>\n",
              "    table.wandb td:nth-child(1) { padding: 0 10px; text-align: left ; width: auto;} td:nth-child(2) {text-align: left ; width: 100%}\n",
              "    .wandb-row { display: flex; flex-direction: row; flex-wrap: wrap; justify-content: flex-start; width: 100% }\n",
              "    .wandb-col { display: flex; flex-direction: column; flex-basis: 100%; flex: 1; padding: 10px; }\n",
              "    </style>\n",
              "<div class=\"wandb-row\"><div class=\"wandb-col\"><h3>Run history:</h3><br/><table class=\"wandb\"><tr><td>accuracy</td><td>▁▂▃▄▅▅▆▆▆▇▇█▇██</td></tr><tr><td>epoch</td><td>▁▁▂▃▃▃▄▅▅▅▆▇▇▇█</td></tr><tr><td>learning_rate</td><td>▁▁▁▁▁▁▁▁▁▁▁▁▁▁▁</td></tr><tr><td>loss</td><td>█▆▅▄▄▃▃▃▂▂▂▁▂▁▁</td></tr></table><br/></div><div class=\"wandb-col\"><h3>Run summary:</h3><br/><table class=\"wandb\"><tr><td>accuracy</td><td>30.98699</td></tr><tr><td>epoch</td><td>14</td></tr><tr><td>learning_rate</td><td>0.00046</td></tr><tr><td>loss</td><td>4.36448</td></tr><tr><td>optimizer</td><td>sgd</td></tr></table><br/></div></div>"
            ]
          },
          "metadata": {}
        },
        {
          "output_type": "display_data",
          "data": {
            "text/plain": [
              "<IPython.core.display.HTML object>"
            ],
            "text/html": [
              " View run <strong style=\"color:#cdcd00\">breezy-sweep-14</strong> at: <a href='https://wandb.ai/atds_ml/resnet_50/runs/oc4csgei' target=\"_blank\">https://wandb.ai/atds_ml/resnet_50/runs/oc4csgei</a><br/>Synced 5 W&B file(s), 0 media file(s), 0 artifact file(s) and 0 other file(s)"
            ]
          },
          "metadata": {}
        },
        {
          "output_type": "display_data",
          "data": {
            "text/plain": [
              "<IPython.core.display.HTML object>"
            ],
            "text/html": [
              "Find logs at: <code>./wandb/run-20230508_161142-oc4csgei/logs</code>"
            ]
          },
          "metadata": {}
        },
        {
          "output_type": "stream",
          "name": "stderr",
          "text": [
            "\u001b[34m\u001b[1mwandb\u001b[0m: Agent Starting Run: siz2gzd4 with config:\n",
            "\u001b[34m\u001b[1mwandb\u001b[0m: \tepochs: 15\n",
            "\u001b[34m\u001b[1mwandb\u001b[0m: \tlearning_rate: 0.000696249154937865\n",
            "\u001b[34m\u001b[1mwandb\u001b[0m: \toptimizer: adam\n"
          ]
        },
        {
          "output_type": "display_data",
          "data": {
            "text/plain": [
              "<IPython.core.display.HTML object>"
            ],
            "text/html": [
              "Tracking run with wandb version 0.15.2"
            ]
          },
          "metadata": {}
        },
        {
          "output_type": "display_data",
          "data": {
            "text/plain": [
              "<IPython.core.display.HTML object>"
            ],
            "text/html": [
              "Run data is saved locally in <code>/content/wandb/run-20230508_161406-siz2gzd4</code>"
            ]
          },
          "metadata": {}
        },
        {
          "output_type": "display_data",
          "data": {
            "text/plain": [
              "<IPython.core.display.HTML object>"
            ],
            "text/html": [
              "Syncing run <strong><a href='https://wandb.ai/atds_ml/resnet_50/runs/siz2gzd4' target=\"_blank\">fast-sweep-15</a></strong> to <a href='https://wandb.ai/atds_ml/resnet_50' target=\"_blank\">Weights & Biases</a> (<a href='https://wandb.me/run' target=\"_blank\">docs</a>)<br/>Sweep page: <a href='https://wandb.ai/atds_ml/resnet_50/sweeps/scmcgjjx' target=\"_blank\">https://wandb.ai/atds_ml/resnet_50/sweeps/scmcgjjx</a>"
            ]
          },
          "metadata": {}
        },
        {
          "output_type": "display_data",
          "data": {
            "text/plain": [
              "<IPython.core.display.HTML object>"
            ],
            "text/html": [
              " View project at <a href='https://wandb.ai/atds_ml/resnet_50' target=\"_blank\">https://wandb.ai/atds_ml/resnet_50</a>"
            ]
          },
          "metadata": {}
        },
        {
          "output_type": "display_data",
          "data": {
            "text/plain": [
              "<IPython.core.display.HTML object>"
            ],
            "text/html": [
              " View sweep at <a href='https://wandb.ai/atds_ml/resnet_50/sweeps/scmcgjjx' target=\"_blank\">https://wandb.ai/atds_ml/resnet_50/sweeps/scmcgjjx</a>"
            ]
          },
          "metadata": {}
        },
        {
          "output_type": "display_data",
          "data": {
            "text/plain": [
              "<IPython.core.display.HTML object>"
            ],
            "text/html": [
              " View run at <a href='https://wandb.ai/atds_ml/resnet_50/runs/siz2gzd4' target=\"_blank\">https://wandb.ai/atds_ml/resnet_50/runs/siz2gzd4</a>"
            ]
          },
          "metadata": {}
        },
        {
          "output_type": "stream",
          "name": "stdout",
          "text": [
            "X_train.shape torch.Size([31367, 3, 30, 30])\n",
            "X_valid.shape torch.Size([7842, 3, 30, 30])\n",
            "y_train.shape torch.Size([31367])\n",
            "y_valid.shape torch.Size([7842])\n"
          ]
        },
        {
          "output_type": "display_data",
          "data": {
            "text/plain": [
              "<IPython.core.display.HTML object>"
            ],
            "text/html": [
              "Waiting for W&B process to finish... <strong style=\"color:green\">(success).</strong>"
            ]
          },
          "metadata": {}
        },
        {
          "output_type": "display_data",
          "data": {
            "text/plain": [
              "VBox(children=(Label(value='0.001 MB of 0.001 MB uploaded (0.000 MB deduped)\\r'), FloatProgress(value=1.0, max…"
            ],
            "application/vnd.jupyter.widget-view+json": {
              "version_major": 2,
              "version_minor": 0,
              "model_id": "f5b1b46228e54686aa28bc25e08eb8e3"
            }
          },
          "metadata": {}
        },
        {
          "output_type": "display_data",
          "data": {
            "text/plain": [
              "<IPython.core.display.HTML object>"
            ],
            "text/html": [
              "<style>\n",
              "    table.wandb td:nth-child(1) { padding: 0 10px; text-align: left ; width: auto;} td:nth-child(2) {text-align: left ; width: 100%}\n",
              "    .wandb-row { display: flex; flex-direction: row; flex-wrap: wrap; justify-content: flex-start; width: 100% }\n",
              "    .wandb-col { display: flex; flex-direction: column; flex-basis: 100%; flex: 1; padding: 10px; }\n",
              "    </style>\n",
              "<div class=\"wandb-row\"><div class=\"wandb-col\"><h3>Run history:</h3><br/><table class=\"wandb\"><tr><td>accuracy</td><td>▁▃▄▅▅▆▆▆▆▇▇▇▇██</td></tr><tr><td>epoch</td><td>▁▁▂▃▃▃▄▅▅▅▆▇▇▇█</td></tr><tr><td>learning_rate</td><td>▁▁▁▁▁▁▁▁▁▁▁▁▁▁▁</td></tr><tr><td>loss</td><td>█▅▄▃▃▃▂▂▂▂▂▁▁▁▁</td></tr></table><br/></div><div class=\"wandb-col\"><h3>Run summary:</h3><br/><table class=\"wandb\"><tr><td>accuracy</td><td>55.34303</td></tr><tr><td>epoch</td><td>14</td></tr><tr><td>learning_rate</td><td>0.0007</td></tr><tr><td>loss</td><td>1.81861</td></tr><tr><td>optimizer</td><td>adam</td></tr></table><br/></div></div>"
            ]
          },
          "metadata": {}
        },
        {
          "output_type": "display_data",
          "data": {
            "text/plain": [
              "<IPython.core.display.HTML object>"
            ],
            "text/html": [
              " View run <strong style=\"color:#cdcd00\">fast-sweep-15</strong> at: <a href='https://wandb.ai/atds_ml/resnet_50/runs/siz2gzd4' target=\"_blank\">https://wandb.ai/atds_ml/resnet_50/runs/siz2gzd4</a><br/>Synced 5 W&B file(s), 0 media file(s), 0 artifact file(s) and 0 other file(s)"
            ]
          },
          "metadata": {}
        },
        {
          "output_type": "display_data",
          "data": {
            "text/plain": [
              "<IPython.core.display.HTML object>"
            ],
            "text/html": [
              "Find logs at: <code>./wandb/run-20230508_161406-siz2gzd4/logs</code>"
            ]
          },
          "metadata": {}
        },
        {
          "output_type": "stream",
          "name": "stderr",
          "text": [
            "\u001b[34m\u001b[1mwandb\u001b[0m: Agent Starting Run: 2ar10fo7 with config:\n",
            "\u001b[34m\u001b[1mwandb\u001b[0m: \tepochs: 15\n",
            "\u001b[34m\u001b[1mwandb\u001b[0m: \tlearning_rate: 0.0002265377064065399\n",
            "\u001b[34m\u001b[1mwandb\u001b[0m: \toptimizer: sgd\n"
          ]
        },
        {
          "output_type": "display_data",
          "data": {
            "text/plain": [
              "<IPython.core.display.HTML object>"
            ],
            "text/html": [
              "Tracking run with wandb version 0.15.2"
            ]
          },
          "metadata": {}
        },
        {
          "output_type": "display_data",
          "data": {
            "text/plain": [
              "<IPython.core.display.HTML object>"
            ],
            "text/html": [
              "Run data is saved locally in <code>/content/wandb/run-20230508_161632-2ar10fo7</code>"
            ]
          },
          "metadata": {}
        },
        {
          "output_type": "display_data",
          "data": {
            "text/plain": [
              "<IPython.core.display.HTML object>"
            ],
            "text/html": [
              "Syncing run <strong><a href='https://wandb.ai/atds_ml/resnet_50/runs/2ar10fo7' target=\"_blank\">drawn-sweep-16</a></strong> to <a href='https://wandb.ai/atds_ml/resnet_50' target=\"_blank\">Weights & Biases</a> (<a href='https://wandb.me/run' target=\"_blank\">docs</a>)<br/>Sweep page: <a href='https://wandb.ai/atds_ml/resnet_50/sweeps/scmcgjjx' target=\"_blank\">https://wandb.ai/atds_ml/resnet_50/sweeps/scmcgjjx</a>"
            ]
          },
          "metadata": {}
        },
        {
          "output_type": "display_data",
          "data": {
            "text/plain": [
              "<IPython.core.display.HTML object>"
            ],
            "text/html": [
              " View project at <a href='https://wandb.ai/atds_ml/resnet_50' target=\"_blank\">https://wandb.ai/atds_ml/resnet_50</a>"
            ]
          },
          "metadata": {}
        },
        {
          "output_type": "display_data",
          "data": {
            "text/plain": [
              "<IPython.core.display.HTML object>"
            ],
            "text/html": [
              " View sweep at <a href='https://wandb.ai/atds_ml/resnet_50/sweeps/scmcgjjx' target=\"_blank\">https://wandb.ai/atds_ml/resnet_50/sweeps/scmcgjjx</a>"
            ]
          },
          "metadata": {}
        },
        {
          "output_type": "display_data",
          "data": {
            "text/plain": [
              "<IPython.core.display.HTML object>"
            ],
            "text/html": [
              " View run at <a href='https://wandb.ai/atds_ml/resnet_50/runs/2ar10fo7' target=\"_blank\">https://wandb.ai/atds_ml/resnet_50/runs/2ar10fo7</a>"
            ]
          },
          "metadata": {}
        },
        {
          "output_type": "stream",
          "name": "stdout",
          "text": [
            "X_train.shape torch.Size([31367, 3, 30, 30])\n",
            "X_valid.shape torch.Size([7842, 3, 30, 30])\n",
            "y_train.shape torch.Size([31367])\n",
            "y_valid.shape torch.Size([7842])\n"
          ]
        },
        {
          "output_type": "display_data",
          "data": {
            "text/plain": [
              "<IPython.core.display.HTML object>"
            ],
            "text/html": [
              "Waiting for W&B process to finish... <strong style=\"color:green\">(success).</strong>"
            ]
          },
          "metadata": {}
        },
        {
          "output_type": "display_data",
          "data": {
            "text/plain": [
              "VBox(children=(Label(value='0.001 MB of 0.001 MB uploaded (0.000 MB deduped)\\r'), FloatProgress(value=1.0, max…"
            ],
            "application/vnd.jupyter.widget-view+json": {
              "version_major": 2,
              "version_minor": 0,
              "model_id": "ba44b0865088413789d55172bd77ee84"
            }
          },
          "metadata": {}
        },
        {
          "output_type": "display_data",
          "data": {
            "text/plain": [
              "<IPython.core.display.HTML object>"
            ],
            "text/html": [
              "<style>\n",
              "    table.wandb td:nth-child(1) { padding: 0 10px; text-align: left ; width: auto;} td:nth-child(2) {text-align: left ; width: 100%}\n",
              "    .wandb-row { display: flex; flex-direction: row; flex-wrap: wrap; justify-content: flex-start; width: 100% }\n",
              "    .wandb-col { display: flex; flex-direction: column; flex-basis: 100%; flex: 1; padding: 10px; }\n",
              "    </style>\n",
              "<div class=\"wandb-row\"><div class=\"wandb-col\"><h3>Run history:</h3><br/><table class=\"wandb\"><tr><td>accuracy</td><td>▁▂▃▃▄▅▅▅▆▇▇▇███</td></tr><tr><td>epoch</td><td>▁▁▂▃▃▃▄▅▅▅▆▇▇▇█</td></tr><tr><td>learning_rate</td><td>▁▁▁▁▁▁▁▁▁▁▁▁▁▁▁</td></tr><tr><td>loss</td><td>█▆▅▄▄▃▃▃▂▂▂▂▁▁▁</td></tr></table><br/></div><div class=\"wandb-col\"><h3>Run summary:</h3><br/><table class=\"wandb\"><tr><td>accuracy</td><td>23.66743</td></tr><tr><td>epoch</td><td>14</td></tr><tr><td>learning_rate</td><td>0.00023</td></tr><tr><td>loss</td><td>5.68532</td></tr><tr><td>optimizer</td><td>sgd</td></tr></table><br/></div></div>"
            ]
          },
          "metadata": {}
        },
        {
          "output_type": "display_data",
          "data": {
            "text/plain": [
              "<IPython.core.display.HTML object>"
            ],
            "text/html": [
              " View run <strong style=\"color:#cdcd00\">drawn-sweep-16</strong> at: <a href='https://wandb.ai/atds_ml/resnet_50/runs/2ar10fo7' target=\"_blank\">https://wandb.ai/atds_ml/resnet_50/runs/2ar10fo7</a><br/>Synced 5 W&B file(s), 0 media file(s), 0 artifact file(s) and 0 other file(s)"
            ]
          },
          "metadata": {}
        },
        {
          "output_type": "display_data",
          "data": {
            "text/plain": [
              "<IPython.core.display.HTML object>"
            ],
            "text/html": [
              "Find logs at: <code>./wandb/run-20230508_161632-2ar10fo7/logs</code>"
            ]
          },
          "metadata": {}
        },
        {
          "output_type": "stream",
          "name": "stderr",
          "text": [
            "\u001b[34m\u001b[1mwandb\u001b[0m: Agent Starting Run: evv93ha1 with config:\n",
            "\u001b[34m\u001b[1mwandb\u001b[0m: \tepochs: 15\n",
            "\u001b[34m\u001b[1mwandb\u001b[0m: \tlearning_rate: 0.0003119268723700209\n",
            "\u001b[34m\u001b[1mwandb\u001b[0m: \toptimizer: sgd\n"
          ]
        },
        {
          "output_type": "display_data",
          "data": {
            "text/plain": [
              "<IPython.core.display.HTML object>"
            ],
            "text/html": [
              "Tracking run with wandb version 0.15.2"
            ]
          },
          "metadata": {}
        },
        {
          "output_type": "display_data",
          "data": {
            "text/plain": [
              "<IPython.core.display.HTML object>"
            ],
            "text/html": [
              "Run data is saved locally in <code>/content/wandb/run-20230508_161900-evv93ha1</code>"
            ]
          },
          "metadata": {}
        },
        {
          "output_type": "display_data",
          "data": {
            "text/plain": [
              "<IPython.core.display.HTML object>"
            ],
            "text/html": [
              "Syncing run <strong><a href='https://wandb.ai/atds_ml/resnet_50/runs/evv93ha1' target=\"_blank\">fluent-sweep-17</a></strong> to <a href='https://wandb.ai/atds_ml/resnet_50' target=\"_blank\">Weights & Biases</a> (<a href='https://wandb.me/run' target=\"_blank\">docs</a>)<br/>Sweep page: <a href='https://wandb.ai/atds_ml/resnet_50/sweeps/scmcgjjx' target=\"_blank\">https://wandb.ai/atds_ml/resnet_50/sweeps/scmcgjjx</a>"
            ]
          },
          "metadata": {}
        },
        {
          "output_type": "display_data",
          "data": {
            "text/plain": [
              "<IPython.core.display.HTML object>"
            ],
            "text/html": [
              " View project at <a href='https://wandb.ai/atds_ml/resnet_50' target=\"_blank\">https://wandb.ai/atds_ml/resnet_50</a>"
            ]
          },
          "metadata": {}
        },
        {
          "output_type": "display_data",
          "data": {
            "text/plain": [
              "<IPython.core.display.HTML object>"
            ],
            "text/html": [
              " View sweep at <a href='https://wandb.ai/atds_ml/resnet_50/sweeps/scmcgjjx' target=\"_blank\">https://wandb.ai/atds_ml/resnet_50/sweeps/scmcgjjx</a>"
            ]
          },
          "metadata": {}
        },
        {
          "output_type": "display_data",
          "data": {
            "text/plain": [
              "<IPython.core.display.HTML object>"
            ],
            "text/html": [
              " View run at <a href='https://wandb.ai/atds_ml/resnet_50/runs/evv93ha1' target=\"_blank\">https://wandb.ai/atds_ml/resnet_50/runs/evv93ha1</a>"
            ]
          },
          "metadata": {}
        },
        {
          "output_type": "stream",
          "name": "stdout",
          "text": [
            "X_train.shape torch.Size([31367, 3, 30, 30])\n",
            "X_valid.shape torch.Size([7842, 3, 30, 30])\n",
            "y_train.shape torch.Size([31367])\n",
            "y_valid.shape torch.Size([7842])\n"
          ]
        },
        {
          "output_type": "display_data",
          "data": {
            "text/plain": [
              "<IPython.core.display.HTML object>"
            ],
            "text/html": [
              "Waiting for W&B process to finish... <strong style=\"color:green\">(success).</strong>"
            ]
          },
          "metadata": {}
        },
        {
          "output_type": "display_data",
          "data": {
            "text/plain": [
              "VBox(children=(Label(value='0.001 MB of 0.009 MB uploaded (0.000 MB deduped)\\r'), FloatProgress(value=0.119995…"
            ],
            "application/vnd.jupyter.widget-view+json": {
              "version_major": 2,
              "version_minor": 0,
              "model_id": "e030bcf273d34c98b05e30e903199f2e"
            }
          },
          "metadata": {}
        },
        {
          "output_type": "display_data",
          "data": {
            "text/plain": [
              "<IPython.core.display.HTML object>"
            ],
            "text/html": [
              "<style>\n",
              "    table.wandb td:nth-child(1) { padding: 0 10px; text-align: left ; width: auto;} td:nth-child(2) {text-align: left ; width: 100%}\n",
              "    .wandb-row { display: flex; flex-direction: row; flex-wrap: wrap; justify-content: flex-start; width: 100% }\n",
              "    .wandb-col { display: flex; flex-direction: column; flex-basis: 100%; flex: 1; padding: 10px; }\n",
              "    </style>\n",
              "<div class=\"wandb-row\"><div class=\"wandb-col\"><h3>Run history:</h3><br/><table class=\"wandb\"><tr><td>accuracy</td><td>▁▂▃▃▄▅▅▆▆▇▆▇███</td></tr><tr><td>epoch</td><td>▁▁▂▃▃▃▄▅▅▅▆▇▇▇█</td></tr><tr><td>learning_rate</td><td>▁▁▁▁▁▁▁▁▁▁▁▁▁▁▁</td></tr><tr><td>loss</td><td>█▆▅▅▄▃▃▃▂▂▂▂▁▁▁</td></tr></table><br/></div><div class=\"wandb-col\"><h3>Run summary:</h3><br/><table class=\"wandb\"><tr><td>accuracy</td><td>26.62586</td></tr><tr><td>epoch</td><td>14</td></tr><tr><td>learning_rate</td><td>0.00031</td></tr><tr><td>loss</td><td>4.87031</td></tr><tr><td>optimizer</td><td>sgd</td></tr></table><br/></div></div>"
            ]
          },
          "metadata": {}
        },
        {
          "output_type": "display_data",
          "data": {
            "text/plain": [
              "<IPython.core.display.HTML object>"
            ],
            "text/html": [
              " View run <strong style=\"color:#cdcd00\">fluent-sweep-17</strong> at: <a href='https://wandb.ai/atds_ml/resnet_50/runs/evv93ha1' target=\"_blank\">https://wandb.ai/atds_ml/resnet_50/runs/evv93ha1</a><br/>Synced 5 W&B file(s), 0 media file(s), 0 artifact file(s) and 0 other file(s)"
            ]
          },
          "metadata": {}
        },
        {
          "output_type": "display_data",
          "data": {
            "text/plain": [
              "<IPython.core.display.HTML object>"
            ],
            "text/html": [
              "Find logs at: <code>./wandb/run-20230508_161900-evv93ha1/logs</code>"
            ]
          },
          "metadata": {}
        },
        {
          "output_type": "stream",
          "name": "stderr",
          "text": [
            "\u001b[34m\u001b[1mwandb\u001b[0m: Agent Starting Run: tpvedi9m with config:\n",
            "\u001b[34m\u001b[1mwandb\u001b[0m: \tepochs: 15\n",
            "\u001b[34m\u001b[1mwandb\u001b[0m: \tlearning_rate: 0.00015520161159049447\n",
            "\u001b[34m\u001b[1mwandb\u001b[0m: \toptimizer: adam\n"
          ]
        },
        {
          "output_type": "display_data",
          "data": {
            "text/plain": [
              "<IPython.core.display.HTML object>"
            ],
            "text/html": [
              "Tracking run with wandb version 0.15.2"
            ]
          },
          "metadata": {}
        },
        {
          "output_type": "display_data",
          "data": {
            "text/plain": [
              "<IPython.core.display.HTML object>"
            ],
            "text/html": [
              "Run data is saved locally in <code>/content/wandb/run-20230508_162128-tpvedi9m</code>"
            ]
          },
          "metadata": {}
        },
        {
          "output_type": "display_data",
          "data": {
            "text/plain": [
              "<IPython.core.display.HTML object>"
            ],
            "text/html": [
              "Syncing run <strong><a href='https://wandb.ai/atds_ml/resnet_50/runs/tpvedi9m' target=\"_blank\">celestial-sweep-18</a></strong> to <a href='https://wandb.ai/atds_ml/resnet_50' target=\"_blank\">Weights & Biases</a> (<a href='https://wandb.me/run' target=\"_blank\">docs</a>)<br/>Sweep page: <a href='https://wandb.ai/atds_ml/resnet_50/sweeps/scmcgjjx' target=\"_blank\">https://wandb.ai/atds_ml/resnet_50/sweeps/scmcgjjx</a>"
            ]
          },
          "metadata": {}
        },
        {
          "output_type": "display_data",
          "data": {
            "text/plain": [
              "<IPython.core.display.HTML object>"
            ],
            "text/html": [
              " View project at <a href='https://wandb.ai/atds_ml/resnet_50' target=\"_blank\">https://wandb.ai/atds_ml/resnet_50</a>"
            ]
          },
          "metadata": {}
        },
        {
          "output_type": "display_data",
          "data": {
            "text/plain": [
              "<IPython.core.display.HTML object>"
            ],
            "text/html": [
              " View sweep at <a href='https://wandb.ai/atds_ml/resnet_50/sweeps/scmcgjjx' target=\"_blank\">https://wandb.ai/atds_ml/resnet_50/sweeps/scmcgjjx</a>"
            ]
          },
          "metadata": {}
        },
        {
          "output_type": "display_data",
          "data": {
            "text/plain": [
              "<IPython.core.display.HTML object>"
            ],
            "text/html": [
              " View run at <a href='https://wandb.ai/atds_ml/resnet_50/runs/tpvedi9m' target=\"_blank\">https://wandb.ai/atds_ml/resnet_50/runs/tpvedi9m</a>"
            ]
          },
          "metadata": {}
        },
        {
          "output_type": "stream",
          "name": "stdout",
          "text": [
            "X_train.shape torch.Size([31367, 3, 30, 30])\n",
            "X_valid.shape torch.Size([7842, 3, 30, 30])\n",
            "y_train.shape torch.Size([31367])\n",
            "y_valid.shape torch.Size([7842])\n"
          ]
        },
        {
          "output_type": "display_data",
          "data": {
            "text/plain": [
              "<IPython.core.display.HTML object>"
            ],
            "text/html": [
              "Waiting for W&B process to finish... <strong style=\"color:green\">(success).</strong>"
            ]
          },
          "metadata": {}
        },
        {
          "output_type": "display_data",
          "data": {
            "text/plain": [
              "<IPython.core.display.HTML object>"
            ],
            "text/html": [
              "<style>\n",
              "    table.wandb td:nth-child(1) { padding: 0 10px; text-align: left ; width: auto;} td:nth-child(2) {text-align: left ; width: 100%}\n",
              "    .wandb-row { display: flex; flex-direction: row; flex-wrap: wrap; justify-content: flex-start; width: 100% }\n",
              "    .wandb-col { display: flex; flex-direction: column; flex-basis: 100%; flex: 1; padding: 10px; }\n",
              "    </style>\n",
              "<div class=\"wandb-row\"><div class=\"wandb-col\"><h3>Run history:</h3><br/><table class=\"wandb\"><tr><td>accuracy</td><td>▁▂▃▄▄▅▅▆▆▇▇▇▇▇█</td></tr><tr><td>epoch</td><td>▁▁▂▃▃▃▄▅▅▅▆▇▇▇█</td></tr><tr><td>learning_rate</td><td>▁▁▁▁▁▁▁▁▁▁▁▁▁▁▁</td></tr><tr><td>loss</td><td>█▆▅▄▄▃▃▂▂▂▂▂▂▁▁</td></tr></table><br/></div><div class=\"wandb-col\"><h3>Run summary:</h3><br/><table class=\"wandb\"><tr><td>accuracy</td><td>36.98036</td></tr><tr><td>epoch</td><td>14</td></tr><tr><td>learning_rate</td><td>0.00016</td></tr><tr><td>loss</td><td>3.40042</td></tr><tr><td>optimizer</td><td>adam</td></tr></table><br/></div></div>"
            ]
          },
          "metadata": {}
        },
        {
          "output_type": "display_data",
          "data": {
            "text/plain": [
              "<IPython.core.display.HTML object>"
            ],
            "text/html": [
              " View run <strong style=\"color:#cdcd00\">celestial-sweep-18</strong> at: <a href='https://wandb.ai/atds_ml/resnet_50/runs/tpvedi9m' target=\"_blank\">https://wandb.ai/atds_ml/resnet_50/runs/tpvedi9m</a><br/>Synced 5 W&B file(s), 0 media file(s), 0 artifact file(s) and 0 other file(s)"
            ]
          },
          "metadata": {}
        },
        {
          "output_type": "display_data",
          "data": {
            "text/plain": [
              "<IPython.core.display.HTML object>"
            ],
            "text/html": [
              "Find logs at: <code>./wandb/run-20230508_162128-tpvedi9m/logs</code>"
            ]
          },
          "metadata": {}
        },
        {
          "output_type": "stream",
          "name": "stderr",
          "text": [
            "\u001b[34m\u001b[1mwandb\u001b[0m: Agent Starting Run: oyuymdp0 with config:\n",
            "\u001b[34m\u001b[1mwandb\u001b[0m: \tepochs: 15\n",
            "\u001b[34m\u001b[1mwandb\u001b[0m: \tlearning_rate: 0.0004134445079068866\n",
            "\u001b[34m\u001b[1mwandb\u001b[0m: \toptimizer: adam\n"
          ]
        },
        {
          "output_type": "display_data",
          "data": {
            "text/plain": [
              "<IPython.core.display.HTML object>"
            ],
            "text/html": [
              "Tracking run with wandb version 0.15.2"
            ]
          },
          "metadata": {}
        },
        {
          "output_type": "display_data",
          "data": {
            "text/plain": [
              "<IPython.core.display.HTML object>"
            ],
            "text/html": [
              "Run data is saved locally in <code>/content/wandb/run-20230508_162356-oyuymdp0</code>"
            ]
          },
          "metadata": {}
        },
        {
          "output_type": "display_data",
          "data": {
            "text/plain": [
              "<IPython.core.display.HTML object>"
            ],
            "text/html": [
              "Syncing run <strong><a href='https://wandb.ai/atds_ml/resnet_50/runs/oyuymdp0' target=\"_blank\">leafy-sweep-19</a></strong> to <a href='https://wandb.ai/atds_ml/resnet_50' target=\"_blank\">Weights & Biases</a> (<a href='https://wandb.me/run' target=\"_blank\">docs</a>)<br/>Sweep page: <a href='https://wandb.ai/atds_ml/resnet_50/sweeps/scmcgjjx' target=\"_blank\">https://wandb.ai/atds_ml/resnet_50/sweeps/scmcgjjx</a>"
            ]
          },
          "metadata": {}
        },
        {
          "output_type": "display_data",
          "data": {
            "text/plain": [
              "<IPython.core.display.HTML object>"
            ],
            "text/html": [
              " View project at <a href='https://wandb.ai/atds_ml/resnet_50' target=\"_blank\">https://wandb.ai/atds_ml/resnet_50</a>"
            ]
          },
          "metadata": {}
        },
        {
          "output_type": "display_data",
          "data": {
            "text/plain": [
              "<IPython.core.display.HTML object>"
            ],
            "text/html": [
              " View sweep at <a href='https://wandb.ai/atds_ml/resnet_50/sweeps/scmcgjjx' target=\"_blank\">https://wandb.ai/atds_ml/resnet_50/sweeps/scmcgjjx</a>"
            ]
          },
          "metadata": {}
        },
        {
          "output_type": "display_data",
          "data": {
            "text/plain": [
              "<IPython.core.display.HTML object>"
            ],
            "text/html": [
              " View run at <a href='https://wandb.ai/atds_ml/resnet_50/runs/oyuymdp0' target=\"_blank\">https://wandb.ai/atds_ml/resnet_50/runs/oyuymdp0</a>"
            ]
          },
          "metadata": {}
        },
        {
          "output_type": "stream",
          "name": "stdout",
          "text": [
            "X_train.shape torch.Size([31367, 3, 30, 30])\n",
            "X_valid.shape torch.Size([7842, 3, 30, 30])\n",
            "y_train.shape torch.Size([31367])\n",
            "y_valid.shape torch.Size([7842])\n"
          ]
        },
        {
          "output_type": "display_data",
          "data": {
            "text/plain": [
              "<IPython.core.display.HTML object>"
            ],
            "text/html": [
              "Waiting for W&B process to finish... <strong style=\"color:green\">(success).</strong>"
            ]
          },
          "metadata": {}
        },
        {
          "output_type": "display_data",
          "data": {
            "text/plain": [
              "<IPython.core.display.HTML object>"
            ],
            "text/html": [
              "<style>\n",
              "    table.wandb td:nth-child(1) { padding: 0 10px; text-align: left ; width: auto;} td:nth-child(2) {text-align: left ; width: 100%}\n",
              "    .wandb-row { display: flex; flex-direction: row; flex-wrap: wrap; justify-content: flex-start; width: 100% }\n",
              "    .wandb-col { display: flex; flex-direction: column; flex-basis: 100%; flex: 1; padding: 10px; }\n",
              "    </style>\n",
              "<div class=\"wandb-row\"><div class=\"wandb-col\"><h3>Run history:</h3><br/><table class=\"wandb\"><tr><td>accuracy</td><td>▁▃▄▄▅▆▆▇▇▇▇▇███</td></tr><tr><td>epoch</td><td>▁▁▂▃▃▃▄▅▅▅▆▇▇▇█</td></tr><tr><td>learning_rate</td><td>▁▁▁▁▁▁▁▁▁▁▁▁▁▁▁</td></tr><tr><td>loss</td><td>█▅▄▃▃▃▂▂▂▂▂▁▁▁▁</td></tr></table><br/></div><div class=\"wandb-col\"><h3>Run summary:</h3><br/><table class=\"wandb\"><tr><td>accuracy</td><td>48.09998</td></tr><tr><td>epoch</td><td>14</td></tr><tr><td>learning_rate</td><td>0.00041</td></tr><tr><td>loss</td><td>2.23378</td></tr><tr><td>optimizer</td><td>adam</td></tr></table><br/></div></div>"
            ]
          },
          "metadata": {}
        },
        {
          "output_type": "display_data",
          "data": {
            "text/plain": [
              "<IPython.core.display.HTML object>"
            ],
            "text/html": [
              " View run <strong style=\"color:#cdcd00\">leafy-sweep-19</strong> at: <a href='https://wandb.ai/atds_ml/resnet_50/runs/oyuymdp0' target=\"_blank\">https://wandb.ai/atds_ml/resnet_50/runs/oyuymdp0</a><br/>Synced 5 W&B file(s), 0 media file(s), 0 artifact file(s) and 0 other file(s)"
            ]
          },
          "metadata": {}
        },
        {
          "output_type": "display_data",
          "data": {
            "text/plain": [
              "<IPython.core.display.HTML object>"
            ],
            "text/html": [
              "Find logs at: <code>./wandb/run-20230508_162356-oyuymdp0/logs</code>"
            ]
          },
          "metadata": {}
        },
        {
          "output_type": "stream",
          "name": "stderr",
          "text": [
            "\u001b[34m\u001b[1mwandb\u001b[0m: Sweep Agent: Waiting for job.\n",
            "\u001b[34m\u001b[1mwandb\u001b[0m: Job received.\n",
            "\u001b[34m\u001b[1mwandb\u001b[0m: Agent Starting Run: 65taalgx with config:\n",
            "\u001b[34m\u001b[1mwandb\u001b[0m: \tepochs: 15\n",
            "\u001b[34m\u001b[1mwandb\u001b[0m: \tlearning_rate: 0.00029364219211000503\n",
            "\u001b[34m\u001b[1mwandb\u001b[0m: \toptimizer: adam\n"
          ]
        },
        {
          "output_type": "display_data",
          "data": {
            "text/plain": [
              "<IPython.core.display.HTML object>"
            ],
            "text/html": [
              "Tracking run with wandb version 0.15.2"
            ]
          },
          "metadata": {}
        },
        {
          "output_type": "display_data",
          "data": {
            "text/plain": [
              "<IPython.core.display.HTML object>"
            ],
            "text/html": [
              "Run data is saved locally in <code>/content/wandb/run-20230508_162634-65taalgx</code>"
            ]
          },
          "metadata": {}
        },
        {
          "output_type": "display_data",
          "data": {
            "text/plain": [
              "<IPython.core.display.HTML object>"
            ],
            "text/html": [
              "Syncing run <strong><a href='https://wandb.ai/atds_ml/resnet_50/runs/65taalgx' target=\"_blank\">pious-sweep-20</a></strong> to <a href='https://wandb.ai/atds_ml/resnet_50' target=\"_blank\">Weights & Biases</a> (<a href='https://wandb.me/run' target=\"_blank\">docs</a>)<br/>Sweep page: <a href='https://wandb.ai/atds_ml/resnet_50/sweeps/scmcgjjx' target=\"_blank\">https://wandb.ai/atds_ml/resnet_50/sweeps/scmcgjjx</a>"
            ]
          },
          "metadata": {}
        },
        {
          "output_type": "display_data",
          "data": {
            "text/plain": [
              "<IPython.core.display.HTML object>"
            ],
            "text/html": [
              " View project at <a href='https://wandb.ai/atds_ml/resnet_50' target=\"_blank\">https://wandb.ai/atds_ml/resnet_50</a>"
            ]
          },
          "metadata": {}
        },
        {
          "output_type": "display_data",
          "data": {
            "text/plain": [
              "<IPython.core.display.HTML object>"
            ],
            "text/html": [
              " View sweep at <a href='https://wandb.ai/atds_ml/resnet_50/sweeps/scmcgjjx' target=\"_blank\">https://wandb.ai/atds_ml/resnet_50/sweeps/scmcgjjx</a>"
            ]
          },
          "metadata": {}
        },
        {
          "output_type": "display_data",
          "data": {
            "text/plain": [
              "<IPython.core.display.HTML object>"
            ],
            "text/html": [
              " View run at <a href='https://wandb.ai/atds_ml/resnet_50/runs/65taalgx' target=\"_blank\">https://wandb.ai/atds_ml/resnet_50/runs/65taalgx</a>"
            ]
          },
          "metadata": {}
        },
        {
          "output_type": "stream",
          "name": "stdout",
          "text": [
            "X_train.shape torch.Size([31367, 3, 30, 30])\n",
            "X_valid.shape torch.Size([7842, 3, 30, 30])\n",
            "y_train.shape torch.Size([31367])\n",
            "y_valid.shape torch.Size([7842])\n"
          ]
        },
        {
          "output_type": "display_data",
          "data": {
            "text/plain": [
              "<IPython.core.display.HTML object>"
            ],
            "text/html": [
              "Waiting for W&B process to finish... <strong style=\"color:green\">(success).</strong>"
            ]
          },
          "metadata": {}
        },
        {
          "output_type": "display_data",
          "data": {
            "text/plain": [
              "<IPython.core.display.HTML object>"
            ],
            "text/html": [
              "<style>\n",
              "    table.wandb td:nth-child(1) { padding: 0 10px; text-align: left ; width: auto;} td:nth-child(2) {text-align: left ; width: 100%}\n",
              "    .wandb-row { display: flex; flex-direction: row; flex-wrap: wrap; justify-content: flex-start; width: 100% }\n",
              "    .wandb-col { display: flex; flex-direction: column; flex-basis: 100%; flex: 1; padding: 10px; }\n",
              "    </style>\n",
              "<div class=\"wandb-row\"><div class=\"wandb-col\"><h3>Run history:</h3><br/><table class=\"wandb\"><tr><td>accuracy</td><td>▁▂▄▄▅▆▆▆▇▇▇▇███</td></tr><tr><td>epoch</td><td>▁▁▂▃▃▃▄▅▅▅▆▇▇▇█</td></tr><tr><td>learning_rate</td><td>▁▁▁▁▁▁▁▁▁▁▁▁▁▁▁</td></tr><tr><td>loss</td><td>█▆▄▃▃▂▂▂▂▁▁▁▁▁▁</td></tr></table><br/></div><div class=\"wandb-col\"><h3>Run summary:</h3><br/><table class=\"wandb\"><tr><td>accuracy</td><td>44.60597</td></tr><tr><td>epoch</td><td>14</td></tr><tr><td>learning_rate</td><td>0.00029</td></tr><tr><td>loss</td><td>2.64013</td></tr><tr><td>optimizer</td><td>adam</td></tr></table><br/></div></div>"
            ]
          },
          "metadata": {}
        },
        {
          "output_type": "display_data",
          "data": {
            "text/plain": [
              "<IPython.core.display.HTML object>"
            ],
            "text/html": [
              " View run <strong style=\"color:#cdcd00\">pious-sweep-20</strong> at: <a href='https://wandb.ai/atds_ml/resnet_50/runs/65taalgx' target=\"_blank\">https://wandb.ai/atds_ml/resnet_50/runs/65taalgx</a><br/>Synced 5 W&B file(s), 0 media file(s), 0 artifact file(s) and 0 other file(s)"
            ]
          },
          "metadata": {}
        },
        {
          "output_type": "display_data",
          "data": {
            "text/plain": [
              "<IPython.core.display.HTML object>"
            ],
            "text/html": [
              "Find logs at: <code>./wandb/run-20230508_162634-65taalgx/logs</code>"
            ]
          },
          "metadata": {}
        }
      ],
      "source": [
        "wandb.agent(sweep_id, train, count=20)"
      ]
    }
  ],
  "metadata": {
    "accelerator": "GPU",
    "colab": {
      "provenance": []
    },
    "gpuClass": "standard",
    "kernelspec": {
      "display_name": "Python 3",
      "name": "python3"
    },
    "language_info": {
      "name": "python"
    },
    "widgets": {
      "application/vnd.jupyter.widget-state+json": {
        "9f56671dd47a44de967600492050cdac": {
          "model_module": "@jupyter-widgets/controls",
          "model_name": "VBoxModel",
          "model_module_version": "1.5.0",
          "state": {
            "_dom_classes": [],
            "_model_module": "@jupyter-widgets/controls",
            "_model_module_version": "1.5.0",
            "_model_name": "VBoxModel",
            "_view_count": null,
            "_view_module": "@jupyter-widgets/controls",
            "_view_module_version": "1.5.0",
            "_view_name": "VBoxView",
            "box_style": "",
            "children": [
              "IPY_MODEL_e98ae1802b4a43b0b068055c1c8325d4",
              "IPY_MODEL_08ddcdc315c5458699b633c5f16bea3b"
            ],
            "layout": "IPY_MODEL_4f7bb6c1736442ae8937f983176aac07"
          }
        },
        "e98ae1802b4a43b0b068055c1c8325d4": {
          "model_module": "@jupyter-widgets/controls",
          "model_name": "LabelModel",
          "model_module_version": "1.5.0",
          "state": {
            "_dom_classes": [],
            "_model_module": "@jupyter-widgets/controls",
            "_model_module_version": "1.5.0",
            "_model_name": "LabelModel",
            "_view_count": null,
            "_view_module": "@jupyter-widgets/controls",
            "_view_module_version": "1.5.0",
            "_view_name": "LabelView",
            "description": "",
            "description_tooltip": null,
            "layout": "IPY_MODEL_02c111ac206746ee9698f1cf445f0f09",
            "placeholder": "​",
            "style": "IPY_MODEL_20be3e9899894a2fb330275c8621117c",
            "value": "0.009 MB of 0.010 MB uploaded (0.000 MB deduped)\r"
          }
        },
        "08ddcdc315c5458699b633c5f16bea3b": {
          "model_module": "@jupyter-widgets/controls",
          "model_name": "FloatProgressModel",
          "model_module_version": "1.5.0",
          "state": {
            "_dom_classes": [],
            "_model_module": "@jupyter-widgets/controls",
            "_model_module_version": "1.5.0",
            "_model_name": "FloatProgressModel",
            "_view_count": null,
            "_view_module": "@jupyter-widgets/controls",
            "_view_module_version": "1.5.0",
            "_view_name": "ProgressView",
            "bar_style": "",
            "description": "",
            "description_tooltip": null,
            "layout": "IPY_MODEL_0997033fbb7946bbb15a4de2c0abb7ae",
            "max": 1,
            "min": 0,
            "orientation": "horizontal",
            "style": "IPY_MODEL_47bb1cdcea6e4bdeb310fb117c0e2f53",
            "value": 0.885228978978979
          }
        },
        "4f7bb6c1736442ae8937f983176aac07": {
          "model_module": "@jupyter-widgets/base",
          "model_name": "LayoutModel",
          "model_module_version": "1.2.0",
          "state": {
            "_model_module": "@jupyter-widgets/base",
            "_model_module_version": "1.2.0",
            "_model_name": "LayoutModel",
            "_view_count": null,
            "_view_module": "@jupyter-widgets/base",
            "_view_module_version": "1.2.0",
            "_view_name": "LayoutView",
            "align_content": null,
            "align_items": null,
            "align_self": null,
            "border": null,
            "bottom": null,
            "display": null,
            "flex": null,
            "flex_flow": null,
            "grid_area": null,
            "grid_auto_columns": null,
            "grid_auto_flow": null,
            "grid_auto_rows": null,
            "grid_column": null,
            "grid_gap": null,
            "grid_row": null,
            "grid_template_areas": null,
            "grid_template_columns": null,
            "grid_template_rows": null,
            "height": null,
            "justify_content": null,
            "justify_items": null,
            "left": null,
            "margin": null,
            "max_height": null,
            "max_width": null,
            "min_height": null,
            "min_width": null,
            "object_fit": null,
            "object_position": null,
            "order": null,
            "overflow": null,
            "overflow_x": null,
            "overflow_y": null,
            "padding": null,
            "right": null,
            "top": null,
            "visibility": null,
            "width": null
          }
        },
        "02c111ac206746ee9698f1cf445f0f09": {
          "model_module": "@jupyter-widgets/base",
          "model_name": "LayoutModel",
          "model_module_version": "1.2.0",
          "state": {
            "_model_module": "@jupyter-widgets/base",
            "_model_module_version": "1.2.0",
            "_model_name": "LayoutModel",
            "_view_count": null,
            "_view_module": "@jupyter-widgets/base",
            "_view_module_version": "1.2.0",
            "_view_name": "LayoutView",
            "align_content": null,
            "align_items": null,
            "align_self": null,
            "border": null,
            "bottom": null,
            "display": null,
            "flex": null,
            "flex_flow": null,
            "grid_area": null,
            "grid_auto_columns": null,
            "grid_auto_flow": null,
            "grid_auto_rows": null,
            "grid_column": null,
            "grid_gap": null,
            "grid_row": null,
            "grid_template_areas": null,
            "grid_template_columns": null,
            "grid_template_rows": null,
            "height": null,
            "justify_content": null,
            "justify_items": null,
            "left": null,
            "margin": null,
            "max_height": null,
            "max_width": null,
            "min_height": null,
            "min_width": null,
            "object_fit": null,
            "object_position": null,
            "order": null,
            "overflow": null,
            "overflow_x": null,
            "overflow_y": null,
            "padding": null,
            "right": null,
            "top": null,
            "visibility": null,
            "width": null
          }
        },
        "20be3e9899894a2fb330275c8621117c": {
          "model_module": "@jupyter-widgets/controls",
          "model_name": "DescriptionStyleModel",
          "model_module_version": "1.5.0",
          "state": {
            "_model_module": "@jupyter-widgets/controls",
            "_model_module_version": "1.5.0",
            "_model_name": "DescriptionStyleModel",
            "_view_count": null,
            "_view_module": "@jupyter-widgets/base",
            "_view_module_version": "1.2.0",
            "_view_name": "StyleView",
            "description_width": ""
          }
        },
        "0997033fbb7946bbb15a4de2c0abb7ae": {
          "model_module": "@jupyter-widgets/base",
          "model_name": "LayoutModel",
          "model_module_version": "1.2.0",
          "state": {
            "_model_module": "@jupyter-widgets/base",
            "_model_module_version": "1.2.0",
            "_model_name": "LayoutModel",
            "_view_count": null,
            "_view_module": "@jupyter-widgets/base",
            "_view_module_version": "1.2.0",
            "_view_name": "LayoutView",
            "align_content": null,
            "align_items": null,
            "align_self": null,
            "border": null,
            "bottom": null,
            "display": null,
            "flex": null,
            "flex_flow": null,
            "grid_area": null,
            "grid_auto_columns": null,
            "grid_auto_flow": null,
            "grid_auto_rows": null,
            "grid_column": null,
            "grid_gap": null,
            "grid_row": null,
            "grid_template_areas": null,
            "grid_template_columns": null,
            "grid_template_rows": null,
            "height": null,
            "justify_content": null,
            "justify_items": null,
            "left": null,
            "margin": null,
            "max_height": null,
            "max_width": null,
            "min_height": null,
            "min_width": null,
            "object_fit": null,
            "object_position": null,
            "order": null,
            "overflow": null,
            "overflow_x": null,
            "overflow_y": null,
            "padding": null,
            "right": null,
            "top": null,
            "visibility": null,
            "width": null
          }
        },
        "47bb1cdcea6e4bdeb310fb117c0e2f53": {
          "model_module": "@jupyter-widgets/controls",
          "model_name": "ProgressStyleModel",
          "model_module_version": "1.5.0",
          "state": {
            "_model_module": "@jupyter-widgets/controls",
            "_model_module_version": "1.5.0",
            "_model_name": "ProgressStyleModel",
            "_view_count": null,
            "_view_module": "@jupyter-widgets/base",
            "_view_module_version": "1.2.0",
            "_view_name": "StyleView",
            "bar_color": null,
            "description_width": ""
          }
        },
        "7ce35c9a8b1245fd9683af06cac76812": {
          "model_module": "@jupyter-widgets/controls",
          "model_name": "VBoxModel",
          "model_module_version": "1.5.0",
          "state": {
            "_dom_classes": [],
            "_model_module": "@jupyter-widgets/controls",
            "_model_module_version": "1.5.0",
            "_model_name": "VBoxModel",
            "_view_count": null,
            "_view_module": "@jupyter-widgets/controls",
            "_view_module_version": "1.5.0",
            "_view_name": "VBoxView",
            "box_style": "",
            "children": [
              "IPY_MODEL_8b259ffd79e94b17bc14c3683ed1b495",
              "IPY_MODEL_cb89c376a5ba4cada820e1bacc554bc6"
            ],
            "layout": "IPY_MODEL_a405fcba248a46618ffb17b3d6fa18df"
          }
        },
        "8b259ffd79e94b17bc14c3683ed1b495": {
          "model_module": "@jupyter-widgets/controls",
          "model_name": "LabelModel",
          "model_module_version": "1.5.0",
          "state": {
            "_dom_classes": [],
            "_model_module": "@jupyter-widgets/controls",
            "_model_module_version": "1.5.0",
            "_model_name": "LabelModel",
            "_view_count": null,
            "_view_module": "@jupyter-widgets/controls",
            "_view_module_version": "1.5.0",
            "_view_name": "LabelView",
            "description": "",
            "description_tooltip": null,
            "layout": "IPY_MODEL_9db9c8ab2998434c9fed417bea7c5039",
            "placeholder": "​",
            "style": "IPY_MODEL_df9fc25ed89f4190b13ff6e40d1d04f4",
            "value": "0.001 MB of 0.002 MB uploaded (0.000 MB deduped)\r"
          }
        },
        "cb89c376a5ba4cada820e1bacc554bc6": {
          "model_module": "@jupyter-widgets/controls",
          "model_name": "FloatProgressModel",
          "model_module_version": "1.5.0",
          "state": {
            "_dom_classes": [],
            "_model_module": "@jupyter-widgets/controls",
            "_model_module_version": "1.5.0",
            "_model_name": "FloatProgressModel",
            "_view_count": null,
            "_view_module": "@jupyter-widgets/controls",
            "_view_module_version": "1.5.0",
            "_view_name": "ProgressView",
            "bar_style": "",
            "description": "",
            "description_tooltip": null,
            "layout": "IPY_MODEL_a8197f8677b144b095436cc2c6fe2608",
            "max": 1,
            "min": 0,
            "orientation": "horizontal",
            "style": "IPY_MODEL_896c3791cc244908a0b2ed9a64cf07d8",
            "value": 0.5305480682839173
          }
        },
        "a405fcba248a46618ffb17b3d6fa18df": {
          "model_module": "@jupyter-widgets/base",
          "model_name": "LayoutModel",
          "model_module_version": "1.2.0",
          "state": {
            "_model_module": "@jupyter-widgets/base",
            "_model_module_version": "1.2.0",
            "_model_name": "LayoutModel",
            "_view_count": null,
            "_view_module": "@jupyter-widgets/base",
            "_view_module_version": "1.2.0",
            "_view_name": "LayoutView",
            "align_content": null,
            "align_items": null,
            "align_self": null,
            "border": null,
            "bottom": null,
            "display": null,
            "flex": null,
            "flex_flow": null,
            "grid_area": null,
            "grid_auto_columns": null,
            "grid_auto_flow": null,
            "grid_auto_rows": null,
            "grid_column": null,
            "grid_gap": null,
            "grid_row": null,
            "grid_template_areas": null,
            "grid_template_columns": null,
            "grid_template_rows": null,
            "height": null,
            "justify_content": null,
            "justify_items": null,
            "left": null,
            "margin": null,
            "max_height": null,
            "max_width": null,
            "min_height": null,
            "min_width": null,
            "object_fit": null,
            "object_position": null,
            "order": null,
            "overflow": null,
            "overflow_x": null,
            "overflow_y": null,
            "padding": null,
            "right": null,
            "top": null,
            "visibility": null,
            "width": null
          }
        },
        "9db9c8ab2998434c9fed417bea7c5039": {
          "model_module": "@jupyter-widgets/base",
          "model_name": "LayoutModel",
          "model_module_version": "1.2.0",
          "state": {
            "_model_module": "@jupyter-widgets/base",
            "_model_module_version": "1.2.0",
            "_model_name": "LayoutModel",
            "_view_count": null,
            "_view_module": "@jupyter-widgets/base",
            "_view_module_version": "1.2.0",
            "_view_name": "LayoutView",
            "align_content": null,
            "align_items": null,
            "align_self": null,
            "border": null,
            "bottom": null,
            "display": null,
            "flex": null,
            "flex_flow": null,
            "grid_area": null,
            "grid_auto_columns": null,
            "grid_auto_flow": null,
            "grid_auto_rows": null,
            "grid_column": null,
            "grid_gap": null,
            "grid_row": null,
            "grid_template_areas": null,
            "grid_template_columns": null,
            "grid_template_rows": null,
            "height": null,
            "justify_content": null,
            "justify_items": null,
            "left": null,
            "margin": null,
            "max_height": null,
            "max_width": null,
            "min_height": null,
            "min_width": null,
            "object_fit": null,
            "object_position": null,
            "order": null,
            "overflow": null,
            "overflow_x": null,
            "overflow_y": null,
            "padding": null,
            "right": null,
            "top": null,
            "visibility": null,
            "width": null
          }
        },
        "df9fc25ed89f4190b13ff6e40d1d04f4": {
          "model_module": "@jupyter-widgets/controls",
          "model_name": "DescriptionStyleModel",
          "model_module_version": "1.5.0",
          "state": {
            "_model_module": "@jupyter-widgets/controls",
            "_model_module_version": "1.5.0",
            "_model_name": "DescriptionStyleModel",
            "_view_count": null,
            "_view_module": "@jupyter-widgets/base",
            "_view_module_version": "1.2.0",
            "_view_name": "StyleView",
            "description_width": ""
          }
        },
        "a8197f8677b144b095436cc2c6fe2608": {
          "model_module": "@jupyter-widgets/base",
          "model_name": "LayoutModel",
          "model_module_version": "1.2.0",
          "state": {
            "_model_module": "@jupyter-widgets/base",
            "_model_module_version": "1.2.0",
            "_model_name": "LayoutModel",
            "_view_count": null,
            "_view_module": "@jupyter-widgets/base",
            "_view_module_version": "1.2.0",
            "_view_name": "LayoutView",
            "align_content": null,
            "align_items": null,
            "align_self": null,
            "border": null,
            "bottom": null,
            "display": null,
            "flex": null,
            "flex_flow": null,
            "grid_area": null,
            "grid_auto_columns": null,
            "grid_auto_flow": null,
            "grid_auto_rows": null,
            "grid_column": null,
            "grid_gap": null,
            "grid_row": null,
            "grid_template_areas": null,
            "grid_template_columns": null,
            "grid_template_rows": null,
            "height": null,
            "justify_content": null,
            "justify_items": null,
            "left": null,
            "margin": null,
            "max_height": null,
            "max_width": null,
            "min_height": null,
            "min_width": null,
            "object_fit": null,
            "object_position": null,
            "order": null,
            "overflow": null,
            "overflow_x": null,
            "overflow_y": null,
            "padding": null,
            "right": null,
            "top": null,
            "visibility": null,
            "width": null
          }
        },
        "896c3791cc244908a0b2ed9a64cf07d8": {
          "model_module": "@jupyter-widgets/controls",
          "model_name": "ProgressStyleModel",
          "model_module_version": "1.5.0",
          "state": {
            "_model_module": "@jupyter-widgets/controls",
            "_model_module_version": "1.5.0",
            "_model_name": "ProgressStyleModel",
            "_view_count": null,
            "_view_module": "@jupyter-widgets/base",
            "_view_module_version": "1.2.0",
            "_view_name": "StyleView",
            "bar_color": null,
            "description_width": ""
          }
        },
        "edf1a95389e44242b22d3965cfd163e0": {
          "model_module": "@jupyter-widgets/controls",
          "model_name": "VBoxModel",
          "model_module_version": "1.5.0",
          "state": {
            "_dom_classes": [],
            "_model_module": "@jupyter-widgets/controls",
            "_model_module_version": "1.5.0",
            "_model_name": "VBoxModel",
            "_view_count": null,
            "_view_module": "@jupyter-widgets/controls",
            "_view_module_version": "1.5.0",
            "_view_name": "VBoxView",
            "box_style": "",
            "children": [
              "IPY_MODEL_dbf7404f1bf7430f80589d9b25bb0a8e",
              "IPY_MODEL_7d16d8302b534c3a8ea0f684991efbf1"
            ],
            "layout": "IPY_MODEL_b1a577fe21b64d41b7ace3264bfb09ec"
          }
        },
        "dbf7404f1bf7430f80589d9b25bb0a8e": {
          "model_module": "@jupyter-widgets/controls",
          "model_name": "LabelModel",
          "model_module_version": "1.5.0",
          "state": {
            "_dom_classes": [],
            "_model_module": "@jupyter-widgets/controls",
            "_model_module_version": "1.5.0",
            "_model_name": "LabelModel",
            "_view_count": null,
            "_view_module": "@jupyter-widgets/controls",
            "_view_module_version": "1.5.0",
            "_view_name": "LabelView",
            "description": "",
            "description_tooltip": null,
            "layout": "IPY_MODEL_2f6d26f89274450b9f99aa8fd20998c5",
            "placeholder": "​",
            "style": "IPY_MODEL_d0c3bc586f0a4ba2980f3a3b69d4d3b3",
            "value": "0.001 MB of 0.002 MB uploaded (0.000 MB deduped)\r"
          }
        },
        "7d16d8302b534c3a8ea0f684991efbf1": {
          "model_module": "@jupyter-widgets/controls",
          "model_name": "FloatProgressModel",
          "model_module_version": "1.5.0",
          "state": {
            "_dom_classes": [],
            "_model_module": "@jupyter-widgets/controls",
            "_model_module_version": "1.5.0",
            "_model_name": "FloatProgressModel",
            "_view_count": null,
            "_view_module": "@jupyter-widgets/controls",
            "_view_module_version": "1.5.0",
            "_view_name": "ProgressView",
            "bar_style": "",
            "description": "",
            "description_tooltip": null,
            "layout": "IPY_MODEL_b9d425effd9e473cbbed3cca4927c0b9",
            "max": 1,
            "min": 0,
            "orientation": "horizontal",
            "style": "IPY_MODEL_c360ab8ecdbb40808bbcc34191af3c4e",
            "value": 0.529359031824294
          }
        },
        "b1a577fe21b64d41b7ace3264bfb09ec": {
          "model_module": "@jupyter-widgets/base",
          "model_name": "LayoutModel",
          "model_module_version": "1.2.0",
          "state": {
            "_model_module": "@jupyter-widgets/base",
            "_model_module_version": "1.2.0",
            "_model_name": "LayoutModel",
            "_view_count": null,
            "_view_module": "@jupyter-widgets/base",
            "_view_module_version": "1.2.0",
            "_view_name": "LayoutView",
            "align_content": null,
            "align_items": null,
            "align_self": null,
            "border": null,
            "bottom": null,
            "display": null,
            "flex": null,
            "flex_flow": null,
            "grid_area": null,
            "grid_auto_columns": null,
            "grid_auto_flow": null,
            "grid_auto_rows": null,
            "grid_column": null,
            "grid_gap": null,
            "grid_row": null,
            "grid_template_areas": null,
            "grid_template_columns": null,
            "grid_template_rows": null,
            "height": null,
            "justify_content": null,
            "justify_items": null,
            "left": null,
            "margin": null,
            "max_height": null,
            "max_width": null,
            "min_height": null,
            "min_width": null,
            "object_fit": null,
            "object_position": null,
            "order": null,
            "overflow": null,
            "overflow_x": null,
            "overflow_y": null,
            "padding": null,
            "right": null,
            "top": null,
            "visibility": null,
            "width": null
          }
        },
        "2f6d26f89274450b9f99aa8fd20998c5": {
          "model_module": "@jupyter-widgets/base",
          "model_name": "LayoutModel",
          "model_module_version": "1.2.0",
          "state": {
            "_model_module": "@jupyter-widgets/base",
            "_model_module_version": "1.2.0",
            "_model_name": "LayoutModel",
            "_view_count": null,
            "_view_module": "@jupyter-widgets/base",
            "_view_module_version": "1.2.0",
            "_view_name": "LayoutView",
            "align_content": null,
            "align_items": null,
            "align_self": null,
            "border": null,
            "bottom": null,
            "display": null,
            "flex": null,
            "flex_flow": null,
            "grid_area": null,
            "grid_auto_columns": null,
            "grid_auto_flow": null,
            "grid_auto_rows": null,
            "grid_column": null,
            "grid_gap": null,
            "grid_row": null,
            "grid_template_areas": null,
            "grid_template_columns": null,
            "grid_template_rows": null,
            "height": null,
            "justify_content": null,
            "justify_items": null,
            "left": null,
            "margin": null,
            "max_height": null,
            "max_width": null,
            "min_height": null,
            "min_width": null,
            "object_fit": null,
            "object_position": null,
            "order": null,
            "overflow": null,
            "overflow_x": null,
            "overflow_y": null,
            "padding": null,
            "right": null,
            "top": null,
            "visibility": null,
            "width": null
          }
        },
        "d0c3bc586f0a4ba2980f3a3b69d4d3b3": {
          "model_module": "@jupyter-widgets/controls",
          "model_name": "DescriptionStyleModel",
          "model_module_version": "1.5.0",
          "state": {
            "_model_module": "@jupyter-widgets/controls",
            "_model_module_version": "1.5.0",
            "_model_name": "DescriptionStyleModel",
            "_view_count": null,
            "_view_module": "@jupyter-widgets/base",
            "_view_module_version": "1.2.0",
            "_view_name": "StyleView",
            "description_width": ""
          }
        },
        "b9d425effd9e473cbbed3cca4927c0b9": {
          "model_module": "@jupyter-widgets/base",
          "model_name": "LayoutModel",
          "model_module_version": "1.2.0",
          "state": {
            "_model_module": "@jupyter-widgets/base",
            "_model_module_version": "1.2.0",
            "_model_name": "LayoutModel",
            "_view_count": null,
            "_view_module": "@jupyter-widgets/base",
            "_view_module_version": "1.2.0",
            "_view_name": "LayoutView",
            "align_content": null,
            "align_items": null,
            "align_self": null,
            "border": null,
            "bottom": null,
            "display": null,
            "flex": null,
            "flex_flow": null,
            "grid_area": null,
            "grid_auto_columns": null,
            "grid_auto_flow": null,
            "grid_auto_rows": null,
            "grid_column": null,
            "grid_gap": null,
            "grid_row": null,
            "grid_template_areas": null,
            "grid_template_columns": null,
            "grid_template_rows": null,
            "height": null,
            "justify_content": null,
            "justify_items": null,
            "left": null,
            "margin": null,
            "max_height": null,
            "max_width": null,
            "min_height": null,
            "min_width": null,
            "object_fit": null,
            "object_position": null,
            "order": null,
            "overflow": null,
            "overflow_x": null,
            "overflow_y": null,
            "padding": null,
            "right": null,
            "top": null,
            "visibility": null,
            "width": null
          }
        },
        "c360ab8ecdbb40808bbcc34191af3c4e": {
          "model_module": "@jupyter-widgets/controls",
          "model_name": "ProgressStyleModel",
          "model_module_version": "1.5.0",
          "state": {
            "_model_module": "@jupyter-widgets/controls",
            "_model_module_version": "1.5.0",
            "_model_name": "ProgressStyleModel",
            "_view_count": null,
            "_view_module": "@jupyter-widgets/base",
            "_view_module_version": "1.2.0",
            "_view_name": "StyleView",
            "bar_color": null,
            "description_width": ""
          }
        },
        "64a02ea0100a481eaa677632a7fcd0f1": {
          "model_module": "@jupyter-widgets/controls",
          "model_name": "VBoxModel",
          "model_module_version": "1.5.0",
          "state": {
            "_dom_classes": [],
            "_model_module": "@jupyter-widgets/controls",
            "_model_module_version": "1.5.0",
            "_model_name": "VBoxModel",
            "_view_count": null,
            "_view_module": "@jupyter-widgets/controls",
            "_view_module_version": "1.5.0",
            "_view_name": "VBoxView",
            "box_style": "",
            "children": [
              "IPY_MODEL_3e2bfcb1890042299d9d6be067c1bd5e",
              "IPY_MODEL_7643db28720945a687b6297bb150c77b"
            ],
            "layout": "IPY_MODEL_db365ee02ea249c3ad3353a4ca691e1e"
          }
        },
        "3e2bfcb1890042299d9d6be067c1bd5e": {
          "model_module": "@jupyter-widgets/controls",
          "model_name": "LabelModel",
          "model_module_version": "1.5.0",
          "state": {
            "_dom_classes": [],
            "_model_module": "@jupyter-widgets/controls",
            "_model_module_version": "1.5.0",
            "_model_name": "LabelModel",
            "_view_count": null,
            "_view_module": "@jupyter-widgets/controls",
            "_view_module_version": "1.5.0",
            "_view_name": "LabelView",
            "description": "",
            "description_tooltip": null,
            "layout": "IPY_MODEL_de9c7b12de744d05942ca1c77cb7e52d",
            "placeholder": "​",
            "style": "IPY_MODEL_69be978739ec4b67b1540c00e63e55d3",
            "value": "0.001 MB of 0.009 MB uploaded (0.000 MB deduped)\r"
          }
        },
        "7643db28720945a687b6297bb150c77b": {
          "model_module": "@jupyter-widgets/controls",
          "model_name": "FloatProgressModel",
          "model_module_version": "1.5.0",
          "state": {
            "_dom_classes": [],
            "_model_module": "@jupyter-widgets/controls",
            "_model_module_version": "1.5.0",
            "_model_name": "FloatProgressModel",
            "_view_count": null,
            "_view_module": "@jupyter-widgets/controls",
            "_view_module_version": "1.5.0",
            "_view_name": "ProgressView",
            "bar_style": "",
            "description": "",
            "description_tooltip": null,
            "layout": "IPY_MODEL_af72d0b0eccc416e9f936a4238b38cd0",
            "max": 1,
            "min": 0,
            "orientation": "horizontal",
            "style": "IPY_MODEL_bb9b206f06f0410f92ad1c65dddb1e8f",
            "value": 0.1202157980456026
          }
        },
        "db365ee02ea249c3ad3353a4ca691e1e": {
          "model_module": "@jupyter-widgets/base",
          "model_name": "LayoutModel",
          "model_module_version": "1.2.0",
          "state": {
            "_model_module": "@jupyter-widgets/base",
            "_model_module_version": "1.2.0",
            "_model_name": "LayoutModel",
            "_view_count": null,
            "_view_module": "@jupyter-widgets/base",
            "_view_module_version": "1.2.0",
            "_view_name": "LayoutView",
            "align_content": null,
            "align_items": null,
            "align_self": null,
            "border": null,
            "bottom": null,
            "display": null,
            "flex": null,
            "flex_flow": null,
            "grid_area": null,
            "grid_auto_columns": null,
            "grid_auto_flow": null,
            "grid_auto_rows": null,
            "grid_column": null,
            "grid_gap": null,
            "grid_row": null,
            "grid_template_areas": null,
            "grid_template_columns": null,
            "grid_template_rows": null,
            "height": null,
            "justify_content": null,
            "justify_items": null,
            "left": null,
            "margin": null,
            "max_height": null,
            "max_width": null,
            "min_height": null,
            "min_width": null,
            "object_fit": null,
            "object_position": null,
            "order": null,
            "overflow": null,
            "overflow_x": null,
            "overflow_y": null,
            "padding": null,
            "right": null,
            "top": null,
            "visibility": null,
            "width": null
          }
        },
        "de9c7b12de744d05942ca1c77cb7e52d": {
          "model_module": "@jupyter-widgets/base",
          "model_name": "LayoutModel",
          "model_module_version": "1.2.0",
          "state": {
            "_model_module": "@jupyter-widgets/base",
            "_model_module_version": "1.2.0",
            "_model_name": "LayoutModel",
            "_view_count": null,
            "_view_module": "@jupyter-widgets/base",
            "_view_module_version": "1.2.0",
            "_view_name": "LayoutView",
            "align_content": null,
            "align_items": null,
            "align_self": null,
            "border": null,
            "bottom": null,
            "display": null,
            "flex": null,
            "flex_flow": null,
            "grid_area": null,
            "grid_auto_columns": null,
            "grid_auto_flow": null,
            "grid_auto_rows": null,
            "grid_column": null,
            "grid_gap": null,
            "grid_row": null,
            "grid_template_areas": null,
            "grid_template_columns": null,
            "grid_template_rows": null,
            "height": null,
            "justify_content": null,
            "justify_items": null,
            "left": null,
            "margin": null,
            "max_height": null,
            "max_width": null,
            "min_height": null,
            "min_width": null,
            "object_fit": null,
            "object_position": null,
            "order": null,
            "overflow": null,
            "overflow_x": null,
            "overflow_y": null,
            "padding": null,
            "right": null,
            "top": null,
            "visibility": null,
            "width": null
          }
        },
        "69be978739ec4b67b1540c00e63e55d3": {
          "model_module": "@jupyter-widgets/controls",
          "model_name": "DescriptionStyleModel",
          "model_module_version": "1.5.0",
          "state": {
            "_model_module": "@jupyter-widgets/controls",
            "_model_module_version": "1.5.0",
            "_model_name": "DescriptionStyleModel",
            "_view_count": null,
            "_view_module": "@jupyter-widgets/base",
            "_view_module_version": "1.2.0",
            "_view_name": "StyleView",
            "description_width": ""
          }
        },
        "af72d0b0eccc416e9f936a4238b38cd0": {
          "model_module": "@jupyter-widgets/base",
          "model_name": "LayoutModel",
          "model_module_version": "1.2.0",
          "state": {
            "_model_module": "@jupyter-widgets/base",
            "_model_module_version": "1.2.0",
            "_model_name": "LayoutModel",
            "_view_count": null,
            "_view_module": "@jupyter-widgets/base",
            "_view_module_version": "1.2.0",
            "_view_name": "LayoutView",
            "align_content": null,
            "align_items": null,
            "align_self": null,
            "border": null,
            "bottom": null,
            "display": null,
            "flex": null,
            "flex_flow": null,
            "grid_area": null,
            "grid_auto_columns": null,
            "grid_auto_flow": null,
            "grid_auto_rows": null,
            "grid_column": null,
            "grid_gap": null,
            "grid_row": null,
            "grid_template_areas": null,
            "grid_template_columns": null,
            "grid_template_rows": null,
            "height": null,
            "justify_content": null,
            "justify_items": null,
            "left": null,
            "margin": null,
            "max_height": null,
            "max_width": null,
            "min_height": null,
            "min_width": null,
            "object_fit": null,
            "object_position": null,
            "order": null,
            "overflow": null,
            "overflow_x": null,
            "overflow_y": null,
            "padding": null,
            "right": null,
            "top": null,
            "visibility": null,
            "width": null
          }
        },
        "bb9b206f06f0410f92ad1c65dddb1e8f": {
          "model_module": "@jupyter-widgets/controls",
          "model_name": "ProgressStyleModel",
          "model_module_version": "1.5.0",
          "state": {
            "_model_module": "@jupyter-widgets/controls",
            "_model_module_version": "1.5.0",
            "_model_name": "ProgressStyleModel",
            "_view_count": null,
            "_view_module": "@jupyter-widgets/base",
            "_view_module_version": "1.2.0",
            "_view_name": "StyleView",
            "bar_color": null,
            "description_width": ""
          }
        },
        "52c1fa35b5d542ea995e28bf08e2e205": {
          "model_module": "@jupyter-widgets/controls",
          "model_name": "VBoxModel",
          "model_module_version": "1.5.0",
          "state": {
            "_dom_classes": [],
            "_model_module": "@jupyter-widgets/controls",
            "_model_module_version": "1.5.0",
            "_model_name": "VBoxModel",
            "_view_count": null,
            "_view_module": "@jupyter-widgets/controls",
            "_view_module_version": "1.5.0",
            "_view_name": "VBoxView",
            "box_style": "",
            "children": [
              "IPY_MODEL_4b21a08a426e4a59bf68ef0289db3ddf",
              "IPY_MODEL_36566c3ecdf24b7cb5016af1b9b18428"
            ],
            "layout": "IPY_MODEL_2b62578c24ff4aa1b8e87f2a2ab10f6d"
          }
        },
        "4b21a08a426e4a59bf68ef0289db3ddf": {
          "model_module": "@jupyter-widgets/controls",
          "model_name": "LabelModel",
          "model_module_version": "1.5.0",
          "state": {
            "_dom_classes": [],
            "_model_module": "@jupyter-widgets/controls",
            "_model_module_version": "1.5.0",
            "_model_name": "LabelModel",
            "_view_count": null,
            "_view_module": "@jupyter-widgets/controls",
            "_view_module_version": "1.5.0",
            "_view_name": "LabelView",
            "description": "",
            "description_tooltip": null,
            "layout": "IPY_MODEL_fba8d1cd4b68489ba2842de437c6500c",
            "placeholder": "​",
            "style": "IPY_MODEL_3a13da84fca24f3bb24fae36353a4f91",
            "value": "0.001 MB of 0.002 MB uploaded (0.000 MB deduped)\r"
          }
        },
        "36566c3ecdf24b7cb5016af1b9b18428": {
          "model_module": "@jupyter-widgets/controls",
          "model_name": "FloatProgressModel",
          "model_module_version": "1.5.0",
          "state": {
            "_dom_classes": [],
            "_model_module": "@jupyter-widgets/controls",
            "_model_module_version": "1.5.0",
            "_model_name": "FloatProgressModel",
            "_view_count": null,
            "_view_module": "@jupyter-widgets/controls",
            "_view_module_version": "1.5.0",
            "_view_name": "ProgressView",
            "bar_style": "",
            "description": "",
            "description_tooltip": null,
            "layout": "IPY_MODEL_24b479c994504e8da5e1559e2e3fd5de",
            "max": 1,
            "min": 0,
            "orientation": "horizontal",
            "style": "IPY_MODEL_f8b8e76bfd69433e86386190cba4b176",
            "value": 0.5298607992815447
          }
        },
        "2b62578c24ff4aa1b8e87f2a2ab10f6d": {
          "model_module": "@jupyter-widgets/base",
          "model_name": "LayoutModel",
          "model_module_version": "1.2.0",
          "state": {
            "_model_module": "@jupyter-widgets/base",
            "_model_module_version": "1.2.0",
            "_model_name": "LayoutModel",
            "_view_count": null,
            "_view_module": "@jupyter-widgets/base",
            "_view_module_version": "1.2.0",
            "_view_name": "LayoutView",
            "align_content": null,
            "align_items": null,
            "align_self": null,
            "border": null,
            "bottom": null,
            "display": null,
            "flex": null,
            "flex_flow": null,
            "grid_area": null,
            "grid_auto_columns": null,
            "grid_auto_flow": null,
            "grid_auto_rows": null,
            "grid_column": null,
            "grid_gap": null,
            "grid_row": null,
            "grid_template_areas": null,
            "grid_template_columns": null,
            "grid_template_rows": null,
            "height": null,
            "justify_content": null,
            "justify_items": null,
            "left": null,
            "margin": null,
            "max_height": null,
            "max_width": null,
            "min_height": null,
            "min_width": null,
            "object_fit": null,
            "object_position": null,
            "order": null,
            "overflow": null,
            "overflow_x": null,
            "overflow_y": null,
            "padding": null,
            "right": null,
            "top": null,
            "visibility": null,
            "width": null
          }
        },
        "fba8d1cd4b68489ba2842de437c6500c": {
          "model_module": "@jupyter-widgets/base",
          "model_name": "LayoutModel",
          "model_module_version": "1.2.0",
          "state": {
            "_model_module": "@jupyter-widgets/base",
            "_model_module_version": "1.2.0",
            "_model_name": "LayoutModel",
            "_view_count": null,
            "_view_module": "@jupyter-widgets/base",
            "_view_module_version": "1.2.0",
            "_view_name": "LayoutView",
            "align_content": null,
            "align_items": null,
            "align_self": null,
            "border": null,
            "bottom": null,
            "display": null,
            "flex": null,
            "flex_flow": null,
            "grid_area": null,
            "grid_auto_columns": null,
            "grid_auto_flow": null,
            "grid_auto_rows": null,
            "grid_column": null,
            "grid_gap": null,
            "grid_row": null,
            "grid_template_areas": null,
            "grid_template_columns": null,
            "grid_template_rows": null,
            "height": null,
            "justify_content": null,
            "justify_items": null,
            "left": null,
            "margin": null,
            "max_height": null,
            "max_width": null,
            "min_height": null,
            "min_width": null,
            "object_fit": null,
            "object_position": null,
            "order": null,
            "overflow": null,
            "overflow_x": null,
            "overflow_y": null,
            "padding": null,
            "right": null,
            "top": null,
            "visibility": null,
            "width": null
          }
        },
        "3a13da84fca24f3bb24fae36353a4f91": {
          "model_module": "@jupyter-widgets/controls",
          "model_name": "DescriptionStyleModel",
          "model_module_version": "1.5.0",
          "state": {
            "_model_module": "@jupyter-widgets/controls",
            "_model_module_version": "1.5.0",
            "_model_name": "DescriptionStyleModel",
            "_view_count": null,
            "_view_module": "@jupyter-widgets/base",
            "_view_module_version": "1.2.0",
            "_view_name": "StyleView",
            "description_width": ""
          }
        },
        "24b479c994504e8da5e1559e2e3fd5de": {
          "model_module": "@jupyter-widgets/base",
          "model_name": "LayoutModel",
          "model_module_version": "1.2.0",
          "state": {
            "_model_module": "@jupyter-widgets/base",
            "_model_module_version": "1.2.0",
            "_model_name": "LayoutModel",
            "_view_count": null,
            "_view_module": "@jupyter-widgets/base",
            "_view_module_version": "1.2.0",
            "_view_name": "LayoutView",
            "align_content": null,
            "align_items": null,
            "align_self": null,
            "border": null,
            "bottom": null,
            "display": null,
            "flex": null,
            "flex_flow": null,
            "grid_area": null,
            "grid_auto_columns": null,
            "grid_auto_flow": null,
            "grid_auto_rows": null,
            "grid_column": null,
            "grid_gap": null,
            "grid_row": null,
            "grid_template_areas": null,
            "grid_template_columns": null,
            "grid_template_rows": null,
            "height": null,
            "justify_content": null,
            "justify_items": null,
            "left": null,
            "margin": null,
            "max_height": null,
            "max_width": null,
            "min_height": null,
            "min_width": null,
            "object_fit": null,
            "object_position": null,
            "order": null,
            "overflow": null,
            "overflow_x": null,
            "overflow_y": null,
            "padding": null,
            "right": null,
            "top": null,
            "visibility": null,
            "width": null
          }
        },
        "f8b8e76bfd69433e86386190cba4b176": {
          "model_module": "@jupyter-widgets/controls",
          "model_name": "ProgressStyleModel",
          "model_module_version": "1.5.0",
          "state": {
            "_model_module": "@jupyter-widgets/controls",
            "_model_module_version": "1.5.0",
            "_model_name": "ProgressStyleModel",
            "_view_count": null,
            "_view_module": "@jupyter-widgets/base",
            "_view_module_version": "1.2.0",
            "_view_name": "StyleView",
            "bar_color": null,
            "description_width": ""
          }
        },
        "fcc3e7c56185473b8c4dd42bb94e4b2d": {
          "model_module": "@jupyter-widgets/controls",
          "model_name": "VBoxModel",
          "model_module_version": "1.5.0",
          "state": {
            "_dom_classes": [],
            "_model_module": "@jupyter-widgets/controls",
            "_model_module_version": "1.5.0",
            "_model_name": "VBoxModel",
            "_view_count": null,
            "_view_module": "@jupyter-widgets/controls",
            "_view_module_version": "1.5.0",
            "_view_name": "VBoxView",
            "box_style": "",
            "children": [
              "IPY_MODEL_9eb7cf496fae4a88b851ba72c4a8c580",
              "IPY_MODEL_c1ab9add48b24c6d9eb57b1cee2468d2"
            ],
            "layout": "IPY_MODEL_35d3ae7b7a3c4005873a255588588219"
          }
        },
        "9eb7cf496fae4a88b851ba72c4a8c580": {
          "model_module": "@jupyter-widgets/controls",
          "model_name": "LabelModel",
          "model_module_version": "1.5.0",
          "state": {
            "_dom_classes": [],
            "_model_module": "@jupyter-widgets/controls",
            "_model_module_version": "1.5.0",
            "_model_name": "LabelModel",
            "_view_count": null,
            "_view_module": "@jupyter-widgets/controls",
            "_view_module_version": "1.5.0",
            "_view_name": "LabelView",
            "description": "",
            "description_tooltip": null,
            "layout": "IPY_MODEL_346d5f2e2db34ef4a8aaea1ba3ab2e05",
            "placeholder": "​",
            "style": "IPY_MODEL_8b8314cde4484d628149ad906c1c81a4",
            "value": "0.001 MB of 0.001 MB uploaded (0.000 MB deduped)\r"
          }
        },
        "c1ab9add48b24c6d9eb57b1cee2468d2": {
          "model_module": "@jupyter-widgets/controls",
          "model_name": "FloatProgressModel",
          "model_module_version": "1.5.0",
          "state": {
            "_dom_classes": [],
            "_model_module": "@jupyter-widgets/controls",
            "_model_module_version": "1.5.0",
            "_model_name": "FloatProgressModel",
            "_view_count": null,
            "_view_module": "@jupyter-widgets/controls",
            "_view_module_version": "1.5.0",
            "_view_name": "ProgressView",
            "bar_style": "",
            "description": "",
            "description_tooltip": null,
            "layout": "IPY_MODEL_da4d1b6095094f44a9930ea12c781cda",
            "max": 1,
            "min": 0,
            "orientation": "horizontal",
            "style": "IPY_MODEL_ce987244cefc448494c87082c72fccc5",
            "value": 1
          }
        },
        "35d3ae7b7a3c4005873a255588588219": {
          "model_module": "@jupyter-widgets/base",
          "model_name": "LayoutModel",
          "model_module_version": "1.2.0",
          "state": {
            "_model_module": "@jupyter-widgets/base",
            "_model_module_version": "1.2.0",
            "_model_name": "LayoutModel",
            "_view_count": null,
            "_view_module": "@jupyter-widgets/base",
            "_view_module_version": "1.2.0",
            "_view_name": "LayoutView",
            "align_content": null,
            "align_items": null,
            "align_self": null,
            "border": null,
            "bottom": null,
            "display": null,
            "flex": null,
            "flex_flow": null,
            "grid_area": null,
            "grid_auto_columns": null,
            "grid_auto_flow": null,
            "grid_auto_rows": null,
            "grid_column": null,
            "grid_gap": null,
            "grid_row": null,
            "grid_template_areas": null,
            "grid_template_columns": null,
            "grid_template_rows": null,
            "height": null,
            "justify_content": null,
            "justify_items": null,
            "left": null,
            "margin": null,
            "max_height": null,
            "max_width": null,
            "min_height": null,
            "min_width": null,
            "object_fit": null,
            "object_position": null,
            "order": null,
            "overflow": null,
            "overflow_x": null,
            "overflow_y": null,
            "padding": null,
            "right": null,
            "top": null,
            "visibility": null,
            "width": null
          }
        },
        "346d5f2e2db34ef4a8aaea1ba3ab2e05": {
          "model_module": "@jupyter-widgets/base",
          "model_name": "LayoutModel",
          "model_module_version": "1.2.0",
          "state": {
            "_model_module": "@jupyter-widgets/base",
            "_model_module_version": "1.2.0",
            "_model_name": "LayoutModel",
            "_view_count": null,
            "_view_module": "@jupyter-widgets/base",
            "_view_module_version": "1.2.0",
            "_view_name": "LayoutView",
            "align_content": null,
            "align_items": null,
            "align_self": null,
            "border": null,
            "bottom": null,
            "display": null,
            "flex": null,
            "flex_flow": null,
            "grid_area": null,
            "grid_auto_columns": null,
            "grid_auto_flow": null,
            "grid_auto_rows": null,
            "grid_column": null,
            "grid_gap": null,
            "grid_row": null,
            "grid_template_areas": null,
            "grid_template_columns": null,
            "grid_template_rows": null,
            "height": null,
            "justify_content": null,
            "justify_items": null,
            "left": null,
            "margin": null,
            "max_height": null,
            "max_width": null,
            "min_height": null,
            "min_width": null,
            "object_fit": null,
            "object_position": null,
            "order": null,
            "overflow": null,
            "overflow_x": null,
            "overflow_y": null,
            "padding": null,
            "right": null,
            "top": null,
            "visibility": null,
            "width": null
          }
        },
        "8b8314cde4484d628149ad906c1c81a4": {
          "model_module": "@jupyter-widgets/controls",
          "model_name": "DescriptionStyleModel",
          "model_module_version": "1.5.0",
          "state": {
            "_model_module": "@jupyter-widgets/controls",
            "_model_module_version": "1.5.0",
            "_model_name": "DescriptionStyleModel",
            "_view_count": null,
            "_view_module": "@jupyter-widgets/base",
            "_view_module_version": "1.2.0",
            "_view_name": "StyleView",
            "description_width": ""
          }
        },
        "da4d1b6095094f44a9930ea12c781cda": {
          "model_module": "@jupyter-widgets/base",
          "model_name": "LayoutModel",
          "model_module_version": "1.2.0",
          "state": {
            "_model_module": "@jupyter-widgets/base",
            "_model_module_version": "1.2.0",
            "_model_name": "LayoutModel",
            "_view_count": null,
            "_view_module": "@jupyter-widgets/base",
            "_view_module_version": "1.2.0",
            "_view_name": "LayoutView",
            "align_content": null,
            "align_items": null,
            "align_self": null,
            "border": null,
            "bottom": null,
            "display": null,
            "flex": null,
            "flex_flow": null,
            "grid_area": null,
            "grid_auto_columns": null,
            "grid_auto_flow": null,
            "grid_auto_rows": null,
            "grid_column": null,
            "grid_gap": null,
            "grid_row": null,
            "grid_template_areas": null,
            "grid_template_columns": null,
            "grid_template_rows": null,
            "height": null,
            "justify_content": null,
            "justify_items": null,
            "left": null,
            "margin": null,
            "max_height": null,
            "max_width": null,
            "min_height": null,
            "min_width": null,
            "object_fit": null,
            "object_position": null,
            "order": null,
            "overflow": null,
            "overflow_x": null,
            "overflow_y": null,
            "padding": null,
            "right": null,
            "top": null,
            "visibility": null,
            "width": null
          }
        },
        "ce987244cefc448494c87082c72fccc5": {
          "model_module": "@jupyter-widgets/controls",
          "model_name": "ProgressStyleModel",
          "model_module_version": "1.5.0",
          "state": {
            "_model_module": "@jupyter-widgets/controls",
            "_model_module_version": "1.5.0",
            "_model_name": "ProgressStyleModel",
            "_view_count": null,
            "_view_module": "@jupyter-widgets/base",
            "_view_module_version": "1.2.0",
            "_view_name": "StyleView",
            "bar_color": null,
            "description_width": ""
          }
        },
        "9304c7181b8244cab22bd0df056808fb": {
          "model_module": "@jupyter-widgets/controls",
          "model_name": "VBoxModel",
          "model_module_version": "1.5.0",
          "state": {
            "_dom_classes": [],
            "_model_module": "@jupyter-widgets/controls",
            "_model_module_version": "1.5.0",
            "_model_name": "VBoxModel",
            "_view_count": null,
            "_view_module": "@jupyter-widgets/controls",
            "_view_module_version": "1.5.0",
            "_view_name": "VBoxView",
            "box_style": "",
            "children": [
              "IPY_MODEL_698bac45a9374914a59ebff8c80cc36a",
              "IPY_MODEL_9bca4f2cdde14aeabb5c298833620258"
            ],
            "layout": "IPY_MODEL_9492945b953845f0a1b7896773048e70"
          }
        },
        "698bac45a9374914a59ebff8c80cc36a": {
          "model_module": "@jupyter-widgets/controls",
          "model_name": "LabelModel",
          "model_module_version": "1.5.0",
          "state": {
            "_dom_classes": [],
            "_model_module": "@jupyter-widgets/controls",
            "_model_module_version": "1.5.0",
            "_model_name": "LabelModel",
            "_view_count": null,
            "_view_module": "@jupyter-widgets/controls",
            "_view_module_version": "1.5.0",
            "_view_name": "LabelView",
            "description": "",
            "description_tooltip": null,
            "layout": "IPY_MODEL_5fe4b8765f174debaab8ed8fd6900a0c",
            "placeholder": "​",
            "style": "IPY_MODEL_3603e1d9589c47eeb83a03cfd5ec213e",
            "value": "0.001 MB of 0.002 MB uploaded (0.000 MB deduped)\r"
          }
        },
        "9bca4f2cdde14aeabb5c298833620258": {
          "model_module": "@jupyter-widgets/controls",
          "model_name": "FloatProgressModel",
          "model_module_version": "1.5.0",
          "state": {
            "_dom_classes": [],
            "_model_module": "@jupyter-widgets/controls",
            "_model_module_version": "1.5.0",
            "_model_name": "FloatProgressModel",
            "_view_count": null,
            "_view_module": "@jupyter-widgets/controls",
            "_view_module_version": "1.5.0",
            "_view_name": "ProgressView",
            "bar_style": "",
            "description": "",
            "description_tooltip": null,
            "layout": "IPY_MODEL_4de0e78635674f7d9a00feee6606e41e",
            "max": 1,
            "min": 0,
            "orientation": "horizontal",
            "style": "IPY_MODEL_6a4013f67d9047c882d8f3a568992c78",
            "value": 0.569156626506024
          }
        },
        "9492945b953845f0a1b7896773048e70": {
          "model_module": "@jupyter-widgets/base",
          "model_name": "LayoutModel",
          "model_module_version": "1.2.0",
          "state": {
            "_model_module": "@jupyter-widgets/base",
            "_model_module_version": "1.2.0",
            "_model_name": "LayoutModel",
            "_view_count": null,
            "_view_module": "@jupyter-widgets/base",
            "_view_module_version": "1.2.0",
            "_view_name": "LayoutView",
            "align_content": null,
            "align_items": null,
            "align_self": null,
            "border": null,
            "bottom": null,
            "display": null,
            "flex": null,
            "flex_flow": null,
            "grid_area": null,
            "grid_auto_columns": null,
            "grid_auto_flow": null,
            "grid_auto_rows": null,
            "grid_column": null,
            "grid_gap": null,
            "grid_row": null,
            "grid_template_areas": null,
            "grid_template_columns": null,
            "grid_template_rows": null,
            "height": null,
            "justify_content": null,
            "justify_items": null,
            "left": null,
            "margin": null,
            "max_height": null,
            "max_width": null,
            "min_height": null,
            "min_width": null,
            "object_fit": null,
            "object_position": null,
            "order": null,
            "overflow": null,
            "overflow_x": null,
            "overflow_y": null,
            "padding": null,
            "right": null,
            "top": null,
            "visibility": null,
            "width": null
          }
        },
        "5fe4b8765f174debaab8ed8fd6900a0c": {
          "model_module": "@jupyter-widgets/base",
          "model_name": "LayoutModel",
          "model_module_version": "1.2.0",
          "state": {
            "_model_module": "@jupyter-widgets/base",
            "_model_module_version": "1.2.0",
            "_model_name": "LayoutModel",
            "_view_count": null,
            "_view_module": "@jupyter-widgets/base",
            "_view_module_version": "1.2.0",
            "_view_name": "LayoutView",
            "align_content": null,
            "align_items": null,
            "align_self": null,
            "border": null,
            "bottom": null,
            "display": null,
            "flex": null,
            "flex_flow": null,
            "grid_area": null,
            "grid_auto_columns": null,
            "grid_auto_flow": null,
            "grid_auto_rows": null,
            "grid_column": null,
            "grid_gap": null,
            "grid_row": null,
            "grid_template_areas": null,
            "grid_template_columns": null,
            "grid_template_rows": null,
            "height": null,
            "justify_content": null,
            "justify_items": null,
            "left": null,
            "margin": null,
            "max_height": null,
            "max_width": null,
            "min_height": null,
            "min_width": null,
            "object_fit": null,
            "object_position": null,
            "order": null,
            "overflow": null,
            "overflow_x": null,
            "overflow_y": null,
            "padding": null,
            "right": null,
            "top": null,
            "visibility": null,
            "width": null
          }
        },
        "3603e1d9589c47eeb83a03cfd5ec213e": {
          "model_module": "@jupyter-widgets/controls",
          "model_name": "DescriptionStyleModel",
          "model_module_version": "1.5.0",
          "state": {
            "_model_module": "@jupyter-widgets/controls",
            "_model_module_version": "1.5.0",
            "_model_name": "DescriptionStyleModel",
            "_view_count": null,
            "_view_module": "@jupyter-widgets/base",
            "_view_module_version": "1.2.0",
            "_view_name": "StyleView",
            "description_width": ""
          }
        },
        "4de0e78635674f7d9a00feee6606e41e": {
          "model_module": "@jupyter-widgets/base",
          "model_name": "LayoutModel",
          "model_module_version": "1.2.0",
          "state": {
            "_model_module": "@jupyter-widgets/base",
            "_model_module_version": "1.2.0",
            "_model_name": "LayoutModel",
            "_view_count": null,
            "_view_module": "@jupyter-widgets/base",
            "_view_module_version": "1.2.0",
            "_view_name": "LayoutView",
            "align_content": null,
            "align_items": null,
            "align_self": null,
            "border": null,
            "bottom": null,
            "display": null,
            "flex": null,
            "flex_flow": null,
            "grid_area": null,
            "grid_auto_columns": null,
            "grid_auto_flow": null,
            "grid_auto_rows": null,
            "grid_column": null,
            "grid_gap": null,
            "grid_row": null,
            "grid_template_areas": null,
            "grid_template_columns": null,
            "grid_template_rows": null,
            "height": null,
            "justify_content": null,
            "justify_items": null,
            "left": null,
            "margin": null,
            "max_height": null,
            "max_width": null,
            "min_height": null,
            "min_width": null,
            "object_fit": null,
            "object_position": null,
            "order": null,
            "overflow": null,
            "overflow_x": null,
            "overflow_y": null,
            "padding": null,
            "right": null,
            "top": null,
            "visibility": null,
            "width": null
          }
        },
        "6a4013f67d9047c882d8f3a568992c78": {
          "model_module": "@jupyter-widgets/controls",
          "model_name": "ProgressStyleModel",
          "model_module_version": "1.5.0",
          "state": {
            "_model_module": "@jupyter-widgets/controls",
            "_model_module_version": "1.5.0",
            "_model_name": "ProgressStyleModel",
            "_view_count": null,
            "_view_module": "@jupyter-widgets/base",
            "_view_module_version": "1.2.0",
            "_view_name": "StyleView",
            "bar_color": null,
            "description_width": ""
          }
        },
        "5b7998449e974c35be7b71ad1e83c55a": {
          "model_module": "@jupyter-widgets/controls",
          "model_name": "VBoxModel",
          "model_module_version": "1.5.0",
          "state": {
            "_dom_classes": [],
            "_model_module": "@jupyter-widgets/controls",
            "_model_module_version": "1.5.0",
            "_model_name": "VBoxModel",
            "_view_count": null,
            "_view_module": "@jupyter-widgets/controls",
            "_view_module_version": "1.5.0",
            "_view_name": "VBoxView",
            "box_style": "",
            "children": [
              "IPY_MODEL_f06ef48090934e35a3551ca312581dc4",
              "IPY_MODEL_460cb266489f4628a995316863b95fa8"
            ],
            "layout": "IPY_MODEL_a27123b302ec48d3bf7c8f761017eb0b"
          }
        },
        "f06ef48090934e35a3551ca312581dc4": {
          "model_module": "@jupyter-widgets/controls",
          "model_name": "LabelModel",
          "model_module_version": "1.5.0",
          "state": {
            "_dom_classes": [],
            "_model_module": "@jupyter-widgets/controls",
            "_model_module_version": "1.5.0",
            "_model_name": "LabelModel",
            "_view_count": null,
            "_view_module": "@jupyter-widgets/controls",
            "_view_module_version": "1.5.0",
            "_view_name": "LabelView",
            "description": "",
            "description_tooltip": null,
            "layout": "IPY_MODEL_db778061b18d439d908684cd8c5a8446",
            "placeholder": "​",
            "style": "IPY_MODEL_140b842da7d7463a8a7d91886e7d0d40",
            "value": "0.001 MB of 0.002 MB uploaded (0.000 MB deduped)\r"
          }
        },
        "460cb266489f4628a995316863b95fa8": {
          "model_module": "@jupyter-widgets/controls",
          "model_name": "FloatProgressModel",
          "model_module_version": "1.5.0",
          "state": {
            "_dom_classes": [],
            "_model_module": "@jupyter-widgets/controls",
            "_model_module_version": "1.5.0",
            "_model_name": "FloatProgressModel",
            "_view_count": null,
            "_view_module": "@jupyter-widgets/controls",
            "_view_module_version": "1.5.0",
            "_view_name": "ProgressView",
            "bar_style": "",
            "description": "",
            "description_tooltip": null,
            "layout": "IPY_MODEL_1406958c175e4f8b8b740b0d2f96be4d",
            "max": 1,
            "min": 0,
            "orientation": "horizontal",
            "style": "IPY_MODEL_93a0b0a6310c4753b605f2a9b98b0067",
            "value": 0.5298340062808434
          }
        },
        "a27123b302ec48d3bf7c8f761017eb0b": {
          "model_module": "@jupyter-widgets/base",
          "model_name": "LayoutModel",
          "model_module_version": "1.2.0",
          "state": {
            "_model_module": "@jupyter-widgets/base",
            "_model_module_version": "1.2.0",
            "_model_name": "LayoutModel",
            "_view_count": null,
            "_view_module": "@jupyter-widgets/base",
            "_view_module_version": "1.2.0",
            "_view_name": "LayoutView",
            "align_content": null,
            "align_items": null,
            "align_self": null,
            "border": null,
            "bottom": null,
            "display": null,
            "flex": null,
            "flex_flow": null,
            "grid_area": null,
            "grid_auto_columns": null,
            "grid_auto_flow": null,
            "grid_auto_rows": null,
            "grid_column": null,
            "grid_gap": null,
            "grid_row": null,
            "grid_template_areas": null,
            "grid_template_columns": null,
            "grid_template_rows": null,
            "height": null,
            "justify_content": null,
            "justify_items": null,
            "left": null,
            "margin": null,
            "max_height": null,
            "max_width": null,
            "min_height": null,
            "min_width": null,
            "object_fit": null,
            "object_position": null,
            "order": null,
            "overflow": null,
            "overflow_x": null,
            "overflow_y": null,
            "padding": null,
            "right": null,
            "top": null,
            "visibility": null,
            "width": null
          }
        },
        "db778061b18d439d908684cd8c5a8446": {
          "model_module": "@jupyter-widgets/base",
          "model_name": "LayoutModel",
          "model_module_version": "1.2.0",
          "state": {
            "_model_module": "@jupyter-widgets/base",
            "_model_module_version": "1.2.0",
            "_model_name": "LayoutModel",
            "_view_count": null,
            "_view_module": "@jupyter-widgets/base",
            "_view_module_version": "1.2.0",
            "_view_name": "LayoutView",
            "align_content": null,
            "align_items": null,
            "align_self": null,
            "border": null,
            "bottom": null,
            "display": null,
            "flex": null,
            "flex_flow": null,
            "grid_area": null,
            "grid_auto_columns": null,
            "grid_auto_flow": null,
            "grid_auto_rows": null,
            "grid_column": null,
            "grid_gap": null,
            "grid_row": null,
            "grid_template_areas": null,
            "grid_template_columns": null,
            "grid_template_rows": null,
            "height": null,
            "justify_content": null,
            "justify_items": null,
            "left": null,
            "margin": null,
            "max_height": null,
            "max_width": null,
            "min_height": null,
            "min_width": null,
            "object_fit": null,
            "object_position": null,
            "order": null,
            "overflow": null,
            "overflow_x": null,
            "overflow_y": null,
            "padding": null,
            "right": null,
            "top": null,
            "visibility": null,
            "width": null
          }
        },
        "140b842da7d7463a8a7d91886e7d0d40": {
          "model_module": "@jupyter-widgets/controls",
          "model_name": "DescriptionStyleModel",
          "model_module_version": "1.5.0",
          "state": {
            "_model_module": "@jupyter-widgets/controls",
            "_model_module_version": "1.5.0",
            "_model_name": "DescriptionStyleModel",
            "_view_count": null,
            "_view_module": "@jupyter-widgets/base",
            "_view_module_version": "1.2.0",
            "_view_name": "StyleView",
            "description_width": ""
          }
        },
        "1406958c175e4f8b8b740b0d2f96be4d": {
          "model_module": "@jupyter-widgets/base",
          "model_name": "LayoutModel",
          "model_module_version": "1.2.0",
          "state": {
            "_model_module": "@jupyter-widgets/base",
            "_model_module_version": "1.2.0",
            "_model_name": "LayoutModel",
            "_view_count": null,
            "_view_module": "@jupyter-widgets/base",
            "_view_module_version": "1.2.0",
            "_view_name": "LayoutView",
            "align_content": null,
            "align_items": null,
            "align_self": null,
            "border": null,
            "bottom": null,
            "display": null,
            "flex": null,
            "flex_flow": null,
            "grid_area": null,
            "grid_auto_columns": null,
            "grid_auto_flow": null,
            "grid_auto_rows": null,
            "grid_column": null,
            "grid_gap": null,
            "grid_row": null,
            "grid_template_areas": null,
            "grid_template_columns": null,
            "grid_template_rows": null,
            "height": null,
            "justify_content": null,
            "justify_items": null,
            "left": null,
            "margin": null,
            "max_height": null,
            "max_width": null,
            "min_height": null,
            "min_width": null,
            "object_fit": null,
            "object_position": null,
            "order": null,
            "overflow": null,
            "overflow_x": null,
            "overflow_y": null,
            "padding": null,
            "right": null,
            "top": null,
            "visibility": null,
            "width": null
          }
        },
        "93a0b0a6310c4753b605f2a9b98b0067": {
          "model_module": "@jupyter-widgets/controls",
          "model_name": "ProgressStyleModel",
          "model_module_version": "1.5.0",
          "state": {
            "_model_module": "@jupyter-widgets/controls",
            "_model_module_version": "1.5.0",
            "_model_name": "ProgressStyleModel",
            "_view_count": null,
            "_view_module": "@jupyter-widgets/base",
            "_view_module_version": "1.2.0",
            "_view_name": "StyleView",
            "bar_color": null,
            "description_width": ""
          }
        },
        "d09546f81d854e94ba1684849ee514f1": {
          "model_module": "@jupyter-widgets/controls",
          "model_name": "VBoxModel",
          "model_module_version": "1.5.0",
          "state": {
            "_dom_classes": [],
            "_model_module": "@jupyter-widgets/controls",
            "_model_module_version": "1.5.0",
            "_model_name": "VBoxModel",
            "_view_count": null,
            "_view_module": "@jupyter-widgets/controls",
            "_view_module_version": "1.5.0",
            "_view_name": "VBoxView",
            "box_style": "",
            "children": [
              "IPY_MODEL_cc0fb9abaebf4715bd3a95c74ac6a741",
              "IPY_MODEL_f52cffdc0d6e473793c5b3cc057b5a4d"
            ],
            "layout": "IPY_MODEL_c99aeb9aa5624908896eacf16b370097"
          }
        },
        "cc0fb9abaebf4715bd3a95c74ac6a741": {
          "model_module": "@jupyter-widgets/controls",
          "model_name": "LabelModel",
          "model_module_version": "1.5.0",
          "state": {
            "_dom_classes": [],
            "_model_module": "@jupyter-widgets/controls",
            "_model_module_version": "1.5.0",
            "_model_name": "LabelModel",
            "_view_count": null,
            "_view_module": "@jupyter-widgets/controls",
            "_view_module_version": "1.5.0",
            "_view_name": "LabelView",
            "description": "",
            "description_tooltip": null,
            "layout": "IPY_MODEL_dc1b9961d9dc44e28ac3d13e9ddf72d7",
            "placeholder": "​",
            "style": "IPY_MODEL_ff023decf1fb4a05968c35d05a53e992",
            "value": "0.001 MB of 0.002 MB uploaded (0.000 MB deduped)\r"
          }
        },
        "f52cffdc0d6e473793c5b3cc057b5a4d": {
          "model_module": "@jupyter-widgets/controls",
          "model_name": "FloatProgressModel",
          "model_module_version": "1.5.0",
          "state": {
            "_dom_classes": [],
            "_model_module": "@jupyter-widgets/controls",
            "_model_module_version": "1.5.0",
            "_model_name": "FloatProgressModel",
            "_view_count": null,
            "_view_module": "@jupyter-widgets/controls",
            "_view_module_version": "1.5.0",
            "_view_name": "ProgressView",
            "bar_style": "",
            "description": "",
            "description_tooltip": null,
            "layout": "IPY_MODEL_314b3b389ac24fdba077f9a87217fef9",
            "max": 1,
            "min": 0,
            "orientation": "horizontal",
            "style": "IPY_MODEL_572c3d5eefb142248e40d11a2c611cc4",
            "value": 0.5296229802513465
          }
        },
        "c99aeb9aa5624908896eacf16b370097": {
          "model_module": "@jupyter-widgets/base",
          "model_name": "LayoutModel",
          "model_module_version": "1.2.0",
          "state": {
            "_model_module": "@jupyter-widgets/base",
            "_model_module_version": "1.2.0",
            "_model_name": "LayoutModel",
            "_view_count": null,
            "_view_module": "@jupyter-widgets/base",
            "_view_module_version": "1.2.0",
            "_view_name": "LayoutView",
            "align_content": null,
            "align_items": null,
            "align_self": null,
            "border": null,
            "bottom": null,
            "display": null,
            "flex": null,
            "flex_flow": null,
            "grid_area": null,
            "grid_auto_columns": null,
            "grid_auto_flow": null,
            "grid_auto_rows": null,
            "grid_column": null,
            "grid_gap": null,
            "grid_row": null,
            "grid_template_areas": null,
            "grid_template_columns": null,
            "grid_template_rows": null,
            "height": null,
            "justify_content": null,
            "justify_items": null,
            "left": null,
            "margin": null,
            "max_height": null,
            "max_width": null,
            "min_height": null,
            "min_width": null,
            "object_fit": null,
            "object_position": null,
            "order": null,
            "overflow": null,
            "overflow_x": null,
            "overflow_y": null,
            "padding": null,
            "right": null,
            "top": null,
            "visibility": null,
            "width": null
          }
        },
        "dc1b9961d9dc44e28ac3d13e9ddf72d7": {
          "model_module": "@jupyter-widgets/base",
          "model_name": "LayoutModel",
          "model_module_version": "1.2.0",
          "state": {
            "_model_module": "@jupyter-widgets/base",
            "_model_module_version": "1.2.0",
            "_model_name": "LayoutModel",
            "_view_count": null,
            "_view_module": "@jupyter-widgets/base",
            "_view_module_version": "1.2.0",
            "_view_name": "LayoutView",
            "align_content": null,
            "align_items": null,
            "align_self": null,
            "border": null,
            "bottom": null,
            "display": null,
            "flex": null,
            "flex_flow": null,
            "grid_area": null,
            "grid_auto_columns": null,
            "grid_auto_flow": null,
            "grid_auto_rows": null,
            "grid_column": null,
            "grid_gap": null,
            "grid_row": null,
            "grid_template_areas": null,
            "grid_template_columns": null,
            "grid_template_rows": null,
            "height": null,
            "justify_content": null,
            "justify_items": null,
            "left": null,
            "margin": null,
            "max_height": null,
            "max_width": null,
            "min_height": null,
            "min_width": null,
            "object_fit": null,
            "object_position": null,
            "order": null,
            "overflow": null,
            "overflow_x": null,
            "overflow_y": null,
            "padding": null,
            "right": null,
            "top": null,
            "visibility": null,
            "width": null
          }
        },
        "ff023decf1fb4a05968c35d05a53e992": {
          "model_module": "@jupyter-widgets/controls",
          "model_name": "DescriptionStyleModel",
          "model_module_version": "1.5.0",
          "state": {
            "_model_module": "@jupyter-widgets/controls",
            "_model_module_version": "1.5.0",
            "_model_name": "DescriptionStyleModel",
            "_view_count": null,
            "_view_module": "@jupyter-widgets/base",
            "_view_module_version": "1.2.0",
            "_view_name": "StyleView",
            "description_width": ""
          }
        },
        "314b3b389ac24fdba077f9a87217fef9": {
          "model_module": "@jupyter-widgets/base",
          "model_name": "LayoutModel",
          "model_module_version": "1.2.0",
          "state": {
            "_model_module": "@jupyter-widgets/base",
            "_model_module_version": "1.2.0",
            "_model_name": "LayoutModel",
            "_view_count": null,
            "_view_module": "@jupyter-widgets/base",
            "_view_module_version": "1.2.0",
            "_view_name": "LayoutView",
            "align_content": null,
            "align_items": null,
            "align_self": null,
            "border": null,
            "bottom": null,
            "display": null,
            "flex": null,
            "flex_flow": null,
            "grid_area": null,
            "grid_auto_columns": null,
            "grid_auto_flow": null,
            "grid_auto_rows": null,
            "grid_column": null,
            "grid_gap": null,
            "grid_row": null,
            "grid_template_areas": null,
            "grid_template_columns": null,
            "grid_template_rows": null,
            "height": null,
            "justify_content": null,
            "justify_items": null,
            "left": null,
            "margin": null,
            "max_height": null,
            "max_width": null,
            "min_height": null,
            "min_width": null,
            "object_fit": null,
            "object_position": null,
            "order": null,
            "overflow": null,
            "overflow_x": null,
            "overflow_y": null,
            "padding": null,
            "right": null,
            "top": null,
            "visibility": null,
            "width": null
          }
        },
        "572c3d5eefb142248e40d11a2c611cc4": {
          "model_module": "@jupyter-widgets/controls",
          "model_name": "ProgressStyleModel",
          "model_module_version": "1.5.0",
          "state": {
            "_model_module": "@jupyter-widgets/controls",
            "_model_module_version": "1.5.0",
            "_model_name": "ProgressStyleModel",
            "_view_count": null,
            "_view_module": "@jupyter-widgets/base",
            "_view_module_version": "1.2.0",
            "_view_name": "StyleView",
            "bar_color": null,
            "description_width": ""
          }
        },
        "41720b73175a496e8cee6740c890078d": {
          "model_module": "@jupyter-widgets/controls",
          "model_name": "VBoxModel",
          "model_module_version": "1.5.0",
          "state": {
            "_dom_classes": [],
            "_model_module": "@jupyter-widgets/controls",
            "_model_module_version": "1.5.0",
            "_model_name": "VBoxModel",
            "_view_count": null,
            "_view_module": "@jupyter-widgets/controls",
            "_view_module_version": "1.5.0",
            "_view_name": "VBoxView",
            "box_style": "",
            "children": [
              "IPY_MODEL_ce44221648264b5d83b170028d97a610",
              "IPY_MODEL_f1dc2a4ab2f04481a673534bce041fa3"
            ],
            "layout": "IPY_MODEL_54c3cc50ed1a458581ff67c3a03626c4"
          }
        },
        "ce44221648264b5d83b170028d97a610": {
          "model_module": "@jupyter-widgets/controls",
          "model_name": "LabelModel",
          "model_module_version": "1.5.0",
          "state": {
            "_dom_classes": [],
            "_model_module": "@jupyter-widgets/controls",
            "_model_module_version": "1.5.0",
            "_model_name": "LabelModel",
            "_view_count": null,
            "_view_module": "@jupyter-widgets/controls",
            "_view_module_version": "1.5.0",
            "_view_name": "LabelView",
            "description": "",
            "description_tooltip": null,
            "layout": "IPY_MODEL_1717b3ec68504ac2a45ec078c255a5d9",
            "placeholder": "​",
            "style": "IPY_MODEL_8130095b7f5840fa8bb62205f05d265e",
            "value": "0.001 MB of 0.002 MB uploaded (0.000 MB deduped)\r"
          }
        },
        "f1dc2a4ab2f04481a673534bce041fa3": {
          "model_module": "@jupyter-widgets/controls",
          "model_name": "FloatProgressModel",
          "model_module_version": "1.5.0",
          "state": {
            "_dom_classes": [],
            "_model_module": "@jupyter-widgets/controls",
            "_model_module_version": "1.5.0",
            "_model_name": "FloatProgressModel",
            "_view_count": null,
            "_view_module": "@jupyter-widgets/controls",
            "_view_module_version": "1.5.0",
            "_view_name": "ProgressView",
            "bar_style": "",
            "description": "",
            "description_tooltip": null,
            "layout": "IPY_MODEL_6ff9663250ba4c80884397c1f794a501",
            "max": 1,
            "min": 0,
            "orientation": "horizontal",
            "style": "IPY_MODEL_e65be78be5894a9b9ae90ed87ddde70f",
            "value": 0.529359031824294
          }
        },
        "54c3cc50ed1a458581ff67c3a03626c4": {
          "model_module": "@jupyter-widgets/base",
          "model_name": "LayoutModel",
          "model_module_version": "1.2.0",
          "state": {
            "_model_module": "@jupyter-widgets/base",
            "_model_module_version": "1.2.0",
            "_model_name": "LayoutModel",
            "_view_count": null,
            "_view_module": "@jupyter-widgets/base",
            "_view_module_version": "1.2.0",
            "_view_name": "LayoutView",
            "align_content": null,
            "align_items": null,
            "align_self": null,
            "border": null,
            "bottom": null,
            "display": null,
            "flex": null,
            "flex_flow": null,
            "grid_area": null,
            "grid_auto_columns": null,
            "grid_auto_flow": null,
            "grid_auto_rows": null,
            "grid_column": null,
            "grid_gap": null,
            "grid_row": null,
            "grid_template_areas": null,
            "grid_template_columns": null,
            "grid_template_rows": null,
            "height": null,
            "justify_content": null,
            "justify_items": null,
            "left": null,
            "margin": null,
            "max_height": null,
            "max_width": null,
            "min_height": null,
            "min_width": null,
            "object_fit": null,
            "object_position": null,
            "order": null,
            "overflow": null,
            "overflow_x": null,
            "overflow_y": null,
            "padding": null,
            "right": null,
            "top": null,
            "visibility": null,
            "width": null
          }
        },
        "1717b3ec68504ac2a45ec078c255a5d9": {
          "model_module": "@jupyter-widgets/base",
          "model_name": "LayoutModel",
          "model_module_version": "1.2.0",
          "state": {
            "_model_module": "@jupyter-widgets/base",
            "_model_module_version": "1.2.0",
            "_model_name": "LayoutModel",
            "_view_count": null,
            "_view_module": "@jupyter-widgets/base",
            "_view_module_version": "1.2.0",
            "_view_name": "LayoutView",
            "align_content": null,
            "align_items": null,
            "align_self": null,
            "border": null,
            "bottom": null,
            "display": null,
            "flex": null,
            "flex_flow": null,
            "grid_area": null,
            "grid_auto_columns": null,
            "grid_auto_flow": null,
            "grid_auto_rows": null,
            "grid_column": null,
            "grid_gap": null,
            "grid_row": null,
            "grid_template_areas": null,
            "grid_template_columns": null,
            "grid_template_rows": null,
            "height": null,
            "justify_content": null,
            "justify_items": null,
            "left": null,
            "margin": null,
            "max_height": null,
            "max_width": null,
            "min_height": null,
            "min_width": null,
            "object_fit": null,
            "object_position": null,
            "order": null,
            "overflow": null,
            "overflow_x": null,
            "overflow_y": null,
            "padding": null,
            "right": null,
            "top": null,
            "visibility": null,
            "width": null
          }
        },
        "8130095b7f5840fa8bb62205f05d265e": {
          "model_module": "@jupyter-widgets/controls",
          "model_name": "DescriptionStyleModel",
          "model_module_version": "1.5.0",
          "state": {
            "_model_module": "@jupyter-widgets/controls",
            "_model_module_version": "1.5.0",
            "_model_name": "DescriptionStyleModel",
            "_view_count": null,
            "_view_module": "@jupyter-widgets/base",
            "_view_module_version": "1.2.0",
            "_view_name": "StyleView",
            "description_width": ""
          }
        },
        "6ff9663250ba4c80884397c1f794a501": {
          "model_module": "@jupyter-widgets/base",
          "model_name": "LayoutModel",
          "model_module_version": "1.2.0",
          "state": {
            "_model_module": "@jupyter-widgets/base",
            "_model_module_version": "1.2.0",
            "_model_name": "LayoutModel",
            "_view_count": null,
            "_view_module": "@jupyter-widgets/base",
            "_view_module_version": "1.2.0",
            "_view_name": "LayoutView",
            "align_content": null,
            "align_items": null,
            "align_self": null,
            "border": null,
            "bottom": null,
            "display": null,
            "flex": null,
            "flex_flow": null,
            "grid_area": null,
            "grid_auto_columns": null,
            "grid_auto_flow": null,
            "grid_auto_rows": null,
            "grid_column": null,
            "grid_gap": null,
            "grid_row": null,
            "grid_template_areas": null,
            "grid_template_columns": null,
            "grid_template_rows": null,
            "height": null,
            "justify_content": null,
            "justify_items": null,
            "left": null,
            "margin": null,
            "max_height": null,
            "max_width": null,
            "min_height": null,
            "min_width": null,
            "object_fit": null,
            "object_position": null,
            "order": null,
            "overflow": null,
            "overflow_x": null,
            "overflow_y": null,
            "padding": null,
            "right": null,
            "top": null,
            "visibility": null,
            "width": null
          }
        },
        "e65be78be5894a9b9ae90ed87ddde70f": {
          "model_module": "@jupyter-widgets/controls",
          "model_name": "ProgressStyleModel",
          "model_module_version": "1.5.0",
          "state": {
            "_model_module": "@jupyter-widgets/controls",
            "_model_module_version": "1.5.0",
            "_model_name": "ProgressStyleModel",
            "_view_count": null,
            "_view_module": "@jupyter-widgets/base",
            "_view_module_version": "1.2.0",
            "_view_name": "StyleView",
            "bar_color": null,
            "description_width": ""
          }
        },
        "64b23b9b2b774320abc5cbdcc0d93b07": {
          "model_module": "@jupyter-widgets/controls",
          "model_name": "VBoxModel",
          "model_module_version": "1.5.0",
          "state": {
            "_dom_classes": [],
            "_model_module": "@jupyter-widgets/controls",
            "_model_module_version": "1.5.0",
            "_model_name": "VBoxModel",
            "_view_count": null,
            "_view_module": "@jupyter-widgets/controls",
            "_view_module_version": "1.5.0",
            "_view_name": "VBoxView",
            "box_style": "",
            "children": [
              "IPY_MODEL_85471db0c40b4ea6b9cdb21855e13d15",
              "IPY_MODEL_4747ac100c0e433b8a3ed630745cc5c7"
            ],
            "layout": "IPY_MODEL_57dea25901b44100b987b17cb2992b6c"
          }
        },
        "85471db0c40b4ea6b9cdb21855e13d15": {
          "model_module": "@jupyter-widgets/controls",
          "model_name": "LabelModel",
          "model_module_version": "1.5.0",
          "state": {
            "_dom_classes": [],
            "_model_module": "@jupyter-widgets/controls",
            "_model_module_version": "1.5.0",
            "_model_name": "LabelModel",
            "_view_count": null,
            "_view_module": "@jupyter-widgets/controls",
            "_view_module_version": "1.5.0",
            "_view_name": "LabelView",
            "description": "",
            "description_tooltip": null,
            "layout": "IPY_MODEL_48061fd83cbd4e62867610f9038ac9e2",
            "placeholder": "​",
            "style": "IPY_MODEL_076a18dac5dc44d98a794864e105e1fc",
            "value": "0.001 MB of 0.009 MB uploaded (0.000 MB deduped)\r"
          }
        },
        "4747ac100c0e433b8a3ed630745cc5c7": {
          "model_module": "@jupyter-widgets/controls",
          "model_name": "FloatProgressModel",
          "model_module_version": "1.5.0",
          "state": {
            "_dom_classes": [],
            "_model_module": "@jupyter-widgets/controls",
            "_model_module_version": "1.5.0",
            "_model_name": "FloatProgressModel",
            "_view_count": null,
            "_view_module": "@jupyter-widgets/controls",
            "_view_module_version": "1.5.0",
            "_view_name": "ProgressView",
            "bar_style": "",
            "description": "",
            "description_tooltip": null,
            "layout": "IPY_MODEL_e16cd23e55a4423fa29da06c4a1dae3e",
            "max": 1,
            "min": 0,
            "orientation": "horizontal",
            "style": "IPY_MODEL_ae4ed4e60bfc4dc3a6ca3590bfd9c9d1",
            "value": 0.12011400651465798
          }
        },
        "57dea25901b44100b987b17cb2992b6c": {
          "model_module": "@jupyter-widgets/base",
          "model_name": "LayoutModel",
          "model_module_version": "1.2.0",
          "state": {
            "_model_module": "@jupyter-widgets/base",
            "_model_module_version": "1.2.0",
            "_model_name": "LayoutModel",
            "_view_count": null,
            "_view_module": "@jupyter-widgets/base",
            "_view_module_version": "1.2.0",
            "_view_name": "LayoutView",
            "align_content": null,
            "align_items": null,
            "align_self": null,
            "border": null,
            "bottom": null,
            "display": null,
            "flex": null,
            "flex_flow": null,
            "grid_area": null,
            "grid_auto_columns": null,
            "grid_auto_flow": null,
            "grid_auto_rows": null,
            "grid_column": null,
            "grid_gap": null,
            "grid_row": null,
            "grid_template_areas": null,
            "grid_template_columns": null,
            "grid_template_rows": null,
            "height": null,
            "justify_content": null,
            "justify_items": null,
            "left": null,
            "margin": null,
            "max_height": null,
            "max_width": null,
            "min_height": null,
            "min_width": null,
            "object_fit": null,
            "object_position": null,
            "order": null,
            "overflow": null,
            "overflow_x": null,
            "overflow_y": null,
            "padding": null,
            "right": null,
            "top": null,
            "visibility": null,
            "width": null
          }
        },
        "48061fd83cbd4e62867610f9038ac9e2": {
          "model_module": "@jupyter-widgets/base",
          "model_name": "LayoutModel",
          "model_module_version": "1.2.0",
          "state": {
            "_model_module": "@jupyter-widgets/base",
            "_model_module_version": "1.2.0",
            "_model_name": "LayoutModel",
            "_view_count": null,
            "_view_module": "@jupyter-widgets/base",
            "_view_module_version": "1.2.0",
            "_view_name": "LayoutView",
            "align_content": null,
            "align_items": null,
            "align_self": null,
            "border": null,
            "bottom": null,
            "display": null,
            "flex": null,
            "flex_flow": null,
            "grid_area": null,
            "grid_auto_columns": null,
            "grid_auto_flow": null,
            "grid_auto_rows": null,
            "grid_column": null,
            "grid_gap": null,
            "grid_row": null,
            "grid_template_areas": null,
            "grid_template_columns": null,
            "grid_template_rows": null,
            "height": null,
            "justify_content": null,
            "justify_items": null,
            "left": null,
            "margin": null,
            "max_height": null,
            "max_width": null,
            "min_height": null,
            "min_width": null,
            "object_fit": null,
            "object_position": null,
            "order": null,
            "overflow": null,
            "overflow_x": null,
            "overflow_y": null,
            "padding": null,
            "right": null,
            "top": null,
            "visibility": null,
            "width": null
          }
        },
        "076a18dac5dc44d98a794864e105e1fc": {
          "model_module": "@jupyter-widgets/controls",
          "model_name": "DescriptionStyleModel",
          "model_module_version": "1.5.0",
          "state": {
            "_model_module": "@jupyter-widgets/controls",
            "_model_module_version": "1.5.0",
            "_model_name": "DescriptionStyleModel",
            "_view_count": null,
            "_view_module": "@jupyter-widgets/base",
            "_view_module_version": "1.2.0",
            "_view_name": "StyleView",
            "description_width": ""
          }
        },
        "e16cd23e55a4423fa29da06c4a1dae3e": {
          "model_module": "@jupyter-widgets/base",
          "model_name": "LayoutModel",
          "model_module_version": "1.2.0",
          "state": {
            "_model_module": "@jupyter-widgets/base",
            "_model_module_version": "1.2.0",
            "_model_name": "LayoutModel",
            "_view_count": null,
            "_view_module": "@jupyter-widgets/base",
            "_view_module_version": "1.2.0",
            "_view_name": "LayoutView",
            "align_content": null,
            "align_items": null,
            "align_self": null,
            "border": null,
            "bottom": null,
            "display": null,
            "flex": null,
            "flex_flow": null,
            "grid_area": null,
            "grid_auto_columns": null,
            "grid_auto_flow": null,
            "grid_auto_rows": null,
            "grid_column": null,
            "grid_gap": null,
            "grid_row": null,
            "grid_template_areas": null,
            "grid_template_columns": null,
            "grid_template_rows": null,
            "height": null,
            "justify_content": null,
            "justify_items": null,
            "left": null,
            "margin": null,
            "max_height": null,
            "max_width": null,
            "min_height": null,
            "min_width": null,
            "object_fit": null,
            "object_position": null,
            "order": null,
            "overflow": null,
            "overflow_x": null,
            "overflow_y": null,
            "padding": null,
            "right": null,
            "top": null,
            "visibility": null,
            "width": null
          }
        },
        "ae4ed4e60bfc4dc3a6ca3590bfd9c9d1": {
          "model_module": "@jupyter-widgets/controls",
          "model_name": "ProgressStyleModel",
          "model_module_version": "1.5.0",
          "state": {
            "_model_module": "@jupyter-widgets/controls",
            "_model_module_version": "1.5.0",
            "_model_name": "ProgressStyleModel",
            "_view_count": null,
            "_view_module": "@jupyter-widgets/base",
            "_view_module_version": "1.2.0",
            "_view_name": "StyleView",
            "bar_color": null,
            "description_width": ""
          }
        },
        "f5b1b46228e54686aa28bc25e08eb8e3": {
          "model_module": "@jupyter-widgets/controls",
          "model_name": "VBoxModel",
          "model_module_version": "1.5.0",
          "state": {
            "_dom_classes": [],
            "_model_module": "@jupyter-widgets/controls",
            "_model_module_version": "1.5.0",
            "_model_name": "VBoxModel",
            "_view_count": null,
            "_view_module": "@jupyter-widgets/controls",
            "_view_module_version": "1.5.0",
            "_view_name": "VBoxView",
            "box_style": "",
            "children": [
              "IPY_MODEL_253bf09f014a45188a81b7476007ee72",
              "IPY_MODEL_cf9d59aacb18438db1cfa7c5dd85336b"
            ],
            "layout": "IPY_MODEL_6d8d4f0c29af4cdb9a60a680272734e7"
          }
        },
        "253bf09f014a45188a81b7476007ee72": {
          "model_module": "@jupyter-widgets/controls",
          "model_name": "LabelModel",
          "model_module_version": "1.5.0",
          "state": {
            "_dom_classes": [],
            "_model_module": "@jupyter-widgets/controls",
            "_model_module_version": "1.5.0",
            "_model_name": "LabelModel",
            "_view_count": null,
            "_view_module": "@jupyter-widgets/controls",
            "_view_module_version": "1.5.0",
            "_view_name": "LabelView",
            "description": "",
            "description_tooltip": null,
            "layout": "IPY_MODEL_bfe06b209fa3415baf9d1d6ec1b2de51",
            "placeholder": "​",
            "style": "IPY_MODEL_28c7a45803764f8a896b5217a4fde2dc",
            "value": "0.001 MB of 0.001 MB uploaded (0.000 MB deduped)\r"
          }
        },
        "cf9d59aacb18438db1cfa7c5dd85336b": {
          "model_module": "@jupyter-widgets/controls",
          "model_name": "FloatProgressModel",
          "model_module_version": "1.5.0",
          "state": {
            "_dom_classes": [],
            "_model_module": "@jupyter-widgets/controls",
            "_model_module_version": "1.5.0",
            "_model_name": "FloatProgressModel",
            "_view_count": null,
            "_view_module": "@jupyter-widgets/controls",
            "_view_module_version": "1.5.0",
            "_view_name": "ProgressView",
            "bar_style": "",
            "description": "",
            "description_tooltip": null,
            "layout": "IPY_MODEL_0730e81e19db4ae2bf3b72d0b17d6551",
            "max": 1,
            "min": 0,
            "orientation": "horizontal",
            "style": "IPY_MODEL_56575d84eda24ca19aa88a387c66bb3f",
            "value": 1
          }
        },
        "6d8d4f0c29af4cdb9a60a680272734e7": {
          "model_module": "@jupyter-widgets/base",
          "model_name": "LayoutModel",
          "model_module_version": "1.2.0",
          "state": {
            "_model_module": "@jupyter-widgets/base",
            "_model_module_version": "1.2.0",
            "_model_name": "LayoutModel",
            "_view_count": null,
            "_view_module": "@jupyter-widgets/base",
            "_view_module_version": "1.2.0",
            "_view_name": "LayoutView",
            "align_content": null,
            "align_items": null,
            "align_self": null,
            "border": null,
            "bottom": null,
            "display": null,
            "flex": null,
            "flex_flow": null,
            "grid_area": null,
            "grid_auto_columns": null,
            "grid_auto_flow": null,
            "grid_auto_rows": null,
            "grid_column": null,
            "grid_gap": null,
            "grid_row": null,
            "grid_template_areas": null,
            "grid_template_columns": null,
            "grid_template_rows": null,
            "height": null,
            "justify_content": null,
            "justify_items": null,
            "left": null,
            "margin": null,
            "max_height": null,
            "max_width": null,
            "min_height": null,
            "min_width": null,
            "object_fit": null,
            "object_position": null,
            "order": null,
            "overflow": null,
            "overflow_x": null,
            "overflow_y": null,
            "padding": null,
            "right": null,
            "top": null,
            "visibility": null,
            "width": null
          }
        },
        "bfe06b209fa3415baf9d1d6ec1b2de51": {
          "model_module": "@jupyter-widgets/base",
          "model_name": "LayoutModel",
          "model_module_version": "1.2.0",
          "state": {
            "_model_module": "@jupyter-widgets/base",
            "_model_module_version": "1.2.0",
            "_model_name": "LayoutModel",
            "_view_count": null,
            "_view_module": "@jupyter-widgets/base",
            "_view_module_version": "1.2.0",
            "_view_name": "LayoutView",
            "align_content": null,
            "align_items": null,
            "align_self": null,
            "border": null,
            "bottom": null,
            "display": null,
            "flex": null,
            "flex_flow": null,
            "grid_area": null,
            "grid_auto_columns": null,
            "grid_auto_flow": null,
            "grid_auto_rows": null,
            "grid_column": null,
            "grid_gap": null,
            "grid_row": null,
            "grid_template_areas": null,
            "grid_template_columns": null,
            "grid_template_rows": null,
            "height": null,
            "justify_content": null,
            "justify_items": null,
            "left": null,
            "margin": null,
            "max_height": null,
            "max_width": null,
            "min_height": null,
            "min_width": null,
            "object_fit": null,
            "object_position": null,
            "order": null,
            "overflow": null,
            "overflow_x": null,
            "overflow_y": null,
            "padding": null,
            "right": null,
            "top": null,
            "visibility": null,
            "width": null
          }
        },
        "28c7a45803764f8a896b5217a4fde2dc": {
          "model_module": "@jupyter-widgets/controls",
          "model_name": "DescriptionStyleModel",
          "model_module_version": "1.5.0",
          "state": {
            "_model_module": "@jupyter-widgets/controls",
            "_model_module_version": "1.5.0",
            "_model_name": "DescriptionStyleModel",
            "_view_count": null,
            "_view_module": "@jupyter-widgets/base",
            "_view_module_version": "1.2.0",
            "_view_name": "StyleView",
            "description_width": ""
          }
        },
        "0730e81e19db4ae2bf3b72d0b17d6551": {
          "model_module": "@jupyter-widgets/base",
          "model_name": "LayoutModel",
          "model_module_version": "1.2.0",
          "state": {
            "_model_module": "@jupyter-widgets/base",
            "_model_module_version": "1.2.0",
            "_model_name": "LayoutModel",
            "_view_count": null,
            "_view_module": "@jupyter-widgets/base",
            "_view_module_version": "1.2.0",
            "_view_name": "LayoutView",
            "align_content": null,
            "align_items": null,
            "align_self": null,
            "border": null,
            "bottom": null,
            "display": null,
            "flex": null,
            "flex_flow": null,
            "grid_area": null,
            "grid_auto_columns": null,
            "grid_auto_flow": null,
            "grid_auto_rows": null,
            "grid_column": null,
            "grid_gap": null,
            "grid_row": null,
            "grid_template_areas": null,
            "grid_template_columns": null,
            "grid_template_rows": null,
            "height": null,
            "justify_content": null,
            "justify_items": null,
            "left": null,
            "margin": null,
            "max_height": null,
            "max_width": null,
            "min_height": null,
            "min_width": null,
            "object_fit": null,
            "object_position": null,
            "order": null,
            "overflow": null,
            "overflow_x": null,
            "overflow_y": null,
            "padding": null,
            "right": null,
            "top": null,
            "visibility": null,
            "width": null
          }
        },
        "56575d84eda24ca19aa88a387c66bb3f": {
          "model_module": "@jupyter-widgets/controls",
          "model_name": "ProgressStyleModel",
          "model_module_version": "1.5.0",
          "state": {
            "_model_module": "@jupyter-widgets/controls",
            "_model_module_version": "1.5.0",
            "_model_name": "ProgressStyleModel",
            "_view_count": null,
            "_view_module": "@jupyter-widgets/base",
            "_view_module_version": "1.2.0",
            "_view_name": "StyleView",
            "bar_color": null,
            "description_width": ""
          }
        },
        "ba44b0865088413789d55172bd77ee84": {
          "model_module": "@jupyter-widgets/controls",
          "model_name": "VBoxModel",
          "model_module_version": "1.5.0",
          "state": {
            "_dom_classes": [],
            "_model_module": "@jupyter-widgets/controls",
            "_model_module_version": "1.5.0",
            "_model_name": "VBoxModel",
            "_view_count": null,
            "_view_module": "@jupyter-widgets/controls",
            "_view_module_version": "1.5.0",
            "_view_name": "VBoxView",
            "box_style": "",
            "children": [
              "IPY_MODEL_d30b31346e7341a1a7cab9ccd271f9de",
              "IPY_MODEL_02f3402b0e6e4bbb944630733be417c5"
            ],
            "layout": "IPY_MODEL_5d3af0e6d9174310b0c97272c350cf6e"
          }
        },
        "d30b31346e7341a1a7cab9ccd271f9de": {
          "model_module": "@jupyter-widgets/controls",
          "model_name": "LabelModel",
          "model_module_version": "1.5.0",
          "state": {
            "_dom_classes": [],
            "_model_module": "@jupyter-widgets/controls",
            "_model_module_version": "1.5.0",
            "_model_name": "LabelModel",
            "_view_count": null,
            "_view_module": "@jupyter-widgets/controls",
            "_view_module_version": "1.5.0",
            "_view_name": "LabelView",
            "description": "",
            "description_tooltip": null,
            "layout": "IPY_MODEL_f3907461c03f4eadaa5099ef663ed5fd",
            "placeholder": "​",
            "style": "IPY_MODEL_d603a53934d848349235d282ebac1b0a",
            "value": "0.001 MB of 0.001 MB uploaded (0.000 MB deduped)\r"
          }
        },
        "02f3402b0e6e4bbb944630733be417c5": {
          "model_module": "@jupyter-widgets/controls",
          "model_name": "FloatProgressModel",
          "model_module_version": "1.5.0",
          "state": {
            "_dom_classes": [],
            "_model_module": "@jupyter-widgets/controls",
            "_model_module_version": "1.5.0",
            "_model_name": "FloatProgressModel",
            "_view_count": null,
            "_view_module": "@jupyter-widgets/controls",
            "_view_module_version": "1.5.0",
            "_view_name": "ProgressView",
            "bar_style": "",
            "description": "",
            "description_tooltip": null,
            "layout": "IPY_MODEL_5cce1e91fd0548e298e39bbeabdfe7d1",
            "max": 1,
            "min": 0,
            "orientation": "horizontal",
            "style": "IPY_MODEL_42d34cdfbb4d4933975f20e5b1310fba",
            "value": 1
          }
        },
        "5d3af0e6d9174310b0c97272c350cf6e": {
          "model_module": "@jupyter-widgets/base",
          "model_name": "LayoutModel",
          "model_module_version": "1.2.0",
          "state": {
            "_model_module": "@jupyter-widgets/base",
            "_model_module_version": "1.2.0",
            "_model_name": "LayoutModel",
            "_view_count": null,
            "_view_module": "@jupyter-widgets/base",
            "_view_module_version": "1.2.0",
            "_view_name": "LayoutView",
            "align_content": null,
            "align_items": null,
            "align_self": null,
            "border": null,
            "bottom": null,
            "display": null,
            "flex": null,
            "flex_flow": null,
            "grid_area": null,
            "grid_auto_columns": null,
            "grid_auto_flow": null,
            "grid_auto_rows": null,
            "grid_column": null,
            "grid_gap": null,
            "grid_row": null,
            "grid_template_areas": null,
            "grid_template_columns": null,
            "grid_template_rows": null,
            "height": null,
            "justify_content": null,
            "justify_items": null,
            "left": null,
            "margin": null,
            "max_height": null,
            "max_width": null,
            "min_height": null,
            "min_width": null,
            "object_fit": null,
            "object_position": null,
            "order": null,
            "overflow": null,
            "overflow_x": null,
            "overflow_y": null,
            "padding": null,
            "right": null,
            "top": null,
            "visibility": null,
            "width": null
          }
        },
        "f3907461c03f4eadaa5099ef663ed5fd": {
          "model_module": "@jupyter-widgets/base",
          "model_name": "LayoutModel",
          "model_module_version": "1.2.0",
          "state": {
            "_model_module": "@jupyter-widgets/base",
            "_model_module_version": "1.2.0",
            "_model_name": "LayoutModel",
            "_view_count": null,
            "_view_module": "@jupyter-widgets/base",
            "_view_module_version": "1.2.0",
            "_view_name": "LayoutView",
            "align_content": null,
            "align_items": null,
            "align_self": null,
            "border": null,
            "bottom": null,
            "display": null,
            "flex": null,
            "flex_flow": null,
            "grid_area": null,
            "grid_auto_columns": null,
            "grid_auto_flow": null,
            "grid_auto_rows": null,
            "grid_column": null,
            "grid_gap": null,
            "grid_row": null,
            "grid_template_areas": null,
            "grid_template_columns": null,
            "grid_template_rows": null,
            "height": null,
            "justify_content": null,
            "justify_items": null,
            "left": null,
            "margin": null,
            "max_height": null,
            "max_width": null,
            "min_height": null,
            "min_width": null,
            "object_fit": null,
            "object_position": null,
            "order": null,
            "overflow": null,
            "overflow_x": null,
            "overflow_y": null,
            "padding": null,
            "right": null,
            "top": null,
            "visibility": null,
            "width": null
          }
        },
        "d603a53934d848349235d282ebac1b0a": {
          "model_module": "@jupyter-widgets/controls",
          "model_name": "DescriptionStyleModel",
          "model_module_version": "1.5.0",
          "state": {
            "_model_module": "@jupyter-widgets/controls",
            "_model_module_version": "1.5.0",
            "_model_name": "DescriptionStyleModel",
            "_view_count": null,
            "_view_module": "@jupyter-widgets/base",
            "_view_module_version": "1.2.0",
            "_view_name": "StyleView",
            "description_width": ""
          }
        },
        "5cce1e91fd0548e298e39bbeabdfe7d1": {
          "model_module": "@jupyter-widgets/base",
          "model_name": "LayoutModel",
          "model_module_version": "1.2.0",
          "state": {
            "_model_module": "@jupyter-widgets/base",
            "_model_module_version": "1.2.0",
            "_model_name": "LayoutModel",
            "_view_count": null,
            "_view_module": "@jupyter-widgets/base",
            "_view_module_version": "1.2.0",
            "_view_name": "LayoutView",
            "align_content": null,
            "align_items": null,
            "align_self": null,
            "border": null,
            "bottom": null,
            "display": null,
            "flex": null,
            "flex_flow": null,
            "grid_area": null,
            "grid_auto_columns": null,
            "grid_auto_flow": null,
            "grid_auto_rows": null,
            "grid_column": null,
            "grid_gap": null,
            "grid_row": null,
            "grid_template_areas": null,
            "grid_template_columns": null,
            "grid_template_rows": null,
            "height": null,
            "justify_content": null,
            "justify_items": null,
            "left": null,
            "margin": null,
            "max_height": null,
            "max_width": null,
            "min_height": null,
            "min_width": null,
            "object_fit": null,
            "object_position": null,
            "order": null,
            "overflow": null,
            "overflow_x": null,
            "overflow_y": null,
            "padding": null,
            "right": null,
            "top": null,
            "visibility": null,
            "width": null
          }
        },
        "42d34cdfbb4d4933975f20e5b1310fba": {
          "model_module": "@jupyter-widgets/controls",
          "model_name": "ProgressStyleModel",
          "model_module_version": "1.5.0",
          "state": {
            "_model_module": "@jupyter-widgets/controls",
            "_model_module_version": "1.5.0",
            "_model_name": "ProgressStyleModel",
            "_view_count": null,
            "_view_module": "@jupyter-widgets/base",
            "_view_module_version": "1.2.0",
            "_view_name": "StyleView",
            "bar_color": null,
            "description_width": ""
          }
        },
        "e030bcf273d34c98b05e30e903199f2e": {
          "model_module": "@jupyter-widgets/controls",
          "model_name": "VBoxModel",
          "model_module_version": "1.5.0",
          "state": {
            "_dom_classes": [],
            "_model_module": "@jupyter-widgets/controls",
            "_model_module_version": "1.5.0",
            "_model_name": "VBoxModel",
            "_view_count": null,
            "_view_module": "@jupyter-widgets/controls",
            "_view_module_version": "1.5.0",
            "_view_name": "VBoxView",
            "box_style": "",
            "children": [
              "IPY_MODEL_1112579f6463433383fc0b500785a38b",
              "IPY_MODEL_049ccfdb15c94f3285545f72d1f82761"
            ],
            "layout": "IPY_MODEL_2a3ddc8b94f14c45bfac80d02fd5fd6b"
          }
        },
        "1112579f6463433383fc0b500785a38b": {
          "model_module": "@jupyter-widgets/controls",
          "model_name": "LabelModel",
          "model_module_version": "1.5.0",
          "state": {
            "_dom_classes": [],
            "_model_module": "@jupyter-widgets/controls",
            "_model_module_version": "1.5.0",
            "_model_name": "LabelModel",
            "_view_count": null,
            "_view_module": "@jupyter-widgets/controls",
            "_view_module_version": "1.5.0",
            "_view_name": "LabelView",
            "description": "",
            "description_tooltip": null,
            "layout": "IPY_MODEL_c424673705354dc5962c422b09823199",
            "placeholder": "​",
            "style": "IPY_MODEL_31d088c8cf3745d58a467d5dedfaca4b",
            "value": "0.001 MB of 0.009 MB uploaded (0.000 MB deduped)\r"
          }
        },
        "049ccfdb15c94f3285545f72d1f82761": {
          "model_module": "@jupyter-widgets/controls",
          "model_name": "FloatProgressModel",
          "model_module_version": "1.5.0",
          "state": {
            "_dom_classes": [],
            "_model_module": "@jupyter-widgets/controls",
            "_model_module_version": "1.5.0",
            "_model_name": "FloatProgressModel",
            "_view_count": null,
            "_view_module": "@jupyter-widgets/controls",
            "_view_module_version": "1.5.0",
            "_view_name": "ProgressView",
            "bar_style": "",
            "description": "",
            "description_tooltip": null,
            "layout": "IPY_MODEL_6a6b220b9dfb471b97115e644260bc4c",
            "max": 1,
            "min": 0,
            "orientation": "horizontal",
            "style": "IPY_MODEL_b9ca78befe304eafad284804040671be",
            "value": 0.11999592543546908
          }
        },
        "2a3ddc8b94f14c45bfac80d02fd5fd6b": {
          "model_module": "@jupyter-widgets/base",
          "model_name": "LayoutModel",
          "model_module_version": "1.2.0",
          "state": {
            "_model_module": "@jupyter-widgets/base",
            "_model_module_version": "1.2.0",
            "_model_name": "LayoutModel",
            "_view_count": null,
            "_view_module": "@jupyter-widgets/base",
            "_view_module_version": "1.2.0",
            "_view_name": "LayoutView",
            "align_content": null,
            "align_items": null,
            "align_self": null,
            "border": null,
            "bottom": null,
            "display": null,
            "flex": null,
            "flex_flow": null,
            "grid_area": null,
            "grid_auto_columns": null,
            "grid_auto_flow": null,
            "grid_auto_rows": null,
            "grid_column": null,
            "grid_gap": null,
            "grid_row": null,
            "grid_template_areas": null,
            "grid_template_columns": null,
            "grid_template_rows": null,
            "height": null,
            "justify_content": null,
            "justify_items": null,
            "left": null,
            "margin": null,
            "max_height": null,
            "max_width": null,
            "min_height": null,
            "min_width": null,
            "object_fit": null,
            "object_position": null,
            "order": null,
            "overflow": null,
            "overflow_x": null,
            "overflow_y": null,
            "padding": null,
            "right": null,
            "top": null,
            "visibility": null,
            "width": null
          }
        },
        "c424673705354dc5962c422b09823199": {
          "model_module": "@jupyter-widgets/base",
          "model_name": "LayoutModel",
          "model_module_version": "1.2.0",
          "state": {
            "_model_module": "@jupyter-widgets/base",
            "_model_module_version": "1.2.0",
            "_model_name": "LayoutModel",
            "_view_count": null,
            "_view_module": "@jupyter-widgets/base",
            "_view_module_version": "1.2.0",
            "_view_name": "LayoutView",
            "align_content": null,
            "align_items": null,
            "align_self": null,
            "border": null,
            "bottom": null,
            "display": null,
            "flex": null,
            "flex_flow": null,
            "grid_area": null,
            "grid_auto_columns": null,
            "grid_auto_flow": null,
            "grid_auto_rows": null,
            "grid_column": null,
            "grid_gap": null,
            "grid_row": null,
            "grid_template_areas": null,
            "grid_template_columns": null,
            "grid_template_rows": null,
            "height": null,
            "justify_content": null,
            "justify_items": null,
            "left": null,
            "margin": null,
            "max_height": null,
            "max_width": null,
            "min_height": null,
            "min_width": null,
            "object_fit": null,
            "object_position": null,
            "order": null,
            "overflow": null,
            "overflow_x": null,
            "overflow_y": null,
            "padding": null,
            "right": null,
            "top": null,
            "visibility": null,
            "width": null
          }
        },
        "31d088c8cf3745d58a467d5dedfaca4b": {
          "model_module": "@jupyter-widgets/controls",
          "model_name": "DescriptionStyleModel",
          "model_module_version": "1.5.0",
          "state": {
            "_model_module": "@jupyter-widgets/controls",
            "_model_module_version": "1.5.0",
            "_model_name": "DescriptionStyleModel",
            "_view_count": null,
            "_view_module": "@jupyter-widgets/base",
            "_view_module_version": "1.2.0",
            "_view_name": "StyleView",
            "description_width": ""
          }
        },
        "6a6b220b9dfb471b97115e644260bc4c": {
          "model_module": "@jupyter-widgets/base",
          "model_name": "LayoutModel",
          "model_module_version": "1.2.0",
          "state": {
            "_model_module": "@jupyter-widgets/base",
            "_model_module_version": "1.2.0",
            "_model_name": "LayoutModel",
            "_view_count": null,
            "_view_module": "@jupyter-widgets/base",
            "_view_module_version": "1.2.0",
            "_view_name": "LayoutView",
            "align_content": null,
            "align_items": null,
            "align_self": null,
            "border": null,
            "bottom": null,
            "display": null,
            "flex": null,
            "flex_flow": null,
            "grid_area": null,
            "grid_auto_columns": null,
            "grid_auto_flow": null,
            "grid_auto_rows": null,
            "grid_column": null,
            "grid_gap": null,
            "grid_row": null,
            "grid_template_areas": null,
            "grid_template_columns": null,
            "grid_template_rows": null,
            "height": null,
            "justify_content": null,
            "justify_items": null,
            "left": null,
            "margin": null,
            "max_height": null,
            "max_width": null,
            "min_height": null,
            "min_width": null,
            "object_fit": null,
            "object_position": null,
            "order": null,
            "overflow": null,
            "overflow_x": null,
            "overflow_y": null,
            "padding": null,
            "right": null,
            "top": null,
            "visibility": null,
            "width": null
          }
        },
        "b9ca78befe304eafad284804040671be": {
          "model_module": "@jupyter-widgets/controls",
          "model_name": "ProgressStyleModel",
          "model_module_version": "1.5.0",
          "state": {
            "_model_module": "@jupyter-widgets/controls",
            "_model_module_version": "1.5.0",
            "_model_name": "ProgressStyleModel",
            "_view_count": null,
            "_view_module": "@jupyter-widgets/base",
            "_view_module_version": "1.2.0",
            "_view_name": "StyleView",
            "bar_color": null,
            "description_width": ""
          }
        }
      }
    }
  },
  "nbformat": 4,
  "nbformat_minor": 0
}