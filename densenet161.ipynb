{
  "cells": [
    {
      "cell_type": "markdown",
      "metadata": {
        "id": "nt1b-GRLOwR7"
      },
      "source": [
        "## **Prepare Dataset**"
      ]
    },
    {
      "cell_type": "markdown",
      "metadata": {
        "id": "EtUf1RuVxGbc"
      },
      "source": [
        "### Download Dataset"
      ]
    },
    {
      "cell_type": "code",
      "execution_count": 1,
      "metadata": {
        "id": "NTEwOiIfP3MS"
      },
      "outputs": [],
      "source": [
        "! pip install -q kaggle"
      ]
    },
    {
      "cell_type": "code",
      "execution_count": 2,
      "metadata": {
        "colab": {
          "base_uri": "https://localhost:8080/",
          "height": 86
        },
        "id": "QG4fc60D2huS",
        "outputId": "12842b33-8efd-4c3c-c724-cccac93832c9"
      },
      "outputs": [
        {
          "output_type": "display_data",
          "data": {
            "text/plain": [
              "<IPython.core.display.HTML object>"
            ],
            "text/html": [
              "\n",
              "     <input type=\"file\" id=\"files-1515a2b4-7d42-437d-b7d0-ccda200bea7f\" name=\"files[]\" multiple disabled\n",
              "        style=\"border:none\" />\n",
              "     <output id=\"result-1515a2b4-7d42-437d-b7d0-ccda200bea7f\">\n",
              "      Upload widget is only available when the cell has been executed in the\n",
              "      current browser session. Please rerun this cell to enable.\n",
              "      </output>\n",
              "      <script>// Copyright 2017 Google LLC\n",
              "//\n",
              "// Licensed under the Apache License, Version 2.0 (the \"License\");\n",
              "// you may not use this file except in compliance with the License.\n",
              "// You may obtain a copy of the License at\n",
              "//\n",
              "//      http://www.apache.org/licenses/LICENSE-2.0\n",
              "//\n",
              "// Unless required by applicable law or agreed to in writing, software\n",
              "// distributed under the License is distributed on an \"AS IS\" BASIS,\n",
              "// WITHOUT WARRANTIES OR CONDITIONS OF ANY KIND, either express or implied.\n",
              "// See the License for the specific language governing permissions and\n",
              "// limitations under the License.\n",
              "\n",
              "/**\n",
              " * @fileoverview Helpers for google.colab Python module.\n",
              " */\n",
              "(function(scope) {\n",
              "function span(text, styleAttributes = {}) {\n",
              "  const element = document.createElement('span');\n",
              "  element.textContent = text;\n",
              "  for (const key of Object.keys(styleAttributes)) {\n",
              "    element.style[key] = styleAttributes[key];\n",
              "  }\n",
              "  return element;\n",
              "}\n",
              "\n",
              "// Max number of bytes which will be uploaded at a time.\n",
              "const MAX_PAYLOAD_SIZE = 100 * 1024;\n",
              "\n",
              "function _uploadFiles(inputId, outputId) {\n",
              "  const steps = uploadFilesStep(inputId, outputId);\n",
              "  const outputElement = document.getElementById(outputId);\n",
              "  // Cache steps on the outputElement to make it available for the next call\n",
              "  // to uploadFilesContinue from Python.\n",
              "  outputElement.steps = steps;\n",
              "\n",
              "  return _uploadFilesContinue(outputId);\n",
              "}\n",
              "\n",
              "// This is roughly an async generator (not supported in the browser yet),\n",
              "// where there are multiple asynchronous steps and the Python side is going\n",
              "// to poll for completion of each step.\n",
              "// This uses a Promise to block the python side on completion of each step,\n",
              "// then passes the result of the previous step as the input to the next step.\n",
              "function _uploadFilesContinue(outputId) {\n",
              "  const outputElement = document.getElementById(outputId);\n",
              "  const steps = outputElement.steps;\n",
              "\n",
              "  const next = steps.next(outputElement.lastPromiseValue);\n",
              "  return Promise.resolve(next.value.promise).then((value) => {\n",
              "    // Cache the last promise value to make it available to the next\n",
              "    // step of the generator.\n",
              "    outputElement.lastPromiseValue = value;\n",
              "    return next.value.response;\n",
              "  });\n",
              "}\n",
              "\n",
              "/**\n",
              " * Generator function which is called between each async step of the upload\n",
              " * process.\n",
              " * @param {string} inputId Element ID of the input file picker element.\n",
              " * @param {string} outputId Element ID of the output display.\n",
              " * @return {!Iterable<!Object>} Iterable of next steps.\n",
              " */\n",
              "function* uploadFilesStep(inputId, outputId) {\n",
              "  const inputElement = document.getElementById(inputId);\n",
              "  inputElement.disabled = false;\n",
              "\n",
              "  const outputElement = document.getElementById(outputId);\n",
              "  outputElement.innerHTML = '';\n",
              "\n",
              "  const pickedPromise = new Promise((resolve) => {\n",
              "    inputElement.addEventListener('change', (e) => {\n",
              "      resolve(e.target.files);\n",
              "    });\n",
              "  });\n",
              "\n",
              "  const cancel = document.createElement('button');\n",
              "  inputElement.parentElement.appendChild(cancel);\n",
              "  cancel.textContent = 'Cancel upload';\n",
              "  const cancelPromise = new Promise((resolve) => {\n",
              "    cancel.onclick = () => {\n",
              "      resolve(null);\n",
              "    };\n",
              "  });\n",
              "\n",
              "  // Wait for the user to pick the files.\n",
              "  const files = yield {\n",
              "    promise: Promise.race([pickedPromise, cancelPromise]),\n",
              "    response: {\n",
              "      action: 'starting',\n",
              "    }\n",
              "  };\n",
              "\n",
              "  cancel.remove();\n",
              "\n",
              "  // Disable the input element since further picks are not allowed.\n",
              "  inputElement.disabled = true;\n",
              "\n",
              "  if (!files) {\n",
              "    return {\n",
              "      response: {\n",
              "        action: 'complete',\n",
              "      }\n",
              "    };\n",
              "  }\n",
              "\n",
              "  for (const file of files) {\n",
              "    const li = document.createElement('li');\n",
              "    li.append(span(file.name, {fontWeight: 'bold'}));\n",
              "    li.append(span(\n",
              "        `(${file.type || 'n/a'}) - ${file.size} bytes, ` +\n",
              "        `last modified: ${\n",
              "            file.lastModifiedDate ? file.lastModifiedDate.toLocaleDateString() :\n",
              "                                    'n/a'} - `));\n",
              "    const percent = span('0% done');\n",
              "    li.appendChild(percent);\n",
              "\n",
              "    outputElement.appendChild(li);\n",
              "\n",
              "    const fileDataPromise = new Promise((resolve) => {\n",
              "      const reader = new FileReader();\n",
              "      reader.onload = (e) => {\n",
              "        resolve(e.target.result);\n",
              "      };\n",
              "      reader.readAsArrayBuffer(file);\n",
              "    });\n",
              "    // Wait for the data to be ready.\n",
              "    let fileData = yield {\n",
              "      promise: fileDataPromise,\n",
              "      response: {\n",
              "        action: 'continue',\n",
              "      }\n",
              "    };\n",
              "\n",
              "    // Use a chunked sending to avoid message size limits. See b/62115660.\n",
              "    let position = 0;\n",
              "    do {\n",
              "      const length = Math.min(fileData.byteLength - position, MAX_PAYLOAD_SIZE);\n",
              "      const chunk = new Uint8Array(fileData, position, length);\n",
              "      position += length;\n",
              "\n",
              "      const base64 = btoa(String.fromCharCode.apply(null, chunk));\n",
              "      yield {\n",
              "        response: {\n",
              "          action: 'append',\n",
              "          file: file.name,\n",
              "          data: base64,\n",
              "        },\n",
              "      };\n",
              "\n",
              "      let percentDone = fileData.byteLength === 0 ?\n",
              "          100 :\n",
              "          Math.round((position / fileData.byteLength) * 100);\n",
              "      percent.textContent = `${percentDone}% done`;\n",
              "\n",
              "    } while (position < fileData.byteLength);\n",
              "  }\n",
              "\n",
              "  // All done.\n",
              "  yield {\n",
              "    response: {\n",
              "      action: 'complete',\n",
              "    }\n",
              "  };\n",
              "}\n",
              "\n",
              "scope.google = scope.google || {};\n",
              "scope.google.colab = scope.google.colab || {};\n",
              "scope.google.colab._files = {\n",
              "  _uploadFiles,\n",
              "  _uploadFilesContinue,\n",
              "};\n",
              "})(self);\n",
              "</script> "
            ]
          },
          "metadata": {}
        },
        {
          "output_type": "stream",
          "name": "stdout",
          "text": [
            "Saving kaggle.json to kaggle.json\n"
          ]
        },
        {
          "output_type": "execute_result",
          "data": {
            "text/plain": [
              "{'kaggle.json': b'{\"username\":\"s00hyun00\",\"key\":\"521460db8cc76b0d510d56c9bd51eb71\"}'}"
            ]
          },
          "metadata": {},
          "execution_count": 2
        }
      ],
      "source": [
        "from google.colab import files\n",
        "\n",
        "files.upload()"
      ]
    },
    {
      "cell_type": "code",
      "execution_count": 3,
      "metadata": {
        "id": "Ekx5emZ02hr0"
      },
      "outputs": [],
      "source": [
        "! mkdir ~/.kaggle\n",
        "\n",
        "! cp kaggle.json ~/.kaggle/"
      ]
    },
    {
      "cell_type": "code",
      "execution_count": 4,
      "metadata": {
        "id": "-hIqM1AM2hoy"
      },
      "outputs": [],
      "source": [
        "! chmod 600 ~/.kaggle/kaggle.json"
      ]
    },
    {
      "cell_type": "code",
      "execution_count": 5,
      "metadata": {
        "colab": {
          "base_uri": "https://localhost:8080/"
        },
        "id": "NwzdlPez2hlA",
        "outputId": "684ea9ea-7968-4161-a22f-6c2e730c94f3"
      },
      "outputs": [
        {
          "output_type": "stream",
          "name": "stdout",
          "text": [
            "ref                                                     title                                               size  lastUpdated          downloadCount  voteCount  usabilityRating  \n",
            "------------------------------------------------------  -------------------------------------------------  -----  -------------------  -------------  ---------  ---------------  \n",
            "uciml/german-credit                                     German Credit Risk                                  11KB  2016-12-14 21:25:02          41690        373  0.8235294        \n",
            "meowmeowmeowmeowmeow/gtsrb-german-traffic-sign          GTSRB - German Traffic Sign Recognition Benchmark  612MB  2018-11-25 18:12:34          83254        968  0.8235294        \n",
            "sterby/german-recipes-dataset                           German Recipes Dataset                               5MB  2019-03-06 16:25:22           3999         66  1.0              \n",
            "mpwolke/cusersmarildownloadsgermancsv                   Creditability - German Credit Data                  13KB  2021-03-12 19:01:40           1200         48  1.0              \n",
            "abhishek/10k-german-news-articles                       10k German News Articles                           123MB  2019-11-07 08:50:32            986        101  0.8235294        \n",
            "corrieaar/apartment-rental-offers-in-germany            Apartment rental offers in Germany                  93MB  2020-04-20 10:29:50           5560        117  1.0              \n",
            "headsortails/covid19-tracking-germany                   COVID-19 Tracking Germany                           14MB  2023-02-07 19:27:10           7782        196  0.7647059        \n",
            "ander289386/cars-germany                                Germany Cars Dataset                               498KB  2021-06-09 16:14:27           2874         37  1.0              \n",
            "kabure/german-credit-data-with-risk                     German Credit Risk - With Target                    11KB  2018-01-09 15:09:46          11752         87  0.5294118        \n",
            "dhruvildave/german-football-scores                      German Football Scores                               4MB  2020-11-28 18:50:09            395         19  1.0              \n",
            "jorgesandoval/wind-power-generation                     Wind Power Generation Data                         245KB  2021-01-07 18:45:08           4011        114  1.0              \n",
            "jenslaufer/german-election-2017                         German Federal Elections 2017                        7MB  2017-09-30 13:02:14            850         26  0.7058824        \n",
            "kaushal2896/english-to-german                           English To German                                    8MB  2020-11-14 08:13:57            402         10  0.625            \n",
            "rtatman/3-million-german-sentences                      3 Million German Sentences                         140MB  2017-08-16 00:03:59           1813         53  0.8235294        \n",
            "mreverybody/covid19-data-germany-robert-koch-institute  COVID19 data Germany / Deutschland (RKI)            32MB  2022-02-10 06:01:53            348         17  0.9411765        \n",
            "danilzyryanov/crime-in-berlin-2012-2019                 Crime in Berlin, Germany, 2012 - 2019               36KB  2020-04-24 16:54:37           1131         35  1.0              \n",
            "tblock/10kgnad                                          Ten Thousand German News Articles Dataset           20MB  2023-05-02 01:59:08            853         35  0.8235294        \n",
            "rtatman/german-sentiment-analysis-toolkit               German Sentiment Analysis Toolkit                   84KB  2017-08-15 22:54:27           1856         56  0.8125           \n",
            "marcelotc/german-credit-risk                            german_credit_risk_dataset                          13KB  2019-06-25 02:28:41            660          8  0.9411765        \n",
            "mvianna10/germany-electricity-power-for-20062017        Germany electricity power for 2006-2017             66KB  2019-08-10 18:59:19           1500         17  1.0              \n"
          ]
        }
      ],
      "source": [
        "! kaggle datasets list -s german"
      ]
    },
    {
      "cell_type": "code",
      "execution_count": 6,
      "metadata": {
        "colab": {
          "base_uri": "https://localhost:8080/"
        },
        "id": "Zj_JBisA2hbt",
        "outputId": "106b13c3-a3f6-41c2-f49e-2358c4f2f697"
      },
      "outputs": [
        {
          "output_type": "stream",
          "name": "stdout",
          "text": [
            "Downloading gtsrb-german-traffic-sign.zip to /content\n",
            "100% 609M/612M [00:20<00:00, 33.2MB/s]\n",
            "100% 612M/612M [00:20<00:00, 30.6MB/s]\n"
          ]
        }
      ],
      "source": [
        "! kaggle datasets download -d meowmeowmeowmeowmeow/gtsrb-german-traffic-sign"
      ]
    },
    {
      "cell_type": "code",
      "execution_count": 7,
      "metadata": {
        "colab": {
          "base_uri": "https://localhost:8080/"
        },
        "id": "t7OGrZSmMCa0",
        "outputId": "ec77b13b-1d9e-457b-99a9-9948d875c0be"
      },
      "outputs": [
        {
          "output_type": "stream",
          "name": "stdout",
          "text": [
            "\u001b[1;30;43mStreaming output truncated to the last 5000 lines.\u001b[0m\n",
            "  inflating: train/5/00005_00053_00010.png  \n",
            "  inflating: train/5/00005_00053_00011.png  \n",
            "  inflating: train/5/00005_00053_00012.png  \n",
            "  inflating: train/5/00005_00053_00013.png  \n",
            "  inflating: train/5/00005_00053_00014.png  \n",
            "  inflating: train/5/00005_00053_00015.png  \n",
            "  inflating: train/5/00005_00053_00016.png  \n",
            "  inflating: train/5/00005_00053_00017.png  \n",
            "  inflating: train/5/00005_00053_00018.png  \n",
            "  inflating: train/5/00005_00053_00019.png  \n",
            "  inflating: train/5/00005_00053_00020.png  \n",
            "  inflating: train/5/00005_00053_00021.png  \n",
            "  inflating: train/5/00005_00053_00022.png  \n",
            "  inflating: train/5/00005_00053_00023.png  \n",
            "  inflating: train/5/00005_00053_00024.png  \n",
            "  inflating: train/5/00005_00053_00025.png  \n",
            "  inflating: train/5/00005_00053_00026.png  \n",
            "  inflating: train/5/00005_00053_00027.png  \n",
            "  inflating: train/5/00005_00053_00028.png  \n",
            "  inflating: train/5/00005_00053_00029.png  \n",
            "  inflating: train/5/00005_00054_00000.png  \n",
            "  inflating: train/5/00005_00054_00001.png  \n",
            "  inflating: train/5/00005_00054_00002.png  \n",
            "  inflating: train/5/00005_00054_00003.png  \n",
            "  inflating: train/5/00005_00054_00004.png  \n",
            "  inflating: train/5/00005_00054_00005.png  \n",
            "  inflating: train/5/00005_00054_00006.png  \n",
            "  inflating: train/5/00005_00054_00007.png  \n",
            "  inflating: train/5/00005_00054_00008.png  \n",
            "  inflating: train/5/00005_00054_00009.png  \n",
            "  inflating: train/5/00005_00054_00010.png  \n",
            "  inflating: train/5/00005_00054_00011.png  \n",
            "  inflating: train/5/00005_00054_00012.png  \n",
            "  inflating: train/5/00005_00054_00013.png  \n",
            "  inflating: train/5/00005_00054_00014.png  \n",
            "  inflating: train/5/00005_00054_00015.png  \n",
            "  inflating: train/5/00005_00054_00016.png  \n",
            "  inflating: train/5/00005_00054_00017.png  \n",
            "  inflating: train/5/00005_00054_00018.png  \n",
            "  inflating: train/5/00005_00054_00019.png  \n",
            "  inflating: train/5/00005_00054_00020.png  \n",
            "  inflating: train/5/00005_00054_00021.png  \n",
            "  inflating: train/5/00005_00054_00022.png  \n",
            "  inflating: train/5/00005_00054_00023.png  \n",
            "  inflating: train/5/00005_00054_00024.png  \n",
            "  inflating: train/5/00005_00054_00025.png  \n",
            "  inflating: train/5/00005_00054_00026.png  \n",
            "  inflating: train/5/00005_00054_00027.png  \n",
            "  inflating: train/5/00005_00054_00028.png  \n",
            "  inflating: train/5/00005_00054_00029.png  \n",
            "  inflating: train/5/00005_00055_00000.png  \n",
            "  inflating: train/5/00005_00055_00001.png  \n",
            "  inflating: train/5/00005_00055_00002.png  \n",
            "  inflating: train/5/00005_00055_00003.png  \n",
            "  inflating: train/5/00005_00055_00004.png  \n",
            "  inflating: train/5/00005_00055_00005.png  \n",
            "  inflating: train/5/00005_00055_00006.png  \n",
            "  inflating: train/5/00005_00055_00007.png  \n",
            "  inflating: train/5/00005_00055_00008.png  \n",
            "  inflating: train/5/00005_00055_00009.png  \n",
            "  inflating: train/5/00005_00055_00010.png  \n",
            "  inflating: train/5/00005_00055_00011.png  \n",
            "  inflating: train/5/00005_00055_00012.png  \n",
            "  inflating: train/5/00005_00055_00013.png  \n",
            "  inflating: train/5/00005_00055_00014.png  \n",
            "  inflating: train/5/00005_00055_00015.png  \n",
            "  inflating: train/5/00005_00055_00016.png  \n",
            "  inflating: train/5/00005_00055_00017.png  \n",
            "  inflating: train/5/00005_00055_00018.png  \n",
            "  inflating: train/5/00005_00055_00019.png  \n",
            "  inflating: train/5/00005_00055_00020.png  \n",
            "  inflating: train/5/00005_00055_00021.png  \n",
            "  inflating: train/5/00005_00055_00022.png  \n",
            "  inflating: train/5/00005_00055_00023.png  \n",
            "  inflating: train/5/00005_00055_00024.png  \n",
            "  inflating: train/5/00005_00055_00025.png  \n",
            "  inflating: train/5/00005_00055_00026.png  \n",
            "  inflating: train/5/00005_00055_00027.png  \n",
            "  inflating: train/5/00005_00055_00028.png  \n",
            "  inflating: train/5/00005_00055_00029.png  \n",
            "  inflating: train/5/00005_00056_00000.png  \n",
            "  inflating: train/5/00005_00056_00001.png  \n",
            "  inflating: train/5/00005_00056_00002.png  \n",
            "  inflating: train/5/00005_00056_00003.png  \n",
            "  inflating: train/5/00005_00056_00004.png  \n",
            "  inflating: train/5/00005_00056_00005.png  \n",
            "  inflating: train/5/00005_00056_00006.png  \n",
            "  inflating: train/5/00005_00056_00007.png  \n",
            "  inflating: train/5/00005_00056_00008.png  \n",
            "  inflating: train/5/00005_00056_00009.png  \n",
            "  inflating: train/5/00005_00056_00010.png  \n",
            "  inflating: train/5/00005_00056_00011.png  \n",
            "  inflating: train/5/00005_00056_00012.png  \n",
            "  inflating: train/5/00005_00056_00013.png  \n",
            "  inflating: train/5/00005_00056_00014.png  \n",
            "  inflating: train/5/00005_00056_00015.png  \n",
            "  inflating: train/5/00005_00056_00016.png  \n",
            "  inflating: train/5/00005_00056_00017.png  \n",
            "  inflating: train/5/00005_00056_00018.png  \n",
            "  inflating: train/5/00005_00056_00019.png  \n",
            "  inflating: train/5/00005_00056_00020.png  \n",
            "  inflating: train/5/00005_00056_00021.png  \n",
            "  inflating: train/5/00005_00056_00022.png  \n",
            "  inflating: train/5/00005_00056_00023.png  \n",
            "  inflating: train/5/00005_00056_00024.png  \n",
            "  inflating: train/5/00005_00056_00025.png  \n",
            "  inflating: train/5/00005_00056_00026.png  \n",
            "  inflating: train/5/00005_00056_00027.png  \n",
            "  inflating: train/5/00005_00056_00028.png  \n",
            "  inflating: train/5/00005_00056_00029.png  \n",
            "  inflating: train/5/00005_00057_00000.png  \n",
            "  inflating: train/5/00005_00057_00001.png  \n",
            "  inflating: train/5/00005_00057_00002.png  \n",
            "  inflating: train/5/00005_00057_00003.png  \n",
            "  inflating: train/5/00005_00057_00004.png  \n",
            "  inflating: train/5/00005_00057_00005.png  \n",
            "  inflating: train/5/00005_00057_00006.png  \n",
            "  inflating: train/5/00005_00057_00007.png  \n",
            "  inflating: train/5/00005_00057_00008.png  \n",
            "  inflating: train/5/00005_00057_00009.png  \n",
            "  inflating: train/5/00005_00057_00010.png  \n",
            "  inflating: train/5/00005_00057_00011.png  \n",
            "  inflating: train/5/00005_00057_00012.png  \n",
            "  inflating: train/5/00005_00057_00013.png  \n",
            "  inflating: train/5/00005_00057_00014.png  \n",
            "  inflating: train/5/00005_00057_00015.png  \n",
            "  inflating: train/5/00005_00057_00016.png  \n",
            "  inflating: train/5/00005_00057_00017.png  \n",
            "  inflating: train/5/00005_00057_00018.png  \n",
            "  inflating: train/5/00005_00057_00019.png  \n",
            "  inflating: train/5/00005_00057_00020.png  \n",
            "  inflating: train/5/00005_00057_00021.png  \n",
            "  inflating: train/5/00005_00057_00022.png  \n",
            "  inflating: train/5/00005_00057_00023.png  \n",
            "  inflating: train/5/00005_00057_00024.png  \n",
            "  inflating: train/5/00005_00057_00025.png  \n",
            "  inflating: train/5/00005_00057_00026.png  \n",
            "  inflating: train/5/00005_00057_00027.png  \n",
            "  inflating: train/5/00005_00057_00028.png  \n",
            "  inflating: train/5/00005_00057_00029.png  \n",
            "  inflating: train/5/00005_00058_00000.png  \n",
            "  inflating: train/5/00005_00058_00001.png  \n",
            "  inflating: train/5/00005_00058_00002.png  \n",
            "  inflating: train/5/00005_00058_00003.png  \n",
            "  inflating: train/5/00005_00058_00004.png  \n",
            "  inflating: train/5/00005_00058_00005.png  \n",
            "  inflating: train/5/00005_00058_00006.png  \n",
            "  inflating: train/5/00005_00058_00007.png  \n",
            "  inflating: train/5/00005_00058_00008.png  \n",
            "  inflating: train/5/00005_00058_00009.png  \n",
            "  inflating: train/5/00005_00058_00010.png  \n",
            "  inflating: train/5/00005_00058_00011.png  \n",
            "  inflating: train/5/00005_00058_00012.png  \n",
            "  inflating: train/5/00005_00058_00013.png  \n",
            "  inflating: train/5/00005_00058_00014.png  \n",
            "  inflating: train/5/00005_00058_00015.png  \n",
            "  inflating: train/5/00005_00058_00016.png  \n",
            "  inflating: train/5/00005_00058_00017.png  \n",
            "  inflating: train/5/00005_00058_00018.png  \n",
            "  inflating: train/5/00005_00058_00019.png  \n",
            "  inflating: train/5/00005_00058_00020.png  \n",
            "  inflating: train/5/00005_00058_00021.png  \n",
            "  inflating: train/5/00005_00058_00022.png  \n",
            "  inflating: train/5/00005_00058_00023.png  \n",
            "  inflating: train/5/00005_00058_00024.png  \n",
            "  inflating: train/5/00005_00058_00025.png  \n",
            "  inflating: train/5/00005_00058_00026.png  \n",
            "  inflating: train/5/00005_00058_00027.png  \n",
            "  inflating: train/5/00005_00058_00028.png  \n",
            "  inflating: train/5/00005_00058_00029.png  \n",
            "  inflating: train/5/00005_00059_00000.png  \n",
            "  inflating: train/5/00005_00059_00001.png  \n",
            "  inflating: train/5/00005_00059_00002.png  \n",
            "  inflating: train/5/00005_00059_00003.png  \n",
            "  inflating: train/5/00005_00059_00004.png  \n",
            "  inflating: train/5/00005_00059_00005.png  \n",
            "  inflating: train/5/00005_00059_00006.png  \n",
            "  inflating: train/5/00005_00059_00007.png  \n",
            "  inflating: train/5/00005_00059_00008.png  \n",
            "  inflating: train/5/00005_00059_00009.png  \n",
            "  inflating: train/5/00005_00059_00010.png  \n",
            "  inflating: train/5/00005_00059_00011.png  \n",
            "  inflating: train/5/00005_00059_00012.png  \n",
            "  inflating: train/5/00005_00059_00013.png  \n",
            "  inflating: train/5/00005_00059_00014.png  \n",
            "  inflating: train/5/00005_00059_00015.png  \n",
            "  inflating: train/5/00005_00059_00016.png  \n",
            "  inflating: train/5/00005_00059_00017.png  \n",
            "  inflating: train/5/00005_00059_00018.png  \n",
            "  inflating: train/5/00005_00059_00019.png  \n",
            "  inflating: train/5/00005_00059_00020.png  \n",
            "  inflating: train/5/00005_00059_00021.png  \n",
            "  inflating: train/5/00005_00059_00022.png  \n",
            "  inflating: train/5/00005_00059_00023.png  \n",
            "  inflating: train/5/00005_00059_00024.png  \n",
            "  inflating: train/5/00005_00059_00025.png  \n",
            "  inflating: train/5/00005_00059_00026.png  \n",
            "  inflating: train/5/00005_00059_00027.png  \n",
            "  inflating: train/5/00005_00059_00028.png  \n",
            "  inflating: train/5/00005_00059_00029.png  \n",
            "  inflating: train/5/00005_00060_00000.png  \n",
            "  inflating: train/5/00005_00060_00001.png  \n",
            "  inflating: train/5/00005_00060_00002.png  \n",
            "  inflating: train/5/00005_00060_00003.png  \n",
            "  inflating: train/5/00005_00060_00004.png  \n",
            "  inflating: train/5/00005_00060_00005.png  \n",
            "  inflating: train/5/00005_00060_00006.png  \n",
            "  inflating: train/5/00005_00060_00007.png  \n",
            "  inflating: train/5/00005_00060_00008.png  \n",
            "  inflating: train/5/00005_00060_00009.png  \n",
            "  inflating: train/5/00005_00060_00010.png  \n",
            "  inflating: train/5/00005_00060_00011.png  \n",
            "  inflating: train/5/00005_00060_00012.png  \n",
            "  inflating: train/5/00005_00060_00013.png  \n",
            "  inflating: train/5/00005_00060_00014.png  \n",
            "  inflating: train/5/00005_00060_00015.png  \n",
            "  inflating: train/5/00005_00060_00016.png  \n",
            "  inflating: train/5/00005_00060_00017.png  \n",
            "  inflating: train/5/00005_00060_00018.png  \n",
            "  inflating: train/5/00005_00060_00019.png  \n",
            "  inflating: train/5/00005_00060_00020.png  \n",
            "  inflating: train/5/00005_00060_00021.png  \n",
            "  inflating: train/5/00005_00060_00022.png  \n",
            "  inflating: train/5/00005_00060_00023.png  \n",
            "  inflating: train/5/00005_00060_00024.png  \n",
            "  inflating: train/5/00005_00060_00025.png  \n",
            "  inflating: train/5/00005_00060_00026.png  \n",
            "  inflating: train/5/00005_00060_00027.png  \n",
            "  inflating: train/5/00005_00060_00028.png  \n",
            "  inflating: train/5/00005_00060_00029.png  \n",
            "  inflating: train/5/00005_00061_00000.png  \n",
            "  inflating: train/5/00005_00061_00001.png  \n",
            "  inflating: train/5/00005_00061_00002.png  \n",
            "  inflating: train/5/00005_00061_00003.png  \n",
            "  inflating: train/5/00005_00061_00004.png  \n",
            "  inflating: train/5/00005_00061_00005.png  \n",
            "  inflating: train/5/00005_00061_00006.png  \n",
            "  inflating: train/5/00005_00061_00007.png  \n",
            "  inflating: train/5/00005_00061_00008.png  \n",
            "  inflating: train/5/00005_00061_00009.png  \n",
            "  inflating: train/5/00005_00061_00010.png  \n",
            "  inflating: train/5/00005_00061_00011.png  \n",
            "  inflating: train/5/00005_00061_00012.png  \n",
            "  inflating: train/5/00005_00061_00013.png  \n",
            "  inflating: train/5/00005_00061_00014.png  \n",
            "  inflating: train/5/00005_00061_00015.png  \n",
            "  inflating: train/5/00005_00061_00016.png  \n",
            "  inflating: train/5/00005_00061_00017.png  \n",
            "  inflating: train/5/00005_00061_00018.png  \n",
            "  inflating: train/5/00005_00061_00019.png  \n",
            "  inflating: train/5/00005_00061_00020.png  \n",
            "  inflating: train/5/00005_00061_00021.png  \n",
            "  inflating: train/5/00005_00061_00022.png  \n",
            "  inflating: train/5/00005_00061_00023.png  \n",
            "  inflating: train/5/00005_00061_00024.png  \n",
            "  inflating: train/5/00005_00061_00025.png  \n",
            "  inflating: train/5/00005_00061_00026.png  \n",
            "  inflating: train/5/00005_00061_00027.png  \n",
            "  inflating: train/5/00005_00061_00028.png  \n",
            "  inflating: train/5/00005_00061_00029.png  \n",
            "  inflating: train/6/00006_00000_00000.png  \n",
            "  inflating: train/6/00006_00000_00001.png  \n",
            "  inflating: train/6/00006_00000_00002.png  \n",
            "  inflating: train/6/00006_00000_00003.png  \n",
            "  inflating: train/6/00006_00000_00004.png  \n",
            "  inflating: train/6/00006_00000_00005.png  \n",
            "  inflating: train/6/00006_00000_00006.png  \n",
            "  inflating: train/6/00006_00000_00007.png  \n",
            "  inflating: train/6/00006_00000_00008.png  \n",
            "  inflating: train/6/00006_00000_00009.png  \n",
            "  inflating: train/6/00006_00000_00010.png  \n",
            "  inflating: train/6/00006_00000_00011.png  \n",
            "  inflating: train/6/00006_00000_00012.png  \n",
            "  inflating: train/6/00006_00000_00013.png  \n",
            "  inflating: train/6/00006_00000_00014.png  \n",
            "  inflating: train/6/00006_00000_00015.png  \n",
            "  inflating: train/6/00006_00000_00016.png  \n",
            "  inflating: train/6/00006_00000_00017.png  \n",
            "  inflating: train/6/00006_00000_00018.png  \n",
            "  inflating: train/6/00006_00000_00019.png  \n",
            "  inflating: train/6/00006_00000_00020.png  \n",
            "  inflating: train/6/00006_00000_00021.png  \n",
            "  inflating: train/6/00006_00000_00022.png  \n",
            "  inflating: train/6/00006_00000_00023.png  \n",
            "  inflating: train/6/00006_00000_00024.png  \n",
            "  inflating: train/6/00006_00000_00025.png  \n",
            "  inflating: train/6/00006_00000_00026.png  \n",
            "  inflating: train/6/00006_00000_00027.png  \n",
            "  inflating: train/6/00006_00000_00028.png  \n",
            "  inflating: train/6/00006_00000_00029.png  \n",
            "  inflating: train/6/00006_00001_00000.png  \n",
            "  inflating: train/6/00006_00001_00001.png  \n",
            "  inflating: train/6/00006_00001_00002.png  \n",
            "  inflating: train/6/00006_00001_00003.png  \n",
            "  inflating: train/6/00006_00001_00004.png  \n",
            "  inflating: train/6/00006_00001_00005.png  \n",
            "  inflating: train/6/00006_00001_00006.png  \n",
            "  inflating: train/6/00006_00001_00007.png  \n",
            "  inflating: train/6/00006_00001_00008.png  \n",
            "  inflating: train/6/00006_00001_00009.png  \n",
            "  inflating: train/6/00006_00001_00010.png  \n",
            "  inflating: train/6/00006_00001_00011.png  \n",
            "  inflating: train/6/00006_00001_00012.png  \n",
            "  inflating: train/6/00006_00001_00013.png  \n",
            "  inflating: train/6/00006_00001_00014.png  \n",
            "  inflating: train/6/00006_00001_00015.png  \n",
            "  inflating: train/6/00006_00001_00016.png  \n",
            "  inflating: train/6/00006_00001_00017.png  \n",
            "  inflating: train/6/00006_00001_00018.png  \n",
            "  inflating: train/6/00006_00001_00019.png  \n",
            "  inflating: train/6/00006_00001_00020.png  \n",
            "  inflating: train/6/00006_00001_00021.png  \n",
            "  inflating: train/6/00006_00001_00022.png  \n",
            "  inflating: train/6/00006_00001_00023.png  \n",
            "  inflating: train/6/00006_00001_00024.png  \n",
            "  inflating: train/6/00006_00001_00025.png  \n",
            "  inflating: train/6/00006_00001_00026.png  \n",
            "  inflating: train/6/00006_00001_00027.png  \n",
            "  inflating: train/6/00006_00001_00028.png  \n",
            "  inflating: train/6/00006_00001_00029.png  \n",
            "  inflating: train/6/00006_00002_00000.png  \n",
            "  inflating: train/6/00006_00002_00001.png  \n",
            "  inflating: train/6/00006_00002_00002.png  \n",
            "  inflating: train/6/00006_00002_00003.png  \n",
            "  inflating: train/6/00006_00002_00004.png  \n",
            "  inflating: train/6/00006_00002_00005.png  \n",
            "  inflating: train/6/00006_00002_00006.png  \n",
            "  inflating: train/6/00006_00002_00007.png  \n",
            "  inflating: train/6/00006_00002_00008.png  \n",
            "  inflating: train/6/00006_00002_00009.png  \n",
            "  inflating: train/6/00006_00002_00010.png  \n",
            "  inflating: train/6/00006_00002_00011.png  \n",
            "  inflating: train/6/00006_00002_00012.png  \n",
            "  inflating: train/6/00006_00002_00013.png  \n",
            "  inflating: train/6/00006_00002_00014.png  \n",
            "  inflating: train/6/00006_00002_00015.png  \n",
            "  inflating: train/6/00006_00002_00016.png  \n",
            "  inflating: train/6/00006_00002_00017.png  \n",
            "  inflating: train/6/00006_00002_00018.png  \n",
            "  inflating: train/6/00006_00002_00019.png  \n",
            "  inflating: train/6/00006_00002_00020.png  \n",
            "  inflating: train/6/00006_00002_00021.png  \n",
            "  inflating: train/6/00006_00002_00022.png  \n",
            "  inflating: train/6/00006_00002_00023.png  \n",
            "  inflating: train/6/00006_00002_00024.png  \n",
            "  inflating: train/6/00006_00002_00025.png  \n",
            "  inflating: train/6/00006_00002_00026.png  \n",
            "  inflating: train/6/00006_00002_00027.png  \n",
            "  inflating: train/6/00006_00002_00028.png  \n",
            "  inflating: train/6/00006_00002_00029.png  \n",
            "  inflating: train/6/00006_00003_00000.png  \n",
            "  inflating: train/6/00006_00003_00001.png  \n",
            "  inflating: train/6/00006_00003_00002.png  \n",
            "  inflating: train/6/00006_00003_00003.png  \n",
            "  inflating: train/6/00006_00003_00004.png  \n",
            "  inflating: train/6/00006_00003_00005.png  \n",
            "  inflating: train/6/00006_00003_00006.png  \n",
            "  inflating: train/6/00006_00003_00007.png  \n",
            "  inflating: train/6/00006_00003_00008.png  \n",
            "  inflating: train/6/00006_00003_00009.png  \n",
            "  inflating: train/6/00006_00003_00010.png  \n",
            "  inflating: train/6/00006_00003_00011.png  \n",
            "  inflating: train/6/00006_00003_00012.png  \n",
            "  inflating: train/6/00006_00003_00013.png  \n",
            "  inflating: train/6/00006_00003_00014.png  \n",
            "  inflating: train/6/00006_00003_00015.png  \n",
            "  inflating: train/6/00006_00003_00016.png  \n",
            "  inflating: train/6/00006_00003_00017.png  \n",
            "  inflating: train/6/00006_00003_00018.png  \n",
            "  inflating: train/6/00006_00003_00019.png  \n",
            "  inflating: train/6/00006_00003_00020.png  \n",
            "  inflating: train/6/00006_00003_00021.png  \n",
            "  inflating: train/6/00006_00003_00022.png  \n",
            "  inflating: train/6/00006_00003_00023.png  \n",
            "  inflating: train/6/00006_00003_00024.png  \n",
            "  inflating: train/6/00006_00003_00025.png  \n",
            "  inflating: train/6/00006_00003_00026.png  \n",
            "  inflating: train/6/00006_00003_00027.png  \n",
            "  inflating: train/6/00006_00003_00028.png  \n",
            "  inflating: train/6/00006_00003_00029.png  \n",
            "  inflating: train/6/00006_00004_00000.png  \n",
            "  inflating: train/6/00006_00004_00001.png  \n",
            "  inflating: train/6/00006_00004_00002.png  \n",
            "  inflating: train/6/00006_00004_00003.png  \n",
            "  inflating: train/6/00006_00004_00004.png  \n",
            "  inflating: train/6/00006_00004_00005.png  \n",
            "  inflating: train/6/00006_00004_00006.png  \n",
            "  inflating: train/6/00006_00004_00007.png  \n",
            "  inflating: train/6/00006_00004_00008.png  \n",
            "  inflating: train/6/00006_00004_00009.png  \n",
            "  inflating: train/6/00006_00004_00010.png  \n",
            "  inflating: train/6/00006_00004_00011.png  \n",
            "  inflating: train/6/00006_00004_00012.png  \n",
            "  inflating: train/6/00006_00004_00013.png  \n",
            "  inflating: train/6/00006_00004_00014.png  \n",
            "  inflating: train/6/00006_00004_00015.png  \n",
            "  inflating: train/6/00006_00004_00016.png  \n",
            "  inflating: train/6/00006_00004_00017.png  \n",
            "  inflating: train/6/00006_00004_00018.png  \n",
            "  inflating: train/6/00006_00004_00019.png  \n",
            "  inflating: train/6/00006_00004_00020.png  \n",
            "  inflating: train/6/00006_00004_00021.png  \n",
            "  inflating: train/6/00006_00004_00022.png  \n",
            "  inflating: train/6/00006_00004_00023.png  \n",
            "  inflating: train/6/00006_00004_00024.png  \n",
            "  inflating: train/6/00006_00004_00025.png  \n",
            "  inflating: train/6/00006_00004_00026.png  \n",
            "  inflating: train/6/00006_00004_00027.png  \n",
            "  inflating: train/6/00006_00004_00028.png  \n",
            "  inflating: train/6/00006_00004_00029.png  \n",
            "  inflating: train/6/00006_00005_00000.png  \n",
            "  inflating: train/6/00006_00005_00001.png  \n",
            "  inflating: train/6/00006_00005_00002.png  \n",
            "  inflating: train/6/00006_00005_00003.png  \n",
            "  inflating: train/6/00006_00005_00004.png  \n",
            "  inflating: train/6/00006_00005_00005.png  \n",
            "  inflating: train/6/00006_00005_00006.png  \n",
            "  inflating: train/6/00006_00005_00007.png  \n",
            "  inflating: train/6/00006_00005_00008.png  \n",
            "  inflating: train/6/00006_00005_00009.png  \n",
            "  inflating: train/6/00006_00005_00010.png  \n",
            "  inflating: train/6/00006_00005_00011.png  \n",
            "  inflating: train/6/00006_00005_00012.png  \n",
            "  inflating: train/6/00006_00005_00013.png  \n",
            "  inflating: train/6/00006_00005_00014.png  \n",
            "  inflating: train/6/00006_00005_00015.png  \n",
            "  inflating: train/6/00006_00005_00016.png  \n",
            "  inflating: train/6/00006_00005_00017.png  \n",
            "  inflating: train/6/00006_00005_00018.png  \n",
            "  inflating: train/6/00006_00005_00019.png  \n",
            "  inflating: train/6/00006_00005_00020.png  \n",
            "  inflating: train/6/00006_00005_00021.png  \n",
            "  inflating: train/6/00006_00005_00022.png  \n",
            "  inflating: train/6/00006_00005_00023.png  \n",
            "  inflating: train/6/00006_00005_00024.png  \n",
            "  inflating: train/6/00006_00005_00025.png  \n",
            "  inflating: train/6/00006_00005_00026.png  \n",
            "  inflating: train/6/00006_00005_00027.png  \n",
            "  inflating: train/6/00006_00005_00028.png  \n",
            "  inflating: train/6/00006_00005_00029.png  \n",
            "  inflating: train/6/00006_00006_00000.png  \n",
            "  inflating: train/6/00006_00006_00001.png  \n",
            "  inflating: train/6/00006_00006_00002.png  \n",
            "  inflating: train/6/00006_00006_00003.png  \n",
            "  inflating: train/6/00006_00006_00004.png  \n",
            "  inflating: train/6/00006_00006_00005.png  \n",
            "  inflating: train/6/00006_00006_00006.png  \n",
            "  inflating: train/6/00006_00006_00007.png  \n",
            "  inflating: train/6/00006_00006_00008.png  \n",
            "  inflating: train/6/00006_00006_00009.png  \n",
            "  inflating: train/6/00006_00006_00010.png  \n",
            "  inflating: train/6/00006_00006_00011.png  \n",
            "  inflating: train/6/00006_00006_00012.png  \n",
            "  inflating: train/6/00006_00006_00013.png  \n",
            "  inflating: train/6/00006_00006_00014.png  \n",
            "  inflating: train/6/00006_00006_00015.png  \n",
            "  inflating: train/6/00006_00006_00016.png  \n",
            "  inflating: train/6/00006_00006_00017.png  \n",
            "  inflating: train/6/00006_00006_00018.png  \n",
            "  inflating: train/6/00006_00006_00019.png  \n",
            "  inflating: train/6/00006_00006_00020.png  \n",
            "  inflating: train/6/00006_00006_00021.png  \n",
            "  inflating: train/6/00006_00006_00022.png  \n",
            "  inflating: train/6/00006_00006_00023.png  \n",
            "  inflating: train/6/00006_00006_00024.png  \n",
            "  inflating: train/6/00006_00006_00025.png  \n",
            "  inflating: train/6/00006_00006_00026.png  \n",
            "  inflating: train/6/00006_00006_00027.png  \n",
            "  inflating: train/6/00006_00006_00028.png  \n",
            "  inflating: train/6/00006_00006_00029.png  \n",
            "  inflating: train/6/00006_00007_00000.png  \n",
            "  inflating: train/6/00006_00007_00001.png  \n",
            "  inflating: train/6/00006_00007_00002.png  \n",
            "  inflating: train/6/00006_00007_00003.png  \n",
            "  inflating: train/6/00006_00007_00004.png  \n",
            "  inflating: train/6/00006_00007_00005.png  \n",
            "  inflating: train/6/00006_00007_00006.png  \n",
            "  inflating: train/6/00006_00007_00007.png  \n",
            "  inflating: train/6/00006_00007_00008.png  \n",
            "  inflating: train/6/00006_00007_00009.png  \n",
            "  inflating: train/6/00006_00007_00010.png  \n",
            "  inflating: train/6/00006_00007_00011.png  \n",
            "  inflating: train/6/00006_00007_00012.png  \n",
            "  inflating: train/6/00006_00007_00013.png  \n",
            "  inflating: train/6/00006_00007_00014.png  \n",
            "  inflating: train/6/00006_00007_00015.png  \n",
            "  inflating: train/6/00006_00007_00016.png  \n",
            "  inflating: train/6/00006_00007_00017.png  \n",
            "  inflating: train/6/00006_00007_00018.png  \n",
            "  inflating: train/6/00006_00007_00019.png  \n",
            "  inflating: train/6/00006_00007_00020.png  \n",
            "  inflating: train/6/00006_00007_00021.png  \n",
            "  inflating: train/6/00006_00007_00022.png  \n",
            "  inflating: train/6/00006_00007_00023.png  \n",
            "  inflating: train/6/00006_00007_00024.png  \n",
            "  inflating: train/6/00006_00007_00025.png  \n",
            "  inflating: train/6/00006_00007_00026.png  \n",
            "  inflating: train/6/00006_00007_00027.png  \n",
            "  inflating: train/6/00006_00007_00028.png  \n",
            "  inflating: train/6/00006_00007_00029.png  \n",
            "  inflating: train/6/00006_00008_00000.png  \n",
            "  inflating: train/6/00006_00008_00001.png  \n",
            "  inflating: train/6/00006_00008_00002.png  \n",
            "  inflating: train/6/00006_00008_00003.png  \n",
            "  inflating: train/6/00006_00008_00004.png  \n",
            "  inflating: train/6/00006_00008_00005.png  \n",
            "  inflating: train/6/00006_00008_00006.png  \n",
            "  inflating: train/6/00006_00008_00007.png  \n",
            "  inflating: train/6/00006_00008_00008.png  \n",
            "  inflating: train/6/00006_00008_00009.png  \n",
            "  inflating: train/6/00006_00008_00010.png  \n",
            "  inflating: train/6/00006_00008_00011.png  \n",
            "  inflating: train/6/00006_00008_00012.png  \n",
            "  inflating: train/6/00006_00008_00013.png  \n",
            "  inflating: train/6/00006_00008_00014.png  \n",
            "  inflating: train/6/00006_00008_00015.png  \n",
            "  inflating: train/6/00006_00008_00016.png  \n",
            "  inflating: train/6/00006_00008_00017.png  \n",
            "  inflating: train/6/00006_00008_00018.png  \n",
            "  inflating: train/6/00006_00008_00019.png  \n",
            "  inflating: train/6/00006_00008_00020.png  \n",
            "  inflating: train/6/00006_00008_00021.png  \n",
            "  inflating: train/6/00006_00008_00022.png  \n",
            "  inflating: train/6/00006_00008_00023.png  \n",
            "  inflating: train/6/00006_00008_00024.png  \n",
            "  inflating: train/6/00006_00008_00025.png  \n",
            "  inflating: train/6/00006_00008_00026.png  \n",
            "  inflating: train/6/00006_00008_00027.png  \n",
            "  inflating: train/6/00006_00008_00028.png  \n",
            "  inflating: train/6/00006_00008_00029.png  \n",
            "  inflating: train/6/00006_00009_00000.png  \n",
            "  inflating: train/6/00006_00009_00001.png  \n",
            "  inflating: train/6/00006_00009_00002.png  \n",
            "  inflating: train/6/00006_00009_00003.png  \n",
            "  inflating: train/6/00006_00009_00004.png  \n",
            "  inflating: train/6/00006_00009_00005.png  \n",
            "  inflating: train/6/00006_00009_00006.png  \n",
            "  inflating: train/6/00006_00009_00007.png  \n",
            "  inflating: train/6/00006_00009_00008.png  \n",
            "  inflating: train/6/00006_00009_00009.png  \n",
            "  inflating: train/6/00006_00009_00010.png  \n",
            "  inflating: train/6/00006_00009_00011.png  \n",
            "  inflating: train/6/00006_00009_00012.png  \n",
            "  inflating: train/6/00006_00009_00013.png  \n",
            "  inflating: train/6/00006_00009_00014.png  \n",
            "  inflating: train/6/00006_00009_00015.png  \n",
            "  inflating: train/6/00006_00009_00016.png  \n",
            "  inflating: train/6/00006_00009_00017.png  \n",
            "  inflating: train/6/00006_00009_00018.png  \n",
            "  inflating: train/6/00006_00009_00019.png  \n",
            "  inflating: train/6/00006_00009_00020.png  \n",
            "  inflating: train/6/00006_00009_00021.png  \n",
            "  inflating: train/6/00006_00009_00022.png  \n",
            "  inflating: train/6/00006_00009_00023.png  \n",
            "  inflating: train/6/00006_00009_00024.png  \n",
            "  inflating: train/6/00006_00009_00025.png  \n",
            "  inflating: train/6/00006_00009_00026.png  \n",
            "  inflating: train/6/00006_00009_00027.png  \n",
            "  inflating: train/6/00006_00009_00028.png  \n",
            "  inflating: train/6/00006_00009_00029.png  \n",
            "  inflating: train/6/00006_00010_00000.png  \n",
            "  inflating: train/6/00006_00010_00001.png  \n",
            "  inflating: train/6/00006_00010_00002.png  \n",
            "  inflating: train/6/00006_00010_00003.png  \n",
            "  inflating: train/6/00006_00010_00004.png  \n",
            "  inflating: train/6/00006_00010_00005.png  \n",
            "  inflating: train/6/00006_00010_00006.png  \n",
            "  inflating: train/6/00006_00010_00007.png  \n",
            "  inflating: train/6/00006_00010_00008.png  \n",
            "  inflating: train/6/00006_00010_00009.png  \n",
            "  inflating: train/6/00006_00010_00010.png  \n",
            "  inflating: train/6/00006_00010_00011.png  \n",
            "  inflating: train/6/00006_00010_00012.png  \n",
            "  inflating: train/6/00006_00010_00013.png  \n",
            "  inflating: train/6/00006_00010_00014.png  \n",
            "  inflating: train/6/00006_00010_00015.png  \n",
            "  inflating: train/6/00006_00010_00016.png  \n",
            "  inflating: train/6/00006_00010_00017.png  \n",
            "  inflating: train/6/00006_00010_00018.png  \n",
            "  inflating: train/6/00006_00010_00019.png  \n",
            "  inflating: train/6/00006_00010_00020.png  \n",
            "  inflating: train/6/00006_00010_00021.png  \n",
            "  inflating: train/6/00006_00010_00022.png  \n",
            "  inflating: train/6/00006_00010_00023.png  \n",
            "  inflating: train/6/00006_00010_00024.png  \n",
            "  inflating: train/6/00006_00010_00025.png  \n",
            "  inflating: train/6/00006_00010_00026.png  \n",
            "  inflating: train/6/00006_00010_00027.png  \n",
            "  inflating: train/6/00006_00010_00028.png  \n",
            "  inflating: train/6/00006_00010_00029.png  \n",
            "  inflating: train/6/00006_00011_00000.png  \n",
            "  inflating: train/6/00006_00011_00001.png  \n",
            "  inflating: train/6/00006_00011_00002.png  \n",
            "  inflating: train/6/00006_00011_00003.png  \n",
            "  inflating: train/6/00006_00011_00004.png  \n",
            "  inflating: train/6/00006_00011_00005.png  \n",
            "  inflating: train/6/00006_00011_00006.png  \n",
            "  inflating: train/6/00006_00011_00007.png  \n",
            "  inflating: train/6/00006_00011_00008.png  \n",
            "  inflating: train/6/00006_00011_00009.png  \n",
            "  inflating: train/6/00006_00011_00010.png  \n",
            "  inflating: train/6/00006_00011_00011.png  \n",
            "  inflating: train/6/00006_00011_00012.png  \n",
            "  inflating: train/6/00006_00011_00013.png  \n",
            "  inflating: train/6/00006_00011_00014.png  \n",
            "  inflating: train/6/00006_00011_00015.png  \n",
            "  inflating: train/6/00006_00011_00016.png  \n",
            "  inflating: train/6/00006_00011_00017.png  \n",
            "  inflating: train/6/00006_00011_00018.png  \n",
            "  inflating: train/6/00006_00011_00019.png  \n",
            "  inflating: train/6/00006_00011_00020.png  \n",
            "  inflating: train/6/00006_00011_00021.png  \n",
            "  inflating: train/6/00006_00011_00022.png  \n",
            "  inflating: train/6/00006_00011_00023.png  \n",
            "  inflating: train/6/00006_00011_00024.png  \n",
            "  inflating: train/6/00006_00011_00025.png  \n",
            "  inflating: train/6/00006_00011_00026.png  \n",
            "  inflating: train/6/00006_00011_00027.png  \n",
            "  inflating: train/6/00006_00011_00028.png  \n",
            "  inflating: train/6/00006_00011_00029.png  \n",
            "  inflating: train/6/00006_00012_00000.png  \n",
            "  inflating: train/6/00006_00012_00001.png  \n",
            "  inflating: train/6/00006_00012_00002.png  \n",
            "  inflating: train/6/00006_00012_00003.png  \n",
            "  inflating: train/6/00006_00012_00004.png  \n",
            "  inflating: train/6/00006_00012_00005.png  \n",
            "  inflating: train/6/00006_00012_00006.png  \n",
            "  inflating: train/6/00006_00012_00007.png  \n",
            "  inflating: train/6/00006_00012_00008.png  \n",
            "  inflating: train/6/00006_00012_00009.png  \n",
            "  inflating: train/6/00006_00012_00010.png  \n",
            "  inflating: train/6/00006_00012_00011.png  \n",
            "  inflating: train/6/00006_00012_00012.png  \n",
            "  inflating: train/6/00006_00012_00013.png  \n",
            "  inflating: train/6/00006_00012_00014.png  \n",
            "  inflating: train/6/00006_00012_00015.png  \n",
            "  inflating: train/6/00006_00012_00016.png  \n",
            "  inflating: train/6/00006_00012_00017.png  \n",
            "  inflating: train/6/00006_00012_00018.png  \n",
            "  inflating: train/6/00006_00012_00019.png  \n",
            "  inflating: train/6/00006_00012_00020.png  \n",
            "  inflating: train/6/00006_00012_00021.png  \n",
            "  inflating: train/6/00006_00012_00022.png  \n",
            "  inflating: train/6/00006_00012_00023.png  \n",
            "  inflating: train/6/00006_00012_00024.png  \n",
            "  inflating: train/6/00006_00012_00025.png  \n",
            "  inflating: train/6/00006_00012_00026.png  \n",
            "  inflating: train/6/00006_00012_00027.png  \n",
            "  inflating: train/6/00006_00012_00028.png  \n",
            "  inflating: train/6/00006_00012_00029.png  \n",
            "  inflating: train/6/00006_00013_00000.png  \n",
            "  inflating: train/6/00006_00013_00001.png  \n",
            "  inflating: train/6/00006_00013_00002.png  \n",
            "  inflating: train/6/00006_00013_00003.png  \n",
            "  inflating: train/6/00006_00013_00004.png  \n",
            "  inflating: train/6/00006_00013_00005.png  \n",
            "  inflating: train/6/00006_00013_00006.png  \n",
            "  inflating: train/6/00006_00013_00007.png  \n",
            "  inflating: train/6/00006_00013_00008.png  \n",
            "  inflating: train/6/00006_00013_00009.png  \n",
            "  inflating: train/6/00006_00013_00010.png  \n",
            "  inflating: train/6/00006_00013_00011.png  \n",
            "  inflating: train/6/00006_00013_00012.png  \n",
            "  inflating: train/6/00006_00013_00013.png  \n",
            "  inflating: train/6/00006_00013_00014.png  \n",
            "  inflating: train/6/00006_00013_00015.png  \n",
            "  inflating: train/6/00006_00013_00016.png  \n",
            "  inflating: train/6/00006_00013_00017.png  \n",
            "  inflating: train/6/00006_00013_00018.png  \n",
            "  inflating: train/6/00006_00013_00019.png  \n",
            "  inflating: train/6/00006_00013_00020.png  \n",
            "  inflating: train/6/00006_00013_00021.png  \n",
            "  inflating: train/6/00006_00013_00022.png  \n",
            "  inflating: train/6/00006_00013_00023.png  \n",
            "  inflating: train/6/00006_00013_00024.png  \n",
            "  inflating: train/6/00006_00013_00025.png  \n",
            "  inflating: train/6/00006_00013_00026.png  \n",
            "  inflating: train/6/00006_00013_00027.png  \n",
            "  inflating: train/6/00006_00013_00028.png  \n",
            "  inflating: train/6/00006_00013_00029.png  \n",
            "  inflating: train/7/00007_00000_00000.png  \n",
            "  inflating: train/7/00007_00000_00001.png  \n",
            "  inflating: train/7/00007_00000_00002.png  \n",
            "  inflating: train/7/00007_00000_00003.png  \n",
            "  inflating: train/7/00007_00000_00004.png  \n",
            "  inflating: train/7/00007_00000_00005.png  \n",
            "  inflating: train/7/00007_00000_00006.png  \n",
            "  inflating: train/7/00007_00000_00007.png  \n",
            "  inflating: train/7/00007_00000_00008.png  \n",
            "  inflating: train/7/00007_00000_00009.png  \n",
            "  inflating: train/7/00007_00000_00010.png  \n",
            "  inflating: train/7/00007_00000_00011.png  \n",
            "  inflating: train/7/00007_00000_00012.png  \n",
            "  inflating: train/7/00007_00000_00013.png  \n",
            "  inflating: train/7/00007_00000_00014.png  \n",
            "  inflating: train/7/00007_00000_00015.png  \n",
            "  inflating: train/7/00007_00000_00016.png  \n",
            "  inflating: train/7/00007_00000_00017.png  \n",
            "  inflating: train/7/00007_00000_00018.png  \n",
            "  inflating: train/7/00007_00000_00019.png  \n",
            "  inflating: train/7/00007_00000_00020.png  \n",
            "  inflating: train/7/00007_00000_00021.png  \n",
            "  inflating: train/7/00007_00000_00022.png  \n",
            "  inflating: train/7/00007_00000_00023.png  \n",
            "  inflating: train/7/00007_00000_00024.png  \n",
            "  inflating: train/7/00007_00000_00025.png  \n",
            "  inflating: train/7/00007_00000_00026.png  \n",
            "  inflating: train/7/00007_00000_00027.png  \n",
            "  inflating: train/7/00007_00000_00028.png  \n",
            "  inflating: train/7/00007_00000_00029.png  \n",
            "  inflating: train/7/00007_00001_00000.png  \n",
            "  inflating: train/7/00007_00001_00001.png  \n",
            "  inflating: train/7/00007_00001_00002.png  \n",
            "  inflating: train/7/00007_00001_00003.png  \n",
            "  inflating: train/7/00007_00001_00004.png  \n",
            "  inflating: train/7/00007_00001_00005.png  \n",
            "  inflating: train/7/00007_00001_00006.png  \n",
            "  inflating: train/7/00007_00001_00007.png  \n",
            "  inflating: train/7/00007_00001_00008.png  \n",
            "  inflating: train/7/00007_00001_00009.png  \n",
            "  inflating: train/7/00007_00001_00010.png  \n",
            "  inflating: train/7/00007_00001_00011.png  \n",
            "  inflating: train/7/00007_00001_00012.png  \n",
            "  inflating: train/7/00007_00001_00013.png  \n",
            "  inflating: train/7/00007_00001_00014.png  \n",
            "  inflating: train/7/00007_00001_00015.png  \n",
            "  inflating: train/7/00007_00001_00016.png  \n",
            "  inflating: train/7/00007_00001_00017.png  \n",
            "  inflating: train/7/00007_00001_00018.png  \n",
            "  inflating: train/7/00007_00001_00019.png  \n",
            "  inflating: train/7/00007_00001_00020.png  \n",
            "  inflating: train/7/00007_00001_00021.png  \n",
            "  inflating: train/7/00007_00001_00022.png  \n",
            "  inflating: train/7/00007_00001_00023.png  \n",
            "  inflating: train/7/00007_00001_00024.png  \n",
            "  inflating: train/7/00007_00001_00025.png  \n",
            "  inflating: train/7/00007_00001_00026.png  \n",
            "  inflating: train/7/00007_00001_00027.png  \n",
            "  inflating: train/7/00007_00001_00028.png  \n",
            "  inflating: train/7/00007_00001_00029.png  \n",
            "  inflating: train/7/00007_00002_00000.png  \n",
            "  inflating: train/7/00007_00002_00001.png  \n",
            "  inflating: train/7/00007_00002_00002.png  \n",
            "  inflating: train/7/00007_00002_00003.png  \n",
            "  inflating: train/7/00007_00002_00004.png  \n",
            "  inflating: train/7/00007_00002_00005.png  \n",
            "  inflating: train/7/00007_00002_00006.png  \n",
            "  inflating: train/7/00007_00002_00007.png  \n",
            "  inflating: train/7/00007_00002_00008.png  \n",
            "  inflating: train/7/00007_00002_00009.png  \n",
            "  inflating: train/7/00007_00002_00010.png  \n",
            "  inflating: train/7/00007_00002_00011.png  \n",
            "  inflating: train/7/00007_00002_00012.png  \n",
            "  inflating: train/7/00007_00002_00013.png  \n",
            "  inflating: train/7/00007_00002_00014.png  \n",
            "  inflating: train/7/00007_00002_00015.png  \n",
            "  inflating: train/7/00007_00002_00016.png  \n",
            "  inflating: train/7/00007_00002_00017.png  \n",
            "  inflating: train/7/00007_00002_00018.png  \n",
            "  inflating: train/7/00007_00002_00019.png  \n",
            "  inflating: train/7/00007_00002_00020.png  \n",
            "  inflating: train/7/00007_00002_00021.png  \n",
            "  inflating: train/7/00007_00002_00022.png  \n",
            "  inflating: train/7/00007_00002_00023.png  \n",
            "  inflating: train/7/00007_00002_00024.png  \n",
            "  inflating: train/7/00007_00002_00025.png  \n",
            "  inflating: train/7/00007_00002_00026.png  \n",
            "  inflating: train/7/00007_00002_00027.png  \n",
            "  inflating: train/7/00007_00002_00028.png  \n",
            "  inflating: train/7/00007_00002_00029.png  \n",
            "  inflating: train/7/00007_00003_00000.png  \n",
            "  inflating: train/7/00007_00003_00001.png  \n",
            "  inflating: train/7/00007_00003_00002.png  \n",
            "  inflating: train/7/00007_00003_00003.png  \n",
            "  inflating: train/7/00007_00003_00004.png  \n",
            "  inflating: train/7/00007_00003_00005.png  \n",
            "  inflating: train/7/00007_00003_00006.png  \n",
            "  inflating: train/7/00007_00003_00007.png  \n",
            "  inflating: train/7/00007_00003_00008.png  \n",
            "  inflating: train/7/00007_00003_00009.png  \n",
            "  inflating: train/7/00007_00003_00010.png  \n",
            "  inflating: train/7/00007_00003_00011.png  \n",
            "  inflating: train/7/00007_00003_00012.png  \n",
            "  inflating: train/7/00007_00003_00013.png  \n",
            "  inflating: train/7/00007_00003_00014.png  \n",
            "  inflating: train/7/00007_00003_00015.png  \n",
            "  inflating: train/7/00007_00003_00016.png  \n",
            "  inflating: train/7/00007_00003_00017.png  \n",
            "  inflating: train/7/00007_00003_00018.png  \n",
            "  inflating: train/7/00007_00003_00019.png  \n",
            "  inflating: train/7/00007_00003_00020.png  \n",
            "  inflating: train/7/00007_00003_00021.png  \n",
            "  inflating: train/7/00007_00003_00022.png  \n",
            "  inflating: train/7/00007_00003_00023.png  \n",
            "  inflating: train/7/00007_00003_00024.png  \n",
            "  inflating: train/7/00007_00003_00025.png  \n",
            "  inflating: train/7/00007_00003_00026.png  \n",
            "  inflating: train/7/00007_00003_00027.png  \n",
            "  inflating: train/7/00007_00003_00028.png  \n",
            "  inflating: train/7/00007_00003_00029.png  \n",
            "  inflating: train/7/00007_00004_00000.png  \n",
            "  inflating: train/7/00007_00004_00001.png  \n",
            "  inflating: train/7/00007_00004_00002.png  \n",
            "  inflating: train/7/00007_00004_00003.png  \n",
            "  inflating: train/7/00007_00004_00004.png  \n",
            "  inflating: train/7/00007_00004_00005.png  \n",
            "  inflating: train/7/00007_00004_00006.png  \n",
            "  inflating: train/7/00007_00004_00007.png  \n",
            "  inflating: train/7/00007_00004_00008.png  \n",
            "  inflating: train/7/00007_00004_00009.png  \n",
            "  inflating: train/7/00007_00004_00010.png  \n",
            "  inflating: train/7/00007_00004_00011.png  \n",
            "  inflating: train/7/00007_00004_00012.png  \n",
            "  inflating: train/7/00007_00004_00013.png  \n",
            "  inflating: train/7/00007_00004_00014.png  \n",
            "  inflating: train/7/00007_00004_00015.png  \n",
            "  inflating: train/7/00007_00004_00016.png  \n",
            "  inflating: train/7/00007_00004_00017.png  \n",
            "  inflating: train/7/00007_00004_00018.png  \n",
            "  inflating: train/7/00007_00004_00019.png  \n",
            "  inflating: train/7/00007_00004_00020.png  \n",
            "  inflating: train/7/00007_00004_00021.png  \n",
            "  inflating: train/7/00007_00004_00022.png  \n",
            "  inflating: train/7/00007_00004_00023.png  \n",
            "  inflating: train/7/00007_00004_00024.png  \n",
            "  inflating: train/7/00007_00004_00025.png  \n",
            "  inflating: train/7/00007_00004_00026.png  \n",
            "  inflating: train/7/00007_00004_00027.png  \n",
            "  inflating: train/7/00007_00004_00028.png  \n",
            "  inflating: train/7/00007_00004_00029.png  \n",
            "  inflating: train/7/00007_00005_00000.png  \n",
            "  inflating: train/7/00007_00005_00001.png  \n",
            "  inflating: train/7/00007_00005_00002.png  \n",
            "  inflating: train/7/00007_00005_00003.png  \n",
            "  inflating: train/7/00007_00005_00004.png  \n",
            "  inflating: train/7/00007_00005_00005.png  \n",
            "  inflating: train/7/00007_00005_00006.png  \n",
            "  inflating: train/7/00007_00005_00007.png  \n",
            "  inflating: train/7/00007_00005_00008.png  \n",
            "  inflating: train/7/00007_00005_00009.png  \n",
            "  inflating: train/7/00007_00005_00010.png  \n",
            "  inflating: train/7/00007_00005_00011.png  \n",
            "  inflating: train/7/00007_00005_00012.png  \n",
            "  inflating: train/7/00007_00005_00013.png  \n",
            "  inflating: train/7/00007_00005_00014.png  \n",
            "  inflating: train/7/00007_00005_00015.png  \n",
            "  inflating: train/7/00007_00005_00016.png  \n",
            "  inflating: train/7/00007_00005_00017.png  \n",
            "  inflating: train/7/00007_00005_00018.png  \n",
            "  inflating: train/7/00007_00005_00019.png  \n",
            "  inflating: train/7/00007_00005_00020.png  \n",
            "  inflating: train/7/00007_00005_00021.png  \n",
            "  inflating: train/7/00007_00005_00022.png  \n",
            "  inflating: train/7/00007_00005_00023.png  \n",
            "  inflating: train/7/00007_00005_00024.png  \n",
            "  inflating: train/7/00007_00005_00025.png  \n",
            "  inflating: train/7/00007_00005_00026.png  \n",
            "  inflating: train/7/00007_00005_00027.png  \n",
            "  inflating: train/7/00007_00005_00028.png  \n",
            "  inflating: train/7/00007_00005_00029.png  \n",
            "  inflating: train/7/00007_00006_00000.png  \n",
            "  inflating: train/7/00007_00006_00001.png  \n",
            "  inflating: train/7/00007_00006_00002.png  \n",
            "  inflating: train/7/00007_00006_00003.png  \n",
            "  inflating: train/7/00007_00006_00004.png  \n",
            "  inflating: train/7/00007_00006_00005.png  \n",
            "  inflating: train/7/00007_00006_00006.png  \n",
            "  inflating: train/7/00007_00006_00007.png  \n",
            "  inflating: train/7/00007_00006_00008.png  \n",
            "  inflating: train/7/00007_00006_00009.png  \n",
            "  inflating: train/7/00007_00006_00010.png  \n",
            "  inflating: train/7/00007_00006_00011.png  \n",
            "  inflating: train/7/00007_00006_00012.png  \n",
            "  inflating: train/7/00007_00006_00013.png  \n",
            "  inflating: train/7/00007_00006_00014.png  \n",
            "  inflating: train/7/00007_00006_00015.png  \n",
            "  inflating: train/7/00007_00006_00016.png  \n",
            "  inflating: train/7/00007_00006_00017.png  \n",
            "  inflating: train/7/00007_00006_00018.png  \n",
            "  inflating: train/7/00007_00006_00019.png  \n",
            "  inflating: train/7/00007_00006_00020.png  \n",
            "  inflating: train/7/00007_00006_00021.png  \n",
            "  inflating: train/7/00007_00006_00022.png  \n",
            "  inflating: train/7/00007_00006_00023.png  \n",
            "  inflating: train/7/00007_00006_00024.png  \n",
            "  inflating: train/7/00007_00006_00025.png  \n",
            "  inflating: train/7/00007_00006_00026.png  \n",
            "  inflating: train/7/00007_00006_00027.png  \n",
            "  inflating: train/7/00007_00006_00028.png  \n",
            "  inflating: train/7/00007_00006_00029.png  \n",
            "  inflating: train/7/00007_00007_00000.png  \n",
            "  inflating: train/7/00007_00007_00001.png  \n",
            "  inflating: train/7/00007_00007_00002.png  \n",
            "  inflating: train/7/00007_00007_00003.png  \n",
            "  inflating: train/7/00007_00007_00004.png  \n",
            "  inflating: train/7/00007_00007_00005.png  \n",
            "  inflating: train/7/00007_00007_00006.png  \n",
            "  inflating: train/7/00007_00007_00007.png  \n",
            "  inflating: train/7/00007_00007_00008.png  \n",
            "  inflating: train/7/00007_00007_00009.png  \n",
            "  inflating: train/7/00007_00007_00010.png  \n",
            "  inflating: train/7/00007_00007_00011.png  \n",
            "  inflating: train/7/00007_00007_00012.png  \n",
            "  inflating: train/7/00007_00007_00013.png  \n",
            "  inflating: train/7/00007_00007_00014.png  \n",
            "  inflating: train/7/00007_00007_00015.png  \n",
            "  inflating: train/7/00007_00007_00016.png  \n",
            "  inflating: train/7/00007_00007_00017.png  \n",
            "  inflating: train/7/00007_00007_00018.png  \n",
            "  inflating: train/7/00007_00007_00019.png  \n",
            "  inflating: train/7/00007_00007_00020.png  \n",
            "  inflating: train/7/00007_00007_00021.png  \n",
            "  inflating: train/7/00007_00007_00022.png  \n",
            "  inflating: train/7/00007_00007_00023.png  \n",
            "  inflating: train/7/00007_00007_00024.png  \n",
            "  inflating: train/7/00007_00007_00025.png  \n",
            "  inflating: train/7/00007_00007_00026.png  \n",
            "  inflating: train/7/00007_00007_00027.png  \n",
            "  inflating: train/7/00007_00007_00028.png  \n",
            "  inflating: train/7/00007_00007_00029.png  \n",
            "  inflating: train/7/00007_00008_00000.png  \n",
            "  inflating: train/7/00007_00008_00001.png  \n",
            "  inflating: train/7/00007_00008_00002.png  \n",
            "  inflating: train/7/00007_00008_00003.png  \n",
            "  inflating: train/7/00007_00008_00004.png  \n",
            "  inflating: train/7/00007_00008_00005.png  \n",
            "  inflating: train/7/00007_00008_00006.png  \n",
            "  inflating: train/7/00007_00008_00007.png  \n",
            "  inflating: train/7/00007_00008_00008.png  \n",
            "  inflating: train/7/00007_00008_00009.png  \n",
            "  inflating: train/7/00007_00008_00010.png  \n",
            "  inflating: train/7/00007_00008_00011.png  \n",
            "  inflating: train/7/00007_00008_00012.png  \n",
            "  inflating: train/7/00007_00008_00013.png  \n",
            "  inflating: train/7/00007_00008_00014.png  \n",
            "  inflating: train/7/00007_00008_00015.png  \n",
            "  inflating: train/7/00007_00008_00016.png  \n",
            "  inflating: train/7/00007_00008_00017.png  \n",
            "  inflating: train/7/00007_00008_00018.png  \n",
            "  inflating: train/7/00007_00008_00019.png  \n",
            "  inflating: train/7/00007_00008_00020.png  \n",
            "  inflating: train/7/00007_00008_00021.png  \n",
            "  inflating: train/7/00007_00008_00022.png  \n",
            "  inflating: train/7/00007_00008_00023.png  \n",
            "  inflating: train/7/00007_00008_00024.png  \n",
            "  inflating: train/7/00007_00008_00025.png  \n",
            "  inflating: train/7/00007_00008_00026.png  \n",
            "  inflating: train/7/00007_00008_00027.png  \n",
            "  inflating: train/7/00007_00008_00028.png  \n",
            "  inflating: train/7/00007_00008_00029.png  \n",
            "  inflating: train/7/00007_00009_00000.png  \n",
            "  inflating: train/7/00007_00009_00001.png  \n",
            "  inflating: train/7/00007_00009_00002.png  \n",
            "  inflating: train/7/00007_00009_00003.png  \n",
            "  inflating: train/7/00007_00009_00004.png  \n",
            "  inflating: train/7/00007_00009_00005.png  \n",
            "  inflating: train/7/00007_00009_00006.png  \n",
            "  inflating: train/7/00007_00009_00007.png  \n",
            "  inflating: train/7/00007_00009_00008.png  \n",
            "  inflating: train/7/00007_00009_00009.png  \n",
            "  inflating: train/7/00007_00009_00010.png  \n",
            "  inflating: train/7/00007_00009_00011.png  \n",
            "  inflating: train/7/00007_00009_00012.png  \n",
            "  inflating: train/7/00007_00009_00013.png  \n",
            "  inflating: train/7/00007_00009_00014.png  \n",
            "  inflating: train/7/00007_00009_00015.png  \n",
            "  inflating: train/7/00007_00009_00016.png  \n",
            "  inflating: train/7/00007_00009_00017.png  \n",
            "  inflating: train/7/00007_00009_00018.png  \n",
            "  inflating: train/7/00007_00009_00019.png  \n",
            "  inflating: train/7/00007_00009_00020.png  \n",
            "  inflating: train/7/00007_00009_00021.png  \n",
            "  inflating: train/7/00007_00009_00022.png  \n",
            "  inflating: train/7/00007_00009_00023.png  \n",
            "  inflating: train/7/00007_00009_00024.png  \n",
            "  inflating: train/7/00007_00009_00025.png  \n",
            "  inflating: train/7/00007_00009_00026.png  \n",
            "  inflating: train/7/00007_00009_00027.png  \n",
            "  inflating: train/7/00007_00009_00028.png  \n",
            "  inflating: train/7/00007_00009_00029.png  \n",
            "  inflating: train/7/00007_00010_00000.png  \n",
            "  inflating: train/7/00007_00010_00001.png  \n",
            "  inflating: train/7/00007_00010_00002.png  \n",
            "  inflating: train/7/00007_00010_00003.png  \n",
            "  inflating: train/7/00007_00010_00004.png  \n",
            "  inflating: train/7/00007_00010_00005.png  \n",
            "  inflating: train/7/00007_00010_00006.png  \n",
            "  inflating: train/7/00007_00010_00007.png  \n",
            "  inflating: train/7/00007_00010_00008.png  \n",
            "  inflating: train/7/00007_00010_00009.png  \n",
            "  inflating: train/7/00007_00010_00010.png  \n",
            "  inflating: train/7/00007_00010_00011.png  \n",
            "  inflating: train/7/00007_00010_00012.png  \n",
            "  inflating: train/7/00007_00010_00013.png  \n",
            "  inflating: train/7/00007_00010_00014.png  \n",
            "  inflating: train/7/00007_00010_00015.png  \n",
            "  inflating: train/7/00007_00010_00016.png  \n",
            "  inflating: train/7/00007_00010_00017.png  \n",
            "  inflating: train/7/00007_00010_00018.png  \n",
            "  inflating: train/7/00007_00010_00019.png  \n",
            "  inflating: train/7/00007_00010_00020.png  \n",
            "  inflating: train/7/00007_00010_00021.png  \n",
            "  inflating: train/7/00007_00010_00022.png  \n",
            "  inflating: train/7/00007_00010_00023.png  \n",
            "  inflating: train/7/00007_00010_00024.png  \n",
            "  inflating: train/7/00007_00010_00025.png  \n",
            "  inflating: train/7/00007_00010_00026.png  \n",
            "  inflating: train/7/00007_00010_00027.png  \n",
            "  inflating: train/7/00007_00010_00028.png  \n",
            "  inflating: train/7/00007_00010_00029.png  \n",
            "  inflating: train/7/00007_00011_00000.png  \n",
            "  inflating: train/7/00007_00011_00001.png  \n",
            "  inflating: train/7/00007_00011_00002.png  \n",
            "  inflating: train/7/00007_00011_00003.png  \n",
            "  inflating: train/7/00007_00011_00004.png  \n",
            "  inflating: train/7/00007_00011_00005.png  \n",
            "  inflating: train/7/00007_00011_00006.png  \n",
            "  inflating: train/7/00007_00011_00007.png  \n",
            "  inflating: train/7/00007_00011_00008.png  \n",
            "  inflating: train/7/00007_00011_00009.png  \n",
            "  inflating: train/7/00007_00011_00010.png  \n",
            "  inflating: train/7/00007_00011_00011.png  \n",
            "  inflating: train/7/00007_00011_00012.png  \n",
            "  inflating: train/7/00007_00011_00013.png  \n",
            "  inflating: train/7/00007_00011_00014.png  \n",
            "  inflating: train/7/00007_00011_00015.png  \n",
            "  inflating: train/7/00007_00011_00016.png  \n",
            "  inflating: train/7/00007_00011_00017.png  \n",
            "  inflating: train/7/00007_00011_00018.png  \n",
            "  inflating: train/7/00007_00011_00019.png  \n",
            "  inflating: train/7/00007_00011_00020.png  \n",
            "  inflating: train/7/00007_00011_00021.png  \n",
            "  inflating: train/7/00007_00011_00022.png  \n",
            "  inflating: train/7/00007_00011_00023.png  \n",
            "  inflating: train/7/00007_00011_00024.png  \n",
            "  inflating: train/7/00007_00011_00025.png  \n",
            "  inflating: train/7/00007_00011_00026.png  \n",
            "  inflating: train/7/00007_00011_00027.png  \n",
            "  inflating: train/7/00007_00011_00028.png  \n",
            "  inflating: train/7/00007_00011_00029.png  \n",
            "  inflating: train/7/00007_00012_00000.png  \n",
            "  inflating: train/7/00007_00012_00001.png  \n",
            "  inflating: train/7/00007_00012_00002.png  \n",
            "  inflating: train/7/00007_00012_00003.png  \n",
            "  inflating: train/7/00007_00012_00004.png  \n",
            "  inflating: train/7/00007_00012_00005.png  \n",
            "  inflating: train/7/00007_00012_00006.png  \n",
            "  inflating: train/7/00007_00012_00007.png  \n",
            "  inflating: train/7/00007_00012_00008.png  \n",
            "  inflating: train/7/00007_00012_00009.png  \n",
            "  inflating: train/7/00007_00012_00010.png  \n",
            "  inflating: train/7/00007_00012_00011.png  \n",
            "  inflating: train/7/00007_00012_00012.png  \n",
            "  inflating: train/7/00007_00012_00013.png  \n",
            "  inflating: train/7/00007_00012_00014.png  \n",
            "  inflating: train/7/00007_00012_00015.png  \n",
            "  inflating: train/7/00007_00012_00016.png  \n",
            "  inflating: train/7/00007_00012_00017.png  \n",
            "  inflating: train/7/00007_00012_00018.png  \n",
            "  inflating: train/7/00007_00012_00019.png  \n",
            "  inflating: train/7/00007_00012_00020.png  \n",
            "  inflating: train/7/00007_00012_00021.png  \n",
            "  inflating: train/7/00007_00012_00022.png  \n",
            "  inflating: train/7/00007_00012_00023.png  \n",
            "  inflating: train/7/00007_00012_00024.png  \n",
            "  inflating: train/7/00007_00012_00025.png  \n",
            "  inflating: train/7/00007_00012_00026.png  \n",
            "  inflating: train/7/00007_00012_00027.png  \n",
            "  inflating: train/7/00007_00012_00028.png  \n",
            "  inflating: train/7/00007_00012_00029.png  \n",
            "  inflating: train/7/00007_00013_00000.png  \n",
            "  inflating: train/7/00007_00013_00001.png  \n",
            "  inflating: train/7/00007_00013_00002.png  \n",
            "  inflating: train/7/00007_00013_00003.png  \n",
            "  inflating: train/7/00007_00013_00004.png  \n",
            "  inflating: train/7/00007_00013_00005.png  \n",
            "  inflating: train/7/00007_00013_00006.png  \n",
            "  inflating: train/7/00007_00013_00007.png  \n",
            "  inflating: train/7/00007_00013_00008.png  \n",
            "  inflating: train/7/00007_00013_00009.png  \n",
            "  inflating: train/7/00007_00013_00010.png  \n",
            "  inflating: train/7/00007_00013_00011.png  \n",
            "  inflating: train/7/00007_00013_00012.png  \n",
            "  inflating: train/7/00007_00013_00013.png  \n",
            "  inflating: train/7/00007_00013_00014.png  \n",
            "  inflating: train/7/00007_00013_00015.png  \n",
            "  inflating: train/7/00007_00013_00016.png  \n",
            "  inflating: train/7/00007_00013_00017.png  \n",
            "  inflating: train/7/00007_00013_00018.png  \n",
            "  inflating: train/7/00007_00013_00019.png  \n",
            "  inflating: train/7/00007_00013_00020.png  \n",
            "  inflating: train/7/00007_00013_00021.png  \n",
            "  inflating: train/7/00007_00013_00022.png  \n",
            "  inflating: train/7/00007_00013_00023.png  \n",
            "  inflating: train/7/00007_00013_00024.png  \n",
            "  inflating: train/7/00007_00013_00025.png  \n",
            "  inflating: train/7/00007_00013_00026.png  \n",
            "  inflating: train/7/00007_00013_00027.png  \n",
            "  inflating: train/7/00007_00013_00028.png  \n",
            "  inflating: train/7/00007_00013_00029.png  \n",
            "  inflating: train/7/00007_00014_00000.png  \n",
            "  inflating: train/7/00007_00014_00001.png  \n",
            "  inflating: train/7/00007_00014_00002.png  \n",
            "  inflating: train/7/00007_00014_00003.png  \n",
            "  inflating: train/7/00007_00014_00004.png  \n",
            "  inflating: train/7/00007_00014_00005.png  \n",
            "  inflating: train/7/00007_00014_00006.png  \n",
            "  inflating: train/7/00007_00014_00007.png  \n",
            "  inflating: train/7/00007_00014_00008.png  \n",
            "  inflating: train/7/00007_00014_00009.png  \n",
            "  inflating: train/7/00007_00014_00010.png  \n",
            "  inflating: train/7/00007_00014_00011.png  \n",
            "  inflating: train/7/00007_00014_00012.png  \n",
            "  inflating: train/7/00007_00014_00013.png  \n",
            "  inflating: train/7/00007_00014_00014.png  \n",
            "  inflating: train/7/00007_00014_00015.png  \n",
            "  inflating: train/7/00007_00014_00016.png  \n",
            "  inflating: train/7/00007_00014_00017.png  \n",
            "  inflating: train/7/00007_00014_00018.png  \n",
            "  inflating: train/7/00007_00014_00019.png  \n",
            "  inflating: train/7/00007_00014_00020.png  \n",
            "  inflating: train/7/00007_00014_00021.png  \n",
            "  inflating: train/7/00007_00014_00022.png  \n",
            "  inflating: train/7/00007_00014_00023.png  \n",
            "  inflating: train/7/00007_00014_00024.png  \n",
            "  inflating: train/7/00007_00014_00025.png  \n",
            "  inflating: train/7/00007_00014_00026.png  \n",
            "  inflating: train/7/00007_00014_00027.png  \n",
            "  inflating: train/7/00007_00014_00028.png  \n",
            "  inflating: train/7/00007_00014_00029.png  \n",
            "  inflating: train/7/00007_00015_00000.png  \n",
            "  inflating: train/7/00007_00015_00001.png  \n",
            "  inflating: train/7/00007_00015_00002.png  \n",
            "  inflating: train/7/00007_00015_00003.png  \n",
            "  inflating: train/7/00007_00015_00004.png  \n",
            "  inflating: train/7/00007_00015_00005.png  \n",
            "  inflating: train/7/00007_00015_00006.png  \n",
            "  inflating: train/7/00007_00015_00007.png  \n",
            "  inflating: train/7/00007_00015_00008.png  \n",
            "  inflating: train/7/00007_00015_00009.png  \n",
            "  inflating: train/7/00007_00015_00010.png  \n",
            "  inflating: train/7/00007_00015_00011.png  \n",
            "  inflating: train/7/00007_00015_00012.png  \n",
            "  inflating: train/7/00007_00015_00013.png  \n",
            "  inflating: train/7/00007_00015_00014.png  \n",
            "  inflating: train/7/00007_00015_00015.png  \n",
            "  inflating: train/7/00007_00015_00016.png  \n",
            "  inflating: train/7/00007_00015_00017.png  \n",
            "  inflating: train/7/00007_00015_00018.png  \n",
            "  inflating: train/7/00007_00015_00019.png  \n",
            "  inflating: train/7/00007_00015_00020.png  \n",
            "  inflating: train/7/00007_00015_00021.png  \n",
            "  inflating: train/7/00007_00015_00022.png  \n",
            "  inflating: train/7/00007_00015_00023.png  \n",
            "  inflating: train/7/00007_00015_00024.png  \n",
            "  inflating: train/7/00007_00015_00025.png  \n",
            "  inflating: train/7/00007_00015_00026.png  \n",
            "  inflating: train/7/00007_00015_00027.png  \n",
            "  inflating: train/7/00007_00015_00028.png  \n",
            "  inflating: train/7/00007_00015_00029.png  \n",
            "  inflating: train/7/00007_00016_00000.png  \n",
            "  inflating: train/7/00007_00016_00001.png  \n",
            "  inflating: train/7/00007_00016_00002.png  \n",
            "  inflating: train/7/00007_00016_00003.png  \n",
            "  inflating: train/7/00007_00016_00004.png  \n",
            "  inflating: train/7/00007_00016_00005.png  \n",
            "  inflating: train/7/00007_00016_00006.png  \n",
            "  inflating: train/7/00007_00016_00007.png  \n",
            "  inflating: train/7/00007_00016_00008.png  \n",
            "  inflating: train/7/00007_00016_00009.png  \n",
            "  inflating: train/7/00007_00016_00010.png  \n",
            "  inflating: train/7/00007_00016_00011.png  \n",
            "  inflating: train/7/00007_00016_00012.png  \n",
            "  inflating: train/7/00007_00016_00013.png  \n",
            "  inflating: train/7/00007_00016_00014.png  \n",
            "  inflating: train/7/00007_00016_00015.png  \n",
            "  inflating: train/7/00007_00016_00016.png  \n",
            "  inflating: train/7/00007_00016_00017.png  \n",
            "  inflating: train/7/00007_00016_00018.png  \n",
            "  inflating: train/7/00007_00016_00019.png  \n",
            "  inflating: train/7/00007_00016_00020.png  \n",
            "  inflating: train/7/00007_00016_00021.png  \n",
            "  inflating: train/7/00007_00016_00022.png  \n",
            "  inflating: train/7/00007_00016_00023.png  \n",
            "  inflating: train/7/00007_00016_00024.png  \n",
            "  inflating: train/7/00007_00016_00025.png  \n",
            "  inflating: train/7/00007_00016_00026.png  \n",
            "  inflating: train/7/00007_00016_00027.png  \n",
            "  inflating: train/7/00007_00016_00028.png  \n",
            "  inflating: train/7/00007_00016_00029.png  \n",
            "  inflating: train/7/00007_00017_00000.png  \n",
            "  inflating: train/7/00007_00017_00001.png  \n",
            "  inflating: train/7/00007_00017_00002.png  \n",
            "  inflating: train/7/00007_00017_00003.png  \n",
            "  inflating: train/7/00007_00017_00004.png  \n",
            "  inflating: train/7/00007_00017_00005.png  \n",
            "  inflating: train/7/00007_00017_00006.png  \n",
            "  inflating: train/7/00007_00017_00007.png  \n",
            "  inflating: train/7/00007_00017_00008.png  \n",
            "  inflating: train/7/00007_00017_00009.png  \n",
            "  inflating: train/7/00007_00017_00010.png  \n",
            "  inflating: train/7/00007_00017_00011.png  \n",
            "  inflating: train/7/00007_00017_00012.png  \n",
            "  inflating: train/7/00007_00017_00013.png  \n",
            "  inflating: train/7/00007_00017_00014.png  \n",
            "  inflating: train/7/00007_00017_00015.png  \n",
            "  inflating: train/7/00007_00017_00016.png  \n",
            "  inflating: train/7/00007_00017_00017.png  \n",
            "  inflating: train/7/00007_00017_00018.png  \n",
            "  inflating: train/7/00007_00017_00019.png  \n",
            "  inflating: train/7/00007_00017_00020.png  \n",
            "  inflating: train/7/00007_00017_00021.png  \n",
            "  inflating: train/7/00007_00017_00022.png  \n",
            "  inflating: train/7/00007_00017_00023.png  \n",
            "  inflating: train/7/00007_00017_00024.png  \n",
            "  inflating: train/7/00007_00017_00025.png  \n",
            "  inflating: train/7/00007_00017_00026.png  \n",
            "  inflating: train/7/00007_00017_00027.png  \n",
            "  inflating: train/7/00007_00017_00028.png  \n",
            "  inflating: train/7/00007_00017_00029.png  \n",
            "  inflating: train/7/00007_00018_00000.png  \n",
            "  inflating: train/7/00007_00018_00001.png  \n",
            "  inflating: train/7/00007_00018_00002.png  \n",
            "  inflating: train/7/00007_00018_00003.png  \n",
            "  inflating: train/7/00007_00018_00004.png  \n",
            "  inflating: train/7/00007_00018_00005.png  \n",
            "  inflating: train/7/00007_00018_00006.png  \n",
            "  inflating: train/7/00007_00018_00007.png  \n",
            "  inflating: train/7/00007_00018_00008.png  \n",
            "  inflating: train/7/00007_00018_00009.png  \n",
            "  inflating: train/7/00007_00018_00010.png  \n",
            "  inflating: train/7/00007_00018_00011.png  \n",
            "  inflating: train/7/00007_00018_00012.png  \n",
            "  inflating: train/7/00007_00018_00013.png  \n",
            "  inflating: train/7/00007_00018_00014.png  \n",
            "  inflating: train/7/00007_00018_00015.png  \n",
            "  inflating: train/7/00007_00018_00016.png  \n",
            "  inflating: train/7/00007_00018_00017.png  \n",
            "  inflating: train/7/00007_00018_00018.png  \n",
            "  inflating: train/7/00007_00018_00019.png  \n",
            "  inflating: train/7/00007_00018_00020.png  \n",
            "  inflating: train/7/00007_00018_00021.png  \n",
            "  inflating: train/7/00007_00018_00022.png  \n",
            "  inflating: train/7/00007_00018_00023.png  \n",
            "  inflating: train/7/00007_00018_00024.png  \n",
            "  inflating: train/7/00007_00018_00025.png  \n",
            "  inflating: train/7/00007_00018_00026.png  \n",
            "  inflating: train/7/00007_00018_00027.png  \n",
            "  inflating: train/7/00007_00018_00028.png  \n",
            "  inflating: train/7/00007_00018_00029.png  \n",
            "  inflating: train/7/00007_00019_00000.png  \n",
            "  inflating: train/7/00007_00019_00001.png  \n",
            "  inflating: train/7/00007_00019_00002.png  \n",
            "  inflating: train/7/00007_00019_00003.png  \n",
            "  inflating: train/7/00007_00019_00004.png  \n",
            "  inflating: train/7/00007_00019_00005.png  \n",
            "  inflating: train/7/00007_00019_00006.png  \n",
            "  inflating: train/7/00007_00019_00007.png  \n",
            "  inflating: train/7/00007_00019_00008.png  \n",
            "  inflating: train/7/00007_00019_00009.png  \n",
            "  inflating: train/7/00007_00019_00010.png  \n",
            "  inflating: train/7/00007_00019_00011.png  \n",
            "  inflating: train/7/00007_00019_00012.png  \n",
            "  inflating: train/7/00007_00019_00013.png  \n",
            "  inflating: train/7/00007_00019_00014.png  \n",
            "  inflating: train/7/00007_00019_00015.png  \n",
            "  inflating: train/7/00007_00019_00016.png  \n",
            "  inflating: train/7/00007_00019_00017.png  \n",
            "  inflating: train/7/00007_00019_00018.png  \n",
            "  inflating: train/7/00007_00019_00019.png  \n",
            "  inflating: train/7/00007_00019_00020.png  \n",
            "  inflating: train/7/00007_00019_00021.png  \n",
            "  inflating: train/7/00007_00019_00022.png  \n",
            "  inflating: train/7/00007_00019_00023.png  \n",
            "  inflating: train/7/00007_00019_00024.png  \n",
            "  inflating: train/7/00007_00019_00025.png  \n",
            "  inflating: train/7/00007_00019_00026.png  \n",
            "  inflating: train/7/00007_00019_00027.png  \n",
            "  inflating: train/7/00007_00019_00028.png  \n",
            "  inflating: train/7/00007_00019_00029.png  \n",
            "  inflating: train/7/00007_00020_00000.png  \n",
            "  inflating: train/7/00007_00020_00001.png  \n",
            "  inflating: train/7/00007_00020_00002.png  \n",
            "  inflating: train/7/00007_00020_00003.png  \n",
            "  inflating: train/7/00007_00020_00004.png  \n",
            "  inflating: train/7/00007_00020_00005.png  \n",
            "  inflating: train/7/00007_00020_00006.png  \n",
            "  inflating: train/7/00007_00020_00007.png  \n",
            "  inflating: train/7/00007_00020_00008.png  \n",
            "  inflating: train/7/00007_00020_00009.png  \n",
            "  inflating: train/7/00007_00020_00010.png  \n",
            "  inflating: train/7/00007_00020_00011.png  \n",
            "  inflating: train/7/00007_00020_00012.png  \n",
            "  inflating: train/7/00007_00020_00013.png  \n",
            "  inflating: train/7/00007_00020_00014.png  \n",
            "  inflating: train/7/00007_00020_00015.png  \n",
            "  inflating: train/7/00007_00020_00016.png  \n",
            "  inflating: train/7/00007_00020_00017.png  \n",
            "  inflating: train/7/00007_00020_00018.png  \n",
            "  inflating: train/7/00007_00020_00019.png  \n",
            "  inflating: train/7/00007_00020_00020.png  \n",
            "  inflating: train/7/00007_00020_00021.png  \n",
            "  inflating: train/7/00007_00020_00022.png  \n",
            "  inflating: train/7/00007_00020_00023.png  \n",
            "  inflating: train/7/00007_00020_00024.png  \n",
            "  inflating: train/7/00007_00020_00025.png  \n",
            "  inflating: train/7/00007_00020_00026.png  \n",
            "  inflating: train/7/00007_00020_00027.png  \n",
            "  inflating: train/7/00007_00020_00028.png  \n",
            "  inflating: train/7/00007_00020_00029.png  \n",
            "  inflating: train/7/00007_00021_00000.png  \n",
            "  inflating: train/7/00007_00021_00001.png  \n",
            "  inflating: train/7/00007_00021_00002.png  \n",
            "  inflating: train/7/00007_00021_00003.png  \n",
            "  inflating: train/7/00007_00021_00004.png  \n",
            "  inflating: train/7/00007_00021_00005.png  \n",
            "  inflating: train/7/00007_00021_00006.png  \n",
            "  inflating: train/7/00007_00021_00007.png  \n",
            "  inflating: train/7/00007_00021_00008.png  \n",
            "  inflating: train/7/00007_00021_00009.png  \n",
            "  inflating: train/7/00007_00021_00010.png  \n",
            "  inflating: train/7/00007_00021_00011.png  \n",
            "  inflating: train/7/00007_00021_00012.png  \n",
            "  inflating: train/7/00007_00021_00013.png  \n",
            "  inflating: train/7/00007_00021_00014.png  \n",
            "  inflating: train/7/00007_00021_00015.png  \n",
            "  inflating: train/7/00007_00021_00016.png  \n",
            "  inflating: train/7/00007_00021_00017.png  \n",
            "  inflating: train/7/00007_00021_00018.png  \n",
            "  inflating: train/7/00007_00021_00019.png  \n",
            "  inflating: train/7/00007_00021_00020.png  \n",
            "  inflating: train/7/00007_00021_00021.png  \n",
            "  inflating: train/7/00007_00021_00022.png  \n",
            "  inflating: train/7/00007_00021_00023.png  \n",
            "  inflating: train/7/00007_00021_00024.png  \n",
            "  inflating: train/7/00007_00021_00025.png  \n",
            "  inflating: train/7/00007_00021_00026.png  \n",
            "  inflating: train/7/00007_00021_00027.png  \n",
            "  inflating: train/7/00007_00021_00028.png  \n",
            "  inflating: train/7/00007_00021_00029.png  \n",
            "  inflating: train/7/00007_00022_00000.png  \n",
            "  inflating: train/7/00007_00022_00001.png  \n",
            "  inflating: train/7/00007_00022_00002.png  \n",
            "  inflating: train/7/00007_00022_00003.png  \n",
            "  inflating: train/7/00007_00022_00004.png  \n",
            "  inflating: train/7/00007_00022_00005.png  \n",
            "  inflating: train/7/00007_00022_00006.png  \n",
            "  inflating: train/7/00007_00022_00007.png  \n",
            "  inflating: train/7/00007_00022_00008.png  \n",
            "  inflating: train/7/00007_00022_00009.png  \n",
            "  inflating: train/7/00007_00022_00010.png  \n",
            "  inflating: train/7/00007_00022_00011.png  \n",
            "  inflating: train/7/00007_00022_00012.png  \n",
            "  inflating: train/7/00007_00022_00013.png  \n",
            "  inflating: train/7/00007_00022_00014.png  \n",
            "  inflating: train/7/00007_00022_00015.png  \n",
            "  inflating: train/7/00007_00022_00016.png  \n",
            "  inflating: train/7/00007_00022_00017.png  \n",
            "  inflating: train/7/00007_00022_00018.png  \n",
            "  inflating: train/7/00007_00022_00019.png  \n",
            "  inflating: train/7/00007_00022_00020.png  \n",
            "  inflating: train/7/00007_00022_00021.png  \n",
            "  inflating: train/7/00007_00022_00022.png  \n",
            "  inflating: train/7/00007_00022_00023.png  \n",
            "  inflating: train/7/00007_00022_00024.png  \n",
            "  inflating: train/7/00007_00022_00025.png  \n",
            "  inflating: train/7/00007_00022_00026.png  \n",
            "  inflating: train/7/00007_00022_00027.png  \n",
            "  inflating: train/7/00007_00022_00028.png  \n",
            "  inflating: train/7/00007_00022_00029.png  \n",
            "  inflating: train/7/00007_00023_00000.png  \n",
            "  inflating: train/7/00007_00023_00001.png  \n",
            "  inflating: train/7/00007_00023_00002.png  \n",
            "  inflating: train/7/00007_00023_00003.png  \n",
            "  inflating: train/7/00007_00023_00004.png  \n",
            "  inflating: train/7/00007_00023_00005.png  \n",
            "  inflating: train/7/00007_00023_00006.png  \n",
            "  inflating: train/7/00007_00023_00007.png  \n",
            "  inflating: train/7/00007_00023_00008.png  \n",
            "  inflating: train/7/00007_00023_00009.png  \n",
            "  inflating: train/7/00007_00023_00010.png  \n",
            "  inflating: train/7/00007_00023_00011.png  \n",
            "  inflating: train/7/00007_00023_00012.png  \n",
            "  inflating: train/7/00007_00023_00013.png  \n",
            "  inflating: train/7/00007_00023_00014.png  \n",
            "  inflating: train/7/00007_00023_00015.png  \n",
            "  inflating: train/7/00007_00023_00016.png  \n",
            "  inflating: train/7/00007_00023_00017.png  \n",
            "  inflating: train/7/00007_00023_00018.png  \n",
            "  inflating: train/7/00007_00023_00019.png  \n",
            "  inflating: train/7/00007_00023_00020.png  \n",
            "  inflating: train/7/00007_00023_00021.png  \n",
            "  inflating: train/7/00007_00023_00022.png  \n",
            "  inflating: train/7/00007_00023_00023.png  \n",
            "  inflating: train/7/00007_00023_00024.png  \n",
            "  inflating: train/7/00007_00023_00025.png  \n",
            "  inflating: train/7/00007_00023_00026.png  \n",
            "  inflating: train/7/00007_00023_00027.png  \n",
            "  inflating: train/7/00007_00023_00028.png  \n",
            "  inflating: train/7/00007_00023_00029.png  \n",
            "  inflating: train/7/00007_00024_00000.png  \n",
            "  inflating: train/7/00007_00024_00001.png  \n",
            "  inflating: train/7/00007_00024_00002.png  \n",
            "  inflating: train/7/00007_00024_00003.png  \n",
            "  inflating: train/7/00007_00024_00004.png  \n",
            "  inflating: train/7/00007_00024_00005.png  \n",
            "  inflating: train/7/00007_00024_00006.png  \n",
            "  inflating: train/7/00007_00024_00007.png  \n",
            "  inflating: train/7/00007_00024_00008.png  \n",
            "  inflating: train/7/00007_00024_00009.png  \n",
            "  inflating: train/7/00007_00024_00010.png  \n",
            "  inflating: train/7/00007_00024_00011.png  \n",
            "  inflating: train/7/00007_00024_00012.png  \n",
            "  inflating: train/7/00007_00024_00013.png  \n",
            "  inflating: train/7/00007_00024_00014.png  \n",
            "  inflating: train/7/00007_00024_00015.png  \n",
            "  inflating: train/7/00007_00024_00016.png  \n",
            "  inflating: train/7/00007_00024_00017.png  \n",
            "  inflating: train/7/00007_00024_00018.png  \n",
            "  inflating: train/7/00007_00024_00019.png  \n",
            "  inflating: train/7/00007_00024_00020.png  \n",
            "  inflating: train/7/00007_00024_00021.png  \n",
            "  inflating: train/7/00007_00024_00022.png  \n",
            "  inflating: train/7/00007_00024_00023.png  \n",
            "  inflating: train/7/00007_00024_00024.png  \n",
            "  inflating: train/7/00007_00024_00025.png  \n",
            "  inflating: train/7/00007_00024_00026.png  \n",
            "  inflating: train/7/00007_00024_00027.png  \n",
            "  inflating: train/7/00007_00024_00028.png  \n",
            "  inflating: train/7/00007_00024_00029.png  \n",
            "  inflating: train/7/00007_00025_00000.png  \n",
            "  inflating: train/7/00007_00025_00001.png  \n",
            "  inflating: train/7/00007_00025_00002.png  \n",
            "  inflating: train/7/00007_00025_00003.png  \n",
            "  inflating: train/7/00007_00025_00004.png  \n",
            "  inflating: train/7/00007_00025_00005.png  \n",
            "  inflating: train/7/00007_00025_00006.png  \n",
            "  inflating: train/7/00007_00025_00007.png  \n",
            "  inflating: train/7/00007_00025_00008.png  \n",
            "  inflating: train/7/00007_00025_00009.png  \n",
            "  inflating: train/7/00007_00025_00010.png  \n",
            "  inflating: train/7/00007_00025_00011.png  \n",
            "  inflating: train/7/00007_00025_00012.png  \n",
            "  inflating: train/7/00007_00025_00013.png  \n",
            "  inflating: train/7/00007_00025_00014.png  \n",
            "  inflating: train/7/00007_00025_00015.png  \n",
            "  inflating: train/7/00007_00025_00016.png  \n",
            "  inflating: train/7/00007_00025_00017.png  \n",
            "  inflating: train/7/00007_00025_00018.png  \n",
            "  inflating: train/7/00007_00025_00019.png  \n",
            "  inflating: train/7/00007_00025_00020.png  \n",
            "  inflating: train/7/00007_00025_00021.png  \n",
            "  inflating: train/7/00007_00025_00022.png  \n",
            "  inflating: train/7/00007_00025_00023.png  \n",
            "  inflating: train/7/00007_00025_00024.png  \n",
            "  inflating: train/7/00007_00025_00025.png  \n",
            "  inflating: train/7/00007_00025_00026.png  \n",
            "  inflating: train/7/00007_00025_00027.png  \n",
            "  inflating: train/7/00007_00025_00028.png  \n",
            "  inflating: train/7/00007_00025_00029.png  \n",
            "  inflating: train/7/00007_00026_00000.png  \n",
            "  inflating: train/7/00007_00026_00001.png  \n",
            "  inflating: train/7/00007_00026_00002.png  \n",
            "  inflating: train/7/00007_00026_00003.png  \n",
            "  inflating: train/7/00007_00026_00004.png  \n",
            "  inflating: train/7/00007_00026_00005.png  \n",
            "  inflating: train/7/00007_00026_00006.png  \n",
            "  inflating: train/7/00007_00026_00007.png  \n",
            "  inflating: train/7/00007_00026_00008.png  \n",
            "  inflating: train/7/00007_00026_00009.png  \n",
            "  inflating: train/7/00007_00026_00010.png  \n",
            "  inflating: train/7/00007_00026_00011.png  \n",
            "  inflating: train/7/00007_00026_00012.png  \n",
            "  inflating: train/7/00007_00026_00013.png  \n",
            "  inflating: train/7/00007_00026_00014.png  \n",
            "  inflating: train/7/00007_00026_00015.png  \n",
            "  inflating: train/7/00007_00026_00016.png  \n",
            "  inflating: train/7/00007_00026_00017.png  \n",
            "  inflating: train/7/00007_00026_00018.png  \n",
            "  inflating: train/7/00007_00026_00019.png  \n",
            "  inflating: train/7/00007_00026_00020.png  \n",
            "  inflating: train/7/00007_00026_00021.png  \n",
            "  inflating: train/7/00007_00026_00022.png  \n",
            "  inflating: train/7/00007_00026_00023.png  \n",
            "  inflating: train/7/00007_00026_00024.png  \n",
            "  inflating: train/7/00007_00026_00025.png  \n",
            "  inflating: train/7/00007_00026_00026.png  \n",
            "  inflating: train/7/00007_00026_00027.png  \n",
            "  inflating: train/7/00007_00026_00028.png  \n",
            "  inflating: train/7/00007_00026_00029.png  \n",
            "  inflating: train/7/00007_00027_00000.png  \n",
            "  inflating: train/7/00007_00027_00001.png  \n",
            "  inflating: train/7/00007_00027_00002.png  \n",
            "  inflating: train/7/00007_00027_00003.png  \n",
            "  inflating: train/7/00007_00027_00004.png  \n",
            "  inflating: train/7/00007_00027_00005.png  \n",
            "  inflating: train/7/00007_00027_00006.png  \n",
            "  inflating: train/7/00007_00027_00007.png  \n",
            "  inflating: train/7/00007_00027_00008.png  \n",
            "  inflating: train/7/00007_00027_00009.png  \n",
            "  inflating: train/7/00007_00027_00010.png  \n",
            "  inflating: train/7/00007_00027_00011.png  \n",
            "  inflating: train/7/00007_00027_00012.png  \n",
            "  inflating: train/7/00007_00027_00013.png  \n",
            "  inflating: train/7/00007_00027_00014.png  \n",
            "  inflating: train/7/00007_00027_00015.png  \n",
            "  inflating: train/7/00007_00027_00016.png  \n",
            "  inflating: train/7/00007_00027_00017.png  \n",
            "  inflating: train/7/00007_00027_00018.png  \n",
            "  inflating: train/7/00007_00027_00019.png  \n",
            "  inflating: train/7/00007_00027_00020.png  \n",
            "  inflating: train/7/00007_00027_00021.png  \n",
            "  inflating: train/7/00007_00027_00022.png  \n",
            "  inflating: train/7/00007_00027_00023.png  \n",
            "  inflating: train/7/00007_00027_00024.png  \n",
            "  inflating: train/7/00007_00027_00025.png  \n",
            "  inflating: train/7/00007_00027_00026.png  \n",
            "  inflating: train/7/00007_00027_00027.png  \n",
            "  inflating: train/7/00007_00027_00028.png  \n",
            "  inflating: train/7/00007_00027_00029.png  \n",
            "  inflating: train/7/00007_00028_00000.png  \n",
            "  inflating: train/7/00007_00028_00001.png  \n",
            "  inflating: train/7/00007_00028_00002.png  \n",
            "  inflating: train/7/00007_00028_00003.png  \n",
            "  inflating: train/7/00007_00028_00004.png  \n",
            "  inflating: train/7/00007_00028_00005.png  \n",
            "  inflating: train/7/00007_00028_00006.png  \n",
            "  inflating: train/7/00007_00028_00007.png  \n",
            "  inflating: train/7/00007_00028_00008.png  \n",
            "  inflating: train/7/00007_00028_00009.png  \n",
            "  inflating: train/7/00007_00028_00010.png  \n",
            "  inflating: train/7/00007_00028_00011.png  \n",
            "  inflating: train/7/00007_00028_00012.png  \n",
            "  inflating: train/7/00007_00028_00013.png  \n",
            "  inflating: train/7/00007_00028_00014.png  \n",
            "  inflating: train/7/00007_00028_00015.png  \n",
            "  inflating: train/7/00007_00028_00016.png  \n",
            "  inflating: train/7/00007_00028_00017.png  \n",
            "  inflating: train/7/00007_00028_00018.png  \n",
            "  inflating: train/7/00007_00028_00019.png  \n",
            "  inflating: train/7/00007_00028_00020.png  \n",
            "  inflating: train/7/00007_00028_00021.png  \n",
            "  inflating: train/7/00007_00028_00022.png  \n",
            "  inflating: train/7/00007_00028_00023.png  \n",
            "  inflating: train/7/00007_00028_00024.png  \n",
            "  inflating: train/7/00007_00028_00025.png  \n",
            "  inflating: train/7/00007_00028_00026.png  \n",
            "  inflating: train/7/00007_00028_00027.png  \n",
            "  inflating: train/7/00007_00028_00028.png  \n",
            "  inflating: train/7/00007_00028_00029.png  \n",
            "  inflating: train/7/00007_00029_00000.png  \n",
            "  inflating: train/7/00007_00029_00001.png  \n",
            "  inflating: train/7/00007_00029_00002.png  \n",
            "  inflating: train/7/00007_00029_00003.png  \n",
            "  inflating: train/7/00007_00029_00004.png  \n",
            "  inflating: train/7/00007_00029_00005.png  \n",
            "  inflating: train/7/00007_00029_00006.png  \n",
            "  inflating: train/7/00007_00029_00007.png  \n",
            "  inflating: train/7/00007_00029_00008.png  \n",
            "  inflating: train/7/00007_00029_00009.png  \n",
            "  inflating: train/7/00007_00029_00010.png  \n",
            "  inflating: train/7/00007_00029_00011.png  \n",
            "  inflating: train/7/00007_00029_00012.png  \n",
            "  inflating: train/7/00007_00029_00013.png  \n",
            "  inflating: train/7/00007_00029_00014.png  \n",
            "  inflating: train/7/00007_00029_00015.png  \n",
            "  inflating: train/7/00007_00029_00016.png  \n",
            "  inflating: train/7/00007_00029_00017.png  \n",
            "  inflating: train/7/00007_00029_00018.png  \n",
            "  inflating: train/7/00007_00029_00019.png  \n",
            "  inflating: train/7/00007_00029_00020.png  \n",
            "  inflating: train/7/00007_00029_00021.png  \n",
            "  inflating: train/7/00007_00029_00022.png  \n",
            "  inflating: train/7/00007_00029_00023.png  \n",
            "  inflating: train/7/00007_00029_00024.png  \n",
            "  inflating: train/7/00007_00029_00025.png  \n",
            "  inflating: train/7/00007_00029_00026.png  \n",
            "  inflating: train/7/00007_00029_00027.png  \n",
            "  inflating: train/7/00007_00029_00028.png  \n",
            "  inflating: train/7/00007_00029_00029.png  \n",
            "  inflating: train/7/00007_00030_00000.png  \n",
            "  inflating: train/7/00007_00030_00001.png  \n",
            "  inflating: train/7/00007_00030_00002.png  \n",
            "  inflating: train/7/00007_00030_00003.png  \n",
            "  inflating: train/7/00007_00030_00004.png  \n",
            "  inflating: train/7/00007_00030_00005.png  \n",
            "  inflating: train/7/00007_00030_00006.png  \n",
            "  inflating: train/7/00007_00030_00007.png  \n",
            "  inflating: train/7/00007_00030_00008.png  \n",
            "  inflating: train/7/00007_00030_00009.png  \n",
            "  inflating: train/7/00007_00030_00010.png  \n",
            "  inflating: train/7/00007_00030_00011.png  \n",
            "  inflating: train/7/00007_00030_00012.png  \n",
            "  inflating: train/7/00007_00030_00013.png  \n",
            "  inflating: train/7/00007_00030_00014.png  \n",
            "  inflating: train/7/00007_00030_00015.png  \n",
            "  inflating: train/7/00007_00030_00016.png  \n",
            "  inflating: train/7/00007_00030_00017.png  \n",
            "  inflating: train/7/00007_00030_00018.png  \n",
            "  inflating: train/7/00007_00030_00019.png  \n",
            "  inflating: train/7/00007_00030_00020.png  \n",
            "  inflating: train/7/00007_00030_00021.png  \n",
            "  inflating: train/7/00007_00030_00022.png  \n",
            "  inflating: train/7/00007_00030_00023.png  \n",
            "  inflating: train/7/00007_00030_00024.png  \n",
            "  inflating: train/7/00007_00030_00025.png  \n",
            "  inflating: train/7/00007_00030_00026.png  \n",
            "  inflating: train/7/00007_00030_00027.png  \n",
            "  inflating: train/7/00007_00030_00028.png  \n",
            "  inflating: train/7/00007_00030_00029.png  \n",
            "  inflating: train/7/00007_00031_00000.png  \n",
            "  inflating: train/7/00007_00031_00001.png  \n",
            "  inflating: train/7/00007_00031_00002.png  \n",
            "  inflating: train/7/00007_00031_00003.png  \n",
            "  inflating: train/7/00007_00031_00004.png  \n",
            "  inflating: train/7/00007_00031_00005.png  \n",
            "  inflating: train/7/00007_00031_00006.png  \n",
            "  inflating: train/7/00007_00031_00007.png  \n",
            "  inflating: train/7/00007_00031_00008.png  \n",
            "  inflating: train/7/00007_00031_00009.png  \n",
            "  inflating: train/7/00007_00031_00010.png  \n",
            "  inflating: train/7/00007_00031_00011.png  \n",
            "  inflating: train/7/00007_00031_00012.png  \n",
            "  inflating: train/7/00007_00031_00013.png  \n",
            "  inflating: train/7/00007_00031_00014.png  \n",
            "  inflating: train/7/00007_00031_00015.png  \n",
            "  inflating: train/7/00007_00031_00016.png  \n",
            "  inflating: train/7/00007_00031_00017.png  \n",
            "  inflating: train/7/00007_00031_00018.png  \n",
            "  inflating: train/7/00007_00031_00019.png  \n",
            "  inflating: train/7/00007_00031_00020.png  \n",
            "  inflating: train/7/00007_00031_00021.png  \n",
            "  inflating: train/7/00007_00031_00022.png  \n",
            "  inflating: train/7/00007_00031_00023.png  \n",
            "  inflating: train/7/00007_00031_00024.png  \n",
            "  inflating: train/7/00007_00031_00025.png  \n",
            "  inflating: train/7/00007_00031_00026.png  \n",
            "  inflating: train/7/00007_00031_00027.png  \n",
            "  inflating: train/7/00007_00031_00028.png  \n",
            "  inflating: train/7/00007_00031_00029.png  \n",
            "  inflating: train/7/00007_00032_00000.png  \n",
            "  inflating: train/7/00007_00032_00001.png  \n",
            "  inflating: train/7/00007_00032_00002.png  \n",
            "  inflating: train/7/00007_00032_00003.png  \n",
            "  inflating: train/7/00007_00032_00004.png  \n",
            "  inflating: train/7/00007_00032_00005.png  \n",
            "  inflating: train/7/00007_00032_00006.png  \n",
            "  inflating: train/7/00007_00032_00007.png  \n",
            "  inflating: train/7/00007_00032_00008.png  \n",
            "  inflating: train/7/00007_00032_00009.png  \n",
            "  inflating: train/7/00007_00032_00010.png  \n",
            "  inflating: train/7/00007_00032_00011.png  \n",
            "  inflating: train/7/00007_00032_00012.png  \n",
            "  inflating: train/7/00007_00032_00013.png  \n",
            "  inflating: train/7/00007_00032_00014.png  \n",
            "  inflating: train/7/00007_00032_00015.png  \n",
            "  inflating: train/7/00007_00032_00016.png  \n",
            "  inflating: train/7/00007_00032_00017.png  \n",
            "  inflating: train/7/00007_00032_00018.png  \n",
            "  inflating: train/7/00007_00032_00019.png  \n",
            "  inflating: train/7/00007_00032_00020.png  \n",
            "  inflating: train/7/00007_00032_00021.png  \n",
            "  inflating: train/7/00007_00032_00022.png  \n",
            "  inflating: train/7/00007_00032_00023.png  \n",
            "  inflating: train/7/00007_00032_00024.png  \n",
            "  inflating: train/7/00007_00032_00025.png  \n",
            "  inflating: train/7/00007_00032_00026.png  \n",
            "  inflating: train/7/00007_00032_00027.png  \n",
            "  inflating: train/7/00007_00032_00028.png  \n",
            "  inflating: train/7/00007_00032_00029.png  \n",
            "  inflating: train/7/00007_00033_00000.png  \n",
            "  inflating: train/7/00007_00033_00001.png  \n",
            "  inflating: train/7/00007_00033_00002.png  \n",
            "  inflating: train/7/00007_00033_00003.png  \n",
            "  inflating: train/7/00007_00033_00004.png  \n",
            "  inflating: train/7/00007_00033_00005.png  \n",
            "  inflating: train/7/00007_00033_00006.png  \n",
            "  inflating: train/7/00007_00033_00007.png  \n",
            "  inflating: train/7/00007_00033_00008.png  \n",
            "  inflating: train/7/00007_00033_00009.png  \n",
            "  inflating: train/7/00007_00033_00010.png  \n",
            "  inflating: train/7/00007_00033_00011.png  \n",
            "  inflating: train/7/00007_00033_00012.png  \n",
            "  inflating: train/7/00007_00033_00013.png  \n",
            "  inflating: train/7/00007_00033_00014.png  \n",
            "  inflating: train/7/00007_00033_00015.png  \n",
            "  inflating: train/7/00007_00033_00016.png  \n",
            "  inflating: train/7/00007_00033_00017.png  \n",
            "  inflating: train/7/00007_00033_00018.png  \n",
            "  inflating: train/7/00007_00033_00019.png  \n",
            "  inflating: train/7/00007_00033_00020.png  \n",
            "  inflating: train/7/00007_00033_00021.png  \n",
            "  inflating: train/7/00007_00033_00022.png  \n",
            "  inflating: train/7/00007_00033_00023.png  \n",
            "  inflating: train/7/00007_00033_00024.png  \n",
            "  inflating: train/7/00007_00033_00025.png  \n",
            "  inflating: train/7/00007_00033_00026.png  \n",
            "  inflating: train/7/00007_00033_00027.png  \n",
            "  inflating: train/7/00007_00033_00028.png  \n",
            "  inflating: train/7/00007_00033_00029.png  \n",
            "  inflating: train/7/00007_00034_00000.png  \n",
            "  inflating: train/7/00007_00034_00001.png  \n",
            "  inflating: train/7/00007_00034_00002.png  \n",
            "  inflating: train/7/00007_00034_00003.png  \n",
            "  inflating: train/7/00007_00034_00004.png  \n",
            "  inflating: train/7/00007_00034_00005.png  \n",
            "  inflating: train/7/00007_00034_00006.png  \n",
            "  inflating: train/7/00007_00034_00007.png  \n",
            "  inflating: train/7/00007_00034_00008.png  \n",
            "  inflating: train/7/00007_00034_00009.png  \n",
            "  inflating: train/7/00007_00034_00010.png  \n",
            "  inflating: train/7/00007_00034_00011.png  \n",
            "  inflating: train/7/00007_00034_00012.png  \n",
            "  inflating: train/7/00007_00034_00013.png  \n",
            "  inflating: train/7/00007_00034_00014.png  \n",
            "  inflating: train/7/00007_00034_00015.png  \n",
            "  inflating: train/7/00007_00034_00016.png  \n",
            "  inflating: train/7/00007_00034_00017.png  \n",
            "  inflating: train/7/00007_00034_00018.png  \n",
            "  inflating: train/7/00007_00034_00019.png  \n",
            "  inflating: train/7/00007_00034_00020.png  \n",
            "  inflating: train/7/00007_00034_00021.png  \n",
            "  inflating: train/7/00007_00034_00022.png  \n",
            "  inflating: train/7/00007_00034_00023.png  \n",
            "  inflating: train/7/00007_00034_00024.png  \n",
            "  inflating: train/7/00007_00034_00025.png  \n",
            "  inflating: train/7/00007_00034_00026.png  \n",
            "  inflating: train/7/00007_00034_00027.png  \n",
            "  inflating: train/7/00007_00034_00028.png  \n",
            "  inflating: train/7/00007_00034_00029.png  \n",
            "  inflating: train/7/00007_00035_00000.png  \n",
            "  inflating: train/7/00007_00035_00001.png  \n",
            "  inflating: train/7/00007_00035_00002.png  \n",
            "  inflating: train/7/00007_00035_00003.png  \n",
            "  inflating: train/7/00007_00035_00004.png  \n",
            "  inflating: train/7/00007_00035_00005.png  \n",
            "  inflating: train/7/00007_00035_00006.png  \n",
            "  inflating: train/7/00007_00035_00007.png  \n",
            "  inflating: train/7/00007_00035_00008.png  \n",
            "  inflating: train/7/00007_00035_00009.png  \n",
            "  inflating: train/7/00007_00035_00010.png  \n",
            "  inflating: train/7/00007_00035_00011.png  \n",
            "  inflating: train/7/00007_00035_00012.png  \n",
            "  inflating: train/7/00007_00035_00013.png  \n",
            "  inflating: train/7/00007_00035_00014.png  \n",
            "  inflating: train/7/00007_00035_00015.png  \n",
            "  inflating: train/7/00007_00035_00016.png  \n",
            "  inflating: train/7/00007_00035_00017.png  \n",
            "  inflating: train/7/00007_00035_00018.png  \n",
            "  inflating: train/7/00007_00035_00019.png  \n",
            "  inflating: train/7/00007_00035_00020.png  \n",
            "  inflating: train/7/00007_00035_00021.png  \n",
            "  inflating: train/7/00007_00035_00022.png  \n",
            "  inflating: train/7/00007_00035_00023.png  \n",
            "  inflating: train/7/00007_00035_00024.png  \n",
            "  inflating: train/7/00007_00035_00025.png  \n",
            "  inflating: train/7/00007_00035_00026.png  \n",
            "  inflating: train/7/00007_00035_00027.png  \n",
            "  inflating: train/7/00007_00035_00028.png  \n",
            "  inflating: train/7/00007_00035_00029.png  \n",
            "  inflating: train/7/00007_00036_00000.png  \n",
            "  inflating: train/7/00007_00036_00001.png  \n",
            "  inflating: train/7/00007_00036_00002.png  \n",
            "  inflating: train/7/00007_00036_00003.png  \n",
            "  inflating: train/7/00007_00036_00004.png  \n",
            "  inflating: train/7/00007_00036_00005.png  \n",
            "  inflating: train/7/00007_00036_00006.png  \n",
            "  inflating: train/7/00007_00036_00007.png  \n",
            "  inflating: train/7/00007_00036_00008.png  \n",
            "  inflating: train/7/00007_00036_00009.png  \n",
            "  inflating: train/7/00007_00036_00010.png  \n",
            "  inflating: train/7/00007_00036_00011.png  \n",
            "  inflating: train/7/00007_00036_00012.png  \n",
            "  inflating: train/7/00007_00036_00013.png  \n",
            "  inflating: train/7/00007_00036_00014.png  \n",
            "  inflating: train/7/00007_00036_00015.png  \n",
            "  inflating: train/7/00007_00036_00016.png  \n",
            "  inflating: train/7/00007_00036_00017.png  \n",
            "  inflating: train/7/00007_00036_00018.png  \n",
            "  inflating: train/7/00007_00036_00019.png  \n",
            "  inflating: train/7/00007_00036_00020.png  \n",
            "  inflating: train/7/00007_00036_00021.png  \n",
            "  inflating: train/7/00007_00036_00022.png  \n",
            "  inflating: train/7/00007_00036_00023.png  \n",
            "  inflating: train/7/00007_00036_00024.png  \n",
            "  inflating: train/7/00007_00036_00025.png  \n",
            "  inflating: train/7/00007_00036_00026.png  \n",
            "  inflating: train/7/00007_00036_00027.png  \n",
            "  inflating: train/7/00007_00036_00028.png  \n",
            "  inflating: train/7/00007_00036_00029.png  \n",
            "  inflating: train/7/00007_00037_00000.png  \n",
            "  inflating: train/7/00007_00037_00001.png  \n",
            "  inflating: train/7/00007_00037_00002.png  \n",
            "  inflating: train/7/00007_00037_00003.png  \n",
            "  inflating: train/7/00007_00037_00004.png  \n",
            "  inflating: train/7/00007_00037_00005.png  \n",
            "  inflating: train/7/00007_00037_00006.png  \n",
            "  inflating: train/7/00007_00037_00007.png  \n",
            "  inflating: train/7/00007_00037_00008.png  \n",
            "  inflating: train/7/00007_00037_00009.png  \n",
            "  inflating: train/7/00007_00037_00010.png  \n",
            "  inflating: train/7/00007_00037_00011.png  \n",
            "  inflating: train/7/00007_00037_00012.png  \n",
            "  inflating: train/7/00007_00037_00013.png  \n",
            "  inflating: train/7/00007_00037_00014.png  \n",
            "  inflating: train/7/00007_00037_00015.png  \n",
            "  inflating: train/7/00007_00037_00016.png  \n",
            "  inflating: train/7/00007_00037_00017.png  \n",
            "  inflating: train/7/00007_00037_00018.png  \n",
            "  inflating: train/7/00007_00037_00019.png  \n",
            "  inflating: train/7/00007_00037_00020.png  \n",
            "  inflating: train/7/00007_00037_00021.png  \n",
            "  inflating: train/7/00007_00037_00022.png  \n",
            "  inflating: train/7/00007_00037_00023.png  \n",
            "  inflating: train/7/00007_00037_00024.png  \n",
            "  inflating: train/7/00007_00037_00025.png  \n",
            "  inflating: train/7/00007_00037_00026.png  \n",
            "  inflating: train/7/00007_00037_00027.png  \n",
            "  inflating: train/7/00007_00037_00028.png  \n",
            "  inflating: train/7/00007_00037_00029.png  \n",
            "  inflating: train/7/00007_00038_00000.png  \n",
            "  inflating: train/7/00007_00038_00001.png  \n",
            "  inflating: train/7/00007_00038_00002.png  \n",
            "  inflating: train/7/00007_00038_00003.png  \n",
            "  inflating: train/7/00007_00038_00004.png  \n",
            "  inflating: train/7/00007_00038_00005.png  \n",
            "  inflating: train/7/00007_00038_00006.png  \n",
            "  inflating: train/7/00007_00038_00007.png  \n",
            "  inflating: train/7/00007_00038_00008.png  \n",
            "  inflating: train/7/00007_00038_00009.png  \n",
            "  inflating: train/7/00007_00038_00010.png  \n",
            "  inflating: train/7/00007_00038_00011.png  \n",
            "  inflating: train/7/00007_00038_00012.png  \n",
            "  inflating: train/7/00007_00038_00013.png  \n",
            "  inflating: train/7/00007_00038_00014.png  \n",
            "  inflating: train/7/00007_00038_00015.png  \n",
            "  inflating: train/7/00007_00038_00016.png  \n",
            "  inflating: train/7/00007_00038_00017.png  \n",
            "  inflating: train/7/00007_00038_00018.png  \n",
            "  inflating: train/7/00007_00038_00019.png  \n",
            "  inflating: train/7/00007_00038_00020.png  \n",
            "  inflating: train/7/00007_00038_00021.png  \n",
            "  inflating: train/7/00007_00038_00022.png  \n",
            "  inflating: train/7/00007_00038_00023.png  \n",
            "  inflating: train/7/00007_00038_00024.png  \n",
            "  inflating: train/7/00007_00038_00025.png  \n",
            "  inflating: train/7/00007_00038_00026.png  \n",
            "  inflating: train/7/00007_00038_00027.png  \n",
            "  inflating: train/7/00007_00038_00028.png  \n",
            "  inflating: train/7/00007_00038_00029.png  \n",
            "  inflating: train/7/00007_00039_00000.png  \n",
            "  inflating: train/7/00007_00039_00001.png  \n",
            "  inflating: train/7/00007_00039_00002.png  \n",
            "  inflating: train/7/00007_00039_00003.png  \n",
            "  inflating: train/7/00007_00039_00004.png  \n",
            "  inflating: train/7/00007_00039_00005.png  \n",
            "  inflating: train/7/00007_00039_00006.png  \n",
            "  inflating: train/7/00007_00039_00007.png  \n",
            "  inflating: train/7/00007_00039_00008.png  \n",
            "  inflating: train/7/00007_00039_00009.png  \n",
            "  inflating: train/7/00007_00039_00010.png  \n",
            "  inflating: train/7/00007_00039_00011.png  \n",
            "  inflating: train/7/00007_00039_00012.png  \n",
            "  inflating: train/7/00007_00039_00013.png  \n",
            "  inflating: train/7/00007_00039_00014.png  \n",
            "  inflating: train/7/00007_00039_00015.png  \n",
            "  inflating: train/7/00007_00039_00016.png  \n",
            "  inflating: train/7/00007_00039_00017.png  \n",
            "  inflating: train/7/00007_00039_00018.png  \n",
            "  inflating: train/7/00007_00039_00019.png  \n",
            "  inflating: train/7/00007_00039_00020.png  \n",
            "  inflating: train/7/00007_00039_00021.png  \n",
            "  inflating: train/7/00007_00039_00022.png  \n",
            "  inflating: train/7/00007_00039_00023.png  \n",
            "  inflating: train/7/00007_00039_00024.png  \n",
            "  inflating: train/7/00007_00039_00025.png  \n",
            "  inflating: train/7/00007_00039_00026.png  \n",
            "  inflating: train/7/00007_00039_00027.png  \n",
            "  inflating: train/7/00007_00039_00028.png  \n",
            "  inflating: train/7/00007_00039_00029.png  \n",
            "  inflating: train/7/00007_00040_00000.png  \n",
            "  inflating: train/7/00007_00040_00001.png  \n",
            "  inflating: train/7/00007_00040_00002.png  \n",
            "  inflating: train/7/00007_00040_00003.png  \n",
            "  inflating: train/7/00007_00040_00004.png  \n",
            "  inflating: train/7/00007_00040_00005.png  \n",
            "  inflating: train/7/00007_00040_00006.png  \n",
            "  inflating: train/7/00007_00040_00007.png  \n",
            "  inflating: train/7/00007_00040_00008.png  \n",
            "  inflating: train/7/00007_00040_00009.png  \n",
            "  inflating: train/7/00007_00040_00010.png  \n",
            "  inflating: train/7/00007_00040_00011.png  \n",
            "  inflating: train/7/00007_00040_00012.png  \n",
            "  inflating: train/7/00007_00040_00013.png  \n",
            "  inflating: train/7/00007_00040_00014.png  \n",
            "  inflating: train/7/00007_00040_00015.png  \n",
            "  inflating: train/7/00007_00040_00016.png  \n",
            "  inflating: train/7/00007_00040_00017.png  \n",
            "  inflating: train/7/00007_00040_00018.png  \n",
            "  inflating: train/7/00007_00040_00019.png  \n",
            "  inflating: train/7/00007_00040_00020.png  \n",
            "  inflating: train/7/00007_00040_00021.png  \n",
            "  inflating: train/7/00007_00040_00022.png  \n",
            "  inflating: train/7/00007_00040_00023.png  \n",
            "  inflating: train/7/00007_00040_00024.png  \n",
            "  inflating: train/7/00007_00040_00025.png  \n",
            "  inflating: train/7/00007_00040_00026.png  \n",
            "  inflating: train/7/00007_00040_00027.png  \n",
            "  inflating: train/7/00007_00040_00028.png  \n",
            "  inflating: train/7/00007_00040_00029.png  \n",
            "  inflating: train/7/00007_00041_00000.png  \n",
            "  inflating: train/7/00007_00041_00001.png  \n",
            "  inflating: train/7/00007_00041_00002.png  \n",
            "  inflating: train/7/00007_00041_00003.png  \n",
            "  inflating: train/7/00007_00041_00004.png  \n",
            "  inflating: train/7/00007_00041_00005.png  \n",
            "  inflating: train/7/00007_00041_00006.png  \n",
            "  inflating: train/7/00007_00041_00007.png  \n",
            "  inflating: train/7/00007_00041_00008.png  \n",
            "  inflating: train/7/00007_00041_00009.png  \n",
            "  inflating: train/7/00007_00041_00010.png  \n",
            "  inflating: train/7/00007_00041_00011.png  \n",
            "  inflating: train/7/00007_00041_00012.png  \n",
            "  inflating: train/7/00007_00041_00013.png  \n",
            "  inflating: train/7/00007_00041_00014.png  \n",
            "  inflating: train/7/00007_00041_00015.png  \n",
            "  inflating: train/7/00007_00041_00016.png  \n",
            "  inflating: train/7/00007_00041_00017.png  \n",
            "  inflating: train/7/00007_00041_00018.png  \n",
            "  inflating: train/7/00007_00041_00019.png  \n",
            "  inflating: train/7/00007_00041_00020.png  \n",
            "  inflating: train/7/00007_00041_00021.png  \n",
            "  inflating: train/7/00007_00041_00022.png  \n",
            "  inflating: train/7/00007_00041_00023.png  \n",
            "  inflating: train/7/00007_00041_00024.png  \n",
            "  inflating: train/7/00007_00041_00025.png  \n",
            "  inflating: train/7/00007_00041_00026.png  \n",
            "  inflating: train/7/00007_00041_00027.png  \n",
            "  inflating: train/7/00007_00041_00028.png  \n",
            "  inflating: train/7/00007_00041_00029.png  \n",
            "  inflating: train/7/00007_00042_00000.png  \n",
            "  inflating: train/7/00007_00042_00001.png  \n",
            "  inflating: train/7/00007_00042_00002.png  \n",
            "  inflating: train/7/00007_00042_00003.png  \n",
            "  inflating: train/7/00007_00042_00004.png  \n",
            "  inflating: train/7/00007_00042_00005.png  \n",
            "  inflating: train/7/00007_00042_00006.png  \n",
            "  inflating: train/7/00007_00042_00007.png  \n",
            "  inflating: train/7/00007_00042_00008.png  \n",
            "  inflating: train/7/00007_00042_00009.png  \n",
            "  inflating: train/7/00007_00042_00010.png  \n",
            "  inflating: train/7/00007_00042_00011.png  \n",
            "  inflating: train/7/00007_00042_00012.png  \n",
            "  inflating: train/7/00007_00042_00013.png  \n",
            "  inflating: train/7/00007_00042_00014.png  \n",
            "  inflating: train/7/00007_00042_00015.png  \n",
            "  inflating: train/7/00007_00042_00016.png  \n",
            "  inflating: train/7/00007_00042_00017.png  \n",
            "  inflating: train/7/00007_00042_00018.png  \n",
            "  inflating: train/7/00007_00042_00019.png  \n",
            "  inflating: train/7/00007_00042_00020.png  \n",
            "  inflating: train/7/00007_00042_00021.png  \n",
            "  inflating: train/7/00007_00042_00022.png  \n",
            "  inflating: train/7/00007_00042_00023.png  \n",
            "  inflating: train/7/00007_00042_00024.png  \n",
            "  inflating: train/7/00007_00042_00025.png  \n",
            "  inflating: train/7/00007_00042_00026.png  \n",
            "  inflating: train/7/00007_00042_00027.png  \n",
            "  inflating: train/7/00007_00042_00028.png  \n",
            "  inflating: train/7/00007_00042_00029.png  \n",
            "  inflating: train/7/00007_00043_00000.png  \n",
            "  inflating: train/7/00007_00043_00001.png  \n",
            "  inflating: train/7/00007_00043_00002.png  \n",
            "  inflating: train/7/00007_00043_00003.png  \n",
            "  inflating: train/7/00007_00043_00004.png  \n",
            "  inflating: train/7/00007_00043_00005.png  \n",
            "  inflating: train/7/00007_00043_00006.png  \n",
            "  inflating: train/7/00007_00043_00007.png  \n",
            "  inflating: train/7/00007_00043_00008.png  \n",
            "  inflating: train/7/00007_00043_00009.png  \n",
            "  inflating: train/7/00007_00043_00010.png  \n",
            "  inflating: train/7/00007_00043_00011.png  \n",
            "  inflating: train/7/00007_00043_00012.png  \n",
            "  inflating: train/7/00007_00043_00013.png  \n",
            "  inflating: train/7/00007_00043_00014.png  \n",
            "  inflating: train/7/00007_00043_00015.png  \n",
            "  inflating: train/7/00007_00043_00016.png  \n",
            "  inflating: train/7/00007_00043_00017.png  \n",
            "  inflating: train/7/00007_00043_00018.png  \n",
            "  inflating: train/7/00007_00043_00019.png  \n",
            "  inflating: train/7/00007_00043_00020.png  \n",
            "  inflating: train/7/00007_00043_00021.png  \n",
            "  inflating: train/7/00007_00043_00022.png  \n",
            "  inflating: train/7/00007_00043_00023.png  \n",
            "  inflating: train/7/00007_00043_00024.png  \n",
            "  inflating: train/7/00007_00043_00025.png  \n",
            "  inflating: train/7/00007_00043_00026.png  \n",
            "  inflating: train/7/00007_00043_00027.png  \n",
            "  inflating: train/7/00007_00043_00028.png  \n",
            "  inflating: train/7/00007_00043_00029.png  \n",
            "  inflating: train/7/00007_00044_00000.png  \n",
            "  inflating: train/7/00007_00044_00001.png  \n",
            "  inflating: train/7/00007_00044_00002.png  \n",
            "  inflating: train/7/00007_00044_00003.png  \n",
            "  inflating: train/7/00007_00044_00004.png  \n",
            "  inflating: train/7/00007_00044_00005.png  \n",
            "  inflating: train/7/00007_00044_00006.png  \n",
            "  inflating: train/7/00007_00044_00007.png  \n",
            "  inflating: train/7/00007_00044_00008.png  \n",
            "  inflating: train/7/00007_00044_00009.png  \n",
            "  inflating: train/7/00007_00044_00010.png  \n",
            "  inflating: train/7/00007_00044_00011.png  \n",
            "  inflating: train/7/00007_00044_00012.png  \n",
            "  inflating: train/7/00007_00044_00013.png  \n",
            "  inflating: train/7/00007_00044_00014.png  \n",
            "  inflating: train/7/00007_00044_00015.png  \n",
            "  inflating: train/7/00007_00044_00016.png  \n",
            "  inflating: train/7/00007_00044_00017.png  \n",
            "  inflating: train/7/00007_00044_00018.png  \n",
            "  inflating: train/7/00007_00044_00019.png  \n",
            "  inflating: train/7/00007_00044_00020.png  \n",
            "  inflating: train/7/00007_00044_00021.png  \n",
            "  inflating: train/7/00007_00044_00022.png  \n",
            "  inflating: train/7/00007_00044_00023.png  \n",
            "  inflating: train/7/00007_00044_00024.png  \n",
            "  inflating: train/7/00007_00044_00025.png  \n",
            "  inflating: train/7/00007_00044_00026.png  \n",
            "  inflating: train/7/00007_00044_00027.png  \n",
            "  inflating: train/7/00007_00044_00028.png  \n",
            "  inflating: train/7/00007_00044_00029.png  \n",
            "  inflating: train/7/00007_00045_00000.png  \n",
            "  inflating: train/7/00007_00045_00001.png  \n",
            "  inflating: train/7/00007_00045_00002.png  \n",
            "  inflating: train/7/00007_00045_00003.png  \n",
            "  inflating: train/7/00007_00045_00004.png  \n",
            "  inflating: train/7/00007_00045_00005.png  \n",
            "  inflating: train/7/00007_00045_00006.png  \n",
            "  inflating: train/7/00007_00045_00007.png  \n",
            "  inflating: train/7/00007_00045_00008.png  \n",
            "  inflating: train/7/00007_00045_00009.png  \n",
            "  inflating: train/7/00007_00045_00010.png  \n",
            "  inflating: train/7/00007_00045_00011.png  \n",
            "  inflating: train/7/00007_00045_00012.png  \n",
            "  inflating: train/7/00007_00045_00013.png  \n",
            "  inflating: train/7/00007_00045_00014.png  \n",
            "  inflating: train/7/00007_00045_00015.png  \n",
            "  inflating: train/7/00007_00045_00016.png  \n",
            "  inflating: train/7/00007_00045_00017.png  \n",
            "  inflating: train/7/00007_00045_00018.png  \n",
            "  inflating: train/7/00007_00045_00019.png  \n",
            "  inflating: train/7/00007_00045_00020.png  \n",
            "  inflating: train/7/00007_00045_00021.png  \n",
            "  inflating: train/7/00007_00045_00022.png  \n",
            "  inflating: train/7/00007_00045_00023.png  \n",
            "  inflating: train/7/00007_00045_00024.png  \n",
            "  inflating: train/7/00007_00045_00025.png  \n",
            "  inflating: train/7/00007_00045_00026.png  \n",
            "  inflating: train/7/00007_00045_00027.png  \n",
            "  inflating: train/7/00007_00045_00028.png  \n",
            "  inflating: train/7/00007_00045_00029.png  \n",
            "  inflating: train/7/00007_00046_00000.png  \n",
            "  inflating: train/7/00007_00046_00001.png  \n",
            "  inflating: train/7/00007_00046_00002.png  \n",
            "  inflating: train/7/00007_00046_00003.png  \n",
            "  inflating: train/7/00007_00046_00004.png  \n",
            "  inflating: train/7/00007_00046_00005.png  \n",
            "  inflating: train/7/00007_00046_00006.png  \n",
            "  inflating: train/7/00007_00046_00007.png  \n",
            "  inflating: train/7/00007_00046_00008.png  \n",
            "  inflating: train/7/00007_00046_00009.png  \n",
            "  inflating: train/7/00007_00046_00010.png  \n",
            "  inflating: train/7/00007_00046_00011.png  \n",
            "  inflating: train/7/00007_00046_00012.png  \n",
            "  inflating: train/7/00007_00046_00013.png  \n",
            "  inflating: train/7/00007_00046_00014.png  \n",
            "  inflating: train/7/00007_00046_00015.png  \n",
            "  inflating: train/7/00007_00046_00016.png  \n",
            "  inflating: train/7/00007_00046_00017.png  \n",
            "  inflating: train/7/00007_00046_00018.png  \n",
            "  inflating: train/7/00007_00046_00019.png  \n",
            "  inflating: train/7/00007_00046_00020.png  \n",
            "  inflating: train/7/00007_00046_00021.png  \n",
            "  inflating: train/7/00007_00046_00022.png  \n",
            "  inflating: train/7/00007_00046_00023.png  \n",
            "  inflating: train/7/00007_00046_00024.png  \n",
            "  inflating: train/7/00007_00046_00025.png  \n",
            "  inflating: train/7/00007_00046_00026.png  \n",
            "  inflating: train/7/00007_00046_00027.png  \n",
            "  inflating: train/7/00007_00046_00028.png  \n",
            "  inflating: train/7/00007_00046_00029.png  \n",
            "  inflating: train/7/00007_00047_00000.png  \n",
            "  inflating: train/7/00007_00047_00001.png  \n",
            "  inflating: train/7/00007_00047_00002.png  \n",
            "  inflating: train/7/00007_00047_00003.png  \n",
            "  inflating: train/7/00007_00047_00004.png  \n",
            "  inflating: train/7/00007_00047_00005.png  \n",
            "  inflating: train/7/00007_00047_00006.png  \n",
            "  inflating: train/7/00007_00047_00007.png  \n",
            "  inflating: train/7/00007_00047_00008.png  \n",
            "  inflating: train/7/00007_00047_00009.png  \n",
            "  inflating: train/7/00007_00047_00010.png  \n",
            "  inflating: train/7/00007_00047_00011.png  \n",
            "  inflating: train/7/00007_00047_00012.png  \n",
            "  inflating: train/7/00007_00047_00013.png  \n",
            "  inflating: train/7/00007_00047_00014.png  \n",
            "  inflating: train/7/00007_00047_00015.png  \n",
            "  inflating: train/7/00007_00047_00016.png  \n",
            "  inflating: train/7/00007_00047_00017.png  \n",
            "  inflating: train/7/00007_00047_00018.png  \n",
            "  inflating: train/7/00007_00047_00019.png  \n",
            "  inflating: train/7/00007_00047_00020.png  \n",
            "  inflating: train/7/00007_00047_00021.png  \n",
            "  inflating: train/7/00007_00047_00022.png  \n",
            "  inflating: train/7/00007_00047_00023.png  \n",
            "  inflating: train/7/00007_00047_00024.png  \n",
            "  inflating: train/7/00007_00047_00025.png  \n",
            "  inflating: train/7/00007_00047_00026.png  \n",
            "  inflating: train/7/00007_00047_00027.png  \n",
            "  inflating: train/7/00007_00047_00028.png  \n",
            "  inflating: train/7/00007_00047_00029.png  \n",
            "  inflating: train/8/00008_00000_00000.png  \n",
            "  inflating: train/8/00008_00000_00001.png  \n",
            "  inflating: train/8/00008_00000_00002.png  \n",
            "  inflating: train/8/00008_00000_00003.png  \n",
            "  inflating: train/8/00008_00000_00004.png  \n",
            "  inflating: train/8/00008_00000_00005.png  \n",
            "  inflating: train/8/00008_00000_00006.png  \n",
            "  inflating: train/8/00008_00000_00007.png  \n",
            "  inflating: train/8/00008_00000_00008.png  \n",
            "  inflating: train/8/00008_00000_00009.png  \n",
            "  inflating: train/8/00008_00000_00010.png  \n",
            "  inflating: train/8/00008_00000_00011.png  \n",
            "  inflating: train/8/00008_00000_00012.png  \n",
            "  inflating: train/8/00008_00000_00013.png  \n",
            "  inflating: train/8/00008_00000_00014.png  \n",
            "  inflating: train/8/00008_00000_00015.png  \n",
            "  inflating: train/8/00008_00000_00016.png  \n",
            "  inflating: train/8/00008_00000_00017.png  \n",
            "  inflating: train/8/00008_00000_00018.png  \n",
            "  inflating: train/8/00008_00000_00019.png  \n",
            "  inflating: train/8/00008_00000_00020.png  \n",
            "  inflating: train/8/00008_00000_00021.png  \n",
            "  inflating: train/8/00008_00000_00022.png  \n",
            "  inflating: train/8/00008_00000_00023.png  \n",
            "  inflating: train/8/00008_00000_00024.png  \n",
            "  inflating: train/8/00008_00000_00025.png  \n",
            "  inflating: train/8/00008_00000_00026.png  \n",
            "  inflating: train/8/00008_00000_00027.png  \n",
            "  inflating: train/8/00008_00000_00028.png  \n",
            "  inflating: train/8/00008_00000_00029.png  \n",
            "  inflating: train/8/00008_00001_00000.png  \n",
            "  inflating: train/8/00008_00001_00001.png  \n",
            "  inflating: train/8/00008_00001_00002.png  \n",
            "  inflating: train/8/00008_00001_00003.png  \n",
            "  inflating: train/8/00008_00001_00004.png  \n",
            "  inflating: train/8/00008_00001_00005.png  \n",
            "  inflating: train/8/00008_00001_00006.png  \n",
            "  inflating: train/8/00008_00001_00007.png  \n",
            "  inflating: train/8/00008_00001_00008.png  \n",
            "  inflating: train/8/00008_00001_00009.png  \n",
            "  inflating: train/8/00008_00001_00010.png  \n",
            "  inflating: train/8/00008_00001_00011.png  \n",
            "  inflating: train/8/00008_00001_00012.png  \n",
            "  inflating: train/8/00008_00001_00013.png  \n",
            "  inflating: train/8/00008_00001_00014.png  \n",
            "  inflating: train/8/00008_00001_00015.png  \n",
            "  inflating: train/8/00008_00001_00016.png  \n",
            "  inflating: train/8/00008_00001_00017.png  \n",
            "  inflating: train/8/00008_00001_00018.png  \n",
            "  inflating: train/8/00008_00001_00019.png  \n",
            "  inflating: train/8/00008_00001_00020.png  \n",
            "  inflating: train/8/00008_00001_00021.png  \n",
            "  inflating: train/8/00008_00001_00022.png  \n",
            "  inflating: train/8/00008_00001_00023.png  \n",
            "  inflating: train/8/00008_00001_00024.png  \n",
            "  inflating: train/8/00008_00001_00025.png  \n",
            "  inflating: train/8/00008_00001_00026.png  \n",
            "  inflating: train/8/00008_00001_00027.png  \n",
            "  inflating: train/8/00008_00001_00028.png  \n",
            "  inflating: train/8/00008_00001_00029.png  \n",
            "  inflating: train/8/00008_00002_00000.png  \n",
            "  inflating: train/8/00008_00002_00001.png  \n",
            "  inflating: train/8/00008_00002_00002.png  \n",
            "  inflating: train/8/00008_00002_00003.png  \n",
            "  inflating: train/8/00008_00002_00004.png  \n",
            "  inflating: train/8/00008_00002_00005.png  \n",
            "  inflating: train/8/00008_00002_00006.png  \n",
            "  inflating: train/8/00008_00002_00007.png  \n",
            "  inflating: train/8/00008_00002_00008.png  \n",
            "  inflating: train/8/00008_00002_00009.png  \n",
            "  inflating: train/8/00008_00002_00010.png  \n",
            "  inflating: train/8/00008_00002_00011.png  \n",
            "  inflating: train/8/00008_00002_00012.png  \n",
            "  inflating: train/8/00008_00002_00013.png  \n",
            "  inflating: train/8/00008_00002_00014.png  \n",
            "  inflating: train/8/00008_00002_00015.png  \n",
            "  inflating: train/8/00008_00002_00016.png  \n",
            "  inflating: train/8/00008_00002_00017.png  \n",
            "  inflating: train/8/00008_00002_00018.png  \n",
            "  inflating: train/8/00008_00002_00019.png  \n",
            "  inflating: train/8/00008_00002_00020.png  \n",
            "  inflating: train/8/00008_00002_00021.png  \n",
            "  inflating: train/8/00008_00002_00022.png  \n",
            "  inflating: train/8/00008_00002_00023.png  \n",
            "  inflating: train/8/00008_00002_00024.png  \n",
            "  inflating: train/8/00008_00002_00025.png  \n",
            "  inflating: train/8/00008_00002_00026.png  \n",
            "  inflating: train/8/00008_00002_00027.png  \n",
            "  inflating: train/8/00008_00002_00028.png  \n",
            "  inflating: train/8/00008_00002_00029.png  \n",
            "  inflating: train/8/00008_00003_00000.png  \n",
            "  inflating: train/8/00008_00003_00001.png  \n",
            "  inflating: train/8/00008_00003_00002.png  \n",
            "  inflating: train/8/00008_00003_00003.png  \n",
            "  inflating: train/8/00008_00003_00004.png  \n",
            "  inflating: train/8/00008_00003_00005.png  \n",
            "  inflating: train/8/00008_00003_00006.png  \n",
            "  inflating: train/8/00008_00003_00007.png  \n",
            "  inflating: train/8/00008_00003_00008.png  \n",
            "  inflating: train/8/00008_00003_00009.png  \n",
            "  inflating: train/8/00008_00003_00010.png  \n",
            "  inflating: train/8/00008_00003_00011.png  \n",
            "  inflating: train/8/00008_00003_00012.png  \n",
            "  inflating: train/8/00008_00003_00013.png  \n",
            "  inflating: train/8/00008_00003_00014.png  \n",
            "  inflating: train/8/00008_00003_00015.png  \n",
            "  inflating: train/8/00008_00003_00016.png  \n",
            "  inflating: train/8/00008_00003_00017.png  \n",
            "  inflating: train/8/00008_00003_00018.png  \n",
            "  inflating: train/8/00008_00003_00019.png  \n",
            "  inflating: train/8/00008_00003_00020.png  \n",
            "  inflating: train/8/00008_00003_00021.png  \n",
            "  inflating: train/8/00008_00003_00022.png  \n",
            "  inflating: train/8/00008_00003_00023.png  \n",
            "  inflating: train/8/00008_00003_00024.png  \n",
            "  inflating: train/8/00008_00003_00025.png  \n",
            "  inflating: train/8/00008_00003_00026.png  \n",
            "  inflating: train/8/00008_00003_00027.png  \n",
            "  inflating: train/8/00008_00003_00028.png  \n",
            "  inflating: train/8/00008_00003_00029.png  \n",
            "  inflating: train/8/00008_00004_00000.png  \n",
            "  inflating: train/8/00008_00004_00001.png  \n",
            "  inflating: train/8/00008_00004_00002.png  \n",
            "  inflating: train/8/00008_00004_00003.png  \n",
            "  inflating: train/8/00008_00004_00004.png  \n",
            "  inflating: train/8/00008_00004_00005.png  \n",
            "  inflating: train/8/00008_00004_00006.png  \n",
            "  inflating: train/8/00008_00004_00007.png  \n",
            "  inflating: train/8/00008_00004_00008.png  \n",
            "  inflating: train/8/00008_00004_00009.png  \n",
            "  inflating: train/8/00008_00004_00010.png  \n",
            "  inflating: train/8/00008_00004_00011.png  \n",
            "  inflating: train/8/00008_00004_00012.png  \n",
            "  inflating: train/8/00008_00004_00013.png  \n",
            "  inflating: train/8/00008_00004_00014.png  \n",
            "  inflating: train/8/00008_00004_00015.png  \n",
            "  inflating: train/8/00008_00004_00016.png  \n",
            "  inflating: train/8/00008_00004_00017.png  \n",
            "  inflating: train/8/00008_00004_00018.png  \n",
            "  inflating: train/8/00008_00004_00019.png  \n",
            "  inflating: train/8/00008_00004_00020.png  \n",
            "  inflating: train/8/00008_00004_00021.png  \n",
            "  inflating: train/8/00008_00004_00022.png  \n",
            "  inflating: train/8/00008_00004_00023.png  \n",
            "  inflating: train/8/00008_00004_00024.png  \n",
            "  inflating: train/8/00008_00004_00025.png  \n",
            "  inflating: train/8/00008_00004_00026.png  \n",
            "  inflating: train/8/00008_00004_00027.png  \n",
            "  inflating: train/8/00008_00004_00028.png  \n",
            "  inflating: train/8/00008_00004_00029.png  \n",
            "  inflating: train/8/00008_00005_00000.png  \n",
            "  inflating: train/8/00008_00005_00001.png  \n",
            "  inflating: train/8/00008_00005_00002.png  \n",
            "  inflating: train/8/00008_00005_00003.png  \n",
            "  inflating: train/8/00008_00005_00004.png  \n",
            "  inflating: train/8/00008_00005_00005.png  \n",
            "  inflating: train/8/00008_00005_00006.png  \n",
            "  inflating: train/8/00008_00005_00007.png  \n",
            "  inflating: train/8/00008_00005_00008.png  \n",
            "  inflating: train/8/00008_00005_00009.png  \n",
            "  inflating: train/8/00008_00005_00010.png  \n",
            "  inflating: train/8/00008_00005_00011.png  \n",
            "  inflating: train/8/00008_00005_00012.png  \n",
            "  inflating: train/8/00008_00005_00013.png  \n",
            "  inflating: train/8/00008_00005_00014.png  \n",
            "  inflating: train/8/00008_00005_00015.png  \n",
            "  inflating: train/8/00008_00005_00016.png  \n",
            "  inflating: train/8/00008_00005_00017.png  \n",
            "  inflating: train/8/00008_00005_00018.png  \n",
            "  inflating: train/8/00008_00005_00019.png  \n",
            "  inflating: train/8/00008_00005_00020.png  \n",
            "  inflating: train/8/00008_00005_00021.png  \n",
            "  inflating: train/8/00008_00005_00022.png  \n",
            "  inflating: train/8/00008_00005_00023.png  \n",
            "  inflating: train/8/00008_00005_00024.png  \n",
            "  inflating: train/8/00008_00005_00025.png  \n",
            "  inflating: train/8/00008_00005_00026.png  \n",
            "  inflating: train/8/00008_00005_00027.png  \n",
            "  inflating: train/8/00008_00005_00028.png  \n",
            "  inflating: train/8/00008_00005_00029.png  \n",
            "  inflating: train/8/00008_00006_00000.png  \n",
            "  inflating: train/8/00008_00006_00001.png  \n",
            "  inflating: train/8/00008_00006_00002.png  \n",
            "  inflating: train/8/00008_00006_00003.png  \n",
            "  inflating: train/8/00008_00006_00004.png  \n",
            "  inflating: train/8/00008_00006_00005.png  \n",
            "  inflating: train/8/00008_00006_00006.png  \n",
            "  inflating: train/8/00008_00006_00007.png  \n",
            "  inflating: train/8/00008_00006_00008.png  \n",
            "  inflating: train/8/00008_00006_00009.png  \n",
            "  inflating: train/8/00008_00006_00010.png  \n",
            "  inflating: train/8/00008_00006_00011.png  \n",
            "  inflating: train/8/00008_00006_00012.png  \n",
            "  inflating: train/8/00008_00006_00013.png  \n",
            "  inflating: train/8/00008_00006_00014.png  \n",
            "  inflating: train/8/00008_00006_00015.png  \n",
            "  inflating: train/8/00008_00006_00016.png  \n",
            "  inflating: train/8/00008_00006_00017.png  \n",
            "  inflating: train/8/00008_00006_00018.png  \n",
            "  inflating: train/8/00008_00006_00019.png  \n",
            "  inflating: train/8/00008_00006_00020.png  \n",
            "  inflating: train/8/00008_00006_00021.png  \n",
            "  inflating: train/8/00008_00006_00022.png  \n",
            "  inflating: train/8/00008_00006_00023.png  \n",
            "  inflating: train/8/00008_00006_00024.png  \n",
            "  inflating: train/8/00008_00006_00025.png  \n",
            "  inflating: train/8/00008_00006_00026.png  \n",
            "  inflating: train/8/00008_00006_00027.png  \n",
            "  inflating: train/8/00008_00006_00028.png  \n",
            "  inflating: train/8/00008_00006_00029.png  \n",
            "  inflating: train/8/00008_00007_00000.png  \n",
            "  inflating: train/8/00008_00007_00001.png  \n",
            "  inflating: train/8/00008_00007_00002.png  \n",
            "  inflating: train/8/00008_00007_00003.png  \n",
            "  inflating: train/8/00008_00007_00004.png  \n",
            "  inflating: train/8/00008_00007_00005.png  \n",
            "  inflating: train/8/00008_00007_00006.png  \n",
            "  inflating: train/8/00008_00007_00007.png  \n",
            "  inflating: train/8/00008_00007_00008.png  \n",
            "  inflating: train/8/00008_00007_00009.png  \n",
            "  inflating: train/8/00008_00007_00010.png  \n",
            "  inflating: train/8/00008_00007_00011.png  \n",
            "  inflating: train/8/00008_00007_00012.png  \n",
            "  inflating: train/8/00008_00007_00013.png  \n",
            "  inflating: train/8/00008_00007_00014.png  \n",
            "  inflating: train/8/00008_00007_00015.png  \n",
            "  inflating: train/8/00008_00007_00016.png  \n",
            "  inflating: train/8/00008_00007_00017.png  \n",
            "  inflating: train/8/00008_00007_00018.png  \n",
            "  inflating: train/8/00008_00007_00019.png  \n",
            "  inflating: train/8/00008_00007_00020.png  \n",
            "  inflating: train/8/00008_00007_00021.png  \n",
            "  inflating: train/8/00008_00007_00022.png  \n",
            "  inflating: train/8/00008_00007_00023.png  \n",
            "  inflating: train/8/00008_00007_00024.png  \n",
            "  inflating: train/8/00008_00007_00025.png  \n",
            "  inflating: train/8/00008_00007_00026.png  \n",
            "  inflating: train/8/00008_00007_00027.png  \n",
            "  inflating: train/8/00008_00007_00028.png  \n",
            "  inflating: train/8/00008_00007_00029.png  \n",
            "  inflating: train/8/00008_00008_00000.png  \n",
            "  inflating: train/8/00008_00008_00001.png  \n",
            "  inflating: train/8/00008_00008_00002.png  \n",
            "  inflating: train/8/00008_00008_00003.png  \n",
            "  inflating: train/8/00008_00008_00004.png  \n",
            "  inflating: train/8/00008_00008_00005.png  \n",
            "  inflating: train/8/00008_00008_00006.png  \n",
            "  inflating: train/8/00008_00008_00007.png  \n",
            "  inflating: train/8/00008_00008_00008.png  \n",
            "  inflating: train/8/00008_00008_00009.png  \n",
            "  inflating: train/8/00008_00008_00010.png  \n",
            "  inflating: train/8/00008_00008_00011.png  \n",
            "  inflating: train/8/00008_00008_00012.png  \n",
            "  inflating: train/8/00008_00008_00013.png  \n",
            "  inflating: train/8/00008_00008_00014.png  \n",
            "  inflating: train/8/00008_00008_00015.png  \n",
            "  inflating: train/8/00008_00008_00016.png  \n",
            "  inflating: train/8/00008_00008_00017.png  \n",
            "  inflating: train/8/00008_00008_00018.png  \n",
            "  inflating: train/8/00008_00008_00019.png  \n",
            "  inflating: train/8/00008_00008_00020.png  \n",
            "  inflating: train/8/00008_00008_00021.png  \n",
            "  inflating: train/8/00008_00008_00022.png  \n",
            "  inflating: train/8/00008_00008_00023.png  \n",
            "  inflating: train/8/00008_00008_00024.png  \n",
            "  inflating: train/8/00008_00008_00025.png  \n",
            "  inflating: train/8/00008_00008_00026.png  \n",
            "  inflating: train/8/00008_00008_00027.png  \n",
            "  inflating: train/8/00008_00008_00028.png  \n",
            "  inflating: train/8/00008_00008_00029.png  \n",
            "  inflating: train/8/00008_00009_00000.png  \n",
            "  inflating: train/8/00008_00009_00001.png  \n",
            "  inflating: train/8/00008_00009_00002.png  \n",
            "  inflating: train/8/00008_00009_00003.png  \n",
            "  inflating: train/8/00008_00009_00004.png  \n",
            "  inflating: train/8/00008_00009_00005.png  \n",
            "  inflating: train/8/00008_00009_00006.png  \n",
            "  inflating: train/8/00008_00009_00007.png  \n",
            "  inflating: train/8/00008_00009_00008.png  \n",
            "  inflating: train/8/00008_00009_00009.png  \n",
            "  inflating: train/8/00008_00009_00010.png  \n",
            "  inflating: train/8/00008_00009_00011.png  \n",
            "  inflating: train/8/00008_00009_00012.png  \n",
            "  inflating: train/8/00008_00009_00013.png  \n",
            "  inflating: train/8/00008_00009_00014.png  \n",
            "  inflating: train/8/00008_00009_00015.png  \n",
            "  inflating: train/8/00008_00009_00016.png  \n",
            "  inflating: train/8/00008_00009_00017.png  \n",
            "  inflating: train/8/00008_00009_00018.png  \n",
            "  inflating: train/8/00008_00009_00019.png  \n",
            "  inflating: train/8/00008_00009_00020.png  \n",
            "  inflating: train/8/00008_00009_00021.png  \n",
            "  inflating: train/8/00008_00009_00022.png  \n",
            "  inflating: train/8/00008_00009_00023.png  \n",
            "  inflating: train/8/00008_00009_00024.png  \n",
            "  inflating: train/8/00008_00009_00025.png  \n",
            "  inflating: train/8/00008_00009_00026.png  \n",
            "  inflating: train/8/00008_00009_00027.png  \n",
            "  inflating: train/8/00008_00009_00028.png  \n",
            "  inflating: train/8/00008_00009_00029.png  \n",
            "  inflating: train/8/00008_00010_00000.png  \n",
            "  inflating: train/8/00008_00010_00001.png  \n",
            "  inflating: train/8/00008_00010_00002.png  \n",
            "  inflating: train/8/00008_00010_00003.png  \n",
            "  inflating: train/8/00008_00010_00004.png  \n",
            "  inflating: train/8/00008_00010_00005.png  \n",
            "  inflating: train/8/00008_00010_00006.png  \n",
            "  inflating: train/8/00008_00010_00007.png  \n",
            "  inflating: train/8/00008_00010_00008.png  \n",
            "  inflating: train/8/00008_00010_00009.png  \n",
            "  inflating: train/8/00008_00010_00010.png  \n",
            "  inflating: train/8/00008_00010_00011.png  \n",
            "  inflating: train/8/00008_00010_00012.png  \n",
            "  inflating: train/8/00008_00010_00013.png  \n",
            "  inflating: train/8/00008_00010_00014.png  \n",
            "  inflating: train/8/00008_00010_00015.png  \n",
            "  inflating: train/8/00008_00010_00016.png  \n",
            "  inflating: train/8/00008_00010_00017.png  \n",
            "  inflating: train/8/00008_00010_00018.png  \n",
            "  inflating: train/8/00008_00010_00019.png  \n",
            "  inflating: train/8/00008_00010_00020.png  \n",
            "  inflating: train/8/00008_00010_00021.png  \n",
            "  inflating: train/8/00008_00010_00022.png  \n",
            "  inflating: train/8/00008_00010_00023.png  \n",
            "  inflating: train/8/00008_00010_00024.png  \n",
            "  inflating: train/8/00008_00010_00025.png  \n",
            "  inflating: train/8/00008_00010_00026.png  \n",
            "  inflating: train/8/00008_00010_00027.png  \n",
            "  inflating: train/8/00008_00010_00028.png  \n",
            "  inflating: train/8/00008_00010_00029.png  \n",
            "  inflating: train/8/00008_00011_00000.png  \n",
            "  inflating: train/8/00008_00011_00001.png  \n",
            "  inflating: train/8/00008_00011_00002.png  \n",
            "  inflating: train/8/00008_00011_00003.png  \n",
            "  inflating: train/8/00008_00011_00004.png  \n",
            "  inflating: train/8/00008_00011_00005.png  \n",
            "  inflating: train/8/00008_00011_00006.png  \n",
            "  inflating: train/8/00008_00011_00007.png  \n",
            "  inflating: train/8/00008_00011_00008.png  \n",
            "  inflating: train/8/00008_00011_00009.png  \n",
            "  inflating: train/8/00008_00011_00010.png  \n",
            "  inflating: train/8/00008_00011_00011.png  \n",
            "  inflating: train/8/00008_00011_00012.png  \n",
            "  inflating: train/8/00008_00011_00013.png  \n",
            "  inflating: train/8/00008_00011_00014.png  \n",
            "  inflating: train/8/00008_00011_00015.png  \n",
            "  inflating: train/8/00008_00011_00016.png  \n",
            "  inflating: train/8/00008_00011_00017.png  \n",
            "  inflating: train/8/00008_00011_00018.png  \n",
            "  inflating: train/8/00008_00011_00019.png  \n",
            "  inflating: train/8/00008_00011_00020.png  \n",
            "  inflating: train/8/00008_00011_00021.png  \n",
            "  inflating: train/8/00008_00011_00022.png  \n",
            "  inflating: train/8/00008_00011_00023.png  \n",
            "  inflating: train/8/00008_00011_00024.png  \n",
            "  inflating: train/8/00008_00011_00025.png  \n",
            "  inflating: train/8/00008_00011_00026.png  \n",
            "  inflating: train/8/00008_00011_00027.png  \n",
            "  inflating: train/8/00008_00011_00028.png  \n",
            "  inflating: train/8/00008_00011_00029.png  \n",
            "  inflating: train/8/00008_00012_00000.png  \n",
            "  inflating: train/8/00008_00012_00001.png  \n",
            "  inflating: train/8/00008_00012_00002.png  \n",
            "  inflating: train/8/00008_00012_00003.png  \n",
            "  inflating: train/8/00008_00012_00004.png  \n",
            "  inflating: train/8/00008_00012_00005.png  \n",
            "  inflating: train/8/00008_00012_00006.png  \n",
            "  inflating: train/8/00008_00012_00007.png  \n",
            "  inflating: train/8/00008_00012_00008.png  \n",
            "  inflating: train/8/00008_00012_00009.png  \n",
            "  inflating: train/8/00008_00012_00010.png  \n",
            "  inflating: train/8/00008_00012_00011.png  \n",
            "  inflating: train/8/00008_00012_00012.png  \n",
            "  inflating: train/8/00008_00012_00013.png  \n",
            "  inflating: train/8/00008_00012_00014.png  \n",
            "  inflating: train/8/00008_00012_00015.png  \n",
            "  inflating: train/8/00008_00012_00016.png  \n",
            "  inflating: train/8/00008_00012_00017.png  \n",
            "  inflating: train/8/00008_00012_00018.png  \n",
            "  inflating: train/8/00008_00012_00019.png  \n",
            "  inflating: train/8/00008_00012_00020.png  \n",
            "  inflating: train/8/00008_00012_00021.png  \n",
            "  inflating: train/8/00008_00012_00022.png  \n",
            "  inflating: train/8/00008_00012_00023.png  \n",
            "  inflating: train/8/00008_00012_00024.png  \n",
            "  inflating: train/8/00008_00012_00025.png  \n",
            "  inflating: train/8/00008_00012_00026.png  \n",
            "  inflating: train/8/00008_00012_00027.png  \n",
            "  inflating: train/8/00008_00012_00028.png  \n",
            "  inflating: train/8/00008_00012_00029.png  \n",
            "  inflating: train/8/00008_00013_00000.png  \n",
            "  inflating: train/8/00008_00013_00001.png  \n",
            "  inflating: train/8/00008_00013_00002.png  \n",
            "  inflating: train/8/00008_00013_00003.png  \n",
            "  inflating: train/8/00008_00013_00004.png  \n",
            "  inflating: train/8/00008_00013_00005.png  \n",
            "  inflating: train/8/00008_00013_00006.png  \n",
            "  inflating: train/8/00008_00013_00007.png  \n",
            "  inflating: train/8/00008_00013_00008.png  \n",
            "  inflating: train/8/00008_00013_00009.png  \n",
            "  inflating: train/8/00008_00013_00010.png  \n",
            "  inflating: train/8/00008_00013_00011.png  \n",
            "  inflating: train/8/00008_00013_00012.png  \n",
            "  inflating: train/8/00008_00013_00013.png  \n",
            "  inflating: train/8/00008_00013_00014.png  \n",
            "  inflating: train/8/00008_00013_00015.png  \n",
            "  inflating: train/8/00008_00013_00016.png  \n",
            "  inflating: train/8/00008_00013_00017.png  \n",
            "  inflating: train/8/00008_00013_00018.png  \n",
            "  inflating: train/8/00008_00013_00019.png  \n",
            "  inflating: train/8/00008_00013_00020.png  \n",
            "  inflating: train/8/00008_00013_00021.png  \n",
            "  inflating: train/8/00008_00013_00022.png  \n",
            "  inflating: train/8/00008_00013_00023.png  \n",
            "  inflating: train/8/00008_00013_00024.png  \n",
            "  inflating: train/8/00008_00013_00025.png  \n",
            "  inflating: train/8/00008_00013_00026.png  \n",
            "  inflating: train/8/00008_00013_00027.png  \n",
            "  inflating: train/8/00008_00013_00028.png  \n",
            "  inflating: train/8/00008_00013_00029.png  \n",
            "  inflating: train/8/00008_00014_00000.png  \n",
            "  inflating: train/8/00008_00014_00001.png  \n",
            "  inflating: train/8/00008_00014_00002.png  \n",
            "  inflating: train/8/00008_00014_00003.png  \n",
            "  inflating: train/8/00008_00014_00004.png  \n",
            "  inflating: train/8/00008_00014_00005.png  \n",
            "  inflating: train/8/00008_00014_00006.png  \n",
            "  inflating: train/8/00008_00014_00007.png  \n",
            "  inflating: train/8/00008_00014_00008.png  \n",
            "  inflating: train/8/00008_00014_00009.png  \n",
            "  inflating: train/8/00008_00014_00010.png  \n",
            "  inflating: train/8/00008_00014_00011.png  \n",
            "  inflating: train/8/00008_00014_00012.png  \n",
            "  inflating: train/8/00008_00014_00013.png  \n",
            "  inflating: train/8/00008_00014_00014.png  \n",
            "  inflating: train/8/00008_00014_00015.png  \n",
            "  inflating: train/8/00008_00014_00016.png  \n",
            "  inflating: train/8/00008_00014_00017.png  \n",
            "  inflating: train/8/00008_00014_00018.png  \n",
            "  inflating: train/8/00008_00014_00019.png  \n",
            "  inflating: train/8/00008_00014_00020.png  \n",
            "  inflating: train/8/00008_00014_00021.png  \n",
            "  inflating: train/8/00008_00014_00022.png  \n",
            "  inflating: train/8/00008_00014_00023.png  \n",
            "  inflating: train/8/00008_00014_00024.png  \n",
            "  inflating: train/8/00008_00014_00025.png  \n",
            "  inflating: train/8/00008_00014_00026.png  \n",
            "  inflating: train/8/00008_00014_00027.png  \n",
            "  inflating: train/8/00008_00014_00028.png  \n",
            "  inflating: train/8/00008_00014_00029.png  \n",
            "  inflating: train/8/00008_00015_00000.png  \n",
            "  inflating: train/8/00008_00015_00001.png  \n",
            "  inflating: train/8/00008_00015_00002.png  \n",
            "  inflating: train/8/00008_00015_00003.png  \n",
            "  inflating: train/8/00008_00015_00004.png  \n",
            "  inflating: train/8/00008_00015_00005.png  \n",
            "  inflating: train/8/00008_00015_00006.png  \n",
            "  inflating: train/8/00008_00015_00007.png  \n",
            "  inflating: train/8/00008_00015_00008.png  \n",
            "  inflating: train/8/00008_00015_00009.png  \n",
            "  inflating: train/8/00008_00015_00010.png  \n",
            "  inflating: train/8/00008_00015_00011.png  \n",
            "  inflating: train/8/00008_00015_00012.png  \n",
            "  inflating: train/8/00008_00015_00013.png  \n",
            "  inflating: train/8/00008_00015_00014.png  \n",
            "  inflating: train/8/00008_00015_00015.png  \n",
            "  inflating: train/8/00008_00015_00016.png  \n",
            "  inflating: train/8/00008_00015_00017.png  \n",
            "  inflating: train/8/00008_00015_00018.png  \n",
            "  inflating: train/8/00008_00015_00019.png  \n",
            "  inflating: train/8/00008_00015_00020.png  \n",
            "  inflating: train/8/00008_00015_00021.png  \n",
            "  inflating: train/8/00008_00015_00022.png  \n",
            "  inflating: train/8/00008_00015_00023.png  \n",
            "  inflating: train/8/00008_00015_00024.png  \n",
            "  inflating: train/8/00008_00015_00025.png  \n",
            "  inflating: train/8/00008_00015_00026.png  \n",
            "  inflating: train/8/00008_00015_00027.png  \n",
            "  inflating: train/8/00008_00015_00028.png  \n",
            "  inflating: train/8/00008_00015_00029.png  \n",
            "  inflating: train/8/00008_00016_00000.png  \n",
            "  inflating: train/8/00008_00016_00001.png  \n",
            "  inflating: train/8/00008_00016_00002.png  \n",
            "  inflating: train/8/00008_00016_00003.png  \n",
            "  inflating: train/8/00008_00016_00004.png  \n",
            "  inflating: train/8/00008_00016_00005.png  \n",
            "  inflating: train/8/00008_00016_00006.png  \n",
            "  inflating: train/8/00008_00016_00007.png  \n",
            "  inflating: train/8/00008_00016_00008.png  \n",
            "  inflating: train/8/00008_00016_00009.png  \n",
            "  inflating: train/8/00008_00016_00010.png  \n",
            "  inflating: train/8/00008_00016_00011.png  \n",
            "  inflating: train/8/00008_00016_00012.png  \n",
            "  inflating: train/8/00008_00016_00013.png  \n",
            "  inflating: train/8/00008_00016_00014.png  \n",
            "  inflating: train/8/00008_00016_00015.png  \n",
            "  inflating: train/8/00008_00016_00016.png  \n",
            "  inflating: train/8/00008_00016_00017.png  \n",
            "  inflating: train/8/00008_00016_00018.png  \n",
            "  inflating: train/8/00008_00016_00019.png  \n",
            "  inflating: train/8/00008_00016_00020.png  \n",
            "  inflating: train/8/00008_00016_00021.png  \n",
            "  inflating: train/8/00008_00016_00022.png  \n",
            "  inflating: train/8/00008_00016_00023.png  \n",
            "  inflating: train/8/00008_00016_00024.png  \n",
            "  inflating: train/8/00008_00016_00025.png  \n",
            "  inflating: train/8/00008_00016_00026.png  \n",
            "  inflating: train/8/00008_00016_00027.png  \n",
            "  inflating: train/8/00008_00016_00028.png  \n",
            "  inflating: train/8/00008_00016_00029.png  \n",
            "  inflating: train/8/00008_00017_00000.png  \n",
            "  inflating: train/8/00008_00017_00001.png  \n",
            "  inflating: train/8/00008_00017_00002.png  \n",
            "  inflating: train/8/00008_00017_00003.png  \n",
            "  inflating: train/8/00008_00017_00004.png  \n",
            "  inflating: train/8/00008_00017_00005.png  \n",
            "  inflating: train/8/00008_00017_00006.png  \n",
            "  inflating: train/8/00008_00017_00007.png  \n",
            "  inflating: train/8/00008_00017_00008.png  \n",
            "  inflating: train/8/00008_00017_00009.png  \n",
            "  inflating: train/8/00008_00017_00010.png  \n",
            "  inflating: train/8/00008_00017_00011.png  \n",
            "  inflating: train/8/00008_00017_00012.png  \n",
            "  inflating: train/8/00008_00017_00013.png  \n",
            "  inflating: train/8/00008_00017_00014.png  \n",
            "  inflating: train/8/00008_00017_00015.png  \n",
            "  inflating: train/8/00008_00017_00016.png  \n",
            "  inflating: train/8/00008_00017_00017.png  \n",
            "  inflating: train/8/00008_00017_00018.png  \n",
            "  inflating: train/8/00008_00017_00019.png  \n",
            "  inflating: train/8/00008_00017_00020.png  \n",
            "  inflating: train/8/00008_00017_00021.png  \n",
            "  inflating: train/8/00008_00017_00022.png  \n",
            "  inflating: train/8/00008_00017_00023.png  \n",
            "  inflating: train/8/00008_00017_00024.png  \n",
            "  inflating: train/8/00008_00017_00025.png  \n",
            "  inflating: train/8/00008_00017_00026.png  \n",
            "  inflating: train/8/00008_00017_00027.png  \n",
            "  inflating: train/8/00008_00017_00028.png  \n",
            "  inflating: train/8/00008_00017_00029.png  \n",
            "  inflating: train/8/00008_00018_00000.png  \n",
            "  inflating: train/8/00008_00018_00001.png  \n",
            "  inflating: train/8/00008_00018_00002.png  \n",
            "  inflating: train/8/00008_00018_00003.png  \n",
            "  inflating: train/8/00008_00018_00004.png  \n",
            "  inflating: train/8/00008_00018_00005.png  \n",
            "  inflating: train/8/00008_00018_00006.png  \n",
            "  inflating: train/8/00008_00018_00007.png  \n",
            "  inflating: train/8/00008_00018_00008.png  \n",
            "  inflating: train/8/00008_00018_00009.png  \n",
            "  inflating: train/8/00008_00018_00010.png  \n",
            "  inflating: train/8/00008_00018_00011.png  \n",
            "  inflating: train/8/00008_00018_00012.png  \n",
            "  inflating: train/8/00008_00018_00013.png  \n",
            "  inflating: train/8/00008_00018_00014.png  \n",
            "  inflating: train/8/00008_00018_00015.png  \n",
            "  inflating: train/8/00008_00018_00016.png  \n",
            "  inflating: train/8/00008_00018_00017.png  \n",
            "  inflating: train/8/00008_00018_00018.png  \n",
            "  inflating: train/8/00008_00018_00019.png  \n",
            "  inflating: train/8/00008_00018_00020.png  \n",
            "  inflating: train/8/00008_00018_00021.png  \n",
            "  inflating: train/8/00008_00018_00022.png  \n",
            "  inflating: train/8/00008_00018_00023.png  \n",
            "  inflating: train/8/00008_00018_00024.png  \n",
            "  inflating: train/8/00008_00018_00025.png  \n",
            "  inflating: train/8/00008_00018_00026.png  \n",
            "  inflating: train/8/00008_00018_00027.png  \n",
            "  inflating: train/8/00008_00018_00028.png  \n",
            "  inflating: train/8/00008_00018_00029.png  \n",
            "  inflating: train/8/00008_00019_00000.png  \n",
            "  inflating: train/8/00008_00019_00001.png  \n",
            "  inflating: train/8/00008_00019_00002.png  \n",
            "  inflating: train/8/00008_00019_00003.png  \n",
            "  inflating: train/8/00008_00019_00004.png  \n",
            "  inflating: train/8/00008_00019_00005.png  \n",
            "  inflating: train/8/00008_00019_00006.png  \n",
            "  inflating: train/8/00008_00019_00007.png  \n",
            "  inflating: train/8/00008_00019_00008.png  \n",
            "  inflating: train/8/00008_00019_00009.png  \n",
            "  inflating: train/8/00008_00019_00010.png  \n",
            "  inflating: train/8/00008_00019_00011.png  \n",
            "  inflating: train/8/00008_00019_00012.png  \n",
            "  inflating: train/8/00008_00019_00013.png  \n",
            "  inflating: train/8/00008_00019_00014.png  \n",
            "  inflating: train/8/00008_00019_00015.png  \n",
            "  inflating: train/8/00008_00019_00016.png  \n",
            "  inflating: train/8/00008_00019_00017.png  \n",
            "  inflating: train/8/00008_00019_00018.png  \n",
            "  inflating: train/8/00008_00019_00019.png  \n",
            "  inflating: train/8/00008_00019_00020.png  \n",
            "  inflating: train/8/00008_00019_00021.png  \n",
            "  inflating: train/8/00008_00019_00022.png  \n",
            "  inflating: train/8/00008_00019_00023.png  \n",
            "  inflating: train/8/00008_00019_00024.png  \n",
            "  inflating: train/8/00008_00019_00025.png  \n",
            "  inflating: train/8/00008_00019_00026.png  \n",
            "  inflating: train/8/00008_00019_00027.png  \n",
            "  inflating: train/8/00008_00019_00028.png  \n",
            "  inflating: train/8/00008_00019_00029.png  \n",
            "  inflating: train/8/00008_00020_00000.png  \n",
            "  inflating: train/8/00008_00020_00001.png  \n",
            "  inflating: train/8/00008_00020_00002.png  \n",
            "  inflating: train/8/00008_00020_00003.png  \n",
            "  inflating: train/8/00008_00020_00004.png  \n",
            "  inflating: train/8/00008_00020_00005.png  \n",
            "  inflating: train/8/00008_00020_00006.png  \n",
            "  inflating: train/8/00008_00020_00007.png  \n",
            "  inflating: train/8/00008_00020_00008.png  \n",
            "  inflating: train/8/00008_00020_00009.png  \n",
            "  inflating: train/8/00008_00020_00010.png  \n",
            "  inflating: train/8/00008_00020_00011.png  \n",
            "  inflating: train/8/00008_00020_00012.png  \n",
            "  inflating: train/8/00008_00020_00013.png  \n",
            "  inflating: train/8/00008_00020_00014.png  \n",
            "  inflating: train/8/00008_00020_00015.png  \n",
            "  inflating: train/8/00008_00020_00016.png  \n",
            "  inflating: train/8/00008_00020_00017.png  \n",
            "  inflating: train/8/00008_00020_00018.png  \n",
            "  inflating: train/8/00008_00020_00019.png  \n",
            "  inflating: train/8/00008_00020_00020.png  \n",
            "  inflating: train/8/00008_00020_00021.png  \n",
            "  inflating: train/8/00008_00020_00022.png  \n",
            "  inflating: train/8/00008_00020_00023.png  \n",
            "  inflating: train/8/00008_00020_00024.png  \n",
            "  inflating: train/8/00008_00020_00025.png  \n",
            "  inflating: train/8/00008_00020_00026.png  \n",
            "  inflating: train/8/00008_00020_00027.png  \n",
            "  inflating: train/8/00008_00020_00028.png  \n",
            "  inflating: train/8/00008_00020_00029.png  \n",
            "  inflating: train/8/00008_00021_00000.png  \n",
            "  inflating: train/8/00008_00021_00001.png  \n",
            "  inflating: train/8/00008_00021_00002.png  \n",
            "  inflating: train/8/00008_00021_00003.png  \n",
            "  inflating: train/8/00008_00021_00004.png  \n",
            "  inflating: train/8/00008_00021_00005.png  \n",
            "  inflating: train/8/00008_00021_00006.png  \n",
            "  inflating: train/8/00008_00021_00007.png  \n",
            "  inflating: train/8/00008_00021_00008.png  \n",
            "  inflating: train/8/00008_00021_00009.png  \n",
            "  inflating: train/8/00008_00021_00010.png  \n",
            "  inflating: train/8/00008_00021_00011.png  \n",
            "  inflating: train/8/00008_00021_00012.png  \n",
            "  inflating: train/8/00008_00021_00013.png  \n",
            "  inflating: train/8/00008_00021_00014.png  \n",
            "  inflating: train/8/00008_00021_00015.png  \n",
            "  inflating: train/8/00008_00021_00016.png  \n",
            "  inflating: train/8/00008_00021_00017.png  \n",
            "  inflating: train/8/00008_00021_00018.png  \n",
            "  inflating: train/8/00008_00021_00019.png  \n",
            "  inflating: train/8/00008_00021_00020.png  \n",
            "  inflating: train/8/00008_00021_00021.png  \n",
            "  inflating: train/8/00008_00021_00022.png  \n",
            "  inflating: train/8/00008_00021_00023.png  \n",
            "  inflating: train/8/00008_00021_00024.png  \n",
            "  inflating: train/8/00008_00021_00025.png  \n",
            "  inflating: train/8/00008_00021_00026.png  \n",
            "  inflating: train/8/00008_00021_00027.png  \n",
            "  inflating: train/8/00008_00021_00028.png  \n",
            "  inflating: train/8/00008_00021_00029.png  \n",
            "  inflating: train/8/00008_00022_00000.png  \n",
            "  inflating: train/8/00008_00022_00001.png  \n",
            "  inflating: train/8/00008_00022_00002.png  \n",
            "  inflating: train/8/00008_00022_00003.png  \n",
            "  inflating: train/8/00008_00022_00004.png  \n",
            "  inflating: train/8/00008_00022_00005.png  \n",
            "  inflating: train/8/00008_00022_00006.png  \n",
            "  inflating: train/8/00008_00022_00007.png  \n",
            "  inflating: train/8/00008_00022_00008.png  \n",
            "  inflating: train/8/00008_00022_00009.png  \n",
            "  inflating: train/8/00008_00022_00010.png  \n",
            "  inflating: train/8/00008_00022_00011.png  \n",
            "  inflating: train/8/00008_00022_00012.png  \n",
            "  inflating: train/8/00008_00022_00013.png  \n",
            "  inflating: train/8/00008_00022_00014.png  \n",
            "  inflating: train/8/00008_00022_00015.png  \n",
            "  inflating: train/8/00008_00022_00016.png  \n",
            "  inflating: train/8/00008_00022_00017.png  \n",
            "  inflating: train/8/00008_00022_00018.png  \n",
            "  inflating: train/8/00008_00022_00019.png  \n",
            "  inflating: train/8/00008_00022_00020.png  \n",
            "  inflating: train/8/00008_00022_00021.png  \n",
            "  inflating: train/8/00008_00022_00022.png  \n",
            "  inflating: train/8/00008_00022_00023.png  \n",
            "  inflating: train/8/00008_00022_00024.png  \n",
            "  inflating: train/8/00008_00022_00025.png  \n",
            "  inflating: train/8/00008_00022_00026.png  \n",
            "  inflating: train/8/00008_00022_00027.png  \n",
            "  inflating: train/8/00008_00022_00028.png  \n",
            "  inflating: train/8/00008_00022_00029.png  \n",
            "  inflating: train/8/00008_00023_00000.png  \n",
            "  inflating: train/8/00008_00023_00001.png  \n",
            "  inflating: train/8/00008_00023_00002.png  \n",
            "  inflating: train/8/00008_00023_00003.png  \n",
            "  inflating: train/8/00008_00023_00004.png  \n",
            "  inflating: train/8/00008_00023_00005.png  \n",
            "  inflating: train/8/00008_00023_00006.png  \n",
            "  inflating: train/8/00008_00023_00007.png  \n",
            "  inflating: train/8/00008_00023_00008.png  \n",
            "  inflating: train/8/00008_00023_00009.png  \n",
            "  inflating: train/8/00008_00023_00010.png  \n",
            "  inflating: train/8/00008_00023_00011.png  \n",
            "  inflating: train/8/00008_00023_00012.png  \n",
            "  inflating: train/8/00008_00023_00013.png  \n",
            "  inflating: train/8/00008_00023_00014.png  \n",
            "  inflating: train/8/00008_00023_00015.png  \n",
            "  inflating: train/8/00008_00023_00016.png  \n",
            "  inflating: train/8/00008_00023_00017.png  \n",
            "  inflating: train/8/00008_00023_00018.png  \n",
            "  inflating: train/8/00008_00023_00019.png  \n",
            "  inflating: train/8/00008_00023_00020.png  \n",
            "  inflating: train/8/00008_00023_00021.png  \n",
            "  inflating: train/8/00008_00023_00022.png  \n",
            "  inflating: train/8/00008_00023_00023.png  \n",
            "  inflating: train/8/00008_00023_00024.png  \n",
            "  inflating: train/8/00008_00023_00025.png  \n",
            "  inflating: train/8/00008_00023_00026.png  \n",
            "  inflating: train/8/00008_00023_00027.png  \n",
            "  inflating: train/8/00008_00023_00028.png  \n",
            "  inflating: train/8/00008_00023_00029.png  \n",
            "  inflating: train/8/00008_00024_00000.png  \n",
            "  inflating: train/8/00008_00024_00001.png  \n",
            "  inflating: train/8/00008_00024_00002.png  \n",
            "  inflating: train/8/00008_00024_00003.png  \n",
            "  inflating: train/8/00008_00024_00004.png  \n",
            "  inflating: train/8/00008_00024_00005.png  \n",
            "  inflating: train/8/00008_00024_00006.png  \n",
            "  inflating: train/8/00008_00024_00007.png  \n",
            "  inflating: train/8/00008_00024_00008.png  \n",
            "  inflating: train/8/00008_00024_00009.png  \n",
            "  inflating: train/8/00008_00024_00010.png  \n",
            "  inflating: train/8/00008_00024_00011.png  \n",
            "  inflating: train/8/00008_00024_00012.png  \n",
            "  inflating: train/8/00008_00024_00013.png  \n",
            "  inflating: train/8/00008_00024_00014.png  \n",
            "  inflating: train/8/00008_00024_00015.png  \n",
            "  inflating: train/8/00008_00024_00016.png  \n",
            "  inflating: train/8/00008_00024_00017.png  \n",
            "  inflating: train/8/00008_00024_00018.png  \n",
            "  inflating: train/8/00008_00024_00019.png  \n",
            "  inflating: train/8/00008_00024_00020.png  \n",
            "  inflating: train/8/00008_00024_00021.png  \n",
            "  inflating: train/8/00008_00024_00022.png  \n",
            "  inflating: train/8/00008_00024_00023.png  \n",
            "  inflating: train/8/00008_00024_00024.png  \n",
            "  inflating: train/8/00008_00024_00025.png  \n",
            "  inflating: train/8/00008_00024_00026.png  \n",
            "  inflating: train/8/00008_00024_00027.png  \n",
            "  inflating: train/8/00008_00024_00028.png  \n",
            "  inflating: train/8/00008_00024_00029.png  \n",
            "  inflating: train/8/00008_00025_00000.png  \n",
            "  inflating: train/8/00008_00025_00001.png  \n",
            "  inflating: train/8/00008_00025_00002.png  \n",
            "  inflating: train/8/00008_00025_00003.png  \n",
            "  inflating: train/8/00008_00025_00004.png  \n",
            "  inflating: train/8/00008_00025_00005.png  \n",
            "  inflating: train/8/00008_00025_00006.png  \n",
            "  inflating: train/8/00008_00025_00007.png  \n",
            "  inflating: train/8/00008_00025_00008.png  \n",
            "  inflating: train/8/00008_00025_00009.png  \n",
            "  inflating: train/8/00008_00025_00010.png  \n",
            "  inflating: train/8/00008_00025_00011.png  \n",
            "  inflating: train/8/00008_00025_00012.png  \n",
            "  inflating: train/8/00008_00025_00013.png  \n",
            "  inflating: train/8/00008_00025_00014.png  \n",
            "  inflating: train/8/00008_00025_00015.png  \n",
            "  inflating: train/8/00008_00025_00016.png  \n",
            "  inflating: train/8/00008_00025_00017.png  \n",
            "  inflating: train/8/00008_00025_00018.png  \n",
            "  inflating: train/8/00008_00025_00019.png  \n",
            "  inflating: train/8/00008_00025_00020.png  \n",
            "  inflating: train/8/00008_00025_00021.png  \n",
            "  inflating: train/8/00008_00025_00022.png  \n",
            "  inflating: train/8/00008_00025_00023.png  \n",
            "  inflating: train/8/00008_00025_00024.png  \n",
            "  inflating: train/8/00008_00025_00025.png  \n",
            "  inflating: train/8/00008_00025_00026.png  \n",
            "  inflating: train/8/00008_00025_00027.png  \n",
            "  inflating: train/8/00008_00025_00028.png  \n",
            "  inflating: train/8/00008_00025_00029.png  \n",
            "  inflating: train/8/00008_00026_00000.png  \n",
            "  inflating: train/8/00008_00026_00001.png  \n",
            "  inflating: train/8/00008_00026_00002.png  \n",
            "  inflating: train/8/00008_00026_00003.png  \n",
            "  inflating: train/8/00008_00026_00004.png  \n",
            "  inflating: train/8/00008_00026_00005.png  \n",
            "  inflating: train/8/00008_00026_00006.png  \n",
            "  inflating: train/8/00008_00026_00007.png  \n",
            "  inflating: train/8/00008_00026_00008.png  \n",
            "  inflating: train/8/00008_00026_00009.png  \n",
            "  inflating: train/8/00008_00026_00010.png  \n",
            "  inflating: train/8/00008_00026_00011.png  \n",
            "  inflating: train/8/00008_00026_00012.png  \n",
            "  inflating: train/8/00008_00026_00013.png  \n",
            "  inflating: train/8/00008_00026_00014.png  \n",
            "  inflating: train/8/00008_00026_00015.png  \n",
            "  inflating: train/8/00008_00026_00016.png  \n",
            "  inflating: train/8/00008_00026_00017.png  \n",
            "  inflating: train/8/00008_00026_00018.png  \n",
            "  inflating: train/8/00008_00026_00019.png  \n",
            "  inflating: train/8/00008_00026_00020.png  \n",
            "  inflating: train/8/00008_00026_00021.png  \n",
            "  inflating: train/8/00008_00026_00022.png  \n",
            "  inflating: train/8/00008_00026_00023.png  \n",
            "  inflating: train/8/00008_00026_00024.png  \n",
            "  inflating: train/8/00008_00026_00025.png  \n",
            "  inflating: train/8/00008_00026_00026.png  \n",
            "  inflating: train/8/00008_00026_00027.png  \n",
            "  inflating: train/8/00008_00026_00028.png  \n",
            "  inflating: train/8/00008_00026_00029.png  \n",
            "  inflating: train/8/00008_00027_00000.png  \n",
            "  inflating: train/8/00008_00027_00001.png  \n",
            "  inflating: train/8/00008_00027_00002.png  \n",
            "  inflating: train/8/00008_00027_00003.png  \n",
            "  inflating: train/8/00008_00027_00004.png  \n",
            "  inflating: train/8/00008_00027_00005.png  \n",
            "  inflating: train/8/00008_00027_00006.png  \n",
            "  inflating: train/8/00008_00027_00007.png  \n",
            "  inflating: train/8/00008_00027_00008.png  \n",
            "  inflating: train/8/00008_00027_00009.png  \n",
            "  inflating: train/8/00008_00027_00010.png  \n",
            "  inflating: train/8/00008_00027_00011.png  \n",
            "  inflating: train/8/00008_00027_00012.png  \n",
            "  inflating: train/8/00008_00027_00013.png  \n",
            "  inflating: train/8/00008_00027_00014.png  \n",
            "  inflating: train/8/00008_00027_00015.png  \n",
            "  inflating: train/8/00008_00027_00016.png  \n",
            "  inflating: train/8/00008_00027_00017.png  \n",
            "  inflating: train/8/00008_00027_00018.png  \n",
            "  inflating: train/8/00008_00027_00019.png  \n",
            "  inflating: train/8/00008_00027_00020.png  \n",
            "  inflating: train/8/00008_00027_00021.png  \n",
            "  inflating: train/8/00008_00027_00022.png  \n",
            "  inflating: train/8/00008_00027_00023.png  \n",
            "  inflating: train/8/00008_00027_00024.png  \n",
            "  inflating: train/8/00008_00027_00025.png  \n",
            "  inflating: train/8/00008_00027_00026.png  \n",
            "  inflating: train/8/00008_00027_00027.png  \n",
            "  inflating: train/8/00008_00027_00028.png  \n",
            "  inflating: train/8/00008_00027_00029.png  \n",
            "  inflating: train/8/00008_00028_00000.png  \n",
            "  inflating: train/8/00008_00028_00001.png  \n",
            "  inflating: train/8/00008_00028_00002.png  \n",
            "  inflating: train/8/00008_00028_00003.png  \n",
            "  inflating: train/8/00008_00028_00004.png  \n",
            "  inflating: train/8/00008_00028_00005.png  \n",
            "  inflating: train/8/00008_00028_00006.png  \n",
            "  inflating: train/8/00008_00028_00007.png  \n",
            "  inflating: train/8/00008_00028_00008.png  \n",
            "  inflating: train/8/00008_00028_00009.png  \n",
            "  inflating: train/8/00008_00028_00010.png  \n",
            "  inflating: train/8/00008_00028_00011.png  \n",
            "  inflating: train/8/00008_00028_00012.png  \n",
            "  inflating: train/8/00008_00028_00013.png  \n",
            "  inflating: train/8/00008_00028_00014.png  \n",
            "  inflating: train/8/00008_00028_00015.png  \n",
            "  inflating: train/8/00008_00028_00016.png  \n",
            "  inflating: train/8/00008_00028_00017.png  \n",
            "  inflating: train/8/00008_00028_00018.png  \n",
            "  inflating: train/8/00008_00028_00019.png  \n",
            "  inflating: train/8/00008_00028_00020.png  \n",
            "  inflating: train/8/00008_00028_00021.png  \n",
            "  inflating: train/8/00008_00028_00022.png  \n",
            "  inflating: train/8/00008_00028_00023.png  \n",
            "  inflating: train/8/00008_00028_00024.png  \n",
            "  inflating: train/8/00008_00028_00025.png  \n",
            "  inflating: train/8/00008_00028_00026.png  \n",
            "  inflating: train/8/00008_00028_00027.png  \n",
            "  inflating: train/8/00008_00028_00028.png  \n",
            "  inflating: train/8/00008_00028_00029.png  \n",
            "  inflating: train/8/00008_00029_00000.png  \n",
            "  inflating: train/8/00008_00029_00001.png  \n",
            "  inflating: train/8/00008_00029_00002.png  \n",
            "  inflating: train/8/00008_00029_00003.png  \n",
            "  inflating: train/8/00008_00029_00004.png  \n",
            "  inflating: train/8/00008_00029_00005.png  \n",
            "  inflating: train/8/00008_00029_00006.png  \n",
            "  inflating: train/8/00008_00029_00007.png  \n",
            "  inflating: train/8/00008_00029_00008.png  \n",
            "  inflating: train/8/00008_00029_00009.png  \n",
            "  inflating: train/8/00008_00029_00010.png  \n",
            "  inflating: train/8/00008_00029_00011.png  \n",
            "  inflating: train/8/00008_00029_00012.png  \n",
            "  inflating: train/8/00008_00029_00013.png  \n",
            "  inflating: train/8/00008_00029_00014.png  \n",
            "  inflating: train/8/00008_00029_00015.png  \n",
            "  inflating: train/8/00008_00029_00016.png  \n",
            "  inflating: train/8/00008_00029_00017.png  \n",
            "  inflating: train/8/00008_00029_00018.png  \n",
            "  inflating: train/8/00008_00029_00019.png  \n",
            "  inflating: train/8/00008_00029_00020.png  \n",
            "  inflating: train/8/00008_00029_00021.png  \n",
            "  inflating: train/8/00008_00029_00022.png  \n",
            "  inflating: train/8/00008_00029_00023.png  \n",
            "  inflating: train/8/00008_00029_00024.png  \n",
            "  inflating: train/8/00008_00029_00025.png  \n",
            "  inflating: train/8/00008_00029_00026.png  \n",
            "  inflating: train/8/00008_00029_00027.png  \n",
            "  inflating: train/8/00008_00029_00028.png  \n",
            "  inflating: train/8/00008_00029_00029.png  \n",
            "  inflating: train/8/00008_00030_00000.png  \n",
            "  inflating: train/8/00008_00030_00001.png  \n",
            "  inflating: train/8/00008_00030_00002.png  \n",
            "  inflating: train/8/00008_00030_00003.png  \n",
            "  inflating: train/8/00008_00030_00004.png  \n",
            "  inflating: train/8/00008_00030_00005.png  \n",
            "  inflating: train/8/00008_00030_00006.png  \n",
            "  inflating: train/8/00008_00030_00007.png  \n",
            "  inflating: train/8/00008_00030_00008.png  \n",
            "  inflating: train/8/00008_00030_00009.png  \n",
            "  inflating: train/8/00008_00030_00010.png  \n",
            "  inflating: train/8/00008_00030_00011.png  \n",
            "  inflating: train/8/00008_00030_00012.png  \n",
            "  inflating: train/8/00008_00030_00013.png  \n",
            "  inflating: train/8/00008_00030_00014.png  \n",
            "  inflating: train/8/00008_00030_00015.png  \n",
            "  inflating: train/8/00008_00030_00016.png  \n",
            "  inflating: train/8/00008_00030_00017.png  \n",
            "  inflating: train/8/00008_00030_00018.png  \n",
            "  inflating: train/8/00008_00030_00019.png  \n",
            "  inflating: train/8/00008_00030_00020.png  \n",
            "  inflating: train/8/00008_00030_00021.png  \n",
            "  inflating: train/8/00008_00030_00022.png  \n",
            "  inflating: train/8/00008_00030_00023.png  \n",
            "  inflating: train/8/00008_00030_00024.png  \n",
            "  inflating: train/8/00008_00030_00025.png  \n",
            "  inflating: train/8/00008_00030_00026.png  \n",
            "  inflating: train/8/00008_00030_00027.png  \n",
            "  inflating: train/8/00008_00030_00028.png  \n",
            "  inflating: train/8/00008_00030_00029.png  \n",
            "  inflating: train/8/00008_00031_00000.png  \n",
            "  inflating: train/8/00008_00031_00001.png  \n",
            "  inflating: train/8/00008_00031_00002.png  \n",
            "  inflating: train/8/00008_00031_00003.png  \n",
            "  inflating: train/8/00008_00031_00004.png  \n",
            "  inflating: train/8/00008_00031_00005.png  \n",
            "  inflating: train/8/00008_00031_00006.png  \n",
            "  inflating: train/8/00008_00031_00007.png  \n",
            "  inflating: train/8/00008_00031_00008.png  \n",
            "  inflating: train/8/00008_00031_00009.png  \n",
            "  inflating: train/8/00008_00031_00010.png  \n",
            "  inflating: train/8/00008_00031_00011.png  \n",
            "  inflating: train/8/00008_00031_00012.png  \n",
            "  inflating: train/8/00008_00031_00013.png  \n",
            "  inflating: train/8/00008_00031_00014.png  \n",
            "  inflating: train/8/00008_00031_00015.png  \n",
            "  inflating: train/8/00008_00031_00016.png  \n",
            "  inflating: train/8/00008_00031_00017.png  \n",
            "  inflating: train/8/00008_00031_00018.png  \n",
            "  inflating: train/8/00008_00031_00019.png  \n",
            "  inflating: train/8/00008_00031_00020.png  \n",
            "  inflating: train/8/00008_00031_00021.png  \n",
            "  inflating: train/8/00008_00031_00022.png  \n",
            "  inflating: train/8/00008_00031_00023.png  \n",
            "  inflating: train/8/00008_00031_00024.png  \n",
            "  inflating: train/8/00008_00031_00025.png  \n",
            "  inflating: train/8/00008_00031_00026.png  \n",
            "  inflating: train/8/00008_00031_00027.png  \n",
            "  inflating: train/8/00008_00031_00028.png  \n",
            "  inflating: train/8/00008_00031_00029.png  \n",
            "  inflating: train/8/00008_00032_00000.png  \n",
            "  inflating: train/8/00008_00032_00001.png  \n",
            "  inflating: train/8/00008_00032_00002.png  \n",
            "  inflating: train/8/00008_00032_00003.png  \n",
            "  inflating: train/8/00008_00032_00004.png  \n",
            "  inflating: train/8/00008_00032_00005.png  \n",
            "  inflating: train/8/00008_00032_00006.png  \n",
            "  inflating: train/8/00008_00032_00007.png  \n",
            "  inflating: train/8/00008_00032_00008.png  \n",
            "  inflating: train/8/00008_00032_00009.png  \n",
            "  inflating: train/8/00008_00032_00010.png  \n",
            "  inflating: train/8/00008_00032_00011.png  \n",
            "  inflating: train/8/00008_00032_00012.png  \n",
            "  inflating: train/8/00008_00032_00013.png  \n",
            "  inflating: train/8/00008_00032_00014.png  \n",
            "  inflating: train/8/00008_00032_00015.png  \n",
            "  inflating: train/8/00008_00032_00016.png  \n",
            "  inflating: train/8/00008_00032_00017.png  \n",
            "  inflating: train/8/00008_00032_00018.png  \n",
            "  inflating: train/8/00008_00032_00019.png  \n",
            "  inflating: train/8/00008_00032_00020.png  \n",
            "  inflating: train/8/00008_00032_00021.png  \n",
            "  inflating: train/8/00008_00032_00022.png  \n",
            "  inflating: train/8/00008_00032_00023.png  \n",
            "  inflating: train/8/00008_00032_00024.png  \n",
            "  inflating: train/8/00008_00032_00025.png  \n",
            "  inflating: train/8/00008_00032_00026.png  \n",
            "  inflating: train/8/00008_00032_00027.png  \n",
            "  inflating: train/8/00008_00032_00028.png  \n",
            "  inflating: train/8/00008_00032_00029.png  \n",
            "  inflating: train/8/00008_00033_00000.png  \n",
            "  inflating: train/8/00008_00033_00001.png  \n",
            "  inflating: train/8/00008_00033_00002.png  \n",
            "  inflating: train/8/00008_00033_00003.png  \n",
            "  inflating: train/8/00008_00033_00004.png  \n",
            "  inflating: train/8/00008_00033_00005.png  \n",
            "  inflating: train/8/00008_00033_00006.png  \n",
            "  inflating: train/8/00008_00033_00007.png  \n",
            "  inflating: train/8/00008_00033_00008.png  \n",
            "  inflating: train/8/00008_00033_00009.png  \n",
            "  inflating: train/8/00008_00033_00010.png  \n",
            "  inflating: train/8/00008_00033_00011.png  \n",
            "  inflating: train/8/00008_00033_00012.png  \n",
            "  inflating: train/8/00008_00033_00013.png  \n",
            "  inflating: train/8/00008_00033_00014.png  \n",
            "  inflating: train/8/00008_00033_00015.png  \n",
            "  inflating: train/8/00008_00033_00016.png  \n",
            "  inflating: train/8/00008_00033_00017.png  \n",
            "  inflating: train/8/00008_00033_00018.png  \n",
            "  inflating: train/8/00008_00033_00019.png  \n",
            "  inflating: train/8/00008_00033_00020.png  \n",
            "  inflating: train/8/00008_00033_00021.png  \n",
            "  inflating: train/8/00008_00033_00022.png  \n",
            "  inflating: train/8/00008_00033_00023.png  \n",
            "  inflating: train/8/00008_00033_00024.png  \n",
            "  inflating: train/8/00008_00033_00025.png  \n",
            "  inflating: train/8/00008_00033_00026.png  \n",
            "  inflating: train/8/00008_00033_00027.png  \n",
            "  inflating: train/8/00008_00033_00028.png  \n",
            "  inflating: train/8/00008_00033_00029.png  \n",
            "  inflating: train/8/00008_00034_00000.png  \n",
            "  inflating: train/8/00008_00034_00001.png  \n",
            "  inflating: train/8/00008_00034_00002.png  \n",
            "  inflating: train/8/00008_00034_00003.png  \n",
            "  inflating: train/8/00008_00034_00004.png  \n",
            "  inflating: train/8/00008_00034_00005.png  \n",
            "  inflating: train/8/00008_00034_00006.png  \n",
            "  inflating: train/8/00008_00034_00007.png  \n",
            "  inflating: train/8/00008_00034_00008.png  \n",
            "  inflating: train/8/00008_00034_00009.png  \n",
            "  inflating: train/8/00008_00034_00010.png  \n",
            "  inflating: train/8/00008_00034_00011.png  \n",
            "  inflating: train/8/00008_00034_00012.png  \n",
            "  inflating: train/8/00008_00034_00013.png  \n",
            "  inflating: train/8/00008_00034_00014.png  \n",
            "  inflating: train/8/00008_00034_00015.png  \n",
            "  inflating: train/8/00008_00034_00016.png  \n",
            "  inflating: train/8/00008_00034_00017.png  \n",
            "  inflating: train/8/00008_00034_00018.png  \n",
            "  inflating: train/8/00008_00034_00019.png  \n",
            "  inflating: train/8/00008_00034_00020.png  \n",
            "  inflating: train/8/00008_00034_00021.png  \n",
            "  inflating: train/8/00008_00034_00022.png  \n",
            "  inflating: train/8/00008_00034_00023.png  \n",
            "  inflating: train/8/00008_00034_00024.png  \n",
            "  inflating: train/8/00008_00034_00025.png  \n",
            "  inflating: train/8/00008_00034_00026.png  \n",
            "  inflating: train/8/00008_00034_00027.png  \n",
            "  inflating: train/8/00008_00034_00028.png  \n",
            "  inflating: train/8/00008_00034_00029.png  \n",
            "  inflating: train/8/00008_00035_00000.png  \n",
            "  inflating: train/8/00008_00035_00001.png  \n",
            "  inflating: train/8/00008_00035_00002.png  \n",
            "  inflating: train/8/00008_00035_00003.png  \n",
            "  inflating: train/8/00008_00035_00004.png  \n",
            "  inflating: train/8/00008_00035_00005.png  \n",
            "  inflating: train/8/00008_00035_00006.png  \n",
            "  inflating: train/8/00008_00035_00007.png  \n",
            "  inflating: train/8/00008_00035_00008.png  \n",
            "  inflating: train/8/00008_00035_00009.png  \n",
            "  inflating: train/8/00008_00035_00010.png  \n",
            "  inflating: train/8/00008_00035_00011.png  \n",
            "  inflating: train/8/00008_00035_00012.png  \n",
            "  inflating: train/8/00008_00035_00013.png  \n",
            "  inflating: train/8/00008_00035_00014.png  \n",
            "  inflating: train/8/00008_00035_00015.png  \n",
            "  inflating: train/8/00008_00035_00016.png  \n",
            "  inflating: train/8/00008_00035_00017.png  \n",
            "  inflating: train/8/00008_00035_00018.png  \n",
            "  inflating: train/8/00008_00035_00019.png  \n",
            "  inflating: train/8/00008_00035_00020.png  \n",
            "  inflating: train/8/00008_00035_00021.png  \n",
            "  inflating: train/8/00008_00035_00022.png  \n",
            "  inflating: train/8/00008_00035_00023.png  \n",
            "  inflating: train/8/00008_00035_00024.png  \n",
            "  inflating: train/8/00008_00035_00025.png  \n",
            "  inflating: train/8/00008_00035_00026.png  \n",
            "  inflating: train/8/00008_00035_00027.png  \n",
            "  inflating: train/8/00008_00035_00028.png  \n",
            "  inflating: train/8/00008_00035_00029.png  \n",
            "  inflating: train/8/00008_00036_00000.png  \n",
            "  inflating: train/8/00008_00036_00001.png  \n",
            "  inflating: train/8/00008_00036_00002.png  \n",
            "  inflating: train/8/00008_00036_00003.png  \n",
            "  inflating: train/8/00008_00036_00004.png  \n",
            "  inflating: train/8/00008_00036_00005.png  \n",
            "  inflating: train/8/00008_00036_00006.png  \n",
            "  inflating: train/8/00008_00036_00007.png  \n",
            "  inflating: train/8/00008_00036_00008.png  \n",
            "  inflating: train/8/00008_00036_00009.png  \n",
            "  inflating: train/8/00008_00036_00010.png  \n",
            "  inflating: train/8/00008_00036_00011.png  \n",
            "  inflating: train/8/00008_00036_00012.png  \n",
            "  inflating: train/8/00008_00036_00013.png  \n",
            "  inflating: train/8/00008_00036_00014.png  \n",
            "  inflating: train/8/00008_00036_00015.png  \n",
            "  inflating: train/8/00008_00036_00016.png  \n",
            "  inflating: train/8/00008_00036_00017.png  \n",
            "  inflating: train/8/00008_00036_00018.png  \n",
            "  inflating: train/8/00008_00036_00019.png  \n",
            "  inflating: train/8/00008_00036_00020.png  \n",
            "  inflating: train/8/00008_00036_00021.png  \n",
            "  inflating: train/8/00008_00036_00022.png  \n",
            "  inflating: train/8/00008_00036_00023.png  \n",
            "  inflating: train/8/00008_00036_00024.png  \n",
            "  inflating: train/8/00008_00036_00025.png  \n",
            "  inflating: train/8/00008_00036_00026.png  \n",
            "  inflating: train/8/00008_00036_00027.png  \n",
            "  inflating: train/8/00008_00036_00028.png  \n",
            "  inflating: train/8/00008_00036_00029.png  \n",
            "  inflating: train/8/00008_00037_00000.png  \n",
            "  inflating: train/8/00008_00037_00001.png  \n",
            "  inflating: train/8/00008_00037_00002.png  \n",
            "  inflating: train/8/00008_00037_00003.png  \n",
            "  inflating: train/8/00008_00037_00004.png  \n",
            "  inflating: train/8/00008_00037_00005.png  \n",
            "  inflating: train/8/00008_00037_00006.png  \n",
            "  inflating: train/8/00008_00037_00007.png  \n",
            "  inflating: train/8/00008_00037_00008.png  \n",
            "  inflating: train/8/00008_00037_00009.png  \n",
            "  inflating: train/8/00008_00037_00010.png  \n",
            "  inflating: train/8/00008_00037_00011.png  \n",
            "  inflating: train/8/00008_00037_00012.png  \n",
            "  inflating: train/8/00008_00037_00013.png  \n",
            "  inflating: train/8/00008_00037_00014.png  \n",
            "  inflating: train/8/00008_00037_00015.png  \n",
            "  inflating: train/8/00008_00037_00016.png  \n",
            "  inflating: train/8/00008_00037_00017.png  \n",
            "  inflating: train/8/00008_00037_00018.png  \n",
            "  inflating: train/8/00008_00037_00019.png  \n",
            "  inflating: train/8/00008_00037_00020.png  \n",
            "  inflating: train/8/00008_00037_00021.png  \n",
            "  inflating: train/8/00008_00037_00022.png  \n",
            "  inflating: train/8/00008_00037_00023.png  \n",
            "  inflating: train/8/00008_00037_00024.png  \n",
            "  inflating: train/8/00008_00037_00025.png  \n",
            "  inflating: train/8/00008_00037_00026.png  \n",
            "  inflating: train/8/00008_00037_00027.png  \n",
            "  inflating: train/8/00008_00037_00028.png  \n",
            "  inflating: train/8/00008_00037_00029.png  \n",
            "  inflating: train/8/00008_00038_00000.png  \n",
            "  inflating: train/8/00008_00038_00001.png  \n",
            "  inflating: train/8/00008_00038_00002.png  \n",
            "  inflating: train/8/00008_00038_00003.png  \n",
            "  inflating: train/8/00008_00038_00004.png  \n",
            "  inflating: train/8/00008_00038_00005.png  \n",
            "  inflating: train/8/00008_00038_00006.png  \n",
            "  inflating: train/8/00008_00038_00007.png  \n",
            "  inflating: train/8/00008_00038_00008.png  \n",
            "  inflating: train/8/00008_00038_00009.png  \n",
            "  inflating: train/8/00008_00038_00010.png  \n",
            "  inflating: train/8/00008_00038_00011.png  \n",
            "  inflating: train/8/00008_00038_00012.png  \n",
            "  inflating: train/8/00008_00038_00013.png  \n",
            "  inflating: train/8/00008_00038_00014.png  \n",
            "  inflating: train/8/00008_00038_00015.png  \n",
            "  inflating: train/8/00008_00038_00016.png  \n",
            "  inflating: train/8/00008_00038_00017.png  \n",
            "  inflating: train/8/00008_00038_00018.png  \n",
            "  inflating: train/8/00008_00038_00019.png  \n",
            "  inflating: train/8/00008_00038_00020.png  \n",
            "  inflating: train/8/00008_00038_00021.png  \n",
            "  inflating: train/8/00008_00038_00022.png  \n",
            "  inflating: train/8/00008_00038_00023.png  \n",
            "  inflating: train/8/00008_00038_00024.png  \n",
            "  inflating: train/8/00008_00038_00025.png  \n",
            "  inflating: train/8/00008_00038_00026.png  \n",
            "  inflating: train/8/00008_00038_00027.png  \n",
            "  inflating: train/8/00008_00038_00028.png  \n",
            "  inflating: train/8/00008_00038_00029.png  \n",
            "  inflating: train/8/00008_00039_00000.png  \n",
            "  inflating: train/8/00008_00039_00001.png  \n",
            "  inflating: train/8/00008_00039_00002.png  \n",
            "  inflating: train/8/00008_00039_00003.png  \n",
            "  inflating: train/8/00008_00039_00004.png  \n",
            "  inflating: train/8/00008_00039_00005.png  \n",
            "  inflating: train/8/00008_00039_00006.png  \n",
            "  inflating: train/8/00008_00039_00007.png  \n",
            "  inflating: train/8/00008_00039_00008.png  \n",
            "  inflating: train/8/00008_00039_00009.png  \n",
            "  inflating: train/8/00008_00039_00010.png  \n",
            "  inflating: train/8/00008_00039_00011.png  \n",
            "  inflating: train/8/00008_00039_00012.png  \n",
            "  inflating: train/8/00008_00039_00013.png  \n",
            "  inflating: train/8/00008_00039_00014.png  \n",
            "  inflating: train/8/00008_00039_00015.png  \n",
            "  inflating: train/8/00008_00039_00016.png  \n",
            "  inflating: train/8/00008_00039_00017.png  \n",
            "  inflating: train/8/00008_00039_00018.png  \n",
            "  inflating: train/8/00008_00039_00019.png  \n",
            "  inflating: train/8/00008_00039_00020.png  \n",
            "  inflating: train/8/00008_00039_00021.png  \n",
            "  inflating: train/8/00008_00039_00022.png  \n",
            "  inflating: train/8/00008_00039_00023.png  \n",
            "  inflating: train/8/00008_00039_00024.png  \n",
            "  inflating: train/8/00008_00039_00025.png  \n",
            "  inflating: train/8/00008_00039_00026.png  \n",
            "  inflating: train/8/00008_00039_00027.png  \n",
            "  inflating: train/8/00008_00039_00028.png  \n",
            "  inflating: train/8/00008_00039_00029.png  \n",
            "  inflating: train/8/00008_00040_00000.png  \n",
            "  inflating: train/8/00008_00040_00001.png  \n",
            "  inflating: train/8/00008_00040_00002.png  \n",
            "  inflating: train/8/00008_00040_00003.png  \n",
            "  inflating: train/8/00008_00040_00004.png  \n",
            "  inflating: train/8/00008_00040_00005.png  \n",
            "  inflating: train/8/00008_00040_00006.png  \n",
            "  inflating: train/8/00008_00040_00007.png  \n",
            "  inflating: train/8/00008_00040_00008.png  \n",
            "  inflating: train/8/00008_00040_00009.png  \n",
            "  inflating: train/8/00008_00040_00010.png  \n",
            "  inflating: train/8/00008_00040_00011.png  \n",
            "  inflating: train/8/00008_00040_00012.png  \n",
            "  inflating: train/8/00008_00040_00013.png  \n",
            "  inflating: train/8/00008_00040_00014.png  \n",
            "  inflating: train/8/00008_00040_00015.png  \n",
            "  inflating: train/8/00008_00040_00016.png  \n",
            "  inflating: train/8/00008_00040_00017.png  \n",
            "  inflating: train/8/00008_00040_00018.png  \n",
            "  inflating: train/8/00008_00040_00019.png  \n",
            "  inflating: train/8/00008_00040_00020.png  \n",
            "  inflating: train/8/00008_00040_00021.png  \n",
            "  inflating: train/8/00008_00040_00022.png  \n",
            "  inflating: train/8/00008_00040_00023.png  \n",
            "  inflating: train/8/00008_00040_00024.png  \n",
            "  inflating: train/8/00008_00040_00025.png  \n",
            "  inflating: train/8/00008_00040_00026.png  \n",
            "  inflating: train/8/00008_00040_00027.png  \n",
            "  inflating: train/8/00008_00040_00028.png  \n",
            "  inflating: train/8/00008_00040_00029.png  \n",
            "  inflating: train/8/00008_00041_00000.png  \n",
            "  inflating: train/8/00008_00041_00001.png  \n",
            "  inflating: train/8/00008_00041_00002.png  \n",
            "  inflating: train/8/00008_00041_00003.png  \n",
            "  inflating: train/8/00008_00041_00004.png  \n",
            "  inflating: train/8/00008_00041_00005.png  \n",
            "  inflating: train/8/00008_00041_00006.png  \n",
            "  inflating: train/8/00008_00041_00007.png  \n",
            "  inflating: train/8/00008_00041_00008.png  \n",
            "  inflating: train/8/00008_00041_00009.png  \n",
            "  inflating: train/8/00008_00041_00010.png  \n",
            "  inflating: train/8/00008_00041_00011.png  \n",
            "  inflating: train/8/00008_00041_00012.png  \n",
            "  inflating: train/8/00008_00041_00013.png  \n",
            "  inflating: train/8/00008_00041_00014.png  \n",
            "  inflating: train/8/00008_00041_00015.png  \n",
            "  inflating: train/8/00008_00041_00016.png  \n",
            "  inflating: train/8/00008_00041_00017.png  \n",
            "  inflating: train/8/00008_00041_00018.png  \n",
            "  inflating: train/8/00008_00041_00019.png  \n",
            "  inflating: train/8/00008_00041_00020.png  \n",
            "  inflating: train/8/00008_00041_00021.png  \n",
            "  inflating: train/8/00008_00041_00022.png  \n",
            "  inflating: train/8/00008_00041_00023.png  \n",
            "  inflating: train/8/00008_00041_00024.png  \n",
            "  inflating: train/8/00008_00041_00025.png  \n",
            "  inflating: train/8/00008_00041_00026.png  \n",
            "  inflating: train/8/00008_00041_00027.png  \n",
            "  inflating: train/8/00008_00041_00028.png  \n",
            "  inflating: train/8/00008_00041_00029.png  \n",
            "  inflating: train/8/00008_00042_00000.png  \n",
            "  inflating: train/8/00008_00042_00001.png  \n",
            "  inflating: train/8/00008_00042_00002.png  \n",
            "  inflating: train/8/00008_00042_00003.png  \n",
            "  inflating: train/8/00008_00042_00004.png  \n",
            "  inflating: train/8/00008_00042_00005.png  \n",
            "  inflating: train/8/00008_00042_00006.png  \n",
            "  inflating: train/8/00008_00042_00007.png  \n",
            "  inflating: train/8/00008_00042_00008.png  \n",
            "  inflating: train/8/00008_00042_00009.png  \n",
            "  inflating: train/8/00008_00042_00010.png  \n",
            "  inflating: train/8/00008_00042_00011.png  \n",
            "  inflating: train/8/00008_00042_00012.png  \n",
            "  inflating: train/8/00008_00042_00013.png  \n",
            "  inflating: train/8/00008_00042_00014.png  \n",
            "  inflating: train/8/00008_00042_00015.png  \n",
            "  inflating: train/8/00008_00042_00016.png  \n",
            "  inflating: train/8/00008_00042_00017.png  \n",
            "  inflating: train/8/00008_00042_00018.png  \n",
            "  inflating: train/8/00008_00042_00019.png  \n",
            "  inflating: train/8/00008_00042_00020.png  \n",
            "  inflating: train/8/00008_00042_00021.png  \n",
            "  inflating: train/8/00008_00042_00022.png  \n",
            "  inflating: train/8/00008_00042_00023.png  \n",
            "  inflating: train/8/00008_00042_00024.png  \n",
            "  inflating: train/8/00008_00042_00025.png  \n",
            "  inflating: train/8/00008_00042_00026.png  \n",
            "  inflating: train/8/00008_00042_00027.png  \n",
            "  inflating: train/8/00008_00042_00028.png  \n",
            "  inflating: train/8/00008_00042_00029.png  \n",
            "  inflating: train/8/00008_00043_00000.png  \n",
            "  inflating: train/8/00008_00043_00001.png  \n",
            "  inflating: train/8/00008_00043_00002.png  \n",
            "  inflating: train/8/00008_00043_00003.png  \n",
            "  inflating: train/8/00008_00043_00004.png  \n",
            "  inflating: train/8/00008_00043_00005.png  \n",
            "  inflating: train/8/00008_00043_00006.png  \n",
            "  inflating: train/8/00008_00043_00007.png  \n",
            "  inflating: train/8/00008_00043_00008.png  \n",
            "  inflating: train/8/00008_00043_00009.png  \n",
            "  inflating: train/8/00008_00043_00010.png  \n",
            "  inflating: train/8/00008_00043_00011.png  \n",
            "  inflating: train/8/00008_00043_00012.png  \n",
            "  inflating: train/8/00008_00043_00013.png  \n",
            "  inflating: train/8/00008_00043_00014.png  \n",
            "  inflating: train/8/00008_00043_00015.png  \n",
            "  inflating: train/8/00008_00043_00016.png  \n",
            "  inflating: train/8/00008_00043_00017.png  \n",
            "  inflating: train/8/00008_00043_00018.png  \n",
            "  inflating: train/8/00008_00043_00019.png  \n",
            "  inflating: train/8/00008_00043_00020.png  \n",
            "  inflating: train/8/00008_00043_00021.png  \n",
            "  inflating: train/8/00008_00043_00022.png  \n",
            "  inflating: train/8/00008_00043_00023.png  \n",
            "  inflating: train/8/00008_00043_00024.png  \n",
            "  inflating: train/8/00008_00043_00025.png  \n",
            "  inflating: train/8/00008_00043_00026.png  \n",
            "  inflating: train/8/00008_00043_00027.png  \n",
            "  inflating: train/8/00008_00043_00028.png  \n",
            "  inflating: train/8/00008_00043_00029.png  \n",
            "  inflating: train/8/00008_00044_00000.png  \n",
            "  inflating: train/8/00008_00044_00001.png  \n",
            "  inflating: train/8/00008_00044_00002.png  \n",
            "  inflating: train/8/00008_00044_00003.png  \n",
            "  inflating: train/8/00008_00044_00004.png  \n",
            "  inflating: train/8/00008_00044_00005.png  \n",
            "  inflating: train/8/00008_00044_00006.png  \n",
            "  inflating: train/8/00008_00044_00007.png  \n",
            "  inflating: train/8/00008_00044_00008.png  \n",
            "  inflating: train/8/00008_00044_00009.png  \n",
            "  inflating: train/8/00008_00044_00010.png  \n",
            "  inflating: train/8/00008_00044_00011.png  \n",
            "  inflating: train/8/00008_00044_00012.png  \n",
            "  inflating: train/8/00008_00044_00013.png  \n",
            "  inflating: train/8/00008_00044_00014.png  \n",
            "  inflating: train/8/00008_00044_00015.png  \n",
            "  inflating: train/8/00008_00044_00016.png  \n",
            "  inflating: train/8/00008_00044_00017.png  \n",
            "  inflating: train/8/00008_00044_00018.png  \n",
            "  inflating: train/8/00008_00044_00019.png  \n",
            "  inflating: train/8/00008_00044_00020.png  \n",
            "  inflating: train/8/00008_00044_00021.png  \n",
            "  inflating: train/8/00008_00044_00022.png  \n",
            "  inflating: train/8/00008_00044_00023.png  \n",
            "  inflating: train/8/00008_00044_00024.png  \n",
            "  inflating: train/8/00008_00044_00025.png  \n",
            "  inflating: train/8/00008_00044_00026.png  \n",
            "  inflating: train/8/00008_00044_00027.png  \n",
            "  inflating: train/8/00008_00044_00028.png  \n",
            "  inflating: train/8/00008_00044_00029.png  \n",
            "  inflating: train/8/00008_00045_00000.png  \n",
            "  inflating: train/8/00008_00045_00001.png  \n",
            "  inflating: train/8/00008_00045_00002.png  \n",
            "  inflating: train/8/00008_00045_00003.png  \n",
            "  inflating: train/8/00008_00045_00004.png  \n",
            "  inflating: train/8/00008_00045_00005.png  \n",
            "  inflating: train/8/00008_00045_00006.png  \n",
            "  inflating: train/8/00008_00045_00007.png  \n",
            "  inflating: train/8/00008_00045_00008.png  \n",
            "  inflating: train/8/00008_00045_00009.png  \n",
            "  inflating: train/8/00008_00045_00010.png  \n",
            "  inflating: train/8/00008_00045_00011.png  \n",
            "  inflating: train/8/00008_00045_00012.png  \n",
            "  inflating: train/8/00008_00045_00013.png  \n",
            "  inflating: train/8/00008_00045_00014.png  \n",
            "  inflating: train/8/00008_00045_00015.png  \n",
            "  inflating: train/8/00008_00045_00016.png  \n",
            "  inflating: train/8/00008_00045_00017.png  \n",
            "  inflating: train/8/00008_00045_00018.png  \n",
            "  inflating: train/8/00008_00045_00019.png  \n",
            "  inflating: train/8/00008_00045_00020.png  \n",
            "  inflating: train/8/00008_00045_00021.png  \n",
            "  inflating: train/8/00008_00045_00022.png  \n",
            "  inflating: train/8/00008_00045_00023.png  \n",
            "  inflating: train/8/00008_00045_00024.png  \n",
            "  inflating: train/8/00008_00045_00025.png  \n",
            "  inflating: train/8/00008_00045_00026.png  \n",
            "  inflating: train/8/00008_00045_00027.png  \n",
            "  inflating: train/8/00008_00045_00028.png  \n",
            "  inflating: train/8/00008_00045_00029.png  \n",
            "  inflating: train/8/00008_00046_00000.png  \n",
            "  inflating: train/8/00008_00046_00001.png  \n",
            "  inflating: train/8/00008_00046_00002.png  \n",
            "  inflating: train/8/00008_00046_00003.png  \n",
            "  inflating: train/8/00008_00046_00004.png  \n",
            "  inflating: train/8/00008_00046_00005.png  \n",
            "  inflating: train/8/00008_00046_00006.png  \n",
            "  inflating: train/8/00008_00046_00007.png  \n",
            "  inflating: train/8/00008_00046_00008.png  \n",
            "  inflating: train/8/00008_00046_00009.png  \n",
            "  inflating: train/8/00008_00046_00010.png  \n",
            "  inflating: train/8/00008_00046_00011.png  \n",
            "  inflating: train/8/00008_00046_00012.png  \n",
            "  inflating: train/8/00008_00046_00013.png  \n",
            "  inflating: train/8/00008_00046_00014.png  \n",
            "  inflating: train/8/00008_00046_00015.png  \n",
            "  inflating: train/8/00008_00046_00016.png  \n",
            "  inflating: train/8/00008_00046_00017.png  \n",
            "  inflating: train/8/00008_00046_00018.png  \n",
            "  inflating: train/8/00008_00046_00019.png  \n",
            "  inflating: train/8/00008_00046_00020.png  \n",
            "  inflating: train/8/00008_00046_00021.png  \n",
            "  inflating: train/8/00008_00046_00022.png  \n",
            "  inflating: train/8/00008_00046_00023.png  \n",
            "  inflating: train/8/00008_00046_00024.png  \n",
            "  inflating: train/8/00008_00046_00025.png  \n",
            "  inflating: train/8/00008_00046_00026.png  \n",
            "  inflating: train/8/00008_00046_00027.png  \n",
            "  inflating: train/8/00008_00046_00028.png  \n",
            "  inflating: train/8/00008_00046_00029.png  \n",
            "  inflating: train/9/00009_00000_00000.png  \n",
            "  inflating: train/9/00009_00000_00001.png  \n",
            "  inflating: train/9/00009_00000_00002.png  \n",
            "  inflating: train/9/00009_00000_00003.png  \n",
            "  inflating: train/9/00009_00000_00004.png  \n",
            "  inflating: train/9/00009_00000_00005.png  \n",
            "  inflating: train/9/00009_00000_00006.png  \n",
            "  inflating: train/9/00009_00000_00007.png  \n",
            "  inflating: train/9/00009_00000_00008.png  \n",
            "  inflating: train/9/00009_00000_00009.png  \n",
            "  inflating: train/9/00009_00000_00010.png  \n",
            "  inflating: train/9/00009_00000_00011.png  \n",
            "  inflating: train/9/00009_00000_00012.png  \n",
            "  inflating: train/9/00009_00000_00013.png  \n",
            "  inflating: train/9/00009_00000_00014.png  \n",
            "  inflating: train/9/00009_00000_00015.png  \n",
            "  inflating: train/9/00009_00000_00016.png  \n",
            "  inflating: train/9/00009_00000_00017.png  \n",
            "  inflating: train/9/00009_00000_00018.png  \n",
            "  inflating: train/9/00009_00000_00019.png  \n",
            "  inflating: train/9/00009_00000_00020.png  \n",
            "  inflating: train/9/00009_00000_00021.png  \n",
            "  inflating: train/9/00009_00000_00022.png  \n",
            "  inflating: train/9/00009_00000_00023.png  \n",
            "  inflating: train/9/00009_00000_00024.png  \n",
            "  inflating: train/9/00009_00000_00025.png  \n",
            "  inflating: train/9/00009_00000_00026.png  \n",
            "  inflating: train/9/00009_00000_00027.png  \n",
            "  inflating: train/9/00009_00000_00028.png  \n",
            "  inflating: train/9/00009_00000_00029.png  \n",
            "  inflating: train/9/00009_00001_00000.png  \n",
            "  inflating: train/9/00009_00001_00001.png  \n",
            "  inflating: train/9/00009_00001_00002.png  \n",
            "  inflating: train/9/00009_00001_00003.png  \n",
            "  inflating: train/9/00009_00001_00004.png  \n",
            "  inflating: train/9/00009_00001_00005.png  \n",
            "  inflating: train/9/00009_00001_00006.png  \n",
            "  inflating: train/9/00009_00001_00007.png  \n",
            "  inflating: train/9/00009_00001_00008.png  \n",
            "  inflating: train/9/00009_00001_00009.png  \n",
            "  inflating: train/9/00009_00001_00010.png  \n",
            "  inflating: train/9/00009_00001_00011.png  \n",
            "  inflating: train/9/00009_00001_00012.png  \n",
            "  inflating: train/9/00009_00001_00013.png  \n",
            "  inflating: train/9/00009_00001_00014.png  \n",
            "  inflating: train/9/00009_00001_00015.png  \n",
            "  inflating: train/9/00009_00001_00016.png  \n",
            "  inflating: train/9/00009_00001_00017.png  \n",
            "  inflating: train/9/00009_00001_00018.png  \n",
            "  inflating: train/9/00009_00001_00019.png  \n",
            "  inflating: train/9/00009_00001_00020.png  \n",
            "  inflating: train/9/00009_00001_00021.png  \n",
            "  inflating: train/9/00009_00001_00022.png  \n",
            "  inflating: train/9/00009_00001_00023.png  \n",
            "  inflating: train/9/00009_00001_00024.png  \n",
            "  inflating: train/9/00009_00001_00025.png  \n",
            "  inflating: train/9/00009_00001_00026.png  \n",
            "  inflating: train/9/00009_00001_00027.png  \n",
            "  inflating: train/9/00009_00001_00028.png  \n",
            "  inflating: train/9/00009_00001_00029.png  \n",
            "  inflating: train/9/00009_00002_00000.png  \n",
            "  inflating: train/9/00009_00002_00001.png  \n",
            "  inflating: train/9/00009_00002_00002.png  \n",
            "  inflating: train/9/00009_00002_00003.png  \n",
            "  inflating: train/9/00009_00002_00004.png  \n",
            "  inflating: train/9/00009_00002_00005.png  \n",
            "  inflating: train/9/00009_00002_00006.png  \n",
            "  inflating: train/9/00009_00002_00007.png  \n",
            "  inflating: train/9/00009_00002_00008.png  \n",
            "  inflating: train/9/00009_00002_00009.png  \n",
            "  inflating: train/9/00009_00002_00010.png  \n",
            "  inflating: train/9/00009_00002_00011.png  \n",
            "  inflating: train/9/00009_00002_00012.png  \n",
            "  inflating: train/9/00009_00002_00013.png  \n",
            "  inflating: train/9/00009_00002_00014.png  \n",
            "  inflating: train/9/00009_00002_00015.png  \n",
            "  inflating: train/9/00009_00002_00016.png  \n",
            "  inflating: train/9/00009_00002_00017.png  \n",
            "  inflating: train/9/00009_00002_00018.png  \n",
            "  inflating: train/9/00009_00002_00019.png  \n",
            "  inflating: train/9/00009_00002_00020.png  \n",
            "  inflating: train/9/00009_00002_00021.png  \n",
            "  inflating: train/9/00009_00002_00022.png  \n",
            "  inflating: train/9/00009_00002_00023.png  \n",
            "  inflating: train/9/00009_00002_00024.png  \n",
            "  inflating: train/9/00009_00002_00025.png  \n",
            "  inflating: train/9/00009_00002_00026.png  \n",
            "  inflating: train/9/00009_00002_00027.png  \n",
            "  inflating: train/9/00009_00002_00028.png  \n",
            "  inflating: train/9/00009_00002_00029.png  \n",
            "  inflating: train/9/00009_00003_00000.png  \n",
            "  inflating: train/9/00009_00003_00001.png  \n",
            "  inflating: train/9/00009_00003_00002.png  \n",
            "  inflating: train/9/00009_00003_00003.png  \n",
            "  inflating: train/9/00009_00003_00004.png  \n",
            "  inflating: train/9/00009_00003_00005.png  \n",
            "  inflating: train/9/00009_00003_00006.png  \n",
            "  inflating: train/9/00009_00003_00007.png  \n",
            "  inflating: train/9/00009_00003_00008.png  \n",
            "  inflating: train/9/00009_00003_00009.png  \n",
            "  inflating: train/9/00009_00003_00010.png  \n",
            "  inflating: train/9/00009_00003_00011.png  \n",
            "  inflating: train/9/00009_00003_00012.png  \n",
            "  inflating: train/9/00009_00003_00013.png  \n",
            "  inflating: train/9/00009_00003_00014.png  \n",
            "  inflating: train/9/00009_00003_00015.png  \n",
            "  inflating: train/9/00009_00003_00016.png  \n",
            "  inflating: train/9/00009_00003_00017.png  \n",
            "  inflating: train/9/00009_00003_00018.png  \n",
            "  inflating: train/9/00009_00003_00019.png  \n",
            "  inflating: train/9/00009_00003_00020.png  \n",
            "  inflating: train/9/00009_00003_00021.png  \n",
            "  inflating: train/9/00009_00003_00022.png  \n",
            "  inflating: train/9/00009_00003_00023.png  \n",
            "  inflating: train/9/00009_00003_00024.png  \n",
            "  inflating: train/9/00009_00003_00025.png  \n",
            "  inflating: train/9/00009_00003_00026.png  \n",
            "  inflating: train/9/00009_00003_00027.png  \n",
            "  inflating: train/9/00009_00003_00028.png  \n",
            "  inflating: train/9/00009_00003_00029.png  \n",
            "  inflating: train/9/00009_00004_00000.png  \n",
            "  inflating: train/9/00009_00004_00001.png  \n",
            "  inflating: train/9/00009_00004_00002.png  \n",
            "  inflating: train/9/00009_00004_00003.png  \n",
            "  inflating: train/9/00009_00004_00004.png  \n",
            "  inflating: train/9/00009_00004_00005.png  \n",
            "  inflating: train/9/00009_00004_00006.png  \n",
            "  inflating: train/9/00009_00004_00007.png  \n",
            "  inflating: train/9/00009_00004_00008.png  \n",
            "  inflating: train/9/00009_00004_00009.png  \n",
            "  inflating: train/9/00009_00004_00010.png  \n",
            "  inflating: train/9/00009_00004_00011.png  \n",
            "  inflating: train/9/00009_00004_00012.png  \n",
            "  inflating: train/9/00009_00004_00013.png  \n",
            "  inflating: train/9/00009_00004_00014.png  \n",
            "  inflating: train/9/00009_00004_00015.png  \n",
            "  inflating: train/9/00009_00004_00016.png  \n",
            "  inflating: train/9/00009_00004_00017.png  \n",
            "  inflating: train/9/00009_00004_00018.png  \n",
            "  inflating: train/9/00009_00004_00019.png  \n",
            "  inflating: train/9/00009_00004_00020.png  \n",
            "  inflating: train/9/00009_00004_00021.png  \n",
            "  inflating: train/9/00009_00004_00022.png  \n",
            "  inflating: train/9/00009_00004_00023.png  \n",
            "  inflating: train/9/00009_00004_00024.png  \n",
            "  inflating: train/9/00009_00004_00025.png  \n",
            "  inflating: train/9/00009_00004_00026.png  \n",
            "  inflating: train/9/00009_00004_00027.png  \n",
            "  inflating: train/9/00009_00004_00028.png  \n",
            "  inflating: train/9/00009_00004_00029.png  \n",
            "  inflating: train/9/00009_00005_00000.png  \n",
            "  inflating: train/9/00009_00005_00001.png  \n",
            "  inflating: train/9/00009_00005_00002.png  \n",
            "  inflating: train/9/00009_00005_00003.png  \n",
            "  inflating: train/9/00009_00005_00004.png  \n",
            "  inflating: train/9/00009_00005_00005.png  \n",
            "  inflating: train/9/00009_00005_00006.png  \n",
            "  inflating: train/9/00009_00005_00007.png  \n",
            "  inflating: train/9/00009_00005_00008.png  \n",
            "  inflating: train/9/00009_00005_00009.png  \n",
            "  inflating: train/9/00009_00005_00010.png  \n",
            "  inflating: train/9/00009_00005_00011.png  \n",
            "  inflating: train/9/00009_00005_00012.png  \n",
            "  inflating: train/9/00009_00005_00013.png  \n",
            "  inflating: train/9/00009_00005_00014.png  \n",
            "  inflating: train/9/00009_00005_00015.png  \n",
            "  inflating: train/9/00009_00005_00016.png  \n",
            "  inflating: train/9/00009_00005_00017.png  \n",
            "  inflating: train/9/00009_00005_00018.png  \n",
            "  inflating: train/9/00009_00005_00019.png  \n",
            "  inflating: train/9/00009_00005_00020.png  \n",
            "  inflating: train/9/00009_00005_00021.png  \n",
            "  inflating: train/9/00009_00005_00022.png  \n",
            "  inflating: train/9/00009_00005_00023.png  \n",
            "  inflating: train/9/00009_00005_00024.png  \n",
            "  inflating: train/9/00009_00005_00025.png  \n",
            "  inflating: train/9/00009_00005_00026.png  \n",
            "  inflating: train/9/00009_00005_00027.png  \n",
            "  inflating: train/9/00009_00005_00028.png  \n",
            "  inflating: train/9/00009_00005_00029.png  \n",
            "  inflating: train/9/00009_00006_00000.png  \n",
            "  inflating: train/9/00009_00006_00001.png  \n",
            "  inflating: train/9/00009_00006_00002.png  \n",
            "  inflating: train/9/00009_00006_00003.png  \n",
            "  inflating: train/9/00009_00006_00004.png  \n",
            "  inflating: train/9/00009_00006_00005.png  \n",
            "  inflating: train/9/00009_00006_00006.png  \n",
            "  inflating: train/9/00009_00006_00007.png  \n",
            "  inflating: train/9/00009_00006_00008.png  \n",
            "  inflating: train/9/00009_00006_00009.png  \n",
            "  inflating: train/9/00009_00006_00010.png  \n",
            "  inflating: train/9/00009_00006_00011.png  \n",
            "  inflating: train/9/00009_00006_00012.png  \n",
            "  inflating: train/9/00009_00006_00013.png  \n",
            "  inflating: train/9/00009_00006_00014.png  \n",
            "  inflating: train/9/00009_00006_00015.png  \n",
            "  inflating: train/9/00009_00006_00016.png  \n",
            "  inflating: train/9/00009_00006_00017.png  \n",
            "  inflating: train/9/00009_00006_00018.png  \n",
            "  inflating: train/9/00009_00006_00019.png  \n",
            "  inflating: train/9/00009_00006_00020.png  \n",
            "  inflating: train/9/00009_00006_00021.png  \n",
            "  inflating: train/9/00009_00006_00022.png  \n",
            "  inflating: train/9/00009_00006_00023.png  \n",
            "  inflating: train/9/00009_00006_00024.png  \n",
            "  inflating: train/9/00009_00006_00025.png  \n",
            "  inflating: train/9/00009_00006_00026.png  \n",
            "  inflating: train/9/00009_00006_00027.png  \n",
            "  inflating: train/9/00009_00006_00028.png  \n",
            "  inflating: train/9/00009_00006_00029.png  \n",
            "  inflating: train/9/00009_00007_00000.png  \n",
            "  inflating: train/9/00009_00007_00001.png  \n",
            "  inflating: train/9/00009_00007_00002.png  \n",
            "  inflating: train/9/00009_00007_00003.png  \n",
            "  inflating: train/9/00009_00007_00004.png  \n",
            "  inflating: train/9/00009_00007_00005.png  \n",
            "  inflating: train/9/00009_00007_00006.png  \n",
            "  inflating: train/9/00009_00007_00007.png  \n",
            "  inflating: train/9/00009_00007_00008.png  \n",
            "  inflating: train/9/00009_00007_00009.png  \n",
            "  inflating: train/9/00009_00007_00010.png  \n",
            "  inflating: train/9/00009_00007_00011.png  \n",
            "  inflating: train/9/00009_00007_00012.png  \n",
            "  inflating: train/9/00009_00007_00013.png  \n",
            "  inflating: train/9/00009_00007_00014.png  \n",
            "  inflating: train/9/00009_00007_00015.png  \n",
            "  inflating: train/9/00009_00007_00016.png  \n",
            "  inflating: train/9/00009_00007_00017.png  \n",
            "  inflating: train/9/00009_00007_00018.png  \n",
            "  inflating: train/9/00009_00007_00019.png  \n",
            "  inflating: train/9/00009_00007_00020.png  \n",
            "  inflating: train/9/00009_00007_00021.png  \n",
            "  inflating: train/9/00009_00007_00022.png  \n",
            "  inflating: train/9/00009_00007_00023.png  \n",
            "  inflating: train/9/00009_00007_00024.png  \n",
            "  inflating: train/9/00009_00007_00025.png  \n",
            "  inflating: train/9/00009_00007_00026.png  \n",
            "  inflating: train/9/00009_00007_00027.png  \n",
            "  inflating: train/9/00009_00007_00028.png  \n",
            "  inflating: train/9/00009_00007_00029.png  \n",
            "  inflating: train/9/00009_00008_00000.png  \n",
            "  inflating: train/9/00009_00008_00001.png  \n",
            "  inflating: train/9/00009_00008_00002.png  \n",
            "  inflating: train/9/00009_00008_00003.png  \n",
            "  inflating: train/9/00009_00008_00004.png  \n",
            "  inflating: train/9/00009_00008_00005.png  \n",
            "  inflating: train/9/00009_00008_00006.png  \n",
            "  inflating: train/9/00009_00008_00007.png  \n",
            "  inflating: train/9/00009_00008_00008.png  \n",
            "  inflating: train/9/00009_00008_00009.png  \n",
            "  inflating: train/9/00009_00008_00010.png  \n",
            "  inflating: train/9/00009_00008_00011.png  \n",
            "  inflating: train/9/00009_00008_00012.png  \n",
            "  inflating: train/9/00009_00008_00013.png  \n",
            "  inflating: train/9/00009_00008_00014.png  \n",
            "  inflating: train/9/00009_00008_00015.png  \n",
            "  inflating: train/9/00009_00008_00016.png  \n",
            "  inflating: train/9/00009_00008_00017.png  \n",
            "  inflating: train/9/00009_00008_00018.png  \n",
            "  inflating: train/9/00009_00008_00019.png  \n",
            "  inflating: train/9/00009_00008_00020.png  \n",
            "  inflating: train/9/00009_00008_00021.png  \n",
            "  inflating: train/9/00009_00008_00022.png  \n",
            "  inflating: train/9/00009_00008_00023.png  \n",
            "  inflating: train/9/00009_00008_00024.png  \n",
            "  inflating: train/9/00009_00008_00025.png  \n",
            "  inflating: train/9/00009_00008_00026.png  \n",
            "  inflating: train/9/00009_00008_00027.png  \n",
            "  inflating: train/9/00009_00008_00028.png  \n",
            "  inflating: train/9/00009_00008_00029.png  \n",
            "  inflating: train/9/00009_00009_00000.png  \n",
            "  inflating: train/9/00009_00009_00001.png  \n",
            "  inflating: train/9/00009_00009_00002.png  \n",
            "  inflating: train/9/00009_00009_00003.png  \n",
            "  inflating: train/9/00009_00009_00004.png  \n",
            "  inflating: train/9/00009_00009_00005.png  \n",
            "  inflating: train/9/00009_00009_00006.png  \n",
            "  inflating: train/9/00009_00009_00007.png  \n",
            "  inflating: train/9/00009_00009_00008.png  \n",
            "  inflating: train/9/00009_00009_00009.png  \n",
            "  inflating: train/9/00009_00009_00010.png  \n",
            "  inflating: train/9/00009_00009_00011.png  \n",
            "  inflating: train/9/00009_00009_00012.png  \n",
            "  inflating: train/9/00009_00009_00013.png  \n",
            "  inflating: train/9/00009_00009_00014.png  \n",
            "  inflating: train/9/00009_00009_00015.png  \n",
            "  inflating: train/9/00009_00009_00016.png  \n",
            "  inflating: train/9/00009_00009_00017.png  \n",
            "  inflating: train/9/00009_00009_00018.png  \n",
            "  inflating: train/9/00009_00009_00019.png  \n",
            "  inflating: train/9/00009_00009_00020.png  \n",
            "  inflating: train/9/00009_00009_00021.png  \n",
            "  inflating: train/9/00009_00009_00022.png  \n",
            "  inflating: train/9/00009_00009_00023.png  \n",
            "  inflating: train/9/00009_00009_00024.png  \n",
            "  inflating: train/9/00009_00009_00025.png  \n",
            "  inflating: train/9/00009_00009_00026.png  \n",
            "  inflating: train/9/00009_00009_00027.png  \n",
            "  inflating: train/9/00009_00009_00028.png  \n",
            "  inflating: train/9/00009_00009_00029.png  \n",
            "  inflating: train/9/00009_00010_00000.png  \n",
            "  inflating: train/9/00009_00010_00001.png  \n",
            "  inflating: train/9/00009_00010_00002.png  \n",
            "  inflating: train/9/00009_00010_00003.png  \n",
            "  inflating: train/9/00009_00010_00004.png  \n",
            "  inflating: train/9/00009_00010_00005.png  \n",
            "  inflating: train/9/00009_00010_00006.png  \n",
            "  inflating: train/9/00009_00010_00007.png  \n",
            "  inflating: train/9/00009_00010_00008.png  \n",
            "  inflating: train/9/00009_00010_00009.png  \n",
            "  inflating: train/9/00009_00010_00010.png  \n",
            "  inflating: train/9/00009_00010_00011.png  \n",
            "  inflating: train/9/00009_00010_00012.png  \n",
            "  inflating: train/9/00009_00010_00013.png  \n",
            "  inflating: train/9/00009_00010_00014.png  \n",
            "  inflating: train/9/00009_00010_00015.png  \n",
            "  inflating: train/9/00009_00010_00016.png  \n",
            "  inflating: train/9/00009_00010_00017.png  \n",
            "  inflating: train/9/00009_00010_00018.png  \n",
            "  inflating: train/9/00009_00010_00019.png  \n",
            "  inflating: train/9/00009_00010_00020.png  \n",
            "  inflating: train/9/00009_00010_00021.png  \n",
            "  inflating: train/9/00009_00010_00022.png  \n",
            "  inflating: train/9/00009_00010_00023.png  \n",
            "  inflating: train/9/00009_00010_00024.png  \n",
            "  inflating: train/9/00009_00010_00025.png  \n",
            "  inflating: train/9/00009_00010_00026.png  \n",
            "  inflating: train/9/00009_00010_00027.png  \n",
            "  inflating: train/9/00009_00010_00028.png  \n",
            "  inflating: train/9/00009_00010_00029.png  \n",
            "  inflating: train/9/00009_00011_00000.png  \n",
            "  inflating: train/9/00009_00011_00001.png  \n",
            "  inflating: train/9/00009_00011_00002.png  \n",
            "  inflating: train/9/00009_00011_00003.png  \n",
            "  inflating: train/9/00009_00011_00004.png  \n",
            "  inflating: train/9/00009_00011_00005.png  \n",
            "  inflating: train/9/00009_00011_00006.png  \n",
            "  inflating: train/9/00009_00011_00007.png  \n",
            "  inflating: train/9/00009_00011_00008.png  \n",
            "  inflating: train/9/00009_00011_00009.png  \n",
            "  inflating: train/9/00009_00011_00010.png  \n",
            "  inflating: train/9/00009_00011_00011.png  \n",
            "  inflating: train/9/00009_00011_00012.png  \n",
            "  inflating: train/9/00009_00011_00013.png  \n",
            "  inflating: train/9/00009_00011_00014.png  \n",
            "  inflating: train/9/00009_00011_00015.png  \n",
            "  inflating: train/9/00009_00011_00016.png  \n",
            "  inflating: train/9/00009_00011_00017.png  \n",
            "  inflating: train/9/00009_00011_00018.png  \n",
            "  inflating: train/9/00009_00011_00019.png  \n",
            "  inflating: train/9/00009_00011_00020.png  \n",
            "  inflating: train/9/00009_00011_00021.png  \n",
            "  inflating: train/9/00009_00011_00022.png  \n",
            "  inflating: train/9/00009_00011_00023.png  \n",
            "  inflating: train/9/00009_00011_00024.png  \n",
            "  inflating: train/9/00009_00011_00025.png  \n",
            "  inflating: train/9/00009_00011_00026.png  \n",
            "  inflating: train/9/00009_00011_00027.png  \n",
            "  inflating: train/9/00009_00011_00028.png  \n",
            "  inflating: train/9/00009_00011_00029.png  \n",
            "  inflating: train/9/00009_00012_00000.png  \n",
            "  inflating: train/9/00009_00012_00001.png  \n",
            "  inflating: train/9/00009_00012_00002.png  \n",
            "  inflating: train/9/00009_00012_00003.png  \n",
            "  inflating: train/9/00009_00012_00004.png  \n",
            "  inflating: train/9/00009_00012_00005.png  \n",
            "  inflating: train/9/00009_00012_00006.png  \n",
            "  inflating: train/9/00009_00012_00007.png  \n",
            "  inflating: train/9/00009_00012_00008.png  \n",
            "  inflating: train/9/00009_00012_00009.png  \n",
            "  inflating: train/9/00009_00012_00010.png  \n",
            "  inflating: train/9/00009_00012_00011.png  \n",
            "  inflating: train/9/00009_00012_00012.png  \n",
            "  inflating: train/9/00009_00012_00013.png  \n",
            "  inflating: train/9/00009_00012_00014.png  \n",
            "  inflating: train/9/00009_00012_00015.png  \n",
            "  inflating: train/9/00009_00012_00016.png  \n",
            "  inflating: train/9/00009_00012_00017.png  \n",
            "  inflating: train/9/00009_00012_00018.png  \n",
            "  inflating: train/9/00009_00012_00019.png  \n",
            "  inflating: train/9/00009_00012_00020.png  \n",
            "  inflating: train/9/00009_00012_00021.png  \n",
            "  inflating: train/9/00009_00012_00022.png  \n",
            "  inflating: train/9/00009_00012_00023.png  \n",
            "  inflating: train/9/00009_00012_00024.png  \n",
            "  inflating: train/9/00009_00012_00025.png  \n",
            "  inflating: train/9/00009_00012_00026.png  \n",
            "  inflating: train/9/00009_00012_00027.png  \n",
            "  inflating: train/9/00009_00012_00028.png  \n",
            "  inflating: train/9/00009_00012_00029.png  \n",
            "  inflating: train/9/00009_00013_00000.png  \n",
            "  inflating: train/9/00009_00013_00001.png  \n",
            "  inflating: train/9/00009_00013_00002.png  \n",
            "  inflating: train/9/00009_00013_00003.png  \n",
            "  inflating: train/9/00009_00013_00004.png  \n",
            "  inflating: train/9/00009_00013_00005.png  \n",
            "  inflating: train/9/00009_00013_00006.png  \n",
            "  inflating: train/9/00009_00013_00007.png  \n",
            "  inflating: train/9/00009_00013_00008.png  \n",
            "  inflating: train/9/00009_00013_00009.png  \n",
            "  inflating: train/9/00009_00013_00010.png  \n",
            "  inflating: train/9/00009_00013_00011.png  \n",
            "  inflating: train/9/00009_00013_00012.png  \n",
            "  inflating: train/9/00009_00013_00013.png  \n",
            "  inflating: train/9/00009_00013_00014.png  \n",
            "  inflating: train/9/00009_00013_00015.png  \n",
            "  inflating: train/9/00009_00013_00016.png  \n",
            "  inflating: train/9/00009_00013_00017.png  \n",
            "  inflating: train/9/00009_00013_00018.png  \n",
            "  inflating: train/9/00009_00013_00019.png  \n",
            "  inflating: train/9/00009_00013_00020.png  \n",
            "  inflating: train/9/00009_00013_00021.png  \n",
            "  inflating: train/9/00009_00013_00022.png  \n",
            "  inflating: train/9/00009_00013_00023.png  \n",
            "  inflating: train/9/00009_00013_00024.png  \n",
            "  inflating: train/9/00009_00013_00025.png  \n",
            "  inflating: train/9/00009_00013_00026.png  \n",
            "  inflating: train/9/00009_00013_00027.png  \n",
            "  inflating: train/9/00009_00013_00028.png  \n",
            "  inflating: train/9/00009_00013_00029.png  \n",
            "  inflating: train/9/00009_00014_00000.png  \n",
            "  inflating: train/9/00009_00014_00001.png  \n",
            "  inflating: train/9/00009_00014_00002.png  \n",
            "  inflating: train/9/00009_00014_00003.png  \n",
            "  inflating: train/9/00009_00014_00004.png  \n",
            "  inflating: train/9/00009_00014_00005.png  \n",
            "  inflating: train/9/00009_00014_00006.png  \n",
            "  inflating: train/9/00009_00014_00007.png  \n",
            "  inflating: train/9/00009_00014_00008.png  \n",
            "  inflating: train/9/00009_00014_00009.png  \n",
            "  inflating: train/9/00009_00014_00010.png  \n",
            "  inflating: train/9/00009_00014_00011.png  \n",
            "  inflating: train/9/00009_00014_00012.png  \n",
            "  inflating: train/9/00009_00014_00013.png  \n",
            "  inflating: train/9/00009_00014_00014.png  \n",
            "  inflating: train/9/00009_00014_00015.png  \n",
            "  inflating: train/9/00009_00014_00016.png  \n",
            "  inflating: train/9/00009_00014_00017.png  \n",
            "  inflating: train/9/00009_00014_00018.png  \n",
            "  inflating: train/9/00009_00014_00019.png  \n",
            "  inflating: train/9/00009_00014_00020.png  \n",
            "  inflating: train/9/00009_00014_00021.png  \n",
            "  inflating: train/9/00009_00014_00022.png  \n",
            "  inflating: train/9/00009_00014_00023.png  \n",
            "  inflating: train/9/00009_00014_00024.png  \n",
            "  inflating: train/9/00009_00014_00025.png  \n",
            "  inflating: train/9/00009_00014_00026.png  \n",
            "  inflating: train/9/00009_00014_00027.png  \n",
            "  inflating: train/9/00009_00014_00028.png  \n",
            "  inflating: train/9/00009_00014_00029.png  \n",
            "  inflating: train/9/00009_00015_00000.png  \n",
            "  inflating: train/9/00009_00015_00001.png  \n",
            "  inflating: train/9/00009_00015_00002.png  \n",
            "  inflating: train/9/00009_00015_00003.png  \n",
            "  inflating: train/9/00009_00015_00004.png  \n",
            "  inflating: train/9/00009_00015_00005.png  \n",
            "  inflating: train/9/00009_00015_00006.png  \n",
            "  inflating: train/9/00009_00015_00007.png  \n",
            "  inflating: train/9/00009_00015_00008.png  \n",
            "  inflating: train/9/00009_00015_00009.png  \n",
            "  inflating: train/9/00009_00015_00010.png  \n",
            "  inflating: train/9/00009_00015_00011.png  \n",
            "  inflating: train/9/00009_00015_00012.png  \n",
            "  inflating: train/9/00009_00015_00013.png  \n",
            "  inflating: train/9/00009_00015_00014.png  \n",
            "  inflating: train/9/00009_00015_00015.png  \n",
            "  inflating: train/9/00009_00015_00016.png  \n",
            "  inflating: train/9/00009_00015_00017.png  \n",
            "  inflating: train/9/00009_00015_00018.png  \n",
            "  inflating: train/9/00009_00015_00019.png  \n",
            "  inflating: train/9/00009_00015_00020.png  \n",
            "  inflating: train/9/00009_00015_00021.png  \n",
            "  inflating: train/9/00009_00015_00022.png  \n",
            "  inflating: train/9/00009_00015_00023.png  \n",
            "  inflating: train/9/00009_00015_00024.png  \n",
            "  inflating: train/9/00009_00015_00025.png  \n",
            "  inflating: train/9/00009_00015_00026.png  \n",
            "  inflating: train/9/00009_00015_00027.png  \n",
            "  inflating: train/9/00009_00015_00028.png  \n",
            "  inflating: train/9/00009_00015_00029.png  \n",
            "  inflating: train/9/00009_00016_00000.png  \n",
            "  inflating: train/9/00009_00016_00001.png  \n",
            "  inflating: train/9/00009_00016_00002.png  \n",
            "  inflating: train/9/00009_00016_00003.png  \n",
            "  inflating: train/9/00009_00016_00004.png  \n",
            "  inflating: train/9/00009_00016_00005.png  \n",
            "  inflating: train/9/00009_00016_00006.png  \n",
            "  inflating: train/9/00009_00016_00007.png  \n",
            "  inflating: train/9/00009_00016_00008.png  \n",
            "  inflating: train/9/00009_00016_00009.png  \n",
            "  inflating: train/9/00009_00016_00010.png  \n",
            "  inflating: train/9/00009_00016_00011.png  \n",
            "  inflating: train/9/00009_00016_00012.png  \n",
            "  inflating: train/9/00009_00016_00013.png  \n",
            "  inflating: train/9/00009_00016_00014.png  \n",
            "  inflating: train/9/00009_00016_00015.png  \n",
            "  inflating: train/9/00009_00016_00016.png  \n",
            "  inflating: train/9/00009_00016_00017.png  \n",
            "  inflating: train/9/00009_00016_00018.png  \n",
            "  inflating: train/9/00009_00016_00019.png  \n",
            "  inflating: train/9/00009_00016_00020.png  \n",
            "  inflating: train/9/00009_00016_00021.png  \n",
            "  inflating: train/9/00009_00016_00022.png  \n",
            "  inflating: train/9/00009_00016_00023.png  \n",
            "  inflating: train/9/00009_00016_00024.png  \n",
            "  inflating: train/9/00009_00016_00025.png  \n",
            "  inflating: train/9/00009_00016_00026.png  \n",
            "  inflating: train/9/00009_00016_00027.png  \n",
            "  inflating: train/9/00009_00016_00028.png  \n",
            "  inflating: train/9/00009_00016_00029.png  \n",
            "  inflating: train/9/00009_00017_00000.png  \n",
            "  inflating: train/9/00009_00017_00001.png  \n",
            "  inflating: train/9/00009_00017_00002.png  \n",
            "  inflating: train/9/00009_00017_00003.png  \n",
            "  inflating: train/9/00009_00017_00004.png  \n",
            "  inflating: train/9/00009_00017_00005.png  \n",
            "  inflating: train/9/00009_00017_00006.png  \n",
            "  inflating: train/9/00009_00017_00007.png  \n",
            "  inflating: train/9/00009_00017_00008.png  \n",
            "  inflating: train/9/00009_00017_00009.png  \n",
            "  inflating: train/9/00009_00017_00010.png  \n",
            "  inflating: train/9/00009_00017_00011.png  \n",
            "  inflating: train/9/00009_00017_00012.png  \n",
            "  inflating: train/9/00009_00017_00013.png  \n",
            "  inflating: train/9/00009_00017_00014.png  \n",
            "  inflating: train/9/00009_00017_00015.png  \n",
            "  inflating: train/9/00009_00017_00016.png  \n",
            "  inflating: train/9/00009_00017_00017.png  \n",
            "  inflating: train/9/00009_00017_00018.png  \n",
            "  inflating: train/9/00009_00017_00019.png  \n",
            "  inflating: train/9/00009_00017_00020.png  \n",
            "  inflating: train/9/00009_00017_00021.png  \n",
            "  inflating: train/9/00009_00017_00022.png  \n",
            "  inflating: train/9/00009_00017_00023.png  \n",
            "  inflating: train/9/00009_00017_00024.png  \n",
            "  inflating: train/9/00009_00017_00025.png  \n",
            "  inflating: train/9/00009_00017_00026.png  \n",
            "  inflating: train/9/00009_00017_00027.png  \n",
            "  inflating: train/9/00009_00017_00028.png  \n",
            "  inflating: train/9/00009_00017_00029.png  \n",
            "  inflating: train/9/00009_00018_00000.png  \n",
            "  inflating: train/9/00009_00018_00001.png  \n",
            "  inflating: train/9/00009_00018_00002.png  \n",
            "  inflating: train/9/00009_00018_00003.png  \n",
            "  inflating: train/9/00009_00018_00004.png  \n",
            "  inflating: train/9/00009_00018_00005.png  \n",
            "  inflating: train/9/00009_00018_00006.png  \n",
            "  inflating: train/9/00009_00018_00007.png  \n",
            "  inflating: train/9/00009_00018_00008.png  \n",
            "  inflating: train/9/00009_00018_00009.png  \n",
            "  inflating: train/9/00009_00018_00010.png  \n",
            "  inflating: train/9/00009_00018_00011.png  \n",
            "  inflating: train/9/00009_00018_00012.png  \n",
            "  inflating: train/9/00009_00018_00013.png  \n",
            "  inflating: train/9/00009_00018_00014.png  \n",
            "  inflating: train/9/00009_00018_00015.png  \n",
            "  inflating: train/9/00009_00018_00016.png  \n",
            "  inflating: train/9/00009_00018_00017.png  \n",
            "  inflating: train/9/00009_00018_00018.png  \n",
            "  inflating: train/9/00009_00018_00019.png  \n",
            "  inflating: train/9/00009_00018_00020.png  \n",
            "  inflating: train/9/00009_00018_00021.png  \n",
            "  inflating: train/9/00009_00018_00022.png  \n",
            "  inflating: train/9/00009_00018_00023.png  \n",
            "  inflating: train/9/00009_00018_00024.png  \n",
            "  inflating: train/9/00009_00018_00025.png  \n",
            "  inflating: train/9/00009_00018_00026.png  \n",
            "  inflating: train/9/00009_00018_00027.png  \n",
            "  inflating: train/9/00009_00018_00028.png  \n",
            "  inflating: train/9/00009_00018_00029.png  \n",
            "  inflating: train/9/00009_00019_00000.png  \n",
            "  inflating: train/9/00009_00019_00001.png  \n",
            "  inflating: train/9/00009_00019_00002.png  \n",
            "  inflating: train/9/00009_00019_00003.png  \n",
            "  inflating: train/9/00009_00019_00004.png  \n",
            "  inflating: train/9/00009_00019_00005.png  \n",
            "  inflating: train/9/00009_00019_00006.png  \n",
            "  inflating: train/9/00009_00019_00007.png  \n",
            "  inflating: train/9/00009_00019_00008.png  \n",
            "  inflating: train/9/00009_00019_00009.png  \n",
            "  inflating: train/9/00009_00019_00010.png  \n",
            "  inflating: train/9/00009_00019_00011.png  \n",
            "  inflating: train/9/00009_00019_00012.png  \n",
            "  inflating: train/9/00009_00019_00013.png  \n",
            "  inflating: train/9/00009_00019_00014.png  \n",
            "  inflating: train/9/00009_00019_00015.png  \n",
            "  inflating: train/9/00009_00019_00016.png  \n",
            "  inflating: train/9/00009_00019_00017.png  \n",
            "  inflating: train/9/00009_00019_00018.png  \n",
            "  inflating: train/9/00009_00019_00019.png  \n",
            "  inflating: train/9/00009_00019_00020.png  \n",
            "  inflating: train/9/00009_00019_00021.png  \n",
            "  inflating: train/9/00009_00019_00022.png  \n",
            "  inflating: train/9/00009_00019_00023.png  \n",
            "  inflating: train/9/00009_00019_00024.png  \n",
            "  inflating: train/9/00009_00019_00025.png  \n",
            "  inflating: train/9/00009_00019_00026.png  \n",
            "  inflating: train/9/00009_00019_00027.png  \n",
            "  inflating: train/9/00009_00019_00028.png  \n",
            "  inflating: train/9/00009_00019_00029.png  \n",
            "  inflating: train/9/00009_00020_00000.png  \n",
            "  inflating: train/9/00009_00020_00001.png  \n",
            "  inflating: train/9/00009_00020_00002.png  \n",
            "  inflating: train/9/00009_00020_00003.png  \n",
            "  inflating: train/9/00009_00020_00004.png  \n",
            "  inflating: train/9/00009_00020_00005.png  \n",
            "  inflating: train/9/00009_00020_00006.png  \n",
            "  inflating: train/9/00009_00020_00007.png  \n",
            "  inflating: train/9/00009_00020_00008.png  \n",
            "  inflating: train/9/00009_00020_00009.png  \n",
            "  inflating: train/9/00009_00020_00010.png  \n",
            "  inflating: train/9/00009_00020_00011.png  \n",
            "  inflating: train/9/00009_00020_00012.png  \n",
            "  inflating: train/9/00009_00020_00013.png  \n",
            "  inflating: train/9/00009_00020_00014.png  \n",
            "  inflating: train/9/00009_00020_00015.png  \n",
            "  inflating: train/9/00009_00020_00016.png  \n",
            "  inflating: train/9/00009_00020_00017.png  \n",
            "  inflating: train/9/00009_00020_00018.png  \n",
            "  inflating: train/9/00009_00020_00019.png  \n",
            "  inflating: train/9/00009_00020_00020.png  \n",
            "  inflating: train/9/00009_00020_00021.png  \n",
            "  inflating: train/9/00009_00020_00022.png  \n",
            "  inflating: train/9/00009_00020_00023.png  \n",
            "  inflating: train/9/00009_00020_00024.png  \n",
            "  inflating: train/9/00009_00020_00025.png  \n",
            "  inflating: train/9/00009_00020_00026.png  \n",
            "  inflating: train/9/00009_00020_00027.png  \n",
            "  inflating: train/9/00009_00020_00028.png  \n",
            "  inflating: train/9/00009_00020_00029.png  \n",
            "  inflating: train/9/00009_00021_00000.png  \n",
            "  inflating: train/9/00009_00021_00001.png  \n",
            "  inflating: train/9/00009_00021_00002.png  \n",
            "  inflating: train/9/00009_00021_00003.png  \n",
            "  inflating: train/9/00009_00021_00004.png  \n",
            "  inflating: train/9/00009_00021_00005.png  \n",
            "  inflating: train/9/00009_00021_00006.png  \n",
            "  inflating: train/9/00009_00021_00007.png  \n",
            "  inflating: train/9/00009_00021_00008.png  \n",
            "  inflating: train/9/00009_00021_00009.png  \n",
            "  inflating: train/9/00009_00021_00010.png  \n",
            "  inflating: train/9/00009_00021_00011.png  \n",
            "  inflating: train/9/00009_00021_00012.png  \n",
            "  inflating: train/9/00009_00021_00013.png  \n",
            "  inflating: train/9/00009_00021_00014.png  \n",
            "  inflating: train/9/00009_00021_00015.png  \n",
            "  inflating: train/9/00009_00021_00016.png  \n",
            "  inflating: train/9/00009_00021_00017.png  \n",
            "  inflating: train/9/00009_00021_00018.png  \n",
            "  inflating: train/9/00009_00021_00019.png  \n",
            "  inflating: train/9/00009_00021_00020.png  \n",
            "  inflating: train/9/00009_00021_00021.png  \n",
            "  inflating: train/9/00009_00021_00022.png  \n",
            "  inflating: train/9/00009_00021_00023.png  \n",
            "  inflating: train/9/00009_00021_00024.png  \n",
            "  inflating: train/9/00009_00021_00025.png  \n",
            "  inflating: train/9/00009_00021_00026.png  \n",
            "  inflating: train/9/00009_00021_00027.png  \n",
            "  inflating: train/9/00009_00021_00028.png  \n",
            "  inflating: train/9/00009_00021_00029.png  \n",
            "  inflating: train/9/00009_00022_00000.png  \n",
            "  inflating: train/9/00009_00022_00001.png  \n",
            "  inflating: train/9/00009_00022_00002.png  \n",
            "  inflating: train/9/00009_00022_00003.png  \n",
            "  inflating: train/9/00009_00022_00004.png  \n",
            "  inflating: train/9/00009_00022_00005.png  \n",
            "  inflating: train/9/00009_00022_00006.png  \n",
            "  inflating: train/9/00009_00022_00007.png  \n",
            "  inflating: train/9/00009_00022_00008.png  \n",
            "  inflating: train/9/00009_00022_00009.png  \n",
            "  inflating: train/9/00009_00022_00010.png  \n",
            "  inflating: train/9/00009_00022_00011.png  \n",
            "  inflating: train/9/00009_00022_00012.png  \n",
            "  inflating: train/9/00009_00022_00013.png  \n",
            "  inflating: train/9/00009_00022_00014.png  \n",
            "  inflating: train/9/00009_00022_00015.png  \n",
            "  inflating: train/9/00009_00022_00016.png  \n",
            "  inflating: train/9/00009_00022_00017.png  \n",
            "  inflating: train/9/00009_00022_00018.png  \n",
            "  inflating: train/9/00009_00022_00019.png  \n",
            "  inflating: train/9/00009_00022_00020.png  \n",
            "  inflating: train/9/00009_00022_00021.png  \n",
            "  inflating: train/9/00009_00022_00022.png  \n",
            "  inflating: train/9/00009_00022_00023.png  \n",
            "  inflating: train/9/00009_00022_00024.png  \n",
            "  inflating: train/9/00009_00022_00025.png  \n",
            "  inflating: train/9/00009_00022_00026.png  \n",
            "  inflating: train/9/00009_00022_00027.png  \n",
            "  inflating: train/9/00009_00022_00028.png  \n",
            "  inflating: train/9/00009_00022_00029.png  \n",
            "  inflating: train/9/00009_00023_00000.png  \n",
            "  inflating: train/9/00009_00023_00001.png  \n",
            "  inflating: train/9/00009_00023_00002.png  \n",
            "  inflating: train/9/00009_00023_00003.png  \n",
            "  inflating: train/9/00009_00023_00004.png  \n",
            "  inflating: train/9/00009_00023_00005.png  \n",
            "  inflating: train/9/00009_00023_00006.png  \n",
            "  inflating: train/9/00009_00023_00007.png  \n",
            "  inflating: train/9/00009_00023_00008.png  \n",
            "  inflating: train/9/00009_00023_00009.png  \n",
            "  inflating: train/9/00009_00023_00010.png  \n",
            "  inflating: train/9/00009_00023_00011.png  \n",
            "  inflating: train/9/00009_00023_00012.png  \n",
            "  inflating: train/9/00009_00023_00013.png  \n",
            "  inflating: train/9/00009_00023_00014.png  \n",
            "  inflating: train/9/00009_00023_00015.png  \n",
            "  inflating: train/9/00009_00023_00016.png  \n",
            "  inflating: train/9/00009_00023_00017.png  \n",
            "  inflating: train/9/00009_00023_00018.png  \n",
            "  inflating: train/9/00009_00023_00019.png  \n",
            "  inflating: train/9/00009_00023_00020.png  \n",
            "  inflating: train/9/00009_00023_00021.png  \n",
            "  inflating: train/9/00009_00023_00022.png  \n",
            "  inflating: train/9/00009_00023_00023.png  \n",
            "  inflating: train/9/00009_00023_00024.png  \n",
            "  inflating: train/9/00009_00023_00025.png  \n",
            "  inflating: train/9/00009_00023_00026.png  \n",
            "  inflating: train/9/00009_00023_00027.png  \n",
            "  inflating: train/9/00009_00023_00028.png  \n",
            "  inflating: train/9/00009_00023_00029.png  \n",
            "  inflating: train/9/00009_00024_00000.png  \n",
            "  inflating: train/9/00009_00024_00001.png  \n",
            "  inflating: train/9/00009_00024_00002.png  \n",
            "  inflating: train/9/00009_00024_00003.png  \n",
            "  inflating: train/9/00009_00024_00004.png  \n",
            "  inflating: train/9/00009_00024_00005.png  \n",
            "  inflating: train/9/00009_00024_00006.png  \n",
            "  inflating: train/9/00009_00024_00007.png  \n",
            "  inflating: train/9/00009_00024_00008.png  \n",
            "  inflating: train/9/00009_00024_00009.png  \n",
            "  inflating: train/9/00009_00024_00010.png  \n",
            "  inflating: train/9/00009_00024_00011.png  \n",
            "  inflating: train/9/00009_00024_00012.png  \n",
            "  inflating: train/9/00009_00024_00013.png  \n",
            "  inflating: train/9/00009_00024_00014.png  \n",
            "  inflating: train/9/00009_00024_00015.png  \n",
            "  inflating: train/9/00009_00024_00016.png  \n",
            "  inflating: train/9/00009_00024_00017.png  \n",
            "  inflating: train/9/00009_00024_00018.png  \n",
            "  inflating: train/9/00009_00024_00019.png  \n",
            "  inflating: train/9/00009_00024_00020.png  \n",
            "  inflating: train/9/00009_00024_00021.png  \n",
            "  inflating: train/9/00009_00024_00022.png  \n",
            "  inflating: train/9/00009_00024_00023.png  \n",
            "  inflating: train/9/00009_00024_00024.png  \n",
            "  inflating: train/9/00009_00024_00025.png  \n",
            "  inflating: train/9/00009_00024_00026.png  \n",
            "  inflating: train/9/00009_00024_00027.png  \n",
            "  inflating: train/9/00009_00024_00028.png  \n",
            "  inflating: train/9/00009_00024_00029.png  \n",
            "  inflating: train/9/00009_00025_00000.png  \n",
            "  inflating: train/9/00009_00025_00001.png  \n",
            "  inflating: train/9/00009_00025_00002.png  \n",
            "  inflating: train/9/00009_00025_00003.png  \n",
            "  inflating: train/9/00009_00025_00004.png  \n",
            "  inflating: train/9/00009_00025_00005.png  \n",
            "  inflating: train/9/00009_00025_00006.png  \n",
            "  inflating: train/9/00009_00025_00007.png  \n",
            "  inflating: train/9/00009_00025_00008.png  \n",
            "  inflating: train/9/00009_00025_00009.png  \n",
            "  inflating: train/9/00009_00025_00010.png  \n",
            "  inflating: train/9/00009_00025_00011.png  \n",
            "  inflating: train/9/00009_00025_00012.png  \n",
            "  inflating: train/9/00009_00025_00013.png  \n",
            "  inflating: train/9/00009_00025_00014.png  \n",
            "  inflating: train/9/00009_00025_00015.png  \n",
            "  inflating: train/9/00009_00025_00016.png  \n",
            "  inflating: train/9/00009_00025_00017.png  \n",
            "  inflating: train/9/00009_00025_00018.png  \n",
            "  inflating: train/9/00009_00025_00019.png  \n",
            "  inflating: train/9/00009_00025_00020.png  \n",
            "  inflating: train/9/00009_00025_00021.png  \n",
            "  inflating: train/9/00009_00025_00022.png  \n",
            "  inflating: train/9/00009_00025_00023.png  \n",
            "  inflating: train/9/00009_00025_00024.png  \n",
            "  inflating: train/9/00009_00025_00025.png  \n",
            "  inflating: train/9/00009_00025_00026.png  \n",
            "  inflating: train/9/00009_00025_00027.png  \n",
            "  inflating: train/9/00009_00025_00028.png  \n",
            "  inflating: train/9/00009_00025_00029.png  \n",
            "  inflating: train/9/00009_00026_00000.png  \n",
            "  inflating: train/9/00009_00026_00001.png  \n",
            "  inflating: train/9/00009_00026_00002.png  \n",
            "  inflating: train/9/00009_00026_00003.png  \n",
            "  inflating: train/9/00009_00026_00004.png  \n",
            "  inflating: train/9/00009_00026_00005.png  \n",
            "  inflating: train/9/00009_00026_00006.png  \n",
            "  inflating: train/9/00009_00026_00007.png  \n",
            "  inflating: train/9/00009_00026_00008.png  \n",
            "  inflating: train/9/00009_00026_00009.png  \n",
            "  inflating: train/9/00009_00026_00010.png  \n",
            "  inflating: train/9/00009_00026_00011.png  \n",
            "  inflating: train/9/00009_00026_00012.png  \n",
            "  inflating: train/9/00009_00026_00013.png  \n",
            "  inflating: train/9/00009_00026_00014.png  \n",
            "  inflating: train/9/00009_00026_00015.png  \n",
            "  inflating: train/9/00009_00026_00016.png  \n",
            "  inflating: train/9/00009_00026_00017.png  \n",
            "  inflating: train/9/00009_00026_00018.png  \n",
            "  inflating: train/9/00009_00026_00019.png  \n",
            "  inflating: train/9/00009_00026_00020.png  \n",
            "  inflating: train/9/00009_00026_00021.png  \n",
            "  inflating: train/9/00009_00026_00022.png  \n",
            "  inflating: train/9/00009_00026_00023.png  \n",
            "  inflating: train/9/00009_00026_00024.png  \n",
            "  inflating: train/9/00009_00026_00025.png  \n",
            "  inflating: train/9/00009_00026_00026.png  \n",
            "  inflating: train/9/00009_00026_00027.png  \n",
            "  inflating: train/9/00009_00026_00028.png  \n",
            "  inflating: train/9/00009_00026_00029.png  \n",
            "  inflating: train/9/00009_00027_00000.png  \n",
            "  inflating: train/9/00009_00027_00001.png  \n",
            "  inflating: train/9/00009_00027_00002.png  \n",
            "  inflating: train/9/00009_00027_00003.png  \n",
            "  inflating: train/9/00009_00027_00004.png  \n",
            "  inflating: train/9/00009_00027_00005.png  \n",
            "  inflating: train/9/00009_00027_00006.png  \n",
            "  inflating: train/9/00009_00027_00007.png  \n",
            "  inflating: train/9/00009_00027_00008.png  \n",
            "  inflating: train/9/00009_00027_00009.png  \n",
            "  inflating: train/9/00009_00027_00010.png  \n",
            "  inflating: train/9/00009_00027_00011.png  \n",
            "  inflating: train/9/00009_00027_00012.png  \n",
            "  inflating: train/9/00009_00027_00013.png  \n",
            "  inflating: train/9/00009_00027_00014.png  \n",
            "  inflating: train/9/00009_00027_00015.png  \n",
            "  inflating: train/9/00009_00027_00016.png  \n",
            "  inflating: train/9/00009_00027_00017.png  \n",
            "  inflating: train/9/00009_00027_00018.png  \n",
            "  inflating: train/9/00009_00027_00019.png  \n",
            "  inflating: train/9/00009_00027_00020.png  \n",
            "  inflating: train/9/00009_00027_00021.png  \n",
            "  inflating: train/9/00009_00027_00022.png  \n",
            "  inflating: train/9/00009_00027_00023.png  \n",
            "  inflating: train/9/00009_00027_00024.png  \n",
            "  inflating: train/9/00009_00027_00025.png  \n",
            "  inflating: train/9/00009_00027_00026.png  \n",
            "  inflating: train/9/00009_00027_00027.png  \n",
            "  inflating: train/9/00009_00027_00028.png  \n",
            "  inflating: train/9/00009_00027_00029.png  \n",
            "  inflating: train/9/00009_00028_00000.png  \n",
            "  inflating: train/9/00009_00028_00001.png  \n",
            "  inflating: train/9/00009_00028_00002.png  \n",
            "  inflating: train/9/00009_00028_00003.png  \n",
            "  inflating: train/9/00009_00028_00004.png  \n",
            "  inflating: train/9/00009_00028_00005.png  \n",
            "  inflating: train/9/00009_00028_00006.png  \n",
            "  inflating: train/9/00009_00028_00007.png  \n",
            "  inflating: train/9/00009_00028_00008.png  \n",
            "  inflating: train/9/00009_00028_00009.png  \n",
            "  inflating: train/9/00009_00028_00010.png  \n",
            "  inflating: train/9/00009_00028_00011.png  \n",
            "  inflating: train/9/00009_00028_00012.png  \n",
            "  inflating: train/9/00009_00028_00013.png  \n",
            "  inflating: train/9/00009_00028_00014.png  \n",
            "  inflating: train/9/00009_00028_00015.png  \n",
            "  inflating: train/9/00009_00028_00016.png  \n",
            "  inflating: train/9/00009_00028_00017.png  \n",
            "  inflating: train/9/00009_00028_00018.png  \n",
            "  inflating: train/9/00009_00028_00019.png  \n",
            "  inflating: train/9/00009_00028_00020.png  \n",
            "  inflating: train/9/00009_00028_00021.png  \n",
            "  inflating: train/9/00009_00028_00022.png  \n",
            "  inflating: train/9/00009_00028_00023.png  \n",
            "  inflating: train/9/00009_00028_00024.png  \n",
            "  inflating: train/9/00009_00028_00025.png  \n",
            "  inflating: train/9/00009_00028_00026.png  \n",
            "  inflating: train/9/00009_00028_00027.png  \n",
            "  inflating: train/9/00009_00028_00028.png  \n",
            "  inflating: train/9/00009_00028_00029.png  \n",
            "  inflating: train/9/00009_00029_00000.png  \n",
            "  inflating: train/9/00009_00029_00001.png  \n",
            "  inflating: train/9/00009_00029_00002.png  \n",
            "  inflating: train/9/00009_00029_00003.png  \n",
            "  inflating: train/9/00009_00029_00004.png  \n",
            "  inflating: train/9/00009_00029_00005.png  \n",
            "  inflating: train/9/00009_00029_00006.png  \n",
            "  inflating: train/9/00009_00029_00007.png  \n",
            "  inflating: train/9/00009_00029_00008.png  \n",
            "  inflating: train/9/00009_00029_00009.png  \n",
            "  inflating: train/9/00009_00029_00010.png  \n",
            "  inflating: train/9/00009_00029_00011.png  \n",
            "  inflating: train/9/00009_00029_00012.png  \n",
            "  inflating: train/9/00009_00029_00013.png  \n",
            "  inflating: train/9/00009_00029_00014.png  \n",
            "  inflating: train/9/00009_00029_00015.png  \n",
            "  inflating: train/9/00009_00029_00016.png  \n",
            "  inflating: train/9/00009_00029_00017.png  \n",
            "  inflating: train/9/00009_00029_00018.png  \n",
            "  inflating: train/9/00009_00029_00019.png  \n",
            "  inflating: train/9/00009_00029_00020.png  \n",
            "  inflating: train/9/00009_00029_00021.png  \n",
            "  inflating: train/9/00009_00029_00022.png  \n",
            "  inflating: train/9/00009_00029_00023.png  \n",
            "  inflating: train/9/00009_00029_00024.png  \n",
            "  inflating: train/9/00009_00029_00025.png  \n",
            "  inflating: train/9/00009_00029_00026.png  \n",
            "  inflating: train/9/00009_00029_00027.png  \n",
            "  inflating: train/9/00009_00029_00028.png  \n",
            "  inflating: train/9/00009_00029_00029.png  \n",
            "  inflating: train/9/00009_00030_00000.png  \n",
            "  inflating: train/9/00009_00030_00001.png  \n",
            "  inflating: train/9/00009_00030_00002.png  \n",
            "  inflating: train/9/00009_00030_00003.png  \n",
            "  inflating: train/9/00009_00030_00004.png  \n",
            "  inflating: train/9/00009_00030_00005.png  \n",
            "  inflating: train/9/00009_00030_00006.png  \n",
            "  inflating: train/9/00009_00030_00007.png  \n",
            "  inflating: train/9/00009_00030_00008.png  \n",
            "  inflating: train/9/00009_00030_00009.png  \n",
            "  inflating: train/9/00009_00030_00010.png  \n",
            "  inflating: train/9/00009_00030_00011.png  \n",
            "  inflating: train/9/00009_00030_00012.png  \n",
            "  inflating: train/9/00009_00030_00013.png  \n",
            "  inflating: train/9/00009_00030_00014.png  \n",
            "  inflating: train/9/00009_00030_00015.png  \n",
            "  inflating: train/9/00009_00030_00016.png  \n",
            "  inflating: train/9/00009_00030_00017.png  \n",
            "  inflating: train/9/00009_00030_00018.png  \n",
            "  inflating: train/9/00009_00030_00019.png  \n",
            "  inflating: train/9/00009_00030_00020.png  \n",
            "  inflating: train/9/00009_00030_00021.png  \n",
            "  inflating: train/9/00009_00030_00022.png  \n",
            "  inflating: train/9/00009_00030_00023.png  \n",
            "  inflating: train/9/00009_00030_00024.png  \n",
            "  inflating: train/9/00009_00030_00025.png  \n",
            "  inflating: train/9/00009_00030_00026.png  \n",
            "  inflating: train/9/00009_00030_00027.png  \n",
            "  inflating: train/9/00009_00030_00028.png  \n",
            "  inflating: train/9/00009_00030_00029.png  \n",
            "  inflating: train/9/00009_00031_00000.png  \n",
            "  inflating: train/9/00009_00031_00001.png  \n",
            "  inflating: train/9/00009_00031_00002.png  \n",
            "  inflating: train/9/00009_00031_00003.png  \n",
            "  inflating: train/9/00009_00031_00004.png  \n",
            "  inflating: train/9/00009_00031_00005.png  \n",
            "  inflating: train/9/00009_00031_00006.png  \n",
            "  inflating: train/9/00009_00031_00007.png  \n",
            "  inflating: train/9/00009_00031_00008.png  \n",
            "  inflating: train/9/00009_00031_00009.png  \n",
            "  inflating: train/9/00009_00031_00010.png  \n",
            "  inflating: train/9/00009_00031_00011.png  \n",
            "  inflating: train/9/00009_00031_00012.png  \n",
            "  inflating: train/9/00009_00031_00013.png  \n",
            "  inflating: train/9/00009_00031_00014.png  \n",
            "  inflating: train/9/00009_00031_00015.png  \n",
            "  inflating: train/9/00009_00031_00016.png  \n",
            "  inflating: train/9/00009_00031_00017.png  \n",
            "  inflating: train/9/00009_00031_00018.png  \n",
            "  inflating: train/9/00009_00031_00019.png  \n",
            "  inflating: train/9/00009_00031_00020.png  \n",
            "  inflating: train/9/00009_00031_00021.png  \n",
            "  inflating: train/9/00009_00031_00022.png  \n",
            "  inflating: train/9/00009_00031_00023.png  \n",
            "  inflating: train/9/00009_00031_00024.png  \n",
            "  inflating: train/9/00009_00031_00025.png  \n",
            "  inflating: train/9/00009_00031_00026.png  \n",
            "  inflating: train/9/00009_00031_00027.png  \n",
            "  inflating: train/9/00009_00031_00028.png  \n",
            "  inflating: train/9/00009_00031_00029.png  \n",
            "  inflating: train/9/00009_00032_00000.png  \n",
            "  inflating: train/9/00009_00032_00001.png  \n",
            "  inflating: train/9/00009_00032_00002.png  \n",
            "  inflating: train/9/00009_00032_00003.png  \n",
            "  inflating: train/9/00009_00032_00004.png  \n",
            "  inflating: train/9/00009_00032_00005.png  \n",
            "  inflating: train/9/00009_00032_00006.png  \n",
            "  inflating: train/9/00009_00032_00007.png  \n",
            "  inflating: train/9/00009_00032_00008.png  \n",
            "  inflating: train/9/00009_00032_00009.png  \n",
            "  inflating: train/9/00009_00032_00010.png  \n",
            "  inflating: train/9/00009_00032_00011.png  \n",
            "  inflating: train/9/00009_00032_00012.png  \n",
            "  inflating: train/9/00009_00032_00013.png  \n",
            "  inflating: train/9/00009_00032_00014.png  \n",
            "  inflating: train/9/00009_00032_00015.png  \n",
            "  inflating: train/9/00009_00032_00016.png  \n",
            "  inflating: train/9/00009_00032_00017.png  \n",
            "  inflating: train/9/00009_00032_00018.png  \n",
            "  inflating: train/9/00009_00032_00019.png  \n",
            "  inflating: train/9/00009_00032_00020.png  \n",
            "  inflating: train/9/00009_00032_00021.png  \n",
            "  inflating: train/9/00009_00032_00022.png  \n",
            "  inflating: train/9/00009_00032_00023.png  \n",
            "  inflating: train/9/00009_00032_00024.png  \n",
            "  inflating: train/9/00009_00032_00025.png  \n",
            "  inflating: train/9/00009_00032_00026.png  \n",
            "  inflating: train/9/00009_00032_00027.png  \n",
            "  inflating: train/9/00009_00032_00028.png  \n",
            "  inflating: train/9/00009_00032_00029.png  \n",
            "  inflating: train/9/00009_00033_00000.png  \n",
            "  inflating: train/9/00009_00033_00001.png  \n",
            "  inflating: train/9/00009_00033_00002.png  \n",
            "  inflating: train/9/00009_00033_00003.png  \n",
            "  inflating: train/9/00009_00033_00004.png  \n",
            "  inflating: train/9/00009_00033_00005.png  \n",
            "  inflating: train/9/00009_00033_00006.png  \n",
            "  inflating: train/9/00009_00033_00007.png  \n",
            "  inflating: train/9/00009_00033_00008.png  \n",
            "  inflating: train/9/00009_00033_00009.png  \n",
            "  inflating: train/9/00009_00033_00010.png  \n",
            "  inflating: train/9/00009_00033_00011.png  \n",
            "  inflating: train/9/00009_00033_00012.png  \n",
            "  inflating: train/9/00009_00033_00013.png  \n",
            "  inflating: train/9/00009_00033_00014.png  \n",
            "  inflating: train/9/00009_00033_00015.png  \n",
            "  inflating: train/9/00009_00033_00016.png  \n",
            "  inflating: train/9/00009_00033_00017.png  \n",
            "  inflating: train/9/00009_00033_00018.png  \n",
            "  inflating: train/9/00009_00033_00019.png  \n",
            "  inflating: train/9/00009_00033_00020.png  \n",
            "  inflating: train/9/00009_00033_00021.png  \n",
            "  inflating: train/9/00009_00033_00022.png  \n",
            "  inflating: train/9/00009_00033_00023.png  \n",
            "  inflating: train/9/00009_00033_00024.png  \n",
            "  inflating: train/9/00009_00033_00025.png  \n",
            "  inflating: train/9/00009_00033_00026.png  \n",
            "  inflating: train/9/00009_00033_00027.png  \n",
            "  inflating: train/9/00009_00033_00028.png  \n",
            "  inflating: train/9/00009_00033_00029.png  \n",
            "  inflating: train/9/00009_00034_00000.png  \n",
            "  inflating: train/9/00009_00034_00001.png  \n",
            "  inflating: train/9/00009_00034_00002.png  \n",
            "  inflating: train/9/00009_00034_00003.png  \n",
            "  inflating: train/9/00009_00034_00004.png  \n",
            "  inflating: train/9/00009_00034_00005.png  \n",
            "  inflating: train/9/00009_00034_00006.png  \n",
            "  inflating: train/9/00009_00034_00007.png  \n",
            "  inflating: train/9/00009_00034_00008.png  \n",
            "  inflating: train/9/00009_00034_00009.png  \n",
            "  inflating: train/9/00009_00034_00010.png  \n",
            "  inflating: train/9/00009_00034_00011.png  \n",
            "  inflating: train/9/00009_00034_00012.png  \n",
            "  inflating: train/9/00009_00034_00013.png  \n",
            "  inflating: train/9/00009_00034_00014.png  \n",
            "  inflating: train/9/00009_00034_00015.png  \n",
            "  inflating: train/9/00009_00034_00016.png  \n",
            "  inflating: train/9/00009_00034_00017.png  \n",
            "  inflating: train/9/00009_00034_00018.png  \n",
            "  inflating: train/9/00009_00034_00019.png  \n",
            "  inflating: train/9/00009_00034_00020.png  \n",
            "  inflating: train/9/00009_00034_00021.png  \n",
            "  inflating: train/9/00009_00034_00022.png  \n",
            "  inflating: train/9/00009_00034_00023.png  \n",
            "  inflating: train/9/00009_00034_00024.png  \n",
            "  inflating: train/9/00009_00034_00025.png  \n",
            "  inflating: train/9/00009_00034_00026.png  \n",
            "  inflating: train/9/00009_00034_00027.png  \n",
            "  inflating: train/9/00009_00034_00028.png  \n",
            "  inflating: train/9/00009_00034_00029.png  \n",
            "  inflating: train/9/00009_00035_00000.png  \n",
            "  inflating: train/9/00009_00035_00001.png  \n",
            "  inflating: train/9/00009_00035_00002.png  \n",
            "  inflating: train/9/00009_00035_00003.png  \n",
            "  inflating: train/9/00009_00035_00004.png  \n",
            "  inflating: train/9/00009_00035_00005.png  \n",
            "  inflating: train/9/00009_00035_00006.png  \n",
            "  inflating: train/9/00009_00035_00007.png  \n",
            "  inflating: train/9/00009_00035_00008.png  \n",
            "  inflating: train/9/00009_00035_00009.png  \n",
            "  inflating: train/9/00009_00035_00010.png  \n",
            "  inflating: train/9/00009_00035_00011.png  \n",
            "  inflating: train/9/00009_00035_00012.png  \n",
            "  inflating: train/9/00009_00035_00013.png  \n",
            "  inflating: train/9/00009_00035_00014.png  \n",
            "  inflating: train/9/00009_00035_00015.png  \n",
            "  inflating: train/9/00009_00035_00016.png  \n",
            "  inflating: train/9/00009_00035_00017.png  \n",
            "  inflating: train/9/00009_00035_00018.png  \n",
            "  inflating: train/9/00009_00035_00019.png  \n",
            "  inflating: train/9/00009_00035_00020.png  \n",
            "  inflating: train/9/00009_00035_00021.png  \n",
            "  inflating: train/9/00009_00035_00022.png  \n",
            "  inflating: train/9/00009_00035_00023.png  \n",
            "  inflating: train/9/00009_00035_00024.png  \n",
            "  inflating: train/9/00009_00035_00025.png  \n",
            "  inflating: train/9/00009_00035_00026.png  \n",
            "  inflating: train/9/00009_00035_00027.png  \n",
            "  inflating: train/9/00009_00035_00028.png  \n",
            "  inflating: train/9/00009_00035_00029.png  \n",
            "  inflating: train/9/00009_00036_00000.png  \n",
            "  inflating: train/9/00009_00036_00001.png  \n",
            "  inflating: train/9/00009_00036_00002.png  \n",
            "  inflating: train/9/00009_00036_00003.png  \n",
            "  inflating: train/9/00009_00036_00004.png  \n",
            "  inflating: train/9/00009_00036_00005.png  \n",
            "  inflating: train/9/00009_00036_00006.png  \n",
            "  inflating: train/9/00009_00036_00007.png  \n",
            "  inflating: train/9/00009_00036_00008.png  \n",
            "  inflating: train/9/00009_00036_00009.png  \n",
            "  inflating: train/9/00009_00036_00010.png  \n",
            "  inflating: train/9/00009_00036_00011.png  \n",
            "  inflating: train/9/00009_00036_00012.png  \n",
            "  inflating: train/9/00009_00036_00013.png  \n",
            "  inflating: train/9/00009_00036_00014.png  \n",
            "  inflating: train/9/00009_00036_00015.png  \n",
            "  inflating: train/9/00009_00036_00016.png  \n",
            "  inflating: train/9/00009_00036_00017.png  \n",
            "  inflating: train/9/00009_00036_00018.png  \n",
            "  inflating: train/9/00009_00036_00019.png  \n",
            "  inflating: train/9/00009_00036_00020.png  \n",
            "  inflating: train/9/00009_00036_00021.png  \n",
            "  inflating: train/9/00009_00036_00022.png  \n",
            "  inflating: train/9/00009_00036_00023.png  \n",
            "  inflating: train/9/00009_00036_00024.png  \n",
            "  inflating: train/9/00009_00036_00025.png  \n",
            "  inflating: train/9/00009_00036_00026.png  \n",
            "  inflating: train/9/00009_00036_00027.png  \n",
            "  inflating: train/9/00009_00036_00028.png  \n",
            "  inflating: train/9/00009_00036_00029.png  \n",
            "  inflating: train/9/00009_00037_00000.png  \n",
            "  inflating: train/9/00009_00037_00001.png  \n",
            "  inflating: train/9/00009_00037_00002.png  \n",
            "  inflating: train/9/00009_00037_00003.png  \n",
            "  inflating: train/9/00009_00037_00004.png  \n",
            "  inflating: train/9/00009_00037_00005.png  \n",
            "  inflating: train/9/00009_00037_00006.png  \n",
            "  inflating: train/9/00009_00037_00007.png  \n",
            "  inflating: train/9/00009_00037_00008.png  \n",
            "  inflating: train/9/00009_00037_00009.png  \n",
            "  inflating: train/9/00009_00037_00010.png  \n",
            "  inflating: train/9/00009_00037_00011.png  \n",
            "  inflating: train/9/00009_00037_00012.png  \n",
            "  inflating: train/9/00009_00037_00013.png  \n",
            "  inflating: train/9/00009_00037_00014.png  \n",
            "  inflating: train/9/00009_00037_00015.png  \n",
            "  inflating: train/9/00009_00037_00016.png  \n",
            "  inflating: train/9/00009_00037_00017.png  \n",
            "  inflating: train/9/00009_00037_00018.png  \n",
            "  inflating: train/9/00009_00037_00019.png  \n",
            "  inflating: train/9/00009_00037_00020.png  \n",
            "  inflating: train/9/00009_00037_00021.png  \n",
            "  inflating: train/9/00009_00037_00022.png  \n",
            "  inflating: train/9/00009_00037_00023.png  \n",
            "  inflating: train/9/00009_00037_00024.png  \n",
            "  inflating: train/9/00009_00037_00025.png  \n",
            "  inflating: train/9/00009_00037_00026.png  \n",
            "  inflating: train/9/00009_00037_00027.png  \n",
            "  inflating: train/9/00009_00037_00028.png  \n",
            "  inflating: train/9/00009_00037_00029.png  \n",
            "  inflating: train/9/00009_00038_00000.png  \n",
            "  inflating: train/9/00009_00038_00001.png  \n",
            "  inflating: train/9/00009_00038_00002.png  \n",
            "  inflating: train/9/00009_00038_00003.png  \n",
            "  inflating: train/9/00009_00038_00004.png  \n",
            "  inflating: train/9/00009_00038_00005.png  \n",
            "  inflating: train/9/00009_00038_00006.png  \n",
            "  inflating: train/9/00009_00038_00007.png  \n",
            "  inflating: train/9/00009_00038_00008.png  \n",
            "  inflating: train/9/00009_00038_00009.png  \n",
            "  inflating: train/9/00009_00038_00010.png  \n",
            "  inflating: train/9/00009_00038_00011.png  \n",
            "  inflating: train/9/00009_00038_00012.png  \n",
            "  inflating: train/9/00009_00038_00013.png  \n",
            "  inflating: train/9/00009_00038_00014.png  \n",
            "  inflating: train/9/00009_00038_00015.png  \n",
            "  inflating: train/9/00009_00038_00016.png  \n",
            "  inflating: train/9/00009_00038_00017.png  \n",
            "  inflating: train/9/00009_00038_00018.png  \n",
            "  inflating: train/9/00009_00038_00019.png  \n",
            "  inflating: train/9/00009_00038_00020.png  \n",
            "  inflating: train/9/00009_00038_00021.png  \n",
            "  inflating: train/9/00009_00038_00022.png  \n",
            "  inflating: train/9/00009_00038_00023.png  \n",
            "  inflating: train/9/00009_00038_00024.png  \n",
            "  inflating: train/9/00009_00038_00025.png  \n",
            "  inflating: train/9/00009_00038_00026.png  \n",
            "  inflating: train/9/00009_00038_00027.png  \n",
            "  inflating: train/9/00009_00038_00028.png  \n",
            "  inflating: train/9/00009_00038_00029.png  \n",
            "  inflating: train/9/00009_00039_00000.png  \n",
            "  inflating: train/9/00009_00039_00001.png  \n",
            "  inflating: train/9/00009_00039_00002.png  \n",
            "  inflating: train/9/00009_00039_00003.png  \n",
            "  inflating: train/9/00009_00039_00004.png  \n",
            "  inflating: train/9/00009_00039_00005.png  \n",
            "  inflating: train/9/00009_00039_00006.png  \n",
            "  inflating: train/9/00009_00039_00007.png  \n",
            "  inflating: train/9/00009_00039_00008.png  \n",
            "  inflating: train/9/00009_00039_00009.png  \n",
            "  inflating: train/9/00009_00039_00010.png  \n",
            "  inflating: train/9/00009_00039_00011.png  \n",
            "  inflating: train/9/00009_00039_00012.png  \n",
            "  inflating: train/9/00009_00039_00013.png  \n",
            "  inflating: train/9/00009_00039_00014.png  \n",
            "  inflating: train/9/00009_00039_00015.png  \n",
            "  inflating: train/9/00009_00039_00016.png  \n",
            "  inflating: train/9/00009_00039_00017.png  \n",
            "  inflating: train/9/00009_00039_00018.png  \n",
            "  inflating: train/9/00009_00039_00019.png  \n",
            "  inflating: train/9/00009_00039_00020.png  \n",
            "  inflating: train/9/00009_00039_00021.png  \n",
            "  inflating: train/9/00009_00039_00022.png  \n",
            "  inflating: train/9/00009_00039_00023.png  \n",
            "  inflating: train/9/00009_00039_00024.png  \n",
            "  inflating: train/9/00009_00039_00025.png  \n",
            "  inflating: train/9/00009_00039_00026.png  \n",
            "  inflating: train/9/00009_00039_00027.png  \n",
            "  inflating: train/9/00009_00039_00028.png  \n",
            "  inflating: train/9/00009_00039_00029.png  \n",
            "  inflating: train/9/00009_00040_00000.png  \n",
            "  inflating: train/9/00009_00040_00001.png  \n",
            "  inflating: train/9/00009_00040_00002.png  \n",
            "  inflating: train/9/00009_00040_00003.png  \n",
            "  inflating: train/9/00009_00040_00004.png  \n",
            "  inflating: train/9/00009_00040_00005.png  \n",
            "  inflating: train/9/00009_00040_00006.png  \n",
            "  inflating: train/9/00009_00040_00007.png  \n",
            "  inflating: train/9/00009_00040_00008.png  \n",
            "  inflating: train/9/00009_00040_00009.png  \n",
            "  inflating: train/9/00009_00040_00010.png  \n",
            "  inflating: train/9/00009_00040_00011.png  \n",
            "  inflating: train/9/00009_00040_00012.png  \n",
            "  inflating: train/9/00009_00040_00013.png  \n",
            "  inflating: train/9/00009_00040_00014.png  \n",
            "  inflating: train/9/00009_00040_00015.png  \n",
            "  inflating: train/9/00009_00040_00016.png  \n",
            "  inflating: train/9/00009_00040_00017.png  \n",
            "  inflating: train/9/00009_00040_00018.png  \n",
            "  inflating: train/9/00009_00040_00019.png  \n",
            "  inflating: train/9/00009_00040_00020.png  \n",
            "  inflating: train/9/00009_00040_00021.png  \n",
            "  inflating: train/9/00009_00040_00022.png  \n",
            "  inflating: train/9/00009_00040_00023.png  \n",
            "  inflating: train/9/00009_00040_00024.png  \n",
            "  inflating: train/9/00009_00040_00025.png  \n",
            "  inflating: train/9/00009_00040_00026.png  \n",
            "  inflating: train/9/00009_00040_00027.png  \n",
            "  inflating: train/9/00009_00040_00028.png  \n",
            "  inflating: train/9/00009_00040_00029.png  \n",
            "  inflating: train/9/00009_00041_00000.png  \n",
            "  inflating: train/9/00009_00041_00001.png  \n",
            "  inflating: train/9/00009_00041_00002.png  \n",
            "  inflating: train/9/00009_00041_00003.png  \n",
            "  inflating: train/9/00009_00041_00004.png  \n",
            "  inflating: train/9/00009_00041_00005.png  \n",
            "  inflating: train/9/00009_00041_00006.png  \n",
            "  inflating: train/9/00009_00041_00007.png  \n",
            "  inflating: train/9/00009_00041_00008.png  \n",
            "  inflating: train/9/00009_00041_00009.png  \n",
            "  inflating: train/9/00009_00041_00010.png  \n",
            "  inflating: train/9/00009_00041_00011.png  \n",
            "  inflating: train/9/00009_00041_00012.png  \n",
            "  inflating: train/9/00009_00041_00013.png  \n",
            "  inflating: train/9/00009_00041_00014.png  \n",
            "  inflating: train/9/00009_00041_00015.png  \n",
            "  inflating: train/9/00009_00041_00016.png  \n",
            "  inflating: train/9/00009_00041_00017.png  \n",
            "  inflating: train/9/00009_00041_00018.png  \n",
            "  inflating: train/9/00009_00041_00019.png  \n",
            "  inflating: train/9/00009_00041_00020.png  \n",
            "  inflating: train/9/00009_00041_00021.png  \n",
            "  inflating: train/9/00009_00041_00022.png  \n",
            "  inflating: train/9/00009_00041_00023.png  \n",
            "  inflating: train/9/00009_00041_00024.png  \n",
            "  inflating: train/9/00009_00041_00025.png  \n",
            "  inflating: train/9/00009_00041_00026.png  \n",
            "  inflating: train/9/00009_00041_00027.png  \n",
            "  inflating: train/9/00009_00041_00028.png  \n",
            "  inflating: train/9/00009_00041_00029.png  \n",
            "  inflating: train/9/00009_00042_00000.png  \n",
            "  inflating: train/9/00009_00042_00001.png  \n",
            "  inflating: train/9/00009_00042_00002.png  \n",
            "  inflating: train/9/00009_00042_00003.png  \n",
            "  inflating: train/9/00009_00042_00004.png  \n",
            "  inflating: train/9/00009_00042_00005.png  \n",
            "  inflating: train/9/00009_00042_00006.png  \n",
            "  inflating: train/9/00009_00042_00007.png  \n",
            "  inflating: train/9/00009_00042_00008.png  \n",
            "  inflating: train/9/00009_00042_00009.png  \n",
            "  inflating: train/9/00009_00042_00010.png  \n",
            "  inflating: train/9/00009_00042_00011.png  \n",
            "  inflating: train/9/00009_00042_00012.png  \n",
            "  inflating: train/9/00009_00042_00013.png  \n",
            "  inflating: train/9/00009_00042_00014.png  \n",
            "  inflating: train/9/00009_00042_00015.png  \n",
            "  inflating: train/9/00009_00042_00016.png  \n",
            "  inflating: train/9/00009_00042_00017.png  \n",
            "  inflating: train/9/00009_00042_00018.png  \n",
            "  inflating: train/9/00009_00042_00019.png  \n",
            "  inflating: train/9/00009_00042_00020.png  \n",
            "  inflating: train/9/00009_00042_00021.png  \n",
            "  inflating: train/9/00009_00042_00022.png  \n",
            "  inflating: train/9/00009_00042_00023.png  \n",
            "  inflating: train/9/00009_00042_00024.png  \n",
            "  inflating: train/9/00009_00042_00025.png  \n",
            "  inflating: train/9/00009_00042_00026.png  \n",
            "  inflating: train/9/00009_00042_00027.png  \n",
            "  inflating: train/9/00009_00042_00028.png  \n",
            "  inflating: train/9/00009_00042_00029.png  \n",
            "  inflating: train/9/00009_00043_00000.png  \n",
            "  inflating: train/9/00009_00043_00001.png  \n",
            "  inflating: train/9/00009_00043_00002.png  \n",
            "  inflating: train/9/00009_00043_00003.png  \n",
            "  inflating: train/9/00009_00043_00004.png  \n",
            "  inflating: train/9/00009_00043_00005.png  \n",
            "  inflating: train/9/00009_00043_00006.png  \n",
            "  inflating: train/9/00009_00043_00007.png  \n",
            "  inflating: train/9/00009_00043_00008.png  \n",
            "  inflating: train/9/00009_00043_00009.png  \n",
            "  inflating: train/9/00009_00043_00010.png  \n",
            "  inflating: train/9/00009_00043_00011.png  \n",
            "  inflating: train/9/00009_00043_00012.png  \n",
            "  inflating: train/9/00009_00043_00013.png  \n",
            "  inflating: train/9/00009_00043_00014.png  \n",
            "  inflating: train/9/00009_00043_00015.png  \n",
            "  inflating: train/9/00009_00043_00016.png  \n",
            "  inflating: train/9/00009_00043_00017.png  \n",
            "  inflating: train/9/00009_00043_00018.png  \n",
            "  inflating: train/9/00009_00043_00019.png  \n",
            "  inflating: train/9/00009_00043_00020.png  \n",
            "  inflating: train/9/00009_00043_00021.png  \n",
            "  inflating: train/9/00009_00043_00022.png  \n",
            "  inflating: train/9/00009_00043_00023.png  \n",
            "  inflating: train/9/00009_00043_00024.png  \n",
            "  inflating: train/9/00009_00043_00025.png  \n",
            "  inflating: train/9/00009_00043_00026.png  \n",
            "  inflating: train/9/00009_00043_00027.png  \n",
            "  inflating: train/9/00009_00043_00028.png  \n",
            "  inflating: train/9/00009_00043_00029.png  \n",
            "  inflating: train/9/00009_00044_00000.png  \n",
            "  inflating: train/9/00009_00044_00001.png  \n",
            "  inflating: train/9/00009_00044_00002.png  \n",
            "  inflating: train/9/00009_00044_00003.png  \n",
            "  inflating: train/9/00009_00044_00004.png  \n",
            "  inflating: train/9/00009_00044_00005.png  \n",
            "  inflating: train/9/00009_00044_00006.png  \n",
            "  inflating: train/9/00009_00044_00007.png  \n",
            "  inflating: train/9/00009_00044_00008.png  \n",
            "  inflating: train/9/00009_00044_00009.png  \n",
            "  inflating: train/9/00009_00044_00010.png  \n",
            "  inflating: train/9/00009_00044_00011.png  \n",
            "  inflating: train/9/00009_00044_00012.png  \n",
            "  inflating: train/9/00009_00044_00013.png  \n",
            "  inflating: train/9/00009_00044_00014.png  \n",
            "  inflating: train/9/00009_00044_00015.png  \n",
            "  inflating: train/9/00009_00044_00016.png  \n",
            "  inflating: train/9/00009_00044_00017.png  \n",
            "  inflating: train/9/00009_00044_00018.png  \n",
            "  inflating: train/9/00009_00044_00019.png  \n",
            "  inflating: train/9/00009_00044_00020.png  \n",
            "  inflating: train/9/00009_00044_00021.png  \n",
            "  inflating: train/9/00009_00044_00022.png  \n",
            "  inflating: train/9/00009_00044_00023.png  \n",
            "  inflating: train/9/00009_00044_00024.png  \n",
            "  inflating: train/9/00009_00044_00025.png  \n",
            "  inflating: train/9/00009_00044_00026.png  \n",
            "  inflating: train/9/00009_00044_00027.png  \n",
            "  inflating: train/9/00009_00044_00028.png  \n",
            "  inflating: train/9/00009_00044_00029.png  \n",
            "  inflating: train/9/00009_00045_00000.png  \n",
            "  inflating: train/9/00009_00045_00001.png  \n",
            "  inflating: train/9/00009_00045_00002.png  \n",
            "  inflating: train/9/00009_00045_00003.png  \n",
            "  inflating: train/9/00009_00045_00004.png  \n",
            "  inflating: train/9/00009_00045_00005.png  \n",
            "  inflating: train/9/00009_00045_00006.png  \n",
            "  inflating: train/9/00009_00045_00007.png  \n",
            "  inflating: train/9/00009_00045_00008.png  \n",
            "  inflating: train/9/00009_00045_00009.png  \n",
            "  inflating: train/9/00009_00045_00010.png  \n",
            "  inflating: train/9/00009_00045_00011.png  \n",
            "  inflating: train/9/00009_00045_00012.png  \n",
            "  inflating: train/9/00009_00045_00013.png  \n",
            "  inflating: train/9/00009_00045_00014.png  \n",
            "  inflating: train/9/00009_00045_00015.png  \n",
            "  inflating: train/9/00009_00045_00016.png  \n",
            "  inflating: train/9/00009_00045_00017.png  \n",
            "  inflating: train/9/00009_00045_00018.png  \n",
            "  inflating: train/9/00009_00045_00019.png  \n",
            "  inflating: train/9/00009_00045_00020.png  \n",
            "  inflating: train/9/00009_00045_00021.png  \n",
            "  inflating: train/9/00009_00045_00022.png  \n",
            "  inflating: train/9/00009_00045_00023.png  \n",
            "  inflating: train/9/00009_00045_00024.png  \n",
            "  inflating: train/9/00009_00045_00025.png  \n",
            "  inflating: train/9/00009_00045_00026.png  \n",
            "  inflating: train/9/00009_00045_00027.png  \n",
            "  inflating: train/9/00009_00045_00028.png  \n",
            "  inflating: train/9/00009_00045_00029.png  \n",
            "  inflating: train/9/00009_00046_00000.png  \n",
            "  inflating: train/9/00009_00046_00001.png  \n",
            "  inflating: train/9/00009_00046_00002.png  \n",
            "  inflating: train/9/00009_00046_00003.png  \n",
            "  inflating: train/9/00009_00046_00004.png  \n",
            "  inflating: train/9/00009_00046_00005.png  \n",
            "  inflating: train/9/00009_00046_00006.png  \n",
            "  inflating: train/9/00009_00046_00007.png  \n",
            "  inflating: train/9/00009_00046_00008.png  \n",
            "  inflating: train/9/00009_00046_00009.png  \n",
            "  inflating: train/9/00009_00046_00010.png  \n",
            "  inflating: train/9/00009_00046_00011.png  \n",
            "  inflating: train/9/00009_00046_00012.png  \n",
            "  inflating: train/9/00009_00046_00013.png  \n",
            "  inflating: train/9/00009_00046_00014.png  \n",
            "  inflating: train/9/00009_00046_00015.png  \n",
            "  inflating: train/9/00009_00046_00016.png  \n",
            "  inflating: train/9/00009_00046_00017.png  \n",
            "  inflating: train/9/00009_00046_00018.png  \n",
            "  inflating: train/9/00009_00046_00019.png  \n",
            "  inflating: train/9/00009_00046_00020.png  \n",
            "  inflating: train/9/00009_00046_00021.png  \n",
            "  inflating: train/9/00009_00046_00022.png  \n",
            "  inflating: train/9/00009_00046_00023.png  \n",
            "  inflating: train/9/00009_00046_00024.png  \n",
            "  inflating: train/9/00009_00046_00025.png  \n",
            "  inflating: train/9/00009_00046_00026.png  \n",
            "  inflating: train/9/00009_00046_00027.png  \n",
            "  inflating: train/9/00009_00046_00028.png  \n",
            "  inflating: train/9/00009_00046_00029.png  \n",
            "  inflating: train/9/00009_00047_00000.png  \n",
            "  inflating: train/9/00009_00047_00001.png  \n",
            "  inflating: train/9/00009_00047_00002.png  \n",
            "  inflating: train/9/00009_00047_00003.png  \n",
            "  inflating: train/9/00009_00047_00004.png  \n",
            "  inflating: train/9/00009_00047_00005.png  \n",
            "  inflating: train/9/00009_00047_00006.png  \n",
            "  inflating: train/9/00009_00047_00007.png  \n",
            "  inflating: train/9/00009_00047_00008.png  \n",
            "  inflating: train/9/00009_00047_00009.png  \n",
            "  inflating: train/9/00009_00047_00010.png  \n",
            "  inflating: train/9/00009_00047_00011.png  \n",
            "  inflating: train/9/00009_00047_00012.png  \n",
            "  inflating: train/9/00009_00047_00013.png  \n",
            "  inflating: train/9/00009_00047_00014.png  \n",
            "  inflating: train/9/00009_00047_00015.png  \n",
            "  inflating: train/9/00009_00047_00016.png  \n",
            "  inflating: train/9/00009_00047_00017.png  \n",
            "  inflating: train/9/00009_00047_00018.png  \n",
            "  inflating: train/9/00009_00047_00019.png  \n",
            "  inflating: train/9/00009_00047_00020.png  \n",
            "  inflating: train/9/00009_00047_00021.png  \n",
            "  inflating: train/9/00009_00047_00022.png  \n",
            "  inflating: train/9/00009_00047_00023.png  \n",
            "  inflating: train/9/00009_00047_00024.png  \n",
            "  inflating: train/9/00009_00047_00025.png  \n",
            "  inflating: train/9/00009_00047_00026.png  \n",
            "  inflating: train/9/00009_00047_00027.png  \n",
            "  inflating: train/9/00009_00047_00028.png  \n",
            "  inflating: train/9/00009_00047_00029.png  \n",
            "  inflating: train/9/00009_00048_00000.png  \n",
            "  inflating: train/9/00009_00048_00001.png  \n",
            "  inflating: train/9/00009_00048_00002.png  \n",
            "  inflating: train/9/00009_00048_00003.png  \n",
            "  inflating: train/9/00009_00048_00004.png  \n",
            "  inflating: train/9/00009_00048_00005.png  \n",
            "  inflating: train/9/00009_00048_00006.png  \n",
            "  inflating: train/9/00009_00048_00007.png  \n",
            "  inflating: train/9/00009_00048_00008.png  \n",
            "  inflating: train/9/00009_00048_00009.png  \n",
            "  inflating: train/9/00009_00048_00010.png  \n",
            "  inflating: train/9/00009_00048_00011.png  \n",
            "  inflating: train/9/00009_00048_00012.png  \n",
            "  inflating: train/9/00009_00048_00013.png  \n",
            "  inflating: train/9/00009_00048_00014.png  \n",
            "  inflating: train/9/00009_00048_00015.png  \n",
            "  inflating: train/9/00009_00048_00016.png  \n",
            "  inflating: train/9/00009_00048_00017.png  \n",
            "  inflating: train/9/00009_00048_00018.png  \n",
            "  inflating: train/9/00009_00048_00019.png  \n",
            "  inflating: train/9/00009_00048_00020.png  \n",
            "  inflating: train/9/00009_00048_00021.png  \n",
            "  inflating: train/9/00009_00048_00022.png  \n",
            "  inflating: train/9/00009_00048_00023.png  \n",
            "  inflating: train/9/00009_00048_00024.png  \n",
            "  inflating: train/9/00009_00048_00025.png  \n",
            "  inflating: train/9/00009_00048_00026.png  \n",
            "  inflating: train/9/00009_00048_00027.png  \n",
            "  inflating: train/9/00009_00048_00028.png  \n",
            "  inflating: train/9/00009_00048_00029.png  \n"
          ]
        }
      ],
      "source": [
        "!unzip gtsrb-german-traffic-sign.zip"
      ]
    },
    {
      "cell_type": "code",
      "execution_count": 8,
      "metadata": {
        "id": "Z9wYwiDPOFYp"
      },
      "outputs": [],
      "source": [
        "import pandas as pd\n",
        "\n",
        "train = pd.read_csv('./Train.csv')\n",
        "test = pd.read_csv('./Test.csv')"
      ]
    },
    {
      "cell_type": "code",
      "execution_count": 9,
      "metadata": {
        "colab": {
          "base_uri": "https://localhost:8080/"
        },
        "id": "B55a0wHIau28",
        "outputId": "0c0b63a2-07ee-42b6-ef3d-52a984c9db6e"
      },
      "outputs": [
        {
          "output_type": "stream",
          "name": "stdout",
          "text": [
            "<class 'pandas.core.frame.DataFrame'>\n",
            "RangeIndex: 39209 entries, 0 to 39208\n",
            "Data columns (total 8 columns):\n",
            " #   Column   Non-Null Count  Dtype \n",
            "---  ------   --------------  ----- \n",
            " 0   Width    39209 non-null  int64 \n",
            " 1   Height   39209 non-null  int64 \n",
            " 2   Roi.X1   39209 non-null  int64 \n",
            " 3   Roi.Y1   39209 non-null  int64 \n",
            " 4   Roi.X2   39209 non-null  int64 \n",
            " 5   Roi.Y2   39209 non-null  int64 \n",
            " 6   ClassId  39209 non-null  int64 \n",
            " 7   Path     39209 non-null  object\n",
            "dtypes: int64(7), object(1)\n",
            "memory usage: 2.4+ MB\n"
          ]
        }
      ],
      "source": [
        "train.info()"
      ]
    },
    {
      "cell_type": "markdown",
      "metadata": {
        "id": "1BKxPPEbiSKY"
      },
      "source": [
        "## Pre-process Dataset"
      ]
    },
    {
      "cell_type": "code",
      "execution_count": 10,
      "metadata": {
        "colab": {
          "base_uri": "https://localhost:8080/"
        },
        "id": "mSEjazkfiZhD",
        "outputId": "283e7c22-e1a2-4ae1-a471-6c337e52b6ad"
      },
      "outputs": [
        {
          "output_type": "stream",
          "name": "stdout",
          "text": [
            "Number of classes:  43\n"
          ]
        }
      ],
      "source": [
        "num_classes = len(train['ClassId'].unique())\n",
        "print(\"Number of classes: \", num_classes)"
      ]
    },
    {
      "cell_type": "code",
      "execution_count": 11,
      "metadata": {
        "id": "_IySu0_xijFn"
      },
      "outputs": [],
      "source": [
        "data_dir = './'\n",
        "train_path = './Train'\n",
        "test_path = './Test'\n",
        "\n",
        "# Resizing the images to 30x30x3\n",
        "IMG_HEIGHT = 30\n",
        "IMG_WIDTH = 30\n",
        "channels = 3\n",
        "\n",
        "# Label Overview\n",
        "classes = { 0:'Speed limit (20km/h)',\n",
        "            1:'Speed limit (30km/h)', \n",
        "            2:'Speed limit (50km/h)', \n",
        "            3:'Speed limit (60km/h)', \n",
        "            4:'Speed limit (70km/h)', \n",
        "            5:'Speed limit (80km/h)', \n",
        "            6:'End of speed limit (80km/h)', \n",
        "            7:'Speed limit (100km/h)', \n",
        "            8:'Speed limit (120km/h)', \n",
        "            9:'No passing', \n",
        "            10:'No passing veh over 3.5 tons', \n",
        "            11:'Right-of-way at intersection', \n",
        "            12:'Priority road', \n",
        "            13:'Yield', \n",
        "            14:'Stop', \n",
        "            15:'No vehicles', \n",
        "            16:'Veh > 3.5 tons prohibited', \n",
        "            17:'No entry', \n",
        "            18:'General caution', \n",
        "            19:'Dangerous curve left', \n",
        "            20:'Dangerous curve right', \n",
        "            21:'Double curve', \n",
        "            22:'Bumpy road', \n",
        "            23:'Slippery road', \n",
        "            24:'Road narrows on the right', \n",
        "            25:'Road work', \n",
        "            26:'Traffic signals', \n",
        "            27:'Pedestrians', \n",
        "            28:'Children crossing', \n",
        "            29:'Bicycles crossing', \n",
        "            30:'Beware of ice/snow',\n",
        "            31:'Wild animals crossing', \n",
        "            32:'End speed + passing limits', \n",
        "            33:'Turn right ahead', \n",
        "            34:'Turn left ahead', \n",
        "            35:'Ahead only', \n",
        "            36:'Go straight or right', \n",
        "            37:'Go straight or left', \n",
        "            38:'Keep right', \n",
        "            39:'Keep left', \n",
        "            40:'Roundabout mandatory', \n",
        "            41:'End of no passing', \n",
        "            42:'End no passing veh > 3.5 tons' }"
      ]
    },
    {
      "cell_type": "markdown",
      "metadata": {
        "id": "UsefyqyrwVws"
      },
      "source": [
        "## **Wandb.ai - Hyperparameter Tuning** "
      ]
    },
    {
      "cell_type": "code",
      "execution_count": 12,
      "metadata": {
        "colab": {
          "base_uri": "https://localhost:8080/"
        },
        "id": "v1NF6Def6DIu",
        "outputId": "4f65a456-508b-4a2e-857d-c8105eef152e"
      },
      "outputs": [
        {
          "output_type": "stream",
          "name": "stdout",
          "text": [
            "\u001b[?25l     \u001b[90m━━━━━━━━━━━━━━━━━━━━━━━━━━━━━━━━━━━━━━━━\u001b[0m \u001b[32m0.0/2.0 MB\u001b[0m \u001b[31m?\u001b[0m eta \u001b[36m-:--:--\u001b[0m\r\u001b[2K     \u001b[91m━━━━\u001b[0m\u001b[90m╺\u001b[0m\u001b[90m━━━━━━━━━━━━━━━━━━━━━━━━━━━━━━━━━━━\u001b[0m \u001b[32m0.2/2.0 MB\u001b[0m \u001b[31m7.4 MB/s\u001b[0m eta \u001b[36m0:00:01\u001b[0m\r\u001b[2K     \u001b[91m━━━━━━━━━━━━━━━━━━━━━━━━━━━━━━━━━━\u001b[0m\u001b[91m╸\u001b[0m\u001b[90m━━━━━\u001b[0m \u001b[32m1.8/2.0 MB\u001b[0m \u001b[31m25.3 MB/s\u001b[0m eta \u001b[36m0:00:01\u001b[0m\r\u001b[2K     \u001b[90m━━━━━━━━━━━━━━━━━━━━━━━━━━━━━━━━━━━━━━━━\u001b[0m \u001b[32m2.0/2.0 MB\u001b[0m \u001b[31m22.4 MB/s\u001b[0m eta \u001b[36m0:00:00\u001b[0m\n",
            "\u001b[?25h  Preparing metadata (setup.py) ... \u001b[?25l\u001b[?25hdone\n",
            "\u001b[2K     \u001b[90m━━━━━━━━━━━━━━━━━━━━━━━━━━━━━━━━━━━━━━\u001b[0m \u001b[32m184.3/184.3 kB\u001b[0m \u001b[31m23.4 MB/s\u001b[0m eta \u001b[36m0:00:00\u001b[0m\n",
            "\u001b[2K     \u001b[90m━━━━━━━━━━━━━━━━━━━━━━━━━━━━━━━━━━━━━━\u001b[0m \u001b[32m203.1/203.1 kB\u001b[0m \u001b[31m13.4 MB/s\u001b[0m eta \u001b[36m0:00:00\u001b[0m\n",
            "\u001b[2K     \u001b[90m━━━━━━━━━━━━━━━━━━━━━━━━━━━━━━━━━━━━━━━━\u001b[0m \u001b[32m62.7/62.7 kB\u001b[0m \u001b[31m8.3 MB/s\u001b[0m eta \u001b[36m0:00:00\u001b[0m\n",
            "\u001b[?25h  Building wheel for pathtools (setup.py) ... \u001b[?25l\u001b[?25hdone\n"
          ]
        }
      ],
      "source": [
        "!pip install wandb -qU"
      ]
    },
    {
      "cell_type": "code",
      "execution_count": 13,
      "metadata": {
        "colab": {
          "base_uri": "https://localhost:8080/",
          "height": 121
        },
        "id": "Cks7t6Sx8dmU",
        "outputId": "f9fe8cca-b97e-491c-cd82-29df33363e47"
      },
      "outputs": [
        {
          "output_type": "display_data",
          "data": {
            "text/plain": [
              "<IPython.core.display.Javascript object>"
            ],
            "application/javascript": [
              "\n",
              "        window._wandbApiKey = new Promise((resolve, reject) => {\n",
              "            function loadScript(url) {\n",
              "            return new Promise(function(resolve, reject) {\n",
              "                let newScript = document.createElement(\"script\");\n",
              "                newScript.onerror = reject;\n",
              "                newScript.onload = resolve;\n",
              "                document.body.appendChild(newScript);\n",
              "                newScript.src = url;\n",
              "            });\n",
              "            }\n",
              "            loadScript(\"https://cdn.jsdelivr.net/npm/postmate/build/postmate.min.js\").then(() => {\n",
              "            const iframe = document.createElement('iframe')\n",
              "            iframe.style.cssText = \"width:0;height:0;border:none\"\n",
              "            document.body.appendChild(iframe)\n",
              "            const handshake = new Postmate({\n",
              "                container: iframe,\n",
              "                url: 'https://wandb.ai/authorize'\n",
              "            });\n",
              "            const timeout = setTimeout(() => reject(\"Couldn't auto authenticate\"), 5000)\n",
              "            handshake.then(function(child) {\n",
              "                child.on('authorize', data => {\n",
              "                    clearTimeout(timeout)\n",
              "                    resolve(data)\n",
              "                });\n",
              "            });\n",
              "            })\n",
              "        });\n",
              "    "
            ]
          },
          "metadata": {}
        },
        {
          "output_type": "stream",
          "name": "stderr",
          "text": [
            "\u001b[34m\u001b[1mwandb\u001b[0m: Logging into wandb.ai. (Learn how to deploy a W&B server locally: https://wandb.me/wandb-server)\n",
            "\u001b[34m\u001b[1mwandb\u001b[0m: You can find your API key in your browser here: https://wandb.ai/authorize\n",
            "wandb: Paste an API key from your profile and hit enter, or press ctrl+c to quit:"
          ]
        },
        {
          "name": "stdout",
          "output_type": "stream",
          "text": [
            " ··········\n"
          ]
        },
        {
          "output_type": "stream",
          "name": "stderr",
          "text": [
            "\u001b[34m\u001b[1mwandb\u001b[0m: Appending key for api.wandb.ai to your netrc file: /root/.netrc\n"
          ]
        },
        {
          "output_type": "execute_result",
          "data": {
            "text/plain": [
              "True"
            ]
          },
          "metadata": {},
          "execution_count": 13
        }
      ],
      "source": [
        "import wandb\n",
        "wandb.login()"
      ]
    },
    {
      "cell_type": "code",
      "execution_count": 14,
      "metadata": {
        "colab": {
          "base_uri": "https://localhost:8080/"
        },
        "id": "SweNG3mouIcf",
        "outputId": "5a297006-3530-43ff-c01a-4dfe712d86f2"
      },
      "outputs": [
        {
          "output_type": "stream",
          "name": "stdout",
          "text": [
            "Create sweep with ID: y998254c\n",
            "Sweep URL: https://wandb.ai/atds_ml/densenet161/sweeps/y998254c\n"
          ]
        }
      ],
      "source": [
        "sweep_config = {\n",
        "    'method': 'random',\n",
        "    'metric': {'goal': 'minimize', 'name': 'test_loss'},\n",
        "    'parameters': {\n",
        "        'optimizer': {'values': ['adam', 'sgd']},\n",
        "        'learning_rate': {'distribution': 'uniform', 'max': 0.001, 'min': 0.0001},\n",
        "        'epochs': {'value': 15}\n",
        "    }\n",
        "}\n",
        "\n",
        "sweep_id = wandb.sweep(sweep_config, entity=\"atds_ml\", project=\"densenet161\")"
      ]
    },
    {
      "cell_type": "code",
      "execution_count": 15,
      "metadata": {
        "id": "NHWWgC7xZWri"
      },
      "outputs": [],
      "source": [
        "import torch\n",
        "import torch.optim as optim\n",
        "from torch.optim import lr_scheduler\n",
        "import time\n",
        "import os\n",
        "import copy\n",
        "\n",
        "device = torch.device(\"cuda\" if torch.cuda.is_available() else \"cpu\")\n",
        "\n",
        "def train(config=None):\n",
        "\n",
        "    with wandb.init(config=config):\n",
        "        config = wandb.config\n",
        "\n",
        "        loader = build_dataset(data_dir)\n",
        "        network = build_network()\n",
        "        optimizer = build_optimizer(network, config.optimizer, config.learning_rate)\n",
        "\n",
        "        for epoch in range(config.epochs):\n",
        "            avg_loss = train_epoch(network, loader, optimizer)\n",
        "            wandb.log({\"loss\": avg_loss, \"epoch\": epoch, \"optimizer\": config.optimizer, \"learning_rate\": config.learning_rate})     "
      ]
    },
    {
      "cell_type": "code",
      "execution_count": 16,
      "metadata": {
        "id": "Oaie52hABBkK"
      },
      "outputs": [],
      "source": [
        "import os\n",
        "import cv2\n",
        "import numpy as np\n",
        "from PIL import Image\n",
        "import torch\n",
        "from sklearn.model_selection import train_test_split\n",
        "import tensorflow as tf\n",
        "from tensorflow import keras\n",
        "from tensorflow.keras import layers\n",
        "from torch.utils.data import TensorDataset \n",
        "\n",
        "def build_dataset(data_dir):\n",
        "  image_data = []\n",
        "  image_labels = []\n",
        "\n",
        "  for i in range(num_classes):\n",
        "    path = data_dir + '/Train/' + str(i)\n",
        "    images = os.listdir(path)\n",
        "\n",
        "    for img in images:\n",
        "      try:\n",
        "        image = cv2.imread(path + '/' + img)\n",
        "        image_fromarray = Image.fromarray(image, 'RGB')\n",
        "        resize_image = image_fromarray.resize((IMG_HEIGHT, IMG_WIDTH))\n",
        "        image_data.append(np.array(resize_image))\n",
        "        image_labels.append(i)\n",
        "      except:\n",
        "        print(\"Error in \" + img)\n",
        "        \n",
        "  # Changing the list to numpy array\n",
        "  image_data = torch.FloatTensor(np.array(image_data))\n",
        "  image_data = np.transpose(image_data,(0,3,1,2))\n",
        "  image_labels = torch.FloatTensor(np.array(image_labels))\n",
        "\n",
        "  X_train, X_val, y_train, y_val = train_test_split(image_data, image_labels, test_size=0.2, random_state=42, shuffle=True)\n",
        "\n",
        "  X_train = X_train/255 \n",
        "  X_val = X_val/255\n",
        "\n",
        "  print(\"X_train.shape\", X_train.shape)\n",
        "  print(\"X_valid.shape\", X_val.shape)\n",
        "  print(\"y_train.shape\", y_train.shape)\n",
        "  print(\"y_valid.shape\", y_val.shape)\n",
        "\n",
        "  y_train = torch.FloatTensor(keras.utils.to_categorical(y_train, num_classes))\n",
        "  y_val = torch.FloatTensor(keras.utils.to_categorical(y_val, num_classes))\n",
        "\n",
        "  train_dataset = TensorDataset(X_train, y_train)\n",
        "  val_dataset = TensorDataset(X_val, y_val)\n",
        "\n",
        "  dataloaders = {'train': torch.utils.data.DataLoader(train_dataset, batch_size=64,shuffle=True, num_workers=2),\n",
        "               'val': torch.utils.data.DataLoader(val_dataset, batch_size=64,shuffle=True, num_workers=2)}\n",
        "\n",
        "  return dataloaders"
      ]
    },
    {
      "cell_type": "code",
      "execution_count": 17,
      "metadata": {
        "id": "bBYKa9drC0RF"
      },
      "outputs": [],
      "source": [
        "import torchvision\n",
        "from torchvision import models\n",
        "import torch\n",
        "import torch.nn as nn\n",
        "\n",
        "def build_network():\n",
        "    model = models.densenet161(pretrained=True)\n",
        "    # freeze weights of all other layers\n",
        "    for param in model.features.parameters():\n",
        "        param.requires_grad = False\n",
        "    # Add new fully-connected layer with output dimension equal to number of classes  \n",
        "    num_features = model.classifier.in_features\n",
        "    model.classifier = nn.Linear(num_features, 43)\n",
        "    # initialize weights for new layer\n",
        "    nn.init.kaiming_normal_(model.classifier.weight, mode='fan_out', nonlinearity='relu')\n",
        "    nn.init.zeros_(model.classifier.bias)\n",
        "\n",
        "    return model.to(device)"
      ]
    },
    {
      "cell_type": "code",
      "execution_count": 18,
      "metadata": {
        "id": "JOSIGfWIBGua"
      },
      "outputs": [],
      "source": [
        "def build_optimizer(model, optimizer, learning_rate):\n",
        "    if optimizer == \"sgd\":\n",
        "        optimizer = optim.SGD(model.parameters(),\n",
        "                              lr=learning_rate, momentum=0.9)\n",
        "    elif optimizer == \"adam\":\n",
        "        optimizer = optim.Adam(model.parameters(),\n",
        "                               lr=learning_rate)\n",
        "    return optimizer"
      ]
    },
    {
      "cell_type": "code",
      "execution_count": 19,
      "metadata": {
        "id": "2DKGeTg8BIZo"
      },
      "outputs": [],
      "source": [
        "import torch.nn.functional as F\n",
        "\n",
        "def train_epoch(model, dataloaders, optimizer):\n",
        "    model.train()\n",
        "    running_loss = 0.0\n",
        "    total_samples = 0\n",
        "\n",
        "    for inputs, labels in dataloaders['train']:\n",
        "        inputs = inputs.to(device)\n",
        "        labels = labels.to(device)\n",
        "\n",
        "        optimizer.zero_grad()\n",
        "\n",
        "        # Forward pass\n",
        "        outputs = model(inputs)\n",
        "        loss = F.cross_entropy(outputs, torch.max(labels, 1)[1])\n",
        "\n",
        "        # Backward pass\n",
        "        loss.backward()\n",
        "        optimizer.step()\n",
        "\n",
        "        running_loss += loss.item() * inputs.size(0)\n",
        "        total_samples += inputs.size(0)\n",
        "\n",
        "    avg_loss = running_loss / total_samples\n",
        "    return avg_loss"
      ]
    },
    {
      "cell_type": "markdown",
      "metadata": {
        "id": "kSJKlI1OoxQg"
      },
      "source": [
        "###**Testing different optimizers and learning rates**"
      ]
    },
    {
      "cell_type": "code",
      "execution_count": 20,
      "metadata": {
        "colab": {
          "base_uri": "https://localhost:8080/",
          "height": 1000,
          "referenced_widgets": [
            "fb3f059ec248448c9cce0946a440426b",
            "f58394594b86479fa6875abec443e592",
            "76fc6ef732da44c28bdd943464fe74fb",
            "22fd2781cc6b48b1ad901614175e0a94",
            "19d2a1131fc54b0cbcd09772be050543",
            "84fbff1cc59b42619b47afee562f71d2",
            "cbc7d619da7d46deacc5eddb9ba2b124",
            "a6a1fd28b8db4ddf9525551c44ed59ab",
            "a44027dd44474a549f2818b76f103fb7",
            "8688987fa5fa49ce9ea89ee7439bb378",
            "5b1d2a9949354ec78b33953d9be6823b",
            "99046a4109b24fe8bed74769b78b8b9f",
            "2cc20f4f736241a4ba21cd4a340ad21c",
            "fc313c6acd1647e385fe25b15b1d1bc9",
            "75445fdd34ed4d0688c2639aff1d7a87",
            "05050972bf8544279113e89e2a2bdd6f",
            "01898969d3ea43c6a7261ede669931b0",
            "4f3f3f9dee56429da79f81d86885f781",
            "9d62dbdb027f435ea94cc83f1dcfa3f5",
            "a2a0c900dc2c4537916dcc1cf9496093",
            "6bc57914ff1541dcb1b2f7321857c9d6",
            "e36aff8386534bc0846b64f3b5ee8e88",
            "c965b3b4f42a410fb4a9708014074c59",
            "424944d266bc491b8d99a2b2a7273dc4",
            "63d374818a334988a00b9d0958d294eb",
            "1717c015a8404eb6bff9cc989f66fef6",
            "e5664ae432164f8089e4fc1b351bfb48",
            "c72c9ee5ec0a413e887b2fef17e1c8f6",
            "6f6c6a94e1724ad4a9d9a17789b58656",
            "9532c08d659048659073a7eef04a8d52",
            "de01d1e3530d42d78a6eb66b7938c8da",
            "ec9e9c5980db4102b92eb1b9192092bc",
            "352b49a8113b424b8f1a699f63ca5c87",
            "af94f20e0c004b4abc426f17d1d1bfc1",
            "6bec777c76584e6bb16da898b534d9b0",
            "314b80c2fb41481cbe9fbc2b0c01b8c2",
            "9d738527d7674f2eb46abdb02fb52c78",
            "9165b49db4ec423f92754c0811e3400e",
            "777985d407b74a019a4c97de9d49b52c",
            "57756bac312d432e9da53e22373b6fbc",
            "82313a6e81254a0d98235047fd9c0031",
            "ca45cb75595f435882f5439bf222c269",
            "14d44bd60bc84e17a006a163c49c0ec2",
            "f9d9373b444441eab595f3f844be905f",
            "f92860465b524da8968b9b4720e1b387",
            "291a62d3c7e446c390183f33177c114c",
            "41afa702cb374a2a89ae0f01914a47fe",
            "19e3bb6948954988a35fbc8b1f107f7b",
            "028502f605324fb5a8c86f82f4a4f739",
            "eb2f601752a74b63ad077e50bdc56411",
            "ddafe5ab0b9d4f27a513c937552c959b",
            "ee2103a4ba3140c3844560d1271b3e19",
            "b21d895a1ba04f1795993d6fd68f3996",
            "7ddd239456b04f79a6e4f07c3bdf7a86",
            "b3194f4e21ff4ff6b17e1451e7c20bb4",
            "0a386f3d08c0453e85126ef0b677921b",
            "aba1fac4b62e431eb9800dc6f79bb733",
            "1159a957bf7940e6aee7ecfa0103ef8d",
            "2e64d8750049429cb206318859586e4f",
            "1580911462a0416098d5f1547da2017f",
            "3aa5bc10abc546f7ab4943b242f62cd4",
            "b1c91602f3124aa4916480533a6d4cb1",
            "bcaf12307c5a4d3abcbdab43d6ecd113",
            "27c428b45d0548199fe2564df2cc70f2",
            "3374872870be48f6885102a670f3d8ab",
            "423f7fc0425c432283f4a57124268db0",
            "aa957981ef094dd7b9e978c1954a88a4",
            "bedab2b0e9c6421f834d0aa221366d26",
            "aafbf46e2c65475d8bae5e33a6e9215a",
            "36e6643a112a4abba33a0253d99b1fad",
            "86669810b2d944a7bbaf473efa5eb8bf",
            "0c9794b0892b4eb2999ab544c6ac0020",
            "e50be14bec9c41b7adb18bde1d4973cd",
            "9efd2297f34f4f0db93bc8f05f1c9b0f",
            "16712d977122478e8af27f603a32bd60",
            "fe90e65142394e9abfe4246eb6b62682",
            "8af5c338f5ac4a1eb22abaafd0fa5641",
            "c2f775505af847a48937e129e3c9f913",
            "8225b852772247c4872cc50ce3dac63e",
            "970da7a05c0c48af8c3c2a73cd5f6b98",
            "1eead5e4af4b4cd0b62414b76a181f6c",
            "3019368d5a7c41bba0d8e77e686206b7",
            "00cd15fae73c4ccdbd15250288623bf5",
            "bd781f20162d4ae299f78a861fddadcd",
            "7d89ad63b57c4571a4117721f8dfb686",
            "5986bee52b4647f3b8d9c4c5a88d22ad",
            "0b3eea59ffa84f8a880474700900215e",
            "491aa793de6a4df2bd22d6bf368dd241",
            "6bd72a45fe73449bb4578d3f2c86a043",
            "08c003ed50c84c5a96e49037c33303cc",
            "b5ef4e9a831f44d6bab3205f90b02787",
            "8a17cb03c7474171956fa07e955bb22e",
            "5619ca29467540df9321396d488e3275",
            "624564b59c1c4d44b23397ab578d1416",
            "8b08b638cc514cdba094b2c5ccabe18f",
            "642f9b86c9744639a5a5dbd84ecf4a47",
            "bd1ba4f507d34bb8b9f02e0b45d62dcc",
            "dd811ef11f494b6291e203752ba264e6",
            "53a4bacf377846a3b1abf71edd3ca22d",
            "2aefdc450f1b4ed28cef317b4b1507e0",
            "ff506679d6be464386a9ccc0b272c327",
            "349f70cddffc4bd198599ff0347906b9",
            "07740ef7a09e405aae1aae1d889f77fe",
            "db8f741d09d1472db6a8d93e3f64115a"
          ]
        },
        "id": "a1NFvzuOreoZ",
        "outputId": "4ad884e0-ac85-4c02-d9dd-5f647b8660e5"
      },
      "outputs": [
        {
          "output_type": "stream",
          "name": "stderr",
          "text": [
            "\u001b[34m\u001b[1mwandb\u001b[0m: Agent Starting Run: 5mejy8ln with config:\n",
            "\u001b[34m\u001b[1mwandb\u001b[0m: \tepochs: 15\n",
            "\u001b[34m\u001b[1mwandb\u001b[0m: \tlearning_rate: 0.0004003176291947085\n",
            "\u001b[34m\u001b[1mwandb\u001b[0m: \toptimizer: adam\n",
            "\u001b[34m\u001b[1mwandb\u001b[0m: Currently logged in as: \u001b[33msk7905\u001b[0m (\u001b[33matds_ml\u001b[0m). Use \u001b[1m`wandb login --relogin`\u001b[0m to force relogin\n"
          ]
        },
        {
          "output_type": "display_data",
          "data": {
            "text/plain": [
              "<IPython.core.display.HTML object>"
            ],
            "text/html": [
              "Tracking run with wandb version 0.15.2"
            ]
          },
          "metadata": {}
        },
        {
          "output_type": "display_data",
          "data": {
            "text/plain": [
              "<IPython.core.display.HTML object>"
            ],
            "text/html": [
              "Run data is saved locally in <code>/content/wandb/run-20230508_071841-5mejy8ln</code>"
            ]
          },
          "metadata": {}
        },
        {
          "output_type": "display_data",
          "data": {
            "text/plain": [
              "<IPython.core.display.HTML object>"
            ],
            "text/html": [
              "Syncing run <strong><a href='https://wandb.ai/atds_ml/densenet161/runs/5mejy8ln' target=\"_blank\">elated-sweep-1</a></strong> to <a href='https://wandb.ai/atds_ml/densenet161' target=\"_blank\">Weights & Biases</a> (<a href='https://wandb.me/run' target=\"_blank\">docs</a>)<br/>Sweep page: <a href='https://wandb.ai/atds_ml/densenet161/sweeps/y998254c' target=\"_blank\">https://wandb.ai/atds_ml/densenet161/sweeps/y998254c</a>"
            ]
          },
          "metadata": {}
        },
        {
          "output_type": "display_data",
          "data": {
            "text/plain": [
              "<IPython.core.display.HTML object>"
            ],
            "text/html": [
              " View project at <a href='https://wandb.ai/atds_ml/densenet161' target=\"_blank\">https://wandb.ai/atds_ml/densenet161</a>"
            ]
          },
          "metadata": {}
        },
        {
          "output_type": "display_data",
          "data": {
            "text/plain": [
              "<IPython.core.display.HTML object>"
            ],
            "text/html": [
              " View sweep at <a href='https://wandb.ai/atds_ml/densenet161/sweeps/y998254c' target=\"_blank\">https://wandb.ai/atds_ml/densenet161/sweeps/y998254c</a>"
            ]
          },
          "metadata": {}
        },
        {
          "output_type": "display_data",
          "data": {
            "text/plain": [
              "<IPython.core.display.HTML object>"
            ],
            "text/html": [
              " View run at <a href='https://wandb.ai/atds_ml/densenet161/runs/5mejy8ln' target=\"_blank\">https://wandb.ai/atds_ml/densenet161/runs/5mejy8ln</a>"
            ]
          },
          "metadata": {}
        },
        {
          "output_type": "stream",
          "name": "stdout",
          "text": [
            "X_train.shape torch.Size([31367, 3, 30, 30])\n",
            "X_valid.shape torch.Size([7842, 3, 30, 30])\n",
            "y_train.shape torch.Size([31367])\n",
            "y_valid.shape torch.Size([7842])\n"
          ]
        },
        {
          "output_type": "stream",
          "name": "stderr",
          "text": [
            "/usr/local/lib/python3.10/dist-packages/torchvision/models/_utils.py:208: UserWarning: The parameter 'pretrained' is deprecated since 0.13 and may be removed in the future, please use 'weights' instead.\n",
            "  warnings.warn(\n",
            "/usr/local/lib/python3.10/dist-packages/torchvision/models/_utils.py:223: UserWarning: Arguments other than a weight enum or `None` for 'weights' are deprecated since 0.13 and may be removed in the future. The current behavior is equivalent to passing `weights=DenseNet161_Weights.IMAGENET1K_V1`. You can also use `weights=DenseNet161_Weights.DEFAULT` to get the most up-to-date weights.\n",
            "  warnings.warn(msg)\n",
            "Downloading: \"https://download.pytorch.org/models/densenet161-8d451a50.pth\" to /root/.cache/torch/hub/checkpoints/densenet161-8d451a50.pth\n",
            "100%|██████████| 110M/110M [00:01<00:00, 70.5MB/s]\n"
          ]
        },
        {
          "output_type": "display_data",
          "data": {
            "text/plain": [
              "<IPython.core.display.HTML object>"
            ],
            "text/html": [
              "Waiting for W&B process to finish... <strong style=\"color:green\">(success).</strong>"
            ]
          },
          "metadata": {}
        },
        {
          "output_type": "display_data",
          "data": {
            "text/plain": [
              "VBox(children=(Label(value='0.001 MB of 0.010 MB uploaded (0.000 MB deduped)\\r'), FloatProgress(value=0.126824…"
            ],
            "application/vnd.jupyter.widget-view+json": {
              "version_major": 2,
              "version_minor": 0,
              "model_id": "fb3f059ec248448c9cce0946a440426b"
            }
          },
          "metadata": {}
        },
        {
          "output_type": "display_data",
          "data": {
            "text/plain": [
              "<IPython.core.display.HTML object>"
            ],
            "text/html": [
              "<style>\n",
              "    table.wandb td:nth-child(1) { padding: 0 10px; text-align: left ; width: auto;} td:nth-child(2) {text-align: left ; width: 100%}\n",
              "    .wandb-row { display: flex; flex-direction: row; flex-wrap: wrap; justify-content: flex-start; width: 100% }\n",
              "    .wandb-col { display: flex; flex-direction: column; flex-basis: 100%; flex: 1; padding: 10px; }\n",
              "    </style>\n",
              "<div class=\"wandb-row\"><div class=\"wandb-col\"><h3>Run history:</h3><br/><table class=\"wandb\"><tr><td>epoch</td><td>▁▁▂▃▃▃▄▅▅▅▆▇▇▇█</td></tr><tr><td>learning_rate</td><td>▁▁▁▁▁▁▁▁▁▁▁▁▁▁▁</td></tr><tr><td>loss</td><td>█▅▄▃▃▂▂▂▂▂▁▁▁▁▁</td></tr></table><br/></div><div class=\"wandb-col\"><h3>Run summary:</h3><br/><table class=\"wandb\"><tr><td>epoch</td><td>14</td></tr><tr><td>learning_rate</td><td>0.0004</td></tr><tr><td>loss</td><td>1.49643</td></tr><tr><td>optimizer</td><td>adam</td></tr></table><br/></div></div>"
            ]
          },
          "metadata": {}
        },
        {
          "output_type": "display_data",
          "data": {
            "text/plain": [
              "<IPython.core.display.HTML object>"
            ],
            "text/html": [
              " View run <strong style=\"color:#cdcd00\">elated-sweep-1</strong> at: <a href='https://wandb.ai/atds_ml/densenet161/runs/5mejy8ln' target=\"_blank\">https://wandb.ai/atds_ml/densenet161/runs/5mejy8ln</a><br/>Synced 5 W&B file(s), 0 media file(s), 0 artifact file(s) and 0 other file(s)"
            ]
          },
          "metadata": {}
        },
        {
          "output_type": "display_data",
          "data": {
            "text/plain": [
              "<IPython.core.display.HTML object>"
            ],
            "text/html": [
              "Find logs at: <code>./wandb/run-20230508_071841-5mejy8ln/logs</code>"
            ]
          },
          "metadata": {}
        },
        {
          "output_type": "stream",
          "name": "stderr",
          "text": [
            "\u001b[34m\u001b[1mwandb\u001b[0m: Agent Starting Run: loj7owc4 with config:\n",
            "\u001b[34m\u001b[1mwandb\u001b[0m: \tepochs: 15\n",
            "\u001b[34m\u001b[1mwandb\u001b[0m: \tlearning_rate: 0.0001034450652788723\n",
            "\u001b[34m\u001b[1mwandb\u001b[0m: \toptimizer: adam\n"
          ]
        },
        {
          "output_type": "display_data",
          "data": {
            "text/plain": [
              "<IPython.core.display.HTML object>"
            ],
            "text/html": [
              "Tracking run with wandb version 0.15.2"
            ]
          },
          "metadata": {}
        },
        {
          "output_type": "display_data",
          "data": {
            "text/plain": [
              "<IPython.core.display.HTML object>"
            ],
            "text/html": [
              "Run data is saved locally in <code>/content/wandb/run-20230508_072312-loj7owc4</code>"
            ]
          },
          "metadata": {}
        },
        {
          "output_type": "display_data",
          "data": {
            "text/plain": [
              "<IPython.core.display.HTML object>"
            ],
            "text/html": [
              "Syncing run <strong><a href='https://wandb.ai/atds_ml/densenet161/runs/loj7owc4' target=\"_blank\">golden-sweep-2</a></strong> to <a href='https://wandb.ai/atds_ml/densenet161' target=\"_blank\">Weights & Biases</a> (<a href='https://wandb.me/run' target=\"_blank\">docs</a>)<br/>Sweep page: <a href='https://wandb.ai/atds_ml/densenet161/sweeps/y998254c' target=\"_blank\">https://wandb.ai/atds_ml/densenet161/sweeps/y998254c</a>"
            ]
          },
          "metadata": {}
        },
        {
          "output_type": "display_data",
          "data": {
            "text/plain": [
              "<IPython.core.display.HTML object>"
            ],
            "text/html": [
              " View project at <a href='https://wandb.ai/atds_ml/densenet161' target=\"_blank\">https://wandb.ai/atds_ml/densenet161</a>"
            ]
          },
          "metadata": {}
        },
        {
          "output_type": "display_data",
          "data": {
            "text/plain": [
              "<IPython.core.display.HTML object>"
            ],
            "text/html": [
              " View sweep at <a href='https://wandb.ai/atds_ml/densenet161/sweeps/y998254c' target=\"_blank\">https://wandb.ai/atds_ml/densenet161/sweeps/y998254c</a>"
            ]
          },
          "metadata": {}
        },
        {
          "output_type": "display_data",
          "data": {
            "text/plain": [
              "<IPython.core.display.HTML object>"
            ],
            "text/html": [
              " View run at <a href='https://wandb.ai/atds_ml/densenet161/runs/loj7owc4' target=\"_blank\">https://wandb.ai/atds_ml/densenet161/runs/loj7owc4</a>"
            ]
          },
          "metadata": {}
        },
        {
          "output_type": "stream",
          "name": "stdout",
          "text": [
            "X_train.shape torch.Size([31367, 3, 30, 30])\n",
            "X_valid.shape torch.Size([7842, 3, 30, 30])\n",
            "y_train.shape torch.Size([31367])\n",
            "y_valid.shape torch.Size([7842])\n"
          ]
        },
        {
          "output_type": "display_data",
          "data": {
            "text/plain": [
              "<IPython.core.display.HTML object>"
            ],
            "text/html": [
              "Waiting for W&B process to finish... <strong style=\"color:green\">(success).</strong>"
            ]
          },
          "metadata": {}
        },
        {
          "output_type": "display_data",
          "data": {
            "text/plain": [
              "<IPython.core.display.HTML object>"
            ],
            "text/html": [
              "<style>\n",
              "    table.wandb td:nth-child(1) { padding: 0 10px; text-align: left ; width: auto;} td:nth-child(2) {text-align: left ; width: 100%}\n",
              "    .wandb-row { display: flex; flex-direction: row; flex-wrap: wrap; justify-content: flex-start; width: 100% }\n",
              "    .wandb-col { display: flex; flex-direction: column; flex-basis: 100%; flex: 1; padding: 10px; }\n",
              "    </style>\n",
              "<div class=\"wandb-row\"><div class=\"wandb-col\"><h3>Run history:</h3><br/><table class=\"wandb\"><tr><td>epoch</td><td>▁▁▂▃▃▃▄▅▅▅▆▇▇▇█</td></tr><tr><td>learning_rate</td><td>▁▁▁▁▁▁▁▁▁▁▁▁▁▁▁</td></tr><tr><td>loss</td><td>█▆▆▅▄▄▃▃▂▂▂▂▁▁▁</td></tr></table><br/></div><div class=\"wandb-col\"><h3>Run summary:</h3><br/><table class=\"wandb\"><tr><td>epoch</td><td>14</td></tr><tr><td>learning_rate</td><td>0.0001</td></tr><tr><td>loss</td><td>3.67766</td></tr><tr><td>optimizer</td><td>adam</td></tr></table><br/></div></div>"
            ]
          },
          "metadata": {}
        },
        {
          "output_type": "display_data",
          "data": {
            "text/plain": [
              "<IPython.core.display.HTML object>"
            ],
            "text/html": [
              " View run <strong style=\"color:#cdcd00\">golden-sweep-2</strong> at: <a href='https://wandb.ai/atds_ml/densenet161/runs/loj7owc4' target=\"_blank\">https://wandb.ai/atds_ml/densenet161/runs/loj7owc4</a><br/>Synced 5 W&B file(s), 0 media file(s), 0 artifact file(s) and 0 other file(s)"
            ]
          },
          "metadata": {}
        },
        {
          "output_type": "display_data",
          "data": {
            "text/plain": [
              "<IPython.core.display.HTML object>"
            ],
            "text/html": [
              "Find logs at: <code>./wandb/run-20230508_072312-loj7owc4/logs</code>"
            ]
          },
          "metadata": {}
        },
        {
          "output_type": "stream",
          "name": "stderr",
          "text": [
            "\u001b[34m\u001b[1mwandb\u001b[0m: Agent Starting Run: drz8yby4 with config:\n",
            "\u001b[34m\u001b[1mwandb\u001b[0m: \tepochs: 15\n",
            "\u001b[34m\u001b[1mwandb\u001b[0m: \tlearning_rate: 0.0009523921340918834\n",
            "\u001b[34m\u001b[1mwandb\u001b[0m: \toptimizer: sgd\n"
          ]
        },
        {
          "output_type": "display_data",
          "data": {
            "text/plain": [
              "<IPython.core.display.HTML object>"
            ],
            "text/html": [
              "Tracking run with wandb version 0.15.2"
            ]
          },
          "metadata": {}
        },
        {
          "output_type": "display_data",
          "data": {
            "text/plain": [
              "<IPython.core.display.HTML object>"
            ],
            "text/html": [
              "Run data is saved locally in <code>/content/wandb/run-20230508_072723-drz8yby4</code>"
            ]
          },
          "metadata": {}
        },
        {
          "output_type": "display_data",
          "data": {
            "text/plain": [
              "<IPython.core.display.HTML object>"
            ],
            "text/html": [
              "Syncing run <strong><a href='https://wandb.ai/atds_ml/densenet161/runs/drz8yby4' target=\"_blank\">wild-sweep-3</a></strong> to <a href='https://wandb.ai/atds_ml/densenet161' target=\"_blank\">Weights & Biases</a> (<a href='https://wandb.me/run' target=\"_blank\">docs</a>)<br/>Sweep page: <a href='https://wandb.ai/atds_ml/densenet161/sweeps/y998254c' target=\"_blank\">https://wandb.ai/atds_ml/densenet161/sweeps/y998254c</a>"
            ]
          },
          "metadata": {}
        },
        {
          "output_type": "display_data",
          "data": {
            "text/plain": [
              "<IPython.core.display.HTML object>"
            ],
            "text/html": [
              " View project at <a href='https://wandb.ai/atds_ml/densenet161' target=\"_blank\">https://wandb.ai/atds_ml/densenet161</a>"
            ]
          },
          "metadata": {}
        },
        {
          "output_type": "display_data",
          "data": {
            "text/plain": [
              "<IPython.core.display.HTML object>"
            ],
            "text/html": [
              " View sweep at <a href='https://wandb.ai/atds_ml/densenet161/sweeps/y998254c' target=\"_blank\">https://wandb.ai/atds_ml/densenet161/sweeps/y998254c</a>"
            ]
          },
          "metadata": {}
        },
        {
          "output_type": "display_data",
          "data": {
            "text/plain": [
              "<IPython.core.display.HTML object>"
            ],
            "text/html": [
              " View run at <a href='https://wandb.ai/atds_ml/densenet161/runs/drz8yby4' target=\"_blank\">https://wandb.ai/atds_ml/densenet161/runs/drz8yby4</a>"
            ]
          },
          "metadata": {}
        },
        {
          "output_type": "stream",
          "name": "stdout",
          "text": [
            "X_train.shape torch.Size([31367, 3, 30, 30])\n",
            "X_valid.shape torch.Size([7842, 3, 30, 30])\n",
            "y_train.shape torch.Size([31367])\n",
            "y_valid.shape torch.Size([7842])\n"
          ]
        },
        {
          "output_type": "display_data",
          "data": {
            "text/plain": [
              "<IPython.core.display.HTML object>"
            ],
            "text/html": [
              "Waiting for W&B process to finish... <strong style=\"color:green\">(success).</strong>"
            ]
          },
          "metadata": {}
        },
        {
          "output_type": "display_data",
          "data": {
            "text/plain": [
              "VBox(children=(Label(value='0.001 MB of 0.001 MB uploaded (0.000 MB deduped)\\r'), FloatProgress(value=1.0, max…"
            ],
            "application/vnd.jupyter.widget-view+json": {
              "version_major": 2,
              "version_minor": 0,
              "model_id": "a44027dd44474a549f2818b76f103fb7"
            }
          },
          "metadata": {}
        },
        {
          "output_type": "display_data",
          "data": {
            "text/plain": [
              "<IPython.core.display.HTML object>"
            ],
            "text/html": [
              "<style>\n",
              "    table.wandb td:nth-child(1) { padding: 0 10px; text-align: left ; width: auto;} td:nth-child(2) {text-align: left ; width: 100%}\n",
              "    .wandb-row { display: flex; flex-direction: row; flex-wrap: wrap; justify-content: flex-start; width: 100% }\n",
              "    .wandb-col { display: flex; flex-direction: column; flex-basis: 100%; flex: 1; padding: 10px; }\n",
              "    </style>\n",
              "<div class=\"wandb-row\"><div class=\"wandb-col\"><h3>Run history:</h3><br/><table class=\"wandb\"><tr><td>epoch</td><td>▁▁▂▃▃▃▄▅▅▅▆▇▇▇█</td></tr><tr><td>learning_rate</td><td>▁▁▁▁▁▁▁▁▁▁▁▁▁▁▁</td></tr><tr><td>loss</td><td>█▆▅▄▃▃▂▂▂▂▁▁▁▁▁</td></tr></table><br/></div><div class=\"wandb-col\"><h3>Run summary:</h3><br/><table class=\"wandb\"><tr><td>epoch</td><td>14</td></tr><tr><td>learning_rate</td><td>0.00095</td></tr><tr><td>loss</td><td>2.42027</td></tr><tr><td>optimizer</td><td>sgd</td></tr></table><br/></div></div>"
            ]
          },
          "metadata": {}
        },
        {
          "output_type": "display_data",
          "data": {
            "text/plain": [
              "<IPython.core.display.HTML object>"
            ],
            "text/html": [
              " View run <strong style=\"color:#cdcd00\">wild-sweep-3</strong> at: <a href='https://wandb.ai/atds_ml/densenet161/runs/drz8yby4' target=\"_blank\">https://wandb.ai/atds_ml/densenet161/runs/drz8yby4</a><br/>Synced 5 W&B file(s), 0 media file(s), 0 artifact file(s) and 0 other file(s)"
            ]
          },
          "metadata": {}
        },
        {
          "output_type": "display_data",
          "data": {
            "text/plain": [
              "<IPython.core.display.HTML object>"
            ],
            "text/html": [
              "Find logs at: <code>./wandb/run-20230508_072723-drz8yby4/logs</code>"
            ]
          },
          "metadata": {}
        },
        {
          "output_type": "stream",
          "name": "stderr",
          "text": [
            "\u001b[34m\u001b[1mwandb\u001b[0m: Agent Starting Run: o6v4iu8n with config:\n",
            "\u001b[34m\u001b[1mwandb\u001b[0m: \tepochs: 15\n",
            "\u001b[34m\u001b[1mwandb\u001b[0m: \tlearning_rate: 0.0004523501627415118\n",
            "\u001b[34m\u001b[1mwandb\u001b[0m: \toptimizer: sgd\n"
          ]
        },
        {
          "output_type": "display_data",
          "data": {
            "text/plain": [
              "<IPython.core.display.HTML object>"
            ],
            "text/html": [
              "Tracking run with wandb version 0.15.2"
            ]
          },
          "metadata": {}
        },
        {
          "output_type": "display_data",
          "data": {
            "text/plain": [
              "<IPython.core.display.HTML object>"
            ],
            "text/html": [
              "Run data is saved locally in <code>/content/wandb/run-20230508_073133-o6v4iu8n</code>"
            ]
          },
          "metadata": {}
        },
        {
          "output_type": "display_data",
          "data": {
            "text/plain": [
              "<IPython.core.display.HTML object>"
            ],
            "text/html": [
              "Syncing run <strong><a href='https://wandb.ai/atds_ml/densenet161/runs/o6v4iu8n' target=\"_blank\">flowing-sweep-4</a></strong> to <a href='https://wandb.ai/atds_ml/densenet161' target=\"_blank\">Weights & Biases</a> (<a href='https://wandb.me/run' target=\"_blank\">docs</a>)<br/>Sweep page: <a href='https://wandb.ai/atds_ml/densenet161/sweeps/y998254c' target=\"_blank\">https://wandb.ai/atds_ml/densenet161/sweeps/y998254c</a>"
            ]
          },
          "metadata": {}
        },
        {
          "output_type": "display_data",
          "data": {
            "text/plain": [
              "<IPython.core.display.HTML object>"
            ],
            "text/html": [
              " View project at <a href='https://wandb.ai/atds_ml/densenet161' target=\"_blank\">https://wandb.ai/atds_ml/densenet161</a>"
            ]
          },
          "metadata": {}
        },
        {
          "output_type": "display_data",
          "data": {
            "text/plain": [
              "<IPython.core.display.HTML object>"
            ],
            "text/html": [
              " View sweep at <a href='https://wandb.ai/atds_ml/densenet161/sweeps/y998254c' target=\"_blank\">https://wandb.ai/atds_ml/densenet161/sweeps/y998254c</a>"
            ]
          },
          "metadata": {}
        },
        {
          "output_type": "display_data",
          "data": {
            "text/plain": [
              "<IPython.core.display.HTML object>"
            ],
            "text/html": [
              " View run at <a href='https://wandb.ai/atds_ml/densenet161/runs/o6v4iu8n' target=\"_blank\">https://wandb.ai/atds_ml/densenet161/runs/o6v4iu8n</a>"
            ]
          },
          "metadata": {}
        },
        {
          "output_type": "stream",
          "name": "stdout",
          "text": [
            "X_train.shape torch.Size([31367, 3, 30, 30])\n",
            "X_valid.shape torch.Size([7842, 3, 30, 30])\n",
            "y_train.shape torch.Size([31367])\n",
            "y_valid.shape torch.Size([7842])\n"
          ]
        },
        {
          "output_type": "display_data",
          "data": {
            "text/plain": [
              "<IPython.core.display.HTML object>"
            ],
            "text/html": [
              "Waiting for W&B process to finish... <strong style=\"color:green\">(success).</strong>"
            ]
          },
          "metadata": {}
        },
        {
          "output_type": "display_data",
          "data": {
            "text/plain": [
              "VBox(children=(Label(value='0.010 MB of 0.010 MB uploaded (0.000 MB deduped)\\r'), FloatProgress(value=1.0, max…"
            ],
            "application/vnd.jupyter.widget-view+json": {
              "version_major": 2,
              "version_minor": 0,
              "model_id": "01898969d3ea43c6a7261ede669931b0"
            }
          },
          "metadata": {}
        },
        {
          "output_type": "display_data",
          "data": {
            "text/plain": [
              "<IPython.core.display.HTML object>"
            ],
            "text/html": [
              "<style>\n",
              "    table.wandb td:nth-child(1) { padding: 0 10px; text-align: left ; width: auto;} td:nth-child(2) {text-align: left ; width: 100%}\n",
              "    .wandb-row { display: flex; flex-direction: row; flex-wrap: wrap; justify-content: flex-start; width: 100% }\n",
              "    .wandb-col { display: flex; flex-direction: column; flex-basis: 100%; flex: 1; padding: 10px; }\n",
              "    </style>\n",
              "<div class=\"wandb-row\"><div class=\"wandb-col\"><h3>Run history:</h3><br/><table class=\"wandb\"><tr><td>epoch</td><td>▁▁▂▃▃▃▄▅▅▅▆▇▇▇█</td></tr><tr><td>learning_rate</td><td>▁▁▁▁▁▁▁▁▁▁▁▁▁▁▁</td></tr><tr><td>loss</td><td>█▆▅▄▄▃▃▂▂▂▂▁▁▁▁</td></tr></table><br/></div><div class=\"wandb-col\"><h3>Run summary:</h3><br/><table class=\"wandb\"><tr><td>epoch</td><td>14</td></tr><tr><td>learning_rate</td><td>0.00045</td></tr><tr><td>loss</td><td>3.55923</td></tr><tr><td>optimizer</td><td>sgd</td></tr></table><br/></div></div>"
            ]
          },
          "metadata": {}
        },
        {
          "output_type": "display_data",
          "data": {
            "text/plain": [
              "<IPython.core.display.HTML object>"
            ],
            "text/html": [
              " View run <strong style=\"color:#cdcd00\">flowing-sweep-4</strong> at: <a href='https://wandb.ai/atds_ml/densenet161/runs/o6v4iu8n' target=\"_blank\">https://wandb.ai/atds_ml/densenet161/runs/o6v4iu8n</a><br/>Synced 5 W&B file(s), 0 media file(s), 0 artifact file(s) and 0 other file(s)"
            ]
          },
          "metadata": {}
        },
        {
          "output_type": "display_data",
          "data": {
            "text/plain": [
              "<IPython.core.display.HTML object>"
            ],
            "text/html": [
              "Find logs at: <code>./wandb/run-20230508_073133-o6v4iu8n/logs</code>"
            ]
          },
          "metadata": {}
        },
        {
          "output_type": "stream",
          "name": "stderr",
          "text": [
            "\u001b[34m\u001b[1mwandb\u001b[0m: Agent Starting Run: 7zrwjvu9 with config:\n",
            "\u001b[34m\u001b[1mwandb\u001b[0m: \tepochs: 15\n",
            "\u001b[34m\u001b[1mwandb\u001b[0m: \tlearning_rate: 0.0006484006477900871\n",
            "\u001b[34m\u001b[1mwandb\u001b[0m: \toptimizer: sgd\n"
          ]
        },
        {
          "output_type": "display_data",
          "data": {
            "text/plain": [
              "<IPython.core.display.HTML object>"
            ],
            "text/html": [
              "Tracking run with wandb version 0.15.2"
            ]
          },
          "metadata": {}
        },
        {
          "output_type": "display_data",
          "data": {
            "text/plain": [
              "<IPython.core.display.HTML object>"
            ],
            "text/html": [
              "Run data is saved locally in <code>/content/wandb/run-20230508_073544-7zrwjvu9</code>"
            ]
          },
          "metadata": {}
        },
        {
          "output_type": "display_data",
          "data": {
            "text/plain": [
              "<IPython.core.display.HTML object>"
            ],
            "text/html": [
              "Syncing run <strong><a href='https://wandb.ai/atds_ml/densenet161/runs/7zrwjvu9' target=\"_blank\">lucky-sweep-5</a></strong> to <a href='https://wandb.ai/atds_ml/densenet161' target=\"_blank\">Weights & Biases</a> (<a href='https://wandb.me/run' target=\"_blank\">docs</a>)<br/>Sweep page: <a href='https://wandb.ai/atds_ml/densenet161/sweeps/y998254c' target=\"_blank\">https://wandb.ai/atds_ml/densenet161/sweeps/y998254c</a>"
            ]
          },
          "metadata": {}
        },
        {
          "output_type": "display_data",
          "data": {
            "text/plain": [
              "<IPython.core.display.HTML object>"
            ],
            "text/html": [
              " View project at <a href='https://wandb.ai/atds_ml/densenet161' target=\"_blank\">https://wandb.ai/atds_ml/densenet161</a>"
            ]
          },
          "metadata": {}
        },
        {
          "output_type": "display_data",
          "data": {
            "text/plain": [
              "<IPython.core.display.HTML object>"
            ],
            "text/html": [
              " View sweep at <a href='https://wandb.ai/atds_ml/densenet161/sweeps/y998254c' target=\"_blank\">https://wandb.ai/atds_ml/densenet161/sweeps/y998254c</a>"
            ]
          },
          "metadata": {}
        },
        {
          "output_type": "display_data",
          "data": {
            "text/plain": [
              "<IPython.core.display.HTML object>"
            ],
            "text/html": [
              " View run at <a href='https://wandb.ai/atds_ml/densenet161/runs/7zrwjvu9' target=\"_blank\">https://wandb.ai/atds_ml/densenet161/runs/7zrwjvu9</a>"
            ]
          },
          "metadata": {}
        },
        {
          "output_type": "stream",
          "name": "stdout",
          "text": [
            "X_train.shape torch.Size([31367, 3, 30, 30])\n",
            "X_valid.shape torch.Size([7842, 3, 30, 30])\n",
            "y_train.shape torch.Size([31367])\n",
            "y_valid.shape torch.Size([7842])\n"
          ]
        },
        {
          "output_type": "display_data",
          "data": {
            "text/plain": [
              "<IPython.core.display.HTML object>"
            ],
            "text/html": [
              "Waiting for W&B process to finish... <strong style=\"color:green\">(success).</strong>"
            ]
          },
          "metadata": {}
        },
        {
          "output_type": "display_data",
          "data": {
            "text/plain": [
              "VBox(children=(Label(value='0.001 MB of 0.001 MB uploaded (0.000 MB deduped)\\r'), FloatProgress(value=1.0, max…"
            ],
            "application/vnd.jupyter.widget-view+json": {
              "version_major": 2,
              "version_minor": 0,
              "model_id": "63d374818a334988a00b9d0958d294eb"
            }
          },
          "metadata": {}
        },
        {
          "output_type": "display_data",
          "data": {
            "text/plain": [
              "<IPython.core.display.HTML object>"
            ],
            "text/html": [
              "<style>\n",
              "    table.wandb td:nth-child(1) { padding: 0 10px; text-align: left ; width: auto;} td:nth-child(2) {text-align: left ; width: 100%}\n",
              "    .wandb-row { display: flex; flex-direction: row; flex-wrap: wrap; justify-content: flex-start; width: 100% }\n",
              "    .wandb-col { display: flex; flex-direction: column; flex-basis: 100%; flex: 1; padding: 10px; }\n",
              "    </style>\n",
              "<div class=\"wandb-row\"><div class=\"wandb-col\"><h3>Run history:</h3><br/><table class=\"wandb\"><tr><td>epoch</td><td>▁▁▂▃▃▃▄▅▅▅▆▇▇▇█</td></tr><tr><td>learning_rate</td><td>▁▁▁▁▁▁▁▁▁▁▁▁▁▁▁</td></tr><tr><td>loss</td><td>█▆▅▄▃▃▃▂▂▂▂▁▁▁▁</td></tr></table><br/></div><div class=\"wandb-col\"><h3>Run summary:</h3><br/><table class=\"wandb\"><tr><td>epoch</td><td>14</td></tr><tr><td>learning_rate</td><td>0.00065</td></tr><tr><td>loss</td><td>2.99831</td></tr><tr><td>optimizer</td><td>sgd</td></tr></table><br/></div></div>"
            ]
          },
          "metadata": {}
        },
        {
          "output_type": "display_data",
          "data": {
            "text/plain": [
              "<IPython.core.display.HTML object>"
            ],
            "text/html": [
              " View run <strong style=\"color:#cdcd00\">lucky-sweep-5</strong> at: <a href='https://wandb.ai/atds_ml/densenet161/runs/7zrwjvu9' target=\"_blank\">https://wandb.ai/atds_ml/densenet161/runs/7zrwjvu9</a><br/>Synced 5 W&B file(s), 0 media file(s), 0 artifact file(s) and 0 other file(s)"
            ]
          },
          "metadata": {}
        },
        {
          "output_type": "display_data",
          "data": {
            "text/plain": [
              "<IPython.core.display.HTML object>"
            ],
            "text/html": [
              "Find logs at: <code>./wandb/run-20230508_073544-7zrwjvu9/logs</code>"
            ]
          },
          "metadata": {}
        },
        {
          "output_type": "stream",
          "name": "stderr",
          "text": [
            "\u001b[34m\u001b[1mwandb\u001b[0m: Agent Starting Run: i6mdhxba with config:\n",
            "\u001b[34m\u001b[1mwandb\u001b[0m: \tepochs: 15\n",
            "\u001b[34m\u001b[1mwandb\u001b[0m: \tlearning_rate: 0.0008051953386835413\n",
            "\u001b[34m\u001b[1mwandb\u001b[0m: \toptimizer: adam\n"
          ]
        },
        {
          "output_type": "display_data",
          "data": {
            "text/plain": [
              "<IPython.core.display.HTML object>"
            ],
            "text/html": [
              "Tracking run with wandb version 0.15.2"
            ]
          },
          "metadata": {}
        },
        {
          "output_type": "display_data",
          "data": {
            "text/plain": [
              "<IPython.core.display.HTML object>"
            ],
            "text/html": [
              "Run data is saved locally in <code>/content/wandb/run-20230508_073959-i6mdhxba</code>"
            ]
          },
          "metadata": {}
        },
        {
          "output_type": "display_data",
          "data": {
            "text/plain": [
              "<IPython.core.display.HTML object>"
            ],
            "text/html": [
              "Syncing run <strong><a href='https://wandb.ai/atds_ml/densenet161/runs/i6mdhxba' target=\"_blank\">sparkling-sweep-6</a></strong> to <a href='https://wandb.ai/atds_ml/densenet161' target=\"_blank\">Weights & Biases</a> (<a href='https://wandb.me/run' target=\"_blank\">docs</a>)<br/>Sweep page: <a href='https://wandb.ai/atds_ml/densenet161/sweeps/y998254c' target=\"_blank\">https://wandb.ai/atds_ml/densenet161/sweeps/y998254c</a>"
            ]
          },
          "metadata": {}
        },
        {
          "output_type": "display_data",
          "data": {
            "text/plain": [
              "<IPython.core.display.HTML object>"
            ],
            "text/html": [
              " View project at <a href='https://wandb.ai/atds_ml/densenet161' target=\"_blank\">https://wandb.ai/atds_ml/densenet161</a>"
            ]
          },
          "metadata": {}
        },
        {
          "output_type": "display_data",
          "data": {
            "text/plain": [
              "<IPython.core.display.HTML object>"
            ],
            "text/html": [
              " View sweep at <a href='https://wandb.ai/atds_ml/densenet161/sweeps/y998254c' target=\"_blank\">https://wandb.ai/atds_ml/densenet161/sweeps/y998254c</a>"
            ]
          },
          "metadata": {}
        },
        {
          "output_type": "display_data",
          "data": {
            "text/plain": [
              "<IPython.core.display.HTML object>"
            ],
            "text/html": [
              " View run at <a href='https://wandb.ai/atds_ml/densenet161/runs/i6mdhxba' target=\"_blank\">https://wandb.ai/atds_ml/densenet161/runs/i6mdhxba</a>"
            ]
          },
          "metadata": {}
        },
        {
          "output_type": "stream",
          "name": "stdout",
          "text": [
            "X_train.shape torch.Size([31367, 3, 30, 30])\n",
            "X_valid.shape torch.Size([7842, 3, 30, 30])\n",
            "y_train.shape torch.Size([31367])\n",
            "y_valid.shape torch.Size([7842])\n"
          ]
        },
        {
          "output_type": "display_data",
          "data": {
            "text/plain": [
              "<IPython.core.display.HTML object>"
            ],
            "text/html": [
              "Waiting for W&B process to finish... <strong style=\"color:green\">(success).</strong>"
            ]
          },
          "metadata": {}
        },
        {
          "output_type": "display_data",
          "data": {
            "text/plain": [
              "VBox(children=(Label(value='0.001 MB of 0.002 MB uploaded (0.000 MB deduped)\\r'), FloatProgress(value=0.574476…"
            ],
            "application/vnd.jupyter.widget-view+json": {
              "version_major": 2,
              "version_minor": 0,
              "model_id": "352b49a8113b424b8f1a699f63ca5c87"
            }
          },
          "metadata": {}
        },
        {
          "output_type": "display_data",
          "data": {
            "text/plain": [
              "<IPython.core.display.HTML object>"
            ],
            "text/html": [
              "<style>\n",
              "    table.wandb td:nth-child(1) { padding: 0 10px; text-align: left ; width: auto;} td:nth-child(2) {text-align: left ; width: 100%}\n",
              "    .wandb-row { display: flex; flex-direction: row; flex-wrap: wrap; justify-content: flex-start; width: 100% }\n",
              "    .wandb-col { display: flex; flex-direction: column; flex-basis: 100%; flex: 1; padding: 10px; }\n",
              "    </style>\n",
              "<div class=\"wandb-row\"><div class=\"wandb-col\"><h3>Run history:</h3><br/><table class=\"wandb\"><tr><td>epoch</td><td>▁▁▂▃▃▃▄▅▅▅▆▇▇▇█</td></tr><tr><td>learning_rate</td><td>▁▁▁▁▁▁▁▁▁▁▁▁▁▁▁</td></tr><tr><td>loss</td><td>█▅▃▃▂▂▂▂▁▁▁▁▁▁▁</td></tr></table><br/></div><div class=\"wandb-col\"><h3>Run summary:</h3><br/><table class=\"wandb\"><tr><td>epoch</td><td>14</td></tr><tr><td>learning_rate</td><td>0.00081</td></tr><tr><td>loss</td><td>1.05368</td></tr><tr><td>optimizer</td><td>adam</td></tr></table><br/></div></div>"
            ]
          },
          "metadata": {}
        },
        {
          "output_type": "display_data",
          "data": {
            "text/plain": [
              "<IPython.core.display.HTML object>"
            ],
            "text/html": [
              " View run <strong style=\"color:#cdcd00\">sparkling-sweep-6</strong> at: <a href='https://wandb.ai/atds_ml/densenet161/runs/i6mdhxba' target=\"_blank\">https://wandb.ai/atds_ml/densenet161/runs/i6mdhxba</a><br/>Synced 5 W&B file(s), 0 media file(s), 0 artifact file(s) and 0 other file(s)"
            ]
          },
          "metadata": {}
        },
        {
          "output_type": "display_data",
          "data": {
            "text/plain": [
              "<IPython.core.display.HTML object>"
            ],
            "text/html": [
              "Find logs at: <code>./wandb/run-20230508_073959-i6mdhxba/logs</code>"
            ]
          },
          "metadata": {}
        },
        {
          "output_type": "stream",
          "name": "stderr",
          "text": [
            "\u001b[34m\u001b[1mwandb\u001b[0m: Agent Starting Run: x4v8nyqx with config:\n",
            "\u001b[34m\u001b[1mwandb\u001b[0m: \tepochs: 15\n",
            "\u001b[34m\u001b[1mwandb\u001b[0m: \tlearning_rate: 0.00037812689432887095\n",
            "\u001b[34m\u001b[1mwandb\u001b[0m: \toptimizer: adam\n"
          ]
        },
        {
          "output_type": "display_data",
          "data": {
            "text/plain": [
              "<IPython.core.display.HTML object>"
            ],
            "text/html": [
              "Tracking run with wandb version 0.15.2"
            ]
          },
          "metadata": {}
        },
        {
          "output_type": "display_data",
          "data": {
            "text/plain": [
              "<IPython.core.display.HTML object>"
            ],
            "text/html": [
              "Run data is saved locally in <code>/content/wandb/run-20230508_074416-x4v8nyqx</code>"
            ]
          },
          "metadata": {}
        },
        {
          "output_type": "display_data",
          "data": {
            "text/plain": [
              "<IPython.core.display.HTML object>"
            ],
            "text/html": [
              "Syncing run <strong><a href='https://wandb.ai/atds_ml/densenet161/runs/x4v8nyqx' target=\"_blank\">crimson-sweep-7</a></strong> to <a href='https://wandb.ai/atds_ml/densenet161' target=\"_blank\">Weights & Biases</a> (<a href='https://wandb.me/run' target=\"_blank\">docs</a>)<br/>Sweep page: <a href='https://wandb.ai/atds_ml/densenet161/sweeps/y998254c' target=\"_blank\">https://wandb.ai/atds_ml/densenet161/sweeps/y998254c</a>"
            ]
          },
          "metadata": {}
        },
        {
          "output_type": "display_data",
          "data": {
            "text/plain": [
              "<IPython.core.display.HTML object>"
            ],
            "text/html": [
              " View project at <a href='https://wandb.ai/atds_ml/densenet161' target=\"_blank\">https://wandb.ai/atds_ml/densenet161</a>"
            ]
          },
          "metadata": {}
        },
        {
          "output_type": "display_data",
          "data": {
            "text/plain": [
              "<IPython.core.display.HTML object>"
            ],
            "text/html": [
              " View sweep at <a href='https://wandb.ai/atds_ml/densenet161/sweeps/y998254c' target=\"_blank\">https://wandb.ai/atds_ml/densenet161/sweeps/y998254c</a>"
            ]
          },
          "metadata": {}
        },
        {
          "output_type": "display_data",
          "data": {
            "text/plain": [
              "<IPython.core.display.HTML object>"
            ],
            "text/html": [
              " View run at <a href='https://wandb.ai/atds_ml/densenet161/runs/x4v8nyqx' target=\"_blank\">https://wandb.ai/atds_ml/densenet161/runs/x4v8nyqx</a>"
            ]
          },
          "metadata": {}
        },
        {
          "output_type": "stream",
          "name": "stdout",
          "text": [
            "X_train.shape torch.Size([31367, 3, 30, 30])\n",
            "X_valid.shape torch.Size([7842, 3, 30, 30])\n",
            "y_train.shape torch.Size([31367])\n",
            "y_valid.shape torch.Size([7842])\n"
          ]
        },
        {
          "output_type": "display_data",
          "data": {
            "text/plain": [
              "<IPython.core.display.HTML object>"
            ],
            "text/html": [
              "Waiting for W&B process to finish... <strong style=\"color:green\">(success).</strong>"
            ]
          },
          "metadata": {}
        },
        {
          "output_type": "display_data",
          "data": {
            "text/plain": [
              "<IPython.core.display.HTML object>"
            ],
            "text/html": [
              "<style>\n",
              "    table.wandb td:nth-child(1) { padding: 0 10px; text-align: left ; width: auto;} td:nth-child(2) {text-align: left ; width: 100%}\n",
              "    .wandb-row { display: flex; flex-direction: row; flex-wrap: wrap; justify-content: flex-start; width: 100% }\n",
              "    .wandb-col { display: flex; flex-direction: column; flex-basis: 100%; flex: 1; padding: 10px; }\n",
              "    </style>\n",
              "<div class=\"wandb-row\"><div class=\"wandb-col\"><h3>Run history:</h3><br/><table class=\"wandb\"><tr><td>epoch</td><td>▁▁▂▃▃▃▄▅▅▅▆▇▇▇█</td></tr><tr><td>learning_rate</td><td>▁▁▁▁▁▁▁▁▁▁▁▁▁▁▁</td></tr><tr><td>loss</td><td>█▅▄▃▃▃▂▂▂▂▁▁▁▁▁</td></tr></table><br/></div><div class=\"wandb-col\"><h3>Run summary:</h3><br/><table class=\"wandb\"><tr><td>epoch</td><td>14</td></tr><tr><td>learning_rate</td><td>0.00038</td></tr><tr><td>loss</td><td>1.55044</td></tr><tr><td>optimizer</td><td>adam</td></tr></table><br/></div></div>"
            ]
          },
          "metadata": {}
        },
        {
          "output_type": "display_data",
          "data": {
            "text/plain": [
              "<IPython.core.display.HTML object>"
            ],
            "text/html": [
              " View run <strong style=\"color:#cdcd00\">crimson-sweep-7</strong> at: <a href='https://wandb.ai/atds_ml/densenet161/runs/x4v8nyqx' target=\"_blank\">https://wandb.ai/atds_ml/densenet161/runs/x4v8nyqx</a><br/>Synced 5 W&B file(s), 0 media file(s), 0 artifact file(s) and 0 other file(s)"
            ]
          },
          "metadata": {}
        },
        {
          "output_type": "display_data",
          "data": {
            "text/plain": [
              "<IPython.core.display.HTML object>"
            ],
            "text/html": [
              "Find logs at: <code>./wandb/run-20230508_074416-x4v8nyqx/logs</code>"
            ]
          },
          "metadata": {}
        },
        {
          "output_type": "stream",
          "name": "stderr",
          "text": [
            "\u001b[34m\u001b[1mwandb\u001b[0m: Sweep Agent: Waiting for job.\n",
            "\u001b[34m\u001b[1mwandb\u001b[0m: Job received.\n",
            "\u001b[34m\u001b[1mwandb\u001b[0m: Agent Starting Run: x2w6wh8d with config:\n",
            "\u001b[34m\u001b[1mwandb\u001b[0m: \tepochs: 15\n",
            "\u001b[34m\u001b[1mwandb\u001b[0m: \tlearning_rate: 0.0004527305848105562\n",
            "\u001b[34m\u001b[1mwandb\u001b[0m: \toptimizer: sgd\n"
          ]
        },
        {
          "output_type": "display_data",
          "data": {
            "text/plain": [
              "<IPython.core.display.HTML object>"
            ],
            "text/html": [
              "Tracking run with wandb version 0.15.2"
            ]
          },
          "metadata": {}
        },
        {
          "output_type": "display_data",
          "data": {
            "text/plain": [
              "<IPython.core.display.HTML object>"
            ],
            "text/html": [
              "Run data is saved locally in <code>/content/wandb/run-20230508_074837-x2w6wh8d</code>"
            ]
          },
          "metadata": {}
        },
        {
          "output_type": "display_data",
          "data": {
            "text/plain": [
              "<IPython.core.display.HTML object>"
            ],
            "text/html": [
              "Syncing run <strong><a href='https://wandb.ai/atds_ml/densenet161/runs/x2w6wh8d' target=\"_blank\">sweet-sweep-8</a></strong> to <a href='https://wandb.ai/atds_ml/densenet161' target=\"_blank\">Weights & Biases</a> (<a href='https://wandb.me/run' target=\"_blank\">docs</a>)<br/>Sweep page: <a href='https://wandb.ai/atds_ml/densenet161/sweeps/y998254c' target=\"_blank\">https://wandb.ai/atds_ml/densenet161/sweeps/y998254c</a>"
            ]
          },
          "metadata": {}
        },
        {
          "output_type": "display_data",
          "data": {
            "text/plain": [
              "<IPython.core.display.HTML object>"
            ],
            "text/html": [
              " View project at <a href='https://wandb.ai/atds_ml/densenet161' target=\"_blank\">https://wandb.ai/atds_ml/densenet161</a>"
            ]
          },
          "metadata": {}
        },
        {
          "output_type": "display_data",
          "data": {
            "text/plain": [
              "<IPython.core.display.HTML object>"
            ],
            "text/html": [
              " View sweep at <a href='https://wandb.ai/atds_ml/densenet161/sweeps/y998254c' target=\"_blank\">https://wandb.ai/atds_ml/densenet161/sweeps/y998254c</a>"
            ]
          },
          "metadata": {}
        },
        {
          "output_type": "display_data",
          "data": {
            "text/plain": [
              "<IPython.core.display.HTML object>"
            ],
            "text/html": [
              " View run at <a href='https://wandb.ai/atds_ml/densenet161/runs/x2w6wh8d' target=\"_blank\">https://wandb.ai/atds_ml/densenet161/runs/x2w6wh8d</a>"
            ]
          },
          "metadata": {}
        },
        {
          "output_type": "stream",
          "name": "stdout",
          "text": [
            "X_train.shape torch.Size([31367, 3, 30, 30])\n",
            "X_valid.shape torch.Size([7842, 3, 30, 30])\n",
            "y_train.shape torch.Size([31367])\n",
            "y_valid.shape torch.Size([7842])\n"
          ]
        },
        {
          "output_type": "display_data",
          "data": {
            "text/plain": [
              "<IPython.core.display.HTML object>"
            ],
            "text/html": [
              "Waiting for W&B process to finish... <strong style=\"color:green\">(success).</strong>"
            ]
          },
          "metadata": {}
        },
        {
          "output_type": "display_data",
          "data": {
            "text/plain": [
              "VBox(children=(Label(value='0.010 MB of 0.010 MB uploaded (0.000 MB deduped)\\r'), FloatProgress(value=1.0, max…"
            ],
            "application/vnd.jupyter.widget-view+json": {
              "version_major": 2,
              "version_minor": 0,
              "model_id": "82313a6e81254a0d98235047fd9c0031"
            }
          },
          "metadata": {}
        },
        {
          "output_type": "display_data",
          "data": {
            "text/plain": [
              "<IPython.core.display.HTML object>"
            ],
            "text/html": [
              "<style>\n",
              "    table.wandb td:nth-child(1) { padding: 0 10px; text-align: left ; width: auto;} td:nth-child(2) {text-align: left ; width: 100%}\n",
              "    .wandb-row { display: flex; flex-direction: row; flex-wrap: wrap; justify-content: flex-start; width: 100% }\n",
              "    .wandb-col { display: flex; flex-direction: column; flex-basis: 100%; flex: 1; padding: 10px; }\n",
              "    </style>\n",
              "<div class=\"wandb-row\"><div class=\"wandb-col\"><h3>Run history:</h3><br/><table class=\"wandb\"><tr><td>epoch</td><td>▁▁▂▃▃▃▄▅▅▅▆▇▇▇█</td></tr><tr><td>learning_rate</td><td>▁▁▁▁▁▁▁▁▁▁▁▁▁▁▁</td></tr><tr><td>loss</td><td>█▆▅▄▄▃▃▃▂▂▂▂▁▁▁</td></tr></table><br/></div><div class=\"wandb-col\"><h3>Run summary:</h3><br/><table class=\"wandb\"><tr><td>epoch</td><td>14</td></tr><tr><td>learning_rate</td><td>0.00045</td></tr><tr><td>loss</td><td>3.58269</td></tr><tr><td>optimizer</td><td>sgd</td></tr></table><br/></div></div>"
            ]
          },
          "metadata": {}
        },
        {
          "output_type": "display_data",
          "data": {
            "text/plain": [
              "<IPython.core.display.HTML object>"
            ],
            "text/html": [
              " View run <strong style=\"color:#cdcd00\">sweet-sweep-8</strong> at: <a href='https://wandb.ai/atds_ml/densenet161/runs/x2w6wh8d' target=\"_blank\">https://wandb.ai/atds_ml/densenet161/runs/x2w6wh8d</a><br/>Synced 5 W&B file(s), 0 media file(s), 0 artifact file(s) and 0 other file(s)"
            ]
          },
          "metadata": {}
        },
        {
          "output_type": "display_data",
          "data": {
            "text/plain": [
              "<IPython.core.display.HTML object>"
            ],
            "text/html": [
              "Find logs at: <code>./wandb/run-20230508_074837-x2w6wh8d/logs</code>"
            ]
          },
          "metadata": {}
        },
        {
          "output_type": "stream",
          "name": "stderr",
          "text": [
            "\u001b[34m\u001b[1mwandb\u001b[0m: Agent Starting Run: i3tja9lr with config:\n",
            "\u001b[34m\u001b[1mwandb\u001b[0m: \tepochs: 15\n",
            "\u001b[34m\u001b[1mwandb\u001b[0m: \tlearning_rate: 0.00068430653385382\n",
            "\u001b[34m\u001b[1mwandb\u001b[0m: \toptimizer: sgd\n"
          ]
        },
        {
          "output_type": "display_data",
          "data": {
            "text/plain": [
              "<IPython.core.display.HTML object>"
            ],
            "text/html": [
              "Tracking run with wandb version 0.15.2"
            ]
          },
          "metadata": {}
        },
        {
          "output_type": "display_data",
          "data": {
            "text/plain": [
              "<IPython.core.display.HTML object>"
            ],
            "text/html": [
              "Run data is saved locally in <code>/content/wandb/run-20230508_075259-i3tja9lr</code>"
            ]
          },
          "metadata": {}
        },
        {
          "output_type": "display_data",
          "data": {
            "text/plain": [
              "<IPython.core.display.HTML object>"
            ],
            "text/html": [
              "Syncing run <strong><a href='https://wandb.ai/atds_ml/densenet161/runs/i3tja9lr' target=\"_blank\">ancient-sweep-9</a></strong> to <a href='https://wandb.ai/atds_ml/densenet161' target=\"_blank\">Weights & Biases</a> (<a href='https://wandb.me/run' target=\"_blank\">docs</a>)<br/>Sweep page: <a href='https://wandb.ai/atds_ml/densenet161/sweeps/y998254c' target=\"_blank\">https://wandb.ai/atds_ml/densenet161/sweeps/y998254c</a>"
            ]
          },
          "metadata": {}
        },
        {
          "output_type": "display_data",
          "data": {
            "text/plain": [
              "<IPython.core.display.HTML object>"
            ],
            "text/html": [
              " View project at <a href='https://wandb.ai/atds_ml/densenet161' target=\"_blank\">https://wandb.ai/atds_ml/densenet161</a>"
            ]
          },
          "metadata": {}
        },
        {
          "output_type": "display_data",
          "data": {
            "text/plain": [
              "<IPython.core.display.HTML object>"
            ],
            "text/html": [
              " View sweep at <a href='https://wandb.ai/atds_ml/densenet161/sweeps/y998254c' target=\"_blank\">https://wandb.ai/atds_ml/densenet161/sweeps/y998254c</a>"
            ]
          },
          "metadata": {}
        },
        {
          "output_type": "display_data",
          "data": {
            "text/plain": [
              "<IPython.core.display.HTML object>"
            ],
            "text/html": [
              " View run at <a href='https://wandb.ai/atds_ml/densenet161/runs/i3tja9lr' target=\"_blank\">https://wandb.ai/atds_ml/densenet161/runs/i3tja9lr</a>"
            ]
          },
          "metadata": {}
        },
        {
          "output_type": "stream",
          "name": "stdout",
          "text": [
            "X_train.shape torch.Size([31367, 3, 30, 30])\n",
            "X_valid.shape torch.Size([7842, 3, 30, 30])\n",
            "y_train.shape torch.Size([31367])\n",
            "y_valid.shape torch.Size([7842])\n"
          ]
        },
        {
          "output_type": "display_data",
          "data": {
            "text/plain": [
              "<IPython.core.display.HTML object>"
            ],
            "text/html": [
              "Waiting for W&B process to finish... <strong style=\"color:green\">(success).</strong>"
            ]
          },
          "metadata": {}
        },
        {
          "output_type": "display_data",
          "data": {
            "text/plain": [
              "<IPython.core.display.HTML object>"
            ],
            "text/html": [
              "<style>\n",
              "    table.wandb td:nth-child(1) { padding: 0 10px; text-align: left ; width: auto;} td:nth-child(2) {text-align: left ; width: 100%}\n",
              "    .wandb-row { display: flex; flex-direction: row; flex-wrap: wrap; justify-content: flex-start; width: 100% }\n",
              "    .wandb-col { display: flex; flex-direction: column; flex-basis: 100%; flex: 1; padding: 10px; }\n",
              "    </style>\n",
              "<div class=\"wandb-row\"><div class=\"wandb-col\"><h3>Run history:</h3><br/><table class=\"wandb\"><tr><td>epoch</td><td>▁▁▂▃▃▃▄▅▅▅▆▇▇▇█</td></tr><tr><td>learning_rate</td><td>▁▁▁▁▁▁▁▁▁▁▁▁▁▁▁</td></tr><tr><td>loss</td><td>█▆▅▄▃▃▃▂▂▂▂▁▁▁▁</td></tr></table><br/></div><div class=\"wandb-col\"><h3>Run summary:</h3><br/><table class=\"wandb\"><tr><td>epoch</td><td>14</td></tr><tr><td>learning_rate</td><td>0.00068</td></tr><tr><td>loss</td><td>2.88475</td></tr><tr><td>optimizer</td><td>sgd</td></tr></table><br/></div></div>"
            ]
          },
          "metadata": {}
        },
        {
          "output_type": "display_data",
          "data": {
            "text/plain": [
              "<IPython.core.display.HTML object>"
            ],
            "text/html": [
              " View run <strong style=\"color:#cdcd00\">ancient-sweep-9</strong> at: <a href='https://wandb.ai/atds_ml/densenet161/runs/i3tja9lr' target=\"_blank\">https://wandb.ai/atds_ml/densenet161/runs/i3tja9lr</a><br/>Synced 5 W&B file(s), 0 media file(s), 0 artifact file(s) and 0 other file(s)"
            ]
          },
          "metadata": {}
        },
        {
          "output_type": "display_data",
          "data": {
            "text/plain": [
              "<IPython.core.display.HTML object>"
            ],
            "text/html": [
              "Find logs at: <code>./wandb/run-20230508_075259-i3tja9lr/logs</code>"
            ]
          },
          "metadata": {}
        },
        {
          "output_type": "stream",
          "name": "stderr",
          "text": [
            "\u001b[34m\u001b[1mwandb\u001b[0m: Agent Starting Run: r41cooic with config:\n",
            "\u001b[34m\u001b[1mwandb\u001b[0m: \tepochs: 15\n",
            "\u001b[34m\u001b[1mwandb\u001b[0m: \tlearning_rate: 0.0004211638511451115\n",
            "\u001b[34m\u001b[1mwandb\u001b[0m: \toptimizer: sgd\n"
          ]
        },
        {
          "output_type": "display_data",
          "data": {
            "text/plain": [
              "<IPython.core.display.HTML object>"
            ],
            "text/html": [
              "Tracking run with wandb version 0.15.2"
            ]
          },
          "metadata": {}
        },
        {
          "output_type": "display_data",
          "data": {
            "text/plain": [
              "<IPython.core.display.HTML object>"
            ],
            "text/html": [
              "Run data is saved locally in <code>/content/wandb/run-20230508_075721-r41cooic</code>"
            ]
          },
          "metadata": {}
        },
        {
          "output_type": "display_data",
          "data": {
            "text/plain": [
              "<IPython.core.display.HTML object>"
            ],
            "text/html": [
              "Syncing run <strong><a href='https://wandb.ai/atds_ml/densenet161/runs/r41cooic' target=\"_blank\">glamorous-sweep-10</a></strong> to <a href='https://wandb.ai/atds_ml/densenet161' target=\"_blank\">Weights & Biases</a> (<a href='https://wandb.me/run' target=\"_blank\">docs</a>)<br/>Sweep page: <a href='https://wandb.ai/atds_ml/densenet161/sweeps/y998254c' target=\"_blank\">https://wandb.ai/atds_ml/densenet161/sweeps/y998254c</a>"
            ]
          },
          "metadata": {}
        },
        {
          "output_type": "display_data",
          "data": {
            "text/plain": [
              "<IPython.core.display.HTML object>"
            ],
            "text/html": [
              " View project at <a href='https://wandb.ai/atds_ml/densenet161' target=\"_blank\">https://wandb.ai/atds_ml/densenet161</a>"
            ]
          },
          "metadata": {}
        },
        {
          "output_type": "display_data",
          "data": {
            "text/plain": [
              "<IPython.core.display.HTML object>"
            ],
            "text/html": [
              " View sweep at <a href='https://wandb.ai/atds_ml/densenet161/sweeps/y998254c' target=\"_blank\">https://wandb.ai/atds_ml/densenet161/sweeps/y998254c</a>"
            ]
          },
          "metadata": {}
        },
        {
          "output_type": "display_data",
          "data": {
            "text/plain": [
              "<IPython.core.display.HTML object>"
            ],
            "text/html": [
              " View run at <a href='https://wandb.ai/atds_ml/densenet161/runs/r41cooic' target=\"_blank\">https://wandb.ai/atds_ml/densenet161/runs/r41cooic</a>"
            ]
          },
          "metadata": {}
        },
        {
          "output_type": "stream",
          "name": "stdout",
          "text": [
            "X_train.shape torch.Size([31367, 3, 30, 30])\n",
            "X_valid.shape torch.Size([7842, 3, 30, 30])\n",
            "y_train.shape torch.Size([31367])\n",
            "y_valid.shape torch.Size([7842])\n"
          ]
        },
        {
          "output_type": "display_data",
          "data": {
            "text/plain": [
              "<IPython.core.display.HTML object>"
            ],
            "text/html": [
              "Waiting for W&B process to finish... <strong style=\"color:green\">(success).</strong>"
            ]
          },
          "metadata": {}
        },
        {
          "output_type": "display_data",
          "data": {
            "text/plain": [
              "VBox(children=(Label(value='0.001 MB of 0.001 MB uploaded (0.000 MB deduped)\\r'), FloatProgress(value=1.0, max…"
            ],
            "application/vnd.jupyter.widget-view+json": {
              "version_major": 2,
              "version_minor": 0,
              "model_id": "028502f605324fb5a8c86f82f4a4f739"
            }
          },
          "metadata": {}
        },
        {
          "output_type": "display_data",
          "data": {
            "text/plain": [
              "<IPython.core.display.HTML object>"
            ],
            "text/html": [
              "<style>\n",
              "    table.wandb td:nth-child(1) { padding: 0 10px; text-align: left ; width: auto;} td:nth-child(2) {text-align: left ; width: 100%}\n",
              "    .wandb-row { display: flex; flex-direction: row; flex-wrap: wrap; justify-content: flex-start; width: 100% }\n",
              "    .wandb-col { display: flex; flex-direction: column; flex-basis: 100%; flex: 1; padding: 10px; }\n",
              "    </style>\n",
              "<div class=\"wandb-row\"><div class=\"wandb-col\"><h3>Run history:</h3><br/><table class=\"wandb\"><tr><td>epoch</td><td>▁▁▂▃▃▃▄▅▅▅▆▇▇▇█</td></tr><tr><td>learning_rate</td><td>▁▁▁▁▁▁▁▁▁▁▁▁▁▁▁</td></tr><tr><td>loss</td><td>█▆▅▄▄▃▃▂▂▂▂▁▁▁▁</td></tr></table><br/></div><div class=\"wandb-col\"><h3>Run summary:</h3><br/><table class=\"wandb\"><tr><td>epoch</td><td>14</td></tr><tr><td>learning_rate</td><td>0.00042</td></tr><tr><td>loss</td><td>3.68188</td></tr><tr><td>optimizer</td><td>sgd</td></tr></table><br/></div></div>"
            ]
          },
          "metadata": {}
        },
        {
          "output_type": "display_data",
          "data": {
            "text/plain": [
              "<IPython.core.display.HTML object>"
            ],
            "text/html": [
              " View run <strong style=\"color:#cdcd00\">glamorous-sweep-10</strong> at: <a href='https://wandb.ai/atds_ml/densenet161/runs/r41cooic' target=\"_blank\">https://wandb.ai/atds_ml/densenet161/runs/r41cooic</a><br/>Synced 5 W&B file(s), 0 media file(s), 0 artifact file(s) and 0 other file(s)"
            ]
          },
          "metadata": {}
        },
        {
          "output_type": "display_data",
          "data": {
            "text/plain": [
              "<IPython.core.display.HTML object>"
            ],
            "text/html": [
              "Find logs at: <code>./wandb/run-20230508_075721-r41cooic/logs</code>"
            ]
          },
          "metadata": {}
        },
        {
          "output_type": "stream",
          "name": "stderr",
          "text": [
            "\u001b[34m\u001b[1mwandb\u001b[0m: Agent Starting Run: v5hwb47e with config:\n",
            "\u001b[34m\u001b[1mwandb\u001b[0m: \tepochs: 15\n",
            "\u001b[34m\u001b[1mwandb\u001b[0m: \tlearning_rate: 0.0003775316042281883\n",
            "\u001b[34m\u001b[1mwandb\u001b[0m: \toptimizer: adam\n"
          ]
        },
        {
          "output_type": "display_data",
          "data": {
            "text/plain": [
              "<IPython.core.display.HTML object>"
            ],
            "text/html": [
              "Tracking run with wandb version 0.15.2"
            ]
          },
          "metadata": {}
        },
        {
          "output_type": "display_data",
          "data": {
            "text/plain": [
              "<IPython.core.display.HTML object>"
            ],
            "text/html": [
              "Run data is saved locally in <code>/content/wandb/run-20230508_080139-v5hwb47e</code>"
            ]
          },
          "metadata": {}
        },
        {
          "output_type": "display_data",
          "data": {
            "text/plain": [
              "<IPython.core.display.HTML object>"
            ],
            "text/html": [
              "Syncing run <strong><a href='https://wandb.ai/atds_ml/densenet161/runs/v5hwb47e' target=\"_blank\">legendary-sweep-11</a></strong> to <a href='https://wandb.ai/atds_ml/densenet161' target=\"_blank\">Weights & Biases</a> (<a href='https://wandb.me/run' target=\"_blank\">docs</a>)<br/>Sweep page: <a href='https://wandb.ai/atds_ml/densenet161/sweeps/y998254c' target=\"_blank\">https://wandb.ai/atds_ml/densenet161/sweeps/y998254c</a>"
            ]
          },
          "metadata": {}
        },
        {
          "output_type": "display_data",
          "data": {
            "text/plain": [
              "<IPython.core.display.HTML object>"
            ],
            "text/html": [
              " View project at <a href='https://wandb.ai/atds_ml/densenet161' target=\"_blank\">https://wandb.ai/atds_ml/densenet161</a>"
            ]
          },
          "metadata": {}
        },
        {
          "output_type": "display_data",
          "data": {
            "text/plain": [
              "<IPython.core.display.HTML object>"
            ],
            "text/html": [
              " View sweep at <a href='https://wandb.ai/atds_ml/densenet161/sweeps/y998254c' target=\"_blank\">https://wandb.ai/atds_ml/densenet161/sweeps/y998254c</a>"
            ]
          },
          "metadata": {}
        },
        {
          "output_type": "display_data",
          "data": {
            "text/plain": [
              "<IPython.core.display.HTML object>"
            ],
            "text/html": [
              " View run at <a href='https://wandb.ai/atds_ml/densenet161/runs/v5hwb47e' target=\"_blank\">https://wandb.ai/atds_ml/densenet161/runs/v5hwb47e</a>"
            ]
          },
          "metadata": {}
        },
        {
          "output_type": "stream",
          "name": "stdout",
          "text": [
            "X_train.shape torch.Size([31367, 3, 30, 30])\n",
            "X_valid.shape torch.Size([7842, 3, 30, 30])\n",
            "y_train.shape torch.Size([31367])\n",
            "y_valid.shape torch.Size([7842])\n"
          ]
        },
        {
          "output_type": "display_data",
          "data": {
            "text/plain": [
              "<IPython.core.display.HTML object>"
            ],
            "text/html": [
              "Waiting for W&B process to finish... <strong style=\"color:green\">(success).</strong>"
            ]
          },
          "metadata": {}
        },
        {
          "output_type": "display_data",
          "data": {
            "text/plain": [
              "VBox(children=(Label(value='0.001 MB of 0.001 MB uploaded (0.000 MB deduped)\\r'), FloatProgress(value=1.0, max…"
            ],
            "application/vnd.jupyter.widget-view+json": {
              "version_major": 2,
              "version_minor": 0,
              "model_id": "aba1fac4b62e431eb9800dc6f79bb733"
            }
          },
          "metadata": {}
        },
        {
          "output_type": "display_data",
          "data": {
            "text/plain": [
              "<IPython.core.display.HTML object>"
            ],
            "text/html": [
              "<style>\n",
              "    table.wandb td:nth-child(1) { padding: 0 10px; text-align: left ; width: auto;} td:nth-child(2) {text-align: left ; width: 100%}\n",
              "    .wandb-row { display: flex; flex-direction: row; flex-wrap: wrap; justify-content: flex-start; width: 100% }\n",
              "    .wandb-col { display: flex; flex-direction: column; flex-basis: 100%; flex: 1; padding: 10px; }\n",
              "    </style>\n",
              "<div class=\"wandb-row\"><div class=\"wandb-col\"><h3>Run history:</h3><br/><table class=\"wandb\"><tr><td>epoch</td><td>▁▁▂▃▃▃▄▅▅▅▆▇▇▇█</td></tr><tr><td>learning_rate</td><td>▁▁▁▁▁▁▁▁▁▁▁▁▁▁▁</td></tr><tr><td>loss</td><td>█▆▄▃▃▂▂▂▂▂▁▁▁▁▁</td></tr></table><br/></div><div class=\"wandb-col\"><h3>Run summary:</h3><br/><table class=\"wandb\"><tr><td>epoch</td><td>14</td></tr><tr><td>learning_rate</td><td>0.00038</td></tr><tr><td>loss</td><td>1.53742</td></tr><tr><td>optimizer</td><td>adam</td></tr></table><br/></div></div>"
            ]
          },
          "metadata": {}
        },
        {
          "output_type": "display_data",
          "data": {
            "text/plain": [
              "<IPython.core.display.HTML object>"
            ],
            "text/html": [
              " View run <strong style=\"color:#cdcd00\">legendary-sweep-11</strong> at: <a href='https://wandb.ai/atds_ml/densenet161/runs/v5hwb47e' target=\"_blank\">https://wandb.ai/atds_ml/densenet161/runs/v5hwb47e</a><br/>Synced 5 W&B file(s), 0 media file(s), 0 artifact file(s) and 0 other file(s)"
            ]
          },
          "metadata": {}
        },
        {
          "output_type": "display_data",
          "data": {
            "text/plain": [
              "<IPython.core.display.HTML object>"
            ],
            "text/html": [
              "Find logs at: <code>./wandb/run-20230508_080139-v5hwb47e/logs</code>"
            ]
          },
          "metadata": {}
        },
        {
          "output_type": "stream",
          "name": "stderr",
          "text": [
            "\u001b[34m\u001b[1mwandb\u001b[0m: Agent Starting Run: bsfey0xb with config:\n",
            "\u001b[34m\u001b[1mwandb\u001b[0m: \tepochs: 15\n",
            "\u001b[34m\u001b[1mwandb\u001b[0m: \tlearning_rate: 0.00011148487874689256\n",
            "\u001b[34m\u001b[1mwandb\u001b[0m: \toptimizer: sgd\n"
          ]
        },
        {
          "output_type": "display_data",
          "data": {
            "text/plain": [
              "<IPython.core.display.HTML object>"
            ],
            "text/html": [
              "Tracking run with wandb version 0.15.2"
            ]
          },
          "metadata": {}
        },
        {
          "output_type": "display_data",
          "data": {
            "text/plain": [
              "<IPython.core.display.HTML object>"
            ],
            "text/html": [
              "Run data is saved locally in <code>/content/wandb/run-20230508_080600-bsfey0xb</code>"
            ]
          },
          "metadata": {}
        },
        {
          "output_type": "display_data",
          "data": {
            "text/plain": [
              "<IPython.core.display.HTML object>"
            ],
            "text/html": [
              "Syncing run <strong><a href='https://wandb.ai/atds_ml/densenet161/runs/bsfey0xb' target=\"_blank\">mild-sweep-12</a></strong> to <a href='https://wandb.ai/atds_ml/densenet161' target=\"_blank\">Weights & Biases</a> (<a href='https://wandb.me/run' target=\"_blank\">docs</a>)<br/>Sweep page: <a href='https://wandb.ai/atds_ml/densenet161/sweeps/y998254c' target=\"_blank\">https://wandb.ai/atds_ml/densenet161/sweeps/y998254c</a>"
            ]
          },
          "metadata": {}
        },
        {
          "output_type": "display_data",
          "data": {
            "text/plain": [
              "<IPython.core.display.HTML object>"
            ],
            "text/html": [
              " View project at <a href='https://wandb.ai/atds_ml/densenet161' target=\"_blank\">https://wandb.ai/atds_ml/densenet161</a>"
            ]
          },
          "metadata": {}
        },
        {
          "output_type": "display_data",
          "data": {
            "text/plain": [
              "<IPython.core.display.HTML object>"
            ],
            "text/html": [
              " View sweep at <a href='https://wandb.ai/atds_ml/densenet161/sweeps/y998254c' target=\"_blank\">https://wandb.ai/atds_ml/densenet161/sweeps/y998254c</a>"
            ]
          },
          "metadata": {}
        },
        {
          "output_type": "display_data",
          "data": {
            "text/plain": [
              "<IPython.core.display.HTML object>"
            ],
            "text/html": [
              " View run at <a href='https://wandb.ai/atds_ml/densenet161/runs/bsfey0xb' target=\"_blank\">https://wandb.ai/atds_ml/densenet161/runs/bsfey0xb</a>"
            ]
          },
          "metadata": {}
        },
        {
          "output_type": "stream",
          "name": "stdout",
          "text": [
            "X_train.shape torch.Size([31367, 3, 30, 30])\n",
            "X_valid.shape torch.Size([7842, 3, 30, 30])\n",
            "y_train.shape torch.Size([31367])\n",
            "y_valid.shape torch.Size([7842])\n"
          ]
        },
        {
          "output_type": "display_data",
          "data": {
            "text/plain": [
              "<IPython.core.display.HTML object>"
            ],
            "text/html": [
              "Waiting for W&B process to finish... <strong style=\"color:green\">(success).</strong>"
            ]
          },
          "metadata": {}
        },
        {
          "output_type": "display_data",
          "data": {
            "text/plain": [
              "VBox(children=(Label(value='0.001 MB of 0.001 MB uploaded (0.000 MB deduped)\\r'), FloatProgress(value=1.0, max…"
            ],
            "application/vnd.jupyter.widget-view+json": {
              "version_major": 2,
              "version_minor": 0,
              "model_id": "3374872870be48f6885102a670f3d8ab"
            }
          },
          "metadata": {}
        },
        {
          "output_type": "display_data",
          "data": {
            "text/plain": [
              "<IPython.core.display.HTML object>"
            ],
            "text/html": [
              "<style>\n",
              "    table.wandb td:nth-child(1) { padding: 0 10px; text-align: left ; width: auto;} td:nth-child(2) {text-align: left ; width: 100%}\n",
              "    .wandb-row { display: flex; flex-direction: row; flex-wrap: wrap; justify-content: flex-start; width: 100% }\n",
              "    .wandb-col { display: flex; flex-direction: column; flex-basis: 100%; flex: 1; padding: 10px; }\n",
              "    </style>\n",
              "<div class=\"wandb-row\"><div class=\"wandb-col\"><h3>Run history:</h3><br/><table class=\"wandb\"><tr><td>epoch</td><td>▁▁▂▃▃▃▄▅▅▅▆▇▇▇█</td></tr><tr><td>learning_rate</td><td>▁▁▁▁▁▁▁▁▁▁▁▁▁▁▁</td></tr><tr><td>loss</td><td>█▆▆▅▄▄▄▃▃▂▂▂▂▁▁</td></tr></table><br/></div><div class=\"wandb-col\"><h3>Run summary:</h3><br/><table class=\"wandb\"><tr><td>epoch</td><td>14</td></tr><tr><td>learning_rate</td><td>0.00011</td></tr><tr><td>loss</td><td>6.32806</td></tr><tr><td>optimizer</td><td>sgd</td></tr></table><br/></div></div>"
            ]
          },
          "metadata": {}
        },
        {
          "output_type": "display_data",
          "data": {
            "text/plain": [
              "<IPython.core.display.HTML object>"
            ],
            "text/html": [
              " View run <strong style=\"color:#cdcd00\">mild-sweep-12</strong> at: <a href='https://wandb.ai/atds_ml/densenet161/runs/bsfey0xb' target=\"_blank\">https://wandb.ai/atds_ml/densenet161/runs/bsfey0xb</a><br/>Synced 5 W&B file(s), 0 media file(s), 0 artifact file(s) and 0 other file(s)"
            ]
          },
          "metadata": {}
        },
        {
          "output_type": "display_data",
          "data": {
            "text/plain": [
              "<IPython.core.display.HTML object>"
            ],
            "text/html": [
              "Find logs at: <code>./wandb/run-20230508_080600-bsfey0xb/logs</code>"
            ]
          },
          "metadata": {}
        },
        {
          "output_type": "stream",
          "name": "stderr",
          "text": [
            "\u001b[34m\u001b[1mwandb\u001b[0m: Agent Starting Run: feojv1hg with config:\n",
            "\u001b[34m\u001b[1mwandb\u001b[0m: \tepochs: 15\n",
            "\u001b[34m\u001b[1mwandb\u001b[0m: \tlearning_rate: 0.0006766865041280806\n",
            "\u001b[34m\u001b[1mwandb\u001b[0m: \toptimizer: sgd\n"
          ]
        },
        {
          "output_type": "display_data",
          "data": {
            "text/plain": [
              "<IPython.core.display.HTML object>"
            ],
            "text/html": [
              "Tracking run with wandb version 0.15.2"
            ]
          },
          "metadata": {}
        },
        {
          "output_type": "display_data",
          "data": {
            "text/plain": [
              "<IPython.core.display.HTML object>"
            ],
            "text/html": [
              "Run data is saved locally in <code>/content/wandb/run-20230508_081023-feojv1hg</code>"
            ]
          },
          "metadata": {}
        },
        {
          "output_type": "display_data",
          "data": {
            "text/plain": [
              "<IPython.core.display.HTML object>"
            ],
            "text/html": [
              "Syncing run <strong><a href='https://wandb.ai/atds_ml/densenet161/runs/feojv1hg' target=\"_blank\">copper-sweep-13</a></strong> to <a href='https://wandb.ai/atds_ml/densenet161' target=\"_blank\">Weights & Biases</a> (<a href='https://wandb.me/run' target=\"_blank\">docs</a>)<br/>Sweep page: <a href='https://wandb.ai/atds_ml/densenet161/sweeps/y998254c' target=\"_blank\">https://wandb.ai/atds_ml/densenet161/sweeps/y998254c</a>"
            ]
          },
          "metadata": {}
        },
        {
          "output_type": "display_data",
          "data": {
            "text/plain": [
              "<IPython.core.display.HTML object>"
            ],
            "text/html": [
              " View project at <a href='https://wandb.ai/atds_ml/densenet161' target=\"_blank\">https://wandb.ai/atds_ml/densenet161</a>"
            ]
          },
          "metadata": {}
        },
        {
          "output_type": "display_data",
          "data": {
            "text/plain": [
              "<IPython.core.display.HTML object>"
            ],
            "text/html": [
              " View sweep at <a href='https://wandb.ai/atds_ml/densenet161/sweeps/y998254c' target=\"_blank\">https://wandb.ai/atds_ml/densenet161/sweeps/y998254c</a>"
            ]
          },
          "metadata": {}
        },
        {
          "output_type": "display_data",
          "data": {
            "text/plain": [
              "<IPython.core.display.HTML object>"
            ],
            "text/html": [
              " View run at <a href='https://wandb.ai/atds_ml/densenet161/runs/feojv1hg' target=\"_blank\">https://wandb.ai/atds_ml/densenet161/runs/feojv1hg</a>"
            ]
          },
          "metadata": {}
        },
        {
          "output_type": "stream",
          "name": "stdout",
          "text": [
            "X_train.shape torch.Size([31367, 3, 30, 30])\n",
            "X_valid.shape torch.Size([7842, 3, 30, 30])\n",
            "y_train.shape torch.Size([31367])\n",
            "y_valid.shape torch.Size([7842])\n"
          ]
        },
        {
          "output_type": "display_data",
          "data": {
            "text/plain": [
              "<IPython.core.display.HTML object>"
            ],
            "text/html": [
              "Waiting for W&B process to finish... <strong style=\"color:green\">(success).</strong>"
            ]
          },
          "metadata": {}
        },
        {
          "output_type": "display_data",
          "data": {
            "text/plain": [
              "VBox(children=(Label(value='0.001 MB of 0.010 MB uploaded (0.000 MB deduped)\\r'), FloatProgress(value=0.137578…"
            ],
            "application/vnd.jupyter.widget-view+json": {
              "version_major": 2,
              "version_minor": 0,
              "model_id": "e50be14bec9c41b7adb18bde1d4973cd"
            }
          },
          "metadata": {}
        },
        {
          "output_type": "display_data",
          "data": {
            "text/plain": [
              "<IPython.core.display.HTML object>"
            ],
            "text/html": [
              "<style>\n",
              "    table.wandb td:nth-child(1) { padding: 0 10px; text-align: left ; width: auto;} td:nth-child(2) {text-align: left ; width: 100%}\n",
              "    .wandb-row { display: flex; flex-direction: row; flex-wrap: wrap; justify-content: flex-start; width: 100% }\n",
              "    .wandb-col { display: flex; flex-direction: column; flex-basis: 100%; flex: 1; padding: 10px; }\n",
              "    </style>\n",
              "<div class=\"wandb-row\"><div class=\"wandb-col\"><h3>Run history:</h3><br/><table class=\"wandb\"><tr><td>epoch</td><td>▁▁▂▃▃▃▄▅▅▅▆▇▇▇█</td></tr><tr><td>learning_rate</td><td>▁▁▁▁▁▁▁▁▁▁▁▁▁▁▁</td></tr><tr><td>loss</td><td>█▆▅▄▄▃▃▂▂▂▂▁▁▁▁</td></tr></table><br/></div><div class=\"wandb-col\"><h3>Run summary:</h3><br/><table class=\"wandb\"><tr><td>epoch</td><td>14</td></tr><tr><td>learning_rate</td><td>0.00068</td></tr><tr><td>loss</td><td>2.88544</td></tr><tr><td>optimizer</td><td>sgd</td></tr></table><br/></div></div>"
            ]
          },
          "metadata": {}
        },
        {
          "output_type": "display_data",
          "data": {
            "text/plain": [
              "<IPython.core.display.HTML object>"
            ],
            "text/html": [
              " View run <strong style=\"color:#cdcd00\">copper-sweep-13</strong> at: <a href='https://wandb.ai/atds_ml/densenet161/runs/feojv1hg' target=\"_blank\">https://wandb.ai/atds_ml/densenet161/runs/feojv1hg</a><br/>Synced 5 W&B file(s), 0 media file(s), 0 artifact file(s) and 0 other file(s)"
            ]
          },
          "metadata": {}
        },
        {
          "output_type": "display_data",
          "data": {
            "text/plain": [
              "<IPython.core.display.HTML object>"
            ],
            "text/html": [
              "Find logs at: <code>./wandb/run-20230508_081023-feojv1hg/logs</code>"
            ]
          },
          "metadata": {}
        },
        {
          "output_type": "stream",
          "name": "stderr",
          "text": [
            "\u001b[34m\u001b[1mwandb\u001b[0m: Agent Starting Run: r79fdu94 with config:\n",
            "\u001b[34m\u001b[1mwandb\u001b[0m: \tepochs: 15\n",
            "\u001b[34m\u001b[1mwandb\u001b[0m: \tlearning_rate: 0.00017511239478948957\n",
            "\u001b[34m\u001b[1mwandb\u001b[0m: \toptimizer: sgd\n"
          ]
        },
        {
          "output_type": "display_data",
          "data": {
            "text/plain": [
              "<IPython.core.display.HTML object>"
            ],
            "text/html": [
              "Tracking run with wandb version 0.15.2"
            ]
          },
          "metadata": {}
        },
        {
          "output_type": "display_data",
          "data": {
            "text/plain": [
              "<IPython.core.display.HTML object>"
            ],
            "text/html": [
              "Run data is saved locally in <code>/content/wandb/run-20230508_081440-r79fdu94</code>"
            ]
          },
          "metadata": {}
        },
        {
          "output_type": "display_data",
          "data": {
            "text/plain": [
              "<IPython.core.display.HTML object>"
            ],
            "text/html": [
              "Syncing run <strong><a href='https://wandb.ai/atds_ml/densenet161/runs/r79fdu94' target=\"_blank\">sleek-sweep-14</a></strong> to <a href='https://wandb.ai/atds_ml/densenet161' target=\"_blank\">Weights & Biases</a> (<a href='https://wandb.me/run' target=\"_blank\">docs</a>)<br/>Sweep page: <a href='https://wandb.ai/atds_ml/densenet161/sweeps/y998254c' target=\"_blank\">https://wandb.ai/atds_ml/densenet161/sweeps/y998254c</a>"
            ]
          },
          "metadata": {}
        },
        {
          "output_type": "display_data",
          "data": {
            "text/plain": [
              "<IPython.core.display.HTML object>"
            ],
            "text/html": [
              " View project at <a href='https://wandb.ai/atds_ml/densenet161' target=\"_blank\">https://wandb.ai/atds_ml/densenet161</a>"
            ]
          },
          "metadata": {}
        },
        {
          "output_type": "display_data",
          "data": {
            "text/plain": [
              "<IPython.core.display.HTML object>"
            ],
            "text/html": [
              " View sweep at <a href='https://wandb.ai/atds_ml/densenet161/sweeps/y998254c' target=\"_blank\">https://wandb.ai/atds_ml/densenet161/sweeps/y998254c</a>"
            ]
          },
          "metadata": {}
        },
        {
          "output_type": "display_data",
          "data": {
            "text/plain": [
              "<IPython.core.display.HTML object>"
            ],
            "text/html": [
              " View run at <a href='https://wandb.ai/atds_ml/densenet161/runs/r79fdu94' target=\"_blank\">https://wandb.ai/atds_ml/densenet161/runs/r79fdu94</a>"
            ]
          },
          "metadata": {}
        },
        {
          "output_type": "stream",
          "name": "stdout",
          "text": [
            "X_train.shape torch.Size([31367, 3, 30, 30])\n",
            "X_valid.shape torch.Size([7842, 3, 30, 30])\n",
            "y_train.shape torch.Size([31367])\n",
            "y_valid.shape torch.Size([7842])\n"
          ]
        },
        {
          "output_type": "display_data",
          "data": {
            "text/plain": [
              "<IPython.core.display.HTML object>"
            ],
            "text/html": [
              "Waiting for W&B process to finish... <strong style=\"color:green\">(success).</strong>"
            ]
          },
          "metadata": {}
        },
        {
          "output_type": "display_data",
          "data": {
            "text/plain": [
              "VBox(children=(Label(value='0.010 MB of 0.010 MB uploaded (0.000 MB deduped)\\r'), FloatProgress(value=1.0, max…"
            ],
            "application/vnd.jupyter.widget-view+json": {
              "version_major": 2,
              "version_minor": 0,
              "model_id": "1eead5e4af4b4cd0b62414b76a181f6c"
            }
          },
          "metadata": {}
        },
        {
          "output_type": "display_data",
          "data": {
            "text/plain": [
              "<IPython.core.display.HTML object>"
            ],
            "text/html": [
              "<style>\n",
              "    table.wandb td:nth-child(1) { padding: 0 10px; text-align: left ; width: auto;} td:nth-child(2) {text-align: left ; width: 100%}\n",
              "    .wandb-row { display: flex; flex-direction: row; flex-wrap: wrap; justify-content: flex-start; width: 100% }\n",
              "    .wandb-col { display: flex; flex-direction: column; flex-basis: 100%; flex: 1; padding: 10px; }\n",
              "    </style>\n",
              "<div class=\"wandb-row\"><div class=\"wandb-col\"><h3>Run history:</h3><br/><table class=\"wandb\"><tr><td>epoch</td><td>▁▁▂▃▃▃▄▅▅▅▆▇▇▇█</td></tr><tr><td>learning_rate</td><td>▁▁▁▁▁▁▁▁▁▁▁▁▁▁▁</td></tr><tr><td>loss</td><td>█▆▅▅▄▄▃▃▃▂▂▂▁▁▁</td></tr></table><br/></div><div class=\"wandb-col\"><h3>Run summary:</h3><br/><table class=\"wandb\"><tr><td>epoch</td><td>14</td></tr><tr><td>learning_rate</td><td>0.00018</td></tr><tr><td>loss</td><td>5.49288</td></tr><tr><td>optimizer</td><td>sgd</td></tr></table><br/></div></div>"
            ]
          },
          "metadata": {}
        },
        {
          "output_type": "display_data",
          "data": {
            "text/plain": [
              "<IPython.core.display.HTML object>"
            ],
            "text/html": [
              " View run <strong style=\"color:#cdcd00\">sleek-sweep-14</strong> at: <a href='https://wandb.ai/atds_ml/densenet161/runs/r79fdu94' target=\"_blank\">https://wandb.ai/atds_ml/densenet161/runs/r79fdu94</a><br/>Synced 5 W&B file(s), 0 media file(s), 0 artifact file(s) and 0 other file(s)"
            ]
          },
          "metadata": {}
        },
        {
          "output_type": "display_data",
          "data": {
            "text/plain": [
              "<IPython.core.display.HTML object>"
            ],
            "text/html": [
              "Find logs at: <code>./wandb/run-20230508_081440-r79fdu94/logs</code>"
            ]
          },
          "metadata": {}
        },
        {
          "output_type": "stream",
          "name": "stderr",
          "text": [
            "\u001b[34m\u001b[1mwandb\u001b[0m: Agent Starting Run: 4rhae39l with config:\n",
            "\u001b[34m\u001b[1mwandb\u001b[0m: \tepochs: 15\n",
            "\u001b[34m\u001b[1mwandb\u001b[0m: \tlearning_rate: 0.000790160222313646\n",
            "\u001b[34m\u001b[1mwandb\u001b[0m: \toptimizer: sgd\n"
          ]
        },
        {
          "output_type": "display_data",
          "data": {
            "text/plain": [
              "<IPython.core.display.HTML object>"
            ],
            "text/html": [
              "Tracking run with wandb version 0.15.2"
            ]
          },
          "metadata": {}
        },
        {
          "output_type": "display_data",
          "data": {
            "text/plain": [
              "<IPython.core.display.HTML object>"
            ],
            "text/html": [
              "Run data is saved locally in <code>/content/wandb/run-20230508_081900-4rhae39l</code>"
            ]
          },
          "metadata": {}
        },
        {
          "output_type": "display_data",
          "data": {
            "text/plain": [
              "<IPython.core.display.HTML object>"
            ],
            "text/html": [
              "Syncing run <strong><a href='https://wandb.ai/atds_ml/densenet161/runs/4rhae39l' target=\"_blank\">toasty-sweep-15</a></strong> to <a href='https://wandb.ai/atds_ml/densenet161' target=\"_blank\">Weights & Biases</a> (<a href='https://wandb.me/run' target=\"_blank\">docs</a>)<br/>Sweep page: <a href='https://wandb.ai/atds_ml/densenet161/sweeps/y998254c' target=\"_blank\">https://wandb.ai/atds_ml/densenet161/sweeps/y998254c</a>"
            ]
          },
          "metadata": {}
        },
        {
          "output_type": "display_data",
          "data": {
            "text/plain": [
              "<IPython.core.display.HTML object>"
            ],
            "text/html": [
              " View project at <a href='https://wandb.ai/atds_ml/densenet161' target=\"_blank\">https://wandb.ai/atds_ml/densenet161</a>"
            ]
          },
          "metadata": {}
        },
        {
          "output_type": "display_data",
          "data": {
            "text/plain": [
              "<IPython.core.display.HTML object>"
            ],
            "text/html": [
              " View sweep at <a href='https://wandb.ai/atds_ml/densenet161/sweeps/y998254c' target=\"_blank\">https://wandb.ai/atds_ml/densenet161/sweeps/y998254c</a>"
            ]
          },
          "metadata": {}
        },
        {
          "output_type": "display_data",
          "data": {
            "text/plain": [
              "<IPython.core.display.HTML object>"
            ],
            "text/html": [
              " View run at <a href='https://wandb.ai/atds_ml/densenet161/runs/4rhae39l' target=\"_blank\">https://wandb.ai/atds_ml/densenet161/runs/4rhae39l</a>"
            ]
          },
          "metadata": {}
        },
        {
          "output_type": "stream",
          "name": "stdout",
          "text": [
            "X_train.shape torch.Size([31367, 3, 30, 30])\n",
            "X_valid.shape torch.Size([7842, 3, 30, 30])\n",
            "y_train.shape torch.Size([31367])\n",
            "y_valid.shape torch.Size([7842])\n"
          ]
        },
        {
          "output_type": "display_data",
          "data": {
            "text/plain": [
              "<IPython.core.display.HTML object>"
            ],
            "text/html": [
              "Waiting for W&B process to finish... <strong style=\"color:green\">(success).</strong>"
            ]
          },
          "metadata": {}
        },
        {
          "output_type": "display_data",
          "data": {
            "text/plain": [
              "VBox(children=(Label(value='0.001 MB of 0.001 MB uploaded (0.000 MB deduped)\\r'), FloatProgress(value=1.0, max…"
            ],
            "application/vnd.jupyter.widget-view+json": {
              "version_major": 2,
              "version_minor": 0,
              "model_id": "6bd72a45fe73449bb4578d3f2c86a043"
            }
          },
          "metadata": {}
        },
        {
          "output_type": "display_data",
          "data": {
            "text/plain": [
              "<IPython.core.display.HTML object>"
            ],
            "text/html": [
              "<style>\n",
              "    table.wandb td:nth-child(1) { padding: 0 10px; text-align: left ; width: auto;} td:nth-child(2) {text-align: left ; width: 100%}\n",
              "    .wandb-row { display: flex; flex-direction: row; flex-wrap: wrap; justify-content: flex-start; width: 100% }\n",
              "    .wandb-col { display: flex; flex-direction: column; flex-basis: 100%; flex: 1; padding: 10px; }\n",
              "    </style>\n",
              "<div class=\"wandb-row\"><div class=\"wandb-col\"><h3>Run history:</h3><br/><table class=\"wandb\"><tr><td>epoch</td><td>▁▁▂▃▃▃▄▅▅▅▆▇▇▇█</td></tr><tr><td>learning_rate</td><td>▁▁▁▁▁▁▁▁▁▁▁▁▁▁▁</td></tr><tr><td>loss</td><td>█▆▅▄▃▃▂▂▂▂▂▁▁▁▁</td></tr></table><br/></div><div class=\"wandb-col\"><h3>Run summary:</h3><br/><table class=\"wandb\"><tr><td>epoch</td><td>14</td></tr><tr><td>learning_rate</td><td>0.00079</td></tr><tr><td>loss</td><td>2.65271</td></tr><tr><td>optimizer</td><td>sgd</td></tr></table><br/></div></div>"
            ]
          },
          "metadata": {}
        },
        {
          "output_type": "display_data",
          "data": {
            "text/plain": [
              "<IPython.core.display.HTML object>"
            ],
            "text/html": [
              " View run <strong style=\"color:#cdcd00\">toasty-sweep-15</strong> at: <a href='https://wandb.ai/atds_ml/densenet161/runs/4rhae39l' target=\"_blank\">https://wandb.ai/atds_ml/densenet161/runs/4rhae39l</a><br/>Synced 5 W&B file(s), 0 media file(s), 0 artifact file(s) and 0 other file(s)"
            ]
          },
          "metadata": {}
        },
        {
          "output_type": "display_data",
          "data": {
            "text/plain": [
              "<IPython.core.display.HTML object>"
            ],
            "text/html": [
              "Find logs at: <code>./wandb/run-20230508_081900-4rhae39l/logs</code>"
            ]
          },
          "metadata": {}
        },
        {
          "output_type": "stream",
          "name": "stderr",
          "text": [
            "\u001b[34m\u001b[1mwandb\u001b[0m: Sweep Agent: Waiting for job.\n",
            "\u001b[34m\u001b[1mwandb\u001b[0m: Job received.\n",
            "\u001b[34m\u001b[1mwandb\u001b[0m: Agent Starting Run: 7ot9k0dn with config:\n",
            "\u001b[34m\u001b[1mwandb\u001b[0m: \tepochs: 15\n",
            "\u001b[34m\u001b[1mwandb\u001b[0m: \tlearning_rate: 0.0004955987274084912\n",
            "\u001b[34m\u001b[1mwandb\u001b[0m: \toptimizer: sgd\n"
          ]
        },
        {
          "output_type": "display_data",
          "data": {
            "text/plain": [
              "<IPython.core.display.HTML object>"
            ],
            "text/html": [
              "Tracking run with wandb version 0.15.2"
            ]
          },
          "metadata": {}
        },
        {
          "output_type": "display_data",
          "data": {
            "text/plain": [
              "<IPython.core.display.HTML object>"
            ],
            "text/html": [
              "Run data is saved locally in <code>/content/wandb/run-20230508_082331-7ot9k0dn</code>"
            ]
          },
          "metadata": {}
        },
        {
          "output_type": "display_data",
          "data": {
            "text/plain": [
              "<IPython.core.display.HTML object>"
            ],
            "text/html": [
              "Syncing run <strong><a href='https://wandb.ai/atds_ml/densenet161/runs/7ot9k0dn' target=\"_blank\">sweet-sweep-16</a></strong> to <a href='https://wandb.ai/atds_ml/densenet161' target=\"_blank\">Weights & Biases</a> (<a href='https://wandb.me/run' target=\"_blank\">docs</a>)<br/>Sweep page: <a href='https://wandb.ai/atds_ml/densenet161/sweeps/y998254c' target=\"_blank\">https://wandb.ai/atds_ml/densenet161/sweeps/y998254c</a>"
            ]
          },
          "metadata": {}
        },
        {
          "output_type": "display_data",
          "data": {
            "text/plain": [
              "<IPython.core.display.HTML object>"
            ],
            "text/html": [
              " View project at <a href='https://wandb.ai/atds_ml/densenet161' target=\"_blank\">https://wandb.ai/atds_ml/densenet161</a>"
            ]
          },
          "metadata": {}
        },
        {
          "output_type": "display_data",
          "data": {
            "text/plain": [
              "<IPython.core.display.HTML object>"
            ],
            "text/html": [
              " View sweep at <a href='https://wandb.ai/atds_ml/densenet161/sweeps/y998254c' target=\"_blank\">https://wandb.ai/atds_ml/densenet161/sweeps/y998254c</a>"
            ]
          },
          "metadata": {}
        },
        {
          "output_type": "display_data",
          "data": {
            "text/plain": [
              "<IPython.core.display.HTML object>"
            ],
            "text/html": [
              " View run at <a href='https://wandb.ai/atds_ml/densenet161/runs/7ot9k0dn' target=\"_blank\">https://wandb.ai/atds_ml/densenet161/runs/7ot9k0dn</a>"
            ]
          },
          "metadata": {}
        },
        {
          "output_type": "stream",
          "name": "stdout",
          "text": [
            "X_train.shape torch.Size([31367, 3, 30, 30])\n",
            "X_valid.shape torch.Size([7842, 3, 30, 30])\n",
            "y_train.shape torch.Size([31367])\n",
            "y_valid.shape torch.Size([7842])\n"
          ]
        },
        {
          "output_type": "display_data",
          "data": {
            "text/plain": [
              "<IPython.core.display.HTML object>"
            ],
            "text/html": [
              "Waiting for W&B process to finish... <strong style=\"color:green\">(success).</strong>"
            ]
          },
          "metadata": {}
        },
        {
          "output_type": "display_data",
          "data": {
            "text/plain": [
              "VBox(children=(Label(value='0.001 MB of 0.001 MB uploaded (0.000 MB deduped)\\r'), FloatProgress(value=1.0, max…"
            ],
            "application/vnd.jupyter.widget-view+json": {
              "version_major": 2,
              "version_minor": 0,
              "model_id": "bd1ba4f507d34bb8b9f02e0b45d62dcc"
            }
          },
          "metadata": {}
        },
        {
          "output_type": "display_data",
          "data": {
            "text/plain": [
              "<IPython.core.display.HTML object>"
            ],
            "text/html": [
              "<style>\n",
              "    table.wandb td:nth-child(1) { padding: 0 10px; text-align: left ; width: auto;} td:nth-child(2) {text-align: left ; width: 100%}\n",
              "    .wandb-row { display: flex; flex-direction: row; flex-wrap: wrap; justify-content: flex-start; width: 100% }\n",
              "    .wandb-col { display: flex; flex-direction: column; flex-basis: 100%; flex: 1; padding: 10px; }\n",
              "    </style>\n",
              "<div class=\"wandb-row\"><div class=\"wandb-col\"><h3>Run history:</h3><br/><table class=\"wandb\"><tr><td>epoch</td><td>▁▁▂▃▃▃▄▅▅▅▆▇▇▇█</td></tr><tr><td>learning_rate</td><td>▁▁▁▁▁▁▁▁▁▁▁▁▁▁▁</td></tr><tr><td>loss</td><td>█▆▅▄▄▃▃▂▂▂▂▁▁▁▁</td></tr></table><br/></div><div class=\"wandb-col\"><h3>Run summary:</h3><br/><table class=\"wandb\"><tr><td>epoch</td><td>14</td></tr><tr><td>learning_rate</td><td>0.0005</td></tr><tr><td>loss</td><td>3.38577</td></tr><tr><td>optimizer</td><td>sgd</td></tr></table><br/></div></div>"
            ]
          },
          "metadata": {}
        },
        {
          "output_type": "display_data",
          "data": {
            "text/plain": [
              "<IPython.core.display.HTML object>"
            ],
            "text/html": [
              " View run <strong style=\"color:#cdcd00\">sweet-sweep-16</strong> at: <a href='https://wandb.ai/atds_ml/densenet161/runs/7ot9k0dn' target=\"_blank\">https://wandb.ai/atds_ml/densenet161/runs/7ot9k0dn</a><br/>Synced 5 W&B file(s), 0 media file(s), 0 artifact file(s) and 0 other file(s)"
            ]
          },
          "metadata": {}
        },
        {
          "output_type": "display_data",
          "data": {
            "text/plain": [
              "<IPython.core.display.HTML object>"
            ],
            "text/html": [
              "Find logs at: <code>./wandb/run-20230508_082331-7ot9k0dn/logs</code>"
            ]
          },
          "metadata": {}
        },
        {
          "output_type": "stream",
          "name": "stderr",
          "text": [
            "\u001b[34m\u001b[1mwandb\u001b[0m: Agent Starting Run: 63orjm11 with config:\n",
            "\u001b[34m\u001b[1mwandb\u001b[0m: \tepochs: 15\n",
            "\u001b[34m\u001b[1mwandb\u001b[0m: \tlearning_rate: 0.0005656068184888472\n",
            "\u001b[34m\u001b[1mwandb\u001b[0m: \toptimizer: sgd\n"
          ]
        },
        {
          "output_type": "display_data",
          "data": {
            "text/plain": [
              "<IPython.core.display.HTML object>"
            ],
            "text/html": [
              "Tracking run with wandb version 0.15.2"
            ]
          },
          "metadata": {}
        },
        {
          "output_type": "display_data",
          "data": {
            "text/plain": [
              "<IPython.core.display.HTML object>"
            ],
            "text/html": [
              "Run data is saved locally in <code>/content/wandb/run-20230508_082752-63orjm11</code>"
            ]
          },
          "metadata": {}
        },
        {
          "output_type": "display_data",
          "data": {
            "text/plain": [
              "<IPython.core.display.HTML object>"
            ],
            "text/html": [
              "Syncing run <strong><a href='https://wandb.ai/atds_ml/densenet161/runs/63orjm11' target=\"_blank\">dulcet-sweep-17</a></strong> to <a href='https://wandb.ai/atds_ml/densenet161' target=\"_blank\">Weights & Biases</a> (<a href='https://wandb.me/run' target=\"_blank\">docs</a>)<br/>Sweep page: <a href='https://wandb.ai/atds_ml/densenet161/sweeps/y998254c' target=\"_blank\">https://wandb.ai/atds_ml/densenet161/sweeps/y998254c</a>"
            ]
          },
          "metadata": {}
        },
        {
          "output_type": "display_data",
          "data": {
            "text/plain": [
              "<IPython.core.display.HTML object>"
            ],
            "text/html": [
              " View project at <a href='https://wandb.ai/atds_ml/densenet161' target=\"_blank\">https://wandb.ai/atds_ml/densenet161</a>"
            ]
          },
          "metadata": {}
        },
        {
          "output_type": "display_data",
          "data": {
            "text/plain": [
              "<IPython.core.display.HTML object>"
            ],
            "text/html": [
              " View sweep at <a href='https://wandb.ai/atds_ml/densenet161/sweeps/y998254c' target=\"_blank\">https://wandb.ai/atds_ml/densenet161/sweeps/y998254c</a>"
            ]
          },
          "metadata": {}
        },
        {
          "output_type": "display_data",
          "data": {
            "text/plain": [
              "<IPython.core.display.HTML object>"
            ],
            "text/html": [
              " View run at <a href='https://wandb.ai/atds_ml/densenet161/runs/63orjm11' target=\"_blank\">https://wandb.ai/atds_ml/densenet161/runs/63orjm11</a>"
            ]
          },
          "metadata": {}
        },
        {
          "output_type": "stream",
          "name": "stdout",
          "text": [
            "X_train.shape torch.Size([31367, 3, 30, 30])\n",
            "X_valid.shape torch.Size([7842, 3, 30, 30])\n",
            "y_train.shape torch.Size([31367])\n",
            "y_valid.shape torch.Size([7842])\n"
          ]
        },
        {
          "output_type": "display_data",
          "data": {
            "text/plain": [
              "<IPython.core.display.HTML object>"
            ],
            "text/html": [
              "Waiting for W&B process to finish... <strong style=\"color:green\">(success).</strong>"
            ]
          },
          "metadata": {}
        },
        {
          "output_type": "display_data",
          "data": {
            "text/plain": [
              "<IPython.core.display.HTML object>"
            ],
            "text/html": [
              "<style>\n",
              "    table.wandb td:nth-child(1) { padding: 0 10px; text-align: left ; width: auto;} td:nth-child(2) {text-align: left ; width: 100%}\n",
              "    .wandb-row { display: flex; flex-direction: row; flex-wrap: wrap; justify-content: flex-start; width: 100% }\n",
              "    .wandb-col { display: flex; flex-direction: column; flex-basis: 100%; flex: 1; padding: 10px; }\n",
              "    </style>\n",
              "<div class=\"wandb-row\"><div class=\"wandb-col\"><h3>Run history:</h3><br/><table class=\"wandb\"><tr><td>epoch</td><td>▁▁▂▃▃▃▄▅▅▅▆▇▇▇█</td></tr><tr><td>learning_rate</td><td>▁▁▁▁▁▁▁▁▁▁▁▁▁▁▁</td></tr><tr><td>loss</td><td>█▆▅▄▃▃▃▂▂▂▂▁▁▁▁</td></tr></table><br/></div><div class=\"wandb-col\"><h3>Run summary:</h3><br/><table class=\"wandb\"><tr><td>epoch</td><td>14</td></tr><tr><td>learning_rate</td><td>0.00057</td></tr><tr><td>loss</td><td>3.19663</td></tr><tr><td>optimizer</td><td>sgd</td></tr></table><br/></div></div>"
            ]
          },
          "metadata": {}
        },
        {
          "output_type": "display_data",
          "data": {
            "text/plain": [
              "<IPython.core.display.HTML object>"
            ],
            "text/html": [
              " View run <strong style=\"color:#cdcd00\">dulcet-sweep-17</strong> at: <a href='https://wandb.ai/atds_ml/densenet161/runs/63orjm11' target=\"_blank\">https://wandb.ai/atds_ml/densenet161/runs/63orjm11</a><br/>Synced 5 W&B file(s), 0 media file(s), 0 artifact file(s) and 0 other file(s)"
            ]
          },
          "metadata": {}
        },
        {
          "output_type": "display_data",
          "data": {
            "text/plain": [
              "<IPython.core.display.HTML object>"
            ],
            "text/html": [
              "Find logs at: <code>./wandb/run-20230508_082752-63orjm11/logs</code>"
            ]
          },
          "metadata": {}
        },
        {
          "output_type": "stream",
          "name": "stderr",
          "text": [
            "\u001b[34m\u001b[1mwandb\u001b[0m: Agent Starting Run: mkxox3io with config:\n",
            "\u001b[34m\u001b[1mwandb\u001b[0m: \tepochs: 15\n",
            "\u001b[34m\u001b[1mwandb\u001b[0m: \tlearning_rate: 0.0005887550702352593\n",
            "\u001b[34m\u001b[1mwandb\u001b[0m: \toptimizer: sgd\n"
          ]
        },
        {
          "output_type": "display_data",
          "data": {
            "text/plain": [
              "<IPython.core.display.HTML object>"
            ],
            "text/html": [
              "Tracking run with wandb version 0.15.2"
            ]
          },
          "metadata": {}
        },
        {
          "output_type": "display_data",
          "data": {
            "text/plain": [
              "<IPython.core.display.HTML object>"
            ],
            "text/html": [
              "Run data is saved locally in <code>/content/wandb/run-20230508_083217-mkxox3io</code>"
            ]
          },
          "metadata": {}
        },
        {
          "output_type": "display_data",
          "data": {
            "text/plain": [
              "<IPython.core.display.HTML object>"
            ],
            "text/html": [
              "Syncing run <strong><a href='https://wandb.ai/atds_ml/densenet161/runs/mkxox3io' target=\"_blank\">comfy-sweep-18</a></strong> to <a href='https://wandb.ai/atds_ml/densenet161' target=\"_blank\">Weights & Biases</a> (<a href='https://wandb.me/run' target=\"_blank\">docs</a>)<br/>Sweep page: <a href='https://wandb.ai/atds_ml/densenet161/sweeps/y998254c' target=\"_blank\">https://wandb.ai/atds_ml/densenet161/sweeps/y998254c</a>"
            ]
          },
          "metadata": {}
        },
        {
          "output_type": "display_data",
          "data": {
            "text/plain": [
              "<IPython.core.display.HTML object>"
            ],
            "text/html": [
              " View project at <a href='https://wandb.ai/atds_ml/densenet161' target=\"_blank\">https://wandb.ai/atds_ml/densenet161</a>"
            ]
          },
          "metadata": {}
        },
        {
          "output_type": "display_data",
          "data": {
            "text/plain": [
              "<IPython.core.display.HTML object>"
            ],
            "text/html": [
              " View sweep at <a href='https://wandb.ai/atds_ml/densenet161/sweeps/y998254c' target=\"_blank\">https://wandb.ai/atds_ml/densenet161/sweeps/y998254c</a>"
            ]
          },
          "metadata": {}
        },
        {
          "output_type": "display_data",
          "data": {
            "text/plain": [
              "<IPython.core.display.HTML object>"
            ],
            "text/html": [
              " View run at <a href='https://wandb.ai/atds_ml/densenet161/runs/mkxox3io' target=\"_blank\">https://wandb.ai/atds_ml/densenet161/runs/mkxox3io</a>"
            ]
          },
          "metadata": {}
        },
        {
          "output_type": "stream",
          "name": "stdout",
          "text": [
            "X_train.shape torch.Size([31367, 3, 30, 30])\n",
            "X_valid.shape torch.Size([7842, 3, 30, 30])\n",
            "y_train.shape torch.Size([31367])\n",
            "y_valid.shape torch.Size([7842])\n"
          ]
        },
        {
          "output_type": "display_data",
          "data": {
            "text/plain": [
              "<IPython.core.display.HTML object>"
            ],
            "text/html": [
              "Waiting for W&B process to finish... <strong style=\"color:green\">(success).</strong>"
            ]
          },
          "metadata": {}
        },
        {
          "output_type": "display_data",
          "data": {
            "text/plain": [
              "<IPython.core.display.HTML object>"
            ],
            "text/html": [
              "<style>\n",
              "    table.wandb td:nth-child(1) { padding: 0 10px; text-align: left ; width: auto;} td:nth-child(2) {text-align: left ; width: 100%}\n",
              "    .wandb-row { display: flex; flex-direction: row; flex-wrap: wrap; justify-content: flex-start; width: 100% }\n",
              "    .wandb-col { display: flex; flex-direction: column; flex-basis: 100%; flex: 1; padding: 10px; }\n",
              "    </style>\n",
              "<div class=\"wandb-row\"><div class=\"wandb-col\"><h3>Run history:</h3><br/><table class=\"wandb\"><tr><td>epoch</td><td>▁▁▂▃▃▃▄▅▅▅▆▇▇▇█</td></tr><tr><td>learning_rate</td><td>▁▁▁▁▁▁▁▁▁▁▁▁▁▁▁</td></tr><tr><td>loss</td><td>█▆▅▄▄▃▃▂▂▂▂▁▁▁▁</td></tr></table><br/></div><div class=\"wandb-col\"><h3>Run summary:</h3><br/><table class=\"wandb\"><tr><td>epoch</td><td>14</td></tr><tr><td>learning_rate</td><td>0.00059</td></tr><tr><td>loss</td><td>3.10018</td></tr><tr><td>optimizer</td><td>sgd</td></tr></table><br/></div></div>"
            ]
          },
          "metadata": {}
        },
        {
          "output_type": "display_data",
          "data": {
            "text/plain": [
              "<IPython.core.display.HTML object>"
            ],
            "text/html": [
              " View run <strong style=\"color:#cdcd00\">comfy-sweep-18</strong> at: <a href='https://wandb.ai/atds_ml/densenet161/runs/mkxox3io' target=\"_blank\">https://wandb.ai/atds_ml/densenet161/runs/mkxox3io</a><br/>Synced 5 W&B file(s), 0 media file(s), 0 artifact file(s) and 0 other file(s)"
            ]
          },
          "metadata": {}
        },
        {
          "output_type": "display_data",
          "data": {
            "text/plain": [
              "<IPython.core.display.HTML object>"
            ],
            "text/html": [
              "Find logs at: <code>./wandb/run-20230508_083217-mkxox3io/logs</code>"
            ]
          },
          "metadata": {}
        },
        {
          "output_type": "stream",
          "name": "stderr",
          "text": [
            "\u001b[34m\u001b[1mwandb\u001b[0m: Agent Starting Run: jma9i6hr with config:\n",
            "\u001b[34m\u001b[1mwandb\u001b[0m: \tepochs: 15\n",
            "\u001b[34m\u001b[1mwandb\u001b[0m: \tlearning_rate: 0.0003105507128531976\n",
            "\u001b[34m\u001b[1mwandb\u001b[0m: \toptimizer: adam\n"
          ]
        },
        {
          "output_type": "display_data",
          "data": {
            "text/plain": [
              "<IPython.core.display.HTML object>"
            ],
            "text/html": [
              "Tracking run with wandb version 0.15.2"
            ]
          },
          "metadata": {}
        },
        {
          "output_type": "display_data",
          "data": {
            "text/plain": [
              "<IPython.core.display.HTML object>"
            ],
            "text/html": [
              "Run data is saved locally in <code>/content/wandb/run-20230508_083640-jma9i6hr</code>"
            ]
          },
          "metadata": {}
        },
        {
          "output_type": "display_data",
          "data": {
            "text/plain": [
              "<IPython.core.display.HTML object>"
            ],
            "text/html": [
              "Syncing run <strong><a href='https://wandb.ai/atds_ml/densenet161/runs/jma9i6hr' target=\"_blank\">swift-sweep-19</a></strong> to <a href='https://wandb.ai/atds_ml/densenet161' target=\"_blank\">Weights & Biases</a> (<a href='https://wandb.me/run' target=\"_blank\">docs</a>)<br/>Sweep page: <a href='https://wandb.ai/atds_ml/densenet161/sweeps/y998254c' target=\"_blank\">https://wandb.ai/atds_ml/densenet161/sweeps/y998254c</a>"
            ]
          },
          "metadata": {}
        },
        {
          "output_type": "display_data",
          "data": {
            "text/plain": [
              "<IPython.core.display.HTML object>"
            ],
            "text/html": [
              " View project at <a href='https://wandb.ai/atds_ml/densenet161' target=\"_blank\">https://wandb.ai/atds_ml/densenet161</a>"
            ]
          },
          "metadata": {}
        },
        {
          "output_type": "display_data",
          "data": {
            "text/plain": [
              "<IPython.core.display.HTML object>"
            ],
            "text/html": [
              " View sweep at <a href='https://wandb.ai/atds_ml/densenet161/sweeps/y998254c' target=\"_blank\">https://wandb.ai/atds_ml/densenet161/sweeps/y998254c</a>"
            ]
          },
          "metadata": {}
        },
        {
          "output_type": "display_data",
          "data": {
            "text/plain": [
              "<IPython.core.display.HTML object>"
            ],
            "text/html": [
              " View run at <a href='https://wandb.ai/atds_ml/densenet161/runs/jma9i6hr' target=\"_blank\">https://wandb.ai/atds_ml/densenet161/runs/jma9i6hr</a>"
            ]
          },
          "metadata": {}
        },
        {
          "output_type": "stream",
          "name": "stdout",
          "text": [
            "X_train.shape torch.Size([31367, 3, 30, 30])\n",
            "X_valid.shape torch.Size([7842, 3, 30, 30])\n",
            "y_train.shape torch.Size([31367])\n",
            "y_valid.shape torch.Size([7842])\n"
          ]
        },
        {
          "output_type": "display_data",
          "data": {
            "text/plain": [
              "<IPython.core.display.HTML object>"
            ],
            "text/html": [
              "Waiting for W&B process to finish... <strong style=\"color:green\">(success).</strong>"
            ]
          },
          "metadata": {}
        },
        {
          "output_type": "display_data",
          "data": {
            "text/plain": [
              "<IPython.core.display.HTML object>"
            ],
            "text/html": [
              "<style>\n",
              "    table.wandb td:nth-child(1) { padding: 0 10px; text-align: left ; width: auto;} td:nth-child(2) {text-align: left ; width: 100%}\n",
              "    .wandb-row { display: flex; flex-direction: row; flex-wrap: wrap; justify-content: flex-start; width: 100% }\n",
              "    .wandb-col { display: flex; flex-direction: column; flex-basis: 100%; flex: 1; padding: 10px; }\n",
              "    </style>\n",
              "<div class=\"wandb-row\"><div class=\"wandb-col\"><h3>Run history:</h3><br/><table class=\"wandb\"><tr><td>epoch</td><td>▁▁▂▃▃▃▄▅▅▅▆▇▇▇█</td></tr><tr><td>learning_rate</td><td>▁▁▁▁▁▁▁▁▁▁▁▁▁▁▁</td></tr><tr><td>loss</td><td>█▆▄▄▃▃▂▂▂▂▁▁▁▁▁</td></tr></table><br/></div><div class=\"wandb-col\"><h3>Run summary:</h3><br/><table class=\"wandb\"><tr><td>epoch</td><td>14</td></tr><tr><td>learning_rate</td><td>0.00031</td></tr><tr><td>loss</td><td>1.75396</td></tr><tr><td>optimizer</td><td>adam</td></tr></table><br/></div></div>"
            ]
          },
          "metadata": {}
        },
        {
          "output_type": "display_data",
          "data": {
            "text/plain": [
              "<IPython.core.display.HTML object>"
            ],
            "text/html": [
              " View run <strong style=\"color:#cdcd00\">swift-sweep-19</strong> at: <a href='https://wandb.ai/atds_ml/densenet161/runs/jma9i6hr' target=\"_blank\">https://wandb.ai/atds_ml/densenet161/runs/jma9i6hr</a><br/>Synced 5 W&B file(s), 0 media file(s), 0 artifact file(s) and 0 other file(s)"
            ]
          },
          "metadata": {}
        },
        {
          "output_type": "display_data",
          "data": {
            "text/plain": [
              "<IPython.core.display.HTML object>"
            ],
            "text/html": [
              "Find logs at: <code>./wandb/run-20230508_083640-jma9i6hr/logs</code>"
            ]
          },
          "metadata": {}
        },
        {
          "output_type": "stream",
          "name": "stderr",
          "text": [
            "\u001b[34m\u001b[1mwandb\u001b[0m: Agent Starting Run: tubi7iz9 with config:\n",
            "\u001b[34m\u001b[1mwandb\u001b[0m: \tepochs: 15\n",
            "\u001b[34m\u001b[1mwandb\u001b[0m: \tlearning_rate: 0.00011485407768930428\n",
            "\u001b[34m\u001b[1mwandb\u001b[0m: \toptimizer: adam\n"
          ]
        },
        {
          "output_type": "display_data",
          "data": {
            "text/plain": [
              "<IPython.core.display.HTML object>"
            ],
            "text/html": [
              "Tracking run with wandb version 0.15.2"
            ]
          },
          "metadata": {}
        },
        {
          "output_type": "display_data",
          "data": {
            "text/plain": [
              "<IPython.core.display.HTML object>"
            ],
            "text/html": [
              "Run data is saved locally in <code>/content/wandb/run-20230508_084100-tubi7iz9</code>"
            ]
          },
          "metadata": {}
        },
        {
          "output_type": "display_data",
          "data": {
            "text/plain": [
              "<IPython.core.display.HTML object>"
            ],
            "text/html": [
              "Syncing run <strong><a href='https://wandb.ai/atds_ml/densenet161/runs/tubi7iz9' target=\"_blank\">sweet-sweep-20</a></strong> to <a href='https://wandb.ai/atds_ml/densenet161' target=\"_blank\">Weights & Biases</a> (<a href='https://wandb.me/run' target=\"_blank\">docs</a>)<br/>Sweep page: <a href='https://wandb.ai/atds_ml/densenet161/sweeps/y998254c' target=\"_blank\">https://wandb.ai/atds_ml/densenet161/sweeps/y998254c</a>"
            ]
          },
          "metadata": {}
        },
        {
          "output_type": "display_data",
          "data": {
            "text/plain": [
              "<IPython.core.display.HTML object>"
            ],
            "text/html": [
              " View project at <a href='https://wandb.ai/atds_ml/densenet161' target=\"_blank\">https://wandb.ai/atds_ml/densenet161</a>"
            ]
          },
          "metadata": {}
        },
        {
          "output_type": "display_data",
          "data": {
            "text/plain": [
              "<IPython.core.display.HTML object>"
            ],
            "text/html": [
              " View sweep at <a href='https://wandb.ai/atds_ml/densenet161/sweeps/y998254c' target=\"_blank\">https://wandb.ai/atds_ml/densenet161/sweeps/y998254c</a>"
            ]
          },
          "metadata": {}
        },
        {
          "output_type": "display_data",
          "data": {
            "text/plain": [
              "<IPython.core.display.HTML object>"
            ],
            "text/html": [
              " View run at <a href='https://wandb.ai/atds_ml/densenet161/runs/tubi7iz9' target=\"_blank\">https://wandb.ai/atds_ml/densenet161/runs/tubi7iz9</a>"
            ]
          },
          "metadata": {}
        },
        {
          "output_type": "stream",
          "name": "stdout",
          "text": [
            "X_train.shape torch.Size([31367, 3, 30, 30])\n",
            "X_valid.shape torch.Size([7842, 3, 30, 30])\n",
            "y_train.shape torch.Size([31367])\n",
            "y_valid.shape torch.Size([7842])\n"
          ]
        },
        {
          "output_type": "display_data",
          "data": {
            "text/plain": [
              "<IPython.core.display.HTML object>"
            ],
            "text/html": [
              "Waiting for W&B process to finish... <strong style=\"color:green\">(success).</strong>"
            ]
          },
          "metadata": {}
        },
        {
          "output_type": "display_data",
          "data": {
            "text/plain": [
              "<IPython.core.display.HTML object>"
            ],
            "text/html": [
              "<style>\n",
              "    table.wandb td:nth-child(1) { padding: 0 10px; text-align: left ; width: auto;} td:nth-child(2) {text-align: left ; width: 100%}\n",
              "    .wandb-row { display: flex; flex-direction: row; flex-wrap: wrap; justify-content: flex-start; width: 100% }\n",
              "    .wandb-col { display: flex; flex-direction: column; flex-basis: 100%; flex: 1; padding: 10px; }\n",
              "    </style>\n",
              "<div class=\"wandb-row\"><div class=\"wandb-col\"><h3>Run history:</h3><br/><table class=\"wandb\"><tr><td>epoch</td><td>▁▁▂▃▃▃▄▅▅▅▆▇▇▇█</td></tr><tr><td>learning_rate</td><td>▁▁▁▁▁▁▁▁▁▁▁▁▁▁▁</td></tr><tr><td>loss</td><td>█▆▅▅▄▃▃▃▂▂▂▂▁▁▁</td></tr></table><br/></div><div class=\"wandb-col\"><h3>Run summary:</h3><br/><table class=\"wandb\"><tr><td>epoch</td><td>14</td></tr><tr><td>learning_rate</td><td>0.00011</td></tr><tr><td>loss</td><td>3.4793</td></tr><tr><td>optimizer</td><td>adam</td></tr></table><br/></div></div>"
            ]
          },
          "metadata": {}
        },
        {
          "output_type": "display_data",
          "data": {
            "text/plain": [
              "<IPython.core.display.HTML object>"
            ],
            "text/html": [
              " View run <strong style=\"color:#cdcd00\">sweet-sweep-20</strong> at: <a href='https://wandb.ai/atds_ml/densenet161/runs/tubi7iz9' target=\"_blank\">https://wandb.ai/atds_ml/densenet161/runs/tubi7iz9</a><br/>Synced 5 W&B file(s), 0 media file(s), 0 artifact file(s) and 0 other file(s)"
            ]
          },
          "metadata": {}
        },
        {
          "output_type": "display_data",
          "data": {
            "text/plain": [
              "<IPython.core.display.HTML object>"
            ],
            "text/html": [
              "Find logs at: <code>./wandb/run-20230508_084100-tubi7iz9/logs</code>"
            ]
          },
          "metadata": {}
        }
      ],
      "source": [
        "wandb.agent(sweep_id, train, count=20)"
      ]
    }
  ],
  "metadata": {
    "accelerator": "GPU",
    "colab": {
      "provenance": [],
      "machine_shape": "hm"
    },
    "gpuClass": "standard",
    "kernelspec": {
      "display_name": "Python 3",
      "name": "python3"
    },
    "language_info": {
      "name": "python"
    },
    "widgets": {
      "application/vnd.jupyter.widget-state+json": {
        "fb3f059ec248448c9cce0946a440426b": {
          "model_module": "@jupyter-widgets/controls",
          "model_name": "VBoxModel",
          "model_module_version": "1.5.0",
          "state": {
            "_dom_classes": [],
            "_model_module": "@jupyter-widgets/controls",
            "_model_module_version": "1.5.0",
            "_model_name": "VBoxModel",
            "_view_count": null,
            "_view_module": "@jupyter-widgets/controls",
            "_view_module_version": "1.5.0",
            "_view_name": "VBoxView",
            "box_style": "",
            "children": [
              "IPY_MODEL_f58394594b86479fa6875abec443e592",
              "IPY_MODEL_76fc6ef732da44c28bdd943464fe74fb"
            ],
            "layout": "IPY_MODEL_22fd2781cc6b48b1ad901614175e0a94"
          }
        },
        "f58394594b86479fa6875abec443e592": {
          "model_module": "@jupyter-widgets/controls",
          "model_name": "LabelModel",
          "model_module_version": "1.5.0",
          "state": {
            "_dom_classes": [],
            "_model_module": "@jupyter-widgets/controls",
            "_model_module_version": "1.5.0",
            "_model_name": "LabelModel",
            "_view_count": null,
            "_view_module": "@jupyter-widgets/controls",
            "_view_module_version": "1.5.0",
            "_view_name": "LabelView",
            "description": "",
            "description_tooltip": null,
            "layout": "IPY_MODEL_19d2a1131fc54b0cbcd09772be050543",
            "placeholder": "​",
            "style": "IPY_MODEL_84fbff1cc59b42619b47afee562f71d2",
            "value": "0.010 MB of 0.010 MB uploaded (0.000 MB deduped)\r"
          }
        },
        "76fc6ef732da44c28bdd943464fe74fb": {
          "model_module": "@jupyter-widgets/controls",
          "model_name": "FloatProgressModel",
          "model_module_version": "1.5.0",
          "state": {
            "_dom_classes": [],
            "_model_module": "@jupyter-widgets/controls",
            "_model_module_version": "1.5.0",
            "_model_name": "FloatProgressModel",
            "_view_count": null,
            "_view_module": "@jupyter-widgets/controls",
            "_view_module_version": "1.5.0",
            "_view_name": "ProgressView",
            "bar_style": "",
            "description": "",
            "description_tooltip": null,
            "layout": "IPY_MODEL_cbc7d619da7d46deacc5eddb9ba2b124",
            "max": 1,
            "min": 0,
            "orientation": "horizontal",
            "style": "IPY_MODEL_a6a1fd28b8db4ddf9525551c44ed59ab",
            "value": 1
          }
        },
        "22fd2781cc6b48b1ad901614175e0a94": {
          "model_module": "@jupyter-widgets/base",
          "model_name": "LayoutModel",
          "model_module_version": "1.2.0",
          "state": {
            "_model_module": "@jupyter-widgets/base",
            "_model_module_version": "1.2.0",
            "_model_name": "LayoutModel",
            "_view_count": null,
            "_view_module": "@jupyter-widgets/base",
            "_view_module_version": "1.2.0",
            "_view_name": "LayoutView",
            "align_content": null,
            "align_items": null,
            "align_self": null,
            "border": null,
            "bottom": null,
            "display": null,
            "flex": null,
            "flex_flow": null,
            "grid_area": null,
            "grid_auto_columns": null,
            "grid_auto_flow": null,
            "grid_auto_rows": null,
            "grid_column": null,
            "grid_gap": null,
            "grid_row": null,
            "grid_template_areas": null,
            "grid_template_columns": null,
            "grid_template_rows": null,
            "height": null,
            "justify_content": null,
            "justify_items": null,
            "left": null,
            "margin": null,
            "max_height": null,
            "max_width": null,
            "min_height": null,
            "min_width": null,
            "object_fit": null,
            "object_position": null,
            "order": null,
            "overflow": null,
            "overflow_x": null,
            "overflow_y": null,
            "padding": null,
            "right": null,
            "top": null,
            "visibility": null,
            "width": null
          }
        },
        "19d2a1131fc54b0cbcd09772be050543": {
          "model_module": "@jupyter-widgets/base",
          "model_name": "LayoutModel",
          "model_module_version": "1.2.0",
          "state": {
            "_model_module": "@jupyter-widgets/base",
            "_model_module_version": "1.2.0",
            "_model_name": "LayoutModel",
            "_view_count": null,
            "_view_module": "@jupyter-widgets/base",
            "_view_module_version": "1.2.0",
            "_view_name": "LayoutView",
            "align_content": null,
            "align_items": null,
            "align_self": null,
            "border": null,
            "bottom": null,
            "display": null,
            "flex": null,
            "flex_flow": null,
            "grid_area": null,
            "grid_auto_columns": null,
            "grid_auto_flow": null,
            "grid_auto_rows": null,
            "grid_column": null,
            "grid_gap": null,
            "grid_row": null,
            "grid_template_areas": null,
            "grid_template_columns": null,
            "grid_template_rows": null,
            "height": null,
            "justify_content": null,
            "justify_items": null,
            "left": null,
            "margin": null,
            "max_height": null,
            "max_width": null,
            "min_height": null,
            "min_width": null,
            "object_fit": null,
            "object_position": null,
            "order": null,
            "overflow": null,
            "overflow_x": null,
            "overflow_y": null,
            "padding": null,
            "right": null,
            "top": null,
            "visibility": null,
            "width": null
          }
        },
        "84fbff1cc59b42619b47afee562f71d2": {
          "model_module": "@jupyter-widgets/controls",
          "model_name": "DescriptionStyleModel",
          "model_module_version": "1.5.0",
          "state": {
            "_model_module": "@jupyter-widgets/controls",
            "_model_module_version": "1.5.0",
            "_model_name": "DescriptionStyleModel",
            "_view_count": null,
            "_view_module": "@jupyter-widgets/base",
            "_view_module_version": "1.2.0",
            "_view_name": "StyleView",
            "description_width": ""
          }
        },
        "cbc7d619da7d46deacc5eddb9ba2b124": {
          "model_module": "@jupyter-widgets/base",
          "model_name": "LayoutModel",
          "model_module_version": "1.2.0",
          "state": {
            "_model_module": "@jupyter-widgets/base",
            "_model_module_version": "1.2.0",
            "_model_name": "LayoutModel",
            "_view_count": null,
            "_view_module": "@jupyter-widgets/base",
            "_view_module_version": "1.2.0",
            "_view_name": "LayoutView",
            "align_content": null,
            "align_items": null,
            "align_self": null,
            "border": null,
            "bottom": null,
            "display": null,
            "flex": null,
            "flex_flow": null,
            "grid_area": null,
            "grid_auto_columns": null,
            "grid_auto_flow": null,
            "grid_auto_rows": null,
            "grid_column": null,
            "grid_gap": null,
            "grid_row": null,
            "grid_template_areas": null,
            "grid_template_columns": null,
            "grid_template_rows": null,
            "height": null,
            "justify_content": null,
            "justify_items": null,
            "left": null,
            "margin": null,
            "max_height": null,
            "max_width": null,
            "min_height": null,
            "min_width": null,
            "object_fit": null,
            "object_position": null,
            "order": null,
            "overflow": null,
            "overflow_x": null,
            "overflow_y": null,
            "padding": null,
            "right": null,
            "top": null,
            "visibility": null,
            "width": null
          }
        },
        "a6a1fd28b8db4ddf9525551c44ed59ab": {
          "model_module": "@jupyter-widgets/controls",
          "model_name": "ProgressStyleModel",
          "model_module_version": "1.5.0",
          "state": {
            "_model_module": "@jupyter-widgets/controls",
            "_model_module_version": "1.5.0",
            "_model_name": "ProgressStyleModel",
            "_view_count": null,
            "_view_module": "@jupyter-widgets/base",
            "_view_module_version": "1.2.0",
            "_view_name": "StyleView",
            "bar_color": null,
            "description_width": ""
          }
        },
        "a44027dd44474a549f2818b76f103fb7": {
          "model_module": "@jupyter-widgets/controls",
          "model_name": "VBoxModel",
          "model_module_version": "1.5.0",
          "state": {
            "_dom_classes": [],
            "_model_module": "@jupyter-widgets/controls",
            "_model_module_version": "1.5.0",
            "_model_name": "VBoxModel",
            "_view_count": null,
            "_view_module": "@jupyter-widgets/controls",
            "_view_module_version": "1.5.0",
            "_view_name": "VBoxView",
            "box_style": "",
            "children": [
              "IPY_MODEL_8688987fa5fa49ce9ea89ee7439bb378",
              "IPY_MODEL_5b1d2a9949354ec78b33953d9be6823b"
            ],
            "layout": "IPY_MODEL_99046a4109b24fe8bed74769b78b8b9f"
          }
        },
        "8688987fa5fa49ce9ea89ee7439bb378": {
          "model_module": "@jupyter-widgets/controls",
          "model_name": "LabelModel",
          "model_module_version": "1.5.0",
          "state": {
            "_dom_classes": [],
            "_model_module": "@jupyter-widgets/controls",
            "_model_module_version": "1.5.0",
            "_model_name": "LabelModel",
            "_view_count": null,
            "_view_module": "@jupyter-widgets/controls",
            "_view_module_version": "1.5.0",
            "_view_name": "LabelView",
            "description": "",
            "description_tooltip": null,
            "layout": "IPY_MODEL_2cc20f4f736241a4ba21cd4a340ad21c",
            "placeholder": "​",
            "style": "IPY_MODEL_fc313c6acd1647e385fe25b15b1d1bc9",
            "value": "0.001 MB of 0.001 MB uploaded (0.000 MB deduped)\r"
          }
        },
        "5b1d2a9949354ec78b33953d9be6823b": {
          "model_module": "@jupyter-widgets/controls",
          "model_name": "FloatProgressModel",
          "model_module_version": "1.5.0",
          "state": {
            "_dom_classes": [],
            "_model_module": "@jupyter-widgets/controls",
            "_model_module_version": "1.5.0",
            "_model_name": "FloatProgressModel",
            "_view_count": null,
            "_view_module": "@jupyter-widgets/controls",
            "_view_module_version": "1.5.0",
            "_view_name": "ProgressView",
            "bar_style": "",
            "description": "",
            "description_tooltip": null,
            "layout": "IPY_MODEL_75445fdd34ed4d0688c2639aff1d7a87",
            "max": 1,
            "min": 0,
            "orientation": "horizontal",
            "style": "IPY_MODEL_05050972bf8544279113e89e2a2bdd6f",
            "value": 1
          }
        },
        "99046a4109b24fe8bed74769b78b8b9f": {
          "model_module": "@jupyter-widgets/base",
          "model_name": "LayoutModel",
          "model_module_version": "1.2.0",
          "state": {
            "_model_module": "@jupyter-widgets/base",
            "_model_module_version": "1.2.0",
            "_model_name": "LayoutModel",
            "_view_count": null,
            "_view_module": "@jupyter-widgets/base",
            "_view_module_version": "1.2.0",
            "_view_name": "LayoutView",
            "align_content": null,
            "align_items": null,
            "align_self": null,
            "border": null,
            "bottom": null,
            "display": null,
            "flex": null,
            "flex_flow": null,
            "grid_area": null,
            "grid_auto_columns": null,
            "grid_auto_flow": null,
            "grid_auto_rows": null,
            "grid_column": null,
            "grid_gap": null,
            "grid_row": null,
            "grid_template_areas": null,
            "grid_template_columns": null,
            "grid_template_rows": null,
            "height": null,
            "justify_content": null,
            "justify_items": null,
            "left": null,
            "margin": null,
            "max_height": null,
            "max_width": null,
            "min_height": null,
            "min_width": null,
            "object_fit": null,
            "object_position": null,
            "order": null,
            "overflow": null,
            "overflow_x": null,
            "overflow_y": null,
            "padding": null,
            "right": null,
            "top": null,
            "visibility": null,
            "width": null
          }
        },
        "2cc20f4f736241a4ba21cd4a340ad21c": {
          "model_module": "@jupyter-widgets/base",
          "model_name": "LayoutModel",
          "model_module_version": "1.2.0",
          "state": {
            "_model_module": "@jupyter-widgets/base",
            "_model_module_version": "1.2.0",
            "_model_name": "LayoutModel",
            "_view_count": null,
            "_view_module": "@jupyter-widgets/base",
            "_view_module_version": "1.2.0",
            "_view_name": "LayoutView",
            "align_content": null,
            "align_items": null,
            "align_self": null,
            "border": null,
            "bottom": null,
            "display": null,
            "flex": null,
            "flex_flow": null,
            "grid_area": null,
            "grid_auto_columns": null,
            "grid_auto_flow": null,
            "grid_auto_rows": null,
            "grid_column": null,
            "grid_gap": null,
            "grid_row": null,
            "grid_template_areas": null,
            "grid_template_columns": null,
            "grid_template_rows": null,
            "height": null,
            "justify_content": null,
            "justify_items": null,
            "left": null,
            "margin": null,
            "max_height": null,
            "max_width": null,
            "min_height": null,
            "min_width": null,
            "object_fit": null,
            "object_position": null,
            "order": null,
            "overflow": null,
            "overflow_x": null,
            "overflow_y": null,
            "padding": null,
            "right": null,
            "top": null,
            "visibility": null,
            "width": null
          }
        },
        "fc313c6acd1647e385fe25b15b1d1bc9": {
          "model_module": "@jupyter-widgets/controls",
          "model_name": "DescriptionStyleModel",
          "model_module_version": "1.5.0",
          "state": {
            "_model_module": "@jupyter-widgets/controls",
            "_model_module_version": "1.5.0",
            "_model_name": "DescriptionStyleModel",
            "_view_count": null,
            "_view_module": "@jupyter-widgets/base",
            "_view_module_version": "1.2.0",
            "_view_name": "StyleView",
            "description_width": ""
          }
        },
        "75445fdd34ed4d0688c2639aff1d7a87": {
          "model_module": "@jupyter-widgets/base",
          "model_name": "LayoutModel",
          "model_module_version": "1.2.0",
          "state": {
            "_model_module": "@jupyter-widgets/base",
            "_model_module_version": "1.2.0",
            "_model_name": "LayoutModel",
            "_view_count": null,
            "_view_module": "@jupyter-widgets/base",
            "_view_module_version": "1.2.0",
            "_view_name": "LayoutView",
            "align_content": null,
            "align_items": null,
            "align_self": null,
            "border": null,
            "bottom": null,
            "display": null,
            "flex": null,
            "flex_flow": null,
            "grid_area": null,
            "grid_auto_columns": null,
            "grid_auto_flow": null,
            "grid_auto_rows": null,
            "grid_column": null,
            "grid_gap": null,
            "grid_row": null,
            "grid_template_areas": null,
            "grid_template_columns": null,
            "grid_template_rows": null,
            "height": null,
            "justify_content": null,
            "justify_items": null,
            "left": null,
            "margin": null,
            "max_height": null,
            "max_width": null,
            "min_height": null,
            "min_width": null,
            "object_fit": null,
            "object_position": null,
            "order": null,
            "overflow": null,
            "overflow_x": null,
            "overflow_y": null,
            "padding": null,
            "right": null,
            "top": null,
            "visibility": null,
            "width": null
          }
        },
        "05050972bf8544279113e89e2a2bdd6f": {
          "model_module": "@jupyter-widgets/controls",
          "model_name": "ProgressStyleModel",
          "model_module_version": "1.5.0",
          "state": {
            "_model_module": "@jupyter-widgets/controls",
            "_model_module_version": "1.5.0",
            "_model_name": "ProgressStyleModel",
            "_view_count": null,
            "_view_module": "@jupyter-widgets/base",
            "_view_module_version": "1.2.0",
            "_view_name": "StyleView",
            "bar_color": null,
            "description_width": ""
          }
        },
        "01898969d3ea43c6a7261ede669931b0": {
          "model_module": "@jupyter-widgets/controls",
          "model_name": "VBoxModel",
          "model_module_version": "1.5.0",
          "state": {
            "_dom_classes": [],
            "_model_module": "@jupyter-widgets/controls",
            "_model_module_version": "1.5.0",
            "_model_name": "VBoxModel",
            "_view_count": null,
            "_view_module": "@jupyter-widgets/controls",
            "_view_module_version": "1.5.0",
            "_view_name": "VBoxView",
            "box_style": "",
            "children": [
              "IPY_MODEL_4f3f3f9dee56429da79f81d86885f781",
              "IPY_MODEL_9d62dbdb027f435ea94cc83f1dcfa3f5"
            ],
            "layout": "IPY_MODEL_a2a0c900dc2c4537916dcc1cf9496093"
          }
        },
        "4f3f3f9dee56429da79f81d86885f781": {
          "model_module": "@jupyter-widgets/controls",
          "model_name": "LabelModel",
          "model_module_version": "1.5.0",
          "state": {
            "_dom_classes": [],
            "_model_module": "@jupyter-widgets/controls",
            "_model_module_version": "1.5.0",
            "_model_name": "LabelModel",
            "_view_count": null,
            "_view_module": "@jupyter-widgets/controls",
            "_view_module_version": "1.5.0",
            "_view_name": "LabelView",
            "description": "",
            "description_tooltip": null,
            "layout": "IPY_MODEL_6bc57914ff1541dcb1b2f7321857c9d6",
            "placeholder": "​",
            "style": "IPY_MODEL_e36aff8386534bc0846b64f3b5ee8e88",
            "value": "0.010 MB of 0.010 MB uploaded (0.000 MB deduped)\r"
          }
        },
        "9d62dbdb027f435ea94cc83f1dcfa3f5": {
          "model_module": "@jupyter-widgets/controls",
          "model_name": "FloatProgressModel",
          "model_module_version": "1.5.0",
          "state": {
            "_dom_classes": [],
            "_model_module": "@jupyter-widgets/controls",
            "_model_module_version": "1.5.0",
            "_model_name": "FloatProgressModel",
            "_view_count": null,
            "_view_module": "@jupyter-widgets/controls",
            "_view_module_version": "1.5.0",
            "_view_name": "ProgressView",
            "bar_style": "",
            "description": "",
            "description_tooltip": null,
            "layout": "IPY_MODEL_c965b3b4f42a410fb4a9708014074c59",
            "max": 1,
            "min": 0,
            "orientation": "horizontal",
            "style": "IPY_MODEL_424944d266bc491b8d99a2b2a7273dc4",
            "value": 1
          }
        },
        "a2a0c900dc2c4537916dcc1cf9496093": {
          "model_module": "@jupyter-widgets/base",
          "model_name": "LayoutModel",
          "model_module_version": "1.2.0",
          "state": {
            "_model_module": "@jupyter-widgets/base",
            "_model_module_version": "1.2.0",
            "_model_name": "LayoutModel",
            "_view_count": null,
            "_view_module": "@jupyter-widgets/base",
            "_view_module_version": "1.2.0",
            "_view_name": "LayoutView",
            "align_content": null,
            "align_items": null,
            "align_self": null,
            "border": null,
            "bottom": null,
            "display": null,
            "flex": null,
            "flex_flow": null,
            "grid_area": null,
            "grid_auto_columns": null,
            "grid_auto_flow": null,
            "grid_auto_rows": null,
            "grid_column": null,
            "grid_gap": null,
            "grid_row": null,
            "grid_template_areas": null,
            "grid_template_columns": null,
            "grid_template_rows": null,
            "height": null,
            "justify_content": null,
            "justify_items": null,
            "left": null,
            "margin": null,
            "max_height": null,
            "max_width": null,
            "min_height": null,
            "min_width": null,
            "object_fit": null,
            "object_position": null,
            "order": null,
            "overflow": null,
            "overflow_x": null,
            "overflow_y": null,
            "padding": null,
            "right": null,
            "top": null,
            "visibility": null,
            "width": null
          }
        },
        "6bc57914ff1541dcb1b2f7321857c9d6": {
          "model_module": "@jupyter-widgets/base",
          "model_name": "LayoutModel",
          "model_module_version": "1.2.0",
          "state": {
            "_model_module": "@jupyter-widgets/base",
            "_model_module_version": "1.2.0",
            "_model_name": "LayoutModel",
            "_view_count": null,
            "_view_module": "@jupyter-widgets/base",
            "_view_module_version": "1.2.0",
            "_view_name": "LayoutView",
            "align_content": null,
            "align_items": null,
            "align_self": null,
            "border": null,
            "bottom": null,
            "display": null,
            "flex": null,
            "flex_flow": null,
            "grid_area": null,
            "grid_auto_columns": null,
            "grid_auto_flow": null,
            "grid_auto_rows": null,
            "grid_column": null,
            "grid_gap": null,
            "grid_row": null,
            "grid_template_areas": null,
            "grid_template_columns": null,
            "grid_template_rows": null,
            "height": null,
            "justify_content": null,
            "justify_items": null,
            "left": null,
            "margin": null,
            "max_height": null,
            "max_width": null,
            "min_height": null,
            "min_width": null,
            "object_fit": null,
            "object_position": null,
            "order": null,
            "overflow": null,
            "overflow_x": null,
            "overflow_y": null,
            "padding": null,
            "right": null,
            "top": null,
            "visibility": null,
            "width": null
          }
        },
        "e36aff8386534bc0846b64f3b5ee8e88": {
          "model_module": "@jupyter-widgets/controls",
          "model_name": "DescriptionStyleModel",
          "model_module_version": "1.5.0",
          "state": {
            "_model_module": "@jupyter-widgets/controls",
            "_model_module_version": "1.5.0",
            "_model_name": "DescriptionStyleModel",
            "_view_count": null,
            "_view_module": "@jupyter-widgets/base",
            "_view_module_version": "1.2.0",
            "_view_name": "StyleView",
            "description_width": ""
          }
        },
        "c965b3b4f42a410fb4a9708014074c59": {
          "model_module": "@jupyter-widgets/base",
          "model_name": "LayoutModel",
          "model_module_version": "1.2.0",
          "state": {
            "_model_module": "@jupyter-widgets/base",
            "_model_module_version": "1.2.0",
            "_model_name": "LayoutModel",
            "_view_count": null,
            "_view_module": "@jupyter-widgets/base",
            "_view_module_version": "1.2.0",
            "_view_name": "LayoutView",
            "align_content": null,
            "align_items": null,
            "align_self": null,
            "border": null,
            "bottom": null,
            "display": null,
            "flex": null,
            "flex_flow": null,
            "grid_area": null,
            "grid_auto_columns": null,
            "grid_auto_flow": null,
            "grid_auto_rows": null,
            "grid_column": null,
            "grid_gap": null,
            "grid_row": null,
            "grid_template_areas": null,
            "grid_template_columns": null,
            "grid_template_rows": null,
            "height": null,
            "justify_content": null,
            "justify_items": null,
            "left": null,
            "margin": null,
            "max_height": null,
            "max_width": null,
            "min_height": null,
            "min_width": null,
            "object_fit": null,
            "object_position": null,
            "order": null,
            "overflow": null,
            "overflow_x": null,
            "overflow_y": null,
            "padding": null,
            "right": null,
            "top": null,
            "visibility": null,
            "width": null
          }
        },
        "424944d266bc491b8d99a2b2a7273dc4": {
          "model_module": "@jupyter-widgets/controls",
          "model_name": "ProgressStyleModel",
          "model_module_version": "1.5.0",
          "state": {
            "_model_module": "@jupyter-widgets/controls",
            "_model_module_version": "1.5.0",
            "_model_name": "ProgressStyleModel",
            "_view_count": null,
            "_view_module": "@jupyter-widgets/base",
            "_view_module_version": "1.2.0",
            "_view_name": "StyleView",
            "bar_color": null,
            "description_width": ""
          }
        },
        "63d374818a334988a00b9d0958d294eb": {
          "model_module": "@jupyter-widgets/controls",
          "model_name": "VBoxModel",
          "model_module_version": "1.5.0",
          "state": {
            "_dom_classes": [],
            "_model_module": "@jupyter-widgets/controls",
            "_model_module_version": "1.5.0",
            "_model_name": "VBoxModel",
            "_view_count": null,
            "_view_module": "@jupyter-widgets/controls",
            "_view_module_version": "1.5.0",
            "_view_name": "VBoxView",
            "box_style": "",
            "children": [
              "IPY_MODEL_1717c015a8404eb6bff9cc989f66fef6",
              "IPY_MODEL_e5664ae432164f8089e4fc1b351bfb48"
            ],
            "layout": "IPY_MODEL_c72c9ee5ec0a413e887b2fef17e1c8f6"
          }
        },
        "1717c015a8404eb6bff9cc989f66fef6": {
          "model_module": "@jupyter-widgets/controls",
          "model_name": "LabelModel",
          "model_module_version": "1.5.0",
          "state": {
            "_dom_classes": [],
            "_model_module": "@jupyter-widgets/controls",
            "_model_module_version": "1.5.0",
            "_model_name": "LabelModel",
            "_view_count": null,
            "_view_module": "@jupyter-widgets/controls",
            "_view_module_version": "1.5.0",
            "_view_name": "LabelView",
            "description": "",
            "description_tooltip": null,
            "layout": "IPY_MODEL_6f6c6a94e1724ad4a9d9a17789b58656",
            "placeholder": "​",
            "style": "IPY_MODEL_9532c08d659048659073a7eef04a8d52",
            "value": "0.010 MB of 0.010 MB uploaded (0.000 MB deduped)\r"
          }
        },
        "e5664ae432164f8089e4fc1b351bfb48": {
          "model_module": "@jupyter-widgets/controls",
          "model_name": "FloatProgressModel",
          "model_module_version": "1.5.0",
          "state": {
            "_dom_classes": [],
            "_model_module": "@jupyter-widgets/controls",
            "_model_module_version": "1.5.0",
            "_model_name": "FloatProgressModel",
            "_view_count": null,
            "_view_module": "@jupyter-widgets/controls",
            "_view_module_version": "1.5.0",
            "_view_name": "ProgressView",
            "bar_style": "",
            "description": "",
            "description_tooltip": null,
            "layout": "IPY_MODEL_de01d1e3530d42d78a6eb66b7938c8da",
            "max": 1,
            "min": 0,
            "orientation": "horizontal",
            "style": "IPY_MODEL_ec9e9c5980db4102b92eb1b9192092bc",
            "value": 1
          }
        },
        "c72c9ee5ec0a413e887b2fef17e1c8f6": {
          "model_module": "@jupyter-widgets/base",
          "model_name": "LayoutModel",
          "model_module_version": "1.2.0",
          "state": {
            "_model_module": "@jupyter-widgets/base",
            "_model_module_version": "1.2.0",
            "_model_name": "LayoutModel",
            "_view_count": null,
            "_view_module": "@jupyter-widgets/base",
            "_view_module_version": "1.2.0",
            "_view_name": "LayoutView",
            "align_content": null,
            "align_items": null,
            "align_self": null,
            "border": null,
            "bottom": null,
            "display": null,
            "flex": null,
            "flex_flow": null,
            "grid_area": null,
            "grid_auto_columns": null,
            "grid_auto_flow": null,
            "grid_auto_rows": null,
            "grid_column": null,
            "grid_gap": null,
            "grid_row": null,
            "grid_template_areas": null,
            "grid_template_columns": null,
            "grid_template_rows": null,
            "height": null,
            "justify_content": null,
            "justify_items": null,
            "left": null,
            "margin": null,
            "max_height": null,
            "max_width": null,
            "min_height": null,
            "min_width": null,
            "object_fit": null,
            "object_position": null,
            "order": null,
            "overflow": null,
            "overflow_x": null,
            "overflow_y": null,
            "padding": null,
            "right": null,
            "top": null,
            "visibility": null,
            "width": null
          }
        },
        "6f6c6a94e1724ad4a9d9a17789b58656": {
          "model_module": "@jupyter-widgets/base",
          "model_name": "LayoutModel",
          "model_module_version": "1.2.0",
          "state": {
            "_model_module": "@jupyter-widgets/base",
            "_model_module_version": "1.2.0",
            "_model_name": "LayoutModel",
            "_view_count": null,
            "_view_module": "@jupyter-widgets/base",
            "_view_module_version": "1.2.0",
            "_view_name": "LayoutView",
            "align_content": null,
            "align_items": null,
            "align_self": null,
            "border": null,
            "bottom": null,
            "display": null,
            "flex": null,
            "flex_flow": null,
            "grid_area": null,
            "grid_auto_columns": null,
            "grid_auto_flow": null,
            "grid_auto_rows": null,
            "grid_column": null,
            "grid_gap": null,
            "grid_row": null,
            "grid_template_areas": null,
            "grid_template_columns": null,
            "grid_template_rows": null,
            "height": null,
            "justify_content": null,
            "justify_items": null,
            "left": null,
            "margin": null,
            "max_height": null,
            "max_width": null,
            "min_height": null,
            "min_width": null,
            "object_fit": null,
            "object_position": null,
            "order": null,
            "overflow": null,
            "overflow_x": null,
            "overflow_y": null,
            "padding": null,
            "right": null,
            "top": null,
            "visibility": null,
            "width": null
          }
        },
        "9532c08d659048659073a7eef04a8d52": {
          "model_module": "@jupyter-widgets/controls",
          "model_name": "DescriptionStyleModel",
          "model_module_version": "1.5.0",
          "state": {
            "_model_module": "@jupyter-widgets/controls",
            "_model_module_version": "1.5.0",
            "_model_name": "DescriptionStyleModel",
            "_view_count": null,
            "_view_module": "@jupyter-widgets/base",
            "_view_module_version": "1.2.0",
            "_view_name": "StyleView",
            "description_width": ""
          }
        },
        "de01d1e3530d42d78a6eb66b7938c8da": {
          "model_module": "@jupyter-widgets/base",
          "model_name": "LayoutModel",
          "model_module_version": "1.2.0",
          "state": {
            "_model_module": "@jupyter-widgets/base",
            "_model_module_version": "1.2.0",
            "_model_name": "LayoutModel",
            "_view_count": null,
            "_view_module": "@jupyter-widgets/base",
            "_view_module_version": "1.2.0",
            "_view_name": "LayoutView",
            "align_content": null,
            "align_items": null,
            "align_self": null,
            "border": null,
            "bottom": null,
            "display": null,
            "flex": null,
            "flex_flow": null,
            "grid_area": null,
            "grid_auto_columns": null,
            "grid_auto_flow": null,
            "grid_auto_rows": null,
            "grid_column": null,
            "grid_gap": null,
            "grid_row": null,
            "grid_template_areas": null,
            "grid_template_columns": null,
            "grid_template_rows": null,
            "height": null,
            "justify_content": null,
            "justify_items": null,
            "left": null,
            "margin": null,
            "max_height": null,
            "max_width": null,
            "min_height": null,
            "min_width": null,
            "object_fit": null,
            "object_position": null,
            "order": null,
            "overflow": null,
            "overflow_x": null,
            "overflow_y": null,
            "padding": null,
            "right": null,
            "top": null,
            "visibility": null,
            "width": null
          }
        },
        "ec9e9c5980db4102b92eb1b9192092bc": {
          "model_module": "@jupyter-widgets/controls",
          "model_name": "ProgressStyleModel",
          "model_module_version": "1.5.0",
          "state": {
            "_model_module": "@jupyter-widgets/controls",
            "_model_module_version": "1.5.0",
            "_model_name": "ProgressStyleModel",
            "_view_count": null,
            "_view_module": "@jupyter-widgets/base",
            "_view_module_version": "1.2.0",
            "_view_name": "StyleView",
            "bar_color": null,
            "description_width": ""
          }
        },
        "352b49a8113b424b8f1a699f63ca5c87": {
          "model_module": "@jupyter-widgets/controls",
          "model_name": "VBoxModel",
          "model_module_version": "1.5.0",
          "state": {
            "_dom_classes": [],
            "_model_module": "@jupyter-widgets/controls",
            "_model_module_version": "1.5.0",
            "_model_name": "VBoxModel",
            "_view_count": null,
            "_view_module": "@jupyter-widgets/controls",
            "_view_module_version": "1.5.0",
            "_view_name": "VBoxView",
            "box_style": "",
            "children": [
              "IPY_MODEL_af94f20e0c004b4abc426f17d1d1bfc1",
              "IPY_MODEL_6bec777c76584e6bb16da898b534d9b0"
            ],
            "layout": "IPY_MODEL_314b80c2fb41481cbe9fbc2b0c01b8c2"
          }
        },
        "af94f20e0c004b4abc426f17d1d1bfc1": {
          "model_module": "@jupyter-widgets/controls",
          "model_name": "LabelModel",
          "model_module_version": "1.5.0",
          "state": {
            "_dom_classes": [],
            "_model_module": "@jupyter-widgets/controls",
            "_model_module_version": "1.5.0",
            "_model_name": "LabelModel",
            "_view_count": null,
            "_view_module": "@jupyter-widgets/controls",
            "_view_module_version": "1.5.0",
            "_view_name": "LabelView",
            "description": "",
            "description_tooltip": null,
            "layout": "IPY_MODEL_9d738527d7674f2eb46abdb02fb52c78",
            "placeholder": "​",
            "style": "IPY_MODEL_9165b49db4ec423f92754c0811e3400e",
            "value": "0.001 MB of 0.010 MB uploaded (0.000 MB deduped)\r"
          }
        },
        "6bec777c76584e6bb16da898b534d9b0": {
          "model_module": "@jupyter-widgets/controls",
          "model_name": "FloatProgressModel",
          "model_module_version": "1.5.0",
          "state": {
            "_dom_classes": [],
            "_model_module": "@jupyter-widgets/controls",
            "_model_module_version": "1.5.0",
            "_model_name": "FloatProgressModel",
            "_view_count": null,
            "_view_module": "@jupyter-widgets/controls",
            "_view_module_version": "1.5.0",
            "_view_name": "ProgressView",
            "bar_style": "",
            "description": "",
            "description_tooltip": null,
            "layout": "IPY_MODEL_777985d407b74a019a4c97de9d49b52c",
            "max": 1,
            "min": 0,
            "orientation": "horizontal",
            "style": "IPY_MODEL_57756bac312d432e9da53e22373b6fbc",
            "value": 0.13747872233904077
          }
        },
        "314b80c2fb41481cbe9fbc2b0c01b8c2": {
          "model_module": "@jupyter-widgets/base",
          "model_name": "LayoutModel",
          "model_module_version": "1.2.0",
          "state": {
            "_model_module": "@jupyter-widgets/base",
            "_model_module_version": "1.2.0",
            "_model_name": "LayoutModel",
            "_view_count": null,
            "_view_module": "@jupyter-widgets/base",
            "_view_module_version": "1.2.0",
            "_view_name": "LayoutView",
            "align_content": null,
            "align_items": null,
            "align_self": null,
            "border": null,
            "bottom": null,
            "display": null,
            "flex": null,
            "flex_flow": null,
            "grid_area": null,
            "grid_auto_columns": null,
            "grid_auto_flow": null,
            "grid_auto_rows": null,
            "grid_column": null,
            "grid_gap": null,
            "grid_row": null,
            "grid_template_areas": null,
            "grid_template_columns": null,
            "grid_template_rows": null,
            "height": null,
            "justify_content": null,
            "justify_items": null,
            "left": null,
            "margin": null,
            "max_height": null,
            "max_width": null,
            "min_height": null,
            "min_width": null,
            "object_fit": null,
            "object_position": null,
            "order": null,
            "overflow": null,
            "overflow_x": null,
            "overflow_y": null,
            "padding": null,
            "right": null,
            "top": null,
            "visibility": null,
            "width": null
          }
        },
        "9d738527d7674f2eb46abdb02fb52c78": {
          "model_module": "@jupyter-widgets/base",
          "model_name": "LayoutModel",
          "model_module_version": "1.2.0",
          "state": {
            "_model_module": "@jupyter-widgets/base",
            "_model_module_version": "1.2.0",
            "_model_name": "LayoutModel",
            "_view_count": null,
            "_view_module": "@jupyter-widgets/base",
            "_view_module_version": "1.2.0",
            "_view_name": "LayoutView",
            "align_content": null,
            "align_items": null,
            "align_self": null,
            "border": null,
            "bottom": null,
            "display": null,
            "flex": null,
            "flex_flow": null,
            "grid_area": null,
            "grid_auto_columns": null,
            "grid_auto_flow": null,
            "grid_auto_rows": null,
            "grid_column": null,
            "grid_gap": null,
            "grid_row": null,
            "grid_template_areas": null,
            "grid_template_columns": null,
            "grid_template_rows": null,
            "height": null,
            "justify_content": null,
            "justify_items": null,
            "left": null,
            "margin": null,
            "max_height": null,
            "max_width": null,
            "min_height": null,
            "min_width": null,
            "object_fit": null,
            "object_position": null,
            "order": null,
            "overflow": null,
            "overflow_x": null,
            "overflow_y": null,
            "padding": null,
            "right": null,
            "top": null,
            "visibility": null,
            "width": null
          }
        },
        "9165b49db4ec423f92754c0811e3400e": {
          "model_module": "@jupyter-widgets/controls",
          "model_name": "DescriptionStyleModel",
          "model_module_version": "1.5.0",
          "state": {
            "_model_module": "@jupyter-widgets/controls",
            "_model_module_version": "1.5.0",
            "_model_name": "DescriptionStyleModel",
            "_view_count": null,
            "_view_module": "@jupyter-widgets/base",
            "_view_module_version": "1.2.0",
            "_view_name": "StyleView",
            "description_width": ""
          }
        },
        "777985d407b74a019a4c97de9d49b52c": {
          "model_module": "@jupyter-widgets/base",
          "model_name": "LayoutModel",
          "model_module_version": "1.2.0",
          "state": {
            "_model_module": "@jupyter-widgets/base",
            "_model_module_version": "1.2.0",
            "_model_name": "LayoutModel",
            "_view_count": null,
            "_view_module": "@jupyter-widgets/base",
            "_view_module_version": "1.2.0",
            "_view_name": "LayoutView",
            "align_content": null,
            "align_items": null,
            "align_self": null,
            "border": null,
            "bottom": null,
            "display": null,
            "flex": null,
            "flex_flow": null,
            "grid_area": null,
            "grid_auto_columns": null,
            "grid_auto_flow": null,
            "grid_auto_rows": null,
            "grid_column": null,
            "grid_gap": null,
            "grid_row": null,
            "grid_template_areas": null,
            "grid_template_columns": null,
            "grid_template_rows": null,
            "height": null,
            "justify_content": null,
            "justify_items": null,
            "left": null,
            "margin": null,
            "max_height": null,
            "max_width": null,
            "min_height": null,
            "min_width": null,
            "object_fit": null,
            "object_position": null,
            "order": null,
            "overflow": null,
            "overflow_x": null,
            "overflow_y": null,
            "padding": null,
            "right": null,
            "top": null,
            "visibility": null,
            "width": null
          }
        },
        "57756bac312d432e9da53e22373b6fbc": {
          "model_module": "@jupyter-widgets/controls",
          "model_name": "ProgressStyleModel",
          "model_module_version": "1.5.0",
          "state": {
            "_model_module": "@jupyter-widgets/controls",
            "_model_module_version": "1.5.0",
            "_model_name": "ProgressStyleModel",
            "_view_count": null,
            "_view_module": "@jupyter-widgets/base",
            "_view_module_version": "1.2.0",
            "_view_name": "StyleView",
            "bar_color": null,
            "description_width": ""
          }
        },
        "82313a6e81254a0d98235047fd9c0031": {
          "model_module": "@jupyter-widgets/controls",
          "model_name": "VBoxModel",
          "model_module_version": "1.5.0",
          "state": {
            "_dom_classes": [],
            "_model_module": "@jupyter-widgets/controls",
            "_model_module_version": "1.5.0",
            "_model_name": "VBoxModel",
            "_view_count": null,
            "_view_module": "@jupyter-widgets/controls",
            "_view_module_version": "1.5.0",
            "_view_name": "VBoxView",
            "box_style": "",
            "children": [
              "IPY_MODEL_ca45cb75595f435882f5439bf222c269",
              "IPY_MODEL_14d44bd60bc84e17a006a163c49c0ec2"
            ],
            "layout": "IPY_MODEL_f9d9373b444441eab595f3f844be905f"
          }
        },
        "ca45cb75595f435882f5439bf222c269": {
          "model_module": "@jupyter-widgets/controls",
          "model_name": "LabelModel",
          "model_module_version": "1.5.0",
          "state": {
            "_dom_classes": [],
            "_model_module": "@jupyter-widgets/controls",
            "_model_module_version": "1.5.0",
            "_model_name": "LabelModel",
            "_view_count": null,
            "_view_module": "@jupyter-widgets/controls",
            "_view_module_version": "1.5.0",
            "_view_name": "LabelView",
            "description": "",
            "description_tooltip": null,
            "layout": "IPY_MODEL_f92860465b524da8968b9b4720e1b387",
            "placeholder": "​",
            "style": "IPY_MODEL_291a62d3c7e446c390183f33177c114c",
            "value": "0.010 MB of 0.010 MB uploaded (0.000 MB deduped)\r"
          }
        },
        "14d44bd60bc84e17a006a163c49c0ec2": {
          "model_module": "@jupyter-widgets/controls",
          "model_name": "FloatProgressModel",
          "model_module_version": "1.5.0",
          "state": {
            "_dom_classes": [],
            "_model_module": "@jupyter-widgets/controls",
            "_model_module_version": "1.5.0",
            "_model_name": "FloatProgressModel",
            "_view_count": null,
            "_view_module": "@jupyter-widgets/controls",
            "_view_module_version": "1.5.0",
            "_view_name": "ProgressView",
            "bar_style": "",
            "description": "",
            "description_tooltip": null,
            "layout": "IPY_MODEL_41afa702cb374a2a89ae0f01914a47fe",
            "max": 1,
            "min": 0,
            "orientation": "horizontal",
            "style": "IPY_MODEL_19e3bb6948954988a35fbc8b1f107f7b",
            "value": 1
          }
        },
        "f9d9373b444441eab595f3f844be905f": {
          "model_module": "@jupyter-widgets/base",
          "model_name": "LayoutModel",
          "model_module_version": "1.2.0",
          "state": {
            "_model_module": "@jupyter-widgets/base",
            "_model_module_version": "1.2.0",
            "_model_name": "LayoutModel",
            "_view_count": null,
            "_view_module": "@jupyter-widgets/base",
            "_view_module_version": "1.2.0",
            "_view_name": "LayoutView",
            "align_content": null,
            "align_items": null,
            "align_self": null,
            "border": null,
            "bottom": null,
            "display": null,
            "flex": null,
            "flex_flow": null,
            "grid_area": null,
            "grid_auto_columns": null,
            "grid_auto_flow": null,
            "grid_auto_rows": null,
            "grid_column": null,
            "grid_gap": null,
            "grid_row": null,
            "grid_template_areas": null,
            "grid_template_columns": null,
            "grid_template_rows": null,
            "height": null,
            "justify_content": null,
            "justify_items": null,
            "left": null,
            "margin": null,
            "max_height": null,
            "max_width": null,
            "min_height": null,
            "min_width": null,
            "object_fit": null,
            "object_position": null,
            "order": null,
            "overflow": null,
            "overflow_x": null,
            "overflow_y": null,
            "padding": null,
            "right": null,
            "top": null,
            "visibility": null,
            "width": null
          }
        },
        "f92860465b524da8968b9b4720e1b387": {
          "model_module": "@jupyter-widgets/base",
          "model_name": "LayoutModel",
          "model_module_version": "1.2.0",
          "state": {
            "_model_module": "@jupyter-widgets/base",
            "_model_module_version": "1.2.0",
            "_model_name": "LayoutModel",
            "_view_count": null,
            "_view_module": "@jupyter-widgets/base",
            "_view_module_version": "1.2.0",
            "_view_name": "LayoutView",
            "align_content": null,
            "align_items": null,
            "align_self": null,
            "border": null,
            "bottom": null,
            "display": null,
            "flex": null,
            "flex_flow": null,
            "grid_area": null,
            "grid_auto_columns": null,
            "grid_auto_flow": null,
            "grid_auto_rows": null,
            "grid_column": null,
            "grid_gap": null,
            "grid_row": null,
            "grid_template_areas": null,
            "grid_template_columns": null,
            "grid_template_rows": null,
            "height": null,
            "justify_content": null,
            "justify_items": null,
            "left": null,
            "margin": null,
            "max_height": null,
            "max_width": null,
            "min_height": null,
            "min_width": null,
            "object_fit": null,
            "object_position": null,
            "order": null,
            "overflow": null,
            "overflow_x": null,
            "overflow_y": null,
            "padding": null,
            "right": null,
            "top": null,
            "visibility": null,
            "width": null
          }
        },
        "291a62d3c7e446c390183f33177c114c": {
          "model_module": "@jupyter-widgets/controls",
          "model_name": "DescriptionStyleModel",
          "model_module_version": "1.5.0",
          "state": {
            "_model_module": "@jupyter-widgets/controls",
            "_model_module_version": "1.5.0",
            "_model_name": "DescriptionStyleModel",
            "_view_count": null,
            "_view_module": "@jupyter-widgets/base",
            "_view_module_version": "1.2.0",
            "_view_name": "StyleView",
            "description_width": ""
          }
        },
        "41afa702cb374a2a89ae0f01914a47fe": {
          "model_module": "@jupyter-widgets/base",
          "model_name": "LayoutModel",
          "model_module_version": "1.2.0",
          "state": {
            "_model_module": "@jupyter-widgets/base",
            "_model_module_version": "1.2.0",
            "_model_name": "LayoutModel",
            "_view_count": null,
            "_view_module": "@jupyter-widgets/base",
            "_view_module_version": "1.2.0",
            "_view_name": "LayoutView",
            "align_content": null,
            "align_items": null,
            "align_self": null,
            "border": null,
            "bottom": null,
            "display": null,
            "flex": null,
            "flex_flow": null,
            "grid_area": null,
            "grid_auto_columns": null,
            "grid_auto_flow": null,
            "grid_auto_rows": null,
            "grid_column": null,
            "grid_gap": null,
            "grid_row": null,
            "grid_template_areas": null,
            "grid_template_columns": null,
            "grid_template_rows": null,
            "height": null,
            "justify_content": null,
            "justify_items": null,
            "left": null,
            "margin": null,
            "max_height": null,
            "max_width": null,
            "min_height": null,
            "min_width": null,
            "object_fit": null,
            "object_position": null,
            "order": null,
            "overflow": null,
            "overflow_x": null,
            "overflow_y": null,
            "padding": null,
            "right": null,
            "top": null,
            "visibility": null,
            "width": null
          }
        },
        "19e3bb6948954988a35fbc8b1f107f7b": {
          "model_module": "@jupyter-widgets/controls",
          "model_name": "ProgressStyleModel",
          "model_module_version": "1.5.0",
          "state": {
            "_model_module": "@jupyter-widgets/controls",
            "_model_module_version": "1.5.0",
            "_model_name": "ProgressStyleModel",
            "_view_count": null,
            "_view_module": "@jupyter-widgets/base",
            "_view_module_version": "1.2.0",
            "_view_name": "StyleView",
            "bar_color": null,
            "description_width": ""
          }
        },
        "028502f605324fb5a8c86f82f4a4f739": {
          "model_module": "@jupyter-widgets/controls",
          "model_name": "VBoxModel",
          "model_module_version": "1.5.0",
          "state": {
            "_dom_classes": [],
            "_model_module": "@jupyter-widgets/controls",
            "_model_module_version": "1.5.0",
            "_model_name": "VBoxModel",
            "_view_count": null,
            "_view_module": "@jupyter-widgets/controls",
            "_view_module_version": "1.5.0",
            "_view_name": "VBoxView",
            "box_style": "",
            "children": [
              "IPY_MODEL_eb2f601752a74b63ad077e50bdc56411",
              "IPY_MODEL_ddafe5ab0b9d4f27a513c937552c959b"
            ],
            "layout": "IPY_MODEL_ee2103a4ba3140c3844560d1271b3e19"
          }
        },
        "eb2f601752a74b63ad077e50bdc56411": {
          "model_module": "@jupyter-widgets/controls",
          "model_name": "LabelModel",
          "model_module_version": "1.5.0",
          "state": {
            "_dom_classes": [],
            "_model_module": "@jupyter-widgets/controls",
            "_model_module_version": "1.5.0",
            "_model_name": "LabelModel",
            "_view_count": null,
            "_view_module": "@jupyter-widgets/controls",
            "_view_module_version": "1.5.0",
            "_view_name": "LabelView",
            "description": "",
            "description_tooltip": null,
            "layout": "IPY_MODEL_b21d895a1ba04f1795993d6fd68f3996",
            "placeholder": "​",
            "style": "IPY_MODEL_7ddd239456b04f79a6e4f07c3bdf7a86",
            "value": "0.001 MB of 0.001 MB uploaded (0.000 MB deduped)\r"
          }
        },
        "ddafe5ab0b9d4f27a513c937552c959b": {
          "model_module": "@jupyter-widgets/controls",
          "model_name": "FloatProgressModel",
          "model_module_version": "1.5.0",
          "state": {
            "_dom_classes": [],
            "_model_module": "@jupyter-widgets/controls",
            "_model_module_version": "1.5.0",
            "_model_name": "FloatProgressModel",
            "_view_count": null,
            "_view_module": "@jupyter-widgets/controls",
            "_view_module_version": "1.5.0",
            "_view_name": "ProgressView",
            "bar_style": "",
            "description": "",
            "description_tooltip": null,
            "layout": "IPY_MODEL_b3194f4e21ff4ff6b17e1451e7c20bb4",
            "max": 1,
            "min": 0,
            "orientation": "horizontal",
            "style": "IPY_MODEL_0a386f3d08c0453e85126ef0b677921b",
            "value": 1
          }
        },
        "ee2103a4ba3140c3844560d1271b3e19": {
          "model_module": "@jupyter-widgets/base",
          "model_name": "LayoutModel",
          "model_module_version": "1.2.0",
          "state": {
            "_model_module": "@jupyter-widgets/base",
            "_model_module_version": "1.2.0",
            "_model_name": "LayoutModel",
            "_view_count": null,
            "_view_module": "@jupyter-widgets/base",
            "_view_module_version": "1.2.0",
            "_view_name": "LayoutView",
            "align_content": null,
            "align_items": null,
            "align_self": null,
            "border": null,
            "bottom": null,
            "display": null,
            "flex": null,
            "flex_flow": null,
            "grid_area": null,
            "grid_auto_columns": null,
            "grid_auto_flow": null,
            "grid_auto_rows": null,
            "grid_column": null,
            "grid_gap": null,
            "grid_row": null,
            "grid_template_areas": null,
            "grid_template_columns": null,
            "grid_template_rows": null,
            "height": null,
            "justify_content": null,
            "justify_items": null,
            "left": null,
            "margin": null,
            "max_height": null,
            "max_width": null,
            "min_height": null,
            "min_width": null,
            "object_fit": null,
            "object_position": null,
            "order": null,
            "overflow": null,
            "overflow_x": null,
            "overflow_y": null,
            "padding": null,
            "right": null,
            "top": null,
            "visibility": null,
            "width": null
          }
        },
        "b21d895a1ba04f1795993d6fd68f3996": {
          "model_module": "@jupyter-widgets/base",
          "model_name": "LayoutModel",
          "model_module_version": "1.2.0",
          "state": {
            "_model_module": "@jupyter-widgets/base",
            "_model_module_version": "1.2.0",
            "_model_name": "LayoutModel",
            "_view_count": null,
            "_view_module": "@jupyter-widgets/base",
            "_view_module_version": "1.2.0",
            "_view_name": "LayoutView",
            "align_content": null,
            "align_items": null,
            "align_self": null,
            "border": null,
            "bottom": null,
            "display": null,
            "flex": null,
            "flex_flow": null,
            "grid_area": null,
            "grid_auto_columns": null,
            "grid_auto_flow": null,
            "grid_auto_rows": null,
            "grid_column": null,
            "grid_gap": null,
            "grid_row": null,
            "grid_template_areas": null,
            "grid_template_columns": null,
            "grid_template_rows": null,
            "height": null,
            "justify_content": null,
            "justify_items": null,
            "left": null,
            "margin": null,
            "max_height": null,
            "max_width": null,
            "min_height": null,
            "min_width": null,
            "object_fit": null,
            "object_position": null,
            "order": null,
            "overflow": null,
            "overflow_x": null,
            "overflow_y": null,
            "padding": null,
            "right": null,
            "top": null,
            "visibility": null,
            "width": null
          }
        },
        "7ddd239456b04f79a6e4f07c3bdf7a86": {
          "model_module": "@jupyter-widgets/controls",
          "model_name": "DescriptionStyleModel",
          "model_module_version": "1.5.0",
          "state": {
            "_model_module": "@jupyter-widgets/controls",
            "_model_module_version": "1.5.0",
            "_model_name": "DescriptionStyleModel",
            "_view_count": null,
            "_view_module": "@jupyter-widgets/base",
            "_view_module_version": "1.2.0",
            "_view_name": "StyleView",
            "description_width": ""
          }
        },
        "b3194f4e21ff4ff6b17e1451e7c20bb4": {
          "model_module": "@jupyter-widgets/base",
          "model_name": "LayoutModel",
          "model_module_version": "1.2.0",
          "state": {
            "_model_module": "@jupyter-widgets/base",
            "_model_module_version": "1.2.0",
            "_model_name": "LayoutModel",
            "_view_count": null,
            "_view_module": "@jupyter-widgets/base",
            "_view_module_version": "1.2.0",
            "_view_name": "LayoutView",
            "align_content": null,
            "align_items": null,
            "align_self": null,
            "border": null,
            "bottom": null,
            "display": null,
            "flex": null,
            "flex_flow": null,
            "grid_area": null,
            "grid_auto_columns": null,
            "grid_auto_flow": null,
            "grid_auto_rows": null,
            "grid_column": null,
            "grid_gap": null,
            "grid_row": null,
            "grid_template_areas": null,
            "grid_template_columns": null,
            "grid_template_rows": null,
            "height": null,
            "justify_content": null,
            "justify_items": null,
            "left": null,
            "margin": null,
            "max_height": null,
            "max_width": null,
            "min_height": null,
            "min_width": null,
            "object_fit": null,
            "object_position": null,
            "order": null,
            "overflow": null,
            "overflow_x": null,
            "overflow_y": null,
            "padding": null,
            "right": null,
            "top": null,
            "visibility": null,
            "width": null
          }
        },
        "0a386f3d08c0453e85126ef0b677921b": {
          "model_module": "@jupyter-widgets/controls",
          "model_name": "ProgressStyleModel",
          "model_module_version": "1.5.0",
          "state": {
            "_model_module": "@jupyter-widgets/controls",
            "_model_module_version": "1.5.0",
            "_model_name": "ProgressStyleModel",
            "_view_count": null,
            "_view_module": "@jupyter-widgets/base",
            "_view_module_version": "1.2.0",
            "_view_name": "StyleView",
            "bar_color": null,
            "description_width": ""
          }
        },
        "aba1fac4b62e431eb9800dc6f79bb733": {
          "model_module": "@jupyter-widgets/controls",
          "model_name": "VBoxModel",
          "model_module_version": "1.5.0",
          "state": {
            "_dom_classes": [],
            "_model_module": "@jupyter-widgets/controls",
            "_model_module_version": "1.5.0",
            "_model_name": "VBoxModel",
            "_view_count": null,
            "_view_module": "@jupyter-widgets/controls",
            "_view_module_version": "1.5.0",
            "_view_name": "VBoxView",
            "box_style": "",
            "children": [
              "IPY_MODEL_1159a957bf7940e6aee7ecfa0103ef8d",
              "IPY_MODEL_2e64d8750049429cb206318859586e4f"
            ],
            "layout": "IPY_MODEL_1580911462a0416098d5f1547da2017f"
          }
        },
        "1159a957bf7940e6aee7ecfa0103ef8d": {
          "model_module": "@jupyter-widgets/controls",
          "model_name": "LabelModel",
          "model_module_version": "1.5.0",
          "state": {
            "_dom_classes": [],
            "_model_module": "@jupyter-widgets/controls",
            "_model_module_version": "1.5.0",
            "_model_name": "LabelModel",
            "_view_count": null,
            "_view_module": "@jupyter-widgets/controls",
            "_view_module_version": "1.5.0",
            "_view_name": "LabelView",
            "description": "",
            "description_tooltip": null,
            "layout": "IPY_MODEL_3aa5bc10abc546f7ab4943b242f62cd4",
            "placeholder": "​",
            "style": "IPY_MODEL_b1c91602f3124aa4916480533a6d4cb1",
            "value": "0.010 MB of 0.010 MB uploaded (0.000 MB deduped)\r"
          }
        },
        "2e64d8750049429cb206318859586e4f": {
          "model_module": "@jupyter-widgets/controls",
          "model_name": "FloatProgressModel",
          "model_module_version": "1.5.0",
          "state": {
            "_dom_classes": [],
            "_model_module": "@jupyter-widgets/controls",
            "_model_module_version": "1.5.0",
            "_model_name": "FloatProgressModel",
            "_view_count": null,
            "_view_module": "@jupyter-widgets/controls",
            "_view_module_version": "1.5.0",
            "_view_name": "ProgressView",
            "bar_style": "",
            "description": "",
            "description_tooltip": null,
            "layout": "IPY_MODEL_bcaf12307c5a4d3abcbdab43d6ecd113",
            "max": 1,
            "min": 0,
            "orientation": "horizontal",
            "style": "IPY_MODEL_27c428b45d0548199fe2564df2cc70f2",
            "value": 1
          }
        },
        "1580911462a0416098d5f1547da2017f": {
          "model_module": "@jupyter-widgets/base",
          "model_name": "LayoutModel",
          "model_module_version": "1.2.0",
          "state": {
            "_model_module": "@jupyter-widgets/base",
            "_model_module_version": "1.2.0",
            "_model_name": "LayoutModel",
            "_view_count": null,
            "_view_module": "@jupyter-widgets/base",
            "_view_module_version": "1.2.0",
            "_view_name": "LayoutView",
            "align_content": null,
            "align_items": null,
            "align_self": null,
            "border": null,
            "bottom": null,
            "display": null,
            "flex": null,
            "flex_flow": null,
            "grid_area": null,
            "grid_auto_columns": null,
            "grid_auto_flow": null,
            "grid_auto_rows": null,
            "grid_column": null,
            "grid_gap": null,
            "grid_row": null,
            "grid_template_areas": null,
            "grid_template_columns": null,
            "grid_template_rows": null,
            "height": null,
            "justify_content": null,
            "justify_items": null,
            "left": null,
            "margin": null,
            "max_height": null,
            "max_width": null,
            "min_height": null,
            "min_width": null,
            "object_fit": null,
            "object_position": null,
            "order": null,
            "overflow": null,
            "overflow_x": null,
            "overflow_y": null,
            "padding": null,
            "right": null,
            "top": null,
            "visibility": null,
            "width": null
          }
        },
        "3aa5bc10abc546f7ab4943b242f62cd4": {
          "model_module": "@jupyter-widgets/base",
          "model_name": "LayoutModel",
          "model_module_version": "1.2.0",
          "state": {
            "_model_module": "@jupyter-widgets/base",
            "_model_module_version": "1.2.0",
            "_model_name": "LayoutModel",
            "_view_count": null,
            "_view_module": "@jupyter-widgets/base",
            "_view_module_version": "1.2.0",
            "_view_name": "LayoutView",
            "align_content": null,
            "align_items": null,
            "align_self": null,
            "border": null,
            "bottom": null,
            "display": null,
            "flex": null,
            "flex_flow": null,
            "grid_area": null,
            "grid_auto_columns": null,
            "grid_auto_flow": null,
            "grid_auto_rows": null,
            "grid_column": null,
            "grid_gap": null,
            "grid_row": null,
            "grid_template_areas": null,
            "grid_template_columns": null,
            "grid_template_rows": null,
            "height": null,
            "justify_content": null,
            "justify_items": null,
            "left": null,
            "margin": null,
            "max_height": null,
            "max_width": null,
            "min_height": null,
            "min_width": null,
            "object_fit": null,
            "object_position": null,
            "order": null,
            "overflow": null,
            "overflow_x": null,
            "overflow_y": null,
            "padding": null,
            "right": null,
            "top": null,
            "visibility": null,
            "width": null
          }
        },
        "b1c91602f3124aa4916480533a6d4cb1": {
          "model_module": "@jupyter-widgets/controls",
          "model_name": "DescriptionStyleModel",
          "model_module_version": "1.5.0",
          "state": {
            "_model_module": "@jupyter-widgets/controls",
            "_model_module_version": "1.5.0",
            "_model_name": "DescriptionStyleModel",
            "_view_count": null,
            "_view_module": "@jupyter-widgets/base",
            "_view_module_version": "1.2.0",
            "_view_name": "StyleView",
            "description_width": ""
          }
        },
        "bcaf12307c5a4d3abcbdab43d6ecd113": {
          "model_module": "@jupyter-widgets/base",
          "model_name": "LayoutModel",
          "model_module_version": "1.2.0",
          "state": {
            "_model_module": "@jupyter-widgets/base",
            "_model_module_version": "1.2.0",
            "_model_name": "LayoutModel",
            "_view_count": null,
            "_view_module": "@jupyter-widgets/base",
            "_view_module_version": "1.2.0",
            "_view_name": "LayoutView",
            "align_content": null,
            "align_items": null,
            "align_self": null,
            "border": null,
            "bottom": null,
            "display": null,
            "flex": null,
            "flex_flow": null,
            "grid_area": null,
            "grid_auto_columns": null,
            "grid_auto_flow": null,
            "grid_auto_rows": null,
            "grid_column": null,
            "grid_gap": null,
            "grid_row": null,
            "grid_template_areas": null,
            "grid_template_columns": null,
            "grid_template_rows": null,
            "height": null,
            "justify_content": null,
            "justify_items": null,
            "left": null,
            "margin": null,
            "max_height": null,
            "max_width": null,
            "min_height": null,
            "min_width": null,
            "object_fit": null,
            "object_position": null,
            "order": null,
            "overflow": null,
            "overflow_x": null,
            "overflow_y": null,
            "padding": null,
            "right": null,
            "top": null,
            "visibility": null,
            "width": null
          }
        },
        "27c428b45d0548199fe2564df2cc70f2": {
          "model_module": "@jupyter-widgets/controls",
          "model_name": "ProgressStyleModel",
          "model_module_version": "1.5.0",
          "state": {
            "_model_module": "@jupyter-widgets/controls",
            "_model_module_version": "1.5.0",
            "_model_name": "ProgressStyleModel",
            "_view_count": null,
            "_view_module": "@jupyter-widgets/base",
            "_view_module_version": "1.2.0",
            "_view_name": "StyleView",
            "bar_color": null,
            "description_width": ""
          }
        },
        "3374872870be48f6885102a670f3d8ab": {
          "model_module": "@jupyter-widgets/controls",
          "model_name": "VBoxModel",
          "model_module_version": "1.5.0",
          "state": {
            "_dom_classes": [],
            "_model_module": "@jupyter-widgets/controls",
            "_model_module_version": "1.5.0",
            "_model_name": "VBoxModel",
            "_view_count": null,
            "_view_module": "@jupyter-widgets/controls",
            "_view_module_version": "1.5.0",
            "_view_name": "VBoxView",
            "box_style": "",
            "children": [
              "IPY_MODEL_423f7fc0425c432283f4a57124268db0",
              "IPY_MODEL_aa957981ef094dd7b9e978c1954a88a4"
            ],
            "layout": "IPY_MODEL_bedab2b0e9c6421f834d0aa221366d26"
          }
        },
        "423f7fc0425c432283f4a57124268db0": {
          "model_module": "@jupyter-widgets/controls",
          "model_name": "LabelModel",
          "model_module_version": "1.5.0",
          "state": {
            "_dom_classes": [],
            "_model_module": "@jupyter-widgets/controls",
            "_model_module_version": "1.5.0",
            "_model_name": "LabelModel",
            "_view_count": null,
            "_view_module": "@jupyter-widgets/controls",
            "_view_module_version": "1.5.0",
            "_view_name": "LabelView",
            "description": "",
            "description_tooltip": null,
            "layout": "IPY_MODEL_aafbf46e2c65475d8bae5e33a6e9215a",
            "placeholder": "​",
            "style": "IPY_MODEL_36e6643a112a4abba33a0253d99b1fad",
            "value": "0.001 MB of 0.010 MB uploaded (0.000 MB deduped)\r"
          }
        },
        "aa957981ef094dd7b9e978c1954a88a4": {
          "model_module": "@jupyter-widgets/controls",
          "model_name": "FloatProgressModel",
          "model_module_version": "1.5.0",
          "state": {
            "_dom_classes": [],
            "_model_module": "@jupyter-widgets/controls",
            "_model_module_version": "1.5.0",
            "_model_name": "FloatProgressModel",
            "_view_count": null,
            "_view_module": "@jupyter-widgets/controls",
            "_view_module_version": "1.5.0",
            "_view_name": "ProgressView",
            "bar_style": "",
            "description": "",
            "description_tooltip": null,
            "layout": "IPY_MODEL_86669810b2d944a7bbaf473efa5eb8bf",
            "max": 1,
            "min": 0,
            "orientation": "horizontal",
            "style": "IPY_MODEL_0c9794b0892b4eb2999ab544c6ac0020",
            "value": 0.13756507809371246
          }
        },
        "bedab2b0e9c6421f834d0aa221366d26": {
          "model_module": "@jupyter-widgets/base",
          "model_name": "LayoutModel",
          "model_module_version": "1.2.0",
          "state": {
            "_model_module": "@jupyter-widgets/base",
            "_model_module_version": "1.2.0",
            "_model_name": "LayoutModel",
            "_view_count": null,
            "_view_module": "@jupyter-widgets/base",
            "_view_module_version": "1.2.0",
            "_view_name": "LayoutView",
            "align_content": null,
            "align_items": null,
            "align_self": null,
            "border": null,
            "bottom": null,
            "display": null,
            "flex": null,
            "flex_flow": null,
            "grid_area": null,
            "grid_auto_columns": null,
            "grid_auto_flow": null,
            "grid_auto_rows": null,
            "grid_column": null,
            "grid_gap": null,
            "grid_row": null,
            "grid_template_areas": null,
            "grid_template_columns": null,
            "grid_template_rows": null,
            "height": null,
            "justify_content": null,
            "justify_items": null,
            "left": null,
            "margin": null,
            "max_height": null,
            "max_width": null,
            "min_height": null,
            "min_width": null,
            "object_fit": null,
            "object_position": null,
            "order": null,
            "overflow": null,
            "overflow_x": null,
            "overflow_y": null,
            "padding": null,
            "right": null,
            "top": null,
            "visibility": null,
            "width": null
          }
        },
        "aafbf46e2c65475d8bae5e33a6e9215a": {
          "model_module": "@jupyter-widgets/base",
          "model_name": "LayoutModel",
          "model_module_version": "1.2.0",
          "state": {
            "_model_module": "@jupyter-widgets/base",
            "_model_module_version": "1.2.0",
            "_model_name": "LayoutModel",
            "_view_count": null,
            "_view_module": "@jupyter-widgets/base",
            "_view_module_version": "1.2.0",
            "_view_name": "LayoutView",
            "align_content": null,
            "align_items": null,
            "align_self": null,
            "border": null,
            "bottom": null,
            "display": null,
            "flex": null,
            "flex_flow": null,
            "grid_area": null,
            "grid_auto_columns": null,
            "grid_auto_flow": null,
            "grid_auto_rows": null,
            "grid_column": null,
            "grid_gap": null,
            "grid_row": null,
            "grid_template_areas": null,
            "grid_template_columns": null,
            "grid_template_rows": null,
            "height": null,
            "justify_content": null,
            "justify_items": null,
            "left": null,
            "margin": null,
            "max_height": null,
            "max_width": null,
            "min_height": null,
            "min_width": null,
            "object_fit": null,
            "object_position": null,
            "order": null,
            "overflow": null,
            "overflow_x": null,
            "overflow_y": null,
            "padding": null,
            "right": null,
            "top": null,
            "visibility": null,
            "width": null
          }
        },
        "36e6643a112a4abba33a0253d99b1fad": {
          "model_module": "@jupyter-widgets/controls",
          "model_name": "DescriptionStyleModel",
          "model_module_version": "1.5.0",
          "state": {
            "_model_module": "@jupyter-widgets/controls",
            "_model_module_version": "1.5.0",
            "_model_name": "DescriptionStyleModel",
            "_view_count": null,
            "_view_module": "@jupyter-widgets/base",
            "_view_module_version": "1.2.0",
            "_view_name": "StyleView",
            "description_width": ""
          }
        },
        "86669810b2d944a7bbaf473efa5eb8bf": {
          "model_module": "@jupyter-widgets/base",
          "model_name": "LayoutModel",
          "model_module_version": "1.2.0",
          "state": {
            "_model_module": "@jupyter-widgets/base",
            "_model_module_version": "1.2.0",
            "_model_name": "LayoutModel",
            "_view_count": null,
            "_view_module": "@jupyter-widgets/base",
            "_view_module_version": "1.2.0",
            "_view_name": "LayoutView",
            "align_content": null,
            "align_items": null,
            "align_self": null,
            "border": null,
            "bottom": null,
            "display": null,
            "flex": null,
            "flex_flow": null,
            "grid_area": null,
            "grid_auto_columns": null,
            "grid_auto_flow": null,
            "grid_auto_rows": null,
            "grid_column": null,
            "grid_gap": null,
            "grid_row": null,
            "grid_template_areas": null,
            "grid_template_columns": null,
            "grid_template_rows": null,
            "height": null,
            "justify_content": null,
            "justify_items": null,
            "left": null,
            "margin": null,
            "max_height": null,
            "max_width": null,
            "min_height": null,
            "min_width": null,
            "object_fit": null,
            "object_position": null,
            "order": null,
            "overflow": null,
            "overflow_x": null,
            "overflow_y": null,
            "padding": null,
            "right": null,
            "top": null,
            "visibility": null,
            "width": null
          }
        },
        "0c9794b0892b4eb2999ab544c6ac0020": {
          "model_module": "@jupyter-widgets/controls",
          "model_name": "ProgressStyleModel",
          "model_module_version": "1.5.0",
          "state": {
            "_model_module": "@jupyter-widgets/controls",
            "_model_module_version": "1.5.0",
            "_model_name": "ProgressStyleModel",
            "_view_count": null,
            "_view_module": "@jupyter-widgets/base",
            "_view_module_version": "1.2.0",
            "_view_name": "StyleView",
            "bar_color": null,
            "description_width": ""
          }
        },
        "e50be14bec9c41b7adb18bde1d4973cd": {
          "model_module": "@jupyter-widgets/controls",
          "model_name": "VBoxModel",
          "model_module_version": "1.5.0",
          "state": {
            "_dom_classes": [],
            "_model_module": "@jupyter-widgets/controls",
            "_model_module_version": "1.5.0",
            "_model_name": "VBoxModel",
            "_view_count": null,
            "_view_module": "@jupyter-widgets/controls",
            "_view_module_version": "1.5.0",
            "_view_name": "VBoxView",
            "box_style": "",
            "children": [
              "IPY_MODEL_9efd2297f34f4f0db93bc8f05f1c9b0f",
              "IPY_MODEL_16712d977122478e8af27f603a32bd60"
            ],
            "layout": "IPY_MODEL_fe90e65142394e9abfe4246eb6b62682"
          }
        },
        "9efd2297f34f4f0db93bc8f05f1c9b0f": {
          "model_module": "@jupyter-widgets/controls",
          "model_name": "LabelModel",
          "model_module_version": "1.5.0",
          "state": {
            "_dom_classes": [],
            "_model_module": "@jupyter-widgets/controls",
            "_model_module_version": "1.5.0",
            "_model_name": "LabelModel",
            "_view_count": null,
            "_view_module": "@jupyter-widgets/controls",
            "_view_module_version": "1.5.0",
            "_view_name": "LabelView",
            "description": "",
            "description_tooltip": null,
            "layout": "IPY_MODEL_8af5c338f5ac4a1eb22abaafd0fa5641",
            "placeholder": "​",
            "style": "IPY_MODEL_c2f775505af847a48937e129e3c9f913",
            "value": "0.001 MB of 0.010 MB uploaded (0.000 MB deduped)\r"
          }
        },
        "16712d977122478e8af27f603a32bd60": {
          "model_module": "@jupyter-widgets/controls",
          "model_name": "FloatProgressModel",
          "model_module_version": "1.5.0",
          "state": {
            "_dom_classes": [],
            "_model_module": "@jupyter-widgets/controls",
            "_model_module_version": "1.5.0",
            "_model_name": "FloatProgressModel",
            "_view_count": null,
            "_view_module": "@jupyter-widgets/controls",
            "_view_module_version": "1.5.0",
            "_view_name": "ProgressView",
            "bar_style": "",
            "description": "",
            "description_tooltip": null,
            "layout": "IPY_MODEL_8225b852772247c4872cc50ce3dac63e",
            "max": 1,
            "min": 0,
            "orientation": "horizontal",
            "style": "IPY_MODEL_970da7a05c0c48af8c3c2a73cd5f6b98",
            "value": 0.13757885250826074
          }
        },
        "fe90e65142394e9abfe4246eb6b62682": {
          "model_module": "@jupyter-widgets/base",
          "model_name": "LayoutModel",
          "model_module_version": "1.2.0",
          "state": {
            "_model_module": "@jupyter-widgets/base",
            "_model_module_version": "1.2.0",
            "_model_name": "LayoutModel",
            "_view_count": null,
            "_view_module": "@jupyter-widgets/base",
            "_view_module_version": "1.2.0",
            "_view_name": "LayoutView",
            "align_content": null,
            "align_items": null,
            "align_self": null,
            "border": null,
            "bottom": null,
            "display": null,
            "flex": null,
            "flex_flow": null,
            "grid_area": null,
            "grid_auto_columns": null,
            "grid_auto_flow": null,
            "grid_auto_rows": null,
            "grid_column": null,
            "grid_gap": null,
            "grid_row": null,
            "grid_template_areas": null,
            "grid_template_columns": null,
            "grid_template_rows": null,
            "height": null,
            "justify_content": null,
            "justify_items": null,
            "left": null,
            "margin": null,
            "max_height": null,
            "max_width": null,
            "min_height": null,
            "min_width": null,
            "object_fit": null,
            "object_position": null,
            "order": null,
            "overflow": null,
            "overflow_x": null,
            "overflow_y": null,
            "padding": null,
            "right": null,
            "top": null,
            "visibility": null,
            "width": null
          }
        },
        "8af5c338f5ac4a1eb22abaafd0fa5641": {
          "model_module": "@jupyter-widgets/base",
          "model_name": "LayoutModel",
          "model_module_version": "1.2.0",
          "state": {
            "_model_module": "@jupyter-widgets/base",
            "_model_module_version": "1.2.0",
            "_model_name": "LayoutModel",
            "_view_count": null,
            "_view_module": "@jupyter-widgets/base",
            "_view_module_version": "1.2.0",
            "_view_name": "LayoutView",
            "align_content": null,
            "align_items": null,
            "align_self": null,
            "border": null,
            "bottom": null,
            "display": null,
            "flex": null,
            "flex_flow": null,
            "grid_area": null,
            "grid_auto_columns": null,
            "grid_auto_flow": null,
            "grid_auto_rows": null,
            "grid_column": null,
            "grid_gap": null,
            "grid_row": null,
            "grid_template_areas": null,
            "grid_template_columns": null,
            "grid_template_rows": null,
            "height": null,
            "justify_content": null,
            "justify_items": null,
            "left": null,
            "margin": null,
            "max_height": null,
            "max_width": null,
            "min_height": null,
            "min_width": null,
            "object_fit": null,
            "object_position": null,
            "order": null,
            "overflow": null,
            "overflow_x": null,
            "overflow_y": null,
            "padding": null,
            "right": null,
            "top": null,
            "visibility": null,
            "width": null
          }
        },
        "c2f775505af847a48937e129e3c9f913": {
          "model_module": "@jupyter-widgets/controls",
          "model_name": "DescriptionStyleModel",
          "model_module_version": "1.5.0",
          "state": {
            "_model_module": "@jupyter-widgets/controls",
            "_model_module_version": "1.5.0",
            "_model_name": "DescriptionStyleModel",
            "_view_count": null,
            "_view_module": "@jupyter-widgets/base",
            "_view_module_version": "1.2.0",
            "_view_name": "StyleView",
            "description_width": ""
          }
        },
        "8225b852772247c4872cc50ce3dac63e": {
          "model_module": "@jupyter-widgets/base",
          "model_name": "LayoutModel",
          "model_module_version": "1.2.0",
          "state": {
            "_model_module": "@jupyter-widgets/base",
            "_model_module_version": "1.2.0",
            "_model_name": "LayoutModel",
            "_view_count": null,
            "_view_module": "@jupyter-widgets/base",
            "_view_module_version": "1.2.0",
            "_view_name": "LayoutView",
            "align_content": null,
            "align_items": null,
            "align_self": null,
            "border": null,
            "bottom": null,
            "display": null,
            "flex": null,
            "flex_flow": null,
            "grid_area": null,
            "grid_auto_columns": null,
            "grid_auto_flow": null,
            "grid_auto_rows": null,
            "grid_column": null,
            "grid_gap": null,
            "grid_row": null,
            "grid_template_areas": null,
            "grid_template_columns": null,
            "grid_template_rows": null,
            "height": null,
            "justify_content": null,
            "justify_items": null,
            "left": null,
            "margin": null,
            "max_height": null,
            "max_width": null,
            "min_height": null,
            "min_width": null,
            "object_fit": null,
            "object_position": null,
            "order": null,
            "overflow": null,
            "overflow_x": null,
            "overflow_y": null,
            "padding": null,
            "right": null,
            "top": null,
            "visibility": null,
            "width": null
          }
        },
        "970da7a05c0c48af8c3c2a73cd5f6b98": {
          "model_module": "@jupyter-widgets/controls",
          "model_name": "ProgressStyleModel",
          "model_module_version": "1.5.0",
          "state": {
            "_model_module": "@jupyter-widgets/controls",
            "_model_module_version": "1.5.0",
            "_model_name": "ProgressStyleModel",
            "_view_count": null,
            "_view_module": "@jupyter-widgets/base",
            "_view_module_version": "1.2.0",
            "_view_name": "StyleView",
            "bar_color": null,
            "description_width": ""
          }
        },
        "1eead5e4af4b4cd0b62414b76a181f6c": {
          "model_module": "@jupyter-widgets/controls",
          "model_name": "VBoxModel",
          "model_module_version": "1.5.0",
          "state": {
            "_dom_classes": [],
            "_model_module": "@jupyter-widgets/controls",
            "_model_module_version": "1.5.0",
            "_model_name": "VBoxModel",
            "_view_count": null,
            "_view_module": "@jupyter-widgets/controls",
            "_view_module_version": "1.5.0",
            "_view_name": "VBoxView",
            "box_style": "",
            "children": [
              "IPY_MODEL_3019368d5a7c41bba0d8e77e686206b7",
              "IPY_MODEL_00cd15fae73c4ccdbd15250288623bf5"
            ],
            "layout": "IPY_MODEL_bd781f20162d4ae299f78a861fddadcd"
          }
        },
        "3019368d5a7c41bba0d8e77e686206b7": {
          "model_module": "@jupyter-widgets/controls",
          "model_name": "LabelModel",
          "model_module_version": "1.5.0",
          "state": {
            "_dom_classes": [],
            "_model_module": "@jupyter-widgets/controls",
            "_model_module_version": "1.5.0",
            "_model_name": "LabelModel",
            "_view_count": null,
            "_view_module": "@jupyter-widgets/controls",
            "_view_module_version": "1.5.0",
            "_view_name": "LabelView",
            "description": "",
            "description_tooltip": null,
            "layout": "IPY_MODEL_7d89ad63b57c4571a4117721f8dfb686",
            "placeholder": "​",
            "style": "IPY_MODEL_5986bee52b4647f3b8d9c4c5a88d22ad",
            "value": "0.010 MB of 0.010 MB uploaded (0.000 MB deduped)\r"
          }
        },
        "00cd15fae73c4ccdbd15250288623bf5": {
          "model_module": "@jupyter-widgets/controls",
          "model_name": "FloatProgressModel",
          "model_module_version": "1.5.0",
          "state": {
            "_dom_classes": [],
            "_model_module": "@jupyter-widgets/controls",
            "_model_module_version": "1.5.0",
            "_model_name": "FloatProgressModel",
            "_view_count": null,
            "_view_module": "@jupyter-widgets/controls",
            "_view_module_version": "1.5.0",
            "_view_name": "ProgressView",
            "bar_style": "",
            "description": "",
            "description_tooltip": null,
            "layout": "IPY_MODEL_0b3eea59ffa84f8a880474700900215e",
            "max": 1,
            "min": 0,
            "orientation": "horizontal",
            "style": "IPY_MODEL_491aa793de6a4df2bd22d6bf368dd241",
            "value": 1
          }
        },
        "bd781f20162d4ae299f78a861fddadcd": {
          "model_module": "@jupyter-widgets/base",
          "model_name": "LayoutModel",
          "model_module_version": "1.2.0",
          "state": {
            "_model_module": "@jupyter-widgets/base",
            "_model_module_version": "1.2.0",
            "_model_name": "LayoutModel",
            "_view_count": null,
            "_view_module": "@jupyter-widgets/base",
            "_view_module_version": "1.2.0",
            "_view_name": "LayoutView",
            "align_content": null,
            "align_items": null,
            "align_self": null,
            "border": null,
            "bottom": null,
            "display": null,
            "flex": null,
            "flex_flow": null,
            "grid_area": null,
            "grid_auto_columns": null,
            "grid_auto_flow": null,
            "grid_auto_rows": null,
            "grid_column": null,
            "grid_gap": null,
            "grid_row": null,
            "grid_template_areas": null,
            "grid_template_columns": null,
            "grid_template_rows": null,
            "height": null,
            "justify_content": null,
            "justify_items": null,
            "left": null,
            "margin": null,
            "max_height": null,
            "max_width": null,
            "min_height": null,
            "min_width": null,
            "object_fit": null,
            "object_position": null,
            "order": null,
            "overflow": null,
            "overflow_x": null,
            "overflow_y": null,
            "padding": null,
            "right": null,
            "top": null,
            "visibility": null,
            "width": null
          }
        },
        "7d89ad63b57c4571a4117721f8dfb686": {
          "model_module": "@jupyter-widgets/base",
          "model_name": "LayoutModel",
          "model_module_version": "1.2.0",
          "state": {
            "_model_module": "@jupyter-widgets/base",
            "_model_module_version": "1.2.0",
            "_model_name": "LayoutModel",
            "_view_count": null,
            "_view_module": "@jupyter-widgets/base",
            "_view_module_version": "1.2.0",
            "_view_name": "LayoutView",
            "align_content": null,
            "align_items": null,
            "align_self": null,
            "border": null,
            "bottom": null,
            "display": null,
            "flex": null,
            "flex_flow": null,
            "grid_area": null,
            "grid_auto_columns": null,
            "grid_auto_flow": null,
            "grid_auto_rows": null,
            "grid_column": null,
            "grid_gap": null,
            "grid_row": null,
            "grid_template_areas": null,
            "grid_template_columns": null,
            "grid_template_rows": null,
            "height": null,
            "justify_content": null,
            "justify_items": null,
            "left": null,
            "margin": null,
            "max_height": null,
            "max_width": null,
            "min_height": null,
            "min_width": null,
            "object_fit": null,
            "object_position": null,
            "order": null,
            "overflow": null,
            "overflow_x": null,
            "overflow_y": null,
            "padding": null,
            "right": null,
            "top": null,
            "visibility": null,
            "width": null
          }
        },
        "5986bee52b4647f3b8d9c4c5a88d22ad": {
          "model_module": "@jupyter-widgets/controls",
          "model_name": "DescriptionStyleModel",
          "model_module_version": "1.5.0",
          "state": {
            "_model_module": "@jupyter-widgets/controls",
            "_model_module_version": "1.5.0",
            "_model_name": "DescriptionStyleModel",
            "_view_count": null,
            "_view_module": "@jupyter-widgets/base",
            "_view_module_version": "1.2.0",
            "_view_name": "StyleView",
            "description_width": ""
          }
        },
        "0b3eea59ffa84f8a880474700900215e": {
          "model_module": "@jupyter-widgets/base",
          "model_name": "LayoutModel",
          "model_module_version": "1.2.0",
          "state": {
            "_model_module": "@jupyter-widgets/base",
            "_model_module_version": "1.2.0",
            "_model_name": "LayoutModel",
            "_view_count": null,
            "_view_module": "@jupyter-widgets/base",
            "_view_module_version": "1.2.0",
            "_view_name": "LayoutView",
            "align_content": null,
            "align_items": null,
            "align_self": null,
            "border": null,
            "bottom": null,
            "display": null,
            "flex": null,
            "flex_flow": null,
            "grid_area": null,
            "grid_auto_columns": null,
            "grid_auto_flow": null,
            "grid_auto_rows": null,
            "grid_column": null,
            "grid_gap": null,
            "grid_row": null,
            "grid_template_areas": null,
            "grid_template_columns": null,
            "grid_template_rows": null,
            "height": null,
            "justify_content": null,
            "justify_items": null,
            "left": null,
            "margin": null,
            "max_height": null,
            "max_width": null,
            "min_height": null,
            "min_width": null,
            "object_fit": null,
            "object_position": null,
            "order": null,
            "overflow": null,
            "overflow_x": null,
            "overflow_y": null,
            "padding": null,
            "right": null,
            "top": null,
            "visibility": null,
            "width": null
          }
        },
        "491aa793de6a4df2bd22d6bf368dd241": {
          "model_module": "@jupyter-widgets/controls",
          "model_name": "ProgressStyleModel",
          "model_module_version": "1.5.0",
          "state": {
            "_model_module": "@jupyter-widgets/controls",
            "_model_module_version": "1.5.0",
            "_model_name": "ProgressStyleModel",
            "_view_count": null,
            "_view_module": "@jupyter-widgets/base",
            "_view_module_version": "1.2.0",
            "_view_name": "StyleView",
            "bar_color": null,
            "description_width": ""
          }
        },
        "6bd72a45fe73449bb4578d3f2c86a043": {
          "model_module": "@jupyter-widgets/controls",
          "model_name": "VBoxModel",
          "model_module_version": "1.5.0",
          "state": {
            "_dom_classes": [],
            "_model_module": "@jupyter-widgets/controls",
            "_model_module_version": "1.5.0",
            "_model_name": "VBoxModel",
            "_view_count": null,
            "_view_module": "@jupyter-widgets/controls",
            "_view_module_version": "1.5.0",
            "_view_name": "VBoxView",
            "box_style": "",
            "children": [
              "IPY_MODEL_08c003ed50c84c5a96e49037c33303cc",
              "IPY_MODEL_b5ef4e9a831f44d6bab3205f90b02787"
            ],
            "layout": "IPY_MODEL_8a17cb03c7474171956fa07e955bb22e"
          }
        },
        "08c003ed50c84c5a96e49037c33303cc": {
          "model_module": "@jupyter-widgets/controls",
          "model_name": "LabelModel",
          "model_module_version": "1.5.0",
          "state": {
            "_dom_classes": [],
            "_model_module": "@jupyter-widgets/controls",
            "_model_module_version": "1.5.0",
            "_model_name": "LabelModel",
            "_view_count": null,
            "_view_module": "@jupyter-widgets/controls",
            "_view_module_version": "1.5.0",
            "_view_name": "LabelView",
            "description": "",
            "description_tooltip": null,
            "layout": "IPY_MODEL_5619ca29467540df9321396d488e3275",
            "placeholder": "​",
            "style": "IPY_MODEL_624564b59c1c4d44b23397ab578d1416",
            "value": "0.001 MB of 0.010 MB uploaded (0.000 MB deduped)\r"
          }
        },
        "b5ef4e9a831f44d6bab3205f90b02787": {
          "model_module": "@jupyter-widgets/controls",
          "model_name": "FloatProgressModel",
          "model_module_version": "1.5.0",
          "state": {
            "_dom_classes": [],
            "_model_module": "@jupyter-widgets/controls",
            "_model_module_version": "1.5.0",
            "_model_name": "FloatProgressModel",
            "_view_count": null,
            "_view_module": "@jupyter-widgets/controls",
            "_view_module_version": "1.5.0",
            "_view_name": "ProgressView",
            "bar_style": "",
            "description": "",
            "description_tooltip": null,
            "layout": "IPY_MODEL_8b08b638cc514cdba094b2c5ccabe18f",
            "max": 1,
            "min": 0,
            "orientation": "horizontal",
            "style": "IPY_MODEL_642f9b86c9744639a5a5dbd84ecf4a47",
            "value": 0.13764776597876177
          }
        },
        "8a17cb03c7474171956fa07e955bb22e": {
          "model_module": "@jupyter-widgets/base",
          "model_name": "LayoutModel",
          "model_module_version": "1.2.0",
          "state": {
            "_model_module": "@jupyter-widgets/base",
            "_model_module_version": "1.2.0",
            "_model_name": "LayoutModel",
            "_view_count": null,
            "_view_module": "@jupyter-widgets/base",
            "_view_module_version": "1.2.0",
            "_view_name": "LayoutView",
            "align_content": null,
            "align_items": null,
            "align_self": null,
            "border": null,
            "bottom": null,
            "display": null,
            "flex": null,
            "flex_flow": null,
            "grid_area": null,
            "grid_auto_columns": null,
            "grid_auto_flow": null,
            "grid_auto_rows": null,
            "grid_column": null,
            "grid_gap": null,
            "grid_row": null,
            "grid_template_areas": null,
            "grid_template_columns": null,
            "grid_template_rows": null,
            "height": null,
            "justify_content": null,
            "justify_items": null,
            "left": null,
            "margin": null,
            "max_height": null,
            "max_width": null,
            "min_height": null,
            "min_width": null,
            "object_fit": null,
            "object_position": null,
            "order": null,
            "overflow": null,
            "overflow_x": null,
            "overflow_y": null,
            "padding": null,
            "right": null,
            "top": null,
            "visibility": null,
            "width": null
          }
        },
        "5619ca29467540df9321396d488e3275": {
          "model_module": "@jupyter-widgets/base",
          "model_name": "LayoutModel",
          "model_module_version": "1.2.0",
          "state": {
            "_model_module": "@jupyter-widgets/base",
            "_model_module_version": "1.2.0",
            "_model_name": "LayoutModel",
            "_view_count": null,
            "_view_module": "@jupyter-widgets/base",
            "_view_module_version": "1.2.0",
            "_view_name": "LayoutView",
            "align_content": null,
            "align_items": null,
            "align_self": null,
            "border": null,
            "bottom": null,
            "display": null,
            "flex": null,
            "flex_flow": null,
            "grid_area": null,
            "grid_auto_columns": null,
            "grid_auto_flow": null,
            "grid_auto_rows": null,
            "grid_column": null,
            "grid_gap": null,
            "grid_row": null,
            "grid_template_areas": null,
            "grid_template_columns": null,
            "grid_template_rows": null,
            "height": null,
            "justify_content": null,
            "justify_items": null,
            "left": null,
            "margin": null,
            "max_height": null,
            "max_width": null,
            "min_height": null,
            "min_width": null,
            "object_fit": null,
            "object_position": null,
            "order": null,
            "overflow": null,
            "overflow_x": null,
            "overflow_y": null,
            "padding": null,
            "right": null,
            "top": null,
            "visibility": null,
            "width": null
          }
        },
        "624564b59c1c4d44b23397ab578d1416": {
          "model_module": "@jupyter-widgets/controls",
          "model_name": "DescriptionStyleModel",
          "model_module_version": "1.5.0",
          "state": {
            "_model_module": "@jupyter-widgets/controls",
            "_model_module_version": "1.5.0",
            "_model_name": "DescriptionStyleModel",
            "_view_count": null,
            "_view_module": "@jupyter-widgets/base",
            "_view_module_version": "1.2.0",
            "_view_name": "StyleView",
            "description_width": ""
          }
        },
        "8b08b638cc514cdba094b2c5ccabe18f": {
          "model_module": "@jupyter-widgets/base",
          "model_name": "LayoutModel",
          "model_module_version": "1.2.0",
          "state": {
            "_model_module": "@jupyter-widgets/base",
            "_model_module_version": "1.2.0",
            "_model_name": "LayoutModel",
            "_view_count": null,
            "_view_module": "@jupyter-widgets/base",
            "_view_module_version": "1.2.0",
            "_view_name": "LayoutView",
            "align_content": null,
            "align_items": null,
            "align_self": null,
            "border": null,
            "bottom": null,
            "display": null,
            "flex": null,
            "flex_flow": null,
            "grid_area": null,
            "grid_auto_columns": null,
            "grid_auto_flow": null,
            "grid_auto_rows": null,
            "grid_column": null,
            "grid_gap": null,
            "grid_row": null,
            "grid_template_areas": null,
            "grid_template_columns": null,
            "grid_template_rows": null,
            "height": null,
            "justify_content": null,
            "justify_items": null,
            "left": null,
            "margin": null,
            "max_height": null,
            "max_width": null,
            "min_height": null,
            "min_width": null,
            "object_fit": null,
            "object_position": null,
            "order": null,
            "overflow": null,
            "overflow_x": null,
            "overflow_y": null,
            "padding": null,
            "right": null,
            "top": null,
            "visibility": null,
            "width": null
          }
        },
        "642f9b86c9744639a5a5dbd84ecf4a47": {
          "model_module": "@jupyter-widgets/controls",
          "model_name": "ProgressStyleModel",
          "model_module_version": "1.5.0",
          "state": {
            "_model_module": "@jupyter-widgets/controls",
            "_model_module_version": "1.5.0",
            "_model_name": "ProgressStyleModel",
            "_view_count": null,
            "_view_module": "@jupyter-widgets/base",
            "_view_module_version": "1.2.0",
            "_view_name": "StyleView",
            "bar_color": null,
            "description_width": ""
          }
        },
        "bd1ba4f507d34bb8b9f02e0b45d62dcc": {
          "model_module": "@jupyter-widgets/controls",
          "model_name": "VBoxModel",
          "model_module_version": "1.5.0",
          "state": {
            "_dom_classes": [],
            "_model_module": "@jupyter-widgets/controls",
            "_model_module_version": "1.5.0",
            "_model_name": "VBoxModel",
            "_view_count": null,
            "_view_module": "@jupyter-widgets/controls",
            "_view_module_version": "1.5.0",
            "_view_name": "VBoxView",
            "box_style": "",
            "children": [
              "IPY_MODEL_dd811ef11f494b6291e203752ba264e6",
              "IPY_MODEL_53a4bacf377846a3b1abf71edd3ca22d"
            ],
            "layout": "IPY_MODEL_2aefdc450f1b4ed28cef317b4b1507e0"
          }
        },
        "dd811ef11f494b6291e203752ba264e6": {
          "model_module": "@jupyter-widgets/controls",
          "model_name": "LabelModel",
          "model_module_version": "1.5.0",
          "state": {
            "_dom_classes": [],
            "_model_module": "@jupyter-widgets/controls",
            "_model_module_version": "1.5.0",
            "_model_name": "LabelModel",
            "_view_count": null,
            "_view_module": "@jupyter-widgets/controls",
            "_view_module_version": "1.5.0",
            "_view_name": "LabelView",
            "description": "",
            "description_tooltip": null,
            "layout": "IPY_MODEL_ff506679d6be464386a9ccc0b272c327",
            "placeholder": "​",
            "style": "IPY_MODEL_349f70cddffc4bd198599ff0347906b9",
            "value": "0.001 MB of 0.010 MB uploaded (0.000 MB deduped)\r"
          }
        },
        "53a4bacf377846a3b1abf71edd3ca22d": {
          "model_module": "@jupyter-widgets/controls",
          "model_name": "FloatProgressModel",
          "model_module_version": "1.5.0",
          "state": {
            "_dom_classes": [],
            "_model_module": "@jupyter-widgets/controls",
            "_model_module_version": "1.5.0",
            "_model_name": "FloatProgressModel",
            "_view_count": null,
            "_view_module": "@jupyter-widgets/controls",
            "_view_module_version": "1.5.0",
            "_view_name": "ProgressView",
            "bar_style": "",
            "description": "",
            "description_tooltip": null,
            "layout": "IPY_MODEL_07740ef7a09e405aae1aae1d889f77fe",
            "max": 1,
            "min": 0,
            "orientation": "horizontal",
            "style": "IPY_MODEL_db8f741d09d1472db6a8d93e3f64115a",
            "value": 0.13757885250826074
          }
        },
        "2aefdc450f1b4ed28cef317b4b1507e0": {
          "model_module": "@jupyter-widgets/base",
          "model_name": "LayoutModel",
          "model_module_version": "1.2.0",
          "state": {
            "_model_module": "@jupyter-widgets/base",
            "_model_module_version": "1.2.0",
            "_model_name": "LayoutModel",
            "_view_count": null,
            "_view_module": "@jupyter-widgets/base",
            "_view_module_version": "1.2.0",
            "_view_name": "LayoutView",
            "align_content": null,
            "align_items": null,
            "align_self": null,
            "border": null,
            "bottom": null,
            "display": null,
            "flex": null,
            "flex_flow": null,
            "grid_area": null,
            "grid_auto_columns": null,
            "grid_auto_flow": null,
            "grid_auto_rows": null,
            "grid_column": null,
            "grid_gap": null,
            "grid_row": null,
            "grid_template_areas": null,
            "grid_template_columns": null,
            "grid_template_rows": null,
            "height": null,
            "justify_content": null,
            "justify_items": null,
            "left": null,
            "margin": null,
            "max_height": null,
            "max_width": null,
            "min_height": null,
            "min_width": null,
            "object_fit": null,
            "object_position": null,
            "order": null,
            "overflow": null,
            "overflow_x": null,
            "overflow_y": null,
            "padding": null,
            "right": null,
            "top": null,
            "visibility": null,
            "width": null
          }
        },
        "ff506679d6be464386a9ccc0b272c327": {
          "model_module": "@jupyter-widgets/base",
          "model_name": "LayoutModel",
          "model_module_version": "1.2.0",
          "state": {
            "_model_module": "@jupyter-widgets/base",
            "_model_module_version": "1.2.0",
            "_model_name": "LayoutModel",
            "_view_count": null,
            "_view_module": "@jupyter-widgets/base",
            "_view_module_version": "1.2.0",
            "_view_name": "LayoutView",
            "align_content": null,
            "align_items": null,
            "align_self": null,
            "border": null,
            "bottom": null,
            "display": null,
            "flex": null,
            "flex_flow": null,
            "grid_area": null,
            "grid_auto_columns": null,
            "grid_auto_flow": null,
            "grid_auto_rows": null,
            "grid_column": null,
            "grid_gap": null,
            "grid_row": null,
            "grid_template_areas": null,
            "grid_template_columns": null,
            "grid_template_rows": null,
            "height": null,
            "justify_content": null,
            "justify_items": null,
            "left": null,
            "margin": null,
            "max_height": null,
            "max_width": null,
            "min_height": null,
            "min_width": null,
            "object_fit": null,
            "object_position": null,
            "order": null,
            "overflow": null,
            "overflow_x": null,
            "overflow_y": null,
            "padding": null,
            "right": null,
            "top": null,
            "visibility": null,
            "width": null
          }
        },
        "349f70cddffc4bd198599ff0347906b9": {
          "model_module": "@jupyter-widgets/controls",
          "model_name": "DescriptionStyleModel",
          "model_module_version": "1.5.0",
          "state": {
            "_model_module": "@jupyter-widgets/controls",
            "_model_module_version": "1.5.0",
            "_model_name": "DescriptionStyleModel",
            "_view_count": null,
            "_view_module": "@jupyter-widgets/base",
            "_view_module_version": "1.2.0",
            "_view_name": "StyleView",
            "description_width": ""
          }
        },
        "07740ef7a09e405aae1aae1d889f77fe": {
          "model_module": "@jupyter-widgets/base",
          "model_name": "LayoutModel",
          "model_module_version": "1.2.0",
          "state": {
            "_model_module": "@jupyter-widgets/base",
            "_model_module_version": "1.2.0",
            "_model_name": "LayoutModel",
            "_view_count": null,
            "_view_module": "@jupyter-widgets/base",
            "_view_module_version": "1.2.0",
            "_view_name": "LayoutView",
            "align_content": null,
            "align_items": null,
            "align_self": null,
            "border": null,
            "bottom": null,
            "display": null,
            "flex": null,
            "flex_flow": null,
            "grid_area": null,
            "grid_auto_columns": null,
            "grid_auto_flow": null,
            "grid_auto_rows": null,
            "grid_column": null,
            "grid_gap": null,
            "grid_row": null,
            "grid_template_areas": null,
            "grid_template_columns": null,
            "grid_template_rows": null,
            "height": null,
            "justify_content": null,
            "justify_items": null,
            "left": null,
            "margin": null,
            "max_height": null,
            "max_width": null,
            "min_height": null,
            "min_width": null,
            "object_fit": null,
            "object_position": null,
            "order": null,
            "overflow": null,
            "overflow_x": null,
            "overflow_y": null,
            "padding": null,
            "right": null,
            "top": null,
            "visibility": null,
            "width": null
          }
        },
        "db8f741d09d1472db6a8d93e3f64115a": {
          "model_module": "@jupyter-widgets/controls",
          "model_name": "ProgressStyleModel",
          "model_module_version": "1.5.0",
          "state": {
            "_model_module": "@jupyter-widgets/controls",
            "_model_module_version": "1.5.0",
            "_model_name": "ProgressStyleModel",
            "_view_count": null,
            "_view_module": "@jupyter-widgets/base",
            "_view_module_version": "1.2.0",
            "_view_name": "StyleView",
            "bar_color": null,
            "description_width": ""
          }
        }
      }
    }
  },
  "nbformat": 4,
  "nbformat_minor": 0
}