{
  "cells": [
    {
      "cell_type": "markdown",
      "metadata": {
        "id": "nt1b-GRLOwR7"
      },
      "source": [
        "## **Prepare Dataset**"
      ]
    },
    {
      "cell_type": "markdown",
      "metadata": {
        "id": "EtUf1RuVxGbc"
      },
      "source": [
        "### Download Dataset"
      ]
    },
    {
      "cell_type": "code",
      "execution_count": null,
      "metadata": {
        "id": "NTEwOiIfP3MS"
      },
      "outputs": [],
      "source": [
        "! pip install -q kaggle"
      ]
    },
    {
      "cell_type": "code",
      "execution_count": null,
      "metadata": {
        "colab": {
          "base_uri": "https://localhost:8080/",
          "height": 86
        },
        "id": "QG4fc60D2huS",
        "outputId": "7878a7ce-dd7d-4c8b-d13c-78ddc1a28b2e"
      },
      "outputs": [
        {
          "output_type": "display_data",
          "data": {
            "text/plain": [
              "<IPython.core.display.HTML object>"
            ],
            "text/html": [
              "\n",
              "     <input type=\"file\" id=\"files-3e43cfde-70fb-405f-a7b6-4492f9147ef2\" name=\"files[]\" multiple disabled\n",
              "        style=\"border:none\" />\n",
              "     <output id=\"result-3e43cfde-70fb-405f-a7b6-4492f9147ef2\">\n",
              "      Upload widget is only available when the cell has been executed in the\n",
              "      current browser session. Please rerun this cell to enable.\n",
              "      </output>\n",
              "      <script>// Copyright 2017 Google LLC\n",
              "//\n",
              "// Licensed under the Apache License, Version 2.0 (the \"License\");\n",
              "// you may not use this file except in compliance with the License.\n",
              "// You may obtain a copy of the License at\n",
              "//\n",
              "//      http://www.apache.org/licenses/LICENSE-2.0\n",
              "//\n",
              "// Unless required by applicable law or agreed to in writing, software\n",
              "// distributed under the License is distributed on an \"AS IS\" BASIS,\n",
              "// WITHOUT WARRANTIES OR CONDITIONS OF ANY KIND, either express or implied.\n",
              "// See the License for the specific language governing permissions and\n",
              "// limitations under the License.\n",
              "\n",
              "/**\n",
              " * @fileoverview Helpers for google.colab Python module.\n",
              " */\n",
              "(function(scope) {\n",
              "function span(text, styleAttributes = {}) {\n",
              "  const element = document.createElement('span');\n",
              "  element.textContent = text;\n",
              "  for (const key of Object.keys(styleAttributes)) {\n",
              "    element.style[key] = styleAttributes[key];\n",
              "  }\n",
              "  return element;\n",
              "}\n",
              "\n",
              "// Max number of bytes which will be uploaded at a time.\n",
              "const MAX_PAYLOAD_SIZE = 100 * 1024;\n",
              "\n",
              "function _uploadFiles(inputId, outputId) {\n",
              "  const steps = uploadFilesStep(inputId, outputId);\n",
              "  const outputElement = document.getElementById(outputId);\n",
              "  // Cache steps on the outputElement to make it available for the next call\n",
              "  // to uploadFilesContinue from Python.\n",
              "  outputElement.steps = steps;\n",
              "\n",
              "  return _uploadFilesContinue(outputId);\n",
              "}\n",
              "\n",
              "// This is roughly an async generator (not supported in the browser yet),\n",
              "// where there are multiple asynchronous steps and the Python side is going\n",
              "// to poll for completion of each step.\n",
              "// This uses a Promise to block the python side on completion of each step,\n",
              "// then passes the result of the previous step as the input to the next step.\n",
              "function _uploadFilesContinue(outputId) {\n",
              "  const outputElement = document.getElementById(outputId);\n",
              "  const steps = outputElement.steps;\n",
              "\n",
              "  const next = steps.next(outputElement.lastPromiseValue);\n",
              "  return Promise.resolve(next.value.promise).then((value) => {\n",
              "    // Cache the last promise value to make it available to the next\n",
              "    // step of the generator.\n",
              "    outputElement.lastPromiseValue = value;\n",
              "    return next.value.response;\n",
              "  });\n",
              "}\n",
              "\n",
              "/**\n",
              " * Generator function which is called between each async step of the upload\n",
              " * process.\n",
              " * @param {string} inputId Element ID of the input file picker element.\n",
              " * @param {string} outputId Element ID of the output display.\n",
              " * @return {!Iterable<!Object>} Iterable of next steps.\n",
              " */\n",
              "function* uploadFilesStep(inputId, outputId) {\n",
              "  const inputElement = document.getElementById(inputId);\n",
              "  inputElement.disabled = false;\n",
              "\n",
              "  const outputElement = document.getElementById(outputId);\n",
              "  outputElement.innerHTML = '';\n",
              "\n",
              "  const pickedPromise = new Promise((resolve) => {\n",
              "    inputElement.addEventListener('change', (e) => {\n",
              "      resolve(e.target.files);\n",
              "    });\n",
              "  });\n",
              "\n",
              "  const cancel = document.createElement('button');\n",
              "  inputElement.parentElement.appendChild(cancel);\n",
              "  cancel.textContent = 'Cancel upload';\n",
              "  const cancelPromise = new Promise((resolve) => {\n",
              "    cancel.onclick = () => {\n",
              "      resolve(null);\n",
              "    };\n",
              "  });\n",
              "\n",
              "  // Wait for the user to pick the files.\n",
              "  const files = yield {\n",
              "    promise: Promise.race([pickedPromise, cancelPromise]),\n",
              "    response: {\n",
              "      action: 'starting',\n",
              "    }\n",
              "  };\n",
              "\n",
              "  cancel.remove();\n",
              "\n",
              "  // Disable the input element since further picks are not allowed.\n",
              "  inputElement.disabled = true;\n",
              "\n",
              "  if (!files) {\n",
              "    return {\n",
              "      response: {\n",
              "        action: 'complete',\n",
              "      }\n",
              "    };\n",
              "  }\n",
              "\n",
              "  for (const file of files) {\n",
              "    const li = document.createElement('li');\n",
              "    li.append(span(file.name, {fontWeight: 'bold'}));\n",
              "    li.append(span(\n",
              "        `(${file.type || 'n/a'}) - ${file.size} bytes, ` +\n",
              "        `last modified: ${\n",
              "            file.lastModifiedDate ? file.lastModifiedDate.toLocaleDateString() :\n",
              "                                    'n/a'} - `));\n",
              "    const percent = span('0% done');\n",
              "    li.appendChild(percent);\n",
              "\n",
              "    outputElement.appendChild(li);\n",
              "\n",
              "    const fileDataPromise = new Promise((resolve) => {\n",
              "      const reader = new FileReader();\n",
              "      reader.onload = (e) => {\n",
              "        resolve(e.target.result);\n",
              "      };\n",
              "      reader.readAsArrayBuffer(file);\n",
              "    });\n",
              "    // Wait for the data to be ready.\n",
              "    let fileData = yield {\n",
              "      promise: fileDataPromise,\n",
              "      response: {\n",
              "        action: 'continue',\n",
              "      }\n",
              "    };\n",
              "\n",
              "    // Use a chunked sending to avoid message size limits. See b/62115660.\n",
              "    let position = 0;\n",
              "    do {\n",
              "      const length = Math.min(fileData.byteLength - position, MAX_PAYLOAD_SIZE);\n",
              "      const chunk = new Uint8Array(fileData, position, length);\n",
              "      position += length;\n",
              "\n",
              "      const base64 = btoa(String.fromCharCode.apply(null, chunk));\n",
              "      yield {\n",
              "        response: {\n",
              "          action: 'append',\n",
              "          file: file.name,\n",
              "          data: base64,\n",
              "        },\n",
              "      };\n",
              "\n",
              "      let percentDone = fileData.byteLength === 0 ?\n",
              "          100 :\n",
              "          Math.round((position / fileData.byteLength) * 100);\n",
              "      percent.textContent = `${percentDone}% done`;\n",
              "\n",
              "    } while (position < fileData.byteLength);\n",
              "  }\n",
              "\n",
              "  // All done.\n",
              "  yield {\n",
              "    response: {\n",
              "      action: 'complete',\n",
              "    }\n",
              "  };\n",
              "}\n",
              "\n",
              "scope.google = scope.google || {};\n",
              "scope.google.colab = scope.google.colab || {};\n",
              "scope.google.colab._files = {\n",
              "  _uploadFiles,\n",
              "  _uploadFilesContinue,\n",
              "};\n",
              "})(self);\n",
              "</script> "
            ]
          },
          "metadata": {}
        },
        {
          "output_type": "stream",
          "name": "stdout",
          "text": [
            "Saving kaggle.json to kaggle.json\n"
          ]
        },
        {
          "output_type": "execute_result",
          "data": {
            "text/plain": [
              "{'kaggle.json': b'{\"username\":\"s00hyun00\",\"key\":\"521460db8cc76b0d510d56c9bd51eb71\"}'}"
            ]
          },
          "metadata": {},
          "execution_count": 2
        }
      ],
      "source": [
        "from google.colab import files\n",
        "\n",
        "files.upload()"
      ]
    },
    {
      "cell_type": "code",
      "execution_count": null,
      "metadata": {
        "id": "Ekx5emZ02hr0"
      },
      "outputs": [],
      "source": [
        "! mkdir ~/.kaggle\n",
        "\n",
        "! cp kaggle.json ~/.kaggle/"
      ]
    },
    {
      "cell_type": "code",
      "execution_count": null,
      "metadata": {
        "id": "-hIqM1AM2hoy"
      },
      "outputs": [],
      "source": [
        "! chmod 600 ~/.kaggle/kaggle.json"
      ]
    },
    {
      "cell_type": "code",
      "execution_count": null,
      "metadata": {
        "colab": {
          "base_uri": "https://localhost:8080/"
        },
        "id": "NwzdlPez2hlA",
        "outputId": "ac5df902-146a-4d72-b909-ec1666eded4d"
      },
      "outputs": [
        {
          "output_type": "stream",
          "name": "stdout",
          "text": [
            "ref                                                     title                                               size  lastUpdated          downloadCount  voteCount  usabilityRating  \n",
            "------------------------------------------------------  -------------------------------------------------  -----  -------------------  -------------  ---------  ---------------  \n",
            "uciml/german-credit                                     German Credit Risk                                  11KB  2016-12-14 21:25:02          41710        373  0.8235294        \n",
            "meowmeowmeowmeowmeow/gtsrb-german-traffic-sign          GTSRB - German Traffic Sign Recognition Benchmark  612MB  2018-11-25 18:12:34          83303        968  0.8235294        \n",
            "sterby/german-recipes-dataset                           German Recipes Dataset                               5MB  2019-03-06 16:25:22           4004         66  1.0              \n",
            "mpwolke/cusersmarildownloadsgermancsv                   Creditability - German Credit Data                  13KB  2021-03-12 19:01:40           1202         48  1.0              \n",
            "abhishek/10k-german-news-articles                       10k German News Articles                           123MB  2019-11-07 08:50:32            986        101  0.8235294        \n",
            "corrieaar/apartment-rental-offers-in-germany            Apartment rental offers in Germany                  93MB  2020-04-20 10:29:50           5562        117  1.0              \n",
            "headsortails/covid19-tracking-germany                   COVID-19 Tracking Germany                           14MB  2023-02-07 19:27:10           7783        196  0.7647059        \n",
            "ander289386/cars-germany                                Germany Cars Dataset                               498KB  2021-06-09 16:14:27           2878         37  1.0              \n",
            "kabure/german-credit-data-with-risk                     German Credit Risk - With Target                    11KB  2018-01-09 15:09:46          11759         87  0.5294118        \n",
            "dhruvildave/german-football-scores                      German Football Scores                               4MB  2020-11-28 18:50:09            395         19  1.0              \n",
            "jorgesandoval/wind-power-generation                     Wind Power Generation Data                         245KB  2021-01-07 18:45:08           4012        114  1.0              \n",
            "jenslaufer/german-election-2017                         German Federal Elections 2017                        7MB  2017-09-30 13:02:14            850         26  0.7058824        \n",
            "kaushal2896/english-to-german                           English To German                                    8MB  2020-11-14 08:13:57            403         10  0.625            \n",
            "rtatman/3-million-german-sentences                      3 Million German Sentences                         140MB  2017-08-16 00:03:59           1813         53  0.8235294        \n",
            "mreverybody/covid19-data-germany-robert-koch-institute  COVID19 data Germany / Deutschland (RKI)            32MB  2022-02-10 06:01:53            348         17  0.9411765        \n",
            "danilzyryanov/crime-in-berlin-2012-2019                 Crime in Berlin, Germany, 2012 - 2019               36KB  2020-04-24 16:54:37           1132         35  1.0              \n",
            "tblock/10kgnad                                          Ten Thousand German News Articles Dataset           20MB  2023-05-02 01:59:08            853         35  0.8235294        \n",
            "rtatman/german-sentiment-analysis-toolkit               German Sentiment Analysis Toolkit                   84KB  2017-08-15 22:54:27           1856         56  0.8125           \n",
            "marcelotc/german-credit-risk                            german_credit_risk_dataset                          13KB  2019-06-25 02:28:41            660          8  0.9411765        \n",
            "mvianna10/germany-electricity-power-for-20062017        Germany electricity power for 2006-2017             66KB  2019-08-10 18:59:19           1502         17  1.0              \n"
          ]
        }
      ],
      "source": [
        "! kaggle datasets list -s german"
      ]
    },
    {
      "cell_type": "code",
      "execution_count": null,
      "metadata": {
        "colab": {
          "base_uri": "https://localhost:8080/"
        },
        "id": "Zj_JBisA2hbt",
        "outputId": "c6b85206-7cf9-4b92-945c-3e2c114c6875"
      },
      "outputs": [
        {
          "output_type": "stream",
          "name": "stdout",
          "text": [
            "Downloading gtsrb-german-traffic-sign.zip to /content\n",
            " 98% 602M/612M [00:03<00:00, 226MB/s]\n",
            "100% 612M/612M [00:03<00:00, 183MB/s]\n"
          ]
        }
      ],
      "source": [
        "! kaggle datasets download -d meowmeowmeowmeowmeow/gtsrb-german-traffic-sign"
      ]
    },
    {
      "cell_type": "code",
      "execution_count": null,
      "metadata": {
        "colab": {
          "base_uri": "https://localhost:8080/"
        },
        "id": "t7OGrZSmMCa0",
        "outputId": "591227cf-2e35-49ae-c078-47b255a848b6"
      },
      "outputs": [
        {
          "output_type": "stream",
          "name": "stdout",
          "text": [
            "\u001b[1;30;43mStreaming output truncated to the last 5000 lines.\u001b[0m\n",
            "  inflating: train/5/00005_00053_00010.png  \n",
            "  inflating: train/5/00005_00053_00011.png  \n",
            "  inflating: train/5/00005_00053_00012.png  \n",
            "  inflating: train/5/00005_00053_00013.png  \n",
            "  inflating: train/5/00005_00053_00014.png  \n",
            "  inflating: train/5/00005_00053_00015.png  \n",
            "  inflating: train/5/00005_00053_00016.png  \n",
            "  inflating: train/5/00005_00053_00017.png  \n",
            "  inflating: train/5/00005_00053_00018.png  \n",
            "  inflating: train/5/00005_00053_00019.png  \n",
            "  inflating: train/5/00005_00053_00020.png  \n",
            "  inflating: train/5/00005_00053_00021.png  \n",
            "  inflating: train/5/00005_00053_00022.png  \n",
            "  inflating: train/5/00005_00053_00023.png  \n",
            "  inflating: train/5/00005_00053_00024.png  \n",
            "  inflating: train/5/00005_00053_00025.png  \n",
            "  inflating: train/5/00005_00053_00026.png  \n",
            "  inflating: train/5/00005_00053_00027.png  \n",
            "  inflating: train/5/00005_00053_00028.png  \n",
            "  inflating: train/5/00005_00053_00029.png  \n",
            "  inflating: train/5/00005_00054_00000.png  \n",
            "  inflating: train/5/00005_00054_00001.png  \n",
            "  inflating: train/5/00005_00054_00002.png  \n",
            "  inflating: train/5/00005_00054_00003.png  \n",
            "  inflating: train/5/00005_00054_00004.png  \n",
            "  inflating: train/5/00005_00054_00005.png  \n",
            "  inflating: train/5/00005_00054_00006.png  \n",
            "  inflating: train/5/00005_00054_00007.png  \n",
            "  inflating: train/5/00005_00054_00008.png  \n",
            "  inflating: train/5/00005_00054_00009.png  \n",
            "  inflating: train/5/00005_00054_00010.png  \n",
            "  inflating: train/5/00005_00054_00011.png  \n",
            "  inflating: train/5/00005_00054_00012.png  \n",
            "  inflating: train/5/00005_00054_00013.png  \n",
            "  inflating: train/5/00005_00054_00014.png  \n",
            "  inflating: train/5/00005_00054_00015.png  \n",
            "  inflating: train/5/00005_00054_00016.png  \n",
            "  inflating: train/5/00005_00054_00017.png  \n",
            "  inflating: train/5/00005_00054_00018.png  \n",
            "  inflating: train/5/00005_00054_00019.png  \n",
            "  inflating: train/5/00005_00054_00020.png  \n",
            "  inflating: train/5/00005_00054_00021.png  \n",
            "  inflating: train/5/00005_00054_00022.png  \n",
            "  inflating: train/5/00005_00054_00023.png  \n",
            "  inflating: train/5/00005_00054_00024.png  \n",
            "  inflating: train/5/00005_00054_00025.png  \n",
            "  inflating: train/5/00005_00054_00026.png  \n",
            "  inflating: train/5/00005_00054_00027.png  \n",
            "  inflating: train/5/00005_00054_00028.png  \n",
            "  inflating: train/5/00005_00054_00029.png  \n",
            "  inflating: train/5/00005_00055_00000.png  \n",
            "  inflating: train/5/00005_00055_00001.png  \n",
            "  inflating: train/5/00005_00055_00002.png  \n",
            "  inflating: train/5/00005_00055_00003.png  \n",
            "  inflating: train/5/00005_00055_00004.png  \n",
            "  inflating: train/5/00005_00055_00005.png  \n",
            "  inflating: train/5/00005_00055_00006.png  \n",
            "  inflating: train/5/00005_00055_00007.png  \n",
            "  inflating: train/5/00005_00055_00008.png  \n",
            "  inflating: train/5/00005_00055_00009.png  \n",
            "  inflating: train/5/00005_00055_00010.png  \n",
            "  inflating: train/5/00005_00055_00011.png  \n",
            "  inflating: train/5/00005_00055_00012.png  \n",
            "  inflating: train/5/00005_00055_00013.png  \n",
            "  inflating: train/5/00005_00055_00014.png  \n",
            "  inflating: train/5/00005_00055_00015.png  \n",
            "  inflating: train/5/00005_00055_00016.png  \n",
            "  inflating: train/5/00005_00055_00017.png  \n",
            "  inflating: train/5/00005_00055_00018.png  \n",
            "  inflating: train/5/00005_00055_00019.png  \n",
            "  inflating: train/5/00005_00055_00020.png  \n",
            "  inflating: train/5/00005_00055_00021.png  \n",
            "  inflating: train/5/00005_00055_00022.png  \n",
            "  inflating: train/5/00005_00055_00023.png  \n",
            "  inflating: train/5/00005_00055_00024.png  \n",
            "  inflating: train/5/00005_00055_00025.png  \n",
            "  inflating: train/5/00005_00055_00026.png  \n",
            "  inflating: train/5/00005_00055_00027.png  \n",
            "  inflating: train/5/00005_00055_00028.png  \n",
            "  inflating: train/5/00005_00055_00029.png  \n",
            "  inflating: train/5/00005_00056_00000.png  \n",
            "  inflating: train/5/00005_00056_00001.png  \n",
            "  inflating: train/5/00005_00056_00002.png  \n",
            "  inflating: train/5/00005_00056_00003.png  \n",
            "  inflating: train/5/00005_00056_00004.png  \n",
            "  inflating: train/5/00005_00056_00005.png  \n",
            "  inflating: train/5/00005_00056_00006.png  \n",
            "  inflating: train/5/00005_00056_00007.png  \n",
            "  inflating: train/5/00005_00056_00008.png  \n",
            "  inflating: train/5/00005_00056_00009.png  \n",
            "  inflating: train/5/00005_00056_00010.png  \n",
            "  inflating: train/5/00005_00056_00011.png  \n",
            "  inflating: train/5/00005_00056_00012.png  \n",
            "  inflating: train/5/00005_00056_00013.png  \n",
            "  inflating: train/5/00005_00056_00014.png  \n",
            "  inflating: train/5/00005_00056_00015.png  \n",
            "  inflating: train/5/00005_00056_00016.png  \n",
            "  inflating: train/5/00005_00056_00017.png  \n",
            "  inflating: train/5/00005_00056_00018.png  \n",
            "  inflating: train/5/00005_00056_00019.png  \n",
            "  inflating: train/5/00005_00056_00020.png  \n",
            "  inflating: train/5/00005_00056_00021.png  \n",
            "  inflating: train/5/00005_00056_00022.png  \n",
            "  inflating: train/5/00005_00056_00023.png  \n",
            "  inflating: train/5/00005_00056_00024.png  \n",
            "  inflating: train/5/00005_00056_00025.png  \n",
            "  inflating: train/5/00005_00056_00026.png  \n",
            "  inflating: train/5/00005_00056_00027.png  \n",
            "  inflating: train/5/00005_00056_00028.png  \n",
            "  inflating: train/5/00005_00056_00029.png  \n",
            "  inflating: train/5/00005_00057_00000.png  \n",
            "  inflating: train/5/00005_00057_00001.png  \n",
            "  inflating: train/5/00005_00057_00002.png  \n",
            "  inflating: train/5/00005_00057_00003.png  \n",
            "  inflating: train/5/00005_00057_00004.png  \n",
            "  inflating: train/5/00005_00057_00005.png  \n",
            "  inflating: train/5/00005_00057_00006.png  \n",
            "  inflating: train/5/00005_00057_00007.png  \n",
            "  inflating: train/5/00005_00057_00008.png  \n",
            "  inflating: train/5/00005_00057_00009.png  \n",
            "  inflating: train/5/00005_00057_00010.png  \n",
            "  inflating: train/5/00005_00057_00011.png  \n",
            "  inflating: train/5/00005_00057_00012.png  \n",
            "  inflating: train/5/00005_00057_00013.png  \n",
            "  inflating: train/5/00005_00057_00014.png  \n",
            "  inflating: train/5/00005_00057_00015.png  \n",
            "  inflating: train/5/00005_00057_00016.png  \n",
            "  inflating: train/5/00005_00057_00017.png  \n",
            "  inflating: train/5/00005_00057_00018.png  \n",
            "  inflating: train/5/00005_00057_00019.png  \n",
            "  inflating: train/5/00005_00057_00020.png  \n",
            "  inflating: train/5/00005_00057_00021.png  \n",
            "  inflating: train/5/00005_00057_00022.png  \n",
            "  inflating: train/5/00005_00057_00023.png  \n",
            "  inflating: train/5/00005_00057_00024.png  \n",
            "  inflating: train/5/00005_00057_00025.png  \n",
            "  inflating: train/5/00005_00057_00026.png  \n",
            "  inflating: train/5/00005_00057_00027.png  \n",
            "  inflating: train/5/00005_00057_00028.png  \n",
            "  inflating: train/5/00005_00057_00029.png  \n",
            "  inflating: train/5/00005_00058_00000.png  \n",
            "  inflating: train/5/00005_00058_00001.png  \n",
            "  inflating: train/5/00005_00058_00002.png  \n",
            "  inflating: train/5/00005_00058_00003.png  \n",
            "  inflating: train/5/00005_00058_00004.png  \n",
            "  inflating: train/5/00005_00058_00005.png  \n",
            "  inflating: train/5/00005_00058_00006.png  \n",
            "  inflating: train/5/00005_00058_00007.png  \n",
            "  inflating: train/5/00005_00058_00008.png  \n",
            "  inflating: train/5/00005_00058_00009.png  \n",
            "  inflating: train/5/00005_00058_00010.png  \n",
            "  inflating: train/5/00005_00058_00011.png  \n",
            "  inflating: train/5/00005_00058_00012.png  \n",
            "  inflating: train/5/00005_00058_00013.png  \n",
            "  inflating: train/5/00005_00058_00014.png  \n",
            "  inflating: train/5/00005_00058_00015.png  \n",
            "  inflating: train/5/00005_00058_00016.png  \n",
            "  inflating: train/5/00005_00058_00017.png  \n",
            "  inflating: train/5/00005_00058_00018.png  \n",
            "  inflating: train/5/00005_00058_00019.png  \n",
            "  inflating: train/5/00005_00058_00020.png  \n",
            "  inflating: train/5/00005_00058_00021.png  \n",
            "  inflating: train/5/00005_00058_00022.png  \n",
            "  inflating: train/5/00005_00058_00023.png  \n",
            "  inflating: train/5/00005_00058_00024.png  \n",
            "  inflating: train/5/00005_00058_00025.png  \n",
            "  inflating: train/5/00005_00058_00026.png  \n",
            "  inflating: train/5/00005_00058_00027.png  \n",
            "  inflating: train/5/00005_00058_00028.png  \n",
            "  inflating: train/5/00005_00058_00029.png  \n",
            "  inflating: train/5/00005_00059_00000.png  \n",
            "  inflating: train/5/00005_00059_00001.png  \n",
            "  inflating: train/5/00005_00059_00002.png  \n",
            "  inflating: train/5/00005_00059_00003.png  \n",
            "  inflating: train/5/00005_00059_00004.png  \n",
            "  inflating: train/5/00005_00059_00005.png  \n",
            "  inflating: train/5/00005_00059_00006.png  \n",
            "  inflating: train/5/00005_00059_00007.png  \n",
            "  inflating: train/5/00005_00059_00008.png  \n",
            "  inflating: train/5/00005_00059_00009.png  \n",
            "  inflating: train/5/00005_00059_00010.png  \n",
            "  inflating: train/5/00005_00059_00011.png  \n",
            "  inflating: train/5/00005_00059_00012.png  \n",
            "  inflating: train/5/00005_00059_00013.png  \n",
            "  inflating: train/5/00005_00059_00014.png  \n",
            "  inflating: train/5/00005_00059_00015.png  \n",
            "  inflating: train/5/00005_00059_00016.png  \n",
            "  inflating: train/5/00005_00059_00017.png  \n",
            "  inflating: train/5/00005_00059_00018.png  \n",
            "  inflating: train/5/00005_00059_00019.png  \n",
            "  inflating: train/5/00005_00059_00020.png  \n",
            "  inflating: train/5/00005_00059_00021.png  \n",
            "  inflating: train/5/00005_00059_00022.png  \n",
            "  inflating: train/5/00005_00059_00023.png  \n",
            "  inflating: train/5/00005_00059_00024.png  \n",
            "  inflating: train/5/00005_00059_00025.png  \n",
            "  inflating: train/5/00005_00059_00026.png  \n",
            "  inflating: train/5/00005_00059_00027.png  \n",
            "  inflating: train/5/00005_00059_00028.png  \n",
            "  inflating: train/5/00005_00059_00029.png  \n",
            "  inflating: train/5/00005_00060_00000.png  \n",
            "  inflating: train/5/00005_00060_00001.png  \n",
            "  inflating: train/5/00005_00060_00002.png  \n",
            "  inflating: train/5/00005_00060_00003.png  \n",
            "  inflating: train/5/00005_00060_00004.png  \n",
            "  inflating: train/5/00005_00060_00005.png  \n",
            "  inflating: train/5/00005_00060_00006.png  \n",
            "  inflating: train/5/00005_00060_00007.png  \n",
            "  inflating: train/5/00005_00060_00008.png  \n",
            "  inflating: train/5/00005_00060_00009.png  \n",
            "  inflating: train/5/00005_00060_00010.png  \n",
            "  inflating: train/5/00005_00060_00011.png  \n",
            "  inflating: train/5/00005_00060_00012.png  \n",
            "  inflating: train/5/00005_00060_00013.png  \n",
            "  inflating: train/5/00005_00060_00014.png  \n",
            "  inflating: train/5/00005_00060_00015.png  \n",
            "  inflating: train/5/00005_00060_00016.png  \n",
            "  inflating: train/5/00005_00060_00017.png  \n",
            "  inflating: train/5/00005_00060_00018.png  \n",
            "  inflating: train/5/00005_00060_00019.png  \n",
            "  inflating: train/5/00005_00060_00020.png  \n",
            "  inflating: train/5/00005_00060_00021.png  \n",
            "  inflating: train/5/00005_00060_00022.png  \n",
            "  inflating: train/5/00005_00060_00023.png  \n",
            "  inflating: train/5/00005_00060_00024.png  \n",
            "  inflating: train/5/00005_00060_00025.png  \n",
            "  inflating: train/5/00005_00060_00026.png  \n",
            "  inflating: train/5/00005_00060_00027.png  \n",
            "  inflating: train/5/00005_00060_00028.png  \n",
            "  inflating: train/5/00005_00060_00029.png  \n",
            "  inflating: train/5/00005_00061_00000.png  \n",
            "  inflating: train/5/00005_00061_00001.png  \n",
            "  inflating: train/5/00005_00061_00002.png  \n",
            "  inflating: train/5/00005_00061_00003.png  \n",
            "  inflating: train/5/00005_00061_00004.png  \n",
            "  inflating: train/5/00005_00061_00005.png  \n",
            "  inflating: train/5/00005_00061_00006.png  \n",
            "  inflating: train/5/00005_00061_00007.png  \n",
            "  inflating: train/5/00005_00061_00008.png  \n",
            "  inflating: train/5/00005_00061_00009.png  \n",
            "  inflating: train/5/00005_00061_00010.png  \n",
            "  inflating: train/5/00005_00061_00011.png  \n",
            "  inflating: train/5/00005_00061_00012.png  \n",
            "  inflating: train/5/00005_00061_00013.png  \n",
            "  inflating: train/5/00005_00061_00014.png  \n",
            "  inflating: train/5/00005_00061_00015.png  \n",
            "  inflating: train/5/00005_00061_00016.png  \n",
            "  inflating: train/5/00005_00061_00017.png  \n",
            "  inflating: train/5/00005_00061_00018.png  \n",
            "  inflating: train/5/00005_00061_00019.png  \n",
            "  inflating: train/5/00005_00061_00020.png  \n",
            "  inflating: train/5/00005_00061_00021.png  \n",
            "  inflating: train/5/00005_00061_00022.png  \n",
            "  inflating: train/5/00005_00061_00023.png  \n",
            "  inflating: train/5/00005_00061_00024.png  \n",
            "  inflating: train/5/00005_00061_00025.png  \n",
            "  inflating: train/5/00005_00061_00026.png  \n",
            "  inflating: train/5/00005_00061_00027.png  \n",
            "  inflating: train/5/00005_00061_00028.png  \n",
            "  inflating: train/5/00005_00061_00029.png  \n",
            "  inflating: train/6/00006_00000_00000.png  \n",
            "  inflating: train/6/00006_00000_00001.png  \n",
            "  inflating: train/6/00006_00000_00002.png  \n",
            "  inflating: train/6/00006_00000_00003.png  \n",
            "  inflating: train/6/00006_00000_00004.png  \n",
            "  inflating: train/6/00006_00000_00005.png  \n",
            "  inflating: train/6/00006_00000_00006.png  \n",
            "  inflating: train/6/00006_00000_00007.png  \n",
            "  inflating: train/6/00006_00000_00008.png  \n",
            "  inflating: train/6/00006_00000_00009.png  \n",
            "  inflating: train/6/00006_00000_00010.png  \n",
            "  inflating: train/6/00006_00000_00011.png  \n",
            "  inflating: train/6/00006_00000_00012.png  \n",
            "  inflating: train/6/00006_00000_00013.png  \n",
            "  inflating: train/6/00006_00000_00014.png  \n",
            "  inflating: train/6/00006_00000_00015.png  \n",
            "  inflating: train/6/00006_00000_00016.png  \n",
            "  inflating: train/6/00006_00000_00017.png  \n",
            "  inflating: train/6/00006_00000_00018.png  \n",
            "  inflating: train/6/00006_00000_00019.png  \n",
            "  inflating: train/6/00006_00000_00020.png  \n",
            "  inflating: train/6/00006_00000_00021.png  \n",
            "  inflating: train/6/00006_00000_00022.png  \n",
            "  inflating: train/6/00006_00000_00023.png  \n",
            "  inflating: train/6/00006_00000_00024.png  \n",
            "  inflating: train/6/00006_00000_00025.png  \n",
            "  inflating: train/6/00006_00000_00026.png  \n",
            "  inflating: train/6/00006_00000_00027.png  \n",
            "  inflating: train/6/00006_00000_00028.png  \n",
            "  inflating: train/6/00006_00000_00029.png  \n",
            "  inflating: train/6/00006_00001_00000.png  \n",
            "  inflating: train/6/00006_00001_00001.png  \n",
            "  inflating: train/6/00006_00001_00002.png  \n",
            "  inflating: train/6/00006_00001_00003.png  \n",
            "  inflating: train/6/00006_00001_00004.png  \n",
            "  inflating: train/6/00006_00001_00005.png  \n",
            "  inflating: train/6/00006_00001_00006.png  \n",
            "  inflating: train/6/00006_00001_00007.png  \n",
            "  inflating: train/6/00006_00001_00008.png  \n",
            "  inflating: train/6/00006_00001_00009.png  \n",
            "  inflating: train/6/00006_00001_00010.png  \n",
            "  inflating: train/6/00006_00001_00011.png  \n",
            "  inflating: train/6/00006_00001_00012.png  \n",
            "  inflating: train/6/00006_00001_00013.png  \n",
            "  inflating: train/6/00006_00001_00014.png  \n",
            "  inflating: train/6/00006_00001_00015.png  \n",
            "  inflating: train/6/00006_00001_00016.png  \n",
            "  inflating: train/6/00006_00001_00017.png  \n",
            "  inflating: train/6/00006_00001_00018.png  \n",
            "  inflating: train/6/00006_00001_00019.png  \n",
            "  inflating: train/6/00006_00001_00020.png  \n",
            "  inflating: train/6/00006_00001_00021.png  \n",
            "  inflating: train/6/00006_00001_00022.png  \n",
            "  inflating: train/6/00006_00001_00023.png  \n",
            "  inflating: train/6/00006_00001_00024.png  \n",
            "  inflating: train/6/00006_00001_00025.png  \n",
            "  inflating: train/6/00006_00001_00026.png  \n",
            "  inflating: train/6/00006_00001_00027.png  \n",
            "  inflating: train/6/00006_00001_00028.png  \n",
            "  inflating: train/6/00006_00001_00029.png  \n",
            "  inflating: train/6/00006_00002_00000.png  \n",
            "  inflating: train/6/00006_00002_00001.png  \n",
            "  inflating: train/6/00006_00002_00002.png  \n",
            "  inflating: train/6/00006_00002_00003.png  \n",
            "  inflating: train/6/00006_00002_00004.png  \n",
            "  inflating: train/6/00006_00002_00005.png  \n",
            "  inflating: train/6/00006_00002_00006.png  \n",
            "  inflating: train/6/00006_00002_00007.png  \n",
            "  inflating: train/6/00006_00002_00008.png  \n",
            "  inflating: train/6/00006_00002_00009.png  \n",
            "  inflating: train/6/00006_00002_00010.png  \n",
            "  inflating: train/6/00006_00002_00011.png  \n",
            "  inflating: train/6/00006_00002_00012.png  \n",
            "  inflating: train/6/00006_00002_00013.png  \n",
            "  inflating: train/6/00006_00002_00014.png  \n",
            "  inflating: train/6/00006_00002_00015.png  \n",
            "  inflating: train/6/00006_00002_00016.png  \n",
            "  inflating: train/6/00006_00002_00017.png  \n",
            "  inflating: train/6/00006_00002_00018.png  \n",
            "  inflating: train/6/00006_00002_00019.png  \n",
            "  inflating: train/6/00006_00002_00020.png  \n",
            "  inflating: train/6/00006_00002_00021.png  \n",
            "  inflating: train/6/00006_00002_00022.png  \n",
            "  inflating: train/6/00006_00002_00023.png  \n",
            "  inflating: train/6/00006_00002_00024.png  \n",
            "  inflating: train/6/00006_00002_00025.png  \n",
            "  inflating: train/6/00006_00002_00026.png  \n",
            "  inflating: train/6/00006_00002_00027.png  \n",
            "  inflating: train/6/00006_00002_00028.png  \n",
            "  inflating: train/6/00006_00002_00029.png  \n",
            "  inflating: train/6/00006_00003_00000.png  \n",
            "  inflating: train/6/00006_00003_00001.png  \n",
            "  inflating: train/6/00006_00003_00002.png  \n",
            "  inflating: train/6/00006_00003_00003.png  \n",
            "  inflating: train/6/00006_00003_00004.png  \n",
            "  inflating: train/6/00006_00003_00005.png  \n",
            "  inflating: train/6/00006_00003_00006.png  \n",
            "  inflating: train/6/00006_00003_00007.png  \n",
            "  inflating: train/6/00006_00003_00008.png  \n",
            "  inflating: train/6/00006_00003_00009.png  \n",
            "  inflating: train/6/00006_00003_00010.png  \n",
            "  inflating: train/6/00006_00003_00011.png  \n",
            "  inflating: train/6/00006_00003_00012.png  \n",
            "  inflating: train/6/00006_00003_00013.png  \n",
            "  inflating: train/6/00006_00003_00014.png  \n",
            "  inflating: train/6/00006_00003_00015.png  \n",
            "  inflating: train/6/00006_00003_00016.png  \n",
            "  inflating: train/6/00006_00003_00017.png  \n",
            "  inflating: train/6/00006_00003_00018.png  \n",
            "  inflating: train/6/00006_00003_00019.png  \n",
            "  inflating: train/6/00006_00003_00020.png  \n",
            "  inflating: train/6/00006_00003_00021.png  \n",
            "  inflating: train/6/00006_00003_00022.png  \n",
            "  inflating: train/6/00006_00003_00023.png  \n",
            "  inflating: train/6/00006_00003_00024.png  \n",
            "  inflating: train/6/00006_00003_00025.png  \n",
            "  inflating: train/6/00006_00003_00026.png  \n",
            "  inflating: train/6/00006_00003_00027.png  \n",
            "  inflating: train/6/00006_00003_00028.png  \n",
            "  inflating: train/6/00006_00003_00029.png  \n",
            "  inflating: train/6/00006_00004_00000.png  \n",
            "  inflating: train/6/00006_00004_00001.png  \n",
            "  inflating: train/6/00006_00004_00002.png  \n",
            "  inflating: train/6/00006_00004_00003.png  \n",
            "  inflating: train/6/00006_00004_00004.png  \n",
            "  inflating: train/6/00006_00004_00005.png  \n",
            "  inflating: train/6/00006_00004_00006.png  \n",
            "  inflating: train/6/00006_00004_00007.png  \n",
            "  inflating: train/6/00006_00004_00008.png  \n",
            "  inflating: train/6/00006_00004_00009.png  \n",
            "  inflating: train/6/00006_00004_00010.png  \n",
            "  inflating: train/6/00006_00004_00011.png  \n",
            "  inflating: train/6/00006_00004_00012.png  \n",
            "  inflating: train/6/00006_00004_00013.png  \n",
            "  inflating: train/6/00006_00004_00014.png  \n",
            "  inflating: train/6/00006_00004_00015.png  \n",
            "  inflating: train/6/00006_00004_00016.png  \n",
            "  inflating: train/6/00006_00004_00017.png  \n",
            "  inflating: train/6/00006_00004_00018.png  \n",
            "  inflating: train/6/00006_00004_00019.png  \n",
            "  inflating: train/6/00006_00004_00020.png  \n",
            "  inflating: train/6/00006_00004_00021.png  \n",
            "  inflating: train/6/00006_00004_00022.png  \n",
            "  inflating: train/6/00006_00004_00023.png  \n",
            "  inflating: train/6/00006_00004_00024.png  \n",
            "  inflating: train/6/00006_00004_00025.png  \n",
            "  inflating: train/6/00006_00004_00026.png  \n",
            "  inflating: train/6/00006_00004_00027.png  \n",
            "  inflating: train/6/00006_00004_00028.png  \n",
            "  inflating: train/6/00006_00004_00029.png  \n",
            "  inflating: train/6/00006_00005_00000.png  \n",
            "  inflating: train/6/00006_00005_00001.png  \n",
            "  inflating: train/6/00006_00005_00002.png  \n",
            "  inflating: train/6/00006_00005_00003.png  \n",
            "  inflating: train/6/00006_00005_00004.png  \n",
            "  inflating: train/6/00006_00005_00005.png  \n",
            "  inflating: train/6/00006_00005_00006.png  \n",
            "  inflating: train/6/00006_00005_00007.png  \n",
            "  inflating: train/6/00006_00005_00008.png  \n",
            "  inflating: train/6/00006_00005_00009.png  \n",
            "  inflating: train/6/00006_00005_00010.png  \n",
            "  inflating: train/6/00006_00005_00011.png  \n",
            "  inflating: train/6/00006_00005_00012.png  \n",
            "  inflating: train/6/00006_00005_00013.png  \n",
            "  inflating: train/6/00006_00005_00014.png  \n",
            "  inflating: train/6/00006_00005_00015.png  \n",
            "  inflating: train/6/00006_00005_00016.png  \n",
            "  inflating: train/6/00006_00005_00017.png  \n",
            "  inflating: train/6/00006_00005_00018.png  \n",
            "  inflating: train/6/00006_00005_00019.png  \n",
            "  inflating: train/6/00006_00005_00020.png  \n",
            "  inflating: train/6/00006_00005_00021.png  \n",
            "  inflating: train/6/00006_00005_00022.png  \n",
            "  inflating: train/6/00006_00005_00023.png  \n",
            "  inflating: train/6/00006_00005_00024.png  \n",
            "  inflating: train/6/00006_00005_00025.png  \n",
            "  inflating: train/6/00006_00005_00026.png  \n",
            "  inflating: train/6/00006_00005_00027.png  \n",
            "  inflating: train/6/00006_00005_00028.png  \n",
            "  inflating: train/6/00006_00005_00029.png  \n",
            "  inflating: train/6/00006_00006_00000.png  \n",
            "  inflating: train/6/00006_00006_00001.png  \n",
            "  inflating: train/6/00006_00006_00002.png  \n",
            "  inflating: train/6/00006_00006_00003.png  \n",
            "  inflating: train/6/00006_00006_00004.png  \n",
            "  inflating: train/6/00006_00006_00005.png  \n",
            "  inflating: train/6/00006_00006_00006.png  \n",
            "  inflating: train/6/00006_00006_00007.png  \n",
            "  inflating: train/6/00006_00006_00008.png  \n",
            "  inflating: train/6/00006_00006_00009.png  \n",
            "  inflating: train/6/00006_00006_00010.png  \n",
            "  inflating: train/6/00006_00006_00011.png  \n",
            "  inflating: train/6/00006_00006_00012.png  \n",
            "  inflating: train/6/00006_00006_00013.png  \n",
            "  inflating: train/6/00006_00006_00014.png  \n",
            "  inflating: train/6/00006_00006_00015.png  \n",
            "  inflating: train/6/00006_00006_00016.png  \n",
            "  inflating: train/6/00006_00006_00017.png  \n",
            "  inflating: train/6/00006_00006_00018.png  \n",
            "  inflating: train/6/00006_00006_00019.png  \n",
            "  inflating: train/6/00006_00006_00020.png  \n",
            "  inflating: train/6/00006_00006_00021.png  \n",
            "  inflating: train/6/00006_00006_00022.png  \n",
            "  inflating: train/6/00006_00006_00023.png  \n",
            "  inflating: train/6/00006_00006_00024.png  \n",
            "  inflating: train/6/00006_00006_00025.png  \n",
            "  inflating: train/6/00006_00006_00026.png  \n",
            "  inflating: train/6/00006_00006_00027.png  \n",
            "  inflating: train/6/00006_00006_00028.png  \n",
            "  inflating: train/6/00006_00006_00029.png  \n",
            "  inflating: train/6/00006_00007_00000.png  \n",
            "  inflating: train/6/00006_00007_00001.png  \n",
            "  inflating: train/6/00006_00007_00002.png  \n",
            "  inflating: train/6/00006_00007_00003.png  \n",
            "  inflating: train/6/00006_00007_00004.png  \n",
            "  inflating: train/6/00006_00007_00005.png  \n",
            "  inflating: train/6/00006_00007_00006.png  \n",
            "  inflating: train/6/00006_00007_00007.png  \n",
            "  inflating: train/6/00006_00007_00008.png  \n",
            "  inflating: train/6/00006_00007_00009.png  \n",
            "  inflating: train/6/00006_00007_00010.png  \n",
            "  inflating: train/6/00006_00007_00011.png  \n",
            "  inflating: train/6/00006_00007_00012.png  \n",
            "  inflating: train/6/00006_00007_00013.png  \n",
            "  inflating: train/6/00006_00007_00014.png  \n",
            "  inflating: train/6/00006_00007_00015.png  \n",
            "  inflating: train/6/00006_00007_00016.png  \n",
            "  inflating: train/6/00006_00007_00017.png  \n",
            "  inflating: train/6/00006_00007_00018.png  \n",
            "  inflating: train/6/00006_00007_00019.png  \n",
            "  inflating: train/6/00006_00007_00020.png  \n",
            "  inflating: train/6/00006_00007_00021.png  \n",
            "  inflating: train/6/00006_00007_00022.png  \n",
            "  inflating: train/6/00006_00007_00023.png  \n",
            "  inflating: train/6/00006_00007_00024.png  \n",
            "  inflating: train/6/00006_00007_00025.png  \n",
            "  inflating: train/6/00006_00007_00026.png  \n",
            "  inflating: train/6/00006_00007_00027.png  \n",
            "  inflating: train/6/00006_00007_00028.png  \n",
            "  inflating: train/6/00006_00007_00029.png  \n",
            "  inflating: train/6/00006_00008_00000.png  \n",
            "  inflating: train/6/00006_00008_00001.png  \n",
            "  inflating: train/6/00006_00008_00002.png  \n",
            "  inflating: train/6/00006_00008_00003.png  \n",
            "  inflating: train/6/00006_00008_00004.png  \n",
            "  inflating: train/6/00006_00008_00005.png  \n",
            "  inflating: train/6/00006_00008_00006.png  \n",
            "  inflating: train/6/00006_00008_00007.png  \n",
            "  inflating: train/6/00006_00008_00008.png  \n",
            "  inflating: train/6/00006_00008_00009.png  \n",
            "  inflating: train/6/00006_00008_00010.png  \n",
            "  inflating: train/6/00006_00008_00011.png  \n",
            "  inflating: train/6/00006_00008_00012.png  \n",
            "  inflating: train/6/00006_00008_00013.png  \n",
            "  inflating: train/6/00006_00008_00014.png  \n",
            "  inflating: train/6/00006_00008_00015.png  \n",
            "  inflating: train/6/00006_00008_00016.png  \n",
            "  inflating: train/6/00006_00008_00017.png  \n",
            "  inflating: train/6/00006_00008_00018.png  \n",
            "  inflating: train/6/00006_00008_00019.png  \n",
            "  inflating: train/6/00006_00008_00020.png  \n",
            "  inflating: train/6/00006_00008_00021.png  \n",
            "  inflating: train/6/00006_00008_00022.png  \n",
            "  inflating: train/6/00006_00008_00023.png  \n",
            "  inflating: train/6/00006_00008_00024.png  \n",
            "  inflating: train/6/00006_00008_00025.png  \n",
            "  inflating: train/6/00006_00008_00026.png  \n",
            "  inflating: train/6/00006_00008_00027.png  \n",
            "  inflating: train/6/00006_00008_00028.png  \n",
            "  inflating: train/6/00006_00008_00029.png  \n",
            "  inflating: train/6/00006_00009_00000.png  \n",
            "  inflating: train/6/00006_00009_00001.png  \n",
            "  inflating: train/6/00006_00009_00002.png  \n",
            "  inflating: train/6/00006_00009_00003.png  \n",
            "  inflating: train/6/00006_00009_00004.png  \n",
            "  inflating: train/6/00006_00009_00005.png  \n",
            "  inflating: train/6/00006_00009_00006.png  \n",
            "  inflating: train/6/00006_00009_00007.png  \n",
            "  inflating: train/6/00006_00009_00008.png  \n",
            "  inflating: train/6/00006_00009_00009.png  \n",
            "  inflating: train/6/00006_00009_00010.png  \n",
            "  inflating: train/6/00006_00009_00011.png  \n",
            "  inflating: train/6/00006_00009_00012.png  \n",
            "  inflating: train/6/00006_00009_00013.png  \n",
            "  inflating: train/6/00006_00009_00014.png  \n",
            "  inflating: train/6/00006_00009_00015.png  \n",
            "  inflating: train/6/00006_00009_00016.png  \n",
            "  inflating: train/6/00006_00009_00017.png  \n",
            "  inflating: train/6/00006_00009_00018.png  \n",
            "  inflating: train/6/00006_00009_00019.png  \n",
            "  inflating: train/6/00006_00009_00020.png  \n",
            "  inflating: train/6/00006_00009_00021.png  \n",
            "  inflating: train/6/00006_00009_00022.png  \n",
            "  inflating: train/6/00006_00009_00023.png  \n",
            "  inflating: train/6/00006_00009_00024.png  \n",
            "  inflating: train/6/00006_00009_00025.png  \n",
            "  inflating: train/6/00006_00009_00026.png  \n",
            "  inflating: train/6/00006_00009_00027.png  \n",
            "  inflating: train/6/00006_00009_00028.png  \n",
            "  inflating: train/6/00006_00009_00029.png  \n",
            "  inflating: train/6/00006_00010_00000.png  \n",
            "  inflating: train/6/00006_00010_00001.png  \n",
            "  inflating: train/6/00006_00010_00002.png  \n",
            "  inflating: train/6/00006_00010_00003.png  \n",
            "  inflating: train/6/00006_00010_00004.png  \n",
            "  inflating: train/6/00006_00010_00005.png  \n",
            "  inflating: train/6/00006_00010_00006.png  \n",
            "  inflating: train/6/00006_00010_00007.png  \n",
            "  inflating: train/6/00006_00010_00008.png  \n",
            "  inflating: train/6/00006_00010_00009.png  \n",
            "  inflating: train/6/00006_00010_00010.png  \n",
            "  inflating: train/6/00006_00010_00011.png  \n",
            "  inflating: train/6/00006_00010_00012.png  \n",
            "  inflating: train/6/00006_00010_00013.png  \n",
            "  inflating: train/6/00006_00010_00014.png  \n",
            "  inflating: train/6/00006_00010_00015.png  \n",
            "  inflating: train/6/00006_00010_00016.png  \n",
            "  inflating: train/6/00006_00010_00017.png  \n",
            "  inflating: train/6/00006_00010_00018.png  \n",
            "  inflating: train/6/00006_00010_00019.png  \n",
            "  inflating: train/6/00006_00010_00020.png  \n",
            "  inflating: train/6/00006_00010_00021.png  \n",
            "  inflating: train/6/00006_00010_00022.png  \n",
            "  inflating: train/6/00006_00010_00023.png  \n",
            "  inflating: train/6/00006_00010_00024.png  \n",
            "  inflating: train/6/00006_00010_00025.png  \n",
            "  inflating: train/6/00006_00010_00026.png  \n",
            "  inflating: train/6/00006_00010_00027.png  \n",
            "  inflating: train/6/00006_00010_00028.png  \n",
            "  inflating: train/6/00006_00010_00029.png  \n",
            "  inflating: train/6/00006_00011_00000.png  \n",
            "  inflating: train/6/00006_00011_00001.png  \n",
            "  inflating: train/6/00006_00011_00002.png  \n",
            "  inflating: train/6/00006_00011_00003.png  \n",
            "  inflating: train/6/00006_00011_00004.png  \n",
            "  inflating: train/6/00006_00011_00005.png  \n",
            "  inflating: train/6/00006_00011_00006.png  \n",
            "  inflating: train/6/00006_00011_00007.png  \n",
            "  inflating: train/6/00006_00011_00008.png  \n",
            "  inflating: train/6/00006_00011_00009.png  \n",
            "  inflating: train/6/00006_00011_00010.png  \n",
            "  inflating: train/6/00006_00011_00011.png  \n",
            "  inflating: train/6/00006_00011_00012.png  \n",
            "  inflating: train/6/00006_00011_00013.png  \n",
            "  inflating: train/6/00006_00011_00014.png  \n",
            "  inflating: train/6/00006_00011_00015.png  \n",
            "  inflating: train/6/00006_00011_00016.png  \n",
            "  inflating: train/6/00006_00011_00017.png  \n",
            "  inflating: train/6/00006_00011_00018.png  \n",
            "  inflating: train/6/00006_00011_00019.png  \n",
            "  inflating: train/6/00006_00011_00020.png  \n",
            "  inflating: train/6/00006_00011_00021.png  \n",
            "  inflating: train/6/00006_00011_00022.png  \n",
            "  inflating: train/6/00006_00011_00023.png  \n",
            "  inflating: train/6/00006_00011_00024.png  \n",
            "  inflating: train/6/00006_00011_00025.png  \n",
            "  inflating: train/6/00006_00011_00026.png  \n",
            "  inflating: train/6/00006_00011_00027.png  \n",
            "  inflating: train/6/00006_00011_00028.png  \n",
            "  inflating: train/6/00006_00011_00029.png  \n",
            "  inflating: train/6/00006_00012_00000.png  \n",
            "  inflating: train/6/00006_00012_00001.png  \n",
            "  inflating: train/6/00006_00012_00002.png  \n",
            "  inflating: train/6/00006_00012_00003.png  \n",
            "  inflating: train/6/00006_00012_00004.png  \n",
            "  inflating: train/6/00006_00012_00005.png  \n",
            "  inflating: train/6/00006_00012_00006.png  \n",
            "  inflating: train/6/00006_00012_00007.png  \n",
            "  inflating: train/6/00006_00012_00008.png  \n",
            "  inflating: train/6/00006_00012_00009.png  \n",
            "  inflating: train/6/00006_00012_00010.png  \n",
            "  inflating: train/6/00006_00012_00011.png  \n",
            "  inflating: train/6/00006_00012_00012.png  \n",
            "  inflating: train/6/00006_00012_00013.png  \n",
            "  inflating: train/6/00006_00012_00014.png  \n",
            "  inflating: train/6/00006_00012_00015.png  \n",
            "  inflating: train/6/00006_00012_00016.png  \n",
            "  inflating: train/6/00006_00012_00017.png  \n",
            "  inflating: train/6/00006_00012_00018.png  \n",
            "  inflating: train/6/00006_00012_00019.png  \n",
            "  inflating: train/6/00006_00012_00020.png  \n",
            "  inflating: train/6/00006_00012_00021.png  \n",
            "  inflating: train/6/00006_00012_00022.png  \n",
            "  inflating: train/6/00006_00012_00023.png  \n",
            "  inflating: train/6/00006_00012_00024.png  \n",
            "  inflating: train/6/00006_00012_00025.png  \n",
            "  inflating: train/6/00006_00012_00026.png  \n",
            "  inflating: train/6/00006_00012_00027.png  \n",
            "  inflating: train/6/00006_00012_00028.png  \n",
            "  inflating: train/6/00006_00012_00029.png  \n",
            "  inflating: train/6/00006_00013_00000.png  \n",
            "  inflating: train/6/00006_00013_00001.png  \n",
            "  inflating: train/6/00006_00013_00002.png  \n",
            "  inflating: train/6/00006_00013_00003.png  \n",
            "  inflating: train/6/00006_00013_00004.png  \n",
            "  inflating: train/6/00006_00013_00005.png  \n",
            "  inflating: train/6/00006_00013_00006.png  \n",
            "  inflating: train/6/00006_00013_00007.png  \n",
            "  inflating: train/6/00006_00013_00008.png  \n",
            "  inflating: train/6/00006_00013_00009.png  \n",
            "  inflating: train/6/00006_00013_00010.png  \n",
            "  inflating: train/6/00006_00013_00011.png  \n",
            "  inflating: train/6/00006_00013_00012.png  \n",
            "  inflating: train/6/00006_00013_00013.png  \n",
            "  inflating: train/6/00006_00013_00014.png  \n",
            "  inflating: train/6/00006_00013_00015.png  \n",
            "  inflating: train/6/00006_00013_00016.png  \n",
            "  inflating: train/6/00006_00013_00017.png  \n",
            "  inflating: train/6/00006_00013_00018.png  \n",
            "  inflating: train/6/00006_00013_00019.png  \n",
            "  inflating: train/6/00006_00013_00020.png  \n",
            "  inflating: train/6/00006_00013_00021.png  \n",
            "  inflating: train/6/00006_00013_00022.png  \n",
            "  inflating: train/6/00006_00013_00023.png  \n",
            "  inflating: train/6/00006_00013_00024.png  \n",
            "  inflating: train/6/00006_00013_00025.png  \n",
            "  inflating: train/6/00006_00013_00026.png  \n",
            "  inflating: train/6/00006_00013_00027.png  \n",
            "  inflating: train/6/00006_00013_00028.png  \n",
            "  inflating: train/6/00006_00013_00029.png  \n",
            "  inflating: train/7/00007_00000_00000.png  \n",
            "  inflating: train/7/00007_00000_00001.png  \n",
            "  inflating: train/7/00007_00000_00002.png  \n",
            "  inflating: train/7/00007_00000_00003.png  \n",
            "  inflating: train/7/00007_00000_00004.png  \n",
            "  inflating: train/7/00007_00000_00005.png  \n",
            "  inflating: train/7/00007_00000_00006.png  \n",
            "  inflating: train/7/00007_00000_00007.png  \n",
            "  inflating: train/7/00007_00000_00008.png  \n",
            "  inflating: train/7/00007_00000_00009.png  \n",
            "  inflating: train/7/00007_00000_00010.png  \n",
            "  inflating: train/7/00007_00000_00011.png  \n",
            "  inflating: train/7/00007_00000_00012.png  \n",
            "  inflating: train/7/00007_00000_00013.png  \n",
            "  inflating: train/7/00007_00000_00014.png  \n",
            "  inflating: train/7/00007_00000_00015.png  \n",
            "  inflating: train/7/00007_00000_00016.png  \n",
            "  inflating: train/7/00007_00000_00017.png  \n",
            "  inflating: train/7/00007_00000_00018.png  \n",
            "  inflating: train/7/00007_00000_00019.png  \n",
            "  inflating: train/7/00007_00000_00020.png  \n",
            "  inflating: train/7/00007_00000_00021.png  \n",
            "  inflating: train/7/00007_00000_00022.png  \n",
            "  inflating: train/7/00007_00000_00023.png  \n",
            "  inflating: train/7/00007_00000_00024.png  \n",
            "  inflating: train/7/00007_00000_00025.png  \n",
            "  inflating: train/7/00007_00000_00026.png  \n",
            "  inflating: train/7/00007_00000_00027.png  \n",
            "  inflating: train/7/00007_00000_00028.png  \n",
            "  inflating: train/7/00007_00000_00029.png  \n",
            "  inflating: train/7/00007_00001_00000.png  \n",
            "  inflating: train/7/00007_00001_00001.png  \n",
            "  inflating: train/7/00007_00001_00002.png  \n",
            "  inflating: train/7/00007_00001_00003.png  \n",
            "  inflating: train/7/00007_00001_00004.png  \n",
            "  inflating: train/7/00007_00001_00005.png  \n",
            "  inflating: train/7/00007_00001_00006.png  \n",
            "  inflating: train/7/00007_00001_00007.png  \n",
            "  inflating: train/7/00007_00001_00008.png  \n",
            "  inflating: train/7/00007_00001_00009.png  \n",
            "  inflating: train/7/00007_00001_00010.png  \n",
            "  inflating: train/7/00007_00001_00011.png  \n",
            "  inflating: train/7/00007_00001_00012.png  \n",
            "  inflating: train/7/00007_00001_00013.png  \n",
            "  inflating: train/7/00007_00001_00014.png  \n",
            "  inflating: train/7/00007_00001_00015.png  \n",
            "  inflating: train/7/00007_00001_00016.png  \n",
            "  inflating: train/7/00007_00001_00017.png  \n",
            "  inflating: train/7/00007_00001_00018.png  \n",
            "  inflating: train/7/00007_00001_00019.png  \n",
            "  inflating: train/7/00007_00001_00020.png  \n",
            "  inflating: train/7/00007_00001_00021.png  \n",
            "  inflating: train/7/00007_00001_00022.png  \n",
            "  inflating: train/7/00007_00001_00023.png  \n",
            "  inflating: train/7/00007_00001_00024.png  \n",
            "  inflating: train/7/00007_00001_00025.png  \n",
            "  inflating: train/7/00007_00001_00026.png  \n",
            "  inflating: train/7/00007_00001_00027.png  \n",
            "  inflating: train/7/00007_00001_00028.png  \n",
            "  inflating: train/7/00007_00001_00029.png  \n",
            "  inflating: train/7/00007_00002_00000.png  \n",
            "  inflating: train/7/00007_00002_00001.png  \n",
            "  inflating: train/7/00007_00002_00002.png  \n",
            "  inflating: train/7/00007_00002_00003.png  \n",
            "  inflating: train/7/00007_00002_00004.png  \n",
            "  inflating: train/7/00007_00002_00005.png  \n",
            "  inflating: train/7/00007_00002_00006.png  \n",
            "  inflating: train/7/00007_00002_00007.png  \n",
            "  inflating: train/7/00007_00002_00008.png  \n",
            "  inflating: train/7/00007_00002_00009.png  \n",
            "  inflating: train/7/00007_00002_00010.png  \n",
            "  inflating: train/7/00007_00002_00011.png  \n",
            "  inflating: train/7/00007_00002_00012.png  \n",
            "  inflating: train/7/00007_00002_00013.png  \n",
            "  inflating: train/7/00007_00002_00014.png  \n",
            "  inflating: train/7/00007_00002_00015.png  \n",
            "  inflating: train/7/00007_00002_00016.png  \n",
            "  inflating: train/7/00007_00002_00017.png  \n",
            "  inflating: train/7/00007_00002_00018.png  \n",
            "  inflating: train/7/00007_00002_00019.png  \n",
            "  inflating: train/7/00007_00002_00020.png  \n",
            "  inflating: train/7/00007_00002_00021.png  \n",
            "  inflating: train/7/00007_00002_00022.png  \n",
            "  inflating: train/7/00007_00002_00023.png  \n",
            "  inflating: train/7/00007_00002_00024.png  \n",
            "  inflating: train/7/00007_00002_00025.png  \n",
            "  inflating: train/7/00007_00002_00026.png  \n",
            "  inflating: train/7/00007_00002_00027.png  \n",
            "  inflating: train/7/00007_00002_00028.png  \n",
            "  inflating: train/7/00007_00002_00029.png  \n",
            "  inflating: train/7/00007_00003_00000.png  \n",
            "  inflating: train/7/00007_00003_00001.png  \n",
            "  inflating: train/7/00007_00003_00002.png  \n",
            "  inflating: train/7/00007_00003_00003.png  \n",
            "  inflating: train/7/00007_00003_00004.png  \n",
            "  inflating: train/7/00007_00003_00005.png  \n",
            "  inflating: train/7/00007_00003_00006.png  \n",
            "  inflating: train/7/00007_00003_00007.png  \n",
            "  inflating: train/7/00007_00003_00008.png  \n",
            "  inflating: train/7/00007_00003_00009.png  \n",
            "  inflating: train/7/00007_00003_00010.png  \n",
            "  inflating: train/7/00007_00003_00011.png  \n",
            "  inflating: train/7/00007_00003_00012.png  \n",
            "  inflating: train/7/00007_00003_00013.png  \n",
            "  inflating: train/7/00007_00003_00014.png  \n",
            "  inflating: train/7/00007_00003_00015.png  \n",
            "  inflating: train/7/00007_00003_00016.png  \n",
            "  inflating: train/7/00007_00003_00017.png  \n",
            "  inflating: train/7/00007_00003_00018.png  \n",
            "  inflating: train/7/00007_00003_00019.png  \n",
            "  inflating: train/7/00007_00003_00020.png  \n",
            "  inflating: train/7/00007_00003_00021.png  \n",
            "  inflating: train/7/00007_00003_00022.png  \n",
            "  inflating: train/7/00007_00003_00023.png  \n",
            "  inflating: train/7/00007_00003_00024.png  \n",
            "  inflating: train/7/00007_00003_00025.png  \n",
            "  inflating: train/7/00007_00003_00026.png  \n",
            "  inflating: train/7/00007_00003_00027.png  \n",
            "  inflating: train/7/00007_00003_00028.png  \n",
            "  inflating: train/7/00007_00003_00029.png  \n",
            "  inflating: train/7/00007_00004_00000.png  \n",
            "  inflating: train/7/00007_00004_00001.png  \n",
            "  inflating: train/7/00007_00004_00002.png  \n",
            "  inflating: train/7/00007_00004_00003.png  \n",
            "  inflating: train/7/00007_00004_00004.png  \n",
            "  inflating: train/7/00007_00004_00005.png  \n",
            "  inflating: train/7/00007_00004_00006.png  \n",
            "  inflating: train/7/00007_00004_00007.png  \n",
            "  inflating: train/7/00007_00004_00008.png  \n",
            "  inflating: train/7/00007_00004_00009.png  \n",
            "  inflating: train/7/00007_00004_00010.png  \n",
            "  inflating: train/7/00007_00004_00011.png  \n",
            "  inflating: train/7/00007_00004_00012.png  \n",
            "  inflating: train/7/00007_00004_00013.png  \n",
            "  inflating: train/7/00007_00004_00014.png  \n",
            "  inflating: train/7/00007_00004_00015.png  \n",
            "  inflating: train/7/00007_00004_00016.png  \n",
            "  inflating: train/7/00007_00004_00017.png  \n",
            "  inflating: train/7/00007_00004_00018.png  \n",
            "  inflating: train/7/00007_00004_00019.png  \n",
            "  inflating: train/7/00007_00004_00020.png  \n",
            "  inflating: train/7/00007_00004_00021.png  \n",
            "  inflating: train/7/00007_00004_00022.png  \n",
            "  inflating: train/7/00007_00004_00023.png  \n",
            "  inflating: train/7/00007_00004_00024.png  \n",
            "  inflating: train/7/00007_00004_00025.png  \n",
            "  inflating: train/7/00007_00004_00026.png  \n",
            "  inflating: train/7/00007_00004_00027.png  \n",
            "  inflating: train/7/00007_00004_00028.png  \n",
            "  inflating: train/7/00007_00004_00029.png  \n",
            "  inflating: train/7/00007_00005_00000.png  \n",
            "  inflating: train/7/00007_00005_00001.png  \n",
            "  inflating: train/7/00007_00005_00002.png  \n",
            "  inflating: train/7/00007_00005_00003.png  \n",
            "  inflating: train/7/00007_00005_00004.png  \n",
            "  inflating: train/7/00007_00005_00005.png  \n",
            "  inflating: train/7/00007_00005_00006.png  \n",
            "  inflating: train/7/00007_00005_00007.png  \n",
            "  inflating: train/7/00007_00005_00008.png  \n",
            "  inflating: train/7/00007_00005_00009.png  \n",
            "  inflating: train/7/00007_00005_00010.png  \n",
            "  inflating: train/7/00007_00005_00011.png  \n",
            "  inflating: train/7/00007_00005_00012.png  \n",
            "  inflating: train/7/00007_00005_00013.png  \n",
            "  inflating: train/7/00007_00005_00014.png  \n",
            "  inflating: train/7/00007_00005_00015.png  \n",
            "  inflating: train/7/00007_00005_00016.png  \n",
            "  inflating: train/7/00007_00005_00017.png  \n",
            "  inflating: train/7/00007_00005_00018.png  \n",
            "  inflating: train/7/00007_00005_00019.png  \n",
            "  inflating: train/7/00007_00005_00020.png  \n",
            "  inflating: train/7/00007_00005_00021.png  \n",
            "  inflating: train/7/00007_00005_00022.png  \n",
            "  inflating: train/7/00007_00005_00023.png  \n",
            "  inflating: train/7/00007_00005_00024.png  \n",
            "  inflating: train/7/00007_00005_00025.png  \n",
            "  inflating: train/7/00007_00005_00026.png  \n",
            "  inflating: train/7/00007_00005_00027.png  \n",
            "  inflating: train/7/00007_00005_00028.png  \n",
            "  inflating: train/7/00007_00005_00029.png  \n",
            "  inflating: train/7/00007_00006_00000.png  \n",
            "  inflating: train/7/00007_00006_00001.png  \n",
            "  inflating: train/7/00007_00006_00002.png  \n",
            "  inflating: train/7/00007_00006_00003.png  \n",
            "  inflating: train/7/00007_00006_00004.png  \n",
            "  inflating: train/7/00007_00006_00005.png  \n",
            "  inflating: train/7/00007_00006_00006.png  \n",
            "  inflating: train/7/00007_00006_00007.png  \n",
            "  inflating: train/7/00007_00006_00008.png  \n",
            "  inflating: train/7/00007_00006_00009.png  \n",
            "  inflating: train/7/00007_00006_00010.png  \n",
            "  inflating: train/7/00007_00006_00011.png  \n",
            "  inflating: train/7/00007_00006_00012.png  \n",
            "  inflating: train/7/00007_00006_00013.png  \n",
            "  inflating: train/7/00007_00006_00014.png  \n",
            "  inflating: train/7/00007_00006_00015.png  \n",
            "  inflating: train/7/00007_00006_00016.png  \n",
            "  inflating: train/7/00007_00006_00017.png  \n",
            "  inflating: train/7/00007_00006_00018.png  \n",
            "  inflating: train/7/00007_00006_00019.png  \n",
            "  inflating: train/7/00007_00006_00020.png  \n",
            "  inflating: train/7/00007_00006_00021.png  \n",
            "  inflating: train/7/00007_00006_00022.png  \n",
            "  inflating: train/7/00007_00006_00023.png  \n",
            "  inflating: train/7/00007_00006_00024.png  \n",
            "  inflating: train/7/00007_00006_00025.png  \n",
            "  inflating: train/7/00007_00006_00026.png  \n",
            "  inflating: train/7/00007_00006_00027.png  \n",
            "  inflating: train/7/00007_00006_00028.png  \n",
            "  inflating: train/7/00007_00006_00029.png  \n",
            "  inflating: train/7/00007_00007_00000.png  \n",
            "  inflating: train/7/00007_00007_00001.png  \n",
            "  inflating: train/7/00007_00007_00002.png  \n",
            "  inflating: train/7/00007_00007_00003.png  \n",
            "  inflating: train/7/00007_00007_00004.png  \n",
            "  inflating: train/7/00007_00007_00005.png  \n",
            "  inflating: train/7/00007_00007_00006.png  \n",
            "  inflating: train/7/00007_00007_00007.png  \n",
            "  inflating: train/7/00007_00007_00008.png  \n",
            "  inflating: train/7/00007_00007_00009.png  \n",
            "  inflating: train/7/00007_00007_00010.png  \n",
            "  inflating: train/7/00007_00007_00011.png  \n",
            "  inflating: train/7/00007_00007_00012.png  \n",
            "  inflating: train/7/00007_00007_00013.png  \n",
            "  inflating: train/7/00007_00007_00014.png  \n",
            "  inflating: train/7/00007_00007_00015.png  \n",
            "  inflating: train/7/00007_00007_00016.png  \n",
            "  inflating: train/7/00007_00007_00017.png  \n",
            "  inflating: train/7/00007_00007_00018.png  \n",
            "  inflating: train/7/00007_00007_00019.png  \n",
            "  inflating: train/7/00007_00007_00020.png  \n",
            "  inflating: train/7/00007_00007_00021.png  \n",
            "  inflating: train/7/00007_00007_00022.png  \n",
            "  inflating: train/7/00007_00007_00023.png  \n",
            "  inflating: train/7/00007_00007_00024.png  \n",
            "  inflating: train/7/00007_00007_00025.png  \n",
            "  inflating: train/7/00007_00007_00026.png  \n",
            "  inflating: train/7/00007_00007_00027.png  \n",
            "  inflating: train/7/00007_00007_00028.png  \n",
            "  inflating: train/7/00007_00007_00029.png  \n",
            "  inflating: train/7/00007_00008_00000.png  \n",
            "  inflating: train/7/00007_00008_00001.png  \n",
            "  inflating: train/7/00007_00008_00002.png  \n",
            "  inflating: train/7/00007_00008_00003.png  \n",
            "  inflating: train/7/00007_00008_00004.png  \n",
            "  inflating: train/7/00007_00008_00005.png  \n",
            "  inflating: train/7/00007_00008_00006.png  \n",
            "  inflating: train/7/00007_00008_00007.png  \n",
            "  inflating: train/7/00007_00008_00008.png  \n",
            "  inflating: train/7/00007_00008_00009.png  \n",
            "  inflating: train/7/00007_00008_00010.png  \n",
            "  inflating: train/7/00007_00008_00011.png  \n",
            "  inflating: train/7/00007_00008_00012.png  \n",
            "  inflating: train/7/00007_00008_00013.png  \n",
            "  inflating: train/7/00007_00008_00014.png  \n",
            "  inflating: train/7/00007_00008_00015.png  \n",
            "  inflating: train/7/00007_00008_00016.png  \n",
            "  inflating: train/7/00007_00008_00017.png  \n",
            "  inflating: train/7/00007_00008_00018.png  \n",
            "  inflating: train/7/00007_00008_00019.png  \n",
            "  inflating: train/7/00007_00008_00020.png  \n",
            "  inflating: train/7/00007_00008_00021.png  \n",
            "  inflating: train/7/00007_00008_00022.png  \n",
            "  inflating: train/7/00007_00008_00023.png  \n",
            "  inflating: train/7/00007_00008_00024.png  \n",
            "  inflating: train/7/00007_00008_00025.png  \n",
            "  inflating: train/7/00007_00008_00026.png  \n",
            "  inflating: train/7/00007_00008_00027.png  \n",
            "  inflating: train/7/00007_00008_00028.png  \n",
            "  inflating: train/7/00007_00008_00029.png  \n",
            "  inflating: train/7/00007_00009_00000.png  \n",
            "  inflating: train/7/00007_00009_00001.png  \n",
            "  inflating: train/7/00007_00009_00002.png  \n",
            "  inflating: train/7/00007_00009_00003.png  \n",
            "  inflating: train/7/00007_00009_00004.png  \n",
            "  inflating: train/7/00007_00009_00005.png  \n",
            "  inflating: train/7/00007_00009_00006.png  \n",
            "  inflating: train/7/00007_00009_00007.png  \n",
            "  inflating: train/7/00007_00009_00008.png  \n",
            "  inflating: train/7/00007_00009_00009.png  \n",
            "  inflating: train/7/00007_00009_00010.png  \n",
            "  inflating: train/7/00007_00009_00011.png  \n",
            "  inflating: train/7/00007_00009_00012.png  \n",
            "  inflating: train/7/00007_00009_00013.png  \n",
            "  inflating: train/7/00007_00009_00014.png  \n",
            "  inflating: train/7/00007_00009_00015.png  \n",
            "  inflating: train/7/00007_00009_00016.png  \n",
            "  inflating: train/7/00007_00009_00017.png  \n",
            "  inflating: train/7/00007_00009_00018.png  \n",
            "  inflating: train/7/00007_00009_00019.png  \n",
            "  inflating: train/7/00007_00009_00020.png  \n",
            "  inflating: train/7/00007_00009_00021.png  \n",
            "  inflating: train/7/00007_00009_00022.png  \n",
            "  inflating: train/7/00007_00009_00023.png  \n",
            "  inflating: train/7/00007_00009_00024.png  \n",
            "  inflating: train/7/00007_00009_00025.png  \n",
            "  inflating: train/7/00007_00009_00026.png  \n",
            "  inflating: train/7/00007_00009_00027.png  \n",
            "  inflating: train/7/00007_00009_00028.png  \n",
            "  inflating: train/7/00007_00009_00029.png  \n",
            "  inflating: train/7/00007_00010_00000.png  \n",
            "  inflating: train/7/00007_00010_00001.png  \n",
            "  inflating: train/7/00007_00010_00002.png  \n",
            "  inflating: train/7/00007_00010_00003.png  \n",
            "  inflating: train/7/00007_00010_00004.png  \n",
            "  inflating: train/7/00007_00010_00005.png  \n",
            "  inflating: train/7/00007_00010_00006.png  \n",
            "  inflating: train/7/00007_00010_00007.png  \n",
            "  inflating: train/7/00007_00010_00008.png  \n",
            "  inflating: train/7/00007_00010_00009.png  \n",
            "  inflating: train/7/00007_00010_00010.png  \n",
            "  inflating: train/7/00007_00010_00011.png  \n",
            "  inflating: train/7/00007_00010_00012.png  \n",
            "  inflating: train/7/00007_00010_00013.png  \n",
            "  inflating: train/7/00007_00010_00014.png  \n",
            "  inflating: train/7/00007_00010_00015.png  \n",
            "  inflating: train/7/00007_00010_00016.png  \n",
            "  inflating: train/7/00007_00010_00017.png  \n",
            "  inflating: train/7/00007_00010_00018.png  \n",
            "  inflating: train/7/00007_00010_00019.png  \n",
            "  inflating: train/7/00007_00010_00020.png  \n",
            "  inflating: train/7/00007_00010_00021.png  \n",
            "  inflating: train/7/00007_00010_00022.png  \n",
            "  inflating: train/7/00007_00010_00023.png  \n",
            "  inflating: train/7/00007_00010_00024.png  \n",
            "  inflating: train/7/00007_00010_00025.png  \n",
            "  inflating: train/7/00007_00010_00026.png  \n",
            "  inflating: train/7/00007_00010_00027.png  \n",
            "  inflating: train/7/00007_00010_00028.png  \n",
            "  inflating: train/7/00007_00010_00029.png  \n",
            "  inflating: train/7/00007_00011_00000.png  \n",
            "  inflating: train/7/00007_00011_00001.png  \n",
            "  inflating: train/7/00007_00011_00002.png  \n",
            "  inflating: train/7/00007_00011_00003.png  \n",
            "  inflating: train/7/00007_00011_00004.png  \n",
            "  inflating: train/7/00007_00011_00005.png  \n",
            "  inflating: train/7/00007_00011_00006.png  \n",
            "  inflating: train/7/00007_00011_00007.png  \n",
            "  inflating: train/7/00007_00011_00008.png  \n",
            "  inflating: train/7/00007_00011_00009.png  \n",
            "  inflating: train/7/00007_00011_00010.png  \n",
            "  inflating: train/7/00007_00011_00011.png  \n",
            "  inflating: train/7/00007_00011_00012.png  \n",
            "  inflating: train/7/00007_00011_00013.png  \n",
            "  inflating: train/7/00007_00011_00014.png  \n",
            "  inflating: train/7/00007_00011_00015.png  \n",
            "  inflating: train/7/00007_00011_00016.png  \n",
            "  inflating: train/7/00007_00011_00017.png  \n",
            "  inflating: train/7/00007_00011_00018.png  \n",
            "  inflating: train/7/00007_00011_00019.png  \n",
            "  inflating: train/7/00007_00011_00020.png  \n",
            "  inflating: train/7/00007_00011_00021.png  \n",
            "  inflating: train/7/00007_00011_00022.png  \n",
            "  inflating: train/7/00007_00011_00023.png  \n",
            "  inflating: train/7/00007_00011_00024.png  \n",
            "  inflating: train/7/00007_00011_00025.png  \n",
            "  inflating: train/7/00007_00011_00026.png  \n",
            "  inflating: train/7/00007_00011_00027.png  \n",
            "  inflating: train/7/00007_00011_00028.png  \n",
            "  inflating: train/7/00007_00011_00029.png  \n",
            "  inflating: train/7/00007_00012_00000.png  \n",
            "  inflating: train/7/00007_00012_00001.png  \n",
            "  inflating: train/7/00007_00012_00002.png  \n",
            "  inflating: train/7/00007_00012_00003.png  \n",
            "  inflating: train/7/00007_00012_00004.png  \n",
            "  inflating: train/7/00007_00012_00005.png  \n",
            "  inflating: train/7/00007_00012_00006.png  \n",
            "  inflating: train/7/00007_00012_00007.png  \n",
            "  inflating: train/7/00007_00012_00008.png  \n",
            "  inflating: train/7/00007_00012_00009.png  \n",
            "  inflating: train/7/00007_00012_00010.png  \n",
            "  inflating: train/7/00007_00012_00011.png  \n",
            "  inflating: train/7/00007_00012_00012.png  \n",
            "  inflating: train/7/00007_00012_00013.png  \n",
            "  inflating: train/7/00007_00012_00014.png  \n",
            "  inflating: train/7/00007_00012_00015.png  \n",
            "  inflating: train/7/00007_00012_00016.png  \n",
            "  inflating: train/7/00007_00012_00017.png  \n",
            "  inflating: train/7/00007_00012_00018.png  \n",
            "  inflating: train/7/00007_00012_00019.png  \n",
            "  inflating: train/7/00007_00012_00020.png  \n",
            "  inflating: train/7/00007_00012_00021.png  \n",
            "  inflating: train/7/00007_00012_00022.png  \n",
            "  inflating: train/7/00007_00012_00023.png  \n",
            "  inflating: train/7/00007_00012_00024.png  \n",
            "  inflating: train/7/00007_00012_00025.png  \n",
            "  inflating: train/7/00007_00012_00026.png  \n",
            "  inflating: train/7/00007_00012_00027.png  \n",
            "  inflating: train/7/00007_00012_00028.png  \n",
            "  inflating: train/7/00007_00012_00029.png  \n",
            "  inflating: train/7/00007_00013_00000.png  \n",
            "  inflating: train/7/00007_00013_00001.png  \n",
            "  inflating: train/7/00007_00013_00002.png  \n",
            "  inflating: train/7/00007_00013_00003.png  \n",
            "  inflating: train/7/00007_00013_00004.png  \n",
            "  inflating: train/7/00007_00013_00005.png  \n",
            "  inflating: train/7/00007_00013_00006.png  \n",
            "  inflating: train/7/00007_00013_00007.png  \n",
            "  inflating: train/7/00007_00013_00008.png  \n",
            "  inflating: train/7/00007_00013_00009.png  \n",
            "  inflating: train/7/00007_00013_00010.png  \n",
            "  inflating: train/7/00007_00013_00011.png  \n",
            "  inflating: train/7/00007_00013_00012.png  \n",
            "  inflating: train/7/00007_00013_00013.png  \n",
            "  inflating: train/7/00007_00013_00014.png  \n",
            "  inflating: train/7/00007_00013_00015.png  \n",
            "  inflating: train/7/00007_00013_00016.png  \n",
            "  inflating: train/7/00007_00013_00017.png  \n",
            "  inflating: train/7/00007_00013_00018.png  \n",
            "  inflating: train/7/00007_00013_00019.png  \n",
            "  inflating: train/7/00007_00013_00020.png  \n",
            "  inflating: train/7/00007_00013_00021.png  \n",
            "  inflating: train/7/00007_00013_00022.png  \n",
            "  inflating: train/7/00007_00013_00023.png  \n",
            "  inflating: train/7/00007_00013_00024.png  \n",
            "  inflating: train/7/00007_00013_00025.png  \n",
            "  inflating: train/7/00007_00013_00026.png  \n",
            "  inflating: train/7/00007_00013_00027.png  \n",
            "  inflating: train/7/00007_00013_00028.png  \n",
            "  inflating: train/7/00007_00013_00029.png  \n",
            "  inflating: train/7/00007_00014_00000.png  \n",
            "  inflating: train/7/00007_00014_00001.png  \n",
            "  inflating: train/7/00007_00014_00002.png  \n",
            "  inflating: train/7/00007_00014_00003.png  \n",
            "  inflating: train/7/00007_00014_00004.png  \n",
            "  inflating: train/7/00007_00014_00005.png  \n",
            "  inflating: train/7/00007_00014_00006.png  \n",
            "  inflating: train/7/00007_00014_00007.png  \n",
            "  inflating: train/7/00007_00014_00008.png  \n",
            "  inflating: train/7/00007_00014_00009.png  \n",
            "  inflating: train/7/00007_00014_00010.png  \n",
            "  inflating: train/7/00007_00014_00011.png  \n",
            "  inflating: train/7/00007_00014_00012.png  \n",
            "  inflating: train/7/00007_00014_00013.png  \n",
            "  inflating: train/7/00007_00014_00014.png  \n",
            "  inflating: train/7/00007_00014_00015.png  \n",
            "  inflating: train/7/00007_00014_00016.png  \n",
            "  inflating: train/7/00007_00014_00017.png  \n",
            "  inflating: train/7/00007_00014_00018.png  \n",
            "  inflating: train/7/00007_00014_00019.png  \n",
            "  inflating: train/7/00007_00014_00020.png  \n",
            "  inflating: train/7/00007_00014_00021.png  \n",
            "  inflating: train/7/00007_00014_00022.png  \n",
            "  inflating: train/7/00007_00014_00023.png  \n",
            "  inflating: train/7/00007_00014_00024.png  \n",
            "  inflating: train/7/00007_00014_00025.png  \n",
            "  inflating: train/7/00007_00014_00026.png  \n",
            "  inflating: train/7/00007_00014_00027.png  \n",
            "  inflating: train/7/00007_00014_00028.png  \n",
            "  inflating: train/7/00007_00014_00029.png  \n",
            "  inflating: train/7/00007_00015_00000.png  \n",
            "  inflating: train/7/00007_00015_00001.png  \n",
            "  inflating: train/7/00007_00015_00002.png  \n",
            "  inflating: train/7/00007_00015_00003.png  \n",
            "  inflating: train/7/00007_00015_00004.png  \n",
            "  inflating: train/7/00007_00015_00005.png  \n",
            "  inflating: train/7/00007_00015_00006.png  \n",
            "  inflating: train/7/00007_00015_00007.png  \n",
            "  inflating: train/7/00007_00015_00008.png  \n",
            "  inflating: train/7/00007_00015_00009.png  \n",
            "  inflating: train/7/00007_00015_00010.png  \n",
            "  inflating: train/7/00007_00015_00011.png  \n",
            "  inflating: train/7/00007_00015_00012.png  \n",
            "  inflating: train/7/00007_00015_00013.png  \n",
            "  inflating: train/7/00007_00015_00014.png  \n",
            "  inflating: train/7/00007_00015_00015.png  \n",
            "  inflating: train/7/00007_00015_00016.png  \n",
            "  inflating: train/7/00007_00015_00017.png  \n",
            "  inflating: train/7/00007_00015_00018.png  \n",
            "  inflating: train/7/00007_00015_00019.png  \n",
            "  inflating: train/7/00007_00015_00020.png  \n",
            "  inflating: train/7/00007_00015_00021.png  \n",
            "  inflating: train/7/00007_00015_00022.png  \n",
            "  inflating: train/7/00007_00015_00023.png  \n",
            "  inflating: train/7/00007_00015_00024.png  \n",
            "  inflating: train/7/00007_00015_00025.png  \n",
            "  inflating: train/7/00007_00015_00026.png  \n",
            "  inflating: train/7/00007_00015_00027.png  \n",
            "  inflating: train/7/00007_00015_00028.png  \n",
            "  inflating: train/7/00007_00015_00029.png  \n",
            "  inflating: train/7/00007_00016_00000.png  \n",
            "  inflating: train/7/00007_00016_00001.png  \n",
            "  inflating: train/7/00007_00016_00002.png  \n",
            "  inflating: train/7/00007_00016_00003.png  \n",
            "  inflating: train/7/00007_00016_00004.png  \n",
            "  inflating: train/7/00007_00016_00005.png  \n",
            "  inflating: train/7/00007_00016_00006.png  \n",
            "  inflating: train/7/00007_00016_00007.png  \n",
            "  inflating: train/7/00007_00016_00008.png  \n",
            "  inflating: train/7/00007_00016_00009.png  \n",
            "  inflating: train/7/00007_00016_00010.png  \n",
            "  inflating: train/7/00007_00016_00011.png  \n",
            "  inflating: train/7/00007_00016_00012.png  \n",
            "  inflating: train/7/00007_00016_00013.png  \n",
            "  inflating: train/7/00007_00016_00014.png  \n",
            "  inflating: train/7/00007_00016_00015.png  \n",
            "  inflating: train/7/00007_00016_00016.png  \n",
            "  inflating: train/7/00007_00016_00017.png  \n",
            "  inflating: train/7/00007_00016_00018.png  \n",
            "  inflating: train/7/00007_00016_00019.png  \n",
            "  inflating: train/7/00007_00016_00020.png  \n",
            "  inflating: train/7/00007_00016_00021.png  \n",
            "  inflating: train/7/00007_00016_00022.png  \n",
            "  inflating: train/7/00007_00016_00023.png  \n",
            "  inflating: train/7/00007_00016_00024.png  \n",
            "  inflating: train/7/00007_00016_00025.png  \n",
            "  inflating: train/7/00007_00016_00026.png  \n",
            "  inflating: train/7/00007_00016_00027.png  \n",
            "  inflating: train/7/00007_00016_00028.png  \n",
            "  inflating: train/7/00007_00016_00029.png  \n",
            "  inflating: train/7/00007_00017_00000.png  \n",
            "  inflating: train/7/00007_00017_00001.png  \n",
            "  inflating: train/7/00007_00017_00002.png  \n",
            "  inflating: train/7/00007_00017_00003.png  \n",
            "  inflating: train/7/00007_00017_00004.png  \n",
            "  inflating: train/7/00007_00017_00005.png  \n",
            "  inflating: train/7/00007_00017_00006.png  \n",
            "  inflating: train/7/00007_00017_00007.png  \n",
            "  inflating: train/7/00007_00017_00008.png  \n",
            "  inflating: train/7/00007_00017_00009.png  \n",
            "  inflating: train/7/00007_00017_00010.png  \n",
            "  inflating: train/7/00007_00017_00011.png  \n",
            "  inflating: train/7/00007_00017_00012.png  \n",
            "  inflating: train/7/00007_00017_00013.png  \n",
            "  inflating: train/7/00007_00017_00014.png  \n",
            "  inflating: train/7/00007_00017_00015.png  \n",
            "  inflating: train/7/00007_00017_00016.png  \n",
            "  inflating: train/7/00007_00017_00017.png  \n",
            "  inflating: train/7/00007_00017_00018.png  \n",
            "  inflating: train/7/00007_00017_00019.png  \n",
            "  inflating: train/7/00007_00017_00020.png  \n",
            "  inflating: train/7/00007_00017_00021.png  \n",
            "  inflating: train/7/00007_00017_00022.png  \n",
            "  inflating: train/7/00007_00017_00023.png  \n",
            "  inflating: train/7/00007_00017_00024.png  \n",
            "  inflating: train/7/00007_00017_00025.png  \n",
            "  inflating: train/7/00007_00017_00026.png  \n",
            "  inflating: train/7/00007_00017_00027.png  \n",
            "  inflating: train/7/00007_00017_00028.png  \n",
            "  inflating: train/7/00007_00017_00029.png  \n",
            "  inflating: train/7/00007_00018_00000.png  \n",
            "  inflating: train/7/00007_00018_00001.png  \n",
            "  inflating: train/7/00007_00018_00002.png  \n",
            "  inflating: train/7/00007_00018_00003.png  \n",
            "  inflating: train/7/00007_00018_00004.png  \n",
            "  inflating: train/7/00007_00018_00005.png  \n",
            "  inflating: train/7/00007_00018_00006.png  \n",
            "  inflating: train/7/00007_00018_00007.png  \n",
            "  inflating: train/7/00007_00018_00008.png  \n",
            "  inflating: train/7/00007_00018_00009.png  \n",
            "  inflating: train/7/00007_00018_00010.png  \n",
            "  inflating: train/7/00007_00018_00011.png  \n",
            "  inflating: train/7/00007_00018_00012.png  \n",
            "  inflating: train/7/00007_00018_00013.png  \n",
            "  inflating: train/7/00007_00018_00014.png  \n",
            "  inflating: train/7/00007_00018_00015.png  \n",
            "  inflating: train/7/00007_00018_00016.png  \n",
            "  inflating: train/7/00007_00018_00017.png  \n",
            "  inflating: train/7/00007_00018_00018.png  \n",
            "  inflating: train/7/00007_00018_00019.png  \n",
            "  inflating: train/7/00007_00018_00020.png  \n",
            "  inflating: train/7/00007_00018_00021.png  \n",
            "  inflating: train/7/00007_00018_00022.png  \n",
            "  inflating: train/7/00007_00018_00023.png  \n",
            "  inflating: train/7/00007_00018_00024.png  \n",
            "  inflating: train/7/00007_00018_00025.png  \n",
            "  inflating: train/7/00007_00018_00026.png  \n",
            "  inflating: train/7/00007_00018_00027.png  \n",
            "  inflating: train/7/00007_00018_00028.png  \n",
            "  inflating: train/7/00007_00018_00029.png  \n",
            "  inflating: train/7/00007_00019_00000.png  \n",
            "  inflating: train/7/00007_00019_00001.png  \n",
            "  inflating: train/7/00007_00019_00002.png  \n",
            "  inflating: train/7/00007_00019_00003.png  \n",
            "  inflating: train/7/00007_00019_00004.png  \n",
            "  inflating: train/7/00007_00019_00005.png  \n",
            "  inflating: train/7/00007_00019_00006.png  \n",
            "  inflating: train/7/00007_00019_00007.png  \n",
            "  inflating: train/7/00007_00019_00008.png  \n",
            "  inflating: train/7/00007_00019_00009.png  \n",
            "  inflating: train/7/00007_00019_00010.png  \n",
            "  inflating: train/7/00007_00019_00011.png  \n",
            "  inflating: train/7/00007_00019_00012.png  \n",
            "  inflating: train/7/00007_00019_00013.png  \n",
            "  inflating: train/7/00007_00019_00014.png  \n",
            "  inflating: train/7/00007_00019_00015.png  \n",
            "  inflating: train/7/00007_00019_00016.png  \n",
            "  inflating: train/7/00007_00019_00017.png  \n",
            "  inflating: train/7/00007_00019_00018.png  \n",
            "  inflating: train/7/00007_00019_00019.png  \n",
            "  inflating: train/7/00007_00019_00020.png  \n",
            "  inflating: train/7/00007_00019_00021.png  \n",
            "  inflating: train/7/00007_00019_00022.png  \n",
            "  inflating: train/7/00007_00019_00023.png  \n",
            "  inflating: train/7/00007_00019_00024.png  \n",
            "  inflating: train/7/00007_00019_00025.png  \n",
            "  inflating: train/7/00007_00019_00026.png  \n",
            "  inflating: train/7/00007_00019_00027.png  \n",
            "  inflating: train/7/00007_00019_00028.png  \n",
            "  inflating: train/7/00007_00019_00029.png  \n",
            "  inflating: train/7/00007_00020_00000.png  \n",
            "  inflating: train/7/00007_00020_00001.png  \n",
            "  inflating: train/7/00007_00020_00002.png  \n",
            "  inflating: train/7/00007_00020_00003.png  \n",
            "  inflating: train/7/00007_00020_00004.png  \n",
            "  inflating: train/7/00007_00020_00005.png  \n",
            "  inflating: train/7/00007_00020_00006.png  \n",
            "  inflating: train/7/00007_00020_00007.png  \n",
            "  inflating: train/7/00007_00020_00008.png  \n",
            "  inflating: train/7/00007_00020_00009.png  \n",
            "  inflating: train/7/00007_00020_00010.png  \n",
            "  inflating: train/7/00007_00020_00011.png  \n",
            "  inflating: train/7/00007_00020_00012.png  \n",
            "  inflating: train/7/00007_00020_00013.png  \n",
            "  inflating: train/7/00007_00020_00014.png  \n",
            "  inflating: train/7/00007_00020_00015.png  \n",
            "  inflating: train/7/00007_00020_00016.png  \n",
            "  inflating: train/7/00007_00020_00017.png  \n",
            "  inflating: train/7/00007_00020_00018.png  \n",
            "  inflating: train/7/00007_00020_00019.png  \n",
            "  inflating: train/7/00007_00020_00020.png  \n",
            "  inflating: train/7/00007_00020_00021.png  \n",
            "  inflating: train/7/00007_00020_00022.png  \n",
            "  inflating: train/7/00007_00020_00023.png  \n",
            "  inflating: train/7/00007_00020_00024.png  \n",
            "  inflating: train/7/00007_00020_00025.png  \n",
            "  inflating: train/7/00007_00020_00026.png  \n",
            "  inflating: train/7/00007_00020_00027.png  \n",
            "  inflating: train/7/00007_00020_00028.png  \n",
            "  inflating: train/7/00007_00020_00029.png  \n",
            "  inflating: train/7/00007_00021_00000.png  \n",
            "  inflating: train/7/00007_00021_00001.png  \n",
            "  inflating: train/7/00007_00021_00002.png  \n",
            "  inflating: train/7/00007_00021_00003.png  \n",
            "  inflating: train/7/00007_00021_00004.png  \n",
            "  inflating: train/7/00007_00021_00005.png  \n",
            "  inflating: train/7/00007_00021_00006.png  \n",
            "  inflating: train/7/00007_00021_00007.png  \n",
            "  inflating: train/7/00007_00021_00008.png  \n",
            "  inflating: train/7/00007_00021_00009.png  \n",
            "  inflating: train/7/00007_00021_00010.png  \n",
            "  inflating: train/7/00007_00021_00011.png  \n",
            "  inflating: train/7/00007_00021_00012.png  \n",
            "  inflating: train/7/00007_00021_00013.png  \n",
            "  inflating: train/7/00007_00021_00014.png  \n",
            "  inflating: train/7/00007_00021_00015.png  \n",
            "  inflating: train/7/00007_00021_00016.png  \n",
            "  inflating: train/7/00007_00021_00017.png  \n",
            "  inflating: train/7/00007_00021_00018.png  \n",
            "  inflating: train/7/00007_00021_00019.png  \n",
            "  inflating: train/7/00007_00021_00020.png  \n",
            "  inflating: train/7/00007_00021_00021.png  \n",
            "  inflating: train/7/00007_00021_00022.png  \n",
            "  inflating: train/7/00007_00021_00023.png  \n",
            "  inflating: train/7/00007_00021_00024.png  \n",
            "  inflating: train/7/00007_00021_00025.png  \n",
            "  inflating: train/7/00007_00021_00026.png  \n",
            "  inflating: train/7/00007_00021_00027.png  \n",
            "  inflating: train/7/00007_00021_00028.png  \n",
            "  inflating: train/7/00007_00021_00029.png  \n",
            "  inflating: train/7/00007_00022_00000.png  \n",
            "  inflating: train/7/00007_00022_00001.png  \n",
            "  inflating: train/7/00007_00022_00002.png  \n",
            "  inflating: train/7/00007_00022_00003.png  \n",
            "  inflating: train/7/00007_00022_00004.png  \n",
            "  inflating: train/7/00007_00022_00005.png  \n",
            "  inflating: train/7/00007_00022_00006.png  \n",
            "  inflating: train/7/00007_00022_00007.png  \n",
            "  inflating: train/7/00007_00022_00008.png  \n",
            "  inflating: train/7/00007_00022_00009.png  \n",
            "  inflating: train/7/00007_00022_00010.png  \n",
            "  inflating: train/7/00007_00022_00011.png  \n",
            "  inflating: train/7/00007_00022_00012.png  \n",
            "  inflating: train/7/00007_00022_00013.png  \n",
            "  inflating: train/7/00007_00022_00014.png  \n",
            "  inflating: train/7/00007_00022_00015.png  \n",
            "  inflating: train/7/00007_00022_00016.png  \n",
            "  inflating: train/7/00007_00022_00017.png  \n",
            "  inflating: train/7/00007_00022_00018.png  \n",
            "  inflating: train/7/00007_00022_00019.png  \n",
            "  inflating: train/7/00007_00022_00020.png  \n",
            "  inflating: train/7/00007_00022_00021.png  \n",
            "  inflating: train/7/00007_00022_00022.png  \n",
            "  inflating: train/7/00007_00022_00023.png  \n",
            "  inflating: train/7/00007_00022_00024.png  \n",
            "  inflating: train/7/00007_00022_00025.png  \n",
            "  inflating: train/7/00007_00022_00026.png  \n",
            "  inflating: train/7/00007_00022_00027.png  \n",
            "  inflating: train/7/00007_00022_00028.png  \n",
            "  inflating: train/7/00007_00022_00029.png  \n",
            "  inflating: train/7/00007_00023_00000.png  \n",
            "  inflating: train/7/00007_00023_00001.png  \n",
            "  inflating: train/7/00007_00023_00002.png  \n",
            "  inflating: train/7/00007_00023_00003.png  \n",
            "  inflating: train/7/00007_00023_00004.png  \n",
            "  inflating: train/7/00007_00023_00005.png  \n",
            "  inflating: train/7/00007_00023_00006.png  \n",
            "  inflating: train/7/00007_00023_00007.png  \n",
            "  inflating: train/7/00007_00023_00008.png  \n",
            "  inflating: train/7/00007_00023_00009.png  \n",
            "  inflating: train/7/00007_00023_00010.png  \n",
            "  inflating: train/7/00007_00023_00011.png  \n",
            "  inflating: train/7/00007_00023_00012.png  \n",
            "  inflating: train/7/00007_00023_00013.png  \n",
            "  inflating: train/7/00007_00023_00014.png  \n",
            "  inflating: train/7/00007_00023_00015.png  \n",
            "  inflating: train/7/00007_00023_00016.png  \n",
            "  inflating: train/7/00007_00023_00017.png  \n",
            "  inflating: train/7/00007_00023_00018.png  \n",
            "  inflating: train/7/00007_00023_00019.png  \n",
            "  inflating: train/7/00007_00023_00020.png  \n",
            "  inflating: train/7/00007_00023_00021.png  \n",
            "  inflating: train/7/00007_00023_00022.png  \n",
            "  inflating: train/7/00007_00023_00023.png  \n",
            "  inflating: train/7/00007_00023_00024.png  \n",
            "  inflating: train/7/00007_00023_00025.png  \n",
            "  inflating: train/7/00007_00023_00026.png  \n",
            "  inflating: train/7/00007_00023_00027.png  \n",
            "  inflating: train/7/00007_00023_00028.png  \n",
            "  inflating: train/7/00007_00023_00029.png  \n",
            "  inflating: train/7/00007_00024_00000.png  \n",
            "  inflating: train/7/00007_00024_00001.png  \n",
            "  inflating: train/7/00007_00024_00002.png  \n",
            "  inflating: train/7/00007_00024_00003.png  \n",
            "  inflating: train/7/00007_00024_00004.png  \n",
            "  inflating: train/7/00007_00024_00005.png  \n",
            "  inflating: train/7/00007_00024_00006.png  \n",
            "  inflating: train/7/00007_00024_00007.png  \n",
            "  inflating: train/7/00007_00024_00008.png  \n",
            "  inflating: train/7/00007_00024_00009.png  \n",
            "  inflating: train/7/00007_00024_00010.png  \n",
            "  inflating: train/7/00007_00024_00011.png  \n",
            "  inflating: train/7/00007_00024_00012.png  \n",
            "  inflating: train/7/00007_00024_00013.png  \n",
            "  inflating: train/7/00007_00024_00014.png  \n",
            "  inflating: train/7/00007_00024_00015.png  \n",
            "  inflating: train/7/00007_00024_00016.png  \n",
            "  inflating: train/7/00007_00024_00017.png  \n",
            "  inflating: train/7/00007_00024_00018.png  \n",
            "  inflating: train/7/00007_00024_00019.png  \n",
            "  inflating: train/7/00007_00024_00020.png  \n",
            "  inflating: train/7/00007_00024_00021.png  \n",
            "  inflating: train/7/00007_00024_00022.png  \n",
            "  inflating: train/7/00007_00024_00023.png  \n",
            "  inflating: train/7/00007_00024_00024.png  \n",
            "  inflating: train/7/00007_00024_00025.png  \n",
            "  inflating: train/7/00007_00024_00026.png  \n",
            "  inflating: train/7/00007_00024_00027.png  \n",
            "  inflating: train/7/00007_00024_00028.png  \n",
            "  inflating: train/7/00007_00024_00029.png  \n",
            "  inflating: train/7/00007_00025_00000.png  \n",
            "  inflating: train/7/00007_00025_00001.png  \n",
            "  inflating: train/7/00007_00025_00002.png  \n",
            "  inflating: train/7/00007_00025_00003.png  \n",
            "  inflating: train/7/00007_00025_00004.png  \n",
            "  inflating: train/7/00007_00025_00005.png  \n",
            "  inflating: train/7/00007_00025_00006.png  \n",
            "  inflating: train/7/00007_00025_00007.png  \n",
            "  inflating: train/7/00007_00025_00008.png  \n",
            "  inflating: train/7/00007_00025_00009.png  \n",
            "  inflating: train/7/00007_00025_00010.png  \n",
            "  inflating: train/7/00007_00025_00011.png  \n",
            "  inflating: train/7/00007_00025_00012.png  \n",
            "  inflating: train/7/00007_00025_00013.png  \n",
            "  inflating: train/7/00007_00025_00014.png  \n",
            "  inflating: train/7/00007_00025_00015.png  \n",
            "  inflating: train/7/00007_00025_00016.png  \n",
            "  inflating: train/7/00007_00025_00017.png  \n",
            "  inflating: train/7/00007_00025_00018.png  \n",
            "  inflating: train/7/00007_00025_00019.png  \n",
            "  inflating: train/7/00007_00025_00020.png  \n",
            "  inflating: train/7/00007_00025_00021.png  \n",
            "  inflating: train/7/00007_00025_00022.png  \n",
            "  inflating: train/7/00007_00025_00023.png  \n",
            "  inflating: train/7/00007_00025_00024.png  \n",
            "  inflating: train/7/00007_00025_00025.png  \n",
            "  inflating: train/7/00007_00025_00026.png  \n",
            "  inflating: train/7/00007_00025_00027.png  \n",
            "  inflating: train/7/00007_00025_00028.png  \n",
            "  inflating: train/7/00007_00025_00029.png  \n",
            "  inflating: train/7/00007_00026_00000.png  \n",
            "  inflating: train/7/00007_00026_00001.png  \n",
            "  inflating: train/7/00007_00026_00002.png  \n",
            "  inflating: train/7/00007_00026_00003.png  \n",
            "  inflating: train/7/00007_00026_00004.png  \n",
            "  inflating: train/7/00007_00026_00005.png  \n",
            "  inflating: train/7/00007_00026_00006.png  \n",
            "  inflating: train/7/00007_00026_00007.png  \n",
            "  inflating: train/7/00007_00026_00008.png  \n",
            "  inflating: train/7/00007_00026_00009.png  \n",
            "  inflating: train/7/00007_00026_00010.png  \n",
            "  inflating: train/7/00007_00026_00011.png  \n",
            "  inflating: train/7/00007_00026_00012.png  \n",
            "  inflating: train/7/00007_00026_00013.png  \n",
            "  inflating: train/7/00007_00026_00014.png  \n",
            "  inflating: train/7/00007_00026_00015.png  \n",
            "  inflating: train/7/00007_00026_00016.png  \n",
            "  inflating: train/7/00007_00026_00017.png  \n",
            "  inflating: train/7/00007_00026_00018.png  \n",
            "  inflating: train/7/00007_00026_00019.png  \n",
            "  inflating: train/7/00007_00026_00020.png  \n",
            "  inflating: train/7/00007_00026_00021.png  \n",
            "  inflating: train/7/00007_00026_00022.png  \n",
            "  inflating: train/7/00007_00026_00023.png  \n",
            "  inflating: train/7/00007_00026_00024.png  \n",
            "  inflating: train/7/00007_00026_00025.png  \n",
            "  inflating: train/7/00007_00026_00026.png  \n",
            "  inflating: train/7/00007_00026_00027.png  \n",
            "  inflating: train/7/00007_00026_00028.png  \n",
            "  inflating: train/7/00007_00026_00029.png  \n",
            "  inflating: train/7/00007_00027_00000.png  \n",
            "  inflating: train/7/00007_00027_00001.png  \n",
            "  inflating: train/7/00007_00027_00002.png  \n",
            "  inflating: train/7/00007_00027_00003.png  \n",
            "  inflating: train/7/00007_00027_00004.png  \n",
            "  inflating: train/7/00007_00027_00005.png  \n",
            "  inflating: train/7/00007_00027_00006.png  \n",
            "  inflating: train/7/00007_00027_00007.png  \n",
            "  inflating: train/7/00007_00027_00008.png  \n",
            "  inflating: train/7/00007_00027_00009.png  \n",
            "  inflating: train/7/00007_00027_00010.png  \n",
            "  inflating: train/7/00007_00027_00011.png  \n",
            "  inflating: train/7/00007_00027_00012.png  \n",
            "  inflating: train/7/00007_00027_00013.png  \n",
            "  inflating: train/7/00007_00027_00014.png  \n",
            "  inflating: train/7/00007_00027_00015.png  \n",
            "  inflating: train/7/00007_00027_00016.png  \n",
            "  inflating: train/7/00007_00027_00017.png  \n",
            "  inflating: train/7/00007_00027_00018.png  \n",
            "  inflating: train/7/00007_00027_00019.png  \n",
            "  inflating: train/7/00007_00027_00020.png  \n",
            "  inflating: train/7/00007_00027_00021.png  \n",
            "  inflating: train/7/00007_00027_00022.png  \n",
            "  inflating: train/7/00007_00027_00023.png  \n",
            "  inflating: train/7/00007_00027_00024.png  \n",
            "  inflating: train/7/00007_00027_00025.png  \n",
            "  inflating: train/7/00007_00027_00026.png  \n",
            "  inflating: train/7/00007_00027_00027.png  \n",
            "  inflating: train/7/00007_00027_00028.png  \n",
            "  inflating: train/7/00007_00027_00029.png  \n",
            "  inflating: train/7/00007_00028_00000.png  \n",
            "  inflating: train/7/00007_00028_00001.png  \n",
            "  inflating: train/7/00007_00028_00002.png  \n",
            "  inflating: train/7/00007_00028_00003.png  \n",
            "  inflating: train/7/00007_00028_00004.png  \n",
            "  inflating: train/7/00007_00028_00005.png  \n",
            "  inflating: train/7/00007_00028_00006.png  \n",
            "  inflating: train/7/00007_00028_00007.png  \n",
            "  inflating: train/7/00007_00028_00008.png  \n",
            "  inflating: train/7/00007_00028_00009.png  \n",
            "  inflating: train/7/00007_00028_00010.png  \n",
            "  inflating: train/7/00007_00028_00011.png  \n",
            "  inflating: train/7/00007_00028_00012.png  \n",
            "  inflating: train/7/00007_00028_00013.png  \n",
            "  inflating: train/7/00007_00028_00014.png  \n",
            "  inflating: train/7/00007_00028_00015.png  \n",
            "  inflating: train/7/00007_00028_00016.png  \n",
            "  inflating: train/7/00007_00028_00017.png  \n",
            "  inflating: train/7/00007_00028_00018.png  \n",
            "  inflating: train/7/00007_00028_00019.png  \n",
            "  inflating: train/7/00007_00028_00020.png  \n",
            "  inflating: train/7/00007_00028_00021.png  \n",
            "  inflating: train/7/00007_00028_00022.png  \n",
            "  inflating: train/7/00007_00028_00023.png  \n",
            "  inflating: train/7/00007_00028_00024.png  \n",
            "  inflating: train/7/00007_00028_00025.png  \n",
            "  inflating: train/7/00007_00028_00026.png  \n",
            "  inflating: train/7/00007_00028_00027.png  \n",
            "  inflating: train/7/00007_00028_00028.png  \n",
            "  inflating: train/7/00007_00028_00029.png  \n",
            "  inflating: train/7/00007_00029_00000.png  \n",
            "  inflating: train/7/00007_00029_00001.png  \n",
            "  inflating: train/7/00007_00029_00002.png  \n",
            "  inflating: train/7/00007_00029_00003.png  \n",
            "  inflating: train/7/00007_00029_00004.png  \n",
            "  inflating: train/7/00007_00029_00005.png  \n",
            "  inflating: train/7/00007_00029_00006.png  \n",
            "  inflating: train/7/00007_00029_00007.png  \n",
            "  inflating: train/7/00007_00029_00008.png  \n",
            "  inflating: train/7/00007_00029_00009.png  \n",
            "  inflating: train/7/00007_00029_00010.png  \n",
            "  inflating: train/7/00007_00029_00011.png  \n",
            "  inflating: train/7/00007_00029_00012.png  \n",
            "  inflating: train/7/00007_00029_00013.png  \n",
            "  inflating: train/7/00007_00029_00014.png  \n",
            "  inflating: train/7/00007_00029_00015.png  \n",
            "  inflating: train/7/00007_00029_00016.png  \n",
            "  inflating: train/7/00007_00029_00017.png  \n",
            "  inflating: train/7/00007_00029_00018.png  \n",
            "  inflating: train/7/00007_00029_00019.png  \n",
            "  inflating: train/7/00007_00029_00020.png  \n",
            "  inflating: train/7/00007_00029_00021.png  \n",
            "  inflating: train/7/00007_00029_00022.png  \n",
            "  inflating: train/7/00007_00029_00023.png  \n",
            "  inflating: train/7/00007_00029_00024.png  \n",
            "  inflating: train/7/00007_00029_00025.png  \n",
            "  inflating: train/7/00007_00029_00026.png  \n",
            "  inflating: train/7/00007_00029_00027.png  \n",
            "  inflating: train/7/00007_00029_00028.png  \n",
            "  inflating: train/7/00007_00029_00029.png  \n",
            "  inflating: train/7/00007_00030_00000.png  \n",
            "  inflating: train/7/00007_00030_00001.png  \n",
            "  inflating: train/7/00007_00030_00002.png  \n",
            "  inflating: train/7/00007_00030_00003.png  \n",
            "  inflating: train/7/00007_00030_00004.png  \n",
            "  inflating: train/7/00007_00030_00005.png  \n",
            "  inflating: train/7/00007_00030_00006.png  \n",
            "  inflating: train/7/00007_00030_00007.png  \n",
            "  inflating: train/7/00007_00030_00008.png  \n",
            "  inflating: train/7/00007_00030_00009.png  \n",
            "  inflating: train/7/00007_00030_00010.png  \n",
            "  inflating: train/7/00007_00030_00011.png  \n",
            "  inflating: train/7/00007_00030_00012.png  \n",
            "  inflating: train/7/00007_00030_00013.png  \n",
            "  inflating: train/7/00007_00030_00014.png  \n",
            "  inflating: train/7/00007_00030_00015.png  \n",
            "  inflating: train/7/00007_00030_00016.png  \n",
            "  inflating: train/7/00007_00030_00017.png  \n",
            "  inflating: train/7/00007_00030_00018.png  \n",
            "  inflating: train/7/00007_00030_00019.png  \n",
            "  inflating: train/7/00007_00030_00020.png  \n",
            "  inflating: train/7/00007_00030_00021.png  \n",
            "  inflating: train/7/00007_00030_00022.png  \n",
            "  inflating: train/7/00007_00030_00023.png  \n",
            "  inflating: train/7/00007_00030_00024.png  \n",
            "  inflating: train/7/00007_00030_00025.png  \n",
            "  inflating: train/7/00007_00030_00026.png  \n",
            "  inflating: train/7/00007_00030_00027.png  \n",
            "  inflating: train/7/00007_00030_00028.png  \n",
            "  inflating: train/7/00007_00030_00029.png  \n",
            "  inflating: train/7/00007_00031_00000.png  \n",
            "  inflating: train/7/00007_00031_00001.png  \n",
            "  inflating: train/7/00007_00031_00002.png  \n",
            "  inflating: train/7/00007_00031_00003.png  \n",
            "  inflating: train/7/00007_00031_00004.png  \n",
            "  inflating: train/7/00007_00031_00005.png  \n",
            "  inflating: train/7/00007_00031_00006.png  \n",
            "  inflating: train/7/00007_00031_00007.png  \n",
            "  inflating: train/7/00007_00031_00008.png  \n",
            "  inflating: train/7/00007_00031_00009.png  \n",
            "  inflating: train/7/00007_00031_00010.png  \n",
            "  inflating: train/7/00007_00031_00011.png  \n",
            "  inflating: train/7/00007_00031_00012.png  \n",
            "  inflating: train/7/00007_00031_00013.png  \n",
            "  inflating: train/7/00007_00031_00014.png  \n",
            "  inflating: train/7/00007_00031_00015.png  \n",
            "  inflating: train/7/00007_00031_00016.png  \n",
            "  inflating: train/7/00007_00031_00017.png  \n",
            "  inflating: train/7/00007_00031_00018.png  \n",
            "  inflating: train/7/00007_00031_00019.png  \n",
            "  inflating: train/7/00007_00031_00020.png  \n",
            "  inflating: train/7/00007_00031_00021.png  \n",
            "  inflating: train/7/00007_00031_00022.png  \n",
            "  inflating: train/7/00007_00031_00023.png  \n",
            "  inflating: train/7/00007_00031_00024.png  \n",
            "  inflating: train/7/00007_00031_00025.png  \n",
            "  inflating: train/7/00007_00031_00026.png  \n",
            "  inflating: train/7/00007_00031_00027.png  \n",
            "  inflating: train/7/00007_00031_00028.png  \n",
            "  inflating: train/7/00007_00031_00029.png  \n",
            "  inflating: train/7/00007_00032_00000.png  \n",
            "  inflating: train/7/00007_00032_00001.png  \n",
            "  inflating: train/7/00007_00032_00002.png  \n",
            "  inflating: train/7/00007_00032_00003.png  \n",
            "  inflating: train/7/00007_00032_00004.png  \n",
            "  inflating: train/7/00007_00032_00005.png  \n",
            "  inflating: train/7/00007_00032_00006.png  \n",
            "  inflating: train/7/00007_00032_00007.png  \n",
            "  inflating: train/7/00007_00032_00008.png  \n",
            "  inflating: train/7/00007_00032_00009.png  \n",
            "  inflating: train/7/00007_00032_00010.png  \n",
            "  inflating: train/7/00007_00032_00011.png  \n",
            "  inflating: train/7/00007_00032_00012.png  \n",
            "  inflating: train/7/00007_00032_00013.png  \n",
            "  inflating: train/7/00007_00032_00014.png  \n",
            "  inflating: train/7/00007_00032_00015.png  \n",
            "  inflating: train/7/00007_00032_00016.png  \n",
            "  inflating: train/7/00007_00032_00017.png  \n",
            "  inflating: train/7/00007_00032_00018.png  \n",
            "  inflating: train/7/00007_00032_00019.png  \n",
            "  inflating: train/7/00007_00032_00020.png  \n",
            "  inflating: train/7/00007_00032_00021.png  \n",
            "  inflating: train/7/00007_00032_00022.png  \n",
            "  inflating: train/7/00007_00032_00023.png  \n",
            "  inflating: train/7/00007_00032_00024.png  \n",
            "  inflating: train/7/00007_00032_00025.png  \n",
            "  inflating: train/7/00007_00032_00026.png  \n",
            "  inflating: train/7/00007_00032_00027.png  \n",
            "  inflating: train/7/00007_00032_00028.png  \n",
            "  inflating: train/7/00007_00032_00029.png  \n",
            "  inflating: train/7/00007_00033_00000.png  \n",
            "  inflating: train/7/00007_00033_00001.png  \n",
            "  inflating: train/7/00007_00033_00002.png  \n",
            "  inflating: train/7/00007_00033_00003.png  \n",
            "  inflating: train/7/00007_00033_00004.png  \n",
            "  inflating: train/7/00007_00033_00005.png  \n",
            "  inflating: train/7/00007_00033_00006.png  \n",
            "  inflating: train/7/00007_00033_00007.png  \n",
            "  inflating: train/7/00007_00033_00008.png  \n",
            "  inflating: train/7/00007_00033_00009.png  \n",
            "  inflating: train/7/00007_00033_00010.png  \n",
            "  inflating: train/7/00007_00033_00011.png  \n",
            "  inflating: train/7/00007_00033_00012.png  \n",
            "  inflating: train/7/00007_00033_00013.png  \n",
            "  inflating: train/7/00007_00033_00014.png  \n",
            "  inflating: train/7/00007_00033_00015.png  \n",
            "  inflating: train/7/00007_00033_00016.png  \n",
            "  inflating: train/7/00007_00033_00017.png  \n",
            "  inflating: train/7/00007_00033_00018.png  \n",
            "  inflating: train/7/00007_00033_00019.png  \n",
            "  inflating: train/7/00007_00033_00020.png  \n",
            "  inflating: train/7/00007_00033_00021.png  \n",
            "  inflating: train/7/00007_00033_00022.png  \n",
            "  inflating: train/7/00007_00033_00023.png  \n",
            "  inflating: train/7/00007_00033_00024.png  \n",
            "  inflating: train/7/00007_00033_00025.png  \n",
            "  inflating: train/7/00007_00033_00026.png  \n",
            "  inflating: train/7/00007_00033_00027.png  \n",
            "  inflating: train/7/00007_00033_00028.png  \n",
            "  inflating: train/7/00007_00033_00029.png  \n",
            "  inflating: train/7/00007_00034_00000.png  \n",
            "  inflating: train/7/00007_00034_00001.png  \n",
            "  inflating: train/7/00007_00034_00002.png  \n",
            "  inflating: train/7/00007_00034_00003.png  \n",
            "  inflating: train/7/00007_00034_00004.png  \n",
            "  inflating: train/7/00007_00034_00005.png  \n",
            "  inflating: train/7/00007_00034_00006.png  \n",
            "  inflating: train/7/00007_00034_00007.png  \n",
            "  inflating: train/7/00007_00034_00008.png  \n",
            "  inflating: train/7/00007_00034_00009.png  \n",
            "  inflating: train/7/00007_00034_00010.png  \n",
            "  inflating: train/7/00007_00034_00011.png  \n",
            "  inflating: train/7/00007_00034_00012.png  \n",
            "  inflating: train/7/00007_00034_00013.png  \n",
            "  inflating: train/7/00007_00034_00014.png  \n",
            "  inflating: train/7/00007_00034_00015.png  \n",
            "  inflating: train/7/00007_00034_00016.png  \n",
            "  inflating: train/7/00007_00034_00017.png  \n",
            "  inflating: train/7/00007_00034_00018.png  \n",
            "  inflating: train/7/00007_00034_00019.png  \n",
            "  inflating: train/7/00007_00034_00020.png  \n",
            "  inflating: train/7/00007_00034_00021.png  \n",
            "  inflating: train/7/00007_00034_00022.png  \n",
            "  inflating: train/7/00007_00034_00023.png  \n",
            "  inflating: train/7/00007_00034_00024.png  \n",
            "  inflating: train/7/00007_00034_00025.png  \n",
            "  inflating: train/7/00007_00034_00026.png  \n",
            "  inflating: train/7/00007_00034_00027.png  \n",
            "  inflating: train/7/00007_00034_00028.png  \n",
            "  inflating: train/7/00007_00034_00029.png  \n",
            "  inflating: train/7/00007_00035_00000.png  \n",
            "  inflating: train/7/00007_00035_00001.png  \n",
            "  inflating: train/7/00007_00035_00002.png  \n",
            "  inflating: train/7/00007_00035_00003.png  \n",
            "  inflating: train/7/00007_00035_00004.png  \n",
            "  inflating: train/7/00007_00035_00005.png  \n",
            "  inflating: train/7/00007_00035_00006.png  \n",
            "  inflating: train/7/00007_00035_00007.png  \n",
            "  inflating: train/7/00007_00035_00008.png  \n",
            "  inflating: train/7/00007_00035_00009.png  \n",
            "  inflating: train/7/00007_00035_00010.png  \n",
            "  inflating: train/7/00007_00035_00011.png  \n",
            "  inflating: train/7/00007_00035_00012.png  \n",
            "  inflating: train/7/00007_00035_00013.png  \n",
            "  inflating: train/7/00007_00035_00014.png  \n",
            "  inflating: train/7/00007_00035_00015.png  \n",
            "  inflating: train/7/00007_00035_00016.png  \n",
            "  inflating: train/7/00007_00035_00017.png  \n",
            "  inflating: train/7/00007_00035_00018.png  \n",
            "  inflating: train/7/00007_00035_00019.png  \n",
            "  inflating: train/7/00007_00035_00020.png  \n",
            "  inflating: train/7/00007_00035_00021.png  \n",
            "  inflating: train/7/00007_00035_00022.png  \n",
            "  inflating: train/7/00007_00035_00023.png  \n",
            "  inflating: train/7/00007_00035_00024.png  \n",
            "  inflating: train/7/00007_00035_00025.png  \n",
            "  inflating: train/7/00007_00035_00026.png  \n",
            "  inflating: train/7/00007_00035_00027.png  \n",
            "  inflating: train/7/00007_00035_00028.png  \n",
            "  inflating: train/7/00007_00035_00029.png  \n",
            "  inflating: train/7/00007_00036_00000.png  \n",
            "  inflating: train/7/00007_00036_00001.png  \n",
            "  inflating: train/7/00007_00036_00002.png  \n",
            "  inflating: train/7/00007_00036_00003.png  \n",
            "  inflating: train/7/00007_00036_00004.png  \n",
            "  inflating: train/7/00007_00036_00005.png  \n",
            "  inflating: train/7/00007_00036_00006.png  \n",
            "  inflating: train/7/00007_00036_00007.png  \n",
            "  inflating: train/7/00007_00036_00008.png  \n",
            "  inflating: train/7/00007_00036_00009.png  \n",
            "  inflating: train/7/00007_00036_00010.png  \n",
            "  inflating: train/7/00007_00036_00011.png  \n",
            "  inflating: train/7/00007_00036_00012.png  \n",
            "  inflating: train/7/00007_00036_00013.png  \n",
            "  inflating: train/7/00007_00036_00014.png  \n",
            "  inflating: train/7/00007_00036_00015.png  \n",
            "  inflating: train/7/00007_00036_00016.png  \n",
            "  inflating: train/7/00007_00036_00017.png  \n",
            "  inflating: train/7/00007_00036_00018.png  \n",
            "  inflating: train/7/00007_00036_00019.png  \n",
            "  inflating: train/7/00007_00036_00020.png  \n",
            "  inflating: train/7/00007_00036_00021.png  \n",
            "  inflating: train/7/00007_00036_00022.png  \n",
            "  inflating: train/7/00007_00036_00023.png  \n",
            "  inflating: train/7/00007_00036_00024.png  \n",
            "  inflating: train/7/00007_00036_00025.png  \n",
            "  inflating: train/7/00007_00036_00026.png  \n",
            "  inflating: train/7/00007_00036_00027.png  \n",
            "  inflating: train/7/00007_00036_00028.png  \n",
            "  inflating: train/7/00007_00036_00029.png  \n",
            "  inflating: train/7/00007_00037_00000.png  \n",
            "  inflating: train/7/00007_00037_00001.png  \n",
            "  inflating: train/7/00007_00037_00002.png  \n",
            "  inflating: train/7/00007_00037_00003.png  \n",
            "  inflating: train/7/00007_00037_00004.png  \n",
            "  inflating: train/7/00007_00037_00005.png  \n",
            "  inflating: train/7/00007_00037_00006.png  \n",
            "  inflating: train/7/00007_00037_00007.png  \n",
            "  inflating: train/7/00007_00037_00008.png  \n",
            "  inflating: train/7/00007_00037_00009.png  \n",
            "  inflating: train/7/00007_00037_00010.png  \n",
            "  inflating: train/7/00007_00037_00011.png  \n",
            "  inflating: train/7/00007_00037_00012.png  \n",
            "  inflating: train/7/00007_00037_00013.png  \n",
            "  inflating: train/7/00007_00037_00014.png  \n",
            "  inflating: train/7/00007_00037_00015.png  \n",
            "  inflating: train/7/00007_00037_00016.png  \n",
            "  inflating: train/7/00007_00037_00017.png  \n",
            "  inflating: train/7/00007_00037_00018.png  \n",
            "  inflating: train/7/00007_00037_00019.png  \n",
            "  inflating: train/7/00007_00037_00020.png  \n",
            "  inflating: train/7/00007_00037_00021.png  \n",
            "  inflating: train/7/00007_00037_00022.png  \n",
            "  inflating: train/7/00007_00037_00023.png  \n",
            "  inflating: train/7/00007_00037_00024.png  \n",
            "  inflating: train/7/00007_00037_00025.png  \n",
            "  inflating: train/7/00007_00037_00026.png  \n",
            "  inflating: train/7/00007_00037_00027.png  \n",
            "  inflating: train/7/00007_00037_00028.png  \n",
            "  inflating: train/7/00007_00037_00029.png  \n",
            "  inflating: train/7/00007_00038_00000.png  \n",
            "  inflating: train/7/00007_00038_00001.png  \n",
            "  inflating: train/7/00007_00038_00002.png  \n",
            "  inflating: train/7/00007_00038_00003.png  \n",
            "  inflating: train/7/00007_00038_00004.png  \n",
            "  inflating: train/7/00007_00038_00005.png  \n",
            "  inflating: train/7/00007_00038_00006.png  \n",
            "  inflating: train/7/00007_00038_00007.png  \n",
            "  inflating: train/7/00007_00038_00008.png  \n",
            "  inflating: train/7/00007_00038_00009.png  \n",
            "  inflating: train/7/00007_00038_00010.png  \n",
            "  inflating: train/7/00007_00038_00011.png  \n",
            "  inflating: train/7/00007_00038_00012.png  \n",
            "  inflating: train/7/00007_00038_00013.png  \n",
            "  inflating: train/7/00007_00038_00014.png  \n",
            "  inflating: train/7/00007_00038_00015.png  \n",
            "  inflating: train/7/00007_00038_00016.png  \n",
            "  inflating: train/7/00007_00038_00017.png  \n",
            "  inflating: train/7/00007_00038_00018.png  \n",
            "  inflating: train/7/00007_00038_00019.png  \n",
            "  inflating: train/7/00007_00038_00020.png  \n",
            "  inflating: train/7/00007_00038_00021.png  \n",
            "  inflating: train/7/00007_00038_00022.png  \n",
            "  inflating: train/7/00007_00038_00023.png  \n",
            "  inflating: train/7/00007_00038_00024.png  \n",
            "  inflating: train/7/00007_00038_00025.png  \n",
            "  inflating: train/7/00007_00038_00026.png  \n",
            "  inflating: train/7/00007_00038_00027.png  \n",
            "  inflating: train/7/00007_00038_00028.png  \n",
            "  inflating: train/7/00007_00038_00029.png  \n",
            "  inflating: train/7/00007_00039_00000.png  \n",
            "  inflating: train/7/00007_00039_00001.png  \n",
            "  inflating: train/7/00007_00039_00002.png  \n",
            "  inflating: train/7/00007_00039_00003.png  \n",
            "  inflating: train/7/00007_00039_00004.png  \n",
            "  inflating: train/7/00007_00039_00005.png  \n",
            "  inflating: train/7/00007_00039_00006.png  \n",
            "  inflating: train/7/00007_00039_00007.png  \n",
            "  inflating: train/7/00007_00039_00008.png  \n",
            "  inflating: train/7/00007_00039_00009.png  \n",
            "  inflating: train/7/00007_00039_00010.png  \n",
            "  inflating: train/7/00007_00039_00011.png  \n",
            "  inflating: train/7/00007_00039_00012.png  \n",
            "  inflating: train/7/00007_00039_00013.png  \n",
            "  inflating: train/7/00007_00039_00014.png  \n",
            "  inflating: train/7/00007_00039_00015.png  \n",
            "  inflating: train/7/00007_00039_00016.png  \n",
            "  inflating: train/7/00007_00039_00017.png  \n",
            "  inflating: train/7/00007_00039_00018.png  \n",
            "  inflating: train/7/00007_00039_00019.png  \n",
            "  inflating: train/7/00007_00039_00020.png  \n",
            "  inflating: train/7/00007_00039_00021.png  \n",
            "  inflating: train/7/00007_00039_00022.png  \n",
            "  inflating: train/7/00007_00039_00023.png  \n",
            "  inflating: train/7/00007_00039_00024.png  \n",
            "  inflating: train/7/00007_00039_00025.png  \n",
            "  inflating: train/7/00007_00039_00026.png  \n",
            "  inflating: train/7/00007_00039_00027.png  \n",
            "  inflating: train/7/00007_00039_00028.png  \n",
            "  inflating: train/7/00007_00039_00029.png  \n",
            "  inflating: train/7/00007_00040_00000.png  \n",
            "  inflating: train/7/00007_00040_00001.png  \n",
            "  inflating: train/7/00007_00040_00002.png  \n",
            "  inflating: train/7/00007_00040_00003.png  \n",
            "  inflating: train/7/00007_00040_00004.png  \n",
            "  inflating: train/7/00007_00040_00005.png  \n",
            "  inflating: train/7/00007_00040_00006.png  \n",
            "  inflating: train/7/00007_00040_00007.png  \n",
            "  inflating: train/7/00007_00040_00008.png  \n",
            "  inflating: train/7/00007_00040_00009.png  \n",
            "  inflating: train/7/00007_00040_00010.png  \n",
            "  inflating: train/7/00007_00040_00011.png  \n",
            "  inflating: train/7/00007_00040_00012.png  \n",
            "  inflating: train/7/00007_00040_00013.png  \n",
            "  inflating: train/7/00007_00040_00014.png  \n",
            "  inflating: train/7/00007_00040_00015.png  \n",
            "  inflating: train/7/00007_00040_00016.png  \n",
            "  inflating: train/7/00007_00040_00017.png  \n",
            "  inflating: train/7/00007_00040_00018.png  \n",
            "  inflating: train/7/00007_00040_00019.png  \n",
            "  inflating: train/7/00007_00040_00020.png  \n",
            "  inflating: train/7/00007_00040_00021.png  \n",
            "  inflating: train/7/00007_00040_00022.png  \n",
            "  inflating: train/7/00007_00040_00023.png  \n",
            "  inflating: train/7/00007_00040_00024.png  \n",
            "  inflating: train/7/00007_00040_00025.png  \n",
            "  inflating: train/7/00007_00040_00026.png  \n",
            "  inflating: train/7/00007_00040_00027.png  \n",
            "  inflating: train/7/00007_00040_00028.png  \n",
            "  inflating: train/7/00007_00040_00029.png  \n",
            "  inflating: train/7/00007_00041_00000.png  \n",
            "  inflating: train/7/00007_00041_00001.png  \n",
            "  inflating: train/7/00007_00041_00002.png  \n",
            "  inflating: train/7/00007_00041_00003.png  \n",
            "  inflating: train/7/00007_00041_00004.png  \n",
            "  inflating: train/7/00007_00041_00005.png  \n",
            "  inflating: train/7/00007_00041_00006.png  \n",
            "  inflating: train/7/00007_00041_00007.png  \n",
            "  inflating: train/7/00007_00041_00008.png  \n",
            "  inflating: train/7/00007_00041_00009.png  \n",
            "  inflating: train/7/00007_00041_00010.png  \n",
            "  inflating: train/7/00007_00041_00011.png  \n",
            "  inflating: train/7/00007_00041_00012.png  \n",
            "  inflating: train/7/00007_00041_00013.png  \n",
            "  inflating: train/7/00007_00041_00014.png  \n",
            "  inflating: train/7/00007_00041_00015.png  \n",
            "  inflating: train/7/00007_00041_00016.png  \n",
            "  inflating: train/7/00007_00041_00017.png  \n",
            "  inflating: train/7/00007_00041_00018.png  \n",
            "  inflating: train/7/00007_00041_00019.png  \n",
            "  inflating: train/7/00007_00041_00020.png  \n",
            "  inflating: train/7/00007_00041_00021.png  \n",
            "  inflating: train/7/00007_00041_00022.png  \n",
            "  inflating: train/7/00007_00041_00023.png  \n",
            "  inflating: train/7/00007_00041_00024.png  \n",
            "  inflating: train/7/00007_00041_00025.png  \n",
            "  inflating: train/7/00007_00041_00026.png  \n",
            "  inflating: train/7/00007_00041_00027.png  \n",
            "  inflating: train/7/00007_00041_00028.png  \n",
            "  inflating: train/7/00007_00041_00029.png  \n",
            "  inflating: train/7/00007_00042_00000.png  \n",
            "  inflating: train/7/00007_00042_00001.png  \n",
            "  inflating: train/7/00007_00042_00002.png  \n",
            "  inflating: train/7/00007_00042_00003.png  \n",
            "  inflating: train/7/00007_00042_00004.png  \n",
            "  inflating: train/7/00007_00042_00005.png  \n",
            "  inflating: train/7/00007_00042_00006.png  \n",
            "  inflating: train/7/00007_00042_00007.png  \n",
            "  inflating: train/7/00007_00042_00008.png  \n",
            "  inflating: train/7/00007_00042_00009.png  \n",
            "  inflating: train/7/00007_00042_00010.png  \n",
            "  inflating: train/7/00007_00042_00011.png  \n",
            "  inflating: train/7/00007_00042_00012.png  \n",
            "  inflating: train/7/00007_00042_00013.png  \n",
            "  inflating: train/7/00007_00042_00014.png  \n",
            "  inflating: train/7/00007_00042_00015.png  \n",
            "  inflating: train/7/00007_00042_00016.png  \n",
            "  inflating: train/7/00007_00042_00017.png  \n",
            "  inflating: train/7/00007_00042_00018.png  \n",
            "  inflating: train/7/00007_00042_00019.png  \n",
            "  inflating: train/7/00007_00042_00020.png  \n",
            "  inflating: train/7/00007_00042_00021.png  \n",
            "  inflating: train/7/00007_00042_00022.png  \n",
            "  inflating: train/7/00007_00042_00023.png  \n",
            "  inflating: train/7/00007_00042_00024.png  \n",
            "  inflating: train/7/00007_00042_00025.png  \n",
            "  inflating: train/7/00007_00042_00026.png  \n",
            "  inflating: train/7/00007_00042_00027.png  \n",
            "  inflating: train/7/00007_00042_00028.png  \n",
            "  inflating: train/7/00007_00042_00029.png  \n",
            "  inflating: train/7/00007_00043_00000.png  \n",
            "  inflating: train/7/00007_00043_00001.png  \n",
            "  inflating: train/7/00007_00043_00002.png  \n",
            "  inflating: train/7/00007_00043_00003.png  \n",
            "  inflating: train/7/00007_00043_00004.png  \n",
            "  inflating: train/7/00007_00043_00005.png  \n",
            "  inflating: train/7/00007_00043_00006.png  \n",
            "  inflating: train/7/00007_00043_00007.png  \n",
            "  inflating: train/7/00007_00043_00008.png  \n",
            "  inflating: train/7/00007_00043_00009.png  \n",
            "  inflating: train/7/00007_00043_00010.png  \n",
            "  inflating: train/7/00007_00043_00011.png  \n",
            "  inflating: train/7/00007_00043_00012.png  \n",
            "  inflating: train/7/00007_00043_00013.png  \n",
            "  inflating: train/7/00007_00043_00014.png  \n",
            "  inflating: train/7/00007_00043_00015.png  \n",
            "  inflating: train/7/00007_00043_00016.png  \n",
            "  inflating: train/7/00007_00043_00017.png  \n",
            "  inflating: train/7/00007_00043_00018.png  \n",
            "  inflating: train/7/00007_00043_00019.png  \n",
            "  inflating: train/7/00007_00043_00020.png  \n",
            "  inflating: train/7/00007_00043_00021.png  \n",
            "  inflating: train/7/00007_00043_00022.png  \n",
            "  inflating: train/7/00007_00043_00023.png  \n",
            "  inflating: train/7/00007_00043_00024.png  \n",
            "  inflating: train/7/00007_00043_00025.png  \n",
            "  inflating: train/7/00007_00043_00026.png  \n",
            "  inflating: train/7/00007_00043_00027.png  \n",
            "  inflating: train/7/00007_00043_00028.png  \n",
            "  inflating: train/7/00007_00043_00029.png  \n",
            "  inflating: train/7/00007_00044_00000.png  \n",
            "  inflating: train/7/00007_00044_00001.png  \n",
            "  inflating: train/7/00007_00044_00002.png  \n",
            "  inflating: train/7/00007_00044_00003.png  \n",
            "  inflating: train/7/00007_00044_00004.png  \n",
            "  inflating: train/7/00007_00044_00005.png  \n",
            "  inflating: train/7/00007_00044_00006.png  \n",
            "  inflating: train/7/00007_00044_00007.png  \n",
            "  inflating: train/7/00007_00044_00008.png  \n",
            "  inflating: train/7/00007_00044_00009.png  \n",
            "  inflating: train/7/00007_00044_00010.png  \n",
            "  inflating: train/7/00007_00044_00011.png  \n",
            "  inflating: train/7/00007_00044_00012.png  \n",
            "  inflating: train/7/00007_00044_00013.png  \n",
            "  inflating: train/7/00007_00044_00014.png  \n",
            "  inflating: train/7/00007_00044_00015.png  \n",
            "  inflating: train/7/00007_00044_00016.png  \n",
            "  inflating: train/7/00007_00044_00017.png  \n",
            "  inflating: train/7/00007_00044_00018.png  \n",
            "  inflating: train/7/00007_00044_00019.png  \n",
            "  inflating: train/7/00007_00044_00020.png  \n",
            "  inflating: train/7/00007_00044_00021.png  \n",
            "  inflating: train/7/00007_00044_00022.png  \n",
            "  inflating: train/7/00007_00044_00023.png  \n",
            "  inflating: train/7/00007_00044_00024.png  \n",
            "  inflating: train/7/00007_00044_00025.png  \n",
            "  inflating: train/7/00007_00044_00026.png  \n",
            "  inflating: train/7/00007_00044_00027.png  \n",
            "  inflating: train/7/00007_00044_00028.png  \n",
            "  inflating: train/7/00007_00044_00029.png  \n",
            "  inflating: train/7/00007_00045_00000.png  \n",
            "  inflating: train/7/00007_00045_00001.png  \n",
            "  inflating: train/7/00007_00045_00002.png  \n",
            "  inflating: train/7/00007_00045_00003.png  \n",
            "  inflating: train/7/00007_00045_00004.png  \n",
            "  inflating: train/7/00007_00045_00005.png  \n",
            "  inflating: train/7/00007_00045_00006.png  \n",
            "  inflating: train/7/00007_00045_00007.png  \n",
            "  inflating: train/7/00007_00045_00008.png  \n",
            "  inflating: train/7/00007_00045_00009.png  \n",
            "  inflating: train/7/00007_00045_00010.png  \n",
            "  inflating: train/7/00007_00045_00011.png  \n",
            "  inflating: train/7/00007_00045_00012.png  \n",
            "  inflating: train/7/00007_00045_00013.png  \n",
            "  inflating: train/7/00007_00045_00014.png  \n",
            "  inflating: train/7/00007_00045_00015.png  \n",
            "  inflating: train/7/00007_00045_00016.png  \n",
            "  inflating: train/7/00007_00045_00017.png  \n",
            "  inflating: train/7/00007_00045_00018.png  \n",
            "  inflating: train/7/00007_00045_00019.png  \n",
            "  inflating: train/7/00007_00045_00020.png  \n",
            "  inflating: train/7/00007_00045_00021.png  \n",
            "  inflating: train/7/00007_00045_00022.png  \n",
            "  inflating: train/7/00007_00045_00023.png  \n",
            "  inflating: train/7/00007_00045_00024.png  \n",
            "  inflating: train/7/00007_00045_00025.png  \n",
            "  inflating: train/7/00007_00045_00026.png  \n",
            "  inflating: train/7/00007_00045_00027.png  \n",
            "  inflating: train/7/00007_00045_00028.png  \n",
            "  inflating: train/7/00007_00045_00029.png  \n",
            "  inflating: train/7/00007_00046_00000.png  \n",
            "  inflating: train/7/00007_00046_00001.png  \n",
            "  inflating: train/7/00007_00046_00002.png  \n",
            "  inflating: train/7/00007_00046_00003.png  \n",
            "  inflating: train/7/00007_00046_00004.png  \n",
            "  inflating: train/7/00007_00046_00005.png  \n",
            "  inflating: train/7/00007_00046_00006.png  \n",
            "  inflating: train/7/00007_00046_00007.png  \n",
            "  inflating: train/7/00007_00046_00008.png  \n",
            "  inflating: train/7/00007_00046_00009.png  \n",
            "  inflating: train/7/00007_00046_00010.png  \n",
            "  inflating: train/7/00007_00046_00011.png  \n",
            "  inflating: train/7/00007_00046_00012.png  \n",
            "  inflating: train/7/00007_00046_00013.png  \n",
            "  inflating: train/7/00007_00046_00014.png  \n",
            "  inflating: train/7/00007_00046_00015.png  \n",
            "  inflating: train/7/00007_00046_00016.png  \n",
            "  inflating: train/7/00007_00046_00017.png  \n",
            "  inflating: train/7/00007_00046_00018.png  \n",
            "  inflating: train/7/00007_00046_00019.png  \n",
            "  inflating: train/7/00007_00046_00020.png  \n",
            "  inflating: train/7/00007_00046_00021.png  \n",
            "  inflating: train/7/00007_00046_00022.png  \n",
            "  inflating: train/7/00007_00046_00023.png  \n",
            "  inflating: train/7/00007_00046_00024.png  \n",
            "  inflating: train/7/00007_00046_00025.png  \n",
            "  inflating: train/7/00007_00046_00026.png  \n",
            "  inflating: train/7/00007_00046_00027.png  \n",
            "  inflating: train/7/00007_00046_00028.png  \n",
            "  inflating: train/7/00007_00046_00029.png  \n",
            "  inflating: train/7/00007_00047_00000.png  \n",
            "  inflating: train/7/00007_00047_00001.png  \n",
            "  inflating: train/7/00007_00047_00002.png  \n",
            "  inflating: train/7/00007_00047_00003.png  \n",
            "  inflating: train/7/00007_00047_00004.png  \n",
            "  inflating: train/7/00007_00047_00005.png  \n",
            "  inflating: train/7/00007_00047_00006.png  \n",
            "  inflating: train/7/00007_00047_00007.png  \n",
            "  inflating: train/7/00007_00047_00008.png  \n",
            "  inflating: train/7/00007_00047_00009.png  \n",
            "  inflating: train/7/00007_00047_00010.png  \n",
            "  inflating: train/7/00007_00047_00011.png  \n",
            "  inflating: train/7/00007_00047_00012.png  \n",
            "  inflating: train/7/00007_00047_00013.png  \n",
            "  inflating: train/7/00007_00047_00014.png  \n",
            "  inflating: train/7/00007_00047_00015.png  \n",
            "  inflating: train/7/00007_00047_00016.png  \n",
            "  inflating: train/7/00007_00047_00017.png  \n",
            "  inflating: train/7/00007_00047_00018.png  \n",
            "  inflating: train/7/00007_00047_00019.png  \n",
            "  inflating: train/7/00007_00047_00020.png  \n",
            "  inflating: train/7/00007_00047_00021.png  \n",
            "  inflating: train/7/00007_00047_00022.png  \n",
            "  inflating: train/7/00007_00047_00023.png  \n",
            "  inflating: train/7/00007_00047_00024.png  \n",
            "  inflating: train/7/00007_00047_00025.png  \n",
            "  inflating: train/7/00007_00047_00026.png  \n",
            "  inflating: train/7/00007_00047_00027.png  \n",
            "  inflating: train/7/00007_00047_00028.png  \n",
            "  inflating: train/7/00007_00047_00029.png  \n",
            "  inflating: train/8/00008_00000_00000.png  \n",
            "  inflating: train/8/00008_00000_00001.png  \n",
            "  inflating: train/8/00008_00000_00002.png  \n",
            "  inflating: train/8/00008_00000_00003.png  \n",
            "  inflating: train/8/00008_00000_00004.png  \n",
            "  inflating: train/8/00008_00000_00005.png  \n",
            "  inflating: train/8/00008_00000_00006.png  \n",
            "  inflating: train/8/00008_00000_00007.png  \n",
            "  inflating: train/8/00008_00000_00008.png  \n",
            "  inflating: train/8/00008_00000_00009.png  \n",
            "  inflating: train/8/00008_00000_00010.png  \n",
            "  inflating: train/8/00008_00000_00011.png  \n",
            "  inflating: train/8/00008_00000_00012.png  \n",
            "  inflating: train/8/00008_00000_00013.png  \n",
            "  inflating: train/8/00008_00000_00014.png  \n",
            "  inflating: train/8/00008_00000_00015.png  \n",
            "  inflating: train/8/00008_00000_00016.png  \n",
            "  inflating: train/8/00008_00000_00017.png  \n",
            "  inflating: train/8/00008_00000_00018.png  \n",
            "  inflating: train/8/00008_00000_00019.png  \n",
            "  inflating: train/8/00008_00000_00020.png  \n",
            "  inflating: train/8/00008_00000_00021.png  \n",
            "  inflating: train/8/00008_00000_00022.png  \n",
            "  inflating: train/8/00008_00000_00023.png  \n",
            "  inflating: train/8/00008_00000_00024.png  \n",
            "  inflating: train/8/00008_00000_00025.png  \n",
            "  inflating: train/8/00008_00000_00026.png  \n",
            "  inflating: train/8/00008_00000_00027.png  \n",
            "  inflating: train/8/00008_00000_00028.png  \n",
            "  inflating: train/8/00008_00000_00029.png  \n",
            "  inflating: train/8/00008_00001_00000.png  \n",
            "  inflating: train/8/00008_00001_00001.png  \n",
            "  inflating: train/8/00008_00001_00002.png  \n",
            "  inflating: train/8/00008_00001_00003.png  \n",
            "  inflating: train/8/00008_00001_00004.png  \n",
            "  inflating: train/8/00008_00001_00005.png  \n",
            "  inflating: train/8/00008_00001_00006.png  \n",
            "  inflating: train/8/00008_00001_00007.png  \n",
            "  inflating: train/8/00008_00001_00008.png  \n",
            "  inflating: train/8/00008_00001_00009.png  \n",
            "  inflating: train/8/00008_00001_00010.png  \n",
            "  inflating: train/8/00008_00001_00011.png  \n",
            "  inflating: train/8/00008_00001_00012.png  \n",
            "  inflating: train/8/00008_00001_00013.png  \n",
            "  inflating: train/8/00008_00001_00014.png  \n",
            "  inflating: train/8/00008_00001_00015.png  \n",
            "  inflating: train/8/00008_00001_00016.png  \n",
            "  inflating: train/8/00008_00001_00017.png  \n",
            "  inflating: train/8/00008_00001_00018.png  \n",
            "  inflating: train/8/00008_00001_00019.png  \n",
            "  inflating: train/8/00008_00001_00020.png  \n",
            "  inflating: train/8/00008_00001_00021.png  \n",
            "  inflating: train/8/00008_00001_00022.png  \n",
            "  inflating: train/8/00008_00001_00023.png  \n",
            "  inflating: train/8/00008_00001_00024.png  \n",
            "  inflating: train/8/00008_00001_00025.png  \n",
            "  inflating: train/8/00008_00001_00026.png  \n",
            "  inflating: train/8/00008_00001_00027.png  \n",
            "  inflating: train/8/00008_00001_00028.png  \n",
            "  inflating: train/8/00008_00001_00029.png  \n",
            "  inflating: train/8/00008_00002_00000.png  \n",
            "  inflating: train/8/00008_00002_00001.png  \n",
            "  inflating: train/8/00008_00002_00002.png  \n",
            "  inflating: train/8/00008_00002_00003.png  \n",
            "  inflating: train/8/00008_00002_00004.png  \n",
            "  inflating: train/8/00008_00002_00005.png  \n",
            "  inflating: train/8/00008_00002_00006.png  \n",
            "  inflating: train/8/00008_00002_00007.png  \n",
            "  inflating: train/8/00008_00002_00008.png  \n",
            "  inflating: train/8/00008_00002_00009.png  \n",
            "  inflating: train/8/00008_00002_00010.png  \n",
            "  inflating: train/8/00008_00002_00011.png  \n",
            "  inflating: train/8/00008_00002_00012.png  \n",
            "  inflating: train/8/00008_00002_00013.png  \n",
            "  inflating: train/8/00008_00002_00014.png  \n",
            "  inflating: train/8/00008_00002_00015.png  \n",
            "  inflating: train/8/00008_00002_00016.png  \n",
            "  inflating: train/8/00008_00002_00017.png  \n",
            "  inflating: train/8/00008_00002_00018.png  \n",
            "  inflating: train/8/00008_00002_00019.png  \n",
            "  inflating: train/8/00008_00002_00020.png  \n",
            "  inflating: train/8/00008_00002_00021.png  \n",
            "  inflating: train/8/00008_00002_00022.png  \n",
            "  inflating: train/8/00008_00002_00023.png  \n",
            "  inflating: train/8/00008_00002_00024.png  \n",
            "  inflating: train/8/00008_00002_00025.png  \n",
            "  inflating: train/8/00008_00002_00026.png  \n",
            "  inflating: train/8/00008_00002_00027.png  \n",
            "  inflating: train/8/00008_00002_00028.png  \n",
            "  inflating: train/8/00008_00002_00029.png  \n",
            "  inflating: train/8/00008_00003_00000.png  \n",
            "  inflating: train/8/00008_00003_00001.png  \n",
            "  inflating: train/8/00008_00003_00002.png  \n",
            "  inflating: train/8/00008_00003_00003.png  \n",
            "  inflating: train/8/00008_00003_00004.png  \n",
            "  inflating: train/8/00008_00003_00005.png  \n",
            "  inflating: train/8/00008_00003_00006.png  \n",
            "  inflating: train/8/00008_00003_00007.png  \n",
            "  inflating: train/8/00008_00003_00008.png  \n",
            "  inflating: train/8/00008_00003_00009.png  \n",
            "  inflating: train/8/00008_00003_00010.png  \n",
            "  inflating: train/8/00008_00003_00011.png  \n",
            "  inflating: train/8/00008_00003_00012.png  \n",
            "  inflating: train/8/00008_00003_00013.png  \n",
            "  inflating: train/8/00008_00003_00014.png  \n",
            "  inflating: train/8/00008_00003_00015.png  \n",
            "  inflating: train/8/00008_00003_00016.png  \n",
            "  inflating: train/8/00008_00003_00017.png  \n",
            "  inflating: train/8/00008_00003_00018.png  \n",
            "  inflating: train/8/00008_00003_00019.png  \n",
            "  inflating: train/8/00008_00003_00020.png  \n",
            "  inflating: train/8/00008_00003_00021.png  \n",
            "  inflating: train/8/00008_00003_00022.png  \n",
            "  inflating: train/8/00008_00003_00023.png  \n",
            "  inflating: train/8/00008_00003_00024.png  \n",
            "  inflating: train/8/00008_00003_00025.png  \n",
            "  inflating: train/8/00008_00003_00026.png  \n",
            "  inflating: train/8/00008_00003_00027.png  \n",
            "  inflating: train/8/00008_00003_00028.png  \n",
            "  inflating: train/8/00008_00003_00029.png  \n",
            "  inflating: train/8/00008_00004_00000.png  \n",
            "  inflating: train/8/00008_00004_00001.png  \n",
            "  inflating: train/8/00008_00004_00002.png  \n",
            "  inflating: train/8/00008_00004_00003.png  \n",
            "  inflating: train/8/00008_00004_00004.png  \n",
            "  inflating: train/8/00008_00004_00005.png  \n",
            "  inflating: train/8/00008_00004_00006.png  \n",
            "  inflating: train/8/00008_00004_00007.png  \n",
            "  inflating: train/8/00008_00004_00008.png  \n",
            "  inflating: train/8/00008_00004_00009.png  \n",
            "  inflating: train/8/00008_00004_00010.png  \n",
            "  inflating: train/8/00008_00004_00011.png  \n",
            "  inflating: train/8/00008_00004_00012.png  \n",
            "  inflating: train/8/00008_00004_00013.png  \n",
            "  inflating: train/8/00008_00004_00014.png  \n",
            "  inflating: train/8/00008_00004_00015.png  \n",
            "  inflating: train/8/00008_00004_00016.png  \n",
            "  inflating: train/8/00008_00004_00017.png  \n",
            "  inflating: train/8/00008_00004_00018.png  \n",
            "  inflating: train/8/00008_00004_00019.png  \n",
            "  inflating: train/8/00008_00004_00020.png  \n",
            "  inflating: train/8/00008_00004_00021.png  \n",
            "  inflating: train/8/00008_00004_00022.png  \n",
            "  inflating: train/8/00008_00004_00023.png  \n",
            "  inflating: train/8/00008_00004_00024.png  \n",
            "  inflating: train/8/00008_00004_00025.png  \n",
            "  inflating: train/8/00008_00004_00026.png  \n",
            "  inflating: train/8/00008_00004_00027.png  \n",
            "  inflating: train/8/00008_00004_00028.png  \n",
            "  inflating: train/8/00008_00004_00029.png  \n",
            "  inflating: train/8/00008_00005_00000.png  \n",
            "  inflating: train/8/00008_00005_00001.png  \n",
            "  inflating: train/8/00008_00005_00002.png  \n",
            "  inflating: train/8/00008_00005_00003.png  \n",
            "  inflating: train/8/00008_00005_00004.png  \n",
            "  inflating: train/8/00008_00005_00005.png  \n",
            "  inflating: train/8/00008_00005_00006.png  \n",
            "  inflating: train/8/00008_00005_00007.png  \n",
            "  inflating: train/8/00008_00005_00008.png  \n",
            "  inflating: train/8/00008_00005_00009.png  \n",
            "  inflating: train/8/00008_00005_00010.png  \n",
            "  inflating: train/8/00008_00005_00011.png  \n",
            "  inflating: train/8/00008_00005_00012.png  \n",
            "  inflating: train/8/00008_00005_00013.png  \n",
            "  inflating: train/8/00008_00005_00014.png  \n",
            "  inflating: train/8/00008_00005_00015.png  \n",
            "  inflating: train/8/00008_00005_00016.png  \n",
            "  inflating: train/8/00008_00005_00017.png  \n",
            "  inflating: train/8/00008_00005_00018.png  \n",
            "  inflating: train/8/00008_00005_00019.png  \n",
            "  inflating: train/8/00008_00005_00020.png  \n",
            "  inflating: train/8/00008_00005_00021.png  \n",
            "  inflating: train/8/00008_00005_00022.png  \n",
            "  inflating: train/8/00008_00005_00023.png  \n",
            "  inflating: train/8/00008_00005_00024.png  \n",
            "  inflating: train/8/00008_00005_00025.png  \n",
            "  inflating: train/8/00008_00005_00026.png  \n",
            "  inflating: train/8/00008_00005_00027.png  \n",
            "  inflating: train/8/00008_00005_00028.png  \n",
            "  inflating: train/8/00008_00005_00029.png  \n",
            "  inflating: train/8/00008_00006_00000.png  \n",
            "  inflating: train/8/00008_00006_00001.png  \n",
            "  inflating: train/8/00008_00006_00002.png  \n",
            "  inflating: train/8/00008_00006_00003.png  \n",
            "  inflating: train/8/00008_00006_00004.png  \n",
            "  inflating: train/8/00008_00006_00005.png  \n",
            "  inflating: train/8/00008_00006_00006.png  \n",
            "  inflating: train/8/00008_00006_00007.png  \n",
            "  inflating: train/8/00008_00006_00008.png  \n",
            "  inflating: train/8/00008_00006_00009.png  \n",
            "  inflating: train/8/00008_00006_00010.png  \n",
            "  inflating: train/8/00008_00006_00011.png  \n",
            "  inflating: train/8/00008_00006_00012.png  \n",
            "  inflating: train/8/00008_00006_00013.png  \n",
            "  inflating: train/8/00008_00006_00014.png  \n",
            "  inflating: train/8/00008_00006_00015.png  \n",
            "  inflating: train/8/00008_00006_00016.png  \n",
            "  inflating: train/8/00008_00006_00017.png  \n",
            "  inflating: train/8/00008_00006_00018.png  \n",
            "  inflating: train/8/00008_00006_00019.png  \n",
            "  inflating: train/8/00008_00006_00020.png  \n",
            "  inflating: train/8/00008_00006_00021.png  \n",
            "  inflating: train/8/00008_00006_00022.png  \n",
            "  inflating: train/8/00008_00006_00023.png  \n",
            "  inflating: train/8/00008_00006_00024.png  \n",
            "  inflating: train/8/00008_00006_00025.png  \n",
            "  inflating: train/8/00008_00006_00026.png  \n",
            "  inflating: train/8/00008_00006_00027.png  \n",
            "  inflating: train/8/00008_00006_00028.png  \n",
            "  inflating: train/8/00008_00006_00029.png  \n",
            "  inflating: train/8/00008_00007_00000.png  \n",
            "  inflating: train/8/00008_00007_00001.png  \n",
            "  inflating: train/8/00008_00007_00002.png  \n",
            "  inflating: train/8/00008_00007_00003.png  \n",
            "  inflating: train/8/00008_00007_00004.png  \n",
            "  inflating: train/8/00008_00007_00005.png  \n",
            "  inflating: train/8/00008_00007_00006.png  \n",
            "  inflating: train/8/00008_00007_00007.png  \n",
            "  inflating: train/8/00008_00007_00008.png  \n",
            "  inflating: train/8/00008_00007_00009.png  \n",
            "  inflating: train/8/00008_00007_00010.png  \n",
            "  inflating: train/8/00008_00007_00011.png  \n",
            "  inflating: train/8/00008_00007_00012.png  \n",
            "  inflating: train/8/00008_00007_00013.png  \n",
            "  inflating: train/8/00008_00007_00014.png  \n",
            "  inflating: train/8/00008_00007_00015.png  \n",
            "  inflating: train/8/00008_00007_00016.png  \n",
            "  inflating: train/8/00008_00007_00017.png  \n",
            "  inflating: train/8/00008_00007_00018.png  \n",
            "  inflating: train/8/00008_00007_00019.png  \n",
            "  inflating: train/8/00008_00007_00020.png  \n",
            "  inflating: train/8/00008_00007_00021.png  \n",
            "  inflating: train/8/00008_00007_00022.png  \n",
            "  inflating: train/8/00008_00007_00023.png  \n",
            "  inflating: train/8/00008_00007_00024.png  \n",
            "  inflating: train/8/00008_00007_00025.png  \n",
            "  inflating: train/8/00008_00007_00026.png  \n",
            "  inflating: train/8/00008_00007_00027.png  \n",
            "  inflating: train/8/00008_00007_00028.png  \n",
            "  inflating: train/8/00008_00007_00029.png  \n",
            "  inflating: train/8/00008_00008_00000.png  \n",
            "  inflating: train/8/00008_00008_00001.png  \n",
            "  inflating: train/8/00008_00008_00002.png  \n",
            "  inflating: train/8/00008_00008_00003.png  \n",
            "  inflating: train/8/00008_00008_00004.png  \n",
            "  inflating: train/8/00008_00008_00005.png  \n",
            "  inflating: train/8/00008_00008_00006.png  \n",
            "  inflating: train/8/00008_00008_00007.png  \n",
            "  inflating: train/8/00008_00008_00008.png  \n",
            "  inflating: train/8/00008_00008_00009.png  \n",
            "  inflating: train/8/00008_00008_00010.png  \n",
            "  inflating: train/8/00008_00008_00011.png  \n",
            "  inflating: train/8/00008_00008_00012.png  \n",
            "  inflating: train/8/00008_00008_00013.png  \n",
            "  inflating: train/8/00008_00008_00014.png  \n",
            "  inflating: train/8/00008_00008_00015.png  \n",
            "  inflating: train/8/00008_00008_00016.png  \n",
            "  inflating: train/8/00008_00008_00017.png  \n",
            "  inflating: train/8/00008_00008_00018.png  \n",
            "  inflating: train/8/00008_00008_00019.png  \n",
            "  inflating: train/8/00008_00008_00020.png  \n",
            "  inflating: train/8/00008_00008_00021.png  \n",
            "  inflating: train/8/00008_00008_00022.png  \n",
            "  inflating: train/8/00008_00008_00023.png  \n",
            "  inflating: train/8/00008_00008_00024.png  \n",
            "  inflating: train/8/00008_00008_00025.png  \n",
            "  inflating: train/8/00008_00008_00026.png  \n",
            "  inflating: train/8/00008_00008_00027.png  \n",
            "  inflating: train/8/00008_00008_00028.png  \n",
            "  inflating: train/8/00008_00008_00029.png  \n",
            "  inflating: train/8/00008_00009_00000.png  \n",
            "  inflating: train/8/00008_00009_00001.png  \n",
            "  inflating: train/8/00008_00009_00002.png  \n",
            "  inflating: train/8/00008_00009_00003.png  \n",
            "  inflating: train/8/00008_00009_00004.png  \n",
            "  inflating: train/8/00008_00009_00005.png  \n",
            "  inflating: train/8/00008_00009_00006.png  \n",
            "  inflating: train/8/00008_00009_00007.png  \n",
            "  inflating: train/8/00008_00009_00008.png  \n",
            "  inflating: train/8/00008_00009_00009.png  \n",
            "  inflating: train/8/00008_00009_00010.png  \n",
            "  inflating: train/8/00008_00009_00011.png  \n",
            "  inflating: train/8/00008_00009_00012.png  \n",
            "  inflating: train/8/00008_00009_00013.png  \n",
            "  inflating: train/8/00008_00009_00014.png  \n",
            "  inflating: train/8/00008_00009_00015.png  \n",
            "  inflating: train/8/00008_00009_00016.png  \n",
            "  inflating: train/8/00008_00009_00017.png  \n",
            "  inflating: train/8/00008_00009_00018.png  \n",
            "  inflating: train/8/00008_00009_00019.png  \n",
            "  inflating: train/8/00008_00009_00020.png  \n",
            "  inflating: train/8/00008_00009_00021.png  \n",
            "  inflating: train/8/00008_00009_00022.png  \n",
            "  inflating: train/8/00008_00009_00023.png  \n",
            "  inflating: train/8/00008_00009_00024.png  \n",
            "  inflating: train/8/00008_00009_00025.png  \n",
            "  inflating: train/8/00008_00009_00026.png  \n",
            "  inflating: train/8/00008_00009_00027.png  \n",
            "  inflating: train/8/00008_00009_00028.png  \n",
            "  inflating: train/8/00008_00009_00029.png  \n",
            "  inflating: train/8/00008_00010_00000.png  \n",
            "  inflating: train/8/00008_00010_00001.png  \n",
            "  inflating: train/8/00008_00010_00002.png  \n",
            "  inflating: train/8/00008_00010_00003.png  \n",
            "  inflating: train/8/00008_00010_00004.png  \n",
            "  inflating: train/8/00008_00010_00005.png  \n",
            "  inflating: train/8/00008_00010_00006.png  \n",
            "  inflating: train/8/00008_00010_00007.png  \n",
            "  inflating: train/8/00008_00010_00008.png  \n",
            "  inflating: train/8/00008_00010_00009.png  \n",
            "  inflating: train/8/00008_00010_00010.png  \n",
            "  inflating: train/8/00008_00010_00011.png  \n",
            "  inflating: train/8/00008_00010_00012.png  \n",
            "  inflating: train/8/00008_00010_00013.png  \n",
            "  inflating: train/8/00008_00010_00014.png  \n",
            "  inflating: train/8/00008_00010_00015.png  \n",
            "  inflating: train/8/00008_00010_00016.png  \n",
            "  inflating: train/8/00008_00010_00017.png  \n",
            "  inflating: train/8/00008_00010_00018.png  \n",
            "  inflating: train/8/00008_00010_00019.png  \n",
            "  inflating: train/8/00008_00010_00020.png  \n",
            "  inflating: train/8/00008_00010_00021.png  \n",
            "  inflating: train/8/00008_00010_00022.png  \n",
            "  inflating: train/8/00008_00010_00023.png  \n",
            "  inflating: train/8/00008_00010_00024.png  \n",
            "  inflating: train/8/00008_00010_00025.png  \n",
            "  inflating: train/8/00008_00010_00026.png  \n",
            "  inflating: train/8/00008_00010_00027.png  \n",
            "  inflating: train/8/00008_00010_00028.png  \n",
            "  inflating: train/8/00008_00010_00029.png  \n",
            "  inflating: train/8/00008_00011_00000.png  \n",
            "  inflating: train/8/00008_00011_00001.png  \n",
            "  inflating: train/8/00008_00011_00002.png  \n",
            "  inflating: train/8/00008_00011_00003.png  \n",
            "  inflating: train/8/00008_00011_00004.png  \n",
            "  inflating: train/8/00008_00011_00005.png  \n",
            "  inflating: train/8/00008_00011_00006.png  \n",
            "  inflating: train/8/00008_00011_00007.png  \n",
            "  inflating: train/8/00008_00011_00008.png  \n",
            "  inflating: train/8/00008_00011_00009.png  \n",
            "  inflating: train/8/00008_00011_00010.png  \n",
            "  inflating: train/8/00008_00011_00011.png  \n",
            "  inflating: train/8/00008_00011_00012.png  \n",
            "  inflating: train/8/00008_00011_00013.png  \n",
            "  inflating: train/8/00008_00011_00014.png  \n",
            "  inflating: train/8/00008_00011_00015.png  \n",
            "  inflating: train/8/00008_00011_00016.png  \n",
            "  inflating: train/8/00008_00011_00017.png  \n",
            "  inflating: train/8/00008_00011_00018.png  \n",
            "  inflating: train/8/00008_00011_00019.png  \n",
            "  inflating: train/8/00008_00011_00020.png  \n",
            "  inflating: train/8/00008_00011_00021.png  \n",
            "  inflating: train/8/00008_00011_00022.png  \n",
            "  inflating: train/8/00008_00011_00023.png  \n",
            "  inflating: train/8/00008_00011_00024.png  \n",
            "  inflating: train/8/00008_00011_00025.png  \n",
            "  inflating: train/8/00008_00011_00026.png  \n",
            "  inflating: train/8/00008_00011_00027.png  \n",
            "  inflating: train/8/00008_00011_00028.png  \n",
            "  inflating: train/8/00008_00011_00029.png  \n",
            "  inflating: train/8/00008_00012_00000.png  \n",
            "  inflating: train/8/00008_00012_00001.png  \n",
            "  inflating: train/8/00008_00012_00002.png  \n",
            "  inflating: train/8/00008_00012_00003.png  \n",
            "  inflating: train/8/00008_00012_00004.png  \n",
            "  inflating: train/8/00008_00012_00005.png  \n",
            "  inflating: train/8/00008_00012_00006.png  \n",
            "  inflating: train/8/00008_00012_00007.png  \n",
            "  inflating: train/8/00008_00012_00008.png  \n",
            "  inflating: train/8/00008_00012_00009.png  \n",
            "  inflating: train/8/00008_00012_00010.png  \n",
            "  inflating: train/8/00008_00012_00011.png  \n",
            "  inflating: train/8/00008_00012_00012.png  \n",
            "  inflating: train/8/00008_00012_00013.png  \n",
            "  inflating: train/8/00008_00012_00014.png  \n",
            "  inflating: train/8/00008_00012_00015.png  \n",
            "  inflating: train/8/00008_00012_00016.png  \n",
            "  inflating: train/8/00008_00012_00017.png  \n",
            "  inflating: train/8/00008_00012_00018.png  \n",
            "  inflating: train/8/00008_00012_00019.png  \n",
            "  inflating: train/8/00008_00012_00020.png  \n",
            "  inflating: train/8/00008_00012_00021.png  \n",
            "  inflating: train/8/00008_00012_00022.png  \n",
            "  inflating: train/8/00008_00012_00023.png  \n",
            "  inflating: train/8/00008_00012_00024.png  \n",
            "  inflating: train/8/00008_00012_00025.png  \n",
            "  inflating: train/8/00008_00012_00026.png  \n",
            "  inflating: train/8/00008_00012_00027.png  \n",
            "  inflating: train/8/00008_00012_00028.png  \n",
            "  inflating: train/8/00008_00012_00029.png  \n",
            "  inflating: train/8/00008_00013_00000.png  \n",
            "  inflating: train/8/00008_00013_00001.png  \n",
            "  inflating: train/8/00008_00013_00002.png  \n",
            "  inflating: train/8/00008_00013_00003.png  \n",
            "  inflating: train/8/00008_00013_00004.png  \n",
            "  inflating: train/8/00008_00013_00005.png  \n",
            "  inflating: train/8/00008_00013_00006.png  \n",
            "  inflating: train/8/00008_00013_00007.png  \n",
            "  inflating: train/8/00008_00013_00008.png  \n",
            "  inflating: train/8/00008_00013_00009.png  \n",
            "  inflating: train/8/00008_00013_00010.png  \n",
            "  inflating: train/8/00008_00013_00011.png  \n",
            "  inflating: train/8/00008_00013_00012.png  \n",
            "  inflating: train/8/00008_00013_00013.png  \n",
            "  inflating: train/8/00008_00013_00014.png  \n",
            "  inflating: train/8/00008_00013_00015.png  \n",
            "  inflating: train/8/00008_00013_00016.png  \n",
            "  inflating: train/8/00008_00013_00017.png  \n",
            "  inflating: train/8/00008_00013_00018.png  \n",
            "  inflating: train/8/00008_00013_00019.png  \n",
            "  inflating: train/8/00008_00013_00020.png  \n",
            "  inflating: train/8/00008_00013_00021.png  \n",
            "  inflating: train/8/00008_00013_00022.png  \n",
            "  inflating: train/8/00008_00013_00023.png  \n",
            "  inflating: train/8/00008_00013_00024.png  \n",
            "  inflating: train/8/00008_00013_00025.png  \n",
            "  inflating: train/8/00008_00013_00026.png  \n",
            "  inflating: train/8/00008_00013_00027.png  \n",
            "  inflating: train/8/00008_00013_00028.png  \n",
            "  inflating: train/8/00008_00013_00029.png  \n",
            "  inflating: train/8/00008_00014_00000.png  \n",
            "  inflating: train/8/00008_00014_00001.png  \n",
            "  inflating: train/8/00008_00014_00002.png  \n",
            "  inflating: train/8/00008_00014_00003.png  \n",
            "  inflating: train/8/00008_00014_00004.png  \n",
            "  inflating: train/8/00008_00014_00005.png  \n",
            "  inflating: train/8/00008_00014_00006.png  \n",
            "  inflating: train/8/00008_00014_00007.png  \n",
            "  inflating: train/8/00008_00014_00008.png  \n",
            "  inflating: train/8/00008_00014_00009.png  \n",
            "  inflating: train/8/00008_00014_00010.png  \n",
            "  inflating: train/8/00008_00014_00011.png  \n",
            "  inflating: train/8/00008_00014_00012.png  \n",
            "  inflating: train/8/00008_00014_00013.png  \n",
            "  inflating: train/8/00008_00014_00014.png  \n",
            "  inflating: train/8/00008_00014_00015.png  \n",
            "  inflating: train/8/00008_00014_00016.png  \n",
            "  inflating: train/8/00008_00014_00017.png  \n",
            "  inflating: train/8/00008_00014_00018.png  \n",
            "  inflating: train/8/00008_00014_00019.png  \n",
            "  inflating: train/8/00008_00014_00020.png  \n",
            "  inflating: train/8/00008_00014_00021.png  \n",
            "  inflating: train/8/00008_00014_00022.png  \n",
            "  inflating: train/8/00008_00014_00023.png  \n",
            "  inflating: train/8/00008_00014_00024.png  \n",
            "  inflating: train/8/00008_00014_00025.png  \n",
            "  inflating: train/8/00008_00014_00026.png  \n",
            "  inflating: train/8/00008_00014_00027.png  \n",
            "  inflating: train/8/00008_00014_00028.png  \n",
            "  inflating: train/8/00008_00014_00029.png  \n",
            "  inflating: train/8/00008_00015_00000.png  \n",
            "  inflating: train/8/00008_00015_00001.png  \n",
            "  inflating: train/8/00008_00015_00002.png  \n",
            "  inflating: train/8/00008_00015_00003.png  \n",
            "  inflating: train/8/00008_00015_00004.png  \n",
            "  inflating: train/8/00008_00015_00005.png  \n",
            "  inflating: train/8/00008_00015_00006.png  \n",
            "  inflating: train/8/00008_00015_00007.png  \n",
            "  inflating: train/8/00008_00015_00008.png  \n",
            "  inflating: train/8/00008_00015_00009.png  \n",
            "  inflating: train/8/00008_00015_00010.png  \n",
            "  inflating: train/8/00008_00015_00011.png  \n",
            "  inflating: train/8/00008_00015_00012.png  \n",
            "  inflating: train/8/00008_00015_00013.png  \n",
            "  inflating: train/8/00008_00015_00014.png  \n",
            "  inflating: train/8/00008_00015_00015.png  \n",
            "  inflating: train/8/00008_00015_00016.png  \n",
            "  inflating: train/8/00008_00015_00017.png  \n",
            "  inflating: train/8/00008_00015_00018.png  \n",
            "  inflating: train/8/00008_00015_00019.png  \n",
            "  inflating: train/8/00008_00015_00020.png  \n",
            "  inflating: train/8/00008_00015_00021.png  \n",
            "  inflating: train/8/00008_00015_00022.png  \n",
            "  inflating: train/8/00008_00015_00023.png  \n",
            "  inflating: train/8/00008_00015_00024.png  \n",
            "  inflating: train/8/00008_00015_00025.png  \n",
            "  inflating: train/8/00008_00015_00026.png  \n",
            "  inflating: train/8/00008_00015_00027.png  \n",
            "  inflating: train/8/00008_00015_00028.png  \n",
            "  inflating: train/8/00008_00015_00029.png  \n",
            "  inflating: train/8/00008_00016_00000.png  \n",
            "  inflating: train/8/00008_00016_00001.png  \n",
            "  inflating: train/8/00008_00016_00002.png  \n",
            "  inflating: train/8/00008_00016_00003.png  \n",
            "  inflating: train/8/00008_00016_00004.png  \n",
            "  inflating: train/8/00008_00016_00005.png  \n",
            "  inflating: train/8/00008_00016_00006.png  \n",
            "  inflating: train/8/00008_00016_00007.png  \n",
            "  inflating: train/8/00008_00016_00008.png  \n",
            "  inflating: train/8/00008_00016_00009.png  \n",
            "  inflating: train/8/00008_00016_00010.png  \n",
            "  inflating: train/8/00008_00016_00011.png  \n",
            "  inflating: train/8/00008_00016_00012.png  \n",
            "  inflating: train/8/00008_00016_00013.png  \n",
            "  inflating: train/8/00008_00016_00014.png  \n",
            "  inflating: train/8/00008_00016_00015.png  \n",
            "  inflating: train/8/00008_00016_00016.png  \n",
            "  inflating: train/8/00008_00016_00017.png  \n",
            "  inflating: train/8/00008_00016_00018.png  \n",
            "  inflating: train/8/00008_00016_00019.png  \n",
            "  inflating: train/8/00008_00016_00020.png  \n",
            "  inflating: train/8/00008_00016_00021.png  \n",
            "  inflating: train/8/00008_00016_00022.png  \n",
            "  inflating: train/8/00008_00016_00023.png  \n",
            "  inflating: train/8/00008_00016_00024.png  \n",
            "  inflating: train/8/00008_00016_00025.png  \n",
            "  inflating: train/8/00008_00016_00026.png  \n",
            "  inflating: train/8/00008_00016_00027.png  \n",
            "  inflating: train/8/00008_00016_00028.png  \n",
            "  inflating: train/8/00008_00016_00029.png  \n",
            "  inflating: train/8/00008_00017_00000.png  \n",
            "  inflating: train/8/00008_00017_00001.png  \n",
            "  inflating: train/8/00008_00017_00002.png  \n",
            "  inflating: train/8/00008_00017_00003.png  \n",
            "  inflating: train/8/00008_00017_00004.png  \n",
            "  inflating: train/8/00008_00017_00005.png  \n",
            "  inflating: train/8/00008_00017_00006.png  \n",
            "  inflating: train/8/00008_00017_00007.png  \n",
            "  inflating: train/8/00008_00017_00008.png  \n",
            "  inflating: train/8/00008_00017_00009.png  \n",
            "  inflating: train/8/00008_00017_00010.png  \n",
            "  inflating: train/8/00008_00017_00011.png  \n",
            "  inflating: train/8/00008_00017_00012.png  \n",
            "  inflating: train/8/00008_00017_00013.png  \n",
            "  inflating: train/8/00008_00017_00014.png  \n",
            "  inflating: train/8/00008_00017_00015.png  \n",
            "  inflating: train/8/00008_00017_00016.png  \n",
            "  inflating: train/8/00008_00017_00017.png  \n",
            "  inflating: train/8/00008_00017_00018.png  \n",
            "  inflating: train/8/00008_00017_00019.png  \n",
            "  inflating: train/8/00008_00017_00020.png  \n",
            "  inflating: train/8/00008_00017_00021.png  \n",
            "  inflating: train/8/00008_00017_00022.png  \n",
            "  inflating: train/8/00008_00017_00023.png  \n",
            "  inflating: train/8/00008_00017_00024.png  \n",
            "  inflating: train/8/00008_00017_00025.png  \n",
            "  inflating: train/8/00008_00017_00026.png  \n",
            "  inflating: train/8/00008_00017_00027.png  \n",
            "  inflating: train/8/00008_00017_00028.png  \n",
            "  inflating: train/8/00008_00017_00029.png  \n",
            "  inflating: train/8/00008_00018_00000.png  \n",
            "  inflating: train/8/00008_00018_00001.png  \n",
            "  inflating: train/8/00008_00018_00002.png  \n",
            "  inflating: train/8/00008_00018_00003.png  \n",
            "  inflating: train/8/00008_00018_00004.png  \n",
            "  inflating: train/8/00008_00018_00005.png  \n",
            "  inflating: train/8/00008_00018_00006.png  \n",
            "  inflating: train/8/00008_00018_00007.png  \n",
            "  inflating: train/8/00008_00018_00008.png  \n",
            "  inflating: train/8/00008_00018_00009.png  \n",
            "  inflating: train/8/00008_00018_00010.png  \n",
            "  inflating: train/8/00008_00018_00011.png  \n",
            "  inflating: train/8/00008_00018_00012.png  \n",
            "  inflating: train/8/00008_00018_00013.png  \n",
            "  inflating: train/8/00008_00018_00014.png  \n",
            "  inflating: train/8/00008_00018_00015.png  \n",
            "  inflating: train/8/00008_00018_00016.png  \n",
            "  inflating: train/8/00008_00018_00017.png  \n",
            "  inflating: train/8/00008_00018_00018.png  \n",
            "  inflating: train/8/00008_00018_00019.png  \n",
            "  inflating: train/8/00008_00018_00020.png  \n",
            "  inflating: train/8/00008_00018_00021.png  \n",
            "  inflating: train/8/00008_00018_00022.png  \n",
            "  inflating: train/8/00008_00018_00023.png  \n",
            "  inflating: train/8/00008_00018_00024.png  \n",
            "  inflating: train/8/00008_00018_00025.png  \n",
            "  inflating: train/8/00008_00018_00026.png  \n",
            "  inflating: train/8/00008_00018_00027.png  \n",
            "  inflating: train/8/00008_00018_00028.png  \n",
            "  inflating: train/8/00008_00018_00029.png  \n",
            "  inflating: train/8/00008_00019_00000.png  \n",
            "  inflating: train/8/00008_00019_00001.png  \n",
            "  inflating: train/8/00008_00019_00002.png  \n",
            "  inflating: train/8/00008_00019_00003.png  \n",
            "  inflating: train/8/00008_00019_00004.png  \n",
            "  inflating: train/8/00008_00019_00005.png  \n",
            "  inflating: train/8/00008_00019_00006.png  \n",
            "  inflating: train/8/00008_00019_00007.png  \n",
            "  inflating: train/8/00008_00019_00008.png  \n",
            "  inflating: train/8/00008_00019_00009.png  \n",
            "  inflating: train/8/00008_00019_00010.png  \n",
            "  inflating: train/8/00008_00019_00011.png  \n",
            "  inflating: train/8/00008_00019_00012.png  \n",
            "  inflating: train/8/00008_00019_00013.png  \n",
            "  inflating: train/8/00008_00019_00014.png  \n",
            "  inflating: train/8/00008_00019_00015.png  \n",
            "  inflating: train/8/00008_00019_00016.png  \n",
            "  inflating: train/8/00008_00019_00017.png  \n",
            "  inflating: train/8/00008_00019_00018.png  \n",
            "  inflating: train/8/00008_00019_00019.png  \n",
            "  inflating: train/8/00008_00019_00020.png  \n",
            "  inflating: train/8/00008_00019_00021.png  \n",
            "  inflating: train/8/00008_00019_00022.png  \n",
            "  inflating: train/8/00008_00019_00023.png  \n",
            "  inflating: train/8/00008_00019_00024.png  \n",
            "  inflating: train/8/00008_00019_00025.png  \n",
            "  inflating: train/8/00008_00019_00026.png  \n",
            "  inflating: train/8/00008_00019_00027.png  \n",
            "  inflating: train/8/00008_00019_00028.png  \n",
            "  inflating: train/8/00008_00019_00029.png  \n",
            "  inflating: train/8/00008_00020_00000.png  \n",
            "  inflating: train/8/00008_00020_00001.png  \n",
            "  inflating: train/8/00008_00020_00002.png  \n",
            "  inflating: train/8/00008_00020_00003.png  \n",
            "  inflating: train/8/00008_00020_00004.png  \n",
            "  inflating: train/8/00008_00020_00005.png  \n",
            "  inflating: train/8/00008_00020_00006.png  \n",
            "  inflating: train/8/00008_00020_00007.png  \n",
            "  inflating: train/8/00008_00020_00008.png  \n",
            "  inflating: train/8/00008_00020_00009.png  \n",
            "  inflating: train/8/00008_00020_00010.png  \n",
            "  inflating: train/8/00008_00020_00011.png  \n",
            "  inflating: train/8/00008_00020_00012.png  \n",
            "  inflating: train/8/00008_00020_00013.png  \n",
            "  inflating: train/8/00008_00020_00014.png  \n",
            "  inflating: train/8/00008_00020_00015.png  \n",
            "  inflating: train/8/00008_00020_00016.png  \n",
            "  inflating: train/8/00008_00020_00017.png  \n",
            "  inflating: train/8/00008_00020_00018.png  \n",
            "  inflating: train/8/00008_00020_00019.png  \n",
            "  inflating: train/8/00008_00020_00020.png  \n",
            "  inflating: train/8/00008_00020_00021.png  \n",
            "  inflating: train/8/00008_00020_00022.png  \n",
            "  inflating: train/8/00008_00020_00023.png  \n",
            "  inflating: train/8/00008_00020_00024.png  \n",
            "  inflating: train/8/00008_00020_00025.png  \n",
            "  inflating: train/8/00008_00020_00026.png  \n",
            "  inflating: train/8/00008_00020_00027.png  \n",
            "  inflating: train/8/00008_00020_00028.png  \n",
            "  inflating: train/8/00008_00020_00029.png  \n",
            "  inflating: train/8/00008_00021_00000.png  \n",
            "  inflating: train/8/00008_00021_00001.png  \n",
            "  inflating: train/8/00008_00021_00002.png  \n",
            "  inflating: train/8/00008_00021_00003.png  \n",
            "  inflating: train/8/00008_00021_00004.png  \n",
            "  inflating: train/8/00008_00021_00005.png  \n",
            "  inflating: train/8/00008_00021_00006.png  \n",
            "  inflating: train/8/00008_00021_00007.png  \n",
            "  inflating: train/8/00008_00021_00008.png  \n",
            "  inflating: train/8/00008_00021_00009.png  \n",
            "  inflating: train/8/00008_00021_00010.png  \n",
            "  inflating: train/8/00008_00021_00011.png  \n",
            "  inflating: train/8/00008_00021_00012.png  \n",
            "  inflating: train/8/00008_00021_00013.png  \n",
            "  inflating: train/8/00008_00021_00014.png  \n",
            "  inflating: train/8/00008_00021_00015.png  \n",
            "  inflating: train/8/00008_00021_00016.png  \n",
            "  inflating: train/8/00008_00021_00017.png  \n",
            "  inflating: train/8/00008_00021_00018.png  \n",
            "  inflating: train/8/00008_00021_00019.png  \n",
            "  inflating: train/8/00008_00021_00020.png  \n",
            "  inflating: train/8/00008_00021_00021.png  \n",
            "  inflating: train/8/00008_00021_00022.png  \n",
            "  inflating: train/8/00008_00021_00023.png  \n",
            "  inflating: train/8/00008_00021_00024.png  \n",
            "  inflating: train/8/00008_00021_00025.png  \n",
            "  inflating: train/8/00008_00021_00026.png  \n",
            "  inflating: train/8/00008_00021_00027.png  \n",
            "  inflating: train/8/00008_00021_00028.png  \n",
            "  inflating: train/8/00008_00021_00029.png  \n",
            "  inflating: train/8/00008_00022_00000.png  \n",
            "  inflating: train/8/00008_00022_00001.png  \n",
            "  inflating: train/8/00008_00022_00002.png  \n",
            "  inflating: train/8/00008_00022_00003.png  \n",
            "  inflating: train/8/00008_00022_00004.png  \n",
            "  inflating: train/8/00008_00022_00005.png  \n",
            "  inflating: train/8/00008_00022_00006.png  \n",
            "  inflating: train/8/00008_00022_00007.png  \n",
            "  inflating: train/8/00008_00022_00008.png  \n",
            "  inflating: train/8/00008_00022_00009.png  \n",
            "  inflating: train/8/00008_00022_00010.png  \n",
            "  inflating: train/8/00008_00022_00011.png  \n",
            "  inflating: train/8/00008_00022_00012.png  \n",
            "  inflating: train/8/00008_00022_00013.png  \n",
            "  inflating: train/8/00008_00022_00014.png  \n",
            "  inflating: train/8/00008_00022_00015.png  \n",
            "  inflating: train/8/00008_00022_00016.png  \n",
            "  inflating: train/8/00008_00022_00017.png  \n",
            "  inflating: train/8/00008_00022_00018.png  \n",
            "  inflating: train/8/00008_00022_00019.png  \n",
            "  inflating: train/8/00008_00022_00020.png  \n",
            "  inflating: train/8/00008_00022_00021.png  \n",
            "  inflating: train/8/00008_00022_00022.png  \n",
            "  inflating: train/8/00008_00022_00023.png  \n",
            "  inflating: train/8/00008_00022_00024.png  \n",
            "  inflating: train/8/00008_00022_00025.png  \n",
            "  inflating: train/8/00008_00022_00026.png  \n",
            "  inflating: train/8/00008_00022_00027.png  \n",
            "  inflating: train/8/00008_00022_00028.png  \n",
            "  inflating: train/8/00008_00022_00029.png  \n",
            "  inflating: train/8/00008_00023_00000.png  \n",
            "  inflating: train/8/00008_00023_00001.png  \n",
            "  inflating: train/8/00008_00023_00002.png  \n",
            "  inflating: train/8/00008_00023_00003.png  \n",
            "  inflating: train/8/00008_00023_00004.png  \n",
            "  inflating: train/8/00008_00023_00005.png  \n",
            "  inflating: train/8/00008_00023_00006.png  \n",
            "  inflating: train/8/00008_00023_00007.png  \n",
            "  inflating: train/8/00008_00023_00008.png  \n",
            "  inflating: train/8/00008_00023_00009.png  \n",
            "  inflating: train/8/00008_00023_00010.png  \n",
            "  inflating: train/8/00008_00023_00011.png  \n",
            "  inflating: train/8/00008_00023_00012.png  \n",
            "  inflating: train/8/00008_00023_00013.png  \n",
            "  inflating: train/8/00008_00023_00014.png  \n",
            "  inflating: train/8/00008_00023_00015.png  \n",
            "  inflating: train/8/00008_00023_00016.png  \n",
            "  inflating: train/8/00008_00023_00017.png  \n",
            "  inflating: train/8/00008_00023_00018.png  \n",
            "  inflating: train/8/00008_00023_00019.png  \n",
            "  inflating: train/8/00008_00023_00020.png  \n",
            "  inflating: train/8/00008_00023_00021.png  \n",
            "  inflating: train/8/00008_00023_00022.png  \n",
            "  inflating: train/8/00008_00023_00023.png  \n",
            "  inflating: train/8/00008_00023_00024.png  \n",
            "  inflating: train/8/00008_00023_00025.png  \n",
            "  inflating: train/8/00008_00023_00026.png  \n",
            "  inflating: train/8/00008_00023_00027.png  \n",
            "  inflating: train/8/00008_00023_00028.png  \n",
            "  inflating: train/8/00008_00023_00029.png  \n",
            "  inflating: train/8/00008_00024_00000.png  \n",
            "  inflating: train/8/00008_00024_00001.png  \n",
            "  inflating: train/8/00008_00024_00002.png  \n",
            "  inflating: train/8/00008_00024_00003.png  \n",
            "  inflating: train/8/00008_00024_00004.png  \n",
            "  inflating: train/8/00008_00024_00005.png  \n",
            "  inflating: train/8/00008_00024_00006.png  \n",
            "  inflating: train/8/00008_00024_00007.png  \n",
            "  inflating: train/8/00008_00024_00008.png  \n",
            "  inflating: train/8/00008_00024_00009.png  \n",
            "  inflating: train/8/00008_00024_00010.png  \n",
            "  inflating: train/8/00008_00024_00011.png  \n",
            "  inflating: train/8/00008_00024_00012.png  \n",
            "  inflating: train/8/00008_00024_00013.png  \n",
            "  inflating: train/8/00008_00024_00014.png  \n",
            "  inflating: train/8/00008_00024_00015.png  \n",
            "  inflating: train/8/00008_00024_00016.png  \n",
            "  inflating: train/8/00008_00024_00017.png  \n",
            "  inflating: train/8/00008_00024_00018.png  \n",
            "  inflating: train/8/00008_00024_00019.png  \n",
            "  inflating: train/8/00008_00024_00020.png  \n",
            "  inflating: train/8/00008_00024_00021.png  \n",
            "  inflating: train/8/00008_00024_00022.png  \n",
            "  inflating: train/8/00008_00024_00023.png  \n",
            "  inflating: train/8/00008_00024_00024.png  \n",
            "  inflating: train/8/00008_00024_00025.png  \n",
            "  inflating: train/8/00008_00024_00026.png  \n",
            "  inflating: train/8/00008_00024_00027.png  \n",
            "  inflating: train/8/00008_00024_00028.png  \n",
            "  inflating: train/8/00008_00024_00029.png  \n",
            "  inflating: train/8/00008_00025_00000.png  \n",
            "  inflating: train/8/00008_00025_00001.png  \n",
            "  inflating: train/8/00008_00025_00002.png  \n",
            "  inflating: train/8/00008_00025_00003.png  \n",
            "  inflating: train/8/00008_00025_00004.png  \n",
            "  inflating: train/8/00008_00025_00005.png  \n",
            "  inflating: train/8/00008_00025_00006.png  \n",
            "  inflating: train/8/00008_00025_00007.png  \n",
            "  inflating: train/8/00008_00025_00008.png  \n",
            "  inflating: train/8/00008_00025_00009.png  \n",
            "  inflating: train/8/00008_00025_00010.png  \n",
            "  inflating: train/8/00008_00025_00011.png  \n",
            "  inflating: train/8/00008_00025_00012.png  \n",
            "  inflating: train/8/00008_00025_00013.png  \n",
            "  inflating: train/8/00008_00025_00014.png  \n",
            "  inflating: train/8/00008_00025_00015.png  \n",
            "  inflating: train/8/00008_00025_00016.png  \n",
            "  inflating: train/8/00008_00025_00017.png  \n",
            "  inflating: train/8/00008_00025_00018.png  \n",
            "  inflating: train/8/00008_00025_00019.png  \n",
            "  inflating: train/8/00008_00025_00020.png  \n",
            "  inflating: train/8/00008_00025_00021.png  \n",
            "  inflating: train/8/00008_00025_00022.png  \n",
            "  inflating: train/8/00008_00025_00023.png  \n",
            "  inflating: train/8/00008_00025_00024.png  \n",
            "  inflating: train/8/00008_00025_00025.png  \n",
            "  inflating: train/8/00008_00025_00026.png  \n",
            "  inflating: train/8/00008_00025_00027.png  \n",
            "  inflating: train/8/00008_00025_00028.png  \n",
            "  inflating: train/8/00008_00025_00029.png  \n",
            "  inflating: train/8/00008_00026_00000.png  \n",
            "  inflating: train/8/00008_00026_00001.png  \n",
            "  inflating: train/8/00008_00026_00002.png  \n",
            "  inflating: train/8/00008_00026_00003.png  \n",
            "  inflating: train/8/00008_00026_00004.png  \n",
            "  inflating: train/8/00008_00026_00005.png  \n",
            "  inflating: train/8/00008_00026_00006.png  \n",
            "  inflating: train/8/00008_00026_00007.png  \n",
            "  inflating: train/8/00008_00026_00008.png  \n",
            "  inflating: train/8/00008_00026_00009.png  \n",
            "  inflating: train/8/00008_00026_00010.png  \n",
            "  inflating: train/8/00008_00026_00011.png  \n",
            "  inflating: train/8/00008_00026_00012.png  \n",
            "  inflating: train/8/00008_00026_00013.png  \n",
            "  inflating: train/8/00008_00026_00014.png  \n",
            "  inflating: train/8/00008_00026_00015.png  \n",
            "  inflating: train/8/00008_00026_00016.png  \n",
            "  inflating: train/8/00008_00026_00017.png  \n",
            "  inflating: train/8/00008_00026_00018.png  \n",
            "  inflating: train/8/00008_00026_00019.png  \n",
            "  inflating: train/8/00008_00026_00020.png  \n",
            "  inflating: train/8/00008_00026_00021.png  \n",
            "  inflating: train/8/00008_00026_00022.png  \n",
            "  inflating: train/8/00008_00026_00023.png  \n",
            "  inflating: train/8/00008_00026_00024.png  \n",
            "  inflating: train/8/00008_00026_00025.png  \n",
            "  inflating: train/8/00008_00026_00026.png  \n",
            "  inflating: train/8/00008_00026_00027.png  \n",
            "  inflating: train/8/00008_00026_00028.png  \n",
            "  inflating: train/8/00008_00026_00029.png  \n",
            "  inflating: train/8/00008_00027_00000.png  \n",
            "  inflating: train/8/00008_00027_00001.png  \n",
            "  inflating: train/8/00008_00027_00002.png  \n",
            "  inflating: train/8/00008_00027_00003.png  \n",
            "  inflating: train/8/00008_00027_00004.png  \n",
            "  inflating: train/8/00008_00027_00005.png  \n",
            "  inflating: train/8/00008_00027_00006.png  \n",
            "  inflating: train/8/00008_00027_00007.png  \n",
            "  inflating: train/8/00008_00027_00008.png  \n",
            "  inflating: train/8/00008_00027_00009.png  \n",
            "  inflating: train/8/00008_00027_00010.png  \n",
            "  inflating: train/8/00008_00027_00011.png  \n",
            "  inflating: train/8/00008_00027_00012.png  \n",
            "  inflating: train/8/00008_00027_00013.png  \n",
            "  inflating: train/8/00008_00027_00014.png  \n",
            "  inflating: train/8/00008_00027_00015.png  \n",
            "  inflating: train/8/00008_00027_00016.png  \n",
            "  inflating: train/8/00008_00027_00017.png  \n",
            "  inflating: train/8/00008_00027_00018.png  \n",
            "  inflating: train/8/00008_00027_00019.png  \n",
            "  inflating: train/8/00008_00027_00020.png  \n",
            "  inflating: train/8/00008_00027_00021.png  \n",
            "  inflating: train/8/00008_00027_00022.png  \n",
            "  inflating: train/8/00008_00027_00023.png  \n",
            "  inflating: train/8/00008_00027_00024.png  \n",
            "  inflating: train/8/00008_00027_00025.png  \n",
            "  inflating: train/8/00008_00027_00026.png  \n",
            "  inflating: train/8/00008_00027_00027.png  \n",
            "  inflating: train/8/00008_00027_00028.png  \n",
            "  inflating: train/8/00008_00027_00029.png  \n",
            "  inflating: train/8/00008_00028_00000.png  \n",
            "  inflating: train/8/00008_00028_00001.png  \n",
            "  inflating: train/8/00008_00028_00002.png  \n",
            "  inflating: train/8/00008_00028_00003.png  \n",
            "  inflating: train/8/00008_00028_00004.png  \n",
            "  inflating: train/8/00008_00028_00005.png  \n",
            "  inflating: train/8/00008_00028_00006.png  \n",
            "  inflating: train/8/00008_00028_00007.png  \n",
            "  inflating: train/8/00008_00028_00008.png  \n",
            "  inflating: train/8/00008_00028_00009.png  \n",
            "  inflating: train/8/00008_00028_00010.png  \n",
            "  inflating: train/8/00008_00028_00011.png  \n",
            "  inflating: train/8/00008_00028_00012.png  \n",
            "  inflating: train/8/00008_00028_00013.png  \n",
            "  inflating: train/8/00008_00028_00014.png  \n",
            "  inflating: train/8/00008_00028_00015.png  \n",
            "  inflating: train/8/00008_00028_00016.png  \n",
            "  inflating: train/8/00008_00028_00017.png  \n",
            "  inflating: train/8/00008_00028_00018.png  \n",
            "  inflating: train/8/00008_00028_00019.png  \n",
            "  inflating: train/8/00008_00028_00020.png  \n",
            "  inflating: train/8/00008_00028_00021.png  \n",
            "  inflating: train/8/00008_00028_00022.png  \n",
            "  inflating: train/8/00008_00028_00023.png  \n",
            "  inflating: train/8/00008_00028_00024.png  \n",
            "  inflating: train/8/00008_00028_00025.png  \n",
            "  inflating: train/8/00008_00028_00026.png  \n",
            "  inflating: train/8/00008_00028_00027.png  \n",
            "  inflating: train/8/00008_00028_00028.png  \n",
            "  inflating: train/8/00008_00028_00029.png  \n",
            "  inflating: train/8/00008_00029_00000.png  \n",
            "  inflating: train/8/00008_00029_00001.png  \n",
            "  inflating: train/8/00008_00029_00002.png  \n",
            "  inflating: train/8/00008_00029_00003.png  \n",
            "  inflating: train/8/00008_00029_00004.png  \n",
            "  inflating: train/8/00008_00029_00005.png  \n",
            "  inflating: train/8/00008_00029_00006.png  \n",
            "  inflating: train/8/00008_00029_00007.png  \n",
            "  inflating: train/8/00008_00029_00008.png  \n",
            "  inflating: train/8/00008_00029_00009.png  \n",
            "  inflating: train/8/00008_00029_00010.png  \n",
            "  inflating: train/8/00008_00029_00011.png  \n",
            "  inflating: train/8/00008_00029_00012.png  \n",
            "  inflating: train/8/00008_00029_00013.png  \n",
            "  inflating: train/8/00008_00029_00014.png  \n",
            "  inflating: train/8/00008_00029_00015.png  \n",
            "  inflating: train/8/00008_00029_00016.png  \n",
            "  inflating: train/8/00008_00029_00017.png  \n",
            "  inflating: train/8/00008_00029_00018.png  \n",
            "  inflating: train/8/00008_00029_00019.png  \n",
            "  inflating: train/8/00008_00029_00020.png  \n",
            "  inflating: train/8/00008_00029_00021.png  \n",
            "  inflating: train/8/00008_00029_00022.png  \n",
            "  inflating: train/8/00008_00029_00023.png  \n",
            "  inflating: train/8/00008_00029_00024.png  \n",
            "  inflating: train/8/00008_00029_00025.png  \n",
            "  inflating: train/8/00008_00029_00026.png  \n",
            "  inflating: train/8/00008_00029_00027.png  \n",
            "  inflating: train/8/00008_00029_00028.png  \n",
            "  inflating: train/8/00008_00029_00029.png  \n",
            "  inflating: train/8/00008_00030_00000.png  \n",
            "  inflating: train/8/00008_00030_00001.png  \n",
            "  inflating: train/8/00008_00030_00002.png  \n",
            "  inflating: train/8/00008_00030_00003.png  \n",
            "  inflating: train/8/00008_00030_00004.png  \n",
            "  inflating: train/8/00008_00030_00005.png  \n",
            "  inflating: train/8/00008_00030_00006.png  \n",
            "  inflating: train/8/00008_00030_00007.png  \n",
            "  inflating: train/8/00008_00030_00008.png  \n",
            "  inflating: train/8/00008_00030_00009.png  \n",
            "  inflating: train/8/00008_00030_00010.png  \n",
            "  inflating: train/8/00008_00030_00011.png  \n",
            "  inflating: train/8/00008_00030_00012.png  \n",
            "  inflating: train/8/00008_00030_00013.png  \n",
            "  inflating: train/8/00008_00030_00014.png  \n",
            "  inflating: train/8/00008_00030_00015.png  \n",
            "  inflating: train/8/00008_00030_00016.png  \n",
            "  inflating: train/8/00008_00030_00017.png  \n",
            "  inflating: train/8/00008_00030_00018.png  \n",
            "  inflating: train/8/00008_00030_00019.png  \n",
            "  inflating: train/8/00008_00030_00020.png  \n",
            "  inflating: train/8/00008_00030_00021.png  \n",
            "  inflating: train/8/00008_00030_00022.png  \n",
            "  inflating: train/8/00008_00030_00023.png  \n",
            "  inflating: train/8/00008_00030_00024.png  \n",
            "  inflating: train/8/00008_00030_00025.png  \n",
            "  inflating: train/8/00008_00030_00026.png  \n",
            "  inflating: train/8/00008_00030_00027.png  \n",
            "  inflating: train/8/00008_00030_00028.png  \n",
            "  inflating: train/8/00008_00030_00029.png  \n",
            "  inflating: train/8/00008_00031_00000.png  \n",
            "  inflating: train/8/00008_00031_00001.png  \n",
            "  inflating: train/8/00008_00031_00002.png  \n",
            "  inflating: train/8/00008_00031_00003.png  \n",
            "  inflating: train/8/00008_00031_00004.png  \n",
            "  inflating: train/8/00008_00031_00005.png  \n",
            "  inflating: train/8/00008_00031_00006.png  \n",
            "  inflating: train/8/00008_00031_00007.png  \n",
            "  inflating: train/8/00008_00031_00008.png  \n",
            "  inflating: train/8/00008_00031_00009.png  \n",
            "  inflating: train/8/00008_00031_00010.png  \n",
            "  inflating: train/8/00008_00031_00011.png  \n",
            "  inflating: train/8/00008_00031_00012.png  \n",
            "  inflating: train/8/00008_00031_00013.png  \n",
            "  inflating: train/8/00008_00031_00014.png  \n",
            "  inflating: train/8/00008_00031_00015.png  \n",
            "  inflating: train/8/00008_00031_00016.png  \n",
            "  inflating: train/8/00008_00031_00017.png  \n",
            "  inflating: train/8/00008_00031_00018.png  \n",
            "  inflating: train/8/00008_00031_00019.png  \n",
            "  inflating: train/8/00008_00031_00020.png  \n",
            "  inflating: train/8/00008_00031_00021.png  \n",
            "  inflating: train/8/00008_00031_00022.png  \n",
            "  inflating: train/8/00008_00031_00023.png  \n",
            "  inflating: train/8/00008_00031_00024.png  \n",
            "  inflating: train/8/00008_00031_00025.png  \n",
            "  inflating: train/8/00008_00031_00026.png  \n",
            "  inflating: train/8/00008_00031_00027.png  \n",
            "  inflating: train/8/00008_00031_00028.png  \n",
            "  inflating: train/8/00008_00031_00029.png  \n",
            "  inflating: train/8/00008_00032_00000.png  \n",
            "  inflating: train/8/00008_00032_00001.png  \n",
            "  inflating: train/8/00008_00032_00002.png  \n",
            "  inflating: train/8/00008_00032_00003.png  \n",
            "  inflating: train/8/00008_00032_00004.png  \n",
            "  inflating: train/8/00008_00032_00005.png  \n",
            "  inflating: train/8/00008_00032_00006.png  \n",
            "  inflating: train/8/00008_00032_00007.png  \n",
            "  inflating: train/8/00008_00032_00008.png  \n",
            "  inflating: train/8/00008_00032_00009.png  \n",
            "  inflating: train/8/00008_00032_00010.png  \n",
            "  inflating: train/8/00008_00032_00011.png  \n",
            "  inflating: train/8/00008_00032_00012.png  \n",
            "  inflating: train/8/00008_00032_00013.png  \n",
            "  inflating: train/8/00008_00032_00014.png  \n",
            "  inflating: train/8/00008_00032_00015.png  \n",
            "  inflating: train/8/00008_00032_00016.png  \n",
            "  inflating: train/8/00008_00032_00017.png  \n",
            "  inflating: train/8/00008_00032_00018.png  \n",
            "  inflating: train/8/00008_00032_00019.png  \n",
            "  inflating: train/8/00008_00032_00020.png  \n",
            "  inflating: train/8/00008_00032_00021.png  \n",
            "  inflating: train/8/00008_00032_00022.png  \n",
            "  inflating: train/8/00008_00032_00023.png  \n",
            "  inflating: train/8/00008_00032_00024.png  \n",
            "  inflating: train/8/00008_00032_00025.png  \n",
            "  inflating: train/8/00008_00032_00026.png  \n",
            "  inflating: train/8/00008_00032_00027.png  \n",
            "  inflating: train/8/00008_00032_00028.png  \n",
            "  inflating: train/8/00008_00032_00029.png  \n",
            "  inflating: train/8/00008_00033_00000.png  \n",
            "  inflating: train/8/00008_00033_00001.png  \n",
            "  inflating: train/8/00008_00033_00002.png  \n",
            "  inflating: train/8/00008_00033_00003.png  \n",
            "  inflating: train/8/00008_00033_00004.png  \n",
            "  inflating: train/8/00008_00033_00005.png  \n",
            "  inflating: train/8/00008_00033_00006.png  \n",
            "  inflating: train/8/00008_00033_00007.png  \n",
            "  inflating: train/8/00008_00033_00008.png  \n",
            "  inflating: train/8/00008_00033_00009.png  \n",
            "  inflating: train/8/00008_00033_00010.png  \n",
            "  inflating: train/8/00008_00033_00011.png  \n",
            "  inflating: train/8/00008_00033_00012.png  \n",
            "  inflating: train/8/00008_00033_00013.png  \n",
            "  inflating: train/8/00008_00033_00014.png  \n",
            "  inflating: train/8/00008_00033_00015.png  \n",
            "  inflating: train/8/00008_00033_00016.png  \n",
            "  inflating: train/8/00008_00033_00017.png  \n",
            "  inflating: train/8/00008_00033_00018.png  \n",
            "  inflating: train/8/00008_00033_00019.png  \n",
            "  inflating: train/8/00008_00033_00020.png  \n",
            "  inflating: train/8/00008_00033_00021.png  \n",
            "  inflating: train/8/00008_00033_00022.png  \n",
            "  inflating: train/8/00008_00033_00023.png  \n",
            "  inflating: train/8/00008_00033_00024.png  \n",
            "  inflating: train/8/00008_00033_00025.png  \n",
            "  inflating: train/8/00008_00033_00026.png  \n",
            "  inflating: train/8/00008_00033_00027.png  \n",
            "  inflating: train/8/00008_00033_00028.png  \n",
            "  inflating: train/8/00008_00033_00029.png  \n",
            "  inflating: train/8/00008_00034_00000.png  \n",
            "  inflating: train/8/00008_00034_00001.png  \n",
            "  inflating: train/8/00008_00034_00002.png  \n",
            "  inflating: train/8/00008_00034_00003.png  \n",
            "  inflating: train/8/00008_00034_00004.png  \n",
            "  inflating: train/8/00008_00034_00005.png  \n",
            "  inflating: train/8/00008_00034_00006.png  \n",
            "  inflating: train/8/00008_00034_00007.png  \n",
            "  inflating: train/8/00008_00034_00008.png  \n",
            "  inflating: train/8/00008_00034_00009.png  \n",
            "  inflating: train/8/00008_00034_00010.png  \n",
            "  inflating: train/8/00008_00034_00011.png  \n",
            "  inflating: train/8/00008_00034_00012.png  \n",
            "  inflating: train/8/00008_00034_00013.png  \n",
            "  inflating: train/8/00008_00034_00014.png  \n",
            "  inflating: train/8/00008_00034_00015.png  \n",
            "  inflating: train/8/00008_00034_00016.png  \n",
            "  inflating: train/8/00008_00034_00017.png  \n",
            "  inflating: train/8/00008_00034_00018.png  \n",
            "  inflating: train/8/00008_00034_00019.png  \n",
            "  inflating: train/8/00008_00034_00020.png  \n",
            "  inflating: train/8/00008_00034_00021.png  \n",
            "  inflating: train/8/00008_00034_00022.png  \n",
            "  inflating: train/8/00008_00034_00023.png  \n",
            "  inflating: train/8/00008_00034_00024.png  \n",
            "  inflating: train/8/00008_00034_00025.png  \n",
            "  inflating: train/8/00008_00034_00026.png  \n",
            "  inflating: train/8/00008_00034_00027.png  \n",
            "  inflating: train/8/00008_00034_00028.png  \n",
            "  inflating: train/8/00008_00034_00029.png  \n",
            "  inflating: train/8/00008_00035_00000.png  \n",
            "  inflating: train/8/00008_00035_00001.png  \n",
            "  inflating: train/8/00008_00035_00002.png  \n",
            "  inflating: train/8/00008_00035_00003.png  \n",
            "  inflating: train/8/00008_00035_00004.png  \n",
            "  inflating: train/8/00008_00035_00005.png  \n",
            "  inflating: train/8/00008_00035_00006.png  \n",
            "  inflating: train/8/00008_00035_00007.png  \n",
            "  inflating: train/8/00008_00035_00008.png  \n",
            "  inflating: train/8/00008_00035_00009.png  \n",
            "  inflating: train/8/00008_00035_00010.png  \n",
            "  inflating: train/8/00008_00035_00011.png  \n",
            "  inflating: train/8/00008_00035_00012.png  \n",
            "  inflating: train/8/00008_00035_00013.png  \n",
            "  inflating: train/8/00008_00035_00014.png  \n",
            "  inflating: train/8/00008_00035_00015.png  \n",
            "  inflating: train/8/00008_00035_00016.png  \n",
            "  inflating: train/8/00008_00035_00017.png  \n",
            "  inflating: train/8/00008_00035_00018.png  \n",
            "  inflating: train/8/00008_00035_00019.png  \n",
            "  inflating: train/8/00008_00035_00020.png  \n",
            "  inflating: train/8/00008_00035_00021.png  \n",
            "  inflating: train/8/00008_00035_00022.png  \n",
            "  inflating: train/8/00008_00035_00023.png  \n",
            "  inflating: train/8/00008_00035_00024.png  \n",
            "  inflating: train/8/00008_00035_00025.png  \n",
            "  inflating: train/8/00008_00035_00026.png  \n",
            "  inflating: train/8/00008_00035_00027.png  \n",
            "  inflating: train/8/00008_00035_00028.png  \n",
            "  inflating: train/8/00008_00035_00029.png  \n",
            "  inflating: train/8/00008_00036_00000.png  \n",
            "  inflating: train/8/00008_00036_00001.png  \n",
            "  inflating: train/8/00008_00036_00002.png  \n",
            "  inflating: train/8/00008_00036_00003.png  \n",
            "  inflating: train/8/00008_00036_00004.png  \n",
            "  inflating: train/8/00008_00036_00005.png  \n",
            "  inflating: train/8/00008_00036_00006.png  \n",
            "  inflating: train/8/00008_00036_00007.png  \n",
            "  inflating: train/8/00008_00036_00008.png  \n",
            "  inflating: train/8/00008_00036_00009.png  \n",
            "  inflating: train/8/00008_00036_00010.png  \n",
            "  inflating: train/8/00008_00036_00011.png  \n",
            "  inflating: train/8/00008_00036_00012.png  \n",
            "  inflating: train/8/00008_00036_00013.png  \n",
            "  inflating: train/8/00008_00036_00014.png  \n",
            "  inflating: train/8/00008_00036_00015.png  \n",
            "  inflating: train/8/00008_00036_00016.png  \n",
            "  inflating: train/8/00008_00036_00017.png  \n",
            "  inflating: train/8/00008_00036_00018.png  \n",
            "  inflating: train/8/00008_00036_00019.png  \n",
            "  inflating: train/8/00008_00036_00020.png  \n",
            "  inflating: train/8/00008_00036_00021.png  \n",
            "  inflating: train/8/00008_00036_00022.png  \n",
            "  inflating: train/8/00008_00036_00023.png  \n",
            "  inflating: train/8/00008_00036_00024.png  \n",
            "  inflating: train/8/00008_00036_00025.png  \n",
            "  inflating: train/8/00008_00036_00026.png  \n",
            "  inflating: train/8/00008_00036_00027.png  \n",
            "  inflating: train/8/00008_00036_00028.png  \n",
            "  inflating: train/8/00008_00036_00029.png  \n",
            "  inflating: train/8/00008_00037_00000.png  \n",
            "  inflating: train/8/00008_00037_00001.png  \n",
            "  inflating: train/8/00008_00037_00002.png  \n",
            "  inflating: train/8/00008_00037_00003.png  \n",
            "  inflating: train/8/00008_00037_00004.png  \n",
            "  inflating: train/8/00008_00037_00005.png  \n",
            "  inflating: train/8/00008_00037_00006.png  \n",
            "  inflating: train/8/00008_00037_00007.png  \n",
            "  inflating: train/8/00008_00037_00008.png  \n",
            "  inflating: train/8/00008_00037_00009.png  \n",
            "  inflating: train/8/00008_00037_00010.png  \n",
            "  inflating: train/8/00008_00037_00011.png  \n",
            "  inflating: train/8/00008_00037_00012.png  \n",
            "  inflating: train/8/00008_00037_00013.png  \n",
            "  inflating: train/8/00008_00037_00014.png  \n",
            "  inflating: train/8/00008_00037_00015.png  \n",
            "  inflating: train/8/00008_00037_00016.png  \n",
            "  inflating: train/8/00008_00037_00017.png  \n",
            "  inflating: train/8/00008_00037_00018.png  \n",
            "  inflating: train/8/00008_00037_00019.png  \n",
            "  inflating: train/8/00008_00037_00020.png  \n",
            "  inflating: train/8/00008_00037_00021.png  \n",
            "  inflating: train/8/00008_00037_00022.png  \n",
            "  inflating: train/8/00008_00037_00023.png  \n",
            "  inflating: train/8/00008_00037_00024.png  \n",
            "  inflating: train/8/00008_00037_00025.png  \n",
            "  inflating: train/8/00008_00037_00026.png  \n",
            "  inflating: train/8/00008_00037_00027.png  \n",
            "  inflating: train/8/00008_00037_00028.png  \n",
            "  inflating: train/8/00008_00037_00029.png  \n",
            "  inflating: train/8/00008_00038_00000.png  \n",
            "  inflating: train/8/00008_00038_00001.png  \n",
            "  inflating: train/8/00008_00038_00002.png  \n",
            "  inflating: train/8/00008_00038_00003.png  \n",
            "  inflating: train/8/00008_00038_00004.png  \n",
            "  inflating: train/8/00008_00038_00005.png  \n",
            "  inflating: train/8/00008_00038_00006.png  \n",
            "  inflating: train/8/00008_00038_00007.png  \n",
            "  inflating: train/8/00008_00038_00008.png  \n",
            "  inflating: train/8/00008_00038_00009.png  \n",
            "  inflating: train/8/00008_00038_00010.png  \n",
            "  inflating: train/8/00008_00038_00011.png  \n",
            "  inflating: train/8/00008_00038_00012.png  \n",
            "  inflating: train/8/00008_00038_00013.png  \n",
            "  inflating: train/8/00008_00038_00014.png  \n",
            "  inflating: train/8/00008_00038_00015.png  \n",
            "  inflating: train/8/00008_00038_00016.png  \n",
            "  inflating: train/8/00008_00038_00017.png  \n",
            "  inflating: train/8/00008_00038_00018.png  \n",
            "  inflating: train/8/00008_00038_00019.png  \n",
            "  inflating: train/8/00008_00038_00020.png  \n",
            "  inflating: train/8/00008_00038_00021.png  \n",
            "  inflating: train/8/00008_00038_00022.png  \n",
            "  inflating: train/8/00008_00038_00023.png  \n",
            "  inflating: train/8/00008_00038_00024.png  \n",
            "  inflating: train/8/00008_00038_00025.png  \n",
            "  inflating: train/8/00008_00038_00026.png  \n",
            "  inflating: train/8/00008_00038_00027.png  \n",
            "  inflating: train/8/00008_00038_00028.png  \n",
            "  inflating: train/8/00008_00038_00029.png  \n",
            "  inflating: train/8/00008_00039_00000.png  \n",
            "  inflating: train/8/00008_00039_00001.png  \n",
            "  inflating: train/8/00008_00039_00002.png  \n",
            "  inflating: train/8/00008_00039_00003.png  \n",
            "  inflating: train/8/00008_00039_00004.png  \n",
            "  inflating: train/8/00008_00039_00005.png  \n",
            "  inflating: train/8/00008_00039_00006.png  \n",
            "  inflating: train/8/00008_00039_00007.png  \n",
            "  inflating: train/8/00008_00039_00008.png  \n",
            "  inflating: train/8/00008_00039_00009.png  \n",
            "  inflating: train/8/00008_00039_00010.png  \n",
            "  inflating: train/8/00008_00039_00011.png  \n",
            "  inflating: train/8/00008_00039_00012.png  \n",
            "  inflating: train/8/00008_00039_00013.png  \n",
            "  inflating: train/8/00008_00039_00014.png  \n",
            "  inflating: train/8/00008_00039_00015.png  \n",
            "  inflating: train/8/00008_00039_00016.png  \n",
            "  inflating: train/8/00008_00039_00017.png  \n",
            "  inflating: train/8/00008_00039_00018.png  \n",
            "  inflating: train/8/00008_00039_00019.png  \n",
            "  inflating: train/8/00008_00039_00020.png  \n",
            "  inflating: train/8/00008_00039_00021.png  \n",
            "  inflating: train/8/00008_00039_00022.png  \n",
            "  inflating: train/8/00008_00039_00023.png  \n",
            "  inflating: train/8/00008_00039_00024.png  \n",
            "  inflating: train/8/00008_00039_00025.png  \n",
            "  inflating: train/8/00008_00039_00026.png  \n",
            "  inflating: train/8/00008_00039_00027.png  \n",
            "  inflating: train/8/00008_00039_00028.png  \n",
            "  inflating: train/8/00008_00039_00029.png  \n",
            "  inflating: train/8/00008_00040_00000.png  \n",
            "  inflating: train/8/00008_00040_00001.png  \n",
            "  inflating: train/8/00008_00040_00002.png  \n",
            "  inflating: train/8/00008_00040_00003.png  \n",
            "  inflating: train/8/00008_00040_00004.png  \n",
            "  inflating: train/8/00008_00040_00005.png  \n",
            "  inflating: train/8/00008_00040_00006.png  \n",
            "  inflating: train/8/00008_00040_00007.png  \n",
            "  inflating: train/8/00008_00040_00008.png  \n",
            "  inflating: train/8/00008_00040_00009.png  \n",
            "  inflating: train/8/00008_00040_00010.png  \n",
            "  inflating: train/8/00008_00040_00011.png  \n",
            "  inflating: train/8/00008_00040_00012.png  \n",
            "  inflating: train/8/00008_00040_00013.png  \n",
            "  inflating: train/8/00008_00040_00014.png  \n",
            "  inflating: train/8/00008_00040_00015.png  \n",
            "  inflating: train/8/00008_00040_00016.png  \n",
            "  inflating: train/8/00008_00040_00017.png  \n",
            "  inflating: train/8/00008_00040_00018.png  \n",
            "  inflating: train/8/00008_00040_00019.png  \n",
            "  inflating: train/8/00008_00040_00020.png  \n",
            "  inflating: train/8/00008_00040_00021.png  \n",
            "  inflating: train/8/00008_00040_00022.png  \n",
            "  inflating: train/8/00008_00040_00023.png  \n",
            "  inflating: train/8/00008_00040_00024.png  \n",
            "  inflating: train/8/00008_00040_00025.png  \n",
            "  inflating: train/8/00008_00040_00026.png  \n",
            "  inflating: train/8/00008_00040_00027.png  \n",
            "  inflating: train/8/00008_00040_00028.png  \n",
            "  inflating: train/8/00008_00040_00029.png  \n",
            "  inflating: train/8/00008_00041_00000.png  \n",
            "  inflating: train/8/00008_00041_00001.png  \n",
            "  inflating: train/8/00008_00041_00002.png  \n",
            "  inflating: train/8/00008_00041_00003.png  \n",
            "  inflating: train/8/00008_00041_00004.png  \n",
            "  inflating: train/8/00008_00041_00005.png  \n",
            "  inflating: train/8/00008_00041_00006.png  \n",
            "  inflating: train/8/00008_00041_00007.png  \n",
            "  inflating: train/8/00008_00041_00008.png  \n",
            "  inflating: train/8/00008_00041_00009.png  \n",
            "  inflating: train/8/00008_00041_00010.png  \n",
            "  inflating: train/8/00008_00041_00011.png  \n",
            "  inflating: train/8/00008_00041_00012.png  \n",
            "  inflating: train/8/00008_00041_00013.png  \n",
            "  inflating: train/8/00008_00041_00014.png  \n",
            "  inflating: train/8/00008_00041_00015.png  \n",
            "  inflating: train/8/00008_00041_00016.png  \n",
            "  inflating: train/8/00008_00041_00017.png  \n",
            "  inflating: train/8/00008_00041_00018.png  \n",
            "  inflating: train/8/00008_00041_00019.png  \n",
            "  inflating: train/8/00008_00041_00020.png  \n",
            "  inflating: train/8/00008_00041_00021.png  \n",
            "  inflating: train/8/00008_00041_00022.png  \n",
            "  inflating: train/8/00008_00041_00023.png  \n",
            "  inflating: train/8/00008_00041_00024.png  \n",
            "  inflating: train/8/00008_00041_00025.png  \n",
            "  inflating: train/8/00008_00041_00026.png  \n",
            "  inflating: train/8/00008_00041_00027.png  \n",
            "  inflating: train/8/00008_00041_00028.png  \n",
            "  inflating: train/8/00008_00041_00029.png  \n",
            "  inflating: train/8/00008_00042_00000.png  \n",
            "  inflating: train/8/00008_00042_00001.png  \n",
            "  inflating: train/8/00008_00042_00002.png  \n",
            "  inflating: train/8/00008_00042_00003.png  \n",
            "  inflating: train/8/00008_00042_00004.png  \n",
            "  inflating: train/8/00008_00042_00005.png  \n",
            "  inflating: train/8/00008_00042_00006.png  \n",
            "  inflating: train/8/00008_00042_00007.png  \n",
            "  inflating: train/8/00008_00042_00008.png  \n",
            "  inflating: train/8/00008_00042_00009.png  \n",
            "  inflating: train/8/00008_00042_00010.png  \n",
            "  inflating: train/8/00008_00042_00011.png  \n",
            "  inflating: train/8/00008_00042_00012.png  \n",
            "  inflating: train/8/00008_00042_00013.png  \n",
            "  inflating: train/8/00008_00042_00014.png  \n",
            "  inflating: train/8/00008_00042_00015.png  \n",
            "  inflating: train/8/00008_00042_00016.png  \n",
            "  inflating: train/8/00008_00042_00017.png  \n",
            "  inflating: train/8/00008_00042_00018.png  \n",
            "  inflating: train/8/00008_00042_00019.png  \n",
            "  inflating: train/8/00008_00042_00020.png  \n",
            "  inflating: train/8/00008_00042_00021.png  \n",
            "  inflating: train/8/00008_00042_00022.png  \n",
            "  inflating: train/8/00008_00042_00023.png  \n",
            "  inflating: train/8/00008_00042_00024.png  \n",
            "  inflating: train/8/00008_00042_00025.png  \n",
            "  inflating: train/8/00008_00042_00026.png  \n",
            "  inflating: train/8/00008_00042_00027.png  \n",
            "  inflating: train/8/00008_00042_00028.png  \n",
            "  inflating: train/8/00008_00042_00029.png  \n",
            "  inflating: train/8/00008_00043_00000.png  \n",
            "  inflating: train/8/00008_00043_00001.png  \n",
            "  inflating: train/8/00008_00043_00002.png  \n",
            "  inflating: train/8/00008_00043_00003.png  \n",
            "  inflating: train/8/00008_00043_00004.png  \n",
            "  inflating: train/8/00008_00043_00005.png  \n",
            "  inflating: train/8/00008_00043_00006.png  \n",
            "  inflating: train/8/00008_00043_00007.png  \n",
            "  inflating: train/8/00008_00043_00008.png  \n",
            "  inflating: train/8/00008_00043_00009.png  \n",
            "  inflating: train/8/00008_00043_00010.png  \n",
            "  inflating: train/8/00008_00043_00011.png  \n",
            "  inflating: train/8/00008_00043_00012.png  \n",
            "  inflating: train/8/00008_00043_00013.png  \n",
            "  inflating: train/8/00008_00043_00014.png  \n",
            "  inflating: train/8/00008_00043_00015.png  \n",
            "  inflating: train/8/00008_00043_00016.png  \n",
            "  inflating: train/8/00008_00043_00017.png  \n",
            "  inflating: train/8/00008_00043_00018.png  \n",
            "  inflating: train/8/00008_00043_00019.png  \n",
            "  inflating: train/8/00008_00043_00020.png  \n",
            "  inflating: train/8/00008_00043_00021.png  \n",
            "  inflating: train/8/00008_00043_00022.png  \n",
            "  inflating: train/8/00008_00043_00023.png  \n",
            "  inflating: train/8/00008_00043_00024.png  \n",
            "  inflating: train/8/00008_00043_00025.png  \n",
            "  inflating: train/8/00008_00043_00026.png  \n",
            "  inflating: train/8/00008_00043_00027.png  \n",
            "  inflating: train/8/00008_00043_00028.png  \n",
            "  inflating: train/8/00008_00043_00029.png  \n",
            "  inflating: train/8/00008_00044_00000.png  \n",
            "  inflating: train/8/00008_00044_00001.png  \n",
            "  inflating: train/8/00008_00044_00002.png  \n",
            "  inflating: train/8/00008_00044_00003.png  \n",
            "  inflating: train/8/00008_00044_00004.png  \n",
            "  inflating: train/8/00008_00044_00005.png  \n",
            "  inflating: train/8/00008_00044_00006.png  \n",
            "  inflating: train/8/00008_00044_00007.png  \n",
            "  inflating: train/8/00008_00044_00008.png  \n",
            "  inflating: train/8/00008_00044_00009.png  \n",
            "  inflating: train/8/00008_00044_00010.png  \n",
            "  inflating: train/8/00008_00044_00011.png  \n",
            "  inflating: train/8/00008_00044_00012.png  \n",
            "  inflating: train/8/00008_00044_00013.png  \n",
            "  inflating: train/8/00008_00044_00014.png  \n",
            "  inflating: train/8/00008_00044_00015.png  \n",
            "  inflating: train/8/00008_00044_00016.png  \n",
            "  inflating: train/8/00008_00044_00017.png  \n",
            "  inflating: train/8/00008_00044_00018.png  \n",
            "  inflating: train/8/00008_00044_00019.png  \n",
            "  inflating: train/8/00008_00044_00020.png  \n",
            "  inflating: train/8/00008_00044_00021.png  \n",
            "  inflating: train/8/00008_00044_00022.png  \n",
            "  inflating: train/8/00008_00044_00023.png  \n",
            "  inflating: train/8/00008_00044_00024.png  \n",
            "  inflating: train/8/00008_00044_00025.png  \n",
            "  inflating: train/8/00008_00044_00026.png  \n",
            "  inflating: train/8/00008_00044_00027.png  \n",
            "  inflating: train/8/00008_00044_00028.png  \n",
            "  inflating: train/8/00008_00044_00029.png  \n",
            "  inflating: train/8/00008_00045_00000.png  \n",
            "  inflating: train/8/00008_00045_00001.png  \n",
            "  inflating: train/8/00008_00045_00002.png  \n",
            "  inflating: train/8/00008_00045_00003.png  \n",
            "  inflating: train/8/00008_00045_00004.png  \n",
            "  inflating: train/8/00008_00045_00005.png  \n",
            "  inflating: train/8/00008_00045_00006.png  \n",
            "  inflating: train/8/00008_00045_00007.png  \n",
            "  inflating: train/8/00008_00045_00008.png  \n",
            "  inflating: train/8/00008_00045_00009.png  \n",
            "  inflating: train/8/00008_00045_00010.png  \n",
            "  inflating: train/8/00008_00045_00011.png  \n",
            "  inflating: train/8/00008_00045_00012.png  \n",
            "  inflating: train/8/00008_00045_00013.png  \n",
            "  inflating: train/8/00008_00045_00014.png  \n",
            "  inflating: train/8/00008_00045_00015.png  \n",
            "  inflating: train/8/00008_00045_00016.png  \n",
            "  inflating: train/8/00008_00045_00017.png  \n",
            "  inflating: train/8/00008_00045_00018.png  \n",
            "  inflating: train/8/00008_00045_00019.png  \n",
            "  inflating: train/8/00008_00045_00020.png  \n",
            "  inflating: train/8/00008_00045_00021.png  \n",
            "  inflating: train/8/00008_00045_00022.png  \n",
            "  inflating: train/8/00008_00045_00023.png  \n",
            "  inflating: train/8/00008_00045_00024.png  \n",
            "  inflating: train/8/00008_00045_00025.png  \n",
            "  inflating: train/8/00008_00045_00026.png  \n",
            "  inflating: train/8/00008_00045_00027.png  \n",
            "  inflating: train/8/00008_00045_00028.png  \n",
            "  inflating: train/8/00008_00045_00029.png  \n",
            "  inflating: train/8/00008_00046_00000.png  \n",
            "  inflating: train/8/00008_00046_00001.png  \n",
            "  inflating: train/8/00008_00046_00002.png  \n",
            "  inflating: train/8/00008_00046_00003.png  \n",
            "  inflating: train/8/00008_00046_00004.png  \n",
            "  inflating: train/8/00008_00046_00005.png  \n",
            "  inflating: train/8/00008_00046_00006.png  \n",
            "  inflating: train/8/00008_00046_00007.png  \n",
            "  inflating: train/8/00008_00046_00008.png  \n",
            "  inflating: train/8/00008_00046_00009.png  \n",
            "  inflating: train/8/00008_00046_00010.png  \n",
            "  inflating: train/8/00008_00046_00011.png  \n",
            "  inflating: train/8/00008_00046_00012.png  \n",
            "  inflating: train/8/00008_00046_00013.png  \n",
            "  inflating: train/8/00008_00046_00014.png  \n",
            "  inflating: train/8/00008_00046_00015.png  \n",
            "  inflating: train/8/00008_00046_00016.png  \n",
            "  inflating: train/8/00008_00046_00017.png  \n",
            "  inflating: train/8/00008_00046_00018.png  \n",
            "  inflating: train/8/00008_00046_00019.png  \n",
            "  inflating: train/8/00008_00046_00020.png  \n",
            "  inflating: train/8/00008_00046_00021.png  \n",
            "  inflating: train/8/00008_00046_00022.png  \n",
            "  inflating: train/8/00008_00046_00023.png  \n",
            "  inflating: train/8/00008_00046_00024.png  \n",
            "  inflating: train/8/00008_00046_00025.png  \n",
            "  inflating: train/8/00008_00046_00026.png  \n",
            "  inflating: train/8/00008_00046_00027.png  \n",
            "  inflating: train/8/00008_00046_00028.png  \n",
            "  inflating: train/8/00008_00046_00029.png  \n",
            "  inflating: train/9/00009_00000_00000.png  \n",
            "  inflating: train/9/00009_00000_00001.png  \n",
            "  inflating: train/9/00009_00000_00002.png  \n",
            "  inflating: train/9/00009_00000_00003.png  \n",
            "  inflating: train/9/00009_00000_00004.png  \n",
            "  inflating: train/9/00009_00000_00005.png  \n",
            "  inflating: train/9/00009_00000_00006.png  \n",
            "  inflating: train/9/00009_00000_00007.png  \n",
            "  inflating: train/9/00009_00000_00008.png  \n",
            "  inflating: train/9/00009_00000_00009.png  \n",
            "  inflating: train/9/00009_00000_00010.png  \n",
            "  inflating: train/9/00009_00000_00011.png  \n",
            "  inflating: train/9/00009_00000_00012.png  \n",
            "  inflating: train/9/00009_00000_00013.png  \n",
            "  inflating: train/9/00009_00000_00014.png  \n",
            "  inflating: train/9/00009_00000_00015.png  \n",
            "  inflating: train/9/00009_00000_00016.png  \n",
            "  inflating: train/9/00009_00000_00017.png  \n",
            "  inflating: train/9/00009_00000_00018.png  \n",
            "  inflating: train/9/00009_00000_00019.png  \n",
            "  inflating: train/9/00009_00000_00020.png  \n",
            "  inflating: train/9/00009_00000_00021.png  \n",
            "  inflating: train/9/00009_00000_00022.png  \n",
            "  inflating: train/9/00009_00000_00023.png  \n",
            "  inflating: train/9/00009_00000_00024.png  \n",
            "  inflating: train/9/00009_00000_00025.png  \n",
            "  inflating: train/9/00009_00000_00026.png  \n",
            "  inflating: train/9/00009_00000_00027.png  \n",
            "  inflating: train/9/00009_00000_00028.png  \n",
            "  inflating: train/9/00009_00000_00029.png  \n",
            "  inflating: train/9/00009_00001_00000.png  \n",
            "  inflating: train/9/00009_00001_00001.png  \n",
            "  inflating: train/9/00009_00001_00002.png  \n",
            "  inflating: train/9/00009_00001_00003.png  \n",
            "  inflating: train/9/00009_00001_00004.png  \n",
            "  inflating: train/9/00009_00001_00005.png  \n",
            "  inflating: train/9/00009_00001_00006.png  \n",
            "  inflating: train/9/00009_00001_00007.png  \n",
            "  inflating: train/9/00009_00001_00008.png  \n",
            "  inflating: train/9/00009_00001_00009.png  \n",
            "  inflating: train/9/00009_00001_00010.png  \n",
            "  inflating: train/9/00009_00001_00011.png  \n",
            "  inflating: train/9/00009_00001_00012.png  \n",
            "  inflating: train/9/00009_00001_00013.png  \n",
            "  inflating: train/9/00009_00001_00014.png  \n",
            "  inflating: train/9/00009_00001_00015.png  \n",
            "  inflating: train/9/00009_00001_00016.png  \n",
            "  inflating: train/9/00009_00001_00017.png  \n",
            "  inflating: train/9/00009_00001_00018.png  \n",
            "  inflating: train/9/00009_00001_00019.png  \n",
            "  inflating: train/9/00009_00001_00020.png  \n",
            "  inflating: train/9/00009_00001_00021.png  \n",
            "  inflating: train/9/00009_00001_00022.png  \n",
            "  inflating: train/9/00009_00001_00023.png  \n",
            "  inflating: train/9/00009_00001_00024.png  \n",
            "  inflating: train/9/00009_00001_00025.png  \n",
            "  inflating: train/9/00009_00001_00026.png  \n",
            "  inflating: train/9/00009_00001_00027.png  \n",
            "  inflating: train/9/00009_00001_00028.png  \n",
            "  inflating: train/9/00009_00001_00029.png  \n",
            "  inflating: train/9/00009_00002_00000.png  \n",
            "  inflating: train/9/00009_00002_00001.png  \n",
            "  inflating: train/9/00009_00002_00002.png  \n",
            "  inflating: train/9/00009_00002_00003.png  \n",
            "  inflating: train/9/00009_00002_00004.png  \n",
            "  inflating: train/9/00009_00002_00005.png  \n",
            "  inflating: train/9/00009_00002_00006.png  \n",
            "  inflating: train/9/00009_00002_00007.png  \n",
            "  inflating: train/9/00009_00002_00008.png  \n",
            "  inflating: train/9/00009_00002_00009.png  \n",
            "  inflating: train/9/00009_00002_00010.png  \n",
            "  inflating: train/9/00009_00002_00011.png  \n",
            "  inflating: train/9/00009_00002_00012.png  \n",
            "  inflating: train/9/00009_00002_00013.png  \n",
            "  inflating: train/9/00009_00002_00014.png  \n",
            "  inflating: train/9/00009_00002_00015.png  \n",
            "  inflating: train/9/00009_00002_00016.png  \n",
            "  inflating: train/9/00009_00002_00017.png  \n",
            "  inflating: train/9/00009_00002_00018.png  \n",
            "  inflating: train/9/00009_00002_00019.png  \n",
            "  inflating: train/9/00009_00002_00020.png  \n",
            "  inflating: train/9/00009_00002_00021.png  \n",
            "  inflating: train/9/00009_00002_00022.png  \n",
            "  inflating: train/9/00009_00002_00023.png  \n",
            "  inflating: train/9/00009_00002_00024.png  \n",
            "  inflating: train/9/00009_00002_00025.png  \n",
            "  inflating: train/9/00009_00002_00026.png  \n",
            "  inflating: train/9/00009_00002_00027.png  \n",
            "  inflating: train/9/00009_00002_00028.png  \n",
            "  inflating: train/9/00009_00002_00029.png  \n",
            "  inflating: train/9/00009_00003_00000.png  \n",
            "  inflating: train/9/00009_00003_00001.png  \n",
            "  inflating: train/9/00009_00003_00002.png  \n",
            "  inflating: train/9/00009_00003_00003.png  \n",
            "  inflating: train/9/00009_00003_00004.png  \n",
            "  inflating: train/9/00009_00003_00005.png  \n",
            "  inflating: train/9/00009_00003_00006.png  \n",
            "  inflating: train/9/00009_00003_00007.png  \n",
            "  inflating: train/9/00009_00003_00008.png  \n",
            "  inflating: train/9/00009_00003_00009.png  \n",
            "  inflating: train/9/00009_00003_00010.png  \n",
            "  inflating: train/9/00009_00003_00011.png  \n",
            "  inflating: train/9/00009_00003_00012.png  \n",
            "  inflating: train/9/00009_00003_00013.png  \n",
            "  inflating: train/9/00009_00003_00014.png  \n",
            "  inflating: train/9/00009_00003_00015.png  \n",
            "  inflating: train/9/00009_00003_00016.png  \n",
            "  inflating: train/9/00009_00003_00017.png  \n",
            "  inflating: train/9/00009_00003_00018.png  \n",
            "  inflating: train/9/00009_00003_00019.png  \n",
            "  inflating: train/9/00009_00003_00020.png  \n",
            "  inflating: train/9/00009_00003_00021.png  \n",
            "  inflating: train/9/00009_00003_00022.png  \n",
            "  inflating: train/9/00009_00003_00023.png  \n",
            "  inflating: train/9/00009_00003_00024.png  \n",
            "  inflating: train/9/00009_00003_00025.png  \n",
            "  inflating: train/9/00009_00003_00026.png  \n",
            "  inflating: train/9/00009_00003_00027.png  \n",
            "  inflating: train/9/00009_00003_00028.png  \n",
            "  inflating: train/9/00009_00003_00029.png  \n",
            "  inflating: train/9/00009_00004_00000.png  \n",
            "  inflating: train/9/00009_00004_00001.png  \n",
            "  inflating: train/9/00009_00004_00002.png  \n",
            "  inflating: train/9/00009_00004_00003.png  \n",
            "  inflating: train/9/00009_00004_00004.png  \n",
            "  inflating: train/9/00009_00004_00005.png  \n",
            "  inflating: train/9/00009_00004_00006.png  \n",
            "  inflating: train/9/00009_00004_00007.png  \n",
            "  inflating: train/9/00009_00004_00008.png  \n",
            "  inflating: train/9/00009_00004_00009.png  \n",
            "  inflating: train/9/00009_00004_00010.png  \n",
            "  inflating: train/9/00009_00004_00011.png  \n",
            "  inflating: train/9/00009_00004_00012.png  \n",
            "  inflating: train/9/00009_00004_00013.png  \n",
            "  inflating: train/9/00009_00004_00014.png  \n",
            "  inflating: train/9/00009_00004_00015.png  \n",
            "  inflating: train/9/00009_00004_00016.png  \n",
            "  inflating: train/9/00009_00004_00017.png  \n",
            "  inflating: train/9/00009_00004_00018.png  \n",
            "  inflating: train/9/00009_00004_00019.png  \n",
            "  inflating: train/9/00009_00004_00020.png  \n",
            "  inflating: train/9/00009_00004_00021.png  \n",
            "  inflating: train/9/00009_00004_00022.png  \n",
            "  inflating: train/9/00009_00004_00023.png  \n",
            "  inflating: train/9/00009_00004_00024.png  \n",
            "  inflating: train/9/00009_00004_00025.png  \n",
            "  inflating: train/9/00009_00004_00026.png  \n",
            "  inflating: train/9/00009_00004_00027.png  \n",
            "  inflating: train/9/00009_00004_00028.png  \n",
            "  inflating: train/9/00009_00004_00029.png  \n",
            "  inflating: train/9/00009_00005_00000.png  \n",
            "  inflating: train/9/00009_00005_00001.png  \n",
            "  inflating: train/9/00009_00005_00002.png  \n",
            "  inflating: train/9/00009_00005_00003.png  \n",
            "  inflating: train/9/00009_00005_00004.png  \n",
            "  inflating: train/9/00009_00005_00005.png  \n",
            "  inflating: train/9/00009_00005_00006.png  \n",
            "  inflating: train/9/00009_00005_00007.png  \n",
            "  inflating: train/9/00009_00005_00008.png  \n",
            "  inflating: train/9/00009_00005_00009.png  \n",
            "  inflating: train/9/00009_00005_00010.png  \n",
            "  inflating: train/9/00009_00005_00011.png  \n",
            "  inflating: train/9/00009_00005_00012.png  \n",
            "  inflating: train/9/00009_00005_00013.png  \n",
            "  inflating: train/9/00009_00005_00014.png  \n",
            "  inflating: train/9/00009_00005_00015.png  \n",
            "  inflating: train/9/00009_00005_00016.png  \n",
            "  inflating: train/9/00009_00005_00017.png  \n",
            "  inflating: train/9/00009_00005_00018.png  \n",
            "  inflating: train/9/00009_00005_00019.png  \n",
            "  inflating: train/9/00009_00005_00020.png  \n",
            "  inflating: train/9/00009_00005_00021.png  \n",
            "  inflating: train/9/00009_00005_00022.png  \n",
            "  inflating: train/9/00009_00005_00023.png  \n",
            "  inflating: train/9/00009_00005_00024.png  \n",
            "  inflating: train/9/00009_00005_00025.png  \n",
            "  inflating: train/9/00009_00005_00026.png  \n",
            "  inflating: train/9/00009_00005_00027.png  \n",
            "  inflating: train/9/00009_00005_00028.png  \n",
            "  inflating: train/9/00009_00005_00029.png  \n",
            "  inflating: train/9/00009_00006_00000.png  \n",
            "  inflating: train/9/00009_00006_00001.png  \n",
            "  inflating: train/9/00009_00006_00002.png  \n",
            "  inflating: train/9/00009_00006_00003.png  \n",
            "  inflating: train/9/00009_00006_00004.png  \n",
            "  inflating: train/9/00009_00006_00005.png  \n",
            "  inflating: train/9/00009_00006_00006.png  \n",
            "  inflating: train/9/00009_00006_00007.png  \n",
            "  inflating: train/9/00009_00006_00008.png  \n",
            "  inflating: train/9/00009_00006_00009.png  \n",
            "  inflating: train/9/00009_00006_00010.png  \n",
            "  inflating: train/9/00009_00006_00011.png  \n",
            "  inflating: train/9/00009_00006_00012.png  \n",
            "  inflating: train/9/00009_00006_00013.png  \n",
            "  inflating: train/9/00009_00006_00014.png  \n",
            "  inflating: train/9/00009_00006_00015.png  \n",
            "  inflating: train/9/00009_00006_00016.png  \n",
            "  inflating: train/9/00009_00006_00017.png  \n",
            "  inflating: train/9/00009_00006_00018.png  \n",
            "  inflating: train/9/00009_00006_00019.png  \n",
            "  inflating: train/9/00009_00006_00020.png  \n",
            "  inflating: train/9/00009_00006_00021.png  \n",
            "  inflating: train/9/00009_00006_00022.png  \n",
            "  inflating: train/9/00009_00006_00023.png  \n",
            "  inflating: train/9/00009_00006_00024.png  \n",
            "  inflating: train/9/00009_00006_00025.png  \n",
            "  inflating: train/9/00009_00006_00026.png  \n",
            "  inflating: train/9/00009_00006_00027.png  \n",
            "  inflating: train/9/00009_00006_00028.png  \n",
            "  inflating: train/9/00009_00006_00029.png  \n",
            "  inflating: train/9/00009_00007_00000.png  \n",
            "  inflating: train/9/00009_00007_00001.png  \n",
            "  inflating: train/9/00009_00007_00002.png  \n",
            "  inflating: train/9/00009_00007_00003.png  \n",
            "  inflating: train/9/00009_00007_00004.png  \n",
            "  inflating: train/9/00009_00007_00005.png  \n",
            "  inflating: train/9/00009_00007_00006.png  \n",
            "  inflating: train/9/00009_00007_00007.png  \n",
            "  inflating: train/9/00009_00007_00008.png  \n",
            "  inflating: train/9/00009_00007_00009.png  \n",
            "  inflating: train/9/00009_00007_00010.png  \n",
            "  inflating: train/9/00009_00007_00011.png  \n",
            "  inflating: train/9/00009_00007_00012.png  \n",
            "  inflating: train/9/00009_00007_00013.png  \n",
            "  inflating: train/9/00009_00007_00014.png  \n",
            "  inflating: train/9/00009_00007_00015.png  \n",
            "  inflating: train/9/00009_00007_00016.png  \n",
            "  inflating: train/9/00009_00007_00017.png  \n",
            "  inflating: train/9/00009_00007_00018.png  \n",
            "  inflating: train/9/00009_00007_00019.png  \n",
            "  inflating: train/9/00009_00007_00020.png  \n",
            "  inflating: train/9/00009_00007_00021.png  \n",
            "  inflating: train/9/00009_00007_00022.png  \n",
            "  inflating: train/9/00009_00007_00023.png  \n",
            "  inflating: train/9/00009_00007_00024.png  \n",
            "  inflating: train/9/00009_00007_00025.png  \n",
            "  inflating: train/9/00009_00007_00026.png  \n",
            "  inflating: train/9/00009_00007_00027.png  \n",
            "  inflating: train/9/00009_00007_00028.png  \n",
            "  inflating: train/9/00009_00007_00029.png  \n",
            "  inflating: train/9/00009_00008_00000.png  \n",
            "  inflating: train/9/00009_00008_00001.png  \n",
            "  inflating: train/9/00009_00008_00002.png  \n",
            "  inflating: train/9/00009_00008_00003.png  \n",
            "  inflating: train/9/00009_00008_00004.png  \n",
            "  inflating: train/9/00009_00008_00005.png  \n",
            "  inflating: train/9/00009_00008_00006.png  \n",
            "  inflating: train/9/00009_00008_00007.png  \n",
            "  inflating: train/9/00009_00008_00008.png  \n",
            "  inflating: train/9/00009_00008_00009.png  \n",
            "  inflating: train/9/00009_00008_00010.png  \n",
            "  inflating: train/9/00009_00008_00011.png  \n",
            "  inflating: train/9/00009_00008_00012.png  \n",
            "  inflating: train/9/00009_00008_00013.png  \n",
            "  inflating: train/9/00009_00008_00014.png  \n",
            "  inflating: train/9/00009_00008_00015.png  \n",
            "  inflating: train/9/00009_00008_00016.png  \n",
            "  inflating: train/9/00009_00008_00017.png  \n",
            "  inflating: train/9/00009_00008_00018.png  \n",
            "  inflating: train/9/00009_00008_00019.png  \n",
            "  inflating: train/9/00009_00008_00020.png  \n",
            "  inflating: train/9/00009_00008_00021.png  \n",
            "  inflating: train/9/00009_00008_00022.png  \n",
            "  inflating: train/9/00009_00008_00023.png  \n",
            "  inflating: train/9/00009_00008_00024.png  \n",
            "  inflating: train/9/00009_00008_00025.png  \n",
            "  inflating: train/9/00009_00008_00026.png  \n",
            "  inflating: train/9/00009_00008_00027.png  \n",
            "  inflating: train/9/00009_00008_00028.png  \n",
            "  inflating: train/9/00009_00008_00029.png  \n",
            "  inflating: train/9/00009_00009_00000.png  \n",
            "  inflating: train/9/00009_00009_00001.png  \n",
            "  inflating: train/9/00009_00009_00002.png  \n",
            "  inflating: train/9/00009_00009_00003.png  \n",
            "  inflating: train/9/00009_00009_00004.png  \n",
            "  inflating: train/9/00009_00009_00005.png  \n",
            "  inflating: train/9/00009_00009_00006.png  \n",
            "  inflating: train/9/00009_00009_00007.png  \n",
            "  inflating: train/9/00009_00009_00008.png  \n",
            "  inflating: train/9/00009_00009_00009.png  \n",
            "  inflating: train/9/00009_00009_00010.png  \n",
            "  inflating: train/9/00009_00009_00011.png  \n",
            "  inflating: train/9/00009_00009_00012.png  \n",
            "  inflating: train/9/00009_00009_00013.png  \n",
            "  inflating: train/9/00009_00009_00014.png  \n",
            "  inflating: train/9/00009_00009_00015.png  \n",
            "  inflating: train/9/00009_00009_00016.png  \n",
            "  inflating: train/9/00009_00009_00017.png  \n",
            "  inflating: train/9/00009_00009_00018.png  \n",
            "  inflating: train/9/00009_00009_00019.png  \n",
            "  inflating: train/9/00009_00009_00020.png  \n",
            "  inflating: train/9/00009_00009_00021.png  \n",
            "  inflating: train/9/00009_00009_00022.png  \n",
            "  inflating: train/9/00009_00009_00023.png  \n",
            "  inflating: train/9/00009_00009_00024.png  \n",
            "  inflating: train/9/00009_00009_00025.png  \n",
            "  inflating: train/9/00009_00009_00026.png  \n",
            "  inflating: train/9/00009_00009_00027.png  \n",
            "  inflating: train/9/00009_00009_00028.png  \n",
            "  inflating: train/9/00009_00009_00029.png  \n",
            "  inflating: train/9/00009_00010_00000.png  \n",
            "  inflating: train/9/00009_00010_00001.png  \n",
            "  inflating: train/9/00009_00010_00002.png  \n",
            "  inflating: train/9/00009_00010_00003.png  \n",
            "  inflating: train/9/00009_00010_00004.png  \n",
            "  inflating: train/9/00009_00010_00005.png  \n",
            "  inflating: train/9/00009_00010_00006.png  \n",
            "  inflating: train/9/00009_00010_00007.png  \n",
            "  inflating: train/9/00009_00010_00008.png  \n",
            "  inflating: train/9/00009_00010_00009.png  \n",
            "  inflating: train/9/00009_00010_00010.png  \n",
            "  inflating: train/9/00009_00010_00011.png  \n",
            "  inflating: train/9/00009_00010_00012.png  \n",
            "  inflating: train/9/00009_00010_00013.png  \n",
            "  inflating: train/9/00009_00010_00014.png  \n",
            "  inflating: train/9/00009_00010_00015.png  \n",
            "  inflating: train/9/00009_00010_00016.png  \n",
            "  inflating: train/9/00009_00010_00017.png  \n",
            "  inflating: train/9/00009_00010_00018.png  \n",
            "  inflating: train/9/00009_00010_00019.png  \n",
            "  inflating: train/9/00009_00010_00020.png  \n",
            "  inflating: train/9/00009_00010_00021.png  \n",
            "  inflating: train/9/00009_00010_00022.png  \n",
            "  inflating: train/9/00009_00010_00023.png  \n",
            "  inflating: train/9/00009_00010_00024.png  \n",
            "  inflating: train/9/00009_00010_00025.png  \n",
            "  inflating: train/9/00009_00010_00026.png  \n",
            "  inflating: train/9/00009_00010_00027.png  \n",
            "  inflating: train/9/00009_00010_00028.png  \n",
            "  inflating: train/9/00009_00010_00029.png  \n",
            "  inflating: train/9/00009_00011_00000.png  \n",
            "  inflating: train/9/00009_00011_00001.png  \n",
            "  inflating: train/9/00009_00011_00002.png  \n",
            "  inflating: train/9/00009_00011_00003.png  \n",
            "  inflating: train/9/00009_00011_00004.png  \n",
            "  inflating: train/9/00009_00011_00005.png  \n",
            "  inflating: train/9/00009_00011_00006.png  \n",
            "  inflating: train/9/00009_00011_00007.png  \n",
            "  inflating: train/9/00009_00011_00008.png  \n",
            "  inflating: train/9/00009_00011_00009.png  \n",
            "  inflating: train/9/00009_00011_00010.png  \n",
            "  inflating: train/9/00009_00011_00011.png  \n",
            "  inflating: train/9/00009_00011_00012.png  \n",
            "  inflating: train/9/00009_00011_00013.png  \n",
            "  inflating: train/9/00009_00011_00014.png  \n",
            "  inflating: train/9/00009_00011_00015.png  \n",
            "  inflating: train/9/00009_00011_00016.png  \n",
            "  inflating: train/9/00009_00011_00017.png  \n",
            "  inflating: train/9/00009_00011_00018.png  \n",
            "  inflating: train/9/00009_00011_00019.png  \n",
            "  inflating: train/9/00009_00011_00020.png  \n",
            "  inflating: train/9/00009_00011_00021.png  \n",
            "  inflating: train/9/00009_00011_00022.png  \n",
            "  inflating: train/9/00009_00011_00023.png  \n",
            "  inflating: train/9/00009_00011_00024.png  \n",
            "  inflating: train/9/00009_00011_00025.png  \n",
            "  inflating: train/9/00009_00011_00026.png  \n",
            "  inflating: train/9/00009_00011_00027.png  \n",
            "  inflating: train/9/00009_00011_00028.png  \n",
            "  inflating: train/9/00009_00011_00029.png  \n",
            "  inflating: train/9/00009_00012_00000.png  \n",
            "  inflating: train/9/00009_00012_00001.png  \n",
            "  inflating: train/9/00009_00012_00002.png  \n",
            "  inflating: train/9/00009_00012_00003.png  \n",
            "  inflating: train/9/00009_00012_00004.png  \n",
            "  inflating: train/9/00009_00012_00005.png  \n",
            "  inflating: train/9/00009_00012_00006.png  \n",
            "  inflating: train/9/00009_00012_00007.png  \n",
            "  inflating: train/9/00009_00012_00008.png  \n",
            "  inflating: train/9/00009_00012_00009.png  \n",
            "  inflating: train/9/00009_00012_00010.png  \n",
            "  inflating: train/9/00009_00012_00011.png  \n",
            "  inflating: train/9/00009_00012_00012.png  \n",
            "  inflating: train/9/00009_00012_00013.png  \n",
            "  inflating: train/9/00009_00012_00014.png  \n",
            "  inflating: train/9/00009_00012_00015.png  \n",
            "  inflating: train/9/00009_00012_00016.png  \n",
            "  inflating: train/9/00009_00012_00017.png  \n",
            "  inflating: train/9/00009_00012_00018.png  \n",
            "  inflating: train/9/00009_00012_00019.png  \n",
            "  inflating: train/9/00009_00012_00020.png  \n",
            "  inflating: train/9/00009_00012_00021.png  \n",
            "  inflating: train/9/00009_00012_00022.png  \n",
            "  inflating: train/9/00009_00012_00023.png  \n",
            "  inflating: train/9/00009_00012_00024.png  \n",
            "  inflating: train/9/00009_00012_00025.png  \n",
            "  inflating: train/9/00009_00012_00026.png  \n",
            "  inflating: train/9/00009_00012_00027.png  \n",
            "  inflating: train/9/00009_00012_00028.png  \n",
            "  inflating: train/9/00009_00012_00029.png  \n",
            "  inflating: train/9/00009_00013_00000.png  \n",
            "  inflating: train/9/00009_00013_00001.png  \n",
            "  inflating: train/9/00009_00013_00002.png  \n",
            "  inflating: train/9/00009_00013_00003.png  \n",
            "  inflating: train/9/00009_00013_00004.png  \n",
            "  inflating: train/9/00009_00013_00005.png  \n",
            "  inflating: train/9/00009_00013_00006.png  \n",
            "  inflating: train/9/00009_00013_00007.png  \n",
            "  inflating: train/9/00009_00013_00008.png  \n",
            "  inflating: train/9/00009_00013_00009.png  \n",
            "  inflating: train/9/00009_00013_00010.png  \n",
            "  inflating: train/9/00009_00013_00011.png  \n",
            "  inflating: train/9/00009_00013_00012.png  \n",
            "  inflating: train/9/00009_00013_00013.png  \n",
            "  inflating: train/9/00009_00013_00014.png  \n",
            "  inflating: train/9/00009_00013_00015.png  \n",
            "  inflating: train/9/00009_00013_00016.png  \n",
            "  inflating: train/9/00009_00013_00017.png  \n",
            "  inflating: train/9/00009_00013_00018.png  \n",
            "  inflating: train/9/00009_00013_00019.png  \n",
            "  inflating: train/9/00009_00013_00020.png  \n",
            "  inflating: train/9/00009_00013_00021.png  \n",
            "  inflating: train/9/00009_00013_00022.png  \n",
            "  inflating: train/9/00009_00013_00023.png  \n",
            "  inflating: train/9/00009_00013_00024.png  \n",
            "  inflating: train/9/00009_00013_00025.png  \n",
            "  inflating: train/9/00009_00013_00026.png  \n",
            "  inflating: train/9/00009_00013_00027.png  \n",
            "  inflating: train/9/00009_00013_00028.png  \n",
            "  inflating: train/9/00009_00013_00029.png  \n",
            "  inflating: train/9/00009_00014_00000.png  \n",
            "  inflating: train/9/00009_00014_00001.png  \n",
            "  inflating: train/9/00009_00014_00002.png  \n",
            "  inflating: train/9/00009_00014_00003.png  \n",
            "  inflating: train/9/00009_00014_00004.png  \n",
            "  inflating: train/9/00009_00014_00005.png  \n",
            "  inflating: train/9/00009_00014_00006.png  \n",
            "  inflating: train/9/00009_00014_00007.png  \n",
            "  inflating: train/9/00009_00014_00008.png  \n",
            "  inflating: train/9/00009_00014_00009.png  \n",
            "  inflating: train/9/00009_00014_00010.png  \n",
            "  inflating: train/9/00009_00014_00011.png  \n",
            "  inflating: train/9/00009_00014_00012.png  \n",
            "  inflating: train/9/00009_00014_00013.png  \n",
            "  inflating: train/9/00009_00014_00014.png  \n",
            "  inflating: train/9/00009_00014_00015.png  \n",
            "  inflating: train/9/00009_00014_00016.png  \n",
            "  inflating: train/9/00009_00014_00017.png  \n",
            "  inflating: train/9/00009_00014_00018.png  \n",
            "  inflating: train/9/00009_00014_00019.png  \n",
            "  inflating: train/9/00009_00014_00020.png  \n",
            "  inflating: train/9/00009_00014_00021.png  \n",
            "  inflating: train/9/00009_00014_00022.png  \n",
            "  inflating: train/9/00009_00014_00023.png  \n",
            "  inflating: train/9/00009_00014_00024.png  \n",
            "  inflating: train/9/00009_00014_00025.png  \n",
            "  inflating: train/9/00009_00014_00026.png  \n",
            "  inflating: train/9/00009_00014_00027.png  \n",
            "  inflating: train/9/00009_00014_00028.png  \n",
            "  inflating: train/9/00009_00014_00029.png  \n",
            "  inflating: train/9/00009_00015_00000.png  \n",
            "  inflating: train/9/00009_00015_00001.png  \n",
            "  inflating: train/9/00009_00015_00002.png  \n",
            "  inflating: train/9/00009_00015_00003.png  \n",
            "  inflating: train/9/00009_00015_00004.png  \n",
            "  inflating: train/9/00009_00015_00005.png  \n",
            "  inflating: train/9/00009_00015_00006.png  \n",
            "  inflating: train/9/00009_00015_00007.png  \n",
            "  inflating: train/9/00009_00015_00008.png  \n",
            "  inflating: train/9/00009_00015_00009.png  \n",
            "  inflating: train/9/00009_00015_00010.png  \n",
            "  inflating: train/9/00009_00015_00011.png  \n",
            "  inflating: train/9/00009_00015_00012.png  \n",
            "  inflating: train/9/00009_00015_00013.png  \n",
            "  inflating: train/9/00009_00015_00014.png  \n",
            "  inflating: train/9/00009_00015_00015.png  \n",
            "  inflating: train/9/00009_00015_00016.png  \n",
            "  inflating: train/9/00009_00015_00017.png  \n",
            "  inflating: train/9/00009_00015_00018.png  \n",
            "  inflating: train/9/00009_00015_00019.png  \n",
            "  inflating: train/9/00009_00015_00020.png  \n",
            "  inflating: train/9/00009_00015_00021.png  \n",
            "  inflating: train/9/00009_00015_00022.png  \n",
            "  inflating: train/9/00009_00015_00023.png  \n",
            "  inflating: train/9/00009_00015_00024.png  \n",
            "  inflating: train/9/00009_00015_00025.png  \n",
            "  inflating: train/9/00009_00015_00026.png  \n",
            "  inflating: train/9/00009_00015_00027.png  \n",
            "  inflating: train/9/00009_00015_00028.png  \n",
            "  inflating: train/9/00009_00015_00029.png  \n",
            "  inflating: train/9/00009_00016_00000.png  \n",
            "  inflating: train/9/00009_00016_00001.png  \n",
            "  inflating: train/9/00009_00016_00002.png  \n",
            "  inflating: train/9/00009_00016_00003.png  \n",
            "  inflating: train/9/00009_00016_00004.png  \n",
            "  inflating: train/9/00009_00016_00005.png  \n",
            "  inflating: train/9/00009_00016_00006.png  \n",
            "  inflating: train/9/00009_00016_00007.png  \n",
            "  inflating: train/9/00009_00016_00008.png  \n",
            "  inflating: train/9/00009_00016_00009.png  \n",
            "  inflating: train/9/00009_00016_00010.png  \n",
            "  inflating: train/9/00009_00016_00011.png  \n",
            "  inflating: train/9/00009_00016_00012.png  \n",
            "  inflating: train/9/00009_00016_00013.png  \n",
            "  inflating: train/9/00009_00016_00014.png  \n",
            "  inflating: train/9/00009_00016_00015.png  \n",
            "  inflating: train/9/00009_00016_00016.png  \n",
            "  inflating: train/9/00009_00016_00017.png  \n",
            "  inflating: train/9/00009_00016_00018.png  \n",
            "  inflating: train/9/00009_00016_00019.png  \n",
            "  inflating: train/9/00009_00016_00020.png  \n",
            "  inflating: train/9/00009_00016_00021.png  \n",
            "  inflating: train/9/00009_00016_00022.png  \n",
            "  inflating: train/9/00009_00016_00023.png  \n",
            "  inflating: train/9/00009_00016_00024.png  \n",
            "  inflating: train/9/00009_00016_00025.png  \n",
            "  inflating: train/9/00009_00016_00026.png  \n",
            "  inflating: train/9/00009_00016_00027.png  \n",
            "  inflating: train/9/00009_00016_00028.png  \n",
            "  inflating: train/9/00009_00016_00029.png  \n",
            "  inflating: train/9/00009_00017_00000.png  \n",
            "  inflating: train/9/00009_00017_00001.png  \n",
            "  inflating: train/9/00009_00017_00002.png  \n",
            "  inflating: train/9/00009_00017_00003.png  \n",
            "  inflating: train/9/00009_00017_00004.png  \n",
            "  inflating: train/9/00009_00017_00005.png  \n",
            "  inflating: train/9/00009_00017_00006.png  \n",
            "  inflating: train/9/00009_00017_00007.png  \n",
            "  inflating: train/9/00009_00017_00008.png  \n",
            "  inflating: train/9/00009_00017_00009.png  \n",
            "  inflating: train/9/00009_00017_00010.png  \n",
            "  inflating: train/9/00009_00017_00011.png  \n",
            "  inflating: train/9/00009_00017_00012.png  \n",
            "  inflating: train/9/00009_00017_00013.png  \n",
            "  inflating: train/9/00009_00017_00014.png  \n",
            "  inflating: train/9/00009_00017_00015.png  \n",
            "  inflating: train/9/00009_00017_00016.png  \n",
            "  inflating: train/9/00009_00017_00017.png  \n",
            "  inflating: train/9/00009_00017_00018.png  \n",
            "  inflating: train/9/00009_00017_00019.png  \n",
            "  inflating: train/9/00009_00017_00020.png  \n",
            "  inflating: train/9/00009_00017_00021.png  \n",
            "  inflating: train/9/00009_00017_00022.png  \n",
            "  inflating: train/9/00009_00017_00023.png  \n",
            "  inflating: train/9/00009_00017_00024.png  \n",
            "  inflating: train/9/00009_00017_00025.png  \n",
            "  inflating: train/9/00009_00017_00026.png  \n",
            "  inflating: train/9/00009_00017_00027.png  \n",
            "  inflating: train/9/00009_00017_00028.png  \n",
            "  inflating: train/9/00009_00017_00029.png  \n",
            "  inflating: train/9/00009_00018_00000.png  \n",
            "  inflating: train/9/00009_00018_00001.png  \n",
            "  inflating: train/9/00009_00018_00002.png  \n",
            "  inflating: train/9/00009_00018_00003.png  \n",
            "  inflating: train/9/00009_00018_00004.png  \n",
            "  inflating: train/9/00009_00018_00005.png  \n",
            "  inflating: train/9/00009_00018_00006.png  \n",
            "  inflating: train/9/00009_00018_00007.png  \n",
            "  inflating: train/9/00009_00018_00008.png  \n",
            "  inflating: train/9/00009_00018_00009.png  \n",
            "  inflating: train/9/00009_00018_00010.png  \n",
            "  inflating: train/9/00009_00018_00011.png  \n",
            "  inflating: train/9/00009_00018_00012.png  \n",
            "  inflating: train/9/00009_00018_00013.png  \n",
            "  inflating: train/9/00009_00018_00014.png  \n",
            "  inflating: train/9/00009_00018_00015.png  \n",
            "  inflating: train/9/00009_00018_00016.png  \n",
            "  inflating: train/9/00009_00018_00017.png  \n",
            "  inflating: train/9/00009_00018_00018.png  \n",
            "  inflating: train/9/00009_00018_00019.png  \n",
            "  inflating: train/9/00009_00018_00020.png  \n",
            "  inflating: train/9/00009_00018_00021.png  \n",
            "  inflating: train/9/00009_00018_00022.png  \n",
            "  inflating: train/9/00009_00018_00023.png  \n",
            "  inflating: train/9/00009_00018_00024.png  \n",
            "  inflating: train/9/00009_00018_00025.png  \n",
            "  inflating: train/9/00009_00018_00026.png  \n",
            "  inflating: train/9/00009_00018_00027.png  \n",
            "  inflating: train/9/00009_00018_00028.png  \n",
            "  inflating: train/9/00009_00018_00029.png  \n",
            "  inflating: train/9/00009_00019_00000.png  \n",
            "  inflating: train/9/00009_00019_00001.png  \n",
            "  inflating: train/9/00009_00019_00002.png  \n",
            "  inflating: train/9/00009_00019_00003.png  \n",
            "  inflating: train/9/00009_00019_00004.png  \n",
            "  inflating: train/9/00009_00019_00005.png  \n",
            "  inflating: train/9/00009_00019_00006.png  \n",
            "  inflating: train/9/00009_00019_00007.png  \n",
            "  inflating: train/9/00009_00019_00008.png  \n",
            "  inflating: train/9/00009_00019_00009.png  \n",
            "  inflating: train/9/00009_00019_00010.png  \n",
            "  inflating: train/9/00009_00019_00011.png  \n",
            "  inflating: train/9/00009_00019_00012.png  \n",
            "  inflating: train/9/00009_00019_00013.png  \n",
            "  inflating: train/9/00009_00019_00014.png  \n",
            "  inflating: train/9/00009_00019_00015.png  \n",
            "  inflating: train/9/00009_00019_00016.png  \n",
            "  inflating: train/9/00009_00019_00017.png  \n",
            "  inflating: train/9/00009_00019_00018.png  \n",
            "  inflating: train/9/00009_00019_00019.png  \n",
            "  inflating: train/9/00009_00019_00020.png  \n",
            "  inflating: train/9/00009_00019_00021.png  \n",
            "  inflating: train/9/00009_00019_00022.png  \n",
            "  inflating: train/9/00009_00019_00023.png  \n",
            "  inflating: train/9/00009_00019_00024.png  \n",
            "  inflating: train/9/00009_00019_00025.png  \n",
            "  inflating: train/9/00009_00019_00026.png  \n",
            "  inflating: train/9/00009_00019_00027.png  \n",
            "  inflating: train/9/00009_00019_00028.png  \n",
            "  inflating: train/9/00009_00019_00029.png  \n",
            "  inflating: train/9/00009_00020_00000.png  \n",
            "  inflating: train/9/00009_00020_00001.png  \n",
            "  inflating: train/9/00009_00020_00002.png  \n",
            "  inflating: train/9/00009_00020_00003.png  \n",
            "  inflating: train/9/00009_00020_00004.png  \n",
            "  inflating: train/9/00009_00020_00005.png  \n",
            "  inflating: train/9/00009_00020_00006.png  \n",
            "  inflating: train/9/00009_00020_00007.png  \n",
            "  inflating: train/9/00009_00020_00008.png  \n",
            "  inflating: train/9/00009_00020_00009.png  \n",
            "  inflating: train/9/00009_00020_00010.png  \n",
            "  inflating: train/9/00009_00020_00011.png  \n",
            "  inflating: train/9/00009_00020_00012.png  \n",
            "  inflating: train/9/00009_00020_00013.png  \n",
            "  inflating: train/9/00009_00020_00014.png  \n",
            "  inflating: train/9/00009_00020_00015.png  \n",
            "  inflating: train/9/00009_00020_00016.png  \n",
            "  inflating: train/9/00009_00020_00017.png  \n",
            "  inflating: train/9/00009_00020_00018.png  \n",
            "  inflating: train/9/00009_00020_00019.png  \n",
            "  inflating: train/9/00009_00020_00020.png  \n",
            "  inflating: train/9/00009_00020_00021.png  \n",
            "  inflating: train/9/00009_00020_00022.png  \n",
            "  inflating: train/9/00009_00020_00023.png  \n",
            "  inflating: train/9/00009_00020_00024.png  \n",
            "  inflating: train/9/00009_00020_00025.png  \n",
            "  inflating: train/9/00009_00020_00026.png  \n",
            "  inflating: train/9/00009_00020_00027.png  \n",
            "  inflating: train/9/00009_00020_00028.png  \n",
            "  inflating: train/9/00009_00020_00029.png  \n",
            "  inflating: train/9/00009_00021_00000.png  \n",
            "  inflating: train/9/00009_00021_00001.png  \n",
            "  inflating: train/9/00009_00021_00002.png  \n",
            "  inflating: train/9/00009_00021_00003.png  \n",
            "  inflating: train/9/00009_00021_00004.png  \n",
            "  inflating: train/9/00009_00021_00005.png  \n",
            "  inflating: train/9/00009_00021_00006.png  \n",
            "  inflating: train/9/00009_00021_00007.png  \n",
            "  inflating: train/9/00009_00021_00008.png  \n",
            "  inflating: train/9/00009_00021_00009.png  \n",
            "  inflating: train/9/00009_00021_00010.png  \n",
            "  inflating: train/9/00009_00021_00011.png  \n",
            "  inflating: train/9/00009_00021_00012.png  \n",
            "  inflating: train/9/00009_00021_00013.png  \n",
            "  inflating: train/9/00009_00021_00014.png  \n",
            "  inflating: train/9/00009_00021_00015.png  \n",
            "  inflating: train/9/00009_00021_00016.png  \n",
            "  inflating: train/9/00009_00021_00017.png  \n",
            "  inflating: train/9/00009_00021_00018.png  \n",
            "  inflating: train/9/00009_00021_00019.png  \n",
            "  inflating: train/9/00009_00021_00020.png  \n",
            "  inflating: train/9/00009_00021_00021.png  \n",
            "  inflating: train/9/00009_00021_00022.png  \n",
            "  inflating: train/9/00009_00021_00023.png  \n",
            "  inflating: train/9/00009_00021_00024.png  \n",
            "  inflating: train/9/00009_00021_00025.png  \n",
            "  inflating: train/9/00009_00021_00026.png  \n",
            "  inflating: train/9/00009_00021_00027.png  \n",
            "  inflating: train/9/00009_00021_00028.png  \n",
            "  inflating: train/9/00009_00021_00029.png  \n",
            "  inflating: train/9/00009_00022_00000.png  \n",
            "  inflating: train/9/00009_00022_00001.png  \n",
            "  inflating: train/9/00009_00022_00002.png  \n",
            "  inflating: train/9/00009_00022_00003.png  \n",
            "  inflating: train/9/00009_00022_00004.png  \n",
            "  inflating: train/9/00009_00022_00005.png  \n",
            "  inflating: train/9/00009_00022_00006.png  \n",
            "  inflating: train/9/00009_00022_00007.png  \n",
            "  inflating: train/9/00009_00022_00008.png  \n",
            "  inflating: train/9/00009_00022_00009.png  \n",
            "  inflating: train/9/00009_00022_00010.png  \n",
            "  inflating: train/9/00009_00022_00011.png  \n",
            "  inflating: train/9/00009_00022_00012.png  \n",
            "  inflating: train/9/00009_00022_00013.png  \n",
            "  inflating: train/9/00009_00022_00014.png  \n",
            "  inflating: train/9/00009_00022_00015.png  \n",
            "  inflating: train/9/00009_00022_00016.png  \n",
            "  inflating: train/9/00009_00022_00017.png  \n",
            "  inflating: train/9/00009_00022_00018.png  \n",
            "  inflating: train/9/00009_00022_00019.png  \n",
            "  inflating: train/9/00009_00022_00020.png  \n",
            "  inflating: train/9/00009_00022_00021.png  \n",
            "  inflating: train/9/00009_00022_00022.png  \n",
            "  inflating: train/9/00009_00022_00023.png  \n",
            "  inflating: train/9/00009_00022_00024.png  \n",
            "  inflating: train/9/00009_00022_00025.png  \n",
            "  inflating: train/9/00009_00022_00026.png  \n",
            "  inflating: train/9/00009_00022_00027.png  \n",
            "  inflating: train/9/00009_00022_00028.png  \n",
            "  inflating: train/9/00009_00022_00029.png  \n",
            "  inflating: train/9/00009_00023_00000.png  \n",
            "  inflating: train/9/00009_00023_00001.png  \n",
            "  inflating: train/9/00009_00023_00002.png  \n",
            "  inflating: train/9/00009_00023_00003.png  \n",
            "  inflating: train/9/00009_00023_00004.png  \n",
            "  inflating: train/9/00009_00023_00005.png  \n",
            "  inflating: train/9/00009_00023_00006.png  \n",
            "  inflating: train/9/00009_00023_00007.png  \n",
            "  inflating: train/9/00009_00023_00008.png  \n",
            "  inflating: train/9/00009_00023_00009.png  \n",
            "  inflating: train/9/00009_00023_00010.png  \n",
            "  inflating: train/9/00009_00023_00011.png  \n",
            "  inflating: train/9/00009_00023_00012.png  \n",
            "  inflating: train/9/00009_00023_00013.png  \n",
            "  inflating: train/9/00009_00023_00014.png  \n",
            "  inflating: train/9/00009_00023_00015.png  \n",
            "  inflating: train/9/00009_00023_00016.png  \n",
            "  inflating: train/9/00009_00023_00017.png  \n",
            "  inflating: train/9/00009_00023_00018.png  \n",
            "  inflating: train/9/00009_00023_00019.png  \n",
            "  inflating: train/9/00009_00023_00020.png  \n",
            "  inflating: train/9/00009_00023_00021.png  \n",
            "  inflating: train/9/00009_00023_00022.png  \n",
            "  inflating: train/9/00009_00023_00023.png  \n",
            "  inflating: train/9/00009_00023_00024.png  \n",
            "  inflating: train/9/00009_00023_00025.png  \n",
            "  inflating: train/9/00009_00023_00026.png  \n",
            "  inflating: train/9/00009_00023_00027.png  \n",
            "  inflating: train/9/00009_00023_00028.png  \n",
            "  inflating: train/9/00009_00023_00029.png  \n",
            "  inflating: train/9/00009_00024_00000.png  \n",
            "  inflating: train/9/00009_00024_00001.png  \n",
            "  inflating: train/9/00009_00024_00002.png  \n",
            "  inflating: train/9/00009_00024_00003.png  \n",
            "  inflating: train/9/00009_00024_00004.png  \n",
            "  inflating: train/9/00009_00024_00005.png  \n",
            "  inflating: train/9/00009_00024_00006.png  \n",
            "  inflating: train/9/00009_00024_00007.png  \n",
            "  inflating: train/9/00009_00024_00008.png  \n",
            "  inflating: train/9/00009_00024_00009.png  \n",
            "  inflating: train/9/00009_00024_00010.png  \n",
            "  inflating: train/9/00009_00024_00011.png  \n",
            "  inflating: train/9/00009_00024_00012.png  \n",
            "  inflating: train/9/00009_00024_00013.png  \n",
            "  inflating: train/9/00009_00024_00014.png  \n",
            "  inflating: train/9/00009_00024_00015.png  \n",
            "  inflating: train/9/00009_00024_00016.png  \n",
            "  inflating: train/9/00009_00024_00017.png  \n",
            "  inflating: train/9/00009_00024_00018.png  \n",
            "  inflating: train/9/00009_00024_00019.png  \n",
            "  inflating: train/9/00009_00024_00020.png  \n",
            "  inflating: train/9/00009_00024_00021.png  \n",
            "  inflating: train/9/00009_00024_00022.png  \n",
            "  inflating: train/9/00009_00024_00023.png  \n",
            "  inflating: train/9/00009_00024_00024.png  \n",
            "  inflating: train/9/00009_00024_00025.png  \n",
            "  inflating: train/9/00009_00024_00026.png  \n",
            "  inflating: train/9/00009_00024_00027.png  \n",
            "  inflating: train/9/00009_00024_00028.png  \n",
            "  inflating: train/9/00009_00024_00029.png  \n",
            "  inflating: train/9/00009_00025_00000.png  \n",
            "  inflating: train/9/00009_00025_00001.png  \n",
            "  inflating: train/9/00009_00025_00002.png  \n",
            "  inflating: train/9/00009_00025_00003.png  \n",
            "  inflating: train/9/00009_00025_00004.png  \n",
            "  inflating: train/9/00009_00025_00005.png  \n",
            "  inflating: train/9/00009_00025_00006.png  \n",
            "  inflating: train/9/00009_00025_00007.png  \n",
            "  inflating: train/9/00009_00025_00008.png  \n",
            "  inflating: train/9/00009_00025_00009.png  \n",
            "  inflating: train/9/00009_00025_00010.png  \n",
            "  inflating: train/9/00009_00025_00011.png  \n",
            "  inflating: train/9/00009_00025_00012.png  \n",
            "  inflating: train/9/00009_00025_00013.png  \n",
            "  inflating: train/9/00009_00025_00014.png  \n",
            "  inflating: train/9/00009_00025_00015.png  \n",
            "  inflating: train/9/00009_00025_00016.png  \n",
            "  inflating: train/9/00009_00025_00017.png  \n",
            "  inflating: train/9/00009_00025_00018.png  \n",
            "  inflating: train/9/00009_00025_00019.png  \n",
            "  inflating: train/9/00009_00025_00020.png  \n",
            "  inflating: train/9/00009_00025_00021.png  \n",
            "  inflating: train/9/00009_00025_00022.png  \n",
            "  inflating: train/9/00009_00025_00023.png  \n",
            "  inflating: train/9/00009_00025_00024.png  \n",
            "  inflating: train/9/00009_00025_00025.png  \n",
            "  inflating: train/9/00009_00025_00026.png  \n",
            "  inflating: train/9/00009_00025_00027.png  \n",
            "  inflating: train/9/00009_00025_00028.png  \n",
            "  inflating: train/9/00009_00025_00029.png  \n",
            "  inflating: train/9/00009_00026_00000.png  \n",
            "  inflating: train/9/00009_00026_00001.png  \n",
            "  inflating: train/9/00009_00026_00002.png  \n",
            "  inflating: train/9/00009_00026_00003.png  \n",
            "  inflating: train/9/00009_00026_00004.png  \n",
            "  inflating: train/9/00009_00026_00005.png  \n",
            "  inflating: train/9/00009_00026_00006.png  \n",
            "  inflating: train/9/00009_00026_00007.png  \n",
            "  inflating: train/9/00009_00026_00008.png  \n",
            "  inflating: train/9/00009_00026_00009.png  \n",
            "  inflating: train/9/00009_00026_00010.png  \n",
            "  inflating: train/9/00009_00026_00011.png  \n",
            "  inflating: train/9/00009_00026_00012.png  \n",
            "  inflating: train/9/00009_00026_00013.png  \n",
            "  inflating: train/9/00009_00026_00014.png  \n",
            "  inflating: train/9/00009_00026_00015.png  \n",
            "  inflating: train/9/00009_00026_00016.png  \n",
            "  inflating: train/9/00009_00026_00017.png  \n",
            "  inflating: train/9/00009_00026_00018.png  \n",
            "  inflating: train/9/00009_00026_00019.png  \n",
            "  inflating: train/9/00009_00026_00020.png  \n",
            "  inflating: train/9/00009_00026_00021.png  \n",
            "  inflating: train/9/00009_00026_00022.png  \n",
            "  inflating: train/9/00009_00026_00023.png  \n",
            "  inflating: train/9/00009_00026_00024.png  \n",
            "  inflating: train/9/00009_00026_00025.png  \n",
            "  inflating: train/9/00009_00026_00026.png  \n",
            "  inflating: train/9/00009_00026_00027.png  \n",
            "  inflating: train/9/00009_00026_00028.png  \n",
            "  inflating: train/9/00009_00026_00029.png  \n",
            "  inflating: train/9/00009_00027_00000.png  \n",
            "  inflating: train/9/00009_00027_00001.png  \n",
            "  inflating: train/9/00009_00027_00002.png  \n",
            "  inflating: train/9/00009_00027_00003.png  \n",
            "  inflating: train/9/00009_00027_00004.png  \n",
            "  inflating: train/9/00009_00027_00005.png  \n",
            "  inflating: train/9/00009_00027_00006.png  \n",
            "  inflating: train/9/00009_00027_00007.png  \n",
            "  inflating: train/9/00009_00027_00008.png  \n",
            "  inflating: train/9/00009_00027_00009.png  \n",
            "  inflating: train/9/00009_00027_00010.png  \n",
            "  inflating: train/9/00009_00027_00011.png  \n",
            "  inflating: train/9/00009_00027_00012.png  \n",
            "  inflating: train/9/00009_00027_00013.png  \n",
            "  inflating: train/9/00009_00027_00014.png  \n",
            "  inflating: train/9/00009_00027_00015.png  \n",
            "  inflating: train/9/00009_00027_00016.png  \n",
            "  inflating: train/9/00009_00027_00017.png  \n",
            "  inflating: train/9/00009_00027_00018.png  \n",
            "  inflating: train/9/00009_00027_00019.png  \n",
            "  inflating: train/9/00009_00027_00020.png  \n",
            "  inflating: train/9/00009_00027_00021.png  \n",
            "  inflating: train/9/00009_00027_00022.png  \n",
            "  inflating: train/9/00009_00027_00023.png  \n",
            "  inflating: train/9/00009_00027_00024.png  \n",
            "  inflating: train/9/00009_00027_00025.png  \n",
            "  inflating: train/9/00009_00027_00026.png  \n",
            "  inflating: train/9/00009_00027_00027.png  \n",
            "  inflating: train/9/00009_00027_00028.png  \n",
            "  inflating: train/9/00009_00027_00029.png  \n",
            "  inflating: train/9/00009_00028_00000.png  \n",
            "  inflating: train/9/00009_00028_00001.png  \n",
            "  inflating: train/9/00009_00028_00002.png  \n",
            "  inflating: train/9/00009_00028_00003.png  \n",
            "  inflating: train/9/00009_00028_00004.png  \n",
            "  inflating: train/9/00009_00028_00005.png  \n",
            "  inflating: train/9/00009_00028_00006.png  \n",
            "  inflating: train/9/00009_00028_00007.png  \n",
            "  inflating: train/9/00009_00028_00008.png  \n",
            "  inflating: train/9/00009_00028_00009.png  \n",
            "  inflating: train/9/00009_00028_00010.png  \n",
            "  inflating: train/9/00009_00028_00011.png  \n",
            "  inflating: train/9/00009_00028_00012.png  \n",
            "  inflating: train/9/00009_00028_00013.png  \n",
            "  inflating: train/9/00009_00028_00014.png  \n",
            "  inflating: train/9/00009_00028_00015.png  \n",
            "  inflating: train/9/00009_00028_00016.png  \n",
            "  inflating: train/9/00009_00028_00017.png  \n",
            "  inflating: train/9/00009_00028_00018.png  \n",
            "  inflating: train/9/00009_00028_00019.png  \n",
            "  inflating: train/9/00009_00028_00020.png  \n",
            "  inflating: train/9/00009_00028_00021.png  \n",
            "  inflating: train/9/00009_00028_00022.png  \n",
            "  inflating: train/9/00009_00028_00023.png  \n",
            "  inflating: train/9/00009_00028_00024.png  \n",
            "  inflating: train/9/00009_00028_00025.png  \n",
            "  inflating: train/9/00009_00028_00026.png  \n",
            "  inflating: train/9/00009_00028_00027.png  \n",
            "  inflating: train/9/00009_00028_00028.png  \n",
            "  inflating: train/9/00009_00028_00029.png  \n",
            "  inflating: train/9/00009_00029_00000.png  \n",
            "  inflating: train/9/00009_00029_00001.png  \n",
            "  inflating: train/9/00009_00029_00002.png  \n",
            "  inflating: train/9/00009_00029_00003.png  \n",
            "  inflating: train/9/00009_00029_00004.png  \n",
            "  inflating: train/9/00009_00029_00005.png  \n",
            "  inflating: train/9/00009_00029_00006.png  \n",
            "  inflating: train/9/00009_00029_00007.png  \n",
            "  inflating: train/9/00009_00029_00008.png  \n",
            "  inflating: train/9/00009_00029_00009.png  \n",
            "  inflating: train/9/00009_00029_00010.png  \n",
            "  inflating: train/9/00009_00029_00011.png  \n",
            "  inflating: train/9/00009_00029_00012.png  \n",
            "  inflating: train/9/00009_00029_00013.png  \n",
            "  inflating: train/9/00009_00029_00014.png  \n",
            "  inflating: train/9/00009_00029_00015.png  \n",
            "  inflating: train/9/00009_00029_00016.png  \n",
            "  inflating: train/9/00009_00029_00017.png  \n",
            "  inflating: train/9/00009_00029_00018.png  \n",
            "  inflating: train/9/00009_00029_00019.png  \n",
            "  inflating: train/9/00009_00029_00020.png  \n",
            "  inflating: train/9/00009_00029_00021.png  \n",
            "  inflating: train/9/00009_00029_00022.png  \n",
            "  inflating: train/9/00009_00029_00023.png  \n",
            "  inflating: train/9/00009_00029_00024.png  \n",
            "  inflating: train/9/00009_00029_00025.png  \n",
            "  inflating: train/9/00009_00029_00026.png  \n",
            "  inflating: train/9/00009_00029_00027.png  \n",
            "  inflating: train/9/00009_00029_00028.png  \n",
            "  inflating: train/9/00009_00029_00029.png  \n",
            "  inflating: train/9/00009_00030_00000.png  \n",
            "  inflating: train/9/00009_00030_00001.png  \n",
            "  inflating: train/9/00009_00030_00002.png  \n",
            "  inflating: train/9/00009_00030_00003.png  \n",
            "  inflating: train/9/00009_00030_00004.png  \n",
            "  inflating: train/9/00009_00030_00005.png  \n",
            "  inflating: train/9/00009_00030_00006.png  \n",
            "  inflating: train/9/00009_00030_00007.png  \n",
            "  inflating: train/9/00009_00030_00008.png  \n",
            "  inflating: train/9/00009_00030_00009.png  \n",
            "  inflating: train/9/00009_00030_00010.png  \n",
            "  inflating: train/9/00009_00030_00011.png  \n",
            "  inflating: train/9/00009_00030_00012.png  \n",
            "  inflating: train/9/00009_00030_00013.png  \n",
            "  inflating: train/9/00009_00030_00014.png  \n",
            "  inflating: train/9/00009_00030_00015.png  \n",
            "  inflating: train/9/00009_00030_00016.png  \n",
            "  inflating: train/9/00009_00030_00017.png  \n",
            "  inflating: train/9/00009_00030_00018.png  \n",
            "  inflating: train/9/00009_00030_00019.png  \n",
            "  inflating: train/9/00009_00030_00020.png  \n",
            "  inflating: train/9/00009_00030_00021.png  \n",
            "  inflating: train/9/00009_00030_00022.png  \n",
            "  inflating: train/9/00009_00030_00023.png  \n",
            "  inflating: train/9/00009_00030_00024.png  \n",
            "  inflating: train/9/00009_00030_00025.png  \n",
            "  inflating: train/9/00009_00030_00026.png  \n",
            "  inflating: train/9/00009_00030_00027.png  \n",
            "  inflating: train/9/00009_00030_00028.png  \n",
            "  inflating: train/9/00009_00030_00029.png  \n",
            "  inflating: train/9/00009_00031_00000.png  \n",
            "  inflating: train/9/00009_00031_00001.png  \n",
            "  inflating: train/9/00009_00031_00002.png  \n",
            "  inflating: train/9/00009_00031_00003.png  \n",
            "  inflating: train/9/00009_00031_00004.png  \n",
            "  inflating: train/9/00009_00031_00005.png  \n",
            "  inflating: train/9/00009_00031_00006.png  \n",
            "  inflating: train/9/00009_00031_00007.png  \n",
            "  inflating: train/9/00009_00031_00008.png  \n",
            "  inflating: train/9/00009_00031_00009.png  \n",
            "  inflating: train/9/00009_00031_00010.png  \n",
            "  inflating: train/9/00009_00031_00011.png  \n",
            "  inflating: train/9/00009_00031_00012.png  \n",
            "  inflating: train/9/00009_00031_00013.png  \n",
            "  inflating: train/9/00009_00031_00014.png  \n",
            "  inflating: train/9/00009_00031_00015.png  \n",
            "  inflating: train/9/00009_00031_00016.png  \n",
            "  inflating: train/9/00009_00031_00017.png  \n",
            "  inflating: train/9/00009_00031_00018.png  \n",
            "  inflating: train/9/00009_00031_00019.png  \n",
            "  inflating: train/9/00009_00031_00020.png  \n",
            "  inflating: train/9/00009_00031_00021.png  \n",
            "  inflating: train/9/00009_00031_00022.png  \n",
            "  inflating: train/9/00009_00031_00023.png  \n",
            "  inflating: train/9/00009_00031_00024.png  \n",
            "  inflating: train/9/00009_00031_00025.png  \n",
            "  inflating: train/9/00009_00031_00026.png  \n",
            "  inflating: train/9/00009_00031_00027.png  \n",
            "  inflating: train/9/00009_00031_00028.png  \n",
            "  inflating: train/9/00009_00031_00029.png  \n",
            "  inflating: train/9/00009_00032_00000.png  \n",
            "  inflating: train/9/00009_00032_00001.png  \n",
            "  inflating: train/9/00009_00032_00002.png  \n",
            "  inflating: train/9/00009_00032_00003.png  \n",
            "  inflating: train/9/00009_00032_00004.png  \n",
            "  inflating: train/9/00009_00032_00005.png  \n",
            "  inflating: train/9/00009_00032_00006.png  \n",
            "  inflating: train/9/00009_00032_00007.png  \n",
            "  inflating: train/9/00009_00032_00008.png  \n",
            "  inflating: train/9/00009_00032_00009.png  \n",
            "  inflating: train/9/00009_00032_00010.png  \n",
            "  inflating: train/9/00009_00032_00011.png  \n",
            "  inflating: train/9/00009_00032_00012.png  \n",
            "  inflating: train/9/00009_00032_00013.png  \n",
            "  inflating: train/9/00009_00032_00014.png  \n",
            "  inflating: train/9/00009_00032_00015.png  \n",
            "  inflating: train/9/00009_00032_00016.png  \n",
            "  inflating: train/9/00009_00032_00017.png  \n",
            "  inflating: train/9/00009_00032_00018.png  \n",
            "  inflating: train/9/00009_00032_00019.png  \n",
            "  inflating: train/9/00009_00032_00020.png  \n",
            "  inflating: train/9/00009_00032_00021.png  \n",
            "  inflating: train/9/00009_00032_00022.png  \n",
            "  inflating: train/9/00009_00032_00023.png  \n",
            "  inflating: train/9/00009_00032_00024.png  \n",
            "  inflating: train/9/00009_00032_00025.png  \n",
            "  inflating: train/9/00009_00032_00026.png  \n",
            "  inflating: train/9/00009_00032_00027.png  \n",
            "  inflating: train/9/00009_00032_00028.png  \n",
            "  inflating: train/9/00009_00032_00029.png  \n",
            "  inflating: train/9/00009_00033_00000.png  \n",
            "  inflating: train/9/00009_00033_00001.png  \n",
            "  inflating: train/9/00009_00033_00002.png  \n",
            "  inflating: train/9/00009_00033_00003.png  \n",
            "  inflating: train/9/00009_00033_00004.png  \n",
            "  inflating: train/9/00009_00033_00005.png  \n",
            "  inflating: train/9/00009_00033_00006.png  \n",
            "  inflating: train/9/00009_00033_00007.png  \n",
            "  inflating: train/9/00009_00033_00008.png  \n",
            "  inflating: train/9/00009_00033_00009.png  \n",
            "  inflating: train/9/00009_00033_00010.png  \n",
            "  inflating: train/9/00009_00033_00011.png  \n",
            "  inflating: train/9/00009_00033_00012.png  \n",
            "  inflating: train/9/00009_00033_00013.png  \n",
            "  inflating: train/9/00009_00033_00014.png  \n",
            "  inflating: train/9/00009_00033_00015.png  \n",
            "  inflating: train/9/00009_00033_00016.png  \n",
            "  inflating: train/9/00009_00033_00017.png  \n",
            "  inflating: train/9/00009_00033_00018.png  \n",
            "  inflating: train/9/00009_00033_00019.png  \n",
            "  inflating: train/9/00009_00033_00020.png  \n",
            "  inflating: train/9/00009_00033_00021.png  \n",
            "  inflating: train/9/00009_00033_00022.png  \n",
            "  inflating: train/9/00009_00033_00023.png  \n",
            "  inflating: train/9/00009_00033_00024.png  \n",
            "  inflating: train/9/00009_00033_00025.png  \n",
            "  inflating: train/9/00009_00033_00026.png  \n",
            "  inflating: train/9/00009_00033_00027.png  \n",
            "  inflating: train/9/00009_00033_00028.png  \n",
            "  inflating: train/9/00009_00033_00029.png  \n",
            "  inflating: train/9/00009_00034_00000.png  \n",
            "  inflating: train/9/00009_00034_00001.png  \n",
            "  inflating: train/9/00009_00034_00002.png  \n",
            "  inflating: train/9/00009_00034_00003.png  \n",
            "  inflating: train/9/00009_00034_00004.png  \n",
            "  inflating: train/9/00009_00034_00005.png  \n",
            "  inflating: train/9/00009_00034_00006.png  \n",
            "  inflating: train/9/00009_00034_00007.png  \n",
            "  inflating: train/9/00009_00034_00008.png  \n",
            "  inflating: train/9/00009_00034_00009.png  \n",
            "  inflating: train/9/00009_00034_00010.png  \n",
            "  inflating: train/9/00009_00034_00011.png  \n",
            "  inflating: train/9/00009_00034_00012.png  \n",
            "  inflating: train/9/00009_00034_00013.png  \n",
            "  inflating: train/9/00009_00034_00014.png  \n",
            "  inflating: train/9/00009_00034_00015.png  \n",
            "  inflating: train/9/00009_00034_00016.png  \n",
            "  inflating: train/9/00009_00034_00017.png  \n",
            "  inflating: train/9/00009_00034_00018.png  \n",
            "  inflating: train/9/00009_00034_00019.png  \n",
            "  inflating: train/9/00009_00034_00020.png  \n",
            "  inflating: train/9/00009_00034_00021.png  \n",
            "  inflating: train/9/00009_00034_00022.png  \n",
            "  inflating: train/9/00009_00034_00023.png  \n",
            "  inflating: train/9/00009_00034_00024.png  \n",
            "  inflating: train/9/00009_00034_00025.png  \n",
            "  inflating: train/9/00009_00034_00026.png  \n",
            "  inflating: train/9/00009_00034_00027.png  \n",
            "  inflating: train/9/00009_00034_00028.png  \n",
            "  inflating: train/9/00009_00034_00029.png  \n",
            "  inflating: train/9/00009_00035_00000.png  \n",
            "  inflating: train/9/00009_00035_00001.png  \n",
            "  inflating: train/9/00009_00035_00002.png  \n",
            "  inflating: train/9/00009_00035_00003.png  \n",
            "  inflating: train/9/00009_00035_00004.png  \n",
            "  inflating: train/9/00009_00035_00005.png  \n",
            "  inflating: train/9/00009_00035_00006.png  \n",
            "  inflating: train/9/00009_00035_00007.png  \n",
            "  inflating: train/9/00009_00035_00008.png  \n",
            "  inflating: train/9/00009_00035_00009.png  \n",
            "  inflating: train/9/00009_00035_00010.png  \n",
            "  inflating: train/9/00009_00035_00011.png  \n",
            "  inflating: train/9/00009_00035_00012.png  \n",
            "  inflating: train/9/00009_00035_00013.png  \n",
            "  inflating: train/9/00009_00035_00014.png  \n",
            "  inflating: train/9/00009_00035_00015.png  \n",
            "  inflating: train/9/00009_00035_00016.png  \n",
            "  inflating: train/9/00009_00035_00017.png  \n",
            "  inflating: train/9/00009_00035_00018.png  \n",
            "  inflating: train/9/00009_00035_00019.png  \n",
            "  inflating: train/9/00009_00035_00020.png  \n",
            "  inflating: train/9/00009_00035_00021.png  \n",
            "  inflating: train/9/00009_00035_00022.png  \n",
            "  inflating: train/9/00009_00035_00023.png  \n",
            "  inflating: train/9/00009_00035_00024.png  \n",
            "  inflating: train/9/00009_00035_00025.png  \n",
            "  inflating: train/9/00009_00035_00026.png  \n",
            "  inflating: train/9/00009_00035_00027.png  \n",
            "  inflating: train/9/00009_00035_00028.png  \n",
            "  inflating: train/9/00009_00035_00029.png  \n",
            "  inflating: train/9/00009_00036_00000.png  \n",
            "  inflating: train/9/00009_00036_00001.png  \n",
            "  inflating: train/9/00009_00036_00002.png  \n",
            "  inflating: train/9/00009_00036_00003.png  \n",
            "  inflating: train/9/00009_00036_00004.png  \n",
            "  inflating: train/9/00009_00036_00005.png  \n",
            "  inflating: train/9/00009_00036_00006.png  \n",
            "  inflating: train/9/00009_00036_00007.png  \n",
            "  inflating: train/9/00009_00036_00008.png  \n",
            "  inflating: train/9/00009_00036_00009.png  \n",
            "  inflating: train/9/00009_00036_00010.png  \n",
            "  inflating: train/9/00009_00036_00011.png  \n",
            "  inflating: train/9/00009_00036_00012.png  \n",
            "  inflating: train/9/00009_00036_00013.png  \n",
            "  inflating: train/9/00009_00036_00014.png  \n",
            "  inflating: train/9/00009_00036_00015.png  \n",
            "  inflating: train/9/00009_00036_00016.png  \n",
            "  inflating: train/9/00009_00036_00017.png  \n",
            "  inflating: train/9/00009_00036_00018.png  \n",
            "  inflating: train/9/00009_00036_00019.png  \n",
            "  inflating: train/9/00009_00036_00020.png  \n",
            "  inflating: train/9/00009_00036_00021.png  \n",
            "  inflating: train/9/00009_00036_00022.png  \n",
            "  inflating: train/9/00009_00036_00023.png  \n",
            "  inflating: train/9/00009_00036_00024.png  \n",
            "  inflating: train/9/00009_00036_00025.png  \n",
            "  inflating: train/9/00009_00036_00026.png  \n",
            "  inflating: train/9/00009_00036_00027.png  \n",
            "  inflating: train/9/00009_00036_00028.png  \n",
            "  inflating: train/9/00009_00036_00029.png  \n",
            "  inflating: train/9/00009_00037_00000.png  \n",
            "  inflating: train/9/00009_00037_00001.png  \n",
            "  inflating: train/9/00009_00037_00002.png  \n",
            "  inflating: train/9/00009_00037_00003.png  \n",
            "  inflating: train/9/00009_00037_00004.png  \n",
            "  inflating: train/9/00009_00037_00005.png  \n",
            "  inflating: train/9/00009_00037_00006.png  \n",
            "  inflating: train/9/00009_00037_00007.png  \n",
            "  inflating: train/9/00009_00037_00008.png  \n",
            "  inflating: train/9/00009_00037_00009.png  \n",
            "  inflating: train/9/00009_00037_00010.png  \n",
            "  inflating: train/9/00009_00037_00011.png  \n",
            "  inflating: train/9/00009_00037_00012.png  \n",
            "  inflating: train/9/00009_00037_00013.png  \n",
            "  inflating: train/9/00009_00037_00014.png  \n",
            "  inflating: train/9/00009_00037_00015.png  \n",
            "  inflating: train/9/00009_00037_00016.png  \n",
            "  inflating: train/9/00009_00037_00017.png  \n",
            "  inflating: train/9/00009_00037_00018.png  \n",
            "  inflating: train/9/00009_00037_00019.png  \n",
            "  inflating: train/9/00009_00037_00020.png  \n",
            "  inflating: train/9/00009_00037_00021.png  \n",
            "  inflating: train/9/00009_00037_00022.png  \n",
            "  inflating: train/9/00009_00037_00023.png  \n",
            "  inflating: train/9/00009_00037_00024.png  \n",
            "  inflating: train/9/00009_00037_00025.png  \n",
            "  inflating: train/9/00009_00037_00026.png  \n",
            "  inflating: train/9/00009_00037_00027.png  \n",
            "  inflating: train/9/00009_00037_00028.png  \n",
            "  inflating: train/9/00009_00037_00029.png  \n",
            "  inflating: train/9/00009_00038_00000.png  \n",
            "  inflating: train/9/00009_00038_00001.png  \n",
            "  inflating: train/9/00009_00038_00002.png  \n",
            "  inflating: train/9/00009_00038_00003.png  \n",
            "  inflating: train/9/00009_00038_00004.png  \n",
            "  inflating: train/9/00009_00038_00005.png  \n",
            "  inflating: train/9/00009_00038_00006.png  \n",
            "  inflating: train/9/00009_00038_00007.png  \n",
            "  inflating: train/9/00009_00038_00008.png  \n",
            "  inflating: train/9/00009_00038_00009.png  \n",
            "  inflating: train/9/00009_00038_00010.png  \n",
            "  inflating: train/9/00009_00038_00011.png  \n",
            "  inflating: train/9/00009_00038_00012.png  \n",
            "  inflating: train/9/00009_00038_00013.png  \n",
            "  inflating: train/9/00009_00038_00014.png  \n",
            "  inflating: train/9/00009_00038_00015.png  \n",
            "  inflating: train/9/00009_00038_00016.png  \n",
            "  inflating: train/9/00009_00038_00017.png  \n",
            "  inflating: train/9/00009_00038_00018.png  \n",
            "  inflating: train/9/00009_00038_00019.png  \n",
            "  inflating: train/9/00009_00038_00020.png  \n",
            "  inflating: train/9/00009_00038_00021.png  \n",
            "  inflating: train/9/00009_00038_00022.png  \n",
            "  inflating: train/9/00009_00038_00023.png  \n",
            "  inflating: train/9/00009_00038_00024.png  \n",
            "  inflating: train/9/00009_00038_00025.png  \n",
            "  inflating: train/9/00009_00038_00026.png  \n",
            "  inflating: train/9/00009_00038_00027.png  \n",
            "  inflating: train/9/00009_00038_00028.png  \n",
            "  inflating: train/9/00009_00038_00029.png  \n",
            "  inflating: train/9/00009_00039_00000.png  \n",
            "  inflating: train/9/00009_00039_00001.png  \n",
            "  inflating: train/9/00009_00039_00002.png  \n",
            "  inflating: train/9/00009_00039_00003.png  \n",
            "  inflating: train/9/00009_00039_00004.png  \n",
            "  inflating: train/9/00009_00039_00005.png  \n",
            "  inflating: train/9/00009_00039_00006.png  \n",
            "  inflating: train/9/00009_00039_00007.png  \n",
            "  inflating: train/9/00009_00039_00008.png  \n",
            "  inflating: train/9/00009_00039_00009.png  \n",
            "  inflating: train/9/00009_00039_00010.png  \n",
            "  inflating: train/9/00009_00039_00011.png  \n",
            "  inflating: train/9/00009_00039_00012.png  \n",
            "  inflating: train/9/00009_00039_00013.png  \n",
            "  inflating: train/9/00009_00039_00014.png  \n",
            "  inflating: train/9/00009_00039_00015.png  \n",
            "  inflating: train/9/00009_00039_00016.png  \n",
            "  inflating: train/9/00009_00039_00017.png  \n",
            "  inflating: train/9/00009_00039_00018.png  \n",
            "  inflating: train/9/00009_00039_00019.png  \n",
            "  inflating: train/9/00009_00039_00020.png  \n",
            "  inflating: train/9/00009_00039_00021.png  \n",
            "  inflating: train/9/00009_00039_00022.png  \n",
            "  inflating: train/9/00009_00039_00023.png  \n",
            "  inflating: train/9/00009_00039_00024.png  \n",
            "  inflating: train/9/00009_00039_00025.png  \n",
            "  inflating: train/9/00009_00039_00026.png  \n",
            "  inflating: train/9/00009_00039_00027.png  \n",
            "  inflating: train/9/00009_00039_00028.png  \n",
            "  inflating: train/9/00009_00039_00029.png  \n",
            "  inflating: train/9/00009_00040_00000.png  \n",
            "  inflating: train/9/00009_00040_00001.png  \n",
            "  inflating: train/9/00009_00040_00002.png  \n",
            "  inflating: train/9/00009_00040_00003.png  \n",
            "  inflating: train/9/00009_00040_00004.png  \n",
            "  inflating: train/9/00009_00040_00005.png  \n",
            "  inflating: train/9/00009_00040_00006.png  \n",
            "  inflating: train/9/00009_00040_00007.png  \n",
            "  inflating: train/9/00009_00040_00008.png  \n",
            "  inflating: train/9/00009_00040_00009.png  \n",
            "  inflating: train/9/00009_00040_00010.png  \n",
            "  inflating: train/9/00009_00040_00011.png  \n",
            "  inflating: train/9/00009_00040_00012.png  \n",
            "  inflating: train/9/00009_00040_00013.png  \n",
            "  inflating: train/9/00009_00040_00014.png  \n",
            "  inflating: train/9/00009_00040_00015.png  \n",
            "  inflating: train/9/00009_00040_00016.png  \n",
            "  inflating: train/9/00009_00040_00017.png  \n",
            "  inflating: train/9/00009_00040_00018.png  \n",
            "  inflating: train/9/00009_00040_00019.png  \n",
            "  inflating: train/9/00009_00040_00020.png  \n",
            "  inflating: train/9/00009_00040_00021.png  \n",
            "  inflating: train/9/00009_00040_00022.png  \n",
            "  inflating: train/9/00009_00040_00023.png  \n",
            "  inflating: train/9/00009_00040_00024.png  \n",
            "  inflating: train/9/00009_00040_00025.png  \n",
            "  inflating: train/9/00009_00040_00026.png  \n",
            "  inflating: train/9/00009_00040_00027.png  \n",
            "  inflating: train/9/00009_00040_00028.png  \n",
            "  inflating: train/9/00009_00040_00029.png  \n",
            "  inflating: train/9/00009_00041_00000.png  \n",
            "  inflating: train/9/00009_00041_00001.png  \n",
            "  inflating: train/9/00009_00041_00002.png  \n",
            "  inflating: train/9/00009_00041_00003.png  \n",
            "  inflating: train/9/00009_00041_00004.png  \n",
            "  inflating: train/9/00009_00041_00005.png  \n",
            "  inflating: train/9/00009_00041_00006.png  \n",
            "  inflating: train/9/00009_00041_00007.png  \n",
            "  inflating: train/9/00009_00041_00008.png  \n",
            "  inflating: train/9/00009_00041_00009.png  \n",
            "  inflating: train/9/00009_00041_00010.png  \n",
            "  inflating: train/9/00009_00041_00011.png  \n",
            "  inflating: train/9/00009_00041_00012.png  \n",
            "  inflating: train/9/00009_00041_00013.png  \n",
            "  inflating: train/9/00009_00041_00014.png  \n",
            "  inflating: train/9/00009_00041_00015.png  \n",
            "  inflating: train/9/00009_00041_00016.png  \n",
            "  inflating: train/9/00009_00041_00017.png  \n",
            "  inflating: train/9/00009_00041_00018.png  \n",
            "  inflating: train/9/00009_00041_00019.png  \n",
            "  inflating: train/9/00009_00041_00020.png  \n",
            "  inflating: train/9/00009_00041_00021.png  \n",
            "  inflating: train/9/00009_00041_00022.png  \n",
            "  inflating: train/9/00009_00041_00023.png  \n",
            "  inflating: train/9/00009_00041_00024.png  \n",
            "  inflating: train/9/00009_00041_00025.png  \n",
            "  inflating: train/9/00009_00041_00026.png  \n",
            "  inflating: train/9/00009_00041_00027.png  \n",
            "  inflating: train/9/00009_00041_00028.png  \n",
            "  inflating: train/9/00009_00041_00029.png  \n",
            "  inflating: train/9/00009_00042_00000.png  \n",
            "  inflating: train/9/00009_00042_00001.png  \n",
            "  inflating: train/9/00009_00042_00002.png  \n",
            "  inflating: train/9/00009_00042_00003.png  \n",
            "  inflating: train/9/00009_00042_00004.png  \n",
            "  inflating: train/9/00009_00042_00005.png  \n",
            "  inflating: train/9/00009_00042_00006.png  \n",
            "  inflating: train/9/00009_00042_00007.png  \n",
            "  inflating: train/9/00009_00042_00008.png  \n",
            "  inflating: train/9/00009_00042_00009.png  \n",
            "  inflating: train/9/00009_00042_00010.png  \n",
            "  inflating: train/9/00009_00042_00011.png  \n",
            "  inflating: train/9/00009_00042_00012.png  \n",
            "  inflating: train/9/00009_00042_00013.png  \n",
            "  inflating: train/9/00009_00042_00014.png  \n",
            "  inflating: train/9/00009_00042_00015.png  \n",
            "  inflating: train/9/00009_00042_00016.png  \n",
            "  inflating: train/9/00009_00042_00017.png  \n",
            "  inflating: train/9/00009_00042_00018.png  \n",
            "  inflating: train/9/00009_00042_00019.png  \n",
            "  inflating: train/9/00009_00042_00020.png  \n",
            "  inflating: train/9/00009_00042_00021.png  \n",
            "  inflating: train/9/00009_00042_00022.png  \n",
            "  inflating: train/9/00009_00042_00023.png  \n",
            "  inflating: train/9/00009_00042_00024.png  \n",
            "  inflating: train/9/00009_00042_00025.png  \n",
            "  inflating: train/9/00009_00042_00026.png  \n",
            "  inflating: train/9/00009_00042_00027.png  \n",
            "  inflating: train/9/00009_00042_00028.png  \n",
            "  inflating: train/9/00009_00042_00029.png  \n",
            "  inflating: train/9/00009_00043_00000.png  \n",
            "  inflating: train/9/00009_00043_00001.png  \n",
            "  inflating: train/9/00009_00043_00002.png  \n",
            "  inflating: train/9/00009_00043_00003.png  \n",
            "  inflating: train/9/00009_00043_00004.png  \n",
            "  inflating: train/9/00009_00043_00005.png  \n",
            "  inflating: train/9/00009_00043_00006.png  \n",
            "  inflating: train/9/00009_00043_00007.png  \n",
            "  inflating: train/9/00009_00043_00008.png  \n",
            "  inflating: train/9/00009_00043_00009.png  \n",
            "  inflating: train/9/00009_00043_00010.png  \n",
            "  inflating: train/9/00009_00043_00011.png  \n",
            "  inflating: train/9/00009_00043_00012.png  \n",
            "  inflating: train/9/00009_00043_00013.png  \n",
            "  inflating: train/9/00009_00043_00014.png  \n",
            "  inflating: train/9/00009_00043_00015.png  \n",
            "  inflating: train/9/00009_00043_00016.png  \n",
            "  inflating: train/9/00009_00043_00017.png  \n",
            "  inflating: train/9/00009_00043_00018.png  \n",
            "  inflating: train/9/00009_00043_00019.png  \n",
            "  inflating: train/9/00009_00043_00020.png  \n",
            "  inflating: train/9/00009_00043_00021.png  \n",
            "  inflating: train/9/00009_00043_00022.png  \n",
            "  inflating: train/9/00009_00043_00023.png  \n",
            "  inflating: train/9/00009_00043_00024.png  \n",
            "  inflating: train/9/00009_00043_00025.png  \n",
            "  inflating: train/9/00009_00043_00026.png  \n",
            "  inflating: train/9/00009_00043_00027.png  \n",
            "  inflating: train/9/00009_00043_00028.png  \n",
            "  inflating: train/9/00009_00043_00029.png  \n",
            "  inflating: train/9/00009_00044_00000.png  \n",
            "  inflating: train/9/00009_00044_00001.png  \n",
            "  inflating: train/9/00009_00044_00002.png  \n",
            "  inflating: train/9/00009_00044_00003.png  \n",
            "  inflating: train/9/00009_00044_00004.png  \n",
            "  inflating: train/9/00009_00044_00005.png  \n",
            "  inflating: train/9/00009_00044_00006.png  \n",
            "  inflating: train/9/00009_00044_00007.png  \n",
            "  inflating: train/9/00009_00044_00008.png  \n",
            "  inflating: train/9/00009_00044_00009.png  \n",
            "  inflating: train/9/00009_00044_00010.png  \n",
            "  inflating: train/9/00009_00044_00011.png  \n",
            "  inflating: train/9/00009_00044_00012.png  \n",
            "  inflating: train/9/00009_00044_00013.png  \n",
            "  inflating: train/9/00009_00044_00014.png  \n",
            "  inflating: train/9/00009_00044_00015.png  \n",
            "  inflating: train/9/00009_00044_00016.png  \n",
            "  inflating: train/9/00009_00044_00017.png  \n",
            "  inflating: train/9/00009_00044_00018.png  \n",
            "  inflating: train/9/00009_00044_00019.png  \n",
            "  inflating: train/9/00009_00044_00020.png  \n",
            "  inflating: train/9/00009_00044_00021.png  \n",
            "  inflating: train/9/00009_00044_00022.png  \n",
            "  inflating: train/9/00009_00044_00023.png  \n",
            "  inflating: train/9/00009_00044_00024.png  \n",
            "  inflating: train/9/00009_00044_00025.png  \n",
            "  inflating: train/9/00009_00044_00026.png  \n",
            "  inflating: train/9/00009_00044_00027.png  \n",
            "  inflating: train/9/00009_00044_00028.png  \n",
            "  inflating: train/9/00009_00044_00029.png  \n",
            "  inflating: train/9/00009_00045_00000.png  \n",
            "  inflating: train/9/00009_00045_00001.png  \n",
            "  inflating: train/9/00009_00045_00002.png  \n",
            "  inflating: train/9/00009_00045_00003.png  \n",
            "  inflating: train/9/00009_00045_00004.png  \n",
            "  inflating: train/9/00009_00045_00005.png  \n",
            "  inflating: train/9/00009_00045_00006.png  \n",
            "  inflating: train/9/00009_00045_00007.png  \n",
            "  inflating: train/9/00009_00045_00008.png  \n",
            "  inflating: train/9/00009_00045_00009.png  \n",
            "  inflating: train/9/00009_00045_00010.png  \n",
            "  inflating: train/9/00009_00045_00011.png  \n",
            "  inflating: train/9/00009_00045_00012.png  \n",
            "  inflating: train/9/00009_00045_00013.png  \n",
            "  inflating: train/9/00009_00045_00014.png  \n",
            "  inflating: train/9/00009_00045_00015.png  \n",
            "  inflating: train/9/00009_00045_00016.png  \n",
            "  inflating: train/9/00009_00045_00017.png  \n",
            "  inflating: train/9/00009_00045_00018.png  \n",
            "  inflating: train/9/00009_00045_00019.png  \n",
            "  inflating: train/9/00009_00045_00020.png  \n",
            "  inflating: train/9/00009_00045_00021.png  \n",
            "  inflating: train/9/00009_00045_00022.png  \n",
            "  inflating: train/9/00009_00045_00023.png  \n",
            "  inflating: train/9/00009_00045_00024.png  \n",
            "  inflating: train/9/00009_00045_00025.png  \n",
            "  inflating: train/9/00009_00045_00026.png  \n",
            "  inflating: train/9/00009_00045_00027.png  \n",
            "  inflating: train/9/00009_00045_00028.png  \n",
            "  inflating: train/9/00009_00045_00029.png  \n",
            "  inflating: train/9/00009_00046_00000.png  \n",
            "  inflating: train/9/00009_00046_00001.png  \n",
            "  inflating: train/9/00009_00046_00002.png  \n",
            "  inflating: train/9/00009_00046_00003.png  \n",
            "  inflating: train/9/00009_00046_00004.png  \n",
            "  inflating: train/9/00009_00046_00005.png  \n",
            "  inflating: train/9/00009_00046_00006.png  \n",
            "  inflating: train/9/00009_00046_00007.png  \n",
            "  inflating: train/9/00009_00046_00008.png  \n",
            "  inflating: train/9/00009_00046_00009.png  \n",
            "  inflating: train/9/00009_00046_00010.png  \n",
            "  inflating: train/9/00009_00046_00011.png  \n",
            "  inflating: train/9/00009_00046_00012.png  \n",
            "  inflating: train/9/00009_00046_00013.png  \n",
            "  inflating: train/9/00009_00046_00014.png  \n",
            "  inflating: train/9/00009_00046_00015.png  \n",
            "  inflating: train/9/00009_00046_00016.png  \n",
            "  inflating: train/9/00009_00046_00017.png  \n",
            "  inflating: train/9/00009_00046_00018.png  \n",
            "  inflating: train/9/00009_00046_00019.png  \n",
            "  inflating: train/9/00009_00046_00020.png  \n",
            "  inflating: train/9/00009_00046_00021.png  \n",
            "  inflating: train/9/00009_00046_00022.png  \n",
            "  inflating: train/9/00009_00046_00023.png  \n",
            "  inflating: train/9/00009_00046_00024.png  \n",
            "  inflating: train/9/00009_00046_00025.png  \n",
            "  inflating: train/9/00009_00046_00026.png  \n",
            "  inflating: train/9/00009_00046_00027.png  \n",
            "  inflating: train/9/00009_00046_00028.png  \n",
            "  inflating: train/9/00009_00046_00029.png  \n",
            "  inflating: train/9/00009_00047_00000.png  \n",
            "  inflating: train/9/00009_00047_00001.png  \n",
            "  inflating: train/9/00009_00047_00002.png  \n",
            "  inflating: train/9/00009_00047_00003.png  \n",
            "  inflating: train/9/00009_00047_00004.png  \n",
            "  inflating: train/9/00009_00047_00005.png  \n",
            "  inflating: train/9/00009_00047_00006.png  \n",
            "  inflating: train/9/00009_00047_00007.png  \n",
            "  inflating: train/9/00009_00047_00008.png  \n",
            "  inflating: train/9/00009_00047_00009.png  \n",
            "  inflating: train/9/00009_00047_00010.png  \n",
            "  inflating: train/9/00009_00047_00011.png  \n",
            "  inflating: train/9/00009_00047_00012.png  \n",
            "  inflating: train/9/00009_00047_00013.png  \n",
            "  inflating: train/9/00009_00047_00014.png  \n",
            "  inflating: train/9/00009_00047_00015.png  \n",
            "  inflating: train/9/00009_00047_00016.png  \n",
            "  inflating: train/9/00009_00047_00017.png  \n",
            "  inflating: train/9/00009_00047_00018.png  \n",
            "  inflating: train/9/00009_00047_00019.png  \n",
            "  inflating: train/9/00009_00047_00020.png  \n",
            "  inflating: train/9/00009_00047_00021.png  \n",
            "  inflating: train/9/00009_00047_00022.png  \n",
            "  inflating: train/9/00009_00047_00023.png  \n",
            "  inflating: train/9/00009_00047_00024.png  \n",
            "  inflating: train/9/00009_00047_00025.png  \n",
            "  inflating: train/9/00009_00047_00026.png  \n",
            "  inflating: train/9/00009_00047_00027.png  \n",
            "  inflating: train/9/00009_00047_00028.png  \n",
            "  inflating: train/9/00009_00047_00029.png  \n",
            "  inflating: train/9/00009_00048_00000.png  \n",
            "  inflating: train/9/00009_00048_00001.png  \n",
            "  inflating: train/9/00009_00048_00002.png  \n",
            "  inflating: train/9/00009_00048_00003.png  \n",
            "  inflating: train/9/00009_00048_00004.png  \n",
            "  inflating: train/9/00009_00048_00005.png  \n",
            "  inflating: train/9/00009_00048_00006.png  \n",
            "  inflating: train/9/00009_00048_00007.png  \n",
            "  inflating: train/9/00009_00048_00008.png  \n",
            "  inflating: train/9/00009_00048_00009.png  \n",
            "  inflating: train/9/00009_00048_00010.png  \n",
            "  inflating: train/9/00009_00048_00011.png  \n",
            "  inflating: train/9/00009_00048_00012.png  \n",
            "  inflating: train/9/00009_00048_00013.png  \n",
            "  inflating: train/9/00009_00048_00014.png  \n",
            "  inflating: train/9/00009_00048_00015.png  \n",
            "  inflating: train/9/00009_00048_00016.png  \n",
            "  inflating: train/9/00009_00048_00017.png  \n",
            "  inflating: train/9/00009_00048_00018.png  \n",
            "  inflating: train/9/00009_00048_00019.png  \n",
            "  inflating: train/9/00009_00048_00020.png  \n",
            "  inflating: train/9/00009_00048_00021.png  \n",
            "  inflating: train/9/00009_00048_00022.png  \n",
            "  inflating: train/9/00009_00048_00023.png  \n",
            "  inflating: train/9/00009_00048_00024.png  \n",
            "  inflating: train/9/00009_00048_00025.png  \n",
            "  inflating: train/9/00009_00048_00026.png  \n",
            "  inflating: train/9/00009_00048_00027.png  \n",
            "  inflating: train/9/00009_00048_00028.png  \n",
            "  inflating: train/9/00009_00048_00029.png  \n"
          ]
        }
      ],
      "source": [
        "!unzip gtsrb-german-traffic-sign.zip"
      ]
    },
    {
      "cell_type": "code",
      "execution_count": null,
      "metadata": {
        "id": "Z9wYwiDPOFYp"
      },
      "outputs": [],
      "source": [
        "import pandas as pd\n",
        "\n",
        "train = pd.read_csv('./Train.csv')\n",
        "test = pd.read_csv('./Test.csv')"
      ]
    },
    {
      "cell_type": "code",
      "execution_count": null,
      "metadata": {
        "colab": {
          "base_uri": "https://localhost:8080/"
        },
        "id": "B55a0wHIau28",
        "outputId": "1ed3986a-e441-4ae0-e1b9-7a416fb8121a"
      },
      "outputs": [
        {
          "output_type": "stream",
          "name": "stdout",
          "text": [
            "<class 'pandas.core.frame.DataFrame'>\n",
            "RangeIndex: 39209 entries, 0 to 39208\n",
            "Data columns (total 8 columns):\n",
            " #   Column   Non-Null Count  Dtype \n",
            "---  ------   --------------  ----- \n",
            " 0   Width    39209 non-null  int64 \n",
            " 1   Height   39209 non-null  int64 \n",
            " 2   Roi.X1   39209 non-null  int64 \n",
            " 3   Roi.Y1   39209 non-null  int64 \n",
            " 4   Roi.X2   39209 non-null  int64 \n",
            " 5   Roi.Y2   39209 non-null  int64 \n",
            " 6   ClassId  39209 non-null  int64 \n",
            " 7   Path     39209 non-null  object\n",
            "dtypes: int64(7), object(1)\n",
            "memory usage: 2.4+ MB\n"
          ]
        }
      ],
      "source": [
        "train.info()"
      ]
    },
    {
      "cell_type": "markdown",
      "metadata": {
        "id": "1BKxPPEbiSKY"
      },
      "source": [
        "## Pre-process Dataset"
      ]
    },
    {
      "cell_type": "code",
      "execution_count": null,
      "metadata": {
        "colab": {
          "base_uri": "https://localhost:8080/"
        },
        "id": "mSEjazkfiZhD",
        "outputId": "b6c1661c-c572-40f8-ea05-e816e2fba3eb"
      },
      "outputs": [
        {
          "output_type": "stream",
          "name": "stdout",
          "text": [
            "Number of classes:  43\n"
          ]
        }
      ],
      "source": [
        "num_classes = len(train['ClassId'].unique())\n",
        "print(\"Number of classes: \", num_classes)"
      ]
    },
    {
      "cell_type": "code",
      "execution_count": null,
      "metadata": {
        "id": "_IySu0_xijFn"
      },
      "outputs": [],
      "source": [
        "data_dir = './'\n",
        "train_path = './Train'\n",
        "test_path = './Test'\n",
        "\n",
        "# Resizing the images to 30x30x3\n",
        "IMG_HEIGHT = 30\n",
        "IMG_WIDTH = 30\n",
        "channels = 3\n",
        "\n",
        "# Label Overview\n",
        "classes = { 0:'Speed limit (20km/h)',\n",
        "            1:'Speed limit (30km/h)', \n",
        "            2:'Speed limit (50km/h)', \n",
        "            3:'Speed limit (60km/h)', \n",
        "            4:'Speed limit (70km/h)', \n",
        "            5:'Speed limit (80km/h)', \n",
        "            6:'End of speed limit (80km/h)', \n",
        "            7:'Speed limit (100km/h)', \n",
        "            8:'Speed limit (120km/h)', \n",
        "            9:'No passing', \n",
        "            10:'No passing veh over 3.5 tons', \n",
        "            11:'Right-of-way at intersection', \n",
        "            12:'Priority road', \n",
        "            13:'Yield', \n",
        "            14:'Stop', \n",
        "            15:'No vehicles', \n",
        "            16:'Veh > 3.5 tons prohibited', \n",
        "            17:'No entry', \n",
        "            18:'General caution', \n",
        "            19:'Dangerous curve left', \n",
        "            20:'Dangerous curve right', \n",
        "            21:'Double curve', \n",
        "            22:'Bumpy road', \n",
        "            23:'Slippery road', \n",
        "            24:'Road narrows on the right', \n",
        "            25:'Road work', \n",
        "            26:'Traffic signals', \n",
        "            27:'Pedestrians', \n",
        "            28:'Children crossing', \n",
        "            29:'Bicycles crossing', \n",
        "            30:'Beware of ice/snow',\n",
        "            31:'Wild animals crossing', \n",
        "            32:'End speed + passing limits', \n",
        "            33:'Turn right ahead', \n",
        "            34:'Turn left ahead', \n",
        "            35:'Ahead only', \n",
        "            36:'Go straight or right', \n",
        "            37:'Go straight or left', \n",
        "            38:'Keep right', \n",
        "            39:'Keep left', \n",
        "            40:'Roundabout mandatory', \n",
        "            41:'End of no passing', \n",
        "            42:'End no passing veh > 3.5 tons' }"
      ]
    },
    {
      "cell_type": "markdown",
      "metadata": {
        "id": "UsefyqyrwVws"
      },
      "source": [
        "## **Wandb.ai - Hyperparameter Tuning** "
      ]
    },
    {
      "cell_type": "code",
      "execution_count": null,
      "metadata": {
        "colab": {
          "base_uri": "https://localhost:8080/"
        },
        "id": "v1NF6Def6DIu",
        "outputId": "338cb8a7-a370-42c6-eda6-8928d18ce46b"
      },
      "outputs": [
        {
          "output_type": "stream",
          "name": "stdout",
          "text": [
            "\u001b[?25l     \u001b[90m━━━━━━━━━━━━━━━━━━━━━━━━━━━━━━━━━━━━━━━━\u001b[0m \u001b[32m0.0/2.0 MB\u001b[0m \u001b[31m?\u001b[0m eta \u001b[36m-:--:--\u001b[0m\r\u001b[2K     \u001b[91m━━━━━\u001b[0m\u001b[90m╺\u001b[0m\u001b[90m━━━━━━━━━━━━━━━━━━━━━━━━━━━━━━━━━━\u001b[0m \u001b[32m0.3/2.0 MB\u001b[0m \u001b[31m7.8 MB/s\u001b[0m eta \u001b[36m0:00:01\u001b[0m\r\u001b[2K     \u001b[91m━━━━━━━━━━━━━━━━━━━━━━━━━━━━━━━━━━━━━━━\u001b[0m\u001b[91m╸\u001b[0m \u001b[32m2.0/2.0 MB\u001b[0m \u001b[31m30.2 MB/s\u001b[0m eta \u001b[36m0:00:01\u001b[0m\r\u001b[2K     \u001b[91m━━━━━━━━━━━━━━━━━━━━━━━━━━━━━━━━━━━━━━━\u001b[0m\u001b[91m╸\u001b[0m \u001b[32m2.0/2.0 MB\u001b[0m \u001b[31m30.2 MB/s\u001b[0m eta \u001b[36m0:00:01\u001b[0m\r\u001b[2K     \u001b[90m━━━━━━━━━━━━━━━━━━━━━━━━━━━━━━━━━━━━━━━━\u001b[0m \u001b[32m2.0/2.0 MB\u001b[0m \u001b[31m14.8 MB/s\u001b[0m eta \u001b[36m0:00:00\u001b[0m\n",
            "\u001b[?25h  Preparing metadata (setup.py) ... \u001b[?25l\u001b[?25hdone\n",
            "\u001b[2K     \u001b[90m━━━━━━━━━━━━━━━━━━━━━━━━━━━━━━━━━━━━━━\u001b[0m \u001b[32m184.3/184.3 kB\u001b[0m \u001b[31m20.1 MB/s\u001b[0m eta \u001b[36m0:00:00\u001b[0m\n",
            "\u001b[2K     \u001b[90m━━━━━━━━━━━━━━━━━━━━━━━━━━━━━━━━━━━━━━\u001b[0m \u001b[32m203.3/203.3 kB\u001b[0m \u001b[31m22.0 MB/s\u001b[0m eta \u001b[36m0:00:00\u001b[0m\n",
            "\u001b[2K     \u001b[90m━━━━━━━━━━━━━━━━━━━━━━━━━━━━━━━━━━━━━━━━\u001b[0m \u001b[32m62.7/62.7 kB\u001b[0m \u001b[31m6.8 MB/s\u001b[0m eta \u001b[36m0:00:00\u001b[0m\n",
            "\u001b[?25h  Building wheel for pathtools (setup.py) ... \u001b[?25l\u001b[?25hdone\n"
          ]
        }
      ],
      "source": [
        "!pip install wandb -qU"
      ]
    },
    {
      "cell_type": "code",
      "execution_count": null,
      "metadata": {
        "colab": {
          "base_uri": "https://localhost:8080/",
          "height": 121
        },
        "id": "Cks7t6Sx8dmU",
        "outputId": "8f52932e-343e-4c2b-ad6b-ca82747c4662"
      },
      "outputs": [
        {
          "output_type": "display_data",
          "data": {
            "text/plain": [
              "<IPython.core.display.Javascript object>"
            ],
            "application/javascript": [
              "\n",
              "        window._wandbApiKey = new Promise((resolve, reject) => {\n",
              "            function loadScript(url) {\n",
              "            return new Promise(function(resolve, reject) {\n",
              "                let newScript = document.createElement(\"script\");\n",
              "                newScript.onerror = reject;\n",
              "                newScript.onload = resolve;\n",
              "                document.body.appendChild(newScript);\n",
              "                newScript.src = url;\n",
              "            });\n",
              "            }\n",
              "            loadScript(\"https://cdn.jsdelivr.net/npm/postmate/build/postmate.min.js\").then(() => {\n",
              "            const iframe = document.createElement('iframe')\n",
              "            iframe.style.cssText = \"width:0;height:0;border:none\"\n",
              "            document.body.appendChild(iframe)\n",
              "            const handshake = new Postmate({\n",
              "                container: iframe,\n",
              "                url: 'https://wandb.ai/authorize'\n",
              "            });\n",
              "            const timeout = setTimeout(() => reject(\"Couldn't auto authenticate\"), 5000)\n",
              "            handshake.then(function(child) {\n",
              "                child.on('authorize', data => {\n",
              "                    clearTimeout(timeout)\n",
              "                    resolve(data)\n",
              "                });\n",
              "            });\n",
              "            })\n",
              "        });\n",
              "    "
            ]
          },
          "metadata": {}
        },
        {
          "output_type": "stream",
          "name": "stderr",
          "text": [
            "\u001b[34m\u001b[1mwandb\u001b[0m: Logging into wandb.ai. (Learn how to deploy a W&B server locally: https://wandb.me/wandb-server)\n",
            "\u001b[34m\u001b[1mwandb\u001b[0m: You can find your API key in your browser here: https://wandb.ai/authorize\n",
            "wandb: Paste an API key from your profile and hit enter, or press ctrl+c to quit:"
          ]
        },
        {
          "name": "stdout",
          "output_type": "stream",
          "text": [
            " ··········\n"
          ]
        },
        {
          "output_type": "stream",
          "name": "stderr",
          "text": [
            "\u001b[34m\u001b[1mwandb\u001b[0m: Appending key for api.wandb.ai to your netrc file: /root/.netrc\n"
          ]
        },
        {
          "output_type": "execute_result",
          "data": {
            "text/plain": [
              "True"
            ]
          },
          "metadata": {},
          "execution_count": 13
        }
      ],
      "source": [
        "import wandb\n",
        "wandb.login()"
      ]
    },
    {
      "cell_type": "code",
      "execution_count": null,
      "metadata": {
        "colab": {
          "base_uri": "https://localhost:8080/"
        },
        "id": "SweNG3mouIcf",
        "outputId": "03ad8cef-4b6f-4474-d849-9b6a42ad480e"
      },
      "outputs": [
        {
          "output_type": "stream",
          "name": "stdout",
          "text": [
            "Create sweep with ID: iyy7a2ks\n",
            "Sweep URL: https://wandb.ai/atds_ml/densenet_161/sweeps/iyy7a2ks\n"
          ]
        }
      ],
      "source": [
        "sweep_config = {\n",
        "    'method': 'random',\n",
        "    'metric': {'goal': 'minimize', 'name': 'test_loss'},\n",
        "    'parameters': {\n",
        "        'optimizer': {'values': ['adam', 'sgd']},\n",
        "        'learning_rate': {'distribution': 'uniform', 'max': 0.001, 'min': 0.0001},\n",
        "        'epochs': {'value': 15}\n",
        "    }\n",
        "}\n",
        "\n",
        "sweep_id = wandb.sweep(sweep_config, entity=\"atds_ml\", project=\"densenet_161\")"
      ]
    },
    {
      "cell_type": "code",
      "execution_count": null,
      "metadata": {
        "id": "NHWWgC7xZWri"
      },
      "outputs": [],
      "source": [
        "import torch\n",
        "import torch.optim as optim\n",
        "from torch.optim import lr_scheduler\n",
        "import time\n",
        "import os\n",
        "import copy\n",
        "\n",
        "device = torch.device(\"cuda\" if torch.cuda.is_available() else \"cpu\")\n",
        "\n",
        "def train(config=None):\n",
        "\n",
        "    with wandb.init(config=config):\n",
        "        config = wandb.config\n",
        "\n",
        "        loader = build_dataset(data_dir)\n",
        "        network = build_network()\n",
        "        optimizer = build_optimizer(network, config.optimizer, config.learning_rate)\n",
        "\n",
        "        # Initialize variables for storing the best model\n",
        "        best_model_state_dict = copy.deepcopy(network.state_dict())\n",
        "        min_val_loss = float('inf')\n",
        "\n",
        "        for epoch in range(config.epochs):\n",
        "            val_loss, accuracy = train_epoch(network, loader, optimizer)\n",
        "            wandb.log({\"loss\": val_loss, \"epoch\": epoch, \"optimizer\": config.optimizer, \"learning_rate\": config.learning_rate, \"accuracy\": accuracy})\n",
        "\n",
        "            # Update the best model if the current validation loss is lower\n",
        "            if val_loss < min_val_loss:\n",
        "                min_val_loss = val_loss\n",
        "                best_model_state_dict = copy.deepcopy(network.state_dict())\n",
        "\n",
        "        # Save the best model's state_dict\n",
        "        torch.save(best_model_state_dict, 'best_model.pth')  "
      ]
    },
    {
      "cell_type": "code",
      "execution_count": null,
      "metadata": {
        "id": "Oaie52hABBkK"
      },
      "outputs": [],
      "source": [
        "import os\n",
        "import cv2\n",
        "import numpy as np\n",
        "from PIL import Image\n",
        "import torch\n",
        "from sklearn.model_selection import train_test_split\n",
        "import tensorflow as tf\n",
        "from tensorflow import keras\n",
        "from tensorflow.keras import layers\n",
        "from torch.utils.data import TensorDataset \n",
        "\n",
        "def build_dataset(data_dir):\n",
        "  image_data = []\n",
        "  image_labels = []\n",
        "\n",
        "  for i in range(num_classes):\n",
        "    path = data_dir + '/Train/' + str(i)\n",
        "    images = os.listdir(path)\n",
        "\n",
        "    for img in images:\n",
        "      try:\n",
        "        image = cv2.imread(path + '/' + img)\n",
        "        image_fromarray = Image.fromarray(image, 'RGB')\n",
        "        resize_image = image_fromarray.resize((IMG_HEIGHT, IMG_WIDTH))\n",
        "        image_data.append(np.array(resize_image))\n",
        "        image_labels.append(i)\n",
        "      except:\n",
        "        print(\"Error in \" + img)\n",
        "        \n",
        "  # Changing the list to numpy array\n",
        "  image_data = torch.FloatTensor(np.array(image_data))\n",
        "  image_data = np.transpose(image_data,(0,3,1,2))\n",
        "  image_labels = torch.FloatTensor(np.array(image_labels))\n",
        "\n",
        "  X_train, X_val, y_train, y_val = train_test_split(image_data, image_labels, test_size=0.2, random_state=42, shuffle=True)\n",
        "\n",
        "  X_train = X_train/255 \n",
        "  X_val = X_val/255\n",
        "\n",
        "  print(\"X_train.shape\", X_train.shape)\n",
        "  print(\"X_valid.shape\", X_val.shape)\n",
        "  print(\"y_train.shape\", y_train.shape)\n",
        "  print(\"y_valid.shape\", y_val.shape)\n",
        "\n",
        "  y_train = torch.FloatTensor(keras.utils.to_categorical(y_train, num_classes))\n",
        "  y_val = torch.FloatTensor(keras.utils.to_categorical(y_val, num_classes))\n",
        "\n",
        "  train_dataset = TensorDataset(X_train, y_train)\n",
        "  val_dataset = TensorDataset(X_val, y_val)\n",
        "\n",
        "  dataloaders = {'train': torch.utils.data.DataLoader(train_dataset, batch_size=64,shuffle=True, num_workers=2),\n",
        "               'val': torch.utils.data.DataLoader(val_dataset, batch_size=64,shuffle=True, num_workers=2)}\n",
        "\n",
        "  return dataloaders"
      ]
    },
    {
      "cell_type": "code",
      "execution_count": null,
      "metadata": {
        "id": "bBYKa9drC0RF"
      },
      "outputs": [],
      "source": [
        "import torchvision\n",
        "from torchvision import models\n",
        "import torch\n",
        "import torch.nn as nn\n",
        "\n",
        "def build_network():\n",
        "    model = models.densenet161(pretrained=True)\n",
        "    # freeze weights of all other layers\n",
        "    for param in model.features.parameters():\n",
        "        param.requires_grad = False\n",
        "    # Add new fully-connected layer with output dimension equal to number of classes  \n",
        "    num_features = model.classifier.in_features\n",
        "    model.classifier = nn.Linear(num_features, 43)\n",
        "    # initialize weights for new layer\n",
        "    nn.init.kaiming_normal_(model.classifier.weight, mode='fan_out', nonlinearity='relu')\n",
        "    nn.init.zeros_(model.classifier.bias)\n",
        "\n",
        "    return model.to(device)"
      ]
    },
    {
      "cell_type": "code",
      "execution_count": null,
      "metadata": {
        "id": "JOSIGfWIBGua"
      },
      "outputs": [],
      "source": [
        "def build_optimizer(model, optimizer, learning_rate):\n",
        "    if optimizer == \"sgd\":\n",
        "        optimizer = optim.SGD(model.parameters(),\n",
        "                              lr=learning_rate, momentum=0.9)\n",
        "    elif optimizer == \"adam\":\n",
        "        optimizer = optim.Adam(model.parameters(),\n",
        "                               lr=learning_rate)\n",
        "    return optimizer"
      ]
    },
    {
      "cell_type": "code",
      "execution_count": null,
      "metadata": {
        "id": "2DKGeTg8BIZo"
      },
      "outputs": [],
      "source": [
        "import torch.nn.functional as F\n",
        "\n",
        "def train_epoch(model, dataloaders, optimizer):\n",
        "    model.train()\n",
        "    running_loss = 0.0\n",
        "    total_samples = 0\n",
        "\n",
        "    for inputs, labels in dataloaders['train']:\n",
        "        inputs = inputs.to(device)\n",
        "        labels = labels.to(device)\n",
        "\n",
        "        optimizer.zero_grad()\n",
        "\n",
        "        # Forward pass\n",
        "        outputs = model(inputs)\n",
        "        loss = F.cross_entropy(outputs, torch.max(labels, 1)[1])\n",
        "\n",
        "        # Backward pass\n",
        "        loss.backward()\n",
        "        optimizer.step()\n",
        "\n",
        "        running_loss += loss.item() * inputs.size(0)\n",
        "        total_samples += inputs.size(0)\n",
        "\n",
        "    val_loss = evaluate(model, dataloaders['val'])\n",
        "\n",
        "    return val_loss\n",
        "\n",
        "def evaluate(model, dataloader):\n",
        "    model.eval()\n",
        "    running_loss = 0.0\n",
        "    total_samples = 0\n",
        "    correct = 0\n",
        "    total = 0\n",
        "\n",
        "    with torch.no_grad():\n",
        "        for inputs, labels in dataloader:\n",
        "            inputs = inputs.to(device)\n",
        "            labels = labels.to(device)\n",
        "\n",
        "            # Forward pass\n",
        "            outputs = model(inputs)\n",
        "            loss = F.cross_entropy(outputs, torch.max(labels, 1)[1])\n",
        "\n",
        "            running_loss += loss.item() * inputs.size(0)\n",
        "            total_samples += inputs.size(0)\n",
        "            _, predicted = torch.max(outputs.data, 1)\n",
        "            total += labels.size(0)\n",
        "            correct += torch.sum(predicted == torch.max(labels.data,1).indices)\n",
        "\n",
        "    # Calculate accuracy and loss\n",
        "    accuracy = 100 * correct / total\n",
        "    avg_loss = running_loss / total_samples\n",
        "\n",
        "    return avg_loss, accuracy"
      ]
    },
    {
      "cell_type": "markdown",
      "metadata": {
        "id": "kSJKlI1OoxQg"
      },
      "source": [
        "###**Testing different optimizers and learning rates**"
      ]
    },
    {
      "cell_type": "code",
      "execution_count": null,
      "metadata": {
        "colab": {
          "base_uri": "https://localhost:8080/",
          "height": 1000,
          "referenced_widgets": [
            "d423285d78fb482ea62a53658d049983",
            "7592a7283796460fb5a521bd145176e6",
            "fcbca39e9bb242bcbab49f0585242f64",
            "ea4eaccfd3e24aa38fc1d7599827790c",
            "2e6dc59710cd4fb784780574af8fd345",
            "82b590d438c844a9a8cd6ab0c710faec",
            "63afc588785a45caa373c6f6436b31a8",
            "2bd4c95f7dd7482e8892b42c1f15e9f1",
            "686e2aebece34e90a7817a170dbd528a",
            "9d1f050886e34d0594bc5d532d6b1a25",
            "1b79fb6a4bd94b8fbe02781d1a85dd56",
            "a295a0462b3942aa94f030dfd86e47e1",
            "53629b221c9c43e4b2d316b68998a5c8",
            "d6d6ac9afc404395acfc8e6189396932",
            "8fdc5fc0b3014a839c5dce04ec2a5871",
            "fffdc9f6d1af4ef58b755351d58fb758",
            "69aa5d75bfa746309e4c118c0248d6ba",
            "ed781879c7c14c7891d6f92479a0ec17",
            "243afa7791b441488d9a0c697781910f",
            "cd78c8569ff84833a9328d93b1ce490a",
            "b76d1baa1d6f4b85a4398a2add7f97cc",
            "df7dbf61c2b1402f830f314e5c18d086",
            "fd550fa915d346f6ac1a609401efd745",
            "8e7997529b5c4b4f86afc473a620b37a",
            "8a13cc968b16426cacffab6ed3bc8f90",
            "e1d14d98eb294f239c5f50e60e40a1c0",
            "442713e63d654715a6caf85d86e6cafa",
            "f99c9906183f4d9bb8aa95741a03e607",
            "5be7540644ce44ffa0e0f05d68657607",
            "64044651c7f54d6fb7f0f3090a34d4e9",
            "90f5983f95314f7ab0b841baa82e1839",
            "6a46c9e83c7e4193a6e6562fdf4cb858",
            "53ad994a030b41af98760b03c2dfbea9",
            "10795098c5cf48bea4854df6ea788192",
            "6df4708752e74e76b2d790371a4530a7",
            "930a08140bbd4332a1a40c69025c0398",
            "bedf09d4752645f69aa2dbaece43ba5a",
            "68c4fbdb6c8a4c9e93f954d6288158bd",
            "5bde5957f4c54924bd11fe3704058333",
            "b4778f9601394d8585491ff0613acc69",
            "512966f7b7504455aba5436702b549af",
            "1c526b5188bc45bd8137a3d7c64363d5",
            "27878ae5b715410fbdea76f1927bba7c",
            "37c547da0b57446a98a49fe875fef653",
            "8e51ffc0ec314c359eaef9dc72db7701",
            "cbcb6e8a20e64e7f9b1e3feb53a5b9cf",
            "b8f9156828534a92b3b4bc7b8000c39e",
            "0d86dc0c4b07404aa110b0f275286882",
            "f8be7f26e1df49ab8f3aa48e967afea9",
            "55301da6e4de494b98bc99b95000ef4c",
            "8dbf72ea51294ebcb33f3706200f6956",
            "3a7e496148574028841f685104284368",
            "d490c0ad1f6b4d8b8e53cef64576c3eb",
            "68e9cf96b81145e18aaccd21e41a01d1",
            "604702189a134bc8b23dc7c1e5cc357a",
            "d96a76789a124bf196fc0aa54f7b647e",
            "5cc35703098c42a7930db0cf2c5e873b",
            "1ee3fcfdfc874e1ebc5e8b5c3270d9c4",
            "8f64dc5ca78e4e80a3b11587889b5ae6",
            "cc694b61e72e40c89e50c9596f033427",
            "1d660c95d2374f0e88dc414a713c5738",
            "02a92fa92f1e4323a4acb4e81c75bcea",
            "2237c60b713a4fc2a9e12bb2cadb6f1a",
            "917f70994717495eab2650efb3092bcb",
            "02e76db8904a4aa6aa8425a9d836a05a",
            "27111d0acd2a48d08a310a1bcba13692",
            "08317a5da6aa47fbb290df26b14df2e0",
            "b9b5722fa341443a9407be30138eac90",
            "658cb020271b4a78b06135fdd9420152",
            "5db5c6f82ee3405e8c20f99b06ce8ecc",
            "984e2b17424e4555916e4a0538fc670a",
            "1f2394516c1e461f81874f4903bcfd96",
            "c1d56c19a2724eecb3d7dda6719c2561",
            "f0ae250159754752aecaa04906b6cdb7",
            "a8939e5ccc5846d29610069a30cfdd02",
            "121faeaeb4ec446e8ebffd4cce3aab6a",
            "159363786b5242899ecd44fb662f2775",
            "8b32b88d088b4cd09d006770e85bd06e",
            "e36aa12d684d48f8b5d1c5639ad7d877",
            "089b7c103b3b4ae9bf5746039949dc37",
            "fba2f355e5514db7bcf31dfcdcd0574e",
            "2e6150e366fb4dfd8d321e3d5c7f07dd",
            "7094e45c5ea440d78760503498ce6d84",
            "ac4e55e65b3b4bdc9e2b0e28960b60a5",
            "796491931f1a487cad2ea7c557b44f61",
            "8f199aa30c0d4d7c944d9e0bcc1b7dc6",
            "67a661d8df4449a8b6e124665b5609a4",
            "66adfd357159479d9e9ae119c5b48e46",
            "0bf4fbc95a7f43af88b1fa3deb8135d8",
            "1d4a9261953f49bda3ddf165fced9de4",
            "815e85752db64d18bda0dce6d5027b8b",
            "20df84dd15a5493e83b79cedc9ab8210",
            "9dab8ed5615d4eb8963e08e6d3ab4189",
            "b003e1fa57ea40b49997d2871ddba6bc",
            "73b22136ef384d37aa0600a7a64668b6",
            "b59feb5b88fc47d5859948a0485f5560",
            "793ad9d4b72e40cd9417c352b69b76e5",
            "b5c609ff0cdf49fb92dd9345bc3a1c30",
            "211fece64dee4f3e91867c9fac49fcbe",
            "7cfe473af56347e796452f417a9189a7",
            "3fe7bc0520ba491d9f561487f943eacb",
            "b4c42c50714949739349adf2d7547bc6",
            "ba9441f9f9b14f4c9aa8badac32d54be",
            "4a8677ae534442e19e36a524613c986d",
            "9a48054136ec4f07b3585e9728b3dcec",
            "a8721652ca214e6b84c63cf88c399120",
            "c6297e26da9d4fcaaecee896ae1272f5",
            "1b8b11dd44b5454c8d911532c5361ad3",
            "1a5ada133a334396b559c8d2dd6499b8",
            "2d62c136d31d4184bec7dd0cda643ccf",
            "6e765841247c4746877efc105e7f1d7e",
            "6db7893a41a149fa93e8abd2c9e13452",
            "ea8ef2f215d64c928fc5c352b438998f",
            "4db99bd859d74b7fb51eea05e9a6bd45",
            "17d4442761ff435b8313851e94f512f9",
            "1357d5360d1342508136e68de6c12926",
            "75969c7643d942df8765ca8b0b1aec5c",
            "709f8a4677954f63b3205f25647a2be7",
            "62022454944f406696cbc810044929fe",
            "8827d7090f204b98bcfa6f15e47c8c3a",
            "789e2d732b1a4c6b8bfed683b2294c83",
            "db2460423ffe48faa90ff02a835c5002",
            "384652d01009439cb55d4700a3adb3ae",
            "9bc005a141654514a71806275b7548e1",
            "38b2d0ae66dc447ab5a4885b1e7b7c13",
            "e7ec267ca2a94fb4895f325b7f112c12",
            "9815f1b2dcfd46fc8d896ad7453e2b25",
            "19b2b103301e40679a831582d44c69d6",
            "22eb56445f134601a08947090c41277a",
            "97bf12b84c554b2fa17d15acfbd99fe9",
            "6418195c8e6f4173853dc5bab751461a",
            "38820e0b7f5f4b2694a75a48b1503bdf",
            "444e2bee87b7420b8a83918aae5ffb81",
            "b85112e8247e43ac83fd5a48e96a7e38",
            "a5cb4aba720247dcb56a88973f542d6d",
            "a725c7cf66e54f4e90fa4295bf7ba4b5"
          ]
        },
        "id": "a1NFvzuOreoZ",
        "outputId": "0f79c899-a80c-4195-e07e-1ceeb082c981"
      },
      "outputs": [
        {
          "output_type": "stream",
          "name": "stderr",
          "text": [
            "\u001b[34m\u001b[1mwandb\u001b[0m: Agent Starting Run: 5a7xh9zu with config:\n",
            "\u001b[34m\u001b[1mwandb\u001b[0m: \tepochs: 15\n",
            "\u001b[34m\u001b[1mwandb\u001b[0m: \tlearning_rate: 0.0002677164134584138\n",
            "\u001b[34m\u001b[1mwandb\u001b[0m: \toptimizer: adam\n",
            "\u001b[34m\u001b[1mwandb\u001b[0m: Currently logged in as: \u001b[33msk7905\u001b[0m (\u001b[33matds_ml\u001b[0m). Use \u001b[1m`wandb login --relogin`\u001b[0m to force relogin\n"
          ]
        },
        {
          "output_type": "display_data",
          "data": {
            "text/plain": [
              "<IPython.core.display.HTML object>"
            ],
            "text/html": [
              "Tracking run with wandb version 0.15.2"
            ]
          },
          "metadata": {}
        },
        {
          "output_type": "display_data",
          "data": {
            "text/plain": [
              "<IPython.core.display.HTML object>"
            ],
            "text/html": [
              "Run data is saved locally in <code>/content/wandb/run-20230508_164501-5a7xh9zu</code>"
            ]
          },
          "metadata": {}
        },
        {
          "output_type": "display_data",
          "data": {
            "text/plain": [
              "<IPython.core.display.HTML object>"
            ],
            "text/html": [
              "Syncing run <strong><a href='https://wandb.ai/atds_ml/densenet_161/runs/5a7xh9zu' target=\"_blank\">rich-sweep-1</a></strong> to <a href='https://wandb.ai/atds_ml/densenet_161' target=\"_blank\">Weights & Biases</a> (<a href='https://wandb.me/run' target=\"_blank\">docs</a>)<br/>Sweep page: <a href='https://wandb.ai/atds_ml/densenet_161/sweeps/iyy7a2ks' target=\"_blank\">https://wandb.ai/atds_ml/densenet_161/sweeps/iyy7a2ks</a>"
            ]
          },
          "metadata": {}
        },
        {
          "output_type": "display_data",
          "data": {
            "text/plain": [
              "<IPython.core.display.HTML object>"
            ],
            "text/html": [
              " View project at <a href='https://wandb.ai/atds_ml/densenet_161' target=\"_blank\">https://wandb.ai/atds_ml/densenet_161</a>"
            ]
          },
          "metadata": {}
        },
        {
          "output_type": "display_data",
          "data": {
            "text/plain": [
              "<IPython.core.display.HTML object>"
            ],
            "text/html": [
              " View sweep at <a href='https://wandb.ai/atds_ml/densenet_161/sweeps/iyy7a2ks' target=\"_blank\">https://wandb.ai/atds_ml/densenet_161/sweeps/iyy7a2ks</a>"
            ]
          },
          "metadata": {}
        },
        {
          "output_type": "display_data",
          "data": {
            "text/plain": [
              "<IPython.core.display.HTML object>"
            ],
            "text/html": [
              " View run at <a href='https://wandb.ai/atds_ml/densenet_161/runs/5a7xh9zu' target=\"_blank\">https://wandb.ai/atds_ml/densenet_161/runs/5a7xh9zu</a>"
            ]
          },
          "metadata": {}
        },
        {
          "output_type": "stream",
          "name": "stdout",
          "text": [
            "X_train.shape torch.Size([31367, 3, 30, 30])\n",
            "X_valid.shape torch.Size([7842, 3, 30, 30])\n",
            "y_train.shape torch.Size([31367])\n",
            "y_valid.shape torch.Size([7842])\n"
          ]
        },
        {
          "output_type": "stream",
          "name": "stderr",
          "text": [
            "/usr/local/lib/python3.10/dist-packages/torchvision/models/_utils.py:208: UserWarning: The parameter 'pretrained' is deprecated since 0.13 and may be removed in the future, please use 'weights' instead.\n",
            "  warnings.warn(\n",
            "/usr/local/lib/python3.10/dist-packages/torchvision/models/_utils.py:223: UserWarning: Arguments other than a weight enum or `None` for 'weights' are deprecated since 0.13 and may be removed in the future. The current behavior is equivalent to passing `weights=DenseNet161_Weights.IMAGENET1K_V1`. You can also use `weights=DenseNet161_Weights.DEFAULT` to get the most up-to-date weights.\n",
            "  warnings.warn(msg)\n",
            "Downloading: \"https://download.pytorch.org/models/densenet161-8d451a50.pth\" to /root/.cache/torch/hub/checkpoints/densenet161-8d451a50.pth\n",
            "100%|██████████| 110M/110M [00:01<00:00, 74.2MB/s]\n"
          ]
        },
        {
          "output_type": "display_data",
          "data": {
            "text/plain": [
              "<IPython.core.display.HTML object>"
            ],
            "text/html": [
              "Waiting for W&B process to finish... <strong style=\"color:green\">(success).</strong>"
            ]
          },
          "metadata": {}
        },
        {
          "output_type": "display_data",
          "data": {
            "text/plain": [
              "<IPython.core.display.HTML object>"
            ],
            "text/html": [
              "<style>\n",
              "    table.wandb td:nth-child(1) { padding: 0 10px; text-align: left ; width: auto;} td:nth-child(2) {text-align: left ; width: 100%}\n",
              "    .wandb-row { display: flex; flex-direction: row; flex-wrap: wrap; justify-content: flex-start; width: 100% }\n",
              "    .wandb-col { display: flex; flex-direction: column; flex-basis: 100%; flex: 1; padding: 10px; }\n",
              "    </style>\n",
              "<div class=\"wandb-row\"><div class=\"wandb-col\"><h3>Run history:</h3><br/><table class=\"wandb\"><tr><td>accuracy</td><td>▁▂▃▄▄▅▅▆▆▇▇▇███</td></tr><tr><td>epoch</td><td>▁▁▂▃▃▃▄▅▅▅▆▇▇▇█</td></tr><tr><td>learning_rate</td><td>▁▁▁▁▁▁▁▁▁▁▁▁▁▁▁</td></tr><tr><td>loss</td><td>█▇▅▅▄▃▂▃▃▂▁▂▂▁▁</td></tr></table><br/></div><div class=\"wandb-col\"><h3>Run summary:</h3><br/><table class=\"wandb\"><tr><td>accuracy</td><td>54.02958</td></tr><tr><td>epoch</td><td>14</td></tr><tr><td>learning_rate</td><td>0.00027</td></tr><tr><td>loss</td><td>2.29983</td></tr><tr><td>optimizer</td><td>adam</td></tr></table><br/></div></div>"
            ]
          },
          "metadata": {}
        },
        {
          "output_type": "display_data",
          "data": {
            "text/plain": [
              "<IPython.core.display.HTML object>"
            ],
            "text/html": [
              " View run <strong style=\"color:#cdcd00\">rich-sweep-1</strong> at: <a href='https://wandb.ai/atds_ml/densenet_161/runs/5a7xh9zu' target=\"_blank\">https://wandb.ai/atds_ml/densenet_161/runs/5a7xh9zu</a><br/>Synced 5 W&B file(s), 0 media file(s), 0 artifact file(s) and 0 other file(s)"
            ]
          },
          "metadata": {}
        },
        {
          "output_type": "display_data",
          "data": {
            "text/plain": [
              "<IPython.core.display.HTML object>"
            ],
            "text/html": [
              "Find logs at: <code>./wandb/run-20230508_164501-5a7xh9zu/logs</code>"
            ]
          },
          "metadata": {}
        },
        {
          "output_type": "stream",
          "name": "stderr",
          "text": [
            "\u001b[34m\u001b[1mwandb\u001b[0m: Agent Starting Run: j2ory4op with config:\n",
            "\u001b[34m\u001b[1mwandb\u001b[0m: \tepochs: 15\n",
            "\u001b[34m\u001b[1mwandb\u001b[0m: \tlearning_rate: 0.0006047688538001807\n",
            "\u001b[34m\u001b[1mwandb\u001b[0m: \toptimizer: adam\n"
          ]
        },
        {
          "output_type": "display_data",
          "data": {
            "text/plain": [
              "<IPython.core.display.HTML object>"
            ],
            "text/html": [
              "Tracking run with wandb version 0.15.2"
            ]
          },
          "metadata": {}
        },
        {
          "output_type": "display_data",
          "data": {
            "text/plain": [
              "<IPython.core.display.HTML object>"
            ],
            "text/html": [
              "Run data is saved locally in <code>/content/wandb/run-20230508_165052-j2ory4op</code>"
            ]
          },
          "metadata": {}
        },
        {
          "output_type": "display_data",
          "data": {
            "text/plain": [
              "<IPython.core.display.HTML object>"
            ],
            "text/html": [
              "Syncing run <strong><a href='https://wandb.ai/atds_ml/densenet_161/runs/j2ory4op' target=\"_blank\">soft-sweep-2</a></strong> to <a href='https://wandb.ai/atds_ml/densenet_161' target=\"_blank\">Weights & Biases</a> (<a href='https://wandb.me/run' target=\"_blank\">docs</a>)<br/>Sweep page: <a href='https://wandb.ai/atds_ml/densenet_161/sweeps/iyy7a2ks' target=\"_blank\">https://wandb.ai/atds_ml/densenet_161/sweeps/iyy7a2ks</a>"
            ]
          },
          "metadata": {}
        },
        {
          "output_type": "display_data",
          "data": {
            "text/plain": [
              "<IPython.core.display.HTML object>"
            ],
            "text/html": [
              " View project at <a href='https://wandb.ai/atds_ml/densenet_161' target=\"_blank\">https://wandb.ai/atds_ml/densenet_161</a>"
            ]
          },
          "metadata": {}
        },
        {
          "output_type": "display_data",
          "data": {
            "text/plain": [
              "<IPython.core.display.HTML object>"
            ],
            "text/html": [
              " View sweep at <a href='https://wandb.ai/atds_ml/densenet_161/sweeps/iyy7a2ks' target=\"_blank\">https://wandb.ai/atds_ml/densenet_161/sweeps/iyy7a2ks</a>"
            ]
          },
          "metadata": {}
        },
        {
          "output_type": "display_data",
          "data": {
            "text/plain": [
              "<IPython.core.display.HTML object>"
            ],
            "text/html": [
              " View run at <a href='https://wandb.ai/atds_ml/densenet_161/runs/j2ory4op' target=\"_blank\">https://wandb.ai/atds_ml/densenet_161/runs/j2ory4op</a>"
            ]
          },
          "metadata": {}
        },
        {
          "output_type": "stream",
          "name": "stdout",
          "text": [
            "X_train.shape torch.Size([31367, 3, 30, 30])\n",
            "X_valid.shape torch.Size([7842, 3, 30, 30])\n",
            "y_train.shape torch.Size([31367])\n",
            "y_valid.shape torch.Size([7842])\n"
          ]
        },
        {
          "output_type": "display_data",
          "data": {
            "text/plain": [
              "<IPython.core.display.HTML object>"
            ],
            "text/html": [
              "Waiting for W&B process to finish... <strong style=\"color:green\">(success).</strong>"
            ]
          },
          "metadata": {}
        },
        {
          "output_type": "display_data",
          "data": {
            "text/plain": [
              "VBox(children=(Label(value='0.001 MB of 0.001 MB uploaded (0.000 MB deduped)\\r'), FloatProgress(value=1.0, max…"
            ],
            "application/vnd.jupyter.widget-view+json": {
              "version_major": 2,
              "version_minor": 0,
              "model_id": "d423285d78fb482ea62a53658d049983"
            }
          },
          "metadata": {}
        },
        {
          "output_type": "display_data",
          "data": {
            "text/plain": [
              "<IPython.core.display.HTML object>"
            ],
            "text/html": [
              "<style>\n",
              "    table.wandb td:nth-child(1) { padding: 0 10px; text-align: left ; width: auto;} td:nth-child(2) {text-align: left ; width: 100%}\n",
              "    .wandb-row { display: flex; flex-direction: row; flex-wrap: wrap; justify-content: flex-start; width: 100% }\n",
              "    .wandb-col { display: flex; flex-direction: column; flex-basis: 100%; flex: 1; padding: 10px; }\n",
              "    </style>\n",
              "<div class=\"wandb-row\"><div class=\"wandb-col\"><h3>Run history:</h3><br/><table class=\"wandb\"><tr><td>accuracy</td><td>▁▃▄▅▅▆▆▇▇▇▇▇███</td></tr><tr><td>epoch</td><td>▁▁▂▃▃▃▄▅▅▅▆▇▇▇█</td></tr><tr><td>learning_rate</td><td>▁▁▁▁▁▁▁▁▁▁▁▁▁▁▁</td></tr><tr><td>loss</td><td>█▆▅▅▄▄▂▁▂▁▂▂▃▁▂</td></tr></table><br/></div><div class=\"wandb-col\"><h3>Run summary:</h3><br/><table class=\"wandb\"><tr><td>accuracy</td><td>65.58276</td></tr><tr><td>epoch</td><td>14</td></tr><tr><td>learning_rate</td><td>0.0006</td></tr><tr><td>loss</td><td>2.25109</td></tr><tr><td>optimizer</td><td>adam</td></tr></table><br/></div></div>"
            ]
          },
          "metadata": {}
        },
        {
          "output_type": "display_data",
          "data": {
            "text/plain": [
              "<IPython.core.display.HTML object>"
            ],
            "text/html": [
              " View run <strong style=\"color:#cdcd00\">soft-sweep-2</strong> at: <a href='https://wandb.ai/atds_ml/densenet_161/runs/j2ory4op' target=\"_blank\">https://wandb.ai/atds_ml/densenet_161/runs/j2ory4op</a><br/>Synced 5 W&B file(s), 0 media file(s), 0 artifact file(s) and 0 other file(s)"
            ]
          },
          "metadata": {}
        },
        {
          "output_type": "display_data",
          "data": {
            "text/plain": [
              "<IPython.core.display.HTML object>"
            ],
            "text/html": [
              "Find logs at: <code>./wandb/run-20230508_165052-j2ory4op/logs</code>"
            ]
          },
          "metadata": {}
        },
        {
          "output_type": "stream",
          "name": "stderr",
          "text": [
            "\u001b[34m\u001b[1mwandb\u001b[0m: Agent Starting Run: yuijdmmt with config:\n",
            "\u001b[34m\u001b[1mwandb\u001b[0m: \tepochs: 15\n",
            "\u001b[34m\u001b[1mwandb\u001b[0m: \tlearning_rate: 0.0009128537545416\n",
            "\u001b[34m\u001b[1mwandb\u001b[0m: \toptimizer: adam\n"
          ]
        },
        {
          "output_type": "display_data",
          "data": {
            "text/plain": [
              "<IPython.core.display.HTML object>"
            ],
            "text/html": [
              "Tracking run with wandb version 0.15.2"
            ]
          },
          "metadata": {}
        },
        {
          "output_type": "display_data",
          "data": {
            "text/plain": [
              "<IPython.core.display.HTML object>"
            ],
            "text/html": [
              "Run data is saved locally in <code>/content/wandb/run-20230508_165620-yuijdmmt</code>"
            ]
          },
          "metadata": {}
        },
        {
          "output_type": "display_data",
          "data": {
            "text/plain": [
              "<IPython.core.display.HTML object>"
            ],
            "text/html": [
              "Syncing run <strong><a href='https://wandb.ai/atds_ml/densenet_161/runs/yuijdmmt' target=\"_blank\">confused-sweep-3</a></strong> to <a href='https://wandb.ai/atds_ml/densenet_161' target=\"_blank\">Weights & Biases</a> (<a href='https://wandb.me/run' target=\"_blank\">docs</a>)<br/>Sweep page: <a href='https://wandb.ai/atds_ml/densenet_161/sweeps/iyy7a2ks' target=\"_blank\">https://wandb.ai/atds_ml/densenet_161/sweeps/iyy7a2ks</a>"
            ]
          },
          "metadata": {}
        },
        {
          "output_type": "display_data",
          "data": {
            "text/plain": [
              "<IPython.core.display.HTML object>"
            ],
            "text/html": [
              " View project at <a href='https://wandb.ai/atds_ml/densenet_161' target=\"_blank\">https://wandb.ai/atds_ml/densenet_161</a>"
            ]
          },
          "metadata": {}
        },
        {
          "output_type": "display_data",
          "data": {
            "text/plain": [
              "<IPython.core.display.HTML object>"
            ],
            "text/html": [
              " View sweep at <a href='https://wandb.ai/atds_ml/densenet_161/sweeps/iyy7a2ks' target=\"_blank\">https://wandb.ai/atds_ml/densenet_161/sweeps/iyy7a2ks</a>"
            ]
          },
          "metadata": {}
        },
        {
          "output_type": "display_data",
          "data": {
            "text/plain": [
              "<IPython.core.display.HTML object>"
            ],
            "text/html": [
              " View run at <a href='https://wandb.ai/atds_ml/densenet_161/runs/yuijdmmt' target=\"_blank\">https://wandb.ai/atds_ml/densenet_161/runs/yuijdmmt</a>"
            ]
          },
          "metadata": {}
        },
        {
          "output_type": "stream",
          "name": "stdout",
          "text": [
            "X_train.shape torch.Size([31367, 3, 30, 30])\n",
            "X_valid.shape torch.Size([7842, 3, 30, 30])\n",
            "y_train.shape torch.Size([31367])\n",
            "y_valid.shape torch.Size([7842])\n"
          ]
        },
        {
          "output_type": "display_data",
          "data": {
            "text/plain": [
              "<IPython.core.display.HTML object>"
            ],
            "text/html": [
              "Waiting for W&B process to finish... <strong style=\"color:green\">(success).</strong>"
            ]
          },
          "metadata": {}
        },
        {
          "output_type": "display_data",
          "data": {
            "text/plain": [
              "VBox(children=(Label(value='0.001 MB of 0.002 MB uploaded (0.000 MB deduped)\\r'), FloatProgress(value=0.570012…"
            ],
            "application/vnd.jupyter.widget-view+json": {
              "version_major": 2,
              "version_minor": 0,
              "model_id": "686e2aebece34e90a7817a170dbd528a"
            }
          },
          "metadata": {}
        },
        {
          "output_type": "display_data",
          "data": {
            "text/plain": [
              "<IPython.core.display.HTML object>"
            ],
            "text/html": [
              "<style>\n",
              "    table.wandb td:nth-child(1) { padding: 0 10px; text-align: left ; width: auto;} td:nth-child(2) {text-align: left ; width: 100%}\n",
              "    .wandb-row { display: flex; flex-direction: row; flex-wrap: wrap; justify-content: flex-start; width: 100% }\n",
              "    .wandb-col { display: flex; flex-direction: column; flex-basis: 100%; flex: 1; padding: 10px; }\n",
              "    </style>\n",
              "<div class=\"wandb-row\"><div class=\"wandb-col\"><h3>Run history:</h3><br/><table class=\"wandb\"><tr><td>accuracy</td><td>▁▃▄▅▆▆▆▇▇▇▇████</td></tr><tr><td>epoch</td><td>▁▁▂▃▃▃▄▅▅▅▆▇▇▇█</td></tr><tr><td>learning_rate</td><td>▁▁▁▁▁▁▁▁▁▁▁▁▁▁▁</td></tr><tr><td>loss</td><td>█▆▄▃▄▃▂▄▂▂▂▂▂▁▂</td></tr></table><br/></div><div class=\"wandb-col\"><h3>Run summary:</h3><br/><table class=\"wandb\"><tr><td>accuracy</td><td>70.30094</td></tr><tr><td>epoch</td><td>14</td></tr><tr><td>learning_rate</td><td>0.00091</td></tr><tr><td>loss</td><td>1.62379</td></tr><tr><td>optimizer</td><td>adam</td></tr></table><br/></div></div>"
            ]
          },
          "metadata": {}
        },
        {
          "output_type": "display_data",
          "data": {
            "text/plain": [
              "<IPython.core.display.HTML object>"
            ],
            "text/html": [
              " View run <strong style=\"color:#cdcd00\">confused-sweep-3</strong> at: <a href='https://wandb.ai/atds_ml/densenet_161/runs/yuijdmmt' target=\"_blank\">https://wandb.ai/atds_ml/densenet_161/runs/yuijdmmt</a><br/>Synced 5 W&B file(s), 0 media file(s), 0 artifact file(s) and 0 other file(s)"
            ]
          },
          "metadata": {}
        },
        {
          "output_type": "display_data",
          "data": {
            "text/plain": [
              "<IPython.core.display.HTML object>"
            ],
            "text/html": [
              "Find logs at: <code>./wandb/run-20230508_165620-yuijdmmt/logs</code>"
            ]
          },
          "metadata": {}
        },
        {
          "output_type": "stream",
          "name": "stderr",
          "text": [
            "\u001b[34m\u001b[1mwandb\u001b[0m: Agent Starting Run: f2x9lgyw with config:\n",
            "\u001b[34m\u001b[1mwandb\u001b[0m: \tepochs: 15\n",
            "\u001b[34m\u001b[1mwandb\u001b[0m: \tlearning_rate: 0.0004807288189842838\n",
            "\u001b[34m\u001b[1mwandb\u001b[0m: \toptimizer: sgd\n"
          ]
        },
        {
          "output_type": "display_data",
          "data": {
            "text/plain": [
              "<IPython.core.display.HTML object>"
            ],
            "text/html": [
              "Tracking run with wandb version 0.15.2"
            ]
          },
          "metadata": {}
        },
        {
          "output_type": "display_data",
          "data": {
            "text/plain": [
              "<IPython.core.display.HTML object>"
            ],
            "text/html": [
              "Run data is saved locally in <code>/content/wandb/run-20230508_170146-f2x9lgyw</code>"
            ]
          },
          "metadata": {}
        },
        {
          "output_type": "display_data",
          "data": {
            "text/plain": [
              "<IPython.core.display.HTML object>"
            ],
            "text/html": [
              "Syncing run <strong><a href='https://wandb.ai/atds_ml/densenet_161/runs/f2x9lgyw' target=\"_blank\">good-sweep-4</a></strong> to <a href='https://wandb.ai/atds_ml/densenet_161' target=\"_blank\">Weights & Biases</a> (<a href='https://wandb.me/run' target=\"_blank\">docs</a>)<br/>Sweep page: <a href='https://wandb.ai/atds_ml/densenet_161/sweeps/iyy7a2ks' target=\"_blank\">https://wandb.ai/atds_ml/densenet_161/sweeps/iyy7a2ks</a>"
            ]
          },
          "metadata": {}
        },
        {
          "output_type": "display_data",
          "data": {
            "text/plain": [
              "<IPython.core.display.HTML object>"
            ],
            "text/html": [
              " View project at <a href='https://wandb.ai/atds_ml/densenet_161' target=\"_blank\">https://wandb.ai/atds_ml/densenet_161</a>"
            ]
          },
          "metadata": {}
        },
        {
          "output_type": "display_data",
          "data": {
            "text/plain": [
              "<IPython.core.display.HTML object>"
            ],
            "text/html": [
              " View sweep at <a href='https://wandb.ai/atds_ml/densenet_161/sweeps/iyy7a2ks' target=\"_blank\">https://wandb.ai/atds_ml/densenet_161/sweeps/iyy7a2ks</a>"
            ]
          },
          "metadata": {}
        },
        {
          "output_type": "display_data",
          "data": {
            "text/plain": [
              "<IPython.core.display.HTML object>"
            ],
            "text/html": [
              " View run at <a href='https://wandb.ai/atds_ml/densenet_161/runs/f2x9lgyw' target=\"_blank\">https://wandb.ai/atds_ml/densenet_161/runs/f2x9lgyw</a>"
            ]
          },
          "metadata": {}
        },
        {
          "output_type": "stream",
          "name": "stdout",
          "text": [
            "X_train.shape torch.Size([31367, 3, 30, 30])\n",
            "X_valid.shape torch.Size([7842, 3, 30, 30])\n",
            "y_train.shape torch.Size([31367])\n",
            "y_valid.shape torch.Size([7842])\n"
          ]
        },
        {
          "output_type": "display_data",
          "data": {
            "text/plain": [
              "<IPython.core.display.HTML object>"
            ],
            "text/html": [
              "Waiting for W&B process to finish... <strong style=\"color:green\">(success).</strong>"
            ]
          },
          "metadata": {}
        },
        {
          "output_type": "display_data",
          "data": {
            "text/plain": [
              "VBox(children=(Label(value='0.001 MB of 0.002 MB uploaded (0.000 MB deduped)\\r'), FloatProgress(value=0.607661…"
            ],
            "application/vnd.jupyter.widget-view+json": {
              "version_major": 2,
              "version_minor": 0,
              "model_id": "69aa5d75bfa746309e4c118c0248d6ba"
            }
          },
          "metadata": {}
        },
        {
          "output_type": "display_data",
          "data": {
            "text/plain": [
              "<IPython.core.display.HTML object>"
            ],
            "text/html": [
              "<style>\n",
              "    table.wandb td:nth-child(1) { padding: 0 10px; text-align: left ; width: auto;} td:nth-child(2) {text-align: left ; width: 100%}\n",
              "    .wandb-row { display: flex; flex-direction: row; flex-wrap: wrap; justify-content: flex-start; width: 100% }\n",
              "    .wandb-col { display: flex; flex-direction: column; flex-basis: 100%; flex: 1; padding: 10px; }\n",
              "    </style>\n",
              "<div class=\"wandb-row\"><div class=\"wandb-col\"><h3>Run history:</h3><br/><table class=\"wandb\"><tr><td>accuracy</td><td>▁▂▃▄▄▅▅▆▆▆▇▇▇▇█</td></tr><tr><td>epoch</td><td>▁▁▂▃▃▃▄▅▅▅▆▇▇▇█</td></tr><tr><td>learning_rate</td><td>▁▁▁▁▁▁▁▁▁▁▁▁▁▁▁</td></tr><tr><td>loss</td><td>█▆▇▄▄▄▃▂▂▂▂▁▂▂▁</td></tr></table><br/></div><div class=\"wandb-col\"><h3>Run summary:</h3><br/><table class=\"wandb\"><tr><td>accuracy</td><td>38.76562</td></tr><tr><td>epoch</td><td>14</td></tr><tr><td>learning_rate</td><td>0.00048</td></tr><tr><td>loss</td><td>4.01207</td></tr><tr><td>optimizer</td><td>sgd</td></tr></table><br/></div></div>"
            ]
          },
          "metadata": {}
        },
        {
          "output_type": "display_data",
          "data": {
            "text/plain": [
              "<IPython.core.display.HTML object>"
            ],
            "text/html": [
              " View run <strong style=\"color:#cdcd00\">good-sweep-4</strong> at: <a href='https://wandb.ai/atds_ml/densenet_161/runs/f2x9lgyw' target=\"_blank\">https://wandb.ai/atds_ml/densenet_161/runs/f2x9lgyw</a><br/>Synced 5 W&B file(s), 0 media file(s), 0 artifact file(s) and 0 other file(s)"
            ]
          },
          "metadata": {}
        },
        {
          "output_type": "display_data",
          "data": {
            "text/plain": [
              "<IPython.core.display.HTML object>"
            ],
            "text/html": [
              "Find logs at: <code>./wandb/run-20230508_170146-f2x9lgyw/logs</code>"
            ]
          },
          "metadata": {}
        },
        {
          "output_type": "stream",
          "name": "stderr",
          "text": [
            "\u001b[34m\u001b[1mwandb\u001b[0m: Agent Starting Run: sm8wkzhf with config:\n",
            "\u001b[34m\u001b[1mwandb\u001b[0m: \tepochs: 15\n",
            "\u001b[34m\u001b[1mwandb\u001b[0m: \tlearning_rate: 0.0005862225180308266\n",
            "\u001b[34m\u001b[1mwandb\u001b[0m: \toptimizer: adam\n"
          ]
        },
        {
          "output_type": "display_data",
          "data": {
            "text/plain": [
              "<IPython.core.display.HTML object>"
            ],
            "text/html": [
              "Tracking run with wandb version 0.15.2"
            ]
          },
          "metadata": {}
        },
        {
          "output_type": "display_data",
          "data": {
            "text/plain": [
              "<IPython.core.display.HTML object>"
            ],
            "text/html": [
              "Run data is saved locally in <code>/content/wandb/run-20230508_170712-sm8wkzhf</code>"
            ]
          },
          "metadata": {}
        },
        {
          "output_type": "display_data",
          "data": {
            "text/plain": [
              "<IPython.core.display.HTML object>"
            ],
            "text/html": [
              "Syncing run <strong><a href='https://wandb.ai/atds_ml/densenet_161/runs/sm8wkzhf' target=\"_blank\">bright-sweep-5</a></strong> to <a href='https://wandb.ai/atds_ml/densenet_161' target=\"_blank\">Weights & Biases</a> (<a href='https://wandb.me/run' target=\"_blank\">docs</a>)<br/>Sweep page: <a href='https://wandb.ai/atds_ml/densenet_161/sweeps/iyy7a2ks' target=\"_blank\">https://wandb.ai/atds_ml/densenet_161/sweeps/iyy7a2ks</a>"
            ]
          },
          "metadata": {}
        },
        {
          "output_type": "display_data",
          "data": {
            "text/plain": [
              "<IPython.core.display.HTML object>"
            ],
            "text/html": [
              " View project at <a href='https://wandb.ai/atds_ml/densenet_161' target=\"_blank\">https://wandb.ai/atds_ml/densenet_161</a>"
            ]
          },
          "metadata": {}
        },
        {
          "output_type": "display_data",
          "data": {
            "text/plain": [
              "<IPython.core.display.HTML object>"
            ],
            "text/html": [
              " View sweep at <a href='https://wandb.ai/atds_ml/densenet_161/sweeps/iyy7a2ks' target=\"_blank\">https://wandb.ai/atds_ml/densenet_161/sweeps/iyy7a2ks</a>"
            ]
          },
          "metadata": {}
        },
        {
          "output_type": "display_data",
          "data": {
            "text/plain": [
              "<IPython.core.display.HTML object>"
            ],
            "text/html": [
              " View run at <a href='https://wandb.ai/atds_ml/densenet_161/runs/sm8wkzhf' target=\"_blank\">https://wandb.ai/atds_ml/densenet_161/runs/sm8wkzhf</a>"
            ]
          },
          "metadata": {}
        },
        {
          "output_type": "stream",
          "name": "stdout",
          "text": [
            "X_train.shape torch.Size([31367, 3, 30, 30])\n",
            "X_valid.shape torch.Size([7842, 3, 30, 30])\n",
            "y_train.shape torch.Size([31367])\n",
            "y_valid.shape torch.Size([7842])\n"
          ]
        },
        {
          "output_type": "display_data",
          "data": {
            "text/plain": [
              "<IPython.core.display.HTML object>"
            ],
            "text/html": [
              "Waiting for W&B process to finish... <strong style=\"color:green\">(success).</strong>"
            ]
          },
          "metadata": {}
        },
        {
          "output_type": "display_data",
          "data": {
            "text/plain": [
              "VBox(children=(Label(value='0.001 MB of 0.010 MB uploaded (0.000 MB deduped)\\r'), FloatProgress(value=0.137569…"
            ],
            "application/vnd.jupyter.widget-view+json": {
              "version_major": 2,
              "version_minor": 0,
              "model_id": "8a13cc968b16426cacffab6ed3bc8f90"
            }
          },
          "metadata": {}
        },
        {
          "output_type": "display_data",
          "data": {
            "text/plain": [
              "<IPython.core.display.HTML object>"
            ],
            "text/html": [
              "<style>\n",
              "    table.wandb td:nth-child(1) { padding: 0 10px; text-align: left ; width: auto;} td:nth-child(2) {text-align: left ; width: 100%}\n",
              "    .wandb-row { display: flex; flex-direction: row; flex-wrap: wrap; justify-content: flex-start; width: 100% }\n",
              "    .wandb-col { display: flex; flex-direction: column; flex-basis: 100%; flex: 1; padding: 10px; }\n",
              "    </style>\n",
              "<div class=\"wandb-row\"><div class=\"wandb-col\"><h3>Run history:</h3><br/><table class=\"wandb\"><tr><td>accuracy</td><td>▁▃▄▅▅▆▆▇▇▇▇████</td></tr><tr><td>epoch</td><td>▁▁▂▃▃▃▄▅▅▅▆▇▇▇█</td></tr><tr><td>learning_rate</td><td>▁▁▁▁▁▁▁▁▁▁▁▁▁▁▁</td></tr><tr><td>loss</td><td>█▆▄▄▃▃▂▂▂▂▂▁▂▁▂</td></tr></table><br/></div><div class=\"wandb-col\"><h3>Run summary:</h3><br/><table class=\"wandb\"><tr><td>accuracy</td><td>65.25121</td></tr><tr><td>epoch</td><td>14</td></tr><tr><td>learning_rate</td><td>0.00059</td></tr><tr><td>loss</td><td>2.71308</td></tr><tr><td>optimizer</td><td>adam</td></tr></table><br/></div></div>"
            ]
          },
          "metadata": {}
        },
        {
          "output_type": "display_data",
          "data": {
            "text/plain": [
              "<IPython.core.display.HTML object>"
            ],
            "text/html": [
              " View run <strong style=\"color:#cdcd00\">bright-sweep-5</strong> at: <a href='https://wandb.ai/atds_ml/densenet_161/runs/sm8wkzhf' target=\"_blank\">https://wandb.ai/atds_ml/densenet_161/runs/sm8wkzhf</a><br/>Synced 5 W&B file(s), 0 media file(s), 0 artifact file(s) and 0 other file(s)"
            ]
          },
          "metadata": {}
        },
        {
          "output_type": "display_data",
          "data": {
            "text/plain": [
              "<IPython.core.display.HTML object>"
            ],
            "text/html": [
              "Find logs at: <code>./wandb/run-20230508_170712-sm8wkzhf/logs</code>"
            ]
          },
          "metadata": {}
        },
        {
          "output_type": "stream",
          "name": "stderr",
          "text": [
            "\u001b[34m\u001b[1mwandb\u001b[0m: Agent Starting Run: 9k79cr19 with config:\n",
            "\u001b[34m\u001b[1mwandb\u001b[0m: \tepochs: 15\n",
            "\u001b[34m\u001b[1mwandb\u001b[0m: \tlearning_rate: 0.00011382598389111664\n",
            "\u001b[34m\u001b[1mwandb\u001b[0m: \toptimizer: sgd\n"
          ]
        },
        {
          "output_type": "display_data",
          "data": {
            "text/plain": [
              "<IPython.core.display.HTML object>"
            ],
            "text/html": [
              "Tracking run with wandb version 0.15.2"
            ]
          },
          "metadata": {}
        },
        {
          "output_type": "display_data",
          "data": {
            "text/plain": [
              "<IPython.core.display.HTML object>"
            ],
            "text/html": [
              "Run data is saved locally in <code>/content/wandb/run-20230508_171238-9k79cr19</code>"
            ]
          },
          "metadata": {}
        },
        {
          "output_type": "display_data",
          "data": {
            "text/plain": [
              "<IPython.core.display.HTML object>"
            ],
            "text/html": [
              "Syncing run <strong><a href='https://wandb.ai/atds_ml/densenet_161/runs/9k79cr19' target=\"_blank\">confused-sweep-6</a></strong> to <a href='https://wandb.ai/atds_ml/densenet_161' target=\"_blank\">Weights & Biases</a> (<a href='https://wandb.me/run' target=\"_blank\">docs</a>)<br/>Sweep page: <a href='https://wandb.ai/atds_ml/densenet_161/sweeps/iyy7a2ks' target=\"_blank\">https://wandb.ai/atds_ml/densenet_161/sweeps/iyy7a2ks</a>"
            ]
          },
          "metadata": {}
        },
        {
          "output_type": "display_data",
          "data": {
            "text/plain": [
              "<IPython.core.display.HTML object>"
            ],
            "text/html": [
              " View project at <a href='https://wandb.ai/atds_ml/densenet_161' target=\"_blank\">https://wandb.ai/atds_ml/densenet_161</a>"
            ]
          },
          "metadata": {}
        },
        {
          "output_type": "display_data",
          "data": {
            "text/plain": [
              "<IPython.core.display.HTML object>"
            ],
            "text/html": [
              " View sweep at <a href='https://wandb.ai/atds_ml/densenet_161/sweeps/iyy7a2ks' target=\"_blank\">https://wandb.ai/atds_ml/densenet_161/sweeps/iyy7a2ks</a>"
            ]
          },
          "metadata": {}
        },
        {
          "output_type": "display_data",
          "data": {
            "text/plain": [
              "<IPython.core.display.HTML object>"
            ],
            "text/html": [
              " View run at <a href='https://wandb.ai/atds_ml/densenet_161/runs/9k79cr19' target=\"_blank\">https://wandb.ai/atds_ml/densenet_161/runs/9k79cr19</a>"
            ]
          },
          "metadata": {}
        },
        {
          "output_type": "stream",
          "name": "stdout",
          "text": [
            "X_train.shape torch.Size([31367, 3, 30, 30])\n",
            "X_valid.shape torch.Size([7842, 3, 30, 30])\n",
            "y_train.shape torch.Size([31367])\n",
            "y_valid.shape torch.Size([7842])\n"
          ]
        },
        {
          "output_type": "display_data",
          "data": {
            "text/plain": [
              "<IPython.core.display.HTML object>"
            ],
            "text/html": [
              "Waiting for W&B process to finish... <strong style=\"color:green\">(success).</strong>"
            ]
          },
          "metadata": {}
        },
        {
          "output_type": "display_data",
          "data": {
            "text/plain": [
              "VBox(children=(Label(value='0.001 MB of 0.010 MB uploaded (0.000 MB deduped)\\r'), FloatProgress(value=0.137655…"
            ],
            "application/vnd.jupyter.widget-view+json": {
              "version_major": 2,
              "version_minor": 0,
              "model_id": "53ad994a030b41af98760b03c2dfbea9"
            }
          },
          "metadata": {}
        },
        {
          "output_type": "display_data",
          "data": {
            "text/plain": [
              "<IPython.core.display.HTML object>"
            ],
            "text/html": [
              "<style>\n",
              "    table.wandb td:nth-child(1) { padding: 0 10px; text-align: left ; width: auto;} td:nth-child(2) {text-align: left ; width: 100%}\n",
              "    .wandb-row { display: flex; flex-direction: row; flex-wrap: wrap; justify-content: flex-start; width: 100% }\n",
              "    .wandb-col { display: flex; flex-direction: column; flex-basis: 100%; flex: 1; padding: 10px; }\n",
              "    </style>\n",
              "<div class=\"wandb-row\"><div class=\"wandb-col\"><h3>Run history:</h3><br/><table class=\"wandb\"><tr><td>accuracy</td><td>▁▁▂▃▃▄▄▅▅▆▆▇▇██</td></tr><tr><td>epoch</td><td>▁▁▂▃▃▃▄▅▅▅▆▇▇▇█</td></tr><tr><td>learning_rate</td><td>▁▁▁▁▁▁▁▁▁▁▁▁▁▁▁</td></tr><tr><td>loss</td><td>█▇▅▅▆▃▄▄▃▂▂▄▂▁▃</td></tr></table><br/></div><div class=\"wandb-col\"><h3>Run summary:</h3><br/><table class=\"wandb\"><tr><td>accuracy</td><td>16.84519</td></tr><tr><td>epoch</td><td>14</td></tr><tr><td>learning_rate</td><td>0.00011</td></tr><tr><td>loss</td><td>8.87484</td></tr><tr><td>optimizer</td><td>sgd</td></tr></table><br/></div></div>"
            ]
          },
          "metadata": {}
        },
        {
          "output_type": "display_data",
          "data": {
            "text/plain": [
              "<IPython.core.display.HTML object>"
            ],
            "text/html": [
              " View run <strong style=\"color:#cdcd00\">confused-sweep-6</strong> at: <a href='https://wandb.ai/atds_ml/densenet_161/runs/9k79cr19' target=\"_blank\">https://wandb.ai/atds_ml/densenet_161/runs/9k79cr19</a><br/>Synced 5 W&B file(s), 0 media file(s), 0 artifact file(s) and 0 other file(s)"
            ]
          },
          "metadata": {}
        },
        {
          "output_type": "display_data",
          "data": {
            "text/plain": [
              "<IPython.core.display.HTML object>"
            ],
            "text/html": [
              "Find logs at: <code>./wandb/run-20230508_171238-9k79cr19/logs</code>"
            ]
          },
          "metadata": {}
        },
        {
          "output_type": "stream",
          "name": "stderr",
          "text": [
            "\u001b[34m\u001b[1mwandb\u001b[0m: Agent Starting Run: onxsxoqs with config:\n",
            "\u001b[34m\u001b[1mwandb\u001b[0m: \tepochs: 15\n",
            "\u001b[34m\u001b[1mwandb\u001b[0m: \tlearning_rate: 0.00012157413106360082\n",
            "\u001b[34m\u001b[1mwandb\u001b[0m: \toptimizer: sgd\n"
          ]
        },
        {
          "output_type": "display_data",
          "data": {
            "text/plain": [
              "<IPython.core.display.HTML object>"
            ],
            "text/html": [
              "Tracking run with wandb version 0.15.2"
            ]
          },
          "metadata": {}
        },
        {
          "output_type": "display_data",
          "data": {
            "text/plain": [
              "<IPython.core.display.HTML object>"
            ],
            "text/html": [
              "Run data is saved locally in <code>/content/wandb/run-20230508_171804-onxsxoqs</code>"
            ]
          },
          "metadata": {}
        },
        {
          "output_type": "display_data",
          "data": {
            "text/plain": [
              "<IPython.core.display.HTML object>"
            ],
            "text/html": [
              "Syncing run <strong><a href='https://wandb.ai/atds_ml/densenet_161/runs/onxsxoqs' target=\"_blank\">major-sweep-7</a></strong> to <a href='https://wandb.ai/atds_ml/densenet_161' target=\"_blank\">Weights & Biases</a> (<a href='https://wandb.me/run' target=\"_blank\">docs</a>)<br/>Sweep page: <a href='https://wandb.ai/atds_ml/densenet_161/sweeps/iyy7a2ks' target=\"_blank\">https://wandb.ai/atds_ml/densenet_161/sweeps/iyy7a2ks</a>"
            ]
          },
          "metadata": {}
        },
        {
          "output_type": "display_data",
          "data": {
            "text/plain": [
              "<IPython.core.display.HTML object>"
            ],
            "text/html": [
              " View project at <a href='https://wandb.ai/atds_ml/densenet_161' target=\"_blank\">https://wandb.ai/atds_ml/densenet_161</a>"
            ]
          },
          "metadata": {}
        },
        {
          "output_type": "display_data",
          "data": {
            "text/plain": [
              "<IPython.core.display.HTML object>"
            ],
            "text/html": [
              " View sweep at <a href='https://wandb.ai/atds_ml/densenet_161/sweeps/iyy7a2ks' target=\"_blank\">https://wandb.ai/atds_ml/densenet_161/sweeps/iyy7a2ks</a>"
            ]
          },
          "metadata": {}
        },
        {
          "output_type": "display_data",
          "data": {
            "text/plain": [
              "<IPython.core.display.HTML object>"
            ],
            "text/html": [
              " View run at <a href='https://wandb.ai/atds_ml/densenet_161/runs/onxsxoqs' target=\"_blank\">https://wandb.ai/atds_ml/densenet_161/runs/onxsxoqs</a>"
            ]
          },
          "metadata": {}
        },
        {
          "output_type": "stream",
          "name": "stdout",
          "text": [
            "X_train.shape torch.Size([31367, 3, 30, 30])\n",
            "X_valid.shape torch.Size([7842, 3, 30, 30])\n",
            "y_train.shape torch.Size([31367])\n",
            "y_valid.shape torch.Size([7842])\n"
          ]
        },
        {
          "output_type": "display_data",
          "data": {
            "text/plain": [
              "<IPython.core.display.HTML object>"
            ],
            "text/html": [
              "Waiting for W&B process to finish... <strong style=\"color:green\">(success).</strong>"
            ]
          },
          "metadata": {}
        },
        {
          "output_type": "display_data",
          "data": {
            "text/plain": [
              "VBox(children=(Label(value='0.001 MB of 0.001 MB uploaded (0.000 MB deduped)\\r'), FloatProgress(value=1.0, max…"
            ],
            "application/vnd.jupyter.widget-view+json": {
              "version_major": 2,
              "version_minor": 0,
              "model_id": "512966f7b7504455aba5436702b549af"
            }
          },
          "metadata": {}
        },
        {
          "output_type": "display_data",
          "data": {
            "text/plain": [
              "<IPython.core.display.HTML object>"
            ],
            "text/html": [
              "<style>\n",
              "    table.wandb td:nth-child(1) { padding: 0 10px; text-align: left ; width: auto;} td:nth-child(2) {text-align: left ; width: 100%}\n",
              "    .wandb-row { display: flex; flex-direction: row; flex-wrap: wrap; justify-content: flex-start; width: 100% }\n",
              "    .wandb-col { display: flex; flex-direction: column; flex-basis: 100%; flex: 1; padding: 10px; }\n",
              "    </style>\n",
              "<div class=\"wandb-row\"><div class=\"wandb-col\"><h3>Run history:</h3><br/><table class=\"wandb\"><tr><td>accuracy</td><td>▁▂▂▃▄▄▅▅▆▆▇▇███</td></tr><tr><td>epoch</td><td>▁▁▂▃▃▃▄▅▅▅▆▇▇▇█</td></tr><tr><td>learning_rate</td><td>▁▁▁▁▁▁▁▁▁▁▁▁▁▁▁</td></tr><tr><td>loss</td><td>██▅▅▅▅▄▃▃▂▂▂▁▂▁</td></tr></table><br/></div><div class=\"wandb-col\"><h3>Run summary:</h3><br/><table class=\"wandb\"><tr><td>accuracy</td><td>17.29151</td></tr><tr><td>epoch</td><td>14</td></tr><tr><td>learning_rate</td><td>0.00012</td></tr><tr><td>loss</td><td>7.71286</td></tr><tr><td>optimizer</td><td>sgd</td></tr></table><br/></div></div>"
            ]
          },
          "metadata": {}
        },
        {
          "output_type": "display_data",
          "data": {
            "text/plain": [
              "<IPython.core.display.HTML object>"
            ],
            "text/html": [
              " View run <strong style=\"color:#cdcd00\">major-sweep-7</strong> at: <a href='https://wandb.ai/atds_ml/densenet_161/runs/onxsxoqs' target=\"_blank\">https://wandb.ai/atds_ml/densenet_161/runs/onxsxoqs</a><br/>Synced 5 W&B file(s), 0 media file(s), 0 artifact file(s) and 0 other file(s)"
            ]
          },
          "metadata": {}
        },
        {
          "output_type": "display_data",
          "data": {
            "text/plain": [
              "<IPython.core.display.HTML object>"
            ],
            "text/html": [
              "Find logs at: <code>./wandb/run-20230508_171804-onxsxoqs/logs</code>"
            ]
          },
          "metadata": {}
        },
        {
          "output_type": "stream",
          "name": "stderr",
          "text": [
            "\u001b[34m\u001b[1mwandb\u001b[0m: Agent Starting Run: uwpcrs49 with config:\n",
            "\u001b[34m\u001b[1mwandb\u001b[0m: \tepochs: 15\n",
            "\u001b[34m\u001b[1mwandb\u001b[0m: \tlearning_rate: 0.0006935056565538859\n",
            "\u001b[34m\u001b[1mwandb\u001b[0m: \toptimizer: adam\n"
          ]
        },
        {
          "output_type": "display_data",
          "data": {
            "text/plain": [
              "<IPython.core.display.HTML object>"
            ],
            "text/html": [
              "Tracking run with wandb version 0.15.2"
            ]
          },
          "metadata": {}
        },
        {
          "output_type": "display_data",
          "data": {
            "text/plain": [
              "<IPython.core.display.HTML object>"
            ],
            "text/html": [
              "Run data is saved locally in <code>/content/wandb/run-20230508_172334-uwpcrs49</code>"
            ]
          },
          "metadata": {}
        },
        {
          "output_type": "display_data",
          "data": {
            "text/plain": [
              "<IPython.core.display.HTML object>"
            ],
            "text/html": [
              "Syncing run <strong><a href='https://wandb.ai/atds_ml/densenet_161/runs/uwpcrs49' target=\"_blank\">electric-sweep-8</a></strong> to <a href='https://wandb.ai/atds_ml/densenet_161' target=\"_blank\">Weights & Biases</a> (<a href='https://wandb.me/run' target=\"_blank\">docs</a>)<br/>Sweep page: <a href='https://wandb.ai/atds_ml/densenet_161/sweeps/iyy7a2ks' target=\"_blank\">https://wandb.ai/atds_ml/densenet_161/sweeps/iyy7a2ks</a>"
            ]
          },
          "metadata": {}
        },
        {
          "output_type": "display_data",
          "data": {
            "text/plain": [
              "<IPython.core.display.HTML object>"
            ],
            "text/html": [
              " View project at <a href='https://wandb.ai/atds_ml/densenet_161' target=\"_blank\">https://wandb.ai/atds_ml/densenet_161</a>"
            ]
          },
          "metadata": {}
        },
        {
          "output_type": "display_data",
          "data": {
            "text/plain": [
              "<IPython.core.display.HTML object>"
            ],
            "text/html": [
              " View sweep at <a href='https://wandb.ai/atds_ml/densenet_161/sweeps/iyy7a2ks' target=\"_blank\">https://wandb.ai/atds_ml/densenet_161/sweeps/iyy7a2ks</a>"
            ]
          },
          "metadata": {}
        },
        {
          "output_type": "display_data",
          "data": {
            "text/plain": [
              "<IPython.core.display.HTML object>"
            ],
            "text/html": [
              " View run at <a href='https://wandb.ai/atds_ml/densenet_161/runs/uwpcrs49' target=\"_blank\">https://wandb.ai/atds_ml/densenet_161/runs/uwpcrs49</a>"
            ]
          },
          "metadata": {}
        },
        {
          "output_type": "stream",
          "name": "stdout",
          "text": [
            "X_train.shape torch.Size([31367, 3, 30, 30])\n",
            "X_valid.shape torch.Size([7842, 3, 30, 30])\n",
            "y_train.shape torch.Size([31367])\n",
            "y_valid.shape torch.Size([7842])\n"
          ]
        },
        {
          "output_type": "display_data",
          "data": {
            "text/plain": [
              "<IPython.core.display.HTML object>"
            ],
            "text/html": [
              "Waiting for W&B process to finish... <strong style=\"color:green\">(success).</strong>"
            ]
          },
          "metadata": {}
        },
        {
          "output_type": "display_data",
          "data": {
            "text/plain": [
              "VBox(children=(Label(value='0.001 MB of 0.010 MB uploaded (0.000 MB deduped)\\r'), FloatProgress(value=0.137556…"
            ],
            "application/vnd.jupyter.widget-view+json": {
              "version_major": 2,
              "version_minor": 0,
              "model_id": "f8be7f26e1df49ab8f3aa48e967afea9"
            }
          },
          "metadata": {}
        },
        {
          "output_type": "display_data",
          "data": {
            "text/plain": [
              "<IPython.core.display.HTML object>"
            ],
            "text/html": [
              "<style>\n",
              "    table.wandb td:nth-child(1) { padding: 0 10px; text-align: left ; width: auto;} td:nth-child(2) {text-align: left ; width: 100%}\n",
              "    .wandb-row { display: flex; flex-direction: row; flex-wrap: wrap; justify-content: flex-start; width: 100% }\n",
              "    .wandb-col { display: flex; flex-direction: column; flex-basis: 100%; flex: 1; padding: 10px; }\n",
              "    </style>\n",
              "<div class=\"wandb-row\"><div class=\"wandb-col\"><h3>Run history:</h3><br/><table class=\"wandb\"><tr><td>accuracy</td><td>▁▃▄▅▆▆▆▇▇▇▇████</td></tr><tr><td>epoch</td><td>▁▁▂▃▃▃▄▅▅▅▆▇▇▇█</td></tr><tr><td>learning_rate</td><td>▁▁▁▁▁▁▁▁▁▁▁▁▁▁▁</td></tr><tr><td>loss</td><td>█▆▆▄▃▂▂▁▂▃▂▂▁▂▁</td></tr></table><br/></div><div class=\"wandb-col\"><h3>Run summary:</h3><br/><table class=\"wandb\"><tr><td>accuracy</td><td>68.78348</td></tr><tr><td>epoch</td><td>14</td></tr><tr><td>learning_rate</td><td>0.00069</td></tr><tr><td>loss</td><td>1.65224</td></tr><tr><td>optimizer</td><td>adam</td></tr></table><br/></div></div>"
            ]
          },
          "metadata": {}
        },
        {
          "output_type": "display_data",
          "data": {
            "text/plain": [
              "<IPython.core.display.HTML object>"
            ],
            "text/html": [
              " View run <strong style=\"color:#cdcd00\">electric-sweep-8</strong> at: <a href='https://wandb.ai/atds_ml/densenet_161/runs/uwpcrs49' target=\"_blank\">https://wandb.ai/atds_ml/densenet_161/runs/uwpcrs49</a><br/>Synced 5 W&B file(s), 0 media file(s), 0 artifact file(s) and 0 other file(s)"
            ]
          },
          "metadata": {}
        },
        {
          "output_type": "display_data",
          "data": {
            "text/plain": [
              "<IPython.core.display.HTML object>"
            ],
            "text/html": [
              "Find logs at: <code>./wandb/run-20230508_172334-uwpcrs49/logs</code>"
            ]
          },
          "metadata": {}
        },
        {
          "output_type": "stream",
          "name": "stderr",
          "text": [
            "\u001b[34m\u001b[1mwandb\u001b[0m: Agent Starting Run: covn3ns7 with config:\n",
            "\u001b[34m\u001b[1mwandb\u001b[0m: \tepochs: 15\n",
            "\u001b[34m\u001b[1mwandb\u001b[0m: \tlearning_rate: 0.00028314388423078714\n",
            "\u001b[34m\u001b[1mwandb\u001b[0m: \toptimizer: sgd\n"
          ]
        },
        {
          "output_type": "display_data",
          "data": {
            "text/plain": [
              "<IPython.core.display.HTML object>"
            ],
            "text/html": [
              "Tracking run with wandb version 0.15.2"
            ]
          },
          "metadata": {}
        },
        {
          "output_type": "display_data",
          "data": {
            "text/plain": [
              "<IPython.core.display.HTML object>"
            ],
            "text/html": [
              "Run data is saved locally in <code>/content/wandb/run-20230508_172905-covn3ns7</code>"
            ]
          },
          "metadata": {}
        },
        {
          "output_type": "display_data",
          "data": {
            "text/plain": [
              "<IPython.core.display.HTML object>"
            ],
            "text/html": [
              "Syncing run <strong><a href='https://wandb.ai/atds_ml/densenet_161/runs/covn3ns7' target=\"_blank\">glad-sweep-9</a></strong> to <a href='https://wandb.ai/atds_ml/densenet_161' target=\"_blank\">Weights & Biases</a> (<a href='https://wandb.me/run' target=\"_blank\">docs</a>)<br/>Sweep page: <a href='https://wandb.ai/atds_ml/densenet_161/sweeps/iyy7a2ks' target=\"_blank\">https://wandb.ai/atds_ml/densenet_161/sweeps/iyy7a2ks</a>"
            ]
          },
          "metadata": {}
        },
        {
          "output_type": "display_data",
          "data": {
            "text/plain": [
              "<IPython.core.display.HTML object>"
            ],
            "text/html": [
              " View project at <a href='https://wandb.ai/atds_ml/densenet_161' target=\"_blank\">https://wandb.ai/atds_ml/densenet_161</a>"
            ]
          },
          "metadata": {}
        },
        {
          "output_type": "display_data",
          "data": {
            "text/plain": [
              "<IPython.core.display.HTML object>"
            ],
            "text/html": [
              " View sweep at <a href='https://wandb.ai/atds_ml/densenet_161/sweeps/iyy7a2ks' target=\"_blank\">https://wandb.ai/atds_ml/densenet_161/sweeps/iyy7a2ks</a>"
            ]
          },
          "metadata": {}
        },
        {
          "output_type": "display_data",
          "data": {
            "text/plain": [
              "<IPython.core.display.HTML object>"
            ],
            "text/html": [
              " View run at <a href='https://wandb.ai/atds_ml/densenet_161/runs/covn3ns7' target=\"_blank\">https://wandb.ai/atds_ml/densenet_161/runs/covn3ns7</a>"
            ]
          },
          "metadata": {}
        },
        {
          "output_type": "stream",
          "name": "stdout",
          "text": [
            "X_train.shape torch.Size([31367, 3, 30, 30])\n",
            "X_valid.shape torch.Size([7842, 3, 30, 30])\n",
            "y_train.shape torch.Size([31367])\n",
            "y_valid.shape torch.Size([7842])\n"
          ]
        },
        {
          "output_type": "display_data",
          "data": {
            "text/plain": [
              "<IPython.core.display.HTML object>"
            ],
            "text/html": [
              "Waiting for W&B process to finish... <strong style=\"color:green\">(success).</strong>"
            ]
          },
          "metadata": {}
        },
        {
          "output_type": "display_data",
          "data": {
            "text/plain": [
              "<IPython.core.display.HTML object>"
            ],
            "text/html": [
              "<style>\n",
              "    table.wandb td:nth-child(1) { padding: 0 10px; text-align: left ; width: auto;} td:nth-child(2) {text-align: left ; width: 100%}\n",
              "    .wandb-row { display: flex; flex-direction: row; flex-wrap: wrap; justify-content: flex-start; width: 100% }\n",
              "    .wandb-col { display: flex; flex-direction: column; flex-basis: 100%; flex: 1; padding: 10px; }\n",
              "    </style>\n",
              "<div class=\"wandb-row\"><div class=\"wandb-col\"><h3>Run history:</h3><br/><table class=\"wandb\"><tr><td>accuracy</td><td>▁▂▂▃▄▄▅▅▆▆▇▇▇██</td></tr><tr><td>epoch</td><td>▁▁▂▃▃▃▄▅▅▅▆▇▇▇█</td></tr><tr><td>learning_rate</td><td>▁▁▁▁▁▁▁▁▁▁▁▁▁▁▁</td></tr><tr><td>loss</td><td>█▆▅▄▅▄▃▄▃▃▂▃▁▁▂</td></tr></table><br/></div><div class=\"wandb-col\"><h3>Run summary:</h3><br/><table class=\"wandb\"><tr><td>accuracy</td><td>29.73731</td></tr><tr><td>epoch</td><td>14</td></tr><tr><td>learning_rate</td><td>0.00028</td></tr><tr><td>loss</td><td>5.96639</td></tr><tr><td>optimizer</td><td>sgd</td></tr></table><br/></div></div>"
            ]
          },
          "metadata": {}
        },
        {
          "output_type": "display_data",
          "data": {
            "text/plain": [
              "<IPython.core.display.HTML object>"
            ],
            "text/html": [
              " View run <strong style=\"color:#cdcd00\">glad-sweep-9</strong> at: <a href='https://wandb.ai/atds_ml/densenet_161/runs/covn3ns7' target=\"_blank\">https://wandb.ai/atds_ml/densenet_161/runs/covn3ns7</a><br/>Synced 5 W&B file(s), 0 media file(s), 0 artifact file(s) and 0 other file(s)"
            ]
          },
          "metadata": {}
        },
        {
          "output_type": "display_data",
          "data": {
            "text/plain": [
              "<IPython.core.display.HTML object>"
            ],
            "text/html": [
              "Find logs at: <code>./wandb/run-20230508_172905-covn3ns7/logs</code>"
            ]
          },
          "metadata": {}
        },
        {
          "output_type": "stream",
          "name": "stderr",
          "text": [
            "\u001b[34m\u001b[1mwandb\u001b[0m: Agent Starting Run: 6ewhudul with config:\n",
            "\u001b[34m\u001b[1mwandb\u001b[0m: \tepochs: 15\n",
            "\u001b[34m\u001b[1mwandb\u001b[0m: \tlearning_rate: 0.00019400904822692552\n",
            "\u001b[34m\u001b[1mwandb\u001b[0m: \toptimizer: adam\n"
          ]
        },
        {
          "output_type": "display_data",
          "data": {
            "text/plain": [
              "<IPython.core.display.HTML object>"
            ],
            "text/html": [
              "Tracking run with wandb version 0.15.2"
            ]
          },
          "metadata": {}
        },
        {
          "output_type": "display_data",
          "data": {
            "text/plain": [
              "<IPython.core.display.HTML object>"
            ],
            "text/html": [
              "Run data is saved locally in <code>/content/wandb/run-20230508_173424-6ewhudul</code>"
            ]
          },
          "metadata": {}
        },
        {
          "output_type": "display_data",
          "data": {
            "text/plain": [
              "<IPython.core.display.HTML object>"
            ],
            "text/html": [
              "Syncing run <strong><a href='https://wandb.ai/atds_ml/densenet_161/runs/6ewhudul' target=\"_blank\">quiet-sweep-10</a></strong> to <a href='https://wandb.ai/atds_ml/densenet_161' target=\"_blank\">Weights & Biases</a> (<a href='https://wandb.me/run' target=\"_blank\">docs</a>)<br/>Sweep page: <a href='https://wandb.ai/atds_ml/densenet_161/sweeps/iyy7a2ks' target=\"_blank\">https://wandb.ai/atds_ml/densenet_161/sweeps/iyy7a2ks</a>"
            ]
          },
          "metadata": {}
        },
        {
          "output_type": "display_data",
          "data": {
            "text/plain": [
              "<IPython.core.display.HTML object>"
            ],
            "text/html": [
              " View project at <a href='https://wandb.ai/atds_ml/densenet_161' target=\"_blank\">https://wandb.ai/atds_ml/densenet_161</a>"
            ]
          },
          "metadata": {}
        },
        {
          "output_type": "display_data",
          "data": {
            "text/plain": [
              "<IPython.core.display.HTML object>"
            ],
            "text/html": [
              " View sweep at <a href='https://wandb.ai/atds_ml/densenet_161/sweeps/iyy7a2ks' target=\"_blank\">https://wandb.ai/atds_ml/densenet_161/sweeps/iyy7a2ks</a>"
            ]
          },
          "metadata": {}
        },
        {
          "output_type": "display_data",
          "data": {
            "text/plain": [
              "<IPython.core.display.HTML object>"
            ],
            "text/html": [
              " View run at <a href='https://wandb.ai/atds_ml/densenet_161/runs/6ewhudul' target=\"_blank\">https://wandb.ai/atds_ml/densenet_161/runs/6ewhudul</a>"
            ]
          },
          "metadata": {}
        },
        {
          "output_type": "stream",
          "name": "stdout",
          "text": [
            "X_train.shape torch.Size([31367, 3, 30, 30])\n",
            "X_valid.shape torch.Size([7842, 3, 30, 30])\n",
            "y_train.shape torch.Size([31367])\n",
            "y_valid.shape torch.Size([7842])\n"
          ]
        },
        {
          "output_type": "display_data",
          "data": {
            "text/plain": [
              "<IPython.core.display.HTML object>"
            ],
            "text/html": [
              "Waiting for W&B process to finish... <strong style=\"color:green\">(success).</strong>"
            ]
          },
          "metadata": {}
        },
        {
          "output_type": "display_data",
          "data": {
            "text/plain": [
              "<IPython.core.display.HTML object>"
            ],
            "text/html": [
              "<style>\n",
              "    table.wandb td:nth-child(1) { padding: 0 10px; text-align: left ; width: auto;} td:nth-child(2) {text-align: left ; width: 100%}\n",
              "    .wandb-row { display: flex; flex-direction: row; flex-wrap: wrap; justify-content: flex-start; width: 100% }\n",
              "    .wandb-col { display: flex; flex-direction: column; flex-basis: 100%; flex: 1; padding: 10px; }\n",
              "    </style>\n",
              "<div class=\"wandb-row\"><div class=\"wandb-col\"><h3>Run history:</h3><br/><table class=\"wandb\"><tr><td>accuracy</td><td>▁▂▃▄▄▅▅▆▆▇▇▇▇██</td></tr><tr><td>epoch</td><td>▁▁▂▃▃▃▄▅▅▅▆▇▇▇█</td></tr><tr><td>learning_rate</td><td>▁▁▁▁▁▁▁▁▁▁▁▁▁▁▁</td></tr><tr><td>loss</td><td>█▆▅▅▄▃▃▂▃▂▂▂▃▁▁</td></tr></table><br/></div><div class=\"wandb-col\"><h3>Run summary:</h3><br/><table class=\"wandb\"><tr><td>accuracy</td><td>47.78118</td></tr><tr><td>epoch</td><td>14</td></tr><tr><td>learning_rate</td><td>0.00019</td></tr><tr><td>loss</td><td>2.83468</td></tr><tr><td>optimizer</td><td>adam</td></tr></table><br/></div></div>"
            ]
          },
          "metadata": {}
        },
        {
          "output_type": "display_data",
          "data": {
            "text/plain": [
              "<IPython.core.display.HTML object>"
            ],
            "text/html": [
              " View run <strong style=\"color:#cdcd00\">quiet-sweep-10</strong> at: <a href='https://wandb.ai/atds_ml/densenet_161/runs/6ewhudul' target=\"_blank\">https://wandb.ai/atds_ml/densenet_161/runs/6ewhudul</a><br/>Synced 5 W&B file(s), 0 media file(s), 0 artifact file(s) and 0 other file(s)"
            ]
          },
          "metadata": {}
        },
        {
          "output_type": "display_data",
          "data": {
            "text/plain": [
              "<IPython.core.display.HTML object>"
            ],
            "text/html": [
              "Find logs at: <code>./wandb/run-20230508_173424-6ewhudul/logs</code>"
            ]
          },
          "metadata": {}
        },
        {
          "output_type": "stream",
          "name": "stderr",
          "text": [
            "\u001b[34m\u001b[1mwandb\u001b[0m: Agent Starting Run: 0gp3m392 with config:\n",
            "\u001b[34m\u001b[1mwandb\u001b[0m: \tepochs: 15\n",
            "\u001b[34m\u001b[1mwandb\u001b[0m: \tlearning_rate: 0.0008343530969196866\n",
            "\u001b[34m\u001b[1mwandb\u001b[0m: \toptimizer: adam\n"
          ]
        },
        {
          "output_type": "display_data",
          "data": {
            "text/plain": [
              "<IPython.core.display.HTML object>"
            ],
            "text/html": [
              "Tracking run with wandb version 0.15.2"
            ]
          },
          "metadata": {}
        },
        {
          "output_type": "display_data",
          "data": {
            "text/plain": [
              "<IPython.core.display.HTML object>"
            ],
            "text/html": [
              "Run data is saved locally in <code>/content/wandb/run-20230508_173945-0gp3m392</code>"
            ]
          },
          "metadata": {}
        },
        {
          "output_type": "display_data",
          "data": {
            "text/plain": [
              "<IPython.core.display.HTML object>"
            ],
            "text/html": [
              "Syncing run <strong><a href='https://wandb.ai/atds_ml/densenet_161/runs/0gp3m392' target=\"_blank\">charmed-sweep-11</a></strong> to <a href='https://wandb.ai/atds_ml/densenet_161' target=\"_blank\">Weights & Biases</a> (<a href='https://wandb.me/run' target=\"_blank\">docs</a>)<br/>Sweep page: <a href='https://wandb.ai/atds_ml/densenet_161/sweeps/iyy7a2ks' target=\"_blank\">https://wandb.ai/atds_ml/densenet_161/sweeps/iyy7a2ks</a>"
            ]
          },
          "metadata": {}
        },
        {
          "output_type": "display_data",
          "data": {
            "text/plain": [
              "<IPython.core.display.HTML object>"
            ],
            "text/html": [
              " View project at <a href='https://wandb.ai/atds_ml/densenet_161' target=\"_blank\">https://wandb.ai/atds_ml/densenet_161</a>"
            ]
          },
          "metadata": {}
        },
        {
          "output_type": "display_data",
          "data": {
            "text/plain": [
              "<IPython.core.display.HTML object>"
            ],
            "text/html": [
              " View sweep at <a href='https://wandb.ai/atds_ml/densenet_161/sweeps/iyy7a2ks' target=\"_blank\">https://wandb.ai/atds_ml/densenet_161/sweeps/iyy7a2ks</a>"
            ]
          },
          "metadata": {}
        },
        {
          "output_type": "display_data",
          "data": {
            "text/plain": [
              "<IPython.core.display.HTML object>"
            ],
            "text/html": [
              " View run at <a href='https://wandb.ai/atds_ml/densenet_161/runs/0gp3m392' target=\"_blank\">https://wandb.ai/atds_ml/densenet_161/runs/0gp3m392</a>"
            ]
          },
          "metadata": {}
        },
        {
          "output_type": "stream",
          "name": "stdout",
          "text": [
            "X_train.shape torch.Size([31367, 3, 30, 30])\n",
            "X_valid.shape torch.Size([7842, 3, 30, 30])\n",
            "y_train.shape torch.Size([31367])\n",
            "y_valid.shape torch.Size([7842])\n"
          ]
        },
        {
          "output_type": "display_data",
          "data": {
            "text/plain": [
              "<IPython.core.display.HTML object>"
            ],
            "text/html": [
              "Waiting for W&B process to finish... <strong style=\"color:green\">(success).</strong>"
            ]
          },
          "metadata": {}
        },
        {
          "output_type": "display_data",
          "data": {
            "text/plain": [
              "VBox(children=(Label(value='0.001 MB of 0.002 MB uploaded (0.000 MB deduped)\\r'), FloatProgress(value=0.568369…"
            ],
            "application/vnd.jupyter.widget-view+json": {
              "version_major": 2,
              "version_minor": 0,
              "model_id": "5cc35703098c42a7930db0cf2c5e873b"
            }
          },
          "metadata": {}
        },
        {
          "output_type": "display_data",
          "data": {
            "text/plain": [
              "<IPython.core.display.HTML object>"
            ],
            "text/html": [
              "<style>\n",
              "    table.wandb td:nth-child(1) { padding: 0 10px; text-align: left ; width: auto;} td:nth-child(2) {text-align: left ; width: 100%}\n",
              "    .wandb-row { display: flex; flex-direction: row; flex-wrap: wrap; justify-content: flex-start; width: 100% }\n",
              "    .wandb-col { display: flex; flex-direction: column; flex-basis: 100%; flex: 1; padding: 10px; }\n",
              "    </style>\n",
              "<div class=\"wandb-row\"><div class=\"wandb-col\"><h3>Run history:</h3><br/><table class=\"wandb\"><tr><td>accuracy</td><td>▁▃▄▅▆▆▇▇▇▇█████</td></tr><tr><td>epoch</td><td>▁▁▂▃▃▃▄▅▅▅▆▇▇▇█</td></tr><tr><td>learning_rate</td><td>▁▁▁▁▁▁▁▁▁▁▁▁▁▁▁</td></tr><tr><td>loss</td><td>█▆▅▄▃▂▂▂▂▁▁▄▁▁▁</td></tr></table><br/></div><div class=\"wandb-col\"><h3>Run summary:</h3><br/><table class=\"wandb\"><tr><td>accuracy</td><td>68.82173</td></tr><tr><td>epoch</td><td>14</td></tr><tr><td>learning_rate</td><td>0.00083</td></tr><tr><td>loss</td><td>1.46402</td></tr><tr><td>optimizer</td><td>adam</td></tr></table><br/></div></div>"
            ]
          },
          "metadata": {}
        },
        {
          "output_type": "display_data",
          "data": {
            "text/plain": [
              "<IPython.core.display.HTML object>"
            ],
            "text/html": [
              " View run <strong style=\"color:#cdcd00\">charmed-sweep-11</strong> at: <a href='https://wandb.ai/atds_ml/densenet_161/runs/0gp3m392' target=\"_blank\">https://wandb.ai/atds_ml/densenet_161/runs/0gp3m392</a><br/>Synced 5 W&B file(s), 0 media file(s), 0 artifact file(s) and 0 other file(s)"
            ]
          },
          "metadata": {}
        },
        {
          "output_type": "display_data",
          "data": {
            "text/plain": [
              "<IPython.core.display.HTML object>"
            ],
            "text/html": [
              "Find logs at: <code>./wandb/run-20230508_173945-0gp3m392/logs</code>"
            ]
          },
          "metadata": {}
        },
        {
          "output_type": "stream",
          "name": "stderr",
          "text": [
            "\u001b[34m\u001b[1mwandb\u001b[0m: Agent Starting Run: 0ec4ay0o with config:\n",
            "\u001b[34m\u001b[1mwandb\u001b[0m: \tepochs: 15\n",
            "\u001b[34m\u001b[1mwandb\u001b[0m: \tlearning_rate: 0.00013629039947233933\n",
            "\u001b[34m\u001b[1mwandb\u001b[0m: \toptimizer: adam\n"
          ]
        },
        {
          "output_type": "display_data",
          "data": {
            "text/plain": [
              "<IPython.core.display.HTML object>"
            ],
            "text/html": [
              "Tracking run with wandb version 0.15.2"
            ]
          },
          "metadata": {}
        },
        {
          "output_type": "display_data",
          "data": {
            "text/plain": [
              "<IPython.core.display.HTML object>"
            ],
            "text/html": [
              "Run data is saved locally in <code>/content/wandb/run-20230508_174505-0ec4ay0o</code>"
            ]
          },
          "metadata": {}
        },
        {
          "output_type": "display_data",
          "data": {
            "text/plain": [
              "<IPython.core.display.HTML object>"
            ],
            "text/html": [
              "Syncing run <strong><a href='https://wandb.ai/atds_ml/densenet_161/runs/0ec4ay0o' target=\"_blank\">atomic-sweep-12</a></strong> to <a href='https://wandb.ai/atds_ml/densenet_161' target=\"_blank\">Weights & Biases</a> (<a href='https://wandb.me/run' target=\"_blank\">docs</a>)<br/>Sweep page: <a href='https://wandb.ai/atds_ml/densenet_161/sweeps/iyy7a2ks' target=\"_blank\">https://wandb.ai/atds_ml/densenet_161/sweeps/iyy7a2ks</a>"
            ]
          },
          "metadata": {}
        },
        {
          "output_type": "display_data",
          "data": {
            "text/plain": [
              "<IPython.core.display.HTML object>"
            ],
            "text/html": [
              " View project at <a href='https://wandb.ai/atds_ml/densenet_161' target=\"_blank\">https://wandb.ai/atds_ml/densenet_161</a>"
            ]
          },
          "metadata": {}
        },
        {
          "output_type": "display_data",
          "data": {
            "text/plain": [
              "<IPython.core.display.HTML object>"
            ],
            "text/html": [
              " View sweep at <a href='https://wandb.ai/atds_ml/densenet_161/sweeps/iyy7a2ks' target=\"_blank\">https://wandb.ai/atds_ml/densenet_161/sweeps/iyy7a2ks</a>"
            ]
          },
          "metadata": {}
        },
        {
          "output_type": "display_data",
          "data": {
            "text/plain": [
              "<IPython.core.display.HTML object>"
            ],
            "text/html": [
              " View run at <a href='https://wandb.ai/atds_ml/densenet_161/runs/0ec4ay0o' target=\"_blank\">https://wandb.ai/atds_ml/densenet_161/runs/0ec4ay0o</a>"
            ]
          },
          "metadata": {}
        },
        {
          "output_type": "stream",
          "name": "stdout",
          "text": [
            "X_train.shape torch.Size([31367, 3, 30, 30])\n",
            "X_valid.shape torch.Size([7842, 3, 30, 30])\n",
            "y_train.shape torch.Size([31367])\n",
            "y_valid.shape torch.Size([7842])\n"
          ]
        },
        {
          "output_type": "display_data",
          "data": {
            "text/plain": [
              "<IPython.core.display.HTML object>"
            ],
            "text/html": [
              "Waiting for W&B process to finish... <strong style=\"color:green\">(success).</strong>"
            ]
          },
          "metadata": {}
        },
        {
          "output_type": "display_data",
          "data": {
            "text/plain": [
              "VBox(children=(Label(value='0.001 MB of 0.002 MB uploaded (0.000 MB deduped)\\r'), FloatProgress(value=0.568425…"
            ],
            "application/vnd.jupyter.widget-view+json": {
              "version_major": 2,
              "version_minor": 0,
              "model_id": "02e76db8904a4aa6aa8425a9d836a05a"
            }
          },
          "metadata": {}
        },
        {
          "output_type": "display_data",
          "data": {
            "text/plain": [
              "<IPython.core.display.HTML object>"
            ],
            "text/html": [
              "<style>\n",
              "    table.wandb td:nth-child(1) { padding: 0 10px; text-align: left ; width: auto;} td:nth-child(2) {text-align: left ; width: 100%}\n",
              "    .wandb-row { display: flex; flex-direction: row; flex-wrap: wrap; justify-content: flex-start; width: 100% }\n",
              "    .wandb-col { display: flex; flex-direction: column; flex-basis: 100%; flex: 1; padding: 10px; }\n",
              "    </style>\n",
              "<div class=\"wandb-row\"><div class=\"wandb-col\"><h3>Run history:</h3><br/><table class=\"wandb\"><tr><td>accuracy</td><td>▁▂▂▃▄▄▅▅▆▆▇▇▇██</td></tr><tr><td>epoch</td><td>▁▁▂▃▃▃▄▅▅▅▆▇▇▇█</td></tr><tr><td>learning_rate</td><td>▁▁▁▁▁▁▁▁▁▁▁▁▁▁▁</td></tr><tr><td>loss</td><td>█▆▅▆▅▃▄▃▄▃▂▁▂▁▁</td></tr></table><br/></div><div class=\"wandb-col\"><h3>Run summary:</h3><br/><table class=\"wandb\"><tr><td>accuracy</td><td>40.14282</td></tr><tr><td>epoch</td><td>14</td></tr><tr><td>learning_rate</td><td>0.00014</td></tr><tr><td>loss</td><td>3.73444</td></tr><tr><td>optimizer</td><td>adam</td></tr></table><br/></div></div>"
            ]
          },
          "metadata": {}
        },
        {
          "output_type": "display_data",
          "data": {
            "text/plain": [
              "<IPython.core.display.HTML object>"
            ],
            "text/html": [
              " View run <strong style=\"color:#cdcd00\">atomic-sweep-12</strong> at: <a href='https://wandb.ai/atds_ml/densenet_161/runs/0ec4ay0o' target=\"_blank\">https://wandb.ai/atds_ml/densenet_161/runs/0ec4ay0o</a><br/>Synced 5 W&B file(s), 0 media file(s), 0 artifact file(s) and 0 other file(s)"
            ]
          },
          "metadata": {}
        },
        {
          "output_type": "display_data",
          "data": {
            "text/plain": [
              "<IPython.core.display.HTML object>"
            ],
            "text/html": [
              "Find logs at: <code>./wandb/run-20230508_174505-0ec4ay0o/logs</code>"
            ]
          },
          "metadata": {}
        },
        {
          "output_type": "stream",
          "name": "stderr",
          "text": [
            "\u001b[34m\u001b[1mwandb\u001b[0m: Agent Starting Run: 62hsp1vy with config:\n",
            "\u001b[34m\u001b[1mwandb\u001b[0m: \tepochs: 15\n",
            "\u001b[34m\u001b[1mwandb\u001b[0m: \tlearning_rate: 0.000612043802245119\n",
            "\u001b[34m\u001b[1mwandb\u001b[0m: \toptimizer: adam\n"
          ]
        },
        {
          "output_type": "display_data",
          "data": {
            "text/plain": [
              "<IPython.core.display.HTML object>"
            ],
            "text/html": [
              "Tracking run with wandb version 0.15.2"
            ]
          },
          "metadata": {}
        },
        {
          "output_type": "display_data",
          "data": {
            "text/plain": [
              "<IPython.core.display.HTML object>"
            ],
            "text/html": [
              "Run data is saved locally in <code>/content/wandb/run-20230508_175026-62hsp1vy</code>"
            ]
          },
          "metadata": {}
        },
        {
          "output_type": "display_data",
          "data": {
            "text/plain": [
              "<IPython.core.display.HTML object>"
            ],
            "text/html": [
              "Syncing run <strong><a href='https://wandb.ai/atds_ml/densenet_161/runs/62hsp1vy' target=\"_blank\">drawn-sweep-13</a></strong> to <a href='https://wandb.ai/atds_ml/densenet_161' target=\"_blank\">Weights & Biases</a> (<a href='https://wandb.me/run' target=\"_blank\">docs</a>)<br/>Sweep page: <a href='https://wandb.ai/atds_ml/densenet_161/sweeps/iyy7a2ks' target=\"_blank\">https://wandb.ai/atds_ml/densenet_161/sweeps/iyy7a2ks</a>"
            ]
          },
          "metadata": {}
        },
        {
          "output_type": "display_data",
          "data": {
            "text/plain": [
              "<IPython.core.display.HTML object>"
            ],
            "text/html": [
              " View project at <a href='https://wandb.ai/atds_ml/densenet_161' target=\"_blank\">https://wandb.ai/atds_ml/densenet_161</a>"
            ]
          },
          "metadata": {}
        },
        {
          "output_type": "display_data",
          "data": {
            "text/plain": [
              "<IPython.core.display.HTML object>"
            ],
            "text/html": [
              " View sweep at <a href='https://wandb.ai/atds_ml/densenet_161/sweeps/iyy7a2ks' target=\"_blank\">https://wandb.ai/atds_ml/densenet_161/sweeps/iyy7a2ks</a>"
            ]
          },
          "metadata": {}
        },
        {
          "output_type": "display_data",
          "data": {
            "text/plain": [
              "<IPython.core.display.HTML object>"
            ],
            "text/html": [
              " View run at <a href='https://wandb.ai/atds_ml/densenet_161/runs/62hsp1vy' target=\"_blank\">https://wandb.ai/atds_ml/densenet_161/runs/62hsp1vy</a>"
            ]
          },
          "metadata": {}
        },
        {
          "output_type": "stream",
          "name": "stdout",
          "text": [
            "X_train.shape torch.Size([31367, 3, 30, 30])\n",
            "X_valid.shape torch.Size([7842, 3, 30, 30])\n",
            "y_train.shape torch.Size([31367])\n",
            "y_valid.shape torch.Size([7842])\n"
          ]
        },
        {
          "output_type": "display_data",
          "data": {
            "text/plain": [
              "<IPython.core.display.HTML object>"
            ],
            "text/html": [
              "Waiting for W&B process to finish... <strong style=\"color:green\">(success).</strong>"
            ]
          },
          "metadata": {}
        },
        {
          "output_type": "display_data",
          "data": {
            "text/plain": [
              "VBox(children=(Label(value='0.001 MB of 0.001 MB uploaded (0.000 MB deduped)\\r'), FloatProgress(value=1.0, max…"
            ],
            "application/vnd.jupyter.widget-view+json": {
              "version_major": 2,
              "version_minor": 0,
              "model_id": "c1d56c19a2724eecb3d7dda6719c2561"
            }
          },
          "metadata": {}
        },
        {
          "output_type": "display_data",
          "data": {
            "text/plain": [
              "<IPython.core.display.HTML object>"
            ],
            "text/html": [
              "<style>\n",
              "    table.wandb td:nth-child(1) { padding: 0 10px; text-align: left ; width: auto;} td:nth-child(2) {text-align: left ; width: 100%}\n",
              "    .wandb-row { display: flex; flex-direction: row; flex-wrap: wrap; justify-content: flex-start; width: 100% }\n",
              "    .wandb-col { display: flex; flex-direction: column; flex-basis: 100%; flex: 1; padding: 10px; }\n",
              "    </style>\n",
              "<div class=\"wandb-row\"><div class=\"wandb-col\"><h3>Run history:</h3><br/><table class=\"wandb\"><tr><td>accuracy</td><td>▁▃▄▅▅▆▆▇▇▇▇████</td></tr><tr><td>epoch</td><td>▁▁▂▃▃▃▄▅▅▅▆▇▇▇█</td></tr><tr><td>learning_rate</td><td>▁▁▁▁▁▁▁▁▁▁▁▁▁▁▁</td></tr><tr><td>loss</td><td>█▅▅▄▃▃▃▂▂▂▂▁▂▁▁</td></tr></table><br/></div><div class=\"wandb-col\"><h3>Run summary:</h3><br/><table class=\"wandb\"><tr><td>accuracy</td><td>66.29687</td></tr><tr><td>epoch</td><td>14</td></tr><tr><td>learning_rate</td><td>0.00061</td></tr><tr><td>loss</td><td>1.67664</td></tr><tr><td>optimizer</td><td>adam</td></tr></table><br/></div></div>"
            ]
          },
          "metadata": {}
        },
        {
          "output_type": "display_data",
          "data": {
            "text/plain": [
              "<IPython.core.display.HTML object>"
            ],
            "text/html": [
              " View run <strong style=\"color:#cdcd00\">drawn-sweep-13</strong> at: <a href='https://wandb.ai/atds_ml/densenet_161/runs/62hsp1vy' target=\"_blank\">https://wandb.ai/atds_ml/densenet_161/runs/62hsp1vy</a><br/>Synced 5 W&B file(s), 0 media file(s), 0 artifact file(s) and 0 other file(s)"
            ]
          },
          "metadata": {}
        },
        {
          "output_type": "display_data",
          "data": {
            "text/plain": [
              "<IPython.core.display.HTML object>"
            ],
            "text/html": [
              "Find logs at: <code>./wandb/run-20230508_175026-62hsp1vy/logs</code>"
            ]
          },
          "metadata": {}
        },
        {
          "output_type": "stream",
          "name": "stderr",
          "text": [
            "\u001b[34m\u001b[1mwandb\u001b[0m: Agent Starting Run: 0lj6h1yq with config:\n",
            "\u001b[34m\u001b[1mwandb\u001b[0m: \tepochs: 15\n",
            "\u001b[34m\u001b[1mwandb\u001b[0m: \tlearning_rate: 0.0003775774948731883\n",
            "\u001b[34m\u001b[1mwandb\u001b[0m: \toptimizer: sgd\n"
          ]
        },
        {
          "output_type": "display_data",
          "data": {
            "text/plain": [
              "<IPython.core.display.HTML object>"
            ],
            "text/html": [
              "Tracking run with wandb version 0.15.2"
            ]
          },
          "metadata": {}
        },
        {
          "output_type": "display_data",
          "data": {
            "text/plain": [
              "<IPython.core.display.HTML object>"
            ],
            "text/html": [
              "Run data is saved locally in <code>/content/wandb/run-20230508_175548-0lj6h1yq</code>"
            ]
          },
          "metadata": {}
        },
        {
          "output_type": "display_data",
          "data": {
            "text/plain": [
              "<IPython.core.display.HTML object>"
            ],
            "text/html": [
              "Syncing run <strong><a href='https://wandb.ai/atds_ml/densenet_161/runs/0lj6h1yq' target=\"_blank\">hopeful-sweep-14</a></strong> to <a href='https://wandb.ai/atds_ml/densenet_161' target=\"_blank\">Weights & Biases</a> (<a href='https://wandb.me/run' target=\"_blank\">docs</a>)<br/>Sweep page: <a href='https://wandb.ai/atds_ml/densenet_161/sweeps/iyy7a2ks' target=\"_blank\">https://wandb.ai/atds_ml/densenet_161/sweeps/iyy7a2ks</a>"
            ]
          },
          "metadata": {}
        },
        {
          "output_type": "display_data",
          "data": {
            "text/plain": [
              "<IPython.core.display.HTML object>"
            ],
            "text/html": [
              " View project at <a href='https://wandb.ai/atds_ml/densenet_161' target=\"_blank\">https://wandb.ai/atds_ml/densenet_161</a>"
            ]
          },
          "metadata": {}
        },
        {
          "output_type": "display_data",
          "data": {
            "text/plain": [
              "<IPython.core.display.HTML object>"
            ],
            "text/html": [
              " View sweep at <a href='https://wandb.ai/atds_ml/densenet_161/sweeps/iyy7a2ks' target=\"_blank\">https://wandb.ai/atds_ml/densenet_161/sweeps/iyy7a2ks</a>"
            ]
          },
          "metadata": {}
        },
        {
          "output_type": "display_data",
          "data": {
            "text/plain": [
              "<IPython.core.display.HTML object>"
            ],
            "text/html": [
              " View run at <a href='https://wandb.ai/atds_ml/densenet_161/runs/0lj6h1yq' target=\"_blank\">https://wandb.ai/atds_ml/densenet_161/runs/0lj6h1yq</a>"
            ]
          },
          "metadata": {}
        },
        {
          "output_type": "stream",
          "name": "stdout",
          "text": [
            "X_train.shape torch.Size([31367, 3, 30, 30])\n",
            "X_valid.shape torch.Size([7842, 3, 30, 30])\n",
            "y_train.shape torch.Size([31367])\n",
            "y_valid.shape torch.Size([7842])\n"
          ]
        },
        {
          "output_type": "display_data",
          "data": {
            "text/plain": [
              "<IPython.core.display.HTML object>"
            ],
            "text/html": [
              "Waiting for W&B process to finish... <strong style=\"color:green\">(success).</strong>"
            ]
          },
          "metadata": {}
        },
        {
          "output_type": "display_data",
          "data": {
            "text/plain": [
              "VBox(children=(Label(value='0.001 MB of 0.001 MB uploaded (0.000 MB deduped)\\r'), FloatProgress(value=1.0, max…"
            ],
            "application/vnd.jupyter.widget-view+json": {
              "version_major": 2,
              "version_minor": 0,
              "model_id": "fba2f355e5514db7bcf31dfcdcd0574e"
            }
          },
          "metadata": {}
        },
        {
          "output_type": "display_data",
          "data": {
            "text/plain": [
              "<IPython.core.display.HTML object>"
            ],
            "text/html": [
              "<style>\n",
              "    table.wandb td:nth-child(1) { padding: 0 10px; text-align: left ; width: auto;} td:nth-child(2) {text-align: left ; width: 100%}\n",
              "    .wandb-row { display: flex; flex-direction: row; flex-wrap: wrap; justify-content: flex-start; width: 100% }\n",
              "    .wandb-col { display: flex; flex-direction: column; flex-basis: 100%; flex: 1; padding: 10px; }\n",
              "    </style>\n",
              "<div class=\"wandb-row\"><div class=\"wandb-col\"><h3>Run history:</h3><br/><table class=\"wandb\"><tr><td>accuracy</td><td>▁▂▂▃▄▄▅▆▆▆▇▇▇██</td></tr><tr><td>epoch</td><td>▁▁▂▃▃▃▄▅▅▅▆▇▇▇█</td></tr><tr><td>learning_rate</td><td>▁▁▁▁▁▁▁▁▁▁▁▁▁▁▁</td></tr><tr><td>loss</td><td>█▇▆▆▄▅▄▃▃▂▃▂▃▂▁</td></tr></table><br/></div><div class=\"wandb-col\"><h3>Run summary:</h3><br/><table class=\"wandb\"><tr><td>accuracy</td><td>33.65213</td></tr><tr><td>epoch</td><td>14</td></tr><tr><td>learning_rate</td><td>0.00038</td></tr><tr><td>loss</td><td>4.69299</td></tr><tr><td>optimizer</td><td>sgd</td></tr></table><br/></div></div>"
            ]
          },
          "metadata": {}
        },
        {
          "output_type": "display_data",
          "data": {
            "text/plain": [
              "<IPython.core.display.HTML object>"
            ],
            "text/html": [
              " View run <strong style=\"color:#cdcd00\">hopeful-sweep-14</strong> at: <a href='https://wandb.ai/atds_ml/densenet_161/runs/0lj6h1yq' target=\"_blank\">https://wandb.ai/atds_ml/densenet_161/runs/0lj6h1yq</a><br/>Synced 5 W&B file(s), 0 media file(s), 0 artifact file(s) and 0 other file(s)"
            ]
          },
          "metadata": {}
        },
        {
          "output_type": "display_data",
          "data": {
            "text/plain": [
              "<IPython.core.display.HTML object>"
            ],
            "text/html": [
              "Find logs at: <code>./wandb/run-20230508_175548-0lj6h1yq/logs</code>"
            ]
          },
          "metadata": {}
        },
        {
          "output_type": "stream",
          "name": "stderr",
          "text": [
            "\u001b[34m\u001b[1mwandb\u001b[0m: Agent Starting Run: gvy6086v with config:\n",
            "\u001b[34m\u001b[1mwandb\u001b[0m: \tepochs: 15\n",
            "\u001b[34m\u001b[1mwandb\u001b[0m: \tlearning_rate: 0.0009649825907785962\n",
            "\u001b[34m\u001b[1mwandb\u001b[0m: \toptimizer: sgd\n"
          ]
        },
        {
          "output_type": "display_data",
          "data": {
            "text/plain": [
              "VBox(children=(Label(value='Waiting for wandb.init()...\\r'), FloatProgress(value=0.016670445883346475, max=1.0…"
            ],
            "application/vnd.jupyter.widget-view+json": {
              "version_major": 2,
              "version_minor": 0,
              "model_id": "0bf4fbc95a7f43af88b1fa3deb8135d8"
            }
          },
          "metadata": {}
        },
        {
          "output_type": "display_data",
          "data": {
            "text/plain": [
              "<IPython.core.display.HTML object>"
            ],
            "text/html": [
              "Tracking run with wandb version 0.15.2"
            ]
          },
          "metadata": {}
        },
        {
          "output_type": "display_data",
          "data": {
            "text/plain": [
              "<IPython.core.display.HTML object>"
            ],
            "text/html": [
              "Run data is saved locally in <code>/content/wandb/run-20230508_180107-gvy6086v</code>"
            ]
          },
          "metadata": {}
        },
        {
          "output_type": "display_data",
          "data": {
            "text/plain": [
              "<IPython.core.display.HTML object>"
            ],
            "text/html": [
              "Syncing run <strong><a href='https://wandb.ai/atds_ml/densenet_161/runs/gvy6086v' target=\"_blank\">bright-sweep-15</a></strong> to <a href='https://wandb.ai/atds_ml/densenet_161' target=\"_blank\">Weights & Biases</a> (<a href='https://wandb.me/run' target=\"_blank\">docs</a>)<br/>Sweep page: <a href='https://wandb.ai/atds_ml/densenet_161/sweeps/iyy7a2ks' target=\"_blank\">https://wandb.ai/atds_ml/densenet_161/sweeps/iyy7a2ks</a>"
            ]
          },
          "metadata": {}
        },
        {
          "output_type": "display_data",
          "data": {
            "text/plain": [
              "<IPython.core.display.HTML object>"
            ],
            "text/html": [
              " View project at <a href='https://wandb.ai/atds_ml/densenet_161' target=\"_blank\">https://wandb.ai/atds_ml/densenet_161</a>"
            ]
          },
          "metadata": {}
        },
        {
          "output_type": "display_data",
          "data": {
            "text/plain": [
              "<IPython.core.display.HTML object>"
            ],
            "text/html": [
              " View sweep at <a href='https://wandb.ai/atds_ml/densenet_161/sweeps/iyy7a2ks' target=\"_blank\">https://wandb.ai/atds_ml/densenet_161/sweeps/iyy7a2ks</a>"
            ]
          },
          "metadata": {}
        },
        {
          "output_type": "display_data",
          "data": {
            "text/plain": [
              "<IPython.core.display.HTML object>"
            ],
            "text/html": [
              " View run at <a href='https://wandb.ai/atds_ml/densenet_161/runs/gvy6086v' target=\"_blank\">https://wandb.ai/atds_ml/densenet_161/runs/gvy6086v</a>"
            ]
          },
          "metadata": {}
        },
        {
          "output_type": "stream",
          "name": "stdout",
          "text": [
            "X_train.shape torch.Size([31367, 3, 30, 30])\n",
            "X_valid.shape torch.Size([7842, 3, 30, 30])\n",
            "y_train.shape torch.Size([31367])\n",
            "y_valid.shape torch.Size([7842])\n"
          ]
        },
        {
          "output_type": "display_data",
          "data": {
            "text/plain": [
              "<IPython.core.display.HTML object>"
            ],
            "text/html": [
              "Waiting for W&B process to finish... <strong style=\"color:green\">(success).</strong>"
            ]
          },
          "metadata": {}
        },
        {
          "output_type": "display_data",
          "data": {
            "text/plain": [
              "VBox(children=(Label(value='0.001 MB of 0.001 MB uploaded (0.000 MB deduped)\\r'), FloatProgress(value=1.0, max…"
            ],
            "application/vnd.jupyter.widget-view+json": {
              "version_major": 2,
              "version_minor": 0,
              "model_id": "793ad9d4b72e40cd9417c352b69b76e5"
            }
          },
          "metadata": {}
        },
        {
          "output_type": "display_data",
          "data": {
            "text/plain": [
              "<IPython.core.display.HTML object>"
            ],
            "text/html": [
              "<style>\n",
              "    table.wandb td:nth-child(1) { padding: 0 10px; text-align: left ; width: auto;} td:nth-child(2) {text-align: left ; width: 100%}\n",
              "    .wandb-row { display: flex; flex-direction: row; flex-wrap: wrap; justify-content: flex-start; width: 100% }\n",
              "    .wandb-col { display: flex; flex-direction: column; flex-basis: 100%; flex: 1; padding: 10px; }\n",
              "    </style>\n",
              "<div class=\"wandb-row\"><div class=\"wandb-col\"><h3>Run history:</h3><br/><table class=\"wandb\"><tr><td>accuracy</td><td>▁▂▃▄▅▅▆▆▆▇▇▇███</td></tr><tr><td>epoch</td><td>▁▁▂▃▃▃▄▅▅▅▆▇▇▇█</td></tr><tr><td>learning_rate</td><td>▁▁▁▁▁▁▁▁▁▁▁▁▁▁▁</td></tr><tr><td>loss</td><td>█▄▄▃▃▃▂▂▃▁▁▁▁▂▁</td></tr></table><br/></div><div class=\"wandb-col\"><h3>Run summary:</h3><br/><table class=\"wandb\"><tr><td>accuracy</td><td>49.19663</td></tr><tr><td>epoch</td><td>14</td></tr><tr><td>learning_rate</td><td>0.00096</td></tr><tr><td>loss</td><td>3.2536</td></tr><tr><td>optimizer</td><td>sgd</td></tr></table><br/></div></div>"
            ]
          },
          "metadata": {}
        },
        {
          "output_type": "display_data",
          "data": {
            "text/plain": [
              "<IPython.core.display.HTML object>"
            ],
            "text/html": [
              " View run <strong style=\"color:#cdcd00\">bright-sweep-15</strong> at: <a href='https://wandb.ai/atds_ml/densenet_161/runs/gvy6086v' target=\"_blank\">https://wandb.ai/atds_ml/densenet_161/runs/gvy6086v</a><br/>Synced 5 W&B file(s), 0 media file(s), 0 artifact file(s) and 0 other file(s)"
            ]
          },
          "metadata": {}
        },
        {
          "output_type": "display_data",
          "data": {
            "text/plain": [
              "<IPython.core.display.HTML object>"
            ],
            "text/html": [
              "Find logs at: <code>./wandb/run-20230508_180107-gvy6086v/logs</code>"
            ]
          },
          "metadata": {}
        },
        {
          "output_type": "stream",
          "name": "stderr",
          "text": [
            "\u001b[34m\u001b[1mwandb\u001b[0m: Agent Starting Run: 662oab1u with config:\n",
            "\u001b[34m\u001b[1mwandb\u001b[0m: \tepochs: 15\n",
            "\u001b[34m\u001b[1mwandb\u001b[0m: \tlearning_rate: 0.0006964629136516773\n",
            "\u001b[34m\u001b[1mwandb\u001b[0m: \toptimizer: sgd\n"
          ]
        },
        {
          "output_type": "display_data",
          "data": {
            "text/plain": [
              "<IPython.core.display.HTML object>"
            ],
            "text/html": [
              "Tracking run with wandb version 0.15.2"
            ]
          },
          "metadata": {}
        },
        {
          "output_type": "display_data",
          "data": {
            "text/plain": [
              "<IPython.core.display.HTML object>"
            ],
            "text/html": [
              "Run data is saved locally in <code>/content/wandb/run-20230508_180633-662oab1u</code>"
            ]
          },
          "metadata": {}
        },
        {
          "output_type": "display_data",
          "data": {
            "text/plain": [
              "<IPython.core.display.HTML object>"
            ],
            "text/html": [
              "Syncing run <strong><a href='https://wandb.ai/atds_ml/densenet_161/runs/662oab1u' target=\"_blank\">logical-sweep-16</a></strong> to <a href='https://wandb.ai/atds_ml/densenet_161' target=\"_blank\">Weights & Biases</a> (<a href='https://wandb.me/run' target=\"_blank\">docs</a>)<br/>Sweep page: <a href='https://wandb.ai/atds_ml/densenet_161/sweeps/iyy7a2ks' target=\"_blank\">https://wandb.ai/atds_ml/densenet_161/sweeps/iyy7a2ks</a>"
            ]
          },
          "metadata": {}
        },
        {
          "output_type": "display_data",
          "data": {
            "text/plain": [
              "<IPython.core.display.HTML object>"
            ],
            "text/html": [
              " View project at <a href='https://wandb.ai/atds_ml/densenet_161' target=\"_blank\">https://wandb.ai/atds_ml/densenet_161</a>"
            ]
          },
          "metadata": {}
        },
        {
          "output_type": "display_data",
          "data": {
            "text/plain": [
              "<IPython.core.display.HTML object>"
            ],
            "text/html": [
              " View sweep at <a href='https://wandb.ai/atds_ml/densenet_161/sweeps/iyy7a2ks' target=\"_blank\">https://wandb.ai/atds_ml/densenet_161/sweeps/iyy7a2ks</a>"
            ]
          },
          "metadata": {}
        },
        {
          "output_type": "display_data",
          "data": {
            "text/plain": [
              "<IPython.core.display.HTML object>"
            ],
            "text/html": [
              " View run at <a href='https://wandb.ai/atds_ml/densenet_161/runs/662oab1u' target=\"_blank\">https://wandb.ai/atds_ml/densenet_161/runs/662oab1u</a>"
            ]
          },
          "metadata": {}
        },
        {
          "output_type": "stream",
          "name": "stdout",
          "text": [
            "X_train.shape torch.Size([31367, 3, 30, 30])\n",
            "X_valid.shape torch.Size([7842, 3, 30, 30])\n",
            "y_train.shape torch.Size([31367])\n",
            "y_valid.shape torch.Size([7842])\n"
          ]
        },
        {
          "output_type": "display_data",
          "data": {
            "text/plain": [
              "<IPython.core.display.HTML object>"
            ],
            "text/html": [
              "Waiting for W&B process to finish... <strong style=\"color:green\">(success).</strong>"
            ]
          },
          "metadata": {}
        },
        {
          "output_type": "display_data",
          "data": {
            "text/plain": [
              "VBox(children=(Label(value='0.001 MB of 0.001 MB uploaded (0.000 MB deduped)\\r'), FloatProgress(value=1.0, max…"
            ],
            "application/vnd.jupyter.widget-view+json": {
              "version_major": 2,
              "version_minor": 0,
              "model_id": "9a48054136ec4f07b3585e9728b3dcec"
            }
          },
          "metadata": {}
        },
        {
          "output_type": "display_data",
          "data": {
            "text/plain": [
              "<IPython.core.display.HTML object>"
            ],
            "text/html": [
              "<style>\n",
              "    table.wandb td:nth-child(1) { padding: 0 10px; text-align: left ; width: auto;} td:nth-child(2) {text-align: left ; width: 100%}\n",
              "    .wandb-row { display: flex; flex-direction: row; flex-wrap: wrap; justify-content: flex-start; width: 100% }\n",
              "    .wandb-col { display: flex; flex-direction: column; flex-basis: 100%; flex: 1; padding: 10px; }\n",
              "    </style>\n",
              "<div class=\"wandb-row\"><div class=\"wandb-col\"><h3>Run history:</h3><br/><table class=\"wandb\"><tr><td>accuracy</td><td>▁▂▃▄▅▅▆▆▆▇▇▇▇██</td></tr><tr><td>epoch</td><td>▁▁▂▃▃▃▄▅▅▅▆▇▇▇█</td></tr><tr><td>learning_rate</td><td>▁▁▁▁▁▁▁▁▁▁▁▁▁▁▁</td></tr><tr><td>loss</td><td>█▅▅▅▃▃▂▂▂▂▁▂▂▁▁</td></tr></table><br/></div><div class=\"wandb-col\"><h3>Run summary:</h3><br/><table class=\"wandb\"><tr><td>accuracy</td><td>44.74624</td></tr><tr><td>epoch</td><td>14</td></tr><tr><td>learning_rate</td><td>0.0007</td></tr><tr><td>loss</td><td>3.65389</td></tr><tr><td>optimizer</td><td>sgd</td></tr></table><br/></div></div>"
            ]
          },
          "metadata": {}
        },
        {
          "output_type": "display_data",
          "data": {
            "text/plain": [
              "<IPython.core.display.HTML object>"
            ],
            "text/html": [
              " View run <strong style=\"color:#cdcd00\">logical-sweep-16</strong> at: <a href='https://wandb.ai/atds_ml/densenet_161/runs/662oab1u' target=\"_blank\">https://wandb.ai/atds_ml/densenet_161/runs/662oab1u</a><br/>Synced 5 W&B file(s), 0 media file(s), 0 artifact file(s) and 0 other file(s)"
            ]
          },
          "metadata": {}
        },
        {
          "output_type": "display_data",
          "data": {
            "text/plain": [
              "<IPython.core.display.HTML object>"
            ],
            "text/html": [
              "Find logs at: <code>./wandb/run-20230508_180633-662oab1u/logs</code>"
            ]
          },
          "metadata": {}
        },
        {
          "output_type": "stream",
          "name": "stderr",
          "text": [
            "\u001b[34m\u001b[1mwandb\u001b[0m: Agent Starting Run: 2zs1xigk with config:\n",
            "\u001b[34m\u001b[1mwandb\u001b[0m: \tepochs: 15\n",
            "\u001b[34m\u001b[1mwandb\u001b[0m: \tlearning_rate: 0.0004462649478167773\n",
            "\u001b[34m\u001b[1mwandb\u001b[0m: \toptimizer: sgd\n"
          ]
        },
        {
          "output_type": "display_data",
          "data": {
            "text/plain": [
              "<IPython.core.display.HTML object>"
            ],
            "text/html": [
              "Tracking run with wandb version 0.15.2"
            ]
          },
          "metadata": {}
        },
        {
          "output_type": "display_data",
          "data": {
            "text/plain": [
              "<IPython.core.display.HTML object>"
            ],
            "text/html": [
              "Run data is saved locally in <code>/content/wandb/run-20230508_181208-2zs1xigk</code>"
            ]
          },
          "metadata": {}
        },
        {
          "output_type": "display_data",
          "data": {
            "text/plain": [
              "<IPython.core.display.HTML object>"
            ],
            "text/html": [
              "Syncing run <strong><a href='https://wandb.ai/atds_ml/densenet_161/runs/2zs1xigk' target=\"_blank\">wise-sweep-17</a></strong> to <a href='https://wandb.ai/atds_ml/densenet_161' target=\"_blank\">Weights & Biases</a> (<a href='https://wandb.me/run' target=\"_blank\">docs</a>)<br/>Sweep page: <a href='https://wandb.ai/atds_ml/densenet_161/sweeps/iyy7a2ks' target=\"_blank\">https://wandb.ai/atds_ml/densenet_161/sweeps/iyy7a2ks</a>"
            ]
          },
          "metadata": {}
        },
        {
          "output_type": "display_data",
          "data": {
            "text/plain": [
              "<IPython.core.display.HTML object>"
            ],
            "text/html": [
              " View project at <a href='https://wandb.ai/atds_ml/densenet_161' target=\"_blank\">https://wandb.ai/atds_ml/densenet_161</a>"
            ]
          },
          "metadata": {}
        },
        {
          "output_type": "display_data",
          "data": {
            "text/plain": [
              "<IPython.core.display.HTML object>"
            ],
            "text/html": [
              " View sweep at <a href='https://wandb.ai/atds_ml/densenet_161/sweeps/iyy7a2ks' target=\"_blank\">https://wandb.ai/atds_ml/densenet_161/sweeps/iyy7a2ks</a>"
            ]
          },
          "metadata": {}
        },
        {
          "output_type": "display_data",
          "data": {
            "text/plain": [
              "<IPython.core.display.HTML object>"
            ],
            "text/html": [
              " View run at <a href='https://wandb.ai/atds_ml/densenet_161/runs/2zs1xigk' target=\"_blank\">https://wandb.ai/atds_ml/densenet_161/runs/2zs1xigk</a>"
            ]
          },
          "metadata": {}
        },
        {
          "output_type": "stream",
          "name": "stdout",
          "text": [
            "X_train.shape torch.Size([31367, 3, 30, 30])\n",
            "X_valid.shape torch.Size([7842, 3, 30, 30])\n",
            "y_train.shape torch.Size([31367])\n",
            "y_valid.shape torch.Size([7842])\n"
          ]
        },
        {
          "output_type": "display_data",
          "data": {
            "text/plain": [
              "<IPython.core.display.HTML object>"
            ],
            "text/html": [
              "Waiting for W&B process to finish... <strong style=\"color:green\">(success).</strong>"
            ]
          },
          "metadata": {}
        },
        {
          "output_type": "display_data",
          "data": {
            "text/plain": [
              "VBox(children=(Label(value='0.001 MB of 0.001 MB uploaded (0.000 MB deduped)\\r'), FloatProgress(value=1.0, max…"
            ],
            "application/vnd.jupyter.widget-view+json": {
              "version_major": 2,
              "version_minor": 0,
              "model_id": "ea8ef2f215d64c928fc5c352b438998f"
            }
          },
          "metadata": {}
        },
        {
          "output_type": "display_data",
          "data": {
            "text/plain": [
              "<IPython.core.display.HTML object>"
            ],
            "text/html": [
              "<style>\n",
              "    table.wandb td:nth-child(1) { padding: 0 10px; text-align: left ; width: auto;} td:nth-child(2) {text-align: left ; width: 100%}\n",
              "    .wandb-row { display: flex; flex-direction: row; flex-wrap: wrap; justify-content: flex-start; width: 100% }\n",
              "    .wandb-col { display: flex; flex-direction: column; flex-basis: 100%; flex: 1; padding: 10px; }\n",
              "    </style>\n",
              "<div class=\"wandb-row\"><div class=\"wandb-col\"><h3>Run history:</h3><br/><table class=\"wandb\"><tr><td>accuracy</td><td>▁▂▃▄▄▅▅▆▆▇▇▇▇██</td></tr><tr><td>epoch</td><td>▁▁▂▃▃▃▄▅▅▅▆▇▇▇█</td></tr><tr><td>learning_rate</td><td>▁▁▁▁▁▁▁▁▁▁▁▁▁▁▁</td></tr><tr><td>loss</td><td>█▇▇▅▄▄▃▃▃▃▃▄▂▁▁</td></tr></table><br/></div><div class=\"wandb-col\"><h3>Run summary:</h3><br/><table class=\"wandb\"><tr><td>accuracy</td><td>35.65417</td></tr><tr><td>epoch</td><td>14</td></tr><tr><td>learning_rate</td><td>0.00045</td></tr><tr><td>loss</td><td>4.4609</td></tr><tr><td>optimizer</td><td>sgd</td></tr></table><br/></div></div>"
            ]
          },
          "metadata": {}
        },
        {
          "output_type": "display_data",
          "data": {
            "text/plain": [
              "<IPython.core.display.HTML object>"
            ],
            "text/html": [
              " View run <strong style=\"color:#cdcd00\">wise-sweep-17</strong> at: <a href='https://wandb.ai/atds_ml/densenet_161/runs/2zs1xigk' target=\"_blank\">https://wandb.ai/atds_ml/densenet_161/runs/2zs1xigk</a><br/>Synced 5 W&B file(s), 0 media file(s), 0 artifact file(s) and 0 other file(s)"
            ]
          },
          "metadata": {}
        },
        {
          "output_type": "display_data",
          "data": {
            "text/plain": [
              "<IPython.core.display.HTML object>"
            ],
            "text/html": [
              "Find logs at: <code>./wandb/run-20230508_181208-2zs1xigk/logs</code>"
            ]
          },
          "metadata": {}
        },
        {
          "output_type": "stream",
          "name": "stderr",
          "text": [
            "\u001b[34m\u001b[1mwandb\u001b[0m: Agent Starting Run: o93y5g4i with config:\n",
            "\u001b[34m\u001b[1mwandb\u001b[0m: \tepochs: 15\n",
            "\u001b[34m\u001b[1mwandb\u001b[0m: \tlearning_rate: 0.000939879977140442\n",
            "\u001b[34m\u001b[1mwandb\u001b[0m: \toptimizer: adam\n"
          ]
        },
        {
          "output_type": "display_data",
          "data": {
            "text/plain": [
              "<IPython.core.display.HTML object>"
            ],
            "text/html": [
              "Tracking run with wandb version 0.15.2"
            ]
          },
          "metadata": {}
        },
        {
          "output_type": "display_data",
          "data": {
            "text/plain": [
              "<IPython.core.display.HTML object>"
            ],
            "text/html": [
              "Run data is saved locally in <code>/content/wandb/run-20230508_181742-o93y5g4i</code>"
            ]
          },
          "metadata": {}
        },
        {
          "output_type": "display_data",
          "data": {
            "text/plain": [
              "<IPython.core.display.HTML object>"
            ],
            "text/html": [
              "Syncing run <strong><a href='https://wandb.ai/atds_ml/densenet_161/runs/o93y5g4i' target=\"_blank\">pretty-sweep-18</a></strong> to <a href='https://wandb.ai/atds_ml/densenet_161' target=\"_blank\">Weights & Biases</a> (<a href='https://wandb.me/run' target=\"_blank\">docs</a>)<br/>Sweep page: <a href='https://wandb.ai/atds_ml/densenet_161/sweeps/iyy7a2ks' target=\"_blank\">https://wandb.ai/atds_ml/densenet_161/sweeps/iyy7a2ks</a>"
            ]
          },
          "metadata": {}
        },
        {
          "output_type": "display_data",
          "data": {
            "text/plain": [
              "<IPython.core.display.HTML object>"
            ],
            "text/html": [
              " View project at <a href='https://wandb.ai/atds_ml/densenet_161' target=\"_blank\">https://wandb.ai/atds_ml/densenet_161</a>"
            ]
          },
          "metadata": {}
        },
        {
          "output_type": "display_data",
          "data": {
            "text/plain": [
              "<IPython.core.display.HTML object>"
            ],
            "text/html": [
              " View sweep at <a href='https://wandb.ai/atds_ml/densenet_161/sweeps/iyy7a2ks' target=\"_blank\">https://wandb.ai/atds_ml/densenet_161/sweeps/iyy7a2ks</a>"
            ]
          },
          "metadata": {}
        },
        {
          "output_type": "display_data",
          "data": {
            "text/plain": [
              "<IPython.core.display.HTML object>"
            ],
            "text/html": [
              " View run at <a href='https://wandb.ai/atds_ml/densenet_161/runs/o93y5g4i' target=\"_blank\">https://wandb.ai/atds_ml/densenet_161/runs/o93y5g4i</a>"
            ]
          },
          "metadata": {}
        },
        {
          "output_type": "stream",
          "name": "stdout",
          "text": [
            "X_train.shape torch.Size([31367, 3, 30, 30])\n",
            "X_valid.shape torch.Size([7842, 3, 30, 30])\n",
            "y_train.shape torch.Size([31367])\n",
            "y_valid.shape torch.Size([7842])\n"
          ]
        },
        {
          "output_type": "display_data",
          "data": {
            "text/plain": [
              "<IPython.core.display.HTML object>"
            ],
            "text/html": [
              "Waiting for W&B process to finish... <strong style=\"color:green\">(success).</strong>"
            ]
          },
          "metadata": {}
        },
        {
          "output_type": "display_data",
          "data": {
            "text/plain": [
              "VBox(children=(Label(value='0.001 MB of 0.001 MB uploaded (0.000 MB deduped)\\r'), FloatProgress(value=1.0, max…"
            ],
            "application/vnd.jupyter.widget-view+json": {
              "version_major": 2,
              "version_minor": 0,
              "model_id": "789e2d732b1a4c6b8bfed683b2294c83"
            }
          },
          "metadata": {}
        },
        {
          "output_type": "display_data",
          "data": {
            "text/plain": [
              "<IPython.core.display.HTML object>"
            ],
            "text/html": [
              "<style>\n",
              "    table.wandb td:nth-child(1) { padding: 0 10px; text-align: left ; width: auto;} td:nth-child(2) {text-align: left ; width: 100%}\n",
              "    .wandb-row { display: flex; flex-direction: row; flex-wrap: wrap; justify-content: flex-start; width: 100% }\n",
              "    .wandb-col { display: flex; flex-direction: column; flex-basis: 100%; flex: 1; padding: 10px; }\n",
              "    </style>\n",
              "<div class=\"wandb-row\"><div class=\"wandb-col\"><h3>Run history:</h3><br/><table class=\"wandb\"><tr><td>accuracy</td><td>▁▃▄▅▆▆▇▇▇▇█████</td></tr><tr><td>epoch</td><td>▁▁▂▃▃▃▄▅▅▅▆▇▇▇█</td></tr><tr><td>learning_rate</td><td>▁▁▁▁▁▁▁▁▁▁▁▁▁▁▁</td></tr><tr><td>loss</td><td>█▄▃▃▃▂▃▂▂▂▂▂▁▂▁</td></tr></table><br/></div><div class=\"wandb-col\"><h3>Run summary:</h3><br/><table class=\"wandb\"><tr><td>accuracy</td><td>69.9949</td></tr><tr><td>epoch</td><td>14</td></tr><tr><td>learning_rate</td><td>0.00094</td></tr><tr><td>loss</td><td>1.70564</td></tr><tr><td>optimizer</td><td>adam</td></tr></table><br/></div></div>"
            ]
          },
          "metadata": {}
        },
        {
          "output_type": "display_data",
          "data": {
            "text/plain": [
              "<IPython.core.display.HTML object>"
            ],
            "text/html": [
              " View run <strong style=\"color:#cdcd00\">pretty-sweep-18</strong> at: <a href='https://wandb.ai/atds_ml/densenet_161/runs/o93y5g4i' target=\"_blank\">https://wandb.ai/atds_ml/densenet_161/runs/o93y5g4i</a><br/>Synced 5 W&B file(s), 0 media file(s), 0 artifact file(s) and 0 other file(s)"
            ]
          },
          "metadata": {}
        },
        {
          "output_type": "display_data",
          "data": {
            "text/plain": [
              "<IPython.core.display.HTML object>"
            ],
            "text/html": [
              "Find logs at: <code>./wandb/run-20230508_181742-o93y5g4i/logs</code>"
            ]
          },
          "metadata": {}
        },
        {
          "output_type": "stream",
          "name": "stderr",
          "text": [
            "\u001b[34m\u001b[1mwandb\u001b[0m: Agent Starting Run: ctscwznc with config:\n",
            "\u001b[34m\u001b[1mwandb\u001b[0m: \tepochs: 15\n",
            "\u001b[34m\u001b[1mwandb\u001b[0m: \tlearning_rate: 0.00027934655511633656\n",
            "\u001b[34m\u001b[1mwandb\u001b[0m: \toptimizer: sgd\n"
          ]
        },
        {
          "output_type": "display_data",
          "data": {
            "text/plain": [
              "<IPython.core.display.HTML object>"
            ],
            "text/html": [
              "Tracking run with wandb version 0.15.2"
            ]
          },
          "metadata": {}
        },
        {
          "output_type": "display_data",
          "data": {
            "text/plain": [
              "<IPython.core.display.HTML object>"
            ],
            "text/html": [
              "Run data is saved locally in <code>/content/wandb/run-20230508_182318-ctscwznc</code>"
            ]
          },
          "metadata": {}
        },
        {
          "output_type": "display_data",
          "data": {
            "text/plain": [
              "<IPython.core.display.HTML object>"
            ],
            "text/html": [
              "Syncing run <strong><a href='https://wandb.ai/atds_ml/densenet_161/runs/ctscwznc' target=\"_blank\">legendary-sweep-19</a></strong> to <a href='https://wandb.ai/atds_ml/densenet_161' target=\"_blank\">Weights & Biases</a> (<a href='https://wandb.me/run' target=\"_blank\">docs</a>)<br/>Sweep page: <a href='https://wandb.ai/atds_ml/densenet_161/sweeps/iyy7a2ks' target=\"_blank\">https://wandb.ai/atds_ml/densenet_161/sweeps/iyy7a2ks</a>"
            ]
          },
          "metadata": {}
        },
        {
          "output_type": "display_data",
          "data": {
            "text/plain": [
              "<IPython.core.display.HTML object>"
            ],
            "text/html": [
              " View project at <a href='https://wandb.ai/atds_ml/densenet_161' target=\"_blank\">https://wandb.ai/atds_ml/densenet_161</a>"
            ]
          },
          "metadata": {}
        },
        {
          "output_type": "display_data",
          "data": {
            "text/plain": [
              "<IPython.core.display.HTML object>"
            ],
            "text/html": [
              " View sweep at <a href='https://wandb.ai/atds_ml/densenet_161/sweeps/iyy7a2ks' target=\"_blank\">https://wandb.ai/atds_ml/densenet_161/sweeps/iyy7a2ks</a>"
            ]
          },
          "metadata": {}
        },
        {
          "output_type": "display_data",
          "data": {
            "text/plain": [
              "<IPython.core.display.HTML object>"
            ],
            "text/html": [
              " View run at <a href='https://wandb.ai/atds_ml/densenet_161/runs/ctscwznc' target=\"_blank\">https://wandb.ai/atds_ml/densenet_161/runs/ctscwznc</a>"
            ]
          },
          "metadata": {}
        },
        {
          "output_type": "stream",
          "name": "stdout",
          "text": [
            "X_train.shape torch.Size([31367, 3, 30, 30])\n",
            "X_valid.shape torch.Size([7842, 3, 30, 30])\n",
            "y_train.shape torch.Size([31367])\n",
            "y_valid.shape torch.Size([7842])\n"
          ]
        },
        {
          "output_type": "display_data",
          "data": {
            "text/plain": [
              "<IPython.core.display.HTML object>"
            ],
            "text/html": [
              "Waiting for W&B process to finish... <strong style=\"color:green\">(success).</strong>"
            ]
          },
          "metadata": {}
        },
        {
          "output_type": "display_data",
          "data": {
            "text/plain": [
              "VBox(children=(Label(value='0.001 MB of 0.001 MB uploaded (0.000 MB deduped)\\r'), FloatProgress(value=1.0, max…"
            ],
            "application/vnd.jupyter.widget-view+json": {
              "version_major": 2,
              "version_minor": 0,
              "model_id": "22eb56445f134601a08947090c41277a"
            }
          },
          "metadata": {}
        },
        {
          "output_type": "display_data",
          "data": {
            "text/plain": [
              "<IPython.core.display.HTML object>"
            ],
            "text/html": [
              "<style>\n",
              "    table.wandb td:nth-child(1) { padding: 0 10px; text-align: left ; width: auto;} td:nth-child(2) {text-align: left ; width: 100%}\n",
              "    .wandb-row { display: flex; flex-direction: row; flex-wrap: wrap; justify-content: flex-start; width: 100% }\n",
              "    .wandb-col { display: flex; flex-direction: column; flex-basis: 100%; flex: 1; padding: 10px; }\n",
              "    </style>\n",
              "<div class=\"wandb-row\"><div class=\"wandb-col\"><h3>Run history:</h3><br/><table class=\"wandb\"><tr><td>accuracy</td><td>▁▂▂▃▄▄▅▅▆▆▇▇▇██</td></tr><tr><td>epoch</td><td>▁▁▂▃▃▃▄▅▅▅▆▇▇▇█</td></tr><tr><td>learning_rate</td><td>▁▁▁▁▁▁▁▁▁▁▁▁▁▁▁</td></tr><tr><td>loss</td><td>█▇▅▆▅▄▄▄▂▂▁▁▁▁▁</td></tr></table><br/></div><div class=\"wandb-col\"><h3>Run summary:</h3><br/><table class=\"wandb\"><tr><td>accuracy</td><td>28.11783</td></tr><tr><td>epoch</td><td>14</td></tr><tr><td>learning_rate</td><td>0.00028</td></tr><tr><td>loss</td><td>5.56898</td></tr><tr><td>optimizer</td><td>sgd</td></tr></table><br/></div></div>"
            ]
          },
          "metadata": {}
        },
        {
          "output_type": "display_data",
          "data": {
            "text/plain": [
              "<IPython.core.display.HTML object>"
            ],
            "text/html": [
              " View run <strong style=\"color:#cdcd00\">legendary-sweep-19</strong> at: <a href='https://wandb.ai/atds_ml/densenet_161/runs/ctscwznc' target=\"_blank\">https://wandb.ai/atds_ml/densenet_161/runs/ctscwznc</a><br/>Synced 5 W&B file(s), 0 media file(s), 0 artifact file(s) and 0 other file(s)"
            ]
          },
          "metadata": {}
        },
        {
          "output_type": "display_data",
          "data": {
            "text/plain": [
              "<IPython.core.display.HTML object>"
            ],
            "text/html": [
              "Find logs at: <code>./wandb/run-20230508_182318-ctscwznc/logs</code>"
            ]
          },
          "metadata": {}
        },
        {
          "output_type": "stream",
          "name": "stderr",
          "text": [
            "\u001b[34m\u001b[1mwandb\u001b[0m: Agent Starting Run: cee89rxj with config:\n",
            "\u001b[34m\u001b[1mwandb\u001b[0m: \tepochs: 15\n",
            "\u001b[34m\u001b[1mwandb\u001b[0m: \tlearning_rate: 0.0003330701852597565\n",
            "\u001b[34m\u001b[1mwandb\u001b[0m: \toptimizer: adam\n"
          ]
        },
        {
          "output_type": "display_data",
          "data": {
            "text/plain": [
              "<IPython.core.display.HTML object>"
            ],
            "text/html": [
              "Tracking run with wandb version 0.15.2"
            ]
          },
          "metadata": {}
        },
        {
          "output_type": "display_data",
          "data": {
            "text/plain": [
              "<IPython.core.display.HTML object>"
            ],
            "text/html": [
              "Run data is saved locally in <code>/content/wandb/run-20230508_182844-cee89rxj</code>"
            ]
          },
          "metadata": {}
        },
        {
          "output_type": "display_data",
          "data": {
            "text/plain": [
              "<IPython.core.display.HTML object>"
            ],
            "text/html": [
              "Syncing run <strong><a href='https://wandb.ai/atds_ml/densenet_161/runs/cee89rxj' target=\"_blank\">genial-sweep-20</a></strong> to <a href='https://wandb.ai/atds_ml/densenet_161' target=\"_blank\">Weights & Biases</a> (<a href='https://wandb.me/run' target=\"_blank\">docs</a>)<br/>Sweep page: <a href='https://wandb.ai/atds_ml/densenet_161/sweeps/iyy7a2ks' target=\"_blank\">https://wandb.ai/atds_ml/densenet_161/sweeps/iyy7a2ks</a>"
            ]
          },
          "metadata": {}
        },
        {
          "output_type": "display_data",
          "data": {
            "text/plain": [
              "<IPython.core.display.HTML object>"
            ],
            "text/html": [
              " View project at <a href='https://wandb.ai/atds_ml/densenet_161' target=\"_blank\">https://wandb.ai/atds_ml/densenet_161</a>"
            ]
          },
          "metadata": {}
        },
        {
          "output_type": "display_data",
          "data": {
            "text/plain": [
              "<IPython.core.display.HTML object>"
            ],
            "text/html": [
              " View sweep at <a href='https://wandb.ai/atds_ml/densenet_161/sweeps/iyy7a2ks' target=\"_blank\">https://wandb.ai/atds_ml/densenet_161/sweeps/iyy7a2ks</a>"
            ]
          },
          "metadata": {}
        },
        {
          "output_type": "display_data",
          "data": {
            "text/plain": [
              "<IPython.core.display.HTML object>"
            ],
            "text/html": [
              " View run at <a href='https://wandb.ai/atds_ml/densenet_161/runs/cee89rxj' target=\"_blank\">https://wandb.ai/atds_ml/densenet_161/runs/cee89rxj</a>"
            ]
          },
          "metadata": {}
        },
        {
          "output_type": "stream",
          "name": "stdout",
          "text": [
            "X_train.shape torch.Size([31367, 3, 30, 30])\n",
            "X_valid.shape torch.Size([7842, 3, 30, 30])\n",
            "y_train.shape torch.Size([31367])\n",
            "y_valid.shape torch.Size([7842])\n"
          ]
        },
        {
          "output_type": "display_data",
          "data": {
            "text/plain": [
              "<IPython.core.display.HTML object>"
            ],
            "text/html": [
              "Waiting for W&B process to finish... <strong style=\"color:green\">(success).</strong>"
            ]
          },
          "metadata": {}
        },
        {
          "output_type": "display_data",
          "data": {
            "text/plain": [
              "<IPython.core.display.HTML object>"
            ],
            "text/html": [
              "<style>\n",
              "    table.wandb td:nth-child(1) { padding: 0 10px; text-align: left ; width: auto;} td:nth-child(2) {text-align: left ; width: 100%}\n",
              "    .wandb-row { display: flex; flex-direction: row; flex-wrap: wrap; justify-content: flex-start; width: 100% }\n",
              "    .wandb-col { display: flex; flex-direction: column; flex-basis: 100%; flex: 1; padding: 10px; }\n",
              "    </style>\n",
              "<div class=\"wandb-row\"><div class=\"wandb-col\"><h3>Run history:</h3><br/><table class=\"wandb\"><tr><td>accuracy</td><td>▁▂▃▄▅▅▆▆▇▇▇▇▇██</td></tr><tr><td>epoch</td><td>▁▁▂▃▃▃▄▅▅▅▆▇▇▇█</td></tr><tr><td>learning_rate</td><td>▁▁▁▁▁▁▁▁▁▁▁▁▁▁▁</td></tr><tr><td>loss</td><td>█▄▄▄▃▂▂▃▂▁▂▁▂▁▁</td></tr></table><br/></div><div class=\"wandb-col\"><h3>Run summary:</h3><br/><table class=\"wandb\"><tr><td>accuracy</td><td>58.14843</td></tr><tr><td>epoch</td><td>14</td></tr><tr><td>learning_rate</td><td>0.00033</td></tr><tr><td>loss</td><td>2.70326</td></tr><tr><td>optimizer</td><td>adam</td></tr></table><br/></div></div>"
            ]
          },
          "metadata": {}
        },
        {
          "output_type": "display_data",
          "data": {
            "text/plain": [
              "<IPython.core.display.HTML object>"
            ],
            "text/html": [
              " View run <strong style=\"color:#cdcd00\">genial-sweep-20</strong> at: <a href='https://wandb.ai/atds_ml/densenet_161/runs/cee89rxj' target=\"_blank\">https://wandb.ai/atds_ml/densenet_161/runs/cee89rxj</a><br/>Synced 5 W&B file(s), 0 media file(s), 0 artifact file(s) and 0 other file(s)"
            ]
          },
          "metadata": {}
        },
        {
          "output_type": "display_data",
          "data": {
            "text/plain": [
              "<IPython.core.display.HTML object>"
            ],
            "text/html": [
              "Find logs at: <code>./wandb/run-20230508_182844-cee89rxj/logs</code>"
            ]
          },
          "metadata": {}
        }
      ],
      "source": [
        "wandb.agent(sweep_id, train, count=20)"
      ]
    }
  ],
  "metadata": {
    "accelerator": "GPU",
    "colab": {
      "provenance": [],
      "machine_shape": "hm"
    },
    "gpuClass": "standard",
    "kernelspec": {
      "display_name": "Python 3",
      "name": "python3"
    },
    "language_info": {
      "name": "python"
    },
    "widgets": {
      "application/vnd.jupyter.widget-state+json": {
        "d423285d78fb482ea62a53658d049983": {
          "model_module": "@jupyter-widgets/controls",
          "model_name": "VBoxModel",
          "model_module_version": "1.5.0",
          "state": {
            "_dom_classes": [],
            "_model_module": "@jupyter-widgets/controls",
            "_model_module_version": "1.5.0",
            "_model_name": "VBoxModel",
            "_view_count": null,
            "_view_module": "@jupyter-widgets/controls",
            "_view_module_version": "1.5.0",
            "_view_name": "VBoxView",
            "box_style": "",
            "children": [
              "IPY_MODEL_7592a7283796460fb5a521bd145176e6",
              "IPY_MODEL_fcbca39e9bb242bcbab49f0585242f64"
            ],
            "layout": "IPY_MODEL_ea4eaccfd3e24aa38fc1d7599827790c"
          }
        },
        "7592a7283796460fb5a521bd145176e6": {
          "model_module": "@jupyter-widgets/controls",
          "model_name": "LabelModel",
          "model_module_version": "1.5.0",
          "state": {
            "_dom_classes": [],
            "_model_module": "@jupyter-widgets/controls",
            "_model_module_version": "1.5.0",
            "_model_name": "LabelModel",
            "_view_count": null,
            "_view_module": "@jupyter-widgets/controls",
            "_view_module_version": "1.5.0",
            "_view_name": "LabelView",
            "description": "",
            "description_tooltip": null,
            "layout": "IPY_MODEL_2e6dc59710cd4fb784780574af8fd345",
            "placeholder": "​",
            "style": "IPY_MODEL_82b590d438c844a9a8cd6ab0c710faec",
            "value": "0.001 MB of 0.001 MB uploaded (0.000 MB deduped)\r"
          }
        },
        "fcbca39e9bb242bcbab49f0585242f64": {
          "model_module": "@jupyter-widgets/controls",
          "model_name": "FloatProgressModel",
          "model_module_version": "1.5.0",
          "state": {
            "_dom_classes": [],
            "_model_module": "@jupyter-widgets/controls",
            "_model_module_version": "1.5.0",
            "_model_name": "FloatProgressModel",
            "_view_count": null,
            "_view_module": "@jupyter-widgets/controls",
            "_view_module_version": "1.5.0",
            "_view_name": "ProgressView",
            "bar_style": "",
            "description": "",
            "description_tooltip": null,
            "layout": "IPY_MODEL_63afc588785a45caa373c6f6436b31a8",
            "max": 1,
            "min": 0,
            "orientation": "horizontal",
            "style": "IPY_MODEL_2bd4c95f7dd7482e8892b42c1f15e9f1",
            "value": 1
          }
        },
        "ea4eaccfd3e24aa38fc1d7599827790c": {
          "model_module": "@jupyter-widgets/base",
          "model_name": "LayoutModel",
          "model_module_version": "1.2.0",
          "state": {
            "_model_module": "@jupyter-widgets/base",
            "_model_module_version": "1.2.0",
            "_model_name": "LayoutModel",
            "_view_count": null,
            "_view_module": "@jupyter-widgets/base",
            "_view_module_version": "1.2.0",
            "_view_name": "LayoutView",
            "align_content": null,
            "align_items": null,
            "align_self": null,
            "border": null,
            "bottom": null,
            "display": null,
            "flex": null,
            "flex_flow": null,
            "grid_area": null,
            "grid_auto_columns": null,
            "grid_auto_flow": null,
            "grid_auto_rows": null,
            "grid_column": null,
            "grid_gap": null,
            "grid_row": null,
            "grid_template_areas": null,
            "grid_template_columns": null,
            "grid_template_rows": null,
            "height": null,
            "justify_content": null,
            "justify_items": null,
            "left": null,
            "margin": null,
            "max_height": null,
            "max_width": null,
            "min_height": null,
            "min_width": null,
            "object_fit": null,
            "object_position": null,
            "order": null,
            "overflow": null,
            "overflow_x": null,
            "overflow_y": null,
            "padding": null,
            "right": null,
            "top": null,
            "visibility": null,
            "width": null
          }
        },
        "2e6dc59710cd4fb784780574af8fd345": {
          "model_module": "@jupyter-widgets/base",
          "model_name": "LayoutModel",
          "model_module_version": "1.2.0",
          "state": {
            "_model_module": "@jupyter-widgets/base",
            "_model_module_version": "1.2.0",
            "_model_name": "LayoutModel",
            "_view_count": null,
            "_view_module": "@jupyter-widgets/base",
            "_view_module_version": "1.2.0",
            "_view_name": "LayoutView",
            "align_content": null,
            "align_items": null,
            "align_self": null,
            "border": null,
            "bottom": null,
            "display": null,
            "flex": null,
            "flex_flow": null,
            "grid_area": null,
            "grid_auto_columns": null,
            "grid_auto_flow": null,
            "grid_auto_rows": null,
            "grid_column": null,
            "grid_gap": null,
            "grid_row": null,
            "grid_template_areas": null,
            "grid_template_columns": null,
            "grid_template_rows": null,
            "height": null,
            "justify_content": null,
            "justify_items": null,
            "left": null,
            "margin": null,
            "max_height": null,
            "max_width": null,
            "min_height": null,
            "min_width": null,
            "object_fit": null,
            "object_position": null,
            "order": null,
            "overflow": null,
            "overflow_x": null,
            "overflow_y": null,
            "padding": null,
            "right": null,
            "top": null,
            "visibility": null,
            "width": null
          }
        },
        "82b590d438c844a9a8cd6ab0c710faec": {
          "model_module": "@jupyter-widgets/controls",
          "model_name": "DescriptionStyleModel",
          "model_module_version": "1.5.0",
          "state": {
            "_model_module": "@jupyter-widgets/controls",
            "_model_module_version": "1.5.0",
            "_model_name": "DescriptionStyleModel",
            "_view_count": null,
            "_view_module": "@jupyter-widgets/base",
            "_view_module_version": "1.2.0",
            "_view_name": "StyleView",
            "description_width": ""
          }
        },
        "63afc588785a45caa373c6f6436b31a8": {
          "model_module": "@jupyter-widgets/base",
          "model_name": "LayoutModel",
          "model_module_version": "1.2.0",
          "state": {
            "_model_module": "@jupyter-widgets/base",
            "_model_module_version": "1.2.0",
            "_model_name": "LayoutModel",
            "_view_count": null,
            "_view_module": "@jupyter-widgets/base",
            "_view_module_version": "1.2.0",
            "_view_name": "LayoutView",
            "align_content": null,
            "align_items": null,
            "align_self": null,
            "border": null,
            "bottom": null,
            "display": null,
            "flex": null,
            "flex_flow": null,
            "grid_area": null,
            "grid_auto_columns": null,
            "grid_auto_flow": null,
            "grid_auto_rows": null,
            "grid_column": null,
            "grid_gap": null,
            "grid_row": null,
            "grid_template_areas": null,
            "grid_template_columns": null,
            "grid_template_rows": null,
            "height": null,
            "justify_content": null,
            "justify_items": null,
            "left": null,
            "margin": null,
            "max_height": null,
            "max_width": null,
            "min_height": null,
            "min_width": null,
            "object_fit": null,
            "object_position": null,
            "order": null,
            "overflow": null,
            "overflow_x": null,
            "overflow_y": null,
            "padding": null,
            "right": null,
            "top": null,
            "visibility": null,
            "width": null
          }
        },
        "2bd4c95f7dd7482e8892b42c1f15e9f1": {
          "model_module": "@jupyter-widgets/controls",
          "model_name": "ProgressStyleModel",
          "model_module_version": "1.5.0",
          "state": {
            "_model_module": "@jupyter-widgets/controls",
            "_model_module_version": "1.5.0",
            "_model_name": "ProgressStyleModel",
            "_view_count": null,
            "_view_module": "@jupyter-widgets/base",
            "_view_module_version": "1.2.0",
            "_view_name": "StyleView",
            "bar_color": null,
            "description_width": ""
          }
        },
        "686e2aebece34e90a7817a170dbd528a": {
          "model_module": "@jupyter-widgets/controls",
          "model_name": "VBoxModel",
          "model_module_version": "1.5.0",
          "state": {
            "_dom_classes": [],
            "_model_module": "@jupyter-widgets/controls",
            "_model_module_version": "1.5.0",
            "_model_name": "VBoxModel",
            "_view_count": null,
            "_view_module": "@jupyter-widgets/controls",
            "_view_module_version": "1.5.0",
            "_view_name": "VBoxView",
            "box_style": "",
            "children": [
              "IPY_MODEL_9d1f050886e34d0594bc5d532d6b1a25",
              "IPY_MODEL_1b79fb6a4bd94b8fbe02781d1a85dd56"
            ],
            "layout": "IPY_MODEL_a295a0462b3942aa94f030dfd86e47e1"
          }
        },
        "9d1f050886e34d0594bc5d532d6b1a25": {
          "model_module": "@jupyter-widgets/controls",
          "model_name": "LabelModel",
          "model_module_version": "1.5.0",
          "state": {
            "_dom_classes": [],
            "_model_module": "@jupyter-widgets/controls",
            "_model_module_version": "1.5.0",
            "_model_name": "LabelModel",
            "_view_count": null,
            "_view_module": "@jupyter-widgets/controls",
            "_view_module_version": "1.5.0",
            "_view_name": "LabelView",
            "description": "",
            "description_tooltip": null,
            "layout": "IPY_MODEL_53629b221c9c43e4b2d316b68998a5c8",
            "placeholder": "​",
            "style": "IPY_MODEL_d6d6ac9afc404395acfc8e6189396932",
            "value": "0.001 MB of 0.002 MB uploaded (0.000 MB deduped)\r"
          }
        },
        "1b79fb6a4bd94b8fbe02781d1a85dd56": {
          "model_module": "@jupyter-widgets/controls",
          "model_name": "FloatProgressModel",
          "model_module_version": "1.5.0",
          "state": {
            "_dom_classes": [],
            "_model_module": "@jupyter-widgets/controls",
            "_model_module_version": "1.5.0",
            "_model_name": "FloatProgressModel",
            "_view_count": null,
            "_view_module": "@jupyter-widgets/controls",
            "_view_module_version": "1.5.0",
            "_view_name": "ProgressView",
            "bar_style": "",
            "description": "",
            "description_tooltip": null,
            "layout": "IPY_MODEL_8fdc5fc0b3014a839c5dce04ec2a5871",
            "max": 1,
            "min": 0,
            "orientation": "horizontal",
            "style": "IPY_MODEL_fffdc9f6d1af4ef58b755351d58fb758",
            "value": 0.5700123915737298
          }
        },
        "a295a0462b3942aa94f030dfd86e47e1": {
          "model_module": "@jupyter-widgets/base",
          "model_name": "LayoutModel",
          "model_module_version": "1.2.0",
          "state": {
            "_model_module": "@jupyter-widgets/base",
            "_model_module_version": "1.2.0",
            "_model_name": "LayoutModel",
            "_view_count": null,
            "_view_module": "@jupyter-widgets/base",
            "_view_module_version": "1.2.0",
            "_view_name": "LayoutView",
            "align_content": null,
            "align_items": null,
            "align_self": null,
            "border": null,
            "bottom": null,
            "display": null,
            "flex": null,
            "flex_flow": null,
            "grid_area": null,
            "grid_auto_columns": null,
            "grid_auto_flow": null,
            "grid_auto_rows": null,
            "grid_column": null,
            "grid_gap": null,
            "grid_row": null,
            "grid_template_areas": null,
            "grid_template_columns": null,
            "grid_template_rows": null,
            "height": null,
            "justify_content": null,
            "justify_items": null,
            "left": null,
            "margin": null,
            "max_height": null,
            "max_width": null,
            "min_height": null,
            "min_width": null,
            "object_fit": null,
            "object_position": null,
            "order": null,
            "overflow": null,
            "overflow_x": null,
            "overflow_y": null,
            "padding": null,
            "right": null,
            "top": null,
            "visibility": null,
            "width": null
          }
        },
        "53629b221c9c43e4b2d316b68998a5c8": {
          "model_module": "@jupyter-widgets/base",
          "model_name": "LayoutModel",
          "model_module_version": "1.2.0",
          "state": {
            "_model_module": "@jupyter-widgets/base",
            "_model_module_version": "1.2.0",
            "_model_name": "LayoutModel",
            "_view_count": null,
            "_view_module": "@jupyter-widgets/base",
            "_view_module_version": "1.2.0",
            "_view_name": "LayoutView",
            "align_content": null,
            "align_items": null,
            "align_self": null,
            "border": null,
            "bottom": null,
            "display": null,
            "flex": null,
            "flex_flow": null,
            "grid_area": null,
            "grid_auto_columns": null,
            "grid_auto_flow": null,
            "grid_auto_rows": null,
            "grid_column": null,
            "grid_gap": null,
            "grid_row": null,
            "grid_template_areas": null,
            "grid_template_columns": null,
            "grid_template_rows": null,
            "height": null,
            "justify_content": null,
            "justify_items": null,
            "left": null,
            "margin": null,
            "max_height": null,
            "max_width": null,
            "min_height": null,
            "min_width": null,
            "object_fit": null,
            "object_position": null,
            "order": null,
            "overflow": null,
            "overflow_x": null,
            "overflow_y": null,
            "padding": null,
            "right": null,
            "top": null,
            "visibility": null,
            "width": null
          }
        },
        "d6d6ac9afc404395acfc8e6189396932": {
          "model_module": "@jupyter-widgets/controls",
          "model_name": "DescriptionStyleModel",
          "model_module_version": "1.5.0",
          "state": {
            "_model_module": "@jupyter-widgets/controls",
            "_model_module_version": "1.5.0",
            "_model_name": "DescriptionStyleModel",
            "_view_count": null,
            "_view_module": "@jupyter-widgets/base",
            "_view_module_version": "1.2.0",
            "_view_name": "StyleView",
            "description_width": ""
          }
        },
        "8fdc5fc0b3014a839c5dce04ec2a5871": {
          "model_module": "@jupyter-widgets/base",
          "model_name": "LayoutModel",
          "model_module_version": "1.2.0",
          "state": {
            "_model_module": "@jupyter-widgets/base",
            "_model_module_version": "1.2.0",
            "_model_name": "LayoutModel",
            "_view_count": null,
            "_view_module": "@jupyter-widgets/base",
            "_view_module_version": "1.2.0",
            "_view_name": "LayoutView",
            "align_content": null,
            "align_items": null,
            "align_self": null,
            "border": null,
            "bottom": null,
            "display": null,
            "flex": null,
            "flex_flow": null,
            "grid_area": null,
            "grid_auto_columns": null,
            "grid_auto_flow": null,
            "grid_auto_rows": null,
            "grid_column": null,
            "grid_gap": null,
            "grid_row": null,
            "grid_template_areas": null,
            "grid_template_columns": null,
            "grid_template_rows": null,
            "height": null,
            "justify_content": null,
            "justify_items": null,
            "left": null,
            "margin": null,
            "max_height": null,
            "max_width": null,
            "min_height": null,
            "min_width": null,
            "object_fit": null,
            "object_position": null,
            "order": null,
            "overflow": null,
            "overflow_x": null,
            "overflow_y": null,
            "padding": null,
            "right": null,
            "top": null,
            "visibility": null,
            "width": null
          }
        },
        "fffdc9f6d1af4ef58b755351d58fb758": {
          "model_module": "@jupyter-widgets/controls",
          "model_name": "ProgressStyleModel",
          "model_module_version": "1.5.0",
          "state": {
            "_model_module": "@jupyter-widgets/controls",
            "_model_module_version": "1.5.0",
            "_model_name": "ProgressStyleModel",
            "_view_count": null,
            "_view_module": "@jupyter-widgets/base",
            "_view_module_version": "1.2.0",
            "_view_name": "StyleView",
            "bar_color": null,
            "description_width": ""
          }
        },
        "69aa5d75bfa746309e4c118c0248d6ba": {
          "model_module": "@jupyter-widgets/controls",
          "model_name": "VBoxModel",
          "model_module_version": "1.5.0",
          "state": {
            "_dom_classes": [],
            "_model_module": "@jupyter-widgets/controls",
            "_model_module_version": "1.5.0",
            "_model_name": "VBoxModel",
            "_view_count": null,
            "_view_module": "@jupyter-widgets/controls",
            "_view_module_version": "1.5.0",
            "_view_name": "VBoxView",
            "box_style": "",
            "children": [
              "IPY_MODEL_ed781879c7c14c7891d6f92479a0ec17",
              "IPY_MODEL_243afa7791b441488d9a0c697781910f"
            ],
            "layout": "IPY_MODEL_cd78c8569ff84833a9328d93b1ce490a"
          }
        },
        "ed781879c7c14c7891d6f92479a0ec17": {
          "model_module": "@jupyter-widgets/controls",
          "model_name": "LabelModel",
          "model_module_version": "1.5.0",
          "state": {
            "_dom_classes": [],
            "_model_module": "@jupyter-widgets/controls",
            "_model_module_version": "1.5.0",
            "_model_name": "LabelModel",
            "_view_count": null,
            "_view_module": "@jupyter-widgets/controls",
            "_view_module_version": "1.5.0",
            "_view_name": "LabelView",
            "description": "",
            "description_tooltip": null,
            "layout": "IPY_MODEL_b76d1baa1d6f4b85a4398a2add7f97cc",
            "placeholder": "​",
            "style": "IPY_MODEL_df7dbf61c2b1402f830f314e5c18d086",
            "value": "0.001 MB of 0.002 MB uploaded (0.000 MB deduped)\r"
          }
        },
        "243afa7791b441488d9a0c697781910f": {
          "model_module": "@jupyter-widgets/controls",
          "model_name": "FloatProgressModel",
          "model_module_version": "1.5.0",
          "state": {
            "_dom_classes": [],
            "_model_module": "@jupyter-widgets/controls",
            "_model_module_version": "1.5.0",
            "_model_name": "FloatProgressModel",
            "_view_count": null,
            "_view_module": "@jupyter-widgets/controls",
            "_view_module_version": "1.5.0",
            "_view_name": "ProgressView",
            "bar_style": "",
            "description": "",
            "description_tooltip": null,
            "layout": "IPY_MODEL_fd550fa915d346f6ac1a609401efd745",
            "max": 1,
            "min": 0,
            "orientation": "horizontal",
            "style": "IPY_MODEL_8e7997529b5c4b4f86afc473a620b37a",
            "value": 0.607661822985469
          }
        },
        "cd78c8569ff84833a9328d93b1ce490a": {
          "model_module": "@jupyter-widgets/base",
          "model_name": "LayoutModel",
          "model_module_version": "1.2.0",
          "state": {
            "_model_module": "@jupyter-widgets/base",
            "_model_module_version": "1.2.0",
            "_model_name": "LayoutModel",
            "_view_count": null,
            "_view_module": "@jupyter-widgets/base",
            "_view_module_version": "1.2.0",
            "_view_name": "LayoutView",
            "align_content": null,
            "align_items": null,
            "align_self": null,
            "border": null,
            "bottom": null,
            "display": null,
            "flex": null,
            "flex_flow": null,
            "grid_area": null,
            "grid_auto_columns": null,
            "grid_auto_flow": null,
            "grid_auto_rows": null,
            "grid_column": null,
            "grid_gap": null,
            "grid_row": null,
            "grid_template_areas": null,
            "grid_template_columns": null,
            "grid_template_rows": null,
            "height": null,
            "justify_content": null,
            "justify_items": null,
            "left": null,
            "margin": null,
            "max_height": null,
            "max_width": null,
            "min_height": null,
            "min_width": null,
            "object_fit": null,
            "object_position": null,
            "order": null,
            "overflow": null,
            "overflow_x": null,
            "overflow_y": null,
            "padding": null,
            "right": null,
            "top": null,
            "visibility": null,
            "width": null
          }
        },
        "b76d1baa1d6f4b85a4398a2add7f97cc": {
          "model_module": "@jupyter-widgets/base",
          "model_name": "LayoutModel",
          "model_module_version": "1.2.0",
          "state": {
            "_model_module": "@jupyter-widgets/base",
            "_model_module_version": "1.2.0",
            "_model_name": "LayoutModel",
            "_view_count": null,
            "_view_module": "@jupyter-widgets/base",
            "_view_module_version": "1.2.0",
            "_view_name": "LayoutView",
            "align_content": null,
            "align_items": null,
            "align_self": null,
            "border": null,
            "bottom": null,
            "display": null,
            "flex": null,
            "flex_flow": null,
            "grid_area": null,
            "grid_auto_columns": null,
            "grid_auto_flow": null,
            "grid_auto_rows": null,
            "grid_column": null,
            "grid_gap": null,
            "grid_row": null,
            "grid_template_areas": null,
            "grid_template_columns": null,
            "grid_template_rows": null,
            "height": null,
            "justify_content": null,
            "justify_items": null,
            "left": null,
            "margin": null,
            "max_height": null,
            "max_width": null,
            "min_height": null,
            "min_width": null,
            "object_fit": null,
            "object_position": null,
            "order": null,
            "overflow": null,
            "overflow_x": null,
            "overflow_y": null,
            "padding": null,
            "right": null,
            "top": null,
            "visibility": null,
            "width": null
          }
        },
        "df7dbf61c2b1402f830f314e5c18d086": {
          "model_module": "@jupyter-widgets/controls",
          "model_name": "DescriptionStyleModel",
          "model_module_version": "1.5.0",
          "state": {
            "_model_module": "@jupyter-widgets/controls",
            "_model_module_version": "1.5.0",
            "_model_name": "DescriptionStyleModel",
            "_view_count": null,
            "_view_module": "@jupyter-widgets/base",
            "_view_module_version": "1.2.0",
            "_view_name": "StyleView",
            "description_width": ""
          }
        },
        "fd550fa915d346f6ac1a609401efd745": {
          "model_module": "@jupyter-widgets/base",
          "model_name": "LayoutModel",
          "model_module_version": "1.2.0",
          "state": {
            "_model_module": "@jupyter-widgets/base",
            "_model_module_version": "1.2.0",
            "_model_name": "LayoutModel",
            "_view_count": null,
            "_view_module": "@jupyter-widgets/base",
            "_view_module_version": "1.2.0",
            "_view_name": "LayoutView",
            "align_content": null,
            "align_items": null,
            "align_self": null,
            "border": null,
            "bottom": null,
            "display": null,
            "flex": null,
            "flex_flow": null,
            "grid_area": null,
            "grid_auto_columns": null,
            "grid_auto_flow": null,
            "grid_auto_rows": null,
            "grid_column": null,
            "grid_gap": null,
            "grid_row": null,
            "grid_template_areas": null,
            "grid_template_columns": null,
            "grid_template_rows": null,
            "height": null,
            "justify_content": null,
            "justify_items": null,
            "left": null,
            "margin": null,
            "max_height": null,
            "max_width": null,
            "min_height": null,
            "min_width": null,
            "object_fit": null,
            "object_position": null,
            "order": null,
            "overflow": null,
            "overflow_x": null,
            "overflow_y": null,
            "padding": null,
            "right": null,
            "top": null,
            "visibility": null,
            "width": null
          }
        },
        "8e7997529b5c4b4f86afc473a620b37a": {
          "model_module": "@jupyter-widgets/controls",
          "model_name": "ProgressStyleModel",
          "model_module_version": "1.5.0",
          "state": {
            "_model_module": "@jupyter-widgets/controls",
            "_model_module_version": "1.5.0",
            "_model_name": "ProgressStyleModel",
            "_view_count": null,
            "_view_module": "@jupyter-widgets/base",
            "_view_module_version": "1.2.0",
            "_view_name": "StyleView",
            "bar_color": null,
            "description_width": ""
          }
        },
        "8a13cc968b16426cacffab6ed3bc8f90": {
          "model_module": "@jupyter-widgets/controls",
          "model_name": "VBoxModel",
          "model_module_version": "1.5.0",
          "state": {
            "_dom_classes": [],
            "_model_module": "@jupyter-widgets/controls",
            "_model_module_version": "1.5.0",
            "_model_name": "VBoxModel",
            "_view_count": null,
            "_view_module": "@jupyter-widgets/controls",
            "_view_module_version": "1.5.0",
            "_view_name": "VBoxView",
            "box_style": "",
            "children": [
              "IPY_MODEL_e1d14d98eb294f239c5f50e60e40a1c0",
              "IPY_MODEL_442713e63d654715a6caf85d86e6cafa"
            ],
            "layout": "IPY_MODEL_f99c9906183f4d9bb8aa95741a03e607"
          }
        },
        "e1d14d98eb294f239c5f50e60e40a1c0": {
          "model_module": "@jupyter-widgets/controls",
          "model_name": "LabelModel",
          "model_module_version": "1.5.0",
          "state": {
            "_dom_classes": [],
            "_model_module": "@jupyter-widgets/controls",
            "_model_module_version": "1.5.0",
            "_model_name": "LabelModel",
            "_view_count": null,
            "_view_module": "@jupyter-widgets/controls",
            "_view_module_version": "1.5.0",
            "_view_name": "LabelView",
            "description": "",
            "description_tooltip": null,
            "layout": "IPY_MODEL_5be7540644ce44ffa0e0f05d68657607",
            "placeholder": "​",
            "style": "IPY_MODEL_64044651c7f54d6fb7f0f3090a34d4e9",
            "value": "0.001 MB of 0.010 MB uploaded (0.000 MB deduped)\r"
          }
        },
        "442713e63d654715a6caf85d86e6cafa": {
          "model_module": "@jupyter-widgets/controls",
          "model_name": "FloatProgressModel",
          "model_module_version": "1.5.0",
          "state": {
            "_dom_classes": [],
            "_model_module": "@jupyter-widgets/controls",
            "_model_module_version": "1.5.0",
            "_model_name": "FloatProgressModel",
            "_view_count": null,
            "_view_module": "@jupyter-widgets/controls",
            "_view_module_version": "1.5.0",
            "_view_name": "ProgressView",
            "bar_style": "",
            "description": "",
            "description_tooltip": null,
            "layout": "IPY_MODEL_90f5983f95314f7ab0b841baa82e1839",
            "max": 1,
            "min": 0,
            "orientation": "horizontal",
            "style": "IPY_MODEL_6a46c9e83c7e4193a6e6562fdf4cb858",
            "value": 0.13756983240223464
          }
        },
        "f99c9906183f4d9bb8aa95741a03e607": {
          "model_module": "@jupyter-widgets/base",
          "model_name": "LayoutModel",
          "model_module_version": "1.2.0",
          "state": {
            "_model_module": "@jupyter-widgets/base",
            "_model_module_version": "1.2.0",
            "_model_name": "LayoutModel",
            "_view_count": null,
            "_view_module": "@jupyter-widgets/base",
            "_view_module_version": "1.2.0",
            "_view_name": "LayoutView",
            "align_content": null,
            "align_items": null,
            "align_self": null,
            "border": null,
            "bottom": null,
            "display": null,
            "flex": null,
            "flex_flow": null,
            "grid_area": null,
            "grid_auto_columns": null,
            "grid_auto_flow": null,
            "grid_auto_rows": null,
            "grid_column": null,
            "grid_gap": null,
            "grid_row": null,
            "grid_template_areas": null,
            "grid_template_columns": null,
            "grid_template_rows": null,
            "height": null,
            "justify_content": null,
            "justify_items": null,
            "left": null,
            "margin": null,
            "max_height": null,
            "max_width": null,
            "min_height": null,
            "min_width": null,
            "object_fit": null,
            "object_position": null,
            "order": null,
            "overflow": null,
            "overflow_x": null,
            "overflow_y": null,
            "padding": null,
            "right": null,
            "top": null,
            "visibility": null,
            "width": null
          }
        },
        "5be7540644ce44ffa0e0f05d68657607": {
          "model_module": "@jupyter-widgets/base",
          "model_name": "LayoutModel",
          "model_module_version": "1.2.0",
          "state": {
            "_model_module": "@jupyter-widgets/base",
            "_model_module_version": "1.2.0",
            "_model_name": "LayoutModel",
            "_view_count": null,
            "_view_module": "@jupyter-widgets/base",
            "_view_module_version": "1.2.0",
            "_view_name": "LayoutView",
            "align_content": null,
            "align_items": null,
            "align_self": null,
            "border": null,
            "bottom": null,
            "display": null,
            "flex": null,
            "flex_flow": null,
            "grid_area": null,
            "grid_auto_columns": null,
            "grid_auto_flow": null,
            "grid_auto_rows": null,
            "grid_column": null,
            "grid_gap": null,
            "grid_row": null,
            "grid_template_areas": null,
            "grid_template_columns": null,
            "grid_template_rows": null,
            "height": null,
            "justify_content": null,
            "justify_items": null,
            "left": null,
            "margin": null,
            "max_height": null,
            "max_width": null,
            "min_height": null,
            "min_width": null,
            "object_fit": null,
            "object_position": null,
            "order": null,
            "overflow": null,
            "overflow_x": null,
            "overflow_y": null,
            "padding": null,
            "right": null,
            "top": null,
            "visibility": null,
            "width": null
          }
        },
        "64044651c7f54d6fb7f0f3090a34d4e9": {
          "model_module": "@jupyter-widgets/controls",
          "model_name": "DescriptionStyleModel",
          "model_module_version": "1.5.0",
          "state": {
            "_model_module": "@jupyter-widgets/controls",
            "_model_module_version": "1.5.0",
            "_model_name": "DescriptionStyleModel",
            "_view_count": null,
            "_view_module": "@jupyter-widgets/base",
            "_view_module_version": "1.2.0",
            "_view_name": "StyleView",
            "description_width": ""
          }
        },
        "90f5983f95314f7ab0b841baa82e1839": {
          "model_module": "@jupyter-widgets/base",
          "model_name": "LayoutModel",
          "model_module_version": "1.2.0",
          "state": {
            "_model_module": "@jupyter-widgets/base",
            "_model_module_version": "1.2.0",
            "_model_name": "LayoutModel",
            "_view_count": null,
            "_view_module": "@jupyter-widgets/base",
            "_view_module_version": "1.2.0",
            "_view_name": "LayoutView",
            "align_content": null,
            "align_items": null,
            "align_self": null,
            "border": null,
            "bottom": null,
            "display": null,
            "flex": null,
            "flex_flow": null,
            "grid_area": null,
            "grid_auto_columns": null,
            "grid_auto_flow": null,
            "grid_auto_rows": null,
            "grid_column": null,
            "grid_gap": null,
            "grid_row": null,
            "grid_template_areas": null,
            "grid_template_columns": null,
            "grid_template_rows": null,
            "height": null,
            "justify_content": null,
            "justify_items": null,
            "left": null,
            "margin": null,
            "max_height": null,
            "max_width": null,
            "min_height": null,
            "min_width": null,
            "object_fit": null,
            "object_position": null,
            "order": null,
            "overflow": null,
            "overflow_x": null,
            "overflow_y": null,
            "padding": null,
            "right": null,
            "top": null,
            "visibility": null,
            "width": null
          }
        },
        "6a46c9e83c7e4193a6e6562fdf4cb858": {
          "model_module": "@jupyter-widgets/controls",
          "model_name": "ProgressStyleModel",
          "model_module_version": "1.5.0",
          "state": {
            "_model_module": "@jupyter-widgets/controls",
            "_model_module_version": "1.5.0",
            "_model_name": "ProgressStyleModel",
            "_view_count": null,
            "_view_module": "@jupyter-widgets/base",
            "_view_module_version": "1.2.0",
            "_view_name": "StyleView",
            "bar_color": null,
            "description_width": ""
          }
        },
        "53ad994a030b41af98760b03c2dfbea9": {
          "model_module": "@jupyter-widgets/controls",
          "model_name": "VBoxModel",
          "model_module_version": "1.5.0",
          "state": {
            "_dom_classes": [],
            "_model_module": "@jupyter-widgets/controls",
            "_model_module_version": "1.5.0",
            "_model_name": "VBoxModel",
            "_view_count": null,
            "_view_module": "@jupyter-widgets/controls",
            "_view_module_version": "1.5.0",
            "_view_name": "VBoxView",
            "box_style": "",
            "children": [
              "IPY_MODEL_10795098c5cf48bea4854df6ea788192",
              "IPY_MODEL_6df4708752e74e76b2d790371a4530a7"
            ],
            "layout": "IPY_MODEL_930a08140bbd4332a1a40c69025c0398"
          }
        },
        "10795098c5cf48bea4854df6ea788192": {
          "model_module": "@jupyter-widgets/controls",
          "model_name": "LabelModel",
          "model_module_version": "1.5.0",
          "state": {
            "_dom_classes": [],
            "_model_module": "@jupyter-widgets/controls",
            "_model_module_version": "1.5.0",
            "_model_name": "LabelModel",
            "_view_count": null,
            "_view_module": "@jupyter-widgets/controls",
            "_view_module_version": "1.5.0",
            "_view_name": "LabelView",
            "description": "",
            "description_tooltip": null,
            "layout": "IPY_MODEL_bedf09d4752645f69aa2dbaece43ba5a",
            "placeholder": "​",
            "style": "IPY_MODEL_68c4fbdb6c8a4c9e93f954d6288158bd",
            "value": "0.001 MB of 0.010 MB uploaded (0.000 MB deduped)\r"
          }
        },
        "6df4708752e74e76b2d790371a4530a7": {
          "model_module": "@jupyter-widgets/controls",
          "model_name": "FloatProgressModel",
          "model_module_version": "1.5.0",
          "state": {
            "_dom_classes": [],
            "_model_module": "@jupyter-widgets/controls",
            "_model_module_version": "1.5.0",
            "_model_name": "FloatProgressModel",
            "_view_count": null,
            "_view_module": "@jupyter-widgets/controls",
            "_view_module_version": "1.5.0",
            "_view_name": "ProgressView",
            "bar_style": "",
            "description": "",
            "description_tooltip": null,
            "layout": "IPY_MODEL_5bde5957f4c54924bd11fe3704058333",
            "max": 1,
            "min": 0,
            "orientation": "horizontal",
            "style": "IPY_MODEL_b4778f9601394d8585491ff0613acc69",
            "value": 0.1376558603491272
          }
        },
        "930a08140bbd4332a1a40c69025c0398": {
          "model_module": "@jupyter-widgets/base",
          "model_name": "LayoutModel",
          "model_module_version": "1.2.0",
          "state": {
            "_model_module": "@jupyter-widgets/base",
            "_model_module_version": "1.2.0",
            "_model_name": "LayoutModel",
            "_view_count": null,
            "_view_module": "@jupyter-widgets/base",
            "_view_module_version": "1.2.0",
            "_view_name": "LayoutView",
            "align_content": null,
            "align_items": null,
            "align_self": null,
            "border": null,
            "bottom": null,
            "display": null,
            "flex": null,
            "flex_flow": null,
            "grid_area": null,
            "grid_auto_columns": null,
            "grid_auto_flow": null,
            "grid_auto_rows": null,
            "grid_column": null,
            "grid_gap": null,
            "grid_row": null,
            "grid_template_areas": null,
            "grid_template_columns": null,
            "grid_template_rows": null,
            "height": null,
            "justify_content": null,
            "justify_items": null,
            "left": null,
            "margin": null,
            "max_height": null,
            "max_width": null,
            "min_height": null,
            "min_width": null,
            "object_fit": null,
            "object_position": null,
            "order": null,
            "overflow": null,
            "overflow_x": null,
            "overflow_y": null,
            "padding": null,
            "right": null,
            "top": null,
            "visibility": null,
            "width": null
          }
        },
        "bedf09d4752645f69aa2dbaece43ba5a": {
          "model_module": "@jupyter-widgets/base",
          "model_name": "LayoutModel",
          "model_module_version": "1.2.0",
          "state": {
            "_model_module": "@jupyter-widgets/base",
            "_model_module_version": "1.2.0",
            "_model_name": "LayoutModel",
            "_view_count": null,
            "_view_module": "@jupyter-widgets/base",
            "_view_module_version": "1.2.0",
            "_view_name": "LayoutView",
            "align_content": null,
            "align_items": null,
            "align_self": null,
            "border": null,
            "bottom": null,
            "display": null,
            "flex": null,
            "flex_flow": null,
            "grid_area": null,
            "grid_auto_columns": null,
            "grid_auto_flow": null,
            "grid_auto_rows": null,
            "grid_column": null,
            "grid_gap": null,
            "grid_row": null,
            "grid_template_areas": null,
            "grid_template_columns": null,
            "grid_template_rows": null,
            "height": null,
            "justify_content": null,
            "justify_items": null,
            "left": null,
            "margin": null,
            "max_height": null,
            "max_width": null,
            "min_height": null,
            "min_width": null,
            "object_fit": null,
            "object_position": null,
            "order": null,
            "overflow": null,
            "overflow_x": null,
            "overflow_y": null,
            "padding": null,
            "right": null,
            "top": null,
            "visibility": null,
            "width": null
          }
        },
        "68c4fbdb6c8a4c9e93f954d6288158bd": {
          "model_module": "@jupyter-widgets/controls",
          "model_name": "DescriptionStyleModel",
          "model_module_version": "1.5.0",
          "state": {
            "_model_module": "@jupyter-widgets/controls",
            "_model_module_version": "1.5.0",
            "_model_name": "DescriptionStyleModel",
            "_view_count": null,
            "_view_module": "@jupyter-widgets/base",
            "_view_module_version": "1.2.0",
            "_view_name": "StyleView",
            "description_width": ""
          }
        },
        "5bde5957f4c54924bd11fe3704058333": {
          "model_module": "@jupyter-widgets/base",
          "model_name": "LayoutModel",
          "model_module_version": "1.2.0",
          "state": {
            "_model_module": "@jupyter-widgets/base",
            "_model_module_version": "1.2.0",
            "_model_name": "LayoutModel",
            "_view_count": null,
            "_view_module": "@jupyter-widgets/base",
            "_view_module_version": "1.2.0",
            "_view_name": "LayoutView",
            "align_content": null,
            "align_items": null,
            "align_self": null,
            "border": null,
            "bottom": null,
            "display": null,
            "flex": null,
            "flex_flow": null,
            "grid_area": null,
            "grid_auto_columns": null,
            "grid_auto_flow": null,
            "grid_auto_rows": null,
            "grid_column": null,
            "grid_gap": null,
            "grid_row": null,
            "grid_template_areas": null,
            "grid_template_columns": null,
            "grid_template_rows": null,
            "height": null,
            "justify_content": null,
            "justify_items": null,
            "left": null,
            "margin": null,
            "max_height": null,
            "max_width": null,
            "min_height": null,
            "min_width": null,
            "object_fit": null,
            "object_position": null,
            "order": null,
            "overflow": null,
            "overflow_x": null,
            "overflow_y": null,
            "padding": null,
            "right": null,
            "top": null,
            "visibility": null,
            "width": null
          }
        },
        "b4778f9601394d8585491ff0613acc69": {
          "model_module": "@jupyter-widgets/controls",
          "model_name": "ProgressStyleModel",
          "model_module_version": "1.5.0",
          "state": {
            "_model_module": "@jupyter-widgets/controls",
            "_model_module_version": "1.5.0",
            "_model_name": "ProgressStyleModel",
            "_view_count": null,
            "_view_module": "@jupyter-widgets/base",
            "_view_module_version": "1.2.0",
            "_view_name": "StyleView",
            "bar_color": null,
            "description_width": ""
          }
        },
        "512966f7b7504455aba5436702b549af": {
          "model_module": "@jupyter-widgets/controls",
          "model_name": "VBoxModel",
          "model_module_version": "1.5.0",
          "state": {
            "_dom_classes": [],
            "_model_module": "@jupyter-widgets/controls",
            "_model_module_version": "1.5.0",
            "_model_name": "VBoxModel",
            "_view_count": null,
            "_view_module": "@jupyter-widgets/controls",
            "_view_module_version": "1.5.0",
            "_view_name": "VBoxView",
            "box_style": "",
            "children": [
              "IPY_MODEL_1c526b5188bc45bd8137a3d7c64363d5",
              "IPY_MODEL_27878ae5b715410fbdea76f1927bba7c"
            ],
            "layout": "IPY_MODEL_37c547da0b57446a98a49fe875fef653"
          }
        },
        "1c526b5188bc45bd8137a3d7c64363d5": {
          "model_module": "@jupyter-widgets/controls",
          "model_name": "LabelModel",
          "model_module_version": "1.5.0",
          "state": {
            "_dom_classes": [],
            "_model_module": "@jupyter-widgets/controls",
            "_model_module_version": "1.5.0",
            "_model_name": "LabelModel",
            "_view_count": null,
            "_view_module": "@jupyter-widgets/controls",
            "_view_module_version": "1.5.0",
            "_view_name": "LabelView",
            "description": "",
            "description_tooltip": null,
            "layout": "IPY_MODEL_8e51ffc0ec314c359eaef9dc72db7701",
            "placeholder": "​",
            "style": "IPY_MODEL_cbcb6e8a20e64e7f9b1e3feb53a5b9cf",
            "value": "0.001 MB of 0.010 MB uploaded (0.000 MB deduped)\r"
          }
        },
        "27878ae5b715410fbdea76f1927bba7c": {
          "model_module": "@jupyter-widgets/controls",
          "model_name": "FloatProgressModel",
          "model_module_version": "1.5.0",
          "state": {
            "_dom_classes": [],
            "_model_module": "@jupyter-widgets/controls",
            "_model_module_version": "1.5.0",
            "_model_name": "FloatProgressModel",
            "_view_count": null,
            "_view_module": "@jupyter-widgets/controls",
            "_view_module_version": "1.5.0",
            "_view_name": "ProgressView",
            "bar_style": "",
            "description": "",
            "description_tooltip": null,
            "layout": "IPY_MODEL_b8f9156828534a92b3b4bc7b8000c39e",
            "max": 1,
            "min": 0,
            "orientation": "horizontal",
            "style": "IPY_MODEL_0d86dc0c4b07404aa110b0f275286882",
            "value": 0.1376558603491272
          }
        },
        "37c547da0b57446a98a49fe875fef653": {
          "model_module": "@jupyter-widgets/base",
          "model_name": "LayoutModel",
          "model_module_version": "1.2.0",
          "state": {
            "_model_module": "@jupyter-widgets/base",
            "_model_module_version": "1.2.0",
            "_model_name": "LayoutModel",
            "_view_count": null,
            "_view_module": "@jupyter-widgets/base",
            "_view_module_version": "1.2.0",
            "_view_name": "LayoutView",
            "align_content": null,
            "align_items": null,
            "align_self": null,
            "border": null,
            "bottom": null,
            "display": null,
            "flex": null,
            "flex_flow": null,
            "grid_area": null,
            "grid_auto_columns": null,
            "grid_auto_flow": null,
            "grid_auto_rows": null,
            "grid_column": null,
            "grid_gap": null,
            "grid_row": null,
            "grid_template_areas": null,
            "grid_template_columns": null,
            "grid_template_rows": null,
            "height": null,
            "justify_content": null,
            "justify_items": null,
            "left": null,
            "margin": null,
            "max_height": null,
            "max_width": null,
            "min_height": null,
            "min_width": null,
            "object_fit": null,
            "object_position": null,
            "order": null,
            "overflow": null,
            "overflow_x": null,
            "overflow_y": null,
            "padding": null,
            "right": null,
            "top": null,
            "visibility": null,
            "width": null
          }
        },
        "8e51ffc0ec314c359eaef9dc72db7701": {
          "model_module": "@jupyter-widgets/base",
          "model_name": "LayoutModel",
          "model_module_version": "1.2.0",
          "state": {
            "_model_module": "@jupyter-widgets/base",
            "_model_module_version": "1.2.0",
            "_model_name": "LayoutModel",
            "_view_count": null,
            "_view_module": "@jupyter-widgets/base",
            "_view_module_version": "1.2.0",
            "_view_name": "LayoutView",
            "align_content": null,
            "align_items": null,
            "align_self": null,
            "border": null,
            "bottom": null,
            "display": null,
            "flex": null,
            "flex_flow": null,
            "grid_area": null,
            "grid_auto_columns": null,
            "grid_auto_flow": null,
            "grid_auto_rows": null,
            "grid_column": null,
            "grid_gap": null,
            "grid_row": null,
            "grid_template_areas": null,
            "grid_template_columns": null,
            "grid_template_rows": null,
            "height": null,
            "justify_content": null,
            "justify_items": null,
            "left": null,
            "margin": null,
            "max_height": null,
            "max_width": null,
            "min_height": null,
            "min_width": null,
            "object_fit": null,
            "object_position": null,
            "order": null,
            "overflow": null,
            "overflow_x": null,
            "overflow_y": null,
            "padding": null,
            "right": null,
            "top": null,
            "visibility": null,
            "width": null
          }
        },
        "cbcb6e8a20e64e7f9b1e3feb53a5b9cf": {
          "model_module": "@jupyter-widgets/controls",
          "model_name": "DescriptionStyleModel",
          "model_module_version": "1.5.0",
          "state": {
            "_model_module": "@jupyter-widgets/controls",
            "_model_module_version": "1.5.0",
            "_model_name": "DescriptionStyleModel",
            "_view_count": null,
            "_view_module": "@jupyter-widgets/base",
            "_view_module_version": "1.2.0",
            "_view_name": "StyleView",
            "description_width": ""
          }
        },
        "b8f9156828534a92b3b4bc7b8000c39e": {
          "model_module": "@jupyter-widgets/base",
          "model_name": "LayoutModel",
          "model_module_version": "1.2.0",
          "state": {
            "_model_module": "@jupyter-widgets/base",
            "_model_module_version": "1.2.0",
            "_model_name": "LayoutModel",
            "_view_count": null,
            "_view_module": "@jupyter-widgets/base",
            "_view_module_version": "1.2.0",
            "_view_name": "LayoutView",
            "align_content": null,
            "align_items": null,
            "align_self": null,
            "border": null,
            "bottom": null,
            "display": null,
            "flex": null,
            "flex_flow": null,
            "grid_area": null,
            "grid_auto_columns": null,
            "grid_auto_flow": null,
            "grid_auto_rows": null,
            "grid_column": null,
            "grid_gap": null,
            "grid_row": null,
            "grid_template_areas": null,
            "grid_template_columns": null,
            "grid_template_rows": null,
            "height": null,
            "justify_content": null,
            "justify_items": null,
            "left": null,
            "margin": null,
            "max_height": null,
            "max_width": null,
            "min_height": null,
            "min_width": null,
            "object_fit": null,
            "object_position": null,
            "order": null,
            "overflow": null,
            "overflow_x": null,
            "overflow_y": null,
            "padding": null,
            "right": null,
            "top": null,
            "visibility": null,
            "width": null
          }
        },
        "0d86dc0c4b07404aa110b0f275286882": {
          "model_module": "@jupyter-widgets/controls",
          "model_name": "ProgressStyleModel",
          "model_module_version": "1.5.0",
          "state": {
            "_model_module": "@jupyter-widgets/controls",
            "_model_module_version": "1.5.0",
            "_model_name": "ProgressStyleModel",
            "_view_count": null,
            "_view_module": "@jupyter-widgets/base",
            "_view_module_version": "1.2.0",
            "_view_name": "StyleView",
            "bar_color": null,
            "description_width": ""
          }
        },
        "f8be7f26e1df49ab8f3aa48e967afea9": {
          "model_module": "@jupyter-widgets/controls",
          "model_name": "VBoxModel",
          "model_module_version": "1.5.0",
          "state": {
            "_dom_classes": [],
            "_model_module": "@jupyter-widgets/controls",
            "_model_module_version": "1.5.0",
            "_model_name": "VBoxModel",
            "_view_count": null,
            "_view_module": "@jupyter-widgets/controls",
            "_view_module_version": "1.5.0",
            "_view_name": "VBoxView",
            "box_style": "",
            "children": [
              "IPY_MODEL_55301da6e4de494b98bc99b95000ef4c",
              "IPY_MODEL_8dbf72ea51294ebcb33f3706200f6956"
            ],
            "layout": "IPY_MODEL_3a7e496148574028841f685104284368"
          }
        },
        "55301da6e4de494b98bc99b95000ef4c": {
          "model_module": "@jupyter-widgets/controls",
          "model_name": "LabelModel",
          "model_module_version": "1.5.0",
          "state": {
            "_dom_classes": [],
            "_model_module": "@jupyter-widgets/controls",
            "_model_module_version": "1.5.0",
            "_model_name": "LabelModel",
            "_view_count": null,
            "_view_module": "@jupyter-widgets/controls",
            "_view_module_version": "1.5.0",
            "_view_name": "LabelView",
            "description": "",
            "description_tooltip": null,
            "layout": "IPY_MODEL_d490c0ad1f6b4d8b8e53cef64576c3eb",
            "placeholder": "​",
            "style": "IPY_MODEL_68e9cf96b81145e18aaccd21e41a01d1",
            "value": "0.001 MB of 0.010 MB uploaded (0.000 MB deduped)\r"
          }
        },
        "8dbf72ea51294ebcb33f3706200f6956": {
          "model_module": "@jupyter-widgets/controls",
          "model_name": "FloatProgressModel",
          "model_module_version": "1.5.0",
          "state": {
            "_dom_classes": [],
            "_model_module": "@jupyter-widgets/controls",
            "_model_module_version": "1.5.0",
            "_model_name": "FloatProgressModel",
            "_view_count": null,
            "_view_module": "@jupyter-widgets/controls",
            "_view_module_version": "1.5.0",
            "_view_name": "ProgressView",
            "bar_style": "",
            "description": "",
            "description_tooltip": null,
            "layout": "IPY_MODEL_604702189a134bc8b23dc7c1e5cc357a",
            "max": 1,
            "min": 0,
            "orientation": "horizontal",
            "style": "IPY_MODEL_d96a76789a124bf196fc0aa54f7b647e",
            "value": 0.1375561097256858
          }
        },
        "3a7e496148574028841f685104284368": {
          "model_module": "@jupyter-widgets/base",
          "model_name": "LayoutModel",
          "model_module_version": "1.2.0",
          "state": {
            "_model_module": "@jupyter-widgets/base",
            "_model_module_version": "1.2.0",
            "_model_name": "LayoutModel",
            "_view_count": null,
            "_view_module": "@jupyter-widgets/base",
            "_view_module_version": "1.2.0",
            "_view_name": "LayoutView",
            "align_content": null,
            "align_items": null,
            "align_self": null,
            "border": null,
            "bottom": null,
            "display": null,
            "flex": null,
            "flex_flow": null,
            "grid_area": null,
            "grid_auto_columns": null,
            "grid_auto_flow": null,
            "grid_auto_rows": null,
            "grid_column": null,
            "grid_gap": null,
            "grid_row": null,
            "grid_template_areas": null,
            "grid_template_columns": null,
            "grid_template_rows": null,
            "height": null,
            "justify_content": null,
            "justify_items": null,
            "left": null,
            "margin": null,
            "max_height": null,
            "max_width": null,
            "min_height": null,
            "min_width": null,
            "object_fit": null,
            "object_position": null,
            "order": null,
            "overflow": null,
            "overflow_x": null,
            "overflow_y": null,
            "padding": null,
            "right": null,
            "top": null,
            "visibility": null,
            "width": null
          }
        },
        "d490c0ad1f6b4d8b8e53cef64576c3eb": {
          "model_module": "@jupyter-widgets/base",
          "model_name": "LayoutModel",
          "model_module_version": "1.2.0",
          "state": {
            "_model_module": "@jupyter-widgets/base",
            "_model_module_version": "1.2.0",
            "_model_name": "LayoutModel",
            "_view_count": null,
            "_view_module": "@jupyter-widgets/base",
            "_view_module_version": "1.2.0",
            "_view_name": "LayoutView",
            "align_content": null,
            "align_items": null,
            "align_self": null,
            "border": null,
            "bottom": null,
            "display": null,
            "flex": null,
            "flex_flow": null,
            "grid_area": null,
            "grid_auto_columns": null,
            "grid_auto_flow": null,
            "grid_auto_rows": null,
            "grid_column": null,
            "grid_gap": null,
            "grid_row": null,
            "grid_template_areas": null,
            "grid_template_columns": null,
            "grid_template_rows": null,
            "height": null,
            "justify_content": null,
            "justify_items": null,
            "left": null,
            "margin": null,
            "max_height": null,
            "max_width": null,
            "min_height": null,
            "min_width": null,
            "object_fit": null,
            "object_position": null,
            "order": null,
            "overflow": null,
            "overflow_x": null,
            "overflow_y": null,
            "padding": null,
            "right": null,
            "top": null,
            "visibility": null,
            "width": null
          }
        },
        "68e9cf96b81145e18aaccd21e41a01d1": {
          "model_module": "@jupyter-widgets/controls",
          "model_name": "DescriptionStyleModel",
          "model_module_version": "1.5.0",
          "state": {
            "_model_module": "@jupyter-widgets/controls",
            "_model_module_version": "1.5.0",
            "_model_name": "DescriptionStyleModel",
            "_view_count": null,
            "_view_module": "@jupyter-widgets/base",
            "_view_module_version": "1.2.0",
            "_view_name": "StyleView",
            "description_width": ""
          }
        },
        "604702189a134bc8b23dc7c1e5cc357a": {
          "model_module": "@jupyter-widgets/base",
          "model_name": "LayoutModel",
          "model_module_version": "1.2.0",
          "state": {
            "_model_module": "@jupyter-widgets/base",
            "_model_module_version": "1.2.0",
            "_model_name": "LayoutModel",
            "_view_count": null,
            "_view_module": "@jupyter-widgets/base",
            "_view_module_version": "1.2.0",
            "_view_name": "LayoutView",
            "align_content": null,
            "align_items": null,
            "align_self": null,
            "border": null,
            "bottom": null,
            "display": null,
            "flex": null,
            "flex_flow": null,
            "grid_area": null,
            "grid_auto_columns": null,
            "grid_auto_flow": null,
            "grid_auto_rows": null,
            "grid_column": null,
            "grid_gap": null,
            "grid_row": null,
            "grid_template_areas": null,
            "grid_template_columns": null,
            "grid_template_rows": null,
            "height": null,
            "justify_content": null,
            "justify_items": null,
            "left": null,
            "margin": null,
            "max_height": null,
            "max_width": null,
            "min_height": null,
            "min_width": null,
            "object_fit": null,
            "object_position": null,
            "order": null,
            "overflow": null,
            "overflow_x": null,
            "overflow_y": null,
            "padding": null,
            "right": null,
            "top": null,
            "visibility": null,
            "width": null
          }
        },
        "d96a76789a124bf196fc0aa54f7b647e": {
          "model_module": "@jupyter-widgets/controls",
          "model_name": "ProgressStyleModel",
          "model_module_version": "1.5.0",
          "state": {
            "_model_module": "@jupyter-widgets/controls",
            "_model_module_version": "1.5.0",
            "_model_name": "ProgressStyleModel",
            "_view_count": null,
            "_view_module": "@jupyter-widgets/base",
            "_view_module_version": "1.2.0",
            "_view_name": "StyleView",
            "bar_color": null,
            "description_width": ""
          }
        },
        "5cc35703098c42a7930db0cf2c5e873b": {
          "model_module": "@jupyter-widgets/controls",
          "model_name": "VBoxModel",
          "model_module_version": "1.5.0",
          "state": {
            "_dom_classes": [],
            "_model_module": "@jupyter-widgets/controls",
            "_model_module_version": "1.5.0",
            "_model_name": "VBoxModel",
            "_view_count": null,
            "_view_module": "@jupyter-widgets/controls",
            "_view_module_version": "1.5.0",
            "_view_name": "VBoxView",
            "box_style": "",
            "children": [
              "IPY_MODEL_1ee3fcfdfc874e1ebc5e8b5c3270d9c4",
              "IPY_MODEL_8f64dc5ca78e4e80a3b11587889b5ae6"
            ],
            "layout": "IPY_MODEL_cc694b61e72e40c89e50c9596f033427"
          }
        },
        "1ee3fcfdfc874e1ebc5e8b5c3270d9c4": {
          "model_module": "@jupyter-widgets/controls",
          "model_name": "LabelModel",
          "model_module_version": "1.5.0",
          "state": {
            "_dom_classes": [],
            "_model_module": "@jupyter-widgets/controls",
            "_model_module_version": "1.5.0",
            "_model_name": "LabelModel",
            "_view_count": null,
            "_view_module": "@jupyter-widgets/controls",
            "_view_module_version": "1.5.0",
            "_view_name": "LabelView",
            "description": "",
            "description_tooltip": null,
            "layout": "IPY_MODEL_1d660c95d2374f0e88dc414a713c5738",
            "placeholder": "​",
            "style": "IPY_MODEL_02a92fa92f1e4323a4acb4e81c75bcea",
            "value": "0.001 MB of 0.002 MB uploaded (0.000 MB deduped)\r"
          }
        },
        "8f64dc5ca78e4e80a3b11587889b5ae6": {
          "model_module": "@jupyter-widgets/controls",
          "model_name": "FloatProgressModel",
          "model_module_version": "1.5.0",
          "state": {
            "_dom_classes": [],
            "_model_module": "@jupyter-widgets/controls",
            "_model_module_version": "1.5.0",
            "_model_name": "FloatProgressModel",
            "_view_count": null,
            "_view_module": "@jupyter-widgets/controls",
            "_view_module_version": "1.5.0",
            "_view_name": "ProgressView",
            "bar_style": "",
            "description": "",
            "description_tooltip": null,
            "layout": "IPY_MODEL_2237c60b713a4fc2a9e12bb2cadb6f1a",
            "max": 1,
            "min": 0,
            "orientation": "horizontal",
            "style": "IPY_MODEL_917f70994717495eab2650efb3092bcb",
            "value": 0.5683690280065898
          }
        },
        "cc694b61e72e40c89e50c9596f033427": {
          "model_module": "@jupyter-widgets/base",
          "model_name": "LayoutModel",
          "model_module_version": "1.2.0",
          "state": {
            "_model_module": "@jupyter-widgets/base",
            "_model_module_version": "1.2.0",
            "_model_name": "LayoutModel",
            "_view_count": null,
            "_view_module": "@jupyter-widgets/base",
            "_view_module_version": "1.2.0",
            "_view_name": "LayoutView",
            "align_content": null,
            "align_items": null,
            "align_self": null,
            "border": null,
            "bottom": null,
            "display": null,
            "flex": null,
            "flex_flow": null,
            "grid_area": null,
            "grid_auto_columns": null,
            "grid_auto_flow": null,
            "grid_auto_rows": null,
            "grid_column": null,
            "grid_gap": null,
            "grid_row": null,
            "grid_template_areas": null,
            "grid_template_columns": null,
            "grid_template_rows": null,
            "height": null,
            "justify_content": null,
            "justify_items": null,
            "left": null,
            "margin": null,
            "max_height": null,
            "max_width": null,
            "min_height": null,
            "min_width": null,
            "object_fit": null,
            "object_position": null,
            "order": null,
            "overflow": null,
            "overflow_x": null,
            "overflow_y": null,
            "padding": null,
            "right": null,
            "top": null,
            "visibility": null,
            "width": null
          }
        },
        "1d660c95d2374f0e88dc414a713c5738": {
          "model_module": "@jupyter-widgets/base",
          "model_name": "LayoutModel",
          "model_module_version": "1.2.0",
          "state": {
            "_model_module": "@jupyter-widgets/base",
            "_model_module_version": "1.2.0",
            "_model_name": "LayoutModel",
            "_view_count": null,
            "_view_module": "@jupyter-widgets/base",
            "_view_module_version": "1.2.0",
            "_view_name": "LayoutView",
            "align_content": null,
            "align_items": null,
            "align_self": null,
            "border": null,
            "bottom": null,
            "display": null,
            "flex": null,
            "flex_flow": null,
            "grid_area": null,
            "grid_auto_columns": null,
            "grid_auto_flow": null,
            "grid_auto_rows": null,
            "grid_column": null,
            "grid_gap": null,
            "grid_row": null,
            "grid_template_areas": null,
            "grid_template_columns": null,
            "grid_template_rows": null,
            "height": null,
            "justify_content": null,
            "justify_items": null,
            "left": null,
            "margin": null,
            "max_height": null,
            "max_width": null,
            "min_height": null,
            "min_width": null,
            "object_fit": null,
            "object_position": null,
            "order": null,
            "overflow": null,
            "overflow_x": null,
            "overflow_y": null,
            "padding": null,
            "right": null,
            "top": null,
            "visibility": null,
            "width": null
          }
        },
        "02a92fa92f1e4323a4acb4e81c75bcea": {
          "model_module": "@jupyter-widgets/controls",
          "model_name": "DescriptionStyleModel",
          "model_module_version": "1.5.0",
          "state": {
            "_model_module": "@jupyter-widgets/controls",
            "_model_module_version": "1.5.0",
            "_model_name": "DescriptionStyleModel",
            "_view_count": null,
            "_view_module": "@jupyter-widgets/base",
            "_view_module_version": "1.2.0",
            "_view_name": "StyleView",
            "description_width": ""
          }
        },
        "2237c60b713a4fc2a9e12bb2cadb6f1a": {
          "model_module": "@jupyter-widgets/base",
          "model_name": "LayoutModel",
          "model_module_version": "1.2.0",
          "state": {
            "_model_module": "@jupyter-widgets/base",
            "_model_module_version": "1.2.0",
            "_model_name": "LayoutModel",
            "_view_count": null,
            "_view_module": "@jupyter-widgets/base",
            "_view_module_version": "1.2.0",
            "_view_name": "LayoutView",
            "align_content": null,
            "align_items": null,
            "align_self": null,
            "border": null,
            "bottom": null,
            "display": null,
            "flex": null,
            "flex_flow": null,
            "grid_area": null,
            "grid_auto_columns": null,
            "grid_auto_flow": null,
            "grid_auto_rows": null,
            "grid_column": null,
            "grid_gap": null,
            "grid_row": null,
            "grid_template_areas": null,
            "grid_template_columns": null,
            "grid_template_rows": null,
            "height": null,
            "justify_content": null,
            "justify_items": null,
            "left": null,
            "margin": null,
            "max_height": null,
            "max_width": null,
            "min_height": null,
            "min_width": null,
            "object_fit": null,
            "object_position": null,
            "order": null,
            "overflow": null,
            "overflow_x": null,
            "overflow_y": null,
            "padding": null,
            "right": null,
            "top": null,
            "visibility": null,
            "width": null
          }
        },
        "917f70994717495eab2650efb3092bcb": {
          "model_module": "@jupyter-widgets/controls",
          "model_name": "ProgressStyleModel",
          "model_module_version": "1.5.0",
          "state": {
            "_model_module": "@jupyter-widgets/controls",
            "_model_module_version": "1.5.0",
            "_model_name": "ProgressStyleModel",
            "_view_count": null,
            "_view_module": "@jupyter-widgets/base",
            "_view_module_version": "1.2.0",
            "_view_name": "StyleView",
            "bar_color": null,
            "description_width": ""
          }
        },
        "02e76db8904a4aa6aa8425a9d836a05a": {
          "model_module": "@jupyter-widgets/controls",
          "model_name": "VBoxModel",
          "model_module_version": "1.5.0",
          "state": {
            "_dom_classes": [],
            "_model_module": "@jupyter-widgets/controls",
            "_model_module_version": "1.5.0",
            "_model_name": "VBoxModel",
            "_view_count": null,
            "_view_module": "@jupyter-widgets/controls",
            "_view_module_version": "1.5.0",
            "_view_name": "VBoxView",
            "box_style": "",
            "children": [
              "IPY_MODEL_27111d0acd2a48d08a310a1bcba13692",
              "IPY_MODEL_08317a5da6aa47fbb290df26b14df2e0"
            ],
            "layout": "IPY_MODEL_b9b5722fa341443a9407be30138eac90"
          }
        },
        "27111d0acd2a48d08a310a1bcba13692": {
          "model_module": "@jupyter-widgets/controls",
          "model_name": "LabelModel",
          "model_module_version": "1.5.0",
          "state": {
            "_dom_classes": [],
            "_model_module": "@jupyter-widgets/controls",
            "_model_module_version": "1.5.0",
            "_model_name": "LabelModel",
            "_view_count": null,
            "_view_module": "@jupyter-widgets/controls",
            "_view_module_version": "1.5.0",
            "_view_name": "LabelView",
            "description": "",
            "description_tooltip": null,
            "layout": "IPY_MODEL_658cb020271b4a78b06135fdd9420152",
            "placeholder": "​",
            "style": "IPY_MODEL_5db5c6f82ee3405e8c20f99b06ce8ecc",
            "value": "0.001 MB of 0.002 MB uploaded (0.000 MB deduped)\r"
          }
        },
        "08317a5da6aa47fbb290df26b14df2e0": {
          "model_module": "@jupyter-widgets/controls",
          "model_name": "FloatProgressModel",
          "model_module_version": "1.5.0",
          "state": {
            "_dom_classes": [],
            "_model_module": "@jupyter-widgets/controls",
            "_model_module_version": "1.5.0",
            "_model_name": "FloatProgressModel",
            "_view_count": null,
            "_view_module": "@jupyter-widgets/controls",
            "_view_module_version": "1.5.0",
            "_view_name": "ProgressView",
            "bar_style": "",
            "description": "",
            "description_tooltip": null,
            "layout": "IPY_MODEL_984e2b17424e4555916e4a0538fc670a",
            "max": 1,
            "min": 0,
            "orientation": "horizontal",
            "style": "IPY_MODEL_1f2394516c1e461f81874f4903bcfd96",
            "value": 0.5684253915910965
          }
        },
        "b9b5722fa341443a9407be30138eac90": {
          "model_module": "@jupyter-widgets/base",
          "model_name": "LayoutModel",
          "model_module_version": "1.2.0",
          "state": {
            "_model_module": "@jupyter-widgets/base",
            "_model_module_version": "1.2.0",
            "_model_name": "LayoutModel",
            "_view_count": null,
            "_view_module": "@jupyter-widgets/base",
            "_view_module_version": "1.2.0",
            "_view_name": "LayoutView",
            "align_content": null,
            "align_items": null,
            "align_self": null,
            "border": null,
            "bottom": null,
            "display": null,
            "flex": null,
            "flex_flow": null,
            "grid_area": null,
            "grid_auto_columns": null,
            "grid_auto_flow": null,
            "grid_auto_rows": null,
            "grid_column": null,
            "grid_gap": null,
            "grid_row": null,
            "grid_template_areas": null,
            "grid_template_columns": null,
            "grid_template_rows": null,
            "height": null,
            "justify_content": null,
            "justify_items": null,
            "left": null,
            "margin": null,
            "max_height": null,
            "max_width": null,
            "min_height": null,
            "min_width": null,
            "object_fit": null,
            "object_position": null,
            "order": null,
            "overflow": null,
            "overflow_x": null,
            "overflow_y": null,
            "padding": null,
            "right": null,
            "top": null,
            "visibility": null,
            "width": null
          }
        },
        "658cb020271b4a78b06135fdd9420152": {
          "model_module": "@jupyter-widgets/base",
          "model_name": "LayoutModel",
          "model_module_version": "1.2.0",
          "state": {
            "_model_module": "@jupyter-widgets/base",
            "_model_module_version": "1.2.0",
            "_model_name": "LayoutModel",
            "_view_count": null,
            "_view_module": "@jupyter-widgets/base",
            "_view_module_version": "1.2.0",
            "_view_name": "LayoutView",
            "align_content": null,
            "align_items": null,
            "align_self": null,
            "border": null,
            "bottom": null,
            "display": null,
            "flex": null,
            "flex_flow": null,
            "grid_area": null,
            "grid_auto_columns": null,
            "grid_auto_flow": null,
            "grid_auto_rows": null,
            "grid_column": null,
            "grid_gap": null,
            "grid_row": null,
            "grid_template_areas": null,
            "grid_template_columns": null,
            "grid_template_rows": null,
            "height": null,
            "justify_content": null,
            "justify_items": null,
            "left": null,
            "margin": null,
            "max_height": null,
            "max_width": null,
            "min_height": null,
            "min_width": null,
            "object_fit": null,
            "object_position": null,
            "order": null,
            "overflow": null,
            "overflow_x": null,
            "overflow_y": null,
            "padding": null,
            "right": null,
            "top": null,
            "visibility": null,
            "width": null
          }
        },
        "5db5c6f82ee3405e8c20f99b06ce8ecc": {
          "model_module": "@jupyter-widgets/controls",
          "model_name": "DescriptionStyleModel",
          "model_module_version": "1.5.0",
          "state": {
            "_model_module": "@jupyter-widgets/controls",
            "_model_module_version": "1.5.0",
            "_model_name": "DescriptionStyleModel",
            "_view_count": null,
            "_view_module": "@jupyter-widgets/base",
            "_view_module_version": "1.2.0",
            "_view_name": "StyleView",
            "description_width": ""
          }
        },
        "984e2b17424e4555916e4a0538fc670a": {
          "model_module": "@jupyter-widgets/base",
          "model_name": "LayoutModel",
          "model_module_version": "1.2.0",
          "state": {
            "_model_module": "@jupyter-widgets/base",
            "_model_module_version": "1.2.0",
            "_model_name": "LayoutModel",
            "_view_count": null,
            "_view_module": "@jupyter-widgets/base",
            "_view_module_version": "1.2.0",
            "_view_name": "LayoutView",
            "align_content": null,
            "align_items": null,
            "align_self": null,
            "border": null,
            "bottom": null,
            "display": null,
            "flex": null,
            "flex_flow": null,
            "grid_area": null,
            "grid_auto_columns": null,
            "grid_auto_flow": null,
            "grid_auto_rows": null,
            "grid_column": null,
            "grid_gap": null,
            "grid_row": null,
            "grid_template_areas": null,
            "grid_template_columns": null,
            "grid_template_rows": null,
            "height": null,
            "justify_content": null,
            "justify_items": null,
            "left": null,
            "margin": null,
            "max_height": null,
            "max_width": null,
            "min_height": null,
            "min_width": null,
            "object_fit": null,
            "object_position": null,
            "order": null,
            "overflow": null,
            "overflow_x": null,
            "overflow_y": null,
            "padding": null,
            "right": null,
            "top": null,
            "visibility": null,
            "width": null
          }
        },
        "1f2394516c1e461f81874f4903bcfd96": {
          "model_module": "@jupyter-widgets/controls",
          "model_name": "ProgressStyleModel",
          "model_module_version": "1.5.0",
          "state": {
            "_model_module": "@jupyter-widgets/controls",
            "_model_module_version": "1.5.0",
            "_model_name": "ProgressStyleModel",
            "_view_count": null,
            "_view_module": "@jupyter-widgets/base",
            "_view_module_version": "1.2.0",
            "_view_name": "StyleView",
            "bar_color": null,
            "description_width": ""
          }
        },
        "c1d56c19a2724eecb3d7dda6719c2561": {
          "model_module": "@jupyter-widgets/controls",
          "model_name": "VBoxModel",
          "model_module_version": "1.5.0",
          "state": {
            "_dom_classes": [],
            "_model_module": "@jupyter-widgets/controls",
            "_model_module_version": "1.5.0",
            "_model_name": "VBoxModel",
            "_view_count": null,
            "_view_module": "@jupyter-widgets/controls",
            "_view_module_version": "1.5.0",
            "_view_name": "VBoxView",
            "box_style": "",
            "children": [
              "IPY_MODEL_f0ae250159754752aecaa04906b6cdb7",
              "IPY_MODEL_a8939e5ccc5846d29610069a30cfdd02"
            ],
            "layout": "IPY_MODEL_121faeaeb4ec446e8ebffd4cce3aab6a"
          }
        },
        "f0ae250159754752aecaa04906b6cdb7": {
          "model_module": "@jupyter-widgets/controls",
          "model_name": "LabelModel",
          "model_module_version": "1.5.0",
          "state": {
            "_dom_classes": [],
            "_model_module": "@jupyter-widgets/controls",
            "_model_module_version": "1.5.0",
            "_model_name": "LabelModel",
            "_view_count": null,
            "_view_module": "@jupyter-widgets/controls",
            "_view_module_version": "1.5.0",
            "_view_name": "LabelView",
            "description": "",
            "description_tooltip": null,
            "layout": "IPY_MODEL_159363786b5242899ecd44fb662f2775",
            "placeholder": "​",
            "style": "IPY_MODEL_8b32b88d088b4cd09d006770e85bd06e",
            "value": "0.001 MB of 0.010 MB uploaded (0.000 MB deduped)\r"
          }
        },
        "a8939e5ccc5846d29610069a30cfdd02": {
          "model_module": "@jupyter-widgets/controls",
          "model_name": "FloatProgressModel",
          "model_module_version": "1.5.0",
          "state": {
            "_dom_classes": [],
            "_model_module": "@jupyter-widgets/controls",
            "_model_module_version": "1.5.0",
            "_model_name": "FloatProgressModel",
            "_view_count": null,
            "_view_module": "@jupyter-widgets/controls",
            "_view_module_version": "1.5.0",
            "_view_name": "ProgressView",
            "bar_style": "",
            "description": "",
            "description_tooltip": null,
            "layout": "IPY_MODEL_e36aa12d684d48f8b5d1c5639ad7d877",
            "max": 1,
            "min": 0,
            "orientation": "horizontal",
            "style": "IPY_MODEL_089b7c103b3b4ae9bf5746039949dc37",
            "value": 0.13769706645380164
          }
        },
        "121faeaeb4ec446e8ebffd4cce3aab6a": {
          "model_module": "@jupyter-widgets/base",
          "model_name": "LayoutModel",
          "model_module_version": "1.2.0",
          "state": {
            "_model_module": "@jupyter-widgets/base",
            "_model_module_version": "1.2.0",
            "_model_name": "LayoutModel",
            "_view_count": null,
            "_view_module": "@jupyter-widgets/base",
            "_view_module_version": "1.2.0",
            "_view_name": "LayoutView",
            "align_content": null,
            "align_items": null,
            "align_self": null,
            "border": null,
            "bottom": null,
            "display": null,
            "flex": null,
            "flex_flow": null,
            "grid_area": null,
            "grid_auto_columns": null,
            "grid_auto_flow": null,
            "grid_auto_rows": null,
            "grid_column": null,
            "grid_gap": null,
            "grid_row": null,
            "grid_template_areas": null,
            "grid_template_columns": null,
            "grid_template_rows": null,
            "height": null,
            "justify_content": null,
            "justify_items": null,
            "left": null,
            "margin": null,
            "max_height": null,
            "max_width": null,
            "min_height": null,
            "min_width": null,
            "object_fit": null,
            "object_position": null,
            "order": null,
            "overflow": null,
            "overflow_x": null,
            "overflow_y": null,
            "padding": null,
            "right": null,
            "top": null,
            "visibility": null,
            "width": null
          }
        },
        "159363786b5242899ecd44fb662f2775": {
          "model_module": "@jupyter-widgets/base",
          "model_name": "LayoutModel",
          "model_module_version": "1.2.0",
          "state": {
            "_model_module": "@jupyter-widgets/base",
            "_model_module_version": "1.2.0",
            "_model_name": "LayoutModel",
            "_view_count": null,
            "_view_module": "@jupyter-widgets/base",
            "_view_module_version": "1.2.0",
            "_view_name": "LayoutView",
            "align_content": null,
            "align_items": null,
            "align_self": null,
            "border": null,
            "bottom": null,
            "display": null,
            "flex": null,
            "flex_flow": null,
            "grid_area": null,
            "grid_auto_columns": null,
            "grid_auto_flow": null,
            "grid_auto_rows": null,
            "grid_column": null,
            "grid_gap": null,
            "grid_row": null,
            "grid_template_areas": null,
            "grid_template_columns": null,
            "grid_template_rows": null,
            "height": null,
            "justify_content": null,
            "justify_items": null,
            "left": null,
            "margin": null,
            "max_height": null,
            "max_width": null,
            "min_height": null,
            "min_width": null,
            "object_fit": null,
            "object_position": null,
            "order": null,
            "overflow": null,
            "overflow_x": null,
            "overflow_y": null,
            "padding": null,
            "right": null,
            "top": null,
            "visibility": null,
            "width": null
          }
        },
        "8b32b88d088b4cd09d006770e85bd06e": {
          "model_module": "@jupyter-widgets/controls",
          "model_name": "DescriptionStyleModel",
          "model_module_version": "1.5.0",
          "state": {
            "_model_module": "@jupyter-widgets/controls",
            "_model_module_version": "1.5.0",
            "_model_name": "DescriptionStyleModel",
            "_view_count": null,
            "_view_module": "@jupyter-widgets/base",
            "_view_module_version": "1.2.0",
            "_view_name": "StyleView",
            "description_width": ""
          }
        },
        "e36aa12d684d48f8b5d1c5639ad7d877": {
          "model_module": "@jupyter-widgets/base",
          "model_name": "LayoutModel",
          "model_module_version": "1.2.0",
          "state": {
            "_model_module": "@jupyter-widgets/base",
            "_model_module_version": "1.2.0",
            "_model_name": "LayoutModel",
            "_view_count": null,
            "_view_module": "@jupyter-widgets/base",
            "_view_module_version": "1.2.0",
            "_view_name": "LayoutView",
            "align_content": null,
            "align_items": null,
            "align_self": null,
            "border": null,
            "bottom": null,
            "display": null,
            "flex": null,
            "flex_flow": null,
            "grid_area": null,
            "grid_auto_columns": null,
            "grid_auto_flow": null,
            "grid_auto_rows": null,
            "grid_column": null,
            "grid_gap": null,
            "grid_row": null,
            "grid_template_areas": null,
            "grid_template_columns": null,
            "grid_template_rows": null,
            "height": null,
            "justify_content": null,
            "justify_items": null,
            "left": null,
            "margin": null,
            "max_height": null,
            "max_width": null,
            "min_height": null,
            "min_width": null,
            "object_fit": null,
            "object_position": null,
            "order": null,
            "overflow": null,
            "overflow_x": null,
            "overflow_y": null,
            "padding": null,
            "right": null,
            "top": null,
            "visibility": null,
            "width": null
          }
        },
        "089b7c103b3b4ae9bf5746039949dc37": {
          "model_module": "@jupyter-widgets/controls",
          "model_name": "ProgressStyleModel",
          "model_module_version": "1.5.0",
          "state": {
            "_model_module": "@jupyter-widgets/controls",
            "_model_module_version": "1.5.0",
            "_model_name": "ProgressStyleModel",
            "_view_count": null,
            "_view_module": "@jupyter-widgets/base",
            "_view_module_version": "1.2.0",
            "_view_name": "StyleView",
            "bar_color": null,
            "description_width": ""
          }
        },
        "fba2f355e5514db7bcf31dfcdcd0574e": {
          "model_module": "@jupyter-widgets/controls",
          "model_name": "VBoxModel",
          "model_module_version": "1.5.0",
          "state": {
            "_dom_classes": [],
            "_model_module": "@jupyter-widgets/controls",
            "_model_module_version": "1.5.0",
            "_model_name": "VBoxModel",
            "_view_count": null,
            "_view_module": "@jupyter-widgets/controls",
            "_view_module_version": "1.5.0",
            "_view_name": "VBoxView",
            "box_style": "",
            "children": [
              "IPY_MODEL_2e6150e366fb4dfd8d321e3d5c7f07dd",
              "IPY_MODEL_7094e45c5ea440d78760503498ce6d84"
            ],
            "layout": "IPY_MODEL_ac4e55e65b3b4bdc9e2b0e28960b60a5"
          }
        },
        "2e6150e366fb4dfd8d321e3d5c7f07dd": {
          "model_module": "@jupyter-widgets/controls",
          "model_name": "LabelModel",
          "model_module_version": "1.5.0",
          "state": {
            "_dom_classes": [],
            "_model_module": "@jupyter-widgets/controls",
            "_model_module_version": "1.5.0",
            "_model_name": "LabelModel",
            "_view_count": null,
            "_view_module": "@jupyter-widgets/controls",
            "_view_module_version": "1.5.0",
            "_view_name": "LabelView",
            "description": "",
            "description_tooltip": null,
            "layout": "IPY_MODEL_796491931f1a487cad2ea7c557b44f61",
            "placeholder": "​",
            "style": "IPY_MODEL_8f199aa30c0d4d7c944d9e0bcc1b7dc6",
            "value": "0.001 MB of 0.001 MB uploaded (0.000 MB deduped)\r"
          }
        },
        "7094e45c5ea440d78760503498ce6d84": {
          "model_module": "@jupyter-widgets/controls",
          "model_name": "FloatProgressModel",
          "model_module_version": "1.5.0",
          "state": {
            "_dom_classes": [],
            "_model_module": "@jupyter-widgets/controls",
            "_model_module_version": "1.5.0",
            "_model_name": "FloatProgressModel",
            "_view_count": null,
            "_view_module": "@jupyter-widgets/controls",
            "_view_module_version": "1.5.0",
            "_view_name": "ProgressView",
            "bar_style": "",
            "description": "",
            "description_tooltip": null,
            "layout": "IPY_MODEL_67a661d8df4449a8b6e124665b5609a4",
            "max": 1,
            "min": 0,
            "orientation": "horizontal",
            "style": "IPY_MODEL_66adfd357159479d9e9ae119c5b48e46",
            "value": 1
          }
        },
        "ac4e55e65b3b4bdc9e2b0e28960b60a5": {
          "model_module": "@jupyter-widgets/base",
          "model_name": "LayoutModel",
          "model_module_version": "1.2.0",
          "state": {
            "_model_module": "@jupyter-widgets/base",
            "_model_module_version": "1.2.0",
            "_model_name": "LayoutModel",
            "_view_count": null,
            "_view_module": "@jupyter-widgets/base",
            "_view_module_version": "1.2.0",
            "_view_name": "LayoutView",
            "align_content": null,
            "align_items": null,
            "align_self": null,
            "border": null,
            "bottom": null,
            "display": null,
            "flex": null,
            "flex_flow": null,
            "grid_area": null,
            "grid_auto_columns": null,
            "grid_auto_flow": null,
            "grid_auto_rows": null,
            "grid_column": null,
            "grid_gap": null,
            "grid_row": null,
            "grid_template_areas": null,
            "grid_template_columns": null,
            "grid_template_rows": null,
            "height": null,
            "justify_content": null,
            "justify_items": null,
            "left": null,
            "margin": null,
            "max_height": null,
            "max_width": null,
            "min_height": null,
            "min_width": null,
            "object_fit": null,
            "object_position": null,
            "order": null,
            "overflow": null,
            "overflow_x": null,
            "overflow_y": null,
            "padding": null,
            "right": null,
            "top": null,
            "visibility": null,
            "width": null
          }
        },
        "796491931f1a487cad2ea7c557b44f61": {
          "model_module": "@jupyter-widgets/base",
          "model_name": "LayoutModel",
          "model_module_version": "1.2.0",
          "state": {
            "_model_module": "@jupyter-widgets/base",
            "_model_module_version": "1.2.0",
            "_model_name": "LayoutModel",
            "_view_count": null,
            "_view_module": "@jupyter-widgets/base",
            "_view_module_version": "1.2.0",
            "_view_name": "LayoutView",
            "align_content": null,
            "align_items": null,
            "align_self": null,
            "border": null,
            "bottom": null,
            "display": null,
            "flex": null,
            "flex_flow": null,
            "grid_area": null,
            "grid_auto_columns": null,
            "grid_auto_flow": null,
            "grid_auto_rows": null,
            "grid_column": null,
            "grid_gap": null,
            "grid_row": null,
            "grid_template_areas": null,
            "grid_template_columns": null,
            "grid_template_rows": null,
            "height": null,
            "justify_content": null,
            "justify_items": null,
            "left": null,
            "margin": null,
            "max_height": null,
            "max_width": null,
            "min_height": null,
            "min_width": null,
            "object_fit": null,
            "object_position": null,
            "order": null,
            "overflow": null,
            "overflow_x": null,
            "overflow_y": null,
            "padding": null,
            "right": null,
            "top": null,
            "visibility": null,
            "width": null
          }
        },
        "8f199aa30c0d4d7c944d9e0bcc1b7dc6": {
          "model_module": "@jupyter-widgets/controls",
          "model_name": "DescriptionStyleModel",
          "model_module_version": "1.5.0",
          "state": {
            "_model_module": "@jupyter-widgets/controls",
            "_model_module_version": "1.5.0",
            "_model_name": "DescriptionStyleModel",
            "_view_count": null,
            "_view_module": "@jupyter-widgets/base",
            "_view_module_version": "1.2.0",
            "_view_name": "StyleView",
            "description_width": ""
          }
        },
        "67a661d8df4449a8b6e124665b5609a4": {
          "model_module": "@jupyter-widgets/base",
          "model_name": "LayoutModel",
          "model_module_version": "1.2.0",
          "state": {
            "_model_module": "@jupyter-widgets/base",
            "_model_module_version": "1.2.0",
            "_model_name": "LayoutModel",
            "_view_count": null,
            "_view_module": "@jupyter-widgets/base",
            "_view_module_version": "1.2.0",
            "_view_name": "LayoutView",
            "align_content": null,
            "align_items": null,
            "align_self": null,
            "border": null,
            "bottom": null,
            "display": null,
            "flex": null,
            "flex_flow": null,
            "grid_area": null,
            "grid_auto_columns": null,
            "grid_auto_flow": null,
            "grid_auto_rows": null,
            "grid_column": null,
            "grid_gap": null,
            "grid_row": null,
            "grid_template_areas": null,
            "grid_template_columns": null,
            "grid_template_rows": null,
            "height": null,
            "justify_content": null,
            "justify_items": null,
            "left": null,
            "margin": null,
            "max_height": null,
            "max_width": null,
            "min_height": null,
            "min_width": null,
            "object_fit": null,
            "object_position": null,
            "order": null,
            "overflow": null,
            "overflow_x": null,
            "overflow_y": null,
            "padding": null,
            "right": null,
            "top": null,
            "visibility": null,
            "width": null
          }
        },
        "66adfd357159479d9e9ae119c5b48e46": {
          "model_module": "@jupyter-widgets/controls",
          "model_name": "ProgressStyleModel",
          "model_module_version": "1.5.0",
          "state": {
            "_model_module": "@jupyter-widgets/controls",
            "_model_module_version": "1.5.0",
            "_model_name": "ProgressStyleModel",
            "_view_count": null,
            "_view_module": "@jupyter-widgets/base",
            "_view_module_version": "1.2.0",
            "_view_name": "StyleView",
            "bar_color": null,
            "description_width": ""
          }
        },
        "0bf4fbc95a7f43af88b1fa3deb8135d8": {
          "model_module": "@jupyter-widgets/controls",
          "model_name": "VBoxModel",
          "model_module_version": "1.5.0",
          "state": {
            "_dom_classes": [],
            "_model_module": "@jupyter-widgets/controls",
            "_model_module_version": "1.5.0",
            "_model_name": "VBoxModel",
            "_view_count": null,
            "_view_module": "@jupyter-widgets/controls",
            "_view_module_version": "1.5.0",
            "_view_name": "VBoxView",
            "box_style": "",
            "children": [
              "IPY_MODEL_1d4a9261953f49bda3ddf165fced9de4",
              "IPY_MODEL_815e85752db64d18bda0dce6d5027b8b"
            ],
            "layout": "IPY_MODEL_20df84dd15a5493e83b79cedc9ab8210"
          }
        },
        "1d4a9261953f49bda3ddf165fced9de4": {
          "model_module": "@jupyter-widgets/controls",
          "model_name": "LabelModel",
          "model_module_version": "1.5.0",
          "state": {
            "_dom_classes": [],
            "_model_module": "@jupyter-widgets/controls",
            "_model_module_version": "1.5.0",
            "_model_name": "LabelModel",
            "_view_count": null,
            "_view_module": "@jupyter-widgets/controls",
            "_view_module_version": "1.5.0",
            "_view_name": "LabelView",
            "description": "",
            "description_tooltip": null,
            "layout": "IPY_MODEL_9dab8ed5615d4eb8963e08e6d3ab4189",
            "placeholder": "​",
            "style": "IPY_MODEL_b003e1fa57ea40b49997d2871ddba6bc",
            "value": "Waiting for wandb.init()...\r"
          }
        },
        "815e85752db64d18bda0dce6d5027b8b": {
          "model_module": "@jupyter-widgets/controls",
          "model_name": "FloatProgressModel",
          "model_module_version": "1.5.0",
          "state": {
            "_dom_classes": [],
            "_model_module": "@jupyter-widgets/controls",
            "_model_module_version": "1.5.0",
            "_model_name": "FloatProgressModel",
            "_view_count": null,
            "_view_module": "@jupyter-widgets/controls",
            "_view_module_version": "1.5.0",
            "_view_name": "ProgressView",
            "bar_style": "",
            "description": "",
            "description_tooltip": null,
            "layout": "IPY_MODEL_73b22136ef384d37aa0600a7a64668b6",
            "max": 1,
            "min": 0,
            "orientation": "horizontal",
            "style": "IPY_MODEL_b59feb5b88fc47d5859948a0485f5560",
            "value": 1
          }
        },
        "20df84dd15a5493e83b79cedc9ab8210": {
          "model_module": "@jupyter-widgets/base",
          "model_name": "LayoutModel",
          "model_module_version": "1.2.0",
          "state": {
            "_model_module": "@jupyter-widgets/base",
            "_model_module_version": "1.2.0",
            "_model_name": "LayoutModel",
            "_view_count": null,
            "_view_module": "@jupyter-widgets/base",
            "_view_module_version": "1.2.0",
            "_view_name": "LayoutView",
            "align_content": null,
            "align_items": null,
            "align_self": null,
            "border": null,
            "bottom": null,
            "display": null,
            "flex": null,
            "flex_flow": null,
            "grid_area": null,
            "grid_auto_columns": null,
            "grid_auto_flow": null,
            "grid_auto_rows": null,
            "grid_column": null,
            "grid_gap": null,
            "grid_row": null,
            "grid_template_areas": null,
            "grid_template_columns": null,
            "grid_template_rows": null,
            "height": null,
            "justify_content": null,
            "justify_items": null,
            "left": null,
            "margin": null,
            "max_height": null,
            "max_width": null,
            "min_height": null,
            "min_width": null,
            "object_fit": null,
            "object_position": null,
            "order": null,
            "overflow": null,
            "overflow_x": null,
            "overflow_y": null,
            "padding": null,
            "right": null,
            "top": null,
            "visibility": null,
            "width": null
          }
        },
        "9dab8ed5615d4eb8963e08e6d3ab4189": {
          "model_module": "@jupyter-widgets/base",
          "model_name": "LayoutModel",
          "model_module_version": "1.2.0",
          "state": {
            "_model_module": "@jupyter-widgets/base",
            "_model_module_version": "1.2.0",
            "_model_name": "LayoutModel",
            "_view_count": null,
            "_view_module": "@jupyter-widgets/base",
            "_view_module_version": "1.2.0",
            "_view_name": "LayoutView",
            "align_content": null,
            "align_items": null,
            "align_self": null,
            "border": null,
            "bottom": null,
            "display": null,
            "flex": null,
            "flex_flow": null,
            "grid_area": null,
            "grid_auto_columns": null,
            "grid_auto_flow": null,
            "grid_auto_rows": null,
            "grid_column": null,
            "grid_gap": null,
            "grid_row": null,
            "grid_template_areas": null,
            "grid_template_columns": null,
            "grid_template_rows": null,
            "height": null,
            "justify_content": null,
            "justify_items": null,
            "left": null,
            "margin": null,
            "max_height": null,
            "max_width": null,
            "min_height": null,
            "min_width": null,
            "object_fit": null,
            "object_position": null,
            "order": null,
            "overflow": null,
            "overflow_x": null,
            "overflow_y": null,
            "padding": null,
            "right": null,
            "top": null,
            "visibility": null,
            "width": null
          }
        },
        "b003e1fa57ea40b49997d2871ddba6bc": {
          "model_module": "@jupyter-widgets/controls",
          "model_name": "DescriptionStyleModel",
          "model_module_version": "1.5.0",
          "state": {
            "_model_module": "@jupyter-widgets/controls",
            "_model_module_version": "1.5.0",
            "_model_name": "DescriptionStyleModel",
            "_view_count": null,
            "_view_module": "@jupyter-widgets/base",
            "_view_module_version": "1.2.0",
            "_view_name": "StyleView",
            "description_width": ""
          }
        },
        "73b22136ef384d37aa0600a7a64668b6": {
          "model_module": "@jupyter-widgets/base",
          "model_name": "LayoutModel",
          "model_module_version": "1.2.0",
          "state": {
            "_model_module": "@jupyter-widgets/base",
            "_model_module_version": "1.2.0",
            "_model_name": "LayoutModel",
            "_view_count": null,
            "_view_module": "@jupyter-widgets/base",
            "_view_module_version": "1.2.0",
            "_view_name": "LayoutView",
            "align_content": null,
            "align_items": null,
            "align_self": null,
            "border": null,
            "bottom": null,
            "display": null,
            "flex": null,
            "flex_flow": null,
            "grid_area": null,
            "grid_auto_columns": null,
            "grid_auto_flow": null,
            "grid_auto_rows": null,
            "grid_column": null,
            "grid_gap": null,
            "grid_row": null,
            "grid_template_areas": null,
            "grid_template_columns": null,
            "grid_template_rows": null,
            "height": null,
            "justify_content": null,
            "justify_items": null,
            "left": null,
            "margin": null,
            "max_height": null,
            "max_width": null,
            "min_height": null,
            "min_width": null,
            "object_fit": null,
            "object_position": null,
            "order": null,
            "overflow": null,
            "overflow_x": null,
            "overflow_y": null,
            "padding": null,
            "right": null,
            "top": null,
            "visibility": null,
            "width": null
          }
        },
        "b59feb5b88fc47d5859948a0485f5560": {
          "model_module": "@jupyter-widgets/controls",
          "model_name": "ProgressStyleModel",
          "model_module_version": "1.5.0",
          "state": {
            "_model_module": "@jupyter-widgets/controls",
            "_model_module_version": "1.5.0",
            "_model_name": "ProgressStyleModel",
            "_view_count": null,
            "_view_module": "@jupyter-widgets/base",
            "_view_module_version": "1.2.0",
            "_view_name": "StyleView",
            "bar_color": null,
            "description_width": ""
          }
        },
        "793ad9d4b72e40cd9417c352b69b76e5": {
          "model_module": "@jupyter-widgets/controls",
          "model_name": "VBoxModel",
          "model_module_version": "1.5.0",
          "state": {
            "_dom_classes": [],
            "_model_module": "@jupyter-widgets/controls",
            "_model_module_version": "1.5.0",
            "_model_name": "VBoxModel",
            "_view_count": null,
            "_view_module": "@jupyter-widgets/controls",
            "_view_module_version": "1.5.0",
            "_view_name": "VBoxView",
            "box_style": "",
            "children": [
              "IPY_MODEL_b5c609ff0cdf49fb92dd9345bc3a1c30",
              "IPY_MODEL_211fece64dee4f3e91867c9fac49fcbe"
            ],
            "layout": "IPY_MODEL_7cfe473af56347e796452f417a9189a7"
          }
        },
        "b5c609ff0cdf49fb92dd9345bc3a1c30": {
          "model_module": "@jupyter-widgets/controls",
          "model_name": "LabelModel",
          "model_module_version": "1.5.0",
          "state": {
            "_dom_classes": [],
            "_model_module": "@jupyter-widgets/controls",
            "_model_module_version": "1.5.0",
            "_model_name": "LabelModel",
            "_view_count": null,
            "_view_module": "@jupyter-widgets/controls",
            "_view_module_version": "1.5.0",
            "_view_name": "LabelView",
            "description": "",
            "description_tooltip": null,
            "layout": "IPY_MODEL_3fe7bc0520ba491d9f561487f943eacb",
            "placeholder": "​",
            "style": "IPY_MODEL_b4c42c50714949739349adf2d7547bc6",
            "value": "0.001 MB of 0.001 MB uploaded (0.000 MB deduped)\r"
          }
        },
        "211fece64dee4f3e91867c9fac49fcbe": {
          "model_module": "@jupyter-widgets/controls",
          "model_name": "FloatProgressModel",
          "model_module_version": "1.5.0",
          "state": {
            "_dom_classes": [],
            "_model_module": "@jupyter-widgets/controls",
            "_model_module_version": "1.5.0",
            "_model_name": "FloatProgressModel",
            "_view_count": null,
            "_view_module": "@jupyter-widgets/controls",
            "_view_module_version": "1.5.0",
            "_view_name": "ProgressView",
            "bar_style": "",
            "description": "",
            "description_tooltip": null,
            "layout": "IPY_MODEL_ba9441f9f9b14f4c9aa8badac32d54be",
            "max": 1,
            "min": 0,
            "orientation": "horizontal",
            "style": "IPY_MODEL_4a8677ae534442e19e36a524613c986d",
            "value": 1
          }
        },
        "7cfe473af56347e796452f417a9189a7": {
          "model_module": "@jupyter-widgets/base",
          "model_name": "LayoutModel",
          "model_module_version": "1.2.0",
          "state": {
            "_model_module": "@jupyter-widgets/base",
            "_model_module_version": "1.2.0",
            "_model_name": "LayoutModel",
            "_view_count": null,
            "_view_module": "@jupyter-widgets/base",
            "_view_module_version": "1.2.0",
            "_view_name": "LayoutView",
            "align_content": null,
            "align_items": null,
            "align_self": null,
            "border": null,
            "bottom": null,
            "display": null,
            "flex": null,
            "flex_flow": null,
            "grid_area": null,
            "grid_auto_columns": null,
            "grid_auto_flow": null,
            "grid_auto_rows": null,
            "grid_column": null,
            "grid_gap": null,
            "grid_row": null,
            "grid_template_areas": null,
            "grid_template_columns": null,
            "grid_template_rows": null,
            "height": null,
            "justify_content": null,
            "justify_items": null,
            "left": null,
            "margin": null,
            "max_height": null,
            "max_width": null,
            "min_height": null,
            "min_width": null,
            "object_fit": null,
            "object_position": null,
            "order": null,
            "overflow": null,
            "overflow_x": null,
            "overflow_y": null,
            "padding": null,
            "right": null,
            "top": null,
            "visibility": null,
            "width": null
          }
        },
        "3fe7bc0520ba491d9f561487f943eacb": {
          "model_module": "@jupyter-widgets/base",
          "model_name": "LayoutModel",
          "model_module_version": "1.2.0",
          "state": {
            "_model_module": "@jupyter-widgets/base",
            "_model_module_version": "1.2.0",
            "_model_name": "LayoutModel",
            "_view_count": null,
            "_view_module": "@jupyter-widgets/base",
            "_view_module_version": "1.2.0",
            "_view_name": "LayoutView",
            "align_content": null,
            "align_items": null,
            "align_self": null,
            "border": null,
            "bottom": null,
            "display": null,
            "flex": null,
            "flex_flow": null,
            "grid_area": null,
            "grid_auto_columns": null,
            "grid_auto_flow": null,
            "grid_auto_rows": null,
            "grid_column": null,
            "grid_gap": null,
            "grid_row": null,
            "grid_template_areas": null,
            "grid_template_columns": null,
            "grid_template_rows": null,
            "height": null,
            "justify_content": null,
            "justify_items": null,
            "left": null,
            "margin": null,
            "max_height": null,
            "max_width": null,
            "min_height": null,
            "min_width": null,
            "object_fit": null,
            "object_position": null,
            "order": null,
            "overflow": null,
            "overflow_x": null,
            "overflow_y": null,
            "padding": null,
            "right": null,
            "top": null,
            "visibility": null,
            "width": null
          }
        },
        "b4c42c50714949739349adf2d7547bc6": {
          "model_module": "@jupyter-widgets/controls",
          "model_name": "DescriptionStyleModel",
          "model_module_version": "1.5.0",
          "state": {
            "_model_module": "@jupyter-widgets/controls",
            "_model_module_version": "1.5.0",
            "_model_name": "DescriptionStyleModel",
            "_view_count": null,
            "_view_module": "@jupyter-widgets/base",
            "_view_module_version": "1.2.0",
            "_view_name": "StyleView",
            "description_width": ""
          }
        },
        "ba9441f9f9b14f4c9aa8badac32d54be": {
          "model_module": "@jupyter-widgets/base",
          "model_name": "LayoutModel",
          "model_module_version": "1.2.0",
          "state": {
            "_model_module": "@jupyter-widgets/base",
            "_model_module_version": "1.2.0",
            "_model_name": "LayoutModel",
            "_view_count": null,
            "_view_module": "@jupyter-widgets/base",
            "_view_module_version": "1.2.0",
            "_view_name": "LayoutView",
            "align_content": null,
            "align_items": null,
            "align_self": null,
            "border": null,
            "bottom": null,
            "display": null,
            "flex": null,
            "flex_flow": null,
            "grid_area": null,
            "grid_auto_columns": null,
            "grid_auto_flow": null,
            "grid_auto_rows": null,
            "grid_column": null,
            "grid_gap": null,
            "grid_row": null,
            "grid_template_areas": null,
            "grid_template_columns": null,
            "grid_template_rows": null,
            "height": null,
            "justify_content": null,
            "justify_items": null,
            "left": null,
            "margin": null,
            "max_height": null,
            "max_width": null,
            "min_height": null,
            "min_width": null,
            "object_fit": null,
            "object_position": null,
            "order": null,
            "overflow": null,
            "overflow_x": null,
            "overflow_y": null,
            "padding": null,
            "right": null,
            "top": null,
            "visibility": null,
            "width": null
          }
        },
        "4a8677ae534442e19e36a524613c986d": {
          "model_module": "@jupyter-widgets/controls",
          "model_name": "ProgressStyleModel",
          "model_module_version": "1.5.0",
          "state": {
            "_model_module": "@jupyter-widgets/controls",
            "_model_module_version": "1.5.0",
            "_model_name": "ProgressStyleModel",
            "_view_count": null,
            "_view_module": "@jupyter-widgets/base",
            "_view_module_version": "1.2.0",
            "_view_name": "StyleView",
            "bar_color": null,
            "description_width": ""
          }
        },
        "9a48054136ec4f07b3585e9728b3dcec": {
          "model_module": "@jupyter-widgets/controls",
          "model_name": "VBoxModel",
          "model_module_version": "1.5.0",
          "state": {
            "_dom_classes": [],
            "_model_module": "@jupyter-widgets/controls",
            "_model_module_version": "1.5.0",
            "_model_name": "VBoxModel",
            "_view_count": null,
            "_view_module": "@jupyter-widgets/controls",
            "_view_module_version": "1.5.0",
            "_view_name": "VBoxView",
            "box_style": "",
            "children": [
              "IPY_MODEL_a8721652ca214e6b84c63cf88c399120",
              "IPY_MODEL_c6297e26da9d4fcaaecee896ae1272f5"
            ],
            "layout": "IPY_MODEL_1b8b11dd44b5454c8d911532c5361ad3"
          }
        },
        "a8721652ca214e6b84c63cf88c399120": {
          "model_module": "@jupyter-widgets/controls",
          "model_name": "LabelModel",
          "model_module_version": "1.5.0",
          "state": {
            "_dom_classes": [],
            "_model_module": "@jupyter-widgets/controls",
            "_model_module_version": "1.5.0",
            "_model_name": "LabelModel",
            "_view_count": null,
            "_view_module": "@jupyter-widgets/controls",
            "_view_module_version": "1.5.0",
            "_view_name": "LabelView",
            "description": "",
            "description_tooltip": null,
            "layout": "IPY_MODEL_1a5ada133a334396b559c8d2dd6499b8",
            "placeholder": "​",
            "style": "IPY_MODEL_2d62c136d31d4184bec7dd0cda643ccf",
            "value": "0.001 MB of 0.002 MB uploaded (0.000 MB deduped)\r"
          }
        },
        "c6297e26da9d4fcaaecee896ae1272f5": {
          "model_module": "@jupyter-widgets/controls",
          "model_name": "FloatProgressModel",
          "model_module_version": "1.5.0",
          "state": {
            "_dom_classes": [],
            "_model_module": "@jupyter-widgets/controls",
            "_model_module_version": "1.5.0",
            "_model_name": "FloatProgressModel",
            "_view_count": null,
            "_view_module": "@jupyter-widgets/controls",
            "_view_module_version": "1.5.0",
            "_view_name": "ProgressView",
            "bar_style": "",
            "description": "",
            "description_tooltip": null,
            "layout": "IPY_MODEL_6e765841247c4746877efc105e7f1d7e",
            "max": 1,
            "min": 0,
            "orientation": "horizontal",
            "style": "IPY_MODEL_6db7893a41a149fa93e8abd2c9e13452",
            "value": 0.5688375927452597
          }
        },
        "1b8b11dd44b5454c8d911532c5361ad3": {
          "model_module": "@jupyter-widgets/base",
          "model_name": "LayoutModel",
          "model_module_version": "1.2.0",
          "state": {
            "_model_module": "@jupyter-widgets/base",
            "_model_module_version": "1.2.0",
            "_model_name": "LayoutModel",
            "_view_count": null,
            "_view_module": "@jupyter-widgets/base",
            "_view_module_version": "1.2.0",
            "_view_name": "LayoutView",
            "align_content": null,
            "align_items": null,
            "align_self": null,
            "border": null,
            "bottom": null,
            "display": null,
            "flex": null,
            "flex_flow": null,
            "grid_area": null,
            "grid_auto_columns": null,
            "grid_auto_flow": null,
            "grid_auto_rows": null,
            "grid_column": null,
            "grid_gap": null,
            "grid_row": null,
            "grid_template_areas": null,
            "grid_template_columns": null,
            "grid_template_rows": null,
            "height": null,
            "justify_content": null,
            "justify_items": null,
            "left": null,
            "margin": null,
            "max_height": null,
            "max_width": null,
            "min_height": null,
            "min_width": null,
            "object_fit": null,
            "object_position": null,
            "order": null,
            "overflow": null,
            "overflow_x": null,
            "overflow_y": null,
            "padding": null,
            "right": null,
            "top": null,
            "visibility": null,
            "width": null
          }
        },
        "1a5ada133a334396b559c8d2dd6499b8": {
          "model_module": "@jupyter-widgets/base",
          "model_name": "LayoutModel",
          "model_module_version": "1.2.0",
          "state": {
            "_model_module": "@jupyter-widgets/base",
            "_model_module_version": "1.2.0",
            "_model_name": "LayoutModel",
            "_view_count": null,
            "_view_module": "@jupyter-widgets/base",
            "_view_module_version": "1.2.0",
            "_view_name": "LayoutView",
            "align_content": null,
            "align_items": null,
            "align_self": null,
            "border": null,
            "bottom": null,
            "display": null,
            "flex": null,
            "flex_flow": null,
            "grid_area": null,
            "grid_auto_columns": null,
            "grid_auto_flow": null,
            "grid_auto_rows": null,
            "grid_column": null,
            "grid_gap": null,
            "grid_row": null,
            "grid_template_areas": null,
            "grid_template_columns": null,
            "grid_template_rows": null,
            "height": null,
            "justify_content": null,
            "justify_items": null,
            "left": null,
            "margin": null,
            "max_height": null,
            "max_width": null,
            "min_height": null,
            "min_width": null,
            "object_fit": null,
            "object_position": null,
            "order": null,
            "overflow": null,
            "overflow_x": null,
            "overflow_y": null,
            "padding": null,
            "right": null,
            "top": null,
            "visibility": null,
            "width": null
          }
        },
        "2d62c136d31d4184bec7dd0cda643ccf": {
          "model_module": "@jupyter-widgets/controls",
          "model_name": "DescriptionStyleModel",
          "model_module_version": "1.5.0",
          "state": {
            "_model_module": "@jupyter-widgets/controls",
            "_model_module_version": "1.5.0",
            "_model_name": "DescriptionStyleModel",
            "_view_count": null,
            "_view_module": "@jupyter-widgets/base",
            "_view_module_version": "1.2.0",
            "_view_name": "StyleView",
            "description_width": ""
          }
        },
        "6e765841247c4746877efc105e7f1d7e": {
          "model_module": "@jupyter-widgets/base",
          "model_name": "LayoutModel",
          "model_module_version": "1.2.0",
          "state": {
            "_model_module": "@jupyter-widgets/base",
            "_model_module_version": "1.2.0",
            "_model_name": "LayoutModel",
            "_view_count": null,
            "_view_module": "@jupyter-widgets/base",
            "_view_module_version": "1.2.0",
            "_view_name": "LayoutView",
            "align_content": null,
            "align_items": null,
            "align_self": null,
            "border": null,
            "bottom": null,
            "display": null,
            "flex": null,
            "flex_flow": null,
            "grid_area": null,
            "grid_auto_columns": null,
            "grid_auto_flow": null,
            "grid_auto_rows": null,
            "grid_column": null,
            "grid_gap": null,
            "grid_row": null,
            "grid_template_areas": null,
            "grid_template_columns": null,
            "grid_template_rows": null,
            "height": null,
            "justify_content": null,
            "justify_items": null,
            "left": null,
            "margin": null,
            "max_height": null,
            "max_width": null,
            "min_height": null,
            "min_width": null,
            "object_fit": null,
            "object_position": null,
            "order": null,
            "overflow": null,
            "overflow_x": null,
            "overflow_y": null,
            "padding": null,
            "right": null,
            "top": null,
            "visibility": null,
            "width": null
          }
        },
        "6db7893a41a149fa93e8abd2c9e13452": {
          "model_module": "@jupyter-widgets/controls",
          "model_name": "ProgressStyleModel",
          "model_module_version": "1.5.0",
          "state": {
            "_model_module": "@jupyter-widgets/controls",
            "_model_module_version": "1.5.0",
            "_model_name": "ProgressStyleModel",
            "_view_count": null,
            "_view_module": "@jupyter-widgets/base",
            "_view_module_version": "1.2.0",
            "_view_name": "StyleView",
            "bar_color": null,
            "description_width": ""
          }
        },
        "ea8ef2f215d64c928fc5c352b438998f": {
          "model_module": "@jupyter-widgets/controls",
          "model_name": "VBoxModel",
          "model_module_version": "1.5.0",
          "state": {
            "_dom_classes": [],
            "_model_module": "@jupyter-widgets/controls",
            "_model_module_version": "1.5.0",
            "_model_name": "VBoxModel",
            "_view_count": null,
            "_view_module": "@jupyter-widgets/controls",
            "_view_module_version": "1.5.0",
            "_view_name": "VBoxView",
            "box_style": "",
            "children": [
              "IPY_MODEL_4db99bd859d74b7fb51eea05e9a6bd45",
              "IPY_MODEL_17d4442761ff435b8313851e94f512f9"
            ],
            "layout": "IPY_MODEL_1357d5360d1342508136e68de6c12926"
          }
        },
        "4db99bd859d74b7fb51eea05e9a6bd45": {
          "model_module": "@jupyter-widgets/controls",
          "model_name": "LabelModel",
          "model_module_version": "1.5.0",
          "state": {
            "_dom_classes": [],
            "_model_module": "@jupyter-widgets/controls",
            "_model_module_version": "1.5.0",
            "_model_name": "LabelModel",
            "_view_count": null,
            "_view_module": "@jupyter-widgets/controls",
            "_view_module_version": "1.5.0",
            "_view_name": "LabelView",
            "description": "",
            "description_tooltip": null,
            "layout": "IPY_MODEL_75969c7643d942df8765ca8b0b1aec5c",
            "placeholder": "​",
            "style": "IPY_MODEL_709f8a4677954f63b3205f25647a2be7",
            "value": "0.001 MB of 0.001 MB uploaded (0.000 MB deduped)\r"
          }
        },
        "17d4442761ff435b8313851e94f512f9": {
          "model_module": "@jupyter-widgets/controls",
          "model_name": "FloatProgressModel",
          "model_module_version": "1.5.0",
          "state": {
            "_dom_classes": [],
            "_model_module": "@jupyter-widgets/controls",
            "_model_module_version": "1.5.0",
            "_model_name": "FloatProgressModel",
            "_view_count": null,
            "_view_module": "@jupyter-widgets/controls",
            "_view_module_version": "1.5.0",
            "_view_name": "ProgressView",
            "bar_style": "",
            "description": "",
            "description_tooltip": null,
            "layout": "IPY_MODEL_62022454944f406696cbc810044929fe",
            "max": 1,
            "min": 0,
            "orientation": "horizontal",
            "style": "IPY_MODEL_8827d7090f204b98bcfa6f15e47c8c3a",
            "value": 1
          }
        },
        "1357d5360d1342508136e68de6c12926": {
          "model_module": "@jupyter-widgets/base",
          "model_name": "LayoutModel",
          "model_module_version": "1.2.0",
          "state": {
            "_model_module": "@jupyter-widgets/base",
            "_model_module_version": "1.2.0",
            "_model_name": "LayoutModel",
            "_view_count": null,
            "_view_module": "@jupyter-widgets/base",
            "_view_module_version": "1.2.0",
            "_view_name": "LayoutView",
            "align_content": null,
            "align_items": null,
            "align_self": null,
            "border": null,
            "bottom": null,
            "display": null,
            "flex": null,
            "flex_flow": null,
            "grid_area": null,
            "grid_auto_columns": null,
            "grid_auto_flow": null,
            "grid_auto_rows": null,
            "grid_column": null,
            "grid_gap": null,
            "grid_row": null,
            "grid_template_areas": null,
            "grid_template_columns": null,
            "grid_template_rows": null,
            "height": null,
            "justify_content": null,
            "justify_items": null,
            "left": null,
            "margin": null,
            "max_height": null,
            "max_width": null,
            "min_height": null,
            "min_width": null,
            "object_fit": null,
            "object_position": null,
            "order": null,
            "overflow": null,
            "overflow_x": null,
            "overflow_y": null,
            "padding": null,
            "right": null,
            "top": null,
            "visibility": null,
            "width": null
          }
        },
        "75969c7643d942df8765ca8b0b1aec5c": {
          "model_module": "@jupyter-widgets/base",
          "model_name": "LayoutModel",
          "model_module_version": "1.2.0",
          "state": {
            "_model_module": "@jupyter-widgets/base",
            "_model_module_version": "1.2.0",
            "_model_name": "LayoutModel",
            "_view_count": null,
            "_view_module": "@jupyter-widgets/base",
            "_view_module_version": "1.2.0",
            "_view_name": "LayoutView",
            "align_content": null,
            "align_items": null,
            "align_self": null,
            "border": null,
            "bottom": null,
            "display": null,
            "flex": null,
            "flex_flow": null,
            "grid_area": null,
            "grid_auto_columns": null,
            "grid_auto_flow": null,
            "grid_auto_rows": null,
            "grid_column": null,
            "grid_gap": null,
            "grid_row": null,
            "grid_template_areas": null,
            "grid_template_columns": null,
            "grid_template_rows": null,
            "height": null,
            "justify_content": null,
            "justify_items": null,
            "left": null,
            "margin": null,
            "max_height": null,
            "max_width": null,
            "min_height": null,
            "min_width": null,
            "object_fit": null,
            "object_position": null,
            "order": null,
            "overflow": null,
            "overflow_x": null,
            "overflow_y": null,
            "padding": null,
            "right": null,
            "top": null,
            "visibility": null,
            "width": null
          }
        },
        "709f8a4677954f63b3205f25647a2be7": {
          "model_module": "@jupyter-widgets/controls",
          "model_name": "DescriptionStyleModel",
          "model_module_version": "1.5.0",
          "state": {
            "_model_module": "@jupyter-widgets/controls",
            "_model_module_version": "1.5.0",
            "_model_name": "DescriptionStyleModel",
            "_view_count": null,
            "_view_module": "@jupyter-widgets/base",
            "_view_module_version": "1.2.0",
            "_view_name": "StyleView",
            "description_width": ""
          }
        },
        "62022454944f406696cbc810044929fe": {
          "model_module": "@jupyter-widgets/base",
          "model_name": "LayoutModel",
          "model_module_version": "1.2.0",
          "state": {
            "_model_module": "@jupyter-widgets/base",
            "_model_module_version": "1.2.0",
            "_model_name": "LayoutModel",
            "_view_count": null,
            "_view_module": "@jupyter-widgets/base",
            "_view_module_version": "1.2.0",
            "_view_name": "LayoutView",
            "align_content": null,
            "align_items": null,
            "align_self": null,
            "border": null,
            "bottom": null,
            "display": null,
            "flex": null,
            "flex_flow": null,
            "grid_area": null,
            "grid_auto_columns": null,
            "grid_auto_flow": null,
            "grid_auto_rows": null,
            "grid_column": null,
            "grid_gap": null,
            "grid_row": null,
            "grid_template_areas": null,
            "grid_template_columns": null,
            "grid_template_rows": null,
            "height": null,
            "justify_content": null,
            "justify_items": null,
            "left": null,
            "margin": null,
            "max_height": null,
            "max_width": null,
            "min_height": null,
            "min_width": null,
            "object_fit": null,
            "object_position": null,
            "order": null,
            "overflow": null,
            "overflow_x": null,
            "overflow_y": null,
            "padding": null,
            "right": null,
            "top": null,
            "visibility": null,
            "width": null
          }
        },
        "8827d7090f204b98bcfa6f15e47c8c3a": {
          "model_module": "@jupyter-widgets/controls",
          "model_name": "ProgressStyleModel",
          "model_module_version": "1.5.0",
          "state": {
            "_model_module": "@jupyter-widgets/controls",
            "_model_module_version": "1.5.0",
            "_model_name": "ProgressStyleModel",
            "_view_count": null,
            "_view_module": "@jupyter-widgets/base",
            "_view_module_version": "1.2.0",
            "_view_name": "StyleView",
            "bar_color": null,
            "description_width": ""
          }
        },
        "789e2d732b1a4c6b8bfed683b2294c83": {
          "model_module": "@jupyter-widgets/controls",
          "model_name": "VBoxModel",
          "model_module_version": "1.5.0",
          "state": {
            "_dom_classes": [],
            "_model_module": "@jupyter-widgets/controls",
            "_model_module_version": "1.5.0",
            "_model_name": "VBoxModel",
            "_view_count": null,
            "_view_module": "@jupyter-widgets/controls",
            "_view_module_version": "1.5.0",
            "_view_name": "VBoxView",
            "box_style": "",
            "children": [
              "IPY_MODEL_db2460423ffe48faa90ff02a835c5002",
              "IPY_MODEL_384652d01009439cb55d4700a3adb3ae"
            ],
            "layout": "IPY_MODEL_9bc005a141654514a71806275b7548e1"
          }
        },
        "db2460423ffe48faa90ff02a835c5002": {
          "model_module": "@jupyter-widgets/controls",
          "model_name": "LabelModel",
          "model_module_version": "1.5.0",
          "state": {
            "_dom_classes": [],
            "_model_module": "@jupyter-widgets/controls",
            "_model_module_version": "1.5.0",
            "_model_name": "LabelModel",
            "_view_count": null,
            "_view_module": "@jupyter-widgets/controls",
            "_view_module_version": "1.5.0",
            "_view_name": "LabelView",
            "description": "",
            "description_tooltip": null,
            "layout": "IPY_MODEL_38b2d0ae66dc447ab5a4885b1e7b7c13",
            "placeholder": "​",
            "style": "IPY_MODEL_e7ec267ca2a94fb4895f325b7f112c12",
            "value": "0.001 MB of 0.001 MB uploaded (0.000 MB deduped)\r"
          }
        },
        "384652d01009439cb55d4700a3adb3ae": {
          "model_module": "@jupyter-widgets/controls",
          "model_name": "FloatProgressModel",
          "model_module_version": "1.5.0",
          "state": {
            "_dom_classes": [],
            "_model_module": "@jupyter-widgets/controls",
            "_model_module_version": "1.5.0",
            "_model_name": "FloatProgressModel",
            "_view_count": null,
            "_view_module": "@jupyter-widgets/controls",
            "_view_module_version": "1.5.0",
            "_view_name": "ProgressView",
            "bar_style": "",
            "description": "",
            "description_tooltip": null,
            "layout": "IPY_MODEL_9815f1b2dcfd46fc8d896ad7453e2b25",
            "max": 1,
            "min": 0,
            "orientation": "horizontal",
            "style": "IPY_MODEL_19b2b103301e40679a831582d44c69d6",
            "value": 1
          }
        },
        "9bc005a141654514a71806275b7548e1": {
          "model_module": "@jupyter-widgets/base",
          "model_name": "LayoutModel",
          "model_module_version": "1.2.0",
          "state": {
            "_model_module": "@jupyter-widgets/base",
            "_model_module_version": "1.2.0",
            "_model_name": "LayoutModel",
            "_view_count": null,
            "_view_module": "@jupyter-widgets/base",
            "_view_module_version": "1.2.0",
            "_view_name": "LayoutView",
            "align_content": null,
            "align_items": null,
            "align_self": null,
            "border": null,
            "bottom": null,
            "display": null,
            "flex": null,
            "flex_flow": null,
            "grid_area": null,
            "grid_auto_columns": null,
            "grid_auto_flow": null,
            "grid_auto_rows": null,
            "grid_column": null,
            "grid_gap": null,
            "grid_row": null,
            "grid_template_areas": null,
            "grid_template_columns": null,
            "grid_template_rows": null,
            "height": null,
            "justify_content": null,
            "justify_items": null,
            "left": null,
            "margin": null,
            "max_height": null,
            "max_width": null,
            "min_height": null,
            "min_width": null,
            "object_fit": null,
            "object_position": null,
            "order": null,
            "overflow": null,
            "overflow_x": null,
            "overflow_y": null,
            "padding": null,
            "right": null,
            "top": null,
            "visibility": null,
            "width": null
          }
        },
        "38b2d0ae66dc447ab5a4885b1e7b7c13": {
          "model_module": "@jupyter-widgets/base",
          "model_name": "LayoutModel",
          "model_module_version": "1.2.0",
          "state": {
            "_model_module": "@jupyter-widgets/base",
            "_model_module_version": "1.2.0",
            "_model_name": "LayoutModel",
            "_view_count": null,
            "_view_module": "@jupyter-widgets/base",
            "_view_module_version": "1.2.0",
            "_view_name": "LayoutView",
            "align_content": null,
            "align_items": null,
            "align_self": null,
            "border": null,
            "bottom": null,
            "display": null,
            "flex": null,
            "flex_flow": null,
            "grid_area": null,
            "grid_auto_columns": null,
            "grid_auto_flow": null,
            "grid_auto_rows": null,
            "grid_column": null,
            "grid_gap": null,
            "grid_row": null,
            "grid_template_areas": null,
            "grid_template_columns": null,
            "grid_template_rows": null,
            "height": null,
            "justify_content": null,
            "justify_items": null,
            "left": null,
            "margin": null,
            "max_height": null,
            "max_width": null,
            "min_height": null,
            "min_width": null,
            "object_fit": null,
            "object_position": null,
            "order": null,
            "overflow": null,
            "overflow_x": null,
            "overflow_y": null,
            "padding": null,
            "right": null,
            "top": null,
            "visibility": null,
            "width": null
          }
        },
        "e7ec267ca2a94fb4895f325b7f112c12": {
          "model_module": "@jupyter-widgets/controls",
          "model_name": "DescriptionStyleModel",
          "model_module_version": "1.5.0",
          "state": {
            "_model_module": "@jupyter-widgets/controls",
            "_model_module_version": "1.5.0",
            "_model_name": "DescriptionStyleModel",
            "_view_count": null,
            "_view_module": "@jupyter-widgets/base",
            "_view_module_version": "1.2.0",
            "_view_name": "StyleView",
            "description_width": ""
          }
        },
        "9815f1b2dcfd46fc8d896ad7453e2b25": {
          "model_module": "@jupyter-widgets/base",
          "model_name": "LayoutModel",
          "model_module_version": "1.2.0",
          "state": {
            "_model_module": "@jupyter-widgets/base",
            "_model_module_version": "1.2.0",
            "_model_name": "LayoutModel",
            "_view_count": null,
            "_view_module": "@jupyter-widgets/base",
            "_view_module_version": "1.2.0",
            "_view_name": "LayoutView",
            "align_content": null,
            "align_items": null,
            "align_self": null,
            "border": null,
            "bottom": null,
            "display": null,
            "flex": null,
            "flex_flow": null,
            "grid_area": null,
            "grid_auto_columns": null,
            "grid_auto_flow": null,
            "grid_auto_rows": null,
            "grid_column": null,
            "grid_gap": null,
            "grid_row": null,
            "grid_template_areas": null,
            "grid_template_columns": null,
            "grid_template_rows": null,
            "height": null,
            "justify_content": null,
            "justify_items": null,
            "left": null,
            "margin": null,
            "max_height": null,
            "max_width": null,
            "min_height": null,
            "min_width": null,
            "object_fit": null,
            "object_position": null,
            "order": null,
            "overflow": null,
            "overflow_x": null,
            "overflow_y": null,
            "padding": null,
            "right": null,
            "top": null,
            "visibility": null,
            "width": null
          }
        },
        "19b2b103301e40679a831582d44c69d6": {
          "model_module": "@jupyter-widgets/controls",
          "model_name": "ProgressStyleModel",
          "model_module_version": "1.5.0",
          "state": {
            "_model_module": "@jupyter-widgets/controls",
            "_model_module_version": "1.5.0",
            "_model_name": "ProgressStyleModel",
            "_view_count": null,
            "_view_module": "@jupyter-widgets/base",
            "_view_module_version": "1.2.0",
            "_view_name": "StyleView",
            "bar_color": null,
            "description_width": ""
          }
        },
        "22eb56445f134601a08947090c41277a": {
          "model_module": "@jupyter-widgets/controls",
          "model_name": "VBoxModel",
          "model_module_version": "1.5.0",
          "state": {
            "_dom_classes": [],
            "_model_module": "@jupyter-widgets/controls",
            "_model_module_version": "1.5.0",
            "_model_name": "VBoxModel",
            "_view_count": null,
            "_view_module": "@jupyter-widgets/controls",
            "_view_module_version": "1.5.0",
            "_view_name": "VBoxView",
            "box_style": "",
            "children": [
              "IPY_MODEL_97bf12b84c554b2fa17d15acfbd99fe9",
              "IPY_MODEL_6418195c8e6f4173853dc5bab751461a"
            ],
            "layout": "IPY_MODEL_38820e0b7f5f4b2694a75a48b1503bdf"
          }
        },
        "97bf12b84c554b2fa17d15acfbd99fe9": {
          "model_module": "@jupyter-widgets/controls",
          "model_name": "LabelModel",
          "model_module_version": "1.5.0",
          "state": {
            "_dom_classes": [],
            "_model_module": "@jupyter-widgets/controls",
            "_model_module_version": "1.5.0",
            "_model_name": "LabelModel",
            "_view_count": null,
            "_view_module": "@jupyter-widgets/controls",
            "_view_module_version": "1.5.0",
            "_view_name": "LabelView",
            "description": "",
            "description_tooltip": null,
            "layout": "IPY_MODEL_444e2bee87b7420b8a83918aae5ffb81",
            "placeholder": "​",
            "style": "IPY_MODEL_b85112e8247e43ac83fd5a48e96a7e38",
            "value": "0.001 MB of 0.001 MB uploaded (0.000 MB deduped)\r"
          }
        },
        "6418195c8e6f4173853dc5bab751461a": {
          "model_module": "@jupyter-widgets/controls",
          "model_name": "FloatProgressModel",
          "model_module_version": "1.5.0",
          "state": {
            "_dom_classes": [],
            "_model_module": "@jupyter-widgets/controls",
            "_model_module_version": "1.5.0",
            "_model_name": "FloatProgressModel",
            "_view_count": null,
            "_view_module": "@jupyter-widgets/controls",
            "_view_module_version": "1.5.0",
            "_view_name": "ProgressView",
            "bar_style": "",
            "description": "",
            "description_tooltip": null,
            "layout": "IPY_MODEL_a5cb4aba720247dcb56a88973f542d6d",
            "max": 1,
            "min": 0,
            "orientation": "horizontal",
            "style": "IPY_MODEL_a725c7cf66e54f4e90fa4295bf7ba4b5",
            "value": 1
          }
        },
        "38820e0b7f5f4b2694a75a48b1503bdf": {
          "model_module": "@jupyter-widgets/base",
          "model_name": "LayoutModel",
          "model_module_version": "1.2.0",
          "state": {
            "_model_module": "@jupyter-widgets/base",
            "_model_module_version": "1.2.0",
            "_model_name": "LayoutModel",
            "_view_count": null,
            "_view_module": "@jupyter-widgets/base",
            "_view_module_version": "1.2.0",
            "_view_name": "LayoutView",
            "align_content": null,
            "align_items": null,
            "align_self": null,
            "border": null,
            "bottom": null,
            "display": null,
            "flex": null,
            "flex_flow": null,
            "grid_area": null,
            "grid_auto_columns": null,
            "grid_auto_flow": null,
            "grid_auto_rows": null,
            "grid_column": null,
            "grid_gap": null,
            "grid_row": null,
            "grid_template_areas": null,
            "grid_template_columns": null,
            "grid_template_rows": null,
            "height": null,
            "justify_content": null,
            "justify_items": null,
            "left": null,
            "margin": null,
            "max_height": null,
            "max_width": null,
            "min_height": null,
            "min_width": null,
            "object_fit": null,
            "object_position": null,
            "order": null,
            "overflow": null,
            "overflow_x": null,
            "overflow_y": null,
            "padding": null,
            "right": null,
            "top": null,
            "visibility": null,
            "width": null
          }
        },
        "444e2bee87b7420b8a83918aae5ffb81": {
          "model_module": "@jupyter-widgets/base",
          "model_name": "LayoutModel",
          "model_module_version": "1.2.0",
          "state": {
            "_model_module": "@jupyter-widgets/base",
            "_model_module_version": "1.2.0",
            "_model_name": "LayoutModel",
            "_view_count": null,
            "_view_module": "@jupyter-widgets/base",
            "_view_module_version": "1.2.0",
            "_view_name": "LayoutView",
            "align_content": null,
            "align_items": null,
            "align_self": null,
            "border": null,
            "bottom": null,
            "display": null,
            "flex": null,
            "flex_flow": null,
            "grid_area": null,
            "grid_auto_columns": null,
            "grid_auto_flow": null,
            "grid_auto_rows": null,
            "grid_column": null,
            "grid_gap": null,
            "grid_row": null,
            "grid_template_areas": null,
            "grid_template_columns": null,
            "grid_template_rows": null,
            "height": null,
            "justify_content": null,
            "justify_items": null,
            "left": null,
            "margin": null,
            "max_height": null,
            "max_width": null,
            "min_height": null,
            "min_width": null,
            "object_fit": null,
            "object_position": null,
            "order": null,
            "overflow": null,
            "overflow_x": null,
            "overflow_y": null,
            "padding": null,
            "right": null,
            "top": null,
            "visibility": null,
            "width": null
          }
        },
        "b85112e8247e43ac83fd5a48e96a7e38": {
          "model_module": "@jupyter-widgets/controls",
          "model_name": "DescriptionStyleModel",
          "model_module_version": "1.5.0",
          "state": {
            "_model_module": "@jupyter-widgets/controls",
            "_model_module_version": "1.5.0",
            "_model_name": "DescriptionStyleModel",
            "_view_count": null,
            "_view_module": "@jupyter-widgets/base",
            "_view_module_version": "1.2.0",
            "_view_name": "StyleView",
            "description_width": ""
          }
        },
        "a5cb4aba720247dcb56a88973f542d6d": {
          "model_module": "@jupyter-widgets/base",
          "model_name": "LayoutModel",
          "model_module_version": "1.2.0",
          "state": {
            "_model_module": "@jupyter-widgets/base",
            "_model_module_version": "1.2.0",
            "_model_name": "LayoutModel",
            "_view_count": null,
            "_view_module": "@jupyter-widgets/base",
            "_view_module_version": "1.2.0",
            "_view_name": "LayoutView",
            "align_content": null,
            "align_items": null,
            "align_self": null,
            "border": null,
            "bottom": null,
            "display": null,
            "flex": null,
            "flex_flow": null,
            "grid_area": null,
            "grid_auto_columns": null,
            "grid_auto_flow": null,
            "grid_auto_rows": null,
            "grid_column": null,
            "grid_gap": null,
            "grid_row": null,
            "grid_template_areas": null,
            "grid_template_columns": null,
            "grid_template_rows": null,
            "height": null,
            "justify_content": null,
            "justify_items": null,
            "left": null,
            "margin": null,
            "max_height": null,
            "max_width": null,
            "min_height": null,
            "min_width": null,
            "object_fit": null,
            "object_position": null,
            "order": null,
            "overflow": null,
            "overflow_x": null,
            "overflow_y": null,
            "padding": null,
            "right": null,
            "top": null,
            "visibility": null,
            "width": null
          }
        },
        "a725c7cf66e54f4e90fa4295bf7ba4b5": {
          "model_module": "@jupyter-widgets/controls",
          "model_name": "ProgressStyleModel",
          "model_module_version": "1.5.0",
          "state": {
            "_model_module": "@jupyter-widgets/controls",
            "_model_module_version": "1.5.0",
            "_model_name": "ProgressStyleModel",
            "_view_count": null,
            "_view_module": "@jupyter-widgets/base",
            "_view_module_version": "1.2.0",
            "_view_name": "StyleView",
            "bar_color": null,
            "description_width": ""
          }
        }
      }
    }
  },
  "nbformat": 4,
  "nbformat_minor": 0
}